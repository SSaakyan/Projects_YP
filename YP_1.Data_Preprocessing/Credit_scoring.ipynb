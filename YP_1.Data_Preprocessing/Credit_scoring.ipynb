{
 "cells": [
  {
   "cell_type": "markdown",
   "metadata": {},
   "source": [
    "**Описание данных:**\n",
    "- children — количество детей в семье\n",
    "- days_employed — общий трудовой стаж в днях\n",
    "- dob_years — возраст клиента в годах\n",
    "- education — уровень образования клиента\n",
    "- education_id — идентификатор уровня образования\n",
    "- family_status — семейное положение\n",
    "- family_status_id — идентификатор семейного положения\n",
    "- gender — пол клиента\n",
    "- income_type — тип занятости\n",
    "- debt — имел ли задолженность по возврату кредитов\n",
    "- total_income — ежемесячный доход\n",
    "- purpose — цель получения кредита"
   ]
  },
  {
   "cell_type": "markdown",
   "metadata": {},
   "source": [
    "## Шаг 1. Открытие файла с данными и изучение общей информации"
   ]
  },
  {
   "cell_type": "code",
   "execution_count": 126,
   "metadata": {
    "scrolled": false
   },
   "outputs": [
    {
     "name": "stdout",
     "output_type": "stream",
     "text": [
      "<class 'pandas.core.frame.DataFrame'>\n",
      "RangeIndex: 21525 entries, 0 to 21524\n",
      "Data columns (total 12 columns):\n",
      "children            21525 non-null int64\n",
      "days_employed       19351 non-null float64\n",
      "dob_years           21525 non-null int64\n",
      "education           21525 non-null object\n",
      "education_id        21525 non-null int64\n",
      "family_status       21525 non-null object\n",
      "family_status_id    21525 non-null int64\n",
      "gender              21525 non-null object\n",
      "income_type         21525 non-null object\n",
      "debt                21525 non-null int64\n",
      "total_income        19351 non-null float64\n",
      "purpose             21525 non-null object\n",
      "dtypes: float64(2), int64(5), object(5)\n",
      "memory usage: 2.0+ MB\n"
     ]
    },
    {
     "data": {
      "text/html": [
       "<div>\n",
       "<style scoped>\n",
       "    .dataframe tbody tr th:only-of-type {\n",
       "        vertical-align: middle;\n",
       "    }\n",
       "\n",
       "    .dataframe tbody tr th {\n",
       "        vertical-align: top;\n",
       "    }\n",
       "\n",
       "    .dataframe thead th {\n",
       "        text-align: right;\n",
       "    }\n",
       "</style>\n",
       "<table border=\"1\" class=\"dataframe\">\n",
       "  <thead>\n",
       "    <tr style=\"text-align: right;\">\n",
       "      <th></th>\n",
       "      <th>children</th>\n",
       "      <th>days_employed</th>\n",
       "      <th>dob_years</th>\n",
       "      <th>education</th>\n",
       "      <th>education_id</th>\n",
       "      <th>family_status</th>\n",
       "      <th>family_status_id</th>\n",
       "      <th>gender</th>\n",
       "      <th>income_type</th>\n",
       "      <th>debt</th>\n",
       "      <th>total_income</th>\n",
       "      <th>purpose</th>\n",
       "    </tr>\n",
       "  </thead>\n",
       "  <tbody>\n",
       "    <tr>\n",
       "      <td>0</td>\n",
       "      <td>1</td>\n",
       "      <td>-8437.673028</td>\n",
       "      <td>42</td>\n",
       "      <td>высшее</td>\n",
       "      <td>0</td>\n",
       "      <td>женат / замужем</td>\n",
       "      <td>0</td>\n",
       "      <td>F</td>\n",
       "      <td>сотрудник</td>\n",
       "      <td>0</td>\n",
       "      <td>253875.639453</td>\n",
       "      <td>покупка жилья</td>\n",
       "    </tr>\n",
       "    <tr>\n",
       "      <td>1</td>\n",
       "      <td>1</td>\n",
       "      <td>-4024.803754</td>\n",
       "      <td>36</td>\n",
       "      <td>среднее</td>\n",
       "      <td>1</td>\n",
       "      <td>женат / замужем</td>\n",
       "      <td>0</td>\n",
       "      <td>F</td>\n",
       "      <td>сотрудник</td>\n",
       "      <td>0</td>\n",
       "      <td>112080.014102</td>\n",
       "      <td>приобретение автомобиля</td>\n",
       "    </tr>\n",
       "    <tr>\n",
       "      <td>2</td>\n",
       "      <td>0</td>\n",
       "      <td>-5623.422610</td>\n",
       "      <td>33</td>\n",
       "      <td>Среднее</td>\n",
       "      <td>1</td>\n",
       "      <td>женат / замужем</td>\n",
       "      <td>0</td>\n",
       "      <td>M</td>\n",
       "      <td>сотрудник</td>\n",
       "      <td>0</td>\n",
       "      <td>145885.952297</td>\n",
       "      <td>покупка жилья</td>\n",
       "    </tr>\n",
       "    <tr>\n",
       "      <td>3</td>\n",
       "      <td>3</td>\n",
       "      <td>-4124.747207</td>\n",
       "      <td>32</td>\n",
       "      <td>среднее</td>\n",
       "      <td>1</td>\n",
       "      <td>женат / замужем</td>\n",
       "      <td>0</td>\n",
       "      <td>M</td>\n",
       "      <td>сотрудник</td>\n",
       "      <td>0</td>\n",
       "      <td>267628.550329</td>\n",
       "      <td>дополнительное образование</td>\n",
       "    </tr>\n",
       "    <tr>\n",
       "      <td>4</td>\n",
       "      <td>0</td>\n",
       "      <td>340266.072047</td>\n",
       "      <td>53</td>\n",
       "      <td>среднее</td>\n",
       "      <td>1</td>\n",
       "      <td>гражданский брак</td>\n",
       "      <td>1</td>\n",
       "      <td>F</td>\n",
       "      <td>пенсионер</td>\n",
       "      <td>0</td>\n",
       "      <td>158616.077870</td>\n",
       "      <td>сыграть свадьбу</td>\n",
       "    </tr>\n",
       "  </tbody>\n",
       "</table>\n",
       "</div>"
      ],
      "text/plain": [
       "   children  days_employed  dob_years education  education_id  \\\n",
       "0         1   -8437.673028         42    высшее             0   \n",
       "1         1   -4024.803754         36   среднее             1   \n",
       "2         0   -5623.422610         33   Среднее             1   \n",
       "3         3   -4124.747207         32   среднее             1   \n",
       "4         0  340266.072047         53   среднее             1   \n",
       "\n",
       "      family_status  family_status_id gender income_type  debt   total_income  \\\n",
       "0   женат / замужем                 0      F   сотрудник     0  253875.639453   \n",
       "1   женат / замужем                 0      F   сотрудник     0  112080.014102   \n",
       "2   женат / замужем                 0      M   сотрудник     0  145885.952297   \n",
       "3   женат / замужем                 0      M   сотрудник     0  267628.550329   \n",
       "4  гражданский брак                 1      F   пенсионер     0  158616.077870   \n",
       "\n",
       "                      purpose  \n",
       "0               покупка жилья  \n",
       "1     приобретение автомобиля  \n",
       "2               покупка жилья  \n",
       "3  дополнительное образование  \n",
       "4             сыграть свадьбу  "
      ]
     },
     "metadata": {},
     "output_type": "display_data"
    }
   ],
   "source": [
    "import pandas as pd\n",
    "borrowers = pd.read_csv('/datasets/data.csv')\n",
    "borrowers.info() #смотрим общую информацию по таблице\n",
    "\n",
    "from IPython.display import display\n",
    "\n",
    "display(borrowers.head())\n",
    "#смотрим какие ошибки можно сразу увидеть в данных\n",
    "#display(borrowers.tail()) #смотрим какие ошибки можно сразу увидеть в данных"
   ]
  },
  {
   "cell_type": "markdown",
   "metadata": {},
   "source": [
    "**Вывод** \n",
    "1. В таблице 21525 строк, 12 столбцов. Пропущены данные в столбцах \"общий трудовой стаж в днях\", \"ежемесячный доход\". Пропущено по 10%, одинаковое количество.\n",
    "\n",
    "2. В столбце \"общий трудовой стаж в днях\" встречаются отрицательные значения, также данные указаны как вещественные.\n",
    "\n",
    "3. Данные в столбце \"уровень образования клиента\" указаны и большими и маленькими буквами.\n",
    "\n",
    "4. в столбце \"цель получения кредита\" одна и та же цель  указана по-разному \n"
   ]
  },
  {
   "cell_type": "markdown",
   "metadata": {},
   "source": [
    "## Шаг 2. Предобработка данных"
   ]
  },
  {
   "cell_type": "markdown",
   "metadata": {},
   "source": [
    "### Обработка пропусков"
   ]
  },
  {
   "cell_type": "code",
   "execution_count": 127,
   "metadata": {
    "scrolled": true
   },
   "outputs": [
    {
     "name": "stdout",
     "output_type": "stream",
     "text": [
      "children               0\n",
      "days_employed       2174\n",
      "dob_years              0\n",
      "education              0\n",
      "education_id           0\n",
      "family_status          0\n",
      "family_status_id       0\n",
      "gender                 0\n",
      "income_type            0\n",
      "debt                   0\n",
      "total_income        2174\n",
      "purpose                0\n",
      "dtype: int64\n"
     ]
    }
   ],
   "source": [
    "#1. Сочитаем количество пропущенных значений\n",
    "\n",
    "print(borrowers.isnull().sum()) #В данных ежемес.дохода и труд.стажа одинаковое количество пропущенных значений. Пропущено по 10%, \n",
    "#достаточно много для того, чтобы их просто исключить,поэтому будем заполнять пробелы соответствующими средними значениями. \n"
   ]
  },
  {
   "cell_type": "code",
   "execution_count": 128,
   "metadata": {},
   "outputs": [
    {
     "name": "stdout",
     "output_type": "stream",
     "text": [
      "сотрудник          1105\n",
      "компаньон           508\n",
      "пенсионер           413\n",
      "госслужащий         147\n",
      "предприниматель       1\n",
      "Name: income_type, dtype: int64\n"
     ]
    }
   ],
   "source": [
    "#2. Посмотрим как распределяются пропущенные данные ежем.дохода по типам занятости\n",
    "\n",
    "bor1 = borrowers[borrowers['total_income'].isna()]\n",
    "print(bor1['income_type'].value_counts()) #Вероятно клиенты не указывают информацию по доходу из-за его отсутствия (пенсионеры,\n",
    "# студенты), из-за нежелания его указывать (госслужащие)"
   ]
  },
  {
   "cell_type": "code",
   "execution_count": 129,
   "metadata": {},
   "outputs": [
    {
     "name": "stdout",
     "output_type": "stream",
     "text": [
      "сотрудник          1105\n",
      "компаньон           508\n",
      "пенсионер           413\n",
      "госслужащий         147\n",
      "предприниматель       1\n",
      "Name: income_type, dtype: int64\n"
     ]
    }
   ],
   "source": [
    "#3. Смотрим как распределяются пропущенные данные труд.стажа по типам занятости\n",
    "\n",
    "bor2 = borrowers[borrowers['days_employed'].isna()]\n",
    "print(bor2['income_type'].value_counts()) \n",
    "\n",
    "#Т.к. количество пропущенных значений по доходу и стажу и распределение по видам занятости одинаковое,\n",
    "#есть вероятность ошибки в выгруженных данных"
   ]
  },
  {
   "cell_type": "code",
   "execution_count": 130,
   "metadata": {},
   "outputs": [
    {
     "name": "stdout",
     "output_type": "stream",
     "text": [
      "<class 'pandas.core.frame.DataFrame'>\n",
      "RangeIndex: 21525 entries, 0 to 21524\n",
      "Data columns (total 12 columns):\n",
      "children            21525 non-null int64\n",
      "days_employed       21525 non-null float64\n",
      "dob_years           21525 non-null int64\n",
      "education           21525 non-null object\n",
      "education_id        21525 non-null int64\n",
      "family_status       21525 non-null object\n",
      "family_status_id    21525 non-null int64\n",
      "gender              21525 non-null object\n",
      "income_type         21525 non-null object\n",
      "debt                21525 non-null int64\n",
      "total_income        21525 non-null float64\n",
      "purpose             21525 non-null object\n",
      "dtypes: float64(2), int64(5), object(5)\n",
      "memory usage: 2.0+ MB\n"
     ]
    }
   ],
   "source": [
    "#4. Для устранения пропусков в столбце труд.стажа и ежем.дохода вычислим средний труд.стаж и средний ежем.доход и заменим ими\n",
    "#пропущенные значения в соответствующих столбцах:\n",
    " \n",
    "borrowers['days_employed'] = borrowers['days_employed'].abs() #меняем отрицательные значения в столбце труд.стажа на положительные\n",
    "days_employed_avg = borrowers['days_employed'].median() #находим средний туд.стаж\n",
    "total_income_avg = borrowers['total_income'].median() #находим средний ежем.доход\n",
    "borrowers = borrowers.fillna({'days_employed' : days_employed_avg, 'total_income' : total_income_avg})\n",
    "borrowers.info() #проверяем все ли пропущенные данные в столбце трудового стажа заполнили"
   ]
  },
  {
   "cell_type": "code",
   "execution_count": 131,
   "metadata": {},
   "outputs": [
    {
     "name": "stdout",
     "output_type": "stream",
     "text": [
      "-1 20\n"
     ]
    }
   ],
   "source": [
    "#6.Поищем возможные ошибки в данных о количестве детей:\n",
    "print(borrowers['children'].min(), borrowers['children'].max())\n",
    "#Выявили отриц.число в данных и очень большое максимальное"
   ]
  },
  {
   "cell_type": "code",
   "execution_count": 132,
   "metadata": {},
   "outputs": [],
   "source": [
    "#6.1 меняем отрицательные значения в столбце на положительные\n",
    "borrowers['children'] = borrowers['children'].abs()"
   ]
  },
  {
   "cell_type": "code",
   "execution_count": 133,
   "metadata": {},
   "outputs": [
    {
     "name": "stdout",
     "output_type": "stream",
     "text": [
      "0    14149\n",
      "1     4865\n",
      "2     2131\n",
      "3      330\n",
      "4       41\n",
      "5        9\n",
      "Name: children, dtype: int64\n"
     ]
    }
   ],
   "source": [
    "#6.2 Т.к.20 детей - большая редкость, то исходим из предположения, что в данных опечатка: к цифре \"2\" приклеился\"0\". Заменим 20 на 2.\n",
    "borrowers['children'] = borrowers['children'].replace(20,2)\n",
    "print(borrowers['children'].value_counts())  #проверяем"
   ]
  },
  {
   "cell_type": "code",
   "execution_count": 134,
   "metadata": {},
   "outputs": [
    {
     "name": "stdout",
     "output_type": "stream",
     "text": [
      "0    19784\n",
      "1     1741\n",
      "Name: debt, dtype: int64\n"
     ]
    }
   ],
   "source": [
    "#7.Поищем возможные ошибки в данных о задолженностях:\n",
    "print(borrowers['debt'].value_counts()) #некорректные данных нет"
   ]
  },
  {
   "cell_type": "code",
   "execution_count": 135,
   "metadata": {},
   "outputs": [
    {
     "name": "stdout",
     "output_type": "stream",
     "text": [
      "0 75\n"
     ]
    }
   ],
   "source": [
    "#8. Посмотрим на данные по возрасту клиентов:\n",
    "print(borrowers['dob_years'].min(), borrowers['dob_years'].max())"
   ]
  },
  {
   "cell_type": "code",
   "execution_count": 136,
   "metadata": {},
   "outputs": [
    {
     "name": "stdout",
     "output_type": "stream",
     "text": [
      "0.004692218350754936\n",
      "19.0\n"
     ]
    }
   ],
   "source": [
    "#8.1 Груднички определенно еще не интересуются кредитами, посмотрим на % таких строчек в общей выборке:\n",
    "print(len(borrowers[borrowers['dob_years']==0])/len(borrowers))  #Менее 0,5% не играет существенной роли, но для красоты заменим на средний возраст\n",
    "dob_years_avg = borrowers['dob_years'].mean()\n",
    "borrowers['dob_years'] = borrowers['dob_years'].replace(0,dob_years_avg)\n",
    "print(borrowers['dob_years'].min())  #проверка"
   ]
  },
  {
   "cell_type": "markdown",
   "metadata": {},
   "source": [
    "**Вывод** Нашли пропущенные значения в данных по ежемесячному доходу и трудовому стажу, заменили их на соответствующие средние значения. Пропушенных значений больше нет. Также наши некорректные данные в количестве детей, и в возрасте клиентов."
   ]
  },
  {
   "cell_type": "markdown",
   "metadata": {},
   "source": [
    "### Замена типа данных"
   ]
  },
  {
   "cell_type": "code",
   "execution_count": 137,
   "metadata": {},
   "outputs": [
    {
     "name": "stdout",
     "output_type": "stream",
     "text": [
      "<class 'pandas.core.frame.DataFrame'>\n",
      "RangeIndex: 21525 entries, 0 to 21524\n",
      "Data columns (total 12 columns):\n",
      "children            21525 non-null int64\n",
      "days_employed       21525 non-null int64\n",
      "dob_years           21525 non-null float64\n",
      "education           21525 non-null object\n",
      "education_id        21525 non-null int64\n",
      "family_status       21525 non-null object\n",
      "family_status_id    21525 non-null int64\n",
      "gender              21525 non-null object\n",
      "income_type         21525 non-null object\n",
      "debt                21525 non-null int64\n",
      "total_income        21525 non-null float64\n",
      "purpose             21525 non-null object\n",
      "dtypes: float64(2), int64(5), object(5)\n",
      "memory usage: 2.0+ MB\n"
     ]
    }
   ],
   "source": [
    "#Данные по стажу не могут быть вещественными числами, изменим тип данных на целочисленный:\n",
    "borrowers['days_employed'] = borrowers['days_employed'].astype('int') \n",
    "borrowers.info() #проверяем результат"
   ]
  },
  {
   "cell_type": "markdown",
   "metadata": {},
   "source": [
    "**Вывод** Данные в столбце \"трудовой стаж в днях\" не могут быть вещественными, изменили тип данных на integer."
   ]
  },
  {
   "cell_type": "markdown",
   "metadata": {},
   "source": []
  },
  {
   "cell_type": "markdown",
   "metadata": {},
   "source": [
    "### Обработка дубликатов"
   ]
  },
  {
   "cell_type": "code",
   "execution_count": 138,
   "metadata": {},
   "outputs": [
    {
     "name": "stdout",
     "output_type": "stream",
     "text": [
      "54\n"
     ]
    }
   ],
   "source": [
    "#1.1 Посчитаем количество грубых дубликатов:\n",
    "print(borrowers.duplicated().sum())"
   ]
  },
  {
   "cell_type": "code",
   "execution_count": 139,
   "metadata": {},
   "outputs": [
    {
     "name": "stdout",
     "output_type": "stream",
     "text": [
      "0\n"
     ]
    }
   ],
   "source": [
    "#1.2 Очищаем таблицу от грубых дубликатов:\n",
    "borrowers = borrowers.drop_duplicates().reset_index(drop=True) \n",
    "print(borrowers.duplicated().sum()) #делаем проверку"
   ]
  },
  {
   "cell_type": "code",
   "execution_count": 140,
   "metadata": {},
   "outputs": [
    {
     "name": "stdout",
     "output_type": "stream",
     "text": [
      "среднее                13705\n",
      "высшее                  4710\n",
      "СРЕДНЕЕ                  772\n",
      "Среднее                  711\n",
      "неоконченное высшее      668\n",
      "ВЫСШЕЕ                   273\n",
      "Высшее                   268\n",
      "начальное                250\n",
      "Неоконченное высшее       47\n",
      "НЕОКОНЧЕННОЕ ВЫСШЕЕ       29\n",
      "НАЧАЛЬНОЕ                 17\n",
      "Начальное                 15\n",
      "ученая степень             4\n",
      "Ученая степень             1\n",
      "УЧЕНАЯ СТЕПЕНЬ             1\n",
      "Name: education, dtype: int64\n"
     ]
    }
   ],
   "source": [
    "#2.1 Проверим наличие других дубликатов, посмотрим уникальные значения по столбцу education\n",
    "print(borrowers['education'].value_counts()) #данные в столбце отличаются регистром"
   ]
  },
  {
   "cell_type": "code",
   "execution_count": 141,
   "metadata": {},
   "outputs": [
    {
     "name": "stdout",
     "output_type": "stream",
     "text": [
      "среднее                15188\n",
      "высшее                  5251\n",
      "неоконченное высшее      744\n",
      "начальное                282\n",
      "ученая степень             6\n",
      "Name: education, dtype: int64\n"
     ]
    }
   ],
   "source": [
    "#2.2 Приведем данные в данном столбце к нижнему регистру\n",
    "borrowers['education'] = borrowers['education'].str.lower()\n",
    "print(borrowers['education'].value_counts()) #делаем проверку"
   ]
  },
  {
   "cell_type": "code",
   "execution_count": 142,
   "metadata": {},
   "outputs": [
    {
     "name": "stdout",
     "output_type": "stream",
     "text": [
      "17\n"
     ]
    }
   ],
   "source": [
    "#2.3 Проверим не появились ли новые дубликаты \n",
    "print(borrowers.duplicated().sum())"
   ]
  },
  {
   "cell_type": "code",
   "execution_count": 143,
   "metadata": {},
   "outputs": [
    {
     "name": "stdout",
     "output_type": "stream",
     "text": [
      "0\n"
     ]
    }
   ],
   "source": [
    "#2.4 Очищаем таблицу от новых дубликатов:\n",
    "borrowers = borrowers.drop_duplicates().reset_index(drop=True) \n",
    "print(borrowers.duplicated().sum()) #делаем проверку"
   ]
  },
  {
   "cell_type": "code",
   "execution_count": 144,
   "metadata": {},
   "outputs": [
    {
     "name": "stdout",
     "output_type": "stream",
     "text": [
      "женат / замужем          12339\n",
      "гражданский брак          4151\n",
      "Не женат / не замужем     2810\n",
      "в разводе                 1195\n",
      "вдовец / вдова             959\n",
      "Name: family_status, dtype: int64\n"
     ]
    }
   ],
   "source": [
    "#3. Аналогично, проверим уникальные значения в столбцах семейное положение и тип занятости\n",
    "print(borrowers['family_status'].value_counts()) #в данных нет дубликатов "
   ]
  },
  {
   "cell_type": "code",
   "execution_count": 145,
   "metadata": {},
   "outputs": [
    {
     "name": "stdout",
     "output_type": "stream",
     "text": [
      "сотрудник          11084\n",
      "компаньон           5078\n",
      "пенсионер           3829\n",
      "госслужащий         1457\n",
      "предприниматель        2\n",
      "безработный            2\n",
      "студент                1\n",
      "в декрете              1\n",
      "Name: income_type, dtype: int64\n"
     ]
    }
   ],
   "source": [
    "print(borrowers['income_type'].value_counts())  #в данных нет дубликатов "
   ]
  },
  {
   "cell_type": "markdown",
   "metadata": {},
   "source": [
    "**Вывод** В данных выявили дубликаты и наличие текста с разным регистром. Привели все к нижнему регистру и удалили дубликаты."
   ]
  },
  {
   "cell_type": "markdown",
   "metadata": {},
   "source": []
  },
  {
   "cell_type": "markdown",
   "metadata": {},
   "source": [
    "### Лемматизация"
   ]
  },
  {
   "cell_type": "code",
   "execution_count": 146,
   "metadata": {},
   "outputs": [
    {
     "name": "stdout",
     "output_type": "stream",
     "text": [
      "свадьба                                   791\n",
      "на проведение свадьбы                     768\n",
      "сыграть свадьбу                           765\n",
      "операции с недвижимостью                  675\n",
      "покупка коммерческой недвижимости         661\n",
      "операции с жильем                         652\n",
      "покупка жилья для сдачи                   651\n",
      "операции с коммерческой недвижимостью     650\n",
      "покупка жилья                             646\n",
      "жилье                                     646\n",
      "покупка жилья для семьи                   638\n",
      "строительство собственной недвижимости    635\n",
      "недвижимость                              633\n",
      "операции со своей недвижимостью           627\n",
      "строительство жилой недвижимости          624\n",
      "покупка недвижимости                      621\n",
      "покупка своего жилья                      620\n",
      "строительство недвижимости                619\n",
      "ремонт жилью                              607\n",
      "покупка жилой недвижимости                606\n",
      "на покупку своего автомобиля              505\n",
      "заняться высшим образованием              496\n",
      "автомобиль                                494\n",
      "сделка с подержанным автомобилем          486\n",
      "на покупку подержанного автомобиля        478\n",
      "свой автомобиль                           478\n",
      "автомобили                                478\n",
      "на покупку автомобиля                     471\n",
      "приобретение автомобиля                   461\n",
      "дополнительное образование                460\n",
      "сделка с автомобилем                      455\n",
      "высшее образование                        452\n",
      "образование                               447\n",
      "получение дополнительного образования     446\n",
      "получение образования                     442\n",
      "профильное образование                    436\n",
      "получение высшего образования             426\n",
      "заняться образованием                     408\n",
      "Name: purpose, dtype: int64\n"
     ]
    }
   ],
   "source": [
    "#1. Посмотрим для каких целей берут кредит\n",
    "print(borrowers['purpose'].value_counts()) # Как видим, одна и та же цель записана по-разному, приведем к единообразию"
   ]
  },
  {
   "cell_type": "code",
   "execution_count": 147,
   "metadata": {},
   "outputs": [
    {
     "name": "stdout",
     "output_type": "stream",
     "text": [
      "недвижимость    6351\n",
      "жилье           4460\n",
      "автомобиль      4306\n",
      "образование     4013\n",
      "свадьба         2324\n",
      "Name: purpose, dtype: int64\n"
     ]
    }
   ],
   "source": [
    "#2. Приводим цели к единообразию\n",
    "from pymystem3 import Mystem\n",
    "m = Mystem()\n",
    "\n",
    "def purpose_rename(row,word):\n",
    "    for cell in row:\n",
    "        lemmas = m.lemmatize(cell)\n",
    "        if word in lemmas:\n",
    "            row = row.replace(cell, word)\n",
    "               \n",
    "    return row\n",
    "\n",
    "borrowers['purpose'] = purpose_rename(borrowers['purpose'], 'свадьба')\n",
    "borrowers['purpose'] = purpose_rename(borrowers['purpose'], 'недвижимость')\n",
    "borrowers['purpose'] = purpose_rename(borrowers['purpose'], 'жилье')\n",
    "borrowers['purpose'] = purpose_rename(borrowers['purpose'], 'автомобиль')\n",
    "borrowers['purpose'] = purpose_rename(borrowers['purpose'], 'образование')\n",
    "    \n",
    "print(borrowers['purpose'].value_counts())  #проверяем"
   ]
  },
  {
   "cell_type": "code",
   "execution_count": 148,
   "metadata": {},
   "outputs": [
    {
     "name": "stdout",
     "output_type": "stream",
     "text": [
      "недвижимость    10811\n",
      "автомобиль       4306\n",
      "образование      4013\n",
      "свадьба          2324\n",
      "Name: purpose, dtype: int64\n"
     ]
    }
   ],
   "source": [
    "# Т.к. жилье и недвижимость из одной группы, переименуем \n",
    "borrowers['purpose'] = borrowers['purpose'].replace('жилье','недвижимость')\n",
    "print(borrowers['purpose'].value_counts()) #проверяем"
   ]
  },
  {
   "cell_type": "markdown",
   "metadata": {},
   "source": [
    "**Вывод** Клиенты указали цели по-разному, но их можно распределить по смысловым группам \"недвижимость\", \"автомобиль\", \"образование\", \"свадьба\"."
   ]
  },
  {
   "cell_type": "markdown",
   "metadata": {},
   "source": [
    "### Категоризация данных"
   ]
  },
  {
   "cell_type": "code",
   "execution_count": 149,
   "metadata": {},
   "outputs": [
    {
     "name": "stdout",
     "output_type": "stream",
     "text": [
      "        debt_id  debt\n",
      "0  without_debt     0\n",
      "1     with_debt     1\n"
     ]
    }
   ],
   "source": [
    "# Создадим словарь:\n",
    "df = pd.DataFrame({'debt_id':['without_debt','with_debt'], 'debt': [0,1]}) #создаем вспомогательную таблицу/словарь\n",
    "debt_sl = df[['debt_id','debt']]\n",
    "debt_sl['debt'] = borrowers['debt'].drop_duplicates().reset_index(drop=True)\n",
    "print(debt_sl)\n"
   ]
  },
  {
   "cell_type": "code",
   "execution_count": 164,
   "metadata": {},
   "outputs": [],
   "source": [
    "#1.1 Для ответа на первый вопрос создадим дополнительную таблицу:\n",
    "table1 = borrowers[['children','debt']]\n"
   ]
  },
  {
   "cell_type": "code",
   "execution_count": 165,
   "metadata": {},
   "outputs": [],
   "source": [
    "#1.2 Для построения сводной таблицы объединим словарь и дополнительную таблицу:\n",
    "children_ver_debt = table1.merge(debt_sl, on='debt',how='left')\n",
    "#display(children_ver_debt.tail(10))  #проверка"
   ]
  },
  {
   "cell_type": "code",
   "execution_count": 166,
   "metadata": {},
   "outputs": [],
   "source": [
    "#2. Для ответа на второй вопрос создадим дополнительную таблицу:\n",
    "table2 =  borrowers[['family_status', 'debt']]"
   ]
  },
  {
   "cell_type": "code",
   "execution_count": 167,
   "metadata": {},
   "outputs": [],
   "source": [
    "#2.1 Для построения сводной таблицы объединим словарь и дополнительную таблицу:\n",
    "family_ver_debt = table2.merge(debt_sl, on='debt',how='left')\n",
    "#display(family_ver_debt.tail(10))  #проверка"
   ]
  },
  {
   "cell_type": "code",
   "execution_count": 168,
   "metadata": {},
   "outputs": [
    {
     "name": "stdout",
     "output_type": "stream",
     "text": [
      "145017.93753253992\n",
      "20667.26379327158 2265604.028722744\n"
     ]
    }
   ],
   "source": [
    "#3. Для ответа на третий вопрос, распределим данные по категориям относительно уровня дохода.\n",
    "#3.1 Сосчитаем средний уровень дохода:\n",
    "total_income_avg = borrowers['total_income'].median()\n",
    "print(total_income_avg)\n",
    "print(borrowers['total_income'].min(), borrowers['total_income'].max())"
   ]
  },
  {
   "cell_type": "code",
   "execution_count": 169,
   "metadata": {},
   "outputs": [
    {
     "name": "stdout",
     "output_type": "stream",
     "text": [
      "103028.28843296492 187855.36677355366\n"
     ]
    }
   ],
   "source": [
    "#3.2 Возьмем две группы данных-до среднего, и после среднего. В каждой из этих групп найдем среднее:\n",
    "median1 = borrowers.loc[borrowers['total_income'] < total_income_avg, 'total_income'].median()\n",
    "median2 = borrowers.loc[borrowers['total_income'] >= total_income_avg, 'total_income'].median()\n",
    "print(median1,median2)"
   ]
  },
  {
   "cell_type": "code",
   "execution_count": 170,
   "metadata": {},
   "outputs": [],
   "source": [
    "#3.3 Теперь разобьем на категории по уровню дохода: \n",
    "# все, что меньше или равно median1 - \"низкий\", больше median1, но меньше \n",
    "# все, что больше median1, но меньше или равно median2 - \"средний\"\n",
    "# все, что выше median2 - \"высокий\"\n",
    "def income_group(income):\n",
    "    if income <= median1:\n",
    "        return 'низкий'\n",
    "    if income <= median2:\n",
    "        return 'средний'\n",
    "    return 'высокий'\n",
    "\n",
    "borrowers['income_group'] = borrowers['total_income'].apply(income_group)\n",
    "#display(borrowers.head()) #проверка"
   ]
  },
  {
   "cell_type": "code",
   "execution_count": 171,
   "metadata": {},
   "outputs": [],
   "source": [
    "#3.4 Cоздадим дополнительную таблицу:\n",
    "table3 =  borrowers[['income_group', 'debt']]"
   ]
  },
  {
   "cell_type": "code",
   "execution_count": 172,
   "metadata": {},
   "outputs": [],
   "source": [
    "#3.5 Для построения сводной таблицы объединим словарь и дополнительную таблицу:\n",
    "income_ver_debt = table3.merge(debt_sl, on='debt',how='left')\n",
    "#display(income_ver_debt.tail(10))  #проверка"
   ]
  },
  {
   "cell_type": "code",
   "execution_count": 173,
   "metadata": {},
   "outputs": [],
   "source": [
    "#4.1 Для ответа на четвертый вопрос создадим дополнительную таблицу:\n",
    "table4 =  borrowers[['purpose', 'debt']]"
   ]
  },
  {
   "cell_type": "code",
   "execution_count": 174,
   "metadata": {},
   "outputs": [],
   "source": [
    "#4.2 Для построения сводной таблицы объединим словарь и дополнительную таблицу:\n",
    "purpose_ver_debt = table4.merge(debt_sl, on='debt',how='left')\n",
    "#display(purpose_ver_debt.tail(10))  #проверка"
   ]
  },
  {
   "cell_type": "markdown",
   "metadata": {},
   "source": [
    "**Вывод** Для дальнейшей работы категоризировали данные."
   ]
  },
  {
   "cell_type": "markdown",
   "metadata": {},
   "source": []
  },
  {
   "cell_type": "markdown",
   "metadata": {},
   "source": [
    "## Шаг 3. Ответьте на вопросы"
   ]
  },
  {
   "cell_type": "markdown",
   "metadata": {},
   "source": [
    "- Есть ли зависимость между наличием детей и возвратом кредита в срок?"
   ]
  },
  {
   "cell_type": "code",
   "execution_count": 175,
   "metadata": {},
   "outputs": [
    {
     "data": {
      "text/html": [
       "<div>\n",
       "<style scoped>\n",
       "    .dataframe tbody tr th:only-of-type {\n",
       "        vertical-align: middle;\n",
       "    }\n",
       "\n",
       "    .dataframe tbody tr th {\n",
       "        vertical-align: top;\n",
       "    }\n",
       "\n",
       "    .dataframe thead th {\n",
       "        text-align: right;\n",
       "    }\n",
       "</style>\n",
       "<table border=\"1\" class=\"dataframe\">\n",
       "  <thead>\n",
       "    <tr style=\"text-align: right;\">\n",
       "      <th>debt_id</th>\n",
       "      <th>with_debt</th>\n",
       "      <th>without_debt</th>\n",
       "    </tr>\n",
       "    <tr>\n",
       "      <th>children</th>\n",
       "      <th></th>\n",
       "      <th></th>\n",
       "    </tr>\n",
       "  </thead>\n",
       "  <tbody>\n",
       "    <tr>\n",
       "      <td>0</td>\n",
       "      <td>1063.0</td>\n",
       "      <td>13028.0</td>\n",
       "    </tr>\n",
       "    <tr>\n",
       "      <td>1</td>\n",
       "      <td>445.0</td>\n",
       "      <td>4410.0</td>\n",
       "    </tr>\n",
       "    <tr>\n",
       "      <td>2</td>\n",
       "      <td>202.0</td>\n",
       "      <td>1926.0</td>\n",
       "    </tr>\n",
       "    <tr>\n",
       "      <td>3</td>\n",
       "      <td>27.0</td>\n",
       "      <td>303.0</td>\n",
       "    </tr>\n",
       "    <tr>\n",
       "      <td>4</td>\n",
       "      <td>4.0</td>\n",
       "      <td>37.0</td>\n",
       "    </tr>\n",
       "    <tr>\n",
       "      <td>5</td>\n",
       "      <td>NaN</td>\n",
       "      <td>9.0</td>\n",
       "    </tr>\n",
       "  </tbody>\n",
       "</table>\n",
       "</div>"
      ],
      "text/plain": [
       "debt_id   with_debt  without_debt\n",
       "children                         \n",
       "0            1063.0       13028.0\n",
       "1             445.0        4410.0\n",
       "2             202.0        1926.0\n",
       "3              27.0         303.0\n",
       "4               4.0          37.0\n",
       "5               NaN           9.0"
      ]
     },
     "metadata": {},
     "output_type": "display_data"
    }
   ],
   "source": [
    "#1.1. Создадим сводную таблицу:\n",
    "children_pivot = children_ver_debt.pivot_table(index='children', columns='debt_id', values='debt', aggfunc='count')\n",
    "display(children_pivot)\n"
   ]
  },
  {
   "cell_type": "code",
   "execution_count": 176,
   "metadata": {},
   "outputs": [],
   "source": [
    "#1.2. Т.к.нет клиентов с 5 детьми, не вернувшими кредит в срок, поставим в соответствующей ячейке 0\n",
    "children_pivot['with_debt'] = children_pivot['with_debt'].fillna(0)\n",
    "#display(children_pivot)"
   ]
  },
  {
   "cell_type": "code",
   "execution_count": 177,
   "metadata": {},
   "outputs": [
    {
     "data": {
      "text/html": [
       "<div>\n",
       "<style scoped>\n",
       "    .dataframe tbody tr th:only-of-type {\n",
       "        vertical-align: middle;\n",
       "    }\n",
       "\n",
       "    .dataframe tbody tr th {\n",
       "        vertical-align: top;\n",
       "    }\n",
       "\n",
       "    .dataframe thead th {\n",
       "        text-align: right;\n",
       "    }\n",
       "</style>\n",
       "<table border=\"1\" class=\"dataframe\">\n",
       "  <thead>\n",
       "    <tr style=\"text-align: right;\">\n",
       "      <th>debt_id</th>\n",
       "      <th>with_debt</th>\n",
       "      <th>without_debt</th>\n",
       "      <th>debt_probability</th>\n",
       "    </tr>\n",
       "    <tr>\n",
       "      <th>children</th>\n",
       "      <th></th>\n",
       "      <th></th>\n",
       "      <th></th>\n",
       "    </tr>\n",
       "  </thead>\n",
       "  <tbody>\n",
       "    <tr>\n",
       "      <td>4</td>\n",
       "      <td>4.0</td>\n",
       "      <td>37.0</td>\n",
       "      <td>0.097561</td>\n",
       "    </tr>\n",
       "    <tr>\n",
       "      <td>2</td>\n",
       "      <td>202.0</td>\n",
       "      <td>1926.0</td>\n",
       "      <td>0.094925</td>\n",
       "    </tr>\n",
       "    <tr>\n",
       "      <td>1</td>\n",
       "      <td>445.0</td>\n",
       "      <td>4410.0</td>\n",
       "      <td>0.091658</td>\n",
       "    </tr>\n",
       "    <tr>\n",
       "      <td>3</td>\n",
       "      <td>27.0</td>\n",
       "      <td>303.0</td>\n",
       "      <td>0.081818</td>\n",
       "    </tr>\n",
       "    <tr>\n",
       "      <td>0</td>\n",
       "      <td>1063.0</td>\n",
       "      <td>13028.0</td>\n",
       "      <td>0.075438</td>\n",
       "    </tr>\n",
       "    <tr>\n",
       "      <td>5</td>\n",
       "      <td>0.0</td>\n",
       "      <td>9.0</td>\n",
       "      <td>0.000000</td>\n",
       "    </tr>\n",
       "  </tbody>\n",
       "</table>\n",
       "</div>"
      ],
      "text/plain": [
       "debt_id   with_debt  without_debt  debt_probability\n",
       "children                                           \n",
       "4               4.0          37.0          0.097561\n",
       "2             202.0        1926.0          0.094925\n",
       "1             445.0        4410.0          0.091658\n",
       "3              27.0         303.0          0.081818\n",
       "0            1063.0       13028.0          0.075438\n",
       "5               0.0           9.0          0.000000"
      ]
     },
     "metadata": {},
     "output_type": "display_data"
    }
   ],
   "source": [
    "#1.3 Добавим новый столбец, в котором укажем отношение клиентов, не вернувших долг в срок, к обшему количеству клиентов в каждой группе:\n",
    "children_pivot['debt_probability'] = children_pivot['with_debt'] / (children_pivot['with_debt'] + children_pivot['without_debt']) \n",
    "  \n",
    "display(children_pivot.sort_values(by='debt_probability', ascending=False))"
   ]
  },
  {
   "cell_type": "code",
   "execution_count": 178,
   "metadata": {},
   "outputs": [
    {
     "data": {
      "text/html": [
       "<div>\n",
       "<style scoped>\n",
       "    .dataframe tbody tr th:only-of-type {\n",
       "        vertical-align: middle;\n",
       "    }\n",
       "\n",
       "    .dataframe tbody tr th {\n",
       "        vertical-align: top;\n",
       "    }\n",
       "\n",
       "    .dataframe thead th {\n",
       "        text-align: right;\n",
       "    }\n",
       "</style>\n",
       "<table border=\"1\" class=\"dataframe\">\n",
       "  <thead>\n",
       "    <tr style=\"text-align: right;\">\n",
       "      <th>debt_id</th>\n",
       "      <th>with_debt</th>\n",
       "      <th>without_debt</th>\n",
       "      <th>debt_probability</th>\n",
       "      <th>percent_in_all</th>\n",
       "    </tr>\n",
       "    <tr>\n",
       "      <th>children</th>\n",
       "      <th></th>\n",
       "      <th></th>\n",
       "      <th></th>\n",
       "      <th></th>\n",
       "    </tr>\n",
       "  </thead>\n",
       "  <tbody>\n",
       "    <tr>\n",
       "      <td>0</td>\n",
       "      <td>1063.0</td>\n",
       "      <td>13028.0</td>\n",
       "      <td>0.075438</td>\n",
       "      <td>0.656801</td>\n",
       "    </tr>\n",
       "    <tr>\n",
       "      <td>1</td>\n",
       "      <td>445.0</td>\n",
       "      <td>4410.0</td>\n",
       "      <td>0.091658</td>\n",
       "      <td>0.226298</td>\n",
       "    </tr>\n",
       "    <tr>\n",
       "      <td>2</td>\n",
       "      <td>202.0</td>\n",
       "      <td>1926.0</td>\n",
       "      <td>0.094925</td>\n",
       "      <td>0.099189</td>\n",
       "    </tr>\n",
       "    <tr>\n",
       "      <td>3</td>\n",
       "      <td>27.0</td>\n",
       "      <td>303.0</td>\n",
       "      <td>0.081818</td>\n",
       "      <td>0.015382</td>\n",
       "    </tr>\n",
       "    <tr>\n",
       "      <td>4</td>\n",
       "      <td>4.0</td>\n",
       "      <td>37.0</td>\n",
       "      <td>0.097561</td>\n",
       "      <td>0.001911</td>\n",
       "    </tr>\n",
       "    <tr>\n",
       "      <td>5</td>\n",
       "      <td>0.0</td>\n",
       "      <td>9.0</td>\n",
       "      <td>0.000000</td>\n",
       "      <td>0.000420</td>\n",
       "    </tr>\n",
       "  </tbody>\n",
       "</table>\n",
       "</div>"
      ],
      "text/plain": [
       "debt_id   with_debt  without_debt  debt_probability  percent_in_all\n",
       "children                                                           \n",
       "0            1063.0       13028.0          0.075438        0.656801\n",
       "1             445.0        4410.0          0.091658        0.226298\n",
       "2             202.0        1926.0          0.094925        0.099189\n",
       "3              27.0         303.0          0.081818        0.015382\n",
       "4               4.0          37.0          0.097561        0.001911\n",
       "5               0.0           9.0          0.000000        0.000420"
      ]
     },
     "metadata": {},
     "output_type": "display_data"
    }
   ],
   "source": [
    "#1.4 Добавим дополнительный столбец, чтобы оценить долю каждой группы в общей выборке:\n",
    "all = len(borrowers)\n",
    "children_pivot['percent_in_all'] = (children_pivot['with_debt'] + children_pivot['without_debt']) / all\n",
    "display(children_pivot)\n",
    "\n",
    "#Учитывая маленький процент многодетных семей в общей выборке, можем смело говорить о том, что с ростом числа детей вероятность невозврата кредита в срок увеличивается."
   ]
  },
  {
   "cell_type": "markdown",
   "metadata": {},
   "source": [
    "**Вывод** Чем меньше у клиентов детей, тем чаще они обращаются за кредитом. А с увеличением числа детей вероятность невозврата кредита в срок увеличивается. "
   ]
  },
  {
   "cell_type": "markdown",
   "metadata": {},
   "source": [
    "- Есть ли зависимость между семейным положением и возвратом кредита в срок?"
   ]
  },
  {
   "cell_type": "code",
   "execution_count": 179,
   "metadata": {},
   "outputs": [
    {
     "data": {
      "text/html": [
       "<div>\n",
       "<style scoped>\n",
       "    .dataframe tbody tr th:only-of-type {\n",
       "        vertical-align: middle;\n",
       "    }\n",
       "\n",
       "    .dataframe tbody tr th {\n",
       "        vertical-align: top;\n",
       "    }\n",
       "\n",
       "    .dataframe thead th {\n",
       "        text-align: right;\n",
       "    }\n",
       "</style>\n",
       "<table border=\"1\" class=\"dataframe\">\n",
       "  <thead>\n",
       "    <tr style=\"text-align: right;\">\n",
       "      <th>debt_id</th>\n",
       "      <th>with_debt</th>\n",
       "      <th>without_debt</th>\n",
       "    </tr>\n",
       "    <tr>\n",
       "      <th>family_status</th>\n",
       "      <th></th>\n",
       "      <th></th>\n",
       "    </tr>\n",
       "  </thead>\n",
       "  <tbody>\n",
       "    <tr>\n",
       "      <td>Не женат / не замужем</td>\n",
       "      <td>274</td>\n",
       "      <td>2536</td>\n",
       "    </tr>\n",
       "    <tr>\n",
       "      <td>в разводе</td>\n",
       "      <td>85</td>\n",
       "      <td>1110</td>\n",
       "    </tr>\n",
       "    <tr>\n",
       "      <td>вдовец / вдова</td>\n",
       "      <td>63</td>\n",
       "      <td>896</td>\n",
       "    </tr>\n",
       "    <tr>\n",
       "      <td>гражданский брак</td>\n",
       "      <td>388</td>\n",
       "      <td>3763</td>\n",
       "    </tr>\n",
       "    <tr>\n",
       "      <td>женат / замужем</td>\n",
       "      <td>931</td>\n",
       "      <td>11408</td>\n",
       "    </tr>\n",
       "  </tbody>\n",
       "</table>\n",
       "</div>"
      ],
      "text/plain": [
       "debt_id                with_debt  without_debt\n",
       "family_status                                 \n",
       "Не женат / не замужем        274          2536\n",
       "в разводе                     85          1110\n",
       "вдовец / вдова                63           896\n",
       "гражданский брак             388          3763\n",
       "женат / замужем              931         11408"
      ]
     },
     "metadata": {},
     "output_type": "display_data"
    }
   ],
   "source": [
    "#2.1 Создадим сводную таблицу:\n",
    "family_pivot = family_ver_debt.pivot_table(index='family_status', columns='debt_id', values='debt', aggfunc='count')\n",
    "display(family_pivot)"
   ]
  },
  {
   "cell_type": "code",
   "execution_count": 180,
   "metadata": {},
   "outputs": [
    {
     "data": {
      "text/html": [
       "<div>\n",
       "<style scoped>\n",
       "    .dataframe tbody tr th:only-of-type {\n",
       "        vertical-align: middle;\n",
       "    }\n",
       "\n",
       "    .dataframe tbody tr th {\n",
       "        vertical-align: top;\n",
       "    }\n",
       "\n",
       "    .dataframe thead th {\n",
       "        text-align: right;\n",
       "    }\n",
       "</style>\n",
       "<table border=\"1\" class=\"dataframe\">\n",
       "  <thead>\n",
       "    <tr style=\"text-align: right;\">\n",
       "      <th>debt_id</th>\n",
       "      <th>with_debt</th>\n",
       "      <th>without_debt</th>\n",
       "      <th>debt_probability</th>\n",
       "    </tr>\n",
       "    <tr>\n",
       "      <th>family_status</th>\n",
       "      <th></th>\n",
       "      <th></th>\n",
       "      <th></th>\n",
       "    </tr>\n",
       "  </thead>\n",
       "  <tbody>\n",
       "    <tr>\n",
       "      <td>Не женат / не замужем</td>\n",
       "      <td>274</td>\n",
       "      <td>2536</td>\n",
       "      <td>0.097509</td>\n",
       "    </tr>\n",
       "    <tr>\n",
       "      <td>гражданский брак</td>\n",
       "      <td>388</td>\n",
       "      <td>3763</td>\n",
       "      <td>0.093471</td>\n",
       "    </tr>\n",
       "    <tr>\n",
       "      <td>женат / замужем</td>\n",
       "      <td>931</td>\n",
       "      <td>11408</td>\n",
       "      <td>0.075452</td>\n",
       "    </tr>\n",
       "    <tr>\n",
       "      <td>в разводе</td>\n",
       "      <td>85</td>\n",
       "      <td>1110</td>\n",
       "      <td>0.071130</td>\n",
       "    </tr>\n",
       "    <tr>\n",
       "      <td>вдовец / вдова</td>\n",
       "      <td>63</td>\n",
       "      <td>896</td>\n",
       "      <td>0.065693</td>\n",
       "    </tr>\n",
       "  </tbody>\n",
       "</table>\n",
       "</div>"
      ],
      "text/plain": [
       "debt_id                with_debt  without_debt  debt_probability\n",
       "family_status                                                   \n",
       "Не женат / не замужем        274          2536          0.097509\n",
       "гражданский брак             388          3763          0.093471\n",
       "женат / замужем              931         11408          0.075452\n",
       "в разводе                     85          1110          0.071130\n",
       "вдовец / вдова                63           896          0.065693"
      ]
     },
     "metadata": {},
     "output_type": "display_data"
    }
   ],
   "source": [
    "#2.2 Добавим новый столбец, в котором укажем отношение клиентов, не вернувших долг в срок, к обшему количеству клиентов в каждой группе:\n",
    "family_pivot['debt_probability'] = family_pivot['with_debt'] / (family_pivot['with_debt'] + family_pivot['without_debt']) \n",
    "  \n",
    "display(family_pivot.sort_values(by='debt_probability', ascending=False))"
   ]
  },
  {
   "cell_type": "code",
   "execution_count": 181,
   "metadata": {},
   "outputs": [
    {
     "data": {
      "text/html": [
       "<div>\n",
       "<style scoped>\n",
       "    .dataframe tbody tr th:only-of-type {\n",
       "        vertical-align: middle;\n",
       "    }\n",
       "\n",
       "    .dataframe tbody tr th {\n",
       "        vertical-align: top;\n",
       "    }\n",
       "\n",
       "    .dataframe thead th {\n",
       "        text-align: right;\n",
       "    }\n",
       "</style>\n",
       "<table border=\"1\" class=\"dataframe\">\n",
       "  <thead>\n",
       "    <tr style=\"text-align: right;\">\n",
       "      <th>debt_id</th>\n",
       "      <th>with_debt</th>\n",
       "      <th>without_debt</th>\n",
       "      <th>debt_probability</th>\n",
       "      <th>percent_in_all</th>\n",
       "    </tr>\n",
       "    <tr>\n",
       "      <th>family_status</th>\n",
       "      <th></th>\n",
       "      <th></th>\n",
       "      <th></th>\n",
       "      <th></th>\n",
       "    </tr>\n",
       "  </thead>\n",
       "  <tbody>\n",
       "    <tr>\n",
       "      <td>Не женат / не замужем</td>\n",
       "      <td>274</td>\n",
       "      <td>2536</td>\n",
       "      <td>0.097509</td>\n",
       "      <td>0.130978</td>\n",
       "    </tr>\n",
       "    <tr>\n",
       "      <td>в разводе</td>\n",
       "      <td>85</td>\n",
       "      <td>1110</td>\n",
       "      <td>0.071130</td>\n",
       "      <td>0.055701</td>\n",
       "    </tr>\n",
       "    <tr>\n",
       "      <td>вдовец / вдова</td>\n",
       "      <td>63</td>\n",
       "      <td>896</td>\n",
       "      <td>0.065693</td>\n",
       "      <td>0.044700</td>\n",
       "    </tr>\n",
       "    <tr>\n",
       "      <td>гражданский брак</td>\n",
       "      <td>388</td>\n",
       "      <td>3763</td>\n",
       "      <td>0.093471</td>\n",
       "      <td>0.193484</td>\n",
       "    </tr>\n",
       "    <tr>\n",
       "      <td>женат / замужем</td>\n",
       "      <td>931</td>\n",
       "      <td>11408</td>\n",
       "      <td>0.075452</td>\n",
       "      <td>0.575138</td>\n",
       "    </tr>\n",
       "  </tbody>\n",
       "</table>\n",
       "</div>"
      ],
      "text/plain": [
       "debt_id                with_debt  without_debt  debt_probability  \\\n",
       "family_status                                                      \n",
       "Не женат / не замужем        274          2536          0.097509   \n",
       "в разводе                     85          1110          0.071130   \n",
       "вдовец / вдова                63           896          0.065693   \n",
       "гражданский брак             388          3763          0.093471   \n",
       "женат / замужем              931         11408          0.075452   \n",
       "\n",
       "debt_id                percent_in_all  \n",
       "family_status                          \n",
       "Не женат / не замужем        0.130978  \n",
       "в разводе                    0.055701  \n",
       "вдовец / вдова               0.044700  \n",
       "гражданский брак             0.193484  \n",
       "женат / замужем              0.575138  "
      ]
     },
     "metadata": {},
     "output_type": "display_data"
    }
   ],
   "source": [
    "#2.3 Добавим дополнительный столбец, чтобы оценить долю каждой группы в общей выборке:\n",
    "family_pivot['percent_in_all'] = (family_pivot['with_debt'] + family_pivot['without_debt']) / all\n",
    "display(family_pivot)"
   ]
  },
  {
   "cell_type": "markdown",
   "metadata": {},
   "source": [
    "**Вывод** Вероятность невозврата кредита в срок самая высокая у одиноких людей. Самые ответственные люди - те, кто имеет или имел штамп в паспорте."
   ]
  },
  {
   "cell_type": "markdown",
   "metadata": {},
   "source": [
    "- Есть ли зависимость между уровнем дохода и возвратом кредита в срок?"
   ]
  },
  {
   "cell_type": "code",
   "execution_count": 182,
   "metadata": {},
   "outputs": [
    {
     "data": {
      "text/html": [
       "<div>\n",
       "<style scoped>\n",
       "    .dataframe tbody tr th:only-of-type {\n",
       "        vertical-align: middle;\n",
       "    }\n",
       "\n",
       "    .dataframe tbody tr th {\n",
       "        vertical-align: top;\n",
       "    }\n",
       "\n",
       "    .dataframe thead th {\n",
       "        text-align: right;\n",
       "    }\n",
       "</style>\n",
       "<table border=\"1\" class=\"dataframe\">\n",
       "  <thead>\n",
       "    <tr style=\"text-align: right;\">\n",
       "      <th>debt_id</th>\n",
       "      <th>with_debt</th>\n",
       "      <th>without_debt</th>\n",
       "    </tr>\n",
       "    <tr>\n",
       "      <th>income_group</th>\n",
       "      <th></th>\n",
       "      <th></th>\n",
       "    </tr>\n",
       "  </thead>\n",
       "  <tbody>\n",
       "    <tr>\n",
       "      <td>высокий</td>\n",
       "      <td>433</td>\n",
       "      <td>5456</td>\n",
       "    </tr>\n",
       "    <tr>\n",
       "      <td>низкий</td>\n",
       "      <td>383</td>\n",
       "      <td>4455</td>\n",
       "    </tr>\n",
       "    <tr>\n",
       "      <td>средний</td>\n",
       "      <td>925</td>\n",
       "      <td>9802</td>\n",
       "    </tr>\n",
       "  </tbody>\n",
       "</table>\n",
       "</div>"
      ],
      "text/plain": [
       "debt_id       with_debt  without_debt\n",
       "income_group                         \n",
       "высокий             433          5456\n",
       "низкий              383          4455\n",
       "средний             925          9802"
      ]
     },
     "metadata": {},
     "output_type": "display_data"
    }
   ],
   "source": [
    "#3.1 Создадим сводную таблицу:\n",
    "income_pivot = income_ver_debt.pivot_table(index='income_group', columns='debt_id', values='debt', aggfunc='count')\n",
    "display(income_pivot)"
   ]
  },
  {
   "cell_type": "code",
   "execution_count": 183,
   "metadata": {},
   "outputs": [
    {
     "data": {
      "text/html": [
       "<div>\n",
       "<style scoped>\n",
       "    .dataframe tbody tr th:only-of-type {\n",
       "        vertical-align: middle;\n",
       "    }\n",
       "\n",
       "    .dataframe tbody tr th {\n",
       "        vertical-align: top;\n",
       "    }\n",
       "\n",
       "    .dataframe thead th {\n",
       "        text-align: right;\n",
       "    }\n",
       "</style>\n",
       "<table border=\"1\" class=\"dataframe\">\n",
       "  <thead>\n",
       "    <tr style=\"text-align: right;\">\n",
       "      <th>debt_id</th>\n",
       "      <th>with_debt</th>\n",
       "      <th>without_debt</th>\n",
       "      <th>debt_probability</th>\n",
       "    </tr>\n",
       "    <tr>\n",
       "      <th>income_group</th>\n",
       "      <th></th>\n",
       "      <th></th>\n",
       "      <th></th>\n",
       "    </tr>\n",
       "  </thead>\n",
       "  <tbody>\n",
       "    <tr>\n",
       "      <td>средний</td>\n",
       "      <td>925</td>\n",
       "      <td>9802</td>\n",
       "      <td>0.086231</td>\n",
       "    </tr>\n",
       "    <tr>\n",
       "      <td>низкий</td>\n",
       "      <td>383</td>\n",
       "      <td>4455</td>\n",
       "      <td>0.079165</td>\n",
       "    </tr>\n",
       "    <tr>\n",
       "      <td>высокий</td>\n",
       "      <td>433</td>\n",
       "      <td>5456</td>\n",
       "      <td>0.073527</td>\n",
       "    </tr>\n",
       "  </tbody>\n",
       "</table>\n",
       "</div>"
      ],
      "text/plain": [
       "debt_id       with_debt  without_debt  debt_probability\n",
       "income_group                                           \n",
       "средний             925          9802          0.086231\n",
       "низкий              383          4455          0.079165\n",
       "высокий             433          5456          0.073527"
      ]
     },
     "metadata": {},
     "output_type": "display_data"
    }
   ],
   "source": [
    "#3.2 Добавим новый столбец, в котором укажем отношение клиентов, не вернувших долг в срок, к обшему количеству клиентов в каждой группе:\n",
    "income_pivot['debt_probability'] = income_pivot['with_debt'] / (income_pivot['with_debt'] + income_pivot['without_debt']) \n",
    "  \n",
    "display(income_pivot.sort_values(by='debt_probability', ascending=False))"
   ]
  },
  {
   "cell_type": "code",
   "execution_count": 184,
   "metadata": {},
   "outputs": [
    {
     "data": {
      "text/html": [
       "<div>\n",
       "<style scoped>\n",
       "    .dataframe tbody tr th:only-of-type {\n",
       "        vertical-align: middle;\n",
       "    }\n",
       "\n",
       "    .dataframe tbody tr th {\n",
       "        vertical-align: top;\n",
       "    }\n",
       "\n",
       "    .dataframe thead th {\n",
       "        text-align: right;\n",
       "    }\n",
       "</style>\n",
       "<table border=\"1\" class=\"dataframe\">\n",
       "  <thead>\n",
       "    <tr style=\"text-align: right;\">\n",
       "      <th>debt_id</th>\n",
       "      <th>with_debt</th>\n",
       "      <th>without_debt</th>\n",
       "      <th>debt_probability</th>\n",
       "      <th>percent_in_all</th>\n",
       "    </tr>\n",
       "    <tr>\n",
       "      <th>income_group</th>\n",
       "      <th></th>\n",
       "      <th></th>\n",
       "      <th></th>\n",
       "      <th></th>\n",
       "    </tr>\n",
       "  </thead>\n",
       "  <tbody>\n",
       "    <tr>\n",
       "      <td>высокий</td>\n",
       "      <td>433</td>\n",
       "      <td>5456</td>\n",
       "      <td>0.073527</td>\n",
       "      <td>0.274494</td>\n",
       "    </tr>\n",
       "    <tr>\n",
       "      <td>низкий</td>\n",
       "      <td>383</td>\n",
       "      <td>4455</td>\n",
       "      <td>0.079165</td>\n",
       "      <td>0.225506</td>\n",
       "    </tr>\n",
       "    <tr>\n",
       "      <td>средний</td>\n",
       "      <td>925</td>\n",
       "      <td>9802</td>\n",
       "      <td>0.086231</td>\n",
       "      <td>0.500000</td>\n",
       "    </tr>\n",
       "  </tbody>\n",
       "</table>\n",
       "</div>"
      ],
      "text/plain": [
       "debt_id       with_debt  without_debt  debt_probability  percent_in_all\n",
       "income_group                                                           \n",
       "высокий             433          5456          0.073527        0.274494\n",
       "низкий              383          4455          0.079165        0.225506\n",
       "средний             925          9802          0.086231        0.500000"
      ]
     },
     "metadata": {},
     "output_type": "display_data"
    }
   ],
   "source": [
    "#3.3 Добавим дополнительный столбец, чтобы оценить долю каждой группы в общей выборке:\n",
    "income_pivot['percent_in_all'] = (income_pivot['with_debt'] + income_pivot['without_debt']) / all\n",
    "display(income_pivot)"
   ]
  },
  {
   "cell_type": "markdown",
   "metadata": {},
   "source": [
    "**Вывод** Самый высокий процент возврата кредита в срок - у клиентов с высоким уровнем дохода, а вот самый низкий у людей со средним уровнем."
   ]
  },
  {
   "cell_type": "markdown",
   "metadata": {},
   "source": [
    "- Как разные цели кредита влияют на его возврат в срок?"
   ]
  },
  {
   "cell_type": "code",
   "execution_count": 185,
   "metadata": {},
   "outputs": [
    {
     "data": {
      "text/html": [
       "<div>\n",
       "<style scoped>\n",
       "    .dataframe tbody tr th:only-of-type {\n",
       "        vertical-align: middle;\n",
       "    }\n",
       "\n",
       "    .dataframe tbody tr th {\n",
       "        vertical-align: top;\n",
       "    }\n",
       "\n",
       "    .dataframe thead th {\n",
       "        text-align: right;\n",
       "    }\n",
       "</style>\n",
       "<table border=\"1\" class=\"dataframe\">\n",
       "  <thead>\n",
       "    <tr style=\"text-align: right;\">\n",
       "      <th>debt_id</th>\n",
       "      <th>with_debt</th>\n",
       "      <th>without_debt</th>\n",
       "    </tr>\n",
       "    <tr>\n",
       "      <th>purpose</th>\n",
       "      <th></th>\n",
       "      <th></th>\n",
       "    </tr>\n",
       "  </thead>\n",
       "  <tbody>\n",
       "    <tr>\n",
       "      <td>автомобиль</td>\n",
       "      <td>403</td>\n",
       "      <td>3903</td>\n",
       "    </tr>\n",
       "    <tr>\n",
       "      <td>недвижимость</td>\n",
       "      <td>782</td>\n",
       "      <td>10029</td>\n",
       "    </tr>\n",
       "    <tr>\n",
       "      <td>образование</td>\n",
       "      <td>370</td>\n",
       "      <td>3643</td>\n",
       "    </tr>\n",
       "    <tr>\n",
       "      <td>свадьба</td>\n",
       "      <td>186</td>\n",
       "      <td>2138</td>\n",
       "    </tr>\n",
       "  </tbody>\n",
       "</table>\n",
       "</div>"
      ],
      "text/plain": [
       "debt_id       with_debt  without_debt\n",
       "purpose                              \n",
       "автомобиль          403          3903\n",
       "недвижимость        782         10029\n",
       "образование         370          3643\n",
       "свадьба             186          2138"
      ]
     },
     "metadata": {},
     "output_type": "display_data"
    }
   ],
   "source": [
    "#4.1 Создадим сводную таблицу:\n",
    "purpose_pivot = purpose_ver_debt.pivot_table(index='purpose', columns='debt_id', values='debt', aggfunc='count')\n",
    "display(purpose_pivot)"
   ]
  },
  {
   "cell_type": "code",
   "execution_count": 186,
   "metadata": {},
   "outputs": [
    {
     "data": {
      "text/html": [
       "<div>\n",
       "<style scoped>\n",
       "    .dataframe tbody tr th:only-of-type {\n",
       "        vertical-align: middle;\n",
       "    }\n",
       "\n",
       "    .dataframe tbody tr th {\n",
       "        vertical-align: top;\n",
       "    }\n",
       "\n",
       "    .dataframe thead th {\n",
       "        text-align: right;\n",
       "    }\n",
       "</style>\n",
       "<table border=\"1\" class=\"dataframe\">\n",
       "  <thead>\n",
       "    <tr style=\"text-align: right;\">\n",
       "      <th>debt_id</th>\n",
       "      <th>with_debt</th>\n",
       "      <th>without_debt</th>\n",
       "      <th>debt_probability</th>\n",
       "    </tr>\n",
       "    <tr>\n",
       "      <th>purpose</th>\n",
       "      <th></th>\n",
       "      <th></th>\n",
       "      <th></th>\n",
       "    </tr>\n",
       "  </thead>\n",
       "  <tbody>\n",
       "    <tr>\n",
       "      <td>автомобиль</td>\n",
       "      <td>403</td>\n",
       "      <td>3903</td>\n",
       "      <td>0.093590</td>\n",
       "    </tr>\n",
       "    <tr>\n",
       "      <td>образование</td>\n",
       "      <td>370</td>\n",
       "      <td>3643</td>\n",
       "      <td>0.092200</td>\n",
       "    </tr>\n",
       "    <tr>\n",
       "      <td>свадьба</td>\n",
       "      <td>186</td>\n",
       "      <td>2138</td>\n",
       "      <td>0.080034</td>\n",
       "    </tr>\n",
       "    <tr>\n",
       "      <td>недвижимость</td>\n",
       "      <td>782</td>\n",
       "      <td>10029</td>\n",
       "      <td>0.072334</td>\n",
       "    </tr>\n",
       "  </tbody>\n",
       "</table>\n",
       "</div>"
      ],
      "text/plain": [
       "debt_id       with_debt  without_debt  debt_probability\n",
       "purpose                                                \n",
       "автомобиль          403          3903          0.093590\n",
       "образование         370          3643          0.092200\n",
       "свадьба             186          2138          0.080034\n",
       "недвижимость        782         10029          0.072334"
      ]
     },
     "metadata": {},
     "output_type": "display_data"
    }
   ],
   "source": [
    "#4.2 Добавим новый столбец, в котором укажем отношение клиентов, не вернувших долг в срок, к обшему количеству клиентов в каждой группе:\n",
    "purpose_pivot['debt_probability'] = purpose_pivot['with_debt'] / (purpose_pivot['with_debt'] + purpose_pivot['without_debt']) \n",
    "  \n",
    "display(purpose_pivot.sort_values(by='debt_probability', ascending=False))"
   ]
  },
  {
   "cell_type": "code",
   "execution_count": 187,
   "metadata": {},
   "outputs": [
    {
     "data": {
      "text/html": [
       "<div>\n",
       "<style scoped>\n",
       "    .dataframe tbody tr th:only-of-type {\n",
       "        vertical-align: middle;\n",
       "    }\n",
       "\n",
       "    .dataframe tbody tr th {\n",
       "        vertical-align: top;\n",
       "    }\n",
       "\n",
       "    .dataframe thead th {\n",
       "        text-align: right;\n",
       "    }\n",
       "</style>\n",
       "<table border=\"1\" class=\"dataframe\">\n",
       "  <thead>\n",
       "    <tr style=\"text-align: right;\">\n",
       "      <th>debt_id</th>\n",
       "      <th>with_debt</th>\n",
       "      <th>without_debt</th>\n",
       "      <th>debt_probability</th>\n",
       "      <th>percent_in_all</th>\n",
       "    </tr>\n",
       "    <tr>\n",
       "      <th>purpose</th>\n",
       "      <th></th>\n",
       "      <th></th>\n",
       "      <th></th>\n",
       "      <th></th>\n",
       "    </tr>\n",
       "  </thead>\n",
       "  <tbody>\n",
       "    <tr>\n",
       "      <td>автомобиль</td>\n",
       "      <td>403</td>\n",
       "      <td>3903</td>\n",
       "      <td>0.093590</td>\n",
       "      <td>0.200708</td>\n",
       "    </tr>\n",
       "    <tr>\n",
       "      <td>недвижимость</td>\n",
       "      <td>782</td>\n",
       "      <td>10029</td>\n",
       "      <td>0.072334</td>\n",
       "      <td>0.503915</td>\n",
       "    </tr>\n",
       "    <tr>\n",
       "      <td>образование</td>\n",
       "      <td>370</td>\n",
       "      <td>3643</td>\n",
       "      <td>0.092200</td>\n",
       "      <td>0.187051</td>\n",
       "    </tr>\n",
       "    <tr>\n",
       "      <td>свадьба</td>\n",
       "      <td>186</td>\n",
       "      <td>2138</td>\n",
       "      <td>0.080034</td>\n",
       "      <td>0.108325</td>\n",
       "    </tr>\n",
       "  </tbody>\n",
       "</table>\n",
       "</div>"
      ],
      "text/plain": [
       "debt_id       with_debt  without_debt  debt_probability  percent_in_all\n",
       "purpose                                                                \n",
       "автомобиль          403          3903          0.093590        0.200708\n",
       "недвижимость        782         10029          0.072334        0.503915\n",
       "образование         370          3643          0.092200        0.187051\n",
       "свадьба             186          2138          0.080034        0.108325"
      ]
     },
     "metadata": {},
     "output_type": "display_data"
    }
   ],
   "source": [
    "#4.3 Добавим дополнительный столбец, чтобы оценить долю каждой группы в общей выборке:\n",
    "purpose_pivot['percent_in_all'] = (purpose_pivot['with_debt'] + purpose_pivot['without_debt']) / all\n",
    "display(purpose_pivot)"
   ]
  },
  {
   "cell_type": "markdown",
   "metadata": {},
   "source": [
    "**Вывод** Самый популярный кредит - кредит на недвижимость и процент возврата его в срок - самый высокий, а вот кредиты на автомобиль возвращают в срок реже всего. "
   ]
  },
  {
   "cell_type": "markdown",
   "metadata": {},
   "source": [
    "## Шаг 4. Общий вывод"
   ]
  },
  {
   "cell_type": "markdown",
   "metadata": {},
   "source": [
    "Самые безответственные клиенты - одинокие люди со средним уровнем дохода, с детьми, которые планируют купить авто.\n",
    "А вот идеальные клиенты - люди с высоким уровнем дохода, без детей, штампом в паспорте, цель которых - кредит на недвижимость."
   ]
  }
 ],
 "metadata": {
  "ExecuteTimeLog": [
   {
    "duration": 617,
    "start_time": "2021-07-18T10:54:57.209Z"
   },
   {
    "duration": 7,
    "start_time": "2021-07-18T11:25:13.374Z"
   },
   {
    "duration": 12,
    "start_time": "2021-07-18T11:48:11.650Z"
   },
   {
    "duration": 9,
    "start_time": "2021-07-18T12:00:49.749Z"
   },
   {
    "duration": 8,
    "start_time": "2021-07-18T12:01:31.912Z"
   },
   {
    "duration": 9,
    "start_time": "2021-07-18T12:02:46.640Z"
   },
   {
    "duration": 15,
    "start_time": "2021-07-18T12:03:48.578Z"
   },
   {
    "duration": 6133,
    "start_time": "2021-07-18T12:47:20.651Z"
   },
   {
    "duration": 219,
    "start_time": "2021-07-18T12:47:29.424Z"
   },
   {
    "duration": 249,
    "start_time": "2021-07-18T12:48:13.468Z"
   },
   {
    "duration": 6,
    "start_time": "2021-07-18T12:51:28.686Z"
   },
   {
    "duration": 12,
    "start_time": "2021-07-18T12:54:55.859Z"
   },
   {
    "duration": 11,
    "start_time": "2021-07-18T12:56:02.157Z"
   },
   {
    "duration": 12,
    "start_time": "2021-07-18T12:56:46.821Z"
   },
   {
    "duration": 9,
    "start_time": "2021-07-18T12:57:42.183Z"
   },
   {
    "duration": 16,
    "start_time": "2021-07-18T12:58:31.201Z"
   },
   {
    "duration": 11,
    "start_time": "2021-07-18T13:01:25.302Z"
   },
   {
    "duration": 231,
    "start_time": "2021-07-18T13:04:07.251Z"
   },
   {
    "duration": 271,
    "start_time": "2021-07-18T13:04:21.778Z"
   },
   {
    "duration": 18,
    "start_time": "2021-07-18T13:04:50.875Z"
   },
   {
    "duration": 14,
    "start_time": "2021-07-18T13:05:42.220Z"
   },
   {
    "duration": 6,
    "start_time": "2021-07-18T13:12:41.945Z"
   },
   {
    "duration": 61,
    "start_time": "2021-07-18T13:13:06.760Z"
   },
   {
    "duration": 7,
    "start_time": "2021-07-18T13:14:16.258Z"
   },
   {
    "duration": 3,
    "start_time": "2021-07-18T13:15:06.716Z"
   },
   {
    "duration": 2,
    "start_time": "2021-07-18T13:15:17.394Z"
   },
   {
    "duration": 85,
    "start_time": "2021-07-18T13:15:54.923Z"
   },
   {
    "duration": 4,
    "start_time": "2021-07-18T13:16:04.829Z"
   },
   {
    "duration": 2,
    "start_time": "2021-07-18T13:26:11.180Z"
   },
   {
    "duration": 6,
    "start_time": "2021-07-18T13:26:21.188Z"
   },
   {
    "duration": 5,
    "start_time": "2021-07-18T13:31:55.677Z"
   },
   {
    "duration": 5,
    "start_time": "2021-07-18T13:32:22.486Z"
   },
   {
    "duration": 7,
    "start_time": "2021-07-18T13:32:44.494Z"
   },
   {
    "duration": 12,
    "start_time": "2021-07-18T13:33:03.574Z"
   },
   {
    "duration": 71,
    "start_time": "2021-07-18T13:35:04.091Z"
   },
   {
    "duration": 217,
    "start_time": "2021-07-18T13:35:26.596Z"
   },
   {
    "duration": 9,
    "start_time": "2021-07-18T13:35:51.787Z"
   },
   {
    "duration": 12,
    "start_time": "2021-07-18T13:36:32.532Z"
   },
   {
    "duration": 224,
    "start_time": "2021-07-18T13:38:09.543Z"
   },
   {
    "duration": 12,
    "start_time": "2021-07-18T13:40:54.812Z"
   },
   {
    "duration": 87,
    "start_time": "2021-07-18T13:45:12.044Z"
   },
   {
    "duration": 249,
    "start_time": "2021-07-18T14:05:32.844Z"
   },
   {
    "duration": 237,
    "start_time": "2021-07-18T14:05:55.787Z"
   },
   {
    "duration": 226,
    "start_time": "2021-07-18T14:06:31.693Z"
   },
   {
    "duration": 224,
    "start_time": "2021-07-18T14:07:56.984Z"
   },
   {
    "duration": 226,
    "start_time": "2021-07-18T14:08:34.359Z"
   },
   {
    "duration": 4,
    "start_time": "2021-07-18T14:09:23.097Z"
   },
   {
    "duration": 215,
    "start_time": "2021-07-18T14:09:42.133Z"
   },
   {
    "duration": 5,
    "start_time": "2021-07-18T14:10:30.850Z"
   },
   {
    "duration": 8,
    "start_time": "2021-07-18T14:11:21.443Z"
   },
   {
    "duration": 10,
    "start_time": "2021-07-18T14:12:11.541Z"
   },
   {
    "duration": 230,
    "start_time": "2021-07-18T14:14:36.760Z"
   },
   {
    "duration": 5,
    "start_time": "2021-07-18T14:15:24.898Z"
   },
   {
    "duration": 3100,
    "start_time": "2021-07-18T14:23:42.982Z"
   },
   {
    "duration": 217,
    "start_time": "2021-07-18T14:24:04.903Z"
   },
   {
    "duration": 7,
    "start_time": "2021-07-18T14:24:14.255Z"
   },
   {
    "duration": 563,
    "start_time": "2021-07-18T14:27:04.219Z"
   },
   {
    "duration": 225,
    "start_time": "2021-07-18T14:27:16.452Z"
   },
   {
    "duration": 215,
    "start_time": "2021-07-18T14:27:24.373Z"
   },
   {
    "duration": 12,
    "start_time": "2021-07-18T14:27:30.727Z"
   },
   {
    "duration": 21,
    "start_time": "2021-07-18T14:31:56.421Z"
   },
   {
    "duration": 13,
    "start_time": "2021-07-18T14:32:27.909Z"
   },
   {
    "duration": 21,
    "start_time": "2021-07-18T14:35:04.817Z"
   },
   {
    "duration": 24,
    "start_time": "2021-07-18T14:35:34.449Z"
   },
   {
    "duration": 20,
    "start_time": "2021-07-18T14:36:43.035Z"
   },
   {
    "duration": 27,
    "start_time": "2021-07-18T14:37:49.044Z"
   },
   {
    "duration": 28,
    "start_time": "2021-07-18T14:39:56.360Z"
   },
   {
    "duration": 51,
    "start_time": "2021-07-18T14:52:30.069Z"
   },
   {
    "duration": 22,
    "start_time": "2021-07-18T14:53:17.091Z"
   },
   {
    "duration": 22,
    "start_time": "2021-07-18T14:54:26.152Z"
   },
   {
    "duration": 8,
    "start_time": "2021-07-18T14:57:45.269Z"
   },
   {
    "duration": 8,
    "start_time": "2021-07-18T14:58:02.636Z"
   },
   {
    "duration": 9,
    "start_time": "2021-07-18T14:58:44.677Z"
   },
   {
    "duration": 7,
    "start_time": "2021-07-18T15:01:32.122Z"
   },
   {
    "duration": 8,
    "start_time": "2021-07-18T15:02:25.668Z"
   },
   {
    "duration": 6,
    "start_time": "2021-07-18T15:03:39.894Z"
   },
   {
    "duration": 10,
    "start_time": "2021-07-18T15:04:12.958Z"
   },
   {
    "duration": 6,
    "start_time": "2021-07-18T15:16:35.723Z"
   },
   {
    "duration": 8,
    "start_time": "2021-07-18T15:28:35.695Z"
   },
   {
    "duration": 14,
    "start_time": "2021-07-18T15:29:20.870Z"
   },
   {
    "duration": 233,
    "start_time": "2021-07-18T15:29:42.632Z"
   },
   {
    "duration": 9,
    "start_time": "2021-07-18T15:30:10.696Z"
   },
   {
    "duration": 225,
    "start_time": "2021-07-18T15:30:51.073Z"
   },
   {
    "duration": 6,
    "start_time": "2021-07-18T15:34:29.959Z"
   },
   {
    "duration": 10,
    "start_time": "2021-07-18T15:48:53.926Z"
   },
   {
    "duration": 216,
    "start_time": "2021-07-18T16:39:09.260Z"
   },
   {
    "duration": 551,
    "start_time": "2021-07-18T16:39:32.733Z"
   },
   {
    "duration": 11,
    "start_time": "2021-07-18T16:39:33.286Z"
   },
   {
    "duration": 11,
    "start_time": "2021-07-18T16:40:19.883Z"
   },
   {
    "duration": 13,
    "start_time": "2021-07-18T16:46:06.454Z"
   },
   {
    "duration": 12,
    "start_time": "2021-07-18T16:47:49.646Z"
   },
   {
    "duration": 13,
    "start_time": "2021-07-18T16:48:03.078Z"
   },
   {
    "duration": 275,
    "start_time": "2021-07-18T16:51:19.852Z"
   },
   {
    "duration": 14,
    "start_time": "2021-07-18T16:51:28.942Z"
   },
   {
    "duration": 14,
    "start_time": "2021-07-18T16:52:19.981Z"
   },
   {
    "duration": 23,
    "start_time": "2021-07-18T17:07:51.278Z"
   },
   {
    "duration": 24,
    "start_time": "2021-07-18T17:08:33.040Z"
   },
   {
    "duration": 28,
    "start_time": "2021-07-18T17:08:57.721Z"
   },
   {
    "duration": 23,
    "start_time": "2021-07-18T17:09:50.043Z"
   },
   {
    "duration": 52,
    "start_time": "2021-07-18T17:10:32.526Z"
   },
   {
    "duration": 21,
    "start_time": "2021-07-18T17:10:32.579Z"
   },
   {
    "duration": 32,
    "start_time": "2021-07-18T17:12:01.879Z"
   },
   {
    "duration": 17,
    "start_time": "2021-07-18T17:17:08.710Z"
   },
   {
    "duration": 17,
    "start_time": "2021-07-18T17:28:34.971Z"
   },
   {
    "duration": 633,
    "start_time": "2021-07-18T17:30:30.561Z"
   },
   {
    "duration": 16,
    "start_time": "2021-07-18T17:30:31.196Z"
   },
   {
    "duration": 18,
    "start_time": "2021-07-18T17:33:57.355Z"
   },
   {
    "duration": 13,
    "start_time": "2021-07-18T17:39:00.776Z"
   },
   {
    "duration": 13,
    "start_time": "2021-07-18T17:39:40.961Z"
   },
   {
    "duration": 54,
    "start_time": "2021-07-18T17:42:51.982Z"
   },
   {
    "duration": 15,
    "start_time": "2021-07-18T17:46:28.755Z"
   },
   {
    "duration": 582,
    "start_time": "2021-07-18T17:47:06.703Z"
   },
   {
    "duration": 12,
    "start_time": "2021-07-18T17:47:07.287Z"
   },
   {
    "duration": 276,
    "start_time": "2021-07-18T17:53:51.063Z"
   },
   {
    "duration": 17,
    "start_time": "2021-07-18T17:59:18.845Z"
   },
   {
    "duration": 14,
    "start_time": "2021-07-18T18:02:01.275Z"
   },
   {
    "duration": 612,
    "start_time": "2021-07-18T18:02:18.658Z"
   },
   {
    "duration": 14,
    "start_time": "2021-07-18T18:02:19.271Z"
   },
   {
    "duration": 14,
    "start_time": "2021-07-18T18:02:50.652Z"
   },
   {
    "duration": 13,
    "start_time": "2021-07-18T18:04:31.137Z"
   },
   {
    "duration": 12,
    "start_time": "2021-07-18T18:08:41.605Z"
   },
   {
    "duration": 6,
    "start_time": "2021-07-18T18:15:33.305Z"
   },
   {
    "duration": 13,
    "start_time": "2021-07-18T18:19:25.399Z"
   },
   {
    "duration": 13,
    "start_time": "2021-07-18T18:19:38.766Z"
   },
   {
    "duration": 23,
    "start_time": "2021-07-18T18:20:44.032Z"
   },
   {
    "duration": 27,
    "start_time": "2021-07-18T18:28:50.727Z"
   },
   {
    "duration": 384,
    "start_time": "2021-07-19T16:49:30.798Z"
   },
   {
    "duration": 285,
    "start_time": "2021-07-19T16:49:44.353Z"
   },
   {
    "duration": 800,
    "start_time": "2021-07-19T16:49:59.318Z"
   },
   {
    "duration": 28,
    "start_time": "2021-07-19T16:50:06.946Z"
   },
   {
    "duration": 19,
    "start_time": "2021-07-19T16:54:26.009Z"
   },
   {
    "duration": 12,
    "start_time": "2021-07-19T16:58:09.948Z"
   },
   {
    "duration": 18,
    "start_time": "2021-07-19T17:05:42.419Z"
   },
   {
    "duration": 17,
    "start_time": "2021-07-19T17:09:16.439Z"
   },
   {
    "duration": 23,
    "start_time": "2021-07-19T17:24:45.386Z"
   },
   {
    "duration": 20,
    "start_time": "2021-07-19T17:28:30.508Z"
   },
   {
    "duration": 22,
    "start_time": "2021-07-19T17:30:41.496Z"
   },
   {
    "duration": 18,
    "start_time": "2021-07-19T17:34:32.927Z"
   },
   {
    "duration": 19,
    "start_time": "2021-07-19T17:35:07.678Z"
   },
   {
    "duration": 24,
    "start_time": "2021-07-19T17:38:52.338Z"
   },
   {
    "duration": 24,
    "start_time": "2021-07-19T17:39:16.782Z"
   },
   {
    "duration": 10,
    "start_time": "2021-07-19T17:47:29.832Z"
   },
   {
    "duration": 18,
    "start_time": "2021-07-19T17:47:39.408Z"
   },
   {
    "duration": 6,
    "start_time": "2021-07-19T17:51:57.928Z"
   },
   {
    "duration": 9,
    "start_time": "2021-07-19T17:52:38.981Z"
   },
   {
    "duration": 49,
    "start_time": "2021-07-19T18:30:16.125Z"
   },
   {
    "duration": 44,
    "start_time": "2021-07-19T18:37:04.687Z"
   },
   {
    "duration": 58,
    "start_time": "2021-07-19T18:38:20.112Z"
   },
   {
    "duration": 46,
    "start_time": "2021-07-19T18:38:34.836Z"
   },
   {
    "duration": 82,
    "start_time": "2021-07-19T18:39:36.107Z"
   },
   {
    "duration": 53,
    "start_time": "2021-07-19T18:42:23.247Z"
   },
   {
    "duration": 55,
    "start_time": "2021-07-19T18:43:23.242Z"
   },
   {
    "duration": 8,
    "start_time": "2021-07-19T18:46:59.574Z"
   },
   {
    "duration": 320,
    "start_time": "2021-07-21T02:51:04.621Z"
   },
   {
    "duration": 780,
    "start_time": "2021-07-21T02:51:13.555Z"
   },
   {
    "duration": 21,
    "start_time": "2021-07-21T02:51:14.342Z"
   },
   {
    "duration": 5,
    "start_time": "2021-07-21T02:51:14.366Z"
   },
   {
    "duration": 49,
    "start_time": "2021-07-21T02:51:14.374Z"
   },
   {
    "duration": 33,
    "start_time": "2021-07-21T02:51:14.426Z"
   },
   {
    "duration": 7322,
    "start_time": "2021-07-21T02:52:20.598Z"
   },
   {
    "duration": 47,
    "start_time": "2021-07-21T02:52:34.832Z"
   },
   {
    "duration": 52,
    "start_time": "2021-07-21T02:53:26.559Z"
   },
   {
    "duration": 59,
    "start_time": "2021-07-21T02:55:02.230Z"
   },
   {
    "duration": 56,
    "start_time": "2021-07-21T02:56:00.912Z"
   },
   {
    "duration": 5,
    "start_time": "2021-07-21T02:58:13.292Z"
   },
   {
    "duration": 93,
    "start_time": "2021-07-21T03:48:30.478Z"
   },
   {
    "duration": 14,
    "start_time": "2021-07-21T03:49:50.923Z"
   },
   {
    "duration": 6,
    "start_time": "2021-07-21T03:50:41.581Z"
   },
   {
    "duration": 6,
    "start_time": "2021-07-21T03:51:10.487Z"
   },
   {
    "duration": 863,
    "start_time": "2021-07-21T03:51:42.471Z"
   },
   {
    "duration": 930,
    "start_time": "2021-07-21T03:52:03.697Z"
   },
   {
    "duration": 896,
    "start_time": "2021-07-21T03:52:24.392Z"
   },
   {
    "duration": 468,
    "start_time": "2021-07-21T03:53:57.299Z"
   },
   {
    "duration": 1009,
    "start_time": "2021-07-21T03:57:03.650Z"
   },
   {
    "duration": 1062,
    "start_time": "2021-07-21T03:57:12.912Z"
   },
   {
    "duration": 93,
    "start_time": "2021-07-21T03:57:36.684Z"
   },
   {
    "duration": 947,
    "start_time": "2021-07-21T03:57:44.525Z"
   },
   {
    "duration": 926,
    "start_time": "2021-07-21T04:02:26.322Z"
   },
   {
    "duration": 903,
    "start_time": "2021-07-21T04:02:47.079Z"
   },
   {
    "duration": 888,
    "start_time": "2021-07-21T04:03:12.675Z"
   },
   {
    "duration": 892,
    "start_time": "2021-07-21T04:03:45.737Z"
   },
   {
    "duration": 883,
    "start_time": "2021-07-21T04:05:10.444Z"
   },
   {
    "duration": 888,
    "start_time": "2021-07-21T04:05:53.049Z"
   },
   {
    "duration": 885,
    "start_time": "2021-07-21T04:10:50.605Z"
   },
   {
    "duration": 1002,
    "start_time": "2021-07-21T04:13:45.026Z"
   },
   {
    "duration": 987,
    "start_time": "2021-07-21T04:14:19.771Z"
   },
   {
    "duration": 885,
    "start_time": "2021-07-21T04:15:05.075Z"
   },
   {
    "duration": 885,
    "start_time": "2021-07-21T04:16:51.142Z"
   },
   {
    "duration": 897,
    "start_time": "2021-07-21T04:17:08.016Z"
   },
   {
    "duration": 913,
    "start_time": "2021-07-21T04:17:57.888Z"
   },
   {
    "duration": 912,
    "start_time": "2021-07-21T04:18:11.536Z"
   },
   {
    "duration": 902,
    "start_time": "2021-07-21T04:19:01.437Z"
   },
   {
    "duration": 894,
    "start_time": "2021-07-21T04:19:31.245Z"
   },
   {
    "duration": 896,
    "start_time": "2021-07-21T04:20:28.829Z"
   },
   {
    "duration": 999,
    "start_time": "2021-07-21T04:20:50.001Z"
   },
   {
    "duration": 894,
    "start_time": "2021-07-21T04:21:09.917Z"
   },
   {
    "duration": 875,
    "start_time": "2021-07-21T04:21:20.326Z"
   },
   {
    "duration": 889,
    "start_time": "2021-07-21T04:21:33.310Z"
   },
   {
    "duration": 902,
    "start_time": "2021-07-21T04:21:42.574Z"
   },
   {
    "duration": 872,
    "start_time": "2021-07-21T04:21:56.078Z"
   },
   {
    "duration": 1023,
    "start_time": "2021-07-21T04:26:00.910Z"
   },
   {
    "duration": 981,
    "start_time": "2021-07-21T04:26:11.501Z"
   },
   {
    "duration": 986,
    "start_time": "2021-07-21T04:26:19.728Z"
   },
   {
    "duration": 905,
    "start_time": "2021-07-21T04:52:56.113Z"
   },
   {
    "duration": 931,
    "start_time": "2021-07-21T04:53:02.713Z"
   },
   {
    "duration": 907,
    "start_time": "2021-07-21T04:53:31.074Z"
   },
   {
    "duration": 909,
    "start_time": "2021-07-21T04:53:49.025Z"
   },
   {
    "duration": 905,
    "start_time": "2021-07-21T04:53:53.584Z"
   },
   {
    "duration": 985,
    "start_time": "2021-07-21T04:55:25.741Z"
   },
   {
    "duration": 1018,
    "start_time": "2021-07-21T04:55:50.694Z"
   },
   {
    "duration": 1311,
    "start_time": "2021-07-21T04:55:56.355Z"
   },
   {
    "duration": 936,
    "start_time": "2021-07-21T04:56:13.936Z"
   },
   {
    "duration": 1295,
    "start_time": "2021-07-21T04:56:20.465Z"
   },
   {
    "duration": 931,
    "start_time": "2021-07-21T04:58:13.924Z"
   },
   {
    "duration": 947,
    "start_time": "2021-07-21T04:59:23.089Z"
   },
   {
    "duration": 317,
    "start_time": "2021-07-21T05:01:56.382Z"
   },
   {
    "duration": 277,
    "start_time": "2021-07-21T05:02:18.143Z"
   },
   {
    "duration": 257,
    "start_time": "2021-07-21T05:02:43.040Z"
   },
   {
    "duration": 906,
    "start_time": "2021-07-21T05:05:00.106Z"
   },
   {
    "duration": 498,
    "start_time": "2021-07-21T05:08:48.138Z"
   },
   {
    "duration": 1339,
    "start_time": "2021-07-21T05:09:53.227Z"
   },
   {
    "duration": 6705,
    "start_time": "2021-07-21T05:15:01.732Z"
   },
   {
    "duration": 874,
    "start_time": "2021-07-21T05:17:37.199Z"
   },
   {
    "duration": 7424,
    "start_time": "2021-07-21T05:22:27.328Z"
   },
   {
    "duration": 6549,
    "start_time": "2021-07-21T05:22:54.009Z"
   },
   {
    "duration": 858,
    "start_time": "2021-07-21T05:24:47.613Z"
   },
   {
    "duration": 85,
    "start_time": "2021-07-21T05:25:29.486Z"
   },
   {
    "duration": 7063,
    "start_time": "2021-07-21T05:25:40.035Z"
   },
   {
    "duration": 7117,
    "start_time": "2021-07-21T05:26:06.546Z"
   },
   {
    "duration": 84,
    "start_time": "2021-07-21T05:29:35.718Z"
   },
   {
    "duration": 7024,
    "start_time": "2021-07-21T05:29:44.521Z"
   },
   {
    "duration": 4280,
    "start_time": "2021-07-21T05:38:46.744Z"
   },
   {
    "duration": 1206,
    "start_time": "2021-07-21T05:50:10.100Z"
   },
   {
    "duration": 983,
    "start_time": "2021-07-21T05:50:47.702Z"
   },
   {
    "duration": 901,
    "start_time": "2021-07-21T05:58:14.170Z"
   },
   {
    "duration": 943,
    "start_time": "2021-07-21T05:58:54.403Z"
   },
   {
    "duration": 216,
    "start_time": "2021-07-21T05:59:17.417Z"
   },
   {
    "duration": 143,
    "start_time": "2021-07-21T06:08:03.998Z"
   },
   {
    "duration": 4293,
    "start_time": "2021-07-21T06:08:14.647Z"
   },
   {
    "duration": 4174,
    "start_time": "2021-07-21T06:08:34.937Z"
   },
   {
    "duration": 33,
    "start_time": "2021-07-21T06:08:51.503Z"
   },
   {
    "duration": 9,
    "start_time": "2021-07-21T06:09:09.795Z"
   },
   {
    "duration": 10,
    "start_time": "2021-07-21T06:10:11.038Z"
   },
   {
    "duration": 87,
    "start_time": "2021-07-21T06:10:34.035Z"
   },
   {
    "duration": 10,
    "start_time": "2021-07-21T06:10:55.982Z"
   },
   {
    "duration": 7353,
    "start_time": "2021-07-21T06:11:37.485Z"
   },
   {
    "duration": 10,
    "start_time": "2021-07-21T06:11:49.429Z"
   },
   {
    "duration": 12,
    "start_time": "2021-07-21T06:12:01.780Z"
   },
   {
    "duration": 10,
    "start_time": "2021-07-21T06:15:55.570Z"
   },
   {
    "duration": 6238,
    "start_time": "2021-07-21T06:16:36.179Z"
   },
   {
    "duration": 17111,
    "start_time": "2021-07-21T06:18:39.020Z"
   },
   {
    "duration": 23252,
    "start_time": "2021-07-21T06:20:45.731Z"
   },
   {
    "duration": 34541,
    "start_time": "2021-07-21T06:21:49.253Z"
   },
   {
    "duration": 45498,
    "start_time": "2021-07-21T06:24:52.098Z"
   },
   {
    "duration": 765,
    "start_time": "2021-07-21T07:06:30.810Z"
   },
   {
    "duration": 16,
    "start_time": "2021-07-21T07:06:31.578Z"
   },
   {
    "duration": 11,
    "start_time": "2021-07-21T07:06:31.596Z"
   },
   {
    "duration": 64,
    "start_time": "2021-07-21T07:06:31.609Z"
   },
   {
    "duration": 467,
    "start_time": "2021-07-21T07:06:31.675Z"
   },
   {
    "duration": 314,
    "start_time": "2021-07-21T07:07:44.370Z"
   },
   {
    "duration": 775,
    "start_time": "2021-07-21T07:07:47.557Z"
   },
   {
    "duration": 18,
    "start_time": "2021-07-21T07:07:49.602Z"
   },
   {
    "duration": 5,
    "start_time": "2021-07-21T07:07:49.623Z"
   },
   {
    "duration": 45,
    "start_time": "2021-07-21T07:07:49.903Z"
   },
   {
    "duration": 40731,
    "start_time": "2021-07-21T07:10:42.539Z"
   },
   {
    "duration": 26851,
    "start_time": "2021-07-21T07:11:38.146Z"
   },
   {
    "duration": 31267,
    "start_time": "2021-07-21T07:18:36.768Z"
   },
   {
    "duration": 37652,
    "start_time": "2021-07-21T07:25:51.888Z"
   },
   {
    "duration": 37837,
    "start_time": "2021-07-21T07:29:04.862Z"
   },
   {
    "duration": 37246,
    "start_time": "2021-07-21T07:30:13.232Z"
   },
   {
    "duration": 29937,
    "start_time": "2021-07-21T07:40:52.527Z"
   },
   {
    "duration": 793,
    "start_time": "2021-07-21T07:43:50.202Z"
   },
   {
    "duration": 17,
    "start_time": "2021-07-21T07:43:50.998Z"
   },
   {
    "duration": 13,
    "start_time": "2021-07-21T07:43:51.019Z"
   },
   {
    "duration": 82,
    "start_time": "2021-07-21T07:43:51.036Z"
   },
   {
    "duration": 82,
    "start_time": "2021-07-21T07:45:06.525Z"
   },
   {
    "duration": 19,
    "start_time": "2021-07-21T07:45:06.609Z"
   },
   {
    "duration": 4,
    "start_time": "2021-07-21T07:45:06.630Z"
   },
   {
    "duration": 47,
    "start_time": "2021-07-21T07:45:06.657Z"
   },
   {
    "duration": 33770,
    "start_time": "2021-07-21T07:46:57.673Z"
   },
   {
    "duration": 788,
    "start_time": "2021-07-21T07:48:38.531Z"
   },
   {
    "duration": 18,
    "start_time": "2021-07-21T07:48:39.322Z"
   },
   {
    "duration": 4,
    "start_time": "2021-07-21T07:48:39.356Z"
   },
   {
    "duration": 57,
    "start_time": "2021-07-21T07:48:39.363Z"
   },
   {
    "duration": 210,
    "start_time": "2021-07-21T07:49:31.431Z"
   },
   {
    "duration": 182,
    "start_time": "2021-07-21T07:49:31.461Z"
   },
   {
    "duration": 173,
    "start_time": "2021-07-21T07:49:31.471Z"
   },
   {
    "duration": 168,
    "start_time": "2021-07-21T07:49:31.477Z"
   },
   {
    "duration": 165,
    "start_time": "2021-07-21T07:49:31.482Z"
   },
   {
    "duration": 268,
    "start_time": "2021-07-21T07:49:50.252Z"
   },
   {
    "duration": 791,
    "start_time": "2021-07-21T07:50:33.472Z"
   },
   {
    "duration": 18,
    "start_time": "2021-07-21T07:50:34.265Z"
   },
   {
    "duration": 5,
    "start_time": "2021-07-21T07:50:34.285Z"
   },
   {
    "duration": 73,
    "start_time": "2021-07-21T07:50:34.293Z"
   },
   {
    "duration": 793,
    "start_time": "2021-07-21T07:51:40.858Z"
   },
   {
    "duration": 17,
    "start_time": "2021-07-21T07:51:41.653Z"
   },
   {
    "duration": 20,
    "start_time": "2021-07-21T07:51:41.673Z"
   },
   {
    "duration": 69,
    "start_time": "2021-07-21T07:51:41.695Z"
   },
   {
    "duration": 845,
    "start_time": "2021-07-21T07:53:03.931Z"
   },
   {
    "duration": 21,
    "start_time": "2021-07-21T07:53:12.269Z"
   },
   {
    "duration": 16,
    "start_time": "2021-07-21T07:53:25.875Z"
   },
   {
    "duration": 43,
    "start_time": "2021-07-21T07:53:44.874Z"
   },
   {
    "duration": 40517,
    "start_time": "2021-07-21T07:53:49.694Z"
   },
   {
    "duration": 5489,
    "start_time": "2021-07-21T07:54:40.134Z"
   },
   {
    "duration": 14243,
    "start_time": "2021-07-21T07:56:32.178Z"
   },
   {
    "duration": 14340,
    "start_time": "2021-07-21T07:57:17.037Z"
   },
   {
    "duration": 812,
    "start_time": "2021-07-21T07:57:40.063Z"
   },
   {
    "duration": 18,
    "start_time": "2021-07-21T07:57:40.878Z"
   },
   {
    "duration": 15,
    "start_time": "2021-07-21T07:57:40.899Z"
   },
   {
    "duration": 73,
    "start_time": "2021-07-21T07:57:40.917Z"
   },
   {
    "duration": 15774,
    "start_time": "2021-07-21T07:57:55.239Z"
   },
   {
    "duration": 374,
    "start_time": "2021-07-21T07:58:58.025Z"
   },
   {
    "duration": 20371,
    "start_time": "2021-07-21T07:59:21.090Z"
   },
   {
    "duration": 26763,
    "start_time": "2021-07-21T08:00:34.580Z"
   },
   {
    "duration": 40766,
    "start_time": "2021-07-21T08:01:44.023Z"
   },
   {
    "duration": 33221,
    "start_time": "2021-07-21T08:03:22.309Z"
   },
   {
    "duration": 33615,
    "start_time": "2021-07-21T08:07:38.495Z"
   },
   {
    "duration": 310,
    "start_time": "2021-07-21T08:08:58.180Z"
   },
   {
    "duration": 804,
    "start_time": "2021-07-21T08:09:07.864Z"
   },
   {
    "duration": 19,
    "start_time": "2021-07-21T08:09:12.889Z"
   },
   {
    "duration": 17,
    "start_time": "2021-07-21T08:09:17.697Z"
   },
   {
    "duration": 43,
    "start_time": "2021-07-21T08:09:22.665Z"
   },
   {
    "duration": 27977,
    "start_time": "2021-07-21T08:09:30.555Z"
   },
   {
    "duration": 29787,
    "start_time": "2021-07-21T08:11:43.044Z"
   },
   {
    "duration": 41754,
    "start_time": "2021-07-21T08:12:42.599Z"
   },
   {
    "duration": 33285,
    "start_time": "2021-07-21T08:13:47.657Z"
   },
   {
    "duration": 1476,
    "start_time": "2021-07-21T08:14:55.459Z"
   },
   {
    "duration": 1482,
    "start_time": "2021-07-21T08:15:20.052Z"
   },
   {
    "duration": 2553,
    "start_time": "2021-07-21T08:15:36.181Z"
   },
   {
    "duration": 2497,
    "start_time": "2021-07-21T08:15:56.868Z"
   },
   {
    "duration": 772,
    "start_time": "2021-07-21T08:16:40.801Z"
   },
   {
    "duration": 16,
    "start_time": "2021-07-21T08:16:41.576Z"
   },
   {
    "duration": 16,
    "start_time": "2021-07-21T08:16:41.595Z"
   },
   {
    "duration": 67,
    "start_time": "2021-07-21T08:16:41.613Z"
   },
   {
    "duration": 7094,
    "start_time": "2021-07-21T08:16:41.683Z"
   },
   {
    "duration": 7284,
    "start_time": "2021-07-21T08:16:57.926Z"
   },
   {
    "duration": 79,
    "start_time": "2021-07-21T08:17:28.445Z"
   },
   {
    "duration": 17,
    "start_time": "2021-07-21T08:17:39.536Z"
   },
   {
    "duration": 17,
    "start_time": "2021-07-21T08:17:42.621Z"
   },
   {
    "duration": 42,
    "start_time": "2021-07-21T08:17:47.783Z"
   },
   {
    "duration": 7022,
    "start_time": "2021-07-21T08:17:53.022Z"
   },
   {
    "duration": 95,
    "start_time": "2021-07-21T08:18:45.146Z"
   },
   {
    "duration": 30,
    "start_time": "2021-07-21T08:18:45.244Z"
   },
   {
    "duration": 15,
    "start_time": "2021-07-21T08:18:45.277Z"
   },
   {
    "duration": 66,
    "start_time": "2021-07-21T08:18:45.295Z"
   },
   {
    "duration": 7034,
    "start_time": "2021-07-21T08:18:45.363Z"
   },
   {
    "duration": 7180,
    "start_time": "2021-07-21T08:19:05.456Z"
   },
   {
    "duration": 739,
    "start_time": "2021-07-21T08:21:18.909Z"
   },
   {
    "duration": 17,
    "start_time": "2021-07-21T08:21:19.651Z"
   },
   {
    "duration": 15,
    "start_time": "2021-07-21T08:21:19.671Z"
   },
   {
    "duration": 42,
    "start_time": "2021-07-21T08:21:19.688Z"
   },
   {
    "duration": 81,
    "start_time": "2021-07-21T08:22:09.946Z"
   },
   {
    "duration": 18,
    "start_time": "2021-07-21T08:22:13.835Z"
   },
   {
    "duration": 16,
    "start_time": "2021-07-21T08:22:19.394Z"
   },
   {
    "duration": 41,
    "start_time": "2021-07-21T08:22:23.114Z"
   },
   {
    "duration": 17699,
    "start_time": "2021-07-21T08:22:27.481Z"
   },
   {
    "duration": 26756,
    "start_time": "2021-07-21T08:22:52.641Z"
   },
   {
    "duration": 34283,
    "start_time": "2021-07-21T08:23:23.308Z"
   },
   {
    "duration": 37818,
    "start_time": "2021-07-21T08:24:01.412Z"
   },
   {
    "duration": 37807,
    "start_time": "2021-07-21T08:24:54.885Z"
   },
   {
    "duration": 404,
    "start_time": "2021-07-21T08:45:33.591Z"
   },
   {
    "duration": 8,
    "start_time": "2021-07-21T08:46:09.618Z"
   },
   {
    "duration": 319,
    "start_time": "2021-07-21T08:48:16.248Z"
   },
   {
    "duration": 277,
    "start_time": "2021-07-21T08:48:29.821Z"
   },
   {
    "duration": 263,
    "start_time": "2021-07-21T08:48:52.448Z"
   },
   {
    "duration": 305,
    "start_time": "2021-07-21T08:50:25.953Z"
   },
   {
    "duration": 5,
    "start_time": "2021-07-21T08:53:39.341Z"
   },
   {
    "duration": 292,
    "start_time": "2021-07-21T08:54:42.999Z"
   },
   {
    "duration": 257,
    "start_time": "2021-07-21T08:55:11.433Z"
   },
   {
    "duration": 257,
    "start_time": "2021-07-21T08:55:36.923Z"
   },
   {
    "duration": 10,
    "start_time": "2021-07-21T08:55:51.377Z"
   },
   {
    "duration": 20,
    "start_time": "2021-07-21T08:58:44.673Z"
   },
   {
    "duration": 20,
    "start_time": "2021-07-21T09:02:41.863Z"
   },
   {
    "duration": 267,
    "start_time": "2021-07-21T09:06:39.195Z"
   },
   {
    "duration": 22,
    "start_time": "2021-07-21T09:06:48.727Z"
   },
   {
    "duration": 6,
    "start_time": "2021-07-21T09:07:40.943Z"
   },
   {
    "duration": 10,
    "start_time": "2021-07-21T09:07:43.467Z"
   },
   {
    "duration": 6,
    "start_time": "2021-07-21T09:08:47.663Z"
   },
   {
    "duration": 9,
    "start_time": "2021-07-21T09:08:53.398Z"
   },
   {
    "duration": 5,
    "start_time": "2021-07-21T09:10:32.585Z"
   },
   {
    "duration": 9,
    "start_time": "2021-07-21T09:10:36.568Z"
   },
   {
    "duration": 310,
    "start_time": "2021-07-21T09:23:37.640Z"
   },
   {
    "duration": 296,
    "start_time": "2021-07-21T09:24:08.777Z"
   },
   {
    "duration": 281,
    "start_time": "2021-07-21T09:24:38.065Z"
   },
   {
    "duration": 265,
    "start_time": "2021-07-21T09:24:54.585Z"
   },
   {
    "duration": 284,
    "start_time": "2021-07-21T09:25:21.113Z"
   },
   {
    "duration": 287,
    "start_time": "2021-07-21T09:25:47.951Z"
   },
   {
    "duration": 269,
    "start_time": "2021-07-21T09:26:23.882Z"
   },
   {
    "duration": 14,
    "start_time": "2021-07-21T09:33:13.422Z"
   },
   {
    "duration": 10,
    "start_time": "2021-07-21T09:35:38.035Z"
   },
   {
    "duration": 293,
    "start_time": "2021-07-21T09:37:38.346Z"
   },
   {
    "duration": 265,
    "start_time": "2021-07-21T09:39:26.025Z"
   },
   {
    "duration": 289,
    "start_time": "2021-07-21T09:39:46.679Z"
   },
   {
    "duration": 273,
    "start_time": "2021-07-21T09:42:25.556Z"
   },
   {
    "duration": 274,
    "start_time": "2021-07-21T09:47:18.556Z"
   },
   {
    "duration": 290,
    "start_time": "2021-07-21T09:47:56.930Z"
   },
   {
    "duration": 22,
    "start_time": "2021-07-21T10:19:08.374Z"
   },
   {
    "duration": 6,
    "start_time": "2021-07-21T10:20:01.423Z"
   },
   {
    "duration": 17,
    "start_time": "2021-07-21T10:20:06.814Z"
   },
   {
    "duration": 16,
    "start_time": "2021-07-21T10:20:43.387Z"
   },
   {
    "duration": 272,
    "start_time": "2021-07-21T10:24:44.695Z"
   },
   {
    "duration": 350,
    "start_time": "2021-07-21T10:25:14.154Z"
   },
   {
    "duration": 15,
    "start_time": "2021-07-21T10:25:55.864Z"
   },
   {
    "duration": 15,
    "start_time": "2021-07-21T10:26:59.258Z"
   },
   {
    "duration": 1988,
    "start_time": "2021-07-21T10:29:01.814Z"
   },
   {
    "duration": 93,
    "start_time": "2021-07-21T10:29:48.119Z"
   },
   {
    "duration": 90,
    "start_time": "2021-07-21T10:30:04.739Z"
   },
   {
    "duration": 17,
    "start_time": "2021-07-21T10:30:29.567Z"
   },
   {
    "duration": 20,
    "start_time": "2021-07-21T10:36:04.704Z"
   },
   {
    "duration": 33,
    "start_time": "2021-07-21T10:41:20.977Z"
   },
   {
    "duration": 38,
    "start_time": "2021-07-21T10:43:23.660Z"
   },
   {
    "duration": 36,
    "start_time": "2021-07-21T10:44:12.733Z"
   },
   {
    "duration": 22,
    "start_time": "2021-07-21T10:51:34.044Z"
   },
   {
    "duration": 28,
    "start_time": "2021-07-21T10:52:46.910Z"
   },
   {
    "duration": 285,
    "start_time": "2021-07-21T10:54:59.225Z"
   },
   {
    "duration": 20,
    "start_time": "2021-07-21T11:04:10.508Z"
   },
   {
    "duration": 23,
    "start_time": "2021-07-21T11:05:30.369Z"
   },
   {
    "duration": 21,
    "start_time": "2021-07-21T11:05:41.145Z"
   },
   {
    "duration": 21,
    "start_time": "2021-07-21T11:05:55.261Z"
   },
   {
    "duration": 801,
    "start_time": "2021-07-21T11:06:12.033Z"
   },
   {
    "duration": 22,
    "start_time": "2021-07-21T11:06:12.836Z"
   },
   {
    "duration": 15,
    "start_time": "2021-07-21T11:06:12.861Z"
   },
   {
    "duration": 42,
    "start_time": "2021-07-21T11:06:12.879Z"
   },
   {
    "duration": 813,
    "start_time": "2021-07-21T11:07:08.633Z"
   },
   {
    "duration": 22,
    "start_time": "2021-07-21T11:07:14.893Z"
   },
   {
    "duration": 31,
    "start_time": "2021-07-21T11:09:07.103Z"
   },
   {
    "duration": 21,
    "start_time": "2021-07-21T11:10:12.954Z"
   },
   {
    "duration": 19,
    "start_time": "2021-07-21T11:10:44.578Z"
   },
   {
    "duration": 16,
    "start_time": "2021-07-21T11:12:07.443Z"
   },
   {
    "duration": 42,
    "start_time": "2021-07-21T11:12:11.595Z"
   },
   {
    "duration": 40437,
    "start_time": "2021-07-21T11:12:18.357Z"
   },
   {
    "duration": 14,
    "start_time": "2021-07-21T11:13:11.924Z"
   },
   {
    "duration": 112,
    "start_time": "2021-07-21T11:19:11.038Z"
   },
   {
    "duration": 492,
    "start_time": "2021-07-21T11:19:55.814Z"
   },
   {
    "duration": 34,
    "start_time": "2021-07-21T11:20:11.686Z"
   },
   {
    "duration": 37,
    "start_time": "2021-07-21T11:22:09.323Z"
   },
   {
    "duration": 37,
    "start_time": "2021-07-21T11:22:26.249Z"
   },
   {
    "duration": 44,
    "start_time": "2021-07-21T11:41:33.016Z"
   },
   {
    "duration": 37,
    "start_time": "2021-07-21T11:47:58.690Z"
   },
   {
    "duration": 48,
    "start_time": "2021-07-21T11:53:38.733Z"
   },
   {
    "duration": 57,
    "start_time": "2021-07-21T11:54:58.558Z"
   },
   {
    "duration": 57,
    "start_time": "2021-07-21T11:56:12.582Z"
   },
   {
    "duration": 63,
    "start_time": "2021-07-21T11:57:54.033Z"
   },
   {
    "duration": 73,
    "start_time": "2021-07-21T11:58:40.906Z"
   },
   {
    "duration": 72,
    "start_time": "2021-07-21T11:58:55.308Z"
   },
   {
    "duration": 70,
    "start_time": "2021-07-21T11:59:49.454Z"
   },
   {
    "duration": 82,
    "start_time": "2021-07-21T12:00:40.833Z"
   },
   {
    "duration": 55,
    "start_time": "2021-07-21T12:11:11.014Z"
   },
   {
    "duration": 76,
    "start_time": "2021-07-21T12:11:51.632Z"
   },
   {
    "duration": 85,
    "start_time": "2021-07-21T12:17:34.568Z"
   },
   {
    "duration": 172,
    "start_time": "2021-07-21T12:21:03.087Z"
   },
   {
    "duration": 75,
    "start_time": "2021-07-21T12:24:17.035Z"
   },
   {
    "duration": 288,
    "start_time": "2021-07-21T12:28:54.898Z"
   },
   {
    "duration": 21,
    "start_time": "2021-07-21T12:29:40.372Z"
   },
   {
    "duration": 20,
    "start_time": "2021-07-21T12:30:47.453Z"
   },
   {
    "duration": 20,
    "start_time": "2021-07-21T12:31:06.668Z"
   },
   {
    "duration": 23,
    "start_time": "2021-07-21T12:31:23.589Z"
   },
   {
    "duration": 21,
    "start_time": "2021-07-21T12:36:37.534Z"
   },
   {
    "duration": 4,
    "start_time": "2021-07-21T12:50:15.588Z"
   },
   {
    "duration": 73,
    "start_time": "2021-07-21T12:50:32.987Z"
   },
   {
    "duration": 5,
    "start_time": "2021-07-21T12:50:37.859Z"
   },
   {
    "duration": 468,
    "start_time": "2021-07-21T12:51:01.964Z"
   },
   {
    "duration": 22,
    "start_time": "2021-07-21T12:51:48.976Z"
   },
   {
    "duration": 73,
    "start_time": "2021-07-21T12:51:56.782Z"
   },
   {
    "duration": 2334,
    "start_time": "2021-07-21T12:52:01.486Z"
   },
   {
    "duration": 21,
    "start_time": "2021-07-21T12:52:34.384Z"
   },
   {
    "duration": 29,
    "start_time": "2021-07-21T12:54:56.676Z"
   },
   {
    "duration": 29,
    "start_time": "2021-07-21T12:55:30.145Z"
   },
   {
    "duration": 77,
    "start_time": "2021-07-21T12:55:35.305Z"
   },
   {
    "duration": 16,
    "start_time": "2021-07-21T12:56:56.294Z"
   },
   {
    "duration": 2053,
    "start_time": "2021-07-21T13:00:44.060Z"
   },
   {
    "duration": 792,
    "start_time": "2021-07-21T13:04:38.478Z"
   },
   {
    "duration": 26,
    "start_time": "2021-07-21T13:05:17.660Z"
   },
   {
    "duration": 73,
    "start_time": "2021-07-21T13:05:23.092Z"
   },
   {
    "duration": 6995,
    "start_time": "2021-07-21T13:05:30.326Z"
   },
   {
    "duration": 13,
    "start_time": "2021-07-21T13:06:06.350Z"
   },
   {
    "duration": 13,
    "start_time": "2021-07-21T13:06:35.317Z"
   },
   {
    "duration": 13,
    "start_time": "2021-07-21T13:06:58.399Z"
   },
   {
    "duration": 32,
    "start_time": "2021-07-21T13:07:57.754Z"
   },
   {
    "duration": 32,
    "start_time": "2021-07-21T13:08:43.033Z"
   },
   {
    "duration": 33,
    "start_time": "2021-07-21T13:09:05.801Z"
   },
   {
    "duration": 34,
    "start_time": "2021-07-21T13:11:26.772Z"
   },
   {
    "duration": 87,
    "start_time": "2021-07-21T13:11:39.629Z"
   },
   {
    "duration": 31,
    "start_time": "2021-07-21T13:12:03.957Z"
   },
   {
    "duration": 13,
    "start_time": "2021-07-21T13:18:17.843Z"
   },
   {
    "duration": 453,
    "start_time": "2021-07-21T13:18:36.119Z"
   },
   {
    "duration": 96,
    "start_time": "2021-07-21T13:19:04.337Z"
   },
   {
    "duration": 451,
    "start_time": "2021-07-21T13:19:13.874Z"
   },
   {
    "duration": 89,
    "start_time": "2021-07-21T13:48:21.441Z"
   },
   {
    "duration": 452,
    "start_time": "2021-07-21T13:48:29.328Z"
   },
   {
    "duration": 459,
    "start_time": "2021-07-21T13:50:18.724Z"
   },
   {
    "duration": 48,
    "start_time": "2021-07-21T13:54:19.914Z"
   },
   {
    "duration": 37,
    "start_time": "2021-07-21T13:56:50.078Z"
   },
   {
    "duration": 37,
    "start_time": "2021-07-21T14:01:23.468Z"
   },
   {
    "duration": 36,
    "start_time": "2021-07-21T14:01:59.901Z"
   },
   {
    "duration": 39,
    "start_time": "2021-07-21T14:02:16.396Z"
   },
   {
    "duration": 751,
    "start_time": "2021-07-21T14:03:28.498Z"
   },
   {
    "duration": 21,
    "start_time": "2021-07-21T14:03:29.252Z"
   },
   {
    "duration": 17,
    "start_time": "2021-07-21T14:03:29.279Z"
   },
   {
    "duration": 67,
    "start_time": "2021-07-21T14:03:29.299Z"
   },
   {
    "duration": 40287,
    "start_time": "2021-07-21T14:03:29.369Z"
   },
   {
    "duration": 28,
    "start_time": "2021-07-21T14:04:09.659Z"
   },
   {
    "duration": 100,
    "start_time": "2021-07-21T14:04:09.691Z"
   },
   {
    "duration": 40,
    "start_time": "2021-07-21T14:04:09.794Z"
   },
   {
    "duration": 37,
    "start_time": "2021-07-21T15:25:44.005Z"
   },
   {
    "duration": 37,
    "start_time": "2021-07-21T15:26:28.180Z"
   },
   {
    "duration": 58,
    "start_time": "2021-07-21T15:30:47.180Z"
   },
   {
    "duration": 393,
    "start_time": "2021-07-21T15:46:19.671Z"
   },
   {
    "duration": 37,
    "start_time": "2021-07-21T15:48:18.608Z"
   },
   {
    "duration": 41,
    "start_time": "2021-07-21T15:51:15.403Z"
   },
   {
    "duration": 329,
    "start_time": "2021-07-21T15:53:31.127Z"
   },
   {
    "duration": 42,
    "start_time": "2021-07-21T15:53:54.520Z"
   },
   {
    "duration": 7293,
    "start_time": "2021-07-21T15:56:54.907Z"
   },
   {
    "duration": 47,
    "start_time": "2021-07-21T15:58:46.159Z"
   },
   {
    "duration": 41,
    "start_time": "2021-07-21T16:01:08.466Z"
   },
   {
    "duration": 40,
    "start_time": "2021-07-21T16:01:37.242Z"
   },
   {
    "duration": 325,
    "start_time": "2021-07-21T16:37:42.566Z"
   },
   {
    "duration": 46,
    "start_time": "2021-07-21T16:40:24.321Z"
   },
   {
    "duration": 42,
    "start_time": "2021-07-21T16:43:15.613Z"
   },
   {
    "duration": 44,
    "start_time": "2021-07-21T18:15:23.129Z"
   },
   {
    "duration": 6783,
    "start_time": "2021-07-21T18:17:35.004Z"
   },
   {
    "duration": 49,
    "start_time": "2021-07-21T18:19:11.518Z"
   },
   {
    "duration": 45,
    "start_time": "2021-07-21T18:20:12.555Z"
   },
   {
    "duration": 81,
    "start_time": "2021-07-21T18:20:19.113Z"
   },
   {
    "duration": 37,
    "start_time": "2021-07-21T18:20:26.399Z"
   },
   {
    "duration": 65,
    "start_time": "2021-07-21T18:21:09.689Z"
   },
   {
    "duration": 395,
    "start_time": "2021-07-21T18:53:28.702Z"
   },
   {
    "duration": 131,
    "start_time": "2021-07-21T18:55:29.113Z"
   },
   {
    "duration": 763,
    "start_time": "2021-07-21T18:56:41.192Z"
   },
   {
    "duration": 22,
    "start_time": "2021-07-21T18:56:41.958Z"
   },
   {
    "duration": 18,
    "start_time": "2021-07-21T18:56:41.984Z"
   },
   {
    "duration": 75,
    "start_time": "2021-07-21T18:56:42.004Z"
   },
   {
    "duration": 40136,
    "start_time": "2021-07-21T18:56:42.082Z"
   },
   {
    "duration": 61,
    "start_time": "2021-07-21T18:57:22.221Z"
   },
   {
    "duration": 103,
    "start_time": "2021-07-21T18:57:22.284Z"
   },
   {
    "duration": 36,
    "start_time": "2021-07-21T18:57:22.390Z"
   },
   {
    "duration": 154,
    "start_time": "2021-07-21T18:57:22.428Z"
   },
   {
    "duration": 854,
    "start_time": "2021-07-22T09:50:48.226Z"
   },
   {
    "duration": 20,
    "start_time": "2021-07-22T09:50:49.087Z"
   },
   {
    "duration": 15,
    "start_time": "2021-07-22T09:50:49.110Z"
   },
   {
    "duration": 39,
    "start_time": "2021-07-22T09:50:49.157Z"
   },
   {
    "duration": 41837,
    "start_time": "2021-07-22T09:50:49.198Z"
   },
   {
    "duration": 59,
    "start_time": "2021-07-22T09:51:31.038Z"
   },
   {
    "duration": 108,
    "start_time": "2021-07-22T09:51:31.099Z"
   },
   {
    "duration": 56,
    "start_time": "2021-07-22T09:51:31.210Z"
   },
   {
    "duration": 150,
    "start_time": "2021-07-22T09:51:31.269Z"
   },
   {
    "duration": 7030,
    "start_time": "2021-07-22T09:56:26.294Z"
   },
   {
    "duration": 21,
    "start_time": "2021-07-22T09:56:50.860Z"
   },
   {
    "duration": 108,
    "start_time": "2021-07-22T09:59:33.877Z"
   },
   {
    "duration": 22,
    "start_time": "2021-07-22T09:59:45.440Z"
   },
   {
    "duration": 23,
    "start_time": "2021-07-22T10:01:06.977Z"
   },
   {
    "duration": 22,
    "start_time": "2021-07-22T10:01:30.629Z"
   },
   {
    "duration": 23,
    "start_time": "2021-07-22T10:04:31.089Z"
   },
   {
    "duration": 22,
    "start_time": "2021-07-22T10:05:32.746Z"
   },
   {
    "duration": 16,
    "start_time": "2021-07-22T10:05:35.656Z"
   },
   {
    "duration": 43,
    "start_time": "2021-07-22T10:05:39.705Z"
   },
   {
    "duration": 39124,
    "start_time": "2021-07-22T10:05:54.291Z"
   },
   {
    "duration": 46,
    "start_time": "2021-07-22T10:06:49.002Z"
   },
   {
    "duration": 43,
    "start_time": "2021-07-22T10:13:21.400Z"
   },
   {
    "duration": 47,
    "start_time": "2021-07-22T10:26:51.239Z"
   },
   {
    "duration": 6995,
    "start_time": "2021-07-22T10:27:20.220Z"
   },
   {
    "duration": 45,
    "start_time": "2021-07-22T10:27:51.321Z"
   },
   {
    "duration": 294,
    "start_time": "2021-07-22T10:58:15.148Z"
   },
   {
    "duration": 467,
    "start_time": "2021-07-22T10:58:31.601Z"
   },
   {
    "duration": 463,
    "start_time": "2021-07-22T10:59:42.533Z"
   },
   {
    "duration": 57,
    "start_time": "2021-07-22T11:08:23.785Z"
   },
   {
    "duration": 51,
    "start_time": "2021-07-22T11:09:24.459Z"
   },
   {
    "duration": 82,
    "start_time": "2021-07-22T11:10:47.268Z"
   },
   {
    "duration": 48,
    "start_time": "2021-07-22T11:11:58.304Z"
   },
   {
    "duration": 53,
    "start_time": "2021-07-22T11:13:27.608Z"
   },
   {
    "duration": 53,
    "start_time": "2021-07-22T11:14:28.065Z"
   },
   {
    "duration": 49,
    "start_time": "2021-07-22T11:17:40.382Z"
   },
   {
    "duration": 49,
    "start_time": "2021-07-22T11:17:52.937Z"
   },
   {
    "duration": 52,
    "start_time": "2021-07-22T12:15:19.797Z"
   },
   {
    "duration": 50,
    "start_time": "2021-07-22T12:16:37.702Z"
   },
   {
    "duration": 50,
    "start_time": "2021-07-22T12:17:39.018Z"
   },
   {
    "duration": 49,
    "start_time": "2021-07-22T12:18:01.212Z"
   },
   {
    "duration": 67,
    "start_time": "2021-07-22T12:22:02.831Z"
   },
   {
    "duration": 332,
    "start_time": "2021-07-22T12:30:22.315Z"
   },
   {
    "duration": 316,
    "start_time": "2021-07-22T12:31:02.022Z"
   },
   {
    "duration": 47,
    "start_time": "2021-07-22T12:31:26.767Z"
   },
   {
    "duration": 43,
    "start_time": "2021-07-22T12:41:10.204Z"
   },
   {
    "duration": 49,
    "start_time": "2021-07-22T12:42:06.486Z"
   },
   {
    "duration": 834,
    "start_time": "2021-07-23T03:40:28.949Z"
   },
   {
    "duration": 21,
    "start_time": "2021-07-23T03:40:29.786Z"
   },
   {
    "duration": 17,
    "start_time": "2021-07-23T03:40:29.810Z"
   },
   {
    "duration": 68,
    "start_time": "2021-07-23T03:40:29.829Z"
   },
   {
    "duration": 801,
    "start_time": "2021-07-23T03:41:03.911Z"
   },
   {
    "duration": 23,
    "start_time": "2021-07-23T03:41:04.715Z"
   },
   {
    "duration": 43,
    "start_time": "2021-07-23T03:41:04.742Z"
   },
   {
    "duration": 44,
    "start_time": "2021-07-23T03:41:04.789Z"
   },
   {
    "duration": 40751,
    "start_time": "2021-07-23T03:41:04.836Z"
   },
   {
    "duration": 51,
    "start_time": "2021-07-23T03:41:45.590Z"
   },
   {
    "duration": 101,
    "start_time": "2021-07-23T03:41:45.644Z"
   },
   {
    "duration": 54,
    "start_time": "2021-07-23T03:41:45.748Z"
   },
   {
    "duration": 444,
    "start_time": "2021-07-23T03:41:45.805Z"
   },
   {
    "duration": 52,
    "start_time": "2021-07-23T03:50:56.631Z"
   },
   {
    "duration": 52,
    "start_time": "2021-07-23T03:51:20.541Z"
   },
   {
    "duration": 51,
    "start_time": "2021-07-23T03:51:36.586Z"
   },
   {
    "duration": 49,
    "start_time": "2021-07-23T03:51:57.056Z"
   },
   {
    "duration": 364,
    "start_time": "2021-07-23T03:52:26.488Z"
   },
   {
    "duration": 407,
    "start_time": "2021-07-23T03:54:03.365Z"
   },
   {
    "duration": 478,
    "start_time": "2021-07-23T03:55:35.776Z"
   },
   {
    "duration": 47,
    "start_time": "2021-07-23T03:56:37.346Z"
   },
   {
    "duration": 56,
    "start_time": "2021-07-23T03:56:46.589Z"
   },
   {
    "duration": 48,
    "start_time": "2021-07-23T03:57:45.588Z"
   },
   {
    "duration": 390,
    "start_time": "2021-07-23T04:05:34.391Z"
   },
   {
    "duration": 346,
    "start_time": "2021-07-23T04:05:55.063Z"
   },
   {
    "duration": 598,
    "start_time": "2021-07-23T04:06:39.967Z"
   },
   {
    "duration": 74,
    "start_time": "2021-07-23T04:06:56.024Z"
   },
   {
    "duration": 79,
    "start_time": "2021-07-23T04:08:11.802Z"
   },
   {
    "duration": 78,
    "start_time": "2021-07-23T04:12:28.919Z"
   },
   {
    "duration": 93,
    "start_time": "2021-07-23T04:19:34.155Z"
   },
   {
    "duration": 53,
    "start_time": "2021-07-23T04:22:47.332Z"
   },
   {
    "duration": 53,
    "start_time": "2021-07-23T04:23:00.296Z"
   },
   {
    "duration": 67,
    "start_time": "2021-07-23T04:23:43.706Z"
   },
   {
    "duration": 50,
    "start_time": "2021-07-23T04:28:20.328Z"
   },
   {
    "duration": 366,
    "start_time": "2021-07-23T04:29:43.860Z"
   },
   {
    "duration": 36,
    "start_time": "2021-07-23T04:34:24.280Z"
   },
   {
    "duration": 38,
    "start_time": "2021-07-23T04:34:39.025Z"
   },
   {
    "duration": 76,
    "start_time": "2021-07-23T04:36:46.686Z"
   },
   {
    "duration": 434,
    "start_time": "2021-07-23T04:39:17.660Z"
   },
   {
    "duration": 768,
    "start_time": "2021-07-23T04:39:44.824Z"
   },
   {
    "duration": 22,
    "start_time": "2021-07-23T04:39:45.595Z"
   },
   {
    "duration": 17,
    "start_time": "2021-07-23T04:39:45.624Z"
   },
   {
    "duration": 94,
    "start_time": "2021-07-23T04:39:45.644Z"
   },
   {
    "duration": 44474,
    "start_time": "2021-07-23T04:39:45.741Z"
   },
   {
    "duration": 49,
    "start_time": "2021-07-23T04:40:30.218Z"
   },
   {
    "duration": 81,
    "start_time": "2021-07-23T04:40:30.283Z"
   },
   {
    "duration": 86,
    "start_time": "2021-07-23T04:40:30.366Z"
   },
   {
    "duration": 87,
    "start_time": "2021-07-23T04:40:30.455Z"
   },
   {
    "duration": 97,
    "start_time": "2021-07-23T04:40:30.545Z"
   },
   {
    "duration": 869,
    "start_time": "2021-07-23T08:22:00.445Z"
   },
   {
    "duration": 23,
    "start_time": "2021-07-23T08:22:01.316Z"
   },
   {
    "duration": 40,
    "start_time": "2021-07-23T08:22:01.342Z"
   },
   {
    "duration": 45,
    "start_time": "2021-07-23T08:22:01.385Z"
   },
   {
    "duration": 42227,
    "start_time": "2021-07-23T08:22:01.432Z"
   },
   {
    "duration": 62,
    "start_time": "2021-07-23T08:22:43.662Z"
   },
   {
    "duration": 102,
    "start_time": "2021-07-23T08:22:43.726Z"
   },
   {
    "duration": 93,
    "start_time": "2021-07-23T08:22:43.831Z"
   },
   {
    "duration": 86,
    "start_time": "2021-07-23T08:22:43.927Z"
   },
   {
    "duration": 85,
    "start_time": "2021-07-23T08:22:44.015Z"
   },
   {
    "duration": 889,
    "start_time": "2021-07-23T18:30:38.849Z"
   },
   {
    "duration": 76,
    "start_time": "2021-07-23T18:32:59.315Z"
   },
   {
    "duration": 77,
    "start_time": "2021-07-23T18:33:11.252Z"
   },
   {
    "duration": 74,
    "start_time": "2021-07-23T18:33:14.683Z"
   },
   {
    "duration": 107,
    "start_time": "2021-07-23T18:34:02.605Z"
   },
   {
    "duration": 113,
    "start_time": "2021-07-23T18:34:08.861Z"
   },
   {
    "duration": 93,
    "start_time": "2021-07-23T18:35:17.199Z"
   },
   {
    "duration": 105,
    "start_time": "2021-07-23T18:36:00.232Z"
   },
   {
    "duration": 95,
    "start_time": "2021-07-23T18:36:56.866Z"
   },
   {
    "duration": 110,
    "start_time": "2021-07-23T18:37:26.217Z"
   },
   {
    "duration": 99,
    "start_time": "2021-07-23T18:38:32.397Z"
   },
   {
    "duration": 82,
    "start_time": "2021-07-24T08:56:48.732Z"
   },
   {
    "duration": 854,
    "start_time": "2021-07-24T09:42:02.418Z"
   },
   {
    "duration": 350,
    "start_time": "2021-07-24T10:36:02.190Z"
   },
   {
    "duration": 9,
    "start_time": "2021-07-24T10:36:10.028Z"
   },
   {
    "duration": 10,
    "start_time": "2021-07-24T10:36:48.244Z"
   },
   {
    "duration": 10,
    "start_time": "2021-07-24T10:37:32.221Z"
   },
   {
    "duration": 13,
    "start_time": "2021-07-24T10:40:45.675Z"
   },
   {
    "duration": 89,
    "start_time": "2021-07-24T10:40:51.058Z"
   },
   {
    "duration": 11,
    "start_time": "2021-07-24T10:41:07.412Z"
   },
   {
    "duration": 10,
    "start_time": "2021-07-24T10:41:52.532Z"
   },
   {
    "duration": 11,
    "start_time": "2021-07-24T10:42:01.724Z"
   },
   {
    "duration": 23,
    "start_time": "2021-07-24T10:56:48.500Z"
   },
   {
    "duration": 8,
    "start_time": "2021-07-24T10:57:22.029Z"
   },
   {
    "duration": 7,
    "start_time": "2021-07-24T10:57:51.566Z"
   },
   {
    "duration": 8,
    "start_time": "2021-07-24T10:58:42.982Z"
   },
   {
    "duration": 4,
    "start_time": "2021-07-24T10:58:47.729Z"
   },
   {
    "duration": 11,
    "start_time": "2021-07-24T10:58:49.266Z"
   },
   {
    "duration": 7,
    "start_time": "2021-07-24T10:59:02.288Z"
   },
   {
    "duration": 6,
    "start_time": "2021-07-24T10:59:10.451Z"
   },
   {
    "duration": 11,
    "start_time": "2021-07-24T10:59:31.569Z"
   },
   {
    "duration": 20,
    "start_time": "2021-07-24T11:00:42.852Z"
   },
   {
    "duration": 15,
    "start_time": "2021-07-24T11:04:32.251Z"
   },
   {
    "duration": 22,
    "start_time": "2021-07-24T11:05:51.015Z"
   },
   {
    "duration": 47,
    "start_time": "2021-07-24T11:05:59.485Z"
   },
   {
    "duration": 9,
    "start_time": "2021-07-24T11:06:06.045Z"
   },
   {
    "duration": 22,
    "start_time": "2021-07-24T11:06:33.494Z"
   },
   {
    "duration": 34,
    "start_time": "2021-07-24T11:07:41.551Z"
   },
   {
    "duration": 55,
    "start_time": "2021-07-24T11:08:35.643Z"
   },
   {
    "duration": 13,
    "start_time": "2021-07-24T11:08:52.416Z"
   },
   {
    "duration": 20,
    "start_time": "2021-07-24T11:09:06.483Z"
   },
   {
    "duration": 8,
    "start_time": "2021-07-24T11:09:36.883Z"
   },
   {
    "duration": 10,
    "start_time": "2021-07-24T11:09:39.370Z"
   },
   {
    "duration": 129,
    "start_time": "2021-07-24T11:11:39.152Z"
   },
   {
    "duration": 10,
    "start_time": "2021-07-24T11:15:39.197Z"
   },
   {
    "duration": 47071,
    "start_time": "2021-07-24T11:15:47.649Z"
   },
   {
    "duration": 14,
    "start_time": "2021-07-24T11:17:51.782Z"
   },
   {
    "duration": 276,
    "start_time": "2021-07-24T11:58:20.539Z"
   },
   {
    "duration": 263,
    "start_time": "2021-07-24T12:01:54.455Z"
   },
   {
    "duration": 280,
    "start_time": "2021-07-24T12:04:15.306Z"
   },
   {
    "duration": 253,
    "start_time": "2021-07-24T12:06:27.323Z"
   },
   {
    "duration": 270,
    "start_time": "2021-07-24T12:11:11.569Z"
   },
   {
    "duration": 274,
    "start_time": "2021-07-24T12:12:52.701Z"
   },
   {
    "duration": 272,
    "start_time": "2021-07-24T12:14:56.320Z"
   },
   {
    "duration": 291,
    "start_time": "2021-07-24T12:15:08.090Z"
   },
   {
    "duration": 56,
    "start_time": "2021-07-24T12:23:51.847Z"
   },
   {
    "duration": 258,
    "start_time": "2021-07-24T12:25:28.033Z"
   },
   {
    "duration": 6,
    "start_time": "2021-07-24T12:27:00.574Z"
   },
   {
    "duration": 295,
    "start_time": "2021-07-24T12:27:03.979Z"
   },
   {
    "duration": 22,
    "start_time": "2021-07-24T12:27:29.773Z"
   },
   {
    "duration": 17,
    "start_time": "2021-07-24T12:27:57.092Z"
   },
   {
    "duration": 66,
    "start_time": "2021-07-24T12:28:36.351Z"
   },
   {
    "duration": 256,
    "start_time": "2021-07-24T12:32:05.355Z"
   },
   {
    "duration": 19,
    "start_time": "2021-07-24T12:32:14.603Z"
   },
   {
    "duration": 17,
    "start_time": "2021-07-24T12:33:03.524Z"
   },
   {
    "duration": 297,
    "start_time": "2021-07-24T12:37:12.707Z"
   },
   {
    "duration": 15,
    "start_time": "2021-07-24T12:39:20.137Z"
   },
   {
    "duration": 20,
    "start_time": "2021-07-24T12:40:36.400Z"
   },
   {
    "duration": 18,
    "start_time": "2021-07-24T12:40:56.434Z"
   },
   {
    "duration": 19,
    "start_time": "2021-07-24T12:44:37.353Z"
   },
   {
    "duration": 24,
    "start_time": "2021-07-24T12:49:57.521Z"
   },
   {
    "duration": 28,
    "start_time": "2021-07-24T12:52:26.245Z"
   },
   {
    "duration": 13,
    "start_time": "2021-07-24T12:52:34.820Z"
   },
   {
    "duration": 1825,
    "start_time": "2021-07-24T12:53:11.844Z"
   },
   {
    "duration": 14,
    "start_time": "2021-07-24T13:08:11.341Z"
   },
   {
    "duration": 92,
    "start_time": "2021-07-24T13:09:28.664Z"
   },
   {
    "duration": 531,
    "start_time": "2021-07-24T15:23:30.215Z"
   },
   {
    "duration": 13,
    "start_time": "2021-07-24T15:24:04.727Z"
   },
   {
    "duration": 6,
    "start_time": "2021-07-24T15:26:50.860Z"
   },
   {
    "duration": 16,
    "start_time": "2021-07-24T15:34:23.819Z"
   },
   {
    "duration": 18,
    "start_time": "2021-07-24T15:34:39.344Z"
   },
   {
    "duration": 245,
    "start_time": "2021-07-24T15:37:03.934Z"
   },
   {
    "duration": 251,
    "start_time": "2021-07-24T15:37:27.021Z"
   },
   {
    "duration": 26,
    "start_time": "2021-07-24T15:38:33.287Z"
   },
   {
    "duration": 62,
    "start_time": "2021-07-24T15:39:00.001Z"
   },
   {
    "duration": 12,
    "start_time": "2021-07-24T15:43:46.825Z"
   },
   {
    "duration": 5,
    "start_time": "2021-07-24T15:44:01.927Z"
   },
   {
    "duration": 10,
    "start_time": "2021-07-24T15:44:04.618Z"
   },
   {
    "duration": 17,
    "start_time": "2021-07-24T15:44:09.871Z"
   },
   {
    "duration": 10,
    "start_time": "2021-07-24T15:44:24.912Z"
   },
   {
    "duration": 27,
    "start_time": "2021-07-24T15:45:03.673Z"
   },
   {
    "duration": 12,
    "start_time": "2021-07-24T15:53:39.017Z"
   },
   {
    "duration": 6,
    "start_time": "2021-07-24T15:53:46.550Z"
   },
   {
    "duration": 10,
    "start_time": "2021-07-24T15:53:50.006Z"
   },
   {
    "duration": 26,
    "start_time": "2021-07-24T15:53:58.951Z"
   },
   {
    "duration": 18,
    "start_time": "2021-07-24T15:55:32.521Z"
   },
   {
    "duration": 17,
    "start_time": "2021-07-24T15:57:29.920Z"
   },
   {
    "duration": 14,
    "start_time": "2021-07-24T15:57:51.087Z"
   },
   {
    "duration": 266,
    "start_time": "2021-07-24T16:02:50.328Z"
   },
   {
    "duration": 15,
    "start_time": "2021-07-24T16:03:09.686Z"
   },
   {
    "duration": 16,
    "start_time": "2021-07-24T16:03:41.480Z"
   },
   {
    "duration": 896,
    "start_time": "2021-07-24T16:03:58.348Z"
   },
   {
    "duration": 12,
    "start_time": "2021-07-24T16:03:59.246Z"
   },
   {
    "duration": 10,
    "start_time": "2021-07-24T16:03:59.262Z"
   },
   {
    "duration": 9,
    "start_time": "2021-07-24T16:03:59.275Z"
   },
   {
    "duration": 75,
    "start_time": "2021-07-24T16:03:59.287Z"
   },
   {
    "duration": 6,
    "start_time": "2021-07-24T16:03:59.364Z"
   },
   {
    "duration": 5,
    "start_time": "2021-07-24T16:03:59.372Z"
   },
   {
    "duration": 9,
    "start_time": "2021-07-24T16:03:59.381Z"
   },
   {
    "duration": 11,
    "start_time": "2021-07-24T16:03:59.394Z"
   },
   {
    "duration": 52,
    "start_time": "2021-07-24T16:03:59.408Z"
   },
   {
    "duration": 18,
    "start_time": "2021-07-24T16:03:59.463Z"
   },
   {
    "duration": 18,
    "start_time": "2021-07-24T16:03:59.483Z"
   },
   {
    "duration": 68,
    "start_time": "2021-07-24T16:03:59.504Z"
   },
   {
    "duration": 46,
    "start_time": "2021-07-24T16:03:59.574Z"
   },
   {
    "duration": 34,
    "start_time": "2021-07-24T16:03:59.623Z"
   },
   {
    "duration": 30,
    "start_time": "2021-07-24T16:03:59.659Z"
   },
   {
    "duration": 45,
    "start_time": "2021-07-24T16:03:59.691Z"
   },
   {
    "duration": 51,
    "start_time": "2021-07-24T16:03:59.738Z"
   },
   {
    "duration": 9,
    "start_time": "2021-07-24T16:03:59.792Z"
   },
   {
    "duration": 50,
    "start_time": "2021-07-24T16:03:59.804Z"
   },
   {
    "duration": 17,
    "start_time": "2021-07-24T16:03:59.858Z"
   },
   {
    "duration": 87,
    "start_time": "2021-07-24T16:05:49.996Z"
   },
   {
    "duration": 15,
    "start_time": "2021-07-24T16:06:01.442Z"
   },
   {
    "duration": 10,
    "start_time": "2021-07-24T16:06:05.458Z"
   },
   {
    "duration": 9,
    "start_time": "2021-07-24T16:06:07.194Z"
   },
   {
    "duration": 22,
    "start_time": "2021-07-24T16:06:09.965Z"
   },
   {
    "duration": 6,
    "start_time": "2021-07-24T16:06:12.739Z"
   },
   {
    "duration": 5,
    "start_time": "2021-07-24T16:06:14.370Z"
   },
   {
    "duration": 9,
    "start_time": "2021-07-24T16:06:17.746Z"
   },
   {
    "duration": 7,
    "start_time": "2021-07-24T16:06:46.178Z"
   },
   {
    "duration": 6,
    "start_time": "2021-07-24T16:06:48.044Z"
   },
   {
    "duration": 13,
    "start_time": "2021-07-24T16:06:50.195Z"
   },
   {
    "duration": 17,
    "start_time": "2021-07-24T16:07:05.956Z"
   },
   {
    "duration": 22,
    "start_time": "2021-07-24T16:07:11.868Z"
   },
   {
    "duration": 43,
    "start_time": "2021-07-24T16:07:12.835Z"
   },
   {
    "duration": 8,
    "start_time": "2021-07-24T16:07:14.214Z"
   },
   {
    "duration": 23,
    "start_time": "2021-07-24T16:07:16.851Z"
   },
   {
    "duration": 28,
    "start_time": "2021-07-24T16:07:17.676Z"
   },
   {
    "duration": 44,
    "start_time": "2021-07-24T16:07:19.660Z"
   },
   {
    "duration": 9,
    "start_time": "2021-07-24T16:07:20.740Z"
   },
   {
    "duration": 9,
    "start_time": "2021-07-24T16:07:22.127Z"
   },
   {
    "duration": 9,
    "start_time": "2021-07-24T16:07:33.792Z"
   },
   {
    "duration": 41782,
    "start_time": "2021-07-24T16:07:36.700Z"
   },
   {
    "duration": 11,
    "start_time": "2021-07-24T16:08:29.542Z"
   },
   {
    "duration": 13,
    "start_time": "2021-07-24T16:08:40.070Z"
   },
   {
    "duration": 6,
    "start_time": "2021-07-24T16:08:42.605Z"
   },
   {
    "duration": 12,
    "start_time": "2021-07-24T16:08:44.581Z"
   },
   {
    "duration": 39,
    "start_time": "2021-07-24T16:08:54.510Z"
   },
   {
    "duration": 30,
    "start_time": "2021-07-24T16:09:03.735Z"
   },
   {
    "duration": 32,
    "start_time": "2021-07-24T16:09:34.033Z"
   },
   {
    "duration": 3313,
    "start_time": "2021-07-24T16:11:55.819Z"
   },
   {
    "duration": 28,
    "start_time": "2021-07-24T16:12:50.253Z"
   },
   {
    "duration": 3328,
    "start_time": "2021-07-24T16:13:03.349Z"
   },
   {
    "duration": 6278,
    "start_time": "2021-07-24T16:13:24.424Z"
   },
   {
    "duration": 25,
    "start_time": "2021-07-24T16:15:25.459Z"
   },
   {
    "duration": 14,
    "start_time": "2021-07-24T16:20:01.744Z"
   },
   {
    "duration": 14,
    "start_time": "2021-07-24T16:20:22.388Z"
   },
   {
    "duration": 14,
    "start_time": "2021-07-24T16:20:30.171Z"
   },
   {
    "duration": 16,
    "start_time": "2021-07-24T16:24:00.682Z"
   },
   {
    "duration": 29,
    "start_time": "2021-07-24T16:24:29.479Z"
   },
   {
    "duration": 17,
    "start_time": "2021-07-24T16:24:32.383Z"
   },
   {
    "duration": 15,
    "start_time": "2021-07-24T16:25:07.376Z"
   },
   {
    "duration": 27,
    "start_time": "2021-07-24T16:25:21.340Z"
   },
   {
    "duration": 15,
    "start_time": "2021-07-24T16:25:28.123Z"
   },
   {
    "duration": 14,
    "start_time": "2021-07-24T16:25:37.609Z"
   },
   {
    "duration": 12,
    "start_time": "2021-07-24T16:27:04.604Z"
   },
   {
    "duration": 248,
    "start_time": "2021-07-24T16:28:01.376Z"
   },
   {
    "duration": 15,
    "start_time": "2021-07-24T16:28:09.302Z"
   },
   {
    "duration": 12,
    "start_time": "2021-07-24T16:30:17.201Z"
   },
   {
    "duration": 15,
    "start_time": "2021-07-24T16:32:30.942Z"
   },
   {
    "duration": 14,
    "start_time": "2021-07-24T16:33:13.861Z"
   },
   {
    "duration": 16,
    "start_time": "2021-07-24T16:34:25.690Z"
   },
   {
    "duration": 13,
    "start_time": "2021-07-24T16:38:36.369Z"
   },
   {
    "duration": 20,
    "start_time": "2021-07-24T16:40:24.252Z"
   },
   {
    "duration": 15,
    "start_time": "2021-07-24T16:44:50.855Z"
   },
   {
    "duration": 6,
    "start_time": "2021-07-24T16:53:51.372Z"
   },
   {
    "duration": 20,
    "start_time": "2021-07-24T16:53:53.101Z"
   },
   {
    "duration": 19,
    "start_time": "2021-07-24T16:54:18.470Z"
   },
   {
    "duration": 16,
    "start_time": "2021-07-24T16:55:03.674Z"
   },
   {
    "duration": 12,
    "start_time": "2021-07-24T16:55:11.104Z"
   },
   {
    "duration": 5,
    "start_time": "2021-07-24T16:55:14.280Z"
   },
   {
    "duration": 21,
    "start_time": "2021-07-24T16:55:15.816Z"
   },
   {
    "duration": 7,
    "start_time": "2021-07-24T16:55:34.888Z"
   },
   {
    "duration": 20,
    "start_time": "2021-07-24T16:55:39.569Z"
   },
   {
    "duration": 11,
    "start_time": "2021-07-24T16:55:45.745Z"
   },
   {
    "duration": 12,
    "start_time": "2021-07-24T16:55:51.700Z"
   },
   {
    "duration": 7,
    "start_time": "2021-07-24T16:55:53.275Z"
   },
   {
    "duration": 14,
    "start_time": "2021-07-24T16:55:53.865Z"
   },
   {
    "duration": 27,
    "start_time": "2021-07-24T16:57:39.676Z"
   },
   {
    "duration": 13,
    "start_time": "2021-07-24T17:01:54.649Z"
   },
   {
    "duration": 13,
    "start_time": "2021-07-24T17:04:52.479Z"
   },
   {
    "duration": 8,
    "start_time": "2021-07-24T17:08:08.292Z"
   },
   {
    "duration": 9,
    "start_time": "2021-07-24T17:08:37.878Z"
   },
   {
    "duration": 32,
    "start_time": "2021-07-24T17:09:49.599Z"
   },
   {
    "duration": 237,
    "start_time": "2021-07-24T17:12:36.794Z"
   },
   {
    "duration": 11,
    "start_time": "2021-07-24T17:12:41.827Z"
   },
   {
    "duration": 22,
    "start_time": "2021-07-24T17:12:42.962Z"
   },
   {
    "duration": 13,
    "start_time": "2021-07-24T17:13:11.470Z"
   },
   {
    "duration": 27,
    "start_time": "2021-07-24T17:14:56.151Z"
   },
   {
    "duration": 26,
    "start_time": "2021-07-24T17:15:28.348Z"
   },
   {
    "duration": 13,
    "start_time": "2021-07-24T17:16:21.958Z"
   },
   {
    "duration": 263,
    "start_time": "2021-07-24T17:19:50.222Z"
   },
   {
    "duration": 5,
    "start_time": "2021-07-24T17:19:56.710Z"
   },
   {
    "duration": 19,
    "start_time": "2021-07-24T17:19:57.773Z"
   },
   {
    "duration": 11,
    "start_time": "2021-07-24T17:20:10.518Z"
   },
   {
    "duration": 26,
    "start_time": "2021-07-24T17:21:37.665Z"
   },
   {
    "duration": 12,
    "start_time": "2021-07-24T17:22:58.638Z"
   },
   {
    "duration": 17,
    "start_time": "2021-07-24T17:24:41.442Z"
   },
   {
    "duration": 12,
    "start_time": "2021-07-24T17:24:48.818Z"
   },
   {
    "duration": 12,
    "start_time": "2021-07-24T17:25:46.770Z"
   },
   {
    "duration": 14,
    "start_time": "2021-07-24T17:27:50.603Z"
   },
   {
    "duration": 90,
    "start_time": "2021-07-24T17:36:13.819Z"
   },
   {
    "duration": 11,
    "start_time": "2021-07-24T17:36:57.634Z"
   },
   {
    "duration": 10,
    "start_time": "2021-07-24T17:36:59.707Z"
   },
   {
    "duration": 9,
    "start_time": "2021-07-24T17:37:00.521Z"
   },
   {
    "duration": 22,
    "start_time": "2021-07-24T17:37:02.282Z"
   },
   {
    "duration": 5,
    "start_time": "2021-07-24T17:37:04.177Z"
   },
   {
    "duration": 4,
    "start_time": "2021-07-24T17:37:04.898Z"
   },
   {
    "duration": 8,
    "start_time": "2021-07-24T17:37:06.282Z"
   },
   {
    "duration": 7,
    "start_time": "2021-07-24T17:37:07.953Z"
   },
   {
    "duration": 5,
    "start_time": "2021-07-24T17:37:10.311Z"
   },
   {
    "duration": 11,
    "start_time": "2021-07-24T17:37:13.738Z"
   },
   {
    "duration": 18,
    "start_time": "2021-07-24T17:38:12.460Z"
   },
   {
    "duration": 21,
    "start_time": "2021-07-24T17:38:19.988Z"
   },
   {
    "duration": 43,
    "start_time": "2021-07-24T17:38:20.626Z"
   },
   {
    "duration": 9,
    "start_time": "2021-07-24T17:38:22.072Z"
   },
   {
    "duration": 25,
    "start_time": "2021-07-24T17:38:23.319Z"
   },
   {
    "duration": 25,
    "start_time": "2021-07-24T17:38:24.673Z"
   },
   {
    "duration": 43,
    "start_time": "2021-07-24T17:38:28.059Z"
   },
   {
    "duration": 9,
    "start_time": "2021-07-24T17:38:29.516Z"
   },
   {
    "duration": 9,
    "start_time": "2021-07-24T17:38:33.806Z"
   },
   {
    "duration": 12,
    "start_time": "2021-07-24T17:39:25.934Z"
   },
   {
    "duration": 42372,
    "start_time": "2021-07-24T17:39:29.967Z"
   },
   {
    "duration": 13,
    "start_time": "2021-07-24T17:40:15.869Z"
   },
   {
    "duration": 14,
    "start_time": "2021-07-24T17:40:28.838Z"
   },
   {
    "duration": 5,
    "start_time": "2021-07-24T17:40:31.336Z"
   },
   {
    "duration": 11,
    "start_time": "2021-07-24T17:40:32.535Z"
   },
   {
    "duration": 6,
    "start_time": "2021-07-24T17:40:41.904Z"
   },
   {
    "duration": 11,
    "start_time": "2021-07-24T17:40:44.207Z"
   },
   {
    "duration": 7,
    "start_time": "2021-07-24T17:40:47.024Z"
   },
   {
    "duration": 9,
    "start_time": "2021-07-24T17:40:48.361Z"
   },
   {
    "duration": 16,
    "start_time": "2021-07-24T17:41:00.560Z"
   },
   {
    "duration": 10,
    "start_time": "2021-07-24T17:41:07.528Z"
   },
   {
    "duration": 11,
    "start_time": "2021-07-24T17:41:09.514Z"
   },
   {
    "duration": 6,
    "start_time": "2021-07-24T17:41:12.939Z"
   },
   {
    "duration": 11,
    "start_time": "2021-07-24T17:41:17.544Z"
   },
   {
    "duration": 7,
    "start_time": "2021-07-24T17:45:37.400Z"
   },
   {
    "duration": 7,
    "start_time": "2021-07-24T17:45:57.079Z"
   },
   {
    "duration": 12,
    "start_time": "2021-07-24T17:48:38.700Z"
   },
   {
    "duration": 5,
    "start_time": "2021-07-24T17:49:21.421Z"
   },
   {
    "duration": 11,
    "start_time": "2021-07-24T17:49:22.213Z"
   },
   {
    "duration": 6,
    "start_time": "2021-07-24T17:49:22.768Z"
   },
   {
    "duration": 11,
    "start_time": "2021-07-24T17:49:23.333Z"
   },
   {
    "duration": 8,
    "start_time": "2021-07-24T17:49:23.933Z"
   },
   {
    "duration": 9,
    "start_time": "2021-07-24T17:49:26.166Z"
   },
   {
    "duration": 16,
    "start_time": "2021-07-24T17:49:26.782Z"
   },
   {
    "duration": 6,
    "start_time": "2021-07-24T17:49:27.261Z"
   },
   {
    "duration": 11,
    "start_time": "2021-07-24T17:49:27.780Z"
   },
   {
    "duration": 6,
    "start_time": "2021-07-24T17:49:28.356Z"
   },
   {
    "duration": 11,
    "start_time": "2021-07-24T17:49:29.118Z"
   },
   {
    "duration": 27,
    "start_time": "2021-07-24T17:51:20.466Z"
   },
   {
    "duration": 4,
    "start_time": "2021-07-24T17:51:22.658Z"
   },
   {
    "duration": 15,
    "start_time": "2021-07-24T17:51:24.938Z"
   },
   {
    "duration": 14,
    "start_time": "2021-07-24T17:51:28.018Z"
   },
   {
    "duration": 26,
    "start_time": "2021-07-24T17:51:46.649Z"
   },
   {
    "duration": 14,
    "start_time": "2021-07-24T17:51:47.889Z"
   },
   {
    "duration": 14,
    "start_time": "2021-07-24T17:51:50.203Z"
   },
   {
    "duration": 25,
    "start_time": "2021-07-24T17:52:07.108Z"
   },
   {
    "duration": 14,
    "start_time": "2021-07-24T17:52:12.539Z"
   },
   {
    "duration": 13,
    "start_time": "2021-07-24T17:52:14.898Z"
   },
   {
    "duration": 26,
    "start_time": "2021-07-24T17:52:27.200Z"
   },
   {
    "duration": 13,
    "start_time": "2021-07-24T17:52:37.482Z"
   },
   {
    "duration": 14,
    "start_time": "2021-07-24T17:52:40.018Z"
   },
   {
    "duration": 90,
    "start_time": "2021-07-24T17:54:32.262Z"
   }
  ],
  "kernelspec": {
   "display_name": "Python 3",
   "language": "python",
   "name": "python3"
  },
  "language_info": {
   "codemirror_mode": {
    "name": "ipython",
    "version": 3
   },
   "file_extension": ".py",
   "mimetype": "text/x-python",
   "name": "python",
   "nbconvert_exporter": "python",
   "pygments_lexer": "ipython3",
   "version": "3.8.8"
  },
  "toc": {
   "base_numbering": 1,
   "nav_menu": {},
   "number_sections": true,
   "sideBar": true,
   "skip_h1_title": true,
   "title_cell": "Table of Contents",
   "title_sidebar": "Contents",
   "toc_cell": false,
   "toc_position": {},
   "toc_section_display": true,
   "toc_window_display": false
  }
 },
 "nbformat": 4,
 "nbformat_minor": 2
}
