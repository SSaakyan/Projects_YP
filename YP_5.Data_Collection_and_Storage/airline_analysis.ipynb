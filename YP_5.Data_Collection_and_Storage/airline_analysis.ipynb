{
 "cells": [
  {
   "cell_type": "markdown",
   "metadata": {},
   "source": [
    "<font size = 4> **Описание данных** </font>"
   ]
  },
  {
   "cell_type": "markdown",
   "metadata": {},
   "source": [
    "**Table_1:**\n",
    "\n",
    "- *model* — модель самолета\n",
    "- *flights_amount* — количество рейсов для каждой модели самолетов model в сентябре 2018 года\n",
    "\n",
    "**Table_2:**\n",
    "\n",
    "- *city* — город\n",
    "- *average_flights* — среднее количество рейсов, прибывающих в город city за день в августе 2018 года"
   ]
  },
  {
   "cell_type": "markdown",
   "metadata": {},
   "source": [
    "<font size = 4> **План работы** </font>"
   ]
  },
  {
   "cell_type": "markdown",
   "metadata": {},
   "source": [
    "1. Импорт данных и изучение общей информации, проверка типов данных на корректность\n",
    "2. Определение топ-10 городов по количеству рейсов\n",
    "3. Построение графиков:\n",
    "    * количества рейсов в зависимости от города прибытия\n",
    "    * количества рейсов в зависимости от модели самолета\n",
    "4. Выводы"
   ]
  },
  {
   "cell_type": "markdown",
   "metadata": {},
   "source": [
    "## Изучение данных из файлов"
   ]
  },
  {
   "cell_type": "markdown",
   "metadata": {},
   "source": [
    "### Импорт библиотек"
   ]
  },
  {
   "cell_type": "code",
   "execution_count": 1,
   "metadata": {},
   "outputs": [],
   "source": [
    "import pandas as pd\n",
    "import matplotlib.pyplot as plt \n",
    "import seaborn as sns\n",
    "from IPython.display import display"
   ]
  },
  {
   "cell_type": "markdown",
   "metadata": {},
   "source": [
    "### Открытие файлов и изучение общей информации о данных"
   ]
  },
  {
   "cell_type": "markdown",
   "metadata": {},
   "source": [
    "#### Table_1"
   ]
  },
  {
   "cell_type": "code",
   "execution_count": 2,
   "metadata": {},
   "outputs": [],
   "source": [
    "table_1 = pd.read_csv('/datasets/query_1.csv') #открываем файл с данными по первой таблице"
   ]
  },
  {
   "cell_type": "code",
   "execution_count": 3,
   "metadata": {},
   "outputs": [
    {
     "data": {
      "text/html": [
       "<div>\n",
       "<style scoped>\n",
       "    .dataframe tbody tr th:only-of-type {\n",
       "        vertical-align: middle;\n",
       "    }\n",
       "\n",
       "    .dataframe tbody tr th {\n",
       "        vertical-align: top;\n",
       "    }\n",
       "\n",
       "    .dataframe thead th {\n",
       "        text-align: right;\n",
       "    }\n",
       "</style>\n",
       "<table border=\"1\" class=\"dataframe\">\n",
       "  <thead>\n",
       "    <tr style=\"text-align: right;\">\n",
       "      <th></th>\n",
       "      <th>model</th>\n",
       "      <th>flights_amount</th>\n",
       "    </tr>\n",
       "  </thead>\n",
       "  <tbody>\n",
       "    <tr>\n",
       "      <td>0</td>\n",
       "      <td>Airbus A319-100</td>\n",
       "      <td>607</td>\n",
       "    </tr>\n",
       "    <tr>\n",
       "      <td>1</td>\n",
       "      <td>Airbus A321-200</td>\n",
       "      <td>960</td>\n",
       "    </tr>\n",
       "    <tr>\n",
       "      <td>2</td>\n",
       "      <td>Boeing 737-300</td>\n",
       "      <td>630</td>\n",
       "    </tr>\n",
       "    <tr>\n",
       "      <td>3</td>\n",
       "      <td>Boeing 767-300</td>\n",
       "      <td>600</td>\n",
       "    </tr>\n",
       "    <tr>\n",
       "      <td>4</td>\n",
       "      <td>Boeing 777-300</td>\n",
       "      <td>300</td>\n",
       "    </tr>\n",
       "    <tr>\n",
       "      <td>5</td>\n",
       "      <td>Bombardier CRJ-200</td>\n",
       "      <td>4446</td>\n",
       "    </tr>\n",
       "    <tr>\n",
       "      <td>6</td>\n",
       "      <td>Cessna 208 Caravan</td>\n",
       "      <td>4557</td>\n",
       "    </tr>\n",
       "    <tr>\n",
       "      <td>7</td>\n",
       "      <td>Sukhoi SuperJet-100</td>\n",
       "      <td>4185</td>\n",
       "    </tr>\n",
       "  </tbody>\n",
       "</table>\n",
       "</div>"
      ],
      "text/plain": [
       "                 model  flights_amount\n",
       "0      Airbus A319-100             607\n",
       "1      Airbus A321-200             960\n",
       "2       Boeing 737-300             630\n",
       "3       Boeing 767-300             600\n",
       "4       Boeing 777-300             300\n",
       "5   Bombardier CRJ-200            4446\n",
       "6   Cessna 208 Caravan            4557\n",
       "7  Sukhoi SuperJet-100            4185"
      ]
     },
     "metadata": {},
     "output_type": "display_data"
    }
   ],
   "source": [
    "display(table_1) #посмотрим на данные"
   ]
  },
  {
   "cell_type": "code",
   "execution_count": 4,
   "metadata": {},
   "outputs": [
    {
     "name": "stdout",
     "output_type": "stream",
     "text": [
      "<class 'pandas.core.frame.DataFrame'>\n",
      "RangeIndex: 8 entries, 0 to 7\n",
      "Data columns (total 2 columns):\n",
      "model             8 non-null object\n",
      "flights_amount    8 non-null int64\n",
      "dtypes: int64(1), object(1)\n",
      "memory usage: 256.0+ bytes\n"
     ]
    }
   ],
   "source": [
    "table_1.info() #посмотрим на общую информацию"
   ]
  },
  {
   "cell_type": "markdown",
   "metadata": {},
   "source": [
    "**Вывод:** \n",
    "\n",
    "таблица состоит из 8 строк и 2 столбцов, пропущенных значений нет, типы данных указаны корректно."
   ]
  },
  {
   "cell_type": "markdown",
   "metadata": {},
   "source": [
    "#### Table_2"
   ]
  },
  {
   "cell_type": "code",
   "execution_count": 5,
   "metadata": {},
   "outputs": [],
   "source": [
    "table_2 = pd.read_csv('/datasets/query_3.csv') #открываем файл с данными по второй таблице"
   ]
  },
  {
   "cell_type": "code",
   "execution_count": 6,
   "metadata": {},
   "outputs": [
    {
     "data": {
      "text/html": [
       "<div>\n",
       "<style scoped>\n",
       "    .dataframe tbody tr th:only-of-type {\n",
       "        vertical-align: middle;\n",
       "    }\n",
       "\n",
       "    .dataframe tbody tr th {\n",
       "        vertical-align: top;\n",
       "    }\n",
       "\n",
       "    .dataframe thead th {\n",
       "        text-align: right;\n",
       "    }\n",
       "</style>\n",
       "<table border=\"1\" class=\"dataframe\">\n",
       "  <thead>\n",
       "    <tr style=\"text-align: right;\">\n",
       "      <th></th>\n",
       "      <th>city</th>\n",
       "      <th>average_flights</th>\n",
       "    </tr>\n",
       "  </thead>\n",
       "  <tbody>\n",
       "    <tr>\n",
       "      <td>94</td>\n",
       "      <td>Челябинск</td>\n",
       "      <td>6.709677</td>\n",
       "    </tr>\n",
       "    <tr>\n",
       "      <td>78</td>\n",
       "      <td>Сыктывкар</td>\n",
       "      <td>4.129032</td>\n",
       "    </tr>\n",
       "    <tr>\n",
       "      <td>17</td>\n",
       "      <td>Геленджик</td>\n",
       "      <td>2.590909</td>\n",
       "    </tr>\n",
       "    <tr>\n",
       "      <td>100</td>\n",
       "      <td>Ярославль</td>\n",
       "      <td>1.322581</td>\n",
       "    </tr>\n",
       "    <tr>\n",
       "      <td>36</td>\n",
       "      <td>Кызыл</td>\n",
       "      <td>1.277778</td>\n",
       "    </tr>\n",
       "    <tr>\n",
       "      <td>85</td>\n",
       "      <td>Урай</td>\n",
       "      <td>2.000000</td>\n",
       "    </tr>\n",
       "    <tr>\n",
       "      <td>55</td>\n",
       "      <td>Новый Уренгой</td>\n",
       "      <td>8.290323</td>\n",
       "    </tr>\n",
       "    <tr>\n",
       "      <td>83</td>\n",
       "      <td>Улан-Удэ</td>\n",
       "      <td>1.608696</td>\n",
       "    </tr>\n",
       "    <tr>\n",
       "      <td>82</td>\n",
       "      <td>Удачный</td>\n",
       "      <td>3.000000</td>\n",
       "    </tr>\n",
       "    <tr>\n",
       "      <td>52</td>\n",
       "      <td>Нижний Новгород</td>\n",
       "      <td>5.870968</td>\n",
       "    </tr>\n",
       "  </tbody>\n",
       "</table>\n",
       "</div>"
      ],
      "text/plain": [
       "                city  average_flights\n",
       "94         Челябинск         6.709677\n",
       "78         Сыктывкар         4.129032\n",
       "17         Геленджик         2.590909\n",
       "100        Ярославль         1.322581\n",
       "36             Кызыл         1.277778\n",
       "85              Урай         2.000000\n",
       "55     Новый Уренгой         8.290323\n",
       "83          Улан-Удэ         1.608696\n",
       "82           Удачный         3.000000\n",
       "52   Нижний Новгород         5.870968"
      ]
     },
     "metadata": {},
     "output_type": "display_data"
    }
   ],
   "source": [
    "display(table_2.sample(10,random_state=1)) #посмотрим на данные"
   ]
  },
  {
   "cell_type": "code",
   "execution_count": 7,
   "metadata": {},
   "outputs": [
    {
     "name": "stdout",
     "output_type": "stream",
     "text": [
      "<class 'pandas.core.frame.DataFrame'>\n",
      "RangeIndex: 101 entries, 0 to 100\n",
      "Data columns (total 2 columns):\n",
      "city               101 non-null object\n",
      "average_flights    101 non-null float64\n",
      "dtypes: float64(1), object(1)\n",
      "memory usage: 1.7+ KB\n"
     ]
    }
   ],
   "source": [
    "table_2.info() #посмотрим на общую информацию"
   ]
  },
  {
   "cell_type": "code",
   "execution_count": 8,
   "metadata": {},
   "outputs": [],
   "source": [
    "#table_2['average_flights'] = table_2['average_flights'].astype('int')"
   ]
  },
  {
   "cell_type": "markdown",
   "metadata": {},
   "source": [
    "**Вывод:** таблица состоит из 101 строки и 2 столбцов, пропущенных значений нет."
   ]
  },
  {
   "cell_type": "markdown",
   "metadata": {},
   "source": [
    "## Определение топ-10 городов по количеству рейсов"
   ]
  },
  {
   "cell_type": "markdown",
   "metadata": {},
   "source": [
    "Посмотрим на 10 городов - лидеров по числу рейсов"
   ]
  },
  {
   "cell_type": "code",
   "execution_count": 9,
   "metadata": {},
   "outputs": [],
   "source": [
    "table_2_leaders = table_2.sort_values(by='average_flights', ascending=False).head(10)"
   ]
  },
  {
   "cell_type": "code",
   "execution_count": 10,
   "metadata": {},
   "outputs": [
    {
     "data": {
      "text/html": [
       "<div>\n",
       "<style scoped>\n",
       "    .dataframe tbody tr th:only-of-type {\n",
       "        vertical-align: middle;\n",
       "    }\n",
       "\n",
       "    .dataframe tbody tr th {\n",
       "        vertical-align: top;\n",
       "    }\n",
       "\n",
       "    .dataframe thead th {\n",
       "        text-align: right;\n",
       "    }\n",
       "</style>\n",
       "<table border=\"1\" class=\"dataframe\">\n",
       "  <thead>\n",
       "    <tr style=\"text-align: right;\">\n",
       "      <th></th>\n",
       "      <th>city</th>\n",
       "      <th>average_flights</th>\n",
       "    </tr>\n",
       "  </thead>\n",
       "  <tbody>\n",
       "    <tr>\n",
       "      <td>43</td>\n",
       "      <td>Москва</td>\n",
       "      <td>129</td>\n",
       "    </tr>\n",
       "    <tr>\n",
       "      <td>70</td>\n",
       "      <td>Санкт-Петербург</td>\n",
       "      <td>31</td>\n",
       "    </tr>\n",
       "    <tr>\n",
       "      <td>54</td>\n",
       "      <td>Новосибирск</td>\n",
       "      <td>17</td>\n",
       "    </tr>\n",
       "    <tr>\n",
       "      <td>20</td>\n",
       "      <td>Екатеринбург</td>\n",
       "      <td>11</td>\n",
       "    </tr>\n",
       "    <tr>\n",
       "      <td>33</td>\n",
       "      <td>Красноярск</td>\n",
       "      <td>11</td>\n",
       "    </tr>\n",
       "    <tr>\n",
       "      <td>63</td>\n",
       "      <td>Пермь</td>\n",
       "      <td>10</td>\n",
       "    </tr>\n",
       "    <tr>\n",
       "      <td>67</td>\n",
       "      <td>Ростов-на-Дону</td>\n",
       "      <td>10</td>\n",
       "    </tr>\n",
       "    <tr>\n",
       "      <td>10</td>\n",
       "      <td>Брянск</td>\n",
       "      <td>10</td>\n",
       "    </tr>\n",
       "    <tr>\n",
       "      <td>84</td>\n",
       "      <td>Ульяновск</td>\n",
       "      <td>9</td>\n",
       "    </tr>\n",
       "    <tr>\n",
       "      <td>73</td>\n",
       "      <td>Советский</td>\n",
       "      <td>9</td>\n",
       "    </tr>\n",
       "  </tbody>\n",
       "</table>\n",
       "</div>"
      ],
      "text/plain": [
       "               city  average_flights\n",
       "43           Москва              129\n",
       "70  Санкт-Петербург               31\n",
       "54      Новосибирск               17\n",
       "20     Екатеринбург               11\n",
       "33       Красноярск               11\n",
       "63            Пермь               10\n",
       "67   Ростов-на-Дону               10\n",
       "10           Брянск               10\n",
       "84        Ульяновск                9\n",
       "73        Советский                9"
      ]
     },
     "metadata": {},
     "output_type": "display_data"
    }
   ],
   "source": [
    "display(table_2_leaders)"
   ]
  },
  {
   "cell_type": "code",
   "execution_count": 11,
   "metadata": {
    "scrolled": false
   },
   "outputs": [
    {
     "data": {
      "text/plain": [
       "Text(0, 0.5, 'Среднее количество рейсов в день')"
      ]
     },
     "execution_count": 11,
     "metadata": {},
     "output_type": "execute_result"
    },
    {
     "data": {
      "image/png": "[encoded data removed]",
      "text/plain": [
       "<Figure size 1008x432 with 1 Axes>"
      ]
     },
     "metadata": {
      "needs_background": "light"
     },
     "output_type": "display_data"
    }
   ],
   "source": [
    "plt.figure(figsize=(14,6))\n",
    "plt.title(\"Топ-10 городов по количеству рейсов в день в августе 2018г.\",size=18)\n",
    "sns.barplot(x=table_2_leaders['city'], y=table_2_leaders['average_flights'])\n",
    "plt.xlabel(\"Город\",size=14)\n",
    "plt.ylabel(\"Среднее количество рейсов в день\",size=14)"
   ]
  },
  {
   "cell_type": "markdown",
   "metadata": {},
   "source": [
    "**Вывод:** \n",
    "    \n",
    "абсолютный лидер - Москва, не зря же столица, на втором месте - Санкт-Петербург - культурная столица. Удивительно, но в лидеры попал небольшой город Советский. "
   ]
  },
  {
   "cell_type": "markdown",
   "metadata": {},
   "source": [
    "При наличии большей выборки данные по г. Советский лучше перепроверить."
   ]
  },
  {
   "cell_type": "markdown",
   "metadata": {},
   "source": [
    "## Количество рейсов в зависимости от города прибытия"
   ]
  },
  {
   "cell_type": "markdown",
   "metadata": {},
   "source": [
    "Посмотрим как распределяется среднее количество рейсов в каждый город"
   ]
  },
  {
   "cell_type": "code",
   "execution_count": 12,
   "metadata": {},
   "outputs": [],
   "source": [
    "table_2_all = table_2.sort_values(by='average_flights', ascending=False)"
   ]
  },
  {
   "cell_type": "code",
   "execution_count": 13,
   "metadata": {},
   "outputs": [
    {
     "data": {
      "text/plain": [
       "Text(0, 0.5, 'Город')"
      ]
     },
     "execution_count": 13,
     "metadata": {},
     "output_type": "execute_result"
    },
    {
     "data": {
      "image/png": "[encoded data removed]",
      "text/plain": [
       "<Figure size 1008x1728 with 1 Axes>"
      ]
     },
     "metadata": {
      "needs_background": "light"
     },
     "output_type": "display_data"
    }
   ],
   "source": [
    "plt.figure(figsize=(14,24))\n",
    "plt.title(\"Среднее количество рейсов в день в зависимости от города прибытия в августе 2018г.\",size=18)\n",
    "sns.barplot(x=table_2_all['average_flights'], y=table_2_all['city'])\n",
    "plt.xlabel(\"Среднее количество рейсов в день\",size=14)\n",
    "plt.ylabel(\"Город\",size=14)"
   ]
  },
  {
   "cell_type": "markdown",
   "metadata": {},
   "source": [
    "**Вывод:**\n",
    "    \n",
    "Учитывая протяженность нашей страны, рейсы есть во многие города, но частота полетов конечно разная, Москва и Санкт-Петербург как столица и культурная столица - в бесспорных лидерах, далее распределение частоты идет в зависимости от бизнес-среды города, благосостояния населения, т.к. авиаперелеты не из дешевых, а также возможности международных перелетов. Также не будем забывать тот факт, что август - горячая пора для отпусков и возвращения детей с каникул, поэтому количество полетов может быть значительно больше, чем в другие месяцы, особенно в южные города. "
   ]
  },
  {
   "cell_type": "markdown",
   "metadata": {},
   "source": [
    "## Количество рейсов в зависимости от модели самолета"
   ]
  },
  {
   "cell_type": "code",
   "execution_count": 14,
   "metadata": {},
   "outputs": [],
   "source": [
    "table_1 = table_1.sort_values(by='flights_amount', ascending=False)"
   ]
  },
  {
   "cell_type": "code",
   "execution_count": 15,
   "metadata": {},
   "outputs": [
    {
     "data": {
      "text/plain": [
       "Text(0, 0.5, 'Количество рейсов')"
      ]
     },
     "execution_count": 15,
     "metadata": {},
     "output_type": "execute_result"
    },
    {
     "data": {
      "image/png": "[encoded data removed]",
      "text/plain": [
       "<Figure size 1152x432 with 1 Axes>"
      ]
     },
     "metadata": {
      "needs_background": "light"
     },
     "output_type": "display_data"
    }
   ],
   "source": [
    "plt.figure(figsize=(16,6))\n",
    "plt.title(\"Количество рейсов в зависимости от модели самолета в сентябре 2018г.\",size=18)\n",
    "sns.barplot(x=table_1['model'], y=table_1['flights_amount'])\n",
    "plt.xlabel(\"Модель самолёта\",size=14)\n",
    "plt.ylabel(\"Количество рейсов\",size=14)"
   ]
  },
  {
   "cell_type": "markdown",
   "metadata": {},
   "source": [
    "**Вывод:**\n",
    "\n",
    "В РФ чаще всего используются самолеты малой вместимости. Самолеты с большой вместимостью используются реже всего."
   ]
  },
  {
   "cell_type": "markdown",
   "metadata": {},
   "source": [
    "## Выводы:"
   ]
  },
  {
   "cell_type": "markdown",
   "metadata": {},
   "source": [
    "1. Учитывая протяженность страны, рейсы есть во многие города, но частота полетов, конечно, разная, Москва и Санкт-Петербург как столица и культурная столица - в бесспорных лидерах, далее распределение частоты идет в зависимости от бизнес-среды города, благосостояния населения, т.к. авиаперелеты не из дешевых, а также возможности международных перелетов. Также не будем забывать тот факт, что август - горячая пора для отпусков и возвращения детей с каникул, поэтому количество полетов может быть значительно больше, чем в другие месяцы, особенно в южные города. \n",
    "2. В РФ чаще всего используют самолеты малой вместимости.  "
   ]
  }
 ],
 "metadata": {
  "ExecuteTimeLog": [
   {
    "duration": 1869,
    "start_time": "2021-09-18T18:55:39.139Z"
   },
   {
    "duration": 5,
    "start_time": "2021-09-18T18:56:08.714Z"
   },
   {
    "duration": 20,
    "start_time": "2021-09-18T18:57:54.834Z"
   },
   {
    "duration": 16,
    "start_time": "2021-09-18T18:58:24.585Z"
   },
   {
    "duration": 1089,
    "start_time": "2021-09-18T18:59:10.833Z"
   },
   {
    "duration": 20,
    "start_time": "2021-09-18T18:59:28.482Z"
   },
   {
    "duration": 11,
    "start_time": "2021-09-18T19:00:08.939Z"
   },
   {
    "duration": 16,
    "start_time": "2021-09-18T19:03:55.477Z"
   },
   {
    "duration": 10,
    "start_time": "2021-09-18T19:04:11.622Z"
   },
   {
    "duration": 11,
    "start_time": "2021-09-18T19:04:47.911Z"
   },
   {
    "duration": 9,
    "start_time": "2021-09-18T19:05:24.670Z"
   },
   {
    "duration": 8,
    "start_time": "2021-09-18T19:05:29.318Z"
   },
   {
    "duration": 4,
    "start_time": "2021-09-18T19:12:42.985Z"
   },
   {
    "duration": 9,
    "start_time": "2021-09-18T19:12:52.229Z"
   },
   {
    "duration": 3270,
    "start_time": "2021-09-18T19:23:25.657Z"
   },
   {
    "duration": 6,
    "start_time": "2021-09-18T19:24:34.824Z"
   },
   {
    "duration": 11,
    "start_time": "2021-09-18T19:24:51.405Z"
   },
   {
    "duration": 433,
    "start_time": "2021-09-18T19:25:32.134Z"
   },
   {
    "duration": 437,
    "start_time": "2021-09-18T19:26:31.937Z"
   },
   {
    "duration": 458,
    "start_time": "2021-09-18T19:26:52.244Z"
   },
   {
    "duration": 449,
    "start_time": "2021-09-18T19:27:25.120Z"
   },
   {
    "duration": 456,
    "start_time": "2021-09-18T19:30:45.456Z"
   },
   {
    "duration": 516,
    "start_time": "2021-09-18T19:30:54.975Z"
   },
   {
    "duration": 443,
    "start_time": "2021-09-18T19:31:17.248Z"
   },
   {
    "duration": 502,
    "start_time": "2021-09-18T19:31:37.443Z"
   },
   {
    "duration": 454,
    "start_time": "2021-09-18T19:32:04.127Z"
   },
   {
    "duration": 87,
    "start_time": "2021-09-18T19:33:09.312Z"
   },
   {
    "duration": 10,
    "start_time": "2021-09-18T19:34:28.616Z"
   },
   {
    "duration": 5,
    "start_time": "2021-09-18T19:42:50.670Z"
   },
   {
    "duration": 5,
    "start_time": "2021-09-18T19:42:53.261Z"
   },
   {
    "duration": 13,
    "start_time": "2021-09-18T19:43:09.483Z"
   },
   {
    "duration": 2605,
    "start_time": "2021-09-18T19:44:40.589Z"
   },
   {
    "duration": 3191,
    "start_time": "2021-09-18T19:49:22.455Z"
   },
   {
    "duration": 3021,
    "start_time": "2021-09-18T19:49:48.311Z"
   },
   {
    "duration": 1075,
    "start_time": "2021-09-18T19:53:48.003Z"
   },
   {
    "duration": 1011,
    "start_time": "2021-09-18T19:54:04.191Z"
   },
   {
    "duration": 1071,
    "start_time": "2021-09-18T19:54:25.323Z"
   },
   {
    "duration": 784,
    "start_time": "2021-09-18T19:54:41.516Z"
   },
   {
    "duration": 78,
    "start_time": "2021-09-18T19:56:38.918Z"
   },
   {
    "duration": 255,
    "start_time": "2021-09-18T19:56:53.398Z"
   },
   {
    "duration": 7,
    "start_time": "2021-09-18T19:56:59.880Z"
   },
   {
    "duration": 5,
    "start_time": "2021-09-18T19:58:58.180Z"
   },
   {
    "duration": 11,
    "start_time": "2021-09-18T19:59:00.660Z"
   },
   {
    "duration": 6,
    "start_time": "2021-09-18T19:59:13.028Z"
   },
   {
    "duration": 11,
    "start_time": "2021-09-18T19:59:16.934Z"
   },
   {
    "duration": 6,
    "start_time": "2021-09-18T19:59:48.590Z"
   },
   {
    "duration": 13,
    "start_time": "2021-09-18T19:59:52.632Z"
   },
   {
    "duration": 5,
    "start_time": "2021-09-18T20:00:21.999Z"
   },
   {
    "duration": 10,
    "start_time": "2021-09-18T20:00:23.770Z"
   },
   {
    "duration": 455,
    "start_time": "2021-09-18T20:00:29.260Z"
   },
   {
    "duration": 3124,
    "start_time": "2021-09-18T20:02:43.449Z"
   },
   {
    "duration": 3027,
    "start_time": "2021-09-18T20:02:52.576Z"
   },
   {
    "duration": 5,
    "start_time": "2021-09-18T20:03:32.030Z"
   },
   {
    "duration": 4,
    "start_time": "2021-09-18T20:04:41.137Z"
   },
   {
    "duration": 497,
    "start_time": "2021-09-18T20:06:51.844Z"
   },
   {
    "duration": 426,
    "start_time": "2021-09-18T20:07:42.673Z"
   },
   {
    "duration": 473,
    "start_time": "2021-09-18T20:08:18.423Z"
   },
   {
    "duration": 791,
    "start_time": "2021-09-18T20:08:29.791Z"
   },
   {
    "duration": 602,
    "start_time": "2021-09-18T20:08:50.208Z"
   },
   {
    "duration": 434,
    "start_time": "2021-09-18T20:09:00.624Z"
   },
   {
    "duration": 583,
    "start_time": "2021-09-19T06:00:09.453Z"
   },
   {
    "duration": 1442,
    "start_time": "2021-09-19T06:00:21.548Z"
   },
   {
    "duration": 19,
    "start_time": "2021-09-19T06:00:22.993Z"
   },
   {
    "duration": 18,
    "start_time": "2021-09-19T06:00:23.017Z"
   },
   {
    "duration": 9,
    "start_time": "2021-09-19T06:00:23.038Z"
   },
   {
    "duration": 27,
    "start_time": "2021-09-19T06:00:23.049Z"
   },
   {
    "duration": 18,
    "start_time": "2021-09-19T06:00:23.078Z"
   },
   {
    "duration": 26,
    "start_time": "2021-09-19T06:00:23.098Z"
   },
   {
    "duration": 8,
    "start_time": "2021-09-19T06:00:23.127Z"
   },
   {
    "duration": 10,
    "start_time": "2021-09-19T06:00:23.137Z"
   },
   {
    "duration": 14,
    "start_time": "2021-09-19T06:00:23.149Z"
   },
   {
    "duration": 470,
    "start_time": "2021-09-19T06:00:23.166Z"
   },
   {
    "duration": 6,
    "start_time": "2021-09-19T06:00:23.638Z"
   },
   {
    "duration": 5,
    "start_time": "2021-09-19T06:00:33.102Z"
   },
   {
    "duration": 2894,
    "start_time": "2021-09-19T06:00:33.997Z"
   },
   {
    "duration": 3017,
    "start_time": "2021-09-19T06:00:58.829Z"
   },
   {
    "duration": 2933,
    "start_time": "2021-09-19T06:01:32.747Z"
   },
   {
    "duration": 5,
    "start_time": "2021-09-19T06:02:10.470Z"
   },
   {
    "duration": 426,
    "start_time": "2021-09-19T06:02:11.305Z"
   },
   {
    "duration": 4,
    "start_time": "2021-09-19T06:41:36.233Z"
   },
   {
    "duration": 19,
    "start_time": "2021-09-19T06:41:40.861Z"
   },
   {
    "duration": 9,
    "start_time": "2021-09-19T06:41:41.589Z"
   },
   {
    "duration": 9,
    "start_time": "2021-09-19T06:41:42.294Z"
   },
   {
    "duration": 20,
    "start_time": "2021-09-19T06:41:43.941Z"
   },
   {
    "duration": 13,
    "start_time": "2021-09-19T06:41:44.568Z"
   },
   {
    "duration": 8,
    "start_time": "2021-09-19T06:41:45.302Z"
   },
   {
    "duration": 5,
    "start_time": "2021-09-19T06:41:46.622Z"
   },
   {
    "duration": 5,
    "start_time": "2021-09-19T06:41:50.046Z"
   },
   {
    "duration": 9,
    "start_time": "2021-09-19T06:41:50.886Z"
   },
   {
    "duration": 448,
    "start_time": "2021-09-19T06:41:52.071Z"
   },
   {
    "duration": 5,
    "start_time": "2021-09-19T06:42:09.493Z"
   },
   {
    "duration": 3047,
    "start_time": "2021-09-19T06:42:10.513Z"
   },
   {
    "duration": 5,
    "start_time": "2021-09-19T06:42:17.624Z"
   },
   {
    "duration": 428,
    "start_time": "2021-09-19T06:42:20.562Z"
   },
   {
    "duration": 1431,
    "start_time": "2021-09-19T09:30:24.682Z"
   },
   {
    "duration": 18,
    "start_time": "2021-09-19T09:30:26.116Z"
   },
   {
    "duration": 42,
    "start_time": "2021-09-19T09:30:26.136Z"
   },
   {
    "duration": 21,
    "start_time": "2021-09-19T09:30:26.181Z"
   },
   {
    "duration": 30,
    "start_time": "2021-09-19T09:30:26.204Z"
   },
   {
    "duration": 21,
    "start_time": "2021-09-19T09:30:26.236Z"
   },
   {
    "duration": 25,
    "start_time": "2021-09-19T09:30:26.259Z"
   },
   {
    "duration": 19,
    "start_time": "2021-09-19T09:30:26.288Z"
   },
   {
    "duration": 15,
    "start_time": "2021-09-19T09:30:26.310Z"
   },
   {
    "duration": 34,
    "start_time": "2021-09-19T09:30:26.327Z"
   },
   {
    "duration": 432,
    "start_time": "2021-09-19T09:30:26.363Z"
   },
   {
    "duration": 5,
    "start_time": "2021-09-19T09:30:26.797Z"
   },
   {
    "duration": 2875,
    "start_time": "2021-09-19T09:30:26.804Z"
   },
   {
    "duration": 6,
    "start_time": "2021-09-19T09:30:29.681Z"
   },
   {
    "duration": 446,
    "start_time": "2021-09-19T09:30:29.690Z"
   },
   {
    "duration": 82,
    "start_time": "2021-09-19T09:32:55.754Z"
   }
  ],
  "kernelspec": {
   "display_name": "Python 3",
   "language": "python",
   "name": "python3"
  },
  "language_info": {
   "codemirror_mode": {
    "name": "ipython",
    "version": 3
   },
   "file_extension": ".py",
   "mimetype": "text/x-python",
   "name": "python",
   "nbconvert_exporter": "python",
   "pygments_lexer": "ipython3",
   "version": "3.8.8"
  },
  "toc": {
   "base_numbering": 1,
   "nav_menu": {},
   "number_sections": true,
   "sideBar": true,
   "skip_h1_title": true,
   "title_cell": "Table of Contents",
   "title_sidebar": "Contents",
   "toc_cell": false,
   "toc_position": {
    "height": "calc(100% - 180px)",
    "left": "10px",
    "top": "150px",
    "width": "165px"
   },
   "toc_section_display": true,
   "toc_window_display": false
  }
 },
 "nbformat": 4,
 "nbformat_minor": 2
}
