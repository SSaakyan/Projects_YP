{
 "cells": [
  {
   "cell_type": "markdown",
   "metadata": {
    "toc": true
   },
   "source": [
    "<h1>Содержание<span class=\"tocSkip\"></span></h1>\n",
    "<div class=\"toc\"><ul class=\"toc-item\"><li><span><a href=\"#Изучение-данных-из-файла\" data-toc-modified-id=\"Изучение-данных-из-файла-1\"><span class=\"toc-item-num\">1&nbsp;&nbsp;</span>Изучение данных из файла</a></span><ul class=\"toc-item\"><li><span><a href=\"#Импорт-библиотек\" data-toc-modified-id=\"Импорт-библиотек-1.1\"><span class=\"toc-item-num\">1.1&nbsp;&nbsp;</span>Импорт библиотек</a></span></li><li><span><a href=\"#Открытие-файла-и-изучение-общей-информации-о-данных\" data-toc-modified-id=\"Открытие-файла-и-изучение-общей-информации-о-данных-1.2\"><span class=\"toc-item-num\">1.2&nbsp;&nbsp;</span>Открытие файла и изучение общей информации о данных</a></span></li></ul></li><li><span><a href=\"#Подготовка-данных\" data-toc-modified-id=\"Подготовка-данных-2\"><span class=\"toc-item-num\">2&nbsp;&nbsp;</span>Подготовка данных</a></span><ul class=\"toc-item\"><li><span><a href=\"#Изменение-названий-столбцов\" data-toc-modified-id=\"Изменение-названий-столбцов-2.1\"><span class=\"toc-item-num\">2.1&nbsp;&nbsp;</span>Изменение названий столбцов</a></span></li><li><span><a href=\"#Работа-с-пропущенными-значениями-и-изменение-типа-данных\" data-toc-modified-id=\"Работа-с-пропущенными-значениями-и-изменение-типа-данных-2.2\"><span class=\"toc-item-num\">2.2&nbsp;&nbsp;</span>Работа с пропущенными значениями и изменение типа данных</a></span><ul class=\"toc-item\"><li><span><a href=\"#Название-игры\" data-toc-modified-id=\"Название-игры-2.2.1\"><span class=\"toc-item-num\">2.2.1&nbsp;&nbsp;</span>Название игры</a></span></li><li><span><a href=\"#Год-выпуска\" data-toc-modified-id=\"Год-выпуска-2.2.2\"><span class=\"toc-item-num\">2.2.2&nbsp;&nbsp;</span>Год выпуска</a></span></li><li><span><a href=\"#Оценка-критиков\" data-toc-modified-id=\"Оценка-критиков-2.2.3\"><span class=\"toc-item-num\">2.2.3&nbsp;&nbsp;</span>Оценка критиков</a></span></li><li><span><a href=\"#Оценка-пользователей\" data-toc-modified-id=\"Оценка-пользователей-2.2.4\"><span class=\"toc-item-num\">2.2.4&nbsp;&nbsp;</span>Оценка пользователей</a></span></li><li><span><a href=\"#Рейтинг-от-организации-ESRB\" data-toc-modified-id=\"Рейтинг-от-организации-ESRB-2.2.5\"><span class=\"toc-item-num\">2.2.5&nbsp;&nbsp;</span>Рейтинг от организации ESRB</a></span></li></ul></li><li><span><a href=\"#Расчёт-сумм-продаж\" data-toc-modified-id=\"Расчёт-сумм-продаж-2.3\"><span class=\"toc-item-num\">2.3&nbsp;&nbsp;</span>Расчёт сумм продаж</a></span></li></ul></li><li><span><a href=\"#Исследовательский-анализ-данных\" data-toc-modified-id=\"Исследовательский-анализ-данных-3\"><span class=\"toc-item-num\">3&nbsp;&nbsp;</span>Исследовательский анализ данных</a></span><ul class=\"toc-item\"><li><span><a href=\"#Количество-игр-в-разные-годы-выпуска\" data-toc-modified-id=\"Количество-игр-в-разные-годы-выпуска-3.1\"><span class=\"toc-item-num\">3.1&nbsp;&nbsp;</span>Количество игр в разные годы выпуска</a></span></li><li><span><a href=\"#Зависимость-продаж-от-платформ-игр\" data-toc-modified-id=\"Зависимость-продаж-от-платформ-игр-3.2\"><span class=\"toc-item-num\">3.2&nbsp;&nbsp;</span>Зависимость продаж от платформ игр</a></span><ul class=\"toc-item\"><li><span><a href=\"#Изменение-продаж-по-платформам\" data-toc-modified-id=\"Изменение-продаж-по-платформам-3.2.1\"><span class=\"toc-item-num\">3.2.1&nbsp;&nbsp;</span>Изменение продаж по платформам</a></span></li><li><span><a href=\"#Изменение-продаж-платформ-лидеров-по-годам\" data-toc-modified-id=\"Изменение-продаж-платформ-лидеров-по-годам-3.2.2\"><span class=\"toc-item-num\">3.2.2&nbsp;&nbsp;</span>Изменение продаж платформ-лидеров по годам</a></span></li><li><span><a href=\"#Построение-графика-«ящик-с-усами»-по-глобальным-продажам-игр-в-разбивке-по-платформам\" data-toc-modified-id=\"Построение-графика-«ящик-с-усами»-по-глобальным-продажам-игр-в-разбивке-по-платформам-3.2.3\"><span class=\"toc-item-num\">3.2.3&nbsp;&nbsp;</span>Построение графика «ящик с усами» по глобальным продажам игр в разбивке по платформам</a></span></li><li><span><a href=\"#Влияние-отзывов-пользователей-и-критиков-внутри-одной-популярной-платформы\" data-toc-modified-id=\"Влияние-отзывов-пользователей-и-критиков-внутри-одной-популярной-платформы-3.2.4\"><span class=\"toc-item-num\">3.2.4&nbsp;&nbsp;</span>Влияние отзывов пользователей и критиков внутри одной популярной платформы</a></span><ul class=\"toc-item\"><li><span><a href=\"#Влияние-отзывов-пользователей\" data-toc-modified-id=\"Влияние-отзывов-пользователей-3.2.4.1\"><span class=\"toc-item-num\">3.2.4.1&nbsp;&nbsp;</span>Влияние отзывов пользователей</a></span></li><li><span><a href=\"#Влияние-отзывов-критиков\" data-toc-modified-id=\"Влияние-отзывов-критиков-3.2.4.2\"><span class=\"toc-item-num\">3.2.4.2&nbsp;&nbsp;</span>Влияние отзывов критиков</a></span></li></ul></li><li><span><a href=\"#Влияние-отзывов-пользователей-и-критиков-внутри-других-платформ\" data-toc-modified-id=\"Влияние-отзывов-пользователей-и-критиков-внутри-других-платформ-3.2.5\"><span class=\"toc-item-num\">3.2.5&nbsp;&nbsp;</span>Влияние отзывов пользователей и критиков внутри других платформ</a></span></li></ul></li><li><span><a href=\"#Зависимость-продаж-от-жанра-игр\" data-toc-modified-id=\"Зависимость-продаж-от-жанра-игр-3.3\"><span class=\"toc-item-num\">3.3&nbsp;&nbsp;</span>Зависимость продаж от жанра игр</a></span></li><li><span><a href=\"#Вывод-по-исследовательскому-анализу-данных\" data-toc-modified-id=\"Вывод-по-исследовательскому-анализу-данных-3.4\"><span class=\"toc-item-num\">3.4&nbsp;&nbsp;</span>Вывод по исследовательскому анализу данных</a></span></li></ul></li><li><span><a href=\"#Составление-портрета-пользователя-каждого-региона\" data-toc-modified-id=\"Составление-портрета-пользователя-каждого-региона-4\"><span class=\"toc-item-num\">4&nbsp;&nbsp;</span>Составление портрета пользователя каждого региона</a></span><ul class=\"toc-item\"><li><span><a href=\"#Самые-популярные-платформы\" data-toc-modified-id=\"Самые-популярные-платформы-4.1\"><span class=\"toc-item-num\">4.1&nbsp;&nbsp;</span>Самые популярные платформы</a></span></li><li><span><a href=\"#Самые-популярные-жанры\" data-toc-modified-id=\"Самые-популярные-жанры-4.2\"><span class=\"toc-item-num\">4.2&nbsp;&nbsp;</span>Самые популярные жанры</a></span></li><li><span><a href=\"#Влияние-рейтинга-ESRB-на-продажи-в-отдельном-регионе\" data-toc-modified-id=\"Влияние-рейтинга-ESRB-на-продажи-в-отдельном-регионе-4.3\"><span class=\"toc-item-num\">4.3&nbsp;&nbsp;</span>Влияние рейтинга ESRB на продажи в отдельном регионе</a></span></li><li><span><a href=\"#Вывод\" data-toc-modified-id=\"Вывод-4.4\"><span class=\"toc-item-num\">4.4&nbsp;&nbsp;</span>Вывод</a></span></li></ul></li><li><span><a href=\"#Проверка-гипотез\" data-toc-modified-id=\"Проверка-гипотез-5\"><span class=\"toc-item-num\">5&nbsp;&nbsp;</span>Проверка гипотез</a></span><ul class=\"toc-item\"><li><span><a href=\"#Гипотеза-1\" data-toc-modified-id=\"Гипотеза-1-5.1\"><span class=\"toc-item-num\">5.1&nbsp;&nbsp;</span>Гипотеза 1</a></span></li><li><span><a href=\"#Гипотеза-2\" data-toc-modified-id=\"Гипотеза-2-5.2\"><span class=\"toc-item-num\">5.2&nbsp;&nbsp;</span>Гипотеза 2</a></span></li><li><span><a href=\"#Вывод\" data-toc-modified-id=\"Вывод-5.3\"><span class=\"toc-item-num\">5.3&nbsp;&nbsp;</span>Вывод</a></span></li></ul></li><li><span><a href=\"#Общий-вывод\" data-toc-modified-id=\"Общий-вывод-6\"><span class=\"toc-item-num\">6&nbsp;&nbsp;</span>Общий вывод</a></span></li></ul></div>"
   ]
  },
  {
   "cell_type": "markdown",
   "metadata": {},
   "source": [
    "<font size = 4> **Описание данных** </font>"
   ]
  },
  {
   "cell_type": "markdown",
   "metadata": {},
   "source": [
    "- *Name* — название игры\n",
    "- *Platform* — платформа\n",
    "- *Year_of_Release* — год выпуска\n",
    "- *Genre* — жанр игры\n",
    "- *NA_sales* — продажи в Северной Америке (миллионы проданных копий)\n",
    "- *EU_sales* — продажи в Европе (миллионы проданных копий)\n",
    "- *JP_sales* — продажи в Японии (миллионы проданных копий)\n",
    "- *Other_sales* — продажи в других странах (миллионы проданных копий)\n",
    "- *Critic_Score* — оценка критиков (максимум 100)\n",
    "- *ser_Score* — оценка пользователей (максимум 10)\n",
    "- *Rating* — рейтинг от организации ESRB (англ. Entertainment Software Rating Board). \n"
   ]
  },
  {
   "cell_type": "markdown",
   "metadata": {},
   "source": [
    "## Изучение данных из файла"
   ]
  },
  {
   "cell_type": "markdown",
   "metadata": {},
   "source": [
    "### Импорт библиотек"
   ]
  },
  {
   "cell_type": "code",
   "execution_count": 1,
   "metadata": {},
   "outputs": [],
   "source": [
    "import pandas as pd\n",
    "import numpy as np\n",
    "from scipy import stats as st \n",
    "import matplotlib.pyplot as plt \n",
    "import seaborn as sns\n",
    "from IPython.display import display\n",
    "import datetime\n",
    "pd.set_option('display.float_format', '{:,.2f}'.format)  "
   ]
  },
  {
   "cell_type": "markdown",
   "metadata": {},
   "source": [
    "### Открытие файла и изучение общей информации о данных"
   ]
  },
  {
   "cell_type": "code",
   "execution_count": 2,
   "metadata": {},
   "outputs": [],
   "source": [
    "games = pd.read_csv('/datasets/games.csv') #открываем файл с данными"
   ]
  },
  {
   "cell_type": "code",
   "execution_count": 3,
   "metadata": {},
   "outputs": [
    {
     "data": {
      "text/html": [
       "<div>\n",
       "<style scoped>\n",
       "    .dataframe tbody tr th:only-of-type {\n",
       "        vertical-align: middle;\n",
       "    }\n",
       "\n",
       "    .dataframe tbody tr th {\n",
       "        vertical-align: top;\n",
       "    }\n",
       "\n",
       "    .dataframe thead th {\n",
       "        text-align: right;\n",
       "    }\n",
       "</style>\n",
       "<table border=\"1\" class=\"dataframe\">\n",
       "  <thead>\n",
       "    <tr style=\"text-align: right;\">\n",
       "      <th></th>\n",
       "      <th>Name</th>\n",
       "      <th>Platform</th>\n",
       "      <th>Year_of_Release</th>\n",
       "      <th>Genre</th>\n",
       "      <th>NA_sales</th>\n",
       "      <th>EU_sales</th>\n",
       "      <th>JP_sales</th>\n",
       "      <th>Other_sales</th>\n",
       "      <th>Critic_Score</th>\n",
       "      <th>User_Score</th>\n",
       "      <th>Rating</th>\n",
       "    </tr>\n",
       "  </thead>\n",
       "  <tbody>\n",
       "    <tr>\n",
       "      <th>14230</th>\n",
       "      <td>Rakushou! Pachi-Slot Sengen 5: Rio Paradise</td>\n",
       "      <td>PS2</td>\n",
       "      <td>2,007.00</td>\n",
       "      <td>Misc</td>\n",
       "      <td>0.00</td>\n",
       "      <td>0.00</td>\n",
       "      <td>0.03</td>\n",
       "      <td>0.00</td>\n",
       "      <td>NaN</td>\n",
       "      <td>NaN</td>\n",
       "      <td>NaN</td>\n",
       "    </tr>\n",
       "    <tr>\n",
       "      <th>14043</th>\n",
       "      <td>Nobunaga's Ambition II</td>\n",
       "      <td>3DS</td>\n",
       "      <td>2,015.00</td>\n",
       "      <td>Strategy</td>\n",
       "      <td>0.00</td>\n",
       "      <td>0.00</td>\n",
       "      <td>0.04</td>\n",
       "      <td>0.00</td>\n",
       "      <td>NaN</td>\n",
       "      <td>NaN</td>\n",
       "      <td>NaN</td>\n",
       "    </tr>\n",
       "    <tr>\n",
       "      <th>3158</th>\n",
       "      <td>Up</td>\n",
       "      <td>DS</td>\n",
       "      <td>2,009.00</td>\n",
       "      <td>Action</td>\n",
       "      <td>0.30</td>\n",
       "      <td>0.27</td>\n",
       "      <td>0.00</td>\n",
       "      <td>0.07</td>\n",
       "      <td>NaN</td>\n",
       "      <td>tbd</td>\n",
       "      <td>E</td>\n",
       "    </tr>\n",
       "    <tr>\n",
       "      <th>22</th>\n",
       "      <td>Super Mario Bros. 3</td>\n",
       "      <td>NES</td>\n",
       "      <td>1,988.00</td>\n",
       "      <td>Platform</td>\n",
       "      <td>9.54</td>\n",
       "      <td>3.44</td>\n",
       "      <td>3.84</td>\n",
       "      <td>0.46</td>\n",
       "      <td>NaN</td>\n",
       "      <td>NaN</td>\n",
       "      <td>NaN</td>\n",
       "    </tr>\n",
       "    <tr>\n",
       "      <th>110</th>\n",
       "      <td>Mario Kart 8</td>\n",
       "      <td>WiiU</td>\n",
       "      <td>2,014.00</td>\n",
       "      <td>Racing</td>\n",
       "      <td>3.15</td>\n",
       "      <td>2.15</td>\n",
       "      <td>1.28</td>\n",
       "      <td>0.51</td>\n",
       "      <td>88.00</td>\n",
       "      <td>9.1</td>\n",
       "      <td>E</td>\n",
       "    </tr>\n",
       "    <tr>\n",
       "      <th>1988</th>\n",
       "      <td>ATV: Quad Power Racing</td>\n",
       "      <td>PS</td>\n",
       "      <td>2,000.00</td>\n",
       "      <td>Racing</td>\n",
       "      <td>0.58</td>\n",
       "      <td>0.39</td>\n",
       "      <td>0.00</td>\n",
       "      <td>0.07</td>\n",
       "      <td>42.00</td>\n",
       "      <td>tbd</td>\n",
       "      <td>E</td>\n",
       "    </tr>\n",
       "    <tr>\n",
       "      <th>7130</th>\n",
       "      <td>64 de Hakken! Tamagotchi Minna de Tamagotchi W...</td>\n",
       "      <td>N64</td>\n",
       "      <td>1,997.00</td>\n",
       "      <td>Misc</td>\n",
       "      <td>0.00</td>\n",
       "      <td>0.00</td>\n",
       "      <td>0.22</td>\n",
       "      <td>0.00</td>\n",
       "      <td>NaN</td>\n",
       "      <td>NaN</td>\n",
       "      <td>NaN</td>\n",
       "    </tr>\n",
       "    <tr>\n",
       "      <th>8849</th>\n",
       "      <td>Derby Stallion 64</td>\n",
       "      <td>N64</td>\n",
       "      <td>2,001.00</td>\n",
       "      <td>Sports</td>\n",
       "      <td>0.00</td>\n",
       "      <td>0.00</td>\n",
       "      <td>0.15</td>\n",
       "      <td>0.00</td>\n",
       "      <td>NaN</td>\n",
       "      <td>NaN</td>\n",
       "      <td>NaN</td>\n",
       "    </tr>\n",
       "    <tr>\n",
       "      <th>14602</th>\n",
       "      <td>Star Wars: The Force Unleashed II</td>\n",
       "      <td>PC</td>\n",
       "      <td>2,010.00</td>\n",
       "      <td>Action</td>\n",
       "      <td>0.03</td>\n",
       "      <td>0.00</td>\n",
       "      <td>0.00</td>\n",
       "      <td>0.00</td>\n",
       "      <td>59.00</td>\n",
       "      <td>5.8</td>\n",
       "      <td>T</td>\n",
       "    </tr>\n",
       "    <tr>\n",
       "      <th>106</th>\n",
       "      <td>Tekken 3</td>\n",
       "      <td>PS</td>\n",
       "      <td>1,998.00</td>\n",
       "      <td>Fighting</td>\n",
       "      <td>3.27</td>\n",
       "      <td>2.22</td>\n",
       "      <td>1.40</td>\n",
       "      <td>0.29</td>\n",
       "      <td>96.00</td>\n",
       "      <td>9.1</td>\n",
       "      <td>T</td>\n",
       "    </tr>\n",
       "  </tbody>\n",
       "</table>\n",
       "</div>"
      ],
      "text/plain": [
       "                                                    Name Platform  \\\n",
       "14230        Rakushou! Pachi-Slot Sengen 5: Rio Paradise      PS2   \n",
       "14043                             Nobunaga's Ambition II      3DS   \n",
       "3158                                                  Up       DS   \n",
       "22                                   Super Mario Bros. 3      NES   \n",
       "110                                         Mario Kart 8     WiiU   \n",
       "1988                              ATV: Quad Power Racing       PS   \n",
       "7130   64 de Hakken! Tamagotchi Minna de Tamagotchi W...      N64   \n",
       "8849                                   Derby Stallion 64      N64   \n",
       "14602                  Star Wars: The Force Unleashed II       PC   \n",
       "106                                             Tekken 3       PS   \n",
       "\n",
       "       Year_of_Release     Genre  NA_sales  EU_sales  JP_sales  Other_sales  \\\n",
       "14230         2,007.00      Misc      0.00      0.00      0.03         0.00   \n",
       "14043         2,015.00  Strategy      0.00      0.00      0.04         0.00   \n",
       "3158          2,009.00    Action      0.30      0.27      0.00         0.07   \n",
       "22            1,988.00  Platform      9.54      3.44      3.84         0.46   \n",
       "110           2,014.00    Racing      3.15      2.15      1.28         0.51   \n",
       "1988          2,000.00    Racing      0.58      0.39      0.00         0.07   \n",
       "7130          1,997.00      Misc      0.00      0.00      0.22         0.00   \n",
       "8849          2,001.00    Sports      0.00      0.00      0.15         0.00   \n",
       "14602         2,010.00    Action      0.03      0.00      0.00         0.00   \n",
       "106           1,998.00  Fighting      3.27      2.22      1.40         0.29   \n",
       "\n",
       "       Critic_Score User_Score Rating  \n",
       "14230           NaN        NaN    NaN  \n",
       "14043           NaN        NaN    NaN  \n",
       "3158            NaN        tbd      E  \n",
       "22              NaN        NaN    NaN  \n",
       "110           88.00        9.1      E  \n",
       "1988          42.00        tbd      E  \n",
       "7130            NaN        NaN    NaN  \n",
       "8849            NaN        NaN    NaN  \n",
       "14602         59.00        5.8      T  \n",
       "106           96.00        9.1      T  "
      ]
     },
     "metadata": {},
     "output_type": "display_data"
    }
   ],
   "source": [
    "display(games.sample(10,random_state=1)) #посмотрим на данные"
   ]
  },
  {
   "cell_type": "code",
   "execution_count": 4,
   "metadata": {},
   "outputs": [
    {
     "name": "stdout",
     "output_type": "stream",
     "text": [
      "<class 'pandas.core.frame.DataFrame'>\n",
      "RangeIndex: 16715 entries, 0 to 16714\n",
      "Data columns (total 11 columns):\n",
      " #   Column           Non-Null Count  Dtype  \n",
      "---  ------           --------------  -----  \n",
      " 0   Name             16713 non-null  object \n",
      " 1   Platform         16715 non-null  object \n",
      " 2   Year_of_Release  16446 non-null  float64\n",
      " 3   Genre            16713 non-null  object \n",
      " 4   NA_sales         16715 non-null  float64\n",
      " 5   EU_sales         16715 non-null  float64\n",
      " 6   JP_sales         16715 non-null  float64\n",
      " 7   Other_sales      16715 non-null  float64\n",
      " 8   Critic_Score     8137 non-null   float64\n",
      " 9   User_Score       10014 non-null  object \n",
      " 10  Rating           9949 non-null   object \n",
      "dtypes: float64(6), object(5)\n",
      "memory usage: 1.4+ MB\n"
     ]
    }
   ],
   "source": [
    "games.info() #посмотрим на общую информацию"
   ]
  },
  {
   "cell_type": "code",
   "execution_count": 5,
   "metadata": {},
   "outputs": [
    {
     "data": {
      "text/plain": [
       "Name                  2\n",
       "Platform              0\n",
       "Year_of_Release     269\n",
       "Genre                 2\n",
       "NA_sales              0\n",
       "EU_sales              0\n",
       "JP_sales              0\n",
       "Other_sales           0\n",
       "Critic_Score       8578\n",
       "User_Score         6701\n",
       "Rating             6766\n",
       "dtype: int64"
      ]
     },
     "execution_count": 5,
     "metadata": {},
     "output_type": "execute_result"
    }
   ],
   "source": [
    "# пропущенные значения\n",
    "games.isna().sum()"
   ]
  },
  {
   "cell_type": "code",
   "execution_count": 6,
   "metadata": {},
   "outputs": [
    {
     "data": {
      "text/plain": [
       "PS2     2161\n",
       "DS      2151\n",
       "PS3     1331\n",
       "Wii     1320\n",
       "X360    1262\n",
       "PSP     1209\n",
       "PS      1197\n",
       "PC       974\n",
       "XB       824\n",
       "GBA      822\n",
       "GC       556\n",
       "3DS      520\n",
       "PSV      430\n",
       "PS4      392\n",
       "N64      319\n",
       "XOne     247\n",
       "SNES     239\n",
       "SAT      173\n",
       "WiiU     147\n",
       "2600     133\n",
       "NES       98\n",
       "GB        98\n",
       "DC        52\n",
       "GEN       29\n",
       "NG        12\n",
       "WS         6\n",
       "SCD        6\n",
       "3DO        3\n",
       "TG16       2\n",
       "PCFX       1\n",
       "GG         1\n",
       "Name: Platform, dtype: int64"
      ]
     },
     "execution_count": 6,
     "metadata": {},
     "output_type": "execute_result"
    }
   ],
   "source": [
    "# проверим, нет ли ошибок в названиях платформ\n",
    "games['Platform'].value_counts()"
   ]
  },
  {
   "cell_type": "code",
   "execution_count": 7,
   "metadata": {},
   "outputs": [
    {
     "data": {
      "text/plain": [
       "Action          3369\n",
       "Sports          2348\n",
       "Misc            1750\n",
       "Role-Playing    1498\n",
       "Shooter         1323\n",
       "Adventure       1303\n",
       "Racing          1249\n",
       "Platform         888\n",
       "Simulation       873\n",
       "Fighting         849\n",
       "Strategy         683\n",
       "Puzzle           580\n",
       "Name: Genre, dtype: int64"
      ]
     },
     "execution_count": 7,
     "metadata": {},
     "output_type": "execute_result"
    }
   ],
   "source": [
    "# проверим, нет ли ошибок в названиях жанров\n",
    "games['Genre'].value_counts()"
   ]
  },
  {
   "cell_type": "code",
   "execution_count": 8,
   "metadata": {},
   "outputs": [
    {
     "data": {
      "text/plain": [
       "0"
      ]
     },
     "execution_count": 8,
     "metadata": {},
     "output_type": "execute_result"
    }
   ],
   "source": [
    "# проверим на наличие подных дубликатов\n",
    "games.duplicated().sum()"
   ]
  },
  {
   "cell_type": "markdown",
   "metadata": {},
   "source": [
    "**Вывод:** \n",
    "* всего есть информация по 16715 играм, при этом пара игр идет без названия; \n",
    "* также есть пропущенные значения в столбцах  Year_of_Release, Genre, Critic_Score, Rating;\n",
    "* тип данных в столбцах Year_of_Release, User_Score указан некорректно;\n",
    "* названия столбцов необходимо привести к нижнему регистру;\n",
    "* дубликатов нет"
   ]
  },
  {
   "cell_type": "markdown",
   "metadata": {},
   "source": [
    "## Подготовка данных"
   ]
  },
  {
   "cell_type": "markdown",
   "metadata": {},
   "source": [
    "### Изменение названий столбцов"
   ]
  },
  {
   "cell_type": "markdown",
   "metadata": {},
   "source": [
    "Приведём названия столбцов к нижнему регистру"
   ]
  },
  {
   "cell_type": "code",
   "execution_count": 9,
   "metadata": {},
   "outputs": [],
   "source": [
    "games = games.rename(columns=str.lower)"
   ]
  },
  {
   "cell_type": "markdown",
   "metadata": {},
   "source": [
    "### Работа с пропущенными значениями и изменение типа данных"
   ]
  },
  {
   "cell_type": "markdown",
   "metadata": {},
   "source": [
    "#### Название игры"
   ]
  },
  {
   "cell_type": "markdown",
   "metadata": {},
   "source": [
    "В данном столбце всего два пропущенных значения. Учитывая, что заменить данные значения нечем, т.к. названия уникальны, и процент пропущенных значений в общей выборке очень мал, удалим данные строки."
   ]
  },
  {
   "cell_type": "code",
   "execution_count": 10,
   "metadata": {},
   "outputs": [],
   "source": [
    "games = games.query('name == name')"
   ]
  },
  {
   "cell_type": "code",
   "execution_count": 11,
   "metadata": {},
   "outputs": [
    {
     "name": "stdout",
     "output_type": "stream",
     "text": [
      "<class 'pandas.core.frame.DataFrame'>\n",
      "Int64Index: 16713 entries, 0 to 16714\n",
      "Data columns (total 11 columns):\n",
      " #   Column           Non-Null Count  Dtype  \n",
      "---  ------           --------------  -----  \n",
      " 0   name             16713 non-null  object \n",
      " 1   platform         16713 non-null  object \n",
      " 2   year_of_release  16444 non-null  float64\n",
      " 3   genre            16713 non-null  object \n",
      " 4   na_sales         16713 non-null  float64\n",
      " 5   eu_sales         16713 non-null  float64\n",
      " 6   jp_sales         16713 non-null  float64\n",
      " 7   other_sales      16713 non-null  float64\n",
      " 8   critic_score     8137 non-null   float64\n",
      " 9   user_score       10014 non-null  object \n",
      " 10  rating           9949 non-null   object \n",
      "dtypes: float64(6), object(5)\n",
      "memory usage: 1.5+ MB\n"
     ]
    }
   ],
   "source": [
    "games.info() #проверка"
   ]
  },
  {
   "cell_type": "markdown",
   "metadata": {},
   "source": [
    "Также отметим, что в этих двух строках были пропуски и по столбцу жанра игры."
   ]
  },
  {
   "cell_type": "markdown",
   "metadata": {},
   "source": [
    "#### Год выпуска"
   ]
  },
  {
   "cell_type": "markdown",
   "metadata": {},
   "source": [
    "Посмотрим на процент пропущенных значений в данном столбце"
   ]
  },
  {
   "cell_type": "code",
   "execution_count": 12,
   "metadata": {},
   "outputs": [
    {
     "name": "stdout",
     "output_type": "stream",
     "text": [
      "Пропущенных значений в данных с годом выпуска: 1.61%\n"
     ]
    }
   ],
   "source": [
    "print('Пропущенных значений в данных с годом выпуска:','{:.2%}'.format(games['year_of_release'].isna().sum()/len(games)))"
   ]
  },
  {
   "cell_type": "markdown",
   "metadata": {},
   "source": [
    "Всего 1,61% из всей выборки. Но посмотрим всё таки на все данные для пропущенных значений в данном столбце."
   ]
  },
  {
   "cell_type": "code",
   "execution_count": 13,
   "metadata": {},
   "outputs": [
    {
     "data": {
      "text/html": [
       "<div>\n",
       "<style scoped>\n",
       "    .dataframe tbody tr th:only-of-type {\n",
       "        vertical-align: middle;\n",
       "    }\n",
       "\n",
       "    .dataframe tbody tr th {\n",
       "        vertical-align: top;\n",
       "    }\n",
       "\n",
       "    .dataframe thead th {\n",
       "        text-align: right;\n",
       "    }\n",
       "</style>\n",
       "<table border=\"1\" class=\"dataframe\">\n",
       "  <thead>\n",
       "    <tr style=\"text-align: right;\">\n",
       "      <th></th>\n",
       "      <th>name</th>\n",
       "      <th>platform</th>\n",
       "      <th>year_of_release</th>\n",
       "      <th>genre</th>\n",
       "      <th>na_sales</th>\n",
       "      <th>eu_sales</th>\n",
       "      <th>jp_sales</th>\n",
       "      <th>other_sales</th>\n",
       "      <th>critic_score</th>\n",
       "      <th>user_score</th>\n",
       "      <th>rating</th>\n",
       "    </tr>\n",
       "  </thead>\n",
       "  <tbody>\n",
       "    <tr>\n",
       "      <th>183</th>\n",
       "      <td>Madden NFL 2004</td>\n",
       "      <td>PS2</td>\n",
       "      <td>NaN</td>\n",
       "      <td>Sports</td>\n",
       "      <td>4.26</td>\n",
       "      <td>0.26</td>\n",
       "      <td>0.01</td>\n",
       "      <td>0.71</td>\n",
       "      <td>94.00</td>\n",
       "      <td>8.5</td>\n",
       "      <td>E</td>\n",
       "    </tr>\n",
       "    <tr>\n",
       "      <th>377</th>\n",
       "      <td>FIFA Soccer 2004</td>\n",
       "      <td>PS2</td>\n",
       "      <td>NaN</td>\n",
       "      <td>Sports</td>\n",
       "      <td>0.59</td>\n",
       "      <td>2.36</td>\n",
       "      <td>0.04</td>\n",
       "      <td>0.51</td>\n",
       "      <td>84.00</td>\n",
       "      <td>6.4</td>\n",
       "      <td>E</td>\n",
       "    </tr>\n",
       "    <tr>\n",
       "      <th>456</th>\n",
       "      <td>LEGO Batman: The Videogame</td>\n",
       "      <td>Wii</td>\n",
       "      <td>NaN</td>\n",
       "      <td>Action</td>\n",
       "      <td>1.80</td>\n",
       "      <td>0.97</td>\n",
       "      <td>0.00</td>\n",
       "      <td>0.29</td>\n",
       "      <td>74.00</td>\n",
       "      <td>7.9</td>\n",
       "      <td>E10+</td>\n",
       "    </tr>\n",
       "    <tr>\n",
       "      <th>475</th>\n",
       "      <td>wwe Smackdown vs. Raw 2006</td>\n",
       "      <td>PS2</td>\n",
       "      <td>NaN</td>\n",
       "      <td>Fighting</td>\n",
       "      <td>1.57</td>\n",
       "      <td>1.02</td>\n",
       "      <td>0.00</td>\n",
       "      <td>0.41</td>\n",
       "      <td>NaN</td>\n",
       "      <td>NaN</td>\n",
       "      <td>NaN</td>\n",
       "    </tr>\n",
       "    <tr>\n",
       "      <th>609</th>\n",
       "      <td>Space Invaders</td>\n",
       "      <td>2600</td>\n",
       "      <td>NaN</td>\n",
       "      <td>Shooter</td>\n",
       "      <td>2.36</td>\n",
       "      <td>0.14</td>\n",
       "      <td>0.00</td>\n",
       "      <td>0.03</td>\n",
       "      <td>NaN</td>\n",
       "      <td>NaN</td>\n",
       "      <td>NaN</td>\n",
       "    </tr>\n",
       "    <tr>\n",
       "      <th>...</th>\n",
       "      <td>...</td>\n",
       "      <td>...</td>\n",
       "      <td>...</td>\n",
       "      <td>...</td>\n",
       "      <td>...</td>\n",
       "      <td>...</td>\n",
       "      <td>...</td>\n",
       "      <td>...</td>\n",
       "      <td>...</td>\n",
       "      <td>...</td>\n",
       "      <td>...</td>\n",
       "    </tr>\n",
       "    <tr>\n",
       "      <th>16373</th>\n",
       "      <td>PDC World Championship Darts 2008</td>\n",
       "      <td>PSP</td>\n",
       "      <td>NaN</td>\n",
       "      <td>Sports</td>\n",
       "      <td>0.01</td>\n",
       "      <td>0.00</td>\n",
       "      <td>0.00</td>\n",
       "      <td>0.00</td>\n",
       "      <td>43.00</td>\n",
       "      <td>tbd</td>\n",
       "      <td>E10+</td>\n",
       "    </tr>\n",
       "    <tr>\n",
       "      <th>16405</th>\n",
       "      <td>Freaky Flyers</td>\n",
       "      <td>GC</td>\n",
       "      <td>NaN</td>\n",
       "      <td>Racing</td>\n",
       "      <td>0.01</td>\n",
       "      <td>0.00</td>\n",
       "      <td>0.00</td>\n",
       "      <td>0.00</td>\n",
       "      <td>69.00</td>\n",
       "      <td>6.5</td>\n",
       "      <td>T</td>\n",
       "    </tr>\n",
       "    <tr>\n",
       "      <th>16448</th>\n",
       "      <td>Inversion</td>\n",
       "      <td>PC</td>\n",
       "      <td>NaN</td>\n",
       "      <td>Shooter</td>\n",
       "      <td>0.01</td>\n",
       "      <td>0.00</td>\n",
       "      <td>0.00</td>\n",
       "      <td>0.00</td>\n",
       "      <td>59.00</td>\n",
       "      <td>6.7</td>\n",
       "      <td>M</td>\n",
       "    </tr>\n",
       "    <tr>\n",
       "      <th>16458</th>\n",
       "      <td>Hakuouki: Shinsengumi Kitan</td>\n",
       "      <td>PS3</td>\n",
       "      <td>NaN</td>\n",
       "      <td>Adventure</td>\n",
       "      <td>0.01</td>\n",
       "      <td>0.00</td>\n",
       "      <td>0.00</td>\n",
       "      <td>0.00</td>\n",
       "      <td>NaN</td>\n",
       "      <td>NaN</td>\n",
       "      <td>NaN</td>\n",
       "    </tr>\n",
       "    <tr>\n",
       "      <th>16522</th>\n",
       "      <td>Virtua Quest</td>\n",
       "      <td>GC</td>\n",
       "      <td>NaN</td>\n",
       "      <td>Role-Playing</td>\n",
       "      <td>0.01</td>\n",
       "      <td>0.00</td>\n",
       "      <td>0.00</td>\n",
       "      <td>0.00</td>\n",
       "      <td>55.00</td>\n",
       "      <td>5.5</td>\n",
       "      <td>T</td>\n",
       "    </tr>\n",
       "  </tbody>\n",
       "</table>\n",
       "<p>269 rows × 11 columns</p>\n",
       "</div>"
      ],
      "text/plain": [
       "                                    name platform  year_of_release  \\\n",
       "183                      Madden NFL 2004      PS2              NaN   \n",
       "377                     FIFA Soccer 2004      PS2              NaN   \n",
       "456           LEGO Batman: The Videogame      Wii              NaN   \n",
       "475           wwe Smackdown vs. Raw 2006      PS2              NaN   \n",
       "609                       Space Invaders     2600              NaN   \n",
       "...                                  ...      ...              ...   \n",
       "16373  PDC World Championship Darts 2008      PSP              NaN   \n",
       "16405                      Freaky Flyers       GC              NaN   \n",
       "16448                          Inversion       PC              NaN   \n",
       "16458        Hakuouki: Shinsengumi Kitan      PS3              NaN   \n",
       "16522                       Virtua Quest       GC              NaN   \n",
       "\n",
       "              genre  na_sales  eu_sales  jp_sales  other_sales  critic_score  \\\n",
       "183          Sports      4.26      0.26      0.01         0.71         94.00   \n",
       "377          Sports      0.59      2.36      0.04         0.51         84.00   \n",
       "456          Action      1.80      0.97      0.00         0.29         74.00   \n",
       "475        Fighting      1.57      1.02      0.00         0.41           NaN   \n",
       "609         Shooter      2.36      0.14      0.00         0.03           NaN   \n",
       "...             ...       ...       ...       ...          ...           ...   \n",
       "16373        Sports      0.01      0.00      0.00         0.00         43.00   \n",
       "16405        Racing      0.01      0.00      0.00         0.00         69.00   \n",
       "16448       Shooter      0.01      0.00      0.00         0.00         59.00   \n",
       "16458     Adventure      0.01      0.00      0.00         0.00           NaN   \n",
       "16522  Role-Playing      0.01      0.00      0.00         0.00         55.00   \n",
       "\n",
       "      user_score rating  \n",
       "183          8.5      E  \n",
       "377          6.4      E  \n",
       "456          7.9   E10+  \n",
       "475          NaN    NaN  \n",
       "609          NaN    NaN  \n",
       "...          ...    ...  \n",
       "16373        tbd   E10+  \n",
       "16405        6.5      T  \n",
       "16448        6.7      M  \n",
       "16458        NaN    NaN  \n",
       "16522        5.5      T  \n",
       "\n",
       "[269 rows x 11 columns]"
      ]
     },
     "metadata": {},
     "output_type": "display_data"
    }
   ],
   "source": [
    "display(games.query('year_of_release != year_of_release'))"
   ]
  },
  {
   "cell_type": "markdown",
   "metadata": {},
   "source": [
    "Как видим, и для таких строк данные в столбцах с продажами есть и в некоторых строчках - немаленькие. Посмотрим, встречаются ли такие же названия игр с известными годами выпуска."
   ]
  },
  {
   "cell_type": "code",
   "execution_count": 14,
   "metadata": {},
   "outputs": [
    {
     "name": "stdout",
     "output_type": "stream",
     "text": [
      "183         NaN\n",
      "1881   2,003.00\n",
      "3889   2,003.00\n",
      "5708   2,003.00\n",
      "Name: year_of_release, dtype: float64\n",
      "\n",
      "397     2,008.00\n",
      "456          NaN\n",
      "460     2,008.00\n",
      "1519    2,008.00\n",
      "1538         NaN\n",
      "1553    2,008.00\n",
      "12465   2,008.00\n",
      "Name: year_of_release, dtype: float64\n"
     ]
    }
   ],
   "source": [
    "print(games.loc[games['name'] == 'Madden NFL 2004']['year_of_release'])\n",
    "print()\n",
    "print(games.loc[games['name'] == 'LEGO Batman: The Videogame']['year_of_release'])"
   ]
  },
  {
   "cell_type": "markdown",
   "metadata": {},
   "source": [
    "Итак, для пропущенных значений в столбце year_of_release будем брать данные из строк с таким же названием игры."
   ]
  },
  {
   "cell_type": "code",
   "execution_count": 15,
   "metadata": {},
   "outputs": [],
   "source": [
    "# напишем функцию замены пропущенных значений в столбце на известные значения в этом столбце\n",
    "# для этих же игр из нашей таблицы\n",
    "def not_nan_value(df,value,category):\n",
    "    df_ret = df.copy()\n",
    "    for name_unique in df_ret[category].unique():\n",
    "        if len(df_ret.loc[df_ret[category]==name_unique])>1:\n",
    "            a = df_ret.loc[(df_ret[value] == df_ret[value])&(df_ret[category]==name_unique),value].median()\n",
    "            df_ret.loc[(df_ret[value].isna())&(df_ret[category]==name_unique),value] = a\n",
    "    return df_ret"
   ]
  },
  {
   "cell_type": "code",
   "execution_count": 16,
   "metadata": {},
   "outputs": [],
   "source": [
    "games = not_nan_value(games, 'year_of_release','name')"
   ]
  },
  {
   "cell_type": "code",
   "execution_count": 17,
   "metadata": {},
   "outputs": [
    {
     "name": "stdout",
     "output_type": "stream",
     "text": [
      "183    2,003.00\n",
      "1881   2,003.00\n",
      "3889   2,003.00\n",
      "5708   2,003.00\n",
      "Name: year_of_release, dtype: float64\n",
      "\n",
      "397     2,008.00\n",
      "456     2,008.00\n",
      "460     2,008.00\n",
      "1519    2,008.00\n",
      "1538    2,008.00\n",
      "1553    2,008.00\n",
      "12465   2,008.00\n",
      "Name: year_of_release, dtype: float64\n"
     ]
    }
   ],
   "source": [
    "print(games.loc[games['name'] == 'Madden NFL 2004']['year_of_release']) #проверка\n",
    "print()\n",
    "print(games.loc[games['name'] == 'LEGO Batman: The Videogame']['year_of_release'])\n"
   ]
  },
  {
   "cell_type": "code",
   "execution_count": 18,
   "metadata": {},
   "outputs": [
    {
     "name": "stdout",
     "output_type": "stream",
     "text": [
      "Пропущенных значений в данных с годом выпуска: 0.87%\n"
     ]
    }
   ],
   "source": [
    "# проверяем, все ли пропущенные значения заполнены\n",
    "print('Пропущенных значений в данных с годом выпуска:','{:.2%}'.format(games['year_of_release'].isna().sum()/len(games)))"
   ]
  },
  {
   "cell_type": "markdown",
   "metadata": {},
   "source": [
    "Еще остались пропущенные значения - те, для которых нет точной замены, доля оставшихся пропусков - менее 1%, поэтому возьмём выборку без них."
   ]
  },
  {
   "cell_type": "code",
   "execution_count": 19,
   "metadata": {},
   "outputs": [],
   "source": [
    "games = games.query('year_of_release == year_of_release') "
   ]
  },
  {
   "cell_type": "code",
   "execution_count": 20,
   "metadata": {},
   "outputs": [],
   "source": [
    "# изменим тип данных в столбце года выпуска:\n",
    "games['year_of_release'] = games['year_of_release'].astype('int64')"
   ]
  },
  {
   "cell_type": "markdown",
   "metadata": {},
   "source": [
    "#### Оценка критиков "
   ]
  },
  {
   "cell_type": "code",
   "execution_count": 21,
   "metadata": {},
   "outputs": [
    {
     "name": "stdout",
     "output_type": "stream",
     "text": [
      "Пропущенных значений в данных с оценками критиков: 51.26%\n"
     ]
    }
   ],
   "source": [
    "print('Пропущенных значений в данных с оценками критиков:','{:.2%}'.format(games['critic_score'].isna().sum()/len(games)))"
   ]
  },
  {
   "cell_type": "markdown",
   "metadata": {},
   "source": [
    "Т.к. нет адекватной замены и объем пропусков большой, трогать их не будем."
   ]
  },
  {
   "cell_type": "markdown",
   "metadata": {},
   "source": [
    "####  Оценка пользователей"
   ]
  },
  {
   "cell_type": "markdown",
   "metadata": {},
   "source": [
    "Посмотрим на процент пропущенных значений в данном столбце"
   ]
  },
  {
   "cell_type": "code",
   "execution_count": 22,
   "metadata": {},
   "outputs": [
    {
     "name": "stdout",
     "output_type": "stream",
     "text": [
      "Пропущенных значений в данных с оценками пользователей: 40.04%\n"
     ]
    }
   ],
   "source": [
    "print('Пропущенных значений в данных с оценками пользователей:','{:.2%}'.format(games['user_score'].isna().sum()/len(games)))"
   ]
  },
  {
   "cell_type": "markdown",
   "metadata": {},
   "source": [
    "Вспомним, что тип данных в столбце user_score - object. Посмотрим на уникальные значения данного столбца."
   ]
  },
  {
   "cell_type": "code",
   "execution_count": 23,
   "metadata": {},
   "outputs": [
    {
     "name": "stdout",
     "output_type": "stream",
     "text": [
      "['8' nan '8.3' '8.5' '6.6' '8.4' '8.6' '7.7' '6.3' '7.4' '8.2' '9' '7.9'\n",
      " '8.1' '8.7' '7.1' '3.4' '5.3' '4.8' '3.2' '8.9' '6.4' '7.8' '7.5' '2.6'\n",
      " '7.2' '9.2' '7' '7.3' '4.3' '7.6' '5.7' '5' '9.1' '6.5' 'tbd' '8.8' '6.9'\n",
      " '9.4' '6.8' '6.1' '6.7' '5.4' '4' '4.9' '4.5' '9.3' '6.2' '4.2' '6' '3.7'\n",
      " '4.1' '5.8' '5.6' '5.5' '4.4' '4.6' '5.9' '3.9' '3.1' '2.9' '5.2' '3.3'\n",
      " '4.7' '5.1' '3.5' '2.5' '1.9' '3' '2.7' '2.2' '2' '9.5' '2.1' '3.6' '2.8'\n",
      " '1.8' '3.8' '0' '1.6' '9.6' '2.4' '1.7' '1.1' '0.3' '1.5' '0.7' '1.2'\n",
      " '2.3' '0.5' '1.3' '0.2' '0.6' '1.4' '0.9' '1' '9.7']\n"
     ]
    }
   ],
   "source": [
    "print(games['user_score'].unique())"
   ]
  },
  {
   "cell_type": "markdown",
   "metadata": {},
   "source": [
    "В данных есть 'tbd'.Т.к. эти данные - \"To Be Determined\" - ещё не определены, заменим их на NaN."
   ]
  },
  {
   "cell_type": "code",
   "execution_count": 24,
   "metadata": {},
   "outputs": [],
   "source": [
    "games['user_score'] = games['user_score'].replace('tbd',np.nan,regex=True) "
   ]
  },
  {
   "cell_type": "markdown",
   "metadata": {},
   "source": [
    "Теперь изменим тип данных в данном столбце на вещественный:"
   ]
  },
  {
   "cell_type": "code",
   "execution_count": 25,
   "metadata": {},
   "outputs": [],
   "source": [
    "games['user_score'] = pd.to_numeric(games['user_score'])"
   ]
  },
  {
   "cell_type": "markdown",
   "metadata": {},
   "source": [
    "Аналогично пропускам в оценках критиков, пропуски в оценках пользователей тоже трогать их не будем."
   ]
  },
  {
   "cell_type": "markdown",
   "metadata": {},
   "source": [
    "#### Рейтинг от организации ESRB"
   ]
  },
  {
   "cell_type": "code",
   "execution_count": 26,
   "metadata": {},
   "outputs": [
    {
     "name": "stdout",
     "output_type": "stream",
     "text": [
      "Всего пропущенных значений в данных с рейтингом от организации ESRB: 6699\n",
      "или 40.44%  от всей выборки\n"
     ]
    }
   ],
   "source": [
    "print('Всего пропущенных значений в данных с рейтингом от организации ESRB:', games['rating'].isna().sum())\n",
    "print('или','{:.2%}'.format(games['rating'].isna().sum()/len(games)), ' от всей выборки')"
   ]
  },
  {
   "cell_type": "markdown",
   "metadata": {},
   "source": [
    "Посмотрим на строки с пропусками в данном столбце, какие жанры преобладают"
   ]
  },
  {
   "cell_type": "code",
   "execution_count": 27,
   "metadata": {},
   "outputs": [
    {
     "data": {
      "text/plain": [
       "Action          1166\n",
       "Misc             864\n",
       "Adventure        853\n",
       "Sports           832\n",
       "Role-Playing     713\n",
       "Fighting         406\n",
       "Racing           371\n",
       "Strategy         342\n",
       "Platform         317\n",
       "Shooter          302\n",
       "Simulation       300\n",
       "Puzzle           233\n",
       "Name: genre, dtype: int64"
      ]
     },
     "metadata": {},
     "output_type": "display_data"
    }
   ],
   "source": [
    "# посмотрим, как распределяются строки с пропусками в рейтинге по жанрам\n",
    "display(games.query('rating != rating')['genre'].value_counts())"
   ]
  },
  {
   "cell_type": "code",
   "execution_count": 28,
   "metadata": {},
   "outputs": [],
   "source": [
    "# Для дальнейшей работы приведём названия жанров к нижнему регистру\n",
    "games['genre'] = games['genre'].str.lower()"
   ]
  },
  {
   "cell_type": "markdown",
   "metadata": {},
   "source": [
    "Есть предположение,что игры с жанром Action в большинстве своём для взрослых, посмотрим на рейтинги игр с данным жанром"
   ]
  },
  {
   "cell_type": "code",
   "execution_count": 29,
   "metadata": {},
   "outputs": [
    {
     "data": {
      "text/plain": [
       "T       675\n",
       "M       604\n",
       "E10+    481\n",
       "E       414\n",
       "AO        1\n",
       "EC        1\n",
       "Name: rating, dtype: int64"
      ]
     },
     "execution_count": 29,
     "metadata": {},
     "output_type": "execute_result"
    }
   ],
   "source": [
    "games.query('genre==\"action\"')['rating'].value_counts()"
   ]
  },
  {
   "cell_type": "markdown",
   "metadata": {},
   "source": [
    "Наше предположение неверно, т.е. не можем \"без последствий\" заменить пропуски с данным жанром только на рейтинг \"для взрослых\""
   ]
  },
  {
   "cell_type": "markdown",
   "metadata": {},
   "source": [
    "Посмотрим на рейтинги игр с жанром Misc"
   ]
  },
  {
   "cell_type": "code",
   "execution_count": 30,
   "metadata": {},
   "outputs": [
    {
     "data": {
      "text/plain": [
       "E       453\n",
       "T       233\n",
       "E10+    166\n",
       "M        13\n",
       "EC        5\n",
       "K-A       1\n",
       "Name: rating, dtype: int64"
      ]
     },
     "execution_count": 30,
     "metadata": {},
     "output_type": "execute_result"
    }
   ],
   "source": [
    "games.query('genre==\"misc\"')['rating'].value_counts()"
   ]
  },
  {
   "cell_type": "markdown",
   "metadata": {},
   "source": [
    "Посмотрим на рейтинги игр с жанром Shooter"
   ]
  },
  {
   "cell_type": "code",
   "execution_count": 31,
   "metadata": {},
   "outputs": [
    {
     "data": {
      "text/plain": [
       "M       562\n",
       "T       343\n",
       "E10+     57\n",
       "E        47\n",
       "Name: rating, dtype: int64"
      ]
     },
     "execution_count": 31,
     "metadata": {},
     "output_type": "execute_result"
    }
   ],
   "source": [
    "games.query('genre==\"shooter\"')['rating'].value_counts()"
   ]
  },
  {
   "cell_type": "markdown",
   "metadata": {},
   "source": [
    "Т.е. очевидных замен здесь также нет"
   ]
  },
  {
   "cell_type": "markdown",
   "metadata": {},
   "source": [
    "Посмотрим на значения в столбце рейтинга ESRB"
   ]
  },
  {
   "cell_type": "code",
   "execution_count": 32,
   "metadata": {},
   "outputs": [
    {
     "data": {
      "text/plain": [
       "E       3958\n",
       "T       2930\n",
       "M       1554\n",
       "E10+    1412\n",
       "EC         8\n",
       "K-A        3\n",
       "RP         2\n",
       "AO         1\n",
       "Name: rating, dtype: int64"
      ]
     },
     "metadata": {},
     "output_type": "display_data"
    }
   ],
   "source": [
    "display(games['rating'].value_counts())"
   ]
  },
  {
   "cell_type": "markdown",
   "metadata": {},
   "source": [
    "Доля игр с рейтингами EC, K-A, RP, AO менее 0,1%"
   ]
  },
  {
   "cell_type": "markdown",
   "metadata": {},
   "source": [
    "Для отражения пустых значений в столбце рейтинга на графиках, заменим пустые значения на \"No_rating\""
   ]
  },
  {
   "cell_type": "code",
   "execution_count": 33,
   "metadata": {},
   "outputs": [],
   "source": [
    "games['rating'] = games['rating'].fillna('No_rating')"
   ]
  },
  {
   "cell_type": "markdown",
   "metadata": {},
   "source": [
    "### Расчёт сумм продаж"
   ]
  },
  {
   "cell_type": "markdown",
   "metadata": {},
   "source": [
    "Сосчитаем суммарные продажи во всех регионах и запишем их в отдельный столбец"
   ]
  },
  {
   "cell_type": "code",
   "execution_count": 34,
   "metadata": {},
   "outputs": [],
   "source": [
    "games['total_sales'] = games['na_sales'] + games['eu_sales'] + games ['jp_sales'] + games['other_sales']"
   ]
  },
  {
   "cell_type": "markdown",
   "metadata": {},
   "source": [
    "## Исследовательский анализ данных"
   ]
  },
  {
   "cell_type": "markdown",
   "metadata": {},
   "source": [
    "### Количество игр в разные годы выпуска"
   ]
  },
  {
   "cell_type": "markdown",
   "metadata": {},
   "source": [
    "Посмотрим, сколько игр выпускалось в разные годы. "
   ]
  },
  {
   "cell_type": "code",
   "execution_count": 35,
   "metadata": {},
   "outputs": [],
   "source": [
    "# для построения графика создадим сводную таблицу\n",
    "games_in_years = games.pivot_table(index='year_of_release',values='name',aggfunc='count')"
   ]
  },
  {
   "cell_type": "code",
   "execution_count": 36,
   "metadata": {},
   "outputs": [
    {
     "data": {
      "text/plain": [
       "<matplotlib.legend.Legend at 0x7f21bc46c0a0>"
      ]
     },
     "execution_count": 36,
     "metadata": {},
     "output_type": "execute_result"
    },
    {
     "data": {
      "image/png": "[encoded data removed]",
      "text/plain": [
       "<Figure size 1008x432 with 1 Axes>"
      ]
     },
     "metadata": {
      "needs_background": "light"
     },
     "output_type": "display_data"
    }
   ],
   "source": [
    "# теперь построим график зависимости количества игр от года выпуска\n",
    "plt.figure(figsize=(14,6))\n",
    "plt.title(\"Количество игр в зависимости от года выпуска\")\n",
    "sns.lineplot(data=games_in_years)\n",
    "plt.xlabel(\"Год выпуска\")\n",
    "plt.ylabel(\"Количество новых игр\")\n",
    "plt.legend('')"
   ]
  },
  {
   "cell_type": "markdown",
   "metadata": {},
   "source": [
    "**Вывод:**\n",
    "Из графика видно, что количество новых игр стало расти с начала 90-х гг. и до 2008г., затем пошёл спад. Очевидно, что спад связан с развитием мобильной телефонии и ,как следствие, увеличением рынка мобильных игр.\n",
    "\n"
   ]
  },
  {
   "cell_type": "markdown",
   "metadata": {},
   "source": [
    "### Зависимость продаж от платформ игр"
   ]
  },
  {
   "cell_type": "markdown",
   "metadata": {},
   "source": [
    "#### Изменение продаж по платформам"
   ]
  },
  {
   "cell_type": "markdown",
   "metadata": {},
   "source": [
    "Посмотрим, как менялись продажи по платформам."
   ]
  },
  {
   "cell_type": "code",
   "execution_count": 37,
   "metadata": {},
   "outputs": [],
   "source": [
    "# для построения графика создадим сводную таблицу:\n",
    "sales_platform = \\\n",
    "games.pivot_table(index='platform',values='total_sales',aggfunc='sum').\\\n",
    "sort_values(by='total_sales',ascending=False)"
   ]
  },
  {
   "cell_type": "markdown",
   "metadata": {},
   "source": [
    "Посмотрим на лидиров по продажам:"
   ]
  },
  {
   "cell_type": "code",
   "execution_count": 38,
   "metadata": {},
   "outputs": [
    {
     "data": {
      "text/html": [
       "<div>\n",
       "<style scoped>\n",
       "    .dataframe tbody tr th:only-of-type {\n",
       "        vertical-align: middle;\n",
       "    }\n",
       "\n",
       "    .dataframe tbody tr th {\n",
       "        vertical-align: top;\n",
       "    }\n",
       "\n",
       "    .dataframe thead th {\n",
       "        text-align: right;\n",
       "    }\n",
       "</style>\n",
       "<table border=\"1\" class=\"dataframe\">\n",
       "  <thead>\n",
       "    <tr style=\"text-align: right;\">\n",
       "      <th></th>\n",
       "      <th>total_sales</th>\n",
       "    </tr>\n",
       "    <tr>\n",
       "      <th>platform</th>\n",
       "      <th></th>\n",
       "    </tr>\n",
       "  </thead>\n",
       "  <tbody>\n",
       "    <tr>\n",
       "      <th>PS2</th>\n",
       "      <td>1,247.16</td>\n",
       "    </tr>\n",
       "    <tr>\n",
       "      <th>X360</th>\n",
       "      <td>966.61</td>\n",
       "    </tr>\n",
       "    <tr>\n",
       "      <th>PS3</th>\n",
       "      <td>935.19</td>\n",
       "    </tr>\n",
       "    <tr>\n",
       "      <th>Wii</th>\n",
       "      <td>903.31</td>\n",
       "    </tr>\n",
       "    <tr>\n",
       "      <th>DS</th>\n",
       "      <td>804.28</td>\n",
       "    </tr>\n",
       "    <tr>\n",
       "      <th>PS</th>\n",
       "      <td>727.58</td>\n",
       "    </tr>\n",
       "    <tr>\n",
       "      <th>PS4</th>\n",
       "      <td>314.14</td>\n",
       "    </tr>\n",
       "    <tr>\n",
       "      <th>GBA</th>\n",
       "      <td>313.73</td>\n",
       "    </tr>\n",
       "    <tr>\n",
       "      <th>PSP</th>\n",
       "      <td>293.57</td>\n",
       "    </tr>\n",
       "    <tr>\n",
       "      <th>PC</th>\n",
       "      <td>258.86</td>\n",
       "    </tr>\n",
       "  </tbody>\n",
       "</table>\n",
       "</div>"
      ],
      "text/plain": [
       "          total_sales\n",
       "platform             \n",
       "PS2          1,247.16\n",
       "X360           966.61\n",
       "PS3            935.19\n",
       "Wii            903.31\n",
       "DS             804.28\n",
       "PS             727.58\n",
       "PS4            314.14\n",
       "GBA            313.73\n",
       "PSP            293.57\n",
       "PC             258.86"
      ]
     },
     "metadata": {},
     "output_type": "display_data"
    }
   ],
   "source": [
    "display(sales_platform.head(10))"
   ]
  },
  {
   "cell_type": "markdown",
   "metadata": {},
   "source": [
    "Лидеров 6. Посмотрим также на графике."
   ]
  },
  {
   "cell_type": "code",
   "execution_count": 39,
   "metadata": {},
   "outputs": [
    {
     "data": {
      "text/plain": [
       "Text(0, 0.5, 'Сумма продаж')"
      ]
     },
     "execution_count": 39,
     "metadata": {},
     "output_type": "execute_result"
    },
    {
     "data": {
      "image/png": "[encoded data removed]",
      "text/plain": [
       "<Figure size 1008x432 with 1 Axes>"
      ]
     },
     "metadata": {
      "needs_background": "light"
     },
     "output_type": "display_data"
    }
   ],
   "source": [
    "# теперь построим график зависимости суммы продаж от платформы\n",
    "plt.figure(figsize=(14,6))\n",
    "plt.title(\"Продажи в зависимости от платформы\")\n",
    "sns.barplot(x=sales_platform.index,y=sales_platform['total_sales'])\n",
    "plt.xlabel(\"Наименование платформы\")\n",
    "plt.ylabel(\"Сумма продаж\")"
   ]
  },
  {
   "cell_type": "markdown",
   "metadata": {},
   "source": [
    "**Вывод:**\n",
    "cамые популярные платформы - PS2,X360,PS3,Wii,DS,PS. Самые непопулярные платформы - SCD,NG,WS,TG16,3DO,GG,PCFX"
   ]
  },
  {
   "cell_type": "markdown",
   "metadata": {},
   "source": [
    "#### Изменение продаж платформ-лидеров по годам"
   ]
  },
  {
   "cell_type": "markdown",
   "metadata": {},
   "source": [
    "Теперь построим распределение продаж лидеров по годам."
   ]
  },
  {
   "cell_type": "code",
   "execution_count": 40,
   "metadata": {},
   "outputs": [
    {
     "data": {
      "text/html": [
       "<div>\n",
       "<style scoped>\n",
       "    .dataframe tbody tr th:only-of-type {\n",
       "        vertical-align: middle;\n",
       "    }\n",
       "\n",
       "    .dataframe tbody tr th {\n",
       "        vertical-align: top;\n",
       "    }\n",
       "\n",
       "    .dataframe thead th {\n",
       "        text-align: right;\n",
       "    }\n",
       "</style>\n",
       "<table border=\"1\" class=\"dataframe\">\n",
       "  <thead>\n",
       "    <tr style=\"text-align: right;\">\n",
       "      <th></th>\n",
       "      <th>total_sales</th>\n",
       "    </tr>\n",
       "    <tr>\n",
       "      <th>platform</th>\n",
       "      <th></th>\n",
       "    </tr>\n",
       "  </thead>\n",
       "  <tbody>\n",
       "    <tr>\n",
       "      <th>PS2</th>\n",
       "      <td>1,247.16</td>\n",
       "    </tr>\n",
       "    <tr>\n",
       "      <th>X360</th>\n",
       "      <td>966.61</td>\n",
       "    </tr>\n",
       "    <tr>\n",
       "      <th>PS3</th>\n",
       "      <td>935.19</td>\n",
       "    </tr>\n",
       "    <tr>\n",
       "      <th>Wii</th>\n",
       "      <td>903.31</td>\n",
       "    </tr>\n",
       "    <tr>\n",
       "      <th>DS</th>\n",
       "      <td>804.28</td>\n",
       "    </tr>\n",
       "  </tbody>\n",
       "</table>\n",
       "</div>"
      ],
      "text/plain": [
       "          total_sales\n",
       "platform             \n",
       "PS2          1,247.16\n",
       "X360           966.61\n",
       "PS3            935.19\n",
       "Wii            903.31\n",
       "DS             804.28"
      ]
     },
     "metadata": {},
     "output_type": "display_data"
    }
   ],
   "source": [
    "# возьмем сводную таблицу только по лидерам (возьмём первые шесть):\n",
    "leaders_platform = \\\n",
    "games.pivot_table(index='platform',values='total_sales',aggfunc='sum').\\\n",
    "sort_values(by='total_sales',ascending=False).head(5)\n",
    "display(leaders_platform)"
   ]
  },
  {
   "cell_type": "markdown",
   "metadata": {},
   "source": [
    "Учитывая быстрые изменения в индустрии игр возьмём за актуальный период - период с 2014г."
   ]
  },
  {
   "cell_type": "code",
   "execution_count": 41,
   "metadata": {},
   "outputs": [
    {
     "data": {
      "text/html": [
       "<div>\n",
       "<style scoped>\n",
       "    .dataframe tbody tr th:only-of-type {\n",
       "        vertical-align: middle;\n",
       "    }\n",
       "\n",
       "    .dataframe tbody tr th {\n",
       "        vertical-align: top;\n",
       "    }\n",
       "\n",
       "    .dataframe thead th {\n",
       "        text-align: right;\n",
       "    }\n",
       "</style>\n",
       "<table border=\"1\" class=\"dataframe\">\n",
       "  <thead>\n",
       "    <tr style=\"text-align: right;\">\n",
       "      <th></th>\n",
       "      <th>total_sales</th>\n",
       "    </tr>\n",
       "    <tr>\n",
       "      <th>platform</th>\n",
       "      <th></th>\n",
       "    </tr>\n",
       "  </thead>\n",
       "  <tbody>\n",
       "    <tr>\n",
       "      <th>PS4</th>\n",
       "      <td>288.15</td>\n",
       "    </tr>\n",
       "    <tr>\n",
       "      <th>XOne</th>\n",
       "      <td>140.36</td>\n",
       "    </tr>\n",
       "    <tr>\n",
       "      <th>3DS</th>\n",
       "      <td>86.68</td>\n",
       "    </tr>\n",
       "    <tr>\n",
       "      <th>PS3</th>\n",
       "      <td>68.18</td>\n",
       "    </tr>\n",
       "    <tr>\n",
       "      <th>X360</th>\n",
       "      <td>48.22</td>\n",
       "    </tr>\n",
       "  </tbody>\n",
       "</table>\n",
       "</div>"
      ],
      "text/plain": [
       "          total_sales\n",
       "platform             \n",
       "PS4            288.15\n",
       "XOne           140.36\n",
       "3DS             86.68\n",
       "PS3             68.18\n",
       "X360            48.22"
      ]
     },
     "metadata": {},
     "output_type": "display_data"
    }
   ],
   "source": [
    "#Проверим, сохраняться ли лидеры, при рассмотрении данных с 2014г.\n",
    "display(games.query('year_of_release >= 2014').\\\n",
    "        pivot_table(index='platform',values='total_sales',aggfunc='sum').\\\n",
    "        sort_values(by='total_sales',ascending=False).head(5))"
   ]
  },
  {
   "cell_type": "markdown",
   "metadata": {},
   "source": [
    "Как видим лидеры изменились: PS4, XOne, 3DS, PS3, X360."
   ]
  },
  {
   "cell_type": "code",
   "execution_count": 42,
   "metadata": {},
   "outputs": [],
   "source": [
    "leaders_platform = \\\n",
    "games.query('year_of_release >= 2014').pivot_table(index='platform',values='total_sales',aggfunc='sum').\\\n",
    "sort_values(by='total_sales',ascending=False).head(5)"
   ]
  },
  {
   "cell_type": "code",
   "execution_count": 43,
   "metadata": {},
   "outputs": [],
   "source": [
    "# для построения графиков по годам напишем функцию для получения сводной таблицы по платформе из лидеров\n",
    "def sales_platform(df, name_pl):\n",
    "    df1 = df.loc[(df['platform']==name_pl) & (df['year_of_release'] >= 2005)] \n",
    "    sales = df1.pivot_table(index='year_of_release', values='total_sales',aggfunc='sum').\\\n",
    "    sort_values(by='year_of_release', ascending=False)\n",
    "    return sales"
   ]
  },
  {
   "cell_type": "code",
   "execution_count": 44,
   "metadata": {},
   "outputs": [
    {
     "data": {
      "image/png": "[encoded data removed]",
      "text/plain": [
       "<Figure size 1008x432 with 1 Axes>"
      ]
     },
     "metadata": {
      "needs_background": "light"
     },
     "output_type": "display_data"
    }
   ],
   "source": [
    "# теперь нарисуем графики распределения суммарных продаж по годам для платформ-лидеров\n",
    "plt.figure(figsize=(14,6))\n",
    "plt.title(\"Продажи по годам для платформ-лидеров\")\n",
    "plt.xlabel(\"Год выпуска\")\n",
    "plt.ylabel(\"Сумма продаж\")\n",
    "\n",
    "for name_pl in leaders_platform.index:\n",
    "    sns.lineplot(data=sales_platform(games,name_pl)['total_sales'], label=name_pl)"
   ]
  },
  {
   "cell_type": "code",
   "execution_count": 45,
   "metadata": {},
   "outputs": [],
   "source": [
    "# для дальнейшего исследования возьмём игры, выпущенные после 2014г.\n",
    "games_research = games.query('year_of_release >= 2014')"
   ]
  },
  {
   "cell_type": "markdown",
   "metadata": {},
   "source": [
    "**Вывод:**\n",
    "* в среднем платформы существовали 10 лет. Но со временем этот период сокращается (в силу быстро меняющейся индустрии).\n",
    "* лидеры продаж на актуальном периоде - Sony Playstations 4, Xbox One, Nintendo 3DS. Sony Playstations 3 и Xbox 360 пока в лидерах, но уже сходят на нет.\n",
    "* самый резкий рост и резкий спад - у Sony Playstations 4. \n",
    "* выбран актуальный период - данные по играм, выпущенным после 2014г. "
   ]
  },
  {
   "cell_type": "markdown",
   "metadata": {},
   "source": [
    "#### Построение графика «ящик с усами» по глобальным продажам игр в разбивке по платформам"
   ]
  },
  {
   "cell_type": "code",
   "execution_count": 46,
   "metadata": {},
   "outputs": [],
   "source": [
    "# возьмём срез данных для платформ-лидеров:\n",
    "games_pl_leaders = games_research.query('platform in @leaders_platform.index')"
   ]
  },
  {
   "cell_type": "code",
   "execution_count": 47,
   "metadata": {},
   "outputs": [
    {
     "data": {
      "text/plain": [
       "count   1,146.00\n",
       "mean        0.55\n",
       "std         1.22\n",
       "min         0.01\n",
       "25%         0.05\n",
       "50%         0.14\n",
       "75%         0.48\n",
       "max        14.63\n",
       "Name: total_sales, dtype: float64"
      ]
     },
     "execution_count": 47,
     "metadata": {},
     "output_type": "execute_result"
    }
   ],
   "source": [
    "# посмотрим на числ.характеристики по суммарным продажам\n",
    "games_pl_leaders['total_sales'].describe()"
   ]
  },
  {
   "cell_type": "markdown",
   "metadata": {},
   "source": [
    "Судя по характеристикам, в данных есть выбросы. Построим гистограмму."
   ]
  },
  {
   "cell_type": "code",
   "execution_count": 48,
   "metadata": {},
   "outputs": [
    {
     "data": {
      "text/plain": [
       "[Text(0, 0.5, 'Частота появлений')]"
      ]
     },
     "execution_count": 48,
     "metadata": {},
     "output_type": "execute_result"
    },
    {
     "data": {
      "image/png": "[encoded data removed]",
      "text/plain": [
       "<Figure size 432x288 with 1 Axes>"
      ]
     },
     "metadata": {
      "needs_background": "light"
     },
     "output_type": "display_data"
    }
   ],
   "source": [
    "plt.title('Гистограмма глобальных продаж')\n",
    "plt.xlabel('Глобальные продажи')\n",
    "games_pl_leaders['total_sales'].plot(kind='hist',bins=10, range=(0,8),histtype='step').set(ylabel='Частота появлений')"
   ]
  },
  {
   "cell_type": "markdown",
   "metadata": {},
   "source": [
    "Как видим, количество игр с суммой продаж больше 1,5 (млн.) мало и стремится к нулю. Возьмём срез без них."
   ]
  },
  {
   "cell_type": "code",
   "execution_count": 49,
   "metadata": {},
   "outputs": [],
   "source": [
    "games_pl_leaders = games_pl_leaders.query('total_sales < 1.5')"
   ]
  },
  {
   "cell_type": "code",
   "execution_count": 50,
   "metadata": {},
   "outputs": [
    {
     "data": {
      "text/plain": [
       "count   1,040.00\n",
       "mean        0.25\n",
       "std         0.31\n",
       "min         0.01\n",
       "25%         0.04\n",
       "50%         0.11\n",
       "75%         0.34\n",
       "max         1.49\n",
       "Name: total_sales, dtype: float64"
      ]
     },
     "execution_count": 50,
     "metadata": {},
     "output_type": "execute_result"
    }
   ],
   "source": [
    "games_pl_leaders['total_sales'].describe()"
   ]
  },
  {
   "cell_type": "markdown",
   "metadata": {},
   "source": [
    "Теперь нарисуем \"ящики с усами\" по суммарным продажам для платформ-лидеров"
   ]
  },
  {
   "cell_type": "code",
   "execution_count": 51,
   "metadata": {},
   "outputs": [
    {
     "data": {
      "text/plain": [
       "Text(0, 0.5, 'Глобальные продажи')"
      ]
     },
     "execution_count": 51,
     "metadata": {},
     "output_type": "execute_result"
    },
    {
     "data": {
      "image/png": "[encoded data removed]",
      "text/plain": [
       "<Figure size 864x432 with 1 Axes>"
      ]
     },
     "metadata": {
      "needs_background": "light"
     },
     "output_type": "display_data"
    }
   ],
   "source": [
    "plt.figure(figsize=(12,6))\n",
    "sns.boxplot(data=games_pl_leaders, x='platform',y='total_sales')\n",
    "plt.title('Ящики с усами по глобальным продажам')\n",
    "plt.xlabel('Наименование платформы')\n",
    "plt.ylabel('Глобальные продажи')"
   ]
  },
  {
   "cell_type": "markdown",
   "metadata": {},
   "source": [
    "**Вывод:** \n",
    "* медианы продаж на разных платформах - на разном уровне, но везде меньше 0.3\n",
    "* больше всего игры продаются на XOne и X360, меньше всего пока - на 3DS"
   ]
  },
  {
   "cell_type": "markdown",
   "metadata": {},
   "source": [
    "#### Влияние отзывов пользователей и критиков внутри одной популярной платформы"
   ]
  },
  {
   "cell_type": "code",
   "execution_count": 52,
   "metadata": {},
   "outputs": [],
   "source": [
    "# исследуем данные по платформе X360\n",
    "games_on_x360 = games_pl_leaders.query('platform == \"X360\"')"
   ]
  },
  {
   "cell_type": "markdown",
   "metadata": {},
   "source": [
    "##### Влияние отзывов пользователей"
   ]
  },
  {
   "cell_type": "code",
   "execution_count": 53,
   "metadata": {},
   "outputs": [
    {
     "name": "stdout",
     "output_type": "stream",
     "text": [
      "Корреляция между глобальными продажами и оценкой пользователей для X360 равна 0.07819\n"
     ]
    }
   ],
   "source": [
    "# сосчитаем корреляцию\n",
    "print('Корреляция между глобальными продажами и оценкой пользователей для X360 равна', \\\n",
    "      round(games_on_x360['user_score'].corr(games_on_x360['total_sales']),5))"
   ]
  },
  {
   "cell_type": "markdown",
   "metadata": {},
   "source": [
    "Корреляция не небольшая, но не забываем, что в столбце с оценкой пользователей у нас изначально много пропущенных данных."
   ]
  },
  {
   "cell_type": "code",
   "execution_count": 54,
   "metadata": {},
   "outputs": [
    {
     "data": {
      "text/plain": [
       "Text(0, 0.5, 'Глобальные продажи')"
      ]
     },
     "execution_count": 54,
     "metadata": {},
     "output_type": "execute_result"
    },
    {
     "data": {
      "image/png": "[encoded data removed]",
      "text/plain": [
       "<Figure size 432x288 with 1 Axes>"
      ]
     },
     "metadata": {
      "needs_background": "light"
     },
     "output_type": "display_data"
    }
   ],
   "source": [
    "# построим диаграмму рассеяния\n",
    "sns.scatterplot(data=games_on_x360, x='user_score',y='total_sales')\n",
    "plt.title('Зависимость глобальных продаж от оценки пользователей')\n",
    "plt.xlabel('Оценка пользователей')\n",
    "plt.ylabel('Глобальные продажи')"
   ]
  },
  {
   "cell_type": "markdown",
   "metadata": {},
   "source": [
    "**Вывод:**\n",
    "    как видим, чем выше оценка пользователей, тем выше глобальные продажи"
   ]
  },
  {
   "cell_type": "markdown",
   "metadata": {},
   "source": [
    "##### Влияние отзывов критиков"
   ]
  },
  {
   "cell_type": "code",
   "execution_count": 55,
   "metadata": {},
   "outputs": [
    {
     "name": "stdout",
     "output_type": "stream",
     "text": [
      "Корреляция между глобальными продажами и оценкой критиков для X360 равна 0.52572\n"
     ]
    }
   ],
   "source": [
    "# сосчитаем корреляцию\n",
    "print('Корреляция между глобальными продажами и оценкой критиков для X360 равна', \\\n",
    "      round(games_on_x360['critic_score'].corr(games_on_x360['total_sales']),5))"
   ]
  },
  {
   "cell_type": "markdown",
   "metadata": {},
   "source": [
    "Здесь уже корреляция выше среднего."
   ]
  },
  {
   "cell_type": "code",
   "execution_count": 56,
   "metadata": {},
   "outputs": [
    {
     "data": {
      "text/plain": [
       "Text(0, 0.5, 'Глобальные продажи')"
      ]
     },
     "execution_count": 56,
     "metadata": {},
     "output_type": "execute_result"
    },
    {
     "data": {
      "image/png": "[encoded data removed]",
      "text/plain": [
       "<Figure size 432x288 with 1 Axes>"
      ]
     },
     "metadata": {
      "needs_background": "light"
     },
     "output_type": "display_data"
    }
   ],
   "source": [
    "# построим диаграмму рассеяния\n",
    "sns.scatterplot(data=games_on_x360, x='critic_score',y='total_sales')\n",
    "plt.title('Зависимость глобальных продаж от оценки критиков')\n",
    "plt.xlabel('Оценка критиков')\n",
    "plt.ylabel('Глобальные продажи')"
   ]
  },
  {
   "cell_type": "markdown",
   "metadata": {},
   "source": [
    "**Вывод:**\n",
    "\n",
    "* чем выше оценка критиков, тем выше продажи, но отметим, что не можем утверждать, что высокие оценки критиков приводят к высоким продажам игр\n",
    "* влияние оценки критиков на продажи выше, чем оценки пользователей"
   ]
  },
  {
   "cell_type": "markdown",
   "metadata": {},
   "source": [
    "#### Влияние отзывов пользователей и критиков внутри других платформ"
   ]
  },
  {
   "cell_type": "markdown",
   "metadata": {},
   "source": [
    "Напишем функцию для рассчёта корреляции между глобальными продажами и оценкой пользователей и отображения графика рассеивания"
   ]
  },
  {
   "cell_type": "code",
   "execution_count": 57,
   "metadata": {},
   "outputs": [],
   "source": [
    "def other_pl_corr(name_platform):\n",
    "    other_platform = games_pl_leaders[games_pl_leaders['platform'] == name_platform]\n",
    "    fig, ax = plt.subplots(1 ,2, figsize=(15,5))\n",
    "    sns.scatterplot(x='user_score', y='total_sales', data=other_platform, ax=ax[0])\n",
    "    sns.scatterplot(x='critic_score', y='total_sales', data=other_platform, ax=ax[1])\n",
    "    fig.suptitle('Платформа '+ name_platform)\n",
    "    ax[0].set(title='Зависимость глобальных продаж от оценки пользователей')\n",
    "    ax[1].set(title='Зависимость глобальных продаж от оценки критиков')\n",
    "    ax[0].set(xlabel='Оценка пользователей')\n",
    "    ax[1].set(xlabel='Оценка критиков')\n",
    "    ax[0].set(ylabel='Глобальные продажи')\n",
    "    ax[1].set(ylabel='Глобальные продажи')\n",
    "        \n",
    "    print('Корреляция между глобальными продажами и оценкой пользователей для ', name_platform, 'равна',\\\n",
    "         round(other_platform['total_sales'].corr(other_platform['user_score']),5))\n",
    "    print('Корреляция между глобальными продажами и оценкой критиков для ', name_platform,' равна',\\\n",
    "         round(other_platform['total_sales'].corr(other_platform['critic_score']),5))\n",
    "    return plt.show()"
   ]
  },
  {
   "cell_type": "code",
   "execution_count": 58,
   "metadata": {},
   "outputs": [
    {
     "name": "stdout",
     "output_type": "stream",
     "text": [
      "Корреляция между глобальными продажами и оценкой пользователей для  PS3 равна -0.01443\n",
      "Корреляция между глобальными продажами и оценкой критиков для  PS3  равна 0.44657\n"
     ]
    },
    {
     "data": {
      "image/png": "[encoded data removed]",
      "text/plain": [
       "<Figure size 1080x360 with 2 Axes>"
      ]
     },
     "metadata": {
      "needs_background": "light"
     },
     "output_type": "display_data"
    },
    {
     "name": "stdout",
     "output_type": "stream",
     "text": [
      "Корреляция между глобальными продажами и оценкой пользователей для  XOne равна 0.09174\n",
      "Корреляция между глобальными продажами и оценкой критиков для  XOne  равна 0.44859\n"
     ]
    },
    {
     "data": {
      "image/png": "[encoded data removed]",
      "text/plain": [
       "<Figure size 1080x360 with 2 Axes>"
      ]
     },
     "metadata": {
      "needs_background": "light"
     },
     "output_type": "display_data"
    },
    {
     "name": "stdout",
     "output_type": "stream",
     "text": [
      "Корреляция между глобальными продажами и оценкой пользователей для  PS4 равна 0.03439\n",
      "Корреляция между глобальными продажами и оценкой критиков для  PS4  равна 0.31202\n"
     ]
    },
    {
     "data": {
      "image/png": "[encoded data removed]",
      "text/plain": [
       "<Figure size 1080x360 with 2 Axes>"
      ]
     },
     "metadata": {
      "needs_background": "light"
     },
     "output_type": "display_data"
    },
    {
     "name": "stdout",
     "output_type": "stream",
     "text": [
      "Корреляция между глобальными продажами и оценкой пользователей для  3DS равна 0.07466\n",
      "Корреляция между глобальными продажами и оценкой критиков для  3DS  равна 0.24169\n"
     ]
    },
    {
     "data": {
      "image/png": "[encoded data removed]",
      "text/plain": [
       "<Figure size 1080x360 with 2 Axes>"
      ]
     },
     "metadata": {
      "needs_background": "light"
     },
     "output_type": "display_data"
    }
   ],
   "source": [
    "# Теперь для оставшихся платформ-лидеров выведем корреляции и графиики:\n",
    "list4 = ['PS3','XOne','PS4','3DS']\n",
    "for name_platform in list4:\n",
    "    other_pl_corr(name_platform)"
   ]
  },
  {
   "cell_type": "markdown",
   "metadata": {},
   "source": [
    "**Вывод:**\n",
    "* общая тенденция такова, что выше оценки критиков, тем выше продажи.\n",
    "* к отзывам критиков при покупке игр пользователи относятся с большим вниманием, чем к отзывам пользователей"
   ]
  },
  {
   "cell_type": "markdown",
   "metadata": {},
   "source": [
    "### Зависимость продаж от жанра игр"
   ]
  },
  {
   "cell_type": "markdown",
   "metadata": {},
   "source": [
    "Построим сводную таблицу для отображения медианных значений продаж по жанрам игр"
   ]
  },
  {
   "cell_type": "code",
   "execution_count": 59,
   "metadata": {},
   "outputs": [
    {
     "data": {
      "text/html": [
       "<div>\n",
       "<style scoped>\n",
       "    .dataframe tbody tr th:only-of-type {\n",
       "        vertical-align: middle;\n",
       "    }\n",
       "\n",
       "    .dataframe tbody tr th {\n",
       "        vertical-align: top;\n",
       "    }\n",
       "\n",
       "    .dataframe thead th {\n",
       "        text-align: right;\n",
       "    }\n",
       "</style>\n",
       "<table border=\"1\" class=\"dataframe\">\n",
       "  <thead>\n",
       "    <tr style=\"text-align: right;\">\n",
       "      <th></th>\n",
       "      <th>total_sales</th>\n",
       "    </tr>\n",
       "    <tr>\n",
       "      <th>genre</th>\n",
       "      <th></th>\n",
       "    </tr>\n",
       "  </thead>\n",
       "  <tbody>\n",
       "    <tr>\n",
       "      <th>shooter</th>\n",
       "      <td>0.52</td>\n",
       "    </tr>\n",
       "    <tr>\n",
       "      <th>sports</th>\n",
       "      <td>0.18</td>\n",
       "    </tr>\n",
       "    <tr>\n",
       "      <th>platform</th>\n",
       "      <td>0.14</td>\n",
       "    </tr>\n",
       "    <tr>\n",
       "      <th>fighting</th>\n",
       "      <td>0.12</td>\n",
       "    </tr>\n",
       "    <tr>\n",
       "      <th>role-playing</th>\n",
       "      <td>0.11</td>\n",
       "    </tr>\n",
       "    <tr>\n",
       "      <th>simulation</th>\n",
       "      <td>0.10</td>\n",
       "    </tr>\n",
       "    <tr>\n",
       "      <th>action</th>\n",
       "      <td>0.09</td>\n",
       "    </tr>\n",
       "    <tr>\n",
       "      <th>misc</th>\n",
       "      <td>0.09</td>\n",
       "    </tr>\n",
       "    <tr>\n",
       "      <th>racing</th>\n",
       "      <td>0.09</td>\n",
       "    </tr>\n",
       "    <tr>\n",
       "      <th>strategy</th>\n",
       "      <td>0.06</td>\n",
       "    </tr>\n",
       "    <tr>\n",
       "      <th>puzzle</th>\n",
       "      <td>0.04</td>\n",
       "    </tr>\n",
       "    <tr>\n",
       "      <th>adventure</th>\n",
       "      <td>0.03</td>\n",
       "    </tr>\n",
       "  </tbody>\n",
       "</table>\n",
       "</div>"
      ],
      "text/plain": [
       "              total_sales\n",
       "genre                    \n",
       "shooter              0.52\n",
       "sports               0.18\n",
       "platform             0.14\n",
       "fighting             0.12\n",
       "role-playing         0.11\n",
       "simulation           0.10\n",
       "action               0.09\n",
       "misc                 0.09\n",
       "racing               0.09\n",
       "strategy             0.06\n",
       "puzzle               0.04\n",
       "adventure            0.03"
      ]
     },
     "metadata": {},
     "output_type": "display_data"
    }
   ],
   "source": [
    "genre_pivot = games_research.pivot_table(index='genre',values='total_sales',aggfunc='median').\\\n",
    "sort_values(by='total_sales',ascending=False)\n",
    "display(genre_pivot)              "
   ]
  },
  {
   "cell_type": "code",
   "execution_count": 60,
   "metadata": {},
   "outputs": [
    {
     "data": {
      "text/plain": [
       "Text(0, 0.5, 'Средние значения продаж')"
      ]
     },
     "execution_count": 60,
     "metadata": {},
     "output_type": "execute_result"
    },
    {
     "data": {
      "image/png": "[encoded data removed]",
      "text/plain": [
       "<Figure size 1008x432 with 1 Axes>"
      ]
     },
     "metadata": {
      "needs_background": "light"
     },
     "output_type": "display_data"
    }
   ],
   "source": [
    "# теперь построим график зависимости медианных значений продаж от жанра игр\n",
    "plt.figure(figsize=(14,6))\n",
    "plt.title(\"Средние продажи в зависимости от жанра игр\")\n",
    "sns.barplot(x=genre_pivot.index,y=genre_pivot['total_sales'])\n",
    "plt.xlabel(\"Наименование жанра игр\")\n",
    "plt.ylabel(\"Средние значения продаж\")"
   ]
  },
  {
   "cell_type": "markdown",
   "metadata": {},
   "source": [
    "**Вывод:**\n",
    "покупатели больше всего предпочитают игры в жанре стрелялок, а реже всего в жанре приключений. "
   ]
  },
  {
   "cell_type": "markdown",
   "metadata": {},
   "source": [
    "### Вывод по исследовательскому анализу данных"
   ]
  },
  {
   "cell_type": "markdown",
   "metadata": {},
   "source": [
    "* Количество новых игр стало расти с начала 90-х гг. и до 2008г., затем пошёл спад. Спад связан с развитием мобильной телефонии и ,как следствие, увеличением рынка мобильных игр.\n",
    "* Выбран актуальный период: c 2014г.\n",
    "* Самые популярные платформы - Sony Playstation 4, Xbox One, Nintendo 3DS, Sony Playstation 3, Xbox 360.\n",
    "* В среднем платформы существовали 10 лет. Но с развитием технологий этот срок снижается. Больше всего игры продаются на Xbox One и Xbox 360.\n",
    "* Самый резкий рост и резкий спад - Sony Playstation 4. Возможно это связано с началом развития рынка мобильных игр.\n",
    "* Чем выше оценки критиков, тем выше продажи. К отзывам критиков при покупке игр пользователи относятся с большим вниманием, чем к отзывам пользователей.\n",
    "* Покупатели больше всего предпочитают игры в жанре стрелялок, а реже всего приобретают игры в жанре приключений. "
   ]
  },
  {
   "cell_type": "markdown",
   "metadata": {},
   "source": [
    "## Составление портрета пользователя каждого региона"
   ]
  },
  {
   "cell_type": "markdown",
   "metadata": {},
   "source": [
    "Напишем процедуру для отражения зависимостей продаж от платформ, жанров и рейтинга ESRB для каждого региона\n",
    "(на одной строке будем размещать графики для разных регионов зависимоти"
   ]
  },
  {
   "cell_type": "code",
   "execution_count": 61,
   "metadata": {},
   "outputs": [],
   "source": [
    "list2 = ['na_sales','eu_sales','jp_sales']\n",
    "def sales_regions(df, row,title,x_label,func,ylabel_name):\n",
    "    fig, axes = plt.subplots(1, 3, figsize=(20, 5))\n",
    "    for reg_sales, ax in zip(list(['na_sales','eu_sales','jp_sales']), axes.flatten()[:3]):\n",
    "        reg_pivot = df.pivot_table(index=row, values=reg_sales, aggfunc=func).\\\n",
    "        sort_values(by=reg_sales, ascending=False).reset_index().rename_axis(None, axis=1).head(5)\n",
    "        print(reg_pivot)\n",
    "        print('\\n\\n')\n",
    "        sns.barplot(data=reg_pivot, x=row, y=reg_sales, ax=ax).set(xlabel=x_label,ylabel=ylabel_name)\n",
    "        fig.suptitle(title, fontsize=15)\n",
    "    axes[0].set_title('регион NA')\n",
    "    axes[1].set_title('регион EU')\n",
    "    axes[2].set_title('регион JP')\n",
    "    "
   ]
  },
  {
   "cell_type": "markdown",
   "metadata": {},
   "source": [
    "### Самые популярные платформы"
   ]
  },
  {
   "cell_type": "markdown",
   "metadata": {},
   "source": [
    "Посмотрим на пятерку самых популярных платформ в каждом регионе (по играм, выпущенным с 2014г.)"
   ]
  },
  {
   "cell_type": "code",
   "execution_count": 62,
   "metadata": {},
   "outputs": [
    {
     "name": "stdout",
     "output_type": "stream",
     "text": [
      "  platform  na_sales\n",
      "0      PS4     98.61\n",
      "1     XOne     81.27\n",
      "2     X360     28.30\n",
      "3      3DS     22.64\n",
      "4      PS3     22.05\n",
      "\n",
      "\n",
      "\n",
      "  platform  eu_sales\n",
      "0      PS4    130.04\n",
      "1     XOne     46.25\n",
      "2      PS3     25.54\n",
      "3       PC     17.97\n",
      "4      3DS     16.12\n",
      "\n",
      "\n",
      "\n",
      "  platform  jp_sales\n",
      "0      3DS     44.24\n",
      "1      PS4     15.02\n",
      "2      PSV     14.54\n",
      "3      PS3     11.22\n",
      "4     WiiU      7.31\n",
      "\n",
      "\n",
      "\n"
     ]
    },
    {
     "data": {
      "image/png": "[encoded data removed]",
      "text/plain": [
       "<Figure size 1440x360 with 3 Axes>"
      ]
     },
     "metadata": {
      "needs_background": "light"
     },
     "output_type": "display_data"
    }
   ],
   "source": [
    "sales_regions(games_research,'platform','Зависимость продаж от платформы','Платформа','sum','Продажи')"
   ]
  },
  {
   "cell_type": "markdown",
   "metadata": {},
   "source": [
    "**Вывод:**\n",
    "\n",
    "* В в NA и EU самая популярная платформа - Sony Playstation 4, в JP - это Nintendo 3DS\n",
    "* Пятерку лидеров в NA замыкает платформа Sony Playstation 3 (скорее всего это связано с характерным исчезновением платформы), в EU - Nintendo 3DS (платформа только набирает обороты), в JP - Nintendo WiiU"
   ]
  },
  {
   "cell_type": "markdown",
   "metadata": {},
   "source": [
    "Учитывая быстрые изменения технологий и, как следствие, компьютерных игр, посмотрим на продажи в регионах на основе данных за последний год, насколько будут кардинальны изменения."
   ]
  },
  {
   "cell_type": "code",
   "execution_count": 63,
   "metadata": {},
   "outputs": [],
   "source": [
    "games_last_1_years = games.query('year_of_release >= 2015')"
   ]
  },
  {
   "cell_type": "code",
   "execution_count": 64,
   "metadata": {},
   "outputs": [
    {
     "name": "stdout",
     "output_type": "stream",
     "text": [
      "  platform  na_sales\n",
      "0      PS4     63.86\n",
      "1     XOne     50.30\n",
      "2      3DS     10.31\n",
      "3     WiiU      8.86\n",
      "4     X360      8.05\n",
      "\n",
      "\n",
      "\n",
      "  platform  eu_sales\n",
      "0      PS4     83.54\n",
      "1     XOne     28.10\n",
      "2       PC      9.10\n",
      "3      3DS      7.39\n",
      "4      PS3      7.30\n",
      "\n",
      "\n",
      "\n",
      "  platform  jp_sales\n",
      "0      3DS     23.55\n",
      "1      PS4     12.05\n",
      "2      PSV      8.41\n",
      "3      PS3      4.97\n",
      "4     WiiU      4.12\n",
      "\n",
      "\n",
      "\n"
     ]
    },
    {
     "data": {
      "image/png": "[encoded data removed]",
      "text/plain": [
       "<Figure size 1440x360 with 3 Axes>"
      ]
     },
     "metadata": {
      "needs_background": "light"
     },
     "output_type": "display_data"
    }
   ],
   "source": [
    "sales_regions(games_last_1_years,'platform','Зависимость продаж от платформы','Платформа','sum','Продажи')"
   ]
  },
  {
   "cell_type": "markdown",
   "metadata": {},
   "source": [
    "**Вывод:**\n",
    "\n",
    "Как видим в NA на смену Sony Playstation 3 уже пришла Nintendo WiiU, в EU Sony Playstation 3 только сходит на нет, в JP - без изменений в влатформах-лидерах.\n"
   ]
  },
  {
   "cell_type": "markdown",
   "metadata": {},
   "source": [
    "### Самые популярные жанры"
   ]
  },
  {
   "cell_type": "markdown",
   "metadata": {},
   "source": [
    "Посмотрим на 5 самых популярных жанра для каждого региона"
   ]
  },
  {
   "cell_type": "code",
   "execution_count": 65,
   "metadata": {},
   "outputs": [
    {
     "name": "stdout",
     "output_type": "stream",
     "text": [
      "      genre  na_sales\n",
      "0   shooter      0.22\n",
      "1  platform      0.08\n",
      "2    sports      0.07\n",
      "3  fighting      0.04\n",
      "4    racing      0.03\n",
      "\n",
      "\n",
      "\n",
      "        genre  eu_sales\n",
      "0     shooter      0.22\n",
      "1    platform      0.06\n",
      "2      racing      0.05\n",
      "3      sports      0.05\n",
      "4  simulation      0.03\n",
      "\n",
      "\n",
      "\n",
      "          genre  jp_sales\n",
      "0  role-playing      0.05\n",
      "1      fighting      0.03\n",
      "2        puzzle      0.03\n",
      "3        action      0.01\n",
      "4     adventure      0.01\n",
      "\n",
      "\n",
      "\n"
     ]
    },
    {
     "data": {
      "image/png": "[encoded data removed]",
      "text/plain": [
       "<Figure size 1440x360 with 3 Axes>"
      ]
     },
     "metadata": {
      "needs_background": "light"
     },
     "output_type": "display_data"
    }
   ],
   "source": [
    "sales_regions(games_research,'genre','Зависимость средних продаж от жанра игры','Жанр игры','median','Средние значения продаж')"
   ]
  },
  {
   "cell_type": "markdown",
   "metadata": {},
   "source": [
    "**Вывод:**\n",
    "    \n",
    "В NA, EU пользователи больше всего предпочитают игры в жанре стрелялок, а вот в JP - игры ролевого жанра\n"
   ]
  },
  {
   "cell_type": "markdown",
   "metadata": {},
   "source": [
    "Проверим предположение, есть ли кардинальные изменения за последний год"
   ]
  },
  {
   "cell_type": "code",
   "execution_count": 66,
   "metadata": {},
   "outputs": [
    {
     "name": "stdout",
     "output_type": "stream",
     "text": [
      "      genre  na_sales\n",
      "0   shooter      0.17\n",
      "1  platform      0.05\n",
      "2    sports      0.04\n",
      "3  fighting      0.03\n",
      "4      misc      0.01\n",
      "\n",
      "\n",
      "\n",
      "      genre  eu_sales\n",
      "0   shooter      0.15\n",
      "1    sports      0.05\n",
      "2    racing      0.04\n",
      "3  platform      0.04\n",
      "4  strategy      0.04\n",
      "\n",
      "\n",
      "\n",
      "          genre  jp_sales\n",
      "0  role-playing      0.05\n",
      "1      fighting      0.03\n",
      "2          misc      0.02\n",
      "3        action      0.01\n",
      "4     adventure      0.01\n",
      "\n",
      "\n",
      "\n"
     ]
    },
    {
     "data": {
      "image/png": "[encoded data removed]",
      "text/plain": [
       "<Figure size 1440x360 with 3 Axes>"
      ]
     },
     "metadata": {
      "needs_background": "light"
     },
     "output_type": "display_data"
    }
   ],
   "source": [
    "sales_regions\\\n",
    "(games_research.query('year_of_release >=2015'),'genre','Зависимость средних продаж от жанра игры','Жанр игры','median','Средние значения продаж')"
   ]
  },
  {
   "cell_type": "markdown",
   "metadata": {},
   "source": [
    "В NA на смену racing пришли игры в жанре misc, в EU на смену simulation пришли стратегии, в JP на смену пазлам - misc."
   ]
  },
  {
   "cell_type": "markdown",
   "metadata": {},
   "source": [
    "### Влияние рейтинга ESRB на продажи в отдельном регионе"
   ]
  },
  {
   "cell_type": "code",
   "execution_count": 67,
   "metadata": {},
   "outputs": [
    {
     "name": "stdout",
     "output_type": "stream",
     "text": [
      "      rating  na_sales\n",
      "0          M     96.42\n",
      "1  No_rating     64.72\n",
      "2          E     50.74\n",
      "3          T     38.95\n",
      "4       E10+     33.23\n",
      "\n",
      "\n",
      "\n",
      "      rating  eu_sales\n",
      "0          M     93.44\n",
      "1  No_rating     58.95\n",
      "2          E     58.06\n",
      "3          T     34.07\n",
      "4       E10+     26.16\n",
      "\n",
      "\n",
      "\n",
      "      rating  jp_sales\n",
      "0  No_rating     56.90\n",
      "1          T     14.78\n",
      "2          E      8.94\n",
      "3          M      8.01\n",
      "4       E10+      4.46\n",
      "\n",
      "\n",
      "\n"
     ]
    },
    {
     "data": {
      "image/png": "[encoded data removed]",
      "text/plain": [
       "<Figure size 1440x360 with 3 Axes>"
      ]
     },
     "metadata": {
      "needs_background": "light"
     },
     "output_type": "display_data"
    }
   ],
   "source": [
    "sales_regions(games_research,'rating','Зависимость продаж от рейтинга ESRB','Рейтинг ESRB','sum','Продажи')"
   ]
  },
  {
   "cell_type": "markdown",
   "metadata": {},
   "source": [
    "**Вывод:**\n",
    "    \n",
    "* игры с рейтингом M (для взрослых) - самые популярные в NA и EU. В JP - игры без рейтинга.\n",
    "* в NA и EU одинаковые \"лидирующие\" рейтинги "
   ]
  },
  {
   "cell_type": "markdown",
   "metadata": {},
   "source": [
    "Посмотрим на предпочтения за последний год"
   ]
  },
  {
   "cell_type": "code",
   "execution_count": 68,
   "metadata": {},
   "outputs": [
    {
     "name": "stdout",
     "output_type": "stream",
     "text": [
      "      rating  na_sales\n",
      "0          M     47.03\n",
      "1  No_rating     37.44\n",
      "2          E     26.59\n",
      "3          T     22.86\n",
      "4       E10+     17.87\n",
      "\n",
      "\n",
      "\n",
      "      rating  eu_sales\n",
      "0          M     45.54\n",
      "1  No_rating     35.71\n",
      "2          E     34.83\n",
      "3          T     20.32\n",
      "4       E10+     11.54\n",
      "\n",
      "\n",
      "\n",
      "      rating  jp_sales\n",
      "0  No_rating     32.89\n",
      "1          T      7.70\n",
      "2          E      5.25\n",
      "3          M      4.29\n",
      "4       E10+      3.27\n",
      "\n",
      "\n",
      "\n"
     ]
    },
    {
     "data": {
      "image/png": "[encoded data removed]",
      "text/plain": [
       "<Figure size 1440x360 with 3 Axes>"
      ]
     },
     "metadata": {
      "needs_background": "light"
     },
     "output_type": "display_data"
    }
   ],
   "source": [
    "sales_regions\\\n",
    "(games_research.\\\n",
    " query('year_of_release >=2015'),'rating','Зависимость продаж от рейтинга ESRB','Рейтинг ESRB','sum','Продажи')"
   ]
  },
  {
   "cell_type": "markdown",
   "metadata": {},
   "source": [
    "**Вывод:**\n",
    "изменений в составе 'лидирующих' рейтингов нет"
   ]
  },
  {
   "cell_type": "markdown",
   "metadata": {},
   "source": [
    "### Вывод"
   ]
  },
  {
   "cell_type": "markdown",
   "metadata": {},
   "source": [
    "* Для Северной Америки/Европейского Союза при разработке рекламной стратегии стоит обратить внимание на:\n",
    "        * платформу Sony Playstation 4, \n",
    "        * жанр Shooter,\n",
    "        * возрастную категорию \"для взрослых\"\n",
    "* Для Японии делать ставку на:\n",
    "        * платформу Nintendo 3DS,\n",
    "        * жанр Action,\n",
    "        * возрастную категорию \"для подростков\""
   ]
  },
  {
   "cell_type": "markdown",
   "metadata": {},
   "source": [
    "## Проверка гипотез"
   ]
  },
  {
   "cell_type": "markdown",
   "metadata": {},
   "source": [
    "### Гипотеза 1"
   ]
  },
  {
   "cell_type": "markdown",
   "metadata": {},
   "source": [
    "<font size = 3> **Средние пользовательские рейтинги платформ Xbox One и PC одинаковые** </font>"
   ]
  },
  {
   "cell_type": "markdown",
   "metadata": {},
   "source": [
    "**Нулевая гипотеза H₀**: Средние пользовательские рейтинги платформ Xbox One и PC равны\n",
    "    \n",
    "**Альтернативная гипотеза H₁**: Средние пользовательские рейтинги платформ Xbox One и PC различаются"
   ]
  },
  {
   "cell_type": "code",
   "execution_count": 69,
   "metadata": {},
   "outputs": [],
   "source": [
    "alpha = 0.01  # критический уровень статистической значимости"
   ]
  },
  {
   "cell_type": "code",
   "execution_count": 70,
   "metadata": {},
   "outputs": [],
   "source": [
    "games_xone = games_research.query('platform ==\"XOne\" & user_score == user_score') "
   ]
  },
  {
   "cell_type": "code",
   "execution_count": 71,
   "metadata": {},
   "outputs": [],
   "source": [
    "games_pc = games_research.query('platform == \"PC\" & user_score == user_score')"
   ]
  },
  {
   "cell_type": "code",
   "execution_count": 72,
   "metadata": {},
   "outputs": [
    {
     "name": "stdout",
     "output_type": "stream",
     "text": [
      "Средний пользовательский рейтинг на платформе Xbox One:  6.59\n",
      "Средний пользовательский рейтинг на платформе PC:  6.3\n"
     ]
    }
   ],
   "source": [
    "print('Средний пользовательский рейтинг на платформе Xbox One: ', round(games_xone['user_score'].mean(),2))\n",
    "print('Средний пользовательский рейтинг на платформе PC: ', round(games_pc['user_score'].mean(),2))"
   ]
  },
  {
   "cell_type": "markdown",
   "metadata": {},
   "source": [
    "Чтобы проверить гипотезу о средних воспользуемся t-тестом."
   ]
  },
  {
   "cell_type": "code",
   "execution_count": 73,
   "metadata": {},
   "outputs": [],
   "source": [
    "results = st.ttest_ind(games_xone['user_score'], games_pc['user_score'])"
   ]
  },
  {
   "cell_type": "code",
   "execution_count": 74,
   "metadata": {},
   "outputs": [
    {
     "name": "stdout",
     "output_type": "stream",
     "text": [
      "p-значение: 0.1045051\n",
      "Не получилось отвергнуть нулевую гипотезу\n"
     ]
    }
   ],
   "source": [
    "print('p-значение:', round(results.pvalue,7))\n",
    "\n",
    "if results.pvalue < alpha:\n",
    "    print('Отвергаем нулевую гипотезу')\n",
    "else:\n",
    "    print('Не получилось отвергнуть нулевую гипотезу') "
   ]
  },
  {
   "cell_type": "markdown",
   "metadata": {},
   "source": [
    "**Вывод:** Не получилось отвергнуть нулевую гипотезу, с вероятностью 10% можем получить различность в пользовательских рейтингах двух платформ"
   ]
  },
  {
   "cell_type": "markdown",
   "metadata": {},
   "source": [
    "### Гипотеза 2"
   ]
  },
  {
   "cell_type": "markdown",
   "metadata": {},
   "source": [
    "<font size = 3> **Средние пользовательские рейтинги жанров Action (англ. «действие», экшен-игры) и Sports (англ. «спортивные соревнования») разные** </font>"
   ]
  },
  {
   "cell_type": "markdown",
   "metadata": {},
   "source": [
    "**Нулевая гипотеза H₀**: Средние пользовательские рейтинги жанров Action и Sports равны\n",
    "    \n",
    "**Альтернативная гипотеза H₁**: Средние пользовательские рейтинги жанров Action и Sports различаются"
   ]
  },
  {
   "cell_type": "code",
   "execution_count": 75,
   "metadata": {},
   "outputs": [],
   "source": [
    "alpha = 0.01  # критический уровень статистической значимости"
   ]
  },
  {
   "cell_type": "code",
   "execution_count": 76,
   "metadata": {},
   "outputs": [],
   "source": [
    "games_action = games_research.query('genre == \"action\" & user_score == user_score') "
   ]
  },
  {
   "cell_type": "code",
   "execution_count": 77,
   "metadata": {},
   "outputs": [],
   "source": [
    "games_sports = games_research.query('genre == \"sports\" & user_score == user_score') "
   ]
  },
  {
   "cell_type": "code",
   "execution_count": 78,
   "metadata": {},
   "outputs": [
    {
     "name": "stdout",
     "output_type": "stream",
     "text": [
      "Средний пользовательский рейтинг по играм с жанром Action:  6.76\n",
      "Средний пользовательский рейтинг по играм с жанром Sports:  5.23\n"
     ]
    }
   ],
   "source": [
    "print('Средний пользовательский рейтинг по играм с жанром Action: ', round(games_action['user_score'].mean(),2))\n",
    "print('Средний пользовательский рейтинг по играм с жанром Sports: ', round(games_sports['user_score'].mean(),2))"
   ]
  },
  {
   "cell_type": "markdown",
   "metadata": {},
   "source": [
    "Чтобы проверить гипотезу о средних воспользуемся t-тестом."
   ]
  },
  {
   "cell_type": "code",
   "execution_count": 79,
   "metadata": {},
   "outputs": [],
   "source": [
    "results2 = st.ttest_ind(games_action['user_score'], games_sports['user_score'])"
   ]
  },
  {
   "cell_type": "code",
   "execution_count": 80,
   "metadata": {},
   "outputs": [
    {
     "name": "stdout",
     "output_type": "stream",
     "text": [
      "p-значение: 0.0\n",
      "Отвергаем нулевую гипотезу\n"
     ]
    }
   ],
   "source": [
    "print('p-значение:', round(results2.pvalue,7))\n",
    "\n",
    "if results2.pvalue < alpha:\n",
    "    print('Отвергаем нулевую гипотезу')\n",
    "else:\n",
    "    print('Не получилось отвергнуть нулевую гипотезу') "
   ]
  },
  {
   "cell_type": "markdown",
   "metadata": {},
   "source": [
    "**Вывод:** отвергаем нулевую гипотезу, т.е. вероятность получить одинаковые пользовательские рейтинги для двух жанров нулевая."
   ]
  },
  {
   "cell_type": "markdown",
   "metadata": {},
   "source": [
    "### Вывод"
   ]
  },
  {
   "cell_type": "markdown",
   "metadata": {},
   "source": [
    "* *Гипотезу* \"Средние пользовательские рейтинги платформ Xbox One и PC равны\" не получилось отвергнуть\n",
    "* *Гипотезу* \"Средние пользовательские рейтинги жанров Action и Sports равны\" отвергли\n",
    "    "
   ]
  },
  {
   "cell_type": "markdown",
   "metadata": {},
   "source": [
    "## Общий вывод"
   ]
  },
  {
   "cell_type": "markdown",
   "metadata": {},
   "source": [
    "1. В результате анализа выяснили, что срок существования платформ с каждым годом сокращается.\n",
    "2. Мнение критиков для пользователей значительно важнее мнения других пользователей\n",
    "3. Учитывая быстрые изменения в сфере технологий и игровой индустрии, внимание стоит сконцентрировать на данных по играм, выпущенным не ранее, чем за год прогнозирования\n",
    "4. Рекламные компании для Северной Америки/Европейского Союза должны отличаться от рекламной компании для Японии:\n",
    "   * Для Северной Америки/Европейского Союза делать ставку на:\n",
    "        * платформу Sony Playstation 4, \n",
    "        * жанр Shooter,\n",
    "        * возрастную категорию \"для взрослых\"\n",
    "   * Для Японии делать ставку на:\n",
    "        * платформу Nintendo 3DS,\n",
    "        * жанр role-playing,"
   ]
  }
 ],
 "metadata": {
  "ExecuteTimeLog": [
   {
    "duration": 94,
    "start_time": "2021-08-26T17:23:37.380Z"
   },
   {
    "duration": 4,
    "start_time": "2021-08-27T03:09:03.356Z"
   },
   {
    "duration": 126,
    "start_time": "2021-08-27T03:13:15.672Z"
   },
   {
    "duration": 454,
    "start_time": "2021-08-27T03:19:56.151Z"
   },
   {
    "duration": 1307,
    "start_time": "2021-08-27T03:19:58.469Z"
   },
   {
    "duration": 3,
    "start_time": "2021-08-27T03:19:59.778Z"
   },
   {
    "duration": 2829,
    "start_time": "2021-08-27T03:22:28.051Z"
   },
   {
    "duration": 4486,
    "start_time": "2021-08-27T03:22:31.268Z"
   },
   {
    "duration": 51,
    "start_time": "2021-08-27T03:22:54.214Z"
   },
   {
    "duration": 26,
    "start_time": "2021-08-27T03:23:27.503Z"
   },
   {
    "duration": 16,
    "start_time": "2021-08-27T03:24:00.156Z"
   },
   {
    "duration": 49,
    "start_time": "2021-08-27T03:24:59.109Z"
   },
   {
    "duration": 19,
    "start_time": "2021-08-27T03:25:00.161Z"
   },
   {
    "duration": 9,
    "start_time": "2021-08-27T03:40:06.871Z"
   },
   {
    "duration": 18,
    "start_time": "2021-08-27T03:40:21.516Z"
   },
   {
    "duration": 3,
    "start_time": "2021-08-27T03:43:05.596Z"
   },
   {
    "duration": 392,
    "start_time": "2021-08-27T03:57:48.828Z"
   },
   {
    "duration": 3,
    "start_time": "2021-08-27T04:20:28.018Z"
   },
   {
    "duration": 3,
    "start_time": "2021-08-27T04:21:14.955Z"
   },
   {
    "duration": 149,
    "start_time": "2021-08-27T04:23:23.639Z"
   },
   {
    "duration": 26,
    "start_time": "2021-08-27T04:23:31.921Z"
   },
   {
    "duration": 18,
    "start_time": "2021-08-27T04:25:11.791Z"
   },
   {
    "duration": 9,
    "start_time": "2021-08-27T04:27:59.765Z"
   },
   {
    "duration": 20,
    "start_time": "2021-08-27T04:28:09.566Z"
   },
   {
    "duration": 3,
    "start_time": "2021-08-27T04:29:36.960Z"
   },
   {
    "duration": 5,
    "start_time": "2021-08-27T04:30:52.738Z"
   },
   {
    "duration": 6,
    "start_time": "2021-08-27T04:31:36.891Z"
   },
   {
    "duration": 7,
    "start_time": "2021-08-27T04:31:56.166Z"
   },
   {
    "duration": 29,
    "start_time": "2021-08-27T04:33:16.766Z"
   },
   {
    "duration": 353,
    "start_time": "2021-08-29T11:51:13.156Z"
   },
   {
    "duration": 1420,
    "start_time": "2021-08-29T11:51:21.622Z"
   },
   {
    "duration": 46,
    "start_time": "2021-08-29T11:51:23.045Z"
   },
   {
    "duration": 21,
    "start_time": "2021-08-29T11:51:23.093Z"
   },
   {
    "duration": 359,
    "start_time": "2021-08-29T11:51:23.117Z"
   },
   {
    "duration": -311,
    "start_time": "2021-08-29T11:51:23.790Z"
   },
   {
    "duration": -317,
    "start_time": "2021-08-29T11:51:23.797Z"
   },
   {
    "duration": -319,
    "start_time": "2021-08-29T11:51:23.801Z"
   },
   {
    "duration": -334,
    "start_time": "2021-08-29T11:51:23.817Z"
   },
   {
    "duration": -338,
    "start_time": "2021-08-29T11:51:23.822Z"
   },
   {
    "duration": -341,
    "start_time": "2021-08-29T11:51:23.827Z"
   },
   {
    "duration": 7447,
    "start_time": "2021-08-29T12:26:22.204Z"
   },
   {
    "duration": 310,
    "start_time": "2021-08-29T12:27:25.799Z"
   },
   {
    "duration": 318,
    "start_time": "2021-08-29T12:27:33.447Z"
   },
   {
    "duration": 308,
    "start_time": "2021-08-29T12:28:05.431Z"
   },
   {
    "duration": 4,
    "start_time": "2021-08-29T12:30:40.923Z"
   },
   {
    "duration": 307,
    "start_time": "2021-08-29T12:32:04.621Z"
   },
   {
    "duration": 294,
    "start_time": "2021-08-29T12:32:49.759Z"
   },
   {
    "duration": 17,
    "start_time": "2021-08-29T12:33:31.504Z"
   },
   {
    "duration": 8,
    "start_time": "2021-08-29T12:33:39.306Z"
   },
   {
    "duration": 15,
    "start_time": "2021-08-29T12:33:40.496Z"
   },
   {
    "duration": 16,
    "start_time": "2021-08-29T12:33:48.008Z"
   },
   {
    "duration": 13,
    "start_time": "2021-08-29T12:33:49.032Z"
   },
   {
    "duration": 5,
    "start_time": "2021-08-29T12:33:58.200Z"
   },
   {
    "duration": 23,
    "start_time": "2021-08-29T12:34:17.033Z"
   },
   {
    "duration": 362,
    "start_time": "2021-08-29T12:34:33.001Z"
   },
   {
    "duration": 123,
    "start_time": "2021-08-29T12:34:41.272Z"
   },
   {
    "duration": 303,
    "start_time": "2021-08-29T12:34:56.845Z"
   },
   {
    "duration": 6,
    "start_time": "2021-08-29T12:35:14.284Z"
   },
   {
    "duration": 10,
    "start_time": "2021-08-29T12:35:25.745Z"
   },
   {
    "duration": 10,
    "start_time": "2021-08-29T12:41:49.788Z"
   },
   {
    "duration": 16,
    "start_time": "2021-08-29T12:42:16.885Z"
   },
   {
    "duration": 16080,
    "start_time": "2021-08-29T12:43:48.224Z"
   },
   {
    "duration": 311,
    "start_time": "2021-08-29T12:44:40.915Z"
   },
   {
    "duration": 13,
    "start_time": "2021-08-29T12:45:14.802Z"
   },
   {
    "duration": 11,
    "start_time": "2021-08-29T12:45:30.570Z"
   },
   {
    "duration": 11,
    "start_time": "2021-08-29T12:45:48.061Z"
   },
   {
    "duration": 108,
    "start_time": "2021-08-29T13:02:53.880Z"
   },
   {
    "duration": 5,
    "start_time": "2021-08-29T13:03:26.287Z"
   },
   {
    "duration": 103,
    "start_time": "2021-08-29T13:04:02.409Z"
   },
   {
    "duration": 99,
    "start_time": "2021-08-29T13:04:19.688Z"
   },
   {
    "duration": 98,
    "start_time": "2021-08-29T13:04:44.942Z"
   },
   {
    "duration": 96,
    "start_time": "2021-08-29T13:05:48.714Z"
   },
   {
    "duration": 100,
    "start_time": "2021-08-29T13:07:05.580Z"
   },
   {
    "duration": 4,
    "start_time": "2021-08-29T13:07:10.525Z"
   },
   {
    "duration": 103,
    "start_time": "2021-08-29T13:07:11.575Z"
   },
   {
    "duration": 104,
    "start_time": "2021-08-29T13:07:27.286Z"
   },
   {
    "duration": 101,
    "start_time": "2021-08-29T13:07:49.799Z"
   },
   {
    "duration": 98,
    "start_time": "2021-08-29T13:07:57.742Z"
   },
   {
    "duration": 309,
    "start_time": "2021-08-29T13:09:37.786Z"
   },
   {
    "duration": 615,
    "start_time": "2021-08-29T13:09:48.016Z"
   },
   {
    "duration": 4,
    "start_time": "2021-08-29T13:12:17.806Z"
   },
   {
    "duration": 59239,
    "start_time": "2021-08-29T13:12:19.629Z"
   },
   {
    "duration": 24,
    "start_time": "2021-08-29T13:13:18.871Z"
   },
   {
    "duration": 27,
    "start_time": "2021-08-29T13:15:30.340Z"
   },
   {
    "duration": 96682,
    "start_time": "2021-08-29T13:16:12.303Z"
   },
   {
    "duration": 24,
    "start_time": "2021-08-29T13:21:41.597Z"
   },
   {
    "duration": 5,
    "start_time": "2021-08-29T13:21:54.293Z"
   },
   {
    "duration": 52,
    "start_time": "2021-08-29T13:21:54.301Z"
   },
   {
    "duration": 17,
    "start_time": "2021-08-29T13:21:54.356Z"
   },
   {
    "duration": 312,
    "start_time": "2021-08-29T13:21:54.377Z"
   },
   {
    "duration": -127,
    "start_time": "2021-08-29T13:21:54.820Z"
   },
   {
    "duration": -152,
    "start_time": "2021-08-29T13:21:54.847Z"
   },
   {
    "duration": -156,
    "start_time": "2021-08-29T13:21:54.852Z"
   },
   {
    "duration": -157,
    "start_time": "2021-08-29T13:21:54.855Z"
   },
   {
    "duration": -161,
    "start_time": "2021-08-29T13:21:54.861Z"
   },
   {
    "duration": -163,
    "start_time": "2021-08-29T13:21:54.865Z"
   },
   {
    "duration": -165,
    "start_time": "2021-08-29T13:21:54.869Z"
   },
   {
    "duration": 5,
    "start_time": "2021-08-29T13:22:01.682Z"
   },
   {
    "duration": 8479,
    "start_time": "2021-08-29T13:22:02.428Z"
   },
   {
    "duration": -120,
    "start_time": "2021-08-29T13:22:11.030Z"
   },
   {
    "duration": 1619,
    "start_time": "2021-08-29T13:22:27.282Z"
   },
   {
    "duration": 59,
    "start_time": "2021-08-29T13:22:28.905Z"
   },
   {
    "duration": 29,
    "start_time": "2021-08-29T13:22:28.968Z"
   },
   {
    "duration": 443,
    "start_time": "2021-08-29T13:22:29.001Z"
   },
   {
    "duration": -129,
    "start_time": "2021-08-29T13:22:29.578Z"
   },
   {
    "duration": -132,
    "start_time": "2021-08-29T13:22:29.583Z"
   },
   {
    "duration": -136,
    "start_time": "2021-08-29T13:22:29.589Z"
   },
   {
    "duration": -140,
    "start_time": "2021-08-29T13:22:29.595Z"
   },
   {
    "duration": -144,
    "start_time": "2021-08-29T13:22:29.600Z"
   },
   {
    "duration": -145,
    "start_time": "2021-08-29T13:22:29.603Z"
   },
   {
    "duration": -147,
    "start_time": "2021-08-29T13:22:29.607Z"
   },
   {
    "duration": -148,
    "start_time": "2021-08-29T13:22:29.610Z"
   },
   {
    "duration": -162,
    "start_time": "2021-08-29T13:22:29.625Z"
   },
   {
    "duration": -166,
    "start_time": "2021-08-29T13:22:29.631Z"
   },
   {
    "duration": -167,
    "start_time": "2021-08-29T13:22:29.634Z"
   },
   {
    "duration": 313,
    "start_time": "2021-08-29T13:22:42.670Z"
   },
   {
    "duration": 386,
    "start_time": "2021-08-29T13:22:44.605Z"
   },
   {
    "duration": 4,
    "start_time": "2021-08-29T13:22:53.670Z"
   },
   {
    "duration": 66,
    "start_time": "2021-08-29T13:22:53.676Z"
   },
   {
    "duration": 16,
    "start_time": "2021-08-29T13:22:53.745Z"
   },
   {
    "duration": 363,
    "start_time": "2021-08-29T13:22:53.764Z"
   },
   {
    "duration": -119,
    "start_time": "2021-08-29T13:22:54.249Z"
   },
   {
    "duration": -125,
    "start_time": "2021-08-29T13:22:54.256Z"
   },
   {
    "duration": -141,
    "start_time": "2021-08-29T13:22:54.273Z"
   },
   {
    "duration": -149,
    "start_time": "2021-08-29T13:22:54.282Z"
   },
   {
    "duration": -152,
    "start_time": "2021-08-29T13:22:54.286Z"
   },
   {
    "duration": -155,
    "start_time": "2021-08-29T13:22:54.290Z"
   },
   {
    "duration": -159,
    "start_time": "2021-08-29T13:22:54.295Z"
   },
   {
    "duration": -162,
    "start_time": "2021-08-29T13:22:54.299Z"
   },
   {
    "duration": -164,
    "start_time": "2021-08-29T13:22:54.302Z"
   },
   {
    "duration": 303,
    "start_time": "2021-08-29T13:22:56.902Z"
   },
   {
    "duration": 350,
    "start_time": "2021-08-29T13:22:57.651Z"
   },
   {
    "duration": 5,
    "start_time": "2021-08-29T13:23:09.366Z"
   },
   {
    "duration": 67,
    "start_time": "2021-08-29T13:23:09.374Z"
   },
   {
    "duration": 23,
    "start_time": "2021-08-29T13:23:09.445Z"
   },
   {
    "duration": 299,
    "start_time": "2021-08-29T13:23:09.472Z"
   },
   {
    "duration": -99,
    "start_time": "2021-08-29T13:23:09.873Z"
   },
   {
    "duration": -114,
    "start_time": "2021-08-29T13:23:09.889Z"
   },
   {
    "duration": -118,
    "start_time": "2021-08-29T13:23:09.894Z"
   },
   {
    "duration": -125,
    "start_time": "2021-08-29T13:23:09.902Z"
   },
   {
    "duration": -127,
    "start_time": "2021-08-29T13:23:09.905Z"
   },
   {
    "duration": -129,
    "start_time": "2021-08-29T13:23:09.908Z"
   },
   {
    "duration": -132,
    "start_time": "2021-08-29T13:23:09.912Z"
   },
   {
    "duration": -136,
    "start_time": "2021-08-29T13:23:09.917Z"
   },
   {
    "duration": 4,
    "start_time": "2021-08-29T13:23:12.110Z"
   },
   {
    "duration": 8698,
    "start_time": "2021-08-29T13:23:12.991Z"
   },
   {
    "duration": -164,
    "start_time": "2021-08-29T13:23:21.855Z"
   },
   {
    "duration": 4,
    "start_time": "2021-08-29T13:44:08.810Z"
   },
   {
    "duration": 60,
    "start_time": "2021-08-29T13:44:08.817Z"
   },
   {
    "duration": 17,
    "start_time": "2021-08-29T13:44:08.880Z"
   },
   {
    "duration": 303,
    "start_time": "2021-08-29T13:44:08.900Z"
   },
   {
    "duration": -72,
    "start_time": "2021-08-29T13:44:09.278Z"
   },
   {
    "duration": -88,
    "start_time": "2021-08-29T13:44:09.296Z"
   },
   {
    "duration": -93,
    "start_time": "2021-08-29T13:44:09.303Z"
   },
   {
    "duration": -98,
    "start_time": "2021-08-29T13:44:09.309Z"
   },
   {
    "duration": -101,
    "start_time": "2021-08-29T13:44:09.313Z"
   },
   {
    "duration": 4,
    "start_time": "2021-08-29T13:44:21.508Z"
   },
   {
    "duration": 50,
    "start_time": "2021-08-29T13:44:21.514Z"
   },
   {
    "duration": 16,
    "start_time": "2021-08-29T13:44:21.567Z"
   },
   {
    "duration": 304,
    "start_time": "2021-08-29T13:44:21.587Z"
   },
   {
    "duration": -88,
    "start_time": "2021-08-29T13:44:21.983Z"
   },
   {
    "duration": -91,
    "start_time": "2021-08-29T13:44:21.988Z"
   },
   {
    "duration": -93,
    "start_time": "2021-08-29T13:44:21.992Z"
   },
   {
    "duration": -93,
    "start_time": "2021-08-29T13:44:21.995Z"
   },
   {
    "duration": -95,
    "start_time": "2021-08-29T13:44:21.998Z"
   },
   {
    "duration": 7412,
    "start_time": "2021-08-29T13:44:34.194Z"
   },
   {
    "duration": 4,
    "start_time": "2021-08-29T13:44:49.658Z"
   },
   {
    "duration": 48,
    "start_time": "2021-08-29T13:44:49.665Z"
   },
   {
    "duration": 16,
    "start_time": "2021-08-29T13:44:49.716Z"
   },
   {
    "duration": 305,
    "start_time": "2021-08-29T13:44:49.735Z"
   },
   {
    "duration": -83,
    "start_time": "2021-08-29T13:44:50.125Z"
   },
   {
    "duration": -89,
    "start_time": "2021-08-29T13:44:50.132Z"
   },
   {
    "duration": -92,
    "start_time": "2021-08-29T13:44:50.137Z"
   },
   {
    "duration": -107,
    "start_time": "2021-08-29T13:44:50.154Z"
   },
   {
    "duration": 7568,
    "start_time": "2021-08-29T13:44:55.306Z"
   },
   {
    "duration": -73,
    "start_time": "2021-08-29T13:45:02.950Z"
   },
   {
    "duration": -80,
    "start_time": "2021-08-29T13:45:02.958Z"
   },
   {
    "duration": 4,
    "start_time": "2021-08-29T13:45:32.421Z"
   },
   {
    "duration": 53,
    "start_time": "2021-08-29T13:45:32.428Z"
   },
   {
    "duration": 15,
    "start_time": "2021-08-29T13:45:32.484Z"
   },
   {
    "duration": 405,
    "start_time": "2021-08-29T13:45:32.502Z"
   },
   {
    "duration": -55,
    "start_time": "2021-08-29T13:45:32.965Z"
   },
   {
    "duration": -59,
    "start_time": "2021-08-29T13:45:32.970Z"
   },
   {
    "duration": -62,
    "start_time": "2021-08-29T13:45:32.975Z"
   },
   {
    "duration": -67,
    "start_time": "2021-08-29T13:45:32.981Z"
   },
   {
    "duration": -69,
    "start_time": "2021-08-29T13:45:32.985Z"
   },
   {
    "duration": -72,
    "start_time": "2021-08-29T13:45:32.989Z"
   },
   {
    "duration": -75,
    "start_time": "2021-08-29T13:45:32.993Z"
   },
   {
    "duration": 4,
    "start_time": "2021-08-29T13:45:58.228Z"
   },
   {
    "duration": 44,
    "start_time": "2021-08-29T13:46:01.994Z"
   },
   {
    "duration": 16,
    "start_time": "2021-08-29T13:46:02.611Z"
   },
   {
    "duration": 394,
    "start_time": "2021-08-29T13:46:03.654Z"
   },
   {
    "duration": 13,
    "start_time": "2021-08-29T13:46:22.724Z"
   },
   {
    "duration": 6,
    "start_time": "2021-08-29T13:46:44.372Z"
   },
   {
    "duration": 24,
    "start_time": "2021-08-29T13:46:44.381Z"
   },
   {
    "duration": 11,
    "start_time": "2021-08-29T13:47:07.388Z"
   },
   {
    "duration": 13,
    "start_time": "2021-08-29T13:47:08.308Z"
   },
   {
    "duration": 5,
    "start_time": "2021-08-29T13:47:23.656Z"
   },
   {
    "duration": 23,
    "start_time": "2021-08-29T13:47:38.717Z"
   },
   {
    "duration": 11,
    "start_time": "2021-08-29T13:47:51.072Z"
   },
   {
    "duration": 4,
    "start_time": "2021-08-29T13:47:58.103Z"
   },
   {
    "duration": 63815,
    "start_time": "2021-08-29T13:48:01.168Z"
   },
   {
    "duration": 32,
    "start_time": "2021-08-29T13:49:05.020Z"
   },
   {
    "duration": 23,
    "start_time": "2021-08-29T13:49:50.441Z"
   },
   {
    "duration": 8,
    "start_time": "2021-08-29T13:50:31.037Z"
   },
   {
    "duration": 7,
    "start_time": "2021-08-29T13:51:34.132Z"
   },
   {
    "duration": 17,
    "start_time": "2021-08-29T13:52:16.942Z"
   },
   {
    "duration": 17,
    "start_time": "2021-08-29T13:52:34.550Z"
   },
   {
    "duration": 23,
    "start_time": "2021-08-29T13:53:53.969Z"
   },
   {
    "duration": 150,
    "start_time": "2021-08-29T14:01:35.752Z"
   },
   {
    "duration": 6,
    "start_time": "2021-08-29T14:01:52.565Z"
   },
   {
    "duration": 4,
    "start_time": "2021-08-29T14:03:46.600Z"
   },
   {
    "duration": 59880,
    "start_time": "2021-08-29T14:03:48.703Z"
   },
   {
    "duration": 12,
    "start_time": "2021-08-29T14:04:48.585Z"
   },
   {
    "duration": 15,
    "start_time": "2021-08-29T14:04:48.600Z"
   },
   {
    "duration": 54,
    "start_time": "2021-08-29T14:04:48.618Z"
   },
   {
    "duration": 17,
    "start_time": "2021-08-29T14:04:48.675Z"
   },
   {
    "duration": 19,
    "start_time": "2021-08-29T14:04:48.696Z"
   },
   {
    "duration": 24,
    "start_time": "2021-08-29T14:04:48.718Z"
   },
   {
    "duration": 27,
    "start_time": "2021-08-29T14:04:48.746Z"
   },
   {
    "duration": 29,
    "start_time": "2021-08-29T14:04:48.776Z"
   },
   {
    "duration": 13,
    "start_time": "2021-08-29T14:04:48.808Z"
   },
   {
    "duration": 24,
    "start_time": "2021-08-29T14:04:56.345Z"
   },
   {
    "duration": 13,
    "start_time": "2021-08-29T14:04:58.992Z"
   },
   {
    "duration": 4,
    "start_time": "2021-08-29T14:05:02.235Z"
   },
   {
    "duration": 62458,
    "start_time": "2021-08-29T14:05:03.425Z"
   },
   {
    "duration": 13,
    "start_time": "2021-08-29T14:06:05.886Z"
   },
   {
    "duration": 4,
    "start_time": "2021-08-29T14:06:05.902Z"
   },
   {
    "duration": 48,
    "start_time": "2021-08-29T14:06:05.909Z"
   },
   {
    "duration": 16,
    "start_time": "2021-08-29T14:06:05.959Z"
   },
   {
    "duration": 22,
    "start_time": "2021-08-29T14:06:05.977Z"
   },
   {
    "duration": 11,
    "start_time": "2021-08-29T14:06:06.001Z"
   },
   {
    "duration": 13,
    "start_time": "2021-08-29T14:06:06.016Z"
   },
   {
    "duration": 19,
    "start_time": "2021-08-29T14:06:06.032Z"
   },
   {
    "duration": 4,
    "start_time": "2021-08-29T14:06:18.348Z"
   },
   {
    "duration": 47,
    "start_time": "2021-08-29T14:06:18.354Z"
   },
   {
    "duration": 16,
    "start_time": "2021-08-29T14:06:18.404Z"
   },
   {
    "duration": 26,
    "start_time": "2021-08-29T14:06:18.423Z"
   },
   {
    "duration": 6,
    "start_time": "2021-08-29T14:06:18.452Z"
   },
   {
    "duration": 11,
    "start_time": "2021-08-29T14:06:18.460Z"
   },
   {
    "duration": 13,
    "start_time": "2021-08-29T14:06:18.473Z"
   },
   {
    "duration": 5,
    "start_time": "2021-08-29T14:06:23.003Z"
   },
   {
    "duration": 24,
    "start_time": "2021-08-29T14:06:24.917Z"
   },
   {
    "duration": 10,
    "start_time": "2021-08-29T14:06:27.667Z"
   },
   {
    "duration": 5,
    "start_time": "2021-08-29T14:06:29.878Z"
   },
   {
    "duration": 62673,
    "start_time": "2021-08-29T14:06:31.126Z"
   },
   {
    "duration": 12,
    "start_time": "2021-08-29T14:07:33.802Z"
   },
   {
    "duration": 27,
    "start_time": "2021-08-29T14:07:33.817Z"
   },
   {
    "duration": 1351,
    "start_time": "2021-08-30T03:30:11.930Z"
   },
   {
    "duration": 48,
    "start_time": "2021-08-30T03:30:13.283Z"
   },
   {
    "duration": 29,
    "start_time": "2021-08-30T03:30:13.334Z"
   },
   {
    "duration": 13,
    "start_time": "2021-08-30T03:30:13.366Z"
   },
   {
    "duration": 7,
    "start_time": "2021-08-30T03:30:13.382Z"
   },
   {
    "duration": 15,
    "start_time": "2021-08-30T03:30:13.391Z"
   },
   {
    "duration": 15,
    "start_time": "2021-08-30T03:30:13.408Z"
   },
   {
    "duration": 39,
    "start_time": "2021-08-30T03:30:13.426Z"
   },
   {
    "duration": 32,
    "start_time": "2021-08-30T03:30:13.467Z"
   },
   {
    "duration": 13,
    "start_time": "2021-08-30T03:30:13.501Z"
   },
   {
    "duration": 11,
    "start_time": "2021-08-30T03:30:13.516Z"
   },
   {
    "duration": 60507,
    "start_time": "2021-08-30T03:31:14.464Z"
   },
   {
    "duration": 12,
    "start_time": "2021-08-30T03:32:14.974Z"
   },
   {
    "duration": 5,
    "start_time": "2021-08-30T03:32:58.938Z"
   },
   {
    "duration": 5,
    "start_time": "2021-08-30T03:34:37.495Z"
   },
   {
    "duration": 5,
    "start_time": "2021-08-30T03:37:18.768Z"
   },
   {
    "duration": 5,
    "start_time": "2021-08-30T03:37:40.777Z"
   },
   {
    "duration": 5,
    "start_time": "2021-08-30T03:37:58.187Z"
   },
   {
    "duration": 6,
    "start_time": "2021-08-30T04:18:18.851Z"
   },
   {
    "duration": 5,
    "start_time": "2021-08-30T04:19:20.628Z"
   },
   {
    "duration": 100,
    "start_time": "2021-08-30T04:19:42.949Z"
   },
   {
    "duration": 67,
    "start_time": "2021-08-30T04:19:59.897Z"
   },
   {
    "duration": 6,
    "start_time": "2021-08-30T04:23:52.955Z"
   },
   {
    "duration": 7,
    "start_time": "2021-08-30T04:24:45.741Z"
   },
   {
    "duration": 6,
    "start_time": "2021-08-30T04:27:48.819Z"
   },
   {
    "duration": 5,
    "start_time": "2021-08-30T04:28:22.660Z"
   },
   {
    "duration": 46,
    "start_time": "2021-08-30T04:28:22.777Z"
   },
   {
    "duration": 18,
    "start_time": "2021-08-30T04:28:22.826Z"
   },
   {
    "duration": 14,
    "start_time": "2021-08-30T04:28:22.847Z"
   },
   {
    "duration": 6,
    "start_time": "2021-08-30T04:28:23.124Z"
   },
   {
    "duration": 12,
    "start_time": "2021-08-30T04:28:23.133Z"
   },
   {
    "duration": 14,
    "start_time": "2021-08-30T04:28:23.148Z"
   },
   {
    "duration": 6,
    "start_time": "2021-08-30T04:28:28.400Z"
   },
   {
    "duration": 28,
    "start_time": "2021-08-30T04:29:31.295Z"
   },
   {
    "duration": 11,
    "start_time": "2021-08-30T04:29:34.827Z"
   },
   {
    "duration": 5,
    "start_time": "2021-08-30T04:29:38.864Z"
   },
   {
    "duration": 61048,
    "start_time": "2021-08-30T04:29:41.068Z"
   },
   {
    "duration": 5,
    "start_time": "2021-08-30T04:30:42.119Z"
   },
   {
    "duration": 5,
    "start_time": "2021-08-30T04:57:54.547Z"
   },
   {
    "duration": 6,
    "start_time": "2021-08-30T04:57:55.593Z"
   },
   {
    "duration": 6,
    "start_time": "2021-08-30T04:58:02.513Z"
   },
   {
    "duration": 7,
    "start_time": "2021-08-30T04:58:03.377Z"
   },
   {
    "duration": 6086,
    "start_time": "2021-08-30T04:59:34.748Z"
   },
   {
    "duration": 10,
    "start_time": "2021-08-30T04:59:55.174Z"
   },
   {
    "duration": 42,
    "start_time": "2021-08-30T05:01:29.566Z"
   },
   {
    "duration": 8,
    "start_time": "2021-08-30T05:02:30.737Z"
   },
   {
    "duration": 8,
    "start_time": "2021-08-30T05:02:56.097Z"
   },
   {
    "duration": 9,
    "start_time": "2021-08-30T05:03:21.508Z"
   },
   {
    "duration": 33,
    "start_time": "2021-08-30T05:04:01.071Z"
   },
   {
    "duration": 25,
    "start_time": "2021-08-30T05:04:24.061Z"
   },
   {
    "duration": 25,
    "start_time": "2021-08-30T05:04:42.807Z"
   },
   {
    "duration": 7,
    "start_time": "2021-08-30T05:10:25.950Z"
   },
   {
    "duration": 6,
    "start_time": "2021-08-30T05:11:04.971Z"
   },
   {
    "duration": 1145,
    "start_time": "2021-08-30T18:27:06.731Z"
   },
   {
    "duration": 53,
    "start_time": "2021-08-30T18:27:07.878Z"
   },
   {
    "duration": 18,
    "start_time": "2021-08-30T18:27:07.934Z"
   },
   {
    "duration": 11,
    "start_time": "2021-08-30T18:27:07.954Z"
   },
   {
    "duration": 6,
    "start_time": "2021-08-30T18:27:07.967Z"
   },
   {
    "duration": 8,
    "start_time": "2021-08-30T18:27:07.975Z"
   },
   {
    "duration": 10,
    "start_time": "2021-08-30T18:27:07.985Z"
   },
   {
    "duration": 5,
    "start_time": "2021-08-30T18:27:08.041Z"
   },
   {
    "duration": 21,
    "start_time": "2021-08-30T18:27:08.048Z"
   },
   {
    "duration": 9,
    "start_time": "2021-08-30T18:27:08.070Z"
   },
   {
    "duration": 7,
    "start_time": "2021-08-30T18:27:08.081Z"
   },
   {
    "duration": 49705,
    "start_time": "2021-08-30T18:27:08.089Z"
   },
   {
    "duration": 4,
    "start_time": "2021-08-30T18:27:57.796Z"
   },
   {
    "duration": 7,
    "start_time": "2021-08-30T18:27:57.802Z"
   },
   {
    "duration": 5,
    "start_time": "2021-08-30T18:27:57.812Z"
   },
   {
    "duration": 5,
    "start_time": "2021-08-30T18:27:57.841Z"
   },
   {
    "duration": 5,
    "start_time": "2021-08-30T18:28:43.488Z"
   },
   {
    "duration": 47109,
    "start_time": "2021-08-30T18:28:45.704Z"
   },
   {
    "duration": 4,
    "start_time": "2021-08-30T18:29:32.815Z"
   },
   {
    "duration": 1365,
    "start_time": "2021-08-31T03:07:39.112Z"
   },
   {
    "duration": 48,
    "start_time": "2021-08-31T03:07:40.479Z"
   },
   {
    "duration": 29,
    "start_time": "2021-08-31T03:07:40.530Z"
   },
   {
    "duration": 17,
    "start_time": "2021-08-31T03:07:40.563Z"
   },
   {
    "duration": 10,
    "start_time": "2021-08-31T03:07:40.583Z"
   },
   {
    "duration": 14,
    "start_time": "2021-08-31T03:07:40.595Z"
   },
   {
    "duration": 63,
    "start_time": "2021-08-31T03:07:40.612Z"
   },
   {
    "duration": 6,
    "start_time": "2021-08-31T03:07:40.678Z"
   },
   {
    "duration": 34,
    "start_time": "2021-08-31T03:07:40.687Z"
   },
   {
    "duration": 47,
    "start_time": "2021-08-31T03:07:40.724Z"
   },
   {
    "duration": 5,
    "start_time": "2021-08-31T03:07:40.774Z"
   },
   {
    "duration": 69766,
    "start_time": "2021-08-31T03:07:40.781Z"
   },
   {
    "duration": 8,
    "start_time": "2021-08-31T03:08:50.549Z"
   },
   {
    "duration": 28,
    "start_time": "2021-08-31T03:08:50.560Z"
   },
   {
    "duration": 24,
    "start_time": "2021-08-31T03:08:50.590Z"
   },
   {
    "duration": 19,
    "start_time": "2021-08-31T03:08:50.617Z"
   },
   {
    "duration": 86,
    "start_time": "2021-08-31T03:08:50.639Z"
   },
   {
    "duration": 19,
    "start_time": "2021-08-31T03:08:50.727Z"
   },
   {
    "duration": 32,
    "start_time": "2021-08-31T03:08:50.748Z"
   },
   {
    "duration": 18,
    "start_time": "2021-08-31T03:08:50.782Z"
   },
   {
    "duration": 23,
    "start_time": "2021-08-31T03:08:50.803Z"
   },
   {
    "duration": 40,
    "start_time": "2021-08-31T03:08:50.829Z"
   },
   {
    "duration": 6,
    "start_time": "2021-08-31T03:10:06.374Z"
   },
   {
    "duration": 28,
    "start_time": "2021-08-31T03:10:15.473Z"
   },
   {
    "duration": 12,
    "start_time": "2021-08-31T03:10:39.423Z"
   },
   {
    "duration": 7,
    "start_time": "2021-08-31T03:11:05.742Z"
   },
   {
    "duration": 93830,
    "start_time": "2021-08-31T03:11:09.817Z"
   },
   {
    "duration": 7,
    "start_time": "2021-08-31T03:12:43.651Z"
   },
   {
    "duration": 6,
    "start_time": "2021-08-31T03:13:00.903Z"
   },
   {
    "duration": 7,
    "start_time": "2021-08-31T03:13:02.499Z"
   },
   {
    "duration": 8,
    "start_time": "2021-08-31T03:13:14.627Z"
   },
   {
    "duration": 64801,
    "start_time": "2021-08-31T03:16:05.560Z"
   },
   {
    "duration": 6,
    "start_time": "2021-08-31T03:17:10.364Z"
   },
   {
    "duration": 9,
    "start_time": "2021-08-31T03:31:41.119Z"
   },
   {
    "duration": 21,
    "start_time": "2021-08-31T03:32:14.345Z"
   },
   {
    "duration": 21,
    "start_time": "2021-08-31T03:38:34.905Z"
   },
   {
    "duration": 99,
    "start_time": "2021-08-31T03:39:51.113Z"
   },
   {
    "duration": 8,
    "start_time": "2021-08-31T03:40:10.408Z"
   },
   {
    "duration": 85,
    "start_time": "2021-08-31T03:41:37.467Z"
   },
   {
    "duration": 89,
    "start_time": "2021-08-31T03:41:56.201Z"
   },
   {
    "duration": 8,
    "start_time": "2021-08-31T03:42:12.908Z"
   },
   {
    "duration": 8,
    "start_time": "2021-08-31T03:43:02.723Z"
   },
   {
    "duration": 1205,
    "start_time": "2021-08-31T03:44:33.486Z"
   },
   {
    "duration": 6,
    "start_time": "2021-08-31T03:49:08.230Z"
   },
   {
    "duration": 6,
    "start_time": "2021-08-31T03:49:08.285Z"
   },
   {
    "duration": 15,
    "start_time": "2021-08-31T03:49:37.318Z"
   },
   {
    "duration": 7,
    "start_time": "2021-08-31T03:49:37.385Z"
   },
   {
    "duration": 6,
    "start_time": "2021-08-31T03:50:14.784Z"
   },
   {
    "duration": 8,
    "start_time": "2021-08-31T03:51:07.075Z"
   },
   {
    "duration": 1564,
    "start_time": "2021-08-31T03:52:48.689Z"
   },
   {
    "duration": 56,
    "start_time": "2021-08-31T03:52:50.257Z"
   },
   {
    "duration": 25,
    "start_time": "2021-08-31T03:52:50.824Z"
   },
   {
    "duration": 16,
    "start_time": "2021-08-31T03:52:54.899Z"
   },
   {
    "duration": 9,
    "start_time": "2021-08-31T03:53:00.471Z"
   },
   {
    "duration": 23,
    "start_time": "2021-08-31T03:53:03.743Z"
   },
   {
    "duration": 21,
    "start_time": "2021-08-31T03:53:04.551Z"
   },
   {
    "duration": 8,
    "start_time": "2021-08-31T03:53:23.287Z"
   },
   {
    "duration": 6,
    "start_time": "2021-08-31T03:53:40.401Z"
   },
   {
    "duration": 30,
    "start_time": "2021-08-31T03:53:45.682Z"
   },
   {
    "duration": 12,
    "start_time": "2021-08-31T03:53:50.185Z"
   },
   {
    "duration": 6,
    "start_time": "2021-08-31T03:55:30.587Z"
   },
   {
    "duration": 5,
    "start_time": "2021-08-31T03:55:40.796Z"
   },
   {
    "duration": 9,
    "start_time": "2021-08-31T03:55:40.859Z"
   },
   {
    "duration": 8,
    "start_time": "2021-08-31T03:57:06.562Z"
   },
   {
    "duration": 668,
    "start_time": "2021-08-31T03:57:08.207Z"
   },
   {
    "duration": 527,
    "start_time": "2021-08-31T03:58:56.498Z"
   },
   {
    "duration": 92,
    "start_time": "2021-08-31T03:59:26.417Z"
   },
   {
    "duration": 5,
    "start_time": "2021-08-31T03:59:46.619Z"
   },
   {
    "duration": 545,
    "start_time": "2021-08-31T03:59:51.131Z"
   },
   {
    "duration": 5,
    "start_time": "2021-08-31T04:01:20.069Z"
   },
   {
    "duration": 32646,
    "start_time": "2021-08-31T04:01:22.222Z"
   },
   {
    "duration": 7,
    "start_time": "2021-08-31T04:01:54.872Z"
   },
   {
    "duration": 6,
    "start_time": "2021-08-31T04:04:19.377Z"
   },
   {
    "duration": 534,
    "start_time": "2021-08-31T04:04:21.210Z"
   },
   {
    "duration": 5,
    "start_time": "2021-08-31T04:05:20.915Z"
   },
   {
    "duration": 562,
    "start_time": "2021-08-31T04:05:22.481Z"
   },
   {
    "duration": 6,
    "start_time": "2021-08-31T04:07:40.407Z"
   },
   {
    "duration": 40959,
    "start_time": "2021-08-31T04:07:41.753Z"
   },
   {
    "duration": 7,
    "start_time": "2021-08-31T04:08:22.715Z"
   },
   {
    "duration": 4,
    "start_time": "2021-08-31T04:08:27.944Z"
   },
   {
    "duration": 5,
    "start_time": "2021-08-31T04:08:28.928Z"
   },
   {
    "duration": 6,
    "start_time": "2021-08-31T04:08:32.969Z"
   },
   {
    "duration": 41401,
    "start_time": "2021-08-31T04:08:35.153Z"
   },
   {
    "duration": 10,
    "start_time": "2021-08-31T04:09:16.558Z"
   },
   {
    "duration": 7,
    "start_time": "2021-08-31T04:09:20.601Z"
   },
   {
    "duration": 6,
    "start_time": "2021-08-31T04:09:40.634Z"
   },
   {
    "duration": 22,
    "start_time": "2021-08-31T04:09:58.394Z"
   },
   {
    "duration": 6,
    "start_time": "2021-08-31T04:13:18.927Z"
   },
   {
    "duration": 21,
    "start_time": "2021-08-31T04:13:22.000Z"
   },
   {
    "duration": 8,
    "start_time": "2021-08-31T04:13:26.536Z"
   },
   {
    "duration": 7,
    "start_time": "2021-08-31T04:13:32.815Z"
   },
   {
    "duration": 5,
    "start_time": "2021-08-31T04:13:35.528Z"
   },
   {
    "duration": 7,
    "start_time": "2021-08-31T04:13:48.328Z"
   },
   {
    "duration": 14,
    "start_time": "2021-08-31T04:13:56.136Z"
   },
   {
    "duration": 6,
    "start_time": "2021-08-31T04:14:17.093Z"
   },
   {
    "duration": 1028,
    "start_time": "2021-08-31T04:17:55.223Z"
   },
   {
    "duration": 7,
    "start_time": "2021-08-31T04:20:04.220Z"
   },
   {
    "duration": 6,
    "start_time": "2021-08-31T04:22:32.992Z"
   },
   {
    "duration": 19,
    "start_time": "2021-08-31T04:22:44.184Z"
   },
   {
    "duration": 13,
    "start_time": "2021-08-31T04:26:20.261Z"
   },
   {
    "duration": 6,
    "start_time": "2021-08-31T04:26:20.319Z"
   },
   {
    "duration": 21,
    "start_time": "2021-08-31T04:30:17.059Z"
   },
   {
    "duration": 5,
    "start_time": "2021-08-31T04:30:36.649Z"
   },
   {
    "duration": 63,
    "start_time": "2021-08-31T04:30:36.656Z"
   },
   {
    "duration": 18,
    "start_time": "2021-08-31T04:30:36.722Z"
   },
   {
    "duration": 23,
    "start_time": "2021-08-31T04:30:36.743Z"
   },
   {
    "duration": 13,
    "start_time": "2021-08-31T04:30:36.769Z"
   },
   {
    "duration": 26,
    "start_time": "2021-08-31T04:30:36.784Z"
   },
   {
    "duration": 26,
    "start_time": "2021-08-31T04:30:36.813Z"
   },
   {
    "duration": 14,
    "start_time": "2021-08-31T04:30:36.842Z"
   },
   {
    "duration": 52,
    "start_time": "2021-08-31T04:30:36.859Z"
   },
   {
    "duration": 19,
    "start_time": "2021-08-31T04:30:36.915Z"
   },
   {
    "duration": 7,
    "start_time": "2021-08-31T04:30:36.956Z"
   },
   {
    "duration": 61453,
    "start_time": "2021-08-31T04:30:36.966Z"
   },
   {
    "duration": 6,
    "start_time": "2021-08-31T04:31:38.422Z"
   },
   {
    "duration": 23,
    "start_time": "2021-08-31T04:31:38.431Z"
   },
   {
    "duration": 22,
    "start_time": "2021-08-31T04:31:38.457Z"
   },
   {
    "duration": 25,
    "start_time": "2021-08-31T04:31:38.481Z"
   },
   {
    "duration": 38994,
    "start_time": "2021-08-31T04:31:38.509Z"
   },
   {
    "duration": 5,
    "start_time": "2021-08-31T04:32:17.505Z"
   },
   {
    "duration": 10,
    "start_time": "2021-08-31T04:32:17.514Z"
   },
   {
    "duration": 5,
    "start_time": "2021-08-31T04:32:17.526Z"
   },
   {
    "duration": 25,
    "start_time": "2021-08-31T04:32:17.533Z"
   },
   {
    "duration": 22,
    "start_time": "2021-08-31T04:32:17.561Z"
   },
   {
    "duration": 7,
    "start_time": "2021-08-31T04:32:17.585Z"
   },
   {
    "duration": 6,
    "start_time": "2021-08-31T04:32:51.927Z"
   },
   {
    "duration": 23,
    "start_time": "2021-08-31T04:32:53.903Z"
   },
   {
    "duration": 8,
    "start_time": "2021-08-31T04:32:57.104Z"
   },
   {
    "duration": 50,
    "start_time": "2021-08-31T04:32:58.961Z"
   },
   {
    "duration": 5,
    "start_time": "2021-08-31T04:36:38.779Z"
   },
   {
    "duration": 63,
    "start_time": "2021-08-31T04:36:38.787Z"
   },
   {
    "duration": 26,
    "start_time": "2021-08-31T04:36:38.853Z"
   },
   {
    "duration": 15,
    "start_time": "2021-08-31T04:36:38.882Z"
   },
   {
    "duration": 6,
    "start_time": "2021-08-31T04:36:38.899Z"
   },
   {
    "duration": 11,
    "start_time": "2021-08-31T04:36:38.907Z"
   },
   {
    "duration": 17,
    "start_time": "2021-08-31T04:36:38.957Z"
   },
   {
    "duration": 7,
    "start_time": "2021-08-31T04:36:38.977Z"
   },
   {
    "duration": 32,
    "start_time": "2021-08-31T04:36:38.987Z"
   },
   {
    "duration": 44,
    "start_time": "2021-08-31T04:36:39.021Z"
   },
   {
    "duration": 10,
    "start_time": "2021-08-31T04:36:39.068Z"
   },
   {
    "duration": 40183,
    "start_time": "2021-08-31T04:36:39.081Z"
   },
   {
    "duration": 14,
    "start_time": "2021-08-31T04:38:27.056Z"
   },
   {
    "duration": 11,
    "start_time": "2021-08-31T04:38:59.018Z"
   },
   {
    "duration": 11,
    "start_time": "2021-08-31T04:39:17.827Z"
   },
   {
    "duration": 14,
    "start_time": "2021-08-31T04:39:48.058Z"
   },
   {
    "duration": 15,
    "start_time": "2021-08-31T04:40:10.732Z"
   },
   {
    "duration": 12,
    "start_time": "2021-08-31T04:40:23.267Z"
   },
   {
    "duration": 6,
    "start_time": "2021-08-31T04:40:47.759Z"
   },
   {
    "duration": 6,
    "start_time": "2021-08-31T04:41:20.251Z"
   },
   {
    "duration": 5,
    "start_time": "2021-08-31T04:41:23.448Z"
   },
   {
    "duration": 6,
    "start_time": "2021-08-31T04:42:26.104Z"
   },
   {
    "duration": 5,
    "start_time": "2021-08-31T04:42:35.980Z"
   },
   {
    "duration": 51,
    "start_time": "2021-08-31T04:42:35.991Z"
   },
   {
    "duration": 24,
    "start_time": "2021-08-31T04:42:36.044Z"
   },
   {
    "duration": 21,
    "start_time": "2021-08-31T04:42:36.072Z"
   },
   {
    "duration": 6,
    "start_time": "2021-08-31T04:42:36.096Z"
   },
   {
    "duration": 25,
    "start_time": "2021-08-31T04:42:36.104Z"
   },
   {
    "duration": 37,
    "start_time": "2021-08-31T04:42:36.132Z"
   },
   {
    "duration": 6,
    "start_time": "2021-08-31T04:42:36.173Z"
   },
   {
    "duration": 27,
    "start_time": "2021-08-31T04:42:36.183Z"
   },
   {
    "duration": 11,
    "start_time": "2021-08-31T04:42:36.212Z"
   },
   {
    "duration": 7,
    "start_time": "2021-08-31T04:42:36.254Z"
   },
   {
    "duration": 40178,
    "start_time": "2021-08-31T04:42:36.264Z"
   },
   {
    "duration": 15,
    "start_time": "2021-08-31T04:43:16.445Z"
   },
   {
    "duration": 7,
    "start_time": "2021-08-31T04:43:16.463Z"
   },
   {
    "duration": 7,
    "start_time": "2021-08-31T04:44:08.775Z"
   },
   {
    "duration": 50,
    "start_time": "2021-08-31T04:44:08.785Z"
   },
   {
    "duration": 19,
    "start_time": "2021-08-31T04:44:08.838Z"
   },
   {
    "duration": 22,
    "start_time": "2021-08-31T04:44:08.860Z"
   },
   {
    "duration": 15,
    "start_time": "2021-08-31T04:44:08.884Z"
   },
   {
    "duration": 18,
    "start_time": "2021-08-31T04:44:08.901Z"
   },
   {
    "duration": 14,
    "start_time": "2021-08-31T04:44:08.922Z"
   },
   {
    "duration": 7,
    "start_time": "2021-08-31T04:44:08.956Z"
   },
   {
    "duration": 38,
    "start_time": "2021-08-31T04:44:08.966Z"
   },
   {
    "duration": 11,
    "start_time": "2021-08-31T04:44:09.007Z"
   },
   {
    "duration": 6,
    "start_time": "2021-08-31T04:44:12.819Z"
   },
   {
    "duration": 40880,
    "start_time": "2021-08-31T04:44:14.227Z"
   },
   {
    "duration": 12,
    "start_time": "2021-08-31T04:44:55.109Z"
   },
   {
    "duration": 6,
    "start_time": "2021-08-31T04:47:12.318Z"
   },
   {
    "duration": 7,
    "start_time": "2021-08-31T04:47:14.479Z"
   },
   {
    "duration": 85,
    "start_time": "2021-08-31T04:48:18.288Z"
   },
   {
    "duration": 16,
    "start_time": "2021-08-31T04:48:25.935Z"
   },
   {
    "duration": 7,
    "start_time": "2021-08-31T04:49:40.651Z"
   },
   {
    "duration": 39093,
    "start_time": "2021-08-31T04:49:41.818Z"
   },
   {
    "duration": 5,
    "start_time": "2021-08-31T04:50:20.914Z"
   },
   {
    "duration": 5,
    "start_time": "2021-08-31T04:51:27.438Z"
   },
   {
    "duration": 5,
    "start_time": "2021-08-31T04:51:50.301Z"
   },
   {
    "duration": 6,
    "start_time": "2021-08-31T04:51:59.846Z"
   },
   {
    "duration": 21,
    "start_time": "2021-08-31T04:52:01.734Z"
   },
   {
    "duration": 9,
    "start_time": "2021-08-31T04:52:15.353Z"
   },
   {
    "duration": 40785,
    "start_time": "2021-08-31T04:53:58.962Z"
   },
   {
    "duration": 6,
    "start_time": "2021-08-31T04:54:39.750Z"
   },
   {
    "duration": 12,
    "start_time": "2021-08-31T04:54:39.760Z"
   },
   {
    "duration": 5,
    "start_time": "2021-08-31T05:08:54.769Z"
   },
   {
    "duration": 6,
    "start_time": "2021-08-31T05:08:55.315Z"
   },
   {
    "duration": 7,
    "start_time": "2021-08-31T05:09:01.529Z"
   },
   {
    "duration": 39183,
    "start_time": "2021-08-31T05:09:06.042Z"
   },
   {
    "duration": 5,
    "start_time": "2021-08-31T05:09:45.228Z"
   },
   {
    "duration": 5,
    "start_time": "2021-08-31T05:09:56.488Z"
   },
   {
    "duration": 59,
    "start_time": "2021-08-31T05:09:56.496Z"
   },
   {
    "duration": 19,
    "start_time": "2021-08-31T05:09:56.558Z"
   },
   {
    "duration": 24,
    "start_time": "2021-08-31T05:09:56.581Z"
   },
   {
    "duration": 8,
    "start_time": "2021-08-31T05:09:56.608Z"
   },
   {
    "duration": 38,
    "start_time": "2021-08-31T05:09:56.619Z"
   },
   {
    "duration": 19,
    "start_time": "2021-08-31T05:09:56.662Z"
   },
   {
    "duration": 10,
    "start_time": "2021-08-31T05:09:56.684Z"
   },
   {
    "duration": 32,
    "start_time": "2021-08-31T05:09:56.697Z"
   },
   {
    "duration": 13,
    "start_time": "2021-08-31T05:09:56.755Z"
   },
   {
    "duration": 13,
    "start_time": "2021-08-31T05:09:56.771Z"
   },
   {
    "duration": 38371,
    "start_time": "2021-08-31T05:09:56.787Z"
   },
   {
    "duration": 12,
    "start_time": "2021-08-31T05:10:35.161Z"
   },
   {
    "duration": 12,
    "start_time": "2021-08-31T05:10:35.176Z"
   },
   {
    "duration": 11,
    "start_time": "2021-08-31T05:10:35.190Z"
   },
   {
    "duration": 6,
    "start_time": "2021-08-31T05:10:35.203Z"
   },
   {
    "duration": 6,
    "start_time": "2021-08-31T05:10:39.812Z"
   },
   {
    "duration": 40568,
    "start_time": "2021-08-31T05:10:41.133Z"
   },
   {
    "duration": 5,
    "start_time": "2021-08-31T05:11:21.704Z"
   },
   {
    "duration": 5,
    "start_time": "2021-08-31T05:11:56.802Z"
   },
   {
    "duration": 29,
    "start_time": "2021-08-31T05:14:02.874Z"
   },
   {
    "duration": 28,
    "start_time": "2021-08-31T05:14:21.946Z"
   },
   {
    "duration": 19,
    "start_time": "2021-08-31T05:15:28.316Z"
   },
   {
    "duration": 30,
    "start_time": "2021-08-31T05:16:19.716Z"
   },
   {
    "duration": 294,
    "start_time": "2021-08-31T05:18:55.315Z"
   },
   {
    "duration": 10,
    "start_time": "2021-08-31T05:19:04.531Z"
   },
   {
    "duration": 15,
    "start_time": "2021-08-31T05:19:15.378Z"
   },
   {
    "duration": 5,
    "start_time": "2021-08-31T05:19:33.184Z"
   },
   {
    "duration": 54,
    "start_time": "2021-08-31T05:19:33.191Z"
   },
   {
    "duration": 27,
    "start_time": "2021-08-31T05:19:33.248Z"
   },
   {
    "duration": 16,
    "start_time": "2021-08-31T05:19:33.278Z"
   },
   {
    "duration": 7,
    "start_time": "2021-08-31T05:19:33.296Z"
   },
   {
    "duration": 12,
    "start_time": "2021-08-31T05:19:33.305Z"
   },
   {
    "duration": 43,
    "start_time": "2021-08-31T05:19:33.321Z"
   },
   {
    "duration": 6,
    "start_time": "2021-08-31T05:19:33.367Z"
   },
   {
    "duration": 32,
    "start_time": "2021-08-31T05:19:33.376Z"
   },
   {
    "duration": 50,
    "start_time": "2021-08-31T05:19:33.410Z"
   },
   {
    "duration": 7,
    "start_time": "2021-08-31T05:19:33.463Z"
   },
   {
    "duration": 42703,
    "start_time": "2021-08-31T05:19:33.473Z"
   },
   {
    "duration": 11,
    "start_time": "2021-08-31T05:20:16.178Z"
   },
   {
    "duration": 8,
    "start_time": "2021-08-31T05:20:16.192Z"
   },
   {
    "duration": 14,
    "start_time": "2021-08-31T05:20:16.202Z"
   },
   {
    "duration": 9,
    "start_time": "2021-08-31T05:20:23.155Z"
   },
   {
    "duration": 14,
    "start_time": "2021-08-31T05:20:25.284Z"
   },
   {
    "duration": 13,
    "start_time": "2021-08-31T05:21:56.680Z"
   },
   {
    "duration": 6,
    "start_time": "2021-08-31T05:22:14.016Z"
   },
   {
    "duration": 30,
    "start_time": "2021-08-31T05:22:46.977Z"
   },
   {
    "duration": 6,
    "start_time": "2021-08-31T05:23:11.408Z"
   },
   {
    "duration": 5,
    "start_time": "2021-08-31T05:25:25.987Z"
   },
   {
    "duration": 5,
    "start_time": "2021-08-31T05:25:35.820Z"
   },
   {
    "duration": 14,
    "start_time": "2021-08-31T05:25:51.763Z"
   },
   {
    "duration": 10,
    "start_time": "2021-08-31T05:27:12.118Z"
   },
   {
    "duration": 14,
    "start_time": "2021-08-31T05:27:20.877Z"
   },
   {
    "duration": 6,
    "start_time": "2021-08-31T05:27:43.898Z"
   },
   {
    "duration": 7,
    "start_time": "2021-08-31T05:28:57.185Z"
   },
   {
    "duration": 7,
    "start_time": "2021-08-31T05:29:08.763Z"
   },
   {
    "duration": 20,
    "start_time": "2021-08-31T05:30:01.234Z"
   },
   {
    "duration": 24,
    "start_time": "2021-08-31T05:30:21.734Z"
   },
   {
    "duration": 1009,
    "start_time": "2021-08-31T05:31:01.140Z"
   },
   {
    "duration": 33,
    "start_time": "2021-08-31T05:31:19.040Z"
   },
   {
    "duration": 6,
    "start_time": "2021-08-31T05:36:24.410Z"
   },
   {
    "duration": 82,
    "start_time": "2021-08-31T05:36:24.420Z"
   },
   {
    "duration": 26,
    "start_time": "2021-08-31T05:36:24.506Z"
   },
   {
    "duration": 29,
    "start_time": "2021-08-31T05:36:24.536Z"
   },
   {
    "duration": 8,
    "start_time": "2021-08-31T05:36:24.568Z"
   },
   {
    "duration": 31,
    "start_time": "2021-08-31T05:36:24.579Z"
   },
   {
    "duration": 28,
    "start_time": "2021-08-31T05:36:24.614Z"
   },
   {
    "duration": 12,
    "start_time": "2021-08-31T05:36:24.654Z"
   },
   {
    "duration": 48,
    "start_time": "2021-08-31T05:36:24.668Z"
   },
   {
    "duration": 13,
    "start_time": "2021-08-31T05:36:24.718Z"
   },
   {
    "duration": 5,
    "start_time": "2021-08-31T05:37:10.054Z"
   },
   {
    "duration": 38789,
    "start_time": "2021-08-31T05:37:11.091Z"
   },
   {
    "duration": 11,
    "start_time": "2021-08-31T05:37:49.882Z"
   },
   {
    "duration": 6,
    "start_time": "2021-08-31T05:38:30.631Z"
   },
   {
    "duration": 9,
    "start_time": "2021-08-31T05:38:32.081Z"
   },
   {
    "duration": 5,
    "start_time": "2021-08-31T05:38:33.344Z"
   },
   {
    "duration": 38380,
    "start_time": "2021-08-31T05:41:17.213Z"
   },
   {
    "duration": 6,
    "start_time": "2021-08-31T05:41:55.595Z"
   },
   {
    "duration": 5,
    "start_time": "2021-08-31T05:43:00.200Z"
   },
   {
    "duration": 5,
    "start_time": "2021-08-31T05:43:41.817Z"
   },
   {
    "duration": 6,
    "start_time": "2021-08-31T05:43:52.312Z"
   },
   {
    "duration": 11,
    "start_time": "2021-08-31T05:44:04.937Z"
   },
   {
    "duration": 14,
    "start_time": "2021-08-31T05:44:06.488Z"
   },
   {
    "duration": 13,
    "start_time": "2021-08-31T05:44:32.675Z"
   },
   {
    "duration": 6,
    "start_time": "2021-08-31T05:44:52.114Z"
   },
   {
    "duration": 22,
    "start_time": "2021-08-31T05:46:44.857Z"
   },
   {
    "duration": 4,
    "start_time": "2021-08-31T05:47:02.339Z"
   },
   {
    "duration": 72,
    "start_time": "2021-08-31T05:47:02.346Z"
   },
   {
    "duration": 32,
    "start_time": "2021-08-31T05:47:02.421Z"
   },
   {
    "duration": 42,
    "start_time": "2021-08-31T05:47:02.459Z"
   },
   {
    "duration": 39,
    "start_time": "2021-08-31T05:47:02.504Z"
   },
   {
    "duration": 47,
    "start_time": "2021-08-31T05:47:02.546Z"
   },
   {
    "duration": 41,
    "start_time": "2021-08-31T05:47:02.597Z"
   },
   {
    "duration": 36,
    "start_time": "2021-08-31T05:47:02.642Z"
   },
   {
    "duration": 50,
    "start_time": "2021-08-31T05:47:02.680Z"
   },
   {
    "duration": 24,
    "start_time": "2021-08-31T05:47:02.733Z"
   },
   {
    "duration": 37,
    "start_time": "2021-08-31T05:47:02.761Z"
   },
   {
    "duration": 41941,
    "start_time": "2021-08-31T05:47:02.800Z"
   },
   {
    "duration": 16,
    "start_time": "2021-08-31T05:47:44.743Z"
   },
   {
    "duration": 15,
    "start_time": "2021-08-31T05:47:44.763Z"
   },
   {
    "duration": 14,
    "start_time": "2021-08-31T05:47:44.780Z"
   },
   {
    "duration": 7,
    "start_time": "2021-08-31T05:47:44.796Z"
   },
   {
    "duration": 41252,
    "start_time": "2021-08-31T05:47:44.805Z"
   },
   {
    "duration": 7,
    "start_time": "2021-08-31T05:48:26.060Z"
   },
   {
    "duration": 23,
    "start_time": "2021-08-31T05:48:26.072Z"
   },
   {
    "duration": 15,
    "start_time": "2021-08-31T05:48:26.098Z"
   },
   {
    "duration": 15,
    "start_time": "2021-08-31T05:48:26.116Z"
   },
   {
    "duration": 32,
    "start_time": "2021-08-31T05:48:44.411Z"
   },
   {
    "duration": 21,
    "start_time": "2021-08-31T05:49:10.555Z"
   },
   {
    "duration": 21,
    "start_time": "2021-08-31T05:49:21.114Z"
   },
   {
    "duration": 25,
    "start_time": "2021-08-31T05:49:32.370Z"
   },
   {
    "duration": 29,
    "start_time": "2021-08-31T05:49:46.546Z"
   },
   {
    "duration": 28,
    "start_time": "2021-08-31T05:50:07.700Z"
   },
   {
    "duration": 27,
    "start_time": "2021-08-31T05:50:31.294Z"
   },
   {
    "duration": 22,
    "start_time": "2021-08-31T05:58:48.627Z"
   },
   {
    "duration": 32,
    "start_time": "2021-08-31T06:05:40.525Z"
   },
   {
    "duration": 1163,
    "start_time": "2021-08-31T06:07:28.775Z"
   },
   {
    "duration": 6,
    "start_time": "2021-08-31T06:38:03.903Z"
   },
   {
    "duration": 6,
    "start_time": "2021-08-31T06:38:21.836Z"
   },
   {
    "duration": 7,
    "start_time": "2021-08-31T06:38:47.761Z"
   },
   {
    "duration": 7,
    "start_time": "2021-08-31T06:38:48.536Z"
   },
   {
    "duration": 7,
    "start_time": "2021-08-31T06:39:33.905Z"
   },
   {
    "duration": 8,
    "start_time": "2021-08-31T06:40:01.061Z"
   },
   {
    "duration": 5,
    "start_time": "2021-08-31T06:40:07.809Z"
   },
   {
    "duration": 59,
    "start_time": "2021-08-31T06:40:07.817Z"
   },
   {
    "duration": 21,
    "start_time": "2021-08-31T06:40:07.880Z"
   },
   {
    "duration": 20,
    "start_time": "2021-08-31T06:40:07.903Z"
   },
   {
    "duration": 14,
    "start_time": "2021-08-31T06:40:07.960Z"
   },
   {
    "duration": 16,
    "start_time": "2021-08-31T06:40:07.976Z"
   },
   {
    "duration": 18,
    "start_time": "2021-08-31T06:40:07.996Z"
   },
   {
    "duration": 18,
    "start_time": "2021-08-31T06:40:08.017Z"
   },
   {
    "duration": 34,
    "start_time": "2021-08-31T06:40:08.056Z"
   },
   {
    "duration": 12,
    "start_time": "2021-08-31T06:40:08.092Z"
   },
   {
    "duration": 21,
    "start_time": "2021-08-31T06:40:08.107Z"
   },
   {
    "duration": 43208,
    "start_time": "2021-08-31T06:40:08.154Z"
   },
   {
    "duration": 14,
    "start_time": "2021-08-31T06:40:51.364Z"
   },
   {
    "duration": 31,
    "start_time": "2021-08-31T06:40:51.380Z"
   },
   {
    "duration": 26,
    "start_time": "2021-08-31T06:40:51.413Z"
   },
   {
    "duration": 8,
    "start_time": "2021-08-31T06:40:51.441Z"
   },
   {
    "duration": 42019,
    "start_time": "2021-08-31T06:40:51.452Z"
   },
   {
    "duration": 7,
    "start_time": "2021-08-31T06:41:33.474Z"
   },
   {
    "duration": 24,
    "start_time": "2021-08-31T06:41:33.485Z"
   },
   {
    "duration": 23,
    "start_time": "2021-08-31T06:41:33.512Z"
   },
   {
    "duration": 28,
    "start_time": "2021-08-31T06:41:33.537Z"
   },
   {
    "duration": 37,
    "start_time": "2021-08-31T06:41:33.568Z"
   },
   {
    "duration": 28,
    "start_time": "2021-08-31T06:41:33.607Z"
   },
   {
    "duration": 69,
    "start_time": "2021-08-31T06:41:33.637Z"
   },
   {
    "duration": 5,
    "start_time": "2021-08-31T06:41:36.327Z"
   },
   {
    "duration": 7,
    "start_time": "2021-08-31T06:41:37.148Z"
   },
   {
    "duration": 6,
    "start_time": "2021-08-31T06:44:04.714Z"
   },
   {
    "duration": 27,
    "start_time": "2021-08-31T06:44:06.562Z"
   },
   {
    "duration": 9,
    "start_time": "2021-08-31T06:44:07.809Z"
   },
   {
    "duration": 37,
    "start_time": "2021-08-31T06:44:30.026Z"
   },
   {
    "duration": 5,
    "start_time": "2021-08-31T06:44:35.490Z"
   },
   {
    "duration": 7,
    "start_time": "2021-08-31T06:44:36.569Z"
   },
   {
    "duration": 6,
    "start_time": "2021-08-31T06:47:01.798Z"
   },
   {
    "duration": 6,
    "start_time": "2021-08-31T06:47:03.479Z"
   },
   {
    "duration": 25,
    "start_time": "2021-08-31T06:47:51.344Z"
   },
   {
    "duration": 7,
    "start_time": "2021-08-31T06:48:29.054Z"
   },
   {
    "duration": 56,
    "start_time": "2021-08-31T06:48:29.065Z"
   },
   {
    "duration": 45,
    "start_time": "2021-08-31T06:48:29.123Z"
   },
   {
    "duration": 15,
    "start_time": "2021-08-31T06:48:29.171Z"
   },
   {
    "duration": 7,
    "start_time": "2021-08-31T06:48:29.189Z"
   },
   {
    "duration": 11,
    "start_time": "2021-08-31T06:48:29.199Z"
   },
   {
    "duration": 43,
    "start_time": "2021-08-31T06:48:29.213Z"
   },
   {
    "duration": 8,
    "start_time": "2021-08-31T06:48:29.260Z"
   },
   {
    "duration": 31,
    "start_time": "2021-08-31T06:48:29.271Z"
   },
   {
    "duration": 16,
    "start_time": "2021-08-31T06:48:29.304Z"
   },
   {
    "duration": 9,
    "start_time": "2021-08-31T06:48:29.357Z"
   },
   {
    "duration": 40711,
    "start_time": "2021-08-31T06:48:29.369Z"
   },
   {
    "duration": 11,
    "start_time": "2021-08-31T06:49:10.083Z"
   },
   {
    "duration": 16,
    "start_time": "2021-08-31T06:49:10.097Z"
   },
   {
    "duration": 28,
    "start_time": "2021-08-31T06:49:10.116Z"
   },
   {
    "duration": 21,
    "start_time": "2021-08-31T06:49:10.147Z"
   },
   {
    "duration": 41383,
    "start_time": "2021-08-31T06:49:10.172Z"
   },
   {
    "duration": 7,
    "start_time": "2021-08-31T06:49:51.563Z"
   },
   {
    "duration": 8,
    "start_time": "2021-08-31T06:52:06.014Z"
   },
   {
    "duration": 292,
    "start_time": "2021-08-31T06:52:22.951Z"
   },
   {
    "duration": 16,
    "start_time": "2021-08-31T06:52:35.167Z"
   },
   {
    "duration": 6,
    "start_time": "2021-08-31T06:54:10.178Z"
   },
   {
    "duration": 22,
    "start_time": "2021-08-31T06:54:12.072Z"
   },
   {
    "duration": 9,
    "start_time": "2021-08-31T06:54:14.937Z"
   },
   {
    "duration": 31,
    "start_time": "2021-08-31T06:54:16.788Z"
   },
   {
    "duration": 5,
    "start_time": "2021-08-31T06:54:30.962Z"
   },
   {
    "duration": 5,
    "start_time": "2021-08-31T06:57:13.324Z"
   },
   {
    "duration": 66,
    "start_time": "2021-08-31T06:57:13.332Z"
   },
   {
    "duration": 18,
    "start_time": "2021-08-31T06:57:13.401Z"
   },
   {
    "duration": 42,
    "start_time": "2021-08-31T06:57:13.422Z"
   },
   {
    "duration": 7,
    "start_time": "2021-08-31T06:57:13.467Z"
   },
   {
    "duration": 10,
    "start_time": "2021-08-31T06:57:13.477Z"
   },
   {
    "duration": 13,
    "start_time": "2021-08-31T06:57:13.490Z"
   },
   {
    "duration": 48,
    "start_time": "2021-08-31T06:57:13.506Z"
   },
   {
    "duration": 30,
    "start_time": "2021-08-31T06:57:13.557Z"
   },
   {
    "duration": 15,
    "start_time": "2021-08-31T06:57:13.590Z"
   },
   {
    "duration": 15,
    "start_time": "2021-08-31T06:57:13.608Z"
   },
   {
    "duration": 41909,
    "start_time": "2021-08-31T06:57:13.626Z"
   },
   {
    "duration": 18,
    "start_time": "2021-08-31T06:57:55.538Z"
   },
   {
    "duration": 6,
    "start_time": "2021-08-31T06:57:55.559Z"
   },
   {
    "duration": 19,
    "start_time": "2021-08-31T06:57:55.568Z"
   },
   {
    "duration": 7,
    "start_time": "2021-08-31T06:57:55.590Z"
   },
   {
    "duration": 41733,
    "start_time": "2021-08-31T06:57:55.600Z"
   },
   {
    "duration": 8,
    "start_time": "2021-08-31T06:58:37.358Z"
   },
   {
    "duration": 6,
    "start_time": "2021-08-31T06:58:41.725Z"
   },
   {
    "duration": 27,
    "start_time": "2021-08-31T06:58:45.442Z"
   },
   {
    "duration": 8,
    "start_time": "2021-08-31T06:58:53.269Z"
   },
   {
    "duration": 33,
    "start_time": "2021-08-31T06:58:56.175Z"
   },
   {
    "duration": 5,
    "start_time": "2021-08-31T06:59:03.976Z"
   },
   {
    "duration": 20,
    "start_time": "2021-08-31T06:59:08.613Z"
   },
   {
    "duration": 1128,
    "start_time": "2021-08-31T06:59:17.170Z"
   },
   {
    "duration": 6,
    "start_time": "2021-08-31T07:04:40.995Z"
   },
   {
    "duration": 599,
    "start_time": "2021-08-31T07:05:38.357Z"
   },
   {
    "duration": 5,
    "start_time": "2021-08-31T07:07:21.526Z"
   },
   {
    "duration": 585,
    "start_time": "2021-08-31T07:07:23.201Z"
   },
   {
    "duration": 6,
    "start_time": "2021-08-31T07:09:43.123Z"
   },
   {
    "duration": 558,
    "start_time": "2021-08-31T07:09:45.174Z"
   },
   {
    "duration": 5,
    "start_time": "2021-08-31T07:10:08.186Z"
   },
   {
    "duration": 6,
    "start_time": "2021-08-31T07:10:11.786Z"
   },
   {
    "duration": 56252,
    "start_time": "2021-08-31T07:10:12.555Z"
   },
   {
    "duration": 39,
    "start_time": "2021-08-31T07:11:08.817Z"
   },
   {
    "duration": 6,
    "start_time": "2021-08-31T07:11:11.982Z"
   },
   {
    "duration": 54774,
    "start_time": "2021-08-31T07:11:19.411Z"
   },
   {
    "duration": 7,
    "start_time": "2021-08-31T07:12:21.470Z"
   },
   {
    "duration": 55906,
    "start_time": "2021-08-31T07:12:23.982Z"
   },
   {
    "duration": 7,
    "start_time": "2021-08-31T07:13:19.890Z"
   },
   {
    "duration": 6,
    "start_time": "2021-08-31T07:15:05.554Z"
   },
   {
    "duration": 649,
    "start_time": "2021-08-31T07:15:07.628Z"
   },
   {
    "duration": 5,
    "start_time": "2021-08-31T07:15:51.987Z"
   },
   {
    "duration": 1575,
    "start_time": "2021-08-31T13:53:09.863Z"
   },
   {
    "duration": 62,
    "start_time": "2021-08-31T13:53:11.440Z"
   },
   {
    "duration": 33,
    "start_time": "2021-08-31T13:53:11.506Z"
   },
   {
    "duration": 15,
    "start_time": "2021-08-31T13:53:11.542Z"
   },
   {
    "duration": 33,
    "start_time": "2021-08-31T13:53:11.559Z"
   },
   {
    "duration": 15,
    "start_time": "2021-08-31T13:53:11.595Z"
   },
   {
    "duration": 14,
    "start_time": "2021-08-31T13:53:11.612Z"
   },
   {
    "duration": 6,
    "start_time": "2021-08-31T13:53:11.631Z"
   },
   {
    "duration": 42,
    "start_time": "2021-08-31T13:53:11.684Z"
   },
   {
    "duration": 14,
    "start_time": "2021-08-31T13:53:11.728Z"
   },
   {
    "duration": 39,
    "start_time": "2021-08-31T13:53:11.745Z"
   },
   {
    "duration": 43720,
    "start_time": "2021-08-31T13:53:11.787Z"
   },
   {
    "duration": 11,
    "start_time": "2021-08-31T13:53:55.509Z"
   },
   {
    "duration": 18,
    "start_time": "2021-08-31T13:53:55.522Z"
   },
   {
    "duration": 20,
    "start_time": "2021-08-31T13:53:55.543Z"
   },
   {
    "duration": 17,
    "start_time": "2021-08-31T13:53:55.566Z"
   },
   {
    "duration": 50248,
    "start_time": "2021-08-31T13:53:55.585Z"
   },
   {
    "duration": 6,
    "start_time": "2021-08-31T13:54:45.836Z"
   },
   {
    "duration": 332,
    "start_time": "2021-09-01T03:15:38.208Z"
   },
   {
    "duration": 1408,
    "start_time": "2021-09-01T03:17:48.537Z"
   },
   {
    "duration": 47,
    "start_time": "2021-09-01T03:17:49.948Z"
   },
   {
    "duration": 23,
    "start_time": "2021-09-01T03:17:49.998Z"
   },
   {
    "duration": 15,
    "start_time": "2021-09-01T03:17:50.023Z"
   },
   {
    "duration": 31,
    "start_time": "2021-09-01T03:17:50.040Z"
   },
   {
    "duration": 12,
    "start_time": "2021-09-01T03:17:50.073Z"
   },
   {
    "duration": 13,
    "start_time": "2021-09-01T03:17:50.088Z"
   },
   {
    "duration": 6,
    "start_time": "2021-09-01T03:17:50.104Z"
   },
   {
    "duration": 62,
    "start_time": "2021-09-01T03:17:50.113Z"
   },
   {
    "duration": 10,
    "start_time": "2021-09-01T03:17:50.177Z"
   },
   {
    "duration": 8,
    "start_time": "2021-09-01T03:17:50.190Z"
   },
   {
    "duration": 40889,
    "start_time": "2021-09-01T03:17:50.200Z"
   },
   {
    "duration": 11,
    "start_time": "2021-09-01T03:18:31.091Z"
   },
   {
    "duration": 10,
    "start_time": "2021-09-01T03:18:31.104Z"
   },
   {
    "duration": 22,
    "start_time": "2021-09-01T03:18:31.116Z"
   },
   {
    "duration": 9,
    "start_time": "2021-09-01T03:18:31.140Z"
   },
   {
    "duration": 39916,
    "start_time": "2021-09-01T03:18:31.167Z"
   },
   {
    "duration": 5,
    "start_time": "2021-09-01T03:19:11.085Z"
   },
   {
    "duration": 9,
    "start_time": "2021-09-01T03:19:11.092Z"
   },
   {
    "duration": 33,
    "start_time": "2021-09-01T03:19:11.104Z"
   },
   {
    "duration": 49,
    "start_time": "2021-09-01T03:19:11.140Z"
   },
   {
    "duration": 49,
    "start_time": "2021-09-01T03:19:11.193Z"
   },
   {
    "duration": 4,
    "start_time": "2021-09-01T03:19:11.246Z"
   },
   {
    "duration": 4,
    "start_time": "2021-09-01T03:19:41.809Z"
   },
   {
    "duration": 753,
    "start_time": "2021-09-01T03:19:43.195Z"
   },
   {
    "duration": 4,
    "start_time": "2021-09-01T03:20:29.037Z"
   },
   {
    "duration": 679,
    "start_time": "2021-09-01T03:20:29.045Z"
   },
   {
    "duration": 4,
    "start_time": "2021-09-01T03:26:27.450Z"
   },
   {
    "duration": 677,
    "start_time": "2021-09-01T03:26:28.692Z"
   },
   {
    "duration": 4,
    "start_time": "2021-09-01T03:26:43.195Z"
   },
   {
    "duration": 634,
    "start_time": "2021-09-01T03:26:44.804Z"
   },
   {
    "duration": 4085,
    "start_time": "2021-09-01T03:27:02.027Z"
   },
   {
    "duration": 114,
    "start_time": "2021-09-01T03:32:08.108Z"
   },
   {
    "duration": 5,
    "start_time": "2021-09-01T03:32:31.508Z"
   },
   {
    "duration": 1145,
    "start_time": "2021-09-01T03:32:33.188Z"
   },
   {
    "duration": 1365,
    "start_time": "2021-09-01T03:32:53.229Z"
   },
   {
    "duration": 3698,
    "start_time": "2021-09-01T03:34:44.488Z"
   },
   {
    "duration": 4,
    "start_time": "2021-09-01T03:35:21.742Z"
   },
   {
    "duration": 62,
    "start_time": "2021-09-01T03:35:21.750Z"
   },
   {
    "duration": 20,
    "start_time": "2021-09-01T03:35:21.816Z"
   },
   {
    "duration": 37,
    "start_time": "2021-09-01T03:35:21.838Z"
   },
   {
    "duration": 20,
    "start_time": "2021-09-01T03:35:21.877Z"
   },
   {
    "duration": 20,
    "start_time": "2021-09-01T03:35:21.900Z"
   },
   {
    "duration": 21,
    "start_time": "2021-09-01T03:35:21.923Z"
   },
   {
    "duration": 20,
    "start_time": "2021-09-01T03:35:21.947Z"
   },
   {
    "duration": 42,
    "start_time": "2021-09-01T03:35:21.970Z"
   },
   {
    "duration": 21,
    "start_time": "2021-09-01T03:35:22.015Z"
   },
   {
    "duration": 18,
    "start_time": "2021-09-01T03:35:22.039Z"
   },
   {
    "duration": 40607,
    "start_time": "2021-09-01T03:35:22.060Z"
   },
   {
    "duration": 10,
    "start_time": "2021-09-01T03:36:02.670Z"
   },
   {
    "duration": 9,
    "start_time": "2021-09-01T03:36:02.683Z"
   },
   {
    "duration": 10,
    "start_time": "2021-09-01T03:36:02.694Z"
   },
   {
    "duration": 8,
    "start_time": "2021-09-01T03:36:02.706Z"
   },
   {
    "duration": 39915,
    "start_time": "2021-09-01T03:36:02.716Z"
   },
   {
    "duration": 6,
    "start_time": "2021-09-01T03:36:42.633Z"
   },
   {
    "duration": 26,
    "start_time": "2021-09-01T03:36:42.642Z"
   },
   {
    "duration": 29,
    "start_time": "2021-09-01T03:36:42.670Z"
   },
   {
    "duration": 7,
    "start_time": "2021-09-01T03:36:42.702Z"
   },
   {
    "duration": 39,
    "start_time": "2021-09-01T03:36:42.712Z"
   },
   {
    "duration": 6,
    "start_time": "2021-09-01T03:36:54.250Z"
   },
   {
    "duration": 6,
    "start_time": "2021-09-01T03:37:14.508Z"
   },
   {
    "duration": 6,
    "start_time": "2021-09-01T03:37:27.923Z"
   },
   {
    "duration": 11,
    "start_time": "2021-09-01T03:38:15.889Z"
   },
   {
    "duration": 7,
    "start_time": "2021-09-01T03:38:18.726Z"
   },
   {
    "duration": 14,
    "start_time": "2021-09-01T03:40:20.168Z"
   },
   {
    "duration": 6,
    "start_time": "2021-09-01T03:41:21.960Z"
   },
   {
    "duration": 671,
    "start_time": "2021-09-01T03:41:24.036Z"
   },
   {
    "duration": 1324,
    "start_time": "2021-09-02T06:18:48.629Z"
   },
   {
    "duration": 52,
    "start_time": "2021-09-02T06:18:49.956Z"
   },
   {
    "duration": 33,
    "start_time": "2021-09-02T06:18:50.013Z"
   },
   {
    "duration": 22,
    "start_time": "2021-09-02T06:18:50.049Z"
   },
   {
    "duration": 9,
    "start_time": "2021-09-02T06:18:50.075Z"
   },
   {
    "duration": 16,
    "start_time": "2021-09-02T06:18:50.087Z"
   },
   {
    "duration": 47,
    "start_time": "2021-09-02T06:18:50.106Z"
   },
   {
    "duration": 6,
    "start_time": "2021-09-02T06:18:50.157Z"
   },
   {
    "duration": 27,
    "start_time": "2021-09-02T06:18:50.166Z"
   },
   {
    "duration": 11,
    "start_time": "2021-09-02T06:18:50.196Z"
   },
   {
    "duration": 6,
    "start_time": "2021-09-02T06:18:50.242Z"
   },
   {
    "duration": 34539,
    "start_time": "2021-09-02T06:18:50.251Z"
   },
   {
    "duration": 10,
    "start_time": "2021-09-02T06:19:24.792Z"
   },
   {
    "duration": 20,
    "start_time": "2021-09-02T06:19:24.805Z"
   },
   {
    "duration": 18,
    "start_time": "2021-09-02T06:19:24.827Z"
   },
   {
    "duration": 7,
    "start_time": "2021-09-02T06:19:24.847Z"
   },
   {
    "duration": 34318,
    "start_time": "2021-09-02T06:19:24.857Z"
   },
   {
    "duration": 6,
    "start_time": "2021-09-02T06:19:59.178Z"
   },
   {
    "duration": 16,
    "start_time": "2021-09-02T06:19:59.187Z"
   },
   {
    "duration": 34,
    "start_time": "2021-09-02T06:19:59.205Z"
   },
   {
    "duration": 19,
    "start_time": "2021-09-02T06:19:59.242Z"
   },
   {
    "duration": 35,
    "start_time": "2021-09-02T06:19:59.263Z"
   },
   {
    "duration": 16,
    "start_time": "2021-09-02T06:19:59.302Z"
   },
   {
    "duration": 29,
    "start_time": "2021-09-02T06:19:59.321Z"
   },
   {
    "duration": 27,
    "start_time": "2021-09-02T06:19:59.352Z"
   },
   {
    "duration": 25,
    "start_time": "2021-09-02T06:19:59.382Z"
   },
   {
    "duration": 991,
    "start_time": "2021-09-02T06:19:59.409Z"
   },
   {
    "duration": 424,
    "start_time": "2021-09-02T06:19:59.979Z"
   },
   {
    "duration": 417,
    "start_time": "2021-09-02T06:19:59.987Z"
   },
   {
    "duration": 412,
    "start_time": "2021-09-02T06:19:59.993Z"
   },
   {
    "duration": 409,
    "start_time": "2021-09-02T06:19:59.998Z"
   },
   {
    "duration": 400,
    "start_time": "2021-09-02T06:20:00.008Z"
   },
   {
    "duration": 397,
    "start_time": "2021-09-02T06:20:00.013Z"
   },
   {
    "duration": 392,
    "start_time": "2021-09-02T06:20:00.019Z"
   },
   {
    "duration": 388,
    "start_time": "2021-09-02T06:20:00.024Z"
   },
   {
    "duration": 12,
    "start_time": "2021-09-02T06:20:25.623Z"
   },
   {
    "duration": 6,
    "start_time": "2021-09-02T06:20:30.034Z"
   },
   {
    "duration": 6,
    "start_time": "2021-09-02T06:20:45.511Z"
   },
   {
    "duration": 43074,
    "start_time": "2021-09-02T06:20:54.583Z"
   },
   {
    "duration": 25,
    "start_time": "2021-09-02T06:21:37.660Z"
   },
   {
    "duration": 5,
    "start_time": "2021-09-02T06:22:22.249Z"
   },
   {
    "duration": 906,
    "start_time": "2021-09-02T06:22:30.864Z"
   },
   {
    "duration": 6,
    "start_time": "2021-09-02T06:27:48.041Z"
   },
   {
    "duration": 38061,
    "start_time": "2021-09-02T06:27:49.818Z"
   },
   {
    "duration": 24,
    "start_time": "2021-09-02T06:28:27.881Z"
   },
   {
    "duration": 27,
    "start_time": "2021-09-02T06:30:03.990Z"
   },
   {
    "duration": 37082,
    "start_time": "2021-09-02T06:35:59.120Z"
   },
   {
    "duration": 40,
    "start_time": "2021-09-02T06:36:36.205Z"
   },
   {
    "duration": 15,
    "start_time": "2021-09-02T06:36:42.072Z"
   },
   {
    "duration": 319,
    "start_time": "2021-09-02T06:38:21.438Z"
   },
   {
    "duration": 8,
    "start_time": "2021-09-02T06:38:33.885Z"
   },
   {
    "duration": 1214,
    "start_time": "2021-09-02T06:39:14.173Z"
   },
   {
    "duration": 1029,
    "start_time": "2021-09-02T06:39:51.799Z"
   },
   {
    "duration": 8,
    "start_time": "2021-09-02T06:39:58.158Z"
   },
   {
    "duration": 16,
    "start_time": "2021-09-02T06:48:40.448Z"
   },
   {
    "duration": 18,
    "start_time": "2021-09-02T06:55:51.557Z"
   },
   {
    "duration": 14,
    "start_time": "2021-09-02T07:01:04.047Z"
   },
   {
    "duration": 3094,
    "start_time": "2021-09-02T07:05:43.365Z"
   },
   {
    "duration": 4,
    "start_time": "2021-09-02T07:06:07.915Z"
   },
   {
    "duration": 46,
    "start_time": "2021-09-02T07:06:07.920Z"
   },
   {
    "duration": 12,
    "start_time": "2021-09-02T07:06:07.968Z"
   },
   {
    "duration": 25,
    "start_time": "2021-09-02T07:06:07.981Z"
   },
   {
    "duration": 13,
    "start_time": "2021-09-02T07:06:08.008Z"
   },
   {
    "duration": 21,
    "start_time": "2021-09-02T07:06:08.023Z"
   },
   {
    "duration": 19,
    "start_time": "2021-09-02T07:06:08.046Z"
   },
   {
    "duration": 11,
    "start_time": "2021-09-02T07:06:08.067Z"
   },
   {
    "duration": 29,
    "start_time": "2021-09-02T07:06:08.080Z"
   },
   {
    "duration": 16,
    "start_time": "2021-09-02T07:06:08.110Z"
   },
   {
    "duration": 18,
    "start_time": "2021-09-02T07:06:08.128Z"
   },
   {
    "duration": 25794,
    "start_time": "2021-09-02T07:06:08.147Z"
   },
   {
    "duration": 9,
    "start_time": "2021-09-02T07:06:33.942Z"
   },
   {
    "duration": 12,
    "start_time": "2021-09-02T07:06:33.953Z"
   },
   {
    "duration": 7,
    "start_time": "2021-09-02T07:06:33.967Z"
   },
   {
    "duration": 5,
    "start_time": "2021-09-02T07:06:33.976Z"
   },
   {
    "duration": 24139,
    "start_time": "2021-09-02T07:06:33.983Z"
   },
   {
    "duration": 4,
    "start_time": "2021-09-02T07:06:58.124Z"
   },
   {
    "duration": 12,
    "start_time": "2021-09-02T07:06:58.130Z"
   },
   {
    "duration": 14,
    "start_time": "2021-09-02T07:08:12.983Z"
   },
   {
    "duration": 13,
    "start_time": "2021-09-02T07:10:02.562Z"
   },
   {
    "duration": 6,
    "start_time": "2021-09-02T07:12:06.461Z"
   },
   {
    "duration": 6,
    "start_time": "2021-09-02T07:15:28.580Z"
   },
   {
    "duration": 6,
    "start_time": "2021-09-02T07:15:48.006Z"
   },
   {
    "duration": 20,
    "start_time": "2021-09-02T07:15:50.819Z"
   },
   {
    "duration": 4,
    "start_time": "2021-09-02T07:15:53.995Z"
   },
   {
    "duration": 6,
    "start_time": "2021-09-02T07:15:57.226Z"
   },
   {
    "duration": 10,
    "start_time": "2021-09-02T07:15:58.836Z"
   },
   {
    "duration": 4,
    "start_time": "2021-09-02T07:16:02.892Z"
   },
   {
    "duration": 26387,
    "start_time": "2021-09-02T07:16:04.432Z"
   },
   {
    "duration": 25802,
    "start_time": "2021-09-02T07:16:36.196Z"
   },
   {
    "duration": 18,
    "start_time": "2021-09-02T07:17:01.999Z"
   },
   {
    "duration": 7,
    "start_time": "2021-09-02T07:17:07.005Z"
   },
   {
    "duration": 7,
    "start_time": "2021-09-02T07:17:07.662Z"
   },
   {
    "duration": 5,
    "start_time": "2021-09-02T07:17:40.975Z"
   },
   {
    "duration": 5,
    "start_time": "2021-09-02T07:17:52.086Z"
   },
   {
    "duration": 4,
    "start_time": "2021-09-02T07:19:17.889Z"
   },
   {
    "duration": 3,
    "start_time": "2021-09-02T07:20:32.828Z"
   },
   {
    "duration": 42,
    "start_time": "2021-09-02T07:20:32.834Z"
   },
   {
    "duration": 12,
    "start_time": "2021-09-02T07:20:32.877Z"
   },
   {
    "duration": 20,
    "start_time": "2021-09-02T07:20:32.891Z"
   },
   {
    "duration": 8,
    "start_time": "2021-09-02T07:20:32.913Z"
   },
   {
    "duration": 12,
    "start_time": "2021-09-02T07:20:32.923Z"
   },
   {
    "duration": 17,
    "start_time": "2021-09-02T07:20:32.937Z"
   },
   {
    "duration": 5,
    "start_time": "2021-09-02T07:20:32.956Z"
   },
   {
    "duration": 18,
    "start_time": "2021-09-02T07:20:32.963Z"
   },
   {
    "duration": 10,
    "start_time": "2021-09-02T07:20:32.983Z"
   },
   {
    "duration": 14,
    "start_time": "2021-09-02T07:20:32.995Z"
   },
   {
    "duration": 25339,
    "start_time": "2021-09-02T07:20:33.011Z"
   },
   {
    "duration": 8,
    "start_time": "2021-09-02T07:20:58.352Z"
   },
   {
    "duration": 13,
    "start_time": "2021-09-02T07:20:58.361Z"
   },
   {
    "duration": 17,
    "start_time": "2021-09-02T07:20:58.376Z"
   },
   {
    "duration": 7,
    "start_time": "2021-09-02T07:20:58.395Z"
   },
   {
    "duration": 28414,
    "start_time": "2021-09-02T07:20:58.403Z"
   },
   {
    "duration": 5,
    "start_time": "2021-09-02T07:21:26.819Z"
   },
   {
    "duration": 17,
    "start_time": "2021-09-02T07:21:26.826Z"
   },
   {
    "duration": 16,
    "start_time": "2021-09-02T07:21:26.845Z"
   },
   {
    "duration": 6,
    "start_time": "2021-09-02T07:21:26.863Z"
   },
   {
    "duration": 8,
    "start_time": "2021-09-02T07:21:26.871Z"
   },
   {
    "duration": 22,
    "start_time": "2021-09-02T07:21:26.881Z"
   },
   {
    "duration": 4,
    "start_time": "2021-09-02T07:21:26.906Z"
   },
   {
    "duration": 8,
    "start_time": "2021-09-02T07:21:26.940Z"
   },
   {
    "duration": 17,
    "start_time": "2021-09-02T07:21:26.949Z"
   },
   {
    "duration": 4,
    "start_time": "2021-09-02T07:21:26.968Z"
   },
   {
    "duration": 26158,
    "start_time": "2021-09-02T07:21:26.974Z"
   },
   {
    "duration": 22,
    "start_time": "2021-09-02T07:21:53.133Z"
   },
   {
    "duration": 6,
    "start_time": "2021-09-02T07:21:53.157Z"
   },
   {
    "duration": 7,
    "start_time": "2021-09-02T07:21:53.165Z"
   },
   {
    "duration": 7,
    "start_time": "2021-09-02T07:22:26.750Z"
   },
   {
    "duration": 6,
    "start_time": "2021-09-02T07:23:22.134Z"
   },
   {
    "duration": 3,
    "start_time": "2021-09-02T07:25:05.090Z"
   },
   {
    "duration": 24501,
    "start_time": "2021-09-02T07:27:35.215Z"
   },
   {
    "duration": 4,
    "start_time": "2021-09-02T07:34:20.509Z"
   },
   {
    "duration": 4,
    "start_time": "2021-09-02T07:35:43.237Z"
   },
   {
    "duration": 3,
    "start_time": "2021-09-02T07:35:47.564Z"
   },
   {
    "duration": 38,
    "start_time": "2021-09-02T07:35:47.571Z"
   },
   {
    "duration": 12,
    "start_time": "2021-09-02T07:35:47.611Z"
   },
   {
    "duration": 11,
    "start_time": "2021-09-02T07:35:47.625Z"
   },
   {
    "duration": 4,
    "start_time": "2021-09-02T07:35:47.638Z"
   },
   {
    "duration": 9,
    "start_time": "2021-09-02T07:35:47.643Z"
   },
   {
    "duration": 9,
    "start_time": "2021-09-02T07:35:47.654Z"
   },
   {
    "duration": 5,
    "start_time": "2021-09-02T07:35:47.664Z"
   },
   {
    "duration": 19,
    "start_time": "2021-09-02T07:35:47.671Z"
   },
   {
    "duration": 8,
    "start_time": "2021-09-02T07:35:47.693Z"
   },
   {
    "duration": 5,
    "start_time": "2021-09-02T07:35:47.702Z"
   },
   {
    "duration": 28438,
    "start_time": "2021-09-02T07:35:47.708Z"
   },
   {
    "duration": 8,
    "start_time": "2021-09-02T07:36:16.148Z"
   },
   {
    "duration": 15,
    "start_time": "2021-09-02T07:36:16.158Z"
   },
   {
    "duration": 10,
    "start_time": "2021-09-02T07:36:16.175Z"
   },
   {
    "duration": 7,
    "start_time": "2021-09-02T07:36:16.186Z"
   },
   {
    "duration": 27654,
    "start_time": "2021-09-02T07:36:16.196Z"
   },
   {
    "duration": 4,
    "start_time": "2021-09-02T07:36:43.852Z"
   },
   {
    "duration": 5,
    "start_time": "2021-09-02T07:37:30.958Z"
   },
   {
    "duration": 3,
    "start_time": "2021-09-02T07:40:53.441Z"
   },
   {
    "duration": 44,
    "start_time": "2021-09-02T07:40:53.449Z"
   },
   {
    "duration": 12,
    "start_time": "2021-09-02T07:40:53.495Z"
   },
   {
    "duration": 13,
    "start_time": "2021-09-02T07:40:53.509Z"
   },
   {
    "duration": 16,
    "start_time": "2021-09-02T07:40:53.540Z"
   },
   {
    "duration": 15,
    "start_time": "2021-09-02T07:40:53.558Z"
   },
   {
    "duration": 14,
    "start_time": "2021-09-02T07:40:53.575Z"
   },
   {
    "duration": 12,
    "start_time": "2021-09-02T07:40:53.590Z"
   },
   {
    "duration": 29,
    "start_time": "2021-09-02T07:40:53.605Z"
   },
   {
    "duration": 7,
    "start_time": "2021-09-02T07:40:53.636Z"
   },
   {
    "duration": 29,
    "start_time": "2021-09-02T07:40:53.644Z"
   },
   {
    "duration": 25952,
    "start_time": "2021-09-02T07:40:53.674Z"
   },
   {
    "duration": 13,
    "start_time": "2021-09-02T07:41:19.628Z"
   },
   {
    "duration": 7,
    "start_time": "2021-09-02T07:41:19.643Z"
   },
   {
    "duration": 9,
    "start_time": "2021-09-02T07:41:19.652Z"
   },
   {
    "duration": 4,
    "start_time": "2021-09-02T07:41:19.662Z"
   },
   {
    "duration": 25694,
    "start_time": "2021-09-02T07:41:19.667Z"
   },
   {
    "duration": 13,
    "start_time": "2021-09-02T07:41:45.368Z"
   },
   {
    "duration": 5,
    "start_time": "2021-09-02T07:42:35.724Z"
   },
   {
    "duration": 5,
    "start_time": "2021-09-02T07:43:27.513Z"
   },
   {
    "duration": 4,
    "start_time": "2021-09-02T07:44:04.200Z"
   },
   {
    "duration": 227,
    "start_time": "2021-09-02T07:45:10.216Z"
   },
   {
    "duration": 5,
    "start_time": "2021-09-02T07:45:18.370Z"
   },
   {
    "duration": 3,
    "start_time": "2021-09-02T07:46:19.793Z"
   },
   {
    "duration": 5,
    "start_time": "2021-09-02T07:47:46.861Z"
   },
   {
    "duration": 3,
    "start_time": "2021-09-02T07:47:53.749Z"
   },
   {
    "duration": 45,
    "start_time": "2021-09-02T07:47:53.754Z"
   },
   {
    "duration": 13,
    "start_time": "2021-09-02T07:47:53.801Z"
   },
   {
    "duration": 11,
    "start_time": "2021-09-02T07:47:53.816Z"
   },
   {
    "duration": 10,
    "start_time": "2021-09-02T07:47:53.828Z"
   },
   {
    "duration": 26,
    "start_time": "2021-09-02T07:47:53.841Z"
   },
   {
    "duration": 13,
    "start_time": "2021-09-02T07:47:53.869Z"
   },
   {
    "duration": 13,
    "start_time": "2021-09-02T07:47:53.884Z"
   },
   {
    "duration": 25,
    "start_time": "2021-09-02T07:47:53.899Z"
   },
   {
    "duration": 17,
    "start_time": "2021-09-02T07:47:53.926Z"
   },
   {
    "duration": 12,
    "start_time": "2021-09-02T07:47:53.945Z"
   },
   {
    "duration": 25589,
    "start_time": "2021-09-02T07:47:53.959Z"
   },
   {
    "duration": 6,
    "start_time": "2021-09-02T07:48:19.550Z"
   },
   {
    "duration": 9,
    "start_time": "2021-09-02T07:48:40.568Z"
   },
   {
    "duration": 5,
    "start_time": "2021-09-02T07:48:47.541Z"
   },
   {
    "duration": 6,
    "start_time": "2021-09-02T07:50:13.623Z"
   },
   {
    "duration": 6,
    "start_time": "2021-09-02T07:50:40.298Z"
   },
   {
    "duration": 4,
    "start_time": "2021-09-02T07:51:35.874Z"
   },
   {
    "duration": 6,
    "start_time": "2021-09-02T07:51:45.842Z"
   },
   {
    "duration": 5,
    "start_time": "2021-09-02T07:52:20.857Z"
   },
   {
    "duration": 25245,
    "start_time": "2021-09-02T07:52:26.106Z"
   },
   {
    "duration": 4,
    "start_time": "2021-09-02T07:52:51.353Z"
   },
   {
    "duration": 5,
    "start_time": "2021-09-02T07:53:14.628Z"
   },
   {
    "duration": 10,
    "start_time": "2021-09-02T07:53:30.853Z"
   },
   {
    "duration": 5,
    "start_time": "2021-09-02T07:55:22.961Z"
   },
   {
    "duration": 1343,
    "start_time": "2021-09-02T07:55:42.309Z"
   },
   {
    "duration": 37,
    "start_time": "2021-09-02T07:55:43.654Z"
   },
   {
    "duration": 15,
    "start_time": "2021-09-02T07:55:43.693Z"
   },
   {
    "duration": 11,
    "start_time": "2021-09-02T07:55:43.710Z"
   },
   {
    "duration": 19,
    "start_time": "2021-09-02T07:55:43.723Z"
   },
   {
    "duration": 11,
    "start_time": "2021-09-02T07:55:43.744Z"
   },
   {
    "duration": 11,
    "start_time": "2021-09-02T07:55:43.756Z"
   },
   {
    "duration": 8,
    "start_time": "2021-09-02T07:55:43.769Z"
   },
   {
    "duration": 21,
    "start_time": "2021-09-02T07:55:43.779Z"
   },
   {
    "duration": 7,
    "start_time": "2021-09-02T07:55:43.801Z"
   },
   {
    "duration": 4,
    "start_time": "2021-09-02T07:55:43.841Z"
   },
   {
    "duration": 26127,
    "start_time": "2021-09-02T07:55:43.847Z"
   },
   {
    "duration": 8,
    "start_time": "2021-09-02T07:56:09.975Z"
   },
   {
    "duration": 6,
    "start_time": "2021-09-02T07:56:09.985Z"
   },
   {
    "duration": 7,
    "start_time": "2021-09-02T07:56:09.993Z"
   },
   {
    "duration": 6,
    "start_time": "2021-09-02T07:56:10.001Z"
   },
   {
    "duration": 26228,
    "start_time": "2021-09-02T07:56:10.008Z"
   },
   {
    "duration": 5,
    "start_time": "2021-09-02T07:56:36.237Z"
   },
   {
    "duration": 12,
    "start_time": "2021-09-02T07:56:36.244Z"
   },
   {
    "duration": 5,
    "start_time": "2021-09-02T07:56:36.258Z"
   },
   {
    "duration": 9,
    "start_time": "2021-09-02T07:56:36.264Z"
   },
   {
    "duration": 19,
    "start_time": "2021-09-02T07:56:36.275Z"
   },
   {
    "duration": 6,
    "start_time": "2021-09-02T07:56:36.298Z"
   },
   {
    "duration": 39,
    "start_time": "2021-09-02T07:56:36.307Z"
   },
   {
    "duration": 22,
    "start_time": "2021-09-02T07:56:36.348Z"
   },
   {
    "duration": 5,
    "start_time": "2021-09-02T07:56:36.372Z"
   },
   {
    "duration": 13,
    "start_time": "2021-09-02T07:56:36.379Z"
   },
   {
    "duration": 21,
    "start_time": "2021-09-02T07:56:36.394Z"
   },
   {
    "duration": 4,
    "start_time": "2021-09-02T07:56:36.440Z"
   },
   {
    "duration": 26603,
    "start_time": "2021-09-02T07:56:36.446Z"
   },
   {
    "duration": 18,
    "start_time": "2021-09-02T07:57:03.050Z"
   },
   {
    "duration": 6,
    "start_time": "2021-09-02T07:57:03.070Z"
   },
   {
    "duration": 13,
    "start_time": "2021-09-02T07:57:03.077Z"
   },
   {
    "duration": 6,
    "start_time": "2021-09-02T07:57:03.092Z"
   },
   {
    "duration": 9,
    "start_time": "2021-09-02T07:57:03.100Z"
   },
   {
    "duration": 25148,
    "start_time": "2021-09-02T07:57:03.111Z"
   },
   {
    "duration": 4,
    "start_time": "2021-09-02T07:57:28.261Z"
   },
   {
    "duration": 11,
    "start_time": "2021-09-02T07:57:28.267Z"
   },
   {
    "duration": 892,
    "start_time": "2021-09-02T07:57:28.280Z"
   },
   {
    "duration": 603,
    "start_time": "2021-09-02T07:57:28.571Z"
   },
   {
    "duration": 598,
    "start_time": "2021-09-02T07:57:28.577Z"
   },
   {
    "duration": 5,
    "start_time": "2021-09-02T07:58:19.656Z"
   },
   {
    "duration": 3,
    "start_time": "2021-09-02T07:58:42.157Z"
   },
   {
    "duration": 45,
    "start_time": "2021-09-02T07:58:42.163Z"
   },
   {
    "duration": 11,
    "start_time": "2021-09-02T07:58:42.210Z"
   },
   {
    "duration": 25,
    "start_time": "2021-09-02T07:58:42.223Z"
   },
   {
    "duration": 19,
    "start_time": "2021-09-02T07:58:42.249Z"
   },
   {
    "duration": 16,
    "start_time": "2021-09-02T07:58:42.269Z"
   },
   {
    "duration": 18,
    "start_time": "2021-09-02T07:58:42.286Z"
   },
   {
    "duration": 16,
    "start_time": "2021-09-02T07:58:42.306Z"
   },
   {
    "duration": 28,
    "start_time": "2021-09-02T07:58:42.324Z"
   },
   {
    "duration": 18,
    "start_time": "2021-09-02T07:58:42.354Z"
   },
   {
    "duration": 13,
    "start_time": "2021-09-02T07:58:42.373Z"
   },
   {
    "duration": 25341,
    "start_time": "2021-09-02T07:58:42.388Z"
   },
   {
    "duration": 15,
    "start_time": "2021-09-02T07:59:07.730Z"
   },
   {
    "duration": 24,
    "start_time": "2021-09-02T07:59:07.746Z"
   },
   {
    "duration": 20,
    "start_time": "2021-09-02T07:59:07.772Z"
   },
   {
    "duration": 12,
    "start_time": "2021-09-02T07:59:07.794Z"
   },
   {
    "duration": 24987,
    "start_time": "2021-09-02T07:59:07.807Z"
   },
   {
    "duration": 4,
    "start_time": "2021-09-02T07:59:32.796Z"
   },
   {
    "duration": 7,
    "start_time": "2021-09-02T07:59:32.802Z"
   },
   {
    "duration": 4,
    "start_time": "2021-09-02T07:59:36.927Z"
   },
   {
    "duration": 14,
    "start_time": "2021-09-02T07:59:51.099Z"
   },
   {
    "duration": 6,
    "start_time": "2021-09-02T07:59:52.196Z"
   },
   {
    "duration": 6,
    "start_time": "2021-09-02T08:00:24.691Z"
   },
   {
    "duration": 19,
    "start_time": "2021-09-02T08:00:26.738Z"
   },
   {
    "duration": 4,
    "start_time": "2021-09-02T08:00:29.124Z"
   },
   {
    "duration": 8,
    "start_time": "2021-09-02T08:00:34.141Z"
   },
   {
    "duration": 4,
    "start_time": "2021-09-02T08:00:42.510Z"
   },
   {
    "duration": 26308,
    "start_time": "2021-09-02T08:00:54.626Z"
   },
   {
    "duration": 19,
    "start_time": "2021-09-02T08:01:20.936Z"
   },
   {
    "duration": 7,
    "start_time": "2021-09-02T08:01:39.922Z"
   },
   {
    "duration": 7,
    "start_time": "2021-09-02T08:01:40.539Z"
   },
   {
    "duration": 6,
    "start_time": "2021-09-02T08:01:43.035Z"
   },
   {
    "duration": 4,
    "start_time": "2021-09-02T08:01:45.209Z"
   },
   {
    "duration": 28413,
    "start_time": "2021-09-02T08:01:46.784Z"
   },
   {
    "duration": 5,
    "start_time": "2021-09-02T08:02:15.199Z"
   },
   {
    "duration": 3,
    "start_time": "2021-09-02T08:03:11.164Z"
   },
   {
    "duration": 57,
    "start_time": "2021-09-02T08:03:11.169Z"
   },
   {
    "duration": 12,
    "start_time": "2021-09-02T08:03:11.228Z"
   },
   {
    "duration": 27,
    "start_time": "2021-09-02T08:03:11.242Z"
   },
   {
    "duration": 25,
    "start_time": "2021-09-02T08:03:11.271Z"
   },
   {
    "duration": 19,
    "start_time": "2021-09-02T08:03:11.298Z"
   },
   {
    "duration": 25,
    "start_time": "2021-09-02T08:03:11.319Z"
   },
   {
    "duration": 24,
    "start_time": "2021-09-02T08:03:11.346Z"
   },
   {
    "duration": 33,
    "start_time": "2021-09-02T08:03:11.372Z"
   },
   {
    "duration": 7,
    "start_time": "2021-09-02T08:03:11.407Z"
   },
   {
    "duration": 19,
    "start_time": "2021-09-02T08:03:11.416Z"
   },
   {
    "duration": 25858,
    "start_time": "2021-09-02T08:03:11.437Z"
   },
   {
    "duration": 9,
    "start_time": "2021-09-02T08:03:37.297Z"
   },
   {
    "duration": 15,
    "start_time": "2021-09-02T08:03:37.308Z"
   },
   {
    "duration": 24,
    "start_time": "2021-09-02T08:03:37.325Z"
   },
   {
    "duration": 16,
    "start_time": "2021-09-02T08:03:37.350Z"
   },
   {
    "duration": 25206,
    "start_time": "2021-09-02T08:03:37.367Z"
   },
   {
    "duration": 4,
    "start_time": "2021-09-02T08:04:02.575Z"
   },
   {
    "duration": 11,
    "start_time": "2021-09-02T08:04:02.583Z"
   },
   {
    "duration": 19,
    "start_time": "2021-09-02T08:04:02.595Z"
   },
   {
    "duration": 22,
    "start_time": "2021-09-02T08:04:02.616Z"
   },
   {
    "duration": 6,
    "start_time": "2021-09-02T08:04:02.641Z"
   },
   {
    "duration": 17,
    "start_time": "2021-09-02T08:04:02.649Z"
   },
   {
    "duration": 20,
    "start_time": "2021-09-02T08:04:02.668Z"
   },
   {
    "duration": 3,
    "start_time": "2021-09-02T08:04:27.159Z"
   },
   {
    "duration": 50,
    "start_time": "2021-09-02T08:04:27.164Z"
   },
   {
    "duration": 11,
    "start_time": "2021-09-02T08:04:27.216Z"
   },
   {
    "duration": 21,
    "start_time": "2021-09-02T08:04:27.229Z"
   },
   {
    "duration": 13,
    "start_time": "2021-09-02T08:04:27.252Z"
   },
   {
    "duration": 17,
    "start_time": "2021-09-02T08:04:27.267Z"
   },
   {
    "duration": 23,
    "start_time": "2021-09-02T08:04:27.286Z"
   },
   {
    "duration": 23,
    "start_time": "2021-09-02T08:04:27.312Z"
   },
   {
    "duration": 24,
    "start_time": "2021-09-02T08:04:27.336Z"
   },
   {
    "duration": 8,
    "start_time": "2021-09-02T08:04:27.362Z"
   },
   {
    "duration": 13,
    "start_time": "2021-09-02T08:04:27.372Z"
   },
   {
    "duration": 26442,
    "start_time": "2021-09-02T08:04:27.387Z"
   },
   {
    "duration": 10,
    "start_time": "2021-09-02T08:04:53.831Z"
   },
   {
    "duration": 11,
    "start_time": "2021-09-02T08:04:53.843Z"
   },
   {
    "duration": 10,
    "start_time": "2021-09-02T08:04:53.856Z"
   },
   {
    "duration": 11,
    "start_time": "2021-09-02T08:04:53.868Z"
   },
   {
    "duration": 27320,
    "start_time": "2021-09-02T08:04:53.881Z"
   },
   {
    "duration": 4,
    "start_time": "2021-09-02T08:05:21.203Z"
   },
   {
    "duration": 14,
    "start_time": "2021-09-02T08:05:21.210Z"
   },
   {
    "duration": 17,
    "start_time": "2021-09-02T08:05:21.225Z"
   },
   {
    "duration": 18,
    "start_time": "2021-09-02T08:05:21.244Z"
   },
   {
    "duration": 6,
    "start_time": "2021-09-02T08:05:21.264Z"
   },
   {
    "duration": 12,
    "start_time": "2021-09-02T08:05:21.272Z"
   },
   {
    "duration": 38,
    "start_time": "2021-09-02T08:05:21.286Z"
   },
   {
    "duration": 13,
    "start_time": "2021-09-02T08:05:21.325Z"
   },
   {
    "duration": 4,
    "start_time": "2021-09-02T08:05:35.482Z"
   },
   {
    "duration": 4,
    "start_time": "2021-09-02T08:05:38.178Z"
   },
   {
    "duration": 7,
    "start_time": "2021-09-02T08:05:51.997Z"
   },
   {
    "duration": 4,
    "start_time": "2021-09-02T08:05:59.066Z"
   },
   {
    "duration": 4,
    "start_time": "2021-09-02T08:06:04.796Z"
   },
   {
    "duration": 26913,
    "start_time": "2021-09-02T08:06:21.379Z"
   },
   {
    "duration": 4,
    "start_time": "2021-09-02T08:06:48.294Z"
   },
   {
    "duration": 4,
    "start_time": "2021-09-02T08:14:57.250Z"
   },
   {
    "duration": 3,
    "start_time": "2021-09-02T08:15:02.912Z"
   },
   {
    "duration": 39,
    "start_time": "2021-09-02T08:15:02.920Z"
   },
   {
    "duration": 11,
    "start_time": "2021-09-02T08:15:02.961Z"
   },
   {
    "duration": 17,
    "start_time": "2021-09-02T08:15:02.974Z"
   },
   {
    "duration": 4,
    "start_time": "2021-09-02T08:15:02.993Z"
   },
   {
    "duration": 7,
    "start_time": "2021-09-02T08:15:02.999Z"
   },
   {
    "duration": 37,
    "start_time": "2021-09-02T08:15:03.008Z"
   },
   {
    "duration": 8,
    "start_time": "2021-09-02T08:15:03.047Z"
   },
   {
    "duration": 20,
    "start_time": "2021-09-02T08:15:03.057Z"
   },
   {
    "duration": 8,
    "start_time": "2021-09-02T08:15:03.081Z"
   },
   {
    "duration": 7,
    "start_time": "2021-09-02T08:15:03.092Z"
   },
   {
    "duration": 28149,
    "start_time": "2021-09-02T08:15:03.100Z"
   },
   {
    "duration": 8,
    "start_time": "2021-09-02T08:15:31.250Z"
   },
   {
    "duration": 14,
    "start_time": "2021-09-02T08:15:31.260Z"
   },
   {
    "duration": 17,
    "start_time": "2021-09-02T08:15:31.276Z"
   },
   {
    "duration": 12,
    "start_time": "2021-09-02T08:15:31.295Z"
   },
   {
    "duration": 26992,
    "start_time": "2021-09-02T08:15:31.309Z"
   },
   {
    "duration": 4,
    "start_time": "2021-09-02T08:15:58.302Z"
   },
   {
    "duration": 8,
    "start_time": "2021-09-02T08:15:58.308Z"
   },
   {
    "duration": 9,
    "start_time": "2021-09-02T08:15:58.317Z"
   },
   {
    "duration": 23,
    "start_time": "2021-09-02T08:15:58.327Z"
   },
   {
    "duration": 6,
    "start_time": "2021-09-02T08:15:58.351Z"
   },
   {
    "duration": 15,
    "start_time": "2021-09-02T08:15:58.358Z"
   },
   {
    "duration": 20,
    "start_time": "2021-09-02T08:15:58.374Z"
   },
   {
    "duration": 7,
    "start_time": "2021-09-02T08:15:58.396Z"
   },
   {
    "duration": 25,
    "start_time": "2021-09-02T08:15:58.405Z"
   },
   {
    "duration": 3,
    "start_time": "2021-09-02T08:16:36.198Z"
   },
   {
    "duration": 4,
    "start_time": "2021-09-02T08:16:43.411Z"
   },
   {
    "duration": 27010,
    "start_time": "2021-09-02T08:16:46.571Z"
   },
   {
    "duration": 4,
    "start_time": "2021-09-02T08:17:13.583Z"
   },
   {
    "duration": 3,
    "start_time": "2021-09-02T08:24:54.602Z"
   },
   {
    "duration": 42,
    "start_time": "2021-09-02T08:24:54.608Z"
   },
   {
    "duration": 12,
    "start_time": "2021-09-02T08:24:54.652Z"
   },
   {
    "duration": 21,
    "start_time": "2021-09-02T08:24:54.666Z"
   },
   {
    "duration": 6,
    "start_time": "2021-09-02T08:24:54.689Z"
   },
   {
    "duration": 14,
    "start_time": "2021-09-02T08:24:54.697Z"
   },
   {
    "duration": 28,
    "start_time": "2021-09-02T08:24:54.713Z"
   },
   {
    "duration": 4,
    "start_time": "2021-09-02T08:24:54.743Z"
   },
   {
    "duration": 32,
    "start_time": "2021-09-02T08:24:54.749Z"
   },
   {
    "duration": 9,
    "start_time": "2021-09-02T08:24:54.783Z"
   },
   {
    "duration": 13,
    "start_time": "2021-09-02T08:24:54.793Z"
   },
   {
    "duration": 26055,
    "start_time": "2021-09-02T08:24:54.807Z"
   },
   {
    "duration": 7,
    "start_time": "2021-09-02T08:25:20.864Z"
   },
   {
    "duration": 10,
    "start_time": "2021-09-02T08:25:20.873Z"
   },
   {
    "duration": 8,
    "start_time": "2021-09-02T08:25:20.885Z"
   },
   {
    "duration": 8,
    "start_time": "2021-09-02T08:25:20.894Z"
   },
   {
    "duration": 25310,
    "start_time": "2021-09-02T08:25:20.904Z"
   },
   {
    "duration": 4,
    "start_time": "2021-09-02T08:25:46.215Z"
   },
   {
    "duration": 9,
    "start_time": "2021-09-02T08:25:46.221Z"
   },
   {
    "duration": 13,
    "start_time": "2021-09-02T08:25:46.231Z"
   },
   {
    "duration": 16,
    "start_time": "2021-09-02T08:25:46.246Z"
   },
   {
    "duration": 8,
    "start_time": "2021-09-02T08:25:46.264Z"
   },
   {
    "duration": 9,
    "start_time": "2021-09-02T08:25:46.274Z"
   },
   {
    "duration": 18,
    "start_time": "2021-09-02T08:25:46.286Z"
   },
   {
    "duration": 4,
    "start_time": "2021-09-02T08:25:46.306Z"
   },
   {
    "duration": 34,
    "start_time": "2021-09-02T08:25:46.312Z"
   },
   {
    "duration": 4,
    "start_time": "2021-09-02T08:25:51.083Z"
   },
   {
    "duration": 4,
    "start_time": "2021-09-02T08:28:19.629Z"
   },
   {
    "duration": 27467,
    "start_time": "2021-09-02T08:28:23.198Z"
   },
   {
    "duration": 4,
    "start_time": "2021-09-02T08:36:20.165Z"
   },
   {
    "duration": 20075,
    "start_time": "2021-09-02T08:36:22.377Z"
   },
   {
    "duration": 5,
    "start_time": "2021-09-02T08:37:00.020Z"
   },
   {
    "duration": 950,
    "start_time": "2021-09-02T08:37:01.804Z"
   },
   {
    "duration": 20214,
    "start_time": "2021-09-02T08:37:11.316Z"
   },
   {
    "duration": 11,
    "start_time": "2021-09-02T08:37:31.532Z"
   },
   {
    "duration": 4,
    "start_time": "2021-09-02T08:47:44.934Z"
   },
   {
    "duration": 31970,
    "start_time": "2021-09-02T08:47:49.234Z"
   },
   {
    "duration": 4,
    "start_time": "2021-09-02T08:48:21.206Z"
   },
   {
    "duration": 4,
    "start_time": "2021-09-02T08:49:59.946Z"
   },
   {
    "duration": 4,
    "start_time": "2021-09-02T08:50:05.049Z"
   },
   {
    "duration": 42,
    "start_time": "2021-09-02T08:50:05.062Z"
   },
   {
    "duration": 13,
    "start_time": "2021-09-02T08:50:05.106Z"
   },
   {
    "duration": 11,
    "start_time": "2021-09-02T08:50:05.184Z"
   },
   {
    "duration": 9,
    "start_time": "2021-09-02T08:50:05.197Z"
   },
   {
    "duration": 9,
    "start_time": "2021-09-02T08:50:05.304Z"
   },
   {
    "duration": 21,
    "start_time": "2021-09-02T08:50:05.314Z"
   },
   {
    "duration": 13,
    "start_time": "2021-09-02T08:50:05.337Z"
   },
   {
    "duration": 22,
    "start_time": "2021-09-02T08:50:05.352Z"
   },
   {
    "duration": 12,
    "start_time": "2021-09-02T08:50:05.376Z"
   },
   {
    "duration": 15,
    "start_time": "2021-09-02T08:50:05.390Z"
   },
   {
    "duration": 26175,
    "start_time": "2021-09-02T08:50:05.406Z"
   },
   {
    "duration": 7,
    "start_time": "2021-09-02T08:50:31.583Z"
   },
   {
    "duration": 18,
    "start_time": "2021-09-02T08:50:31.593Z"
   },
   {
    "duration": 16,
    "start_time": "2021-09-02T08:50:31.613Z"
   },
   {
    "duration": 7,
    "start_time": "2021-09-02T08:50:31.630Z"
   },
   {
    "duration": 25366,
    "start_time": "2021-09-02T08:50:31.638Z"
   },
   {
    "duration": 4,
    "start_time": "2021-09-02T08:50:57.005Z"
   },
   {
    "duration": 8,
    "start_time": "2021-09-02T08:50:57.010Z"
   },
   {
    "duration": 7,
    "start_time": "2021-09-02T08:50:57.019Z"
   },
   {
    "duration": 14,
    "start_time": "2021-09-02T08:50:57.040Z"
   },
   {
    "duration": 8,
    "start_time": "2021-09-02T08:50:57.055Z"
   },
   {
    "duration": 6,
    "start_time": "2021-09-02T08:50:57.065Z"
   },
   {
    "duration": 22,
    "start_time": "2021-09-02T08:50:57.072Z"
   },
   {
    "duration": 4,
    "start_time": "2021-09-02T08:50:57.095Z"
   },
   {
    "duration": 10,
    "start_time": "2021-09-02T08:50:57.101Z"
   },
   {
    "duration": 3,
    "start_time": "2021-09-02T08:51:16.651Z"
   },
   {
    "duration": 3,
    "start_time": "2021-09-02T08:51:18.179Z"
   },
   {
    "duration": 1647,
    "start_time": "2021-09-02T08:51:19.723Z"
   },
   {
    "duration": 516,
    "start_time": "2021-09-02T08:51:20.857Z"
   },
   {
    "duration": 5,
    "start_time": "2021-09-02T08:53:11.860Z"
   },
   {
    "duration": 29321,
    "start_time": "2021-09-02T08:53:13.187Z"
   },
   {
    "duration": 5,
    "start_time": "2021-09-02T08:53:42.510Z"
   },
   {
    "duration": 4,
    "start_time": "2021-09-02T10:01:02.632Z"
   },
   {
    "duration": 20,
    "start_time": "2021-09-02T10:01:03.752Z"
   },
   {
    "duration": 4,
    "start_time": "2021-09-02T10:01:37.114Z"
   },
   {
    "duration": 29759,
    "start_time": "2021-09-02T10:01:40.041Z"
   },
   {
    "duration": 3,
    "start_time": "2021-09-02T10:02:09.802Z"
   },
   {
    "duration": 20,
    "start_time": "2021-09-02T10:07:34.610Z"
   },
   {
    "duration": 3,
    "start_time": "2021-09-02T10:07:56.689Z"
   },
   {
    "duration": 40,
    "start_time": "2021-09-02T10:07:56.694Z"
   },
   {
    "duration": 11,
    "start_time": "2021-09-02T10:07:56.735Z"
   },
   {
    "duration": 11,
    "start_time": "2021-09-02T10:07:56.748Z"
   },
   {
    "duration": 5,
    "start_time": "2021-09-02T10:07:56.761Z"
   },
   {
    "duration": 6,
    "start_time": "2021-09-02T10:07:56.767Z"
   },
   {
    "duration": 10,
    "start_time": "2021-09-02T10:07:56.775Z"
   },
   {
    "duration": 4,
    "start_time": "2021-09-02T10:07:56.787Z"
   },
   {
    "duration": 16,
    "start_time": "2021-09-02T10:07:56.794Z"
   },
   {
    "duration": 7,
    "start_time": "2021-09-02T10:07:56.842Z"
   },
   {
    "duration": 8,
    "start_time": "2021-09-02T10:07:56.850Z"
   },
   {
    "duration": 25672,
    "start_time": "2021-09-02T10:07:56.860Z"
   },
   {
    "duration": 9,
    "start_time": "2021-09-02T10:08:22.534Z"
   },
   {
    "duration": 7,
    "start_time": "2021-09-02T10:08:22.545Z"
   },
   {
    "duration": 9,
    "start_time": "2021-09-02T10:08:22.553Z"
   },
   {
    "duration": 4,
    "start_time": "2021-09-02T10:08:22.564Z"
   },
   {
    "duration": 25025,
    "start_time": "2021-09-02T10:08:22.570Z"
   },
   {
    "duration": 4,
    "start_time": "2021-09-02T10:08:47.596Z"
   },
   {
    "duration": 17,
    "start_time": "2021-09-02T10:08:47.601Z"
   },
   {
    "duration": 21,
    "start_time": "2021-09-02T10:08:47.620Z"
   },
   {
    "duration": 32,
    "start_time": "2021-09-02T10:08:47.643Z"
   },
   {
    "duration": 5,
    "start_time": "2021-09-02T10:08:47.677Z"
   },
   {
    "duration": 9,
    "start_time": "2021-09-02T10:08:47.684Z"
   },
   {
    "duration": 20,
    "start_time": "2021-09-02T10:08:47.695Z"
   },
   {
    "duration": 4,
    "start_time": "2021-09-02T10:08:47.719Z"
   },
   {
    "duration": 19,
    "start_time": "2021-09-02T10:08:47.725Z"
   },
   {
    "duration": 4,
    "start_time": "2021-09-02T10:09:12.441Z"
   },
   {
    "duration": 4,
    "start_time": "2021-09-02T10:09:14.240Z"
   },
   {
    "duration": 29209,
    "start_time": "2021-09-02T10:09:19.447Z"
   },
   {
    "duration": 4,
    "start_time": "2021-09-02T10:09:48.658Z"
   },
   {
    "duration": 28,
    "start_time": "2021-09-02T10:09:48.664Z"
   },
   {
    "duration": 6,
    "start_time": "2021-09-02T10:10:22.993Z"
   },
   {
    "duration": 7,
    "start_time": "2021-09-02T10:10:25.915Z"
   },
   {
    "duration": 5,
    "start_time": "2021-09-02T10:15:28.006Z"
   },
   {
    "duration": 5,
    "start_time": "2021-09-02T10:15:41.172Z"
   },
   {
    "duration": 4,
    "start_time": "2021-09-02T10:15:47.025Z"
   },
   {
    "duration": 25560,
    "start_time": "2021-09-02T10:16:03.221Z"
   },
   {
    "duration": 3,
    "start_time": "2021-09-02T10:16:28.783Z"
   },
   {
    "duration": 4,
    "start_time": "2021-09-02T10:17:02.560Z"
   },
   {
    "duration": 767,
    "start_time": "2021-09-02T10:19:04.947Z"
   },
   {
    "duration": 19,
    "start_time": "2021-09-02T10:19:12.477Z"
   },
   {
    "duration": 8,
    "start_time": "2021-09-02T10:30:09.789Z"
   },
   {
    "duration": 3,
    "start_time": "2021-09-02T10:30:15.860Z"
   },
   {
    "duration": 53,
    "start_time": "2021-09-02T10:30:15.865Z"
   },
   {
    "duration": 10,
    "start_time": "2021-09-02T10:30:15.920Z"
   },
   {
    "duration": 30,
    "start_time": "2021-09-02T10:30:15.932Z"
   },
   {
    "duration": 9,
    "start_time": "2021-09-02T10:32:15.585Z"
   },
   {
    "duration": 9,
    "start_time": "2021-09-02T10:32:20.675Z"
   },
   {
    "duration": 30334,
    "start_time": "2021-09-02T10:36:45.916Z"
   },
   {
    "duration": 7,
    "start_time": "2021-09-02T10:37:48.957Z"
   },
   {
    "duration": 7,
    "start_time": "2021-09-02T10:38:46.413Z"
   },
   {
    "duration": 16,
    "start_time": "2021-09-02T10:39:51.997Z"
   },
   {
    "duration": 6,
    "start_time": "2021-09-02T10:43:53.739Z"
   },
   {
    "duration": 8,
    "start_time": "2021-09-02T10:45:24.952Z"
   },
   {
    "duration": 10,
    "start_time": "2021-09-02T10:45:26.261Z"
   },
   {
    "duration": 4,
    "start_time": "2021-09-02T10:45:31.044Z"
   },
   {
    "duration": 19,
    "start_time": "2021-09-02T10:45:34.205Z"
   },
   {
    "duration": 8,
    "start_time": "2021-09-02T10:45:37.381Z"
   },
   {
    "duration": 4,
    "start_time": "2021-09-02T10:45:48.005Z"
   },
   {
    "duration": 25565,
    "start_time": "2021-09-02T10:46:23.769Z"
   },
   {
    "duration": 8,
    "start_time": "2021-09-02T10:46:49.336Z"
   },
   {
    "duration": 5,
    "start_time": "2021-09-02T10:47:17.879Z"
   },
   {
    "duration": 842,
    "start_time": "2021-09-02T10:50:03.198Z"
   },
   {
    "duration": 1053,
    "start_time": "2021-09-02T10:50:24.680Z"
   },
   {
    "duration": 4,
    "start_time": "2021-09-02T10:50:30.279Z"
   },
   {
    "duration": 55,
    "start_time": "2021-09-02T10:50:30.285Z"
   },
   {
    "duration": 16,
    "start_time": "2021-09-02T10:50:30.342Z"
   },
   {
    "duration": 20,
    "start_time": "2021-09-02T10:50:30.361Z"
   },
   {
    "duration": 18,
    "start_time": "2021-09-02T10:50:30.383Z"
   },
   {
    "duration": 13,
    "start_time": "2021-09-02T10:50:30.404Z"
   },
   {
    "duration": 24,
    "start_time": "2021-09-02T10:50:30.420Z"
   },
   {
    "duration": 18,
    "start_time": "2021-09-02T10:50:30.447Z"
   },
   {
    "duration": 12,
    "start_time": "2021-09-02T10:50:30.467Z"
   },
   {
    "duration": 17,
    "start_time": "2021-09-02T10:50:30.480Z"
   },
   {
    "duration": 22,
    "start_time": "2021-09-02T10:50:30.499Z"
   },
   {
    "duration": 15,
    "start_time": "2021-09-02T10:50:30.523Z"
   },
   {
    "duration": 32,
    "start_time": "2021-09-02T10:50:30.540Z"
   },
   {
    "duration": 16,
    "start_time": "2021-09-02T10:50:30.574Z"
   },
   {
    "duration": 15,
    "start_time": "2021-09-02T10:50:30.592Z"
   },
   {
    "duration": 25486,
    "start_time": "2021-09-02T10:50:30.609Z"
   },
   {
    "duration": 8,
    "start_time": "2021-09-02T10:50:56.097Z"
   },
   {
    "duration": 26,
    "start_time": "2021-09-02T10:50:56.107Z"
   },
   {
    "duration": 30,
    "start_time": "2021-09-02T10:50:56.136Z"
   },
   {
    "duration": 8,
    "start_time": "2021-09-02T10:51:52.376Z"
   },
   {
    "duration": 4,
    "start_time": "2021-09-02T10:51:53.600Z"
   },
   {
    "duration": 10,
    "start_time": "2021-09-02T10:52:05.767Z"
   },
   {
    "duration": 4,
    "start_time": "2021-09-02T10:53:14.135Z"
   },
   {
    "duration": 26448,
    "start_time": "2021-09-02T10:53:15.380Z"
   },
   {
    "duration": 11,
    "start_time": "2021-09-02T10:53:41.830Z"
   },
   {
    "duration": 17,
    "start_time": "2021-09-02T10:53:41.843Z"
   },
   {
    "duration": 1379,
    "start_time": "2021-09-02T15:05:00.860Z"
   },
   {
    "duration": 50,
    "start_time": "2021-09-02T15:05:02.242Z"
   },
   {
    "duration": 25,
    "start_time": "2021-09-02T15:05:02.296Z"
   },
   {
    "duration": 42,
    "start_time": "2021-09-02T15:05:02.325Z"
   },
   {
    "duration": 14,
    "start_time": "2021-09-02T15:05:02.371Z"
   },
   {
    "duration": 20,
    "start_time": "2021-09-02T15:05:02.388Z"
   },
   {
    "duration": 32,
    "start_time": "2021-09-02T15:05:02.411Z"
   },
   {
    "duration": 44,
    "start_time": "2021-09-02T15:05:02.447Z"
   },
   {
    "duration": 39,
    "start_time": "2021-09-02T15:05:02.494Z"
   },
   {
    "duration": 16,
    "start_time": "2021-09-02T15:05:02.535Z"
   },
   {
    "duration": 14,
    "start_time": "2021-09-02T15:05:02.553Z"
   },
   {
    "duration": 19,
    "start_time": "2021-09-02T15:05:02.569Z"
   },
   {
    "duration": 49,
    "start_time": "2021-09-02T15:05:02.590Z"
   },
   {
    "duration": 21,
    "start_time": "2021-09-02T15:05:02.642Z"
   },
   {
    "duration": 13,
    "start_time": "2021-09-02T15:05:02.665Z"
   },
   {
    "duration": 38326,
    "start_time": "2021-09-02T15:05:02.681Z"
   },
   {
    "duration": 10,
    "start_time": "2021-09-02T15:05:41.010Z"
   },
   {
    "duration": 7,
    "start_time": "2021-09-02T15:05:41.023Z"
   },
   {
    "duration": 34,
    "start_time": "2021-09-02T15:05:41.032Z"
   },
   {
    "duration": 5,
    "start_time": "2021-09-02T15:05:41.069Z"
   },
   {
    "duration": 12,
    "start_time": "2021-09-02T15:05:41.076Z"
   },
   {
    "duration": 40849,
    "start_time": "2021-09-02T15:05:41.090Z"
   },
   {
    "duration": 6,
    "start_time": "2021-09-02T15:06:21.943Z"
   },
   {
    "duration": 16,
    "start_time": "2021-09-02T15:06:21.952Z"
   },
   {
    "duration": 7,
    "start_time": "2021-09-02T15:06:21.970Z"
   },
   {
    "duration": 21,
    "start_time": "2021-09-02T15:06:21.980Z"
   },
   {
    "duration": 8,
    "start_time": "2021-09-02T15:06:22.003Z"
   },
   {
    "duration": 52,
    "start_time": "2021-09-02T15:06:22.013Z"
   },
   {
    "duration": 29,
    "start_time": "2021-09-02T15:06:22.068Z"
   },
   {
    "duration": 5,
    "start_time": "2021-09-02T15:06:22.100Z"
   },
   {
    "duration": 15,
    "start_time": "2021-09-02T15:06:22.108Z"
   },
   {
    "duration": 40,
    "start_time": "2021-09-02T15:06:22.125Z"
   },
   {
    "duration": 47555,
    "start_time": "2021-09-02T15:06:22.168Z"
   },
   {
    "duration": 6,
    "start_time": "2021-09-02T15:07:09.725Z"
   },
   {
    "duration": 51,
    "start_time": "2021-09-02T15:07:09.733Z"
   },
   {
    "duration": 9,
    "start_time": "2021-09-02T15:07:09.787Z"
   },
   {
    "duration": 7,
    "start_time": "2021-09-02T15:07:09.799Z"
   },
   {
    "duration": 42087,
    "start_time": "2021-09-02T15:07:09.808Z"
   },
   {
    "duration": 5,
    "start_time": "2021-09-02T15:07:51.898Z"
   },
   {
    "duration": 98,
    "start_time": "2021-09-02T15:15:53.746Z"
   },
   {
    "duration": 14,
    "start_time": "2021-09-02T15:16:09.025Z"
   },
   {
    "duration": 13,
    "start_time": "2021-09-02T15:16:43.365Z"
   },
   {
    "duration": 4,
    "start_time": "2021-09-02T15:16:54.427Z"
   },
   {
    "duration": 52,
    "start_time": "2021-09-02T15:16:54.434Z"
   },
   {
    "duration": 19,
    "start_time": "2021-09-02T15:16:54.489Z"
   },
   {
    "duration": 14,
    "start_time": "2021-09-02T15:16:54.511Z"
   },
   {
    "duration": 36,
    "start_time": "2021-09-02T15:16:54.528Z"
   },
   {
    "duration": 14,
    "start_time": "2021-09-02T15:16:54.566Z"
   },
   {
    "duration": 16,
    "start_time": "2021-09-02T15:16:54.583Z"
   },
   {
    "duration": 61,
    "start_time": "2021-09-02T15:16:54.602Z"
   },
   {
    "duration": 6,
    "start_time": "2021-09-02T15:16:54.666Z"
   },
   {
    "duration": 16,
    "start_time": "2021-09-02T15:16:54.674Z"
   },
   {
    "duration": 18,
    "start_time": "2021-09-02T15:16:54.692Z"
   },
   {
    "duration": 5,
    "start_time": "2021-09-02T15:16:54.712Z"
   },
   {
    "duration": 63,
    "start_time": "2021-09-02T15:16:54.720Z"
   },
   {
    "duration": 11,
    "start_time": "2021-09-02T15:16:54.785Z"
   },
   {
    "duration": 10,
    "start_time": "2021-09-02T15:16:54.799Z"
   },
   {
    "duration": 37779,
    "start_time": "2021-09-02T15:16:54.811Z"
   },
   {
    "duration": 11,
    "start_time": "2021-09-02T15:17:32.592Z"
   },
   {
    "duration": 13,
    "start_time": "2021-09-02T15:17:32.605Z"
   },
   {
    "duration": 16,
    "start_time": "2021-09-02T15:17:32.622Z"
   },
   {
    "duration": 21,
    "start_time": "2021-09-02T15:17:32.640Z"
   },
   {
    "duration": 5,
    "start_time": "2021-09-02T15:17:32.664Z"
   },
   {
    "duration": 38966,
    "start_time": "2021-09-02T15:17:32.671Z"
   },
   {
    "duration": 5,
    "start_time": "2021-09-02T15:18:11.639Z"
   },
   {
    "duration": 18,
    "start_time": "2021-09-02T15:18:11.646Z"
   },
   {
    "duration": 10,
    "start_time": "2021-09-02T15:18:11.666Z"
   },
   {
    "duration": 26,
    "start_time": "2021-09-02T15:18:11.679Z"
   },
   {
    "duration": 8,
    "start_time": "2021-09-02T15:18:11.707Z"
   },
   {
    "duration": 10,
    "start_time": "2021-09-02T15:18:11.717Z"
   },
   {
    "duration": 32,
    "start_time": "2021-09-02T15:18:11.762Z"
   },
   {
    "duration": 5,
    "start_time": "2021-09-02T15:18:11.796Z"
   },
   {
    "duration": 13,
    "start_time": "2021-09-02T15:18:11.803Z"
   },
   {
    "duration": 11,
    "start_time": "2021-09-02T15:18:11.818Z"
   },
   {
    "duration": 48351,
    "start_time": "2021-09-02T15:18:11.862Z"
   },
   {
    "duration": 5,
    "start_time": "2021-09-02T15:19:00.216Z"
   },
   {
    "duration": 49,
    "start_time": "2021-09-02T15:19:00.223Z"
   },
   {
    "duration": 20,
    "start_time": "2021-09-02T15:19:00.274Z"
   },
   {
    "duration": 33,
    "start_time": "2021-09-02T15:19:00.297Z"
   },
   {
    "duration": 41269,
    "start_time": "2021-09-02T15:19:00.333Z"
   },
   {
    "duration": 6,
    "start_time": "2021-09-02T15:19:41.604Z"
   },
   {
    "duration": 12,
    "start_time": "2021-09-02T15:19:41.612Z"
   },
   {
    "duration": 65,
    "start_time": "2021-09-02T15:19:41.626Z"
   },
   {
    "duration": 14,
    "start_time": "2021-09-02T15:20:01.068Z"
   },
   {
    "duration": 18,
    "start_time": "2021-09-02T15:20:17.543Z"
   },
   {
    "duration": 18,
    "start_time": "2021-09-02T15:20:47.793Z"
   },
   {
    "duration": 22,
    "start_time": "2021-09-02T15:21:11.402Z"
   },
   {
    "duration": 18,
    "start_time": "2021-09-02T15:21:44.004Z"
   },
   {
    "duration": 85,
    "start_time": "2021-09-02T15:22:49.172Z"
   },
   {
    "duration": 27,
    "start_time": "2021-09-02T15:22:58.756Z"
   },
   {
    "duration": 12,
    "start_time": "2021-09-02T15:23:22.766Z"
   },
   {
    "duration": 13,
    "start_time": "2021-09-02T15:23:31.565Z"
   },
   {
    "duration": 11,
    "start_time": "2021-09-02T15:24:47.698Z"
   },
   {
    "duration": 13,
    "start_time": "2021-09-02T15:26:01.469Z"
   },
   {
    "duration": 12,
    "start_time": "2021-09-02T15:26:35.501Z"
   },
   {
    "duration": 12,
    "start_time": "2021-09-02T15:28:16.108Z"
   },
   {
    "duration": 29,
    "start_time": "2021-09-02T15:28:41.237Z"
   },
   {
    "duration": 31,
    "start_time": "2021-09-02T15:28:56.014Z"
   },
   {
    "duration": 26,
    "start_time": "2021-09-02T15:32:19.355Z"
   },
   {
    "duration": 27,
    "start_time": "2021-09-02T15:32:36.640Z"
   },
   {
    "duration": 13,
    "start_time": "2021-09-02T15:36:16.745Z"
   },
   {
    "duration": 14,
    "start_time": "2021-09-02T15:36:57.292Z"
   },
   {
    "duration": 14,
    "start_time": "2021-09-02T15:42:06.083Z"
   },
   {
    "duration": 12,
    "start_time": "2021-09-02T15:47:47.909Z"
   },
   {
    "duration": 72,
    "start_time": "2021-09-02T15:48:15.483Z"
   },
   {
    "duration": 15,
    "start_time": "2021-09-02T15:48:30.172Z"
   },
   {
    "duration": 97,
    "start_time": "2021-09-02T15:54:07.875Z"
   },
   {
    "duration": 105,
    "start_time": "2021-09-02T15:54:15.423Z"
   },
   {
    "duration": 134,
    "start_time": "2021-09-02T15:54:33.975Z"
   },
   {
    "duration": 75,
    "start_time": "2021-09-02T15:54:52.839Z"
   },
   {
    "duration": 23,
    "start_time": "2021-09-02T15:54:59.007Z"
   },
   {
    "duration": 27,
    "start_time": "2021-09-02T15:55:41.953Z"
   },
   {
    "duration": 24,
    "start_time": "2021-09-02T15:57:24.287Z"
   },
   {
    "duration": 25,
    "start_time": "2021-09-02T15:59:02.335Z"
   },
   {
    "duration": 12,
    "start_time": "2021-09-02T16:42:37.292Z"
   },
   {
    "duration": 83,
    "start_time": "2021-09-02T16:43:25.816Z"
   },
   {
    "duration": 12,
    "start_time": "2021-09-02T16:43:42.268Z"
   },
   {
    "duration": 8,
    "start_time": "2021-09-02T16:51:13.284Z"
   },
   {
    "duration": 8,
    "start_time": "2021-09-02T16:51:59.073Z"
   },
   {
    "duration": 10,
    "start_time": "2021-09-02T16:53:06.036Z"
   },
   {
    "duration": 82,
    "start_time": "2021-09-02T17:05:15.639Z"
   },
   {
    "duration": 91,
    "start_time": "2021-09-02T17:05:39.940Z"
   },
   {
    "duration": 12,
    "start_time": "2021-09-02T17:05:46.832Z"
   },
   {
    "duration": 11,
    "start_time": "2021-09-02T19:07:50.195Z"
   },
   {
    "duration": 11,
    "start_time": "2021-09-02T19:08:05.526Z"
   },
   {
    "duration": 7,
    "start_time": "2021-09-02T19:12:47.284Z"
   },
   {
    "duration": 4,
    "start_time": "2021-09-02T19:12:52.968Z"
   },
   {
    "duration": 60,
    "start_time": "2021-09-02T19:12:52.977Z"
   },
   {
    "duration": 24,
    "start_time": "2021-09-02T19:12:53.039Z"
   },
   {
    "duration": 16,
    "start_time": "2021-09-02T19:12:53.066Z"
   },
   {
    "duration": 11,
    "start_time": "2021-09-02T19:12:53.086Z"
   },
   {
    "duration": 21,
    "start_time": "2021-09-02T19:12:53.099Z"
   },
   {
    "duration": 47,
    "start_time": "2021-09-02T19:12:53.122Z"
   },
   {
    "duration": 35,
    "start_time": "2021-09-02T19:12:53.171Z"
   },
   {
    "duration": 6,
    "start_time": "2021-09-02T19:12:53.211Z"
   },
   {
    "duration": 46,
    "start_time": "2021-09-02T19:12:53.220Z"
   },
   {
    "duration": 22,
    "start_time": "2021-09-02T19:12:53.268Z"
   },
   {
    "duration": 7,
    "start_time": "2021-09-02T19:12:53.293Z"
   },
   {
    "duration": 60,
    "start_time": "2021-09-02T19:12:53.302Z"
   },
   {
    "duration": 11,
    "start_time": "2021-09-02T19:12:53.364Z"
   },
   {
    "duration": 12,
    "start_time": "2021-09-02T19:12:53.378Z"
   },
   {
    "duration": 38656,
    "start_time": "2021-09-02T19:12:53.392Z"
   },
   {
    "duration": 20,
    "start_time": "2021-09-02T19:13:32.050Z"
   },
   {
    "duration": 32,
    "start_time": "2021-09-02T19:13:32.073Z"
   },
   {
    "duration": 27,
    "start_time": "2021-09-02T19:13:32.108Z"
   },
   {
    "duration": 15,
    "start_time": "2021-09-02T19:13:32.138Z"
   },
   {
    "duration": 27,
    "start_time": "2021-09-02T19:13:32.156Z"
   },
   {
    "duration": 38898,
    "start_time": "2021-09-02T19:13:32.187Z"
   },
   {
    "duration": 6,
    "start_time": "2021-09-02T19:14:11.087Z"
   },
   {
    "duration": 9,
    "start_time": "2021-09-02T19:14:11.103Z"
   },
   {
    "duration": 49,
    "start_time": "2021-09-02T19:14:11.116Z"
   },
   {
    "duration": 25,
    "start_time": "2021-09-02T19:14:11.168Z"
   },
   {
    "duration": 8,
    "start_time": "2021-09-02T19:14:11.195Z"
   },
   {
    "duration": 13,
    "start_time": "2021-09-02T19:14:11.206Z"
   },
   {
    "duration": 33,
    "start_time": "2021-09-02T19:14:11.262Z"
   },
   {
    "duration": 6,
    "start_time": "2021-09-02T19:14:11.297Z"
   },
   {
    "duration": 57,
    "start_time": "2021-09-02T19:14:11.305Z"
   },
   {
    "duration": 13,
    "start_time": "2021-09-02T19:14:11.365Z"
   },
   {
    "duration": 49681,
    "start_time": "2021-09-02T19:14:11.381Z"
   },
   {
    "duration": 6,
    "start_time": "2021-09-02T19:15:01.064Z"
   },
   {
    "duration": 46,
    "start_time": "2021-09-02T19:15:01.073Z"
   },
   {
    "duration": 24,
    "start_time": "2021-09-02T19:15:01.122Z"
   },
   {
    "duration": 11,
    "start_time": "2021-09-02T19:15:01.163Z"
   },
   {
    "duration": 39311,
    "start_time": "2021-09-02T19:15:01.177Z"
   },
   {
    "duration": 8,
    "start_time": "2021-09-02T19:15:40.491Z"
   },
   {
    "duration": 19,
    "start_time": "2021-09-02T19:15:40.501Z"
   },
   {
    "duration": 58,
    "start_time": "2021-09-02T19:15:40.522Z"
   },
   {
    "duration": 11,
    "start_time": "2021-09-02T19:15:40.582Z"
   },
   {
    "duration": 24,
    "start_time": "2021-09-02T19:15:40.595Z"
   },
   {
    "duration": 41,
    "start_time": "2021-09-02T19:15:40.621Z"
   },
   {
    "duration": 15,
    "start_time": "2021-09-02T19:15:40.664Z"
   },
   {
    "duration": 7,
    "start_time": "2021-09-02T19:15:40.682Z"
   },
   {
    "duration": 60,
    "start_time": "2021-09-02T19:15:40.691Z"
   },
   {
    "duration": 36,
    "start_time": "2021-09-02T19:15:40.754Z"
   },
   {
    "duration": 28,
    "start_time": "2021-09-02T19:15:40.792Z"
   },
   {
    "duration": 31,
    "start_time": "2021-09-02T19:15:40.823Z"
   },
   {
    "duration": 7,
    "start_time": "2021-09-02T19:17:24.924Z"
   },
   {
    "duration": 15,
    "start_time": "2021-09-02T19:21:46.626Z"
   },
   {
    "duration": 117,
    "start_time": "2021-09-02T19:25:07.745Z"
   },
   {
    "duration": 99,
    "start_time": "2021-09-02T19:26:49.938Z"
   },
   {
    "duration": 501,
    "start_time": "2021-09-02T19:36:30.464Z"
   },
   {
    "duration": 812,
    "start_time": "2021-09-02T19:37:01.789Z"
   },
   {
    "duration": 506,
    "start_time": "2021-09-02T19:37:15.733Z"
   },
   {
    "duration": 455,
    "start_time": "2021-09-02T19:39:07.168Z"
   },
   {
    "duration": 447,
    "start_time": "2021-09-02T19:39:25.576Z"
   },
   {
    "duration": 15,
    "start_time": "2021-09-02T19:52:50.359Z"
   },
   {
    "duration": 255,
    "start_time": "2021-09-02T20:00:09.040Z"
   },
   {
    "duration": 235,
    "start_time": "2021-09-02T20:01:09.171Z"
   },
   {
    "duration": 659,
    "start_time": "2021-09-02T20:01:46.990Z"
   },
   {
    "duration": 616,
    "start_time": "2021-09-02T20:02:23.501Z"
   },
   {
    "duration": 630,
    "start_time": "2021-09-02T20:03:16.904Z"
   },
   {
    "duration": 221,
    "start_time": "2021-09-03T03:32:40.573Z"
   },
   {
    "duration": 1095,
    "start_time": "2021-09-03T03:32:50.501Z"
   },
   {
    "duration": 39,
    "start_time": "2021-09-03T03:32:51.598Z"
   },
   {
    "duration": 14,
    "start_time": "2021-09-03T03:32:51.639Z"
   },
   {
    "duration": 9,
    "start_time": "2021-09-03T03:32:51.655Z"
   },
   {
    "duration": 19,
    "start_time": "2021-09-03T03:32:51.666Z"
   },
   {
    "duration": 6,
    "start_time": "2021-09-03T03:32:51.687Z"
   },
   {
    "duration": 7,
    "start_time": "2021-09-03T03:32:51.695Z"
   },
   {
    "duration": 16,
    "start_time": "2021-09-03T03:32:51.704Z"
   },
   {
    "duration": 4,
    "start_time": "2021-09-03T03:32:51.722Z"
   },
   {
    "duration": 17,
    "start_time": "2021-09-03T03:32:51.728Z"
   },
   {
    "duration": 8,
    "start_time": "2021-09-03T03:32:51.747Z"
   },
   {
    "duration": 28,
    "start_time": "2021-09-03T03:32:51.757Z"
   },
   {
    "duration": 19,
    "start_time": "2021-09-03T03:32:51.786Z"
   },
   {
    "duration": 7,
    "start_time": "2021-09-03T03:32:51.806Z"
   },
   {
    "duration": 6,
    "start_time": "2021-09-03T03:32:51.815Z"
   },
   {
    "duration": 24522,
    "start_time": "2021-09-03T03:32:51.823Z"
   },
   {
    "duration": 8,
    "start_time": "2021-09-03T03:33:16.346Z"
   },
   {
    "duration": 4,
    "start_time": "2021-09-03T03:33:16.385Z"
   },
   {
    "duration": 10,
    "start_time": "2021-09-03T03:33:16.390Z"
   },
   {
    "duration": 13,
    "start_time": "2021-09-03T03:33:16.402Z"
   },
   {
    "duration": 21,
    "start_time": "2021-09-03T03:33:16.416Z"
   },
   {
    "duration": 25075,
    "start_time": "2021-09-03T03:33:16.438Z"
   },
   {
    "duration": 4,
    "start_time": "2021-09-03T03:33:41.516Z"
   },
   {
    "duration": 14,
    "start_time": "2021-09-03T03:33:41.522Z"
   },
   {
    "duration": 9,
    "start_time": "2021-09-03T03:33:41.537Z"
   },
   {
    "duration": 22,
    "start_time": "2021-09-03T03:33:41.547Z"
   },
   {
    "duration": 4,
    "start_time": "2021-09-03T03:33:41.570Z"
   },
   {
    "duration": 13,
    "start_time": "2021-09-03T03:33:41.576Z"
   },
   {
    "duration": 21,
    "start_time": "2021-09-03T03:33:41.591Z"
   },
   {
    "duration": 3,
    "start_time": "2021-09-03T03:33:41.613Z"
   },
   {
    "duration": 8,
    "start_time": "2021-09-03T03:33:41.618Z"
   },
   {
    "duration": 5,
    "start_time": "2021-09-03T03:33:41.628Z"
   },
   {
    "duration": 28316,
    "start_time": "2021-09-03T03:33:41.634Z"
   },
   {
    "duration": 4,
    "start_time": "2021-09-03T03:34:09.952Z"
   },
   {
    "duration": 29,
    "start_time": "2021-09-03T03:34:09.957Z"
   },
   {
    "duration": 6,
    "start_time": "2021-09-03T03:34:09.987Z"
   },
   {
    "duration": 3,
    "start_time": "2021-09-03T03:34:09.995Z"
   },
   {
    "duration": 24876,
    "start_time": "2021-09-03T03:34:09.999Z"
   },
   {
    "duration": 8,
    "start_time": "2021-09-03T03:34:34.877Z"
   },
   {
    "duration": 9,
    "start_time": "2021-09-03T03:34:34.886Z"
   },
   {
    "duration": 18,
    "start_time": "2021-09-03T03:34:34.896Z"
   },
   {
    "duration": 8,
    "start_time": "2021-09-03T03:34:34.915Z"
   },
   {
    "duration": 14,
    "start_time": "2021-09-03T03:34:34.924Z"
   },
   {
    "duration": 17,
    "start_time": "2021-09-03T03:34:34.940Z"
   },
   {
    "duration": 12,
    "start_time": "2021-09-03T03:34:34.958Z"
   },
   {
    "duration": 13,
    "start_time": "2021-09-03T03:34:34.972Z"
   },
   {
    "duration": 23,
    "start_time": "2021-09-03T03:34:34.987Z"
   },
   {
    "duration": 14,
    "start_time": "2021-09-03T03:34:35.012Z"
   },
   {
    "duration": 26,
    "start_time": "2021-09-03T03:34:35.028Z"
   },
   {
    "duration": 16,
    "start_time": "2021-09-03T03:34:35.056Z"
   },
   {
    "duration": 12,
    "start_time": "2021-09-03T03:34:35.074Z"
   },
   {
    "duration": 24,
    "start_time": "2021-09-03T03:34:35.088Z"
   },
   {
    "duration": 289,
    "start_time": "2021-09-03T03:34:35.114Z"
   },
   {
    "duration": 10,
    "start_time": "2021-09-03T03:34:35.404Z"
   },
   {
    "duration": 6,
    "start_time": "2021-09-03T03:36:04.396Z"
   },
   {
    "duration": 6,
    "start_time": "2021-09-03T03:45:46.060Z"
   },
   {
    "duration": 74,
    "start_time": "2021-09-03T03:46:18.718Z"
   },
   {
    "duration": 381,
    "start_time": "2021-09-03T03:47:19.792Z"
   },
   {
    "duration": 270,
    "start_time": "2021-09-03T03:47:41.118Z"
   },
   {
    "duration": 271,
    "start_time": "2021-09-03T03:47:55.719Z"
   },
   {
    "duration": 274,
    "start_time": "2021-09-03T03:48:11.440Z"
   },
   {
    "duration": 449,
    "start_time": "2021-09-03T03:48:42.737Z"
   },
   {
    "duration": 288,
    "start_time": "2021-09-03T03:48:59.881Z"
   },
   {
    "duration": 387,
    "start_time": "2021-09-03T03:49:21.043Z"
   },
   {
    "duration": 244,
    "start_time": "2021-09-03T03:55:36.618Z"
   },
   {
    "duration": 10,
    "start_time": "2021-09-03T03:55:45.221Z"
   },
   {
    "duration": 11,
    "start_time": "2021-09-03T03:56:05.764Z"
   },
   {
    "duration": 4,
    "start_time": "2021-09-03T03:56:54.117Z"
   },
   {
    "duration": 6,
    "start_time": "2021-09-03T03:57:04.389Z"
   },
   {
    "duration": 197,
    "start_time": "2021-09-03T03:57:40.905Z"
   },
   {
    "duration": 7,
    "start_time": "2021-09-03T03:57:46.926Z"
   },
   {
    "duration": 193,
    "start_time": "2021-09-03T03:58:49.880Z"
   },
   {
    "duration": 178,
    "start_time": "2021-09-03T03:59:22.955Z"
   },
   {
    "duration": 4,
    "start_time": "2021-09-03T03:59:38.130Z"
   },
   {
    "duration": 39,
    "start_time": "2021-09-03T03:59:38.138Z"
   },
   {
    "duration": 11,
    "start_time": "2021-09-03T03:59:38.179Z"
   },
   {
    "duration": 11,
    "start_time": "2021-09-03T03:59:38.192Z"
   },
   {
    "duration": 7,
    "start_time": "2021-09-03T03:59:38.205Z"
   },
   {
    "duration": 6,
    "start_time": "2021-09-03T03:59:38.214Z"
   },
   {
    "duration": 8,
    "start_time": "2021-09-03T03:59:38.221Z"
   },
   {
    "duration": 15,
    "start_time": "2021-09-03T03:59:38.230Z"
   },
   {
    "duration": 37,
    "start_time": "2021-09-03T03:59:38.247Z"
   },
   {
    "duration": 7,
    "start_time": "2021-09-03T03:59:38.286Z"
   },
   {
    "duration": 10,
    "start_time": "2021-09-03T03:59:38.294Z"
   },
   {
    "duration": 4,
    "start_time": "2021-09-03T03:59:38.306Z"
   },
   {
    "duration": 17,
    "start_time": "2021-09-03T03:59:38.311Z"
   },
   {
    "duration": 7,
    "start_time": "2021-09-03T03:59:38.330Z"
   },
   {
    "duration": 6,
    "start_time": "2021-09-03T03:59:38.338Z"
   },
   {
    "duration": 24519,
    "start_time": "2021-09-03T03:59:38.345Z"
   },
   {
    "duration": 7,
    "start_time": "2021-09-03T04:00:02.866Z"
   },
   {
    "duration": 12,
    "start_time": "2021-09-03T04:00:02.874Z"
   },
   {
    "duration": 18,
    "start_time": "2021-09-03T04:00:02.888Z"
   },
   {
    "duration": 3,
    "start_time": "2021-09-03T04:00:02.910Z"
   },
   {
    "duration": 5,
    "start_time": "2021-09-03T04:00:02.916Z"
   },
   {
    "duration": 24847,
    "start_time": "2021-09-03T04:00:02.922Z"
   },
   {
    "duration": 4,
    "start_time": "2021-09-03T04:00:27.771Z"
   },
   {
    "duration": 9,
    "start_time": "2021-09-03T04:00:27.776Z"
   },
   {
    "duration": 5,
    "start_time": "2021-09-03T04:00:27.787Z"
   },
   {
    "duration": 15,
    "start_time": "2021-09-03T04:00:27.794Z"
   },
   {
    "duration": 5,
    "start_time": "2021-09-03T04:00:27.810Z"
   },
   {
    "duration": 9,
    "start_time": "2021-09-03T04:00:27.817Z"
   },
   {
    "duration": 25,
    "start_time": "2021-09-03T04:00:27.827Z"
   },
   {
    "duration": 32,
    "start_time": "2021-09-03T04:00:27.854Z"
   },
   {
    "duration": 9,
    "start_time": "2021-09-03T04:00:27.888Z"
   },
   {
    "duration": 8,
    "start_time": "2021-09-03T04:00:27.899Z"
   },
   {
    "duration": 28731,
    "start_time": "2021-09-03T04:00:27.908Z"
   },
   {
    "duration": 4,
    "start_time": "2021-09-03T04:00:56.640Z"
   },
   {
    "duration": 20,
    "start_time": "2021-09-03T04:00:56.645Z"
   },
   {
    "duration": 20,
    "start_time": "2021-09-03T04:00:56.667Z"
   },
   {
    "duration": 3,
    "start_time": "2021-09-03T04:00:56.689Z"
   },
   {
    "duration": 25162,
    "start_time": "2021-09-03T04:00:56.694Z"
   },
   {
    "duration": 4,
    "start_time": "2021-09-03T04:01:21.858Z"
   },
   {
    "duration": 21,
    "start_time": "2021-09-03T04:01:21.864Z"
   },
   {
    "duration": 16,
    "start_time": "2021-09-03T04:01:21.887Z"
   },
   {
    "duration": 8,
    "start_time": "2021-09-03T04:01:21.905Z"
   },
   {
    "duration": 9,
    "start_time": "2021-09-03T04:01:21.915Z"
   },
   {
    "duration": 9,
    "start_time": "2021-09-03T04:01:21.926Z"
   },
   {
    "duration": 10,
    "start_time": "2021-09-03T04:01:21.936Z"
   },
   {
    "duration": 2,
    "start_time": "2021-09-03T04:01:21.947Z"
   },
   {
    "duration": 20,
    "start_time": "2021-09-03T04:01:21.986Z"
   },
   {
    "duration": 16,
    "start_time": "2021-09-03T04:01:22.008Z"
   },
   {
    "duration": 15,
    "start_time": "2021-09-03T04:01:22.026Z"
   },
   {
    "duration": 43,
    "start_time": "2021-09-03T04:01:22.043Z"
   },
   {
    "duration": 8,
    "start_time": "2021-09-03T04:01:22.087Z"
   },
   {
    "duration": 10,
    "start_time": "2021-09-03T04:01:22.098Z"
   },
   {
    "duration": 302,
    "start_time": "2021-09-03T04:01:22.110Z"
   },
   {
    "duration": 10,
    "start_time": "2021-09-03T04:01:22.414Z"
   },
   {
    "duration": 8,
    "start_time": "2021-09-03T04:01:22.426Z"
   },
   {
    "duration": 420,
    "start_time": "2021-09-03T04:01:22.436Z"
   },
   {
    "duration": 11,
    "start_time": "2021-09-03T04:01:22.858Z"
   },
   {
    "duration": 12,
    "start_time": "2021-09-03T04:02:35.567Z"
   },
   {
    "duration": 6,
    "start_time": "2021-09-03T04:02:36.758Z"
   },
   {
    "duration": 6,
    "start_time": "2021-09-03T04:03:00.791Z"
   },
   {
    "duration": 6,
    "start_time": "2021-09-03T04:03:18.681Z"
   },
   {
    "duration": 3,
    "start_time": "2021-09-03T04:03:24.454Z"
   },
   {
    "duration": 67,
    "start_time": "2021-09-03T04:03:24.459Z"
   },
   {
    "duration": 13,
    "start_time": "2021-09-03T04:03:24.528Z"
   },
   {
    "duration": 18,
    "start_time": "2021-09-03T04:03:24.543Z"
   },
   {
    "duration": 11,
    "start_time": "2021-09-03T04:03:24.562Z"
   },
   {
    "duration": 14,
    "start_time": "2021-09-03T04:03:24.575Z"
   },
   {
    "duration": 14,
    "start_time": "2021-09-03T04:03:24.591Z"
   },
   {
    "duration": 17,
    "start_time": "2021-09-03T04:03:24.607Z"
   },
   {
    "duration": 4,
    "start_time": "2021-09-03T04:03:24.626Z"
   },
   {
    "duration": 9,
    "start_time": "2021-09-03T04:03:24.632Z"
   },
   {
    "duration": 10,
    "start_time": "2021-09-03T04:03:24.642Z"
   },
   {
    "duration": 31,
    "start_time": "2021-09-03T04:03:24.654Z"
   },
   {
    "duration": 18,
    "start_time": "2021-09-03T04:03:24.687Z"
   },
   {
    "duration": 8,
    "start_time": "2021-09-03T04:03:24.706Z"
   },
   {
    "duration": 6,
    "start_time": "2021-09-03T04:03:24.715Z"
   },
   {
    "duration": 25080,
    "start_time": "2021-09-03T04:03:24.723Z"
   },
   {
    "duration": 7,
    "start_time": "2021-09-03T04:03:49.805Z"
   },
   {
    "duration": 6,
    "start_time": "2021-09-03T04:03:49.814Z"
   },
   {
    "duration": 7,
    "start_time": "2021-09-03T04:03:49.821Z"
   },
   {
    "duration": 4,
    "start_time": "2021-09-03T04:03:49.829Z"
   },
   {
    "duration": 5,
    "start_time": "2021-09-03T04:03:49.835Z"
   },
   {
    "duration": 25079,
    "start_time": "2021-09-03T04:03:49.841Z"
   },
   {
    "duration": 3,
    "start_time": "2021-09-03T04:04:14.924Z"
   },
   {
    "duration": 7,
    "start_time": "2021-09-03T04:04:14.929Z"
   },
   {
    "duration": 6,
    "start_time": "2021-09-03T04:04:14.938Z"
   },
   {
    "duration": 16,
    "start_time": "2021-09-03T04:04:14.945Z"
   },
   {
    "duration": 26,
    "start_time": "2021-09-03T04:04:14.963Z"
   },
   {
    "duration": 6,
    "start_time": "2021-09-03T04:04:14.991Z"
   },
   {
    "duration": 21,
    "start_time": "2021-09-03T04:04:14.999Z"
   },
   {
    "duration": 12,
    "start_time": "2021-09-03T04:04:15.021Z"
   },
   {
    "duration": 12,
    "start_time": "2021-09-03T04:04:15.035Z"
   },
   {
    "duration": 6,
    "start_time": "2021-09-03T04:04:15.048Z"
   },
   {
    "duration": 28980,
    "start_time": "2021-09-03T04:04:15.055Z"
   },
   {
    "duration": 3,
    "start_time": "2021-09-03T04:04:44.037Z"
   },
   {
    "duration": 20,
    "start_time": "2021-09-03T04:04:44.042Z"
   },
   {
    "duration": 6,
    "start_time": "2021-09-03T04:04:44.063Z"
   },
   {
    "duration": 4,
    "start_time": "2021-09-03T04:04:44.085Z"
   },
   {
    "duration": 25072,
    "start_time": "2021-09-03T04:04:44.090Z"
   },
   {
    "duration": 4,
    "start_time": "2021-09-03T04:05:09.164Z"
   },
   {
    "duration": 18,
    "start_time": "2021-09-03T04:05:09.169Z"
   },
   {
    "duration": 16,
    "start_time": "2021-09-03T04:05:09.188Z"
   },
   {
    "duration": 7,
    "start_time": "2021-09-03T04:05:09.205Z"
   },
   {
    "duration": 8,
    "start_time": "2021-09-03T04:05:09.214Z"
   },
   {
    "duration": 8,
    "start_time": "2021-09-03T04:05:09.223Z"
   },
   {
    "duration": 17,
    "start_time": "2021-09-03T04:05:09.232Z"
   },
   {
    "duration": 6,
    "start_time": "2021-09-03T04:05:09.250Z"
   },
   {
    "duration": 37,
    "start_time": "2021-09-03T04:05:09.257Z"
   },
   {
    "duration": 16,
    "start_time": "2021-09-03T04:05:09.296Z"
   },
   {
    "duration": 15,
    "start_time": "2021-09-03T04:05:09.313Z"
   },
   {
    "duration": 8,
    "start_time": "2021-09-03T04:05:09.329Z"
   },
   {
    "duration": 15,
    "start_time": "2021-09-03T04:05:09.339Z"
   },
   {
    "duration": 32,
    "start_time": "2021-09-03T04:05:09.356Z"
   },
   {
    "duration": 277,
    "start_time": "2021-09-03T04:05:09.390Z"
   },
   {
    "duration": 18,
    "start_time": "2021-09-03T04:05:09.669Z"
   },
   {
    "duration": 6,
    "start_time": "2021-09-03T04:05:09.688Z"
   },
   {
    "duration": 481,
    "start_time": "2021-09-03T04:05:09.695Z"
   },
   {
    "duration": 16,
    "start_time": "2021-09-03T04:05:10.177Z"
   },
   {
    "duration": 13,
    "start_time": "2021-09-03T04:06:09.740Z"
   },
   {
    "duration": 8,
    "start_time": "2021-09-03T04:06:13.620Z"
   },
   {
    "duration": 8,
    "start_time": "2021-09-03T04:06:31.719Z"
   },
   {
    "duration": 8,
    "start_time": "2021-09-03T04:06:41.926Z"
   },
   {
    "duration": 12,
    "start_time": "2021-09-03T04:06:49.238Z"
   },
   {
    "duration": 7,
    "start_time": "2021-09-03T04:06:50.722Z"
   },
   {
    "duration": 15,
    "start_time": "2021-09-03T04:12:49.631Z"
   },
   {
    "duration": 4,
    "start_time": "2021-09-03T05:29:45.868Z"
   },
   {
    "duration": 39,
    "start_time": "2021-09-03T05:29:45.885Z"
   },
   {
    "duration": 10,
    "start_time": "2021-09-03T05:29:45.926Z"
   },
   {
    "duration": 10,
    "start_time": "2021-09-03T05:29:45.938Z"
   },
   {
    "duration": 8,
    "start_time": "2021-09-03T05:29:45.950Z"
   },
   {
    "duration": 26,
    "start_time": "2021-09-03T05:29:45.959Z"
   },
   {
    "duration": 7,
    "start_time": "2021-09-03T05:29:45.987Z"
   },
   {
    "duration": 18,
    "start_time": "2021-09-03T05:29:45.995Z"
   },
   {
    "duration": 4,
    "start_time": "2021-09-03T05:29:46.015Z"
   },
   {
    "duration": 8,
    "start_time": "2021-09-03T05:29:46.021Z"
   },
   {
    "duration": 8,
    "start_time": "2021-09-03T05:29:46.031Z"
   },
   {
    "duration": 3,
    "start_time": "2021-09-03T05:29:46.041Z"
   },
   {
    "duration": 17,
    "start_time": "2021-09-03T05:29:46.085Z"
   },
   {
    "duration": 8,
    "start_time": "2021-09-03T05:29:46.104Z"
   },
   {
    "duration": 3,
    "start_time": "2021-09-03T05:29:46.114Z"
   },
   {
    "duration": 25443,
    "start_time": "2021-09-03T05:29:46.119Z"
   },
   {
    "duration": 7,
    "start_time": "2021-09-03T05:30:11.564Z"
   },
   {
    "duration": 13,
    "start_time": "2021-09-03T05:30:11.572Z"
   },
   {
    "duration": 7,
    "start_time": "2021-09-03T05:30:11.586Z"
   },
   {
    "duration": 4,
    "start_time": "2021-09-03T05:30:11.594Z"
   },
   {
    "duration": 7,
    "start_time": "2021-09-03T05:30:11.599Z"
   },
   {
    "duration": 25845,
    "start_time": "2021-09-03T05:30:11.608Z"
   },
   {
    "duration": 4,
    "start_time": "2021-09-03T05:30:37.454Z"
   },
   {
    "duration": 6,
    "start_time": "2021-09-03T05:30:37.460Z"
   },
   {
    "duration": 17,
    "start_time": "2021-09-03T05:30:37.468Z"
   },
   {
    "duration": 16,
    "start_time": "2021-09-03T05:30:37.487Z"
   },
   {
    "duration": 5,
    "start_time": "2021-09-03T05:30:37.505Z"
   },
   {
    "duration": 6,
    "start_time": "2021-09-03T05:30:37.513Z"
   },
   {
    "duration": 23,
    "start_time": "2021-09-03T05:30:37.521Z"
   },
   {
    "duration": 9,
    "start_time": "2021-09-03T05:30:37.546Z"
   },
   {
    "duration": 30,
    "start_time": "2021-09-03T05:30:37.557Z"
   },
   {
    "duration": 7,
    "start_time": "2021-09-03T05:30:37.589Z"
   },
   {
    "duration": 29087,
    "start_time": "2021-09-03T05:30:37.597Z"
   },
   {
    "duration": 3,
    "start_time": "2021-09-03T05:31:06.686Z"
   },
   {
    "duration": 25,
    "start_time": "2021-09-03T05:31:06.691Z"
   },
   {
    "duration": 5,
    "start_time": "2021-09-03T05:31:06.717Z"
   },
   {
    "duration": 4,
    "start_time": "2021-09-03T05:31:06.724Z"
   },
   {
    "duration": 25617,
    "start_time": "2021-09-03T05:31:06.730Z"
   },
   {
    "duration": 3,
    "start_time": "2021-09-03T05:31:32.349Z"
   },
   {
    "duration": 7,
    "start_time": "2021-09-03T05:31:32.354Z"
   },
   {
    "duration": 33,
    "start_time": "2021-09-03T05:31:32.362Z"
   },
   {
    "duration": 7,
    "start_time": "2021-09-03T05:31:32.397Z"
   },
   {
    "duration": 8,
    "start_time": "2021-09-03T05:31:32.405Z"
   },
   {
    "duration": 10,
    "start_time": "2021-09-03T05:31:32.414Z"
   },
   {
    "duration": 12,
    "start_time": "2021-09-03T05:31:32.425Z"
   },
   {
    "duration": 2,
    "start_time": "2021-09-03T05:31:32.438Z"
   },
   {
    "duration": 17,
    "start_time": "2021-09-03T05:31:32.442Z"
   },
   {
    "duration": 16,
    "start_time": "2021-09-03T05:31:32.484Z"
   },
   {
    "duration": 27,
    "start_time": "2021-09-03T05:31:32.501Z"
   },
   {
    "duration": 7,
    "start_time": "2021-09-03T05:31:32.529Z"
   },
   {
    "duration": 7,
    "start_time": "2021-09-03T05:31:32.537Z"
   },
   {
    "duration": 13,
    "start_time": "2021-09-03T05:31:32.545Z"
   },
   {
    "duration": 295,
    "start_time": "2021-09-03T05:31:32.559Z"
   },
   {
    "duration": 10,
    "start_time": "2021-09-03T05:31:32.856Z"
   },
   {
    "duration": 20,
    "start_time": "2021-09-03T05:31:32.867Z"
   },
   {
    "duration": 416,
    "start_time": "2021-09-03T05:31:32.889Z"
   },
   {
    "duration": 23,
    "start_time": "2021-09-03T05:31:33.307Z"
   },
   {
    "duration": 4,
    "start_time": "2021-09-03T06:01:13.647Z"
   },
   {
    "duration": 563,
    "start_time": "2021-09-03T06:10:49.055Z"
   },
   {
    "duration": 767,
    "start_time": "2021-09-03T06:11:02.903Z"
   },
   {
    "duration": 8,
    "start_time": "2021-09-03T06:11:18.297Z"
   },
   {
    "duration": 566,
    "start_time": "2021-09-03T06:11:19.663Z"
   },
   {
    "duration": 3,
    "start_time": "2021-09-03T06:11:44.696Z"
   },
   {
    "duration": 41,
    "start_time": "2021-09-03T06:11:44.701Z"
   },
   {
    "duration": 11,
    "start_time": "2021-09-03T06:11:44.744Z"
   },
   {
    "duration": 10,
    "start_time": "2021-09-03T06:11:44.757Z"
   },
   {
    "duration": 17,
    "start_time": "2021-09-03T06:11:44.768Z"
   },
   {
    "duration": 6,
    "start_time": "2021-09-03T06:11:44.786Z"
   },
   {
    "duration": 8,
    "start_time": "2021-09-03T06:11:44.793Z"
   },
   {
    "duration": 16,
    "start_time": "2021-09-03T06:11:44.802Z"
   },
   {
    "duration": 4,
    "start_time": "2021-09-03T06:11:44.820Z"
   },
   {
    "duration": 7,
    "start_time": "2021-09-03T06:11:44.826Z"
   },
   {
    "duration": 51,
    "start_time": "2021-09-03T06:11:44.834Z"
   },
   {
    "duration": 4,
    "start_time": "2021-09-03T06:11:44.886Z"
   },
   {
    "duration": 21,
    "start_time": "2021-09-03T06:11:44.891Z"
   },
   {
    "duration": 7,
    "start_time": "2021-09-03T06:11:44.914Z"
   },
   {
    "duration": 6,
    "start_time": "2021-09-03T06:11:44.922Z"
   },
   {
    "duration": 24644,
    "start_time": "2021-09-03T06:11:44.930Z"
   },
   {
    "duration": 9,
    "start_time": "2021-09-03T06:12:09.575Z"
   },
   {
    "duration": 5,
    "start_time": "2021-09-03T06:12:09.586Z"
   },
   {
    "duration": 7,
    "start_time": "2021-09-03T06:12:09.592Z"
   },
   {
    "duration": 4,
    "start_time": "2021-09-03T06:12:09.600Z"
   },
   {
    "duration": 5,
    "start_time": "2021-09-03T06:12:09.606Z"
   },
   {
    "duration": 25249,
    "start_time": "2021-09-03T06:12:09.612Z"
   },
   {
    "duration": 3,
    "start_time": "2021-09-03T06:12:34.863Z"
   },
   {
    "duration": 16,
    "start_time": "2021-09-03T06:12:34.870Z"
   },
   {
    "duration": 4,
    "start_time": "2021-09-03T06:12:34.887Z"
   },
   {
    "duration": 16,
    "start_time": "2021-09-03T06:12:34.893Z"
   },
   {
    "duration": 5,
    "start_time": "2021-09-03T06:12:34.911Z"
   },
   {
    "duration": 8,
    "start_time": "2021-09-03T06:12:34.917Z"
   },
   {
    "duration": 19,
    "start_time": "2021-09-03T06:12:34.926Z"
   },
   {
    "duration": 4,
    "start_time": "2021-09-03T06:12:34.985Z"
   },
   {
    "duration": 9,
    "start_time": "2021-09-03T06:12:34.991Z"
   },
   {
    "duration": 6,
    "start_time": "2021-09-03T06:12:35.002Z"
   },
   {
    "duration": 29104,
    "start_time": "2021-09-03T06:12:35.009Z"
   },
   {
    "duration": 4,
    "start_time": "2021-09-03T06:13:04.114Z"
   },
   {
    "duration": 21,
    "start_time": "2021-09-03T06:13:04.120Z"
   },
   {
    "duration": 4,
    "start_time": "2021-09-03T06:13:04.143Z"
   },
   {
    "duration": 5,
    "start_time": "2021-09-03T06:13:04.149Z"
   },
   {
    "duration": 25452,
    "start_time": "2021-09-03T06:13:04.155Z"
   },
   {
    "duration": 4,
    "start_time": "2021-09-03T06:13:29.609Z"
   },
   {
    "duration": 8,
    "start_time": "2021-09-03T06:13:29.614Z"
   },
   {
    "duration": 16,
    "start_time": "2021-09-03T06:13:29.624Z"
   },
   {
    "duration": 7,
    "start_time": "2021-09-03T06:13:29.642Z"
   },
   {
    "duration": 41,
    "start_time": "2021-09-03T06:13:29.650Z"
   },
   {
    "duration": 7,
    "start_time": "2021-09-03T06:13:29.693Z"
   },
   {
    "duration": 11,
    "start_time": "2021-09-03T06:13:29.701Z"
   },
   {
    "duration": 2,
    "start_time": "2021-09-03T06:13:29.714Z"
   },
   {
    "duration": 18,
    "start_time": "2021-09-03T06:13:29.718Z"
   },
   {
    "duration": 53,
    "start_time": "2021-09-03T06:13:29.737Z"
   },
   {
    "duration": 16,
    "start_time": "2021-09-03T06:13:29.792Z"
   },
   {
    "duration": 7,
    "start_time": "2021-09-03T06:13:29.809Z"
   },
   {
    "duration": 4,
    "start_time": "2021-09-03T06:13:29.817Z"
   },
   {
    "duration": 12,
    "start_time": "2021-09-03T06:13:29.822Z"
   },
   {
    "duration": 327,
    "start_time": "2021-09-03T06:13:29.835Z"
   },
   {
    "duration": 22,
    "start_time": "2021-09-03T06:13:30.164Z"
   },
   {
    "duration": 6,
    "start_time": "2021-09-03T06:13:30.187Z"
   },
   {
    "duration": 435,
    "start_time": "2021-09-03T06:13:30.195Z"
   },
   {
    "duration": 14,
    "start_time": "2021-09-03T06:13:30.632Z"
   },
   {
    "duration": 4,
    "start_time": "2021-09-03T06:27:18.280Z"
   },
   {
    "duration": 4890,
    "start_time": "2021-09-03T06:27:19.529Z"
   },
   {
    "duration": 548,
    "start_time": "2021-09-03T06:28:37.582Z"
   },
   {
    "duration": 5056,
    "start_time": "2021-09-03T06:29:13.324Z"
   },
   {
    "duration": 14,
    "start_time": "2021-09-03T06:32:10.234Z"
   },
   {
    "duration": 3,
    "start_time": "2021-09-03T06:33:17.851Z"
   },
   {
    "duration": 4380,
    "start_time": "2021-09-03T06:33:17.856Z"
   },
   {
    "duration": 416,
    "start_time": "2021-09-03T06:35:47.793Z"
   },
   {
    "duration": 14,
    "start_time": "2021-09-03T06:38:31.802Z"
   },
   {
    "duration": 3,
    "start_time": "2021-09-03T06:38:42.362Z"
   },
   {
    "duration": 4717,
    "start_time": "2021-09-03T06:38:46.379Z"
   },
   {
    "duration": 15,
    "start_time": "2021-09-03T06:39:55.684Z"
   },
   {
    "duration": 3,
    "start_time": "2021-09-03T06:39:59.987Z"
   },
   {
    "duration": 6182,
    "start_time": "2021-09-03T06:40:00.883Z"
   },
   {
    "duration": 18,
    "start_time": "2021-09-03T06:48:08.393Z"
   },
   {
    "duration": 4756,
    "start_time": "2021-09-03T06:48:21.754Z"
   },
   {
    "duration": 17,
    "start_time": "2021-09-03T06:50:18.271Z"
   },
   {
    "duration": 3,
    "start_time": "2021-09-03T06:50:20.676Z"
   },
   {
    "duration": 14,
    "start_time": "2021-09-03T06:57:36.209Z"
   },
   {
    "duration": 3,
    "start_time": "2021-09-03T06:57:38.655Z"
   },
   {
    "duration": 4995,
    "start_time": "2021-09-03T06:57:43.809Z"
   },
   {
    "duration": 4750,
    "start_time": "2021-09-03T06:58:28.139Z"
   },
   {
    "duration": 4793,
    "start_time": "2021-09-03T07:00:05.124Z"
   },
   {
    "duration": 496,
    "start_time": "2021-09-03T07:00:41.128Z"
   },
   {
    "duration": 14,
    "start_time": "2021-09-03T07:00:51.838Z"
   },
   {
    "duration": 3,
    "start_time": "2021-09-03T07:00:54.405Z"
   },
   {
    "duration": 475,
    "start_time": "2021-09-03T07:00:55.302Z"
   },
   {
    "duration": 649,
    "start_time": "2021-09-03T07:01:34.281Z"
   },
   {
    "duration": 4,
    "start_time": "2021-09-03T07:01:45.510Z"
   },
   {
    "duration": 38,
    "start_time": "2021-09-03T07:01:45.519Z"
   },
   {
    "duration": 13,
    "start_time": "2021-09-03T07:01:45.558Z"
   },
   {
    "duration": 10,
    "start_time": "2021-09-03T07:01:45.573Z"
   },
   {
    "duration": 12,
    "start_time": "2021-09-03T07:01:45.586Z"
   },
   {
    "duration": 8,
    "start_time": "2021-09-03T07:01:45.601Z"
   },
   {
    "duration": 8,
    "start_time": "2021-09-03T07:01:45.611Z"
   },
   {
    "duration": 18,
    "start_time": "2021-09-03T07:01:45.621Z"
   },
   {
    "duration": 51,
    "start_time": "2021-09-03T07:01:45.642Z"
   },
   {
    "duration": 10,
    "start_time": "2021-09-03T07:01:45.697Z"
   },
   {
    "duration": 9,
    "start_time": "2021-09-03T07:01:45.709Z"
   },
   {
    "duration": 4,
    "start_time": "2021-09-03T07:01:45.720Z"
   },
   {
    "duration": 62,
    "start_time": "2021-09-03T07:01:45.726Z"
   },
   {
    "duration": 14,
    "start_time": "2021-09-03T07:01:45.791Z"
   },
   {
    "duration": 4,
    "start_time": "2021-09-03T07:01:45.807Z"
   },
   {
    "duration": 28349,
    "start_time": "2021-09-03T07:01:45.813Z"
   },
   {
    "duration": 8,
    "start_time": "2021-09-03T07:02:14.164Z"
   },
   {
    "duration": 7,
    "start_time": "2021-09-03T07:02:14.184Z"
   },
   {
    "duration": 15,
    "start_time": "2021-09-03T07:02:14.193Z"
   },
   {
    "duration": 4,
    "start_time": "2021-09-03T07:02:14.209Z"
   },
   {
    "duration": 4,
    "start_time": "2021-09-03T07:02:14.215Z"
   },
   {
    "duration": 28769,
    "start_time": "2021-09-03T07:02:14.221Z"
   },
   {
    "duration": 8,
    "start_time": "2021-09-03T07:02:42.993Z"
   },
   {
    "duration": 6,
    "start_time": "2021-09-03T07:02:43.005Z"
   },
   {
    "duration": 5,
    "start_time": "2021-09-03T07:02:43.013Z"
   },
   {
    "duration": 14,
    "start_time": "2021-09-03T07:02:43.020Z"
   },
   {
    "duration": 51,
    "start_time": "2021-09-03T07:02:43.036Z"
   },
   {
    "duration": 12,
    "start_time": "2021-09-03T07:02:43.090Z"
   },
   {
    "duration": 25,
    "start_time": "2021-09-03T07:02:43.103Z"
   },
   {
    "duration": 4,
    "start_time": "2021-09-03T07:02:43.130Z"
   },
   {
    "duration": 11,
    "start_time": "2021-09-03T07:02:43.136Z"
   },
   {
    "duration": 41,
    "start_time": "2021-09-03T07:02:43.148Z"
   },
   {
    "duration": 32688,
    "start_time": "2021-09-03T07:02:43.197Z"
   },
   {
    "duration": 6,
    "start_time": "2021-09-03T07:03:15.887Z"
   },
   {
    "duration": 24,
    "start_time": "2021-09-03T07:03:15.896Z"
   },
   {
    "duration": 5,
    "start_time": "2021-09-03T07:03:15.922Z"
   },
   {
    "duration": 5,
    "start_time": "2021-09-03T07:03:15.928Z"
   },
   {
    "duration": 29000,
    "start_time": "2021-09-03T07:03:15.935Z"
   },
   {
    "duration": 4,
    "start_time": "2021-09-03T07:03:44.936Z"
   },
   {
    "duration": 9,
    "start_time": "2021-09-03T07:03:44.941Z"
   },
   {
    "duration": 42,
    "start_time": "2021-09-03T07:03:44.952Z"
   },
   {
    "duration": 10,
    "start_time": "2021-09-03T07:03:44.997Z"
   },
   {
    "duration": 15,
    "start_time": "2021-09-03T07:03:45.010Z"
   },
   {
    "duration": 10,
    "start_time": "2021-09-03T07:03:45.026Z"
   },
   {
    "duration": 9,
    "start_time": "2021-09-03T07:03:45.038Z"
   },
   {
    "duration": 37,
    "start_time": "2021-09-03T07:03:45.049Z"
   },
   {
    "duration": 25,
    "start_time": "2021-09-03T07:03:45.089Z"
   },
   {
    "duration": 16,
    "start_time": "2021-09-03T07:03:45.116Z"
   },
   {
    "duration": 59,
    "start_time": "2021-09-03T07:03:45.133Z"
   },
   {
    "duration": 11,
    "start_time": "2021-09-03T07:03:45.194Z"
   },
   {
    "duration": 4,
    "start_time": "2021-09-03T07:03:45.207Z"
   },
   {
    "duration": 14,
    "start_time": "2021-09-03T07:03:45.213Z"
   },
   {
    "duration": 336,
    "start_time": "2021-09-03T07:03:45.228Z"
   },
   {
    "duration": 10,
    "start_time": "2021-09-03T07:03:45.565Z"
   },
   {
    "duration": 10,
    "start_time": "2021-09-03T07:03:45.585Z"
   },
   {
    "duration": 456,
    "start_time": "2021-09-03T07:03:45.598Z"
   },
   {
    "duration": 14,
    "start_time": "2021-09-03T07:03:46.055Z"
   },
   {
    "duration": 16,
    "start_time": "2021-09-03T07:03:46.070Z"
   },
   {
    "duration": 4,
    "start_time": "2021-09-03T07:06:02.815Z"
   },
   {
    "duration": 507,
    "start_time": "2021-09-03T07:06:43.063Z"
   },
   {
    "duration": 14,
    "start_time": "2021-09-03T07:07:07.328Z"
   },
   {
    "duration": 4,
    "start_time": "2021-09-03T07:07:29.143Z"
   },
   {
    "duration": 5371,
    "start_time": "2021-09-03T07:08:56.419Z"
   },
   {
    "duration": 4656,
    "start_time": "2021-09-03T07:11:23.129Z"
   },
   {
    "duration": 5440,
    "start_time": "2021-09-03T07:12:23.026Z"
   },
   {
    "duration": 4764,
    "start_time": "2021-09-03T07:13:24.139Z"
   },
   {
    "duration": 554,
    "start_time": "2021-09-03T07:13:58.652Z"
   },
   {
    "duration": 4829,
    "start_time": "2021-09-03T07:23:42.381Z"
   },
   {
    "duration": 3,
    "start_time": "2021-09-03T07:24:36.757Z"
   },
   {
    "duration": 10583,
    "start_time": "2021-09-03T07:24:38.847Z"
   },
   {
    "duration": 5665,
    "start_time": "2021-09-03T07:26:06.784Z"
   },
   {
    "duration": 4,
    "start_time": "2021-09-03T07:27:55.417Z"
   },
   {
    "duration": 5552,
    "start_time": "2021-09-03T07:27:56.961Z"
   },
   {
    "duration": 14,
    "start_time": "2021-09-03T07:28:54.307Z"
   },
   {
    "duration": 3,
    "start_time": "2021-09-03T07:28:56.298Z"
   },
   {
    "duration": 4700,
    "start_time": "2021-09-03T07:28:57.539Z"
   },
   {
    "duration": 4701,
    "start_time": "2021-09-03T07:29:28.854Z"
   },
   {
    "duration": 591,
    "start_time": "2021-09-03T07:29:56.461Z"
   },
   {
    "duration": 4788,
    "start_time": "2021-09-03T07:30:41.182Z"
   },
   {
    "duration": 5642,
    "start_time": "2021-09-03T07:33:47.693Z"
   },
   {
    "duration": 15,
    "start_time": "2021-09-03T07:34:37.556Z"
   },
   {
    "duration": 3,
    "start_time": "2021-09-03T07:34:51.627Z"
   },
   {
    "duration": 4684,
    "start_time": "2021-09-03T07:34:52.989Z"
   },
   {
    "duration": 4,
    "start_time": "2021-09-03T07:36:55.065Z"
   },
   {
    "duration": 4595,
    "start_time": "2021-09-03T07:37:26.353Z"
   },
   {
    "duration": 6415,
    "start_time": "2021-09-03T07:38:38.618Z"
   },
   {
    "duration": 3,
    "start_time": "2021-09-03T07:39:03.979Z"
   },
   {
    "duration": 4609,
    "start_time": "2021-09-03T07:39:04.888Z"
   },
   {
    "duration": 14,
    "start_time": "2021-09-03T07:39:51.847Z"
   },
   {
    "duration": 3,
    "start_time": "2021-09-03T07:39:53.563Z"
   },
   {
    "duration": 405,
    "start_time": "2021-09-03T07:39:54.341Z"
   },
   {
    "duration": 5519,
    "start_time": "2021-09-03T07:42:37.176Z"
   },
   {
    "duration": 4,
    "start_time": "2021-09-03T07:44:38.940Z"
   },
   {
    "duration": 43,
    "start_time": "2021-09-03T07:44:38.949Z"
   },
   {
    "duration": 12,
    "start_time": "2021-09-03T07:44:38.994Z"
   },
   {
    "duration": 10,
    "start_time": "2021-09-03T07:44:39.008Z"
   },
   {
    "duration": 8,
    "start_time": "2021-09-03T07:44:39.020Z"
   },
   {
    "duration": 6,
    "start_time": "2021-09-03T07:44:39.030Z"
   },
   {
    "duration": 49,
    "start_time": "2021-09-03T07:44:39.038Z"
   },
   {
    "duration": 14,
    "start_time": "2021-09-03T07:44:39.088Z"
   },
   {
    "duration": 4,
    "start_time": "2021-09-03T07:44:39.104Z"
   },
   {
    "duration": 8,
    "start_time": "2021-09-03T07:44:39.110Z"
   },
   {
    "duration": 10,
    "start_time": "2021-09-03T07:44:39.120Z"
   },
   {
    "duration": 6,
    "start_time": "2021-09-03T07:44:39.132Z"
   },
   {
    "duration": 58,
    "start_time": "2021-09-03T07:44:39.139Z"
   },
   {
    "duration": 7,
    "start_time": "2021-09-03T07:44:39.199Z"
   },
   {
    "duration": 9,
    "start_time": "2021-09-03T07:44:39.208Z"
   },
   {
    "duration": 24790,
    "start_time": "2021-09-03T07:44:39.218Z"
   },
   {
    "duration": 7,
    "start_time": "2021-09-03T07:45:04.010Z"
   },
   {
    "duration": 13,
    "start_time": "2021-09-03T07:45:04.018Z"
   },
   {
    "duration": 9,
    "start_time": "2021-09-03T07:45:04.032Z"
   },
   {
    "duration": 3,
    "start_time": "2021-09-03T07:45:04.043Z"
   },
   {
    "duration": 6,
    "start_time": "2021-09-03T07:45:04.048Z"
   },
   {
    "duration": 25838,
    "start_time": "2021-09-03T07:45:04.055Z"
   },
   {
    "duration": 4,
    "start_time": "2021-09-03T07:45:29.895Z"
   },
   {
    "duration": 21,
    "start_time": "2021-09-03T07:45:29.900Z"
   },
   {
    "duration": 16,
    "start_time": "2021-09-03T07:45:29.922Z"
   },
   {
    "duration": 34,
    "start_time": "2021-09-03T07:45:29.939Z"
   },
   {
    "duration": 11,
    "start_time": "2021-09-03T07:45:29.974Z"
   },
   {
    "duration": 15,
    "start_time": "2021-09-03T07:45:29.989Z"
   },
   {
    "duration": 27,
    "start_time": "2021-09-03T07:45:30.007Z"
   },
   {
    "duration": 7,
    "start_time": "2021-09-03T07:45:30.036Z"
   },
   {
    "duration": 19,
    "start_time": "2021-09-03T07:45:30.044Z"
   },
   {
    "duration": 16,
    "start_time": "2021-09-03T07:45:30.064Z"
   },
   {
    "duration": 28970,
    "start_time": "2021-09-03T07:45:30.081Z"
   },
   {
    "duration": 4,
    "start_time": "2021-09-03T07:45:59.053Z"
   },
   {
    "duration": 32,
    "start_time": "2021-09-03T07:45:59.058Z"
   },
   {
    "duration": 11,
    "start_time": "2021-09-03T07:45:59.092Z"
   },
   {
    "duration": 19,
    "start_time": "2021-09-03T07:45:59.105Z"
   },
   {
    "duration": 25664,
    "start_time": "2021-09-03T07:45:59.125Z"
   },
   {
    "duration": 4,
    "start_time": "2021-09-03T07:46:24.791Z"
   },
   {
    "duration": 7,
    "start_time": "2021-09-03T07:46:24.797Z"
   },
   {
    "duration": 17,
    "start_time": "2021-09-03T07:46:24.806Z"
   },
   {
    "duration": 7,
    "start_time": "2021-09-03T07:46:24.825Z"
   },
   {
    "duration": 9,
    "start_time": "2021-09-03T07:46:24.834Z"
   },
   {
    "duration": 46,
    "start_time": "2021-09-03T07:46:24.844Z"
   },
   {
    "duration": 12,
    "start_time": "2021-09-03T07:46:24.892Z"
   },
   {
    "duration": 2,
    "start_time": "2021-09-03T07:46:24.906Z"
   },
   {
    "duration": 20,
    "start_time": "2021-09-03T07:46:24.911Z"
   },
   {
    "duration": 64,
    "start_time": "2021-09-03T07:46:24.933Z"
   },
   {
    "duration": 18,
    "start_time": "2021-09-03T07:46:24.999Z"
   },
   {
    "duration": 6,
    "start_time": "2021-09-03T07:46:25.019Z"
   },
   {
    "duration": 5,
    "start_time": "2021-09-03T07:46:25.027Z"
   },
   {
    "duration": 52,
    "start_time": "2021-09-03T07:46:25.033Z"
   },
   {
    "duration": 308,
    "start_time": "2021-09-03T07:46:25.086Z"
   },
   {
    "duration": 11,
    "start_time": "2021-09-03T07:46:25.395Z"
   },
   {
    "duration": 6,
    "start_time": "2021-09-03T07:46:25.408Z"
   },
   {
    "duration": 437,
    "start_time": "2021-09-03T07:46:25.416Z"
   },
   {
    "duration": 30,
    "start_time": "2021-09-03T07:46:25.855Z"
   },
   {
    "duration": 4,
    "start_time": "2021-09-03T07:46:25.887Z"
   },
   {
    "duration": 4,
    "start_time": "2021-09-03T07:47:17.030Z"
   },
   {
    "duration": 5799,
    "start_time": "2021-09-03T07:47:20.496Z"
   },
   {
    "duration": 4,
    "start_time": "2021-09-03T07:48:33.768Z"
   },
   {
    "duration": 4,
    "start_time": "2021-09-03T07:49:18.290Z"
   },
   {
    "duration": 4,
    "start_time": "2021-09-03T07:50:14.355Z"
   },
   {
    "duration": 4,
    "start_time": "2021-09-03T07:52:35.127Z"
   },
   {
    "duration": 446,
    "start_time": "2021-09-03T07:52:38.797Z"
   },
   {
    "duration": 433,
    "start_time": "2021-09-03T07:53:29.728Z"
   },
   {
    "duration": 6106,
    "start_time": "2021-09-03T07:54:11.066Z"
   },
   {
    "duration": 191,
    "start_time": "2021-09-03T07:55:59.376Z"
   },
   {
    "duration": 197,
    "start_time": "2021-09-03T07:56:49.040Z"
   },
   {
    "duration": 190,
    "start_time": "2021-09-03T07:57:08.594Z"
   },
   {
    "duration": 209,
    "start_time": "2021-09-03T07:57:17.361Z"
   },
   {
    "duration": 304,
    "start_time": "2021-09-03T07:57:31.331Z"
   },
   {
    "duration": 202,
    "start_time": "2021-09-03T07:57:53.330Z"
   },
   {
    "duration": 190,
    "start_time": "2021-09-03T07:58:10.697Z"
   },
   {
    "duration": 196,
    "start_time": "2021-09-03T07:58:32.897Z"
   },
   {
    "duration": 233,
    "start_time": "2021-09-03T07:58:48.146Z"
   },
   {
    "duration": 370,
    "start_time": "2021-09-03T07:58:59.537Z"
   },
   {
    "duration": 206,
    "start_time": "2021-09-03T07:59:31.474Z"
   },
   {
    "duration": 193,
    "start_time": "2021-09-03T07:59:38.810Z"
   },
   {
    "duration": 358,
    "start_time": "2021-09-03T08:00:23.528Z"
   },
   {
    "duration": 221,
    "start_time": "2021-09-03T08:00:47.118Z"
   },
   {
    "duration": 217,
    "start_time": "2021-09-03T08:01:06.157Z"
   },
   {
    "duration": 195,
    "start_time": "2021-09-03T08:01:21.814Z"
   },
   {
    "duration": 61,
    "start_time": "2021-09-03T08:02:20.155Z"
   },
   {
    "duration": 199,
    "start_time": "2021-09-03T08:02:27.595Z"
   },
   {
    "duration": 203,
    "start_time": "2021-09-03T08:05:07.051Z"
   },
   {
    "duration": 201,
    "start_time": "2021-09-03T08:05:20.707Z"
   },
   {
    "duration": 195,
    "start_time": "2021-09-03T08:05:44.805Z"
   },
   {
    "duration": 201,
    "start_time": "2021-09-03T08:10:48.774Z"
   },
   {
    "duration": 212,
    "start_time": "2021-09-03T08:11:10.357Z"
   },
   {
    "duration": 3,
    "start_time": "2021-09-03T08:20:55.159Z"
   },
   {
    "duration": 183,
    "start_time": "2021-09-03T08:21:12.468Z"
   },
   {
    "duration": 179,
    "start_time": "2021-09-03T08:22:09.056Z"
   },
   {
    "duration": 190,
    "start_time": "2021-09-03T08:22:36.825Z"
   },
   {
    "duration": 3,
    "start_time": "2021-09-03T08:24:09.195Z"
   },
   {
    "duration": 41,
    "start_time": "2021-09-03T08:24:09.201Z"
   },
   {
    "duration": 12,
    "start_time": "2021-09-03T08:24:09.244Z"
   },
   {
    "duration": 11,
    "start_time": "2021-09-03T08:24:09.258Z"
   },
   {
    "duration": 21,
    "start_time": "2021-09-03T08:24:09.271Z"
   },
   {
    "duration": 11,
    "start_time": "2021-09-03T08:24:09.294Z"
   },
   {
    "duration": 12,
    "start_time": "2021-09-03T08:24:09.306Z"
   },
   {
    "duration": 17,
    "start_time": "2021-09-03T08:24:09.320Z"
   },
   {
    "duration": 3,
    "start_time": "2021-09-03T08:24:09.340Z"
   },
   {
    "duration": 8,
    "start_time": "2021-09-03T08:24:09.345Z"
   },
   {
    "duration": 12,
    "start_time": "2021-09-03T08:24:09.385Z"
   },
   {
    "duration": 6,
    "start_time": "2021-09-03T08:24:09.399Z"
   },
   {
    "duration": 21,
    "start_time": "2021-09-03T08:24:09.406Z"
   },
   {
    "duration": 8,
    "start_time": "2021-09-03T08:24:09.429Z"
   },
   {
    "duration": 4,
    "start_time": "2021-09-03T08:24:09.439Z"
   },
   {
    "duration": 25160,
    "start_time": "2021-09-03T08:24:09.445Z"
   },
   {
    "duration": 8,
    "start_time": "2021-09-03T08:24:34.606Z"
   },
   {
    "duration": 14,
    "start_time": "2021-09-03T08:24:34.615Z"
   },
   {
    "duration": 7,
    "start_time": "2021-09-03T08:24:34.631Z"
   },
   {
    "duration": 4,
    "start_time": "2021-09-03T08:24:34.640Z"
   },
   {
    "duration": 6,
    "start_time": "2021-09-03T08:24:34.645Z"
   },
   {
    "duration": 25539,
    "start_time": "2021-09-03T08:24:34.652Z"
   },
   {
    "duration": 4,
    "start_time": "2021-09-03T08:25:00.194Z"
   },
   {
    "duration": 11,
    "start_time": "2021-09-03T08:25:00.204Z"
   },
   {
    "duration": 5,
    "start_time": "2021-09-03T08:25:00.218Z"
   },
   {
    "duration": 16,
    "start_time": "2021-09-03T08:25:00.225Z"
   },
   {
    "duration": 5,
    "start_time": "2021-09-03T08:25:00.243Z"
   },
   {
    "duration": 40,
    "start_time": "2021-09-03T08:25:00.250Z"
   },
   {
    "duration": 28,
    "start_time": "2021-09-03T08:25:00.292Z"
   },
   {
    "duration": 3,
    "start_time": "2021-09-03T08:25:00.322Z"
   },
   {
    "duration": 14,
    "start_time": "2021-09-03T08:25:00.327Z"
   },
   {
    "duration": 16,
    "start_time": "2021-09-03T08:25:00.342Z"
   },
   {
    "duration": 30046,
    "start_time": "2021-09-03T08:25:00.385Z"
   },
   {
    "duration": 4,
    "start_time": "2021-09-03T08:25:30.432Z"
   },
   {
    "duration": 29,
    "start_time": "2021-09-03T08:25:30.438Z"
   },
   {
    "duration": 19,
    "start_time": "2021-09-03T08:25:30.469Z"
   },
   {
    "duration": 21,
    "start_time": "2021-09-03T08:25:30.490Z"
   },
   {
    "duration": 25454,
    "start_time": "2021-09-03T08:25:30.512Z"
   },
   {
    "duration": 4,
    "start_time": "2021-09-03T08:25:55.968Z"
   },
   {
    "duration": 14,
    "start_time": "2021-09-03T08:25:55.973Z"
   },
   {
    "duration": 16,
    "start_time": "2021-09-03T08:25:55.989Z"
   },
   {
    "duration": 8,
    "start_time": "2021-09-03T08:25:56.006Z"
   },
   {
    "duration": 8,
    "start_time": "2021-09-03T08:25:56.016Z"
   },
   {
    "duration": 7,
    "start_time": "2021-09-03T08:25:56.026Z"
   },
   {
    "duration": 50,
    "start_time": "2021-09-03T08:25:56.035Z"
   },
   {
    "duration": 2,
    "start_time": "2021-09-03T08:25:56.086Z"
   },
   {
    "duration": 21,
    "start_time": "2021-09-03T08:25:56.090Z"
   },
   {
    "duration": 15,
    "start_time": "2021-09-03T08:25:56.113Z"
   },
   {
    "duration": 15,
    "start_time": "2021-09-03T08:25:56.130Z"
   },
   {
    "duration": 8,
    "start_time": "2021-09-03T08:25:56.184Z"
   },
   {
    "duration": 6,
    "start_time": "2021-09-03T08:25:56.193Z"
   },
   {
    "duration": 13,
    "start_time": "2021-09-03T08:25:56.201Z"
   },
   {
    "duration": 301,
    "start_time": "2021-09-03T08:25:56.216Z"
   },
   {
    "duration": 9,
    "start_time": "2021-09-03T08:25:56.519Z"
   },
   {
    "duration": 7,
    "start_time": "2021-09-03T08:25:56.530Z"
   },
   {
    "duration": 420,
    "start_time": "2021-09-03T08:25:56.539Z"
   },
   {
    "duration": 13,
    "start_time": "2021-09-03T08:25:56.961Z"
   },
   {
    "duration": 12,
    "start_time": "2021-09-03T08:25:56.975Z"
   },
   {
    "duration": 4,
    "start_time": "2021-09-03T08:26:04.405Z"
   },
   {
    "duration": 182,
    "start_time": "2021-09-03T08:26:05.996Z"
   },
   {
    "duration": 4,
    "start_time": "2021-09-03T08:26:16.302Z"
   },
   {
    "duration": 187,
    "start_time": "2021-09-03T08:26:17.013Z"
   },
   {
    "duration": 220,
    "start_time": "2021-09-03T08:26:58.823Z"
   },
   {
    "duration": 216,
    "start_time": "2021-09-03T08:27:10.031Z"
   },
   {
    "duration": 5186,
    "start_time": "2021-09-03T08:28:20.977Z"
   },
   {
    "duration": 3,
    "start_time": "2021-09-03T08:29:52.467Z"
   },
   {
    "duration": 229,
    "start_time": "2021-09-03T08:31:17.522Z"
   },
   {
    "duration": 231,
    "start_time": "2021-09-03T08:32:40.111Z"
   },
   {
    "duration": 4,
    "start_time": "2021-09-03T08:35:52.773Z"
   },
   {
    "duration": 4,
    "start_time": "2021-09-03T08:37:17.074Z"
   },
   {
    "duration": 213,
    "start_time": "2021-09-03T08:37:28.919Z"
   },
   {
    "duration": 1135,
    "start_time": "2021-09-03T08:37:54.349Z"
   },
   {
    "duration": 38,
    "start_time": "2021-09-03T08:37:55.486Z"
   },
   {
    "duration": 14,
    "start_time": "2021-09-03T08:37:55.527Z"
   },
   {
    "duration": 9,
    "start_time": "2021-09-03T08:37:55.543Z"
   },
   {
    "duration": 8,
    "start_time": "2021-09-03T08:37:55.553Z"
   },
   {
    "duration": 27,
    "start_time": "2021-09-03T08:37:55.562Z"
   },
   {
    "duration": 8,
    "start_time": "2021-09-03T08:37:55.591Z"
   },
   {
    "duration": 19,
    "start_time": "2021-09-03T08:37:55.601Z"
   },
   {
    "duration": 4,
    "start_time": "2021-09-03T08:37:55.622Z"
   },
   {
    "duration": 8,
    "start_time": "2021-09-03T08:37:55.627Z"
   },
   {
    "duration": 8,
    "start_time": "2021-09-03T08:37:55.637Z"
   },
   {
    "duration": 39,
    "start_time": "2021-09-03T08:37:55.646Z"
   },
   {
    "duration": 16,
    "start_time": "2021-09-03T08:37:55.686Z"
   },
   {
    "duration": 6,
    "start_time": "2021-09-03T08:37:55.704Z"
   },
   {
    "duration": 6,
    "start_time": "2021-09-03T08:37:55.712Z"
   },
   {
    "duration": 24630,
    "start_time": "2021-09-03T08:37:55.719Z"
   },
   {
    "duration": 7,
    "start_time": "2021-09-03T08:38:20.351Z"
   },
   {
    "duration": 6,
    "start_time": "2021-09-03T08:38:20.360Z"
   },
   {
    "duration": 23,
    "start_time": "2021-09-03T08:38:20.368Z"
   },
   {
    "duration": 4,
    "start_time": "2021-09-03T08:38:20.393Z"
   },
   {
    "duration": 5,
    "start_time": "2021-09-03T08:38:20.399Z"
   },
   {
    "duration": 24898,
    "start_time": "2021-09-03T08:38:20.406Z"
   },
   {
    "duration": 3,
    "start_time": "2021-09-03T08:38:45.308Z"
   },
   {
    "duration": 7,
    "start_time": "2021-09-03T08:38:45.313Z"
   },
   {
    "duration": 6,
    "start_time": "2021-09-03T08:38:45.322Z"
   },
   {
    "duration": 18,
    "start_time": "2021-09-03T08:38:45.329Z"
   },
   {
    "duration": 5,
    "start_time": "2021-09-03T08:38:45.349Z"
   },
   {
    "duration": 34,
    "start_time": "2021-09-03T08:38:45.356Z"
   },
   {
    "duration": 20,
    "start_time": "2021-09-03T08:38:45.391Z"
   },
   {
    "duration": 3,
    "start_time": "2021-09-03T08:38:45.413Z"
   },
   {
    "duration": 8,
    "start_time": "2021-09-03T08:38:45.418Z"
   },
   {
    "duration": 8,
    "start_time": "2021-09-03T08:38:45.427Z"
   },
   {
    "duration": 28795,
    "start_time": "2021-09-03T08:38:45.437Z"
   },
   {
    "duration": 5,
    "start_time": "2021-09-03T08:39:14.233Z"
   },
   {
    "duration": 46,
    "start_time": "2021-09-03T08:39:14.240Z"
   },
   {
    "duration": 8,
    "start_time": "2021-09-03T08:39:14.288Z"
   },
   {
    "duration": 5,
    "start_time": "2021-09-03T08:39:14.298Z"
   },
   {
    "duration": 25482,
    "start_time": "2021-09-03T08:39:14.305Z"
   },
   {
    "duration": 4,
    "start_time": "2021-09-03T08:39:39.788Z"
   },
   {
    "duration": 10,
    "start_time": "2021-09-03T08:39:39.793Z"
   },
   {
    "duration": 17,
    "start_time": "2021-09-03T08:39:39.804Z"
   },
   {
    "duration": 7,
    "start_time": "2021-09-03T08:39:39.823Z"
   },
   {
    "duration": 8,
    "start_time": "2021-09-03T08:39:39.832Z"
   },
   {
    "duration": 45,
    "start_time": "2021-09-03T08:39:39.841Z"
   },
   {
    "duration": 11,
    "start_time": "2021-09-03T08:39:39.888Z"
   },
   {
    "duration": 2,
    "start_time": "2021-09-03T08:39:39.900Z"
   },
   {
    "duration": 19,
    "start_time": "2021-09-03T08:39:39.904Z"
   },
   {
    "duration": 14,
    "start_time": "2021-09-03T08:39:39.925Z"
   },
   {
    "duration": 49,
    "start_time": "2021-09-03T08:39:39.941Z"
   },
   {
    "duration": 7,
    "start_time": "2021-09-03T08:39:39.991Z"
   },
   {
    "duration": 9,
    "start_time": "2021-09-03T08:39:39.999Z"
   },
   {
    "duration": 17,
    "start_time": "2021-09-03T08:39:40.009Z"
   },
   {
    "duration": 313,
    "start_time": "2021-09-03T08:39:40.028Z"
   },
   {
    "duration": 13,
    "start_time": "2021-09-03T08:39:40.343Z"
   },
   {
    "duration": 27,
    "start_time": "2021-09-03T08:39:40.358Z"
   },
   {
    "duration": 402,
    "start_time": "2021-09-03T08:39:40.387Z"
   },
   {
    "duration": 13,
    "start_time": "2021-09-03T08:39:40.791Z"
   },
   {
    "duration": 4,
    "start_time": "2021-09-03T08:39:40.805Z"
   },
   {
    "duration": 4,
    "start_time": "2021-09-03T08:42:56.784Z"
   },
   {
    "duration": 4952,
    "start_time": "2021-09-03T08:42:57.568Z"
   },
   {
    "duration": 8,
    "start_time": "2021-09-03T09:00:15.987Z"
   },
   {
    "duration": 4,
    "start_time": "2021-09-03T09:00:50.020Z"
   },
   {
    "duration": 5,
    "start_time": "2021-09-03T09:01:11.717Z"
   },
   {
    "duration": 13,
    "start_time": "2021-09-03T09:01:20.601Z"
   },
   {
    "duration": 9,
    "start_time": "2021-09-03T09:07:32.150Z"
   },
   {
    "duration": 201,
    "start_time": "2021-09-03T09:15:33.522Z"
   },
   {
    "duration": 161,
    "start_time": "2021-09-03T09:15:41.843Z"
   },
   {
    "duration": 225,
    "start_time": "2021-09-03T09:16:02.076Z"
   },
   {
    "duration": 249,
    "start_time": "2021-09-03T09:16:16.276Z"
   },
   {
    "duration": 171,
    "start_time": "2021-09-03T09:16:26.308Z"
   },
   {
    "duration": 185,
    "start_time": "2021-09-03T09:17:19.781Z"
   },
   {
    "duration": 183,
    "start_time": "2021-09-03T09:17:27.333Z"
   },
   {
    "duration": 421,
    "start_time": "2021-09-03T09:18:59.911Z"
   },
   {
    "duration": 165,
    "start_time": "2021-09-03T09:19:58.694Z"
   },
   {
    "duration": 172,
    "start_time": "2021-09-03T09:21:40.174Z"
   },
   {
    "duration": 172,
    "start_time": "2021-09-03T09:23:49.370Z"
   },
   {
    "duration": 8,
    "start_time": "2021-09-03T09:24:59.496Z"
   },
   {
    "duration": 8,
    "start_time": "2021-09-03T09:25:16.279Z"
   },
   {
    "duration": 12,
    "start_time": "2021-09-03T09:26:27.485Z"
   },
   {
    "duration": 7,
    "start_time": "2021-09-03T09:27:04.766Z"
   },
   {
    "duration": 9,
    "start_time": "2021-09-03T09:27:05.429Z"
   },
   {
    "duration": 3,
    "start_time": "2021-09-03T09:40:21.890Z"
   },
   {
    "duration": 40,
    "start_time": "2021-09-03T09:40:21.899Z"
   },
   {
    "duration": 12,
    "start_time": "2021-09-03T09:40:21.941Z"
   },
   {
    "duration": 10,
    "start_time": "2021-09-03T09:40:21.955Z"
   },
   {
    "duration": 28,
    "start_time": "2021-09-03T09:40:21.966Z"
   },
   {
    "duration": 7,
    "start_time": "2021-09-03T09:40:21.996Z"
   },
   {
    "duration": 8,
    "start_time": "2021-09-03T09:40:22.004Z"
   },
   {
    "duration": 18,
    "start_time": "2021-09-03T09:40:22.014Z"
   },
   {
    "duration": 51,
    "start_time": "2021-09-03T09:40:22.034Z"
   },
   {
    "duration": 9,
    "start_time": "2021-09-03T09:40:22.088Z"
   },
   {
    "duration": 16,
    "start_time": "2021-09-03T09:40:22.098Z"
   },
   {
    "duration": 13,
    "start_time": "2021-09-03T09:40:22.116Z"
   },
   {
    "duration": 23,
    "start_time": "2021-09-03T09:40:22.131Z"
   },
   {
    "duration": 36,
    "start_time": "2021-09-03T09:40:22.156Z"
   },
   {
    "duration": 23,
    "start_time": "2021-09-03T09:40:22.193Z"
   },
   {
    "duration": 27318,
    "start_time": "2021-09-03T09:40:22.218Z"
   },
   {
    "duration": 6,
    "start_time": "2021-09-03T09:40:49.538Z"
   },
   {
    "duration": 7,
    "start_time": "2021-09-03T09:40:49.546Z"
   },
   {
    "duration": 7,
    "start_time": "2021-09-03T09:40:49.555Z"
   },
   {
    "duration": 22,
    "start_time": "2021-09-03T09:40:49.563Z"
   },
   {
    "duration": 7,
    "start_time": "2021-09-03T09:40:49.588Z"
   },
   {
    "duration": 28034,
    "start_time": "2021-09-03T09:40:49.596Z"
   },
   {
    "duration": 4,
    "start_time": "2021-09-03T09:41:17.631Z"
   },
   {
    "duration": 5,
    "start_time": "2021-09-03T09:41:17.638Z"
   },
   {
    "duration": 6,
    "start_time": "2021-09-03T09:41:17.645Z"
   },
   {
    "duration": 43,
    "start_time": "2021-09-03T09:41:17.653Z"
   },
   {
    "duration": 6,
    "start_time": "2021-09-03T09:41:17.698Z"
   },
   {
    "duration": 13,
    "start_time": "2021-09-03T09:41:17.705Z"
   },
   {
    "duration": 23,
    "start_time": "2021-09-03T09:41:17.720Z"
   },
   {
    "duration": 5,
    "start_time": "2021-09-03T09:41:17.745Z"
   },
   {
    "duration": 38,
    "start_time": "2021-09-03T09:41:17.751Z"
   },
   {
    "duration": 5,
    "start_time": "2021-09-03T09:41:17.790Z"
   },
   {
    "duration": 31447,
    "start_time": "2021-09-03T09:41:17.796Z"
   },
   {
    "duration": 5,
    "start_time": "2021-09-03T09:41:49.245Z"
   },
   {
    "duration": 36,
    "start_time": "2021-09-03T09:41:49.252Z"
   },
   {
    "duration": 7,
    "start_time": "2021-09-03T09:41:49.291Z"
   },
   {
    "duration": 9,
    "start_time": "2021-09-03T09:41:49.301Z"
   },
   {
    "duration": 27619,
    "start_time": "2021-09-03T09:41:49.311Z"
   },
   {
    "duration": 4,
    "start_time": "2021-09-03T09:42:16.932Z"
   },
   {
    "duration": 32,
    "start_time": "2021-09-03T09:42:16.937Z"
   },
   {
    "duration": 56,
    "start_time": "2021-09-03T09:42:16.971Z"
   },
   {
    "duration": 20,
    "start_time": "2021-09-03T09:42:17.028Z"
   },
   {
    "duration": 41,
    "start_time": "2021-09-03T09:42:17.049Z"
   },
   {
    "duration": 31,
    "start_time": "2021-09-03T09:42:17.092Z"
   },
   {
    "duration": 51,
    "start_time": "2021-09-03T09:42:17.124Z"
   },
   {
    "duration": 15,
    "start_time": "2021-09-03T09:42:17.177Z"
   },
   {
    "duration": 54,
    "start_time": "2021-09-03T09:42:17.194Z"
   },
   {
    "duration": 30,
    "start_time": "2021-09-03T09:42:17.250Z"
   },
   {
    "duration": 34,
    "start_time": "2021-09-03T09:42:17.282Z"
   },
   {
    "duration": 47,
    "start_time": "2021-09-03T09:42:17.319Z"
   },
   {
    "duration": 37,
    "start_time": "2021-09-03T09:42:17.368Z"
   },
   {
    "duration": 17,
    "start_time": "2021-09-03T09:42:17.406Z"
   },
   {
    "duration": 305,
    "start_time": "2021-09-03T09:42:17.425Z"
   },
   {
    "duration": 11,
    "start_time": "2021-09-03T09:42:17.733Z"
   },
   {
    "duration": 25,
    "start_time": "2021-09-03T09:42:17.745Z"
   },
   {
    "duration": 536,
    "start_time": "2021-09-03T09:42:17.771Z"
   },
   {
    "duration": 16,
    "start_time": "2021-09-03T09:42:18.309Z"
   },
   {
    "duration": 16,
    "start_time": "2021-09-03T09:42:18.327Z"
   },
   {
    "duration": 5103,
    "start_time": "2021-09-03T09:42:18.345Z"
   },
   {
    "duration": 512,
    "start_time": "2021-09-03T09:42:22.938Z"
   },
   {
    "duration": 498,
    "start_time": "2021-09-03T09:42:22.953Z"
   },
   {
    "duration": 491,
    "start_time": "2021-09-03T09:42:22.960Z"
   },
   {
    "duration": 485,
    "start_time": "2021-09-03T09:42:22.967Z"
   },
   {
    "duration": 8,
    "start_time": "2021-09-03T09:44:25.725Z"
   },
   {
    "duration": 9,
    "start_time": "2021-09-03T09:44:27.445Z"
   },
   {
    "duration": 9,
    "start_time": "2021-09-03T09:45:02.997Z"
   },
   {
    "duration": 9,
    "start_time": "2021-09-03T09:45:05.174Z"
   },
   {
    "duration": 7,
    "start_time": "2021-09-03T09:45:53.514Z"
   },
   {
    "duration": 8,
    "start_time": "2021-09-03T09:45:55.703Z"
   },
   {
    "duration": 182,
    "start_time": "2021-09-03T09:46:08.343Z"
   },
   {
    "duration": 7,
    "start_time": "2021-09-03T09:46:33.808Z"
   },
   {
    "duration": 9,
    "start_time": "2021-09-03T09:46:34.704Z"
   },
   {
    "duration": 9,
    "start_time": "2021-09-03T09:46:42.643Z"
   },
   {
    "duration": 8,
    "start_time": "2021-09-03T09:52:20.377Z"
   },
   {
    "duration": 8,
    "start_time": "2021-09-03T09:52:21.585Z"
   },
   {
    "duration": 181,
    "start_time": "2021-09-03T09:52:31.067Z"
   },
   {
    "duration": 6,
    "start_time": "2021-09-03T09:52:47.133Z"
   },
   {
    "duration": 9,
    "start_time": "2021-09-03T09:52:53.842Z"
   },
   {
    "duration": 96,
    "start_time": "2021-09-03T09:53:35.296Z"
   },
   {
    "duration": 439,
    "start_time": "2021-09-03T09:53:43.299Z"
   },
   {
    "duration": 876,
    "start_time": "2021-09-03T09:54:11.798Z"
   },
   {
    "duration": 4730,
    "start_time": "2021-09-03T09:54:33.454Z"
   },
   {
    "duration": 287,
    "start_time": "2021-09-03T09:57:40.209Z"
   },
   {
    "duration": 279,
    "start_time": "2021-09-03T09:58:20.588Z"
   },
   {
    "duration": 275,
    "start_time": "2021-09-03T09:58:37.229Z"
   },
   {
    "duration": 3,
    "start_time": "2021-09-03T10:02:14.834Z"
   },
   {
    "duration": 39,
    "start_time": "2021-09-03T10:02:14.842Z"
   },
   {
    "duration": 17,
    "start_time": "2021-09-03T10:02:14.883Z"
   },
   {
    "duration": 10,
    "start_time": "2021-09-03T10:02:14.902Z"
   },
   {
    "duration": 8,
    "start_time": "2021-09-03T10:02:14.914Z"
   },
   {
    "duration": 7,
    "start_time": "2021-09-03T10:02:14.924Z"
   },
   {
    "duration": 8,
    "start_time": "2021-09-03T10:02:14.932Z"
   },
   {
    "duration": 22,
    "start_time": "2021-09-03T10:02:14.985Z"
   },
   {
    "duration": 6,
    "start_time": "2021-09-03T10:02:15.011Z"
   },
   {
    "duration": 15,
    "start_time": "2021-09-03T10:02:15.019Z"
   },
   {
    "duration": 55,
    "start_time": "2021-09-03T10:02:15.035Z"
   },
   {
    "duration": 5,
    "start_time": "2021-09-03T10:02:15.091Z"
   },
   {
    "duration": 20,
    "start_time": "2021-09-03T10:02:15.099Z"
   },
   {
    "duration": 7,
    "start_time": "2021-09-03T10:02:15.121Z"
   },
   {
    "duration": 7,
    "start_time": "2021-09-03T10:02:15.130Z"
   },
   {
    "duration": 26976,
    "start_time": "2021-09-03T10:02:15.139Z"
   },
   {
    "duration": 7,
    "start_time": "2021-09-03T10:02:42.116Z"
   },
   {
    "duration": 8,
    "start_time": "2021-09-03T10:02:42.125Z"
   },
   {
    "duration": 7,
    "start_time": "2021-09-03T10:02:42.135Z"
   },
   {
    "duration": 4,
    "start_time": "2021-09-03T10:02:42.144Z"
   },
   {
    "duration": 12,
    "start_time": "2021-09-03T10:02:42.149Z"
   },
   {
    "duration": 26836,
    "start_time": "2021-09-03T10:02:42.162Z"
   },
   {
    "duration": 5,
    "start_time": "2021-09-03T10:03:09.000Z"
   },
   {
    "duration": 9,
    "start_time": "2021-09-03T10:03:09.009Z"
   },
   {
    "duration": 10,
    "start_time": "2021-09-03T10:03:09.020Z"
   },
   {
    "duration": 15,
    "start_time": "2021-09-03T10:03:09.032Z"
   },
   {
    "duration": 37,
    "start_time": "2021-09-03T10:03:09.048Z"
   },
   {
    "duration": 9,
    "start_time": "2021-09-03T10:03:09.087Z"
   },
   {
    "duration": 21,
    "start_time": "2021-09-03T10:03:09.099Z"
   },
   {
    "duration": 4,
    "start_time": "2021-09-03T10:03:09.121Z"
   },
   {
    "duration": 11,
    "start_time": "2021-09-03T10:03:09.126Z"
   },
   {
    "duration": 7,
    "start_time": "2021-09-03T10:03:09.138Z"
   },
   {
    "duration": 31387,
    "start_time": "2021-09-03T10:03:09.147Z"
   },
   {
    "duration": 4,
    "start_time": "2021-09-03T10:03:40.536Z"
   },
   {
    "duration": 21,
    "start_time": "2021-09-03T10:03:40.542Z"
   },
   {
    "duration": 26,
    "start_time": "2021-09-03T10:03:40.564Z"
   },
   {
    "duration": 5,
    "start_time": "2021-09-03T10:03:40.593Z"
   },
   {
    "duration": 27017,
    "start_time": "2021-09-03T10:03:40.600Z"
   },
   {
    "duration": 4,
    "start_time": "2021-09-03T10:04:07.618Z"
   },
   {
    "duration": 9,
    "start_time": "2021-09-03T10:04:07.624Z"
   },
   {
    "duration": 19,
    "start_time": "2021-09-03T10:04:07.634Z"
   },
   {
    "duration": 36,
    "start_time": "2021-09-03T10:04:07.654Z"
   },
   {
    "duration": 13,
    "start_time": "2021-09-03T10:04:07.691Z"
   },
   {
    "duration": 9,
    "start_time": "2021-09-03T10:04:07.705Z"
   },
   {
    "duration": 16,
    "start_time": "2021-09-03T10:04:07.715Z"
   },
   {
    "duration": 3,
    "start_time": "2021-09-03T10:04:07.732Z"
   },
   {
    "duration": 20,
    "start_time": "2021-09-03T10:04:07.737Z"
   },
   {
    "duration": 22,
    "start_time": "2021-09-03T10:04:07.785Z"
   },
   {
    "duration": 20,
    "start_time": "2021-09-03T10:04:07.809Z"
   },
   {
    "duration": 8,
    "start_time": "2021-09-03T10:04:07.831Z"
   },
   {
    "duration": 6,
    "start_time": "2021-09-03T10:04:07.885Z"
   },
   {
    "duration": 18,
    "start_time": "2021-09-03T10:04:07.894Z"
   },
   {
    "duration": 307,
    "start_time": "2021-09-03T10:04:07.913Z"
   },
   {
    "duration": 13,
    "start_time": "2021-09-03T10:04:08.223Z"
   },
   {
    "duration": 6,
    "start_time": "2021-09-03T10:04:08.238Z"
   },
   {
    "duration": 568,
    "start_time": "2021-09-03T10:04:08.246Z"
   },
   {
    "duration": 13,
    "start_time": "2021-09-03T10:04:08.816Z"
   },
   {
    "duration": 4,
    "start_time": "2021-09-03T10:04:08.830Z"
   },
   {
    "duration": 5002,
    "start_time": "2021-09-03T10:04:08.835Z"
   },
   {
    "duration": 482,
    "start_time": "2021-09-03T10:04:13.357Z"
   },
   {
    "duration": 467,
    "start_time": "2021-09-03T10:04:13.373Z"
   },
   {
    "duration": 453,
    "start_time": "2021-09-03T10:04:13.389Z"
   },
   {
    "duration": 438,
    "start_time": "2021-09-03T10:04:13.404Z"
   },
   {
    "duration": 428,
    "start_time": "2021-09-03T10:04:13.416Z"
   },
   {
    "duration": 7,
    "start_time": "2021-09-03T10:04:24.223Z"
   },
   {
    "duration": 8,
    "start_time": "2021-09-03T10:04:25.724Z"
   },
   {
    "duration": 204,
    "start_time": "2021-09-03T10:04:28.221Z"
   },
   {
    "duration": 8,
    "start_time": "2021-09-03T10:04:34.995Z"
   },
   {
    "duration": 8,
    "start_time": "2021-09-03T10:04:36.725Z"
   },
   {
    "duration": 285,
    "start_time": "2021-09-03T10:04:44.453Z"
   },
   {
    "duration": 8,
    "start_time": "2021-09-03T10:05:09.590Z"
   },
   {
    "duration": 9,
    "start_time": "2021-09-03T10:05:10.558Z"
   },
   {
    "duration": 286,
    "start_time": "2021-09-03T10:05:13.743Z"
   },
   {
    "duration": 73,
    "start_time": "2021-09-03T10:07:55.067Z"
   },
   {
    "duration": 13,
    "start_time": "2021-09-03T10:08:20.437Z"
   },
   {
    "duration": 11,
    "start_time": "2021-09-03T10:11:25.880Z"
   },
   {
    "duration": 5099,
    "start_time": "2021-09-03T10:43:46.212Z"
   },
   {
    "duration": 419,
    "start_time": "2021-09-03T10:46:26.785Z"
   },
   {
    "duration": 14,
    "start_time": "2021-09-03T10:53:45.562Z"
   },
   {
    "duration": 23,
    "start_time": "2021-09-03T10:53:48.978Z"
   },
   {
    "duration": 4,
    "start_time": "2021-09-03T10:56:56.815Z"
   },
   {
    "duration": 5815,
    "start_time": "2021-09-03T10:57:13.432Z"
   },
   {
    "duration": 26,
    "start_time": "2021-09-03T10:57:40.500Z"
   },
   {
    "duration": 19,
    "start_time": "2021-09-03T10:58:04.490Z"
   },
   {
    "duration": 5,
    "start_time": "2021-09-03T10:58:06.712Z"
   },
   {
    "duration": 503,
    "start_time": "2021-09-03T10:58:07.536Z"
   },
   {
    "duration": 7,
    "start_time": "2021-09-03T10:58:37.531Z"
   },
   {
    "duration": 11,
    "start_time": "2021-09-03T10:58:42.076Z"
   },
   {
    "duration": 244,
    "start_time": "2021-09-03T10:58:49.087Z"
   },
   {
    "duration": 9,
    "start_time": "2021-09-03T10:59:03.496Z"
   },
   {
    "duration": 11,
    "start_time": "2021-09-03T10:59:04.707Z"
   },
   {
    "duration": 302,
    "start_time": "2021-09-03T10:59:15.088Z"
   },
   {
    "duration": 7,
    "start_time": "2021-09-03T11:48:34.860Z"
   },
   {
    "duration": 7,
    "start_time": "2021-09-03T11:49:14.947Z"
   },
   {
    "duration": 7,
    "start_time": "2021-09-03T11:50:35.423Z"
   },
   {
    "duration": 10,
    "start_time": "2021-09-03T11:50:38.325Z"
   },
   {
    "duration": 191,
    "start_time": "2021-09-03T11:50:46.893Z"
   },
   {
    "duration": 7,
    "start_time": "2021-09-03T11:50:54.072Z"
   },
   {
    "duration": 8,
    "start_time": "2021-09-03T11:51:05.544Z"
   },
   {
    "duration": 274,
    "start_time": "2021-09-03T11:51:17.150Z"
   },
   {
    "duration": 254,
    "start_time": "2021-09-03T11:52:43.298Z"
   },
   {
    "duration": 9,
    "start_time": "2021-09-03T11:53:08.106Z"
   },
   {
    "duration": 7,
    "start_time": "2021-09-03T11:53:45.434Z"
   },
   {
    "duration": 12,
    "start_time": "2021-09-03T11:55:45.951Z"
   },
   {
    "duration": 9,
    "start_time": "2021-09-03T12:17:28.960Z"
   },
   {
    "duration": 70,
    "start_time": "2021-09-03T12:19:09.083Z"
   },
   {
    "duration": 195,
    "start_time": "2021-09-03T12:19:13.958Z"
   },
   {
    "duration": 205,
    "start_time": "2021-09-03T12:19:29.977Z"
   },
   {
    "duration": 11,
    "start_time": "2021-09-03T12:19:39.520Z"
   },
   {
    "duration": 10,
    "start_time": "2021-09-03T12:19:49.564Z"
   },
   {
    "duration": 6,
    "start_time": "2021-09-03T12:22:44.059Z"
   },
   {
    "duration": 331,
    "start_time": "2021-09-03T12:25:15.565Z"
   },
   {
    "duration": 180,
    "start_time": "2021-09-03T12:27:48.018Z"
   },
   {
    "duration": 443,
    "start_time": "2021-09-03T12:28:13.595Z"
   },
   {
    "duration": 5,
    "start_time": "2021-09-03T12:39:13.517Z"
   },
   {
    "duration": 4,
    "start_time": "2021-09-03T12:39:47.695Z"
   },
   {
    "duration": 321,
    "start_time": "2021-09-03T12:41:23.304Z"
   },
   {
    "duration": 5,
    "start_time": "2021-09-03T12:42:49.382Z"
   },
   {
    "duration": 331,
    "start_time": "2021-09-03T12:44:31.684Z"
   },
   {
    "duration": 56,
    "start_time": "2021-09-03T12:45:15.557Z"
   },
   {
    "duration": 6,
    "start_time": "2021-09-03T14:31:30.055Z"
   },
   {
    "duration": 462,
    "start_time": "2021-09-03T14:32:04.297Z"
   },
   {
    "duration": 5,
    "start_time": "2021-09-03T14:33:50.706Z"
   },
   {
    "duration": 970,
    "start_time": "2021-09-03T14:33:51.982Z"
   },
   {
    "duration": 6,
    "start_time": "2021-09-03T14:34:40.924Z"
   },
   {
    "duration": 624,
    "start_time": "2021-09-03T14:34:42.403Z"
   },
   {
    "duration": 5,
    "start_time": "2021-09-03T14:35:40.861Z"
   },
   {
    "duration": 526,
    "start_time": "2021-09-03T14:35:42.717Z"
   },
   {
    "duration": 67,
    "start_time": "2021-09-03T14:36:12.357Z"
   },
   {
    "duration": 6,
    "start_time": "2021-09-03T14:36:23.558Z"
   },
   {
    "duration": 793,
    "start_time": "2021-09-03T14:36:25.028Z"
   },
   {
    "duration": 5,
    "start_time": "2021-09-03T14:36:44.402Z"
   },
   {
    "duration": 555,
    "start_time": "2021-09-03T14:36:46.094Z"
   },
   {
    "duration": 1470,
    "start_time": "2021-09-03T17:08:52.467Z"
   },
   {
    "duration": 48,
    "start_time": "2021-09-03T17:08:53.940Z"
   },
   {
    "duration": 24,
    "start_time": "2021-09-03T17:08:53.991Z"
   },
   {
    "duration": 16,
    "start_time": "2021-09-03T17:08:54.018Z"
   },
   {
    "duration": 11,
    "start_time": "2021-09-03T17:08:54.055Z"
   },
   {
    "duration": 10,
    "start_time": "2021-09-03T17:08:54.069Z"
   },
   {
    "duration": 23,
    "start_time": "2021-09-03T17:08:54.081Z"
   },
   {
    "duration": 53,
    "start_time": "2021-09-03T17:08:54.108Z"
   },
   {
    "duration": 7,
    "start_time": "2021-09-03T17:08:54.164Z"
   },
   {
    "duration": 34,
    "start_time": "2021-09-03T17:08:54.174Z"
   },
   {
    "duration": 29,
    "start_time": "2021-09-03T17:08:54.210Z"
   },
   {
    "duration": 19,
    "start_time": "2021-09-03T17:08:54.242Z"
   },
   {
    "duration": 55,
    "start_time": "2021-09-03T17:08:54.264Z"
   },
   {
    "duration": 13,
    "start_time": "2021-09-03T17:08:54.322Z"
   },
   {
    "duration": 17,
    "start_time": "2021-09-03T17:08:54.338Z"
   },
   {
    "duration": 38909,
    "start_time": "2021-09-03T17:08:54.357Z"
   },
   {
    "duration": 12,
    "start_time": "2021-09-03T17:09:33.268Z"
   },
   {
    "duration": 9,
    "start_time": "2021-09-03T17:09:33.282Z"
   },
   {
    "duration": 10,
    "start_time": "2021-09-03T17:09:33.293Z"
   },
   {
    "duration": 11,
    "start_time": "2021-09-03T17:09:33.306Z"
   },
   {
    "duration": 35,
    "start_time": "2021-09-03T17:09:33.319Z"
   },
   {
    "duration": 40211,
    "start_time": "2021-09-03T17:09:33.357Z"
   },
   {
    "duration": 5,
    "start_time": "2021-09-03T17:10:13.575Z"
   },
   {
    "duration": 11,
    "start_time": "2021-09-03T17:10:13.584Z"
   },
   {
    "duration": 9,
    "start_time": "2021-09-03T17:10:13.597Z"
   },
   {
    "duration": 51,
    "start_time": "2021-09-03T17:10:13.608Z"
   },
   {
    "duration": 7,
    "start_time": "2021-09-03T17:10:13.661Z"
   },
   {
    "duration": 15,
    "start_time": "2021-09-03T17:10:13.671Z"
   },
   {
    "duration": 37,
    "start_time": "2021-09-03T17:10:13.688Z"
   },
   {
    "duration": 6,
    "start_time": "2021-09-03T17:10:13.755Z"
   },
   {
    "duration": 15,
    "start_time": "2021-09-03T17:10:13.764Z"
   },
   {
    "duration": 10,
    "start_time": "2021-09-03T17:10:13.781Z"
   },
   {
    "duration": 48361,
    "start_time": "2021-09-03T17:10:13.793Z"
   },
   {
    "duration": 6,
    "start_time": "2021-09-03T17:11:02.156Z"
   },
   {
    "duration": 42,
    "start_time": "2021-09-03T17:11:02.166Z"
   },
   {
    "duration": 9,
    "start_time": "2021-09-03T17:11:02.211Z"
   },
   {
    "duration": 33,
    "start_time": "2021-09-03T17:11:02.222Z"
   },
   {
    "duration": 39977,
    "start_time": "2021-09-03T17:11:02.258Z"
   },
   {
    "duration": 5,
    "start_time": "2021-09-03T17:11:42.238Z"
   },
   {
    "duration": 15,
    "start_time": "2021-09-03T17:11:42.245Z"
   },
   {
    "duration": 37,
    "start_time": "2021-09-03T17:11:42.262Z"
   },
   {
    "duration": 10,
    "start_time": "2021-09-03T17:11:42.302Z"
   },
   {
    "duration": 43,
    "start_time": "2021-09-03T17:11:42.315Z"
   },
   {
    "duration": 12,
    "start_time": "2021-09-03T17:11:42.360Z"
   },
   {
    "duration": 29,
    "start_time": "2021-09-03T17:11:42.374Z"
   },
   {
    "duration": 6,
    "start_time": "2021-09-03T17:11:42.405Z"
   },
   {
    "duration": 42,
    "start_time": "2021-09-03T17:11:42.414Z"
   },
   {
    "duration": 25,
    "start_time": "2021-09-03T17:11:42.458Z"
   },
   {
    "duration": 25,
    "start_time": "2021-09-03T17:11:42.485Z"
   },
   {
    "duration": 45,
    "start_time": "2021-09-03T17:11:42.513Z"
   },
   {
    "duration": 18,
    "start_time": "2021-09-03T17:11:42.560Z"
   },
   {
    "duration": 18,
    "start_time": "2021-09-03T17:11:42.580Z"
   },
   {
    "duration": 500,
    "start_time": "2021-09-03T17:11:42.601Z"
   },
   {
    "duration": 15,
    "start_time": "2021-09-03T17:11:43.103Z"
   },
   {
    "duration": 21,
    "start_time": "2021-09-03T17:11:43.121Z"
   },
   {
    "duration": 660,
    "start_time": "2021-09-03T17:11:43.155Z"
   },
   {
    "duration": 20,
    "start_time": "2021-09-03T17:11:43.817Z"
   },
   {
    "duration": 34,
    "start_time": "2021-09-03T17:11:43.855Z"
   },
   {
    "duration": 15,
    "start_time": "2021-09-03T17:11:43.891Z"
   },
   {
    "duration": 5,
    "start_time": "2021-09-03T17:11:43.909Z"
   },
   {
    "duration": 644,
    "start_time": "2021-09-03T17:11:43.916Z"
   },
   {
    "duration": 8,
    "start_time": "2021-09-03T17:11:44.563Z"
   },
   {
    "duration": 11,
    "start_time": "2021-09-03T17:11:44.574Z"
   },
   {
    "duration": 11,
    "start_time": "2021-09-03T17:11:44.588Z"
   },
   {
    "duration": 444,
    "start_time": "2021-09-03T17:11:44.602Z"
   },
   {
    "duration": 13,
    "start_time": "2021-09-03T17:11:45.048Z"
   },
   {
    "duration": 20,
    "start_time": "2021-09-03T17:11:45.064Z"
   },
   {
    "duration": 462,
    "start_time": "2021-09-03T17:11:45.092Z"
   },
   {
    "duration": 7,
    "start_time": "2021-09-03T17:11:45.557Z"
   },
   {
    "duration": 9,
    "start_time": "2021-09-03T17:11:45.566Z"
   },
   {
    "duration": 496,
    "start_time": "2021-09-03T17:11:45.578Z"
   },
   {
    "duration": 6,
    "start_time": "2021-09-03T17:11:46.076Z"
   },
   {
    "duration": 444,
    "start_time": "2021-09-03T17:11:46.085Z"
   },
   {
    "duration": 8,
    "start_time": "2021-09-03T17:14:33.119Z"
   },
   {
    "duration": 112,
    "start_time": "2021-09-03T17:20:38.345Z"
   },
   {
    "duration": 3349,
    "start_time": "2021-09-03T17:20:53.740Z"
   },
   {
    "duration": 9,
    "start_time": "2021-09-03T17:24:17.278Z"
   },
   {
    "duration": 3319,
    "start_time": "2021-09-03T17:24:18.056Z"
   },
   {
    "duration": 6,
    "start_time": "2021-09-03T17:25:53.182Z"
   },
   {
    "duration": 7,
    "start_time": "2021-09-03T17:26:19.371Z"
   },
   {
    "duration": 6,
    "start_time": "2021-09-03T17:26:46.363Z"
   },
   {
    "duration": 6,
    "start_time": "2021-09-03T17:26:59.132Z"
   },
   {
    "duration": 5,
    "start_time": "2021-09-03T17:31:51.318Z"
   },
   {
    "duration": 6,
    "start_time": "2021-09-03T17:32:01.358Z"
   },
   {
    "duration": 5,
    "start_time": "2021-09-03T17:32:38.480Z"
   },
   {
    "duration": 5,
    "start_time": "2021-09-03T17:32:53.397Z"
   },
   {
    "duration": 6,
    "start_time": "2021-09-03T17:32:57.055Z"
   },
   {
    "duration": 5,
    "start_time": "2021-09-03T17:33:33.575Z"
   },
   {
    "duration": 6,
    "start_time": "2021-09-03T17:33:34.479Z"
   },
   {
    "duration": 10,
    "start_time": "2021-09-03T17:34:28.496Z"
   },
   {
    "duration": 5,
    "start_time": "2021-09-03T17:34:59.098Z"
   },
   {
    "duration": 25,
    "start_time": "2021-09-03T17:40:45.528Z"
   },
   {
    "duration": 40847,
    "start_time": "2021-09-03T17:40:50.233Z"
   },
   {
    "duration": 7,
    "start_time": "2021-09-03T17:41:31.083Z"
   },
   {
    "duration": 5,
    "start_time": "2021-09-03T17:42:06.218Z"
   },
   {
    "duration": 50,
    "start_time": "2021-09-03T17:42:06.253Z"
   },
   {
    "duration": 21,
    "start_time": "2021-09-03T17:42:06.306Z"
   },
   {
    "duration": 33,
    "start_time": "2021-09-03T17:42:06.330Z"
   },
   {
    "duration": 12,
    "start_time": "2021-09-03T17:42:06.366Z"
   },
   {
    "duration": 13,
    "start_time": "2021-09-03T17:42:06.380Z"
   },
   {
    "duration": 14,
    "start_time": "2021-09-03T17:42:06.395Z"
   },
   {
    "duration": 58,
    "start_time": "2021-09-03T17:42:06.412Z"
   },
   {
    "duration": 7,
    "start_time": "2021-09-03T17:42:06.822Z"
   },
   {
    "duration": 15,
    "start_time": "2021-09-03T17:42:06.832Z"
   },
   {
    "duration": 15,
    "start_time": "2021-09-03T17:42:06.850Z"
   },
   {
    "duration": 7,
    "start_time": "2021-09-03T17:42:06.868Z"
   },
   {
    "duration": 28,
    "start_time": "2021-09-03T17:42:06.878Z"
   },
   {
    "duration": 54,
    "start_time": "2021-09-03T17:42:06.908Z"
   },
   {
    "duration": 17,
    "start_time": "2021-09-03T17:42:06.965Z"
   },
   {
    "duration": 41394,
    "start_time": "2021-09-03T17:42:06.984Z"
   },
   {
    "duration": 11,
    "start_time": "2021-09-03T17:42:48.383Z"
   },
   {
    "duration": 18,
    "start_time": "2021-09-03T17:42:48.398Z"
   },
   {
    "duration": 22,
    "start_time": "2021-09-03T17:42:48.419Z"
   },
   {
    "duration": 17,
    "start_time": "2021-09-03T17:42:48.444Z"
   },
   {
    "duration": 25,
    "start_time": "2021-09-03T17:42:48.463Z"
   },
   {
    "duration": 42747,
    "start_time": "2021-09-03T17:42:48.491Z"
   },
   {
    "duration": 15,
    "start_time": "2021-09-03T17:43:31.241Z"
   },
   {
    "duration": 14,
    "start_time": "2021-09-03T17:43:31.260Z"
   },
   {
    "duration": 11,
    "start_time": "2021-09-03T17:43:31.277Z"
   },
   {
    "duration": 26,
    "start_time": "2021-09-03T17:43:31.291Z"
   },
   {
    "duration": 47625,
    "start_time": "2021-09-03T17:43:31.319Z"
   },
   {
    "duration": 10,
    "start_time": "2021-09-03T17:44:18.946Z"
   },
   {
    "duration": 29,
    "start_time": "2021-09-03T17:44:18.958Z"
   },
   {
    "duration": 34,
    "start_time": "2021-09-03T17:44:18.990Z"
   },
   {
    "duration": 12,
    "start_time": "2021-09-03T17:44:19.026Z"
   },
   {
    "duration": 14,
    "start_time": "2021-09-03T17:44:19.054Z"
   },
   {
    "duration": 20,
    "start_time": "2021-09-03T17:44:19.070Z"
   },
   {
    "duration": 27,
    "start_time": "2021-09-03T17:44:19.093Z"
   },
   {
    "duration": 16,
    "start_time": "2021-09-03T17:44:19.125Z"
   },
   {
    "duration": 31,
    "start_time": "2021-09-03T17:44:19.144Z"
   },
   {
    "duration": 24,
    "start_time": "2021-09-03T17:44:19.178Z"
   },
   {
    "duration": 50,
    "start_time": "2021-09-03T17:44:19.204Z"
   },
   {
    "duration": 10,
    "start_time": "2021-09-03T17:44:19.256Z"
   },
   {
    "duration": 20,
    "start_time": "2021-09-03T17:44:19.269Z"
   },
   {
    "duration": 32,
    "start_time": "2021-09-03T17:44:19.291Z"
   },
   {
    "duration": 451,
    "start_time": "2021-09-03T17:44:19.326Z"
   },
   {
    "duration": 15,
    "start_time": "2021-09-03T17:44:19.780Z"
   },
   {
    "duration": 17,
    "start_time": "2021-09-03T17:44:19.797Z"
   },
   {
    "duration": 673,
    "start_time": "2021-09-03T17:44:19.816Z"
   },
   {
    "duration": 20,
    "start_time": "2021-09-03T17:44:20.492Z"
   },
   {
    "duration": 49,
    "start_time": "2021-09-03T17:44:20.515Z"
   },
   {
    "duration": 14,
    "start_time": "2021-09-03T17:44:20.567Z"
   },
   {
    "duration": 9,
    "start_time": "2021-09-03T17:44:20.583Z"
   },
   {
    "duration": 633,
    "start_time": "2021-09-03T17:44:20.594Z"
   },
   {
    "duration": 25,
    "start_time": "2021-09-03T17:44:21.230Z"
   },
   {
    "duration": 9,
    "start_time": "2021-09-03T17:44:21.258Z"
   },
   {
    "duration": 22,
    "start_time": "2021-09-03T17:44:21.269Z"
   },
   {
    "duration": 290,
    "start_time": "2021-09-03T17:44:21.293Z"
   },
   {
    "duration": 9,
    "start_time": "2021-09-03T17:44:21.586Z"
   },
   {
    "duration": 23,
    "start_time": "2021-09-03T17:44:21.597Z"
   },
   {
    "duration": 426,
    "start_time": "2021-09-03T17:44:21.622Z"
   },
   {
    "duration": 8,
    "start_time": "2021-09-03T17:44:22.055Z"
   },
   {
    "duration": 972,
    "start_time": "2021-09-03T17:44:22.065Z"
   },
   {
    "duration": 41,
    "start_time": "2021-09-03T17:47:44.441Z"
   },
   {
    "duration": 15,
    "start_time": "2021-09-03T17:47:57.452Z"
   },
   {
    "duration": 5,
    "start_time": "2021-09-03T17:48:25.864Z"
   },
   {
    "duration": 55,
    "start_time": "2021-09-03T17:48:25.872Z"
   },
   {
    "duration": 20,
    "start_time": "2021-09-03T17:48:25.930Z"
   },
   {
    "duration": 19,
    "start_time": "2021-09-03T17:48:25.955Z"
   },
   {
    "duration": 12,
    "start_time": "2021-09-03T17:48:25.976Z"
   },
   {
    "duration": 12,
    "start_time": "2021-09-03T17:48:25.991Z"
   },
   {
    "duration": 51,
    "start_time": "2021-09-03T17:48:26.007Z"
   },
   {
    "duration": 39,
    "start_time": "2021-09-03T17:48:26.061Z"
   },
   {
    "duration": 11,
    "start_time": "2021-09-03T17:48:26.102Z"
   },
   {
    "duration": 41,
    "start_time": "2021-09-03T17:48:26.115Z"
   },
   {
    "duration": 16,
    "start_time": "2021-09-03T17:48:26.159Z"
   },
   {
    "duration": 20,
    "start_time": "2021-09-03T17:48:26.177Z"
   },
   {
    "duration": 56,
    "start_time": "2021-09-03T17:48:26.200Z"
   },
   {
    "duration": 20,
    "start_time": "2021-09-03T17:48:26.258Z"
   },
   {
    "duration": 19,
    "start_time": "2021-09-03T17:48:26.280Z"
   },
   {
    "duration": 41190,
    "start_time": "2021-09-03T17:48:26.301Z"
   },
   {
    "duration": 11,
    "start_time": "2021-09-03T17:49:07.493Z"
   },
   {
    "duration": 22,
    "start_time": "2021-09-03T17:49:07.506Z"
   },
   {
    "duration": 22,
    "start_time": "2021-09-03T17:49:07.534Z"
   },
   {
    "duration": 16,
    "start_time": "2021-09-03T17:49:07.560Z"
   },
   {
    "duration": 20,
    "start_time": "2021-09-03T17:49:07.578Z"
   },
   {
    "duration": 40434,
    "start_time": "2021-09-03T17:49:07.600Z"
   },
   {
    "duration": 17,
    "start_time": "2021-09-03T17:49:48.037Z"
   },
   {
    "duration": 15,
    "start_time": "2021-09-03T17:49:48.056Z"
   },
   {
    "duration": 31,
    "start_time": "2021-09-03T17:49:48.073Z"
   },
   {
    "duration": 32,
    "start_time": "2021-09-03T17:49:48.107Z"
   },
   {
    "duration": 14,
    "start_time": "2021-09-03T17:49:48.141Z"
   },
   {
    "duration": 40721,
    "start_time": "2021-09-03T17:49:48.157Z"
   },
   {
    "duration": 6,
    "start_time": "2021-09-03T17:50:28.880Z"
   },
   {
    "duration": 12,
    "start_time": "2021-09-03T17:50:28.888Z"
   },
   {
    "duration": 29,
    "start_time": "2021-09-03T17:50:28.902Z"
   },
   {
    "duration": 12,
    "start_time": "2021-09-03T17:50:28.954Z"
   },
   {
    "duration": 14,
    "start_time": "2021-09-03T17:50:28.968Z"
   },
   {
    "duration": 12,
    "start_time": "2021-09-03T17:50:28.984Z"
   },
   {
    "duration": 15,
    "start_time": "2021-09-03T17:50:28.998Z"
   },
   {
    "duration": 3,
    "start_time": "2021-09-03T17:50:29.055Z"
   },
   {
    "duration": 29,
    "start_time": "2021-09-03T17:50:29.061Z"
   },
   {
    "duration": 24,
    "start_time": "2021-09-03T17:50:29.092Z"
   },
   {
    "duration": 57,
    "start_time": "2021-09-03T17:50:29.118Z"
   },
   {
    "duration": 11,
    "start_time": "2021-09-03T17:50:29.177Z"
   },
   {
    "duration": 7,
    "start_time": "2021-09-03T17:50:29.190Z"
   },
   {
    "duration": 55,
    "start_time": "2021-09-03T17:50:29.199Z"
   },
   {
    "duration": 493,
    "start_time": "2021-09-03T17:50:29.257Z"
   },
   {
    "duration": 15,
    "start_time": "2021-09-03T17:50:29.755Z"
   },
   {
    "duration": 8,
    "start_time": "2021-09-03T17:50:29.773Z"
   },
   {
    "duration": 777,
    "start_time": "2021-09-03T17:50:29.784Z"
   },
   {
    "duration": 21,
    "start_time": "2021-09-03T17:50:30.564Z"
   },
   {
    "duration": 47,
    "start_time": "2021-09-03T17:50:30.588Z"
   },
   {
    "duration": 44,
    "start_time": "2021-09-03T17:50:30.638Z"
   },
   {
    "duration": 34,
    "start_time": "2021-09-03T17:50:30.685Z"
   },
   {
    "duration": 638,
    "start_time": "2021-09-03T17:50:30.721Z"
   },
   {
    "duration": 9,
    "start_time": "2021-09-03T17:50:31.361Z"
   },
   {
    "duration": 14,
    "start_time": "2021-09-03T17:50:31.372Z"
   },
   {
    "duration": 24,
    "start_time": "2021-09-03T17:50:31.388Z"
   },
   {
    "duration": 291,
    "start_time": "2021-09-03T17:50:31.418Z"
   },
   {
    "duration": 9,
    "start_time": "2021-09-03T17:50:31.712Z"
   },
   {
    "duration": 37,
    "start_time": "2021-09-03T17:50:31.724Z"
   },
   {
    "duration": 437,
    "start_time": "2021-09-03T17:50:31.764Z"
   },
   {
    "duration": 8,
    "start_time": "2021-09-03T17:51:31.729Z"
   },
   {
    "duration": 7,
    "start_time": "2021-09-03T17:51:33.716Z"
   },
   {
    "duration": 426,
    "start_time": "2021-09-03T17:51:39.842Z"
   },
   {
    "duration": 7,
    "start_time": "2021-09-03T17:52:05.866Z"
   },
   {
    "duration": 413,
    "start_time": "2021-09-03T17:52:07.779Z"
   },
   {
    "duration": 8,
    "start_time": "2021-09-03T17:52:20.532Z"
   },
   {
    "duration": 3424,
    "start_time": "2021-09-03T17:52:21.875Z"
   },
   {
    "duration": 22,
    "start_time": "2021-09-03T18:10:45.771Z"
   },
   {
    "duration": 26,
    "start_time": "2021-09-03T18:10:58.737Z"
   },
   {
    "duration": 24,
    "start_time": "2021-09-03T18:14:40.557Z"
   },
   {
    "duration": 601,
    "start_time": "2021-09-03T18:15:22.121Z"
   },
   {
    "duration": 469,
    "start_time": "2021-09-03T18:15:39.762Z"
   },
   {
    "duration": 569,
    "start_time": "2021-09-03T18:23:17.525Z"
   },
   {
    "duration": 3,
    "start_time": "2021-09-03T19:25:22.967Z"
   },
   {
    "duration": 101,
    "start_time": "2021-09-04T10:36:20.476Z"
   },
   {
    "duration": 94,
    "start_time": "2021-09-04T10:38:03.476Z"
   },
   {
    "duration": 7,
    "start_time": "2021-09-04T10:38:46.945Z"
   },
   {
    "duration": 430,
    "start_time": "2021-09-04T10:40:14.718Z"
   },
   {
    "duration": 8,
    "start_time": "2021-09-04T10:44:50.843Z"
   },
   {
    "duration": 329,
    "start_time": "2021-09-04T10:44:51.707Z"
   },
   {
    "duration": 264,
    "start_time": "2021-09-04T10:45:50.959Z"
   },
   {
    "duration": 1535,
    "start_time": "2021-09-04T10:45:56.108Z"
   },
   {
    "duration": 51,
    "start_time": "2021-09-04T10:45:57.646Z"
   },
   {
    "duration": 23,
    "start_time": "2021-09-04T10:45:57.700Z"
   },
   {
    "duration": 31,
    "start_time": "2021-09-04T10:45:57.726Z"
   },
   {
    "duration": 12,
    "start_time": "2021-09-04T10:45:57.759Z"
   },
   {
    "duration": 9,
    "start_time": "2021-09-04T10:45:57.774Z"
   },
   {
    "duration": 11,
    "start_time": "2021-09-04T10:45:57.786Z"
   },
   {
    "duration": 65,
    "start_time": "2021-09-04T10:45:57.801Z"
   },
   {
    "duration": 7,
    "start_time": "2021-09-04T10:45:57.869Z"
   },
   {
    "duration": 18,
    "start_time": "2021-09-04T10:45:57.878Z"
   },
   {
    "duration": 13,
    "start_time": "2021-09-04T10:45:57.899Z"
   },
   {
    "duration": 39,
    "start_time": "2021-09-04T10:45:57.916Z"
   },
   {
    "duration": 37,
    "start_time": "2021-09-04T10:45:57.957Z"
   },
   {
    "duration": 18,
    "start_time": "2021-09-04T10:45:57.997Z"
   },
   {
    "duration": 36,
    "start_time": "2021-09-04T10:45:58.018Z"
   },
   {
    "duration": 42066,
    "start_time": "2021-09-04T10:45:58.058Z"
   },
   {
    "duration": 11,
    "start_time": "2021-09-04T10:46:40.127Z"
   },
   {
    "duration": 19,
    "start_time": "2021-09-04T10:46:40.140Z"
   },
   {
    "duration": 13,
    "start_time": "2021-09-04T10:46:40.161Z"
   },
   {
    "duration": 12,
    "start_time": "2021-09-04T10:46:40.176Z"
   },
   {
    "duration": 6,
    "start_time": "2021-09-04T10:46:40.191Z"
   },
   {
    "duration": 42572,
    "start_time": "2021-09-04T10:46:40.199Z"
   },
   {
    "duration": 8,
    "start_time": "2021-09-04T10:47:22.777Z"
   },
   {
    "duration": 9,
    "start_time": "2021-09-04T10:47:22.789Z"
   },
   {
    "duration": 7,
    "start_time": "2021-09-04T10:47:22.801Z"
   },
   {
    "duration": 52,
    "start_time": "2021-09-04T10:47:22.810Z"
   },
   {
    "duration": 9,
    "start_time": "2021-09-04T10:47:22.865Z"
   },
   {
    "duration": 45138,
    "start_time": "2021-09-04T10:47:22.877Z"
   },
   {
    "duration": 5,
    "start_time": "2021-09-04T10:48:08.017Z"
   },
   {
    "duration": 31,
    "start_time": "2021-09-04T10:48:08.025Z"
   },
   {
    "duration": 31,
    "start_time": "2021-09-04T10:48:08.059Z"
   },
   {
    "duration": 11,
    "start_time": "2021-09-04T10:48:08.092Z"
   },
   {
    "duration": 13,
    "start_time": "2021-09-04T10:48:08.105Z"
   },
   {
    "duration": 53,
    "start_time": "2021-09-04T10:48:08.121Z"
   },
   {
    "duration": 17,
    "start_time": "2021-09-04T10:48:08.177Z"
   },
   {
    "duration": 10,
    "start_time": "2021-09-04T10:48:08.197Z"
   },
   {
    "duration": 30,
    "start_time": "2021-09-04T10:48:08.210Z"
   },
   {
    "duration": 35,
    "start_time": "2021-09-04T10:48:08.243Z"
   },
   {
    "duration": 22,
    "start_time": "2021-09-04T10:48:08.281Z"
   },
   {
    "duration": 23,
    "start_time": "2021-09-04T10:48:08.305Z"
   },
   {
    "duration": 26,
    "start_time": "2021-09-04T10:48:08.331Z"
   },
   {
    "duration": 26,
    "start_time": "2021-09-04T10:48:08.359Z"
   },
   {
    "duration": 486,
    "start_time": "2021-09-04T10:48:08.388Z"
   },
   {
    "duration": 15,
    "start_time": "2021-09-04T10:48:08.877Z"
   },
   {
    "duration": 17,
    "start_time": "2021-09-04T10:48:08.894Z"
   },
   {
    "duration": 709,
    "start_time": "2021-09-04T10:48:08.913Z"
   },
   {
    "duration": 37,
    "start_time": "2021-09-04T10:48:09.625Z"
   },
   {
    "duration": 25,
    "start_time": "2021-09-04T10:48:09.665Z"
   },
   {
    "duration": 15,
    "start_time": "2021-09-04T10:48:09.692Z"
   },
   {
    "duration": 5,
    "start_time": "2021-09-04T10:48:09.709Z"
   },
   {
    "duration": 661,
    "start_time": "2021-09-04T10:48:09.717Z"
   },
   {
    "duration": 8,
    "start_time": "2021-09-04T10:48:10.381Z"
   },
   {
    "duration": 20,
    "start_time": "2021-09-04T10:48:10.391Z"
   },
   {
    "duration": 23,
    "start_time": "2021-09-04T10:48:10.413Z"
   },
   {
    "duration": 316,
    "start_time": "2021-09-04T10:48:10.439Z"
   },
   {
    "duration": 12,
    "start_time": "2021-09-04T10:48:10.757Z"
   },
   {
    "duration": 14,
    "start_time": "2021-09-04T10:48:10.772Z"
   },
   {
    "duration": 455,
    "start_time": "2021-09-04T10:48:10.788Z"
   },
   {
    "duration": 13,
    "start_time": "2021-09-04T10:48:11.246Z"
   },
   {
    "duration": 11,
    "start_time": "2021-09-04T10:48:11.262Z"
   },
   {
    "duration": 507,
    "start_time": "2021-09-04T10:48:11.275Z"
   },
   {
    "duration": 5,
    "start_time": "2021-09-04T10:48:11.785Z"
   },
   {
    "duration": 451,
    "start_time": "2021-09-04T10:48:11.792Z"
   },
   {
    "duration": 15,
    "start_time": "2021-09-04T10:48:12.246Z"
   },
   {
    "duration": 3518,
    "start_time": "2021-09-04T10:48:12.264Z"
   },
   {
    "duration": 20,
    "start_time": "2021-09-04T10:48:15.785Z"
   },
   {
    "duration": 477,
    "start_time": "2021-09-04T10:48:15.807Z"
   },
   {
    "duration": 7,
    "start_time": "2021-09-04T10:48:16.291Z"
   },
   {
    "duration": 8,
    "start_time": "2021-09-04T10:53:32.339Z"
   },
   {
    "duration": 1213,
    "start_time": "2021-09-04T10:53:33.200Z"
   },
   {
    "duration": 7,
    "start_time": "2021-09-04T10:54:20.763Z"
   },
   {
    "duration": 1307,
    "start_time": "2021-09-04T10:54:22.370Z"
   },
   {
    "duration": 8,
    "start_time": "2021-09-04T10:57:36.420Z"
   },
   {
    "duration": 1249,
    "start_time": "2021-09-04T10:57:37.832Z"
   },
   {
    "duration": 7,
    "start_time": "2021-09-04T10:59:28.464Z"
   },
   {
    "duration": 1287,
    "start_time": "2021-09-04T10:59:29.575Z"
   },
   {
    "duration": 7,
    "start_time": "2021-09-04T11:00:17.097Z"
   },
   {
    "duration": 1248,
    "start_time": "2021-09-04T11:00:18.152Z"
   },
   {
    "duration": 8,
    "start_time": "2021-09-04T11:00:47.710Z"
   },
   {
    "duration": 1286,
    "start_time": "2021-09-04T11:00:48.587Z"
   },
   {
    "duration": 8,
    "start_time": "2021-09-04T11:03:46.963Z"
   },
   {
    "duration": 1176,
    "start_time": "2021-09-04T11:03:48.252Z"
   },
   {
    "duration": 7,
    "start_time": "2021-09-04T11:10:03.141Z"
   },
   {
    "duration": 302,
    "start_time": "2021-09-04T11:10:04.525Z"
   },
   {
    "duration": 828,
    "start_time": "2021-09-04T11:10:39.916Z"
   },
   {
    "duration": 7,
    "start_time": "2021-09-04T11:11:20.406Z"
   },
   {
    "duration": 775,
    "start_time": "2021-09-04T11:11:23.398Z"
   },
   {
    "duration": 7,
    "start_time": "2021-09-04T11:11:49.590Z"
   },
   {
    "duration": 703,
    "start_time": "2021-09-04T11:11:50.414Z"
   },
   {
    "duration": 7,
    "start_time": "2021-09-04T11:12:19.634Z"
   },
   {
    "duration": 828,
    "start_time": "2021-09-04T11:12:24.679Z"
   },
   {
    "duration": 7,
    "start_time": "2021-09-04T11:12:42.096Z"
   },
   {
    "duration": 748,
    "start_time": "2021-09-04T11:12:44.743Z"
   },
   {
    "duration": 7,
    "start_time": "2021-09-04T11:16:02.069Z"
   },
   {
    "duration": 265,
    "start_time": "2021-09-04T11:16:02.772Z"
   },
   {
    "duration": 1201,
    "start_time": "2021-09-04T11:16:26.141Z"
   },
   {
    "duration": 7,
    "start_time": "2021-09-04T11:17:54.369Z"
   },
   {
    "duration": 872,
    "start_time": "2021-09-04T11:17:55.065Z"
   },
   {
    "duration": 7,
    "start_time": "2021-09-04T11:18:18.263Z"
   },
   {
    "duration": 727,
    "start_time": "2021-09-04T11:18:23.179Z"
   },
   {
    "duration": 8,
    "start_time": "2021-09-04T11:18:45.252Z"
   },
   {
    "duration": 720,
    "start_time": "2021-09-04T11:18:46.665Z"
   },
   {
    "duration": 7,
    "start_time": "2021-09-04T11:19:14.589Z"
   },
   {
    "duration": 1177,
    "start_time": "2021-09-04T11:19:15.671Z"
   },
   {
    "duration": 8,
    "start_time": "2021-09-04T11:19:44.775Z"
   },
   {
    "duration": 1203,
    "start_time": "2021-09-04T11:19:45.883Z"
   },
   {
    "duration": 7,
    "start_time": "2021-09-04T11:20:10.173Z"
   },
   {
    "duration": 1367,
    "start_time": "2021-09-04T11:20:11.060Z"
   },
   {
    "duration": 6,
    "start_time": "2021-09-04T11:20:41.023Z"
   },
   {
    "duration": 252,
    "start_time": "2021-09-04T11:20:41.884Z"
   },
   {
    "duration": 7,
    "start_time": "2021-09-04T11:20:53.117Z"
   },
   {
    "duration": 862,
    "start_time": "2021-09-04T11:20:53.996Z"
   },
   {
    "duration": 7,
    "start_time": "2021-09-04T11:21:52.232Z"
   },
   {
    "duration": 809,
    "start_time": "2021-09-04T11:21:53.639Z"
   },
   {
    "duration": 8,
    "start_time": "2021-09-04T11:24:21.773Z"
   },
   {
    "duration": 1288,
    "start_time": "2021-09-04T11:24:22.571Z"
   },
   {
    "duration": 11,
    "start_time": "2021-09-04T11:24:54.182Z"
   },
   {
    "duration": 1467,
    "start_time": "2021-09-04T11:24:55.405Z"
   },
   {
    "duration": 7,
    "start_time": "2021-09-04T11:28:22.057Z"
   },
   {
    "duration": 1267,
    "start_time": "2021-09-04T11:28:24.906Z"
   },
   {
    "duration": 7,
    "start_time": "2021-09-04T11:28:45.585Z"
   },
   {
    "duration": 1370,
    "start_time": "2021-09-04T11:28:46.345Z"
   },
   {
    "duration": 7,
    "start_time": "2021-09-04T11:29:46.637Z"
   },
   {
    "duration": 1219,
    "start_time": "2021-09-04T11:29:47.395Z"
   },
   {
    "duration": 6,
    "start_time": "2021-09-04T11:31:05.463Z"
   },
   {
    "duration": 1232,
    "start_time": "2021-09-04T11:31:06.174Z"
   },
   {
    "duration": 9,
    "start_time": "2021-09-04T11:31:49.244Z"
   },
   {
    "duration": 767,
    "start_time": "2021-09-04T11:31:50.152Z"
   },
   {
    "duration": 7,
    "start_time": "2021-09-04T11:32:47.072Z"
   },
   {
    "duration": 1226,
    "start_time": "2021-09-04T11:32:47.736Z"
   },
   {
    "duration": 7,
    "start_time": "2021-09-04T11:33:00.512Z"
   },
   {
    "duration": 1245,
    "start_time": "2021-09-04T11:33:02.818Z"
   },
   {
    "duration": 7,
    "start_time": "2021-09-04T11:33:50.248Z"
   },
   {
    "duration": 870,
    "start_time": "2021-09-04T11:33:51.156Z"
   },
   {
    "duration": 8,
    "start_time": "2021-09-04T11:35:36.523Z"
   },
   {
    "duration": 766,
    "start_time": "2021-09-04T11:35:37.460Z"
   },
   {
    "duration": 8,
    "start_time": "2021-09-04T11:37:04.737Z"
   },
   {
    "duration": 7,
    "start_time": "2021-09-04T11:56:16.337Z"
   },
   {
    "duration": 8,
    "start_time": "2021-09-04T11:56:20.781Z"
   },
   {
    "duration": 8,
    "start_time": "2021-09-04T11:56:27.301Z"
   },
   {
    "duration": 794,
    "start_time": "2021-09-04T11:56:38.473Z"
   },
   {
    "duration": 8,
    "start_time": "2021-09-04T11:57:25.657Z"
   },
   {
    "duration": 761,
    "start_time": "2021-09-04T11:57:26.480Z"
   },
   {
    "duration": 7,
    "start_time": "2021-09-04T11:57:58.939Z"
   },
   {
    "duration": 7,
    "start_time": "2021-09-04T11:58:22.256Z"
   },
   {
    "duration": 8,
    "start_time": "2021-09-04T11:58:35.633Z"
   },
   {
    "duration": 764,
    "start_time": "2021-09-04T11:58:38.437Z"
   },
   {
    "duration": 8,
    "start_time": "2021-09-04T11:58:53.273Z"
   },
   {
    "duration": 809,
    "start_time": "2021-09-04T11:58:54.196Z"
   },
   {
    "duration": 7,
    "start_time": "2021-09-04T12:00:45.254Z"
   },
   {
    "duration": 899,
    "start_time": "2021-09-04T12:00:46.637Z"
   },
   {
    "duration": 790,
    "start_time": "2021-09-04T12:09:40.387Z"
   },
   {
    "duration": 81,
    "start_time": "2021-09-04T12:19:55.012Z"
   },
   {
    "duration": 781,
    "start_time": "2021-09-04T12:20:01.619Z"
   },
   {
    "duration": 764,
    "start_time": "2021-09-04T12:20:17.169Z"
   },
   {
    "duration": 811,
    "start_time": "2021-09-04T12:23:54.261Z"
   },
   {
    "duration": 776,
    "start_time": "2021-09-04T12:24:47.004Z"
   },
   {
    "duration": 86,
    "start_time": "2021-09-04T12:26:44.119Z"
   },
   {
    "duration": 849,
    "start_time": "2021-09-04T12:27:54.264Z"
   },
   {
    "duration": 9,
    "start_time": "2021-09-04T12:37:21.055Z"
   },
   {
    "duration": 10,
    "start_time": "2021-09-04T12:37:29.422Z"
   },
   {
    "duration": 760,
    "start_time": "2021-09-04T12:37:30.224Z"
   },
   {
    "duration": 82,
    "start_time": "2021-09-04T12:41:28.086Z"
   },
   {
    "duration": 3,
    "start_time": "2021-09-04T12:43:00.409Z"
   },
   {
    "duration": 7,
    "start_time": "2021-09-04T12:46:50.129Z"
   },
   {
    "duration": 7,
    "start_time": "2021-09-04T12:49:28.652Z"
   },
   {
    "duration": 8,
    "start_time": "2021-09-04T12:49:29.287Z"
   },
   {
    "duration": 5,
    "start_time": "2021-09-04T12:49:30.714Z"
   },
   {
    "duration": 5,
    "start_time": "2021-09-04T12:49:36.108Z"
   },
   {
    "duration": 9,
    "start_time": "2021-09-04T12:50:46.399Z"
   },
   {
    "duration": 87,
    "start_time": "2021-09-04T12:50:47.214Z"
   },
   {
    "duration": 9,
    "start_time": "2021-09-04T12:50:58.071Z"
   },
   {
    "duration": 5,
    "start_time": "2021-09-04T12:51:00.333Z"
   },
   {
    "duration": 6,
    "start_time": "2021-09-04T12:51:01.179Z"
   },
   {
    "duration": 96,
    "start_time": "2021-09-04T12:53:33.194Z"
   },
   {
    "duration": 3,
    "start_time": "2021-09-04T12:53:51.282Z"
   },
   {
    "duration": 13,
    "start_time": "2021-09-04T12:55:04.556Z"
   },
   {
    "duration": 11,
    "start_time": "2021-09-04T12:55:12.045Z"
   },
   {
    "duration": 9,
    "start_time": "2021-09-04T12:55:12.703Z"
   },
   {
    "duration": 4,
    "start_time": "2021-09-04T12:56:21.761Z"
   },
   {
    "duration": 5,
    "start_time": "2021-09-04T12:56:45.671Z"
   },
   {
    "duration": 9,
    "start_time": "2021-09-04T12:57:17.922Z"
   },
   {
    "duration": 9,
    "start_time": "2021-09-04T12:58:15.377Z"
   },
   {
    "duration": 9,
    "start_time": "2021-09-04T12:58:16.042Z"
   },
   {
    "duration": 4,
    "start_time": "2021-09-04T12:58:17.425Z"
   },
   {
    "duration": 5,
    "start_time": "2021-09-04T12:58:18.208Z"
   },
   {
    "duration": 11,
    "start_time": "2021-09-04T12:59:42.612Z"
   },
   {
    "duration": 14,
    "start_time": "2021-09-04T13:00:33.183Z"
   },
   {
    "duration": 5,
    "start_time": "2021-09-04T13:05:31.273Z"
   },
   {
    "duration": 7,
    "start_time": "2021-09-04T13:05:59.310Z"
   },
   {
    "duration": 7,
    "start_time": "2021-09-04T13:06:24.677Z"
   },
   {
    "duration": 12,
    "start_time": "2021-09-04T13:07:16.128Z"
   },
   {
    "duration": 11,
    "start_time": "2021-09-04T13:07:16.953Z"
   },
   {
    "duration": 8,
    "start_time": "2021-09-04T13:07:18.670Z"
   },
   {
    "duration": 6,
    "start_time": "2021-09-04T13:07:19.426Z"
   },
   {
    "duration": 11,
    "start_time": "2021-09-04T13:11:42.566Z"
   },
   {
    "duration": 171,
    "start_time": "2021-09-04T13:11:43.526Z"
   },
   {
    "duration": 16,
    "start_time": "2021-09-04T13:11:53.194Z"
   },
   {
    "duration": 5,
    "start_time": "2021-09-04T13:11:56.062Z"
   },
   {
    "duration": 6,
    "start_time": "2021-09-04T13:11:56.816Z"
   },
   {
    "duration": 11,
    "start_time": "2021-09-04T13:14:02.554Z"
   },
   {
    "duration": 5,
    "start_time": "2021-09-04T13:14:05.856Z"
   },
   {
    "duration": 6,
    "start_time": "2021-09-04T13:14:06.905Z"
   },
   {
    "duration": 11,
    "start_time": "2021-09-04T13:14:19.915Z"
   },
   {
    "duration": 5,
    "start_time": "2021-09-04T13:14:22.674Z"
   },
   {
    "duration": 5,
    "start_time": "2021-09-04T13:14:23.378Z"
   },
   {
    "duration": 15,
    "start_time": "2021-09-04T13:14:39.308Z"
   },
   {
    "duration": 6,
    "start_time": "2021-09-04T13:14:41.354Z"
   },
   {
    "duration": 8,
    "start_time": "2021-09-04T13:14:42.052Z"
   },
   {
    "duration": 5,
    "start_time": "2021-09-04T13:17:12.169Z"
   },
   {
    "duration": 7,
    "start_time": "2021-09-04T13:17:57.307Z"
   },
   {
    "duration": 27,
    "start_time": "2021-09-04T13:19:43.206Z"
   },
   {
    "duration": 24,
    "start_time": "2021-09-04T13:22:06.744Z"
   },
   {
    "duration": 5,
    "start_time": "2021-09-04T13:23:39.348Z"
   },
   {
    "duration": 622,
    "start_time": "2021-09-04T13:23:44.142Z"
   },
   {
    "duration": 9,
    "start_time": "2021-09-04T13:23:56.058Z"
   },
   {
    "duration": 5,
    "start_time": "2021-09-04T13:24:23.902Z"
   },
   {
    "duration": 57,
    "start_time": "2021-09-04T13:24:23.914Z"
   },
   {
    "duration": 21,
    "start_time": "2021-09-04T13:24:23.974Z"
   },
   {
    "duration": 55,
    "start_time": "2021-09-04T13:24:23.999Z"
   },
   {
    "duration": 18,
    "start_time": "2021-09-04T13:24:24.058Z"
   },
   {
    "duration": 37,
    "start_time": "2021-09-04T13:24:24.079Z"
   },
   {
    "duration": 22,
    "start_time": "2021-09-04T13:24:24.118Z"
   },
   {
    "duration": 51,
    "start_time": "2021-09-04T13:24:24.142Z"
   },
   {
    "duration": 9,
    "start_time": "2021-09-04T13:24:24.199Z"
   },
   {
    "duration": 29,
    "start_time": "2021-09-04T13:24:24.212Z"
   },
   {
    "duration": 39,
    "start_time": "2021-09-04T13:24:24.244Z"
   },
   {
    "duration": 18,
    "start_time": "2021-09-04T13:24:24.287Z"
   },
   {
    "duration": 54,
    "start_time": "2021-09-04T13:24:24.308Z"
   },
   {
    "duration": 35,
    "start_time": "2021-09-04T13:24:24.365Z"
   },
   {
    "duration": 15,
    "start_time": "2021-09-04T13:24:24.404Z"
   },
   {
    "duration": 43801,
    "start_time": "2021-09-04T13:24:24.421Z"
   },
   {
    "duration": 11,
    "start_time": "2021-09-04T13:25:08.224Z"
   },
   {
    "duration": 20,
    "start_time": "2021-09-04T13:25:08.238Z"
   },
   {
    "duration": 40,
    "start_time": "2021-09-04T13:25:08.261Z"
   },
   {
    "duration": 22,
    "start_time": "2021-09-04T13:25:08.304Z"
   },
   {
    "duration": 26,
    "start_time": "2021-09-04T13:25:08.329Z"
   },
   {
    "duration": 43645,
    "start_time": "2021-09-04T13:25:08.357Z"
   },
   {
    "duration": 5,
    "start_time": "2021-09-04T13:25:52.004Z"
   },
   {
    "duration": 8,
    "start_time": "2021-09-04T13:25:52.016Z"
   },
   {
    "duration": 25,
    "start_time": "2021-09-04T13:25:52.029Z"
   },
   {
    "duration": 20,
    "start_time": "2021-09-04T13:25:52.057Z"
   },
   {
    "duration": 20,
    "start_time": "2021-09-04T13:25:52.079Z"
   },
   {
    "duration": 46635,
    "start_time": "2021-09-04T13:25:52.101Z"
   },
   {
    "duration": 5,
    "start_time": "2021-09-04T13:26:38.739Z"
   },
   {
    "duration": 17,
    "start_time": "2021-09-04T13:26:38.755Z"
   },
   {
    "duration": 37,
    "start_time": "2021-09-04T13:26:38.775Z"
   },
   {
    "duration": 12,
    "start_time": "2021-09-04T13:26:38.815Z"
   },
   {
    "duration": 37,
    "start_time": "2021-09-04T13:26:38.829Z"
   },
   {
    "duration": 23,
    "start_time": "2021-09-04T13:26:38.869Z"
   },
   {
    "duration": 23,
    "start_time": "2021-09-04T13:26:38.895Z"
   },
   {
    "duration": 16,
    "start_time": "2021-09-04T13:26:38.920Z"
   },
   {
    "duration": 49,
    "start_time": "2021-09-04T13:26:38.939Z"
   },
   {
    "duration": 28,
    "start_time": "2021-09-04T13:26:38.992Z"
   },
   {
    "duration": 53,
    "start_time": "2021-09-04T13:26:39.023Z"
   },
   {
    "duration": 11,
    "start_time": "2021-09-04T13:26:39.078Z"
   },
   {
    "duration": 16,
    "start_time": "2021-09-04T13:26:39.091Z"
   },
   {
    "duration": 28,
    "start_time": "2021-09-04T13:26:39.110Z"
   },
   {
    "duration": 518,
    "start_time": "2021-09-04T13:26:39.141Z"
   },
   {
    "duration": 15,
    "start_time": "2021-09-04T13:26:39.661Z"
   },
   {
    "duration": 14,
    "start_time": "2021-09-04T13:26:39.679Z"
   },
   {
    "duration": 673,
    "start_time": "2021-09-04T13:26:39.695Z"
   },
   {
    "duration": 20,
    "start_time": "2021-09-04T13:26:40.370Z"
   },
   {
    "duration": 25,
    "start_time": "2021-09-04T13:26:40.392Z"
   },
   {
    "duration": 44,
    "start_time": "2021-09-04T13:26:40.419Z"
   },
   {
    "duration": 12,
    "start_time": "2021-09-04T13:26:40.465Z"
   },
   {
    "duration": 624,
    "start_time": "2021-09-04T13:26:40.479Z"
   },
   {
    "duration": 9,
    "start_time": "2021-09-04T13:26:41.106Z"
   },
   {
    "duration": 18,
    "start_time": "2021-09-04T13:26:41.117Z"
   },
   {
    "duration": 22,
    "start_time": "2021-09-04T13:26:41.137Z"
   },
   {
    "duration": 294,
    "start_time": "2021-09-04T13:26:41.162Z"
   },
   {
    "duration": 9,
    "start_time": "2021-09-04T13:26:41.459Z"
   },
   {
    "duration": 16,
    "start_time": "2021-09-04T13:26:41.471Z"
   },
   {
    "duration": 550,
    "start_time": "2021-09-04T13:26:41.491Z"
   },
   {
    "duration": 16,
    "start_time": "2021-09-04T13:26:42.043Z"
   },
   {
    "duration": 13,
    "start_time": "2021-09-04T13:26:42.062Z"
   },
   {
    "duration": 410,
    "start_time": "2021-09-04T13:26:42.077Z"
   },
   {
    "duration": 5,
    "start_time": "2021-09-04T13:26:42.490Z"
   },
   {
    "duration": 482,
    "start_time": "2021-09-04T13:26:42.497Z"
   },
   {
    "duration": 8,
    "start_time": "2021-09-04T13:26:42.981Z"
   },
   {
    "duration": 3281,
    "start_time": "2021-09-04T13:26:42.992Z"
   },
   {
    "duration": 19,
    "start_time": "2021-09-04T13:26:46.275Z"
   },
   {
    "duration": 464,
    "start_time": "2021-09-04T13:26:46.296Z"
   },
   {
    "duration": 7,
    "start_time": "2021-09-04T13:26:46.763Z"
   },
   {
    "duration": 792,
    "start_time": "2021-09-04T13:26:46.778Z"
   },
   {
    "duration": 7,
    "start_time": "2021-09-04T13:26:47.573Z"
   },
   {
    "duration": 871,
    "start_time": "2021-09-04T13:26:47.583Z"
   },
   {
    "duration": 822,
    "start_time": "2021-09-04T13:26:48.457Z"
   },
   {
    "duration": 798,
    "start_time": "2021-09-04T13:26:49.282Z"
   },
   {
    "duration": 788,
    "start_time": "2021-09-04T13:26:50.083Z"
   },
   {
    "duration": 746,
    "start_time": "2021-09-04T13:26:50.873Z"
   },
   {
    "duration": 3,
    "start_time": "2021-09-04T13:26:51.622Z"
   },
   {
    "duration": 19,
    "start_time": "2021-09-04T13:26:51.627Z"
   },
   {
    "duration": 13,
    "start_time": "2021-09-04T13:26:51.648Z"
   },
   {
    "duration": 18,
    "start_time": "2021-09-04T13:26:51.663Z"
   },
   {
    "duration": 15,
    "start_time": "2021-09-04T13:26:51.684Z"
   },
   {
    "duration": 13,
    "start_time": "2021-09-04T13:26:51.702Z"
   },
   {
    "duration": 13,
    "start_time": "2021-09-04T13:26:51.717Z"
   },
   {
    "duration": 14,
    "start_time": "2021-09-04T13:26:51.732Z"
   },
   {
    "duration": 9,
    "start_time": "2021-09-04T13:28:29.634Z"
   },
   {
    "duration": 10,
    "start_time": "2021-09-04T13:28:31.003Z"
   },
   {
    "duration": 14,
    "start_time": "2021-09-04T13:28:32.577Z"
   },
   {
    "duration": 8,
    "start_time": "2021-09-04T13:33:02.163Z"
   },
   {
    "duration": 9,
    "start_time": "2021-09-04T13:33:02.739Z"
   },
   {
    "duration": 10,
    "start_time": "2021-09-04T13:33:36.249Z"
   },
   {
    "duration": 4,
    "start_time": "2021-09-04T13:33:54.697Z"
   },
   {
    "duration": 9,
    "start_time": "2021-09-04T13:33:55.297Z"
   },
   {
    "duration": 9,
    "start_time": "2021-09-04T13:33:56.040Z"
   },
   {
    "duration": 5,
    "start_time": "2021-09-04T13:34:06.597Z"
   },
   {
    "duration": 5,
    "start_time": "2021-09-04T13:34:07.442Z"
   },
   {
    "duration": 7,
    "start_time": "2021-09-04T13:34:47.932Z"
   },
   {
    "duration": 7,
    "start_time": "2021-09-04T13:36:03.016Z"
   },
   {
    "duration": 7,
    "start_time": "2021-09-04T13:36:49.409Z"
   },
   {
    "duration": 6,
    "start_time": "2021-09-04T13:36:53.845Z"
   },
   {
    "duration": 5,
    "start_time": "2021-09-04T13:36:56.514Z"
   },
   {
    "duration": 4,
    "start_time": "2021-09-04T13:37:07.622Z"
   },
   {
    "duration": 10,
    "start_time": "2021-09-04T13:37:08.504Z"
   },
   {
    "duration": 10,
    "start_time": "2021-09-04T13:37:18.294Z"
   },
   {
    "duration": 7,
    "start_time": "2021-09-04T13:37:19.943Z"
   },
   {
    "duration": 5,
    "start_time": "2021-09-04T13:37:45.201Z"
   },
   {
    "duration": 6,
    "start_time": "2021-09-04T13:37:47.250Z"
   },
   {
    "duration": 94,
    "start_time": "2021-09-04T13:40:43.822Z"
   },
   {
    "duration": 290,
    "start_time": "2021-09-04T14:31:49.359Z"
   },
   {
    "duration": 286,
    "start_time": "2021-09-04T14:31:54.889Z"
   },
   {
    "duration": 24,
    "start_time": "2021-09-04T14:32:17.426Z"
   },
   {
    "duration": 13,
    "start_time": "2021-09-04T14:33:39.699Z"
   },
   {
    "duration": 86,
    "start_time": "2021-09-04T14:36:09.473Z"
   },
   {
    "duration": 17,
    "start_time": "2021-09-04T14:36:33.361Z"
   },
   {
    "duration": 13,
    "start_time": "2021-09-04T14:39:01.392Z"
   },
   {
    "duration": 12,
    "start_time": "2021-09-04T14:39:15.219Z"
   },
   {
    "duration": 12,
    "start_time": "2021-09-04T14:39:41.787Z"
   },
   {
    "duration": 6,
    "start_time": "2021-09-04T14:40:42.857Z"
   },
   {
    "duration": 77,
    "start_time": "2021-09-04T14:40:42.865Z"
   },
   {
    "duration": 25,
    "start_time": "2021-09-04T14:40:42.945Z"
   },
   {
    "duration": 22,
    "start_time": "2021-09-04T14:40:42.973Z"
   },
   {
    "duration": 28,
    "start_time": "2021-09-04T14:40:42.998Z"
   },
   {
    "duration": 23,
    "start_time": "2021-09-04T14:40:43.029Z"
   },
   {
    "duration": 30,
    "start_time": "2021-09-04T14:40:43.068Z"
   },
   {
    "duration": 40,
    "start_time": "2021-09-04T14:40:43.101Z"
   },
   {
    "duration": 7,
    "start_time": "2021-09-04T14:40:43.144Z"
   },
   {
    "duration": 33,
    "start_time": "2021-09-04T14:40:43.155Z"
   },
   {
    "duration": 33,
    "start_time": "2021-09-04T14:40:43.191Z"
   },
   {
    "duration": 20,
    "start_time": "2021-09-04T14:40:43.227Z"
   },
   {
    "duration": 61,
    "start_time": "2021-09-04T14:40:43.250Z"
   },
   {
    "duration": 15,
    "start_time": "2021-09-04T14:40:43.315Z"
   },
   {
    "duration": 23,
    "start_time": "2021-09-04T14:40:43.333Z"
   },
   {
    "duration": 45202,
    "start_time": "2021-09-04T14:40:43.358Z"
   },
   {
    "duration": 16,
    "start_time": "2021-09-04T14:41:28.563Z"
   },
   {
    "duration": 16,
    "start_time": "2021-09-04T14:41:28.582Z"
   },
   {
    "duration": 16,
    "start_time": "2021-09-04T14:41:28.603Z"
   },
   {
    "duration": 39,
    "start_time": "2021-09-04T14:41:28.623Z"
   },
   {
    "duration": 8,
    "start_time": "2021-09-04T14:41:28.665Z"
   },
   {
    "duration": 52764,
    "start_time": "2021-09-04T14:41:28.684Z"
   },
   {
    "duration": 11,
    "start_time": "2021-09-04T14:42:21.451Z"
   },
   {
    "duration": 33,
    "start_time": "2021-09-04T14:42:21.465Z"
   },
   {
    "duration": 31,
    "start_time": "2021-09-04T14:42:21.502Z"
   },
   {
    "duration": 52,
    "start_time": "2021-09-04T14:42:21.536Z"
   },
   {
    "duration": 16,
    "start_time": "2021-09-04T14:42:21.591Z"
   },
   {
    "duration": 49596,
    "start_time": "2021-09-04T14:42:21.614Z"
   },
   {
    "duration": 6,
    "start_time": "2021-09-04T14:43:11.213Z"
   },
   {
    "duration": 15,
    "start_time": "2021-09-04T14:43:11.222Z"
   },
   {
    "duration": 16,
    "start_time": "2021-09-04T14:43:11.256Z"
   },
   {
    "duration": 11,
    "start_time": "2021-09-04T14:43:11.275Z"
   },
   {
    "duration": 16,
    "start_time": "2021-09-04T14:43:11.288Z"
   },
   {
    "duration": 56,
    "start_time": "2021-09-04T14:43:11.306Z"
   },
   {
    "duration": 14,
    "start_time": "2021-09-04T14:43:11.365Z"
   },
   {
    "duration": 6,
    "start_time": "2021-09-04T14:43:11.381Z"
   },
   {
    "duration": 16,
    "start_time": "2021-09-04T14:43:11.390Z"
   },
   {
    "duration": 654,
    "start_time": "2021-09-04T14:43:11.409Z"
   },
   {
    "duration": 22,
    "start_time": "2021-09-04T14:43:12.066Z"
   },
   {
    "duration": 12,
    "start_time": "2021-09-04T14:43:12.090Z"
   },
   {
    "duration": 717,
    "start_time": "2021-09-04T14:43:12.105Z"
   },
   {
    "duration": 37,
    "start_time": "2021-09-04T14:43:12.824Z"
   },
   {
    "duration": 26,
    "start_time": "2021-09-04T14:43:12.864Z"
   },
   {
    "duration": 18,
    "start_time": "2021-09-04T14:43:12.893Z"
   },
   {
    "duration": 6,
    "start_time": "2021-09-04T14:43:12.913Z"
   },
   {
    "duration": 658,
    "start_time": "2021-09-04T14:43:12.954Z"
   },
   {
    "duration": 8,
    "start_time": "2021-09-04T14:43:13.615Z"
   },
   {
    "duration": 31,
    "start_time": "2021-09-04T14:43:13.626Z"
   },
   {
    "duration": 24,
    "start_time": "2021-09-04T14:43:13.660Z"
   },
   {
    "duration": 297,
    "start_time": "2021-09-04T14:43:13.687Z"
   },
   {
    "duration": 9,
    "start_time": "2021-09-04T14:43:13.986Z"
   },
   {
    "duration": 13,
    "start_time": "2021-09-04T14:43:13.997Z"
   },
   {
    "duration": 471,
    "start_time": "2021-09-04T14:43:14.013Z"
   },
   {
    "duration": 9,
    "start_time": "2021-09-04T14:43:14.487Z"
   },
   {
    "duration": 7,
    "start_time": "2021-09-04T14:43:14.509Z"
   },
   {
    "duration": 566,
    "start_time": "2021-09-04T14:43:14.520Z"
   },
   {
    "duration": 7,
    "start_time": "2021-09-04T14:43:15.089Z"
   },
   {
    "duration": 522,
    "start_time": "2021-09-04T14:43:15.098Z"
   },
   {
    "duration": 9,
    "start_time": "2021-09-04T14:43:15.622Z"
   },
   {
    "duration": 3904,
    "start_time": "2021-09-04T14:43:15.634Z"
   },
   {
    "duration": 33,
    "start_time": "2021-09-04T14:43:19.541Z"
   },
   {
    "duration": 612,
    "start_time": "2021-09-04T14:43:19.577Z"
   },
   {
    "duration": 10,
    "start_time": "2021-09-04T14:43:20.192Z"
   },
   {
    "duration": 856,
    "start_time": "2021-09-04T14:43:20.204Z"
   },
   {
    "duration": 8,
    "start_time": "2021-09-04T14:43:21.062Z"
   },
   {
    "duration": 816,
    "start_time": "2021-09-04T14:43:21.073Z"
   },
   {
    "duration": 873,
    "start_time": "2021-09-04T14:43:21.892Z"
   },
   {
    "duration": 862,
    "start_time": "2021-09-04T14:43:22.772Z"
   },
   {
    "duration": 854,
    "start_time": "2021-09-04T14:43:23.636Z"
   },
   {
    "duration": 952,
    "start_time": "2021-09-04T14:43:24.492Z"
   },
   {
    "duration": 10,
    "start_time": "2021-09-04T14:43:25.446Z"
   },
   {
    "duration": 28,
    "start_time": "2021-09-04T14:43:25.460Z"
   },
   {
    "duration": 30,
    "start_time": "2021-09-04T14:43:25.491Z"
   },
   {
    "duration": 16,
    "start_time": "2021-09-04T14:43:25.524Z"
   },
   {
    "duration": 20,
    "start_time": "2021-09-04T14:43:25.542Z"
   },
   {
    "duration": 6,
    "start_time": "2021-09-04T14:43:25.565Z"
   },
   {
    "duration": 5,
    "start_time": "2021-09-04T14:43:25.573Z"
   },
   {
    "duration": 12,
    "start_time": "2021-09-04T14:43:25.581Z"
   },
   {
    "duration": 7,
    "start_time": "2021-09-04T14:43:25.595Z"
   },
   {
    "duration": 8,
    "start_time": "2021-09-04T14:43:25.605Z"
   },
   {
    "duration": 41,
    "start_time": "2021-09-04T14:43:25.615Z"
   },
   {
    "duration": 25,
    "start_time": "2021-09-04T14:43:25.659Z"
   },
   {
    "duration": 25,
    "start_time": "2021-09-04T14:46:17.061Z"
   },
   {
    "duration": 6,
    "start_time": "2021-09-04T14:49:03.907Z"
   },
   {
    "duration": 82,
    "start_time": "2021-09-04T14:49:03.917Z"
   },
   {
    "duration": 20,
    "start_time": "2021-09-04T14:49:04.002Z"
   },
   {
    "duration": 42,
    "start_time": "2021-09-04T14:49:04.025Z"
   },
   {
    "duration": 14,
    "start_time": "2021-09-04T14:49:04.072Z"
   },
   {
    "duration": 12,
    "start_time": "2021-09-04T14:49:04.089Z"
   },
   {
    "duration": 59,
    "start_time": "2021-09-04T14:49:04.106Z"
   },
   {
    "duration": 32,
    "start_time": "2021-09-04T14:49:04.168Z"
   },
   {
    "duration": 6,
    "start_time": "2021-09-04T14:49:04.203Z"
   },
   {
    "duration": 10,
    "start_time": "2021-09-04T14:49:04.212Z"
   },
   {
    "duration": 40,
    "start_time": "2021-09-04T14:49:04.224Z"
   },
   {
    "duration": 8,
    "start_time": "2021-09-04T14:49:04.267Z"
   },
   {
    "duration": 39,
    "start_time": "2021-09-04T14:49:04.277Z"
   },
   {
    "duration": 46,
    "start_time": "2021-09-04T14:49:04.319Z"
   },
   {
    "duration": 22,
    "start_time": "2021-09-04T14:49:04.368Z"
   },
   {
    "duration": 49145,
    "start_time": "2021-09-04T14:49:04.393Z"
   },
   {
    "duration": 26,
    "start_time": "2021-09-04T14:49:53.540Z"
   },
   {
    "duration": 15,
    "start_time": "2021-09-04T14:49:53.568Z"
   },
   {
    "duration": 20,
    "start_time": "2021-09-04T14:49:53.588Z"
   },
   {
    "duration": 9,
    "start_time": "2021-09-04T14:49:53.611Z"
   },
   {
    "duration": 19,
    "start_time": "2021-09-04T14:49:53.623Z"
   },
   {
    "duration": 49352,
    "start_time": "2021-09-04T14:49:53.645Z"
   },
   {
    "duration": 5,
    "start_time": "2021-09-04T14:50:42.999Z"
   },
   {
    "duration": 8,
    "start_time": "2021-09-04T14:50:43.008Z"
   },
   {
    "duration": 48,
    "start_time": "2021-09-04T14:50:43.018Z"
   },
   {
    "duration": 13,
    "start_time": "2021-09-04T14:50:43.069Z"
   },
   {
    "duration": 50226,
    "start_time": "2021-09-04T14:50:43.084Z"
   },
   {
    "duration": 6,
    "start_time": "2021-09-04T14:51:33.312Z"
   },
   {
    "duration": 21,
    "start_time": "2021-09-04T14:51:33.321Z"
   },
   {
    "duration": 30,
    "start_time": "2021-09-04T14:51:33.344Z"
   },
   {
    "duration": 13,
    "start_time": "2021-09-04T14:51:33.377Z"
   },
   {
    "duration": 31,
    "start_time": "2021-09-04T14:51:33.393Z"
   },
   {
    "duration": 33,
    "start_time": "2021-09-04T14:51:33.427Z"
   },
   {
    "duration": 25,
    "start_time": "2021-09-04T14:51:33.463Z"
   },
   {
    "duration": 15,
    "start_time": "2021-09-04T14:51:33.491Z"
   },
   {
    "duration": 27,
    "start_time": "2021-09-04T14:51:33.509Z"
   },
   {
    "duration": 482,
    "start_time": "2021-09-04T14:51:33.539Z"
   },
   {
    "duration": 478,
    "start_time": "2021-09-04T14:59:23.534Z"
   },
   {
    "duration": 15,
    "start_time": "2021-09-04T14:59:33.812Z"
   },
   {
    "duration": 9,
    "start_time": "2021-09-04T14:59:36.385Z"
   },
   {
    "duration": 687,
    "start_time": "2021-09-04T14:59:40.153Z"
   },
   {
    "duration": 21,
    "start_time": "2021-09-04T14:59:48.467Z"
   },
   {
    "duration": 27,
    "start_time": "2021-09-04T15:00:06.095Z"
   },
   {
    "duration": 17,
    "start_time": "2021-09-04T15:00:45.028Z"
   },
   {
    "duration": 5,
    "start_time": "2021-09-04T15:00:52.494Z"
   },
   {
    "duration": 633,
    "start_time": "2021-09-04T15:01:03.075Z"
   },
   {
    "duration": 10,
    "start_time": "2021-09-04T15:01:29.989Z"
   },
   {
    "duration": 9,
    "start_time": "2021-09-04T15:01:45.485Z"
   },
   {
    "duration": 11,
    "start_time": "2021-09-04T15:01:52.942Z"
   },
   {
    "duration": 296,
    "start_time": "2021-09-04T15:02:00.809Z"
   },
   {
    "duration": 15,
    "start_time": "2021-09-04T15:02:05.657Z"
   },
   {
    "duration": 13,
    "start_time": "2021-09-04T15:02:06.312Z"
   },
   {
    "duration": 506,
    "start_time": "2021-09-04T15:02:13.000Z"
   },
   {
    "duration": 8,
    "start_time": "2021-09-04T15:02:29.943Z"
   },
   {
    "duration": 7,
    "start_time": "2021-09-04T15:02:31.692Z"
   },
   {
    "duration": 504,
    "start_time": "2021-09-04T15:02:52.887Z"
   },
   {
    "duration": 6,
    "start_time": "2021-09-04T15:02:58.790Z"
   },
   {
    "duration": 467,
    "start_time": "2021-09-04T15:03:00.529Z"
   },
   {
    "duration": 12,
    "start_time": "2021-09-04T15:03:12.953Z"
   },
   {
    "duration": 4003,
    "start_time": "2021-09-04T15:03:37.219Z"
   },
   {
    "duration": 27,
    "start_time": "2021-09-04T15:04:01.156Z"
   },
   {
    "duration": 759,
    "start_time": "2021-09-04T15:04:03.002Z"
   },
   {
    "duration": 8,
    "start_time": "2021-09-04T15:04:31.633Z"
   },
   {
    "duration": 838,
    "start_time": "2021-09-04T15:04:42.361Z"
   },
   {
    "duration": 10,
    "start_time": "2021-09-04T15:07:09.174Z"
   },
   {
    "duration": 775,
    "start_time": "2021-09-04T15:07:12.865Z"
   },
   {
    "duration": 803,
    "start_time": "2021-09-04T15:09:20.778Z"
   },
   {
    "duration": 842,
    "start_time": "2021-09-04T15:09:58.628Z"
   },
   {
    "duration": 8,
    "start_time": "2021-09-04T15:11:22.190Z"
   },
   {
    "duration": 770,
    "start_time": "2021-09-04T15:11:23.005Z"
   },
   {
    "duration": 811,
    "start_time": "2021-09-04T15:11:52.779Z"
   },
   {
    "duration": 997,
    "start_time": "2021-09-04T15:12:26.190Z"
   },
   {
    "duration": 792,
    "start_time": "2021-09-04T15:12:37.240Z"
   },
   {
    "duration": 733,
    "start_time": "2021-09-04T15:13:07.126Z"
   },
   {
    "duration": 8,
    "start_time": "2021-09-04T15:14:49.226Z"
   },
   {
    "duration": 771,
    "start_time": "2021-09-04T15:14:50.603Z"
   },
   {
    "duration": 792,
    "start_time": "2021-09-04T15:16:03.804Z"
   },
   {
    "duration": 886,
    "start_time": "2021-09-04T15:16:13.875Z"
   },
   {
    "duration": 739,
    "start_time": "2021-09-04T15:16:18.085Z"
   },
   {
    "duration": 718,
    "start_time": "2021-09-04T15:16:34.036Z"
   },
   {
    "duration": 4,
    "start_time": "2021-09-04T15:17:07.309Z"
   },
   {
    "duration": 9,
    "start_time": "2021-09-04T15:17:08.167Z"
   },
   {
    "duration": 10,
    "start_time": "2021-09-04T15:17:09.061Z"
   },
   {
    "duration": 7,
    "start_time": "2021-09-04T15:17:09.757Z"
   },
   {
    "duration": 5,
    "start_time": "2021-09-04T15:17:15.149Z"
   },
   {
    "duration": 6,
    "start_time": "2021-09-04T15:17:16.279Z"
   },
   {
    "duration": 4,
    "start_time": "2021-09-04T15:17:45.056Z"
   },
   {
    "duration": 9,
    "start_time": "2021-09-04T15:17:45.903Z"
   },
   {
    "duration": 9,
    "start_time": "2021-09-04T15:17:46.743Z"
   },
   {
    "duration": 6,
    "start_time": "2021-09-04T15:17:47.462Z"
   },
   {
    "duration": 5,
    "start_time": "2021-09-04T15:17:50.062Z"
   },
   {
    "duration": 6,
    "start_time": "2021-09-04T15:17:50.935Z"
   },
   {
    "duration": 4,
    "start_time": "2021-09-04T15:18:15.759Z"
   },
   {
    "duration": 10,
    "start_time": "2021-09-04T15:18:16.695Z"
   },
   {
    "duration": 10,
    "start_time": "2021-09-04T15:18:17.440Z"
   },
   {
    "duration": 6,
    "start_time": "2021-09-04T15:18:19.175Z"
   },
   {
    "duration": 4,
    "start_time": "2021-09-04T15:18:23.856Z"
   },
   {
    "duration": 6,
    "start_time": "2021-09-04T15:18:24.535Z"
   },
   {
    "duration": 1817,
    "start_time": "2021-09-05T08:12:23.017Z"
   },
   {
    "duration": 67,
    "start_time": "2021-09-05T08:12:24.837Z"
   },
   {
    "duration": 34,
    "start_time": "2021-09-05T08:12:24.909Z"
   },
   {
    "duration": 34,
    "start_time": "2021-09-05T08:12:24.946Z"
   },
   {
    "duration": 15,
    "start_time": "2021-09-05T08:12:24.983Z"
   },
   {
    "duration": 20,
    "start_time": "2021-09-05T08:12:25.001Z"
   },
   {
    "duration": 23,
    "start_time": "2021-09-05T08:12:25.023Z"
   },
   {
    "duration": 27,
    "start_time": "2021-09-05T08:12:25.069Z"
   },
   {
    "duration": 8,
    "start_time": "2021-09-05T08:12:25.100Z"
   },
   {
    "duration": 26,
    "start_time": "2021-09-05T08:12:25.110Z"
   },
   {
    "duration": 39,
    "start_time": "2021-09-05T08:12:25.139Z"
   },
   {
    "duration": 12,
    "start_time": "2021-09-05T08:12:25.180Z"
   },
   {
    "duration": 51,
    "start_time": "2021-09-05T08:12:25.195Z"
   },
   {
    "duration": 28,
    "start_time": "2021-09-05T08:12:25.249Z"
   },
   {
    "duration": 23,
    "start_time": "2021-09-05T08:12:25.279Z"
   },
   {
    "duration": 40648,
    "start_time": "2021-09-05T08:12:25.305Z"
   },
   {
    "duration": 18,
    "start_time": "2021-09-05T08:13:05.955Z"
   },
   {
    "duration": 14,
    "start_time": "2021-09-05T08:13:05.975Z"
   },
   {
    "duration": 17,
    "start_time": "2021-09-05T08:13:05.991Z"
   },
   {
    "duration": 6,
    "start_time": "2021-09-05T08:13:06.011Z"
   },
   {
    "duration": 11,
    "start_time": "2021-09-05T08:13:06.019Z"
   },
   {
    "duration": 40859,
    "start_time": "2021-09-05T08:13:06.032Z"
   },
   {
    "duration": 6,
    "start_time": "2021-09-05T08:13:46.899Z"
   },
   {
    "duration": 10,
    "start_time": "2021-09-05T08:13:46.908Z"
   },
   {
    "duration": 19,
    "start_time": "2021-09-05T08:13:46.921Z"
   },
   {
    "duration": 31,
    "start_time": "2021-09-05T08:13:46.943Z"
   },
   {
    "duration": 41255,
    "start_time": "2021-09-05T08:13:46.976Z"
   },
   {
    "duration": 6,
    "start_time": "2021-09-05T08:14:28.233Z"
   },
   {
    "duration": 27,
    "start_time": "2021-09-05T08:14:28.241Z"
   },
   {
    "duration": 16,
    "start_time": "2021-09-05T08:14:28.271Z"
   },
   {
    "duration": 12,
    "start_time": "2021-09-05T08:14:28.290Z"
   },
   {
    "duration": 14,
    "start_time": "2021-09-05T08:14:28.304Z"
   },
   {
    "duration": 48,
    "start_time": "2021-09-05T08:14:28.320Z"
   },
   {
    "duration": 13,
    "start_time": "2021-09-05T08:14:28.371Z"
   },
   {
    "duration": 7,
    "start_time": "2021-09-05T08:14:28.386Z"
   },
   {
    "duration": 14,
    "start_time": "2021-09-05T08:14:28.396Z"
   },
   {
    "duration": 518,
    "start_time": "2021-09-05T08:14:28.413Z"
   },
   {
    "duration": 15,
    "start_time": "2021-09-05T08:14:28.934Z"
   },
   {
    "duration": 21,
    "start_time": "2021-09-05T08:14:28.952Z"
   },
   {
    "duration": 754,
    "start_time": "2021-09-05T08:14:28.976Z"
   },
   {
    "duration": 37,
    "start_time": "2021-09-05T08:14:29.732Z"
   },
   {
    "duration": 23,
    "start_time": "2021-09-05T08:14:29.771Z"
   },
   {
    "duration": 16,
    "start_time": "2021-09-05T08:14:29.796Z"
   },
   {
    "duration": 5,
    "start_time": "2021-09-05T08:14:29.814Z"
   },
   {
    "duration": 672,
    "start_time": "2021-09-05T08:14:29.821Z"
   },
   {
    "duration": 9,
    "start_time": "2021-09-05T08:14:30.496Z"
   },
   {
    "duration": 14,
    "start_time": "2021-09-05T08:14:30.508Z"
   },
   {
    "duration": 16,
    "start_time": "2021-09-05T08:14:30.525Z"
   },
   {
    "duration": 332,
    "start_time": "2021-09-05T08:14:30.543Z"
   },
   {
    "duration": 8,
    "start_time": "2021-09-05T08:14:30.877Z"
   },
   {
    "duration": 19,
    "start_time": "2021-09-05T08:14:30.888Z"
   },
   {
    "duration": 462,
    "start_time": "2021-09-05T08:14:30.909Z"
   },
   {
    "duration": 8,
    "start_time": "2021-09-05T08:14:31.374Z"
   },
   {
    "duration": 17,
    "start_time": "2021-09-05T08:14:31.384Z"
   },
   {
    "duration": 517,
    "start_time": "2021-09-05T08:14:31.403Z"
   },
   {
    "duration": 6,
    "start_time": "2021-09-05T08:14:31.922Z"
   },
   {
    "duration": 477,
    "start_time": "2021-09-05T08:14:31.930Z"
   },
   {
    "duration": 9,
    "start_time": "2021-09-05T08:14:32.409Z"
   },
   {
    "duration": 3613,
    "start_time": "2021-09-05T08:14:32.420Z"
   },
   {
    "duration": 32,
    "start_time": "2021-09-05T08:14:36.036Z"
   },
   {
    "duration": 478,
    "start_time": "2021-09-05T08:14:36.071Z"
   },
   {
    "duration": 16,
    "start_time": "2021-09-05T08:14:36.551Z"
   },
   {
    "duration": 819,
    "start_time": "2021-09-05T08:14:36.570Z"
   },
   {
    "duration": 8,
    "start_time": "2021-09-05T08:14:37.391Z"
   },
   {
    "duration": 919,
    "start_time": "2021-09-05T08:14:37.401Z"
   },
   {
    "duration": 829,
    "start_time": "2021-09-05T08:14:38.323Z"
   },
   {
    "duration": 806,
    "start_time": "2021-09-05T08:14:39.154Z"
   },
   {
    "duration": 824,
    "start_time": "2021-09-05T08:14:39.968Z"
   },
   {
    "duration": 772,
    "start_time": "2021-09-05T08:14:40.795Z"
   },
   {
    "duration": 4,
    "start_time": "2021-09-05T08:14:41.569Z"
   },
   {
    "duration": 17,
    "start_time": "2021-09-05T08:14:41.575Z"
   },
   {
    "duration": 11,
    "start_time": "2021-09-05T08:14:41.594Z"
   },
   {
    "duration": 7,
    "start_time": "2021-09-05T08:14:41.607Z"
   },
   {
    "duration": 8,
    "start_time": "2021-09-05T08:14:41.616Z"
   },
   {
    "duration": 10,
    "start_time": "2021-09-05T08:14:41.626Z"
   },
   {
    "duration": 4,
    "start_time": "2021-09-05T08:14:41.668Z"
   },
   {
    "duration": 12,
    "start_time": "2021-09-05T08:14:41.674Z"
   },
   {
    "duration": 9,
    "start_time": "2021-09-05T08:14:41.688Z"
   },
   {
    "duration": 7,
    "start_time": "2021-09-05T08:14:41.699Z"
   },
   {
    "duration": 7,
    "start_time": "2021-09-05T08:14:41.708Z"
   },
   {
    "duration": 7,
    "start_time": "2021-09-05T08:14:41.717Z"
   },
   {
    "duration": 123,
    "start_time": "2021-09-05T10:43:06.169Z"
   },
   {
    "duration": 151,
    "start_time": "2021-09-05T10:50:47.964Z"
   },
   {
    "duration": 433,
    "start_time": "2021-09-05T10:53:19.182Z"
   },
   {
    "duration": 1312,
    "start_time": "2021-09-05T10:53:24.424Z"
   },
   {
    "duration": 43,
    "start_time": "2021-09-05T10:53:25.738Z"
   },
   {
    "duration": 22,
    "start_time": "2021-09-05T10:53:25.784Z"
   },
   {
    "duration": 11,
    "start_time": "2021-09-05T10:53:25.809Z"
   },
   {
    "duration": 10,
    "start_time": "2021-09-05T10:53:25.822Z"
   },
   {
    "duration": 7,
    "start_time": "2021-09-05T10:53:25.834Z"
   },
   {
    "duration": 47,
    "start_time": "2021-09-05T10:53:25.843Z"
   },
   {
    "duration": 24,
    "start_time": "2021-09-05T10:53:25.893Z"
   },
   {
    "duration": 5,
    "start_time": "2021-09-05T10:53:25.920Z"
   },
   {
    "duration": 9,
    "start_time": "2021-09-05T10:53:25.926Z"
   },
   {
    "duration": 49,
    "start_time": "2021-09-05T10:53:25.937Z"
   },
   {
    "duration": 7,
    "start_time": "2021-09-05T10:53:25.989Z"
   },
   {
    "duration": 23,
    "start_time": "2021-09-05T10:53:25.998Z"
   },
   {
    "duration": 10,
    "start_time": "2021-09-05T10:53:26.024Z"
   },
   {
    "duration": 5,
    "start_time": "2021-09-05T10:53:26.036Z"
   },
   {
    "duration": 35081,
    "start_time": "2021-09-05T10:53:26.043Z"
   },
   {
    "duration": 9,
    "start_time": "2021-09-05T10:54:01.126Z"
   },
   {
    "duration": 17,
    "start_time": "2021-09-05T10:54:01.137Z"
   },
   {
    "duration": 12,
    "start_time": "2021-09-05T10:54:01.156Z"
   },
   {
    "duration": 12,
    "start_time": "2021-09-05T10:54:01.170Z"
   },
   {
    "duration": 19,
    "start_time": "2021-09-05T10:54:01.186Z"
   },
   {
    "duration": 6,
    "start_time": "2021-09-05T10:54:04.566Z"
   },
   {
    "duration": 5,
    "start_time": "2021-09-05T10:54:15.623Z"
   },
   {
    "duration": 20,
    "start_time": "2021-09-05T10:54:17.774Z"
   },
   {
    "duration": 7,
    "start_time": "2021-09-05T10:54:19.663Z"
   },
   {
    "duration": 8,
    "start_time": "2021-09-05T10:54:36.137Z"
   },
   {
    "duration": 21,
    "start_time": "2021-09-05T10:54:37.586Z"
   },
   {
    "duration": 10,
    "start_time": "2021-09-05T10:54:38.265Z"
   },
   {
    "duration": 11,
    "start_time": "2021-09-05T10:54:40.543Z"
   },
   {
    "duration": 13,
    "start_time": "2021-09-05T10:54:44.392Z"
   },
   {
    "duration": 13,
    "start_time": "2021-09-05T10:54:45.872Z"
   },
   {
    "duration": 3,
    "start_time": "2021-09-05T10:56:55.490Z"
   },
   {
    "duration": 43,
    "start_time": "2021-09-05T10:56:55.508Z"
   },
   {
    "duration": 13,
    "start_time": "2021-09-05T10:56:55.553Z"
   },
   {
    "duration": 22,
    "start_time": "2021-09-05T10:56:55.568Z"
   },
   {
    "duration": 11,
    "start_time": "2021-09-05T10:56:55.593Z"
   },
   {
    "duration": 8,
    "start_time": "2021-09-05T10:56:55.605Z"
   },
   {
    "duration": 9,
    "start_time": "2021-09-05T10:56:55.615Z"
   },
   {
    "duration": 53,
    "start_time": "2021-09-05T10:56:55.625Z"
   },
   {
    "duration": 7,
    "start_time": "2021-09-05T10:56:55.681Z"
   },
   {
    "duration": 11,
    "start_time": "2021-09-05T10:56:55.692Z"
   },
   {
    "duration": 11,
    "start_time": "2021-09-05T10:56:55.706Z"
   },
   {
    "duration": 6,
    "start_time": "2021-09-05T10:56:55.719Z"
   },
   {
    "duration": 68,
    "start_time": "2021-09-05T10:56:55.727Z"
   },
   {
    "duration": 8,
    "start_time": "2021-09-05T10:56:55.797Z"
   },
   {
    "duration": 8,
    "start_time": "2021-09-05T10:56:55.807Z"
   },
   {
    "duration": 33043,
    "start_time": "2021-09-05T10:56:55.817Z"
   },
   {
    "duration": 15,
    "start_time": "2021-09-05T10:57:28.862Z"
   },
   {
    "duration": 5,
    "start_time": "2021-09-05T10:57:28.879Z"
   },
   {
    "duration": 15,
    "start_time": "2021-09-05T10:57:28.888Z"
   },
   {
    "duration": 4,
    "start_time": "2021-09-05T10:57:28.905Z"
   },
   {
    "duration": 5,
    "start_time": "2021-09-05T10:57:28.911Z"
   },
   {
    "duration": 5,
    "start_time": "2021-09-05T10:57:28.917Z"
   },
   {
    "duration": 9,
    "start_time": "2021-09-05T10:57:28.924Z"
   },
   {
    "duration": 50,
    "start_time": "2021-09-05T10:57:28.935Z"
   },
   {
    "duration": 14,
    "start_time": "2021-09-05T10:57:28.988Z"
   },
   {
    "duration": 7,
    "start_time": "2021-09-05T10:57:29.004Z"
   },
   {
    "duration": 12,
    "start_time": "2021-09-05T10:57:29.014Z"
   },
   {
    "duration": 9,
    "start_time": "2021-09-05T10:57:29.028Z"
   },
   {
    "duration": 48,
    "start_time": "2021-09-05T10:57:29.039Z"
   },
   {
    "duration": 12,
    "start_time": "2021-09-05T10:57:29.090Z"
   },
   {
    "duration": 11,
    "start_time": "2021-09-05T10:57:29.104Z"
   },
   {
    "duration": 7,
    "start_time": "2021-09-05T10:57:29.117Z"
   },
   {
    "duration": 15,
    "start_time": "2021-09-05T10:57:33.204Z"
   },
   {
    "duration": 341,
    "start_time": "2021-09-05T10:57:33.653Z"
   },
   {
    "duration": 14,
    "start_time": "2021-09-05T10:58:00.033Z"
   },
   {
    "duration": 7,
    "start_time": "2021-09-05T10:58:01.356Z"
   },
   {
    "duration": 465,
    "start_time": "2021-09-05T10:58:05.222Z"
   },
   {
    "duration": 17,
    "start_time": "2021-09-05T10:58:11.691Z"
   },
   {
    "duration": 20,
    "start_time": "2021-09-05T10:58:15.230Z"
   },
   {
    "duration": 20,
    "start_time": "2021-09-05T10:58:18.078Z"
   },
   {
    "duration": 5,
    "start_time": "2021-09-05T10:58:18.588Z"
   },
   {
    "duration": 546,
    "start_time": "2021-09-05T10:58:19.541Z"
   },
   {
    "duration": 19,
    "start_time": "2021-09-05T11:00:00.219Z"
   },
   {
    "duration": 14,
    "start_time": "2021-09-05T11:02:29.814Z"
   },
   {
    "duration": 17,
    "start_time": "2021-09-05T11:02:37.774Z"
   },
   {
    "duration": 15,
    "start_time": "2021-09-05T11:05:16.897Z"
   },
   {
    "duration": 13,
    "start_time": "2021-09-05T11:05:55.962Z"
   },
   {
    "duration": 3,
    "start_time": "2021-09-05T11:06:13.166Z"
   },
   {
    "duration": 445,
    "start_time": "2021-09-05T11:06:16.301Z"
   },
   {
    "duration": 5,
    "start_time": "2021-09-05T11:06:55.582Z"
   },
   {
    "duration": 439,
    "start_time": "2021-09-05T11:06:56.685Z"
   },
   {
    "duration": 7,
    "start_time": "2021-09-05T11:07:45.173Z"
   },
   {
    "duration": 125,
    "start_time": "2021-09-05T11:09:40.281Z"
   },
   {
    "duration": 6,
    "start_time": "2021-09-05T11:16:43.331Z"
   },
   {
    "duration": 9,
    "start_time": "2021-09-05T11:16:44.404Z"
   },
   {
    "duration": 269,
    "start_time": "2021-09-05T11:16:49.244Z"
   },
   {
    "duration": 128,
    "start_time": "2021-09-05T11:18:02.818Z"
   },
   {
    "duration": 193,
    "start_time": "2021-09-05T11:22:43.622Z"
   },
   {
    "duration": 300,
    "start_time": "2021-09-05T11:23:57.160Z"
   },
   {
    "duration": 576,
    "start_time": "2021-09-05T11:24:52.513Z"
   },
   {
    "duration": 191,
    "start_time": "2021-09-05T11:25:09.514Z"
   },
   {
    "duration": 602,
    "start_time": "2021-09-05T11:26:24.348Z"
   },
   {
    "duration": 187,
    "start_time": "2021-09-05T11:26:56.550Z"
   },
   {
    "duration": 198,
    "start_time": "2021-09-05T11:28:04.524Z"
   },
   {
    "duration": 217,
    "start_time": "2021-09-05T11:28:46.918Z"
   },
   {
    "duration": 7,
    "start_time": "2021-09-05T11:29:05.903Z"
   },
   {
    "duration": 11,
    "start_time": "2021-09-05T11:29:07.065Z"
   },
   {
    "duration": 312,
    "start_time": "2021-09-05T11:29:10.747Z"
   },
   {
    "duration": 347,
    "start_time": "2021-09-05T11:29:28.824Z"
   },
   {
    "duration": 6,
    "start_time": "2021-09-05T11:30:58.267Z"
   },
   {
    "duration": 6,
    "start_time": "2021-09-05T11:31:05.778Z"
   },
   {
    "duration": 450,
    "start_time": "2021-09-05T11:31:34.780Z"
   },
   {
    "duration": 323,
    "start_time": "2021-09-05T11:32:06.125Z"
   },
   {
    "duration": 5,
    "start_time": "2021-09-05T11:32:16.443Z"
   },
   {
    "duration": 361,
    "start_time": "2021-09-05T11:32:55.552Z"
   },
   {
    "duration": 7,
    "start_time": "2021-09-05T11:34:28.599Z"
   },
   {
    "duration": 2805,
    "start_time": "2021-09-05T11:35:20.938Z"
   },
   {
    "duration": 124,
    "start_time": "2021-09-05T11:39:33.592Z"
   },
   {
    "duration": 15,
    "start_time": "2021-09-05T11:42:54.014Z"
   },
   {
    "duration": 322,
    "start_time": "2021-09-05T11:43:45.039Z"
   },
   {
    "duration": 320,
    "start_time": "2021-09-05T11:44:07.988Z"
   },
   {
    "duration": 7,
    "start_time": "2021-09-05T11:53:42.701Z"
   },
   {
    "duration": 6,
    "start_time": "2021-09-05T11:54:15.373Z"
   },
   {
    "duration": 888,
    "start_time": "2021-09-05T11:54:22.937Z"
   },
   {
    "duration": 6,
    "start_time": "2021-09-05T11:56:12.833Z"
   },
   {
    "duration": 518,
    "start_time": "2021-09-05T11:56:15.137Z"
   },
   {
    "duration": 6,
    "start_time": "2021-09-05T12:03:17.184Z"
   },
   {
    "duration": 517,
    "start_time": "2021-09-05T12:03:37.590Z"
   },
   {
    "duration": 6,
    "start_time": "2021-09-05T12:03:53.175Z"
   },
   {
    "duration": 533,
    "start_time": "2021-09-05T12:04:11.977Z"
   },
   {
    "duration": 6,
    "start_time": "2021-09-05T12:04:39.280Z"
   },
   {
    "duration": 504,
    "start_time": "2021-09-05T12:04:41.621Z"
   },
   {
    "duration": 7,
    "start_time": "2021-09-05T12:04:49.446Z"
   },
   {
    "duration": 523,
    "start_time": "2021-09-05T12:04:50.551Z"
   },
   {
    "duration": 677,
    "start_time": "2021-09-05T12:05:47.321Z"
   },
   {
    "duration": 554,
    "start_time": "2021-09-05T12:06:26.373Z"
   },
   {
    "duration": 312,
    "start_time": "2021-09-05T12:06:50.555Z"
   },
   {
    "duration": 540,
    "start_time": "2021-09-05T12:09:18.939Z"
   },
   {
    "duration": 9,
    "start_time": "2021-09-05T13:25:36.845Z"
   },
   {
    "duration": 7,
    "start_time": "2021-09-05T13:25:54.364Z"
   },
   {
    "duration": 11,
    "start_time": "2021-09-05T13:28:08.216Z"
   },
   {
    "duration": 10,
    "start_time": "2021-09-05T13:28:47.272Z"
   },
   {
    "duration": 11,
    "start_time": "2021-09-05T14:58:35.516Z"
   },
   {
    "duration": 33,
    "start_time": "2021-09-05T15:03:50.412Z"
   },
   {
    "duration": 164,
    "start_time": "2021-09-05T15:22:15.785Z"
   },
   {
    "duration": 12,
    "start_time": "2021-09-05T15:24:26.236Z"
   },
   {
    "duration": 9,
    "start_time": "2021-09-05T15:25:41.776Z"
   },
   {
    "duration": 9,
    "start_time": "2021-09-05T15:25:57.966Z"
   },
   {
    "duration": 353,
    "start_time": "2021-09-05T15:28:00.602Z"
   },
   {
    "duration": 7,
    "start_time": "2021-09-05T15:28:02.873Z"
   },
   {
    "duration": 10,
    "start_time": "2021-09-05T15:28:03.763Z"
   },
   {
    "duration": 16,
    "start_time": "2021-09-05T15:28:27.075Z"
   },
   {
    "duration": 340,
    "start_time": "2021-09-05T15:29:26.165Z"
   },
   {
    "duration": 16,
    "start_time": "2021-09-05T15:29:35.228Z"
   },
   {
    "duration": 3,
    "start_time": "2021-09-05T15:31:12.392Z"
   },
   {
    "duration": 42,
    "start_time": "2021-09-05T15:31:12.397Z"
   },
   {
    "duration": 14,
    "start_time": "2021-09-05T15:31:12.441Z"
   },
   {
    "duration": 12,
    "start_time": "2021-09-05T15:31:12.458Z"
   },
   {
    "duration": 9,
    "start_time": "2021-09-05T15:31:12.476Z"
   },
   {
    "duration": 9,
    "start_time": "2021-09-05T15:31:12.487Z"
   },
   {
    "duration": 9,
    "start_time": "2021-09-05T15:31:12.499Z"
   },
   {
    "duration": 26,
    "start_time": "2021-09-05T15:31:12.511Z"
   },
   {
    "duration": 39,
    "start_time": "2021-09-05T15:31:12.539Z"
   },
   {
    "duration": 9,
    "start_time": "2021-09-05T15:31:12.580Z"
   },
   {
    "duration": 10,
    "start_time": "2021-09-05T15:31:12.591Z"
   },
   {
    "duration": 4,
    "start_time": "2021-09-05T15:31:12.603Z"
   },
   {
    "duration": 20,
    "start_time": "2021-09-05T15:31:12.609Z"
   },
   {
    "duration": 7,
    "start_time": "2021-09-05T15:31:12.631Z"
   },
   {
    "duration": 4,
    "start_time": "2021-09-05T15:31:12.678Z"
   },
   {
    "duration": 28508,
    "start_time": "2021-09-05T15:31:12.685Z"
   },
   {
    "duration": 8,
    "start_time": "2021-09-05T15:31:41.195Z"
   },
   {
    "duration": 6,
    "start_time": "2021-09-05T15:31:41.205Z"
   },
   {
    "duration": 9,
    "start_time": "2021-09-05T15:31:41.213Z"
   },
   {
    "duration": 3,
    "start_time": "2021-09-05T15:31:41.224Z"
   },
   {
    "duration": 6,
    "start_time": "2021-09-05T15:31:41.229Z"
   },
   {
    "duration": 6,
    "start_time": "2021-09-05T15:31:41.236Z"
   },
   {
    "duration": 35,
    "start_time": "2021-09-05T15:31:41.243Z"
   },
   {
    "duration": 10,
    "start_time": "2021-09-05T15:31:41.280Z"
   },
   {
    "duration": 11,
    "start_time": "2021-09-05T15:31:41.292Z"
   },
   {
    "duration": 9,
    "start_time": "2021-09-05T15:31:41.305Z"
   },
   {
    "duration": 11,
    "start_time": "2021-09-05T15:31:41.316Z"
   },
   {
    "duration": 8,
    "start_time": "2021-09-05T15:31:41.329Z"
   },
   {
    "duration": 41,
    "start_time": "2021-09-05T15:31:41.338Z"
   },
   {
    "duration": 9,
    "start_time": "2021-09-05T15:31:41.381Z"
   },
   {
    "duration": 8,
    "start_time": "2021-09-05T15:31:41.392Z"
   },
   {
    "duration": 6,
    "start_time": "2021-09-05T15:31:41.401Z"
   },
   {
    "duration": 12,
    "start_time": "2021-09-05T15:31:41.409Z"
   },
   {
    "duration": 11,
    "start_time": "2021-09-05T15:31:55.304Z"
   },
   {
    "duration": 39,
    "start_time": "2021-09-05T15:31:56.072Z"
   },
   {
    "duration": 16,
    "start_time": "2021-09-05T15:31:59.295Z"
   },
   {
    "duration": 5,
    "start_time": "2021-09-05T15:32:56.306Z"
   },
   {
    "duration": 39,
    "start_time": "2021-09-05T15:33:19.444Z"
   },
   {
    "duration": 11,
    "start_time": "2021-09-05T15:33:27.301Z"
   },
   {
    "duration": 17,
    "start_time": "2021-09-05T15:33:28.098Z"
   },
   {
    "duration": 5,
    "start_time": "2021-09-05T15:33:36.154Z"
   },
   {
    "duration": 10,
    "start_time": "2021-09-05T15:33:38.528Z"
   },
   {
    "duration": 272,
    "start_time": "2021-09-05T15:33:39.481Z"
   },
   {
    "duration": 11,
    "start_time": "2021-09-05T15:33:46.097Z"
   },
   {
    "duration": 7,
    "start_time": "2021-09-05T15:33:47.713Z"
   },
   {
    "duration": 389,
    "start_time": "2021-09-05T15:33:49.627Z"
   },
   {
    "duration": 10,
    "start_time": "2021-09-05T15:35:14.102Z"
   },
   {
    "duration": 7,
    "start_time": "2021-09-05T15:35:15.884Z"
   },
   {
    "duration": 383,
    "start_time": "2021-09-05T15:35:25.384Z"
   },
   {
    "duration": 15,
    "start_time": "2021-09-05T15:36:07.271Z"
   },
   {
    "duration": 17,
    "start_time": "2021-09-05T15:36:10.961Z"
   },
   {
    "duration": 13,
    "start_time": "2021-09-05T15:36:12.719Z"
   },
   {
    "duration": 3,
    "start_time": "2021-09-05T15:36:13.920Z"
   },
   {
    "duration": 401,
    "start_time": "2021-09-05T15:36:16.241Z"
   },
   {
    "duration": 7,
    "start_time": "2021-09-05T15:36:21.944Z"
   },
   {
    "duration": 8,
    "start_time": "2021-09-05T15:36:26.439Z"
   },
   {
    "duration": 11,
    "start_time": "2021-09-05T15:36:27.191Z"
   },
   {
    "duration": 317,
    "start_time": "2021-09-05T15:36:30.766Z"
   },
   {
    "duration": 7,
    "start_time": "2021-09-05T15:36:40.885Z"
   },
   {
    "duration": 8,
    "start_time": "2021-09-05T15:36:41.731Z"
   },
   {
    "duration": 355,
    "start_time": "2021-09-05T15:36:46.655Z"
   },
   {
    "duration": 5,
    "start_time": "2021-09-05T15:38:14.951Z"
   },
   {
    "duration": 39,
    "start_time": "2021-09-05T15:38:14.966Z"
   },
   {
    "duration": 14,
    "start_time": "2021-09-05T15:38:15.008Z"
   },
   {
    "duration": 14,
    "start_time": "2021-09-05T15:38:15.024Z"
   },
   {
    "duration": 38,
    "start_time": "2021-09-05T15:38:15.040Z"
   },
   {
    "duration": 8,
    "start_time": "2021-09-05T15:38:15.079Z"
   },
   {
    "duration": 9,
    "start_time": "2021-09-05T15:38:15.088Z"
   },
   {
    "duration": 18,
    "start_time": "2021-09-05T15:38:15.099Z"
   },
   {
    "duration": 5,
    "start_time": "2021-09-05T15:38:15.119Z"
   },
   {
    "duration": 8,
    "start_time": "2021-09-05T15:38:15.127Z"
   },
   {
    "duration": 47,
    "start_time": "2021-09-05T15:38:15.137Z"
   },
   {
    "duration": 4,
    "start_time": "2021-09-05T15:38:15.186Z"
   },
   {
    "duration": 20,
    "start_time": "2021-09-05T15:38:15.191Z"
   },
   {
    "duration": 9,
    "start_time": "2021-09-05T15:38:15.213Z"
   },
   {
    "duration": 4,
    "start_time": "2021-09-05T15:38:15.224Z"
   },
   {
    "duration": 28782,
    "start_time": "2021-09-05T15:38:15.230Z"
   },
   {
    "duration": 8,
    "start_time": "2021-09-05T15:38:44.014Z"
   },
   {
    "duration": 7,
    "start_time": "2021-09-05T15:38:44.024Z"
   },
   {
    "duration": 7,
    "start_time": "2021-09-05T15:38:44.033Z"
   },
   {
    "duration": 3,
    "start_time": "2021-09-05T15:38:44.042Z"
   },
   {
    "duration": 4,
    "start_time": "2021-09-05T15:38:44.047Z"
   },
   {
    "duration": 5,
    "start_time": "2021-09-05T15:38:44.076Z"
   },
   {
    "duration": 10,
    "start_time": "2021-09-05T15:38:44.083Z"
   },
   {
    "duration": 10,
    "start_time": "2021-09-05T15:38:44.096Z"
   },
   {
    "duration": 7,
    "start_time": "2021-09-05T15:38:44.108Z"
   },
   {
    "duration": 7,
    "start_time": "2021-09-05T15:38:44.116Z"
   },
   {
    "duration": 11,
    "start_time": "2021-09-05T15:38:44.124Z"
   },
   {
    "duration": 7,
    "start_time": "2021-09-05T15:38:44.137Z"
   },
   {
    "duration": 10,
    "start_time": "2021-09-05T15:38:44.177Z"
   },
   {
    "duration": 8,
    "start_time": "2021-09-05T15:38:44.189Z"
   },
   {
    "duration": 8,
    "start_time": "2021-09-05T15:38:44.199Z"
   },
   {
    "duration": 6,
    "start_time": "2021-09-05T15:38:44.209Z"
   },
   {
    "duration": 5,
    "start_time": "2021-09-05T15:38:51.406Z"
   },
   {
    "duration": 12,
    "start_time": "2021-09-05T15:38:52.961Z"
   },
   {
    "duration": 378,
    "start_time": "2021-09-05T15:38:53.263Z"
   },
   {
    "duration": 11,
    "start_time": "2021-09-05T15:38:57.124Z"
   },
   {
    "duration": 7,
    "start_time": "2021-09-05T15:38:58.425Z"
   },
   {
    "duration": 392,
    "start_time": "2021-09-05T15:39:00.099Z"
   },
   {
    "duration": 14,
    "start_time": "2021-09-05T15:39:03.012Z"
   },
   {
    "duration": 16,
    "start_time": "2021-09-05T15:39:04.593Z"
   },
   {
    "duration": 12,
    "start_time": "2021-09-05T15:39:05.849Z"
   },
   {
    "duration": 3,
    "start_time": "2021-09-05T15:39:06.514Z"
   },
   {
    "duration": 393,
    "start_time": "2021-09-05T15:39:07.395Z"
   },
   {
    "duration": 6,
    "start_time": "2021-09-05T15:39:08.634Z"
   },
   {
    "duration": 6,
    "start_time": "2021-09-05T15:39:12.042Z"
   },
   {
    "duration": 7,
    "start_time": "2021-09-05T15:39:12.731Z"
   },
   {
    "duration": 170,
    "start_time": "2021-09-05T15:39:14.187Z"
   },
   {
    "duration": 6,
    "start_time": "2021-09-05T15:39:16.939Z"
   },
   {
    "duration": 7,
    "start_time": "2021-09-05T15:39:17.612Z"
   },
   {
    "duration": 257,
    "start_time": "2021-09-05T15:39:19.035Z"
   },
   {
    "duration": 6,
    "start_time": "2021-09-05T15:39:22.089Z"
   },
   {
    "duration": 5,
    "start_time": "2021-09-05T15:39:24.656Z"
   },
   {
    "duration": 317,
    "start_time": "2021-09-05T15:39:26.066Z"
   },
   {
    "duration": 5,
    "start_time": "2021-09-05T15:39:28.211Z"
   },
   {
    "duration": 330,
    "start_time": "2021-09-05T15:39:28.875Z"
   },
   {
    "duration": 6,
    "start_time": "2021-09-05T15:39:30.204Z"
   },
   {
    "duration": 2405,
    "start_time": "2021-09-05T15:39:30.487Z"
   },
   {
    "duration": 14,
    "start_time": "2021-09-05T15:39:32.894Z"
   },
   {
    "duration": 296,
    "start_time": "2021-09-05T15:39:32.910Z"
   },
   {
    "duration": 5,
    "start_time": "2021-09-05T15:39:48.069Z"
   },
   {
    "duration": 564,
    "start_time": "2021-09-05T15:39:51.675Z"
   },
   {
    "duration": 6,
    "start_time": "2021-09-05T15:39:53.873Z"
   },
   {
    "duration": 466,
    "start_time": "2021-09-05T15:39:54.357Z"
   },
   {
    "duration": 726,
    "start_time": "2021-09-05T15:39:58.023Z"
   },
   {
    "duration": 510,
    "start_time": "2021-09-05T15:40:07.876Z"
   },
   {
    "duration": 477,
    "start_time": "2021-09-05T15:42:44.673Z"
   },
   {
    "duration": 346,
    "start_time": "2021-09-05T15:45:35.687Z"
   },
   {
    "duration": 5,
    "start_time": "2021-09-05T15:45:44.023Z"
   },
   {
    "duration": 10,
    "start_time": "2021-09-05T15:46:01.474Z"
   },
   {
    "duration": 10,
    "start_time": "2021-09-05T15:46:30.328Z"
   },
   {
    "duration": 3,
    "start_time": "2021-09-05T15:46:46.632Z"
   },
   {
    "duration": 43,
    "start_time": "2021-09-05T15:46:46.637Z"
   },
   {
    "duration": 12,
    "start_time": "2021-09-05T15:46:46.682Z"
   },
   {
    "duration": 11,
    "start_time": "2021-09-05T15:46:46.696Z"
   },
   {
    "duration": 7,
    "start_time": "2021-09-05T15:46:46.709Z"
   },
   {
    "duration": 9,
    "start_time": "2021-09-05T15:46:47.710Z"
   },
   {
    "duration": 11,
    "start_time": "2021-09-05T15:46:47.721Z"
   },
   {
    "duration": 16,
    "start_time": "2021-09-05T15:46:47.734Z"
   },
   {
    "duration": 5,
    "start_time": "2021-09-05T15:46:47.982Z"
   },
   {
    "duration": 9,
    "start_time": "2021-09-05T15:46:47.989Z"
   },
   {
    "duration": 10,
    "start_time": "2021-09-05T15:46:48.000Z"
   },
   {
    "duration": 4,
    "start_time": "2021-09-05T15:46:48.012Z"
   },
   {
    "duration": 19,
    "start_time": "2021-09-05T15:46:48.017Z"
   },
   {
    "duration": 7,
    "start_time": "2021-09-05T15:46:48.038Z"
   },
   {
    "duration": 4,
    "start_time": "2021-09-05T15:46:49.713Z"
   },
   {
    "duration": 26991,
    "start_time": "2021-09-05T15:46:49.718Z"
   },
   {
    "duration": 8,
    "start_time": "2021-09-05T15:47:16.711Z"
   },
   {
    "duration": 4,
    "start_time": "2021-09-05T15:47:16.721Z"
   },
   {
    "duration": 6,
    "start_time": "2021-09-05T15:47:16.727Z"
   },
   {
    "duration": 4,
    "start_time": "2021-09-05T15:47:16.735Z"
   },
   {
    "duration": 5,
    "start_time": "2021-09-05T15:47:16.740Z"
   },
   {
    "duration": 33,
    "start_time": "2021-09-05T15:47:16.746Z"
   },
   {
    "duration": 11,
    "start_time": "2021-09-05T15:47:16.782Z"
   },
   {
    "duration": 12,
    "start_time": "2021-09-05T15:47:16.795Z"
   },
   {
    "duration": 9,
    "start_time": "2021-09-05T15:47:16.809Z"
   },
   {
    "duration": 7,
    "start_time": "2021-09-05T15:47:16.819Z"
   },
   {
    "duration": 14,
    "start_time": "2021-09-05T15:47:16.828Z"
   },
   {
    "duration": 34,
    "start_time": "2021-09-05T15:47:16.844Z"
   },
   {
    "duration": 11,
    "start_time": "2021-09-05T15:47:16.880Z"
   },
   {
    "duration": 9,
    "start_time": "2021-09-05T15:47:16.893Z"
   },
   {
    "duration": 8,
    "start_time": "2021-09-05T15:47:16.904Z"
   },
   {
    "duration": 7,
    "start_time": "2021-09-05T15:47:16.914Z"
   },
   {
    "duration": 4,
    "start_time": "2021-09-05T15:47:47.019Z"
   },
   {
    "duration": 5,
    "start_time": "2021-09-05T15:48:08.168Z"
   },
   {
    "duration": 10,
    "start_time": "2021-09-05T15:48:15.491Z"
   },
   {
    "duration": 265,
    "start_time": "2021-09-05T15:48:16.120Z"
   },
   {
    "duration": 10,
    "start_time": "2021-09-05T15:48:22.626Z"
   },
   {
    "duration": 6,
    "start_time": "2021-09-05T15:48:27.240Z"
   },
   {
    "duration": 583,
    "start_time": "2021-09-05T15:48:30.600Z"
   },
   {
    "duration": 14,
    "start_time": "2021-09-05T15:48:47.889Z"
   },
   {
    "duration": 15,
    "start_time": "2021-09-05T15:48:51.072Z"
   },
   {
    "duration": 12,
    "start_time": "2021-09-05T15:48:52.789Z"
   },
   {
    "duration": 3,
    "start_time": "2021-09-05T15:48:53.433Z"
   },
   {
    "duration": 393,
    "start_time": "2021-09-05T15:48:54.467Z"
   },
   {
    "duration": 6,
    "start_time": "2021-09-05T15:49:05.739Z"
   },
   {
    "duration": 6,
    "start_time": "2021-09-05T15:49:09.241Z"
   },
   {
    "duration": 8,
    "start_time": "2021-09-05T15:49:09.985Z"
   },
   {
    "duration": 173,
    "start_time": "2021-09-05T15:49:17.665Z"
   },
   {
    "duration": 6,
    "start_time": "2021-09-05T15:49:35.062Z"
   },
   {
    "duration": 173,
    "start_time": "2021-09-05T15:49:57.554Z"
   },
   {
    "duration": 6,
    "start_time": "2021-09-05T15:50:03.781Z"
   },
   {
    "duration": 8,
    "start_time": "2021-09-05T15:50:04.869Z"
   },
   {
    "duration": 262,
    "start_time": "2021-09-05T15:50:06.981Z"
   },
   {
    "duration": 6,
    "start_time": "2021-09-05T15:50:13.355Z"
   },
   {
    "duration": 5,
    "start_time": "2021-09-05T15:50:15.139Z"
   },
   {
    "duration": 356,
    "start_time": "2021-09-05T15:50:17.147Z"
   },
   {
    "duration": 5,
    "start_time": "2021-09-05T15:50:20.012Z"
   },
   {
    "duration": 318,
    "start_time": "2021-09-05T15:50:28.988Z"
   },
   {
    "duration": 6,
    "start_time": "2021-09-05T15:50:48.438Z"
   },
   {
    "duration": 2224,
    "start_time": "2021-09-05T15:50:49.925Z"
   },
   {
    "duration": 16,
    "start_time": "2021-09-05T15:51:20.501Z"
   },
   {
    "duration": 280,
    "start_time": "2021-09-05T15:51:22.296Z"
   },
   {
    "duration": 5,
    "start_time": "2021-09-05T15:51:36.024Z"
   },
   {
    "duration": 473,
    "start_time": "2021-09-05T15:51:40.471Z"
   },
   {
    "duration": 6,
    "start_time": "2021-09-05T15:51:50.726Z"
   },
   {
    "duration": 638,
    "start_time": "2021-09-05T15:51:52.078Z"
   },
   {
    "duration": 481,
    "start_time": "2021-09-05T15:52:04.334Z"
   },
   {
    "duration": 563,
    "start_time": "2021-09-05T15:52:33.360Z"
   },
   {
    "duration": 494,
    "start_time": "2021-09-05T15:53:14.091Z"
   },
   {
    "duration": 346,
    "start_time": "2021-09-05T16:02:24.637Z"
   },
   {
    "duration": 1440,
    "start_time": "2021-09-05T16:02:37.718Z"
   },
   {
    "duration": 15,
    "start_time": "2021-09-05T16:03:01.139Z"
   },
   {
    "duration": 16,
    "start_time": "2021-09-05T16:05:34.106Z"
   },
   {
    "duration": 14,
    "start_time": "2021-09-05T16:05:48.847Z"
   },
   {
    "duration": 523,
    "start_time": "2021-09-05T16:08:02.633Z"
   },
   {
    "duration": 524,
    "start_time": "2021-09-05T16:08:43.891Z"
   },
   {
    "duration": 3,
    "start_time": "2021-09-05T16:11:01.731Z"
   },
   {
    "duration": 6,
    "start_time": "2021-09-05T16:11:02.456Z"
   },
   {
    "duration": 6,
    "start_time": "2021-09-05T16:11:03.118Z"
   },
   {
    "duration": 6,
    "start_time": "2021-09-05T16:11:03.887Z"
   },
   {
    "duration": 4,
    "start_time": "2021-09-05T16:11:07.517Z"
   },
   {
    "duration": 5,
    "start_time": "2021-09-05T16:11:08.773Z"
   },
   {
    "duration": 3,
    "start_time": "2021-09-05T16:11:40.014Z"
   },
   {
    "duration": 13,
    "start_time": "2021-09-05T16:11:40.695Z"
   },
   {
    "duration": 7,
    "start_time": "2021-09-05T16:11:41.422Z"
   },
   {
    "duration": 5,
    "start_time": "2021-09-05T16:11:42.895Z"
   },
   {
    "duration": 4,
    "start_time": "2021-09-05T16:11:46.094Z"
   },
   {
    "duration": 4,
    "start_time": "2021-09-05T16:11:47.271Z"
   },
   {
    "duration": 142,
    "start_time": "2021-09-05T16:18:24.674Z"
   },
   {
    "duration": 345,
    "start_time": "2021-09-05T16:18:38.603Z"
   },
   {
    "duration": 16,
    "start_time": "2021-09-05T16:19:18.286Z"
   },
   {
    "duration": 1071,
    "start_time": "2021-09-06T03:17:21.788Z"
   },
   {
    "duration": 38,
    "start_time": "2021-09-06T03:17:22.860Z"
   },
   {
    "duration": 14,
    "start_time": "2021-09-06T03:17:22.900Z"
   },
   {
    "duration": 12,
    "start_time": "2021-09-06T03:17:22.916Z"
   },
   {
    "duration": 11,
    "start_time": "2021-09-06T03:17:22.930Z"
   },
   {
    "duration": 6,
    "start_time": "2021-09-06T03:17:22.942Z"
   },
   {
    "duration": 8,
    "start_time": "2021-09-06T03:17:22.950Z"
   },
   {
    "duration": 16,
    "start_time": "2021-09-06T03:17:22.960Z"
   },
   {
    "duration": 4,
    "start_time": "2021-09-06T03:17:22.977Z"
   },
   {
    "duration": 9,
    "start_time": "2021-09-06T03:17:22.983Z"
   },
   {
    "duration": 9,
    "start_time": "2021-09-06T03:17:22.993Z"
   },
   {
    "duration": 40,
    "start_time": "2021-09-06T03:17:23.003Z"
   },
   {
    "duration": 17,
    "start_time": "2021-09-06T03:17:23.044Z"
   },
   {
    "duration": 7,
    "start_time": "2021-09-06T03:17:23.063Z"
   },
   {
    "duration": 6,
    "start_time": "2021-09-06T03:17:23.071Z"
   },
   {
    "duration": 25327,
    "start_time": "2021-09-06T03:17:23.078Z"
   },
   {
    "duration": 6,
    "start_time": "2021-09-06T03:17:48.407Z"
   },
   {
    "duration": 7,
    "start_time": "2021-09-06T03:17:48.415Z"
   },
   {
    "duration": 19,
    "start_time": "2021-09-06T03:17:48.424Z"
   },
   {
    "duration": 4,
    "start_time": "2021-09-06T03:17:48.445Z"
   },
   {
    "duration": 5,
    "start_time": "2021-09-06T03:17:48.450Z"
   },
   {
    "duration": 5,
    "start_time": "2021-09-06T03:17:48.457Z"
   },
   {
    "duration": 4,
    "start_time": "2021-09-06T03:17:48.466Z"
   },
   {
    "duration": 9,
    "start_time": "2021-09-06T03:17:48.472Z"
   },
   {
    "duration": 9,
    "start_time": "2021-09-06T03:17:48.483Z"
   },
   {
    "duration": 8,
    "start_time": "2021-09-06T03:17:48.493Z"
   },
   {
    "duration": 42,
    "start_time": "2021-09-06T03:17:48.502Z"
   },
   {
    "duration": 7,
    "start_time": "2021-09-06T03:17:48.546Z"
   },
   {
    "duration": 11,
    "start_time": "2021-09-06T03:17:48.555Z"
   },
   {
    "duration": 8,
    "start_time": "2021-09-06T03:17:48.568Z"
   },
   {
    "duration": 7,
    "start_time": "2021-09-06T03:17:48.577Z"
   },
   {
    "duration": 7,
    "start_time": "2021-09-06T03:17:48.586Z"
   },
   {
    "duration": 6,
    "start_time": "2021-09-06T03:17:48.595Z"
   },
   {
    "duration": 44,
    "start_time": "2021-09-06T03:17:48.602Z"
   },
   {
    "duration": 11,
    "start_time": "2021-09-06T03:17:48.647Z"
   },
   {
    "duration": 283,
    "start_time": "2021-09-06T03:17:48.660Z"
   },
   {
    "duration": 10,
    "start_time": "2021-09-06T03:17:48.944Z"
   },
   {
    "duration": 6,
    "start_time": "2021-09-06T03:17:48.955Z"
   },
   {
    "duration": 372,
    "start_time": "2021-09-06T03:17:48.963Z"
   },
   {
    "duration": 13,
    "start_time": "2021-09-06T03:17:49.340Z"
   },
   {
    "duration": 14,
    "start_time": "2021-09-06T03:17:49.354Z"
   },
   {
    "duration": 11,
    "start_time": "2021-09-06T03:17:49.369Z"
   },
   {
    "duration": 3,
    "start_time": "2021-09-06T03:17:49.381Z"
   },
   {
    "duration": 379,
    "start_time": "2021-09-06T03:17:49.385Z"
   },
   {
    "duration": 5,
    "start_time": "2021-09-06T03:17:49.766Z"
   },
   {
    "duration": 9,
    "start_time": "2021-09-06T03:17:49.772Z"
   },
   {
    "duration": 9,
    "start_time": "2021-09-06T03:17:49.782Z"
   },
   {
    "duration": 176,
    "start_time": "2021-09-06T03:17:49.793Z"
   },
   {
    "duration": 5,
    "start_time": "2021-09-06T03:17:49.970Z"
   },
   {
    "duration": 9,
    "start_time": "2021-09-06T03:17:49.977Z"
   },
   {
    "duration": 274,
    "start_time": "2021-09-06T03:17:49.988Z"
   },
   {
    "duration": 5,
    "start_time": "2021-09-06T03:17:50.264Z"
   },
   {
    "duration": 8,
    "start_time": "2021-09-06T03:17:50.270Z"
   },
   {
    "duration": 369,
    "start_time": "2021-09-06T03:17:50.279Z"
   },
   {
    "duration": 4,
    "start_time": "2021-09-06T03:17:50.650Z"
   },
   {
    "duration": 279,
    "start_time": "2021-09-06T03:17:50.655Z"
   },
   {
    "duration": 5,
    "start_time": "2021-09-06T03:17:50.941Z"
   },
   {
    "duration": 2041,
    "start_time": "2021-09-06T03:17:50.948Z"
   },
   {
    "duration": 11,
    "start_time": "2021-09-06T03:17:52.991Z"
   },
   {
    "duration": 265,
    "start_time": "2021-09-06T03:17:53.004Z"
   },
   {
    "duration": 5,
    "start_time": "2021-09-06T03:17:53.271Z"
   },
   {
    "duration": 429,
    "start_time": "2021-09-06T03:17:53.277Z"
   },
   {
    "duration": 5,
    "start_time": "2021-09-06T03:17:53.708Z"
   },
   {
    "duration": 522,
    "start_time": "2021-09-06T03:17:53.714Z"
   },
   {
    "duration": 447,
    "start_time": "2021-09-06T03:17:54.238Z"
   },
   {
    "duration": 472,
    "start_time": "2021-09-06T03:17:54.687Z"
   },
   {
    "duration": 3,
    "start_time": "2021-09-06T03:48:04.739Z"
   },
   {
    "duration": 41,
    "start_time": "2021-09-06T03:48:04.747Z"
   },
   {
    "duration": 12,
    "start_time": "2021-09-06T03:48:04.790Z"
   },
   {
    "duration": 11,
    "start_time": "2021-09-06T03:48:04.804Z"
   },
   {
    "duration": 10,
    "start_time": "2021-09-06T03:48:04.817Z"
   },
   {
    "duration": 7,
    "start_time": "2021-09-06T03:48:04.841Z"
   },
   {
    "duration": 9,
    "start_time": "2021-09-06T03:48:04.850Z"
   },
   {
    "duration": 17,
    "start_time": "2021-09-06T03:48:04.861Z"
   },
   {
    "duration": 6,
    "start_time": "2021-09-06T03:48:04.880Z"
   },
   {
    "duration": 8,
    "start_time": "2021-09-06T03:48:04.889Z"
   },
   {
    "duration": 48,
    "start_time": "2021-09-06T03:48:04.899Z"
   },
   {
    "duration": 6,
    "start_time": "2021-09-06T03:48:04.948Z"
   },
   {
    "duration": 18,
    "start_time": "2021-09-06T03:48:04.956Z"
   },
   {
    "duration": 9,
    "start_time": "2021-09-06T03:48:04.976Z"
   },
   {
    "duration": 18,
    "start_time": "2021-09-06T03:48:04.987Z"
   },
   {
    "duration": 26050,
    "start_time": "2021-09-06T03:48:05.007Z"
   },
   {
    "duration": 7,
    "start_time": "2021-09-06T03:48:31.059Z"
   },
   {
    "duration": 7,
    "start_time": "2021-09-06T03:48:31.068Z"
   },
   {
    "duration": 12,
    "start_time": "2021-09-06T03:48:31.077Z"
   },
   {
    "duration": 7,
    "start_time": "2021-09-06T03:48:31.092Z"
   },
   {
    "duration": 11,
    "start_time": "2021-09-06T03:48:31.101Z"
   },
   {
    "duration": 13,
    "start_time": "2021-09-06T03:48:31.114Z"
   },
   {
    "duration": 14,
    "start_time": "2021-09-06T03:48:31.129Z"
   },
   {
    "duration": 18,
    "start_time": "2021-09-06T03:48:31.145Z"
   },
   {
    "duration": 10,
    "start_time": "2021-09-06T03:48:31.165Z"
   },
   {
    "duration": 16,
    "start_time": "2021-09-06T03:48:31.176Z"
   },
   {
    "duration": 29,
    "start_time": "2021-09-06T03:48:31.193Z"
   },
   {
    "duration": 7,
    "start_time": "2021-09-06T03:48:31.224Z"
   },
   {
    "duration": 14,
    "start_time": "2021-09-06T03:48:31.232Z"
   },
   {
    "duration": 13,
    "start_time": "2021-09-06T03:48:31.247Z"
   },
   {
    "duration": 10,
    "start_time": "2021-09-06T03:48:31.261Z"
   },
   {
    "duration": 7,
    "start_time": "2021-09-06T03:48:31.272Z"
   },
   {
    "duration": 14,
    "start_time": "2021-09-06T03:48:31.280Z"
   },
   {
    "duration": 10,
    "start_time": "2021-09-06T03:48:31.296Z"
   },
   {
    "duration": 20,
    "start_time": "2021-09-06T03:48:31.308Z"
   },
   {
    "duration": 282,
    "start_time": "2021-09-06T03:48:31.330Z"
   },
   {
    "duration": 10,
    "start_time": "2021-09-06T03:48:31.613Z"
   },
   {
    "duration": 22,
    "start_time": "2021-09-06T03:48:31.624Z"
   },
   {
    "duration": 359,
    "start_time": "2021-09-06T03:48:31.647Z"
   },
   {
    "duration": 12,
    "start_time": "2021-09-06T03:48:32.008Z"
   },
   {
    "duration": 27,
    "start_time": "2021-09-06T03:48:32.022Z"
   },
   {
    "duration": 10,
    "start_time": "2021-09-06T03:48:32.051Z"
   },
   {
    "duration": 8,
    "start_time": "2021-09-06T03:48:32.063Z"
   },
   {
    "duration": 363,
    "start_time": "2021-09-06T03:48:32.072Z"
   },
   {
    "duration": 7,
    "start_time": "2021-09-06T03:48:32.440Z"
   },
   {
    "duration": 16,
    "start_time": "2021-09-06T03:48:32.448Z"
   },
   {
    "duration": 12,
    "start_time": "2021-09-06T03:48:32.466Z"
   },
   {
    "duration": 166,
    "start_time": "2021-09-06T03:48:32.479Z"
   },
   {
    "duration": 5,
    "start_time": "2021-09-06T03:48:32.647Z"
   },
   {
    "duration": 29,
    "start_time": "2021-09-06T03:48:32.653Z"
   },
   {
    "duration": 246,
    "start_time": "2021-09-06T03:48:32.686Z"
   },
   {
    "duration": 5,
    "start_time": "2021-09-06T03:48:32.935Z"
   },
   {
    "duration": 15,
    "start_time": "2021-09-06T03:48:32.943Z"
   },
   {
    "duration": 388,
    "start_time": "2021-09-06T03:48:32.960Z"
   },
   {
    "duration": 4,
    "start_time": "2021-09-06T03:48:33.350Z"
   },
   {
    "duration": 288,
    "start_time": "2021-09-06T03:48:33.356Z"
   },
   {
    "duration": 5,
    "start_time": "2021-09-06T03:48:33.646Z"
   },
   {
    "duration": 2040,
    "start_time": "2021-09-06T03:48:33.653Z"
   },
   {
    "duration": 12,
    "start_time": "2021-09-06T03:48:35.695Z"
   },
   {
    "duration": 262,
    "start_time": "2021-09-06T03:48:35.709Z"
   },
   {
    "duration": 5,
    "start_time": "2021-09-06T03:48:35.973Z"
   },
   {
    "duration": 435,
    "start_time": "2021-09-06T03:48:35.979Z"
   },
   {
    "duration": 6,
    "start_time": "2021-09-06T03:48:36.416Z"
   },
   {
    "duration": 538,
    "start_time": "2021-09-06T03:48:36.424Z"
   },
   {
    "duration": 452,
    "start_time": "2021-09-06T03:48:36.963Z"
   },
   {
    "duration": 469,
    "start_time": "2021-09-06T03:48:37.416Z"
   },
   {
    "duration": 429,
    "start_time": "2021-09-06T03:48:50.904Z"
   },
   {
    "duration": 417,
    "start_time": "2021-09-06T03:51:03.292Z"
   },
   {
    "duration": 1248,
    "start_time": "2023-01-30T06:05:16.784Z"
   },
   {
    "duration": 91,
    "start_time": "2023-01-30T06:05:18.034Z"
   },
   {
    "duration": 16,
    "start_time": "2023-01-30T06:05:18.127Z"
   },
   {
    "duration": 12,
    "start_time": "2023-01-30T06:05:18.145Z"
   },
   {
    "duration": 8,
    "start_time": "2023-01-30T06:05:18.159Z"
   },
   {
    "duration": 19,
    "start_time": "2023-01-30T06:05:18.168Z"
   },
   {
    "duration": 23,
    "start_time": "2023-01-30T06:05:18.188Z"
   },
   {
    "duration": 27,
    "start_time": "2023-01-30T06:05:18.213Z"
   },
   {
    "duration": 4,
    "start_time": "2023-01-30T06:05:18.242Z"
   },
   {
    "duration": 14,
    "start_time": "2023-01-30T06:05:18.248Z"
   },
   {
    "duration": 16,
    "start_time": "2023-01-30T06:05:18.263Z"
   },
   {
    "duration": 3,
    "start_time": "2023-01-30T06:05:18.281Z"
   },
   {
    "duration": 24,
    "start_time": "2023-01-30T06:05:18.285Z"
   },
   {
    "duration": 6,
    "start_time": "2023-01-30T06:05:18.311Z"
   },
   {
    "duration": 7,
    "start_time": "2023-01-30T06:05:18.319Z"
   },
   {
    "duration": 18094,
    "start_time": "2023-01-30T06:05:18.328Z"
   },
   {
    "duration": 7,
    "start_time": "2023-01-30T06:05:36.424Z"
   },
   {
    "duration": 20,
    "start_time": "2023-01-30T06:05:36.433Z"
   },
   {
    "duration": 26,
    "start_time": "2023-01-30T06:05:36.455Z"
   },
   {
    "duration": 14,
    "start_time": "2023-01-30T06:05:36.483Z"
   },
   {
    "duration": 35,
    "start_time": "2023-01-30T06:05:36.499Z"
   },
   {
    "duration": 30,
    "start_time": "2023-01-30T06:05:36.536Z"
   },
   {
    "duration": 16,
    "start_time": "2023-01-30T06:05:36.567Z"
   },
   {
    "duration": 20,
    "start_time": "2023-01-30T06:05:36.584Z"
   },
   {
    "duration": 6,
    "start_time": "2023-01-30T06:05:36.605Z"
   },
   {
    "duration": 26,
    "start_time": "2023-01-30T06:05:36.612Z"
   },
   {
    "duration": 25,
    "start_time": "2023-01-30T06:05:36.639Z"
   },
   {
    "duration": 11,
    "start_time": "2023-01-30T06:05:36.668Z"
   },
   {
    "duration": 25,
    "start_time": "2023-01-30T06:05:36.680Z"
   },
   {
    "duration": 30,
    "start_time": "2023-01-30T06:05:36.706Z"
   },
   {
    "duration": 17,
    "start_time": "2023-01-30T06:05:36.737Z"
   },
   {
    "duration": 14,
    "start_time": "2023-01-30T06:05:36.756Z"
   },
   {
    "duration": 10,
    "start_time": "2023-01-30T06:05:36.772Z"
   },
   {
    "duration": 22,
    "start_time": "2023-01-30T06:05:36.784Z"
   },
   {
    "duration": 30,
    "start_time": "2023-01-30T06:05:36.807Z"
   },
   {
    "duration": 184,
    "start_time": "2023-01-30T06:05:36.838Z"
   },
   {
    "duration": 10,
    "start_time": "2023-01-30T06:05:37.023Z"
   },
   {
    "duration": 30,
    "start_time": "2023-01-30T06:05:37.034Z"
   },
   {
    "duration": 302,
    "start_time": "2023-01-30T06:05:37.065Z"
   },
   {
    "duration": 24,
    "start_time": "2023-01-30T06:05:37.368Z"
   },
   {
    "duration": 13,
    "start_time": "2023-01-30T06:05:37.394Z"
   },
   {
    "duration": 26,
    "start_time": "2023-01-30T06:05:37.409Z"
   },
   {
    "duration": 15,
    "start_time": "2023-01-30T06:05:37.437Z"
   },
   {
    "duration": 288,
    "start_time": "2023-01-30T06:05:37.453Z"
   },
   {
    "duration": 5,
    "start_time": "2023-01-30T06:05:37.742Z"
   },
   {
    "duration": 15,
    "start_time": "2023-01-30T06:05:37.748Z"
   },
   {
    "duration": 24,
    "start_time": "2023-01-30T06:05:37.765Z"
   },
   {
    "duration": 132,
    "start_time": "2023-01-30T06:05:37.790Z"
   },
   {
    "duration": 5,
    "start_time": "2023-01-30T06:05:37.924Z"
   },
   {
    "duration": 33,
    "start_time": "2023-01-30T06:05:37.931Z"
   },
   {
    "duration": 198,
    "start_time": "2023-01-30T06:05:37.965Z"
   },
   {
    "duration": 5,
    "start_time": "2023-01-30T06:05:38.164Z"
   },
   {
    "duration": 14,
    "start_time": "2023-01-30T06:05:38.170Z"
   },
   {
    "duration": 158,
    "start_time": "2023-01-30T06:05:38.186Z"
   },
   {
    "duration": 4,
    "start_time": "2023-01-30T06:05:38.345Z"
   },
   {
    "duration": 146,
    "start_time": "2023-01-30T06:05:38.350Z"
   },
   {
    "duration": 74,
    "start_time": "2023-01-30T06:05:38.498Z"
   },
   {
    "duration": 1042,
    "start_time": "2023-01-30T06:05:38.574Z"
   },
   {
    "duration": 13,
    "start_time": "2023-01-30T06:05:39.618Z"
   },
   {
    "duration": 196,
    "start_time": "2023-01-30T06:05:39.632Z"
   },
   {
    "duration": 4,
    "start_time": "2023-01-30T06:05:39.830Z"
   },
   {
    "duration": 328,
    "start_time": "2023-01-30T06:05:39.836Z"
   },
   {
    "duration": 5,
    "start_time": "2023-01-30T06:05:40.166Z"
   },
   {
    "duration": 324,
    "start_time": "2023-01-30T06:05:40.172Z"
   },
   {
    "duration": 344,
    "start_time": "2023-01-30T06:05:40.497Z"
   },
   {
    "duration": 448,
    "start_time": "2023-01-30T06:05:40.842Z"
   },
   {
    "duration": 310,
    "start_time": "2023-01-30T06:05:41.291Z"
   },
   {
    "duration": 304,
    "start_time": "2023-01-30T06:05:41.602Z"
   },
   {
    "duration": 2,
    "start_time": "2023-01-30T06:05:41.908Z"
   },
   {
    "duration": 14,
    "start_time": "2023-01-30T06:05:41.912Z"
   },
   {
    "duration": 12,
    "start_time": "2023-01-30T06:05:41.927Z"
   },
   {
    "duration": 10,
    "start_time": "2023-01-30T06:05:41.941Z"
   },
   {
    "duration": 6,
    "start_time": "2023-01-30T06:05:41.952Z"
   },
   {
    "duration": 8,
    "start_time": "2023-01-30T06:05:41.959Z"
   },
   {
    "duration": 6,
    "start_time": "2023-01-30T06:05:41.968Z"
   },
   {
    "duration": 11,
    "start_time": "2023-01-30T06:05:41.975Z"
   },
   {
    "duration": 5,
    "start_time": "2023-01-30T06:05:41.988Z"
   },
   {
    "duration": 6,
    "start_time": "2023-01-30T06:05:41.995Z"
   },
   {
    "duration": 6,
    "start_time": "2023-01-30T06:05:42.003Z"
   },
   {
    "duration": 16,
    "start_time": "2023-01-30T06:05:42.011Z"
   }
  ],
  "kernelspec": {
   "display_name": "Python 3",
   "language": "python",
   "name": "python3"
  },
  "language_info": {
   "codemirror_mode": {
    "name": "ipython",
    "version": 3
   },
   "file_extension": ".py",
   "mimetype": "text/x-python",
   "name": "python",
   "nbconvert_exporter": "python",
   "pygments_lexer": "ipython3",
   "version": "3.8.8"
  },
  "toc": {
   "base_numbering": 1,
   "nav_menu": {},
   "number_sections": true,
   "sideBar": true,
   "skip_h1_title": true,
   "title_cell": "Table of Contents",
   "title_sidebar": "Contents",
   "toc_cell": true,
   "toc_position": {
    "height": "495.556px",
    "left": "48px",
    "top": "110.053px",
    "width": "193.889px"
   },
   "toc_section_display": true,
   "toc_window_display": true
  }
 },
 "nbformat": 4,
 "nbformat_minor": 2
}
