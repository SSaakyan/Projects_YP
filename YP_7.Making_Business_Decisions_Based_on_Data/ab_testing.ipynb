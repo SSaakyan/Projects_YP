{
 "cells": [
  {
   "cell_type": "markdown",
   "metadata": {
    "toc": true
   },
   "source": [
    "<h1>Содержание данных<span class=\"tocSkip\"></span></h1>\n",
    "<div class=\"toc\"><ul class=\"toc-item\"><li><span><a href=\"#Описание-данных\" data-toc-modified-id=\"Описание-данных-1\"><span class=\"toc-item-num\">1&nbsp;&nbsp;</span>Описание данных</a></span></li><li><span><a href=\"#Изучение-данных-из-файлов\" data-toc-modified-id=\"Изучение-данных-из-файлов-2\"><span class=\"toc-item-num\">2&nbsp;&nbsp;</span>Изучение данных из файлов</a></span><ul class=\"toc-item\"><li><span><a href=\"#Импорт-библиотек\" data-toc-modified-id=\"Импорт-библиотек-2.1\"><span class=\"toc-item-num\">2.1&nbsp;&nbsp;</span>Импорт библиотек</a></span></li><li><span><a href=\"#Импорт-и-изучение-данных\" data-toc-modified-id=\"Импорт-и-изучение-данных-2.2\"><span class=\"toc-item-num\">2.2&nbsp;&nbsp;</span>Импорт и изучение данных</a></span><ul class=\"toc-item\"><li><span><a href=\"#Таблица-Hypothesis\" data-toc-modified-id=\"Таблица-Hypothesis-2.2.1\"><span class=\"toc-item-num\">2.2.1&nbsp;&nbsp;</span>Таблица Hypothesis</a></span></li><li><span><a href=\"#Таблица-Orders\" data-toc-modified-id=\"Таблица-Orders-2.2.2\"><span class=\"toc-item-num\">2.2.2&nbsp;&nbsp;</span>Таблица Orders</a></span></li><li><span><a href=\"#Таблица-Visitors\" data-toc-modified-id=\"Таблица-Visitors-2.2.3\"><span class=\"toc-item-num\">2.2.3&nbsp;&nbsp;</span>Таблица Visitors</a></span></li></ul></li></ul></li><li><span><a href=\"#Приоритизация-гипотез\" data-toc-modified-id=\"Приоритизация-гипотез-3\"><span class=\"toc-item-num\">3&nbsp;&nbsp;</span>Приоритизация гипотез</a></span><ul class=\"toc-item\"><li><span><a href=\"#Применение-фреймворка-ICE\" data-toc-modified-id=\"Применение-фреймворка-ICE-3.1\"><span class=\"toc-item-num\">3.1&nbsp;&nbsp;</span>Применение фреймворка ICE</a></span></li><li><span><a href=\"#Применение-фреймворка-RICE\" data-toc-modified-id=\"Применение-фреймворка-RICE-3.2\"><span class=\"toc-item-num\">3.2&nbsp;&nbsp;</span>Применение фреймворка RICE</a></span></li><li><span><a href=\"#Вывод\" data-toc-modified-id=\"Вывод-3.3\"><span class=\"toc-item-num\">3.3&nbsp;&nbsp;</span>Вывод</a></span></li></ul></li><li><span><a href=\"#Анализ-A/B-теста\" data-toc-modified-id=\"Анализ-A/B-теста-4\"><span class=\"toc-item-num\">4&nbsp;&nbsp;</span>Анализ A/B-теста</a></span><ul class=\"toc-item\"><li><span><a href=\"#Анализ-графиков-кумулятивных-метрик\" data-toc-modified-id=\"Анализ-графиков-кумулятивных-метрик-4.1\"><span class=\"toc-item-num\">4.1&nbsp;&nbsp;</span>Анализ графиков кумулятивных метрик</a></span><ul class=\"toc-item\"><li><span><a href=\"#График-кумулятивной-выручки-по-группам\" data-toc-modified-id=\"График-кумулятивной-выручки-по-группам-4.1.1\"><span class=\"toc-item-num\">4.1.1&nbsp;&nbsp;</span>График кумулятивной выручки по группам</a></span></li><li><span><a href=\"#График-кумулятивного-среднего-чека-по-группам\" data-toc-modified-id=\"График-кумулятивного-среднего-чека-по-группам-4.1.2\"><span class=\"toc-item-num\">4.1.2&nbsp;&nbsp;</span>График кумулятивного среднего чека по группам</a></span></li><li><span><a href=\"#График-относительного-изменения-кумулятивного-среднего-чека-группы-B-к-группе-A\" data-toc-modified-id=\"График-относительного-изменения-кумулятивного-среднего-чека-группы-B-к-группе-A-4.1.3\"><span class=\"toc-item-num\">4.1.3&nbsp;&nbsp;</span>График относительного изменения кумулятивного среднего чека группы B к группе A</a></span></li><li><span><a href=\"#График-кумулятивной-конверсии-по-группам\" data-toc-modified-id=\"График-кумулятивной-конверсии-по-группам-4.1.4\"><span class=\"toc-item-num\">4.1.4&nbsp;&nbsp;</span>График кумулятивной конверсии по группам</a></span></li><li><span><a href=\"#График-относительного-изменения-кумулятивной-конверсии-группы-B-к-группе-A.\" data-toc-modified-id=\"График-относительного-изменения-кумулятивной-конверсии-группы-B-к-группе-A.-4.1.5\"><span class=\"toc-item-num\">4.1.5&nbsp;&nbsp;</span>График относительного изменения кумулятивной конверсии группы B к группе A.</a></span></li></ul></li><li><span><a href=\"#Анализ-выбросов/поиск-аномалий-и-определение-границы\" data-toc-modified-id=\"Анализ-выбросов/поиск-аномалий-и-определение-границы-4.2\"><span class=\"toc-item-num\">4.2&nbsp;&nbsp;</span>Анализ выбросов/поиск аномалий и определение границы</a></span><ul class=\"toc-item\"><li><span><a href=\"#Стоимости-заказов\" data-toc-modified-id=\"Стоимости-заказов-4.2.1\"><span class=\"toc-item-num\">4.2.1&nbsp;&nbsp;</span>Стоимости заказов</a></span></li><li><span><a href=\"#Количество-заказов-по-пользователям\" data-toc-modified-id=\"Количество-заказов-по-пользователям-4.2.2\"><span class=\"toc-item-num\">4.2.2&nbsp;&nbsp;</span>Количество заказов по пользователям</a></span></li></ul></li><li><span><a href=\"#Расчёт-статистической-значимости\" data-toc-modified-id=\"Расчёт-статистической-значимости-4.3\"><span class=\"toc-item-num\">4.3&nbsp;&nbsp;</span>Расчёт статистической значимости</a></span><ul class=\"toc-item\"><li><span><a href=\"#Cтатистическая-значимость-различий-между-группами-по-«сырым»-данным\" data-toc-modified-id=\"Cтатистическая-значимость-различий-между-группами-по-«сырым»-данным-4.3.1\"><span class=\"toc-item-num\">4.3.1&nbsp;&nbsp;</span>Cтатистическая значимость различий между группами по «сырым» данным</a></span><ul class=\"toc-item\"><li><span><a href=\"#в-конверсии\" data-toc-modified-id=\"в-конверсии-4.3.1.1\"><span class=\"toc-item-num\">4.3.1.1&nbsp;&nbsp;</span>в конверсии</a></span></li><li><span><a href=\"#в-среднем-чеке\" data-toc-modified-id=\"в-среднем-чеке-4.3.1.2\"><span class=\"toc-item-num\">4.3.1.2&nbsp;&nbsp;</span>в среднем чеке</a></span></li></ul></li><li><span><a href=\"#Cтатистическая-значимость-различий-между-группами-по-«очищенным»-данным\" data-toc-modified-id=\"Cтатистическая-значимость-различий-между-группами-по-«очищенным»-данным-4.3.2\"><span class=\"toc-item-num\">4.3.2&nbsp;&nbsp;</span>Cтатистическая значимость различий между группами по «очищенным» данным</a></span><ul class=\"toc-item\"><li><span><a href=\"#в-конверсии\" data-toc-modified-id=\"в-конверсии-4.3.2.1\"><span class=\"toc-item-num\">4.3.2.1&nbsp;&nbsp;</span>в конверсии</a></span></li><li><span><a href=\"#в-среднем-чеке\" data-toc-modified-id=\"в-среднем-чеке-4.3.2.2\"><span class=\"toc-item-num\">4.3.2.2&nbsp;&nbsp;</span>в среднем чеке</a></span></li></ul></li></ul></li><li><span><a href=\"#Вывод:\" data-toc-modified-id=\"Вывод:-4.4\"><span class=\"toc-item-num\">4.4&nbsp;&nbsp;</span>Вывод:</a></span></li></ul></li><li><span><a href=\"#Выводы\" data-toc-modified-id=\"Выводы-5\"><span class=\"toc-item-num\">5&nbsp;&nbsp;</span>Выводы</a></span></li></ul></div>"
   ]
  },
  {
   "cell_type": "markdown",
   "metadata": {},
   "source": [
    "### Описание данных"
   ]
  },
  {
   "cell_type": "markdown",
   "metadata": {},
   "source": [
    "**Таблица Hypothesis**:\n",
    "- *Hypothesis* — краткое описание гипотезы;\n",
    "- *Reach* — охват пользователей по 10-балльной шкале;\n",
    "- *Impact* — влияние на пользователей по 10-балльной шкале;\n",
    "- *Confidence* — уверенность в гипотезе по 10-балльной шкале;\n",
    "- *Efforts* — затраты ресурсов на проверку гипотезы по 10-балльной шкале. \n",
    "Чем больше значение Efforts, тем дороже проверка гипотезы.\n",
    "\n",
    "**Таблица Orders**:\n",
    "- *transactionId* — идентификатор заказа;\n",
    "- *visitorId* — идентификатор пользователя, совершившего заказ;\n",
    "- *date* — дата, когда был совершён заказ;\n",
    "- *revenue* — выручка заказа;\n",
    "- *group* — группа A/B-теста, в которую попал заказ.\n",
    "\n",
    "**Таблица Visitors**:\n",
    "- *date* — дата;\n",
    "- *group* — группа A/B-теста;\n",
    "- *visitors* — количество пользователей в указанную дату в указанной группе A/B-теста"
   ]
  },
  {
   "cell_type": "markdown",
   "metadata": {},
   "source": [
    "<font size = 4> **План работы** </font>"
   ]
  },
  {
   "cell_type": "markdown",
   "metadata": {},
   "source": [
    "1. Импорт данных и изучение общей информации, проверка типов данных на корректность\n",
    "2. Приоритизация гипотез\n",
    "3. Анализ A/B-теста\n"
   ]
  },
  {
   "cell_type": "markdown",
   "metadata": {},
   "source": [
    "## Изучение данных из файлов"
   ]
  },
  {
   "cell_type": "markdown",
   "metadata": {},
   "source": [
    "### Импорт библиотек"
   ]
  },
  {
   "cell_type": "code",
   "execution_count": 23,
   "metadata": {},
   "outputs": [],
   "source": [
    "import pandas as pd\n",
    "import numpy as np\n",
    "\n",
    "import math\n",
    "from scipy import stats\n",
    "\n",
    "import matplotlib.pyplot as plt \n",
    "import seaborn as sns\n",
    "\n",
    "from datetime import datetime,timedelta\n",
    "\n",
    "from IPython.display import display\n",
    "\n",
    "import warnings\n",
    "warnings.filterwarnings('ignore')\n"
   ]
  },
  {
   "cell_type": "markdown",
   "metadata": {},
   "source": [
    "### Импорт и изучение данных"
   ]
  },
  {
   "cell_type": "markdown",
   "metadata": {},
   "source": [
    "#### Таблица Hypothesis"
   ]
  },
  {
   "cell_type": "code",
   "execution_count": 2,
   "metadata": {},
   "outputs": [],
   "source": [
    "hypothesis = pd.read_csv('/datasets/hypothesis.csv')"
   ]
  },
  {
   "cell_type": "code",
   "execution_count": 4,
   "metadata": {},
   "outputs": [
    {
     "data": {
      "text/html": [
       "<div>\n",
       "<style scoped>\n",
       "    .dataframe tbody tr th:only-of-type {\n",
       "        vertical-align: middle;\n",
       "    }\n",
       "\n",
       "    .dataframe tbody tr th {\n",
       "        vertical-align: top;\n",
       "    }\n",
       "\n",
       "    .dataframe thead th {\n",
       "        text-align: right;\n",
       "    }\n",
       "</style>\n",
       "<table border=\"1\" class=\"dataframe\">\n",
       "  <thead>\n",
       "    <tr style=\"text-align: right;\">\n",
       "      <th></th>\n",
       "      <th>Hypothesis</th>\n",
       "      <th>Reach</th>\n",
       "      <th>Impact</th>\n",
       "      <th>Confidence</th>\n",
       "      <th>Efforts</th>\n",
       "    </tr>\n",
       "  </thead>\n",
       "  <tbody>\n",
       "    <tr>\n",
       "      <td>0</td>\n",
       "      <td>Добавить два новых канала привлечения трафика, что позволит привлекать на 30% больше пользователей</td>\n",
       "      <td>3</td>\n",
       "      <td>10</td>\n",
       "      <td>8</td>\n",
       "      <td>6</td>\n",
       "    </tr>\n",
       "    <tr>\n",
       "      <td>1</td>\n",
       "      <td>Запустить собственную службу доставки, что сократит срок доставки заказов</td>\n",
       "      <td>2</td>\n",
       "      <td>5</td>\n",
       "      <td>4</td>\n",
       "      <td>10</td>\n",
       "    </tr>\n",
       "    <tr>\n",
       "      <td>2</td>\n",
       "      <td>Добавить блоки рекомендаций товаров на сайт интернет магазина, чтобы повысить конверсию и средний чек заказа</td>\n",
       "      <td>8</td>\n",
       "      <td>3</td>\n",
       "      <td>7</td>\n",
       "      <td>3</td>\n",
       "    </tr>\n",
       "    <tr>\n",
       "      <td>3</td>\n",
       "      <td>Изменить структура категорий, что увеличит конверсию, т.к. пользователи быстрее найдут нужный товар</td>\n",
       "      <td>8</td>\n",
       "      <td>3</td>\n",
       "      <td>3</td>\n",
       "      <td>8</td>\n",
       "    </tr>\n",
       "    <tr>\n",
       "      <td>4</td>\n",
       "      <td>Изменить цвет фона главной страницы, чтобы увеличить вовлеченность пользователей</td>\n",
       "      <td>3</td>\n",
       "      <td>1</td>\n",
       "      <td>1</td>\n",
       "      <td>1</td>\n",
       "    </tr>\n",
       "    <tr>\n",
       "      <td>5</td>\n",
       "      <td>Добавить страницу отзывов клиентов о магазине, что позволит увеличить количество заказов</td>\n",
       "      <td>3</td>\n",
       "      <td>2</td>\n",
       "      <td>2</td>\n",
       "      <td>3</td>\n",
       "    </tr>\n",
       "    <tr>\n",
       "      <td>6</td>\n",
       "      <td>Показать на главной странице баннеры с актуальными акциями и распродажами, чтобы увеличить конверсию</td>\n",
       "      <td>5</td>\n",
       "      <td>3</td>\n",
       "      <td>8</td>\n",
       "      <td>3</td>\n",
       "    </tr>\n",
       "    <tr>\n",
       "      <td>7</td>\n",
       "      <td>Добавить форму подписки на все основные страницы, чтобы собрать базу клиентов для email-рассылок</td>\n",
       "      <td>10</td>\n",
       "      <td>7</td>\n",
       "      <td>8</td>\n",
       "      <td>5</td>\n",
       "    </tr>\n",
       "    <tr>\n",
       "      <td>8</td>\n",
       "      <td>Запустить акцию, дающую скидку на товар в день рождения</td>\n",
       "      <td>1</td>\n",
       "      <td>9</td>\n",
       "      <td>9</td>\n",
       "      <td>5</td>\n",
       "    </tr>\n",
       "  </tbody>\n",
       "</table>\n",
       "</div>"
      ],
      "text/plain": [
       "                                                                                                     Hypothesis  \\\n",
       "0            Добавить два новых канала привлечения трафика, что позволит привлекать на 30% больше пользователей   \n",
       "1                                     Запустить собственную службу доставки, что сократит срок доставки заказов   \n",
       "2  Добавить блоки рекомендаций товаров на сайт интернет магазина, чтобы повысить конверсию и средний чек заказа   \n",
       "3           Изменить структура категорий, что увеличит конверсию, т.к. пользователи быстрее найдут нужный товар   \n",
       "4                              Изменить цвет фона главной страницы, чтобы увеличить вовлеченность пользователей   \n",
       "5                      Добавить страницу отзывов клиентов о магазине, что позволит увеличить количество заказов   \n",
       "6          Показать на главной странице баннеры с актуальными акциями и распродажами, чтобы увеличить конверсию   \n",
       "7              Добавить форму подписки на все основные страницы, чтобы собрать базу клиентов для email-рассылок   \n",
       "8                                                       Запустить акцию, дающую скидку на товар в день рождения   \n",
       "\n",
       "   Reach  Impact  Confidence  Efforts  \n",
       "0      3      10           8        6  \n",
       "1      2       5           4       10  \n",
       "2      8       3           7        3  \n",
       "3      8       3           3        8  \n",
       "4      3       1           1        1  \n",
       "5      3       2           2        3  \n",
       "6      5       3           8        3  \n",
       "7     10       7           8        5  \n",
       "8      1       9           9        5  "
      ]
     },
     "metadata": {},
     "output_type": "display_data"
    },
    {
     "name": "stdout",
     "output_type": "stream",
     "text": [
      "<class 'pandas.core.frame.DataFrame'>\n",
      "RangeIndex: 9 entries, 0 to 8\n",
      "Data columns (total 5 columns):\n",
      "Hypothesis    9 non-null object\n",
      "Reach         9 non-null int64\n",
      "Impact        9 non-null int64\n",
      "Confidence    9 non-null int64\n",
      "Efforts       9 non-null int64\n",
      "dtypes: int64(4), object(1)\n",
      "memory usage: 488.0+ bytes\n"
     ]
    }
   ],
   "source": [
    "# Посмотрим на данные и на общую информацию по ним:\n",
    "display(hypothesis)\n",
    "pd.set_option('display.max_columns', None)\n",
    "pd.options.display.max_colwidth = 210\n",
    "hypothesis.info()"
   ]
  },
  {
   "cell_type": "markdown",
   "metadata": {},
   "source": [
    "**Вывод:** всего 9 гипотез, пропущенных значений нет, типы данных менять не нужно."
   ]
  },
  {
   "cell_type": "markdown",
   "metadata": {},
   "source": [
    "#### Таблица Orders"
   ]
  },
  {
   "cell_type": "code",
   "execution_count": 5,
   "metadata": {},
   "outputs": [],
   "source": [
    "orders = pd.read_csv('/datasets/orders.csv')"
   ]
  },
  {
   "cell_type": "code",
   "execution_count": 6,
   "metadata": {},
   "outputs": [
    {
     "data": {
      "text/html": [
       "<div>\n",
       "<style scoped>\n",
       "    .dataframe tbody tr th:only-of-type {\n",
       "        vertical-align: middle;\n",
       "    }\n",
       "\n",
       "    .dataframe tbody tr th {\n",
       "        vertical-align: top;\n",
       "    }\n",
       "\n",
       "    .dataframe thead th {\n",
       "        text-align: right;\n",
       "    }\n",
       "</style>\n",
       "<table border=\"1\" class=\"dataframe\">\n",
       "  <thead>\n",
       "    <tr style=\"text-align: right;\">\n",
       "      <th></th>\n",
       "      <th>transactionId</th>\n",
       "      <th>visitorId</th>\n",
       "      <th>date</th>\n",
       "      <th>revenue</th>\n",
       "      <th>group</th>\n",
       "    </tr>\n",
       "  </thead>\n",
       "  <tbody>\n",
       "    <tr>\n",
       "      <td>1192</td>\n",
       "      <td>2662137336</td>\n",
       "      <td>3733762160</td>\n",
       "      <td>2019-08-14</td>\n",
       "      <td>6490</td>\n",
       "      <td>B</td>\n",
       "    </tr>\n",
       "    <tr>\n",
       "      <td>1193</td>\n",
       "      <td>2203539145</td>\n",
       "      <td>370388673</td>\n",
       "      <td>2019-08-14</td>\n",
       "      <td>3190</td>\n",
       "      <td>A</td>\n",
       "    </tr>\n",
       "    <tr>\n",
       "      <td>1194</td>\n",
       "      <td>1807773912</td>\n",
       "      <td>573423106</td>\n",
       "      <td>2019-08-14</td>\n",
       "      <td>10550</td>\n",
       "      <td>A</td>\n",
       "    </tr>\n",
       "    <tr>\n",
       "      <td>1195</td>\n",
       "      <td>1947021204</td>\n",
       "      <td>1614305549</td>\n",
       "      <td>2019-08-14</td>\n",
       "      <td>100</td>\n",
       "      <td>A</td>\n",
       "    </tr>\n",
       "    <tr>\n",
       "      <td>1196</td>\n",
       "      <td>3936777065</td>\n",
       "      <td>2108080724</td>\n",
       "      <td>2019-08-15</td>\n",
       "      <td>202740</td>\n",
       "      <td>B</td>\n",
       "    </tr>\n",
       "  </tbody>\n",
       "</table>\n",
       "</div>"
      ],
      "text/plain": [
       "      transactionId   visitorId        date  revenue group\n",
       "1192     2662137336  3733762160  2019-08-14     6490     B\n",
       "1193     2203539145   370388673  2019-08-14     3190     A\n",
       "1194     1807773912   573423106  2019-08-14    10550     A\n",
       "1195     1947021204  1614305549  2019-08-14      100     A\n",
       "1196     3936777065  2108080724  2019-08-15   202740     B"
      ]
     },
     "metadata": {},
     "output_type": "display_data"
    },
    {
     "name": "stdout",
     "output_type": "stream",
     "text": [
      "<class 'pandas.core.frame.DataFrame'>\n",
      "RangeIndex: 1197 entries, 0 to 1196\n",
      "Data columns (total 5 columns):\n",
      "transactionId    1197 non-null int64\n",
      "visitorId        1197 non-null int64\n",
      "date             1197 non-null object\n",
      "revenue          1197 non-null int64\n",
      "group            1197 non-null object\n",
      "dtypes: int64(3), object(2)\n",
      "memory usage: 46.9+ KB\n"
     ]
    }
   ],
   "source": [
    "# Посмотрим на данные и на общую информацию по ним:\n",
    "display(orders.tail())\n",
    "orders.info()"
   ]
  },
  {
   "cell_type": "markdown",
   "metadata": {},
   "source": [
    "**Вывод:** есть информация по 1197 заказам, пропущенных значений нет, необходимо изменить тип данных в столбце date на datetime"
   ]
  },
  {
   "cell_type": "code",
   "execution_count": 7,
   "metadata": {},
   "outputs": [],
   "source": [
    "# меняем тип данных в столбце date:\n",
    "orders['date'] = pd.to_datetime(orders['date'], format=\"%Y-%m-%d\")"
   ]
  },
  {
   "cell_type": "code",
   "execution_count": 8,
   "metadata": {},
   "outputs": [
    {
     "name": "stdout",
     "output_type": "stream",
     "text": [
      "0\n"
     ]
    }
   ],
   "source": [
    "# проверим на дубликаты\n",
    "print(orders.duplicated().sum())"
   ]
  },
  {
   "cell_type": "markdown",
   "metadata": {},
   "source": [
    "Проверим, есть ли пользователи, которые вошли в обе группы."
   ]
  },
  {
   "cell_type": "markdown",
   "metadata": {},
   "source": [
    "Для каждой группы создадим переменные, в которых для пользователей, которые заказывали хотя бы 1 раз, укажем число совершённых заказов:"
   ]
  },
  {
   "cell_type": "code",
   "execution_count": 9,
   "metadata": {},
   "outputs": [],
   "source": [
    "ordersByUsersA = (\n",
    "    orders[orders['group'] == 'A']\n",
    "    .groupby('visitorId', as_index=False)\n",
    "    .agg({'transactionId': pd.Series.nunique})\n",
    ")\n",
    "ordersByUsersA.columns = ['userId', 'orders']"
   ]
  },
  {
   "cell_type": "code",
   "execution_count": 10,
   "metadata": {},
   "outputs": [],
   "source": [
    "ordersByUsersB = (\n",
    "    orders[orders['group'] == 'B']\n",
    "    .groupby('visitorId', as_index=False)\n",
    "    .agg({'transactionId': pd.Series.nunique})\n",
    ")\n",
    "ordersByUsersB.columns = ['userId', 'orders'] "
   ]
  },
  {
   "cell_type": "code",
   "execution_count": 11,
   "metadata": {},
   "outputs": [
    {
     "name": "stdout",
     "output_type": "stream",
     "text": [
      "Число пользователей, вошедших в обе группы 58\n"
     ]
    }
   ],
   "source": [
    "#теперь посмотрим, есть ли пользователи, которые заказывали хотя бы раз, и входящие в обе группы\n",
    "ab = len(ordersByUsersA['userId']) - \\\n",
    "        len(ordersByUsersA[np.logical_not(ordersByUsersA['userId'].isin(ordersByUsersB['userId']))]['userId'])\n",
    "print('Число пользователей, вошедших в обе группы {}'.format(ab))"
   ]
  },
  {
   "cell_type": "code",
   "execution_count": 12,
   "metadata": {},
   "outputs": [
    {
     "name": "stdout",
     "output_type": "stream",
     "text": [
      "Доля пользователей, вошедших в обе группы 5.63%\n"
     ]
    }
   ],
   "source": [
    "print(\n",
    "    'Доля пользователей, вошедших в обе группы {:.2%}'\n",
    "    .format(ab / orders['visitorId'].nunique())\n",
    ")"
   ]
  },
  {
   "cell_type": "markdown",
   "metadata": {},
   "source": [
    "При разделении на группы допущена ошибка, необходимо сообщить о ней разработчикам. \n",
    "Сейчас для дальнейшей работы учитывать это не будем."
   ]
  },
  {
   "cell_type": "markdown",
   "metadata": {},
   "source": [
    "#### Таблица Visitors"
   ]
  },
  {
   "cell_type": "code",
   "execution_count": 13,
   "metadata": {},
   "outputs": [],
   "source": [
    "visitors = pd.read_csv('/datasets/visitors.csv')"
   ]
  },
  {
   "cell_type": "code",
   "execution_count": 14,
   "metadata": {},
   "outputs": [
    {
     "data": {
      "text/html": [
       "<div>\n",
       "<style scoped>\n",
       "    .dataframe tbody tr th:only-of-type {\n",
       "        vertical-align: middle;\n",
       "    }\n",
       "\n",
       "    .dataframe tbody tr th {\n",
       "        vertical-align: top;\n",
       "    }\n",
       "\n",
       "    .dataframe thead th {\n",
       "        text-align: right;\n",
       "    }\n",
       "</style>\n",
       "<table border=\"1\" class=\"dataframe\">\n",
       "  <thead>\n",
       "    <tr style=\"text-align: right;\">\n",
       "      <th></th>\n",
       "      <th>date</th>\n",
       "      <th>group</th>\n",
       "      <th>visitors</th>\n",
       "    </tr>\n",
       "  </thead>\n",
       "  <tbody>\n",
       "    <tr>\n",
       "      <td>21</td>\n",
       "      <td>2019-08-22</td>\n",
       "      <td>A</td>\n",
       "      <td>609</td>\n",
       "    </tr>\n",
       "    <tr>\n",
       "      <td>52</td>\n",
       "      <td>2019-08-22</td>\n",
       "      <td>B</td>\n",
       "      <td>650</td>\n",
       "    </tr>\n",
       "    <tr>\n",
       "      <td>38</td>\n",
       "      <td>2019-08-08</td>\n",
       "      <td>B</td>\n",
       "      <td>654</td>\n",
       "    </tr>\n",
       "    <tr>\n",
       "      <td>24</td>\n",
       "      <td>2019-08-25</td>\n",
       "      <td>A</td>\n",
       "      <td>621</td>\n",
       "    </tr>\n",
       "    <tr>\n",
       "      <td>2</td>\n",
       "      <td>2019-08-03</td>\n",
       "      <td>A</td>\n",
       "      <td>507</td>\n",
       "    </tr>\n",
       "  </tbody>\n",
       "</table>\n",
       "</div>"
      ],
      "text/plain": [
       "          date group  visitors\n",
       "21  2019-08-22     A       609\n",
       "52  2019-08-22     B       650\n",
       "38  2019-08-08     B       654\n",
       "24  2019-08-25     A       621\n",
       "2   2019-08-03     A       507"
      ]
     },
     "metadata": {},
     "output_type": "display_data"
    },
    {
     "name": "stdout",
     "output_type": "stream",
     "text": [
      "<class 'pandas.core.frame.DataFrame'>\n",
      "RangeIndex: 62 entries, 0 to 61\n",
      "Data columns (total 3 columns):\n",
      "date        62 non-null object\n",
      "group       62 non-null object\n",
      "visitors    62 non-null int64\n",
      "dtypes: int64(1), object(2)\n",
      "memory usage: 1.6+ KB\n"
     ]
    }
   ],
   "source": [
    "# Посмотрим на данные и на общую информацию по ним:\n",
    "display(visitors.sample(5,random_state=1))\n",
    "visitors.info()"
   ]
  },
  {
   "cell_type": "markdown",
   "metadata": {},
   "source": [
    "**Вывод:** есть информация по пользователям в группах для 62 дат (с учётом двух групп), пропущенных значений нет, необходимо изменить тип данных в столбце date на datetime"
   ]
  },
  {
   "cell_type": "code",
   "execution_count": 15,
   "metadata": {},
   "outputs": [],
   "source": [
    "# меняем тип данных в столбце date:\n",
    "visitors['date'] = pd.to_datetime(visitors['date'])"
   ]
  },
  {
   "cell_type": "code",
   "execution_count": 16,
   "metadata": {},
   "outputs": [
    {
     "name": "stdout",
     "output_type": "stream",
     "text": [
      "0\n"
     ]
    }
   ],
   "source": [
    "# проверим на дубликаты\n",
    "print(visitors.duplicated().sum())"
   ]
  },
  {
   "cell_type": "markdown",
   "metadata": {},
   "source": [
    "## Приоритизация гипотез"
   ]
  },
  {
   "cell_type": "markdown",
   "metadata": {},
   "source": [
    "### Применение фреймворка ICE"
   ]
  },
  {
   "cell_type": "code",
   "execution_count": 17,
   "metadata": {},
   "outputs": [
    {
     "data": {
      "text/html": [
       "<div>\n",
       "<style scoped>\n",
       "    .dataframe tbody tr th:only-of-type {\n",
       "        vertical-align: middle;\n",
       "    }\n",
       "\n",
       "    .dataframe tbody tr th {\n",
       "        vertical-align: top;\n",
       "    }\n",
       "\n",
       "    .dataframe thead th {\n",
       "        text-align: right;\n",
       "    }\n",
       "</style>\n",
       "<table border=\"1\" class=\"dataframe\">\n",
       "  <thead>\n",
       "    <tr style=\"text-align: right;\">\n",
       "      <th></th>\n",
       "      <th>Hypothesis</th>\n",
       "      <th>ICE</th>\n",
       "    </tr>\n",
       "  </thead>\n",
       "  <tbody>\n",
       "    <tr>\n",
       "      <td>8</td>\n",
       "      <td>Запустить акцию, дающую скидку на товар в день рождения</td>\n",
       "      <td>16.20</td>\n",
       "    </tr>\n",
       "    <tr>\n",
       "      <td>0</td>\n",
       "      <td>Добавить два новых канала привлечения трафика, что позволит привлекать на 30% больше пользователей</td>\n",
       "      <td>13.33</td>\n",
       "    </tr>\n",
       "    <tr>\n",
       "      <td>7</td>\n",
       "      <td>Добавить форму подписки на все основные страницы, чтобы собрать базу клиентов для email-рассылок</td>\n",
       "      <td>11.20</td>\n",
       "    </tr>\n",
       "    <tr>\n",
       "      <td>6</td>\n",
       "      <td>Показать на главной странице баннеры с актуальными акциями и распродажами, чтобы увеличить конверсию</td>\n",
       "      <td>8.00</td>\n",
       "    </tr>\n",
       "    <tr>\n",
       "      <td>2</td>\n",
       "      <td>Добавить блоки рекомендаций товаров на сайт интернет магазина, чтобы повысить конверсию и средний чек заказа</td>\n",
       "      <td>7.00</td>\n",
       "    </tr>\n",
       "    <tr>\n",
       "      <td>1</td>\n",
       "      <td>Запустить собственную службу доставки, что сократит срок доставки заказов</td>\n",
       "      <td>2.00</td>\n",
       "    </tr>\n",
       "    <tr>\n",
       "      <td>5</td>\n",
       "      <td>Добавить страницу отзывов клиентов о магазине, что позволит увеличить количество заказов</td>\n",
       "      <td>1.33</td>\n",
       "    </tr>\n",
       "    <tr>\n",
       "      <td>3</td>\n",
       "      <td>Изменить структура категорий, что увеличит конверсию, т.к. пользователи быстрее найдут нужный товар</td>\n",
       "      <td>1.12</td>\n",
       "    </tr>\n",
       "    <tr>\n",
       "      <td>4</td>\n",
       "      <td>Изменить цвет фона главной страницы, чтобы увеличить вовлеченность пользователей</td>\n",
       "      <td>1.00</td>\n",
       "    </tr>\n",
       "  </tbody>\n",
       "</table>\n",
       "</div>"
      ],
      "text/plain": [
       "                                                                                                     Hypothesis  \\\n",
       "8                                                       Запустить акцию, дающую скидку на товар в день рождения   \n",
       "0            Добавить два новых канала привлечения трафика, что позволит привлекать на 30% больше пользователей   \n",
       "7              Добавить форму подписки на все основные страницы, чтобы собрать базу клиентов для email-рассылок   \n",
       "6          Показать на главной странице баннеры с актуальными акциями и распродажами, чтобы увеличить конверсию   \n",
       "2  Добавить блоки рекомендаций товаров на сайт интернет магазина, чтобы повысить конверсию и средний чек заказа   \n",
       "1                                     Запустить собственную службу доставки, что сократит срок доставки заказов   \n",
       "5                      Добавить страницу отзывов клиентов о магазине, что позволит увеличить количество заказов   \n",
       "3           Изменить структура категорий, что увеличит конверсию, т.к. пользователи быстрее найдут нужный товар   \n",
       "4                              Изменить цвет фона главной страницы, чтобы увеличить вовлеченность пользователей   \n",
       "\n",
       "     ICE  \n",
       "8  16.20  \n",
       "0  13.33  \n",
       "7  11.20  \n",
       "6   8.00  \n",
       "2   7.00  \n",
       "1   2.00  \n",
       "5   1.33  \n",
       "3   1.12  \n",
       "4   1.00  "
      ]
     },
     "metadata": {},
     "output_type": "display_data"
    }
   ],
   "source": [
    "hypothesis['ICE'] = (\n",
    "    (hypothesis['Impact'] * hypothesis['Confidence']\n",
    "    ) / hypothesis['Efforts']\n",
    ").round(2)\n",
    "display(hypothesis.sort_values(by='ICE',ascending=False)[['Hypothesis','ICE']])"
   ]
  },
  {
   "cell_type": "markdown",
   "metadata": {},
   "source": [
    "**Вывод:** наиболее перспективные гипотезы - гипотезы \"Запустить акцию, дающую скидку на товар в день рождения\", \"Добавить два новых канала привлечения трафика, что позволит привлекать на 30% больше пользователей\", \"Добавить форму подписки на все основные страницы, чтобы собрать базу клиентов для email-рассылок\"."
   ]
  },
  {
   "cell_type": "markdown",
   "metadata": {},
   "source": [
    "### Применение фреймворка RICE"
   ]
  },
  {
   "cell_type": "code",
   "execution_count": 25,
   "metadata": {
    "scrolled": true
   },
   "outputs": [
    {
     "data": {
      "text/html": [
       "<style  type=\"text/css\" >\n",
       "    #T_1cc4ec2c_3e1b_11ec_bf6e_02420a394e63row0_col1 {\n",
       "            background-color:  #008000;\n",
       "            color:  #f1f1f1;\n",
       "        }    #T_1cc4ec2c_3e1b_11ec_bf6e_02420a394e63row0_col2 {\n",
       "            background-color:  #4caa4c;\n",
       "            color:  #000000;\n",
       "        }    #T_1cc4ec2c_3e1b_11ec_bf6e_02420a394e63row1_col1 {\n",
       "            background-color:  #76c176;\n",
       "            color:  #000000;\n",
       "        }    #T_1cc4ec2c_3e1b_11ec_bf6e_02420a394e63row1_col2 {\n",
       "            background-color:  #8bcd8b;\n",
       "            color:  #000000;\n",
       "        }    #T_1cc4ec2c_3e1b_11ec_bf6e_02420a394e63row2_col1 {\n",
       "            background-color:  #98d498;\n",
       "            color:  #000000;\n",
       "        }    #T_1cc4ec2c_3e1b_11ec_bf6e_02420a394e63row2_col2 {\n",
       "            background-color:  #2b982b;\n",
       "            color:  #000000;\n",
       "        }    #T_1cc4ec2c_3e1b_11ec_bf6e_02420a394e63row3_col1 {\n",
       "            background-color:  #98d498;\n",
       "            color:  #000000;\n",
       "        }    #T_1cc4ec2c_3e1b_11ec_bf6e_02420a394e63row3_col2 {\n",
       "            background-color:  #7cc57c;\n",
       "            color:  #000000;\n",
       "        }    #T_1cc4ec2c_3e1b_11ec_bf6e_02420a394e63row4_col1 {\n",
       "            background-color:  #caf0ca;\n",
       "            color:  #000000;\n",
       "        }    #T_1cc4ec2c_3e1b_11ec_bf6e_02420a394e63row4_col2 {\n",
       "            background-color:  #008000;\n",
       "            color:  #f1f1f1;\n",
       "        }    #T_1cc4ec2c_3e1b_11ec_bf6e_02420a394e63row5_col1 {\n",
       "            background-color:  #d9f8d9;\n",
       "            color:  #000000;\n",
       "        }    #T_1cc4ec2c_3e1b_11ec_bf6e_02420a394e63row5_col2 {\n",
       "            background-color:  #e4fee4;\n",
       "            color:  #000000;\n",
       "        }    #T_1cc4ec2c_3e1b_11ec_bf6e_02420a394e63row6_col1 {\n",
       "            background-color:  #e4fee4;\n",
       "            color:  #000000;\n",
       "        }    #T_1cc4ec2c_3e1b_11ec_bf6e_02420a394e63row6_col2 {\n",
       "            background-color:  #d7f7d7;\n",
       "            color:  #000000;\n",
       "        }    #T_1cc4ec2c_3e1b_11ec_bf6e_02420a394e63row7_col1 {\n",
       "            background-color:  #e4fee4;\n",
       "            color:  #000000;\n",
       "        }    #T_1cc4ec2c_3e1b_11ec_bf6e_02420a394e63row7_col2 {\n",
       "            background-color:  #e1fde1;\n",
       "            color:  #000000;\n",
       "        }    #T_1cc4ec2c_3e1b_11ec_bf6e_02420a394e63row8_col1 {\n",
       "            background-color:  #e5ffe5;\n",
       "            color:  #000000;\n",
       "        }    #T_1cc4ec2c_3e1b_11ec_bf6e_02420a394e63row8_col2 {\n",
       "            background-color:  #e5ffe5;\n",
       "            color:  #000000;\n",
       "        }</style><table id=\"T_1cc4ec2c_3e1b_11ec_bf6e_02420a394e63\" ><thead>    <tr>        <th class=\"blank level0\" ></th>        <th class=\"col_heading level0 col0\" >Hypothesis</th>        <th class=\"col_heading level0 col1\" >RICE</th>        <th class=\"col_heading level0 col2\" >ICE</th>    </tr></thead><tbody>\n",
       "                <tr>\n",
       "                        <th id=\"T_1cc4ec2c_3e1b_11ec_bf6e_02420a394e63level0_row0\" class=\"row_heading level0 row0\" >7</th>\n",
       "                        <td id=\"T_1cc4ec2c_3e1b_11ec_bf6e_02420a394e63row0_col0\" class=\"data row0 col0\" >Добавить форму подписки на все основные страницы, чтобы собрать базу клиентов для email-рассылок</td>\n",
       "                        <td id=\"T_1cc4ec2c_3e1b_11ec_bf6e_02420a394e63row0_col1\" class=\"data row0 col1\" >112</td>\n",
       "                        <td id=\"T_1cc4ec2c_3e1b_11ec_bf6e_02420a394e63row0_col2\" class=\"data row0 col2\" >11.2</td>\n",
       "            </tr>\n",
       "            <tr>\n",
       "                        <th id=\"T_1cc4ec2c_3e1b_11ec_bf6e_02420a394e63level0_row1\" class=\"row_heading level0 row1\" >2</th>\n",
       "                        <td id=\"T_1cc4ec2c_3e1b_11ec_bf6e_02420a394e63row1_col0\" class=\"data row1 col0\" >Добавить блоки рекомендаций товаров на сайт интернет магазина, чтобы повысить конверсию и средний чек заказа</td>\n",
       "                        <td id=\"T_1cc4ec2c_3e1b_11ec_bf6e_02420a394e63row1_col1\" class=\"data row1 col1\" >56</td>\n",
       "                        <td id=\"T_1cc4ec2c_3e1b_11ec_bf6e_02420a394e63row1_col2\" class=\"data row1 col2\" >7</td>\n",
       "            </tr>\n",
       "            <tr>\n",
       "                        <th id=\"T_1cc4ec2c_3e1b_11ec_bf6e_02420a394e63level0_row2\" class=\"row_heading level0 row2\" >0</th>\n",
       "                        <td id=\"T_1cc4ec2c_3e1b_11ec_bf6e_02420a394e63row2_col0\" class=\"data row2 col0\" >Добавить два новых канала привлечения трафика, что позволит привлекать на 30% больше пользователей</td>\n",
       "                        <td id=\"T_1cc4ec2c_3e1b_11ec_bf6e_02420a394e63row2_col1\" class=\"data row2 col1\" >40</td>\n",
       "                        <td id=\"T_1cc4ec2c_3e1b_11ec_bf6e_02420a394e63row2_col2\" class=\"data row2 col2\" >13.33</td>\n",
       "            </tr>\n",
       "            <tr>\n",
       "                        <th id=\"T_1cc4ec2c_3e1b_11ec_bf6e_02420a394e63level0_row3\" class=\"row_heading level0 row3\" >6</th>\n",
       "                        <td id=\"T_1cc4ec2c_3e1b_11ec_bf6e_02420a394e63row3_col0\" class=\"data row3 col0\" >Показать на главной странице баннеры с актуальными акциями и распродажами, чтобы увеличить конверсию</td>\n",
       "                        <td id=\"T_1cc4ec2c_3e1b_11ec_bf6e_02420a394e63row3_col1\" class=\"data row3 col1\" >40</td>\n",
       "                        <td id=\"T_1cc4ec2c_3e1b_11ec_bf6e_02420a394e63row3_col2\" class=\"data row3 col2\" >8</td>\n",
       "            </tr>\n",
       "            <tr>\n",
       "                        <th id=\"T_1cc4ec2c_3e1b_11ec_bf6e_02420a394e63level0_row4\" class=\"row_heading level0 row4\" >8</th>\n",
       "                        <td id=\"T_1cc4ec2c_3e1b_11ec_bf6e_02420a394e63row4_col0\" class=\"data row4 col0\" >Запустить акцию, дающую скидку на товар в день рождения</td>\n",
       "                        <td id=\"T_1cc4ec2c_3e1b_11ec_bf6e_02420a394e63row4_col1\" class=\"data row4 col1\" >16.2</td>\n",
       "                        <td id=\"T_1cc4ec2c_3e1b_11ec_bf6e_02420a394e63row4_col2\" class=\"data row4 col2\" >16.2</td>\n",
       "            </tr>\n",
       "            <tr>\n",
       "                        <th id=\"T_1cc4ec2c_3e1b_11ec_bf6e_02420a394e63level0_row5\" class=\"row_heading level0 row5\" >3</th>\n",
       "                        <td id=\"T_1cc4ec2c_3e1b_11ec_bf6e_02420a394e63row5_col0\" class=\"data row5 col0\" >Изменить структура категорий, что увеличит конверсию, т.к. пользователи быстрее найдут нужный товар</td>\n",
       "                        <td id=\"T_1cc4ec2c_3e1b_11ec_bf6e_02420a394e63row5_col1\" class=\"data row5 col1\" >9</td>\n",
       "                        <td id=\"T_1cc4ec2c_3e1b_11ec_bf6e_02420a394e63row5_col2\" class=\"data row5 col2\" >1.12</td>\n",
       "            </tr>\n",
       "            <tr>\n",
       "                        <th id=\"T_1cc4ec2c_3e1b_11ec_bf6e_02420a394e63level0_row6\" class=\"row_heading level0 row6\" >1</th>\n",
       "                        <td id=\"T_1cc4ec2c_3e1b_11ec_bf6e_02420a394e63row6_col0\" class=\"data row6 col0\" >Запустить собственную службу доставки, что сократит срок доставки заказов</td>\n",
       "                        <td id=\"T_1cc4ec2c_3e1b_11ec_bf6e_02420a394e63row6_col1\" class=\"data row6 col1\" >4</td>\n",
       "                        <td id=\"T_1cc4ec2c_3e1b_11ec_bf6e_02420a394e63row6_col2\" class=\"data row6 col2\" >2</td>\n",
       "            </tr>\n",
       "            <tr>\n",
       "                        <th id=\"T_1cc4ec2c_3e1b_11ec_bf6e_02420a394e63level0_row7\" class=\"row_heading level0 row7\" >5</th>\n",
       "                        <td id=\"T_1cc4ec2c_3e1b_11ec_bf6e_02420a394e63row7_col0\" class=\"data row7 col0\" >Добавить страницу отзывов клиентов о магазине, что позволит увеличить количество заказов</td>\n",
       "                        <td id=\"T_1cc4ec2c_3e1b_11ec_bf6e_02420a394e63row7_col1\" class=\"data row7 col1\" >4</td>\n",
       "                        <td id=\"T_1cc4ec2c_3e1b_11ec_bf6e_02420a394e63row7_col2\" class=\"data row7 col2\" >1.33</td>\n",
       "            </tr>\n",
       "            <tr>\n",
       "                        <th id=\"T_1cc4ec2c_3e1b_11ec_bf6e_02420a394e63level0_row8\" class=\"row_heading level0 row8\" >4</th>\n",
       "                        <td id=\"T_1cc4ec2c_3e1b_11ec_bf6e_02420a394e63row8_col0\" class=\"data row8 col0\" >Изменить цвет фона главной страницы, чтобы увеличить вовлеченность пользователей</td>\n",
       "                        <td id=\"T_1cc4ec2c_3e1b_11ec_bf6e_02420a394e63row8_col1\" class=\"data row8 col1\" >3</td>\n",
       "                        <td id=\"T_1cc4ec2c_3e1b_11ec_bf6e_02420a394e63row8_col2\" class=\"data row8 col2\" >1</td>\n",
       "            </tr>\n",
       "    </tbody></table>"
      ],
      "text/plain": [
       "<pandas.io.formats.style.Styler at 0x7f5b2d4b0090>"
      ]
     },
     "metadata": {},
     "output_type": "display_data"
    }
   ],
   "source": [
    "hypothesis['RICE'] = (\n",
    "    hypothesis['Reach'] * hypothesis['Impact'] * hypothesis['Confidence']\n",
    ") / hypothesis['Efforts']\n",
    "\n",
    "cm = sns.light_palette(\"green\", as_cmap=True)\n",
    "display(\n",
    "    hypothesis\n",
    "    .sort_values(by='RICE',ascending=False)[['Hypothesis','RICE', 'ICE']]\n",
    "    .style.background_gradient(cmap=cm)\n",
    ")"
   ]
  },
  {
   "cell_type": "markdown",
   "metadata": {},
   "source": [
    "Вывод: наиболее перспективные гипотезы - гипотезы:\n",
    "* \"Добавить форму подписки на все основные страницы, чтобы собрать базу клиентов для email-рассылок\";\n",
    "- \"Добавить блоки рекомендаций товаров на сайт интернет магазина, чтобы повысить конверсию и средний чек заказа\";\n",
    "- \"Добавить два новых канала привлечения трафика, что позволит привлекать на 30% больше пользователей\";\n",
    "- \"Показать на главной странице баннеры с актуальными акциями и распродажами, чтобы увеличить конверсию\"\n",
    "\n",
    "Но **самая перспективная** гипотеза - **\"Добавить форму подписки на все основные страницы, чтобы собрать базу клиентов для email-рассылок\"**.\n",
    "\n",
    "У гипотезы \"Запустить акцию, дающую скидку на товар в день рождения\" охват пользователей равен 1, поэтому данная гипотеза в списке приоритизации уступила место гипотезам с более широким охватом."
   ]
  },
  {
   "cell_type": "markdown",
   "metadata": {},
   "source": [
    "### Вывод"
   ]
  },
  {
   "cell_type": "markdown",
   "metadata": {},
   "source": [
    "Так как охват пользователей для гипотезы \"Добавить форму подписки на все основные страницы, чтобы собрать базу клиентов для email-рассылок\" - максимальный из всех, данная гипотеза - самая перспективная по методу RICE."
   ]
  },
  {
   "cell_type": "markdown",
   "metadata": {},
   "source": [
    "## Анализ A/B-теста"
   ]
  },
  {
   "cell_type": "markdown",
   "metadata": {},
   "source": [
    "Создадим массив уникальных пар значений дат и групп теста"
   ]
  },
  {
   "cell_type": "code",
   "execution_count": 26,
   "metadata": {},
   "outputs": [],
   "source": [
    "datesGroups = orders[['date','group']].drop_duplicates() "
   ]
  },
  {
   "cell_type": "markdown",
   "metadata": {},
   "source": [
    "Соберём агрегированные кумулятивные по дням данные о заказах"
   ]
  },
  {
   "cell_type": "code",
   "execution_count": 27,
   "metadata": {},
   "outputs": [
    {
     "data": {
      "text/html": [
       "<div>\n",
       "<style scoped>\n",
       "    .dataframe tbody tr th:only-of-type {\n",
       "        vertical-align: middle;\n",
       "    }\n",
       "\n",
       "    .dataframe tbody tr th {\n",
       "        vertical-align: top;\n",
       "    }\n",
       "\n",
       "    .dataframe thead th {\n",
       "        text-align: right;\n",
       "    }\n",
       "</style>\n",
       "<table border=\"1\" class=\"dataframe\">\n",
       "  <thead>\n",
       "    <tr style=\"text-align: right;\">\n",
       "      <th></th>\n",
       "      <th>date</th>\n",
       "      <th>group</th>\n",
       "      <th>transactionId</th>\n",
       "      <th>visitorId</th>\n",
       "      <th>revenue</th>\n",
       "    </tr>\n",
       "  </thead>\n",
       "  <tbody>\n",
       "    <tr>\n",
       "      <td>55</td>\n",
       "      <td>2019-08-01</td>\n",
       "      <td>A</td>\n",
       "      <td>24</td>\n",
       "      <td>20</td>\n",
       "      <td>148579</td>\n",
       "    </tr>\n",
       "    <tr>\n",
       "      <td>66</td>\n",
       "      <td>2019-08-01</td>\n",
       "      <td>B</td>\n",
       "      <td>21</td>\n",
       "      <td>20</td>\n",
       "      <td>101217</td>\n",
       "    </tr>\n",
       "    <tr>\n",
       "      <td>175</td>\n",
       "      <td>2019-08-02</td>\n",
       "      <td>A</td>\n",
       "      <td>44</td>\n",
       "      <td>38</td>\n",
       "      <td>242401</td>\n",
       "    </tr>\n",
       "    <tr>\n",
       "      <td>173</td>\n",
       "      <td>2019-08-02</td>\n",
       "      <td>B</td>\n",
       "      <td>45</td>\n",
       "      <td>43</td>\n",
       "      <td>266748</td>\n",
       "    </tr>\n",
       "    <tr>\n",
       "      <td>291</td>\n",
       "      <td>2019-08-03</td>\n",
       "      <td>A</td>\n",
       "      <td>68</td>\n",
       "      <td>62</td>\n",
       "      <td>354874</td>\n",
       "    </tr>\n",
       "  </tbody>\n",
       "</table>\n",
       "</div>"
      ],
      "text/plain": [
       "          date group  transactionId  visitorId  revenue\n",
       "55  2019-08-01     A             24         20   148579\n",
       "66  2019-08-01     B             21         20   101217\n",
       "175 2019-08-02     A             44         38   242401\n",
       "173 2019-08-02     B             45         43   266748\n",
       "291 2019-08-03     A             68         62   354874"
      ]
     },
     "metadata": {},
     "output_type": "display_data"
    }
   ],
   "source": [
    "ordersAggregated = datesGroups.apply(\n",
    "    lambda x: orders[\n",
    "        np.logical_and(\n",
    "            orders['date'] <= x['date'], orders['group'] == x['group']\n",
    "        )\n",
    "    ].agg(\n",
    "        {\n",
    "            'date': 'max',\n",
    "            'group': 'max',\n",
    "            'transactionId': pd.Series.nunique,\n",
    "            'visitorId': pd.Series.nunique,\n",
    "            'revenue': 'sum',\n",
    "        }\n",
    "    ),\n",
    "    axis=1,\n",
    ").sort_values(by=['date', 'group'])\n",
    "\n",
    "display(ordersAggregated.head())"
   ]
  },
  {
   "cell_type": "markdown",
   "metadata": {},
   "source": [
    "Рассчитаем кумулятивный средний чек:"
   ]
  },
  {
   "cell_type": "code",
   "execution_count": 28,
   "metadata": {},
   "outputs": [
    {
     "data": {
      "text/html": [
       "<div>\n",
       "<style scoped>\n",
       "    .dataframe tbody tr th:only-of-type {\n",
       "        vertical-align: middle;\n",
       "    }\n",
       "\n",
       "    .dataframe tbody tr th {\n",
       "        vertical-align: top;\n",
       "    }\n",
       "\n",
       "    .dataframe thead th {\n",
       "        text-align: right;\n",
       "    }\n",
       "</style>\n",
       "<table border=\"1\" class=\"dataframe\">\n",
       "  <thead>\n",
       "    <tr style=\"text-align: right;\">\n",
       "      <th></th>\n",
       "      <th>date</th>\n",
       "      <th>group</th>\n",
       "      <th>transactionId</th>\n",
       "      <th>visitorId</th>\n",
       "      <th>revenue</th>\n",
       "      <th>revenue_per_order</th>\n",
       "    </tr>\n",
       "  </thead>\n",
       "  <tbody>\n",
       "    <tr>\n",
       "      <td>55</td>\n",
       "      <td>2019-08-01</td>\n",
       "      <td>A</td>\n",
       "      <td>24</td>\n",
       "      <td>20</td>\n",
       "      <td>148579</td>\n",
       "      <td>6190.79</td>\n",
       "    </tr>\n",
       "    <tr>\n",
       "      <td>66</td>\n",
       "      <td>2019-08-01</td>\n",
       "      <td>B</td>\n",
       "      <td>21</td>\n",
       "      <td>20</td>\n",
       "      <td>101217</td>\n",
       "      <td>4819.86</td>\n",
       "    </tr>\n",
       "    <tr>\n",
       "      <td>175</td>\n",
       "      <td>2019-08-02</td>\n",
       "      <td>A</td>\n",
       "      <td>44</td>\n",
       "      <td>38</td>\n",
       "      <td>242401</td>\n",
       "      <td>5509.11</td>\n",
       "    </tr>\n",
       "    <tr>\n",
       "      <td>173</td>\n",
       "      <td>2019-08-02</td>\n",
       "      <td>B</td>\n",
       "      <td>45</td>\n",
       "      <td>43</td>\n",
       "      <td>266748</td>\n",
       "      <td>5927.73</td>\n",
       "    </tr>\n",
       "    <tr>\n",
       "      <td>291</td>\n",
       "      <td>2019-08-03</td>\n",
       "      <td>A</td>\n",
       "      <td>68</td>\n",
       "      <td>62</td>\n",
       "      <td>354874</td>\n",
       "      <td>5218.74</td>\n",
       "    </tr>\n",
       "  </tbody>\n",
       "</table>\n",
       "</div>"
      ],
      "text/plain": [
       "          date group  transactionId  visitorId  revenue  revenue_per_order\n",
       "55  2019-08-01     A             24         20   148579            6190.79\n",
       "66  2019-08-01     B             21         20   101217            4819.86\n",
       "175 2019-08-02     A             44         38   242401            5509.11\n",
       "173 2019-08-02     B             45         43   266748            5927.73\n",
       "291 2019-08-03     A             68         62   354874            5218.74"
      ]
     },
     "metadata": {},
     "output_type": "display_data"
    }
   ],
   "source": [
    "ordersAggregated['revenue_per_order'] = (ordersAggregated['revenue'] / ordersAggregated['transactionId']).round(2)\n",
    "display(ordersAggregated.head())"
   ]
  },
  {
   "cell_type": "markdown",
   "metadata": {},
   "source": [
    "Соберём агрегированные кумулятивные по дням данные о пользователях"
   ]
  },
  {
   "cell_type": "code",
   "execution_count": 29,
   "metadata": {},
   "outputs": [
    {
     "data": {
      "text/html": [
       "<div>\n",
       "<style scoped>\n",
       "    .dataframe tbody tr th:only-of-type {\n",
       "        vertical-align: middle;\n",
       "    }\n",
       "\n",
       "    .dataframe tbody tr th {\n",
       "        vertical-align: top;\n",
       "    }\n",
       "\n",
       "    .dataframe thead th {\n",
       "        text-align: right;\n",
       "    }\n",
       "</style>\n",
       "<table border=\"1\" class=\"dataframe\">\n",
       "  <thead>\n",
       "    <tr style=\"text-align: right;\">\n",
       "      <th></th>\n",
       "      <th>date</th>\n",
       "      <th>group</th>\n",
       "      <th>visitors</th>\n",
       "    </tr>\n",
       "  </thead>\n",
       "  <tbody>\n",
       "    <tr>\n",
       "      <td>55</td>\n",
       "      <td>2019-08-01</td>\n",
       "      <td>A</td>\n",
       "      <td>719</td>\n",
       "    </tr>\n",
       "    <tr>\n",
       "      <td>66</td>\n",
       "      <td>2019-08-01</td>\n",
       "      <td>B</td>\n",
       "      <td>713</td>\n",
       "    </tr>\n",
       "    <tr>\n",
       "      <td>175</td>\n",
       "      <td>2019-08-02</td>\n",
       "      <td>A</td>\n",
       "      <td>1338</td>\n",
       "    </tr>\n",
       "    <tr>\n",
       "      <td>173</td>\n",
       "      <td>2019-08-02</td>\n",
       "      <td>B</td>\n",
       "      <td>1294</td>\n",
       "    </tr>\n",
       "    <tr>\n",
       "      <td>291</td>\n",
       "      <td>2019-08-03</td>\n",
       "      <td>A</td>\n",
       "      <td>1845</td>\n",
       "    </tr>\n",
       "  </tbody>\n",
       "</table>\n",
       "</div>"
      ],
      "text/plain": [
       "          date group  visitors\n",
       "55  2019-08-01     A       719\n",
       "66  2019-08-01     B       713\n",
       "175 2019-08-02     A      1338\n",
       "173 2019-08-02     B      1294\n",
       "291 2019-08-03     A      1845"
      ]
     },
     "metadata": {},
     "output_type": "display_data"
    }
   ],
   "source": [
    "visitorsAggregated = datesGroups.apply(\n",
    "    lambda x: visitors[\n",
    "        np.logical_and(\n",
    "            visitors['date'] <= x['date'], visitors['group'] == x['group']\n",
    "        )\n",
    "    ].agg({'date': 'max', 'group': 'max', 'visitors': 'sum'}),\n",
    "    axis=1,\n",
    ").sort_values(by=['date', 'group'])\n",
    "display(visitorsAggregated.head())"
   ]
  },
  {
   "cell_type": "markdown",
   "metadata": {},
   "source": [
    "Объединим две полученные таблицы:"
   ]
  },
  {
   "cell_type": "code",
   "execution_count": 30,
   "metadata": {},
   "outputs": [
    {
     "data": {
      "text/html": [
       "<div>\n",
       "<style scoped>\n",
       "    .dataframe tbody tr th:only-of-type {\n",
       "        vertical-align: middle;\n",
       "    }\n",
       "\n",
       "    .dataframe tbody tr th {\n",
       "        vertical-align: top;\n",
       "    }\n",
       "\n",
       "    .dataframe thead th {\n",
       "        text-align: right;\n",
       "    }\n",
       "</style>\n",
       "<table border=\"1\" class=\"dataframe\">\n",
       "  <thead>\n",
       "    <tr style=\"text-align: right;\">\n",
       "      <th></th>\n",
       "      <th>date</th>\n",
       "      <th>group</th>\n",
       "      <th>transactionId</th>\n",
       "      <th>visitorId</th>\n",
       "      <th>revenue</th>\n",
       "      <th>revenue_per_order</th>\n",
       "      <th>visitors</th>\n",
       "    </tr>\n",
       "  </thead>\n",
       "  <tbody>\n",
       "    <tr>\n",
       "      <td>0</td>\n",
       "      <td>2019-08-01</td>\n",
       "      <td>A</td>\n",
       "      <td>24</td>\n",
       "      <td>20</td>\n",
       "      <td>148579</td>\n",
       "      <td>6190.79</td>\n",
       "      <td>719</td>\n",
       "    </tr>\n",
       "    <tr>\n",
       "      <td>1</td>\n",
       "      <td>2019-08-01</td>\n",
       "      <td>B</td>\n",
       "      <td>21</td>\n",
       "      <td>20</td>\n",
       "      <td>101217</td>\n",
       "      <td>4819.86</td>\n",
       "      <td>713</td>\n",
       "    </tr>\n",
       "    <tr>\n",
       "      <td>2</td>\n",
       "      <td>2019-08-02</td>\n",
       "      <td>A</td>\n",
       "      <td>44</td>\n",
       "      <td>38</td>\n",
       "      <td>242401</td>\n",
       "      <td>5509.11</td>\n",
       "      <td>1338</td>\n",
       "    </tr>\n",
       "    <tr>\n",
       "      <td>3</td>\n",
       "      <td>2019-08-02</td>\n",
       "      <td>B</td>\n",
       "      <td>45</td>\n",
       "      <td>43</td>\n",
       "      <td>266748</td>\n",
       "      <td>5927.73</td>\n",
       "      <td>1294</td>\n",
       "    </tr>\n",
       "    <tr>\n",
       "      <td>4</td>\n",
       "      <td>2019-08-03</td>\n",
       "      <td>A</td>\n",
       "      <td>68</td>\n",
       "      <td>62</td>\n",
       "      <td>354874</td>\n",
       "      <td>5218.74</td>\n",
       "      <td>1845</td>\n",
       "    </tr>\n",
       "  </tbody>\n",
       "</table>\n",
       "</div>"
      ],
      "text/plain": [
       "        date group  transactionId  visitorId  revenue  revenue_per_order  \\\n",
       "0 2019-08-01     A             24         20   148579            6190.79   \n",
       "1 2019-08-01     B             21         20   101217            4819.86   \n",
       "2 2019-08-02     A             44         38   242401            5509.11   \n",
       "3 2019-08-02     B             45         43   266748            5927.73   \n",
       "4 2019-08-03     A             68         62   354874            5218.74   \n",
       "\n",
       "   visitors  \n",
       "0       719  \n",
       "1       713  \n",
       "2      1338  \n",
       "3      1294  \n",
       "4      1845  "
      ]
     },
     "metadata": {},
     "output_type": "display_data"
    }
   ],
   "source": [
    "cumulativeData = ordersAggregated.merge(\n",
    "    visitorsAggregated, on=['date', 'group']\n",
    ")\n",
    "display(cumulativeData.head())"
   ]
  },
  {
   "cell_type": "code",
   "execution_count": 31,
   "metadata": {},
   "outputs": [
    {
     "data": {
      "text/html": [
       "<div>\n",
       "<style scoped>\n",
       "    .dataframe tbody tr th:only-of-type {\n",
       "        vertical-align: middle;\n",
       "    }\n",
       "\n",
       "    .dataframe tbody tr th {\n",
       "        vertical-align: top;\n",
       "    }\n",
       "\n",
       "    .dataframe thead th {\n",
       "        text-align: right;\n",
       "    }\n",
       "</style>\n",
       "<table border=\"1\" class=\"dataframe\">\n",
       "  <thead>\n",
       "    <tr style=\"text-align: right;\">\n",
       "      <th></th>\n",
       "      <th>date</th>\n",
       "      <th>group</th>\n",
       "      <th>orders</th>\n",
       "      <th>buyers</th>\n",
       "      <th>revenue</th>\n",
       "      <th>revenue_per_order</th>\n",
       "      <th>visitors</th>\n",
       "    </tr>\n",
       "  </thead>\n",
       "  <tbody>\n",
       "    <tr>\n",
       "      <td>0</td>\n",
       "      <td>2019-08-01</td>\n",
       "      <td>A</td>\n",
       "      <td>24</td>\n",
       "      <td>20</td>\n",
       "      <td>148579</td>\n",
       "      <td>6190.79</td>\n",
       "      <td>719</td>\n",
       "    </tr>\n",
       "    <tr>\n",
       "      <td>1</td>\n",
       "      <td>2019-08-01</td>\n",
       "      <td>B</td>\n",
       "      <td>21</td>\n",
       "      <td>20</td>\n",
       "      <td>101217</td>\n",
       "      <td>4819.86</td>\n",
       "      <td>713</td>\n",
       "    </tr>\n",
       "    <tr>\n",
       "      <td>2</td>\n",
       "      <td>2019-08-02</td>\n",
       "      <td>A</td>\n",
       "      <td>44</td>\n",
       "      <td>38</td>\n",
       "      <td>242401</td>\n",
       "      <td>5509.11</td>\n",
       "      <td>1338</td>\n",
       "    </tr>\n",
       "    <tr>\n",
       "      <td>3</td>\n",
       "      <td>2019-08-02</td>\n",
       "      <td>B</td>\n",
       "      <td>45</td>\n",
       "      <td>43</td>\n",
       "      <td>266748</td>\n",
       "      <td>5927.73</td>\n",
       "      <td>1294</td>\n",
       "    </tr>\n",
       "    <tr>\n",
       "      <td>4</td>\n",
       "      <td>2019-08-03</td>\n",
       "      <td>A</td>\n",
       "      <td>68</td>\n",
       "      <td>62</td>\n",
       "      <td>354874</td>\n",
       "      <td>5218.74</td>\n",
       "      <td>1845</td>\n",
       "    </tr>\n",
       "  </tbody>\n",
       "</table>\n",
       "</div>"
      ],
      "text/plain": [
       "        date group  orders  buyers  revenue  revenue_per_order  visitors\n",
       "0 2019-08-01     A      24      20   148579            6190.79       719\n",
       "1 2019-08-01     B      21      20   101217            4819.86       713\n",
       "2 2019-08-02     A      44      38   242401            5509.11      1338\n",
       "3 2019-08-02     B      45      43   266748            5927.73      1294\n",
       "4 2019-08-03     A      68      62   354874            5218.74      1845"
      ]
     },
     "metadata": {},
     "output_type": "display_data"
    }
   ],
   "source": [
    "# Переименуем столбцы\n",
    "cumulativeData.columns = [\n",
    "    'date',\n",
    "    'group',\n",
    "    'orders',\n",
    "    'buyers',\n",
    "    'revenue',\n",
    "    'revenue_per_order',\n",
    "    'visitors',\n",
    "]\n",
    "display(cumulativeData.head())"
   ]
  },
  {
   "cell_type": "markdown",
   "metadata": {},
   "source": [
    "### Анализ графиков кумулятивных метрик"
   ]
  },
  {
   "cell_type": "markdown",
   "metadata": {},
   "source": [
    "#### График кумулятивной выручки по группам"
   ]
  },
  {
   "cell_type": "code",
   "execution_count": 32,
   "metadata": {},
   "outputs": [],
   "source": [
    "# Отделяем данные по группе А:\n",
    "cumulativeRevenueA = cumulativeData[cumulativeData['group'] == 'A'][['date','revenue','revenue_per_order']]"
   ]
  },
  {
   "cell_type": "code",
   "execution_count": 33,
   "metadata": {},
   "outputs": [],
   "source": [
    "# Отделяем данные по группе B:\n",
    "cumulativeRevenueB = cumulativeData[cumulativeData['group'] == 'B'][['date','revenue','revenue_per_order']]"
   ]
  },
  {
   "cell_type": "code",
   "execution_count": 38,
   "metadata": {},
   "outputs": [
    {
     "data": {
      "image/png": "[encoded data removed]",
      "text/plain": [
       "<Figure size 720x432 with 1 Axes>"
      ]
     },
     "metadata": {
      "needs_background": "light"
     },
     "output_type": "display_data"
    }
   ],
   "source": [
    "plt.figure(figsize=(10,6))\n",
    "plt.title(\"Кумулятивная выручка по группам\",size=14)\n",
    "plt.plot(cumulativeRevenueA['date'], cumulativeRevenueA['revenue'], label='A')\n",
    "plt.plot(cumulativeRevenueB['date'], cumulativeRevenueB['revenue'], label='B')\n",
    "plt.legend()\n",
    "plt.grid()\n",
    "plt.axis(['2019-08-01', '2019-08-31', 0, 6000000])\n",
    "plt.xlabel(\"Дата\",size=12)\n",
    "plt.xticks(rotation=30, size=10)\n",
    "plt.ylabel(\"Кумулятивная выручка\",size=12)\n",
    "plt.yticks(size=10)\n",
    "plt.annotate(\n",
    "    'скачок',\n",
    "    xy=('2019-08-17', 2800000),\n",
    "    xytext=('2019-08-10', 3500000),\n",
    "    arrowprops=dict(facecolor='g')\n",
    ")\n",
    "plt.annotate(\n",
    "    'отрыв',\n",
    "    xy=('2019-08-05', 800000),\n",
    "    xytext=('2019-08-05', 2000000),\n",
    "    arrowprops=dict(facecolor='g')\n",
    ") \n",
    "plt.show()"
   ]
  },
  {
   "cell_type": "markdown",
   "metadata": {},
   "source": [
    "**Вывод:** Выручка группы А увеличивается более равномерно, а вот у графика выручки группы B есть резкий скачок 18-19 августа. Это может сигнализировать о всплесках числа заказов, либо о появлении очень дорогих заказов в выборке "
   ]
  },
  {
   "cell_type": "markdown",
   "metadata": {},
   "source": [
    "#### График кумулятивного среднего чека по группам"
   ]
  },
  {
   "cell_type": "code",
   "execution_count": 47,
   "metadata": {},
   "outputs": [
    {
     "data": {
      "image/png": "[encoded data removed]",
      "text/plain": [
       "<Figure size 720x432 with 1 Axes>"
      ]
     },
     "metadata": {
      "needs_background": "light"
     },
     "output_type": "display_data"
    }
   ],
   "source": [
    "plt.figure(figsize=(10,6))\n",
    "plt.title(\"Кумулятивный средний чек по группам\",size=14)\n",
    "plt.plot(cumulativeRevenueA['date'], cumulativeRevenueA['revenue_per_order'], label='A')\n",
    "plt.plot(cumulativeRevenueB['date'], cumulativeRevenueB['revenue_per_order'], label='B')\n",
    "plt.legend()\n",
    "plt.grid()\n",
    "plt.axis(['2019-08-01', '2019-08-31', 3000, 11000])\n",
    "plt.xlabel(\"Дата\",size=12)\n",
    "plt.xticks(rotation=30, size=10)\n",
    "plt.ylabel(\"Кумулятивный средний чек\",size=12)\n",
    "plt.yticks(size=10)\n",
    "plt.annotate(\n",
    "    'скачок',\n",
    "    xy=('2019-08-17', 7300),\n",
    "    xytext=('2019-08-10', 9000),\n",
    "    arrowprops=dict(facecolor='g')\n",
    ")\n",
    "plt.show()"
   ]
  },
  {
   "cell_type": "markdown",
   "metadata": {},
   "source": [
    "**Вывод:** в целом колебания в графике среднего чека группы А не такие резкие как у группы В. Кумулятивный средний чек группы А сначала снижался (с 1 по 6 августа), потом стал расти (с 6 по 13 августа), после 13 августа он колеблется возле отметки 7000, и уже в конце теста опять немного вырос. А вот средний чек группы В скачкообразно растет до 8 августа, после идет колебание возле отметки 7000, и 18 августа опять резкий скачок, после 19 августа наблюдаем тренд на снижение. "
   ]
  },
  {
   "cell_type": "markdown",
   "metadata": {},
   "source": [
    "#### График относительного изменения кумулятивного среднего чека группы B к группе A"
   ]
  },
  {
   "cell_type": "code",
   "execution_count": 49,
   "metadata": {},
   "outputs": [],
   "source": [
    "#Соединим два датафрейма с кумулятивными выручками и средними чеками для групп:\n",
    "mergedCumulativeRevenue = cumulativeRevenueA.merge(\n",
    "    cumulativeRevenueB,\n",
    "    on='date',\n",
    "    how='left',\n",
    "    suffixes=['A', 'B']\n",
    ")"
   ]
  },
  {
   "cell_type": "code",
   "execution_count": 58,
   "metadata": {},
   "outputs": [
    {
     "data": {
      "image/png": "[encoded data removed]",
      "text/plain": [
       "<Figure size 720x432 with 1 Axes>"
      ]
     },
     "metadata": {
      "needs_background": "light"
     },
     "output_type": "display_data"
    }
   ],
   "source": [
    "plt.figure(figsize=(10,6))\n",
    "plt.title(\"Относительное изменение кумулятивного среднего чека группы В к группе А\",size=14)\n",
    "plt.plot(\n",
    "    mergedCumulativeRevenue['date'],\n",
    "    mergedCumulativeRevenue['revenue_per_orderB'] / mergedCumulativeRevenue['revenue_per_orderA'] - 1\n",
    ")\n",
    "\n",
    "plt.grid()\n",
    "plt.axis(['2019-08-01', '2019-08-31', -0.3, 0.6])\n",
    "plt.xlabel(\"Дата\",size=12)\n",
    "plt.xticks(rotation=30, size=10)\n",
    "plt.ylabel(\"Относительное изменение\",size=12)\n",
    "plt.yticks(size=10)\n",
    "plt.annotate(\n",
    "    'скачок',\n",
    "    xy=('2019-08-17', 0.1),\n",
    "    xytext=('2019-08-12', 0.4),\n",
    "    arrowprops=dict(facecolor='g')\n",
    ")\n",
    "plt.annotate(\n",
    "    'обвал',\n",
    "    xy=('2019-08-08', 0.3),\n",
    "    xytext=('2019-08-05', -0.1),\n",
    "    arrowprops=dict(facecolor='g')\n",
    ")\n",
    "plt.show()"
   ]
  },
  {
   "cell_type": "markdown",
   "metadata": {},
   "source": [
    "**Вывод:** в нескольких местах график различия между группами резко скачет, где-то есть выбросы и/или крупные заказы."
   ]
  },
  {
   "cell_type": "markdown",
   "metadata": {},
   "source": [
    "#### График кумулятивной конверсии по группам"
   ]
  },
  {
   "cell_type": "code",
   "execution_count": 59,
   "metadata": {},
   "outputs": [],
   "source": [
    "# Посчитаем кумулятивную конверсию:\n",
    "cumulativeData['conversion'] = (\n",
    "    cumulativeData['buyers'] / cumulativeData['visitors']\n",
    ")"
   ]
  },
  {
   "cell_type": "code",
   "execution_count": 60,
   "metadata": {},
   "outputs": [],
   "source": [
    "# отделяем данные по группе A\n",
    "cumulativeDataA = cumulativeData[cumulativeData['group']=='A']"
   ]
  },
  {
   "cell_type": "code",
   "execution_count": 61,
   "metadata": {},
   "outputs": [],
   "source": [
    "# отделяем данные по группе B\n",
    "cumulativeDataB = cumulativeData[cumulativeData['group']=='B']"
   ]
  },
  {
   "cell_type": "code",
   "execution_count": 63,
   "metadata": {},
   "outputs": [
    {
     "data": {
      "image/png": "[encoded data removed]",
      "text/plain": [
       "<Figure size 720x432 with 1 Axes>"
      ]
     },
     "metadata": {
      "needs_background": "light"
     },
     "output_type": "display_data"
    }
   ],
   "source": [
    "plt.figure(figsize=(10,6))\n",
    "plt.title(\"Кумулятивная конверсия по группам\",size=14)\n",
    "plt.plot(cumulativeDataA['date'], cumulativeDataA['conversion'], label='A')\n",
    "plt.plot(cumulativeDataB['date'], cumulativeDataB['conversion'], label='B')\n",
    "plt.legend()\n",
    "plt.grid()\n",
    "plt.axis(['2019-08-01', '2019-08-31', 0.022, 0.038])\n",
    "plt.xlabel(\"Дата\",size=12)\n",
    "plt.xticks(rotation=30, size=10)\n",
    "plt.ylabel(\"Кумулятивная конверсия\",size=12)\n",
    "plt.yticks(size=10)\n",
    "plt.annotate(\n",
    "    'отрыв',\n",
    "    xy=('2019-08-05', 0.029),\n",
    "    xytext=('2019-08-02', 0.024),\n",
    "    arrowprops=dict(facecolor='g')\n",
    ")\n",
    "plt.show()"
   ]
  },
  {
   "cell_type": "markdown",
   "metadata": {},
   "source": [
    "**Вывод:** До 5 августа у обеих конверсий были самые большие колебания, 5 августа две конверсии почти сравнялись, а после  конверсия группы В стала выше и до конца теста превышала конверсию группы А. В конце временного промежутка колебание конверсий еще присутствует."
   ]
  },
  {
   "cell_type": "markdown",
   "metadata": {},
   "source": [
    "#### График относительного изменения кумулятивной конверсии группы B к группе A. "
   ]
  },
  {
   "cell_type": "code",
   "execution_count": 64,
   "metadata": {},
   "outputs": [],
   "source": [
    "# Объедним таблицы с данными по кумулятивным конверсиям по группам:\n",
    "mergedCumulativeConversions = cumulativeDataA[['date','conversion']].merge(\n",
    "    cumulativeDataB[['date','conversion']],\n",
    "    on='date',\n",
    "    how='left',\n",
    "    suffixes=['A', 'B']\n",
    ")"
   ]
  },
  {
   "cell_type": "code",
   "execution_count": 65,
   "metadata": {},
   "outputs": [
    {
     "data": {
      "image/png": "[encoded data removed]",
      "text/plain": [
       "<Figure size 720x432 with 1 Axes>"
      ]
     },
     "metadata": {
      "needs_background": "light"
     },
     "output_type": "display_data"
    }
   ],
   "source": [
    "plt.figure(figsize=(10,6))\n",
    "plt.title(\"Относительное изменение кумулятивной конверсии группы В к группе А\",size=14)\n",
    "plt.plot(\n",
    "    mergedCumulativeConversions['date'],\n",
    "    mergedCumulativeConversions['conversionB']/mergedCumulativeConversions['conversionA']-1\n",
    "    )\n",
    "plt.axhline(y=0, color='black', linestyle='--')\n",
    "plt.axhline(y=0.2, color='grey', linestyle='--')\n",
    "plt.grid()\n",
    "plt.axis(['2019-08-01', '2019-08-31', -0.1, 0.3])\n",
    "plt.xlabel(\"Дата\",size=12)\n",
    "plt.xticks(rotation=30, size=10)\n",
    "plt.ylabel(\"Относительное изменение\",size=12)\n",
    "plt.yticks(size=10)\n",
    "plt.show()"
   ]
  },
  {
   "cell_type": "markdown",
   "metadata": {},
   "source": [
    "**Вывод:** В начале теста был резкий скачок в оносительном изменении и такое же резкое падение, после 5 августа конверсия группы В стабильно выше конверсии группы А, после 17 августа наблюдаем тренд на снижение относительного изменения, но в конце теста снова стало расти. В целом отношение конверсии ещё не установилось, и надо посмотреть на аномалии и картину без них."
   ]
  },
  {
   "cell_type": "markdown",
   "metadata": {},
   "source": [
    "### Анализ выбросов/поиск аномалий и определение границы"
   ]
  },
  {
   "cell_type": "markdown",
   "metadata": {},
   "source": [
    "####  Стоимости заказов"
   ]
  },
  {
   "cell_type": "code",
   "execution_count": 66,
   "metadata": {},
   "outputs": [
    {
     "data": {
      "text/html": [
       "<div>\n",
       "<style scoped>\n",
       "    .dataframe tbody tr th:only-of-type {\n",
       "        vertical-align: middle;\n",
       "    }\n",
       "\n",
       "    .dataframe tbody tr th {\n",
       "        vertical-align: top;\n",
       "    }\n",
       "\n",
       "    .dataframe thead th {\n",
       "        text-align: right;\n",
       "    }\n",
       "</style>\n",
       "<table border=\"1\" class=\"dataframe\">\n",
       "  <thead>\n",
       "    <tr style=\"text-align: right;\">\n",
       "      <th></th>\n",
       "      <th>transactionId</th>\n",
       "      <th>visitorId</th>\n",
       "      <th>date</th>\n",
       "      <th>revenue</th>\n",
       "      <th>group</th>\n",
       "    </tr>\n",
       "  </thead>\n",
       "  <tbody>\n",
       "    <tr>\n",
       "      <td>279</td>\n",
       "      <td>1101659272</td>\n",
       "      <td>1648269707</td>\n",
       "      <td>2019-08-18</td>\n",
       "      <td>860</td>\n",
       "      <td>A</td>\n",
       "    </tr>\n",
       "    <tr>\n",
       "      <td>357</td>\n",
       "      <td>1623176798</td>\n",
       "      <td>749837663</td>\n",
       "      <td>2019-08-28</td>\n",
       "      <td>14970</td>\n",
       "      <td>A</td>\n",
       "    </tr>\n",
       "    <tr>\n",
       "      <td>1072</td>\n",
       "      <td>3559692217</td>\n",
       "      <td>2306096143</td>\n",
       "      <td>2019-08-12</td>\n",
       "      <td>1780</td>\n",
       "      <td>A</td>\n",
       "    </tr>\n",
       "    <tr>\n",
       "      <td>1111</td>\n",
       "      <td>2358087265</td>\n",
       "      <td>2115669947</td>\n",
       "      <td>2019-08-12</td>\n",
       "      <td>7500</td>\n",
       "      <td>A</td>\n",
       "    </tr>\n",
       "    <tr>\n",
       "      <td>976</td>\n",
       "      <td>260086319</td>\n",
       "      <td>2156256996</td>\n",
       "      <td>2019-08-22</td>\n",
       "      <td>2907</td>\n",
       "      <td>B</td>\n",
       "    </tr>\n",
       "    <tr>\n",
       "      <td>1121</td>\n",
       "      <td>2023943756</td>\n",
       "      <td>1604853044</td>\n",
       "      <td>2019-08-13</td>\n",
       "      <td>28060</td>\n",
       "      <td>A</td>\n",
       "    </tr>\n",
       "    <tr>\n",
       "      <td>862</td>\n",
       "      <td>4203085435</td>\n",
       "      <td>980818195</td>\n",
       "      <td>2019-08-30</td>\n",
       "      <td>7110</td>\n",
       "      <td>A</td>\n",
       "    </tr>\n",
       "    <tr>\n",
       "      <td>754</td>\n",
       "      <td>860384268</td>\n",
       "      <td>2316833558</td>\n",
       "      <td>2019-08-30</td>\n",
       "      <td>2580</td>\n",
       "      <td>B</td>\n",
       "    </tr>\n",
       "    <tr>\n",
       "      <td>854</td>\n",
       "      <td>2865895399</td>\n",
       "      <td>1732269954</td>\n",
       "      <td>2019-08-27</td>\n",
       "      <td>760</td>\n",
       "      <td>A</td>\n",
       "    </tr>\n",
       "    <tr>\n",
       "      <td>224</td>\n",
       "      <td>2024820467</td>\n",
       "      <td>1692957755</td>\n",
       "      <td>2019-08-23</td>\n",
       "      <td>1380</td>\n",
       "      <td>B</td>\n",
       "    </tr>\n",
       "  </tbody>\n",
       "</table>\n",
       "</div>"
      ],
      "text/plain": [
       "      transactionId   visitorId       date  revenue group\n",
       "279      1101659272  1648269707 2019-08-18      860     A\n",
       "357      1623176798   749837663 2019-08-28    14970     A\n",
       "1072     3559692217  2306096143 2019-08-12     1780     A\n",
       "1111     2358087265  2115669947 2019-08-12     7500     A\n",
       "976       260086319  2156256996 2019-08-22     2907     B\n",
       "1121     2023943756  1604853044 2019-08-13    28060     A\n",
       "862      4203085435   980818195 2019-08-30     7110     A\n",
       "754       860384268  2316833558 2019-08-30     2580     B\n",
       "854      2865895399  1732269954 2019-08-27      760     A\n",
       "224      2024820467  1692957755 2019-08-23     1380     B"
      ]
     },
     "metadata": {},
     "output_type": "display_data"
    }
   ],
   "source": [
    "#Посмотрим на таблицу orders в части стоимостей заказов:\n",
    "display(orders.sample(10))"
   ]
  },
  {
   "cell_type": "markdown",
   "metadata": {},
   "source": [
    "Есть покупки и на 380 и на 20450 рублей."
   ]
  },
  {
   "cell_type": "markdown",
   "metadata": {},
   "source": [
    "Построим диаграмму рассеяния\n"
   ]
  },
  {
   "cell_type": "code",
   "execution_count": 67,
   "metadata": {},
   "outputs": [
    {
     "data": {
      "image/png": "[encoded data removed]",
      "text/plain": [
       "<Figure size 720x720 with 1 Axes>"
      ]
     },
     "metadata": {
      "needs_background": "light"
     },
     "output_type": "display_data"
    }
   ],
   "source": [
    "x_values = pd.Series(range(0,len(orders['revenue'])))\n",
    "\n",
    "plt.figure(figsize=(10,10))\n",
    "plt.title(\"Диаграмма рассеяния стоимостей заказов\",size=14)\n",
    "plt.scatter(x_values, orders['revenue']) \n",
    "plt.xlabel(\"заказ\",size=12)\n",
    "plt.ylabel(\"стоимость заказа\",size=12)\n",
    "plt.show()"
   ]
  },
  {
   "cell_type": "markdown",
   "metadata": {},
   "source": [
    "**Вывод:** итак, у нас есть несколько дорогих заказов. По графику можем как границу аномальных заказов выбрать заказы, стоимость которых выше 40000"
   ]
  },
  {
   "cell_type": "markdown",
   "metadata": {},
   "source": [
    "Т.к. принято отсеивать от 1% до 5% наблюдений с крайними значениями, рассчитаем 95 и 99 перцентили стоимости заказов"
   ]
  },
  {
   "cell_type": "code",
   "execution_count": 68,
   "metadata": {},
   "outputs": [
    {
     "name": "stdout",
     "output_type": "stream",
     "text": [
      "[28000.  58233.2]\n"
     ]
    }
   ],
   "source": [
    "print(np.percentile(orders['revenue'], [95, 99])) "
   ]
  },
  {
   "cell_type": "markdown",
   "metadata": {},
   "source": [
    "**Вывод:** не более 5% заказов дороже 28000, не более 1% заказов дороже 58234. Выберем за аномальные заказы - заказы дороже 30000."
   ]
  },
  {
   "cell_type": "markdown",
   "metadata": {},
   "source": [
    "#### Количество заказов по пользователям"
   ]
  },
  {
   "cell_type": "markdown",
   "metadata": {},
   "source": [
    "Посмотрим на количество заказов по пользователям"
   ]
  },
  {
   "cell_type": "code",
   "execution_count": 69,
   "metadata": {},
   "outputs": [
    {
     "data": {
      "text/html": [
       "<div>\n",
       "<style scoped>\n",
       "    .dataframe tbody tr th:only-of-type {\n",
       "        vertical-align: middle;\n",
       "    }\n",
       "\n",
       "    .dataframe tbody tr th {\n",
       "        vertical-align: top;\n",
       "    }\n",
       "\n",
       "    .dataframe thead th {\n",
       "        text-align: right;\n",
       "    }\n",
       "</style>\n",
       "<table border=\"1\" class=\"dataframe\">\n",
       "  <thead>\n",
       "    <tr style=\"text-align: right;\">\n",
       "      <th></th>\n",
       "      <th>userId</th>\n",
       "      <th>orders</th>\n",
       "    </tr>\n",
       "  </thead>\n",
       "  <tbody>\n",
       "    <tr>\n",
       "      <td>1023</td>\n",
       "      <td>4256040402</td>\n",
       "      <td>11</td>\n",
       "    </tr>\n",
       "    <tr>\n",
       "      <td>591</td>\n",
       "      <td>2458001652</td>\n",
       "      <td>11</td>\n",
       "    </tr>\n",
       "    <tr>\n",
       "      <td>569</td>\n",
       "      <td>2378935119</td>\n",
       "      <td>9</td>\n",
       "    </tr>\n",
       "    <tr>\n",
       "      <td>487</td>\n",
       "      <td>2038680547</td>\n",
       "      <td>8</td>\n",
       "    </tr>\n",
       "    <tr>\n",
       "      <td>44</td>\n",
       "      <td>199603092</td>\n",
       "      <td>5</td>\n",
       "    </tr>\n",
       "    <tr>\n",
       "      <td>744</td>\n",
       "      <td>3062433592</td>\n",
       "      <td>5</td>\n",
       "    </tr>\n",
       "    <tr>\n",
       "      <td>55</td>\n",
       "      <td>237748145</td>\n",
       "      <td>5</td>\n",
       "    </tr>\n",
       "    <tr>\n",
       "      <td>917</td>\n",
       "      <td>3803269165</td>\n",
       "      <td>5</td>\n",
       "    </tr>\n",
       "    <tr>\n",
       "      <td>299</td>\n",
       "      <td>1230306981</td>\n",
       "      <td>5</td>\n",
       "    </tr>\n",
       "    <tr>\n",
       "      <td>897</td>\n",
       "      <td>3717692402</td>\n",
       "      <td>5</td>\n",
       "    </tr>\n",
       "  </tbody>\n",
       "</table>\n",
       "</div>"
      ],
      "text/plain": [
       "          userId  orders\n",
       "1023  4256040402      11\n",
       "591   2458001652      11\n",
       "569   2378935119       9\n",
       "487   2038680547       8\n",
       "44     199603092       5\n",
       "744   3062433592       5\n",
       "55     237748145       5\n",
       "917   3803269165       5\n",
       "299   1230306981       5\n",
       "897   3717692402       5"
      ]
     },
     "metadata": {},
     "output_type": "display_data"
    }
   ],
   "source": [
    "ordersByUsers = (\n",
    "    orders.drop(['group', 'revenue', 'date'], axis=1)\n",
    "    .groupby('visitorId', as_index=False)\n",
    "    .agg({'transactionId': pd.Series.nunique})\n",
    ")\n",
    "\n",
    "ordersByUsers.columns = ['userId', 'orders']\n",
    "\n",
    "display(ordersByUsers.sort_values(by='orders', ascending=False).head(10)) "
   ]
  },
  {
   "cell_type": "markdown",
   "metadata": {},
   "source": [
    "Некоторые пользователи совершили 5,8,9 и 11 заказов."
   ]
  },
  {
   "cell_type": "markdown",
   "metadata": {},
   "source": [
    "Построим диаграмму рассеяния:"
   ]
  },
  {
   "cell_type": "code",
   "execution_count": 70,
   "metadata": {},
   "outputs": [
    {
     "data": {
      "image/png": "[encoded data removed]",
      "text/plain": [
       "<Figure size 720x720 with 1 Axes>"
      ]
     },
     "metadata": {
      "needs_background": "light"
     },
     "output_type": "display_data"
    }
   ],
   "source": [
    "x_values = pd.Series(range(0,len(ordersByUsers)))\n",
    "\n",
    "plt.figure(figsize=(10,10))\n",
    "plt.title(\"Диаграмма рассеяния числа заказов на одного пользователя\",size=14)\n",
    "plt.scatter(x_values, ordersByUsers['orders'])\n",
    "plt.xlabel(\"пользователь\",size=12)\n",
    "plt.ylabel(\"количество заказов\",size=12)\n",
    "plt.show()"
   ]
  },
  {
   "cell_type": "markdown",
   "metadata": {},
   "source": [
    "**Вывод:** основная масса пользователей заказывала только 1 раз, но много пользователей, которые заказывали 2-3 раза, а также есть те, кто заказывал больше осной массы пользователей."
   ]
  },
  {
   "cell_type": "markdown",
   "metadata": {},
   "source": [
    "Рассчитаем 95 и 99 перцентили количества заказов на одного пользователя:"
   ]
  },
  {
   "cell_type": "code",
   "execution_count": 71,
   "metadata": {},
   "outputs": [
    {
     "name": "stdout",
     "output_type": "stream",
     "text": [
      "[2. 4.]\n"
     ]
    }
   ],
   "source": [
    "print(np.percentile(ordersByUsers['orders'], [95, 99])) "
   ]
  },
  {
   "cell_type": "markdown",
   "metadata": {},
   "source": [
    "**Вывод:** не более 5 % пользователей заказывали более 2 раз, и не более 1% заказывали более 4 раз. За границу возьмем пользователей, заказавших более 2-х раз."
   ]
  },
  {
   "cell_type": "markdown",
   "metadata": {},
   "source": [
    "### Расчёт статистической значимости"
   ]
  },
  {
   "cell_type": "code",
   "execution_count": 72,
   "metadata": {},
   "outputs": [],
   "source": [
    "#Посчитаем количество пользователей в группе А для каждой даты:\n",
    "visitorsADaily = visitors[visitors['group'] == 'A'][['date', 'visitors']]\n",
    "visitorsADaily.columns = ['date', 'visitorsPerDateA']"
   ]
  },
  {
   "cell_type": "code",
   "execution_count": 73,
   "metadata": {},
   "outputs": [],
   "source": [
    "#Найдём кумулятивное количество пользователей для группы A на каждую дату:\n",
    "visitorsACummulative = visitorsADaily.apply(\n",
    "    lambda x: visitorsADaily[visitorsADaily['date'] <= x['date']].agg(\n",
    "        {'date': 'max', 'visitorsPerDateA': 'sum'}\n",
    "    ),\n",
    "    axis=1,\n",
    ")\n",
    "visitorsACummulative.columns = ['date', 'visitorsCummulativeA']"
   ]
  },
  {
   "cell_type": "code",
   "execution_count": 74,
   "metadata": {},
   "outputs": [],
   "source": [
    "#Посчитаем количество пользователей в группе В для каждой даты:\n",
    "visitorsBDaily = visitors[visitors['group'] == 'B'][['date', 'visitors']]\n",
    "visitorsBDaily.columns = ['date', 'visitorsPerDateB']"
   ]
  },
  {
   "cell_type": "code",
   "execution_count": 75,
   "metadata": {},
   "outputs": [],
   "source": [
    "#Найдём кумулятивное количество пользователей для группы В на каждую дату:\n",
    "visitorsBCummulative = visitorsBDaily.apply(\n",
    "    lambda x: visitorsBDaily[visitorsBDaily['date'] <= x['date']].agg(\n",
    "        {'date': 'max', 'visitorsPerDateB': 'sum'}\n",
    "    ),\n",
    "    axis=1,\n",
    ")\n",
    "visitorsBCummulative.columns = ['date', 'visitorsCummulativeB']"
   ]
  },
  {
   "cell_type": "code",
   "execution_count": 76,
   "metadata": {},
   "outputs": [],
   "source": [
    "#Сосчитаем количество заказов и суммарную выручку для группы А на каждую дату:\n",
    "ordersADaily = (\n",
    "    orders[orders['group'] == 'A'][['date', 'transactionId', 'visitorId', 'revenue']]\n",
    "    .groupby('date', as_index=False)\n",
    "    .agg({'transactionId': pd.Series.nunique, 'revenue': 'sum'})\n",
    ")\n",
    "ordersADaily.columns = ['date', 'ordersPerDateA', 'revenuePerDateA']"
   ]
  },
  {
   "cell_type": "code",
   "execution_count": 77,
   "metadata": {},
   "outputs": [],
   "source": [
    "#Найдем кумулятивное число заказов и кумулятивную выручку для группы А на каждую дату:\n",
    "ordersACummulative = ordersADaily.apply(\n",
    "    lambda x: ordersADaily[ordersADaily['date'] <= x['date']].agg(\n",
    "        {'date': 'max', 'ordersPerDateA': 'sum', 'revenuePerDateA': 'sum'}\n",
    "    ),\n",
    "    axis=1,\n",
    ").sort_values(by=['date'])\n",
    "ordersACummulative.columns = [\n",
    "    'date',\n",
    "    'ordersCummulativeA',\n",
    "    'revenueCummulativeA',\n",
    "]"
   ]
  },
  {
   "cell_type": "code",
   "execution_count": 78,
   "metadata": {},
   "outputs": [],
   "source": [
    "#Сосчитаем количество заказов и суммарную выручку для группы В на каждую дату:\n",
    "ordersBDaily = (\n",
    "    orders[orders['group'] == 'B'][['date', 'transactionId', 'visitorId', 'revenue']]\n",
    "    .groupby('date', as_index=False)\n",
    "    .agg({'transactionId': pd.Series.nunique, 'revenue': 'sum'})\n",
    ")\n",
    "ordersBDaily.columns = ['date', 'ordersPerDateB', 'revenuePerDateB']"
   ]
  },
  {
   "cell_type": "code",
   "execution_count": 79,
   "metadata": {},
   "outputs": [],
   "source": [
    "#Найдем кумулятивное число заказов и кумулятивную выручку для группы В на каждую дату:\n",
    "ordersBCummulative = ordersBDaily.apply(\n",
    "    lambda x: ordersBDaily[ordersBDaily['date'] <= x['date']].agg(\n",
    "        {'date': 'max', 'ordersPerDateB': 'sum', 'revenuePerDateB': 'sum'}\n",
    "    ),\n",
    "    axis=1,\n",
    ").sort_values(by=['date'])\n",
    "ordersBCummulative.columns = [\n",
    "    'date',\n",
    "    'ordersCummulativeB',\n",
    "    'revenueCummulativeB',\n",
    "]"
   ]
  },
  {
   "cell_type": "code",
   "execution_count": 80,
   "metadata": {},
   "outputs": [],
   "source": [
    "#Объединим все полученные датафреймы:\n",
    "data = (\n",
    "    ordersADaily.merge(ordersBDaily, on='date', how='left')\n",
    "    .merge(ordersACummulative, on='date', how='left')\n",
    "    .merge(ordersBCummulative, on='date', how='left')\n",
    "    .merge(visitorsADaily, on='date', how='left')\n",
    "    .merge(visitorsBDaily, on='date', how='left')\n",
    "    .merge(visitorsACummulative, on='date', how='left')\n",
    "    .merge(visitorsBCummulative, on='date', how='left')\n",
    ")"
   ]
  },
  {
   "cell_type": "markdown",
   "metadata": {},
   "source": [
    "#### Cтатистическая значимость различий между группами по «сырым» данным"
   ]
  },
  {
   "cell_type": "markdown",
   "metadata": {},
   "source": [
    "##### в конверсии"
   ]
  },
  {
   "cell_type": "markdown",
   "metadata": {},
   "source": [
    "Объявим переменные sampleA и sampleB, в которых пользователям из разных групп будет соответствовать количество заказов. Тем, кто ничего не заказал, будут соответствовать нули. Будем использовать переменные ordersByUsersA и ordersByUsersB, созданные в п.2.2.2."
   ]
  },
  {
   "cell_type": "code",
   "execution_count": 81,
   "metadata": {},
   "outputs": [],
   "source": [
    "sampleA = pd.concat(\n",
    "    [\n",
    "        ordersByUsersA['orders'],\n",
    "        pd.Series(\n",
    "            0,\n",
    "            index=np.arange(\n",
    "                data['visitorsPerDateA'].sum() - len(ordersByUsersA['orders'])\n",
    "            ),\n",
    "            name='orders'\n",
    "        )\n",
    "    ],\n",
    "    axis=0\n",
    ")"
   ]
  },
  {
   "cell_type": "code",
   "execution_count": 82,
   "metadata": {},
   "outputs": [],
   "source": [
    "sampleB = pd.concat(\n",
    "    [\n",
    "        ordersByUsersB['orders'],\n",
    "        pd.Series(\n",
    "            0,\n",
    "            index=np.arange(\n",
    "                data['visitorsPerDateB'].sum() - len(ordersByUsersB['orders'])\n",
    "            ),\n",
    "            name='orders'\n",
    "        )\n",
    "    ],\n",
    "    axis=0\n",
    ")"
   ]
  },
  {
   "cell_type": "markdown",
   "metadata": {},
   "source": [
    "**Нулевая гипотеза:** конверсии групп А и В равны\n",
    "\n",
    "**Альтернативная гипотеза:** конверсии групп А и В различаются"
   ]
  },
  {
   "cell_type": "code",
   "execution_count": 83,
   "metadata": {},
   "outputs": [],
   "source": [
    "#За критический уровень статистической значимости возьмём:\n",
    "alpha = 0.05"
   ]
  },
  {
   "cell_type": "code",
   "execution_count": 102,
   "metadata": {},
   "outputs": [
    {
     "name": "stdout",
     "output_type": "stream",
     "text": [
      "p-value: 0.01679\n",
      "Отвергаем нулевую гипотезу: разница статистически значима\n"
     ]
    }
   ],
   "source": [
    "print(\"p-value: {0:.5f}\".format(stats.mannwhitneyu(sampleA, sampleB, alternative = 'two-sided')[1]))\n",
    "if stats.mannwhitneyu(sampleA, sampleB, alternative = 'two-sided')[1] < alpha:\n",
    "    print('Отвергаем нулевую гипотезу: разница статистически значима')\n",
    "else:\n",
    "    print(\n",
    "        'Не получилось отвергнуть нулевую гипотезу, вывод о различии сделать нельзя'\n",
    "    ) "
   ]
  },
  {
   "cell_type": "code",
   "execution_count": 103,
   "metadata": {},
   "outputs": [
    {
     "name": "stdout",
     "output_type": "stream",
     "text": [
      "Относительное изменение конверсии группы В к конверсии группы А равно 13.81%\n"
     ]
    }
   ],
   "source": [
    "print(\n",
    "    \"Относительное изменение конверсии группы В к конверсии группы А равно {0:.2%}\".\n",
    "    format(sampleB.mean() / sampleA.mean() - 1)\n",
    ") "
   ]
  },
  {
   "cell_type": "markdown",
   "metadata": {},
   "source": [
    "**Вывод:** по \"сырым\" данным в конверсии между группами есть статистически значимые различия. Относительный прирост конверсии группы В к конверсии группы А равен 13.81%"
   ]
  },
  {
   "cell_type": "markdown",
   "metadata": {},
   "source": [
    "##### в среднем чеке"
   ]
  },
  {
   "cell_type": "markdown",
   "metadata": {},
   "source": [
    "**Нулевая гипотеза:** средние чеки групп А и В равны\n",
    "\n",
    "**Альтернативная гипотеза:** средние чеки групп А и В различаются"
   ]
  },
  {
   "cell_type": "code",
   "execution_count": 86,
   "metadata": {},
   "outputs": [],
   "source": [
    "#За критический уровень статистической значимости возьмём:\n",
    "alpha = 0.05"
   ]
  },
  {
   "cell_type": "code",
   "execution_count": 104,
   "metadata": {},
   "outputs": [
    {
     "name": "stdout",
     "output_type": "stream",
     "text": [
      "p-value равно 0.729\n",
      "Не получилось отвергнуть нулевую гипотезу, вывод о различии сделать нельзя\n"
     ]
    }
   ],
   "source": [
    "result0 = stats.mannwhitneyu(\n",
    "            orders[orders['group']=='A']['revenue'],\n",
    "            orders[orders['group']=='B']['revenue'],\n",
    "            alternative = 'two-sided'\n",
    ")[1]\n",
    "print('p-value равно {0:.3f}'.format(result0))     \n",
    "\n",
    "if result0 < alpha:\n",
    "    print('Отвергаем нулевую гипотезу: разница статистически значима')\n",
    "else:\n",
    "    print(\n",
    "        'Не получилось отвергнуть нулевую гипотезу, вывод о различии сделать нельзя'\n",
    "    ) "
   ]
  },
  {
   "cell_type": "code",
   "execution_count": 105,
   "metadata": {},
   "outputs": [
    {
     "name": "stdout",
     "output_type": "stream",
     "text": [
      "Относительное изменение среднего чека группы В к среднем чеку группы А равно 25.87%\n"
     ]
    }
   ],
   "source": [
    "print(\n",
    "    'Относительное изменение среднего чека группы В к среднем чеку группы А равно {0:.2%}'\n",
    "    .format(\n",
    "        orders[orders['group']=='B']['revenue'].mean()/orders[orders['group']=='A']['revenue'].mean()-1\n",
    "    )\n",
    ")"
   ]
  },
  {
   "cell_type": "markdown",
   "metadata": {},
   "source": [
    "**Вывод:** по результатам теста статистически значимых отличий в среднем чеке нет, но относительное различие среднего чека между группами 26% "
   ]
  },
  {
   "cell_type": "markdown",
   "metadata": {},
   "source": [
    "#### Cтатистическая значимость различий между группами по «очищенным» данным"
   ]
  },
  {
   "cell_type": "markdown",
   "metadata": {},
   "source": [
    "За аномальных пользователей берём пользователей, совершивших 3 заказа и более или совершивших заказ на сумму 30000 и дороже. Сделаем срез по таким пользователям:"
   ]
  },
  {
   "cell_type": "code",
   "execution_count": 106,
   "metadata": {},
   "outputs": [],
   "source": [
    "#срез по пользователям, совершившим 3 заказа и более:\n",
    "usersWithManyOrders = pd.concat(\n",
    "    [\n",
    "        ordersByUsersA[ordersByUsersA['orders'] > 2]['userId'],\n",
    "        ordersByUsersB[ordersByUsersB['orders'] > 2]['userId'],\n",
    "    ],\n",
    "    axis=0,\n",
    ")"
   ]
  },
  {
   "cell_type": "code",
   "execution_count": 107,
   "metadata": {},
   "outputs": [],
   "source": [
    "#срез по пользователям, совершившим заказ на сумму 30000 и дороже:\n",
    "usersWithExpensiveOrders = orders[orders['revenue'] >= 30000]['visitorId']\n",
    "usersWithExpensiveOrders = usersWithExpensiveOrders.rename(columns={'visitorId':'userId'})"
   ]
  },
  {
   "cell_type": "code",
   "execution_count": 108,
   "metadata": {},
   "outputs": [
    {
     "data": {
      "text/plain": [
       "1099    148427295\n",
       "18      199603092\n",
       "928     204675465\n",
       "23      237748145\n",
       "37      249864742\n",
       "dtype: int64"
      ]
     },
     "metadata": {},
     "output_type": "display_data"
    },
    {
     "name": "stdout",
     "output_type": "stream",
     "text": [
      "(68,)\n"
     ]
    }
   ],
   "source": [
    "#объединим два среза:\n",
    "abnormalUsers = (\n",
    "    pd.concat([usersWithManyOrders, usersWithExpensiveOrders], axis=0)\n",
    "    .drop_duplicates()\n",
    "    .sort_values()\n",
    ")\n",
    "display(abnormalUsers.head())\n",
    "print(abnormalUsers.shape) "
   ]
  },
  {
   "cell_type": "markdown",
   "metadata": {},
   "source": [
    "Всего 68 аномальных пользователей"
   ]
  },
  {
   "cell_type": "markdown",
   "metadata": {},
   "source": [
    "##### в конверсии"
   ]
  },
  {
   "cell_type": "markdown",
   "metadata": {},
   "source": [
    "Создадим переменные,в которых пользователям из разных групп будет соответствовать количество заказов, без учёта аномальных пользователей:"
   ]
  },
  {
   "cell_type": "code",
   "execution_count": 109,
   "metadata": {},
   "outputs": [],
   "source": [
    "#для группы А:\n",
    "sampleAFiltered = pd.concat(\n",
    "    [\n",
    "        ordersByUsersA[\n",
    "            np.logical_not(ordersByUsersA['userId'].isin(abnormalUsers))\n",
    "        ]['orders'],\n",
    "        pd.Series(\n",
    "            0,\n",
    "            index=np.arange(\n",
    "                data['visitorsPerDateA'].sum() - len(ordersByUsersA['orders'])\n",
    "            ),\n",
    "            name='orders',\n",
    "        ),\n",
    "    ],\n",
    "    axis=0,\n",
    ")"
   ]
  },
  {
   "cell_type": "code",
   "execution_count": 110,
   "metadata": {},
   "outputs": [],
   "source": [
    "#для группы В:\n",
    "sampleBFiltered = pd.concat(\n",
    "    [\n",
    "        ordersByUsersB[\n",
    "            np.logical_not(ordersByUsersB['userId'].isin(abnormalUsers))\n",
    "        ]['orders'],\n",
    "        pd.Series(\n",
    "            0,\n",
    "            index=np.arange(\n",
    "                data['visitorsPerDateB'].sum() - len(ordersByUsersB['orders'])\n",
    "            ),\n",
    "            name='orders',\n",
    "        ),\n",
    "    ],\n",
    "    axis=0,\n",
    ") "
   ]
  },
  {
   "cell_type": "code",
   "execution_count": 111,
   "metadata": {},
   "outputs": [
    {
     "name": "stdout",
     "output_type": "stream",
     "text": [
      "p-value: 0.01334\n",
      "Отвергаем нулевую гипотезу: разница статистически значима\n"
     ]
    }
   ],
   "source": [
    "print(\"p-value: {0:.5f}\".format(stats.mannwhitneyu(sampleAFiltered, sampleBFiltered, alternative = 'two-sided')[1]))\n",
    "if stats.mannwhitneyu(sampleAFiltered, sampleBFiltered, alternative = 'two-sided')[1] < alpha:\n",
    "    print('Отвергаем нулевую гипотезу: разница статистически значима')\n",
    "else:\n",
    "    print(\n",
    "        'Не получилось отвергнуть нулевую гипотезу, вывод о различии сделать нельзя'\n",
    "    ) "
   ]
  },
  {
   "cell_type": "code",
   "execution_count": 112,
   "metadata": {},
   "outputs": [
    {
     "name": "stdout",
     "output_type": "stream",
     "text": [
      "Относительное изменение конверсии группы В к конверсии группы А равно 17.16%\n"
     ]
    }
   ],
   "source": [
    "print(\n",
    "    \"Относительное изменение конверсии группы В к конверсии группы А равно {0:.2%}\".\n",
    "    format(sampleBFiltered.mean()/sampleAFiltered.mean()-1)\n",
    ") "
   ]
  },
  {
   "cell_type": "markdown",
   "metadata": {},
   "source": [
    "**Вывод:** по \"очищенным\" данным также в конверсии между группами есть статистически значимые различия. Относительный прирост конверсии группы В к конверсии группы А равен 17.16%"
   ]
  },
  {
   "cell_type": "markdown",
   "metadata": {},
   "source": [
    "##### в среднем чеке"
   ]
  },
  {
   "cell_type": "code",
   "execution_count": 113,
   "metadata": {},
   "outputs": [],
   "source": [
    "result1 = stats.mannwhitneyu(\n",
    "            orders[\n",
    "                np.logical_and(\n",
    "                    orders['group'] == 'A',\n",
    "                    np.logical_not(orders['visitorId'].isin(abnormalUsers)),\n",
    "                )\n",
    "            ]['revenue'],\n",
    "            orders[\n",
    "                np.logical_and(\n",
    "                    orders['group'] == 'B',\n",
    "                    np.logical_not(orders['visitorId'].isin(abnormalUsers)),\n",
    "                )\n",
    "            ]['revenue'],\n",
    "            alternative = 'two-sided'\n",
    ")[1]"
   ]
  },
  {
   "cell_type": "code",
   "execution_count": 114,
   "metadata": {},
   "outputs": [
    {
     "name": "stdout",
     "output_type": "stream",
     "text": [
      "p-value равно 0.720\n",
      "Не получилось отвергнуть нулевую гипотезу, вывод о различии сделать нельзя\n"
     ]
    }
   ],
   "source": [
    "print('p-value равно {0:.3f}'.format(result1))\n",
    "if result1 < alpha:\n",
    "    print('Отвергаем нулевую гипотезу: разница статистически значима')\n",
    "else:\n",
    "    print(\n",
    "        'Не получилось отвергнуть нулевую гипотезу, вывод о различии сделать нельзя'\n",
    "    ) "
   ]
  },
  {
   "cell_type": "code",
   "execution_count": 115,
   "metadata": {},
   "outputs": [
    {
     "name": "stdout",
     "output_type": "stream",
     "text": [
      "Относительное изменение среднего чека группы В к среднем чеку группы А равно -2.31%\n"
     ]
    }
   ],
   "source": [
    "print(\n",
    "    \"Относительное изменение среднего чека группы В к среднем чеку группы А равно {0:.2%}\".format(\n",
    "        orders[\n",
    "            np.logical_and(\n",
    "                orders['group'] == 'B',\n",
    "                np.logical_not(orders['visitorId'].isin(abnormalUsers)),\n",
    "            )\n",
    "        ]['revenue'].mean()\n",
    "        / orders[\n",
    "            np.logical_and(\n",
    "                orders['group'] == 'A',\n",
    "                np.logical_not(orders['visitorId'].isin(abnormalUsers)),\n",
    "            )\n",
    "        ]['revenue'].mean()\n",
    "        - 1\n",
    "    )\n",
    ") "
   ]
  },
  {
   "cell_type": "markdown",
   "metadata": {},
   "source": [
    "**Вывод:** на \"очищенных\" данных также статистически значимых отличий в среднем чеке нет, а относительный проигрыш в среднем чеке группы В относительно среднего чека группы А равен 2.31%"
   ]
  },
  {
   "cell_type": "markdown",
   "metadata": {},
   "source": [
    "### Вывод:"
   ]
  },
  {
   "cell_type": "markdown",
   "metadata": {},
   "source": [
    "1. По конверсии есть статистически значимые различия и по \"сырым\", и по данным после фильтрации аномалий;\n",
    "2. Нет статистически значимого различия по среднему чеку между группами ни по \"сырым\", ни по данным после фильтрации аномалий;\n",
    "3. График различия конверсии между группами говорит, что результаты группы В лучше результатов группы А.\n",
    "4. График различия среднего чека колеблется, и после 18 августа имеет тренд на снижение, по нему определенные выводы сделать нельзя. "
   ]
  },
  {
   "cell_type": "markdown",
   "metadata": {},
   "source": [
    "## Выводы"
   ]
  },
  {
   "cell_type": "markdown",
   "metadata": {},
   "source": [
    "1. При первоначальном изучении данных имеем:\n",
    "- Данные по 9 гипотезам, пропущенных значений в таблице нет, типы данных менять не нужно;\n",
    "- Таблицу по 1197 заказам, пропущенных значений нет, дубликатов нет, изменили тип данных в столбце date на datetime;\n",
    "- При разделении пользователей на группы для проведения тестирования допущена ошибка, необходимо сообщить о ней разработчикам. \n",
    "- Таблицу по пользователям в группах для 62 дат (с учётом двух групп), пропущенных значений нет, дубликатов нет, изменили тип данных в столбце date на datetime\n",
    "2.  Самая перспективная гипотеза по методу RICE - гипотеза \"Добавить форму подписки на все основные страницы, чтобы собрать базу клиентов для email-рассылок\". У гипотезы \"Запустить акцию, дающую скидку на товар в день рождения\" - лидеру в списке приоритизации гипотез по методу ICE - охват пользователей равен 1, поэтому данная гипотеза в списке приоритизации по методу RICE уступила место гипотезам с более широким охватом.\n",
    "\n",
    "\n",
    "3. При анализе графиков кумулятивных метрик установили:\n",
    "- По графику кумулятивной выручки: выручка группы А увеличивается более равномерно, а вот у графика выручки группы B есть резкий скачок 18-19 августа. Это может сигнализировать о всплесках числа заказов, либо о появлении очень дорогих заказов в выборке;\n",
    "- По графику кумулятивного среднего чека: в целом колебания в графике среднего чека группы А не такие резкие как у группы В. Кумулятивный средний чек группы А сначала снижался (с 1 по 6 августа), потом стал расти (с 6 по 13 августа), после 13 августа он колеблется возле отметки 7000, и уже в конце теста опять немного вырос. А вот средний чек группы В скачкообразно растет до 8 августа, после идет колебание возле отметки 7000, и 18 августа опять резкий скачок, после 19 августа наблюдаем тренд на снижение;\n",
    "- По графику относительного изменения кумулятивного среднего чека группы В к группе А: в нескольких местах график различия между группами резко скачет, где-то есть выбросы и/или крупные заказы;\n",
    "- По графику кумулятивной конверсии: до 5 августа у обеих конверсий были самые большие колебания, 5 августа две конверсии почти сравнялись, а после  конверсия группы В стала выше и до конца теста превышала конверсию группы А. В конце временного промежутка небольшое колебание конверсий еще присутствует;\n",
    "- По графику относительного изменения кумулятивной конверсии группы В к группе А: в начале теста был резкий скачок в оносительном изменении и такое же резкое падение, после 5 августа конверсия группы В стабильно выше конверсии группы А, после 17 августа наблюдаем тренд на снижение относительного изменения, но в конце теста снова стало расти. В целом отношение конверсии ещё не установилось, и надо посмотреть на аномалии и картину без них.\n",
    "\n",
    "4. По результатам анализа A/B теста имеем:\n",
    "- По конверсии есть статистически значимые различия и по \"сырым\", и по данным после фильтрации аномалий;\n",
    "- Нет статистически значимого различия по среднему чеку между группами ни по \"сырым\", ни по данным после фильтрации аномалий\n",
    "\n",
    "Средний чек не упал, но конверсия выросла, значит количество заказов тоже будет больше. С учётом вышеизложенного тест останавливаем и признаем его успешным."
   ]
  }
 ],
 "metadata": {
  "ExecuteTimeLog": [
   {
    "duration": 1730,
    "start_time": "2021-10-31T13:00:03.414Z"
   },
   {
    "duration": 20,
    "start_time": "2021-10-31T13:03:10.983Z"
   },
   {
    "duration": 1810,
    "start_time": "2021-10-31T13:04:30.322Z"
   },
   {
    "duration": 21,
    "start_time": "2021-10-31T13:05:00.645Z"
   },
   {
    "duration": 16,
    "start_time": "2021-10-31T13:05:13.462Z"
   },
   {
    "duration": 38,
    "start_time": "2021-10-31T13:07:56.667Z"
   },
   {
    "duration": 19,
    "start_time": "2021-10-31T13:08:24.139Z"
   },
   {
    "duration": 107,
    "start_time": "2021-10-31T13:10:22.115Z"
   },
   {
    "duration": 7,
    "start_time": "2021-10-31T13:12:36.604Z"
   },
   {
    "duration": 9,
    "start_time": "2021-10-31T13:12:44.118Z"
   },
   {
    "duration": 17,
    "start_time": "2021-10-31T13:17:37.452Z"
   },
   {
    "duration": 14,
    "start_time": "2021-10-31T13:18:00.905Z"
   },
   {
    "duration": 17,
    "start_time": "2021-10-31T13:18:29.147Z"
   },
   {
    "duration": 7,
    "start_time": "2021-10-31T13:23:12.034Z"
   },
   {
    "duration": 8,
    "start_time": "2021-10-31T13:23:24.440Z"
   },
   {
    "duration": 18,
    "start_time": "2021-10-31T13:28:49.945Z"
   },
   {
    "duration": 3,
    "start_time": "2021-10-31T13:30:30.220Z"
   },
   {
    "duration": 3,
    "start_time": "2021-10-31T13:30:46.924Z"
   },
   {
    "duration": 4,
    "start_time": "2021-10-31T13:33:11.880Z"
   },
   {
    "duration": 4,
    "start_time": "2021-10-31T13:40:20.085Z"
   },
   {
    "duration": 4,
    "start_time": "2021-10-31T13:41:42.403Z"
   },
   {
    "duration": 4,
    "start_time": "2021-10-31T13:44:22.530Z"
   },
   {
    "duration": 6,
    "start_time": "2021-10-31T13:50:50.445Z"
   },
   {
    "duration": 7,
    "start_time": "2021-10-31T13:51:09.390Z"
   },
   {
    "duration": 301,
    "start_time": "2021-10-31T16:55:06.626Z"
   },
   {
    "duration": 108,
    "start_time": "2021-10-31T16:57:32.429Z"
   },
   {
    "duration": 150,
    "start_time": "2021-10-31T16:57:33.683Z"
   },
   {
    "duration": 8,
    "start_time": "2021-10-31T17:08:29.233Z"
   },
   {
    "duration": 11,
    "start_time": "2021-10-31T17:15:05.185Z"
   },
   {
    "duration": 280,
    "start_time": "2021-10-31T17:17:06.947Z"
   },
   {
    "duration": 7,
    "start_time": "2021-10-31T17:17:16.489Z"
   },
   {
    "duration": 7,
    "start_time": "2021-10-31T17:18:39.299Z"
   },
   {
    "duration": 7225,
    "start_time": "2021-10-31T17:57:01.967Z"
   },
   {
    "duration": 26,
    "start_time": "2021-10-31T17:57:56.611Z"
   },
   {
    "duration": 14,
    "start_time": "2021-10-31T17:58:12.162Z"
   },
   {
    "duration": 16,
    "start_time": "2021-10-31T18:00:47.043Z"
   },
   {
    "duration": 15,
    "start_time": "2021-10-31T18:39:21.108Z"
   },
   {
    "duration": 7,
    "start_time": "2021-10-31T18:41:01.555Z"
   },
   {
    "duration": 98,
    "start_time": "2021-10-31T18:56:03.417Z"
   },
   {
    "duration": 358,
    "start_time": "2021-11-01T18:48:24.560Z"
   },
   {
    "duration": 1622,
    "start_time": "2021-11-01T18:48:29.245Z"
   },
   {
    "duration": 17,
    "start_time": "2021-11-01T18:48:30.869Z"
   },
   {
    "duration": 28,
    "start_time": "2021-11-01T18:48:30.889Z"
   },
   {
    "duration": 52,
    "start_time": "2021-11-01T18:48:30.920Z"
   },
   {
    "duration": 17,
    "start_time": "2021-11-01T18:48:30.975Z"
   },
   {
    "duration": 11,
    "start_time": "2021-11-01T18:48:30.994Z"
   },
   {
    "duration": 11,
    "start_time": "2021-11-01T18:48:31.007Z"
   },
   {
    "duration": 131,
    "start_time": "2021-11-01T18:48:31.021Z"
   },
   {
    "duration": 147,
    "start_time": "2021-11-01T18:48:31.155Z"
   },
   {
    "duration": 7,
    "start_time": "2021-11-01T18:48:31.305Z"
   },
   {
    "duration": 7,
    "start_time": "2021-11-01T18:48:31.315Z"
   },
   {
    "duration": 23,
    "start_time": "2021-11-01T18:48:31.324Z"
   },
   {
    "duration": 19,
    "start_time": "2021-11-01T18:48:31.368Z"
   },
   {
    "duration": 14,
    "start_time": "2021-11-01T18:48:31.391Z"
   },
   {
    "duration": 12,
    "start_time": "2021-11-01T18:48:31.408Z"
   },
   {
    "duration": 48,
    "start_time": "2021-11-01T18:48:31.423Z"
   },
   {
    "duration": 16,
    "start_time": "2021-11-01T18:48:31.473Z"
   },
   {
    "duration": 8,
    "start_time": "2021-11-01T18:48:57.443Z"
   },
   {
    "duration": 343,
    "start_time": "2021-11-01T18:54:05.861Z"
   },
   {
    "duration": 359,
    "start_time": "2021-11-01T18:54:24.863Z"
   },
   {
    "duration": 360,
    "start_time": "2021-11-01T19:01:00.574Z"
   },
   {
    "duration": 14,
    "start_time": "2021-11-01T19:03:47.771Z"
   },
   {
    "duration": 15,
    "start_time": "2021-11-01T19:04:33.379Z"
   },
   {
    "duration": 315,
    "start_time": "2021-11-01T19:08:03.213Z"
   },
   {
    "duration": 354,
    "start_time": "2021-11-01T19:09:22.114Z"
   },
   {
    "duration": 355,
    "start_time": "2021-11-01T19:10:19.073Z"
   },
   {
    "duration": 15,
    "start_time": "2021-11-01T19:10:23.325Z"
   },
   {
    "duration": 10,
    "start_time": "2021-11-01T19:14:24.212Z"
   },
   {
    "duration": 19,
    "start_time": "2021-11-01T19:14:59.996Z"
   },
   {
    "duration": 16,
    "start_time": "2021-11-01T19:17:03.779Z"
   },
   {
    "duration": 284,
    "start_time": "2021-11-01T19:17:09.557Z"
   },
   {
    "duration": 33,
    "start_time": "2021-11-01T19:17:12.247Z"
   },
   {
    "duration": 1178,
    "start_time": "2021-11-01T19:17:13.351Z"
   },
   {
    "duration": 5,
    "start_time": "2021-11-01T19:17:29.899Z"
   },
   {
    "duration": 19,
    "start_time": "2021-11-01T19:17:29.910Z"
   },
   {
    "duration": 16,
    "start_time": "2021-11-01T19:17:29.932Z"
   },
   {
    "duration": 37,
    "start_time": "2021-11-01T19:17:29.952Z"
   },
   {
    "duration": 16,
    "start_time": "2021-11-01T19:17:29.992Z"
   },
   {
    "duration": 7,
    "start_time": "2021-11-01T19:17:30.010Z"
   },
   {
    "duration": 15,
    "start_time": "2021-11-01T19:17:30.020Z"
   },
   {
    "duration": 129,
    "start_time": "2021-11-01T19:17:30.038Z"
   },
   {
    "duration": 176,
    "start_time": "2021-11-01T19:17:30.172Z"
   },
   {
    "duration": 7,
    "start_time": "2021-11-01T19:17:30.351Z"
   },
   {
    "duration": 36,
    "start_time": "2021-11-01T19:17:30.361Z"
   },
   {
    "duration": 45,
    "start_time": "2021-11-01T19:17:30.399Z"
   },
   {
    "duration": 38,
    "start_time": "2021-11-01T19:17:30.446Z"
   },
   {
    "duration": 21,
    "start_time": "2021-11-01T19:17:30.486Z"
   },
   {
    "duration": 25,
    "start_time": "2021-11-01T19:17:30.510Z"
   },
   {
    "duration": 26,
    "start_time": "2021-11-01T19:17:30.538Z"
   },
   {
    "duration": 49,
    "start_time": "2021-11-01T19:17:30.567Z"
   },
   {
    "duration": 28,
    "start_time": "2021-11-01T19:17:30.619Z"
   },
   {
    "duration": 518,
    "start_time": "2021-11-01T19:17:30.650Z"
   },
   {
    "duration": 14,
    "start_time": "2021-11-01T19:17:31.171Z"
   },
   {
    "duration": 301,
    "start_time": "2021-11-01T19:17:31.188Z"
   },
   {
    "duration": 20,
    "start_time": "2021-11-01T19:17:39.240Z"
   },
   {
    "duration": 15,
    "start_time": "2021-11-01T19:17:41.008Z"
   },
   {
    "duration": 6,
    "start_time": "2021-11-01T19:21:50.274Z"
   },
   {
    "duration": 22,
    "start_time": "2021-11-01T19:21:50.282Z"
   },
   {
    "duration": 27,
    "start_time": "2021-11-01T19:21:50.306Z"
   },
   {
    "duration": 39,
    "start_time": "2021-11-01T19:21:50.335Z"
   },
   {
    "duration": 17,
    "start_time": "2021-11-01T19:21:50.376Z"
   },
   {
    "duration": 6,
    "start_time": "2021-11-01T19:21:50.396Z"
   },
   {
    "duration": 9,
    "start_time": "2021-11-01T19:21:50.407Z"
   },
   {
    "duration": 171,
    "start_time": "2021-11-01T19:21:50.420Z"
   },
   {
    "duration": 180,
    "start_time": "2021-11-01T19:21:50.593Z"
   },
   {
    "duration": 7,
    "start_time": "2021-11-01T19:21:50.776Z"
   },
   {
    "duration": 18,
    "start_time": "2021-11-01T19:21:50.785Z"
   },
   {
    "duration": 23,
    "start_time": "2021-11-01T19:21:50.805Z"
   },
   {
    "duration": 21,
    "start_time": "2021-11-01T19:21:50.831Z"
   },
   {
    "duration": 19,
    "start_time": "2021-11-01T19:21:50.855Z"
   },
   {
    "duration": 18,
    "start_time": "2021-11-01T19:21:50.876Z"
   },
   {
    "duration": 19,
    "start_time": "2021-11-01T19:21:50.896Z"
   },
   {
    "duration": 29,
    "start_time": "2021-11-01T19:21:50.917Z"
   },
   {
    "duration": 9,
    "start_time": "2021-11-01T19:21:55.224Z"
   },
   {
    "duration": 373,
    "start_time": "2021-11-01T19:21:56.911Z"
   },
   {
    "duration": 17,
    "start_time": "2021-11-01T19:23:05.386Z"
   },
   {
    "duration": 7,
    "start_time": "2021-11-01T19:24:46.603Z"
   },
   {
    "duration": 7,
    "start_time": "2021-11-01T19:24:48.220Z"
   },
   {
    "duration": 119,
    "start_time": "2021-11-01T19:24:51.358Z"
   },
   {
    "duration": 144,
    "start_time": "2021-11-01T19:24:52.659Z"
   },
   {
    "duration": 8,
    "start_time": "2021-11-01T19:24:53.440Z"
   },
   {
    "duration": 6,
    "start_time": "2021-11-01T19:24:54.248Z"
   },
   {
    "duration": 15,
    "start_time": "2021-11-01T19:24:57.379Z"
   },
   {
    "duration": 22,
    "start_time": "2021-11-01T19:24:57.883Z"
   },
   {
    "duration": 6,
    "start_time": "2021-11-01T19:25:03.464Z"
   },
   {
    "duration": 7,
    "start_time": "2021-11-01T19:25:04.756Z"
   },
   {
    "duration": 8,
    "start_time": "2021-11-01T19:25:14.268Z"
   },
   {
    "duration": 368,
    "start_time": "2021-11-01T19:25:16.782Z"
   },
   {
    "duration": 599,
    "start_time": "2021-11-01T19:26:51.706Z"
   },
   {
    "duration": 8,
    "start_time": "2021-11-01T19:29:54.652Z"
   },
   {
    "duration": 355,
    "start_time": "2021-11-01T19:29:57.304Z"
   },
   {
    "duration": 5,
    "start_time": "2021-11-01T19:45:02.979Z"
   },
   {
    "duration": 6,
    "start_time": "2021-11-01T19:45:05.940Z"
   },
   {
    "duration": 6,
    "start_time": "2021-11-01T19:45:22.365Z"
   },
   {
    "duration": 355,
    "start_time": "2021-11-01T19:46:31.174Z"
   },
   {
    "duration": 355,
    "start_time": "2021-11-01T19:46:50.047Z"
   },
   {
    "duration": 8,
    "start_time": "2021-11-01T19:48:11.075Z"
   },
   {
    "duration": 7,
    "start_time": "2021-11-01T19:48:51.692Z"
   },
   {
    "duration": 6,
    "start_time": "2021-11-01T19:48:58.179Z"
   },
   {
    "duration": 7,
    "start_time": "2021-11-01T19:49:16.540Z"
   },
   {
    "duration": 300,
    "start_time": "2021-11-01T19:49:32.585Z"
   },
   {
    "duration": 8,
    "start_time": "2021-11-01T19:50:14.645Z"
   },
   {
    "duration": 8,
    "start_time": "2021-11-01T19:50:28.645Z"
   },
   {
    "duration": 309,
    "start_time": "2021-11-01T19:50:58.399Z"
   },
   {
    "duration": 326,
    "start_time": "2021-11-01T19:53:09.625Z"
   },
   {
    "duration": 367,
    "start_time": "2021-11-01T19:53:32.802Z"
   },
   {
    "duration": 384,
    "start_time": "2021-11-01T19:55:48.590Z"
   },
   {
    "duration": 648,
    "start_time": "2021-11-01T19:56:37.171Z"
   },
   {
    "duration": 770,
    "start_time": "2021-11-01T19:56:46.832Z"
   },
   {
    "duration": 400,
    "start_time": "2021-11-01T19:56:57.042Z"
   },
   {
    "duration": 413,
    "start_time": "2021-11-01T19:57:07.688Z"
   },
   {
    "duration": 450,
    "start_time": "2021-11-01T19:58:18.437Z"
   },
   {
    "duration": 420,
    "start_time": "2021-11-01T19:58:37.250Z"
   },
   {
    "duration": 435,
    "start_time": "2021-11-01T19:59:21.059Z"
   },
   {
    "duration": 424,
    "start_time": "2021-11-01T20:06:17.703Z"
   },
   {
    "duration": 12,
    "start_time": "2021-11-01T20:10:09.061Z"
   },
   {
    "duration": 430,
    "start_time": "2021-11-01T20:11:31.928Z"
   },
   {
    "duration": 7,
    "start_time": "2021-11-01T20:12:16.394Z"
   },
   {
    "duration": 8,
    "start_time": "2021-11-01T20:12:26.521Z"
   },
   {
    "duration": 653,
    "start_time": "2021-11-01T20:14:30.268Z"
   },
   {
    "duration": 539,
    "start_time": "2021-11-01T20:15:14.853Z"
   },
   {
    "duration": 512,
    "start_time": "2021-11-01T20:15:35.366Z"
   },
   {
    "duration": 474,
    "start_time": "2021-11-01T20:17:14.809Z"
   },
   {
    "duration": 6,
    "start_time": "2021-11-01T20:27:52.573Z"
   },
   {
    "duration": 18,
    "start_time": "2021-11-01T20:27:52.581Z"
   },
   {
    "duration": 20,
    "start_time": "2021-11-01T20:27:52.602Z"
   },
   {
    "duration": 32,
    "start_time": "2021-11-01T20:27:52.625Z"
   },
   {
    "duration": 16,
    "start_time": "2021-11-01T20:27:52.660Z"
   },
   {
    "duration": 7,
    "start_time": "2021-11-01T20:27:52.679Z"
   },
   {
    "duration": 12,
    "start_time": "2021-11-01T20:27:52.690Z"
   },
   {
    "duration": 139,
    "start_time": "2021-11-01T20:27:52.705Z"
   },
   {
    "duration": 150,
    "start_time": "2021-11-01T20:27:52.846Z"
   },
   {
    "duration": 7,
    "start_time": "2021-11-01T20:27:52.999Z"
   },
   {
    "duration": 11,
    "start_time": "2021-11-01T20:27:53.008Z"
   },
   {
    "duration": 17,
    "start_time": "2021-11-01T20:27:53.021Z"
   },
   {
    "duration": 38,
    "start_time": "2021-11-01T20:27:53.041Z"
   },
   {
    "duration": 13,
    "start_time": "2021-11-01T20:27:53.081Z"
   },
   {
    "duration": 16,
    "start_time": "2021-11-01T20:27:53.096Z"
   },
   {
    "duration": 14,
    "start_time": "2021-11-01T20:27:53.115Z"
   },
   {
    "duration": 44,
    "start_time": "2021-11-01T20:27:53.131Z"
   },
   {
    "duration": 10,
    "start_time": "2021-11-01T20:27:53.178Z"
   },
   {
    "duration": 350,
    "start_time": "2021-11-01T20:27:59.639Z"
   },
   {
    "duration": 16,
    "start_time": "2021-11-01T20:28:04.219Z"
   },
   {
    "duration": 292,
    "start_time": "2021-11-01T20:28:19.914Z"
   },
   {
    "duration": 23,
    "start_time": "2021-11-01T20:28:32.266Z"
   },
   {
    "duration": 16,
    "start_time": "2021-11-01T20:28:42.015Z"
   },
   {
    "duration": 18,
    "start_time": "2021-11-01T20:28:51.854Z"
   },
   {
    "duration": 8,
    "start_time": "2021-11-01T20:35:48.889Z"
   },
   {
    "duration": 9,
    "start_time": "2021-11-01T20:36:18.407Z"
   },
   {
    "duration": 446,
    "start_time": "2021-11-01T20:38:42.683Z"
   },
   {
    "duration": 422,
    "start_time": "2021-11-01T20:46:00.648Z"
   },
   {
    "duration": 418,
    "start_time": "2021-11-01T20:47:27.409Z"
   },
   {
    "duration": 415,
    "start_time": "2021-11-01T20:48:02.970Z"
   },
   {
    "duration": 413,
    "start_time": "2021-11-01T20:48:45.291Z"
   },
   {
    "duration": 427,
    "start_time": "2021-11-01T20:49:11.901Z"
   },
   {
    "duration": 434,
    "start_time": "2021-11-01T20:49:28.036Z"
   },
   {
    "duration": 280,
    "start_time": "2021-11-02T17:46:08.422Z"
   },
   {
    "duration": 1212,
    "start_time": "2021-11-02T17:46:13.747Z"
   },
   {
    "duration": 18,
    "start_time": "2021-11-02T17:46:14.961Z"
   },
   {
    "duration": 17,
    "start_time": "2021-11-02T17:46:14.981Z"
   },
   {
    "duration": 45,
    "start_time": "2021-11-02T17:46:15.001Z"
   },
   {
    "duration": 12,
    "start_time": "2021-11-02T17:46:15.048Z"
   },
   {
    "duration": 13,
    "start_time": "2021-11-02T17:46:15.062Z"
   },
   {
    "duration": 8,
    "start_time": "2021-11-02T17:46:15.077Z"
   },
   {
    "duration": 57,
    "start_time": "2021-11-02T17:46:15.088Z"
   },
   {
    "duration": 80,
    "start_time": "2021-11-02T17:46:15.147Z"
   },
   {
    "duration": 6,
    "start_time": "2021-11-02T17:46:15.229Z"
   },
   {
    "duration": 32,
    "start_time": "2021-11-02T17:46:15.238Z"
   },
   {
    "duration": 18,
    "start_time": "2021-11-02T17:46:15.275Z"
   },
   {
    "duration": 25,
    "start_time": "2021-11-02T17:46:15.295Z"
   },
   {
    "duration": 6,
    "start_time": "2021-11-02T17:46:15.323Z"
   },
   {
    "duration": 10,
    "start_time": "2021-11-02T17:46:15.331Z"
   },
   {
    "duration": 11,
    "start_time": "2021-11-02T17:46:15.343Z"
   },
   {
    "duration": 13,
    "start_time": "2021-11-02T17:46:15.363Z"
   },
   {
    "duration": 8,
    "start_time": "2021-11-02T17:46:15.378Z"
   },
   {
    "duration": 224,
    "start_time": "2021-11-02T17:46:15.388Z"
   },
   {
    "duration": 10,
    "start_time": "2021-11-02T17:46:15.614Z"
   },
   {
    "duration": 177,
    "start_time": "2021-11-02T17:46:15.625Z"
   },
   {
    "duration": 12,
    "start_time": "2021-11-02T17:46:15.804Z"
   },
   {
    "duration": 11,
    "start_time": "2021-11-02T17:46:15.820Z"
   },
   {
    "duration": 31,
    "start_time": "2021-11-02T17:46:15.832Z"
   },
   {
    "duration": 8,
    "start_time": "2021-11-02T17:46:15.865Z"
   },
   {
    "duration": 276,
    "start_time": "2021-11-02T17:46:15.875Z"
   },
   {
    "duration": 267,
    "start_time": "2021-11-02T17:46:16.153Z"
   },
   {
    "duration": 5,
    "start_time": "2021-11-02T17:46:22.540Z"
   },
   {
    "duration": 6,
    "start_time": "2021-11-02T17:46:24.604Z"
   },
   {
    "duration": 5,
    "start_time": "2021-11-02T17:46:36.004Z"
   },
   {
    "duration": 4,
    "start_time": "2021-11-02T17:46:36.912Z"
   },
   {
    "duration": 267,
    "start_time": "2021-11-02T17:46:40.644Z"
   },
   {
    "duration": 263,
    "start_time": "2021-11-02T17:47:03.318Z"
   },
   {
    "duration": 261,
    "start_time": "2021-11-02T17:47:13.957Z"
   },
   {
    "duration": 8,
    "start_time": "2021-11-02T17:52:38.245Z"
   },
   {
    "duration": 373,
    "start_time": "2021-11-02T17:52:43.270Z"
   },
   {
    "duration": 520,
    "start_time": "2021-11-02T17:53:14.140Z"
   },
   {
    "duration": 7,
    "start_time": "2021-11-02T18:12:18.759Z"
   },
   {
    "duration": 232,
    "start_time": "2021-11-02T18:15:54.028Z"
   },
   {
    "duration": 249,
    "start_time": "2021-11-02T18:16:47.100Z"
   },
   {
    "duration": 252,
    "start_time": "2021-11-02T18:17:07.726Z"
   },
   {
    "duration": 284,
    "start_time": "2021-11-02T18:24:21.505Z"
   },
   {
    "duration": 315,
    "start_time": "2021-11-02T18:32:08.742Z"
   },
   {
    "duration": 342,
    "start_time": "2021-11-02T18:37:06.511Z"
   },
   {
    "duration": 7,
    "start_time": "2021-11-02T18:46:21.669Z"
   },
   {
    "duration": 5,
    "start_time": "2021-11-02T18:47:35.719Z"
   },
   {
    "duration": 349,
    "start_time": "2021-11-02T18:48:02.383Z"
   },
   {
    "duration": 415,
    "start_time": "2021-11-02T18:49:25.851Z"
   },
   {
    "duration": 2,
    "start_time": "2021-11-02T19:01:05.688Z"
   },
   {
    "duration": 3,
    "start_time": "2021-11-03T17:45:27.422Z"
   },
   {
    "duration": 346,
    "start_time": "2021-11-03T17:47:11.512Z"
   },
   {
    "duration": 1191,
    "start_time": "2021-11-03T17:47:18.018Z"
   },
   {
    "duration": 17,
    "start_time": "2021-11-03T17:47:19.211Z"
   },
   {
    "duration": 26,
    "start_time": "2021-11-03T17:47:19.230Z"
   },
   {
    "duration": 36,
    "start_time": "2021-11-03T17:47:19.258Z"
   },
   {
    "duration": 11,
    "start_time": "2021-11-03T17:47:19.296Z"
   },
   {
    "duration": 4,
    "start_time": "2021-11-03T17:47:19.309Z"
   },
   {
    "duration": 8,
    "start_time": "2021-11-03T17:47:19.315Z"
   },
   {
    "duration": 57,
    "start_time": "2021-11-03T17:47:19.325Z"
   },
   {
    "duration": 80,
    "start_time": "2021-11-03T17:47:19.385Z"
   },
   {
    "duration": 8,
    "start_time": "2021-11-03T17:47:19.467Z"
   },
   {
    "duration": 7,
    "start_time": "2021-11-03T17:47:19.477Z"
   },
   {
    "duration": 20,
    "start_time": "2021-11-03T17:47:19.486Z"
   },
   {
    "duration": 14,
    "start_time": "2021-11-03T17:47:19.508Z"
   },
   {
    "duration": 4,
    "start_time": "2021-11-03T17:47:19.524Z"
   },
   {
    "duration": 6,
    "start_time": "2021-11-03T17:47:19.544Z"
   },
   {
    "duration": 12,
    "start_time": "2021-11-03T17:47:19.552Z"
   },
   {
    "duration": 10,
    "start_time": "2021-11-03T17:47:19.566Z"
   },
   {
    "duration": 6,
    "start_time": "2021-11-03T17:47:19.578Z"
   },
   {
    "duration": 232,
    "start_time": "2021-11-03T17:47:19.586Z"
   },
   {
    "duration": 10,
    "start_time": "2021-11-03T17:47:19.820Z"
   },
   {
    "duration": 167,
    "start_time": "2021-11-03T17:47:19.831Z"
   },
   {
    "duration": 17,
    "start_time": "2021-11-03T17:47:19.999Z"
   },
   {
    "duration": 29,
    "start_time": "2021-11-03T17:47:20.020Z"
   },
   {
    "duration": 14,
    "start_time": "2021-11-03T17:47:20.051Z"
   },
   {
    "duration": 19,
    "start_time": "2021-11-03T17:47:20.067Z"
   },
   {
    "duration": 255,
    "start_time": "2021-11-03T17:47:20.088Z"
   },
   {
    "duration": 259,
    "start_time": "2021-11-03T17:47:20.344Z"
   },
   {
    "duration": 6,
    "start_time": "2021-11-03T17:47:20.605Z"
   },
   {
    "duration": 247,
    "start_time": "2021-11-03T17:47:20.613Z"
   },
   {
    "duration": 4,
    "start_time": "2021-11-03T17:47:30.912Z"
   },
   {
    "duration": 5,
    "start_time": "2021-11-03T17:48:08.936Z"
   },
   {
    "duration": 5,
    "start_time": "2021-11-03T17:48:31.266Z"
   },
   {
    "duration": 259,
    "start_time": "2021-11-03T17:49:04.132Z"
   },
   {
    "duration": 9,
    "start_time": "2021-11-03T17:50:48.331Z"
   },
   {
    "duration": 334,
    "start_time": "2021-11-03T17:51:07.504Z"
   },
   {
    "duration": 303,
    "start_time": "2021-11-03T18:01:42.918Z"
   },
   {
    "duration": 114,
    "start_time": "2021-11-03T18:01:55.079Z"
   },
   {
    "duration": 119,
    "start_time": "2021-11-03T18:02:37.769Z"
   },
   {
    "duration": 107,
    "start_time": "2021-11-03T18:02:44.627Z"
   },
   {
    "duration": 109,
    "start_time": "2021-11-03T18:02:57.492Z"
   },
   {
    "duration": 116,
    "start_time": "2021-11-03T18:03:03.850Z"
   },
   {
    "duration": 6,
    "start_time": "2021-11-03T18:04:08.156Z"
   },
   {
    "duration": 248,
    "start_time": "2021-11-03T18:04:09.199Z"
   },
   {
    "duration": 8,
    "start_time": "2021-11-03T18:09:27.805Z"
   },
   {
    "duration": 10,
    "start_time": "2021-11-03T18:09:42.931Z"
   },
   {
    "duration": 387,
    "start_time": "2021-11-03T18:15:43.231Z"
   },
   {
    "duration": 384,
    "start_time": "2021-11-03T18:26:48.209Z"
   },
   {
    "duration": 335,
    "start_time": "2021-11-03T18:27:09.001Z"
   },
   {
    "duration": 367,
    "start_time": "2021-11-03T18:27:17.621Z"
   },
   {
    "duration": 366,
    "start_time": "2021-11-03T18:27:27.168Z"
   },
   {
    "duration": 85,
    "start_time": "2021-11-03T18:29:03.317Z"
   },
   {
    "duration": 4,
    "start_time": "2021-11-03T18:29:28.342Z"
   },
   {
    "duration": 4,
    "start_time": "2021-11-03T18:53:17.845Z"
   },
   {
    "duration": 6,
    "start_time": "2021-11-03T19:02:20.369Z"
   },
   {
    "duration": 83,
    "start_time": "2021-11-03T19:04:41.518Z"
   },
   {
    "duration": 8,
    "start_time": "2021-11-03T19:05:09.163Z"
   },
   {
    "duration": 65,
    "start_time": "2021-11-03T19:06:29.604Z"
   },
   {
    "duration": 278,
    "start_time": "2021-11-03T19:11:41.954Z"
   },
   {
    "duration": 15,
    "start_time": "2021-11-03T19:12:54.356Z"
   },
   {
    "duration": 63,
    "start_time": "2021-11-03T19:28:07.771Z"
   },
   {
    "duration": 295,
    "start_time": "2021-11-03T19:28:52.166Z"
   },
   {
    "duration": 17,
    "start_time": "2021-11-03T19:30:14.376Z"
   },
   {
    "duration": 70,
    "start_time": "2021-11-03T19:31:59.898Z"
   },
   {
    "duration": 28,
    "start_time": "2021-11-03T19:42:39.738Z"
   },
   {
    "duration": 24,
    "start_time": "2021-11-03T19:42:54.460Z"
   },
   {
    "duration": 5,
    "start_time": "2021-11-03T19:44:03.604Z"
   },
   {
    "duration": 6,
    "start_time": "2021-11-03T19:46:13.967Z"
   },
   {
    "duration": 3,
    "start_time": "2021-11-03T19:46:25.224Z"
   },
   {
    "duration": 368,
    "start_time": "2021-11-03T19:46:27.832Z"
   },
   {
    "duration": 9,
    "start_time": "2021-11-03T19:47:02.522Z"
   },
   {
    "duration": 14,
    "start_time": "2021-11-03T19:47:28.554Z"
   },
   {
    "duration": 5,
    "start_time": "2021-11-03T19:47:36.610Z"
   },
   {
    "duration": 5,
    "start_time": "2021-11-03T19:47:58.458Z"
   },
   {
    "duration": 6,
    "start_time": "2021-11-03T19:55:15.510Z"
   },
   {
    "duration": 3,
    "start_time": "2021-11-03T19:57:47.166Z"
   },
   {
    "duration": 7276,
    "start_time": "2021-11-03T20:03:28.917Z"
   },
   {
    "duration": 5,
    "start_time": "2021-11-03T20:04:04.491Z"
   },
   {
    "duration": 7,
    "start_time": "2021-11-03T20:05:44.115Z"
   },
   {
    "duration": 9,
    "start_time": "2021-11-03T20:06:40.888Z"
   },
   {
    "duration": 6,
    "start_time": "2021-11-03T20:06:47.994Z"
   },
   {
    "duration": 9,
    "start_time": "2021-11-03T20:07:22.793Z"
   },
   {
    "duration": 7,
    "start_time": "2021-11-03T20:14:36.168Z"
   },
   {
    "duration": 7,
    "start_time": "2021-11-03T20:15:09.006Z"
   },
   {
    "duration": 3,
    "start_time": "2021-11-03T20:15:45.976Z"
   },
   {
    "duration": 3,
    "start_time": "2021-11-03T20:15:54.231Z"
   },
   {
    "duration": 12,
    "start_time": "2021-11-03T20:16:56.778Z"
   },
   {
    "duration": 88,
    "start_time": "2021-11-03T20:19:13.436Z"
   },
   {
    "duration": 6,
    "start_time": "2021-11-03T20:19:27.483Z"
   },
   {
    "duration": 5,
    "start_time": "2021-11-03T20:20:31.072Z"
   },
   {
    "duration": 5,
    "start_time": "2021-11-03T20:20:40.675Z"
   },
   {
    "duration": 7,
    "start_time": "2021-11-03T20:33:31.470Z"
   },
   {
    "duration": 3,
    "start_time": "2021-11-03T20:40:30.328Z"
   },
   {
    "duration": 3,
    "start_time": "2021-11-03T20:40:33.729Z"
   },
   {
    "duration": 2,
    "start_time": "2021-11-03T20:40:39.909Z"
   },
   {
    "duration": 11,
    "start_time": "2021-11-03T20:43:07.989Z"
   },
   {
    "duration": 4,
    "start_time": "2021-11-03T20:46:28.265Z"
   },
   {
    "duration": 6,
    "start_time": "2021-11-03T20:46:40.098Z"
   },
   {
    "duration": 7,
    "start_time": "2021-11-03T20:49:27.079Z"
   },
   {
    "duration": 7,
    "start_time": "2021-11-03T20:51:55.082Z"
   },
   {
    "duration": 11,
    "start_time": "2021-11-03T20:53:46.381Z"
   },
   {
    "duration": 8725,
    "start_time": "2021-11-03T20:54:47.447Z"
   },
   {
    "duration": 12,
    "start_time": "2021-11-03T20:55:19.304Z"
   },
   {
    "duration": 83,
    "start_time": "2021-11-03T20:55:53.035Z"
   },
   {
    "duration": 8,
    "start_time": "2021-11-03T20:56:16.596Z"
   },
   {
    "duration": 3,
    "start_time": "2021-11-03T20:56:29.538Z"
   },
   {
    "duration": 4,
    "start_time": "2021-11-03T21:02:42.259Z"
   },
   {
    "duration": 4,
    "start_time": "2021-11-03T21:02:49.163Z"
   },
   {
    "duration": 7,
    "start_time": "2021-11-03T21:02:50.238Z"
   },
   {
    "duration": 6,
    "start_time": "2021-11-03T21:02:58.990Z"
   },
   {
    "duration": 6,
    "start_time": "2021-11-03T21:02:59.907Z"
   },
   {
    "duration": 12,
    "start_time": "2021-11-03T21:03:00.875Z"
   },
   {
    "duration": 4,
    "start_time": "2021-11-03T21:03:02.419Z"
   },
   {
    "duration": 8,
    "start_time": "2021-11-03T21:03:07.779Z"
   },
   {
    "duration": 4,
    "start_time": "2021-11-03T21:03:09.182Z"
   },
   {
    "duration": 10,
    "start_time": "2021-11-03T21:04:44.065Z"
   },
   {
    "duration": 10,
    "start_time": "2021-11-03T21:08:22.214Z"
   },
   {
    "duration": 1122,
    "start_time": "2021-11-04T07:59:09.661Z"
   },
   {
    "duration": 16,
    "start_time": "2021-11-04T07:59:11.967Z"
   },
   {
    "duration": 21,
    "start_time": "2021-11-04T07:59:12.576Z"
   },
   {
    "duration": 43,
    "start_time": "2021-11-04T07:59:14.868Z"
   },
   {
    "duration": 11,
    "start_time": "2021-11-04T07:59:15.471Z"
   },
   {
    "duration": 6,
    "start_time": "2021-11-04T07:59:16.900Z"
   },
   {
    "duration": 7,
    "start_time": "2021-11-04T07:59:17.500Z"
   },
   {
    "duration": 58,
    "start_time": "2021-11-04T07:59:19.619Z"
   },
   {
    "duration": 71,
    "start_time": "2021-11-04T07:59:20.357Z"
   },
   {
    "duration": 5,
    "start_time": "2021-11-04T07:59:21.125Z"
   },
   {
    "duration": 4,
    "start_time": "2021-11-04T07:59:21.774Z"
   },
   {
    "duration": 16,
    "start_time": "2021-11-04T07:59:29.438Z"
   },
   {
    "duration": 12,
    "start_time": "2021-11-04T07:59:30.101Z"
   },
   {
    "duration": 5,
    "start_time": "2021-11-04T07:59:31.676Z"
   },
   {
    "duration": 5,
    "start_time": "2021-11-04T07:59:32.333Z"
   },
   {
    "duration": 13,
    "start_time": "2021-11-04T07:59:34.285Z"
   },
   {
    "duration": 11,
    "start_time": "2021-11-04T07:59:37.285Z"
   },
   {
    "duration": 518,
    "start_time": "2021-11-04T08:01:01.689Z"
   },
   {
    "duration": 6,
    "start_time": "2021-11-04T08:01:54.174Z"
   },
   {
    "duration": 6,
    "start_time": "2021-11-04T08:03:00.735Z"
   },
   {
    "duration": 211,
    "start_time": "2021-11-04T08:03:03.084Z"
   },
   {
    "duration": 10,
    "start_time": "2021-11-04T08:03:04.893Z"
   },
   {
    "duration": 167,
    "start_time": "2021-11-04T08:03:06.612Z"
   },
   {
    "duration": 13,
    "start_time": "2021-11-04T08:03:08.227Z"
   },
   {
    "duration": 10,
    "start_time": "2021-11-04T08:03:09.031Z"
   },
   {
    "duration": 6,
    "start_time": "2021-11-04T08:03:11.532Z"
   },
   {
    "duration": 5,
    "start_time": "2021-11-04T08:03:12.275Z"
   },
   {
    "duration": 270,
    "start_time": "2021-11-04T08:03:13.243Z"
   },
   {
    "duration": 261,
    "start_time": "2021-11-04T08:03:49.452Z"
   },
   {
    "duration": 7,
    "start_time": "2021-11-04T08:05:30.967Z"
   },
   {
    "duration": 263,
    "start_time": "2021-11-04T08:05:32.226Z"
   },
   {
    "duration": 4,
    "start_time": "2021-11-04T08:06:07.523Z"
   },
   {
    "duration": 5,
    "start_time": "2021-11-04T08:06:08.306Z"
   },
   {
    "duration": 4,
    "start_time": "2021-11-04T08:06:09.000Z"
   },
   {
    "duration": 260,
    "start_time": "2021-11-04T08:06:10.217Z"
   },
   {
    "duration": 8,
    "start_time": "2021-11-04T08:06:36.336Z"
   },
   {
    "duration": 368,
    "start_time": "2021-11-04T08:06:37.457Z"
   },
   {
    "duration": 10,
    "start_time": "2021-11-04T08:07:42.386Z"
   },
   {
    "duration": 403,
    "start_time": "2021-11-04T08:07:44.906Z"
   },
   {
    "duration": 5,
    "start_time": "2021-11-04T08:07:58.154Z"
   },
   {
    "duration": 128,
    "start_time": "2021-11-04T08:08:12.513Z"
   },
   {
    "duration": 416,
    "start_time": "2021-11-04T08:08:15.083Z"
   },
   {
    "duration": 5,
    "start_time": "2021-11-04T08:08:28.900Z"
   },
   {
    "duration": 6,
    "start_time": "2021-11-04T08:08:44.691Z"
   },
   {
    "duration": 57,
    "start_time": "2021-11-04T08:08:45.437Z"
   },
   {
    "duration": 5,
    "start_time": "2021-11-04T08:08:46.228Z"
   },
   {
    "duration": 61,
    "start_time": "2021-11-04T08:08:46.752Z"
   },
   {
    "duration": 15,
    "start_time": "2021-11-04T08:08:47.332Z"
   },
   {
    "duration": 68,
    "start_time": "2021-11-04T08:08:47.958Z"
   },
   {
    "duration": 17,
    "start_time": "2021-11-04T08:08:48.582Z"
   },
   {
    "duration": 64,
    "start_time": "2021-11-04T08:08:49.181Z"
   },
   {
    "duration": 28,
    "start_time": "2021-11-04T08:08:49.764Z"
   },
   {
    "duration": 5,
    "start_time": "2021-11-04T08:08:52.428Z"
   },
   {
    "duration": 4,
    "start_time": "2021-11-04T08:08:53.141Z"
   },
   {
    "duration": 3,
    "start_time": "2021-11-04T08:08:54.885Z"
   },
   {
    "duration": 11,
    "start_time": "2021-11-04T08:08:56.028Z"
   },
   {
    "duration": 4,
    "start_time": "2021-11-04T08:08:57.509Z"
   },
   {
    "duration": 3,
    "start_time": "2021-11-04T08:09:09.498Z"
   },
   {
    "duration": 7,
    "start_time": "2021-11-04T08:09:13.021Z"
   },
   {
    "duration": 7,
    "start_time": "2021-11-04T08:09:13.768Z"
   },
   {
    "duration": 6,
    "start_time": "2021-11-04T08:09:36.175Z"
   },
   {
    "duration": 5,
    "start_time": "2021-11-04T08:09:36.869Z"
   },
   {
    "duration": 7,
    "start_time": "2021-11-04T08:09:37.526Z"
   },
   {
    "duration": 6,
    "start_time": "2021-11-04T08:09:40.614Z"
   },
   {
    "duration": 7,
    "start_time": "2021-11-04T08:09:41.391Z"
   },
   {
    "duration": 13,
    "start_time": "2021-11-04T08:09:42.157Z"
   },
   {
    "duration": 4,
    "start_time": "2021-11-04T08:09:42.950Z"
   },
   {
    "duration": 9,
    "start_time": "2021-11-04T08:09:50.087Z"
   },
   {
    "duration": 4,
    "start_time": "2021-11-04T08:09:50.862Z"
   },
   {
    "duration": 8,
    "start_time": "2021-11-04T08:09:55.254Z"
   },
   {
    "duration": 2002,
    "start_time": "2021-11-04T13:58:28.704Z"
   },
   {
    "duration": 29,
    "start_time": "2021-11-04T13:58:30.709Z"
   },
   {
    "duration": 29,
    "start_time": "2021-11-04T13:58:30.742Z"
   },
   {
    "duration": 51,
    "start_time": "2021-11-04T13:58:30.782Z"
   },
   {
    "duration": 17,
    "start_time": "2021-11-04T13:58:30.835Z"
   },
   {
    "duration": 19,
    "start_time": "2021-11-04T13:58:30.856Z"
   },
   {
    "duration": 16,
    "start_time": "2021-11-04T13:58:30.877Z"
   },
   {
    "duration": 114,
    "start_time": "2021-11-04T13:58:30.895Z"
   },
   {
    "duration": 136,
    "start_time": "2021-11-04T13:58:31.013Z"
   },
   {
    "duration": 8,
    "start_time": "2021-11-04T13:58:31.152Z"
   },
   {
    "duration": 23,
    "start_time": "2021-11-04T13:58:31.162Z"
   },
   {
    "duration": 24,
    "start_time": "2021-11-04T13:58:31.188Z"
   },
   {
    "duration": 17,
    "start_time": "2021-11-04T13:58:31.214Z"
   },
   {
    "duration": 17,
    "start_time": "2021-11-04T13:58:31.233Z"
   },
   {
    "duration": 29,
    "start_time": "2021-11-04T13:58:31.253Z"
   },
   {
    "duration": 20,
    "start_time": "2021-11-04T13:58:31.285Z"
   },
   {
    "duration": 17,
    "start_time": "2021-11-04T13:58:31.308Z"
   },
   {
    "duration": 11,
    "start_time": "2021-11-04T13:58:31.327Z"
   },
   {
    "duration": 401,
    "start_time": "2021-11-04T13:58:31.340Z"
   },
   {
    "duration": 16,
    "start_time": "2021-11-04T13:58:31.743Z"
   },
   {
    "duration": 312,
    "start_time": "2021-11-04T13:58:31.761Z"
   },
   {
    "duration": 23,
    "start_time": "2021-11-04T13:58:32.075Z"
   },
   {
    "duration": 16,
    "start_time": "2021-11-04T13:58:32.101Z"
   },
   {
    "duration": 13,
    "start_time": "2021-11-04T13:58:32.119Z"
   },
   {
    "duration": 8,
    "start_time": "2021-11-04T13:58:32.134Z"
   },
   {
    "duration": 466,
    "start_time": "2021-11-04T13:58:32.144Z"
   },
   {
    "duration": 429,
    "start_time": "2021-11-04T13:58:32.616Z"
   },
   {
    "duration": 10,
    "start_time": "2021-11-04T13:58:33.048Z"
   },
   {
    "duration": 413,
    "start_time": "2021-11-04T13:58:33.060Z"
   },
   {
    "duration": 4,
    "start_time": "2021-11-04T13:58:33.483Z"
   },
   {
    "duration": 9,
    "start_time": "2021-11-04T13:58:33.490Z"
   },
   {
    "duration": 8,
    "start_time": "2021-11-04T13:58:33.502Z"
   },
   {
    "duration": 434,
    "start_time": "2021-11-04T13:58:33.512Z"
   },
   {
    "duration": 11,
    "start_time": "2021-11-04T13:58:33.948Z"
   },
   {
    "duration": 544,
    "start_time": "2021-11-04T13:58:33.963Z"
   },
   {
    "duration": 14,
    "start_time": "2021-11-04T13:58:34.509Z"
   },
   {
    "duration": 540,
    "start_time": "2021-11-04T13:58:34.526Z"
   },
   {
    "duration": 6,
    "start_time": "2021-11-04T13:58:35.068Z"
   },
   {
    "duration": 200,
    "start_time": "2021-11-04T13:58:35.083Z"
   },
   {
    "duration": 627,
    "start_time": "2021-11-04T13:58:35.285Z"
   },
   {
    "duration": 6,
    "start_time": "2021-11-04T13:58:35.914Z"
   },
   {
    "duration": 11,
    "start_time": "2021-11-04T13:58:35.923Z"
   },
   {
    "duration": 126,
    "start_time": "2021-11-04T13:58:35.937Z"
   },
   {
    "duration": 19,
    "start_time": "2021-11-04T13:58:36.066Z"
   },
   {
    "duration": 112,
    "start_time": "2021-11-04T13:58:36.089Z"
   },
   {
    "duration": 24,
    "start_time": "2021-11-04T13:58:36.204Z"
   },
   {
    "duration": 119,
    "start_time": "2021-11-04T13:58:36.231Z"
   },
   {
    "duration": 37,
    "start_time": "2021-11-04T13:58:36.353Z"
   },
   {
    "duration": 106,
    "start_time": "2021-11-04T13:58:36.393Z"
   },
   {
    "duration": 38,
    "start_time": "2021-11-04T13:58:36.502Z"
   },
   {
    "duration": 6,
    "start_time": "2021-11-04T13:58:36.543Z"
   },
   {
    "duration": 31,
    "start_time": "2021-11-04T13:58:36.552Z"
   },
   {
    "duration": 4,
    "start_time": "2021-11-04T13:58:36.586Z"
   },
   {
    "duration": 20,
    "start_time": "2021-11-04T13:58:36.593Z"
   },
   {
    "duration": 6,
    "start_time": "2021-11-04T13:58:36.615Z"
   },
   {
    "duration": 5,
    "start_time": "2021-11-04T13:58:36.624Z"
   },
   {
    "duration": 59,
    "start_time": "2021-11-04T13:58:36.631Z"
   },
   {
    "duration": 10,
    "start_time": "2021-11-04T13:58:36.693Z"
   },
   {
    "duration": 8,
    "start_time": "2021-11-04T13:58:36.705Z"
   },
   {
    "duration": 7,
    "start_time": "2021-11-04T13:58:36.716Z"
   },
   {
    "duration": 11,
    "start_time": "2021-11-04T13:58:36.726Z"
   },
   {
    "duration": 49,
    "start_time": "2021-11-04T13:58:36.740Z"
   },
   {
    "duration": 10,
    "start_time": "2021-11-04T13:58:36.792Z"
   },
   {
    "duration": 18,
    "start_time": "2021-11-04T13:58:36.805Z"
   },
   {
    "duration": 7,
    "start_time": "2021-11-04T13:58:36.826Z"
   },
   {
    "duration": 13,
    "start_time": "2021-11-04T13:58:36.883Z"
   },
   {
    "duration": 6,
    "start_time": "2021-11-04T13:58:36.898Z"
   },
   {
    "duration": 12,
    "start_time": "2021-11-04T13:58:36.906Z"
   },
   {
    "duration": 1242,
    "start_time": "2021-11-04T14:21:54.102Z"
   },
   {
    "duration": 18,
    "start_time": "2021-11-04T14:21:55.345Z"
   },
   {
    "duration": 17,
    "start_time": "2021-11-04T14:22:01.830Z"
   },
   {
    "duration": 15,
    "start_time": "2021-11-04T14:22:02.704Z"
   },
   {
    "duration": 12,
    "start_time": "2021-11-04T14:22:13.935Z"
   },
   {
    "duration": 11,
    "start_time": "2021-11-04T14:22:51.661Z"
   },
   {
    "duration": 3,
    "start_time": "2021-11-04T14:23:43.982Z"
   },
   {
    "duration": 19,
    "start_time": "2021-11-04T14:23:43.989Z"
   },
   {
    "duration": 19,
    "start_time": "2021-11-04T14:23:44.010Z"
   },
   {
    "duration": 39,
    "start_time": "2021-11-04T14:23:44.031Z"
   },
   {
    "duration": 12,
    "start_time": "2021-11-04T14:23:44.072Z"
   },
   {
    "duration": 5,
    "start_time": "2021-11-04T14:23:44.087Z"
   },
   {
    "duration": 7,
    "start_time": "2021-11-04T14:23:44.095Z"
   },
   {
    "duration": 84,
    "start_time": "2021-11-04T14:23:44.104Z"
   },
   {
    "duration": 86,
    "start_time": "2021-11-04T14:23:44.191Z"
   },
   {
    "duration": 8,
    "start_time": "2021-11-04T14:23:44.279Z"
   },
   {
    "duration": 4,
    "start_time": "2021-11-04T14:23:48.193Z"
   },
   {
    "duration": 17,
    "start_time": "2021-11-04T14:23:50.520Z"
   },
   {
    "duration": 11,
    "start_time": "2021-11-04T14:23:51.272Z"
   },
   {
    "duration": 4,
    "start_time": "2021-11-04T14:23:52.895Z"
   },
   {
    "duration": 5,
    "start_time": "2021-11-04T14:23:53.488Z"
   },
   {
    "duration": 13,
    "start_time": "2021-11-04T14:23:55.271Z"
   },
   {
    "duration": 10,
    "start_time": "2021-11-04T14:24:25.362Z"
   },
   {
    "duration": 11,
    "start_time": "2021-11-04T14:25:23.916Z"
   },
   {
    "duration": 12,
    "start_time": "2021-11-04T14:25:37.387Z"
   },
   {
    "duration": 11,
    "start_time": "2021-11-04T14:56:29.020Z"
   },
   {
    "duration": 1497,
    "start_time": "2021-11-05T09:10:03.804Z"
   },
   {
    "duration": 19,
    "start_time": "2021-11-05T09:10:05.629Z"
   },
   {
    "duration": 22,
    "start_time": "2021-11-05T09:10:06.390Z"
   },
   {
    "duration": 17,
    "start_time": "2021-11-05T09:10:17.039Z"
   },
   {
    "duration": 18,
    "start_time": "2021-11-05T09:10:41.264Z"
   },
   {
    "duration": 17,
    "start_time": "2021-11-05T09:10:56.434Z"
   },
   {
    "duration": 16,
    "start_time": "2021-11-05T09:11:17.494Z"
   },
   {
    "duration": 1579,
    "start_time": "2021-11-05T09:11:41.715Z"
   },
   {
    "duration": 20,
    "start_time": "2021-11-05T09:11:43.455Z"
   },
   {
    "duration": 22,
    "start_time": "2021-11-05T09:11:44.817Z"
   },
   {
    "duration": 17,
    "start_time": "2021-11-05T09:11:57.772Z"
   },
   {
    "duration": 43,
    "start_time": "2021-11-05T09:12:10.280Z"
   },
   {
    "duration": 17,
    "start_time": "2021-11-05T09:12:12.890Z"
   },
   {
    "duration": 8,
    "start_time": "2021-11-05T09:12:15.334Z"
   },
   {
    "duration": 9,
    "start_time": "2021-11-05T09:12:15.937Z"
   },
   {
    "duration": 108,
    "start_time": "2021-11-05T09:12:17.984Z"
   },
   {
    "duration": 134,
    "start_time": "2021-11-05T09:12:21.312Z"
   },
   {
    "duration": 9,
    "start_time": "2021-11-05T09:12:23.168Z"
   },
   {
    "duration": 6,
    "start_time": "2021-11-05T09:12:33.256Z"
   },
   {
    "duration": 19,
    "start_time": "2021-11-05T09:12:36.153Z"
   },
   {
    "duration": 16,
    "start_time": "2021-11-05T09:12:37.120Z"
   },
   {
    "duration": 5,
    "start_time": "2021-11-05T09:12:45.216Z"
   },
   {
    "duration": 7,
    "start_time": "2021-11-05T09:12:46.027Z"
   },
   {
    "duration": 21,
    "start_time": "2021-11-05T09:12:49.617Z"
   },
   {
    "duration": 102,
    "start_time": "2021-11-05T09:14:41.718Z"
   },
   {
    "duration": 19,
    "start_time": "2021-11-05T09:20:51.481Z"
   },
   {
    "duration": 37,
    "start_time": "2021-11-05T09:21:55.737Z"
   },
   {
    "duration": 21,
    "start_time": "2021-11-05T09:23:07.765Z"
   },
   {
    "duration": 5,
    "start_time": "2021-11-05T09:29:40.345Z"
   },
   {
    "duration": 5,
    "start_time": "2021-11-05T09:29:48.214Z"
   },
   {
    "duration": 1417,
    "start_time": "2021-11-05T09:30:36.129Z"
   },
   {
    "duration": 54,
    "start_time": "2021-11-05T09:31:10.891Z"
   },
   {
    "duration": 11,
    "start_time": "2021-11-05T09:55:02.159Z"
   },
   {
    "duration": 463,
    "start_time": "2021-11-05T09:55:03.405Z"
   },
   {
    "duration": 16,
    "start_time": "2021-11-05T09:55:06.002Z"
   },
   {
    "duration": 294,
    "start_time": "2021-11-05T09:55:09.310Z"
   },
   {
    "duration": 28,
    "start_time": "2021-11-05T09:55:10.992Z"
   },
   {
    "duration": 16,
    "start_time": "2021-11-05T09:55:11.711Z"
   },
   {
    "duration": 8,
    "start_time": "2021-11-05T09:55:14.903Z"
   },
   {
    "duration": 7,
    "start_time": "2021-11-05T09:55:15.471Z"
   },
   {
    "duration": 445,
    "start_time": "2021-11-05T09:55:16.463Z"
   },
   {
    "duration": 518,
    "start_time": "2021-11-05T09:56:55.443Z"
   },
   {
    "duration": 503,
    "start_time": "2021-11-05T09:57:26.172Z"
   },
   {
    "duration": 506,
    "start_time": "2021-11-05T09:57:34.364Z"
   },
   {
    "duration": 598,
    "start_time": "2021-11-05T10:00:05.214Z"
   },
   {
    "duration": 481,
    "start_time": "2021-11-05T10:00:40.614Z"
   },
   {
    "duration": 462,
    "start_time": "2021-11-05T10:01:02.165Z"
   },
   {
    "duration": 462,
    "start_time": "2021-11-05T10:01:10.117Z"
   },
   {
    "duration": 500,
    "start_time": "2021-11-05T10:01:19.826Z"
   },
   {
    "duration": 488,
    "start_time": "2021-11-05T10:01:32.170Z"
   },
   {
    "duration": 461,
    "start_time": "2021-11-05T10:01:49.052Z"
   },
   {
    "duration": 461,
    "start_time": "2021-11-05T10:01:57.981Z"
   },
   {
    "duration": 459,
    "start_time": "2021-11-05T10:02:11.197Z"
   },
   {
    "duration": 466,
    "start_time": "2021-11-05T10:02:38.731Z"
   },
   {
    "duration": 592,
    "start_time": "2021-11-05T10:05:54.942Z"
   },
   {
    "duration": 10,
    "start_time": "2021-11-05T10:06:10.619Z"
   },
   {
    "duration": 541,
    "start_time": "2021-11-05T10:06:11.296Z"
   },
   {
    "duration": 454,
    "start_time": "2021-11-05T10:06:22.601Z"
   },
   {
    "duration": 446,
    "start_time": "2021-11-05T10:06:33.075Z"
   },
   {
    "duration": 438,
    "start_time": "2021-11-05T10:06:52.661Z"
   },
   {
    "duration": 443,
    "start_time": "2021-11-05T10:08:31.806Z"
   },
   {
    "duration": 455,
    "start_time": "2021-11-05T10:08:43.526Z"
   },
   {
    "duration": 439,
    "start_time": "2021-11-05T10:08:51.550Z"
   },
   {
    "duration": 465,
    "start_time": "2021-11-05T10:09:04.550Z"
   },
   {
    "duration": 671,
    "start_time": "2021-11-05T10:10:36.255Z"
   },
   {
    "duration": 5,
    "start_time": "2021-11-05T10:14:34.655Z"
   },
   {
    "duration": 7,
    "start_time": "2021-11-05T10:14:35.233Z"
   },
   {
    "duration": 5,
    "start_time": "2021-11-05T10:14:35.607Z"
   },
   {
    "duration": 421,
    "start_time": "2021-11-05T10:14:40.686Z"
   },
   {
    "duration": 501,
    "start_time": "2021-11-05T10:17:47.125Z"
   },
   {
    "duration": 12,
    "start_time": "2021-11-05T10:17:59.314Z"
   },
   {
    "duration": 677,
    "start_time": "2021-11-05T10:18:07.774Z"
   },
   {
    "duration": 14,
    "start_time": "2021-11-05T10:18:59.374Z"
   },
   {
    "duration": 543,
    "start_time": "2021-11-05T10:19:01.679Z"
   },
   {
    "duration": 7,
    "start_time": "2021-11-05T10:19:04.254Z"
   },
   {
    "duration": 227,
    "start_time": "2021-11-05T10:19:06.333Z"
   },
   {
    "duration": 490,
    "start_time": "2021-11-05T10:19:08.350Z"
   },
   {
    "duration": 6,
    "start_time": "2021-11-05T10:19:11.626Z"
   },
   {
    "duration": 7,
    "start_time": "2021-11-05T10:19:16.509Z"
   },
   {
    "duration": 93,
    "start_time": "2021-11-05T10:19:17.270Z"
   },
   {
    "duration": 7,
    "start_time": "2021-11-05T10:19:17.874Z"
   },
   {
    "duration": 93,
    "start_time": "2021-11-05T10:19:18.358Z"
   },
   {
    "duration": 26,
    "start_time": "2021-11-05T10:19:18.922Z"
   },
   {
    "duration": 114,
    "start_time": "2021-11-05T10:19:19.520Z"
   },
   {
    "duration": 22,
    "start_time": "2021-11-05T10:19:20.177Z"
   },
   {
    "duration": 105,
    "start_time": "2021-11-05T10:19:20.843Z"
   },
   {
    "duration": 37,
    "start_time": "2021-11-05T10:19:21.399Z"
   },
   {
    "duration": 6,
    "start_time": "2021-11-05T10:19:23.704Z"
   },
   {
    "duration": 6,
    "start_time": "2021-11-05T10:19:24.289Z"
   },
   {
    "duration": 3,
    "start_time": "2021-11-05T10:19:25.406Z"
   },
   {
    "duration": 13,
    "start_time": "2021-11-05T10:19:26.000Z"
   },
   {
    "duration": 5,
    "start_time": "2021-11-05T10:19:26.591Z"
   },
   {
    "duration": 3,
    "start_time": "2021-11-05T10:19:28.886Z"
   },
   {
    "duration": 12,
    "start_time": "2021-11-05T10:19:29.455Z"
   },
   {
    "duration": 11,
    "start_time": "2021-11-05T10:19:30.127Z"
   },
   {
    "duration": 7,
    "start_time": "2021-11-05T10:19:32.630Z"
   },
   {
    "duration": 6,
    "start_time": "2021-11-05T10:19:33.199Z"
   },
   {
    "duration": 12,
    "start_time": "2021-11-05T10:19:33.873Z"
   },
   {
    "duration": 9,
    "start_time": "2021-11-05T10:19:36.848Z"
   },
   {
    "duration": 8,
    "start_time": "2021-11-05T10:19:37.407Z"
   },
   {
    "duration": 12,
    "start_time": "2021-11-05T10:19:38.016Z"
   },
   {
    "duration": 5,
    "start_time": "2021-11-05T10:19:38.642Z"
   },
   {
    "duration": 12,
    "start_time": "2021-11-05T10:19:40.459Z"
   },
   {
    "duration": 6,
    "start_time": "2021-11-05T10:19:41.011Z"
   },
   {
    "duration": 12,
    "start_time": "2021-11-05T10:19:41.623Z"
   },
   {
    "duration": 13,
    "start_time": "2021-11-05T10:21:02.980Z"
   },
   {
    "duration": 5,
    "start_time": "2021-11-05T10:21:04.347Z"
   },
   {
    "duration": 13,
    "start_time": "2021-11-05T10:21:12.794Z"
   },
   {
    "duration": 13,
    "start_time": "2021-11-05T10:22:25.176Z"
   },
   {
    "duration": 5,
    "start_time": "2021-11-05T10:22:39.460Z"
   },
   {
    "duration": 11,
    "start_time": "2021-11-05T10:23:03.773Z"
   },
   {
    "duration": 10,
    "start_time": "2021-11-05T10:23:11.621Z"
   },
   {
    "duration": 8,
    "start_time": "2021-11-05T10:23:23.157Z"
   },
   {
    "duration": 7,
    "start_time": "2021-11-05T10:23:24.021Z"
   },
   {
    "duration": 11,
    "start_time": "2021-11-05T10:23:26.695Z"
   },
   {
    "duration": 7,
    "start_time": "2021-11-05T10:23:40.142Z"
   },
   {
    "duration": 9,
    "start_time": "2021-11-05T10:23:41.534Z"
   },
   {
    "duration": 13,
    "start_time": "2021-11-05T10:23:56.542Z"
   },
   {
    "duration": 6,
    "start_time": "2021-11-05T10:24:09.045Z"
   },
   {
    "duration": 13,
    "start_time": "2021-11-05T10:24:14.486Z"
   },
   {
    "duration": 5,
    "start_time": "2021-11-05T10:24:16.247Z"
   },
   {
    "duration": 14,
    "start_time": "2021-11-05T10:24:17.376Z"
   },
   {
    "duration": 90,
    "start_time": "2021-11-05T10:24:49.016Z"
   }
  ],
  "kernelspec": {
   "display_name": "Python 3",
   "language": "python",
   "name": "python3"
  },
  "language_info": {
   "codemirror_mode": {
    "name": "ipython",
    "version": 3
   },
   "file_extension": ".py",
   "mimetype": "text/x-python",
   "name": "python",
   "nbconvert_exporter": "python",
   "pygments_lexer": "ipython3",
   "version": "3.8.8"
  },
  "toc": {
   "base_numbering": 1,
   "nav_menu": {},
   "number_sections": true,
   "sideBar": true,
   "skip_h1_title": true,
   "title_cell": "Table of Contents",
   "title_sidebar": "Contents",
   "toc_cell": true,
   "toc_position": {
    "height": "calc(100% - 180px)",
    "left": "10px",
    "top": "150px",
    "width": "344px"
   },
   "toc_section_display": true,
   "toc_window_display": true
  }
 },
 "nbformat": 4,
 "nbformat_minor": 2
}
