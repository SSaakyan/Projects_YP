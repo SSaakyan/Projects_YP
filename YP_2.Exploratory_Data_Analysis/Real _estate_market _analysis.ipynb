{
 "cells": [
  {
   "cell_type": "markdown",
   "metadata": {
    "toc": true
   },
   "source": [
    "<h1>Содержание<span class=\"tocSkip\"></span></h1>\n",
    "<div class=\"toc\"><ul class=\"toc-item\"><li><span><a href=\"#Изучение-данных-из-файла\" data-toc-modified-id=\"Изучение-данных-из-файла-1\"><span class=\"toc-item-num\">1&nbsp;&nbsp;</span>Изучение данных из файла</a></span><ul class=\"toc-item\"><li><span><a href=\"#Вывод\" data-toc-modified-id=\"Вывод-1.1\"><span class=\"toc-item-num\">1.1&nbsp;&nbsp;</span>Вывод</a></span></li></ul></li><li><span><a href=\"#Предобработка-данных\" data-toc-modified-id=\"Предобработка-данных-2\"><span class=\"toc-item-num\">2&nbsp;&nbsp;</span>Предобработка данных</a></span><ul class=\"toc-item\"><li><span><a href=\"#Работа-с-пропущенными-значениями\" data-toc-modified-id=\"Работа-с-пропущенными-значениями-2.1\"><span class=\"toc-item-num\">2.1&nbsp;&nbsp;</span>Работа с пропущенными значениями</a></span><ul class=\"toc-item\"><li><span><a href=\"#Число-балконов-и-апартаменты.\" data-toc-modified-id=\"Число-балконов-и-апартаменты.-2.1.1\"><span class=\"toc-item-num\">2.1.1&nbsp;&nbsp;</span>Число балконов и апартаменты.</a></span></li><li><span><a href=\"#Жилая-площадь-и-площадь-кухни\" data-toc-modified-id=\"Жилая-площадь-и-площадь-кухни-2.1.2\"><span class=\"toc-item-num\">2.1.2&nbsp;&nbsp;</span>Жилая площадь и площадь кухни</a></span></li><li><span><a href=\"#Количество-дней-размещения-объявления.\" data-toc-modified-id=\"Количество-дней-размещения-объявления.-2.1.3\"><span class=\"toc-item-num\">2.1.3&nbsp;&nbsp;</span>Количество дней размещения объявления.</a></span></li><li><span><a href=\"#Высота-потолков\" data-toc-modified-id=\"Высота-потолков-2.1.4\"><span class=\"toc-item-num\">2.1.4&nbsp;&nbsp;</span>Высота потолков</a></span></li><li><span><a href=\"#Другие-пропущенные-значения\" data-toc-modified-id=\"Другие-пропущенные-значения-2.1.5\"><span class=\"toc-item-num\">2.1.5&nbsp;&nbsp;</span>Другие пропущенные значения</a></span></li></ul></li><li><span><a href=\"#Изменение-типа-данных\" data-toc-modified-id=\"Изменение-типа-данных-2.2\"><span class=\"toc-item-num\">2.2&nbsp;&nbsp;</span>Изменение типа данных</a></span></li><li><span><a href=\"#Проверка-на-дубликаты\" data-toc-modified-id=\"Проверка-на-дубликаты-2.3\"><span class=\"toc-item-num\">2.3&nbsp;&nbsp;</span>Проверка на дубликаты</a></span></li><li><span><a href=\"#Вывод\" data-toc-modified-id=\"Вывод-2.4\"><span class=\"toc-item-num\">2.4&nbsp;&nbsp;</span>Вывод</a></span></li></ul></li><li><span><a href=\"#Расчёты-и-добавление-результатов-в-таблицу\" data-toc-modified-id=\"Расчёты-и-добавление-результатов-в-таблицу-3\"><span class=\"toc-item-num\">3&nbsp;&nbsp;</span>Расчёты и добавление результатов в таблицу</a></span><ul class=\"toc-item\"><li><span><a href=\"#Цена-за-квадратный-метр\" data-toc-modified-id=\"Цена-за-квадратный-метр-3.1\"><span class=\"toc-item-num\">3.1&nbsp;&nbsp;</span>Цена за квадратный метр</a></span></li><li><span><a href=\"#День-недели,-месяц-и-год-публикации-объявления\" data-toc-modified-id=\"День-недели,-месяц-и-год-публикации-объявления-3.2\"><span class=\"toc-item-num\">3.2&nbsp;&nbsp;</span>День недели, месяц и год публикации объявления</a></span></li><li><span><a href=\"#Разделение-на-группы-в-зависимости-от-этажа\" data-toc-modified-id=\"Разделение-на-группы-в-зависимости-от-этажа-3.3\"><span class=\"toc-item-num\">3.3&nbsp;&nbsp;</span>Разделение на группы в зависимости от этажа</a></span></li><li><span><a href=\"#Доля-жилой-площади-в-общей-площади-и-доля-кухни-в-общей-площади.\" data-toc-modified-id=\"Доля-жилой-площади-в-общей-площади-и-доля-кухни-в-общей-площади.-3.4\"><span class=\"toc-item-num\">3.4&nbsp;&nbsp;</span>Доля жилой площади в общей площади и доля кухни в общей площади.</a></span></li></ul></li><li><span><a href=\"#Исследовательский-анализ-данных\" data-toc-modified-id=\"Исследовательский-анализ-данных-4\"><span class=\"toc-item-num\">4&nbsp;&nbsp;</span>Исследовательский анализ данных</a></span><ul class=\"toc-item\"><li><span><a href=\"#Изучение-параметров:-площадь,-цена,-число-комнат,-высота-потолков\" data-toc-modified-id=\"Изучение-параметров:-площадь,-цена,-число-комнат,-высота-потолков-4.1\"><span class=\"toc-item-num\">4.1&nbsp;&nbsp;</span>Изучение параметров: площадь, цена, число комнат, высота потолков</a></span><ul class=\"toc-item\"><li><span><a href=\"#Площадь\" data-toc-modified-id=\"Площадь-4.1.1\"><span class=\"toc-item-num\">4.1.1&nbsp;&nbsp;</span>Площадь</a></span></li><li><span><a href=\"#Цена-за-один-квадратный-метр\" data-toc-modified-id=\"Цена-за-один-квадратный-метр-4.1.2\"><span class=\"toc-item-num\">4.1.2&nbsp;&nbsp;</span>Цена за один квадратный метр</a></span></li><li><span><a href=\"#Число-комнат\" data-toc-modified-id=\"Число-комнат-4.1.3\"><span class=\"toc-item-num\">4.1.3&nbsp;&nbsp;</span>Число комнат</a></span></li><li><span><a href=\"#Высота-потолков\" data-toc-modified-id=\"Высота-потолков-4.1.4\"><span class=\"toc-item-num\">4.1.4&nbsp;&nbsp;</span>Высота потолков</a></span></li></ul></li><li><span><a href=\"#Исследование-времени-продажи-квартир\" data-toc-modified-id=\"Исследование-времени-продажи-квартир-4.2\"><span class=\"toc-item-num\">4.2&nbsp;&nbsp;</span>Исследование времени продажи квартир</a></span></li><li><span><a href=\"#Выборка-для-исследования\" data-toc-modified-id=\"Выборка-для-исследования-4.3\"><span class=\"toc-item-num\">4.3&nbsp;&nbsp;</span>Выборка для исследования</a></span></li><li><span><a href=\"#Поиск-зависимостей\" data-toc-modified-id=\"Поиск-зависимостей-4.4\"><span class=\"toc-item-num\">4.4&nbsp;&nbsp;</span>Поиск зависимостей</a></span><ul class=\"toc-item\"><li><span><a href=\"#Цена-и-площадь\" data-toc-modified-id=\"Цена-и-площадь-4.4.1\"><span class=\"toc-item-num\">4.4.1&nbsp;&nbsp;</span>Цена и площадь</a></span></li><li><span><a href=\"#Цена-и-число-комнат\" data-toc-modified-id=\"Цена-и-число-комнат-4.4.2\"><span class=\"toc-item-num\">4.4.2&nbsp;&nbsp;</span>Цена и число комнат</a></span></li><li><span><a href=\"#Цена-и-удаленность-от-центра\" data-toc-modified-id=\"Цена-и-удаленность-от-центра-4.4.3\"><span class=\"toc-item-num\">4.4.3&nbsp;&nbsp;</span>Цена и удаленность от центра</a></span></li><li><span><a href=\"#Цена-и-этаж\" data-toc-modified-id=\"Цена-и-этаж-4.4.4\"><span class=\"toc-item-num\">4.4.4&nbsp;&nbsp;</span>Цена и этаж</a></span></li><li><span><a href=\"#Цена-и-время-размещения\" data-toc-modified-id=\"Цена-и-время-размещения-4.4.5\"><span class=\"toc-item-num\">4.4.5&nbsp;&nbsp;</span>Цена и время размещения</a></span><ul class=\"toc-item\"><li><span><a href=\"#День-недели-размещения-объявления\" data-toc-modified-id=\"День-недели-размещения-объявления-4.4.5.1\"><span class=\"toc-item-num\">4.4.5.1&nbsp;&nbsp;</span>День недели размещения объявления</a></span></li><li><span><a href=\"#Месяц-размещения-объявления\" data-toc-modified-id=\"Месяц-размещения-объявления-4.4.5.2\"><span class=\"toc-item-num\">4.4.5.2&nbsp;&nbsp;</span>Месяц размещения объявления</a></span></li><li><span><a href=\"#Год-размещения-объявления\" data-toc-modified-id=\"Год-размещения-объявления-4.4.5.3\"><span class=\"toc-item-num\">4.4.5.3&nbsp;&nbsp;</span>Год размещения объявления</a></span></li></ul></li><li><span><a href=\"#Стоимость-жилья-в-населенных-пунктах\" data-toc-modified-id=\"Стоимость-жилья-в-населенных-пунктах-4.4.6\"><span class=\"toc-item-num\">4.4.6&nbsp;&nbsp;</span>Стоимость жилья в населенных пунктах</a></span></li><li><span><a href=\"#Квартиры-в-центре-Санкт-Петербурга\" data-toc-modified-id=\"Квартиры-в-центре-Санкт-Петербурга-4.4.7\"><span class=\"toc-item-num\">4.4.7&nbsp;&nbsp;</span>Квартиры в центре Санкт-Петербурга</a></span></li><li><span><a href=\"#Квартиры-в-центре-Санкт-Петербурга\" data-toc-modified-id=\"Квартиры-в-центре-Санкт-Петербурга-4.4.8\"><span class=\"toc-item-num\">4.4.8&nbsp;&nbsp;</span>Квартиры в центре Санкт-Петербурга</a></span><ul class=\"toc-item\"><li><span><a href=\"#Площадь-в-центре\" data-toc-modified-id=\"Площадь-в-центре-4.4.8.1\"><span class=\"toc-item-num\">4.4.8.1&nbsp;&nbsp;</span>Площадь в центре</a></span></li><li><span><a href=\"#Цена-за-один-квадратный-метр-в-центре\" data-toc-modified-id=\"Цена-за-один-квадратный-метр-в-центре-4.4.8.2\"><span class=\"toc-item-num\">4.4.8.2&nbsp;&nbsp;</span>Цена за один квадратный метр в центре</a></span></li><li><span><a href=\"#Число-комнат-в-центре\" data-toc-modified-id=\"Число-комнат-в-центре-4.4.8.3\"><span class=\"toc-item-num\">4.4.8.3&nbsp;&nbsp;</span>Число комнат в центре</a></span></li><li><span><a href=\"#Высота-потолков-в-центре\" data-toc-modified-id=\"Высота-потолков-в-центре-4.4.8.4\"><span class=\"toc-item-num\">4.4.8.4&nbsp;&nbsp;</span>Высота потолков в центре</a></span></li><li><span><a href=\"#Цена-и-число-комнат\" data-toc-modified-id=\"Цена-и-число-комнат-4.4.8.5\"><span class=\"toc-item-num\">4.4.8.5&nbsp;&nbsp;</span>Цена и число комнат</a></span></li><li><span><a href=\"#Цена-и-этаж\" data-toc-modified-id=\"Цена-и-этаж-4.4.8.6\"><span class=\"toc-item-num\">4.4.8.6&nbsp;&nbsp;</span>Цена и этаж</a></span></li><li><span><a href=\"#Цена-и-удаленность-от-центра\" data-toc-modified-id=\"Цена-и-удаленность-от-центра-4.4.8.7\"><span class=\"toc-item-num\">4.4.8.7&nbsp;&nbsp;</span>Цена и удаленность от центра</a></span></li><li><span><a href=\"#Цена-и-дата-размещения-объявления\" data-toc-modified-id=\"Цена-и-дата-размещения-объявления-4.4.8.8\"><span class=\"toc-item-num\">4.4.8.8&nbsp;&nbsp;</span>Цена и дата размещения объявления</a></span></li><li><span><a href=\"#Вывод:\" data-toc-modified-id=\"Вывод:-4.4.8.9\"><span class=\"toc-item-num\">4.4.8.9&nbsp;&nbsp;</span>Вывод:</a></span></li></ul></li></ul></li></ul></li><li><span><a href=\"#Общий-вывод\" data-toc-modified-id=\"Общий-вывод-5\"><span class=\"toc-item-num\">5&nbsp;&nbsp;</span>Общий вывод</a></span></li></ul></div>"
   ]
  },
  {
   "cell_type": "markdown",
   "metadata": {},
   "source": [
    "<b> Описание данных: </b>\n",
    "\n",
    "- *airports_nearest* — расстояние до ближайшего аэропорта в метрах (м)\n",
    "- *balcony* — число балконов\n",
    "- *ceiling_height* — высота потолков (м)\n",
    "- *cityCenters_nearest* — расстояние до центра города (м)\n",
    "- *days_exposition* — сколько дней было размещено объявление (от публикации до снятия)\n",
    "- *first_day_exposition* — дата публикации\n",
    "- *floor* — этаж\n",
    "- *floors_total* — всего этажей в доме\n",
    "- *is_apartment* — апартаменты (булев тип)\n",
    "- *kitchen_area* — площадь кухни в квадратных метрах (м²)\n",
    "- *last_price* — цена на момент снятия с публикации\n",
    "- *living_area* — жилая площадь в квадратных метрах(м²)\n",
    "- *locality_name* — название населённого пункта\n",
    "- *open_plan* — свободная планировка (булев тип)\n",
    "- *parks_around3000* — число парков в радиусе 3 км\n",
    "- *parks_nearest* — расстояние до ближайшего парка (м)\n",
    "- *ponds_around3000* — число водоёмов в радиусе 3 км\n",
    "- *ponds_nearest* — расстояние до ближайшего водоёма (м)\n",
    "- *rooms* — число комнат\n",
    "- *studio* — квартира-студия (булев тип)\n",
    "- *total_area* — площадь квартиры в квадратных метрах (м²)\n",
    "- *total_images* — число фотографий квартиры в объявлении\n"
   ]
  },
  {
   "cell_type": "markdown",
   "metadata": {},
   "source": [
    "## Изучение данных из файла"
   ]
  },
  {
   "cell_type": "code",
   "execution_count": 1,
   "metadata": {},
   "outputs": [],
   "source": [
    "#импортируем библиотеки\n",
    "import pandas as pd\n",
    "import matplotlib.pyplot as plt\n",
    "from IPython.display import display\n",
    "pd.set_option('display.float_format', '{:,.2f}'.format)"
   ]
  },
  {
   "cell_type": "code",
   "execution_count": 4,
   "metadata": {},
   "outputs": [],
   "source": [
    "data = pd.read_csv('/datasets/real_estate_data.csv',sep='\\t') #берём данные\n",
    "data1 = pd.read_csv('/datasets/real_estate_data.csv',sep='\\t') "
   ]
  },
  {
   "cell_type": "code",
   "execution_count": 5,
   "metadata": {},
   "outputs": [
    {
     "data": {
      "text/html": [
       "<div>\n",
       "<style scoped>\n",
       "    .dataframe tbody tr th:only-of-type {\n",
       "        vertical-align: middle;\n",
       "    }\n",
       "\n",
       "    .dataframe tbody tr th {\n",
       "        vertical-align: top;\n",
       "    }\n",
       "\n",
       "    .dataframe thead th {\n",
       "        text-align: right;\n",
       "    }\n",
       "</style>\n",
       "<table border=\"1\" class=\"dataframe\">\n",
       "  <thead>\n",
       "    <tr style=\"text-align: right;\">\n",
       "      <th></th>\n",
       "      <th>total_images</th>\n",
       "      <th>last_price</th>\n",
       "      <th>total_area</th>\n",
       "      <th>first_day_exposition</th>\n",
       "      <th>rooms</th>\n",
       "      <th>ceiling_height</th>\n",
       "      <th>floors_total</th>\n",
       "      <th>living_area</th>\n",
       "      <th>floor</th>\n",
       "      <th>is_apartment</th>\n",
       "      <th>...</th>\n",
       "      <th>kitchen_area</th>\n",
       "      <th>balcony</th>\n",
       "      <th>locality_name</th>\n",
       "      <th>airports_nearest</th>\n",
       "      <th>cityCenters_nearest</th>\n",
       "      <th>parks_around3000</th>\n",
       "      <th>parks_nearest</th>\n",
       "      <th>ponds_around3000</th>\n",
       "      <th>ponds_nearest</th>\n",
       "      <th>days_exposition</th>\n",
       "    </tr>\n",
       "  </thead>\n",
       "  <tbody>\n",
       "    <tr>\n",
       "      <td>17338</td>\n",
       "      <td>5</td>\n",
       "      <td>3,300,000.00</td>\n",
       "      <td>47.00</td>\n",
       "      <td>2018-03-30T00:00:00</td>\n",
       "      <td>1</td>\n",
       "      <td>3.00</td>\n",
       "      <td>10.00</td>\n",
       "      <td>nan</td>\n",
       "      <td>4</td>\n",
       "      <td>NaN</td>\n",
       "      <td>...</td>\n",
       "      <td>nan</td>\n",
       "      <td>nan</td>\n",
       "      <td>деревня Новое Девяткино</td>\n",
       "      <td>nan</td>\n",
       "      <td>nan</td>\n",
       "      <td>nan</td>\n",
       "      <td>nan</td>\n",
       "      <td>nan</td>\n",
       "      <td>nan</td>\n",
       "      <td>42.00</td>\n",
       "    </tr>\n",
       "    <tr>\n",
       "      <td>13876</td>\n",
       "      <td>12</td>\n",
       "      <td>2,290,000.00</td>\n",
       "      <td>40.00</td>\n",
       "      <td>2016-01-17T00:00:00</td>\n",
       "      <td>2</td>\n",
       "      <td>3.00</td>\n",
       "      <td>3.00</td>\n",
       "      <td>27.00</td>\n",
       "      <td>2</td>\n",
       "      <td>False</td>\n",
       "      <td>...</td>\n",
       "      <td>7.40</td>\n",
       "      <td>nan</td>\n",
       "      <td>Гатчина</td>\n",
       "      <td>nan</td>\n",
       "      <td>nan</td>\n",
       "      <td>nan</td>\n",
       "      <td>nan</td>\n",
       "      <td>nan</td>\n",
       "      <td>nan</td>\n",
       "      <td>895.00</td>\n",
       "    </tr>\n",
       "    <tr>\n",
       "      <td>3586</td>\n",
       "      <td>0</td>\n",
       "      <td>5,450,000.00</td>\n",
       "      <td>53.80</td>\n",
       "      <td>2018-02-01T00:00:00</td>\n",
       "      <td>2</td>\n",
       "      <td>2.85</td>\n",
       "      <td>2.00</td>\n",
       "      <td>36.50</td>\n",
       "      <td>2</td>\n",
       "      <td>NaN</td>\n",
       "      <td>...</td>\n",
       "      <td>5.30</td>\n",
       "      <td>1.00</td>\n",
       "      <td>Санкт-Петербург</td>\n",
       "      <td>38,914.00</td>\n",
       "      <td>10,617.00</td>\n",
       "      <td>1.00</td>\n",
       "      <td>255.00</td>\n",
       "      <td>0.00</td>\n",
       "      <td>nan</td>\n",
       "      <td>64.00</td>\n",
       "    </tr>\n",
       "    <tr>\n",
       "      <td>6495</td>\n",
       "      <td>1</td>\n",
       "      <td>5,482,990.00</td>\n",
       "      <td>66.10</td>\n",
       "      <td>2016-02-19T00:00:00</td>\n",
       "      <td>2</td>\n",
       "      <td>nan</td>\n",
       "      <td>25.00</td>\n",
       "      <td>43.60</td>\n",
       "      <td>1</td>\n",
       "      <td>NaN</td>\n",
       "      <td>...</td>\n",
       "      <td>11.10</td>\n",
       "      <td>0.00</td>\n",
       "      <td>поселок Бугры</td>\n",
       "      <td>nan</td>\n",
       "      <td>nan</td>\n",
       "      <td>nan</td>\n",
       "      <td>nan</td>\n",
       "      <td>nan</td>\n",
       "      <td>nan</td>\n",
       "      <td>469.00</td>\n",
       "    </tr>\n",
       "    <tr>\n",
       "      <td>14431</td>\n",
       "      <td>5</td>\n",
       "      <td>4,190,000.00</td>\n",
       "      <td>54.00</td>\n",
       "      <td>2017-10-30T00:00:00</td>\n",
       "      <td>2</td>\n",
       "      <td>3.00</td>\n",
       "      <td>12.00</td>\n",
       "      <td>34.00</td>\n",
       "      <td>3</td>\n",
       "      <td>NaN</td>\n",
       "      <td>...</td>\n",
       "      <td>9.00</td>\n",
       "      <td>2.00</td>\n",
       "      <td>Гатчина</td>\n",
       "      <td>nan</td>\n",
       "      <td>nan</td>\n",
       "      <td>nan</td>\n",
       "      <td>nan</td>\n",
       "      <td>nan</td>\n",
       "      <td>nan</td>\n",
       "      <td>73.00</td>\n",
       "    </tr>\n",
       "    <tr>\n",
       "      <td>8363</td>\n",
       "      <td>13</td>\n",
       "      <td>5,690,000.00</td>\n",
       "      <td>41.70</td>\n",
       "      <td>2016-12-29T00:00:00</td>\n",
       "      <td>2</td>\n",
       "      <td>3.20</td>\n",
       "      <td>5.00</td>\n",
       "      <td>23.00</td>\n",
       "      <td>2</td>\n",
       "      <td>NaN</td>\n",
       "      <td>...</td>\n",
       "      <td>7.50</td>\n",
       "      <td>0.00</td>\n",
       "      <td>Санкт-Петербург</td>\n",
       "      <td>23,963.00</td>\n",
       "      <td>3,530.00</td>\n",
       "      <td>2.00</td>\n",
       "      <td>352.00</td>\n",
       "      <td>3.00</td>\n",
       "      <td>341.00</td>\n",
       "      <td>283.00</td>\n",
       "    </tr>\n",
       "    <tr>\n",
       "      <td>15270</td>\n",
       "      <td>15</td>\n",
       "      <td>4,999,000.00</td>\n",
       "      <td>42.00</td>\n",
       "      <td>2018-11-23T00:00:00</td>\n",
       "      <td>1</td>\n",
       "      <td>2.80</td>\n",
       "      <td>17.00</td>\n",
       "      <td>22.00</td>\n",
       "      <td>4</td>\n",
       "      <td>NaN</td>\n",
       "      <td>...</td>\n",
       "      <td>11.00</td>\n",
       "      <td>2.00</td>\n",
       "      <td>Санкт-Петербург</td>\n",
       "      <td>30,571.00</td>\n",
       "      <td>11,470.00</td>\n",
       "      <td>1.00</td>\n",
       "      <td>721.00</td>\n",
       "      <td>0.00</td>\n",
       "      <td>nan</td>\n",
       "      <td>60.00</td>\n",
       "    </tr>\n",
       "    <tr>\n",
       "      <td>2143</td>\n",
       "      <td>4</td>\n",
       "      <td>3,350,000.00</td>\n",
       "      <td>55.50</td>\n",
       "      <td>2017-11-14T00:00:00</td>\n",
       "      <td>2</td>\n",
       "      <td>nan</td>\n",
       "      <td>5.00</td>\n",
       "      <td>33.50</td>\n",
       "      <td>3</td>\n",
       "      <td>NaN</td>\n",
       "      <td>...</td>\n",
       "      <td>8.50</td>\n",
       "      <td>2.00</td>\n",
       "      <td>Гатчина</td>\n",
       "      <td>nan</td>\n",
       "      <td>nan</td>\n",
       "      <td>nan</td>\n",
       "      <td>nan</td>\n",
       "      <td>nan</td>\n",
       "      <td>nan</td>\n",
       "      <td>211.00</td>\n",
       "    </tr>\n",
       "    <tr>\n",
       "      <td>11284</td>\n",
       "      <td>17</td>\n",
       "      <td>3,200,000.00</td>\n",
       "      <td>48.00</td>\n",
       "      <td>2017-10-25T00:00:00</td>\n",
       "      <td>1</td>\n",
       "      <td>2.80</td>\n",
       "      <td>9.00</td>\n",
       "      <td>19.00</td>\n",
       "      <td>4</td>\n",
       "      <td>NaN</td>\n",
       "      <td>...</td>\n",
       "      <td>11.50</td>\n",
       "      <td>2.00</td>\n",
       "      <td>Всеволожск</td>\n",
       "      <td>nan</td>\n",
       "      <td>nan</td>\n",
       "      <td>nan</td>\n",
       "      <td>nan</td>\n",
       "      <td>nan</td>\n",
       "      <td>nan</td>\n",
       "      <td>246.00</td>\n",
       "    </tr>\n",
       "    <tr>\n",
       "      <td>17095</td>\n",
       "      <td>8</td>\n",
       "      <td>5,100,000.00</td>\n",
       "      <td>50.20</td>\n",
       "      <td>2018-10-06T00:00:00</td>\n",
       "      <td>2</td>\n",
       "      <td>2.50</td>\n",
       "      <td>3.00</td>\n",
       "      <td>28.00</td>\n",
       "      <td>1</td>\n",
       "      <td>NaN</td>\n",
       "      <td>...</td>\n",
       "      <td>5.40</td>\n",
       "      <td>nan</td>\n",
       "      <td>Пушкин</td>\n",
       "      <td>12,671.00</td>\n",
       "      <td>24,825.00</td>\n",
       "      <td>1.00</td>\n",
       "      <td>171.00</td>\n",
       "      <td>0.00</td>\n",
       "      <td>nan</td>\n",
       "      <td>23.00</td>\n",
       "    </tr>\n",
       "  </tbody>\n",
       "</table>\n",
       "<p>10 rows × 22 columns</p>\n",
       "</div>"
      ],
      "text/plain": [
       "       total_images   last_price  total_area first_day_exposition  rooms  \\\n",
       "17338             5 3,300,000.00       47.00  2018-03-30T00:00:00      1   \n",
       "13876            12 2,290,000.00       40.00  2016-01-17T00:00:00      2   \n",
       "3586              0 5,450,000.00       53.80  2018-02-01T00:00:00      2   \n",
       "6495              1 5,482,990.00       66.10  2016-02-19T00:00:00      2   \n",
       "14431             5 4,190,000.00       54.00  2017-10-30T00:00:00      2   \n",
       "8363             13 5,690,000.00       41.70  2016-12-29T00:00:00      2   \n",
       "15270            15 4,999,000.00       42.00  2018-11-23T00:00:00      1   \n",
       "2143              4 3,350,000.00       55.50  2017-11-14T00:00:00      2   \n",
       "11284            17 3,200,000.00       48.00  2017-10-25T00:00:00      1   \n",
       "17095             8 5,100,000.00       50.20  2018-10-06T00:00:00      2   \n",
       "\n",
       "       ceiling_height  floors_total  living_area  floor is_apartment  ...  \\\n",
       "17338            3.00         10.00          nan      4          NaN  ...   \n",
       "13876            3.00          3.00        27.00      2        False  ...   \n",
       "3586             2.85          2.00        36.50      2          NaN  ...   \n",
       "6495              nan         25.00        43.60      1          NaN  ...   \n",
       "14431            3.00         12.00        34.00      3          NaN  ...   \n",
       "8363             3.20          5.00        23.00      2          NaN  ...   \n",
       "15270            2.80         17.00        22.00      4          NaN  ...   \n",
       "2143              nan          5.00        33.50      3          NaN  ...   \n",
       "11284            2.80          9.00        19.00      4          NaN  ...   \n",
       "17095            2.50          3.00        28.00      1          NaN  ...   \n",
       "\n",
       "       kitchen_area  balcony            locality_name  airports_nearest  \\\n",
       "17338           nan      nan  деревня Новое Девяткино               nan   \n",
       "13876          7.40      nan                  Гатчина               nan   \n",
       "3586           5.30     1.00          Санкт-Петербург         38,914.00   \n",
       "6495          11.10     0.00            поселок Бугры               nan   \n",
       "14431          9.00     2.00                  Гатчина               nan   \n",
       "8363           7.50     0.00          Санкт-Петербург         23,963.00   \n",
       "15270         11.00     2.00          Санкт-Петербург         30,571.00   \n",
       "2143           8.50     2.00                  Гатчина               nan   \n",
       "11284         11.50     2.00               Всеволожск               nan   \n",
       "17095          5.40      nan                   Пушкин         12,671.00   \n",
       "\n",
       "      cityCenters_nearest  parks_around3000  parks_nearest  ponds_around3000  \\\n",
       "17338                 nan               nan            nan               nan   \n",
       "13876                 nan               nan            nan               nan   \n",
       "3586            10,617.00              1.00         255.00              0.00   \n",
       "6495                  nan               nan            nan               nan   \n",
       "14431                 nan               nan            nan               nan   \n",
       "8363             3,530.00              2.00         352.00              3.00   \n",
       "15270           11,470.00              1.00         721.00              0.00   \n",
       "2143                  nan               nan            nan               nan   \n",
       "11284                 nan               nan            nan               nan   \n",
       "17095           24,825.00              1.00         171.00              0.00   \n",
       "\n",
       "       ponds_nearest  days_exposition  \n",
       "17338            nan            42.00  \n",
       "13876            nan           895.00  \n",
       "3586             nan            64.00  \n",
       "6495             nan           469.00  \n",
       "14431            nan            73.00  \n",
       "8363          341.00           283.00  \n",
       "15270            nan            60.00  \n",
       "2143             nan           211.00  \n",
       "11284            nan           246.00  \n",
       "17095            nan            23.00  \n",
       "\n",
       "[10 rows x 22 columns]"
      ]
     },
     "metadata": {},
     "output_type": "display_data"
    }
   ],
   "source": [
    "display(data.sample(10,random_state=1)) #посмотрим на данные и на видимые существующие пропуски/ошибки в данных\n"
   ]
  },
  {
   "cell_type": "code",
   "execution_count": 6,
   "metadata": {},
   "outputs": [
    {
     "name": "stdout",
     "output_type": "stream",
     "text": [
      "<class 'pandas.core.frame.DataFrame'>\n",
      "RangeIndex: 23699 entries, 0 to 23698\n",
      "Data columns (total 22 columns):\n",
      "total_images            23699 non-null int64\n",
      "last_price              23699 non-null float64\n",
      "total_area              23699 non-null float64\n",
      "first_day_exposition    23699 non-null object\n",
      "rooms                   23699 non-null int64\n",
      "ceiling_height          14504 non-null float64\n",
      "floors_total            23613 non-null float64\n",
      "living_area             21796 non-null float64\n",
      "floor                   23699 non-null int64\n",
      "is_apartment            2775 non-null object\n",
      "studio                  23699 non-null bool\n",
      "open_plan               23699 non-null bool\n",
      "kitchen_area            21421 non-null float64\n",
      "balcony                 12180 non-null float64\n",
      "locality_name           23650 non-null object\n",
      "airports_nearest        18157 non-null float64\n",
      "cityCenters_nearest     18180 non-null float64\n",
      "parks_around3000        18181 non-null float64\n",
      "parks_nearest           8079 non-null float64\n",
      "ponds_around3000        18181 non-null float64\n",
      "ponds_nearest           9110 non-null float64\n",
      "days_exposition         20518 non-null float64\n",
      "dtypes: bool(2), float64(14), int64(3), object(3)\n",
      "memory usage: 3.7+ MB\n"
     ]
    }
   ],
   "source": [
    "#посмотрим на общую информацию по данным\n",
    "data.info()"
   ]
  },
  {
   "cell_type": "markdown",
   "metadata": {},
   "source": [
    "### Вывод"
   ]
  },
  {
   "cell_type": "markdown",
   "metadata": {},
   "source": [
    "1. В таблице всего 23699 строк, 22 столбца, есть как вещественные, так и целочисленные значения, а также данные булева типа. \n",
    "2. Тип данных у столбца \"is_apartment\" указан неверно, должен буть булев тип. Также некорректные типы данных в столбцах \"days_exposition\", \"balcony\", \"floors_total\", \"last_price\", \"ponds_around3000\". В столбце \"first_day_exposition\" должен быть тип данных datetime.\n",
    "3. Очень много пропусков в картографических данных, особенно по Лен.области, также есть пропуски в данных по числу балконов, высоте потолков, площади кухни,жилой площади, количеству этажей в доме, названию населенного пункта, является ли недвижимость аппартаментами, а также в данных по расстоянию до центра и до аэропорта."
   ]
  },
  {
   "cell_type": "markdown",
   "metadata": {},
   "source": [
    "## Предобработка данных"
   ]
  },
  {
   "cell_type": "code",
   "execution_count": 7,
   "metadata": {},
   "outputs": [
    {
     "name": "stdout",
     "output_type": "stream",
     "text": [
      "total_images                0\n",
      "last_price                  0\n",
      "total_area                  0\n",
      "first_day_exposition        0\n",
      "rooms                       0\n",
      "ceiling_height           9195\n",
      "floors_total               86\n",
      "living_area              1903\n",
      "floor                       0\n",
      "is_apartment            20924\n",
      "studio                      0\n",
      "open_plan                   0\n",
      "kitchen_area             2278\n",
      "balcony                 11519\n",
      "locality_name              49\n",
      "airports_nearest         5542\n",
      "cityCenters_nearest      5519\n",
      "parks_around3000         5518\n",
      "parks_nearest           15620\n",
      "ponds_around3000         5518\n",
      "ponds_nearest           14589\n",
      "days_exposition          3181\n",
      "dtype: int64\n"
     ]
    }
   ],
   "source": [
    "#найдем количество пропущенных значений в каждом столбце\n",
    "print(data.isna().sum())"
   ]
  },
  {
   "cell_type": "markdown",
   "metadata": {},
   "source": [
    "### Работа с пропущенными значениями"
   ]
  },
  {
   "cell_type": "code",
   "execution_count": 8,
   "metadata": {},
   "outputs": [
    {
     "data": {
      "text/html": [
       "<div>\n",
       "<style scoped>\n",
       "    .dataframe tbody tr th:only-of-type {\n",
       "        vertical-align: middle;\n",
       "    }\n",
       "\n",
       "    .dataframe tbody tr th {\n",
       "        vertical-align: top;\n",
       "    }\n",
       "\n",
       "    .dataframe thead th {\n",
       "        text-align: right;\n",
       "    }\n",
       "</style>\n",
       "<table border=\"1\" class=\"dataframe\">\n",
       "  <thead>\n",
       "    <tr style=\"text-align: right;\">\n",
       "      <th></th>\n",
       "      <th>0</th>\n",
       "    </tr>\n",
       "  </thead>\n",
       "  <tbody>\n",
       "    <tr>\n",
       "      <td>total_images</td>\n",
       "      <td>0.00</td>\n",
       "    </tr>\n",
       "    <tr>\n",
       "      <td>last_price</td>\n",
       "      <td>0.00</td>\n",
       "    </tr>\n",
       "    <tr>\n",
       "      <td>total_area</td>\n",
       "      <td>0.00</td>\n",
       "    </tr>\n",
       "    <tr>\n",
       "      <td>first_day_exposition</td>\n",
       "      <td>0.00</td>\n",
       "    </tr>\n",
       "    <tr>\n",
       "      <td>rooms</td>\n",
       "      <td>0.00</td>\n",
       "    </tr>\n",
       "    <tr>\n",
       "      <td>ceiling_height</td>\n",
       "      <td>38.80</td>\n",
       "    </tr>\n",
       "    <tr>\n",
       "      <td>floors_total</td>\n",
       "      <td>0.36</td>\n",
       "    </tr>\n",
       "    <tr>\n",
       "      <td>living_area</td>\n",
       "      <td>8.03</td>\n",
       "    </tr>\n",
       "    <tr>\n",
       "      <td>floor</td>\n",
       "      <td>0.00</td>\n",
       "    </tr>\n",
       "    <tr>\n",
       "      <td>is_apartment</td>\n",
       "      <td>88.29</td>\n",
       "    </tr>\n",
       "    <tr>\n",
       "      <td>studio</td>\n",
       "      <td>0.00</td>\n",
       "    </tr>\n",
       "    <tr>\n",
       "      <td>open_plan</td>\n",
       "      <td>0.00</td>\n",
       "    </tr>\n",
       "    <tr>\n",
       "      <td>kitchen_area</td>\n",
       "      <td>9.61</td>\n",
       "    </tr>\n",
       "    <tr>\n",
       "      <td>balcony</td>\n",
       "      <td>48.61</td>\n",
       "    </tr>\n",
       "    <tr>\n",
       "      <td>locality_name</td>\n",
       "      <td>0.21</td>\n",
       "    </tr>\n",
       "    <tr>\n",
       "      <td>airports_nearest</td>\n",
       "      <td>23.38</td>\n",
       "    </tr>\n",
       "    <tr>\n",
       "      <td>cityCenters_nearest</td>\n",
       "      <td>23.29</td>\n",
       "    </tr>\n",
       "    <tr>\n",
       "      <td>parks_around3000</td>\n",
       "      <td>23.28</td>\n",
       "    </tr>\n",
       "    <tr>\n",
       "      <td>parks_nearest</td>\n",
       "      <td>65.91</td>\n",
       "    </tr>\n",
       "    <tr>\n",
       "      <td>ponds_around3000</td>\n",
       "      <td>23.28</td>\n",
       "    </tr>\n",
       "    <tr>\n",
       "      <td>ponds_nearest</td>\n",
       "      <td>61.56</td>\n",
       "    </tr>\n",
       "    <tr>\n",
       "      <td>days_exposition</td>\n",
       "      <td>13.42</td>\n",
       "    </tr>\n",
       "  </tbody>\n",
       "</table>\n",
       "</div>"
      ],
      "text/plain": [
       "                         0\n",
       "total_images          0.00\n",
       "last_price            0.00\n",
       "total_area            0.00\n",
       "first_day_exposition  0.00\n",
       "rooms                 0.00\n",
       "ceiling_height       38.80\n",
       "floors_total          0.36\n",
       "living_area           8.03\n",
       "floor                 0.00\n",
       "is_apartment         88.29\n",
       "studio                0.00\n",
       "open_plan             0.00\n",
       "kitchen_area          9.61\n",
       "balcony              48.61\n",
       "locality_name         0.21\n",
       "airports_nearest     23.38\n",
       "cityCenters_nearest  23.29\n",
       "parks_around3000     23.28\n",
       "parks_nearest        65.91\n",
       "ponds_around3000     23.28\n",
       "ponds_nearest        61.56\n",
       "days_exposition      13.42"
      ]
     },
     "execution_count": 8,
     "metadata": {},
     "output_type": "execute_result"
    }
   ],
   "source": [
    "#сосчитаем процент пропущенных значений в каждом столбце\n",
    "pd.DataFrame(round(data.isna().mean()*100,2))"
   ]
  },
  {
   "cell_type": "markdown",
   "metadata": {},
   "source": [
    "#### Число балконов и апартаменты."
   ]
  },
  {
   "cell_type": "markdown",
   "metadata": {},
   "source": [
    "Данные по числу балконов пропущенны почти в половине строк. Отсутствие данных можно обосновать отсутствием балкона, поэтому заменим пропущенные значения в данном столбце на 0. Аналогично, отсутствие данных в столбце апартаментов-скорее всего это не апартаменты, заменим на False."
   ]
  },
  {
   "cell_type": "code",
   "execution_count": 9,
   "metadata": {},
   "outputs": [],
   "source": [
    "data = data.fillna({'balcony':0, 'is_apartment':False})\n",
    "#data.info()  #проверка"
   ]
  },
  {
   "cell_type": "markdown",
   "metadata": {},
   "source": [
    "#### Жилая площадь и площадь кухни"
   ]
  },
  {
   "cell_type": "markdown",
   "metadata": {},
   "source": [
    "*Т.к. размер жилой площади определенно влияет на стоимость квартиры, и процент пропусков не незначительный, \n",
    "заменим пропущенные значения на медианы в каждой группе, определенной по размеру общей площади.*"
   ]
  },
  {
   "cell_type": "code",
   "execution_count": 10,
   "metadata": {},
   "outputs": [],
   "source": [
    "#напишем функцию замены пропущенных значений в каждой группе на медианное значение по этой группе\n",
    "def not_nan_values(df,value,category):\n",
    "    df_ret = df.copy()\n",
    "    for type_unique in df_ret[category].unique():\n",
    "        df_ret.loc[(df_ret[value].isna())&(df_ret[category]==type_unique),value] =\\\n",
    "        df_ret.loc[df_ret[category]==type_unique,value].median()\n",
    "    return df_ret"
   ]
  },
  {
   "cell_type": "code",
   "execution_count": 11,
   "metadata": {},
   "outputs": [
    {
     "name": "stderr",
     "output_type": "stream",
     "text": [
      "/opt/conda/lib/python3.7/site-packages/numpy/lib/nanfunctions.py:1111: RuntimeWarning: Mean of empty slice\n",
      "  return np.nanmean(a, axis, out=out, keepdims=keepdims)\n"
     ]
    },
    {
     "data": {
      "text/plain": [
       "143"
      ]
     },
     "execution_count": 11,
     "metadata": {},
     "output_type": "execute_result"
    }
   ],
   "source": [
    "data = not_nan_values(data,'living_area','total_area') #заменяем пропущенные значения в столбце жилой площади\n",
    "data['living_area'].isna().sum()  #проверка"
   ]
  },
  {
   "cell_type": "code",
   "execution_count": null,
   "metadata": {},
   "outputs": [],
   "source": [
    "#процент пропусков небольшой, удалим оставшиеся пропуски\n",
    "data = data.query('living_area == living_area')\n"
   ]
  },
  {
   "cell_type": "markdown",
   "metadata": {},
   "source": [
    "*Аналогично заменим пропущенные значения в данных по площади кухни.*"
   ]
  },
  {
   "cell_type": "code",
   "execution_count": 138,
   "metadata": {},
   "outputs": [
    {
     "data": {
      "text/plain": [
       "0"
      ]
     },
     "execution_count": 138,
     "metadata": {},
     "output_type": "execute_result"
    }
   ],
   "source": [
    "data['kitchen_area'] = not_nan_values(data,'kitchen_area','total_area')\n",
    "data['kitchen_area'].isna().sum()  #проверка"
   ]
  },
  {
   "cell_type": "markdown",
   "metadata": {},
   "source": [
    "#### Количество дней размещения объявления."
   ]
  },
  {
   "cell_type": "code",
   "execution_count": 139,
   "metadata": {},
   "outputs": [
    {
     "name": "stdout",
     "output_type": "stream",
     "text": [
      "Процент пропущенных значений:13.42%\n"
     ]
    }
   ],
   "source": [
    "print('Процент пропущенных значений:{:.2%}'.format(data['days_exposition'].isna().mean()))"
   ]
  },
  {
   "cell_type": "code",
   "execution_count": 140,
   "metadata": {},
   "outputs": [
    {
     "data": {
      "text/plain": [
       "count   20,518.00\n",
       "mean       180.89\n",
       "std        219.73\n",
       "min          1.00\n",
       "25%         45.00\n",
       "50%         95.00\n",
       "75%        232.00\n",
       "max      1,580.00\n",
       "Name: days_exposition, dtype: float64"
      ]
     },
     "execution_count": 140,
     "metadata": {},
     "output_type": "execute_result"
    }
   ],
   "source": [
    "# посмотрим на числовое описание данных\n",
    "data['days_exposition'].describe()"
   ]
  },
  {
   "cell_type": "code",
   "execution_count": 141,
   "metadata": {
    "scrolled": true
   },
   "outputs": [
    {
     "data": {
      "text/plain": [
       "Text(0.5, 0, 'days_exposition')"
      ]
     },
     "execution_count": 141,
     "metadata": {},
     "output_type": "execute_result"
    },
    {
     "data": {
      "image/png": "[encoded data removed]",
      "text/plain": [
       "<Figure size 432x288 with 1 Axes>"
      ]
     },
     "metadata": {
      "needs_background": "light"
     },
     "output_type": "display_data"
    }
   ],
   "source": [
    "# гистограмма:\n",
    "data['days_exposition'].plot(\n",
    "    kind='hist',\n",
    "    y='days_exposition',\n",
    "    histtype='step',\n",
    "    range=(7, 1500),\n",
    "    bins=10,\n",
    "    linewidth=3,\n",
    "    alpha=0.7,\n",
    "    grid=True,\n",
    ")\n",
    "plt.xlabel(\"days_exposition\")"
   ]
  },
  {
   "cell_type": "markdown",
   "metadata": {},
   "source": [
    "#### Высота потолков"
   ]
  },
  {
   "cell_type": "markdown",
   "metadata": {},
   "source": [
    "*Будем исходить из того, что в большинстве своем высокие потолки в квартирах находятся в центре Санкт-Петербурга.\n",
    "Возьмём медианы высоты потолков для группы А квартир, находящихся в пределах 5 кв от центра, и группы В - остальной город. (берем 5 кв, т.к. это расстояние захватывает Петроградский район и Василеостровский).* "
   ]
  },
  {
   "cell_type": "code",
   "execution_count": 142,
   "metadata": {},
   "outputs": [
    {
     "name": "stdout",
     "output_type": "stream",
     "text": [
      "Процент пропущенных значений:7.50%\n"
     ]
    }
   ],
   "source": [
    "#Сосчитаем долю пропущенных значений в столбце высоты потолка для группы А:\n",
    "print('Процент пропущенных значений:{:.2%}'.\\\n",
    "      format(len(data.query('ceiling_height !=ceiling_height & cityCenters_nearest <5000'))/\\\n",
    "      (data['ceiling_height'].isna().sum())))"
   ]
  },
  {
   "cell_type": "markdown",
   "metadata": {},
   "source": [
    "*Рассчитаем медианы и посмотрим имеет ли смысл разделять на группы.*"
   ]
  },
  {
   "cell_type": "code",
   "execution_count": 143,
   "metadata": {},
   "outputs": [
    {
     "name": "stdout",
     "output_type": "stream",
     "text": [
      "Средняя высота потолков для группы А: 3.1 м\n"
     ]
    }
   ],
   "source": [
    "# Найдем медиану для группы А:\n",
    "median_A = data[data['cityCenters_nearest']<5000]['ceiling_height'].median()\n",
    "print('Средняя высота потолков для группы А: {:.2} м'.format(median_A))"
   ]
  },
  {
   "cell_type": "code",
   "execution_count": 144,
   "metadata": {},
   "outputs": [
    {
     "name": "stdout",
     "output_type": "stream",
     "text": [
      "Средняя высота потолков для группы В: 2.6 м\n"
     ]
    }
   ],
   "source": [
    "# Найдем медиану для группы В:\n",
    "median_B = data[data['cityCenters_nearest']>=5000]['ceiling_height'].median()\n",
    "print('Средняя высота потолков для группы В: {:.2} м'.format(median_B))"
   ]
  },
  {
   "cell_type": "markdown",
   "metadata": {},
   "source": [
    "*Как и предполагали, средняя высота потолка в квартирах в центре выше, чем в квартирах вне центра. Поэтому заменим на свои медианы в каждой группе*"
   ]
  },
  {
   "cell_type": "code",
   "execution_count": 145,
   "metadata": {},
   "outputs": [
    {
     "name": "stdout",
     "output_type": "stream",
     "text": [
      "0\n"
     ]
    }
   ],
   "source": [
    "#Делаем замену пропущенных значений для группы А:\n",
    "data.loc[(data['ceiling_height'].isna())&(data['cityCenters_nearest']<5000),'ceiling_height'] =\\\n",
    "data.loc[data['cityCenters_nearest']<5000,'ceiling_height'].median()\n",
    "print(data[data['cityCenters_nearest']<5000]['ceiling_height'].isna().sum()) #проверка"
   ]
  },
  {
   "cell_type": "code",
   "execution_count": 146,
   "metadata": {},
   "outputs": [
    {
     "name": "stdout",
     "output_type": "stream",
     "text": [
      "0\n"
     ]
    }
   ],
   "source": [
    "#Делаем замену пропущенных значений для группы B:\n",
    "data.loc[(data['ceiling_height'].isna())&(data['cityCenters_nearest']>=5000),'ceiling_height'] =\\\n",
    "data.loc[data['cityCenters_nearest']>=5000,'ceiling_height'].median()\n",
    "print(data[data['cityCenters_nearest']>=5000]['ceiling_height'].isna().sum()) #проверка"
   ]
  },
  {
   "cell_type": "code",
   "execution_count": 147,
   "metadata": {},
   "outputs": [
    {
     "name": "stdout",
     "output_type": "stream",
     "text": [
      "2575\n"
     ]
    }
   ],
   "source": [
    "#по группам проверили, теперь проверим по всем данным:\n",
    "print(data['ceiling_height'].isna().sum())"
   ]
  },
  {
   "cell_type": "markdown",
   "metadata": {},
   "source": [
    "*Есть предположение, что это для этих пропущенных значений в столбце высоты потолков также пропущены значения в столбце расстояния до центра. Проверим* "
   ]
  },
  {
   "cell_type": "code",
   "execution_count": 148,
   "metadata": {},
   "outputs": [
    {
     "name": "stdout",
     "output_type": "stream",
     "text": [
      "2575\n"
     ]
    }
   ],
   "source": [
    "print(len(data.query('ceiling_height! = ceiling_height & cityCenters_nearest != cityCenters_nearest')))"
   ]
  },
  {
   "cell_type": "markdown",
   "metadata": {},
   "source": [
    "*Да! Эти значения заменим на среднюю высоту потолков по городу*"
   ]
  },
  {
   "cell_type": "code",
   "execution_count": 149,
   "metadata": {},
   "outputs": [
    {
     "name": "stdout",
     "output_type": "stream",
     "text": [
      "Средняя высота потолков по городу: 2.6 м\n"
     ]
    }
   ],
   "source": [
    "#рассчитаем медиану\n",
    "median_ceiling = data['ceiling_height'].median()\n",
    "print('Средняя высота потолков по городу: {:.2} м'.format(median_ceiling))"
   ]
  },
  {
   "cell_type": "code",
   "execution_count": 150,
   "metadata": {},
   "outputs": [
    {
     "name": "stdout",
     "output_type": "stream",
     "text": [
      "0\n"
     ]
    }
   ],
   "source": [
    "#Делаем замену\n",
    "data['ceiling_height'] = data['ceiling_height'].fillna(median_ceiling)\n",
    "print(data['ceiling_height'].isna().sum())"
   ]
  },
  {
   "cell_type": "code",
   "execution_count": 151,
   "metadata": {},
   "outputs": [],
   "source": [
    "#data.info()  #проверяем не потеряли ли данные"
   ]
  },
  {
   "cell_type": "markdown",
   "metadata": {},
   "source": [
    "*Теперь посмотрим на возможные аномалии по данным в этом столбце*"
   ]
  },
  {
   "cell_type": "code",
   "execution_count": 152,
   "metadata": {},
   "outputs": [
    {
     "data": {
      "text/plain": [
       "count   23,699.00\n",
       "mean         2.73\n",
       "std          0.99\n",
       "min          1.00\n",
       "25%          2.60\n",
       "50%          2.64\n",
       "75%          2.72\n",
       "max        100.00\n",
       "Name: ceiling_height, dtype: float64"
      ]
     },
     "execution_count": 152,
     "metadata": {},
     "output_type": "execute_result"
    }
   ],
   "source": [
    "data['ceiling_height'].describe()"
   ]
  },
  {
   "cell_type": "markdown",
   "metadata": {},
   "source": [
    "*1м для потолка слишком мало, 100м -слишком много, удалим строки с этими аномалиями. Верхнюю границу потолков возьмём 4м (все таки поместья если и продают, то единично).*"
   ]
  },
  {
   "cell_type": "code",
   "execution_count": 153,
   "metadata": {},
   "outputs": [],
   "source": [
    "data = data.query('2 <= ceiling_height & ceiling_height<= 4')"
   ]
  },
  {
   "cell_type": "code",
   "execution_count": 154,
   "metadata": {},
   "outputs": [
    {
     "data": {
      "text/plain": [
       "count   23,621.00\n",
       "mean         2.70\n",
       "std          0.22\n",
       "min          2.00\n",
       "25%          2.60\n",
       "50%          2.64\n",
       "75%          2.70\n",
       "max          4.00\n",
       "Name: ceiling_height, dtype: float64"
      ]
     },
     "execution_count": 154,
     "metadata": {},
     "output_type": "execute_result"
    }
   ],
   "source": [
    "data['ceiling_height'].describe()"
   ]
  },
  {
   "cell_type": "markdown",
   "metadata": {},
   "source": [
    "*Без этих аномалий данные определенно стали лучше. Чтобы не потерять что-нибудь, срез возьмём после замены пропущенных значений*"
   ]
  },
  {
   "cell_type": "markdown",
   "metadata": {},
   "source": [
    "#### Другие пропущенные значения"
   ]
  },
  {
   "cell_type": "code",
   "execution_count": 155,
   "metadata": {},
   "outputs": [
    {
     "data": {
      "text/html": [
       "<div>\n",
       "<style scoped>\n",
       "    .dataframe tbody tr th:only-of-type {\n",
       "        vertical-align: middle;\n",
       "    }\n",
       "\n",
       "    .dataframe tbody tr th {\n",
       "        vertical-align: top;\n",
       "    }\n",
       "\n",
       "    .dataframe thead th {\n",
       "        text-align: right;\n",
       "    }\n",
       "</style>\n",
       "<table border=\"1\" class=\"dataframe\">\n",
       "  <thead>\n",
       "    <tr style=\"text-align: right;\">\n",
       "      <th></th>\n",
       "      <th>0</th>\n",
       "    </tr>\n",
       "  </thead>\n",
       "  <tbody>\n",
       "    <tr>\n",
       "      <td>total_images</td>\n",
       "      <td>0.00</td>\n",
       "    </tr>\n",
       "    <tr>\n",
       "      <td>last_price</td>\n",
       "      <td>0.00</td>\n",
       "    </tr>\n",
       "    <tr>\n",
       "      <td>total_area</td>\n",
       "      <td>0.00</td>\n",
       "    </tr>\n",
       "    <tr>\n",
       "      <td>first_day_exposition</td>\n",
       "      <td>0.00</td>\n",
       "    </tr>\n",
       "    <tr>\n",
       "      <td>rooms</td>\n",
       "      <td>0.00</td>\n",
       "    </tr>\n",
       "    <tr>\n",
       "      <td>ceiling_height</td>\n",
       "      <td>0.00</td>\n",
       "    </tr>\n",
       "    <tr>\n",
       "      <td>floors_total</td>\n",
       "      <td>0.36</td>\n",
       "    </tr>\n",
       "    <tr>\n",
       "      <td>living_area</td>\n",
       "      <td>0.00</td>\n",
       "    </tr>\n",
       "    <tr>\n",
       "      <td>floor</td>\n",
       "      <td>0.00</td>\n",
       "    </tr>\n",
       "    <tr>\n",
       "      <td>is_apartment</td>\n",
       "      <td>0.00</td>\n",
       "    </tr>\n",
       "    <tr>\n",
       "      <td>studio</td>\n",
       "      <td>0.00</td>\n",
       "    </tr>\n",
       "    <tr>\n",
       "      <td>open_plan</td>\n",
       "      <td>0.00</td>\n",
       "    </tr>\n",
       "    <tr>\n",
       "      <td>kitchen_area</td>\n",
       "      <td>0.00</td>\n",
       "    </tr>\n",
       "    <tr>\n",
       "      <td>balcony</td>\n",
       "      <td>0.00</td>\n",
       "    </tr>\n",
       "    <tr>\n",
       "      <td>locality_name</td>\n",
       "      <td>0.21</td>\n",
       "    </tr>\n",
       "    <tr>\n",
       "      <td>airports_nearest</td>\n",
       "      <td>23.39</td>\n",
       "    </tr>\n",
       "    <tr>\n",
       "      <td>cityCenters_nearest</td>\n",
       "      <td>23.30</td>\n",
       "    </tr>\n",
       "    <tr>\n",
       "      <td>parks_around3000</td>\n",
       "      <td>23.30</td>\n",
       "    </tr>\n",
       "    <tr>\n",
       "      <td>parks_nearest</td>\n",
       "      <td>65.96</td>\n",
       "    </tr>\n",
       "    <tr>\n",
       "      <td>ponds_around3000</td>\n",
       "      <td>23.30</td>\n",
       "    </tr>\n",
       "    <tr>\n",
       "      <td>ponds_nearest</td>\n",
       "      <td>61.60</td>\n",
       "    </tr>\n",
       "    <tr>\n",
       "      <td>days_exposition</td>\n",
       "      <td>13.41</td>\n",
       "    </tr>\n",
       "  </tbody>\n",
       "</table>\n",
       "</div>"
      ],
      "text/plain": [
       "                         0\n",
       "total_images          0.00\n",
       "last_price            0.00\n",
       "total_area            0.00\n",
       "first_day_exposition  0.00\n",
       "rooms                 0.00\n",
       "ceiling_height        0.00\n",
       "floors_total          0.36\n",
       "living_area           0.00\n",
       "floor                 0.00\n",
       "is_apartment          0.00\n",
       "studio                0.00\n",
       "open_plan             0.00\n",
       "kitchen_area          0.00\n",
       "balcony               0.00\n",
       "locality_name         0.21\n",
       "airports_nearest     23.39\n",
       "cityCenters_nearest  23.30\n",
       "parks_around3000     23.30\n",
       "parks_nearest        65.96\n",
       "ponds_around3000     23.30\n",
       "ponds_nearest        61.60\n",
       "days_exposition      13.41"
      ]
     },
     "execution_count": 155,
     "metadata": {},
     "output_type": "execute_result"
    }
   ],
   "source": [
    "pd.DataFrame(round(data.isna().mean()*100,2))"
   ]
  },
  {
   "cell_type": "markdown",
   "metadata": {},
   "source": [
    "*Процент пропусков в данных по названиям населённых пунктов, числу этажей в доме довольно мал (менее 0,5%) в общей выборке и сильно не повлияют на конечный результат. Поэтому можем взять срез данных без них.*"
   ]
  },
  {
   "cell_type": "code",
   "execution_count": 156,
   "metadata": {},
   "outputs": [
    {
     "name": "stdout",
     "output_type": "stream",
     "text": [
      "<class 'pandas.core.frame.DataFrame'>\n",
      "Int64Index: 23487 entries, 0 to 23698\n",
      "Data columns (total 22 columns):\n",
      "total_images            23487 non-null int64\n",
      "last_price              23487 non-null float64\n",
      "total_area              23487 non-null float64\n",
      "first_day_exposition    23487 non-null object\n",
      "rooms                   23487 non-null int64\n",
      "ceiling_height          23487 non-null float64\n",
      "floors_total            23487 non-null float64\n",
      "living_area             23487 non-null object\n",
      "floor                   23487 non-null int64\n",
      "is_apartment            23487 non-null bool\n",
      "studio                  23487 non-null bool\n",
      "open_plan               23487 non-null bool\n",
      "kitchen_area            23487 non-null object\n",
      "balcony                 23487 non-null float64\n",
      "locality_name           23487 non-null object\n",
      "airports_nearest        17981 non-null float64\n",
      "cityCenters_nearest     18001 non-null float64\n",
      "parks_around3000        18002 non-null float64\n",
      "parks_nearest           7992 non-null float64\n",
      "ponds_around3000        18002 non-null float64\n",
      "ponds_nearest           8996 non-null float64\n",
      "days_exposition         20330 non-null float64\n",
      "dtypes: bool(3), float64(12), int64(3), object(4)\n",
      "memory usage: 3.7+ MB\n"
     ]
    }
   ],
   "source": [
    "data = data.query('locality_name==locality_name & floors_total==floors_total')\n",
    "data.info()  #проверка"
   ]
  },
  {
   "cell_type": "markdown",
   "metadata": {},
   "source": [
    "*Остальные пропущенные значения не будем трогать, их процент значительный, а достойной замены их нет.Т.к. много пропущенных значений в картографических значениях, значит что-то не так изначально с картографическими данными.*"
   ]
  },
  {
   "cell_type": "code",
   "execution_count": 157,
   "metadata": {},
   "outputs": [
    {
     "data": {
      "text/html": [
       "<div>\n",
       "<style scoped>\n",
       "    .dataframe tbody tr th:only-of-type {\n",
       "        vertical-align: middle;\n",
       "    }\n",
       "\n",
       "    .dataframe tbody tr th {\n",
       "        vertical-align: top;\n",
       "    }\n",
       "\n",
       "    .dataframe thead th {\n",
       "        text-align: right;\n",
       "    }\n",
       "</style>\n",
       "<table border=\"1\" class=\"dataframe\">\n",
       "  <thead>\n",
       "    <tr style=\"text-align: right;\">\n",
       "      <th></th>\n",
       "      <th>0</th>\n",
       "    </tr>\n",
       "  </thead>\n",
       "  <tbody>\n",
       "    <tr>\n",
       "      <td>total_images</td>\n",
       "      <td>0.00</td>\n",
       "    </tr>\n",
       "    <tr>\n",
       "      <td>last_price</td>\n",
       "      <td>0.00</td>\n",
       "    </tr>\n",
       "    <tr>\n",
       "      <td>total_area</td>\n",
       "      <td>0.00</td>\n",
       "    </tr>\n",
       "    <tr>\n",
       "      <td>first_day_exposition</td>\n",
       "      <td>0.00</td>\n",
       "    </tr>\n",
       "    <tr>\n",
       "      <td>rooms</td>\n",
       "      <td>0.00</td>\n",
       "    </tr>\n",
       "    <tr>\n",
       "      <td>ceiling_height</td>\n",
       "      <td>0.00</td>\n",
       "    </tr>\n",
       "    <tr>\n",
       "      <td>floors_total</td>\n",
       "      <td>0.00</td>\n",
       "    </tr>\n",
       "    <tr>\n",
       "      <td>living_area</td>\n",
       "      <td>0.00</td>\n",
       "    </tr>\n",
       "    <tr>\n",
       "      <td>floor</td>\n",
       "      <td>0.00</td>\n",
       "    </tr>\n",
       "    <tr>\n",
       "      <td>is_apartment</td>\n",
       "      <td>0.00</td>\n",
       "    </tr>\n",
       "    <tr>\n",
       "      <td>studio</td>\n",
       "      <td>0.00</td>\n",
       "    </tr>\n",
       "    <tr>\n",
       "      <td>open_plan</td>\n",
       "      <td>0.00</td>\n",
       "    </tr>\n",
       "    <tr>\n",
       "      <td>kitchen_area</td>\n",
       "      <td>0.00</td>\n",
       "    </tr>\n",
       "    <tr>\n",
       "      <td>balcony</td>\n",
       "      <td>0.00</td>\n",
       "    </tr>\n",
       "    <tr>\n",
       "      <td>locality_name</td>\n",
       "      <td>0.00</td>\n",
       "    </tr>\n",
       "    <tr>\n",
       "      <td>airports_nearest</td>\n",
       "      <td>23.44</td>\n",
       "    </tr>\n",
       "    <tr>\n",
       "      <td>cityCenters_nearest</td>\n",
       "      <td>23.36</td>\n",
       "    </tr>\n",
       "    <tr>\n",
       "      <td>parks_around3000</td>\n",
       "      <td>23.35</td>\n",
       "    </tr>\n",
       "    <tr>\n",
       "      <td>parks_nearest</td>\n",
       "      <td>65.97</td>\n",
       "    </tr>\n",
       "    <tr>\n",
       "      <td>ponds_around3000</td>\n",
       "      <td>23.35</td>\n",
       "    </tr>\n",
       "    <tr>\n",
       "      <td>ponds_nearest</td>\n",
       "      <td>61.70</td>\n",
       "    </tr>\n",
       "    <tr>\n",
       "      <td>days_exposition</td>\n",
       "      <td>13.44</td>\n",
       "    </tr>\n",
       "  </tbody>\n",
       "</table>\n",
       "</div>"
      ],
      "text/plain": [
       "                         0\n",
       "total_images          0.00\n",
       "last_price            0.00\n",
       "total_area            0.00\n",
       "first_day_exposition  0.00\n",
       "rooms                 0.00\n",
       "ceiling_height        0.00\n",
       "floors_total          0.00\n",
       "living_area           0.00\n",
       "floor                 0.00\n",
       "is_apartment          0.00\n",
       "studio                0.00\n",
       "open_plan             0.00\n",
       "kitchen_area          0.00\n",
       "balcony               0.00\n",
       "locality_name         0.00\n",
       "airports_nearest     23.44\n",
       "cityCenters_nearest  23.36\n",
       "parks_around3000     23.35\n",
       "parks_nearest        65.97\n",
       "ponds_around3000     23.35\n",
       "ponds_nearest        61.70\n",
       "days_exposition      13.44"
      ]
     },
     "execution_count": 157,
     "metadata": {},
     "output_type": "execute_result"
    }
   ],
   "source": [
    "pd.DataFrame(round(data.isna().mean()*100,2))"
   ]
  },
  {
   "cell_type": "markdown",
   "metadata": {},
   "source": [
    "### Изменение типа данных"
   ]
  },
  {
   "cell_type": "markdown",
   "metadata": {},
   "source": [
    "*Логично, что в столбцах balcony,days_exposition, last_price, floors_total должны быть целые числа. Произведем замену.*"
   ]
  },
  {
   "cell_type": "code",
   "execution_count": 158,
   "metadata": {},
   "outputs": [
    {
     "name": "stdout",
     "output_type": "stream",
     "text": [
      "0\n"
     ]
    }
   ],
   "source": [
    "print(data['floors_total'].isna().sum())"
   ]
  },
  {
   "cell_type": "code",
   "execution_count": 159,
   "metadata": {},
   "outputs": [
    {
     "name": "stdout",
     "output_type": "stream",
     "text": [
      "<class 'pandas.core.frame.DataFrame'>\n",
      "Int64Index: 23487 entries, 0 to 23698\n",
      "Data columns (total 22 columns):\n",
      "total_images            23487 non-null int64\n",
      "last_price              23487 non-null int64\n",
      "total_area              23487 non-null float64\n",
      "first_day_exposition    23487 non-null object\n",
      "rooms                   23487 non-null int64\n",
      "ceiling_height          23487 non-null float64\n",
      "floors_total            23487 non-null int64\n",
      "living_area             23487 non-null object\n",
      "floor                   23487 non-null int64\n",
      "is_apartment            23487 non-null bool\n",
      "studio                  23487 non-null bool\n",
      "open_plan               23487 non-null bool\n",
      "kitchen_area            23487 non-null object\n",
      "balcony                 23487 non-null int64\n",
      "locality_name           23487 non-null object\n",
      "airports_nearest        17981 non-null float64\n",
      "cityCenters_nearest     18001 non-null float64\n",
      "parks_around3000        18002 non-null float64\n",
      "parks_nearest           7992 non-null float64\n",
      "ponds_around3000        18002 non-null float64\n",
      "ponds_nearest           8996 non-null float64\n",
      "days_exposition         20330 non-null float64\n",
      "dtypes: bool(3), float64(9), int64(6), object(4)\n",
      "memory usage: 3.7+ MB\n"
     ]
    }
   ],
   "source": [
    "data = data.astype({'balcony':'int64','last_price':'int64','floors_total':'int64'})\n",
    "data.info()"
   ]
  },
  {
   "cell_type": "markdown",
   "metadata": {},
   "source": [
    "*Изменим тип данных в first_day_exposition*"
   ]
  },
  {
   "cell_type": "code",
   "execution_count": 160,
   "metadata": {},
   "outputs": [],
   "source": [
    "data['first_day_exposition'] = pd.to_datetime(data['first_day_exposition'], format='%Y-%m-%dT%H:%M:%S')\n",
    "#print(data['first_day_exposition'].tail(10))  #проверка\n"
   ]
  },
  {
   "cell_type": "markdown",
   "metadata": {},
   "source": [
    "### Проверка на дубликаты"
   ]
  },
  {
   "cell_type": "code",
   "execution_count": 161,
   "metadata": {},
   "outputs": [
    {
     "name": "stdout",
     "output_type": "stream",
     "text": [
      "0\n"
     ]
    }
   ],
   "source": [
    "print(data.duplicated().sum())"
   ]
  },
  {
   "cell_type": "markdown",
   "metadata": {},
   "source": [
    "### Вывод"
   ]
  },
  {
   "cell_type": "markdown",
   "metadata": {},
   "source": [
    "1. Заполнены пропуски в данных по столбцам balcony, ceiling_height, is_apartment, living_area, kitchen_area.\n",
    "2. Из-за незначительности в общей выборке взят срез данных без пропущенных значений в столбцах locality_name и floors_total.\n",
    "3. В столбцах balcony,days_exposition, last_price, floors_total проведена замена на целочисленный тип данных.\n",
    "4. Данные проверены на наличие дубликатов.\n",
    "5. В столбце days_exposition много пропущенных значений, их оставили, т.к. не понятно, чем их заполнять. При исследовании зависимости цены от даты размещения объявления будет использован срез без этих пропущенных значений."
   ]
  },
  {
   "cell_type": "markdown",
   "metadata": {},
   "source": [
    "## Расчёты и добавление результатов в таблицу"
   ]
  },
  {
   "cell_type": "markdown",
   "metadata": {},
   "source": [
    "### Цена за квадратный метр"
   ]
  },
  {
   "cell_type": "code",
   "execution_count": 178,
   "metadata": {
    "scrolled": true
   },
   "outputs": [],
   "source": [
    "#Добавим в таблицу цену квадратного метра c округлением до 2 знаков после запятой:\n",
    "data['price_per_sqmetr'] = round(data['last_price'] / data['total_area'],2)"
   ]
  },
  {
   "cell_type": "markdown",
   "metadata": {},
   "source": [
    "### День недели, месяц и год публикации объявления"
   ]
  },
  {
   "cell_type": "markdown",
   "metadata": {},
   "source": [
    "*Добавим соответствующие столбцы в таблицу*"
   ]
  },
  {
   "cell_type": "code",
   "execution_count": 180,
   "metadata": {},
   "outputs": [],
   "source": [
    "data['weekday_exposition'] = data['first_day_exposition'].dt.weekday #день недели публикации объявления"
   ]
  },
  {
   "cell_type": "code",
   "execution_count": 181,
   "metadata": {},
   "outputs": [],
   "source": [
    "data['month_exposition'] = data['first_day_exposition'].dt.month #месяц публикации объявления\n"
   ]
  },
  {
   "cell_type": "code",
   "execution_count": 182,
   "metadata": {},
   "outputs": [],
   "source": [
    "data['year_exposition'] = data['first_day_exposition'].dt.year #год публикации объявления"
   ]
  },
  {
   "cell_type": "markdown",
   "metadata": {},
   "source": [
    "### Разделение на группы в зависимости от этажа"
   ]
  },
  {
   "cell_type": "code",
   "execution_count": 183,
   "metadata": {},
   "outputs": [],
   "source": [
    "#Напишем функцию для разделения на группы в зависимости от этажа:\n",
    "def floor_group(row):\n",
    "    if row['floor'] == 1:\n",
    "        return 'первый'\n",
    "    elif row['floor'] == row['floors_total']:\n",
    "        return 'последний'\n",
    "    else:\n",
    "        return 'другой'"
   ]
  },
  {
   "cell_type": "code",
   "execution_count": 184,
   "metadata": {},
   "outputs": [],
   "source": [
    "#создадим новый столбец с разбиением на группы:\n",
    "data['floor_group'] = data.apply(floor_group,axis=1)"
   ]
  },
  {
   "cell_type": "code",
   "execution_count": 185,
   "metadata": {},
   "outputs": [],
   "source": [
    "#print(data[data['floor']==data['floors_total']]['floor_group'].head()) #проверка\n",
    "#print(data[data['floor']==1]['floor_group'].head()) #проверка"
   ]
  },
  {
   "cell_type": "markdown",
   "metadata": {},
   "source": [
    "### Доля жилой площади в общей площади и доля кухни в общей площади."
   ]
  },
  {
   "cell_type": "markdown",
   "metadata": {},
   "source": [
    "*Добавим новый столбец, где будут значения долей жилой к общей площади, значения округлим до двух знаков после запятой.*"
   ]
  },
  {
   "cell_type": "code",
   "execution_count": 187,
   "metadata": {},
   "outputs": [],
   "source": [
    "data['perc_living_area'] = data['living_area'] / data['total_area']"
   ]
  },
  {
   "cell_type": "code",
   "execution_count": 188,
   "metadata": {},
   "outputs": [
    {
     "data": {
      "text/plain": [
       "0"
      ]
     },
     "execution_count": 188,
     "metadata": {},
     "output_type": "execute_result"
    }
   ],
   "source": [
    "data['perc_living_area']="
   ]
  },
  {
   "cell_type": "markdown",
   "metadata": {},
   "source": [
    "*Аналогично найдем доли кухни к общей площади*"
   ]
  },
  {
   "cell_type": "code",
   "execution_count": 170,
   "metadata": {
    "scrolled": true
   },
   "outputs": [],
   "source": [
    "data['perc_kitchen_area'] = data['kitchen_area'] / data['total_area']\n",
    "#display(data.sample(5,random_state=1)) #проверка "
   ]
  },
  {
   "cell_type": "markdown",
   "metadata": {},
   "source": [
    "## Исследовательский анализ данных"
   ]
  },
  {
   "cell_type": "markdown",
   "metadata": {},
   "source": [
    "### Изучение параметров: площадь, цена, число комнат, высота потолков"
   ]
  },
  {
   "cell_type": "markdown",
   "metadata": {},
   "source": [
    "*для построения гистограмм напишем фунцию*"
   ]
  },
  {
   "cell_type": "code",
   "execution_count": 171,
   "metadata": {},
   "outputs": [],
   "source": [
    "def print_hist(df,column, number,min_value,max_value,name):\n",
    "    print(df[column].describe())\n",
    "    plt.xlabel(name)\n",
    "    df[column].plot(\n",
    "    kind='hist',\n",
    "    y=column,\n",
    "    histtype='step',\n",
    "    range=(min_value, max_value),\n",
    "    bins=number,\n",
    "    linewidth=3,\n",
    "    alpha=0.7,\n",
    "    grid=True,\n",
    "    )\n",
    "    return plt.show\n",
    "    "
   ]
  },
  {
   "cell_type": "markdown",
   "metadata": {},
   "source": [
    "#### Площадь"
   ]
  },
  {
   "cell_type": "markdown",
   "metadata": {},
   "source": [
    "*Построем гистограмму площади и посмотрим на числовое описание данных*"
   ]
  },
  {
   "cell_type": "code",
   "execution_count": 172,
   "metadata": {},
   "outputs": [
    {
     "name": "stdout",
     "output_type": "stream",
     "text": [
      "count   23,487.00\n",
      "mean        60.15\n",
      "std         35.04\n",
      "min         12.00\n",
      "25%         40.00\n",
      "50%         52.00\n",
      "75%         69.50\n",
      "max        900.00\n",
      "Name: total_area, dtype: float64\n"
     ]
    },
    {
     "data": {
      "text/plain": [
       "<function matplotlib.pyplot.show(*args, **kw)>"
      ]
     },
     "execution_count": 172,
     "metadata": {},
     "output_type": "execute_result"
    },
    {
     "data": {
      "image/png": "[encoded data removed]",
      "text/plain": [
       "<Figure size 432x288 with 1 Axes>"
      ]
     },
     "metadata": {
      "needs_background": "light"
     },
     "output_type": "display_data"
    }
   ],
   "source": [
    "print_hist(data,'total_area',20,0,350,\"total_area\")"
   ]
  },
  {
   "cell_type": "markdown",
   "metadata": {},
   "source": [
    "*Больше всего объявлений с площадью больше 40 кв.метров, а квартир с площадью больше 110 кв.метров очень мало. А всё, что больше 200 кв.м мало в общей выборке.*"
   ]
  },
  {
   "cell_type": "markdown",
   "metadata": {},
   "source": [
    "*900 кв.метров - ошибка или кто-то продает дворец? В любом случае это скорее исключение, чем правило. Посмотрим на количество объявлений с площадью больше 400 кв.м*"
   ]
  },
  {
   "cell_type": "code",
   "execution_count": 173,
   "metadata": {},
   "outputs": [
    {
     "name": "stdout",
     "output_type": "stream",
     "text": [
      "23\n"
     ]
    }
   ],
   "source": [
    "print(len(data.query('total_area>=400')))"
   ]
  },
  {
   "cell_type": "markdown",
   "metadata": {},
   "source": [
    "*Всего 17 из 23 тыс.строк, уберем их.*"
   ]
  },
  {
   "cell_type": "code",
   "execution_count": 174,
   "metadata": {},
   "outputs": [],
   "source": [
    "data = data.query('total_area < 400')"
   ]
  },
  {
   "cell_type": "markdown",
   "metadata": {},
   "source": [
    "*Построим гистограммы долей жилой площади к общей, и долей кухни к общей площади*"
   ]
  },
  {
   "cell_type": "code",
   "execution_count": 175,
   "metadata": {},
   "outputs": [
    {
     "name": "stdout",
     "output_type": "stream",
     "text": [
      "count    23,464.00\n",
      "unique    7,229.00\n",
      "top           0.00\n",
      "freq      1,043.00\n",
      "Name: perc_living_area, dtype: float64\n"
     ]
    },
    {
     "data": {
      "text/plain": [
       "<function matplotlib.pyplot.show(*args, **kw)>"
      ]
     },
     "execution_count": 175,
     "metadata": {},
     "output_type": "execute_result"
    },
    {
     "data": {
      "image/png": "[encoded data removed]",
      "text/plain": [
       "<Figure size 432x288 with 1 Axes>"
      ]
     },
     "metadata": {
      "needs_background": "light"
     },
     "output_type": "display_data"
    }
   ],
   "source": [
    "print_hist(data,'perc_living_area',20,0,2,\"доля жилой площади в общей\") "
   ]
  },
  {
   "cell_type": "markdown",
   "metadata": {},
   "source": [
    "*В большинстве данных на жилую площадь приходится больше половины общей площади, но есть и аномальные значения, где жилая больше общей, такого быть не может, с этими данными что-то не так(может пользователи перепутали столбцы при внесении данных?). Уберем строки, где доля жилой площади в общей больше 1.*"
   ]
  },
  {
   "cell_type": "markdown",
   "metadata": {},
   "source": [
    "*Посмотрим на аномальные строки, где доля жилой площади меньше 0,5 и больше 1*"
   ]
  },
  {
   "cell_type": "code",
   "execution_count": 56,
   "metadata": {},
   "outputs": [
    {
     "data": {
      "text/html": [
       "<div>\n",
       "<style scoped>\n",
       "    .dataframe tbody tr th:only-of-type {\n",
       "        vertical-align: middle;\n",
       "    }\n",
       "\n",
       "    .dataframe tbody tr th {\n",
       "        vertical-align: top;\n",
       "    }\n",
       "\n",
       "    .dataframe thead th {\n",
       "        text-align: right;\n",
       "    }\n",
       "</style>\n",
       "<table border=\"1\" class=\"dataframe\">\n",
       "  <thead>\n",
       "    <tr style=\"text-align: right;\">\n",
       "      <th></th>\n",
       "      <th>total_images</th>\n",
       "      <th>last_price</th>\n",
       "      <th>total_area</th>\n",
       "      <th>first_day_exposition</th>\n",
       "      <th>rooms</th>\n",
       "      <th>ceiling_height</th>\n",
       "      <th>floors_total</th>\n",
       "      <th>living_area</th>\n",
       "      <th>floor</th>\n",
       "      <th>is_apartment</th>\n",
       "      <th>...</th>\n",
       "      <th>ponds_around3000</th>\n",
       "      <th>ponds_nearest</th>\n",
       "      <th>days_exposition</th>\n",
       "      <th>price_per_sqmetr</th>\n",
       "      <th>weekday_exposition</th>\n",
       "      <th>month_exposition</th>\n",
       "      <th>year_exposition</th>\n",
       "      <th>floor_group</th>\n",
       "      <th>perc_living_area</th>\n",
       "      <th>perc_kitchen_area</th>\n",
       "    </tr>\n",
       "  </thead>\n",
       "  <tbody>\n",
       "    <tr>\n",
       "      <td>6</td>\n",
       "      <td>6</td>\n",
       "      <td>3700000</td>\n",
       "      <td>37.30</td>\n",
       "      <td>2017-11-02</td>\n",
       "      <td>1</td>\n",
       "      <td>2.64</td>\n",
       "      <td>26</td>\n",
       "      <td>10.60</td>\n",
       "      <td>6</td>\n",
       "      <td>False</td>\n",
       "      <td>...</td>\n",
       "      <td>0.00</td>\n",
       "      <td>nan</td>\n",
       "      <td>155.00</td>\n",
       "      <td>99,195.71</td>\n",
       "      <td>3</td>\n",
       "      <td>11</td>\n",
       "      <td>2017</td>\n",
       "      <td>другой</td>\n",
       "      <td>0.28</td>\n",
       "      <td>0.39</td>\n",
       "    </tr>\n",
       "    <tr>\n",
       "      <td>51</td>\n",
       "      <td>7</td>\n",
       "      <td>45000000</td>\n",
       "      <td>161.00</td>\n",
       "      <td>2017-10-17</td>\n",
       "      <td>3</td>\n",
       "      <td>3.20</td>\n",
       "      <td>8</td>\n",
       "      <td>38.00</td>\n",
       "      <td>4</td>\n",
       "      <td>False</td>\n",
       "      <td>...</td>\n",
       "      <td>3.00</td>\n",
       "      <td>99.00</td>\n",
       "      <td>541.00</td>\n",
       "      <td>279,503.11</td>\n",
       "      <td>1</td>\n",
       "      <td>10</td>\n",
       "      <td>2017</td>\n",
       "      <td>другой</td>\n",
       "      <td>0.24</td>\n",
       "      <td>0.31</td>\n",
       "    </tr>\n",
       "    <tr>\n",
       "      <td>123</td>\n",
       "      <td>2</td>\n",
       "      <td>4300000</td>\n",
       "      <td>48.00</td>\n",
       "      <td>2019-04-04</td>\n",
       "      <td>1</td>\n",
       "      <td>2.64</td>\n",
       "      <td>22</td>\n",
       "      <td>14.00</td>\n",
       "      <td>5</td>\n",
       "      <td>False</td>\n",
       "      <td>...</td>\n",
       "      <td>1.00</td>\n",
       "      <td>1,097.00</td>\n",
       "      <td>9.00</td>\n",
       "      <td>89,583.33</td>\n",
       "      <td>3</td>\n",
       "      <td>4</td>\n",
       "      <td>2019</td>\n",
       "      <td>другой</td>\n",
       "      <td>0.29</td>\n",
       "      <td>0.50</td>\n",
       "    </tr>\n",
       "    <tr>\n",
       "      <td>176</td>\n",
       "      <td>5</td>\n",
       "      <td>7835000</td>\n",
       "      <td>52.56</td>\n",
       "      <td>2019-03-14</td>\n",
       "      <td>1</td>\n",
       "      <td>2.64</td>\n",
       "      <td>24</td>\n",
       "      <td>15.36</td>\n",
       "      <td>2</td>\n",
       "      <td>False</td>\n",
       "      <td>...</td>\n",
       "      <td>0.00</td>\n",
       "      <td>nan</td>\n",
       "      <td>nan</td>\n",
       "      <td>149,067.73</td>\n",
       "      <td>3</td>\n",
       "      <td>3</td>\n",
       "      <td>2019</td>\n",
       "      <td>другой</td>\n",
       "      <td>0.29</td>\n",
       "      <td>0.40</td>\n",
       "    </tr>\n",
       "    <tr>\n",
       "      <td>219</td>\n",
       "      <td>12</td>\n",
       "      <td>7700000</td>\n",
       "      <td>58.70</td>\n",
       "      <td>2017-12-12</td>\n",
       "      <td>1</td>\n",
       "      <td>3.10</td>\n",
       "      <td>7</td>\n",
       "      <td>17.00</td>\n",
       "      <td>3</td>\n",
       "      <td>False</td>\n",
       "      <td>...</td>\n",
       "      <td>0.00</td>\n",
       "      <td>nan</td>\n",
       "      <td>136.00</td>\n",
       "      <td>131,175.47</td>\n",
       "      <td>1</td>\n",
       "      <td>12</td>\n",
       "      <td>2017</td>\n",
       "      <td>другой</td>\n",
       "      <td>0.29</td>\n",
       "      <td>0.27</td>\n",
       "    </tr>\n",
       "    <tr>\n",
       "      <td>...</td>\n",
       "      <td>...</td>\n",
       "      <td>...</td>\n",
       "      <td>...</td>\n",
       "      <td>...</td>\n",
       "      <td>...</td>\n",
       "      <td>...</td>\n",
       "      <td>...</td>\n",
       "      <td>...</td>\n",
       "      <td>...</td>\n",
       "      <td>...</td>\n",
       "      <td>...</td>\n",
       "      <td>...</td>\n",
       "      <td>...</td>\n",
       "      <td>...</td>\n",
       "      <td>...</td>\n",
       "      <td>...</td>\n",
       "      <td>...</td>\n",
       "      <td>...</td>\n",
       "      <td>...</td>\n",
       "      <td>...</td>\n",
       "      <td>...</td>\n",
       "    </tr>\n",
       "    <tr>\n",
       "      <td>23388</td>\n",
       "      <td>7</td>\n",
       "      <td>5400000</td>\n",
       "      <td>43.00</td>\n",
       "      <td>2017-04-24</td>\n",
       "      <td>1</td>\n",
       "      <td>2.64</td>\n",
       "      <td>18</td>\n",
       "      <td>12.00</td>\n",
       "      <td>8</td>\n",
       "      <td>False</td>\n",
       "      <td>...</td>\n",
       "      <td>0.00</td>\n",
       "      <td>nan</td>\n",
       "      <td>124.00</td>\n",
       "      <td>125,581.40</td>\n",
       "      <td>0</td>\n",
       "      <td>4</td>\n",
       "      <td>2017</td>\n",
       "      <td>другой</td>\n",
       "      <td>0.28</td>\n",
       "      <td>0.47</td>\n",
       "    </tr>\n",
       "    <tr>\n",
       "      <td>23394</td>\n",
       "      <td>10</td>\n",
       "      <td>1600000</td>\n",
       "      <td>92.00</td>\n",
       "      <td>2018-07-10</td>\n",
       "      <td>3</td>\n",
       "      <td>3.00</td>\n",
       "      <td>6</td>\n",
       "      <td>13.00</td>\n",
       "      <td>1</td>\n",
       "      <td>False</td>\n",
       "      <td>...</td>\n",
       "      <td>3.00</td>\n",
       "      <td>167.00</td>\n",
       "      <td>3.00</td>\n",
       "      <td>17,391.30</td>\n",
       "      <td>1</td>\n",
       "      <td>7</td>\n",
       "      <td>2018</td>\n",
       "      <td>первый</td>\n",
       "      <td>0.14</td>\n",
       "      <td>0.11</td>\n",
       "    </tr>\n",
       "    <tr>\n",
       "      <td>23481</td>\n",
       "      <td>1</td>\n",
       "      <td>3000000</td>\n",
       "      <td>37.29</td>\n",
       "      <td>2019-04-15</td>\n",
       "      <td>1</td>\n",
       "      <td>2.64</td>\n",
       "      <td>19</td>\n",
       "      <td>10.08</td>\n",
       "      <td>10</td>\n",
       "      <td>False</td>\n",
       "      <td>...</td>\n",
       "      <td>0.00</td>\n",
       "      <td>nan</td>\n",
       "      <td>7.00</td>\n",
       "      <td>80,450.52</td>\n",
       "      <td>0</td>\n",
       "      <td>4</td>\n",
       "      <td>2019</td>\n",
       "      <td>другой</td>\n",
       "      <td>0.27</td>\n",
       "      <td>0.45</td>\n",
       "    </tr>\n",
       "    <tr>\n",
       "      <td>23573</td>\n",
       "      <td>8</td>\n",
       "      <td>6290000</td>\n",
       "      <td>47.67</td>\n",
       "      <td>2019-03-20</td>\n",
       "      <td>1</td>\n",
       "      <td>3.60</td>\n",
       "      <td>12</td>\n",
       "      <td>13.59</td>\n",
       "      <td>12</td>\n",
       "      <td>False</td>\n",
       "      <td>...</td>\n",
       "      <td>2.00</td>\n",
       "      <td>99.00</td>\n",
       "      <td>19.00</td>\n",
       "      <td>131,948.81</td>\n",
       "      <td>2</td>\n",
       "      <td>3</td>\n",
       "      <td>2019</td>\n",
       "      <td>последний</td>\n",
       "      <td>0.29</td>\n",
       "      <td>0.37</td>\n",
       "    </tr>\n",
       "    <tr>\n",
       "      <td>23574</td>\n",
       "      <td>14</td>\n",
       "      <td>64990000</td>\n",
       "      <td>139.00</td>\n",
       "      <td>2015-11-24</td>\n",
       "      <td>3</td>\n",
       "      <td>3.00</td>\n",
       "      <td>8</td>\n",
       "      <td>3.00</td>\n",
       "      <td>8</td>\n",
       "      <td>False</td>\n",
       "      <td>...</td>\n",
       "      <td>3.00</td>\n",
       "      <td>100.00</td>\n",
       "      <td>280.00</td>\n",
       "      <td>467,553.96</td>\n",
       "      <td>1</td>\n",
       "      <td>11</td>\n",
       "      <td>2015</td>\n",
       "      <td>последний</td>\n",
       "      <td>0.02</td>\n",
       "      <td>0.12</td>\n",
       "    </tr>\n",
       "  </tbody>\n",
       "</table>\n",
       "<p>164 rows × 29 columns</p>\n",
       "</div>"
      ],
      "text/plain": [
       "       total_images  last_price  total_area first_day_exposition  rooms  \\\n",
       "6                 6     3700000       37.30           2017-11-02      1   \n",
       "51                7    45000000      161.00           2017-10-17      3   \n",
       "123               2     4300000       48.00           2019-04-04      1   \n",
       "176               5     7835000       52.56           2019-03-14      1   \n",
       "219              12     7700000       58.70           2017-12-12      1   \n",
       "...             ...         ...         ...                  ...    ...   \n",
       "23388             7     5400000       43.00           2017-04-24      1   \n",
       "23394            10     1600000       92.00           2018-07-10      3   \n",
       "23481             1     3000000       37.29           2019-04-15      1   \n",
       "23573             8     6290000       47.67           2019-03-20      1   \n",
       "23574            14    64990000      139.00           2015-11-24      3   \n",
       "\n",
       "       ceiling_height  floors_total  living_area  floor  is_apartment  ...  \\\n",
       "6                2.64            26        10.60      6         False  ...   \n",
       "51               3.20             8        38.00      4         False  ...   \n",
       "123              2.64            22        14.00      5         False  ...   \n",
       "176              2.64            24        15.36      2         False  ...   \n",
       "219              3.10             7        17.00      3         False  ...   \n",
       "...               ...           ...          ...    ...           ...  ...   \n",
       "23388            2.64            18        12.00      8         False  ...   \n",
       "23394            3.00             6        13.00      1         False  ...   \n",
       "23481            2.64            19        10.08     10         False  ...   \n",
       "23573            3.60            12        13.59     12         False  ...   \n",
       "23574            3.00             8         3.00      8         False  ...   \n",
       "\n",
       "       ponds_around3000  ponds_nearest  days_exposition  price_per_sqmetr  \\\n",
       "6                  0.00            nan           155.00         99,195.71   \n",
       "51                 3.00          99.00           541.00        279,503.11   \n",
       "123                1.00       1,097.00             9.00         89,583.33   \n",
       "176                0.00            nan              nan        149,067.73   \n",
       "219                0.00            nan           136.00        131,175.47   \n",
       "...                 ...            ...              ...               ...   \n",
       "23388              0.00            nan           124.00        125,581.40   \n",
       "23394              3.00         167.00             3.00         17,391.30   \n",
       "23481              0.00            nan             7.00         80,450.52   \n",
       "23573              2.00          99.00            19.00        131,948.81   \n",
       "23574              3.00         100.00           280.00        467,553.96   \n",
       "\n",
       "      weekday_exposition  month_exposition  year_exposition  floor_group  \\\n",
       "6                      3                11             2017       другой   \n",
       "51                     1                10             2017       другой   \n",
       "123                    3                 4             2019       другой   \n",
       "176                    3                 3             2019       другой   \n",
       "219                    1                12             2017       другой   \n",
       "...                  ...               ...              ...          ...   \n",
       "23388                  0                 4             2017       другой   \n",
       "23394                  1                 7             2018       первый   \n",
       "23481                  0                 4             2019       другой   \n",
       "23573                  2                 3             2019    последний   \n",
       "23574                  1                11             2015    последний   \n",
       "\n",
       "       perc_living_area  perc_kitchen_area  \n",
       "6                  0.28               0.39  \n",
       "51                 0.24               0.31  \n",
       "123                0.29               0.50  \n",
       "176                0.29               0.40  \n",
       "219                0.29               0.27  \n",
       "...                 ...                ...  \n",
       "23388              0.28               0.47  \n",
       "23394              0.14               0.11  \n",
       "23481              0.27               0.45  \n",
       "23573              0.29               0.37  \n",
       "23574              0.02               0.12  \n",
       "\n",
       "[164 rows x 29 columns]"
      ]
     },
     "metadata": {},
     "output_type": "display_data"
    }
   ],
   "source": [
    "display(data.query('perc_living_area <0.3 or perc_living_area>=1'))"
   ]
  },
  {
   "cell_type": "markdown",
   "metadata": {},
   "source": [
    "*Здесь определенно чувствуются ошибки ввода данных. Ну не может быть в квартире площадью 139 кв.м всего 3кв.м жилой площади*"
   ]
  },
  {
   "cell_type": "code",
   "execution_count": 57,
   "metadata": {},
   "outputs": [],
   "source": [
    "data_1 = data.query('0.3 <= perc_living_area < 1')"
   ]
  },
  {
   "cell_type": "code",
   "execution_count": 58,
   "metadata": {},
   "outputs": [
    {
     "name": "stdout",
     "output_type": "stream",
     "text": [
      "count   23,032.00\n",
      "mean         0.19\n",
      "std          0.07\n",
      "min          0.03\n",
      "25%          0.14\n",
      "50%          0.17\n",
      "75%          0.23\n",
      "max          0.79\n",
      "Name: perc_kitchen_area, dtype: float64\n"
     ]
    },
    {
     "data": {
      "text/plain": [
       "<function matplotlib.pyplot.show(*args, **kw)>"
      ]
     },
     "execution_count": 58,
     "metadata": {},
     "output_type": "execute_result"
    },
    {
     "data": {
      "image/png": "[encoded data removed]",
      "text/plain": [
       "<Figure size 432x288 with 1 Axes>"
      ]
     },
     "metadata": {
      "needs_background": "light"
     },
     "output_type": "display_data"
    }
   ],
   "source": [
    "#Доля кухни в общей площади\n",
    "print_hist(data_1,'perc_kitchen_area',20,0,1,\"доля кухни в общей площади\") "
   ]
  },
  {
   "cell_type": "markdown",
   "metadata": {},
   "source": [
    "*Здесь тоже есть аномальные значения, уберем их.*"
   ]
  },
  {
   "cell_type": "code",
   "execution_count": 59,
   "metadata": {},
   "outputs": [],
   "source": [
    "data_2 = data_1.query('perc_kitchen_area <=0.5') "
   ]
  },
  {
   "cell_type": "markdown",
   "metadata": {},
   "source": [
    "#### Цена за один квадратный метр"
   ]
  },
  {
   "cell_type": "markdown",
   "metadata": {},
   "source": [
    "*Строим гистограмму*"
   ]
  },
  {
   "cell_type": "code",
   "execution_count": 60,
   "metadata": {},
   "outputs": [
    {
     "name": "stdout",
     "output_type": "stream",
     "text": [
      "0   120,370.37\n",
      "1    82,920.79\n",
      "2    92,785.71\n",
      "3   408,176.10\n",
      "4   100,000.00\n",
      "Name: price_per_sqmetr, dtype: float64\n"
     ]
    }
   ],
   "source": [
    "print(data_2['price_per_sqmetr'].head())"
   ]
  },
  {
   "cell_type": "code",
   "execution_count": 61,
   "metadata": {},
   "outputs": [
    {
     "name": "stdout",
     "output_type": "stream",
     "text": [
      "count      22,994.00\n",
      "mean       98,532.94\n",
      "std        46,977.34\n",
      "min         7,962.96\n",
      "25%        76,271.19\n",
      "50%        94,736.84\n",
      "75%       113,685.95\n",
      "max     1,736,842.11\n",
      "Name: price_per_sqmetr, dtype: float64\n"
     ]
    },
    {
     "data": {
      "text/plain": [
       "<function matplotlib.pyplot.show(*args, **kw)>"
      ]
     },
     "execution_count": 61,
     "metadata": {},
     "output_type": "execute_result"
    },
    {
     "data": {
      "image/png": "[encoded data removed]",
      "text/plain": [
       "<Figure size 432x288 with 1 Axes>"
      ]
     },
     "metadata": {
      "needs_background": "light"
     },
     "output_type": "display_data"
    }
   ],
   "source": [
    "print_hist(data_2,'price_per_sqmetr',100,50,400000, \"цена за 1 кв.метр\") "
   ]
  },
  {
   "cell_type": "markdown",
   "metadata": {},
   "source": [
    "*Цена за 1 кв.метр в большинстве объявлений больше 80 тыс.руб.*"
   ]
  },
  {
   "cell_type": "markdown",
   "metadata": {},
   "source": [
    "#### Число комнат"
   ]
  },
  {
   "cell_type": "code",
   "execution_count": 62,
   "metadata": {},
   "outputs": [
    {
     "name": "stdout",
     "output_type": "stream",
     "text": [
      "count   22,994.00\n",
      "mean         2.07\n",
      "std          1.06\n",
      "min          0.00\n",
      "25%          1.00\n",
      "50%          2.00\n",
      "75%          3.00\n",
      "max         19.00\n",
      "Name: rooms, dtype: float64\n"
     ]
    },
    {
     "data": {
      "text/plain": [
       "<function matplotlib.pyplot.show(*args, **kw)>"
      ]
     },
     "execution_count": 62,
     "metadata": {},
     "output_type": "execute_result"
    },
    {
     "data": {
      "image/png": "[encoded data removed]",
      "text/plain": [
       "<Figure size 432x288 with 1 Axes>"
      ]
     },
     "metadata": {
      "needs_background": "light"
     },
     "output_type": "display_data"
    }
   ],
   "source": [
    "print_hist(data_2,'rooms',20,0,10,\"число комнат\")"
   ]
  },
  {
   "cell_type": "markdown",
   "metadata": {},
   "source": [
    "*Много однокомнатных квартир в продаже, но тем менее их меньше, чем остальных. Объявлений с числом комнат больше семи - мало. Посмотрим на данные, где 0 комнат.*"
   ]
  },
  {
   "cell_type": "code",
   "execution_count": 63,
   "metadata": {},
   "outputs": [
    {
     "data": {
      "text/html": [
       "<div>\n",
       "<style scoped>\n",
       "    .dataframe tbody tr th:only-of-type {\n",
       "        vertical-align: middle;\n",
       "    }\n",
       "\n",
       "    .dataframe tbody tr th {\n",
       "        vertical-align: top;\n",
       "    }\n",
       "\n",
       "    .dataframe thead th {\n",
       "        text-align: right;\n",
       "    }\n",
       "</style>\n",
       "<table border=\"1\" class=\"dataframe\">\n",
       "  <thead>\n",
       "    <tr style=\"text-align: right;\">\n",
       "      <th></th>\n",
       "      <th>total_images</th>\n",
       "      <th>last_price</th>\n",
       "      <th>total_area</th>\n",
       "      <th>first_day_exposition</th>\n",
       "      <th>rooms</th>\n",
       "      <th>ceiling_height</th>\n",
       "      <th>floors_total</th>\n",
       "      <th>living_area</th>\n",
       "      <th>floor</th>\n",
       "      <th>is_apartment</th>\n",
       "      <th>...</th>\n",
       "      <th>ponds_around3000</th>\n",
       "      <th>ponds_nearest</th>\n",
       "      <th>days_exposition</th>\n",
       "      <th>price_per_sqmetr</th>\n",
       "      <th>weekday_exposition</th>\n",
       "      <th>month_exposition</th>\n",
       "      <th>year_exposition</th>\n",
       "      <th>floor_group</th>\n",
       "      <th>perc_living_area</th>\n",
       "      <th>perc_kitchen_area</th>\n",
       "    </tr>\n",
       "  </thead>\n",
       "  <tbody>\n",
       "    <tr>\n",
       "      <td>144</td>\n",
       "      <td>1</td>\n",
       "      <td>2450000</td>\n",
       "      <td>27.00</td>\n",
       "      <td>2017-03-30</td>\n",
       "      <td>0</td>\n",
       "      <td>2.64</td>\n",
       "      <td>24</td>\n",
       "      <td>15.50</td>\n",
       "      <td>2</td>\n",
       "      <td>False</td>\n",
       "      <td>...</td>\n",
       "      <td>nan</td>\n",
       "      <td>nan</td>\n",
       "      <td>181.00</td>\n",
       "      <td>90,740.74</td>\n",
       "      <td>3</td>\n",
       "      <td>3</td>\n",
       "      <td>2017</td>\n",
       "      <td>другой</td>\n",
       "      <td>0.57</td>\n",
       "      <td>0.20</td>\n",
       "    </tr>\n",
       "    <tr>\n",
       "      <td>349</td>\n",
       "      <td>4</td>\n",
       "      <td>2320000</td>\n",
       "      <td>25.00</td>\n",
       "      <td>2017-09-27</td>\n",
       "      <td>0</td>\n",
       "      <td>2.64</td>\n",
       "      <td>14</td>\n",
       "      <td>17.00</td>\n",
       "      <td>1</td>\n",
       "      <td>False</td>\n",
       "      <td>...</td>\n",
       "      <td>nan</td>\n",
       "      <td>nan</td>\n",
       "      <td>45.00</td>\n",
       "      <td>92,800.00</td>\n",
       "      <td>2</td>\n",
       "      <td>9</td>\n",
       "      <td>2017</td>\n",
       "      <td>первый</td>\n",
       "      <td>0.68</td>\n",
       "      <td>0.20</td>\n",
       "    </tr>\n",
       "    <tr>\n",
       "      <td>508</td>\n",
       "      <td>0</td>\n",
       "      <td>3375000</td>\n",
       "      <td>34.40</td>\n",
       "      <td>2017-03-28</td>\n",
       "      <td>0</td>\n",
       "      <td>2.64</td>\n",
       "      <td>26</td>\n",
       "      <td>24.30</td>\n",
       "      <td>19</td>\n",
       "      <td>False</td>\n",
       "      <td>...</td>\n",
       "      <td>1.00</td>\n",
       "      <td>593.00</td>\n",
       "      <td>430.00</td>\n",
       "      <td>98,110.47</td>\n",
       "      <td>1</td>\n",
       "      <td>3</td>\n",
       "      <td>2017</td>\n",
       "      <td>другой</td>\n",
       "      <td>0.71</td>\n",
       "      <td>0.25</td>\n",
       "    </tr>\n",
       "    <tr>\n",
       "      <td>608</td>\n",
       "      <td>2</td>\n",
       "      <td>1850000</td>\n",
       "      <td>25.00</td>\n",
       "      <td>2019-02-20</td>\n",
       "      <td>0</td>\n",
       "      <td>2.64</td>\n",
       "      <td>10</td>\n",
       "      <td>17.00</td>\n",
       "      <td>7</td>\n",
       "      <td>False</td>\n",
       "      <td>...</td>\n",
       "      <td>nan</td>\n",
       "      <td>nan</td>\n",
       "      <td>29.00</td>\n",
       "      <td>74,000.00</td>\n",
       "      <td>2</td>\n",
       "      <td>2</td>\n",
       "      <td>2019</td>\n",
       "      <td>другой</td>\n",
       "      <td>0.68</td>\n",
       "      <td>0.20</td>\n",
       "    </tr>\n",
       "    <tr>\n",
       "      <td>716</td>\n",
       "      <td>5</td>\n",
       "      <td>1500000</td>\n",
       "      <td>17.00</td>\n",
       "      <td>2017-06-07</td>\n",
       "      <td>0</td>\n",
       "      <td>2.70</td>\n",
       "      <td>9</td>\n",
       "      <td>12.00</td>\n",
       "      <td>1</td>\n",
       "      <td>False</td>\n",
       "      <td>...</td>\n",
       "      <td>0.00</td>\n",
       "      <td>nan</td>\n",
       "      <td>40.00</td>\n",
       "      <td>88,235.29</td>\n",
       "      <td>2</td>\n",
       "      <td>6</td>\n",
       "      <td>2017</td>\n",
       "      <td>первый</td>\n",
       "      <td>0.71</td>\n",
       "      <td>0.18</td>\n",
       "    </tr>\n",
       "    <tr>\n",
       "      <td>...</td>\n",
       "      <td>...</td>\n",
       "      <td>...</td>\n",
       "      <td>...</td>\n",
       "      <td>...</td>\n",
       "      <td>...</td>\n",
       "      <td>...</td>\n",
       "      <td>...</td>\n",
       "      <td>...</td>\n",
       "      <td>...</td>\n",
       "      <td>...</td>\n",
       "      <td>...</td>\n",
       "      <td>...</td>\n",
       "      <td>...</td>\n",
       "      <td>...</td>\n",
       "      <td>...</td>\n",
       "      <td>...</td>\n",
       "      <td>...</td>\n",
       "      <td>...</td>\n",
       "      <td>...</td>\n",
       "      <td>...</td>\n",
       "      <td>...</td>\n",
       "    </tr>\n",
       "    <tr>\n",
       "      <td>22877</td>\n",
       "      <td>2</td>\n",
       "      <td>4280000</td>\n",
       "      <td>28.00</td>\n",
       "      <td>2017-10-26</td>\n",
       "      <td>0</td>\n",
       "      <td>2.70</td>\n",
       "      <td>19</td>\n",
       "      <td>18.00</td>\n",
       "      <td>10</td>\n",
       "      <td>False</td>\n",
       "      <td>...</td>\n",
       "      <td>1.00</td>\n",
       "      <td>415.00</td>\n",
       "      <td>151.00</td>\n",
       "      <td>152,857.14</td>\n",
       "      <td>3</td>\n",
       "      <td>10</td>\n",
       "      <td>2017</td>\n",
       "      <td>другой</td>\n",
       "      <td>0.64</td>\n",
       "      <td>0.21</td>\n",
       "    </tr>\n",
       "    <tr>\n",
       "      <td>23210</td>\n",
       "      <td>7</td>\n",
       "      <td>3200000</td>\n",
       "      <td>26.00</td>\n",
       "      <td>2017-09-01</td>\n",
       "      <td>0</td>\n",
       "      <td>2.64</td>\n",
       "      <td>25</td>\n",
       "      <td>18.00</td>\n",
       "      <td>16</td>\n",
       "      <td>False</td>\n",
       "      <td>...</td>\n",
       "      <td>1.00</td>\n",
       "      <td>623.00</td>\n",
       "      <td>14.00</td>\n",
       "      <td>123,076.92</td>\n",
       "      <td>4</td>\n",
       "      <td>9</td>\n",
       "      <td>2017</td>\n",
       "      <td>другой</td>\n",
       "      <td>0.69</td>\n",
       "      <td>0.19</td>\n",
       "    </tr>\n",
       "    <tr>\n",
       "      <td>23554</td>\n",
       "      <td>15</td>\n",
       "      <td>3350000</td>\n",
       "      <td>26.00</td>\n",
       "      <td>2018-09-07</td>\n",
       "      <td>0</td>\n",
       "      <td>2.64</td>\n",
       "      <td>19</td>\n",
       "      <td>17.38</td>\n",
       "      <td>8</td>\n",
       "      <td>False</td>\n",
       "      <td>...</td>\n",
       "      <td>2.00</td>\n",
       "      <td>112.00</td>\n",
       "      <td>31.00</td>\n",
       "      <td>128,846.15</td>\n",
       "      <td>4</td>\n",
       "      <td>9</td>\n",
       "      <td>2018</td>\n",
       "      <td>другой</td>\n",
       "      <td>0.67</td>\n",
       "      <td>0.19</td>\n",
       "    </tr>\n",
       "    <tr>\n",
       "      <td>23592</td>\n",
       "      <td>10</td>\n",
       "      <td>1450000</td>\n",
       "      <td>29.00</td>\n",
       "      <td>2017-11-11</td>\n",
       "      <td>0</td>\n",
       "      <td>2.64</td>\n",
       "      <td>9</td>\n",
       "      <td>18.00</td>\n",
       "      <td>8</td>\n",
       "      <td>False</td>\n",
       "      <td>...</td>\n",
       "      <td>nan</td>\n",
       "      <td>nan</td>\n",
       "      <td>82.00</td>\n",
       "      <td>50,000.00</td>\n",
       "      <td>5</td>\n",
       "      <td>11</td>\n",
       "      <td>2017</td>\n",
       "      <td>другой</td>\n",
       "      <td>0.62</td>\n",
       "      <td>0.23</td>\n",
       "    </tr>\n",
       "    <tr>\n",
       "      <td>23637</td>\n",
       "      <td>8</td>\n",
       "      <td>2350000</td>\n",
       "      <td>26.00</td>\n",
       "      <td>2018-06-26</td>\n",
       "      <td>0</td>\n",
       "      <td>2.64</td>\n",
       "      <td>25</td>\n",
       "      <td>17.00</td>\n",
       "      <td>4</td>\n",
       "      <td>False</td>\n",
       "      <td>...</td>\n",
       "      <td>nan</td>\n",
       "      <td>nan</td>\n",
       "      <td>207.00</td>\n",
       "      <td>90,384.62</td>\n",
       "      <td>1</td>\n",
       "      <td>6</td>\n",
       "      <td>2018</td>\n",
       "      <td>другой</td>\n",
       "      <td>0.65</td>\n",
       "      <td>0.19</td>\n",
       "    </tr>\n",
       "  </tbody>\n",
       "</table>\n",
       "<p>133 rows × 29 columns</p>\n",
       "</div>"
      ],
      "text/plain": [
       "       total_images  last_price  total_area first_day_exposition  rooms  \\\n",
       "144               1     2450000       27.00           2017-03-30      0   \n",
       "349               4     2320000       25.00           2017-09-27      0   \n",
       "508               0     3375000       34.40           2017-03-28      0   \n",
       "608               2     1850000       25.00           2019-02-20      0   \n",
       "716               5     1500000       17.00           2017-06-07      0   \n",
       "...             ...         ...         ...                  ...    ...   \n",
       "22877             2     4280000       28.00           2017-10-26      0   \n",
       "23210             7     3200000       26.00           2017-09-01      0   \n",
       "23554            15     3350000       26.00           2018-09-07      0   \n",
       "23592            10     1450000       29.00           2017-11-11      0   \n",
       "23637             8     2350000       26.00           2018-06-26      0   \n",
       "\n",
       "       ceiling_height  floors_total  living_area  floor  is_apartment  ...  \\\n",
       "144              2.64            24        15.50      2         False  ...   \n",
       "349              2.64            14        17.00      1         False  ...   \n",
       "508              2.64            26        24.30     19         False  ...   \n",
       "608              2.64            10        17.00      7         False  ...   \n",
       "716              2.70             9        12.00      1         False  ...   \n",
       "...               ...           ...          ...    ...           ...  ...   \n",
       "22877            2.70            19        18.00     10         False  ...   \n",
       "23210            2.64            25        18.00     16         False  ...   \n",
       "23554            2.64            19        17.38      8         False  ...   \n",
       "23592            2.64             9        18.00      8         False  ...   \n",
       "23637            2.64            25        17.00      4         False  ...   \n",
       "\n",
       "       ponds_around3000  ponds_nearest  days_exposition  price_per_sqmetr  \\\n",
       "144                 nan            nan           181.00         90,740.74   \n",
       "349                 nan            nan            45.00         92,800.00   \n",
       "508                1.00         593.00           430.00         98,110.47   \n",
       "608                 nan            nan            29.00         74,000.00   \n",
       "716                0.00            nan            40.00         88,235.29   \n",
       "...                 ...            ...              ...               ...   \n",
       "22877              1.00         415.00           151.00        152,857.14   \n",
       "23210              1.00         623.00            14.00        123,076.92   \n",
       "23554              2.00         112.00            31.00        128,846.15   \n",
       "23592               nan            nan            82.00         50,000.00   \n",
       "23637               nan            nan           207.00         90,384.62   \n",
       "\n",
       "      weekday_exposition  month_exposition  year_exposition  floor_group  \\\n",
       "144                    3                 3             2017       другой   \n",
       "349                    2                 9             2017       первый   \n",
       "508                    1                 3             2017       другой   \n",
       "608                    2                 2             2019       другой   \n",
       "716                    2                 6             2017       первый   \n",
       "...                  ...               ...              ...          ...   \n",
       "22877                  3                10             2017       другой   \n",
       "23210                  4                 9             2017       другой   \n",
       "23554                  4                 9             2018       другой   \n",
       "23592                  5                11             2017       другой   \n",
       "23637                  1                 6             2018       другой   \n",
       "\n",
       "       perc_living_area  perc_kitchen_area  \n",
       "144                0.57               0.20  \n",
       "349                0.68               0.20  \n",
       "508                0.71               0.25  \n",
       "608                0.68               0.20  \n",
       "716                0.71               0.18  \n",
       "...                 ...                ...  \n",
       "22877              0.64               0.21  \n",
       "23210              0.69               0.19  \n",
       "23554              0.67               0.19  \n",
       "23592              0.62               0.23  \n",
       "23637              0.65               0.19  \n",
       "\n",
       "[133 rows x 29 columns]"
      ]
     },
     "metadata": {},
     "output_type": "display_data"
    }
   ],
   "source": [
    "display(data_2[data_2['rooms'] == 0])"
   ]
  },
  {
   "cell_type": "markdown",
   "metadata": {},
   "source": [
    "*Всего 133 строчки. Учитывая, что таких значений немного заменим эти аномальные значения \"ручками\" .Посмотрим на общую площадь, если она меньше 35 кв.м, значит 1 комната точно есть.*"
   ]
  },
  {
   "cell_type": "code",
   "execution_count": 64,
   "metadata": {},
   "outputs": [
    {
     "data": {
      "text/html": [
       "<div>\n",
       "<style scoped>\n",
       "    .dataframe tbody tr th:only-of-type {\n",
       "        vertical-align: middle;\n",
       "    }\n",
       "\n",
       "    .dataframe tbody tr th {\n",
       "        vertical-align: top;\n",
       "    }\n",
       "\n",
       "    .dataframe thead th {\n",
       "        text-align: right;\n",
       "    }\n",
       "</style>\n",
       "<table border=\"1\" class=\"dataframe\">\n",
       "  <thead>\n",
       "    <tr style=\"text-align: right;\">\n",
       "      <th></th>\n",
       "      <th>total_images</th>\n",
       "      <th>last_price</th>\n",
       "      <th>total_area</th>\n",
       "      <th>first_day_exposition</th>\n",
       "      <th>rooms</th>\n",
       "      <th>ceiling_height</th>\n",
       "      <th>floors_total</th>\n",
       "      <th>living_area</th>\n",
       "      <th>floor</th>\n",
       "      <th>is_apartment</th>\n",
       "      <th>...</th>\n",
       "      <th>ponds_around3000</th>\n",
       "      <th>ponds_nearest</th>\n",
       "      <th>days_exposition</th>\n",
       "      <th>price_per_sqmetr</th>\n",
       "      <th>weekday_exposition</th>\n",
       "      <th>month_exposition</th>\n",
       "      <th>year_exposition</th>\n",
       "      <th>floor_group</th>\n",
       "      <th>perc_living_area</th>\n",
       "      <th>perc_kitchen_area</th>\n",
       "    </tr>\n",
       "  </thead>\n",
       "  <tbody>\n",
       "    <tr>\n",
       "      <td>144</td>\n",
       "      <td>1</td>\n",
       "      <td>2450000</td>\n",
       "      <td>27.00</td>\n",
       "      <td>2017-03-30</td>\n",
       "      <td>0</td>\n",
       "      <td>2.64</td>\n",
       "      <td>24</td>\n",
       "      <td>15.50</td>\n",
       "      <td>2</td>\n",
       "      <td>False</td>\n",
       "      <td>...</td>\n",
       "      <td>nan</td>\n",
       "      <td>nan</td>\n",
       "      <td>181.00</td>\n",
       "      <td>90,740.74</td>\n",
       "      <td>3</td>\n",
       "      <td>3</td>\n",
       "      <td>2017</td>\n",
       "      <td>другой</td>\n",
       "      <td>0.57</td>\n",
       "      <td>0.20</td>\n",
       "    </tr>\n",
       "    <tr>\n",
       "      <td>349</td>\n",
       "      <td>4</td>\n",
       "      <td>2320000</td>\n",
       "      <td>25.00</td>\n",
       "      <td>2017-09-27</td>\n",
       "      <td>0</td>\n",
       "      <td>2.64</td>\n",
       "      <td>14</td>\n",
       "      <td>17.00</td>\n",
       "      <td>1</td>\n",
       "      <td>False</td>\n",
       "      <td>...</td>\n",
       "      <td>nan</td>\n",
       "      <td>nan</td>\n",
       "      <td>45.00</td>\n",
       "      <td>92,800.00</td>\n",
       "      <td>2</td>\n",
       "      <td>9</td>\n",
       "      <td>2017</td>\n",
       "      <td>первый</td>\n",
       "      <td>0.68</td>\n",
       "      <td>0.20</td>\n",
       "    </tr>\n",
       "    <tr>\n",
       "      <td>508</td>\n",
       "      <td>0</td>\n",
       "      <td>3375000</td>\n",
       "      <td>34.40</td>\n",
       "      <td>2017-03-28</td>\n",
       "      <td>0</td>\n",
       "      <td>2.64</td>\n",
       "      <td>26</td>\n",
       "      <td>24.30</td>\n",
       "      <td>19</td>\n",
       "      <td>False</td>\n",
       "      <td>...</td>\n",
       "      <td>1.00</td>\n",
       "      <td>593.00</td>\n",
       "      <td>430.00</td>\n",
       "      <td>98,110.47</td>\n",
       "      <td>1</td>\n",
       "      <td>3</td>\n",
       "      <td>2017</td>\n",
       "      <td>другой</td>\n",
       "      <td>0.71</td>\n",
       "      <td>0.25</td>\n",
       "    </tr>\n",
       "    <tr>\n",
       "      <td>608</td>\n",
       "      <td>2</td>\n",
       "      <td>1850000</td>\n",
       "      <td>25.00</td>\n",
       "      <td>2019-02-20</td>\n",
       "      <td>0</td>\n",
       "      <td>2.64</td>\n",
       "      <td>10</td>\n",
       "      <td>17.00</td>\n",
       "      <td>7</td>\n",
       "      <td>False</td>\n",
       "      <td>...</td>\n",
       "      <td>nan</td>\n",
       "      <td>nan</td>\n",
       "      <td>29.00</td>\n",
       "      <td>74,000.00</td>\n",
       "      <td>2</td>\n",
       "      <td>2</td>\n",
       "      <td>2019</td>\n",
       "      <td>другой</td>\n",
       "      <td>0.68</td>\n",
       "      <td>0.20</td>\n",
       "    </tr>\n",
       "    <tr>\n",
       "      <td>716</td>\n",
       "      <td>5</td>\n",
       "      <td>1500000</td>\n",
       "      <td>17.00</td>\n",
       "      <td>2017-06-07</td>\n",
       "      <td>0</td>\n",
       "      <td>2.70</td>\n",
       "      <td>9</td>\n",
       "      <td>12.00</td>\n",
       "      <td>1</td>\n",
       "      <td>False</td>\n",
       "      <td>...</td>\n",
       "      <td>0.00</td>\n",
       "      <td>nan</td>\n",
       "      <td>40.00</td>\n",
       "      <td>88,235.29</td>\n",
       "      <td>2</td>\n",
       "      <td>6</td>\n",
       "      <td>2017</td>\n",
       "      <td>первый</td>\n",
       "      <td>0.71</td>\n",
       "      <td>0.18</td>\n",
       "    </tr>\n",
       "    <tr>\n",
       "      <td>...</td>\n",
       "      <td>...</td>\n",
       "      <td>...</td>\n",
       "      <td>...</td>\n",
       "      <td>...</td>\n",
       "      <td>...</td>\n",
       "      <td>...</td>\n",
       "      <td>...</td>\n",
       "      <td>...</td>\n",
       "      <td>...</td>\n",
       "      <td>...</td>\n",
       "      <td>...</td>\n",
       "      <td>...</td>\n",
       "      <td>...</td>\n",
       "      <td>...</td>\n",
       "      <td>...</td>\n",
       "      <td>...</td>\n",
       "      <td>...</td>\n",
       "      <td>...</td>\n",
       "      <td>...</td>\n",
       "      <td>...</td>\n",
       "      <td>...</td>\n",
       "    </tr>\n",
       "    <tr>\n",
       "      <td>22877</td>\n",
       "      <td>2</td>\n",
       "      <td>4280000</td>\n",
       "      <td>28.00</td>\n",
       "      <td>2017-10-26</td>\n",
       "      <td>0</td>\n",
       "      <td>2.70</td>\n",
       "      <td>19</td>\n",
       "      <td>18.00</td>\n",
       "      <td>10</td>\n",
       "      <td>False</td>\n",
       "      <td>...</td>\n",
       "      <td>1.00</td>\n",
       "      <td>415.00</td>\n",
       "      <td>151.00</td>\n",
       "      <td>152,857.14</td>\n",
       "      <td>3</td>\n",
       "      <td>10</td>\n",
       "      <td>2017</td>\n",
       "      <td>другой</td>\n",
       "      <td>0.64</td>\n",
       "      <td>0.21</td>\n",
       "    </tr>\n",
       "    <tr>\n",
       "      <td>23210</td>\n",
       "      <td>7</td>\n",
       "      <td>3200000</td>\n",
       "      <td>26.00</td>\n",
       "      <td>2017-09-01</td>\n",
       "      <td>0</td>\n",
       "      <td>2.64</td>\n",
       "      <td>25</td>\n",
       "      <td>18.00</td>\n",
       "      <td>16</td>\n",
       "      <td>False</td>\n",
       "      <td>...</td>\n",
       "      <td>1.00</td>\n",
       "      <td>623.00</td>\n",
       "      <td>14.00</td>\n",
       "      <td>123,076.92</td>\n",
       "      <td>4</td>\n",
       "      <td>9</td>\n",
       "      <td>2017</td>\n",
       "      <td>другой</td>\n",
       "      <td>0.69</td>\n",
       "      <td>0.19</td>\n",
       "    </tr>\n",
       "    <tr>\n",
       "      <td>23554</td>\n",
       "      <td>15</td>\n",
       "      <td>3350000</td>\n",
       "      <td>26.00</td>\n",
       "      <td>2018-09-07</td>\n",
       "      <td>0</td>\n",
       "      <td>2.64</td>\n",
       "      <td>19</td>\n",
       "      <td>17.38</td>\n",
       "      <td>8</td>\n",
       "      <td>False</td>\n",
       "      <td>...</td>\n",
       "      <td>2.00</td>\n",
       "      <td>112.00</td>\n",
       "      <td>31.00</td>\n",
       "      <td>128,846.15</td>\n",
       "      <td>4</td>\n",
       "      <td>9</td>\n",
       "      <td>2018</td>\n",
       "      <td>другой</td>\n",
       "      <td>0.67</td>\n",
       "      <td>0.19</td>\n",
       "    </tr>\n",
       "    <tr>\n",
       "      <td>23592</td>\n",
       "      <td>10</td>\n",
       "      <td>1450000</td>\n",
       "      <td>29.00</td>\n",
       "      <td>2017-11-11</td>\n",
       "      <td>0</td>\n",
       "      <td>2.64</td>\n",
       "      <td>9</td>\n",
       "      <td>18.00</td>\n",
       "      <td>8</td>\n",
       "      <td>False</td>\n",
       "      <td>...</td>\n",
       "      <td>nan</td>\n",
       "      <td>nan</td>\n",
       "      <td>82.00</td>\n",
       "      <td>50,000.00</td>\n",
       "      <td>5</td>\n",
       "      <td>11</td>\n",
       "      <td>2017</td>\n",
       "      <td>другой</td>\n",
       "      <td>0.62</td>\n",
       "      <td>0.23</td>\n",
       "    </tr>\n",
       "    <tr>\n",
       "      <td>23637</td>\n",
       "      <td>8</td>\n",
       "      <td>2350000</td>\n",
       "      <td>26.00</td>\n",
       "      <td>2018-06-26</td>\n",
       "      <td>0</td>\n",
       "      <td>2.64</td>\n",
       "      <td>25</td>\n",
       "      <td>17.00</td>\n",
       "      <td>4</td>\n",
       "      <td>False</td>\n",
       "      <td>...</td>\n",
       "      <td>nan</td>\n",
       "      <td>nan</td>\n",
       "      <td>207.00</td>\n",
       "      <td>90,384.62</td>\n",
       "      <td>1</td>\n",
       "      <td>6</td>\n",
       "      <td>2018</td>\n",
       "      <td>другой</td>\n",
       "      <td>0.65</td>\n",
       "      <td>0.19</td>\n",
       "    </tr>\n",
       "  </tbody>\n",
       "</table>\n",
       "<p>124 rows × 29 columns</p>\n",
       "</div>"
      ],
      "text/plain": [
       "       total_images  last_price  total_area first_day_exposition  rooms  \\\n",
       "144               1     2450000       27.00           2017-03-30      0   \n",
       "349               4     2320000       25.00           2017-09-27      0   \n",
       "508               0     3375000       34.40           2017-03-28      0   \n",
       "608               2     1850000       25.00           2019-02-20      0   \n",
       "716               5     1500000       17.00           2017-06-07      0   \n",
       "...             ...         ...         ...                  ...    ...   \n",
       "22877             2     4280000       28.00           2017-10-26      0   \n",
       "23210             7     3200000       26.00           2017-09-01      0   \n",
       "23554            15     3350000       26.00           2018-09-07      0   \n",
       "23592            10     1450000       29.00           2017-11-11      0   \n",
       "23637             8     2350000       26.00           2018-06-26      0   \n",
       "\n",
       "       ceiling_height  floors_total  living_area  floor  is_apartment  ...  \\\n",
       "144              2.64            24        15.50      2         False  ...   \n",
       "349              2.64            14        17.00      1         False  ...   \n",
       "508              2.64            26        24.30     19         False  ...   \n",
       "608              2.64            10        17.00      7         False  ...   \n",
       "716              2.70             9        12.00      1         False  ...   \n",
       "...               ...           ...          ...    ...           ...  ...   \n",
       "22877            2.70            19        18.00     10         False  ...   \n",
       "23210            2.64            25        18.00     16         False  ...   \n",
       "23554            2.64            19        17.38      8         False  ...   \n",
       "23592            2.64             9        18.00      8         False  ...   \n",
       "23637            2.64            25        17.00      4         False  ...   \n",
       "\n",
       "       ponds_around3000  ponds_nearest  days_exposition  price_per_sqmetr  \\\n",
       "144                 nan            nan           181.00         90,740.74   \n",
       "349                 nan            nan            45.00         92,800.00   \n",
       "508                1.00         593.00           430.00         98,110.47   \n",
       "608                 nan            nan            29.00         74,000.00   \n",
       "716                0.00            nan            40.00         88,235.29   \n",
       "...                 ...            ...              ...               ...   \n",
       "22877              1.00         415.00           151.00        152,857.14   \n",
       "23210              1.00         623.00            14.00        123,076.92   \n",
       "23554              2.00         112.00            31.00        128,846.15   \n",
       "23592               nan            nan            82.00         50,000.00   \n",
       "23637               nan            nan           207.00         90,384.62   \n",
       "\n",
       "      weekday_exposition  month_exposition  year_exposition  floor_group  \\\n",
       "144                    3                 3             2017       другой   \n",
       "349                    2                 9             2017       первый   \n",
       "508                    1                 3             2017       другой   \n",
       "608                    2                 2             2019       другой   \n",
       "716                    2                 6             2017       первый   \n",
       "...                  ...               ...              ...          ...   \n",
       "22877                  3                10             2017       другой   \n",
       "23210                  4                 9             2017       другой   \n",
       "23554                  4                 9             2018       другой   \n",
       "23592                  5                11             2017       другой   \n",
       "23637                  1                 6             2018       другой   \n",
       "\n",
       "       perc_living_area  perc_kitchen_area  \n",
       "144                0.57               0.20  \n",
       "349                0.68               0.20  \n",
       "508                0.71               0.25  \n",
       "608                0.68               0.20  \n",
       "716                0.71               0.18  \n",
       "...                 ...                ...  \n",
       "22877              0.64               0.21  \n",
       "23210              0.69               0.19  \n",
       "23554              0.67               0.19  \n",
       "23592              0.62               0.23  \n",
       "23637              0.65               0.19  \n",
       "\n",
       "[124 rows x 29 columns]"
      ]
     },
     "metadata": {},
     "output_type": "display_data"
    }
   ],
   "source": [
    "display(data_2[(data_2['rooms'] == 0) & (data_2['total_area'] < 35)])"
   ]
  },
  {
   "cell_type": "markdown",
   "metadata": {},
   "source": [
    "*Это 124 строк из 133, поэтому есть предложение заменим везде в этих строках 0 комнат на 1.Но посмотрим не поменяет ли это распеделение по комнатам в общей выборке*"
   ]
  },
  {
   "cell_type": "code",
   "execution_count": 65,
   "metadata": {},
   "outputs": [
    {
     "name": "stdout",
     "output_type": "stream",
     "text": [
      "2     7777\n",
      "1     7758\n",
      "3     5707\n",
      "4     1148\n",
      "5      305\n",
      "0      133\n",
      "6       95\n",
      "7       44\n",
      "8       11\n",
      "9        7\n",
      "10       3\n",
      "14       2\n",
      "11       2\n",
      "19       1\n",
      "16       1\n",
      "Name: rooms, dtype: int64\n"
     ]
    }
   ],
   "source": [
    "#Посмотрим на распредение данных по комнатам\n",
    "print(data_2['rooms'].value_counts())  \n",
    "# Как видим, прибавка в 9 строк (133-124), не удержит 2-комн.кв. на вершине в любом случае."
   ]
  },
  {
   "cell_type": "code",
   "execution_count": 66,
   "metadata": {},
   "outputs": [
    {
     "name": "stdout",
     "output_type": "stream",
     "text": [
      "1     7891\n",
      "2     7777\n",
      "3     5707\n",
      "4     1148\n",
      "5      305\n",
      "6       95\n",
      "7       44\n",
      "8       11\n",
      "9        7\n",
      "10       3\n",
      "14       2\n",
      "11       2\n",
      "19       1\n",
      "16       1\n",
      "Name: rooms, dtype: int64\n"
     ]
    },
    {
     "name": "stderr",
     "output_type": "stream",
     "text": [
      "/opt/conda/lib/python3.7/site-packages/ipykernel_launcher.py:2: SettingWithCopyWarning: \n",
      "A value is trying to be set on a copy of a slice from a DataFrame.\n",
      "Try using .loc[row_indexer,col_indexer] = value instead\n",
      "\n",
      "See the caveats in the documentation: http://pandas.pydata.org/pandas-docs/stable/user_guide/indexing.html#returning-a-view-versus-a-copy\n",
      "  \n"
     ]
    }
   ],
   "source": [
    "#Поэтому производим замену 0 комнат на 1\n",
    "data_2['rooms'] = data_2['rooms'].replace(0,1)\n",
    "print(data_2['rooms'].value_counts())"
   ]
  },
  {
   "cell_type": "markdown",
   "metadata": {},
   "source": [
    "*Теперь посмотрим на строки с числом комнат больше 11*"
   ]
  },
  {
   "cell_type": "code",
   "execution_count": 67,
   "metadata": {},
   "outputs": [
    {
     "data": {
      "text/html": [
       "<div>\n",
       "<style scoped>\n",
       "    .dataframe tbody tr th:only-of-type {\n",
       "        vertical-align: middle;\n",
       "    }\n",
       "\n",
       "    .dataframe tbody tr th {\n",
       "        vertical-align: top;\n",
       "    }\n",
       "\n",
       "    .dataframe thead th {\n",
       "        text-align: right;\n",
       "    }\n",
       "</style>\n",
       "<table border=\"1\" class=\"dataframe\">\n",
       "  <thead>\n",
       "    <tr style=\"text-align: right;\">\n",
       "      <th></th>\n",
       "      <th>total_images</th>\n",
       "      <th>last_price</th>\n",
       "      <th>total_area</th>\n",
       "      <th>first_day_exposition</th>\n",
       "      <th>rooms</th>\n",
       "      <th>ceiling_height</th>\n",
       "      <th>floors_total</th>\n",
       "      <th>living_area</th>\n",
       "      <th>floor</th>\n",
       "      <th>is_apartment</th>\n",
       "      <th>...</th>\n",
       "      <th>ponds_around3000</th>\n",
       "      <th>ponds_nearest</th>\n",
       "      <th>days_exposition</th>\n",
       "      <th>price_per_sqmetr</th>\n",
       "      <th>weekday_exposition</th>\n",
       "      <th>month_exposition</th>\n",
       "      <th>year_exposition</th>\n",
       "      <th>floor_group</th>\n",
       "      <th>perc_living_area</th>\n",
       "      <th>perc_kitchen_area</th>\n",
       "    </tr>\n",
       "  </thead>\n",
       "  <tbody>\n",
       "    <tr>\n",
       "      <td>866</td>\n",
       "      <td>5</td>\n",
       "      <td>25000000</td>\n",
       "      <td>363.00</td>\n",
       "      <td>2017-12-23</td>\n",
       "      <td>14</td>\n",
       "      <td>3.16</td>\n",
       "      <td>5</td>\n",
       "      <td>222.00</td>\n",
       "      <td>4</td>\n",
       "      <td>False</td>\n",
       "      <td>...</td>\n",
       "      <td>2.00</td>\n",
       "      <td>435.00</td>\n",
       "      <td>418.00</td>\n",
       "      <td>68,870.52</td>\n",
       "      <td>5</td>\n",
       "      <td>12</td>\n",
       "      <td>2017</td>\n",
       "      <td>другой</td>\n",
       "      <td>0.61</td>\n",
       "      <td>0.05</td>\n",
       "    </tr>\n",
       "    <tr>\n",
       "      <td>14498</td>\n",
       "      <td>6</td>\n",
       "      <td>32250000</td>\n",
       "      <td>374.60</td>\n",
       "      <td>2018-06-09</td>\n",
       "      <td>19</td>\n",
       "      <td>3.10</td>\n",
       "      <td>5</td>\n",
       "      <td>264.50</td>\n",
       "      <td>2</td>\n",
       "      <td>False</td>\n",
       "      <td>...</td>\n",
       "      <td>2.00</td>\n",
       "      <td>548.00</td>\n",
       "      <td>114.00</td>\n",
       "      <td>86,091.83</td>\n",
       "      <td>5</td>\n",
       "      <td>6</td>\n",
       "      <td>2018</td>\n",
       "      <td>другой</td>\n",
       "      <td>0.71</td>\n",
       "      <td>0.07</td>\n",
       "    </tr>\n",
       "    <tr>\n",
       "      <td>18848</td>\n",
       "      <td>6</td>\n",
       "      <td>28500000</td>\n",
       "      <td>270.00</td>\n",
       "      <td>2015-03-02</td>\n",
       "      <td>16</td>\n",
       "      <td>3.00</td>\n",
       "      <td>4</td>\n",
       "      <td>180.00</td>\n",
       "      <td>4</td>\n",
       "      <td>False</td>\n",
       "      <td>...</td>\n",
       "      <td>0.00</td>\n",
       "      <td>nan</td>\n",
       "      <td>1,365.00</td>\n",
       "      <td>105,555.56</td>\n",
       "      <td>0</td>\n",
       "      <td>3</td>\n",
       "      <td>2015</td>\n",
       "      <td>последний</td>\n",
       "      <td>0.67</td>\n",
       "      <td>0.05</td>\n",
       "    </tr>\n",
       "    <tr>\n",
       "      <td>20829</td>\n",
       "      <td>6</td>\n",
       "      <td>28659000</td>\n",
       "      <td>245.40</td>\n",
       "      <td>2016-03-31</td>\n",
       "      <td>14</td>\n",
       "      <td>3.10</td>\n",
       "      <td>4</td>\n",
       "      <td>168.30</td>\n",
       "      <td>2</td>\n",
       "      <td>False</td>\n",
       "      <td>...</td>\n",
       "      <td>2.00</td>\n",
       "      <td>118.00</td>\n",
       "      <td>95.00</td>\n",
       "      <td>116,784.84</td>\n",
       "      <td>3</td>\n",
       "      <td>3</td>\n",
       "      <td>2016</td>\n",
       "      <td>другой</td>\n",
       "      <td>0.69</td>\n",
       "      <td>0.11</td>\n",
       "    </tr>\n",
       "  </tbody>\n",
       "</table>\n",
       "<p>4 rows × 29 columns</p>\n",
       "</div>"
      ],
      "text/plain": [
       "       total_images  last_price  total_area first_day_exposition  rooms  \\\n",
       "866               5    25000000      363.00           2017-12-23     14   \n",
       "14498             6    32250000      374.60           2018-06-09     19   \n",
       "18848             6    28500000      270.00           2015-03-02     16   \n",
       "20829             6    28659000      245.40           2016-03-31     14   \n",
       "\n",
       "       ceiling_height  floors_total  living_area  floor  is_apartment  ...  \\\n",
       "866              3.16             5       222.00      4         False  ...   \n",
       "14498            3.10             5       264.50      2         False  ...   \n",
       "18848            3.00             4       180.00      4         False  ...   \n",
       "20829            3.10             4       168.30      2         False  ...   \n",
       "\n",
       "       ponds_around3000  ponds_nearest  days_exposition  price_per_sqmetr  \\\n",
       "866                2.00         435.00           418.00         68,870.52   \n",
       "14498              2.00         548.00           114.00         86,091.83   \n",
       "18848              0.00            nan         1,365.00        105,555.56   \n",
       "20829              2.00         118.00            95.00        116,784.84   \n",
       "\n",
       "      weekday_exposition  month_exposition  year_exposition  floor_group  \\\n",
       "866                    5                12             2017       другой   \n",
       "14498                  5                 6             2018       другой   \n",
       "18848                  0                 3             2015    последний   \n",
       "20829                  3                 3             2016       другой   \n",
       "\n",
       "       perc_living_area  perc_kitchen_area  \n",
       "866                0.61               0.05  \n",
       "14498              0.71               0.07  \n",
       "18848              0.67               0.05  \n",
       "20829              0.69               0.11  \n",
       "\n",
       "[4 rows x 29 columns]"
      ]
     },
     "metadata": {},
     "output_type": "display_data"
    }
   ],
   "source": [
    "display(data_2[(data_2['rooms'] > 11)])"
   ]
  },
  {
   "cell_type": "markdown",
   "metadata": {},
   "source": [
    "*Такие данные имеют право на существование. Оставляем*"
   ]
  },
  {
   "cell_type": "markdown",
   "metadata": {},
   "source": [
    "#### Высота потолков"
   ]
  },
  {
   "cell_type": "code",
   "execution_count": 68,
   "metadata": {},
   "outputs": [
    {
     "name": "stdout",
     "output_type": "stream",
     "text": [
      "count   22,994.00\n",
      "mean         2.70\n",
      "std          0.22\n",
      "min          2.00\n",
      "25%          2.60\n",
      "50%          2.64\n",
      "75%          2.70\n",
      "max          4.00\n",
      "Name: ceiling_height, dtype: float64\n"
     ]
    },
    {
     "data": {
      "text/plain": [
       "<function matplotlib.pyplot.show(*args, **kw)>"
      ]
     },
     "execution_count": 68,
     "metadata": {},
     "output_type": "execute_result"
    },
    {
     "data": {
      "image/png": "[encoded data removed]",
      "text/plain": [
       "<Figure size 432x288 with 1 Axes>"
      ]
     },
     "metadata": {
      "needs_background": "light"
     },
     "output_type": "display_data"
    }
   ],
   "source": [
    "print_hist(data_2,'ceiling_height',50,1,4,\"высота потолка\")"
   ]
  },
  {
   "cell_type": "markdown",
   "metadata": {},
   "source": [
    "*Высота потолков в СПб и Лен.обл. в среднем диапазоне 2.5-3м.*"
   ]
  },
  {
   "cell_type": "markdown",
   "metadata": {},
   "source": [
    "### Исследование времени продажи квартир"
   ]
  },
  {
   "cell_type": "markdown",
   "metadata": {},
   "source": [
    "*Вспоминаем, что у нас есть пропущенные значения в данном столбце, поэтому будем брать срез без них*"
   ]
  },
  {
   "cell_type": "markdown",
   "metadata": {},
   "source": [
    "*Построим гистограмму*"
   ]
  },
  {
   "cell_type": "code",
   "execution_count": 69,
   "metadata": {},
   "outputs": [
    {
     "data": {
      "text/plain": [
       "0"
      ]
     },
     "execution_count": 69,
     "metadata": {},
     "output_type": "execute_result"
    }
   ],
   "source": [
    "good_data_days_exp = data_2.query('days_exposition == days_exposition')\n",
    "good_data_days_exp['days_exposition'].isna().sum() #проверка"
   ]
  },
  {
   "cell_type": "code",
   "execution_count": 70,
   "metadata": {},
   "outputs": [
    {
     "name": "stdout",
     "output_type": "stream",
     "text": [
      "count   19,890.00\n",
      "mean       181.03\n",
      "std        219.66\n",
      "min          1.00\n",
      "25%         45.00\n",
      "50%         96.00\n",
      "75%        232.00\n",
      "max      1,580.00\n",
      "Name: days_exposition, dtype: float64\n"
     ]
    },
    {
     "data": {
      "text/plain": [
       "<function matplotlib.pyplot.show(*args, **kw)>"
      ]
     },
     "execution_count": 70,
     "metadata": {},
     "output_type": "execute_result"
    },
    {
     "data": {
      "image/png": "[encoded data removed]",
      "text/plain": [
       "<Figure size 432x288 with 1 Axes>"
      ]
     },
     "metadata": {
      "needs_background": "light"
     },
     "output_type": "display_data"
    }
   ],
   "source": [
    "print_hist(good_data_days_exp,'days_exposition',100,30,1000,\"срок размещения объявления\")"
   ]
  },
  {
   "cell_type": "markdown",
   "metadata": {},
   "source": [
    "*Основная часть пользователей продала квартиру в течение полугода.Но есть и те,у кого продажа квартиры заняла больше 3-х лет.*"
   ]
  },
  {
   "cell_type": "markdown",
   "metadata": {},
   "source": [
    "*Посмотрим на числовое описание этих данных.*"
   ]
  },
  {
   "cell_type": "code",
   "execution_count": 71,
   "metadata": {},
   "outputs": [
    {
     "name": "stdout",
     "output_type": "stream",
     "text": [
      "count   19,890.00\n",
      "mean       181.03\n",
      "std        219.66\n",
      "min          1.00\n",
      "25%         45.00\n",
      "50%         96.00\n",
      "75%        232.00\n",
      "max      1,580.00\n",
      "Name: days_exposition, dtype: float64\n"
     ]
    }
   ],
   "source": [
    "print(good_data_days_exp['days_exposition'].describe())"
   ]
  },
  {
   "cell_type": "markdown",
   "metadata": {},
   "source": [
    "*Исходя из числового описания, в среднем квартиры продают в течение 3 месяцев, быстрые продажи - в течение 45 дней, дольгие - больше 7 месяцев. Кроме этого из-за высокого стандартного отклонения можем сделать вывод о наличии выбросов в этих данных.*\n"
   ]
  },
  {
   "cell_type": "markdown",
   "metadata": {},
   "source": [
    "### Выборка для исследования"
   ]
  },
  {
   "cell_type": "markdown",
   "metadata": {},
   "source": [
    "На основании гистограмм и числового описания данных можем сделать вывод: большая часть квартир  продается в течение 200 дней.  А вот число объявлений, размещенных более 800 дней мало, очистим данные от таких значений."
   ]
  },
  {
   "cell_type": "code",
   "execution_count": 72,
   "metadata": {},
   "outputs": [],
   "source": [
    "data_3 = data_2.query('days_exposition < 800')"
   ]
  },
  {
   "cell_type": "markdown",
   "metadata": {},
   "source": [
    "*Посмотрим на долю объявлений, размещение которых было меньше недели.*"
   ]
  },
  {
   "cell_type": "code",
   "execution_count": 73,
   "metadata": {},
   "outputs": [
    {
     "name": "stdout",
     "output_type": "stream",
     "text": [
      "0.04249922352210374\n"
     ]
    }
   ],
   "source": [
    "print(len(data_3.query('days_exposition <= 7')) / len(data_3))  "
   ]
  },
  {
   "cell_type": "markdown",
   "metadata": {},
   "source": [
    "*Доля таких объявлений маленькая, их тоже уберем из нашей выборки.*"
   ]
  },
  {
   "cell_type": "code",
   "execution_count": 74,
   "metadata": {},
   "outputs": [],
   "source": [
    "data_filtered = data_3.query('days_exposition > 7')"
   ]
  },
  {
   "cell_type": "markdown",
   "metadata": {},
   "source": [
    "### Поиск зависимостей"
   ]
  },
  {
   "cell_type": "markdown",
   "metadata": {},
   "source": [
    "#### Цена и площадь"
   ]
  },
  {
   "cell_type": "code",
   "execution_count": 75,
   "metadata": {},
   "outputs": [],
   "source": [
    "#Напишем функцию для построения диаграммы рассеяния и коэффициента корреляции:\n",
    "def cor(df,column1,column2):\n",
    "    print('Коэффициент корреляции: ',df[column1].corr(df[column2]))\n",
    "    print('Диаграмма рассеяния:')\n",
    "    df.plot(x=column1, y=column2, kind='scatter')\n",
    "    return plt.show()"
   ]
  },
  {
   "cell_type": "code",
   "execution_count": 76,
   "metadata": {},
   "outputs": [
    {
     "name": "stdout",
     "output_type": "stream",
     "text": [
      "Коэффициент корреляции:  0.26436588996550864\n",
      "Диаграмма рассеяния:\n"
     ]
    },
    {
     "data": {
      "image/png": "[encoded data removed]",
      "text/plain": [
       "<Figure size 432x288 with 1 Axes>"
      ]
     },
     "metadata": {
      "needs_background": "light"
     },
     "output_type": "display_data"
    }
   ],
   "source": [
    "cor(data_filtered,'total_area','price_per_sqmetr')"
   ]
  },
  {
   "cell_type": "markdown",
   "metadata": {},
   "source": [
    "**Вывод:** Небольшой тренд на повышение цены за 1 кв.метр при увеличении общей площади есть. Есть предположение, что свою долю сюда вносят квартиры в центре и домики в курортной зоне."
   ]
  },
  {
   "cell_type": "markdown",
   "metadata": {},
   "source": [
    "#### Цена и число комнат"
   ]
  },
  {
   "cell_type": "markdown",
   "metadata": {},
   "source": [
    "*Исследуем связь между стоимостью и числом комнат*"
   ]
  },
  {
   "cell_type": "code",
   "execution_count": 77,
   "metadata": {},
   "outputs": [],
   "source": [
    "# Напишем функцию для расчета коэффициета корреляции, построения диаграммы рассеяния:\n",
    "def cor_diag(df,column1,column2):\n",
    "    df_stat = df.pivot_table(index=column1,values=column2,aggfunc=['median','count'])\n",
    "    df_stat.columns = ['median_price','count']\n",
    "    print('Коэффициент корреляции: ',df_stat['median_price'].corr(df_stat['count']))\n",
    "    print()\n",
    "    print('Диаграмма рассеяния:')\n",
    "    df.plot(x=column1, y=column2, kind='scatter')\n",
    "    return plt.show()"
   ]
  },
  {
   "cell_type": "code",
   "execution_count": 78,
   "metadata": {},
   "outputs": [
    {
     "name": "stdout",
     "output_type": "stream",
     "text": [
      "Коэффициент корреляции:  -0.7944641097496081\n"
     ]
    }
   ],
   "source": [
    "data_rooms_pivot = data_filtered.pivot_table(index='rooms',values='last_price',aggfunc=['median','count'])\n",
    "data_rooms_pivot.columns = ['median_price','count']\n",
    "print('Коэффициент корреляции: ',data_rooms_pivot['median_price'].corr(data_rooms_pivot['count']))"
   ]
  },
  {
   "cell_type": "code",
   "execution_count": 79,
   "metadata": {},
   "outputs": [
    {
     "name": "stdout",
     "output_type": "stream",
     "text": [
      "Коэффициент корреляции:  -0.7944641097496081\n",
      "\n",
      "Диаграмма рассеяния:\n"
     ]
    },
    {
     "data": {
      "image/png": "[encoded data removed]",
      "text/plain": [
       "<Figure size 432x288 with 1 Axes>"
      ]
     },
     "metadata": {
      "needs_background": "light"
     },
     "output_type": "display_data"
    }
   ],
   "source": [
    "cor_diag(data_filtered,'rooms','last_price')"
   ]
  },
  {
   "cell_type": "code",
   "execution_count": 80,
   "metadata": {
    "scrolled": false
   },
   "outputs": [
    {
     "name": "stdout",
     "output_type": "stream",
     "text": [
      "Коэффициент корреляции:  -0.0738416766979578\n",
      "\n",
      "Диаграмма рассеяния:\n"
     ]
    },
    {
     "data": {
      "image/png": "[encoded data removed]",
      "text/plain": [
       "<Figure size 432x288 with 1 Axes>"
      ]
     },
     "metadata": {
      "needs_background": "light"
     },
     "output_type": "display_data"
    }
   ],
   "source": [
    "#Теперь посмотрим на связь ежду числом комнат и ценой за один кв.метр\n",
    "cor_diag(data_filtered,'rooms','price_per_sqmetr')"
   ]
  },
  {
   "cell_type": "markdown",
   "metadata": {},
   "source": [
    "**Вывод:** интересный результат - при увеличении числа комнат в пределах 0-3 зависимость положительная, при большем числе комнат зависимость идет по нисходящей траектории."
   ]
  },
  {
   "cell_type": "markdown",
   "metadata": {},
   "source": [
    "#### Цена и удаленность от центра"
   ]
  },
  {
   "cell_type": "code",
   "execution_count": 81,
   "metadata": {},
   "outputs": [
    {
     "name": "stdout",
     "output_type": "stream",
     "text": [
      "Коэффициент корреляции:  -0.2521323019457898\n",
      "Диаграмма рассеяния:\n"
     ]
    },
    {
     "data": {
      "image/png": "[encoded data removed]",
      "text/plain": [
       "<Figure size 432x288 with 1 Axes>"
      ]
     },
     "metadata": {
      "needs_background": "light"
     },
     "output_type": "display_data"
    }
   ],
   "source": [
    "cor(data_filtered,'cityCenters_nearest','last_price')"
   ]
  },
  {
   "cell_type": "markdown",
   "metadata": {},
   "source": [
    "*Но в центре много квартрир с большой площадью, исключим факт влияния площади на цену, посмотрим на зависимость цены за кв.метр и расстояние до центра*"
   ]
  },
  {
   "cell_type": "code",
   "execution_count": 82,
   "metadata": {},
   "outputs": [
    {
     "name": "stdout",
     "output_type": "stream",
     "text": [
      "Коэффициент корреляции:  -0.3368889055030712\n",
      "Диаграмма рассеяния:\n"
     ]
    },
    {
     "data": {
      "image/png": "[encoded data removed]",
      "text/plain": [
       "<Figure size 432x288 with 1 Axes>"
      ]
     },
     "metadata": {
      "needs_background": "light"
     },
     "output_type": "display_data"
    }
   ],
   "source": [
    "cor(data_filtered,'cityCenters_nearest','price_per_sqmetr')"
   ]
  },
  {
   "cell_type": "markdown",
   "metadata": {},
   "source": [
    "*Вспомним, что у нас в данных по удаленности от центра было 23% пропущенных значений.Посмотрим на зависимость без них*"
   ]
  },
  {
   "cell_type": "code",
   "execution_count": 83,
   "metadata": {},
   "outputs": [
    {
     "name": "stdout",
     "output_type": "stream",
     "text": [
      "Коэффициент корреляции:  -0.3368889055030712\n",
      "Диаграмма рассеяния:\n"
     ]
    },
    {
     "data": {
      "image/png": "[encoded data removed]",
      "text/plain": [
       "<Figure size 432x288 with 1 Axes>"
      ]
     },
     "metadata": {
      "needs_background": "light"
     },
     "output_type": "display_data"
    }
   ],
   "source": [
    "good_city_data = data_filtered[data_filtered['cityCenters_nearest']==data_filtered['cityCenters_nearest']]\n",
    "cor(good_city_data,'cityCenters_nearest','price_per_sqmetr')"
   ]
  },
  {
   "cell_type": "markdown",
   "metadata": {},
   "source": [
    "*Разница получилась небольшая.*"
   ]
  },
  {
   "cell_type": "markdown",
   "metadata": {},
   "source": [
    "**Вывод:** очевидная закономерность: чем ближе к центру, тем дороже жилье, но как видим по диаграмме есть  выделяющаяся группа квартир (удаленностью в районе 50 км от центра), возможно это пригород, где стоимость квартир тоже не низкая."
   ]
  },
  {
   "cell_type": "markdown",
   "metadata": {},
   "source": [
    "#### Цена и этаж"
   ]
  },
  {
   "cell_type": "code",
   "execution_count": 84,
   "metadata": {},
   "outputs": [],
   "source": [
    "#Напишем функцию для создания сводной таблицы и расчета корреляции:\n",
    "def cor2(df,column1,column2):\n",
    "    df_stat = df.pivot_table(index=column1,values=column2,aggfunc=['median','count'])\n",
    "    df_stat.columns = ['median_price','count']\n",
    "    print(df_stat)\n",
    "    print()\n",
    "    print('Коэффициент корреляции: ',df_stat['median_price'].corr(df_stat['count']))"
   ]
  },
  {
   "cell_type": "code",
   "execution_count": 85,
   "metadata": {},
   "outputs": [
    {
     "name": "stdout",
     "output_type": "stream",
     "text": [
      "             median_price  count\n",
      "floor_group                     \n",
      "другой          96,721.31  13687\n",
      "первый          80,000.00   2267\n",
      "последний       86,792.45   2543\n",
      "\n",
      "Коэффициент корреляции:  0.923172432882883\n"
     ]
    }
   ],
   "source": [
    "#Найдем зависимость между этажём квартиры и ее стоимостью\n",
    "cor2(data_filtered,'floor_group','price_per_sqmetr')"
   ]
  },
  {
   "cell_type": "markdown",
   "metadata": {},
   "source": [
    "**Вывод:** зависимость определенно есть, дешевле всего - квартиры на первом этаже, далее по стоимости последний этаж, а все что между ними - стоит определенно дороже. "
   ]
  },
  {
   "cell_type": "markdown",
   "metadata": {},
   "source": [
    "#### Цена и время размещения"
   ]
  },
  {
   "cell_type": "markdown",
   "metadata": {},
   "source": [
    "##### День недели размещения объявления"
   ]
  },
  {
   "cell_type": "code",
   "execution_count": 86,
   "metadata": {},
   "outputs": [
    {
     "name": "stdout",
     "output_type": "stream",
     "text": [
      "                    median_price  count\n",
      "weekday_exposition                     \n",
      "0                      93,548.39   2780\n",
      "1                      93,626.93   3250\n",
      "2                      94,117.65   3073\n",
      "3                      94,092.03   3378\n",
      "4                      93,171.15   3202\n",
      "5                      92,575.42   1510\n",
      "6                      92,598.86   1304\n",
      "\n",
      "Коэффициент корреляции:  0.8610986431736154\n"
     ]
    }
   ],
   "source": [
    "cor2(data_filtered,'weekday_exposition','price_per_sqmetr')"
   ]
  },
  {
   "cell_type": "markdown",
   "metadata": {},
   "source": [
    "*Понедельник-день тяжелый, вторник-время действовать:)*"
   ]
  },
  {
   "cell_type": "markdown",
   "metadata": {},
   "source": [
    "**Вывод:** зависимость есть - тренд снижения цены на момент снятия объявления с публикации, если пользователь разместил объявление позднее вторника, а вторник для размещения объявления-самый удачный день."
   ]
  },
  {
   "cell_type": "markdown",
   "metadata": {},
   "source": [
    "##### Месяц размещения объявления"
   ]
  },
  {
   "cell_type": "code",
   "execution_count": 87,
   "metadata": {},
   "outputs": [
    {
     "name": "stdout",
     "output_type": "stream",
     "text": [
      "                  median_price  count\n",
      "month_exposition                     \n",
      "1                    94,551.28   1165\n",
      "2                    93,324.04   2108\n",
      "3                    94,117.65   1741\n",
      "4                    92,601.99   1340\n",
      "5                    92,167.66   1066\n",
      "6                    91,763.36   1540\n",
      "7                    93,783.78   1435\n",
      "8                    95,000.00   1476\n",
      "9                    95,505.62   1650\n",
      "10                   93,103.45   1727\n",
      "11                   94,285.71   1935\n",
      "12                   91,787.71   1314\n",
      "\n",
      "Коэффициент корреляции:  0.27458017486942526\n"
     ]
    }
   ],
   "source": [
    "cor2(data_filtered,'month_exposition','price_per_sqmetr')"
   ]
  },
  {
   "cell_type": "markdown",
   "metadata": {},
   "source": [
    "**Вывод:** явная зависимость не прослеживается или может она более более сложная, чем может показаться на первый взгляд."
   ]
  },
  {
   "cell_type": "markdown",
   "metadata": {},
   "source": [
    "##### Год размещения объявления"
   ]
  },
  {
   "cell_type": "code",
   "execution_count": 88,
   "metadata": {},
   "outputs": [
    {
     "name": "stdout",
     "output_type": "stream",
     "text": [
      "                 median_price  count\n",
      "year_exposition                     \n",
      "2014               105,797.10     49\n",
      "2015                91,489.36    735\n",
      "2016                91,222.49   2450\n",
      "2017                91,965.01   7446\n",
      "2018                95,000.00   6930\n",
      "2019               104,072.40    887\n",
      "\n",
      "Коэффициент корреляции:  -0.508873173201486\n"
     ]
    }
   ],
   "source": [
    "cor2(data_filtered,'year_exposition','price_per_sqmetr')"
   ]
  },
  {
   "cell_type": "code",
   "execution_count": 89,
   "metadata": {},
   "outputs": [
    {
     "name": "stdout",
     "output_type": "stream",
     "text": [
      "                 median_price  count\n",
      "year_exposition                     \n",
      "2016                91,222.49   2450\n",
      "2017                91,965.01   7446\n",
      "2018                95,000.00   6930\n",
      "2019               104,072.40    887\n",
      "\n",
      "Коэффициент корреляции:  -0.5863555103275847\n"
     ]
    }
   ],
   "source": [
    "#В 2014,2015 годах мало данных, посмотрим на зависимость без них:\n",
    "cor2(data_filtered.query('year_exposition not in (\"2014\",\"2015\")'),'year_exposition','price_per_sqmetr')"
   ]
  },
  {
   "cell_type": "markdown",
   "metadata": {},
   "source": [
    "**Вывод:** стоимость с каждым годом растет (количество объявлений в 2019 году можно обосновать тем, что выборку собирали в 2019 году, не все объявления 2019 года в нее попали)."
   ]
  },
  {
   "cell_type": "markdown",
   "metadata": {},
   "source": [
    "#### Стоимость жилья в населенных пунктах"
   ]
  },
  {
   "cell_type": "code",
   "execution_count": 90,
   "metadata": {},
   "outputs": [
    {
     "name": "stdout",
     "output_type": "stream",
     "text": [
      "                   median_price  count_flats\n",
      "locality_name                               \n",
      "Санкт-Петербург      102,725.81        12243\n",
      "посёлок Мурино        84,876.54          431\n",
      "посёлок Шушары        76,315.79          387\n",
      "Всеволожск            65,789.47          315\n",
      "Колпино               73,820.92          286\n",
      "Пушкин                97,625.33          275\n",
      "посёлок Парголово     90,465.23          274\n",
      "деревня Кудрово       91,569.77          265\n",
      "Гатчина               67,180.71          242\n",
      "Выборг                56,976.74          193\n"
     ]
    }
   ],
   "source": [
    "#Создадим сводную таблицу:\n",
    "locname_stat =\\\n",
    "data_filtered.pivot_table(index='locality_name',values='price_per_sqmetr',aggfunc=['median','count'])\n",
    "locname_stat.columns = ['median_price','count_flats']\n",
    "print(locname_stat.sort_values(by='count_flats',ascending=False).head(10))"
   ]
  },
  {
   "cell_type": "code",
   "execution_count": 91,
   "metadata": {},
   "outputs": [
    {
     "name": "stdout",
     "output_type": "stream",
     "text": [
      "                   median_price  count_flats\n",
      "locality_name                               \n",
      "Санкт-Петербург      102,725.81        12243\n",
      "Пушкин                97,625.33          275\n",
      "деревня Кудрово       91,569.77          265\n",
      "посёлок Парголово     90,465.23          274\n",
      "посёлок Мурино        84,876.54          431\n",
      "посёлок Шушары        76,315.79          387\n",
      "Колпино               73,820.92          286\n",
      "Гатчина               67,180.71          242\n",
      "Всеволожск            65,789.47          315\n",
      "Выборг                56,976.74          193\n"
     ]
    }
   ],
   "source": [
    "#Посмотрим кто из десятки лидирует по стоимости\n",
    "locname_stat_10 = locname_stat.sort_values(by='count_flats',ascending=False).head(10)\n",
    "print(locname_stat_10.sort_values(by='median_price',ascending=False))"
   ]
  },
  {
   "cell_type": "markdown",
   "metadata": {},
   "source": [
    "**Вывод:** больше всего объявлений о продаже и в среднем дороже всего квартиры в Санкт-Петербурге, далее - ближайший пригород, Выборг замыкает десятку по количеству объявлений, да и по стоимости тоже. "
   ]
  },
  {
   "cell_type": "markdown",
   "metadata": {},
   "source": [
    "#### Квартиры в центре Санкт-Петербурга"
   ]
  },
  {
   "cell_type": "code",
   "execution_count": 92,
   "metadata": {},
   "outputs": [],
   "source": [
    "#возьмём объявления только по Сантк-Петербургу:\n",
    "data_SPb = data_filtered.query('locality_name == \"Санкт-Петербург\"')"
   ]
  },
  {
   "cell_type": "code",
   "execution_count": 93,
   "metadata": {},
   "outputs": [
    {
     "name": "stdout",
     "output_type": "stream",
     "text": [
      "0.0016335865392469167\n"
     ]
    }
   ],
   "source": [
    "#Сосчитаем долю пропущенных значений в данных по расстоянию до центра:\n",
    "print(data_SPb['cityCenters_nearest'].isna().sum() / len(data_SPb))"
   ]
  },
  {
   "cell_type": "code",
   "execution_count": 94,
   "metadata": {},
   "outputs": [],
   "source": [
    "#Доля таких строк в нашей таблице очень мала, поэтому возьмем выборку без них:\n",
    "good_data_SPb = data_SPb.query('cityCenters_nearest == cityCenters_nearest')\n",
    "#print(good_data_SPb['cityCenters_nearest'].isna().sum())  #проверка"
   ]
  },
  {
   "cell_type": "code",
   "execution_count": 95,
   "metadata": {},
   "outputs": [],
   "source": [
    "#Создадим новый столбец с расстоянием до центра в км с округлением до целых:\n",
    "def in_km(item):\n",
    "    return  item / 1000"
   ]
  },
  {
   "cell_type": "code",
   "execution_count": 96,
   "metadata": {},
   "outputs": [
    {
     "name": "stderr",
     "output_type": "stream",
     "text": [
      "/opt/conda/lib/python3.7/site-packages/ipykernel_launcher.py:1: SettingWithCopyWarning: \n",
      "A value is trying to be set on a copy of a slice from a DataFrame.\n",
      "Try using .loc[row_indexer,col_indexer] = value instead\n",
      "\n",
      "See the caveats in the documentation: http://pandas.pydata.org/pandas-docs/stable/user_guide/indexing.html#returning-a-view-versus-a-copy\n",
      "  \"\"\"Entry point for launching an IPython kernel.\n"
     ]
    }
   ],
   "source": [
    "good_data_SPb['cityC_in_km'] = good_data_SPb['cityCenters_nearest'].apply(in_km).round(decimals=0).astype('int')"
   ]
  },
  {
   "cell_type": "code",
   "execution_count": 97,
   "metadata": {},
   "outputs": [],
   "source": [
    "#Создадим сводную таблицу с указанием средней цены в зависимости от удаленности от центра:\n",
    "SPb_stat = good_data_SPb.pivot_table(index='cityC_in_km',values='price_per_sqmetr',aggfunc='median')\n",
    "SPb_stat.columns = ['median_price']"
   ]
  },
  {
   "cell_type": "code",
   "execution_count": 98,
   "metadata": {},
   "outputs": [
    {
     "data": {
      "text/plain": [
       "<matplotlib.axes._subplots.AxesSubplot at 0x7fdb02c0cb90>"
      ]
     },
     "execution_count": 98,
     "metadata": {},
     "output_type": "execute_result"
    },
    {
     "data": {
      "image/png": "[encoded data removed]",
      "text/plain": [
       "<Figure size 720x576 with 1 Axes>"
      ]
     },
     "metadata": {
      "needs_background": "light"
     },
     "output_type": "display_data"
    }
   ],
   "source": [
    "#Построим график зависимости цены за 1 кв.м от расстояния до центра:\n",
    "SPb_stat.plot(grid=True,figsize=(10,8))"
   ]
  },
  {
   "cell_type": "markdown",
   "metadata": {},
   "source": [
    "*Всё, что в пределах 3 км примем за центральную зону* "
   ]
  },
  {
   "cell_type": "markdown",
   "metadata": {},
   "source": [
    "#### Квартиры в центре Санкт-Петербурга"
   ]
  },
  {
   "cell_type": "code",
   "execution_count": 99,
   "metadata": {},
   "outputs": [],
   "source": [
    "#выберем данные, относящиеся к центральной зоне:\n",
    "data_centr = good_data_SPb.query('cityC_in_km<=3')"
   ]
  },
  {
   "cell_type": "markdown",
   "metadata": {},
   "source": [
    "##### Площадь в центре"
   ]
  },
  {
   "cell_type": "code",
   "execution_count": 100,
   "metadata": {},
   "outputs": [
    {
     "name": "stdout",
     "output_type": "stream",
     "text": [
      "count   627.00\n",
      "mean     95.42\n",
      "std      50.19\n",
      "min      20.00\n",
      "25%      62.00\n",
      "50%      83.10\n",
      "75%     112.10\n",
      "max     364.00\n",
      "Name: total_area, dtype: float64\n"
     ]
    },
    {
     "data": {
      "text/plain": [
       "<function matplotlib.pyplot.show(*args, **kw)>"
      ]
     },
     "execution_count": 100,
     "metadata": {},
     "output_type": "execute_result"
    },
    {
     "data": {
      "image/png": "[encoded data removed]",
      "text/plain": [
       "<Figure size 432x288 with 1 Axes>"
      ]
     },
     "metadata": {
      "needs_background": "light"
     },
     "output_type": "display_data"
    }
   ],
   "source": [
    "#Построим гистограмму\n",
    "print_hist(data_centr,'total_area',20,0,350,\"общая площадь\")"
   ]
  },
  {
   "cell_type": "markdown",
   "metadata": {},
   "source": [
    "Гистограмма более плавная, чем по всем данным. В основном квартиры в центре с площадью боьше 50 кв.м, остальное можно списать на продажу комнат в коммуналках."
   ]
  },
  {
   "cell_type": "markdown",
   "metadata": {},
   "source": [
    "##### Цена за один квадратный метр в центре"
   ]
  },
  {
   "cell_type": "code",
   "execution_count": 101,
   "metadata": {},
   "outputs": [
    {
     "name": "stdout",
     "output_type": "stream",
     "text": [
      "count         627.00\n",
      "mean      140,885.01\n",
      "std       111,008.43\n",
      "min        28,919.63\n",
      "25%        95,120.66\n",
      "50%       114,000.00\n",
      "75%       143,297.16\n",
      "max     1,736,842.11\n",
      "Name: price_per_sqmetr, dtype: float64\n"
     ]
    },
    {
     "data": {
      "text/plain": [
       "<function matplotlib.pyplot.show(*args, **kw)>"
      ]
     },
     "execution_count": 101,
     "metadata": {},
     "output_type": "execute_result"
    },
    {
     "data": {
      "image/png": "[encoded data removed]",
      "text/plain": [
       "<Figure size 432x288 with 1 Axes>"
      ]
     },
     "metadata": {
      "needs_background": "light"
     },
     "output_type": "display_data"
    }
   ],
   "source": [
    "#Построим гистограмму\n",
    "print_hist(data_centr,'price_per_sqmetr',50,0,300000, \"цена за 1 кв.метр\")"
   ]
  },
  {
   "cell_type": "markdown",
   "metadata": {},
   "source": [
    "Цена за 1 кв.метр в центре в большинстве своем выше, чем по всей выборке."
   ]
  },
  {
   "cell_type": "markdown",
   "metadata": {},
   "source": [
    "##### Число комнат в центре"
   ]
  },
  {
   "cell_type": "code",
   "execution_count": 102,
   "metadata": {},
   "outputs": [
    {
     "name": "stdout",
     "output_type": "stream",
     "text": [
      "count   627.00\n",
      "mean      3.09\n",
      "std       1.40\n",
      "min       1.00\n",
      "25%       2.00\n",
      "50%       3.00\n",
      "75%       4.00\n",
      "max      14.00\n",
      "Name: rooms, dtype: float64\n"
     ]
    },
    {
     "data": {
      "text/plain": [
       "<function matplotlib.pyplot.show(*args, **kw)>"
      ]
     },
     "execution_count": 102,
     "metadata": {},
     "output_type": "execute_result"
    },
    {
     "data": {
      "image/png": "[encoded data removed]",
      "text/plain": [
       "<Figure size 432x288 with 1 Axes>"
      ]
     },
     "metadata": {
      "needs_background": "light"
     },
     "output_type": "display_data"
    }
   ],
   "source": [
    "print_hist(data_centr,'rooms',20,0,10,\"число комнат\")"
   ]
  },
  {
   "cell_type": "markdown",
   "metadata": {},
   "source": [
    "*В отличие от всех данных, в центре мало однокомнатных квартир в продаже, зато больше квартир с числом комнат больше трёх.*"
   ]
  },
  {
   "cell_type": "markdown",
   "metadata": {},
   "source": [
    "##### Высота потолков в центре"
   ]
  },
  {
   "cell_type": "code",
   "execution_count": 103,
   "metadata": {},
   "outputs": [
    {
     "name": "stdout",
     "output_type": "stream",
     "text": [
      "count   627.00\n",
      "mean      3.15\n",
      "std       0.27\n",
      "min       2.50\n",
      "25%       3.00\n",
      "50%       3.10\n",
      "75%       3.30\n",
      "max       4.00\n",
      "Name: ceiling_height, dtype: float64\n"
     ]
    },
    {
     "data": {
      "text/plain": [
       "<function matplotlib.pyplot.show(*args, **kw)>"
      ]
     },
     "execution_count": 103,
     "metadata": {},
     "output_type": "execute_result"
    },
    {
     "data": {
      "image/png": "[encoded data removed]",
      "text/plain": [
       "<Figure size 432x288 with 1 Axes>"
      ]
     },
     "metadata": {
      "needs_background": "light"
     },
     "output_type": "display_data"
    }
   ],
   "source": [
    "print_hist(data_centr,'ceiling_height',50,1,4,\"высота потолка\")"
   ]
  },
  {
   "cell_type": "markdown",
   "metadata": {},
   "source": [
    "*Как видим, квартир с высокими потолками в центре значительно больше.*"
   ]
  },
  {
   "cell_type": "markdown",
   "metadata": {},
   "source": [
    "##### Цена и число комнат"
   ]
  },
  {
   "cell_type": "code",
   "execution_count": 104,
   "metadata": {},
   "outputs": [
    {
     "name": "stdout",
     "output_type": "stream",
     "text": [
      "Коэффициент корреляции:  -0.7318786262915686\n",
      "\n",
      "Диаграмма рассеяния:\n"
     ]
    },
    {
     "data": {
      "image/png": "[encoded data removed]",
      "text/plain": [
       "<Figure size 432x288 with 1 Axes>"
      ]
     },
     "metadata": {
      "needs_background": "light"
     },
     "output_type": "display_data"
    }
   ],
   "source": [
    "#Теперь посмотри на связь ежду числом комнат и ценой за один кв.метр\n",
    "cor_diag(data_centr,'rooms','last_price')"
   ]
  },
  {
   "cell_type": "code",
   "execution_count": 105,
   "metadata": {},
   "outputs": [
    {
     "name": "stdout",
     "output_type": "stream",
     "text": [
      "Коэффициент корреляции:  0.06376007708676763\n",
      "\n",
      "Диаграмма рассеяния:\n"
     ]
    },
    {
     "data": {
      "image/png": "[encoded data removed]",
      "text/plain": [
       "<Figure size 432x288 with 1 Axes>"
      ]
     },
     "metadata": {
      "needs_background": "light"
     },
     "output_type": "display_data"
    }
   ],
   "source": [
    "cor_diag(data_centr,'rooms','price_per_sqmetr')"
   ]
  },
  {
   "cell_type": "markdown",
   "metadata": {},
   "source": [
    "*Напишем функцию для сравнения графиков*"
   ]
  },
  {
   "cell_type": "code",
   "execution_count": 106,
   "metadata": {},
   "outputs": [],
   "source": [
    "def comp_diag(df, df1,column1,column2,kind):\n",
    "    df_stat = df.pivot_table(index=column1,values=column2,aggfunc=['median','count'])\n",
    "    df_stat.columns = ['median_price','count']\n",
    "    \n",
    "    df1_stat = df1.pivot_table(index=column1,values=column2,aggfunc=['median','count'])\n",
    "    df1_stat.columns = ['median_price','count']\n",
    "    \n",
    "    ax = df1.plot(\n",
    "    kind=kind,\n",
    "    x=column1,\n",
    "    y=column2,\n",
    "    linewidth=5,\n",
    "    alpha=0.7,\n",
    "    label='raw',\n",
    "    color='red'\n",
    "    )\n",
    "    df1.plot(\n",
    "    kind=kind,\n",
    "    x=column1,\n",
    "    y=column2,\n",
    "    linewidth=5,\n",
    "    alpha=0.5,\n",
    "    label='filtered',\n",
    "    ax=ax,\n",
    "    grid=True,\n",
    "    legend=True,\n",
    "    color='black'\n",
    "    ) "
   ]
  },
  {
   "cell_type": "code",
   "execution_count": 107,
   "metadata": {},
   "outputs": [
    {
     "data": {
      "image/png": "[encoded data removed]",
      "text/plain": [
       "<Figure size 432x288 with 1 Axes>"
      ]
     },
     "metadata": {
      "needs_background": "light"
     },
     "output_type": "display_data"
    }
   ],
   "source": [
    "comp_diag(data_filtered,data_centr,'rooms','price_per_sqmetr','scatter')"
   ]
  },
  {
   "cell_type": "markdown",
   "metadata": {},
   "source": [
    "**Вывод:** В центре у цены за 1 кв.метр нет явной зависимости от числа комнат. "
   ]
  },
  {
   "cell_type": "markdown",
   "metadata": {},
   "source": [
    "##### Цена и этаж"
   ]
  },
  {
   "cell_type": "code",
   "execution_count": 108,
   "metadata": {},
   "outputs": [
    {
     "name": "stdout",
     "output_type": "stream",
     "text": [
      "             median_price  count\n",
      "floor_group                     \n",
      "другой         117,244.90    383\n",
      "первый         103,595.21     91\n",
      "последний      113,253.01    153\n",
      "\n",
      "Коэффициент корреляции:  0.849412375954415\n"
     ]
    }
   ],
   "source": [
    "#Найдем зависимость между этажём квартиры и ее стоимостью\n",
    "cor2(data_centr,'floor_group','price_per_sqmetr')"
   ]
  },
  {
   "cell_type": "markdown",
   "metadata": {},
   "source": [
    "**Вывод:** Аналогично данным в общей выборке стоимость 1 кв.метра на первом этаже - наименьшая, затем идет стоимость 1 кв.метра на последнем этаже, все остальные этажи оценены дороже."
   ]
  },
  {
   "cell_type": "markdown",
   "metadata": {},
   "source": [
    "##### Цена и удаленность от центра"
   ]
  },
  {
   "cell_type": "code",
   "execution_count": 109,
   "metadata": {},
   "outputs": [
    {
     "name": "stdout",
     "output_type": "stream",
     "text": [
      "Коэффициент корреляции:  -0.16509708410308147\n",
      "Диаграмма рассеяния:\n"
     ]
    },
    {
     "data": {
      "image/png": "[encoded data removed]",
      "text/plain": [
       "<Figure size 432x288 with 1 Axes>"
      ]
     },
     "metadata": {
      "needs_background": "light"
     },
     "output_type": "display_data"
    }
   ],
   "source": [
    "cor(data_centr,'cityCenters_nearest','price_per_sqmetr')"
   ]
  },
  {
   "cell_type": "markdown",
   "metadata": {},
   "source": [
    "**Вывод:** В отличие от общей выборки в центральной зоне зависимости от расстояния до центра нет."
   ]
  },
  {
   "cell_type": "markdown",
   "metadata": {},
   "source": [
    "##### Цена и дата размещения объявления"
   ]
  },
  {
   "cell_type": "markdown",
   "metadata": {},
   "source": [
    "###### Зависимость цены от дня недели размещения объявления"
   ]
  },
  {
   "cell_type": "code",
   "execution_count": 110,
   "metadata": {},
   "outputs": [
    {
     "name": "stdout",
     "output_type": "stream",
     "text": [
      "                    median_price  count\n",
      "weekday_exposition                     \n",
      "0                     118,295.76     86\n",
      "1                     110,255.12     90\n",
      "2                     114,545.45    105\n",
      "3                     110,319.15    146\n",
      "4                     117,647.06    115\n",
      "5                     120,568.08     44\n",
      "6                     101,098.90     41\n",
      "\n",
      "Коэффициент корреляции:  0.13559710676121386\n"
     ]
    }
   ],
   "source": [
    "cor2(data_centr,'weekday_exposition','price_per_sqmetr')"
   ]
  },
  {
   "cell_type": "markdown",
   "metadata": {},
   "source": [
    "**Вывод:** В отличие от общей выборки, вторник для центра-самое неудачное время размещения объявления, а вот воскресенье-самое время."
   ]
  },
  {
   "cell_type": "markdown",
   "metadata": {},
   "source": [
    "###### Зависимость цены от месяца размещения объявления"
   ]
  },
  {
   "cell_type": "code",
   "execution_count": 111,
   "metadata": {},
   "outputs": [
    {
     "name": "stdout",
     "output_type": "stream",
     "text": [
      "                  median_price  count\n",
      "month_exposition                     \n",
      "1                   113,416.32     41\n",
      "2                   112,172.16     72\n",
      "3                   116,574.24     46\n",
      "4                   104,761.39     46\n",
      "5                   107,799.22     42\n",
      "6                   114,545.45     35\n",
      "7                   110,229.98     61\n",
      "8                   112,000.00     43\n",
      "9                   116,054.16     63\n",
      "10                  127,207.26     50\n",
      "11                  111,007.46     75\n",
      "12                  120,578.78     53\n",
      "\n",
      "Коэффициент корреляции:  -0.022886046507259828\n"
     ]
    }
   ],
   "source": [
    "cor2(data_centr,'month_exposition','price_per_sqmetr')"
   ]
  },
  {
   "cell_type": "markdown",
   "metadata": {},
   "source": [
    "**Вывод:** Как и в общей выборке зависимости цены от месяца размещения объявления нет."
   ]
  },
  {
   "cell_type": "markdown",
   "metadata": {},
   "source": [
    "###### Зависимость цены от года размещения объявления"
   ]
  },
  {
   "cell_type": "code",
   "execution_count": 112,
   "metadata": {},
   "outputs": [
    {
     "name": "stdout",
     "output_type": "stream",
     "text": [
      "                 median_price  count\n",
      "year_exposition                     \n",
      "2014               198,644.07      4\n",
      "2015               109,737.24     56\n",
      "2016               103,337.01     92\n",
      "2017               112,639.59    275\n",
      "2018               119,845.36    177\n",
      "2019               123,622.05     23\n",
      "\n",
      "Коэффициент корреляции:  -0.4785065547401718\n"
     ]
    }
   ],
   "source": [
    "cor2(data_centr,'year_exposition','price_per_sqmetr')"
   ]
  },
  {
   "cell_type": "code",
   "execution_count": 113,
   "metadata": {},
   "outputs": [
    {
     "name": "stdout",
     "output_type": "stream",
     "text": [
      "                 median_price  count\n",
      "year_exposition                     \n",
      "2016               103,337.01     92\n",
      "2017               112,639.59    275\n",
      "2018               119,845.36    177\n",
      "2019               123,622.05     23\n",
      "\n",
      "Коэффициент корреляции:  -0.20129298695799053\n"
     ]
    }
   ],
   "source": [
    "#В 2014,2015 годах мало данных, посмотрим на зависимость без них:\n",
    "cor2(data_centr.query('year_exposition not in (\"2014\",\"2015\")'),'year_exposition','price_per_sqmetr')"
   ]
  },
  {
   "cell_type": "markdown",
   "metadata": {},
   "source": [
    "**Вывод:** Cтоимость с каждым годом растет (количество объявлений в 2019 году можно обосновать тем, что выборку собирали в 2019 году, не все объявления 2019 года в нее попали)."
   ]
  },
  {
   "cell_type": "markdown",
   "metadata": {},
   "source": [
    "##### Вывод:"
   ]
  },
  {
   "cell_type": "markdown",
   "metadata": {},
   "source": [
    "1. В центре у цены за 1 кв.метр нет явной зависимости от числа комнат. \n",
    "2. Аналогично данным в общей выборке стоимость 1 кв.метра на первом этаже - наименьшая, затем идет стоимость 1 кв.метра на последнем этаже, все остальные этажи оценены дороже.\n",
    "3. В отличие от общей выборки в центральной зоне зависимости от расстояния до центра нет.\n",
    "4. Для центра стоимость метра с каждым годом растет. Объявления, размещенные в воскресенье, - самые удачные. А вот месяц размещения объявления не играет большой роли."
   ]
  },
  {
   "cell_type": "markdown",
   "metadata": {},
   "source": [
    "## Общий вывод"
   ]
  },
  {
   "cell_type": "markdown",
   "metadata": {},
   "source": [
    "1. Стоимость 1 кв.метра жилья дороже всего в Санкт-Петербурге, затем идет ближайший пригород, потом Лен.область.\n",
    "2. При приближении к центру города стоимость квадратного метра увеличивается, а в вот в самом центре явной зависимости стоимости от расстояния нет.\n",
    "3. Лучший день для размещения объявления в центре -  воскресенье, а вот для остальных районов - вторник.\n",
    "4. С каждым годом стоимость жилья растёт, для всех, увы...\n",
    "5. Стоимость кв.метра увеличивается при увеличении числа комнат с 0 до 3, а затем зависимость отрицательная, для всех.\n",
    "6. Самая явная зависимость для всех: стоимость 1 кв. метра на первом этаже - самая низкая, люди ценят больше квартиры не на первом и не на последнем этаже."
   ]
  }
 ],
 "metadata": {
  "ExecuteTimeLog": [
   {
    "duration": 816,
    "start_time": "2021-08-03T18:35:34.365Z"
   },
   {
    "duration": 19,
    "start_time": "2021-08-03T18:35:52.043Z"
   },
   {
    "duration": 73,
    "start_time": "2021-08-03T18:37:19.277Z"
   },
   {
    "duration": 74,
    "start_time": "2021-08-03T18:37:23.078Z"
   },
   {
    "duration": 12,
    "start_time": "2021-08-03T18:37:24.407Z"
   },
   {
    "duration": 343,
    "start_time": "2021-08-03T18:37:31.918Z"
   },
   {
    "duration": 86,
    "start_time": "2021-08-03T18:37:44.975Z"
   },
   {
    "duration": 37,
    "start_time": "2021-08-03T18:37:46.959Z"
   },
   {
    "duration": 17,
    "start_time": "2021-08-03T18:42:55.517Z"
   },
   {
    "duration": 84,
    "start_time": "2021-08-03T19:19:52.319Z"
   },
   {
    "duration": 848,
    "start_time": "2021-08-04T16:32:14.653Z"
   },
   {
    "duration": 52,
    "start_time": "2021-08-04T16:32:36.494Z"
   },
   {
    "duration": 16,
    "start_time": "2021-08-04T16:32:56.821Z"
   },
   {
    "duration": 22,
    "start_time": "2021-08-04T16:34:25.992Z"
   },
   {
    "duration": 473,
    "start_time": "2021-08-04T16:39:56.032Z"
   },
   {
    "duration": 1334,
    "start_time": "2021-08-04T16:40:16.297Z"
   },
   {
    "duration": 35,
    "start_time": "2021-08-04T16:40:36.326Z"
   },
   {
    "duration": 119,
    "start_time": "2021-08-04T16:41:15.268Z"
   },
   {
    "duration": 17,
    "start_time": "2021-08-04T16:41:24.367Z"
   },
   {
    "duration": 75,
    "start_time": "2021-08-04T17:31:08.486Z"
   },
   {
    "duration": 75,
    "start_time": "2021-08-04T17:32:52.616Z"
   },
   {
    "duration": 60,
    "start_time": "2021-08-04T17:33:34.700Z"
   },
   {
    "duration": 31,
    "start_time": "2021-08-04T17:52:01.628Z"
   },
   {
    "duration": 11,
    "start_time": "2021-08-04T17:52:44.524Z"
   },
   {
    "duration": 4902,
    "start_time": "2021-08-04T17:55:23.137Z"
   },
   {
    "duration": 4667,
    "start_time": "2021-08-04T17:56:34.835Z"
   },
   {
    "duration": 8,
    "start_time": "2021-08-04T17:57:04.556Z"
   },
   {
    "duration": 13,
    "start_time": "2021-08-04T18:04:08.342Z"
   },
   {
    "duration": 12,
    "start_time": "2021-08-04T18:04:43.000Z"
   },
   {
    "duration": 12,
    "start_time": "2021-08-04T18:05:10.239Z"
   },
   {
    "duration": 11,
    "start_time": "2021-08-04T18:06:15.762Z"
   },
   {
    "duration": 12,
    "start_time": "2021-08-04T18:06:32.633Z"
   },
   {
    "duration": 12,
    "start_time": "2021-08-04T18:07:22.351Z"
   },
   {
    "duration": 20,
    "start_time": "2021-08-04T18:08:00.751Z"
   },
   {
    "duration": 13,
    "start_time": "2021-08-04T18:08:14.349Z"
   },
   {
    "duration": 18,
    "start_time": "2021-08-04T18:11:00.059Z"
   },
   {
    "duration": 9,
    "start_time": "2021-08-04T18:17:48.030Z"
   },
   {
    "duration": 13,
    "start_time": "2021-08-04T18:20:18.227Z"
   },
   {
    "duration": 11,
    "start_time": "2021-08-04T18:21:56.932Z"
   },
   {
    "duration": 12,
    "start_time": "2021-08-04T18:23:40.133Z"
   },
   {
    "duration": 17,
    "start_time": "2021-08-04T18:26:06.377Z"
   },
   {
    "duration": 1231,
    "start_time": "2021-08-04T18:35:13.640Z"
   },
   {
    "duration": 11,
    "start_time": "2021-08-04T18:35:16.960Z"
   },
   {
    "duration": 436,
    "start_time": "2021-08-04T18:36:55.603Z"
   },
   {
    "duration": 11,
    "start_time": "2021-08-04T18:37:06.747Z"
   },
   {
    "duration": 358,
    "start_time": "2021-08-04T18:38:55.117Z"
   },
   {
    "duration": 12,
    "start_time": "2021-08-04T18:39:04.350Z"
   },
   {
    "duration": 7,
    "start_time": "2021-08-04T18:42:08.795Z"
   },
   {
    "duration": 6,
    "start_time": "2021-08-04T18:49:09.318Z"
   },
   {
    "duration": 10,
    "start_time": "2021-08-04T18:50:30.712Z"
   },
   {
    "duration": 16,
    "start_time": "2021-08-04T18:50:43.800Z"
   },
   {
    "duration": 1264,
    "start_time": "2021-08-04T18:52:20.084Z"
   },
   {
    "duration": 5,
    "start_time": "2021-08-04T18:52:41.352Z"
   },
   {
    "duration": 17,
    "start_time": "2021-08-04T18:52:43.099Z"
   },
   {
    "duration": 99,
    "start_time": "2021-08-04T18:52:45.739Z"
   },
   {
    "duration": 6,
    "start_time": "2021-08-04T18:53:41.659Z"
   },
   {
    "duration": 80,
    "start_time": "2021-08-04T18:54:10.493Z"
   },
   {
    "duration": 14,
    "start_time": "2021-08-04T19:11:56.748Z"
   },
   {
    "duration": 138,
    "start_time": "2021-08-04T19:24:49.743Z"
   },
   {
    "duration": 10,
    "start_time": "2021-08-04T19:27:24.196Z"
   },
   {
    "duration": 20,
    "start_time": "2021-08-04T19:27:52.796Z"
   },
   {
    "duration": 84,
    "start_time": "2021-08-04T19:29:06.487Z"
   },
   {
    "duration": 82,
    "start_time": "2021-08-04T19:29:18.526Z"
   },
   {
    "duration": 147,
    "start_time": "2021-08-04T19:29:50.574Z"
   },
   {
    "duration": 77,
    "start_time": "2021-08-04T19:30:23.070Z"
   },
   {
    "duration": 5,
    "start_time": "2021-08-04T19:31:30.753Z"
   },
   {
    "duration": 150,
    "start_time": "2021-08-04T19:31:31.849Z"
   },
   {
    "duration": 82,
    "start_time": "2021-08-04T19:31:43.764Z"
   },
   {
    "duration": 81,
    "start_time": "2021-08-04T19:31:49.489Z"
   },
   {
    "duration": 10,
    "start_time": "2021-08-04T19:33:04.667Z"
   },
   {
    "duration": 14,
    "start_time": "2021-08-04T19:33:45.198Z"
   },
   {
    "duration": 11,
    "start_time": "2021-08-04T19:34:21.141Z"
   },
   {
    "duration": 11,
    "start_time": "2021-08-04T19:38:11.867Z"
   },
   {
    "duration": 5,
    "start_time": "2021-08-04T19:38:20.979Z"
   },
   {
    "duration": 12,
    "start_time": "2021-08-04T19:38:32.311Z"
   },
   {
    "duration": 8,
    "start_time": "2021-08-04T19:38:51.918Z"
   },
   {
    "duration": 8,
    "start_time": "2021-08-04T19:39:20.949Z"
   },
   {
    "duration": 11,
    "start_time": "2021-08-04T19:40:59.658Z"
   },
   {
    "duration": 92,
    "start_time": "2021-08-04T19:53:16.980Z"
   },
   {
    "duration": 42,
    "start_time": "2021-08-04T19:53:31.565Z"
   },
   {
    "duration": 16,
    "start_time": "2021-08-04T19:53:34.532Z"
   },
   {
    "duration": 634,
    "start_time": "2021-08-04T19:56:07.680Z"
   },
   {
    "duration": 13,
    "start_time": "2021-08-04T19:56:25.144Z"
   },
   {
    "duration": 19,
    "start_time": "2021-08-04T19:56:28.560Z"
   },
   {
    "duration": 13,
    "start_time": "2021-08-04T19:56:47.595Z"
   },
   {
    "duration": 5,
    "start_time": "2021-08-04T19:56:55.177Z"
   },
   {
    "duration": 81,
    "start_time": "2021-08-04T19:56:57.114Z"
   },
   {
    "duration": 88,
    "start_time": "2021-08-04T19:56:59.041Z"
   },
   {
    "duration": 10,
    "start_time": "2021-08-04T19:57:00.213Z"
   },
   {
    "duration": 9,
    "start_time": "2021-08-04T19:57:02.553Z"
   },
   {
    "duration": 39,
    "start_time": "2021-08-04T19:57:04.393Z"
   },
   {
    "duration": 39,
    "start_time": "2021-08-04T19:57:50.811Z"
   },
   {
    "duration": 139,
    "start_time": "2021-08-04T20:05:06.584Z"
   },
   {
    "duration": 90,
    "start_time": "2021-08-04T20:05:29.568Z"
   },
   {
    "duration": 90,
    "start_time": "2021-08-04T20:06:11.488Z"
   },
   {
    "duration": 73,
    "start_time": "2021-08-04T20:06:26.018Z"
   },
   {
    "duration": 22,
    "start_time": "2021-08-04T20:06:53.593Z"
   },
   {
    "duration": 12,
    "start_time": "2021-08-04T20:19:12.341Z"
   },
   {
    "duration": 17,
    "start_time": "2021-08-04T20:20:30.503Z"
   },
   {
    "duration": 8,
    "start_time": "2021-08-04T20:27:55.506Z"
   },
   {
    "duration": 11,
    "start_time": "2021-08-04T20:28:17.739Z"
   },
   {
    "duration": 2557,
    "start_time": "2021-08-04T20:32:25.003Z"
   },
   {
    "duration": 1028,
    "start_time": "2021-08-04T20:35:08.134Z"
   },
   {
    "duration": 12,
    "start_time": "2021-08-04T20:35:20.007Z"
   },
   {
    "duration": 10,
    "start_time": "2021-08-04T20:35:44.961Z"
   },
   {
    "duration": 9,
    "start_time": "2021-08-04T20:36:19.985Z"
   },
   {
    "duration": 9,
    "start_time": "2021-08-04T20:36:49.689Z"
   },
   {
    "duration": 88,
    "start_time": "2021-08-04T20:41:26.992Z"
   },
   {
    "duration": 7,
    "start_time": "2021-08-04T20:42:14.761Z"
   },
   {
    "duration": 9,
    "start_time": "2021-08-04T20:42:43.594Z"
   },
   {
    "duration": 35,
    "start_time": "2021-08-04T20:42:52.641Z"
   },
   {
    "duration": 10,
    "start_time": "2021-08-04T20:44:24.501Z"
   },
   {
    "duration": 10,
    "start_time": "2021-08-04T20:45:48.728Z"
   },
   {
    "duration": 3,
    "start_time": "2021-08-04T20:45:54.487Z"
   },
   {
    "duration": 4,
    "start_time": "2021-08-04T20:45:55.727Z"
   },
   {
    "duration": 10,
    "start_time": "2021-08-04T20:45:56.600Z"
   },
   {
    "duration": 75,
    "start_time": "2021-08-04T20:46:08.729Z"
   },
   {
    "duration": 4,
    "start_time": "2021-08-04T20:46:11.247Z"
   },
   {
    "duration": 3,
    "start_time": "2021-08-04T20:46:13.159Z"
   },
   {
    "duration": 9,
    "start_time": "2021-08-04T20:46:14.136Z"
   },
   {
    "duration": 87,
    "start_time": "2021-08-04T20:46:37.151Z"
   },
   {
    "duration": 38,
    "start_time": "2021-08-04T20:46:37.241Z"
   },
   {
    "duration": 14,
    "start_time": "2021-08-04T20:46:37.302Z"
   },
   {
    "duration": 18,
    "start_time": "2021-08-04T20:46:37.319Z"
   },
   {
    "duration": 17,
    "start_time": "2021-08-04T20:46:37.340Z"
   },
   {
    "duration": 8,
    "start_time": "2021-08-04T20:46:37.359Z"
   },
   {
    "duration": 6,
    "start_time": "2021-08-04T20:46:37.401Z"
   },
   {
    "duration": 80,
    "start_time": "2021-08-04T20:46:37.410Z"
   },
   {
    "duration": 74,
    "start_time": "2021-08-04T20:46:37.501Z"
   },
   {
    "duration": 29,
    "start_time": "2021-08-04T20:46:37.577Z"
   },
   {
    "duration": 16,
    "start_time": "2021-08-04T20:46:37.608Z"
   },
   {
    "duration": 96,
    "start_time": "2021-08-04T20:46:37.627Z"
   },
   {
    "duration": 3,
    "start_time": "2021-08-04T20:46:37.725Z"
   },
   {
    "duration": 14,
    "start_time": "2021-08-04T20:46:37.731Z"
   },
   {
    "duration": 28,
    "start_time": "2021-08-04T20:46:37.747Z"
   },
   {
    "duration": 43,
    "start_time": "2021-08-04T20:46:37.778Z"
   },
   {
    "duration": 366,
    "start_time": "2021-08-05T04:52:09.178Z"
   },
   {
    "duration": 812,
    "start_time": "2021-08-05T04:52:27.495Z"
   },
   {
    "duration": 54,
    "start_time": "2021-08-05T04:52:29.794Z"
   },
   {
    "duration": 17,
    "start_time": "2021-08-05T04:52:32.118Z"
   },
   {
    "duration": 15,
    "start_time": "2021-08-05T04:52:40.055Z"
   },
   {
    "duration": 21,
    "start_time": "2021-08-05T04:52:40.824Z"
   },
   {
    "duration": 8,
    "start_time": "2021-08-05T04:52:44.961Z"
   },
   {
    "duration": 9,
    "start_time": "2021-08-05T04:52:46.855Z"
   },
   {
    "duration": 22,
    "start_time": "2021-08-05T04:56:51.703Z"
   },
   {
    "duration": 3,
    "start_time": "2021-08-05T04:58:57.914Z"
   },
   {
    "duration": 16,
    "start_time": "2021-08-05T05:00:52.587Z"
   },
   {
    "duration": 97,
    "start_time": "2021-08-05T05:01:13.657Z"
   },
   {
    "duration": 41,
    "start_time": "2021-08-05T05:01:13.757Z"
   },
   {
    "duration": 34,
    "start_time": "2021-08-05T05:01:13.801Z"
   },
   {
    "duration": 25,
    "start_time": "2021-08-05T05:01:13.837Z"
   },
   {
    "duration": 19,
    "start_time": "2021-08-05T05:01:13.864Z"
   },
   {
    "duration": 12,
    "start_time": "2021-08-05T05:01:13.886Z"
   },
   {
    "duration": 9,
    "start_time": "2021-08-05T05:01:13.901Z"
   },
   {
    "duration": 123,
    "start_time": "2021-08-05T05:01:13.912Z"
   },
   {
    "duration": 86,
    "start_time": "2021-08-05T05:01:14.038Z"
   },
   {
    "duration": 9,
    "start_time": "2021-08-05T05:01:14.126Z"
   },
   {
    "duration": 10,
    "start_time": "2021-08-05T05:01:14.155Z"
   },
   {
    "duration": 105,
    "start_time": "2021-08-05T05:01:14.167Z"
   },
   {
    "duration": 4,
    "start_time": "2021-08-05T05:01:14.275Z"
   },
   {
    "duration": 5,
    "start_time": "2021-08-05T05:01:14.282Z"
   },
   {
    "duration": 14,
    "start_time": "2021-08-05T05:01:14.289Z"
   },
   {
    "duration": 51,
    "start_time": "2021-08-05T05:01:14.305Z"
   },
   {
    "duration": 48,
    "start_time": "2021-08-05T05:01:14.359Z"
   },
   {
    "duration": 77,
    "start_time": "2021-08-05T05:02:28.216Z"
   },
   {
    "duration": 33,
    "start_time": "2021-08-05T05:02:34.726Z"
   },
   {
    "duration": 39,
    "start_time": "2021-08-05T05:03:29.537Z"
   },
   {
    "duration": 23,
    "start_time": "2021-08-05T05:04:56.261Z"
   },
   {
    "duration": 13,
    "start_time": "2021-08-05T05:07:16.402Z"
   },
   {
    "duration": 829,
    "start_time": "2021-08-05T16:24:29.491Z"
   },
   {
    "duration": 50,
    "start_time": "2021-08-05T16:24:30.726Z"
   },
   {
    "duration": 16,
    "start_time": "2021-08-05T16:24:33.922Z"
   },
   {
    "duration": 11,
    "start_time": "2021-08-05T16:24:54.579Z"
   },
   {
    "duration": 23,
    "start_time": "2021-08-05T16:24:55.987Z"
   },
   {
    "duration": 11,
    "start_time": "2021-08-05T16:25:01.582Z"
   },
   {
    "duration": 4,
    "start_time": "2021-08-05T16:25:04.260Z"
   },
   {
    "duration": 73,
    "start_time": "2021-08-05T16:25:05.580Z"
   },
   {
    "duration": 74,
    "start_time": "2021-08-05T16:25:08.188Z"
   },
   {
    "duration": 14,
    "start_time": "2021-08-05T16:25:11.532Z"
   },
   {
    "duration": 9,
    "start_time": "2021-08-05T16:25:13.388Z"
   },
   {
    "duration": 73,
    "start_time": "2021-08-05T16:26:21.197Z"
   },
   {
    "duration": 71,
    "start_time": "2021-08-05T16:26:24.085Z"
   },
   {
    "duration": 32,
    "start_time": "2021-08-05T16:26:24.872Z"
   },
   {
    "duration": 16,
    "start_time": "2021-08-05T16:26:27.678Z"
   },
   {
    "duration": 384,
    "start_time": "2021-08-05T16:38:31.715Z"
   },
   {
    "duration": 17,
    "start_time": "2021-08-05T16:41:12.558Z"
   },
   {
    "duration": 24,
    "start_time": "2021-08-05T16:41:24.117Z"
   },
   {
    "duration": 8,
    "start_time": "2021-08-05T16:45:02.738Z"
   },
   {
    "duration": 16,
    "start_time": "2021-08-05T16:46:38.822Z"
   },
   {
    "duration": 12,
    "start_time": "2021-08-05T16:47:42.080Z"
   },
   {
    "duration": 9,
    "start_time": "2021-08-05T16:47:44.047Z"
   },
   {
    "duration": 343,
    "start_time": "2021-08-05T16:59:50.715Z"
   },
   {
    "duration": 291,
    "start_time": "2021-08-05T17:00:32.064Z"
   },
   {
    "duration": 81,
    "start_time": "2021-08-05T17:00:46.872Z"
   },
   {
    "duration": 65,
    "start_time": "2021-08-05T17:00:47.552Z"
   },
   {
    "duration": 17,
    "start_time": "2021-08-05T17:00:48.253Z"
   },
   {
    "duration": 11,
    "start_time": "2021-08-05T17:00:49.877Z"
   },
   {
    "duration": 17,
    "start_time": "2021-08-05T17:00:50.135Z"
   },
   {
    "duration": 10,
    "start_time": "2021-08-05T17:00:50.868Z"
   },
   {
    "duration": 26,
    "start_time": "2021-08-05T17:00:51.587Z"
   },
   {
    "duration": 83,
    "start_time": "2021-08-05T17:00:51.812Z"
   },
   {
    "duration": 73,
    "start_time": "2021-08-05T17:00:52.276Z"
   },
   {
    "duration": 9,
    "start_time": "2021-08-05T17:00:52.516Z"
   },
   {
    "duration": 8,
    "start_time": "2021-08-05T17:00:52.827Z"
   },
   {
    "duration": 72,
    "start_time": "2021-08-05T17:00:55.108Z"
   },
   {
    "duration": 75,
    "start_time": "2021-08-05T17:00:57.255Z"
   },
   {
    "duration": 56,
    "start_time": "2021-08-05T17:01:00.103Z"
   },
   {
    "duration": 24,
    "start_time": "2021-08-05T17:01:09.526Z"
   },
   {
    "duration": 389,
    "start_time": "2021-08-05T17:01:12.310Z"
   },
   {
    "duration": 284,
    "start_time": "2021-08-05T17:04:38.939Z"
   },
   {
    "duration": 537,
    "start_time": "2021-08-05T17:06:06.267Z"
   },
   {
    "duration": 795,
    "start_time": "2021-08-05T17:06:28.806Z"
   },
   {
    "duration": 53,
    "start_time": "2021-08-05T17:06:29.605Z"
   },
   {
    "duration": 15,
    "start_time": "2021-08-05T17:06:29.682Z"
   },
   {
    "duration": 10,
    "start_time": "2021-08-05T17:06:29.700Z"
   },
   {
    "duration": 21,
    "start_time": "2021-08-05T17:06:29.712Z"
   },
   {
    "duration": 49,
    "start_time": "2021-08-05T17:06:29.736Z"
   },
   {
    "duration": 5,
    "start_time": "2021-08-05T17:06:29.790Z"
   },
   {
    "duration": 98,
    "start_time": "2021-08-05T17:06:29.798Z"
   },
   {
    "duration": 87,
    "start_time": "2021-08-05T17:06:29.899Z"
   },
   {
    "duration": 9,
    "start_time": "2021-08-05T17:06:29.989Z"
   },
   {
    "duration": 25,
    "start_time": "2021-08-05T17:06:30.000Z"
   },
   {
    "duration": 91,
    "start_time": "2021-08-05T17:06:30.027Z"
   },
   {
    "duration": 80,
    "start_time": "2021-08-05T17:06:30.120Z"
   },
   {
    "duration": 32,
    "start_time": "2021-08-05T17:06:30.203Z"
   },
   {
    "duration": 29,
    "start_time": "2021-08-05T17:06:30.238Z"
   },
   {
    "duration": 14,
    "start_time": "2021-08-05T17:06:30.283Z"
   },
   {
    "duration": 21,
    "start_time": "2021-08-05T17:06:30.299Z"
   },
   {
    "duration": 32,
    "start_time": "2021-08-05T17:06:30.322Z"
   },
   {
    "duration": 32,
    "start_time": "2021-08-05T17:06:30.357Z"
   },
   {
    "duration": 29,
    "start_time": "2021-08-05T17:06:30.391Z"
   },
   {
    "duration": 308,
    "start_time": "2021-08-05T17:06:45.496Z"
   },
   {
    "duration": 29,
    "start_time": "2021-08-05T17:07:52.778Z"
   },
   {
    "duration": 39,
    "start_time": "2021-08-05T17:10:05.638Z"
   },
   {
    "duration": 22,
    "start_time": "2021-08-05T17:11:09.331Z"
   },
   {
    "duration": 32,
    "start_time": "2021-08-05T17:11:52.121Z"
   },
   {
    "duration": 41,
    "start_time": "2021-08-05T17:16:20.503Z"
   },
   {
    "duration": 72,
    "start_time": "2021-08-05T17:20:47.424Z"
   },
   {
    "duration": 6,
    "start_time": "2021-08-05T17:22:07.695Z"
   },
   {
    "duration": 78,
    "start_time": "2021-08-05T17:38:27.404Z"
   },
   {
    "duration": 4,
    "start_time": "2021-08-05T17:38:39.011Z"
   },
   {
    "duration": 84,
    "start_time": "2021-08-05T17:50:45.208Z"
   },
   {
    "duration": 40,
    "start_time": "2021-08-05T17:50:59.417Z"
   },
   {
    "duration": 94,
    "start_time": "2021-08-05T17:52:05.641Z"
   },
   {
    "duration": 6,
    "start_time": "2021-08-05T17:52:20.578Z"
   },
   {
    "duration": 723,
    "start_time": "2021-08-05T17:52:22.921Z"
   },
   {
    "duration": 102,
    "start_time": "2021-08-05T17:53:31.802Z"
   },
   {
    "duration": 176,
    "start_time": "2021-08-05T17:55:52.622Z"
   },
   {
    "duration": 5,
    "start_time": "2021-08-05T17:56:10.206Z"
   },
   {
    "duration": 749,
    "start_time": "2021-08-05T17:56:31.498Z"
   },
   {
    "duration": 7,
    "start_time": "2021-08-05T18:09:08.069Z"
   },
   {
    "duration": 6,
    "start_time": "2021-08-05T18:09:22.627Z"
   },
   {
    "duration": 8,
    "start_time": "2021-08-05T18:11:59.489Z"
   },
   {
    "duration": 62,
    "start_time": "2021-08-05T18:12:19.771Z"
   },
   {
    "duration": 41,
    "start_time": "2021-08-05T18:14:35.230Z"
   },
   {
    "duration": 5,
    "start_time": "2021-08-05T18:15:10.046Z"
   },
   {
    "duration": 7,
    "start_time": "2021-08-05T18:15:30.860Z"
   },
   {
    "duration": 11,
    "start_time": "2021-08-05T18:25:09.798Z"
   },
   {
    "duration": 406,
    "start_time": "2021-08-05T18:34:35.747Z"
   },
   {
    "duration": 2859,
    "start_time": "2021-08-05T18:34:45.347Z"
   },
   {
    "duration": 3329,
    "start_time": "2021-08-05T18:35:27.584Z"
   },
   {
    "duration": 31,
    "start_time": "2021-08-05T18:38:11.826Z"
   },
   {
    "duration": 28,
    "start_time": "2021-08-05T18:39:05.867Z"
   },
   {
    "duration": 19,
    "start_time": "2021-08-05T18:39:29.955Z"
   },
   {
    "duration": 20,
    "start_time": "2021-08-05T18:39:38.212Z"
   },
   {
    "duration": 12,
    "start_time": "2021-08-05T18:50:08.687Z"
   },
   {
    "duration": 11,
    "start_time": "2021-08-05T18:50:34.863Z"
   },
   {
    "duration": 8,
    "start_time": "2021-08-05T18:52:04.151Z"
   },
   {
    "duration": 11,
    "start_time": "2021-08-05T18:52:08.800Z"
   },
   {
    "duration": 9,
    "start_time": "2021-08-05T18:54:54.854Z"
   },
   {
    "duration": 10,
    "start_time": "2021-08-05T18:54:57.501Z"
   },
   {
    "duration": 8,
    "start_time": "2021-08-05T18:55:09.710Z"
   },
   {
    "duration": 5,
    "start_time": "2021-08-05T19:07:11.810Z"
   },
   {
    "duration": 1000,
    "start_time": "2021-08-05T19:07:13.696Z"
   },
   {
    "duration": 980,
    "start_time": "2021-08-05T19:07:38.024Z"
   },
   {
    "duration": 1069,
    "start_time": "2021-08-05T19:07:49.113Z"
   },
   {
    "duration": 977,
    "start_time": "2021-08-05T19:08:36.044Z"
   },
   {
    "duration": 1038,
    "start_time": "2021-08-05T19:09:04.076Z"
   },
   {
    "duration": 1578,
    "start_time": "2021-08-05T19:11:01.632Z"
   },
   {
    "duration": 1115,
    "start_time": "2021-08-05T19:11:48.667Z"
   },
   {
    "duration": 984,
    "start_time": "2021-08-05T19:13:02.601Z"
   },
   {
    "duration": 946,
    "start_time": "2021-08-05T19:13:50.062Z"
   },
   {
    "duration": 970,
    "start_time": "2021-08-05T19:14:16.115Z"
   },
   {
    "duration": 986,
    "start_time": "2021-08-05T19:14:36.373Z"
   },
   {
    "duration": 3,
    "start_time": "2021-08-05T19:14:43.805Z"
   },
   {
    "duration": 786,
    "start_time": "2021-08-06T16:09:47.218Z"
   },
   {
    "duration": 60,
    "start_time": "2021-08-06T16:09:48.007Z"
   },
   {
    "duration": 15,
    "start_time": "2021-08-06T16:09:48.070Z"
   },
   {
    "duration": 19,
    "start_time": "2021-08-06T16:09:48.088Z"
   },
   {
    "duration": 22,
    "start_time": "2021-08-06T16:09:48.110Z"
   },
   {
    "duration": 33,
    "start_time": "2021-08-06T16:09:48.134Z"
   },
   {
    "duration": 5,
    "start_time": "2021-08-06T16:09:48.170Z"
   },
   {
    "duration": 96,
    "start_time": "2021-08-06T16:09:48.179Z"
   },
   {
    "duration": 89,
    "start_time": "2021-08-06T16:09:48.278Z"
   },
   {
    "duration": 9,
    "start_time": "2021-08-06T16:09:48.370Z"
   },
   {
    "duration": 10,
    "start_time": "2021-08-06T16:09:48.382Z"
   },
   {
    "duration": 103,
    "start_time": "2021-08-06T16:09:48.395Z"
   },
   {
    "duration": 85,
    "start_time": "2021-08-06T16:09:48.500Z"
   },
   {
    "duration": 31,
    "start_time": "2021-08-06T16:09:48.588Z"
   },
   {
    "duration": 19,
    "start_time": "2021-08-06T16:09:48.621Z"
   },
   {
    "duration": 47,
    "start_time": "2021-08-06T16:09:48.643Z"
   },
   {
    "duration": 27,
    "start_time": "2021-08-06T16:09:48.693Z"
   },
   {
    "duration": 50,
    "start_time": "2021-08-06T16:09:48.723Z"
   },
   {
    "duration": 44,
    "start_time": "2021-08-06T16:09:48.776Z"
   },
   {
    "duration": 7,
    "start_time": "2021-08-06T16:09:48.823Z"
   },
   {
    "duration": 21,
    "start_time": "2021-08-06T16:09:48.833Z"
   },
   {
    "duration": 10,
    "start_time": "2021-08-06T16:09:48.868Z"
   },
   {
    "duration": 9,
    "start_time": "2021-08-06T16:09:48.884Z"
   },
   {
    "duration": 9,
    "start_time": "2021-08-06T16:09:48.896Z"
   },
   {
    "duration": 974,
    "start_time": "2021-08-06T16:09:48.907Z"
   },
   {
    "duration": 3,
    "start_time": "2021-08-06T16:09:49.884Z"
   },
   {
    "duration": 23,
    "start_time": "2021-08-06T16:09:49.889Z"
   },
   {
    "duration": 11,
    "start_time": "2021-08-06T16:09:49.914Z"
   },
   {
    "duration": 4,
    "start_time": "2021-08-06T16:11:33.465Z"
   },
   {
    "duration": 948,
    "start_time": "2021-08-06T16:11:38.778Z"
   },
   {
    "duration": 3,
    "start_time": "2021-08-06T16:11:39.728Z"
   },
   {
    "duration": 912,
    "start_time": "2021-08-06T16:11:55.222Z"
   },
   {
    "duration": 50,
    "start_time": "2021-08-06T16:11:56.137Z"
   },
   {
    "duration": 13,
    "start_time": "2021-08-06T16:11:56.191Z"
   },
   {
    "duration": 10,
    "start_time": "2021-08-06T16:11:56.207Z"
   },
   {
    "duration": 50,
    "start_time": "2021-08-06T16:11:56.219Z"
   },
   {
    "duration": 10,
    "start_time": "2021-08-06T16:11:56.272Z"
   },
   {
    "duration": 5,
    "start_time": "2021-08-06T16:11:56.284Z"
   },
   {
    "duration": 98,
    "start_time": "2021-08-06T16:11:56.293Z"
   },
   {
    "duration": 84,
    "start_time": "2021-08-06T16:11:56.394Z"
   },
   {
    "duration": 9,
    "start_time": "2021-08-06T16:11:56.481Z"
   },
   {
    "duration": 10,
    "start_time": "2021-08-06T16:11:56.492Z"
   },
   {
    "duration": 101,
    "start_time": "2021-08-06T16:11:56.504Z"
   },
   {
    "duration": 85,
    "start_time": "2021-08-06T16:11:56.608Z"
   },
   {
    "duration": 31,
    "start_time": "2021-08-06T16:11:56.695Z"
   },
   {
    "duration": 38,
    "start_time": "2021-08-06T16:11:56.729Z"
   },
   {
    "duration": 24,
    "start_time": "2021-08-06T16:11:56.770Z"
   },
   {
    "duration": 24,
    "start_time": "2021-08-06T16:11:56.796Z"
   },
   {
    "duration": 11,
    "start_time": "2021-08-06T16:11:56.822Z"
   },
   {
    "duration": 61,
    "start_time": "2021-08-06T16:11:56.836Z"
   },
   {
    "duration": 5,
    "start_time": "2021-08-06T16:11:56.900Z"
   },
   {
    "duration": 11,
    "start_time": "2021-08-06T16:11:56.908Z"
   },
   {
    "duration": 8,
    "start_time": "2021-08-06T16:11:56.922Z"
   },
   {
    "duration": 8,
    "start_time": "2021-08-06T16:11:56.968Z"
   },
   {
    "duration": 4,
    "start_time": "2021-08-06T16:11:56.980Z"
   },
   {
    "duration": 1002,
    "start_time": "2021-08-06T16:11:56.987Z"
   },
   {
    "duration": 3,
    "start_time": "2021-08-06T16:11:57.991Z"
   },
   {
    "duration": 9,
    "start_time": "2021-08-06T16:11:57.996Z"
   },
   {
    "duration": 12,
    "start_time": "2021-08-06T16:11:58.007Z"
   },
   {
    "duration": 4,
    "start_time": "2021-08-06T16:33:51.170Z"
   },
   {
    "duration": 366,
    "start_time": "2021-08-06T16:36:41.691Z"
   },
   {
    "duration": 4,
    "start_time": "2021-08-06T16:36:50.350Z"
   },
   {
    "duration": 498,
    "start_time": "2021-08-06T16:36:52.483Z"
   },
   {
    "duration": 271,
    "start_time": "2021-08-06T16:37:09.980Z"
   },
   {
    "duration": 4,
    "start_time": "2021-08-06T16:40:25.899Z"
   },
   {
    "duration": 311,
    "start_time": "2021-08-06T16:40:49.985Z"
   },
   {
    "duration": 309,
    "start_time": "2021-08-06T16:41:03.393Z"
   },
   {
    "duration": 300,
    "start_time": "2021-08-06T16:41:26.171Z"
   },
   {
    "duration": 354,
    "start_time": "2021-08-06T16:41:43.018Z"
   },
   {
    "duration": 330,
    "start_time": "2021-08-06T16:42:01.363Z"
   },
   {
    "duration": 475,
    "start_time": "2021-08-06T16:43:31.877Z"
   },
   {
    "duration": 583,
    "start_time": "2021-08-06T17:16:11.196Z"
   },
   {
    "duration": 5,
    "start_time": "2021-08-06T17:16:37.056Z"
   },
   {
    "duration": 5,
    "start_time": "2021-08-06T17:16:38.643Z"
   },
   {
    "duration": 3,
    "start_time": "2021-08-06T17:16:45.827Z"
   },
   {
    "duration": 303,
    "start_time": "2021-08-06T17:17:11.635Z"
   },
   {
    "duration": 595,
    "start_time": "2021-08-06T17:18:08.486Z"
   },
   {
    "duration": 563,
    "start_time": "2021-08-06T17:20:13.866Z"
   },
   {
    "duration": 287,
    "start_time": "2021-08-06T17:21:14.580Z"
   },
   {
    "duration": 349,
    "start_time": "2021-08-06T17:21:19.394Z"
   },
   {
    "duration": 293,
    "start_time": "2021-08-06T17:22:49.912Z"
   },
   {
    "duration": 278,
    "start_time": "2021-08-06T17:29:58.961Z"
   },
   {
    "duration": 303,
    "start_time": "2021-08-06T17:32:43.317Z"
   },
   {
    "duration": 301,
    "start_time": "2021-08-06T17:32:59.429Z"
   },
   {
    "duration": 301,
    "start_time": "2021-08-06T17:33:23.868Z"
   },
   {
    "duration": 5,
    "start_time": "2021-08-06T17:33:43.845Z"
   },
   {
    "duration": 6333,
    "start_time": "2021-08-06T17:34:46.760Z"
   },
   {
    "duration": 14,
    "start_time": "2021-08-06T17:35:39.410Z"
   },
   {
    "duration": 5,
    "start_time": "2021-08-06T17:36:47.996Z"
   },
   {
    "duration": 288,
    "start_time": "2021-08-06T17:37:23.379Z"
   },
   {
    "duration": 285,
    "start_time": "2021-08-06T17:38:05.636Z"
   },
   {
    "duration": 354,
    "start_time": "2021-08-06T17:38:12.700Z"
   },
   {
    "duration": 294,
    "start_time": "2021-08-06T17:39:06.406Z"
   },
   {
    "duration": 297,
    "start_time": "2021-08-06T17:39:35.583Z"
   },
   {
    "duration": 355,
    "start_time": "2021-08-06T17:39:49.638Z"
   },
   {
    "duration": 287,
    "start_time": "2021-08-06T17:39:59.616Z"
   },
   {
    "duration": 295,
    "start_time": "2021-08-06T17:40:12.585Z"
   },
   {
    "duration": 275,
    "start_time": "2021-08-06T17:40:23.378Z"
   },
   {
    "duration": 277,
    "start_time": "2021-08-06T17:40:34.715Z"
   },
   {
    "duration": 275,
    "start_time": "2021-08-06T17:40:49.530Z"
   },
   {
    "duration": 275,
    "start_time": "2021-08-06T17:41:13.555Z"
   },
   {
    "duration": 269,
    "start_time": "2021-08-06T17:41:24.658Z"
   },
   {
    "duration": 272,
    "start_time": "2021-08-06T17:41:36.146Z"
   },
   {
    "duration": 274,
    "start_time": "2021-08-06T17:41:47.850Z"
   },
   {
    "duration": 291,
    "start_time": "2021-08-06T17:42:01.443Z"
   },
   {
    "duration": 336,
    "start_time": "2021-08-06T17:42:16.279Z"
   },
   {
    "duration": 392,
    "start_time": "2021-08-06T17:43:34.119Z"
   },
   {
    "duration": 282,
    "start_time": "2021-08-06T17:43:43.175Z"
   },
   {
    "duration": 285,
    "start_time": "2021-08-06T17:43:49.182Z"
   },
   {
    "duration": 275,
    "start_time": "2021-08-06T17:43:56.398Z"
   },
   {
    "duration": 275,
    "start_time": "2021-08-06T17:44:02.383Z"
   },
   {
    "duration": 3,
    "start_time": "2021-08-06T17:44:55.209Z"
   },
   {
    "duration": 314,
    "start_time": "2021-08-06T17:45:57.353Z"
   },
   {
    "duration": 270,
    "start_time": "2021-08-06T17:46:22.395Z"
   },
   {
    "duration": 276,
    "start_time": "2021-08-06T17:46:49.300Z"
   },
   {
    "duration": 273,
    "start_time": "2021-08-06T17:47:03.504Z"
   },
   {
    "duration": 276,
    "start_time": "2021-08-06T17:47:11.691Z"
   },
   {
    "duration": 394,
    "start_time": "2021-08-06T17:47:27.604Z"
   },
   {
    "duration": 375,
    "start_time": "2021-08-06T17:47:38.075Z"
   },
   {
    "duration": 292,
    "start_time": "2021-08-06T17:47:50.589Z"
   },
   {
    "duration": 281,
    "start_time": "2021-08-06T17:47:58.172Z"
   },
   {
    "duration": 291,
    "start_time": "2021-08-06T17:48:11.165Z"
   },
   {
    "duration": 320,
    "start_time": "2021-08-06T17:52:28.380Z"
   },
   {
    "duration": 309,
    "start_time": "2021-08-06T17:52:39.531Z"
   },
   {
    "duration": 299,
    "start_time": "2021-08-06T17:55:08.161Z"
   },
   {
    "duration": 317,
    "start_time": "2021-08-06T17:55:20.952Z"
   },
   {
    "duration": 309,
    "start_time": "2021-08-06T17:59:04.879Z"
   },
   {
    "duration": 339,
    "start_time": "2021-08-06T17:59:22.626Z"
   },
   {
    "duration": 383,
    "start_time": "2021-08-06T17:59:48.952Z"
   },
   {
    "duration": 356,
    "start_time": "2021-08-06T17:59:56.745Z"
   },
   {
    "duration": 366,
    "start_time": "2021-08-06T18:02:36.742Z"
   },
   {
    "duration": 393,
    "start_time": "2021-08-06T18:02:54.384Z"
   },
   {
    "duration": 453,
    "start_time": "2021-08-06T18:03:58.254Z"
   },
   {
    "duration": 5,
    "start_time": "2021-08-06T18:12:56.188Z"
   },
   {
    "duration": 6,
    "start_time": "2021-08-06T18:13:31.581Z"
   },
   {
    "duration": 6,
    "start_time": "2021-08-06T18:14:13.295Z"
   },
   {
    "duration": 271,
    "start_time": "2021-08-06T18:16:13.730Z"
   },
   {
    "duration": 6,
    "start_time": "2021-08-06T18:16:43.986Z"
   },
   {
    "duration": 484,
    "start_time": "2021-08-06T18:25:21.205Z"
   },
   {
    "duration": 533,
    "start_time": "2021-08-06T18:25:38.624Z"
   },
   {
    "duration": 1668,
    "start_time": "2021-08-06T18:29:02.255Z"
   },
   {
    "duration": 1067,
    "start_time": "2021-08-06T18:29:09.306Z"
   },
   {
    "duration": 1097,
    "start_time": "2021-08-06T18:29:35.367Z"
   },
   {
    "duration": 543,
    "start_time": "2021-08-06T18:29:53.528Z"
   },
   {
    "duration": 635,
    "start_time": "2021-08-06T18:31:02.598Z"
   },
   {
    "duration": 549,
    "start_time": "2021-08-06T18:31:10.811Z"
   },
   {
    "duration": 9,
    "start_time": "2021-08-06T18:41:35.578Z"
   },
   {
    "duration": 520,
    "start_time": "2021-08-06T19:23:25.824Z"
   },
   {
    "duration": 203,
    "start_time": "2021-08-06T19:23:45.127Z"
   },
   {
    "duration": 200,
    "start_time": "2021-08-06T19:24:01.918Z"
   },
   {
    "duration": 206,
    "start_time": "2021-08-06T19:24:12.094Z"
   },
   {
    "duration": 278,
    "start_time": "2021-08-06T19:24:39.228Z"
   },
   {
    "duration": 211,
    "start_time": "2021-08-06T19:31:56.140Z"
   },
   {
    "duration": 214,
    "start_time": "2021-08-06T19:32:16.923Z"
   },
   {
    "duration": 215,
    "start_time": "2021-08-06T19:32:25.948Z"
   },
   {
    "duration": 17,
    "start_time": "2021-08-06T19:50:16.658Z"
   },
   {
    "duration": 13,
    "start_time": "2021-08-06T19:50:29.193Z"
   },
   {
    "duration": 625,
    "start_time": "2021-08-06T19:55:53.742Z"
   },
   {
    "duration": 4,
    "start_time": "2021-08-06T19:56:50.445Z"
   },
   {
    "duration": 318,
    "start_time": "2021-08-06T19:56:58.466Z"
   },
   {
    "duration": 308,
    "start_time": "2021-08-06T19:57:14.533Z"
   },
   {
    "duration": 331,
    "start_time": "2021-08-06T19:57:39.436Z"
   },
   {
    "duration": 273,
    "start_time": "2021-08-06T19:57:49.124Z"
   },
   {
    "duration": 307,
    "start_time": "2021-08-06T19:58:00.833Z"
   },
   {
    "duration": 316,
    "start_time": "2021-08-06T19:58:09.953Z"
   },
   {
    "duration": 547,
    "start_time": "2021-08-06T19:58:18.685Z"
   },
   {
    "duration": 14,
    "start_time": "2021-08-06T19:58:39.805Z"
   },
   {
    "duration": 206,
    "start_time": "2021-08-06T19:58:49.720Z"
   },
   {
    "duration": 656,
    "start_time": "2021-08-06T19:59:14.714Z"
   },
   {
    "duration": 952,
    "start_time": "2021-08-06T19:59:56.304Z"
   },
   {
    "duration": 555,
    "start_time": "2021-08-06T20:00:06.071Z"
   },
   {
    "duration": 13,
    "start_time": "2021-08-06T20:03:13.067Z"
   },
   {
    "duration": 559,
    "start_time": "2021-08-06T20:03:19.846Z"
   },
   {
    "duration": 554,
    "start_time": "2021-08-06T20:03:44.939Z"
   },
   {
    "duration": 11,
    "start_time": "2021-08-06T20:03:51.663Z"
   },
   {
    "duration": 658,
    "start_time": "2021-08-06T20:03:52.859Z"
   },
   {
    "duration": 9,
    "start_time": "2021-08-06T20:04:38.911Z"
   },
   {
    "duration": 225,
    "start_time": "2021-08-06T20:08:18.710Z"
   },
   {
    "duration": 16,
    "start_time": "2021-08-06T20:09:39.234Z"
   },
   {
    "duration": 14,
    "start_time": "2021-08-06T20:09:55.707Z"
   },
   {
    "duration": 17,
    "start_time": "2021-08-06T20:10:14.591Z"
   },
   {
    "duration": 17,
    "start_time": "2021-08-06T20:11:10.552Z"
   },
   {
    "duration": 16,
    "start_time": "2021-08-06T20:11:35.928Z"
   },
   {
    "duration": 9,
    "start_time": "2021-08-06T20:20:41.444Z"
   },
   {
    "duration": 17,
    "start_time": "2021-08-06T20:21:06.529Z"
   },
   {
    "duration": 10,
    "start_time": "2021-08-06T20:21:38.228Z"
   },
   {
    "duration": 9,
    "start_time": "2021-08-06T20:27:25.255Z"
   },
   {
    "duration": 10,
    "start_time": "2021-08-06T20:27:54.883Z"
   },
   {
    "duration": 10,
    "start_time": "2021-08-06T20:29:43.192Z"
   },
   {
    "duration": 10,
    "start_time": "2021-08-06T20:32:31.140Z"
   },
   {
    "duration": 13,
    "start_time": "2021-08-06T20:32:46.748Z"
   },
   {
    "duration": 560,
    "start_time": "2021-08-06T20:33:14.268Z"
   },
   {
    "duration": 996,
    "start_time": "2021-08-06T20:45:28.455Z"
   },
   {
    "duration": 889,
    "start_time": "2021-08-06T20:45:39.994Z"
   },
   {
    "duration": 709,
    "start_time": "2021-08-06T20:52:35.660Z"
   },
   {
    "duration": 767,
    "start_time": "2021-08-06T20:54:08.937Z"
   },
   {
    "duration": 687,
    "start_time": "2021-08-06T20:54:33.549Z"
   },
   {
    "duration": 6,
    "start_time": "2021-08-06T21:00:33.013Z"
   },
   {
    "duration": 6,
    "start_time": "2021-08-06T21:01:31.447Z"
   },
   {
    "duration": 7,
    "start_time": "2021-08-06T21:01:55.802Z"
   },
   {
    "duration": 7,
    "start_time": "2021-08-06T21:02:58.628Z"
   },
   {
    "duration": 5,
    "start_time": "2021-08-06T21:08:20.900Z"
   },
   {
    "duration": 803,
    "start_time": "2021-08-06T21:09:16.338Z"
   },
   {
    "duration": 680,
    "start_time": "2021-08-06T21:09:33.835Z"
   },
   {
    "duration": 711,
    "start_time": "2021-08-06T21:10:58.956Z"
   },
   {
    "duration": 263,
    "start_time": "2021-08-06T21:19:02.334Z"
   },
   {
    "duration": 302,
    "start_time": "2021-08-06T21:19:27.302Z"
   },
   {
    "duration": 522,
    "start_time": "2021-08-06T21:19:48.959Z"
   },
   {
    "duration": 523,
    "start_time": "2021-08-06T21:19:58.975Z"
   },
   {
    "duration": 282,
    "start_time": "2021-08-06T21:21:52.011Z"
   },
   {
    "duration": 262,
    "start_time": "2021-08-06T21:22:05.521Z"
   },
   {
    "duration": 361,
    "start_time": "2021-08-06T21:22:18.614Z"
   },
   {
    "duration": 740,
    "start_time": "2021-08-06T21:23:31.005Z"
   },
   {
    "duration": 127,
    "start_time": "2021-08-07T05:24:06.530Z"
   },
   {
    "duration": 538,
    "start_time": "2021-08-07T05:24:12.817Z"
   },
   {
    "duration": 867,
    "start_time": "2021-08-07T05:24:23.916Z"
   },
   {
    "duration": 50,
    "start_time": "2021-08-07T05:24:24.786Z"
   },
   {
    "duration": 14,
    "start_time": "2021-08-07T05:24:24.839Z"
   },
   {
    "duration": 37,
    "start_time": "2021-08-07T05:24:24.856Z"
   },
   {
    "duration": 18,
    "start_time": "2021-08-07T05:24:24.895Z"
   },
   {
    "duration": 11,
    "start_time": "2021-08-07T05:24:24.915Z"
   },
   {
    "duration": 4,
    "start_time": "2021-08-07T05:24:24.929Z"
   },
   {
    "duration": 131,
    "start_time": "2021-08-07T05:24:24.937Z"
   },
   {
    "duration": 86,
    "start_time": "2021-08-07T05:24:25.071Z"
   },
   {
    "duration": 30,
    "start_time": "2021-08-07T05:24:25.160Z"
   },
   {
    "duration": 10,
    "start_time": "2021-08-07T05:24:25.192Z"
   },
   {
    "duration": 92,
    "start_time": "2021-08-07T05:24:25.205Z"
   },
   {
    "duration": 88,
    "start_time": "2021-08-07T05:24:25.299Z"
   },
   {
    "duration": 33,
    "start_time": "2021-08-07T05:24:25.389Z"
   },
   {
    "duration": 15,
    "start_time": "2021-08-07T05:24:25.424Z"
   },
   {
    "duration": 59,
    "start_time": "2021-08-07T05:24:25.441Z"
   },
   {
    "duration": 25,
    "start_time": "2021-08-07T05:24:25.503Z"
   },
   {
    "duration": 10,
    "start_time": "2021-08-07T05:24:25.531Z"
   },
   {
    "duration": 65,
    "start_time": "2021-08-07T05:24:25.544Z"
   },
   {
    "duration": 6,
    "start_time": "2021-08-07T05:24:25.612Z"
   },
   {
    "duration": 11,
    "start_time": "2021-08-07T05:24:25.621Z"
   },
   {
    "duration": 11,
    "start_time": "2021-08-07T05:24:25.635Z"
   },
   {
    "duration": 33,
    "start_time": "2021-08-07T05:24:25.652Z"
   },
   {
    "duration": 5,
    "start_time": "2021-08-07T05:24:25.689Z"
   },
   {
    "duration": 920,
    "start_time": "2021-08-07T05:24:25.696Z"
   },
   {
    "duration": 3,
    "start_time": "2021-08-07T05:24:26.619Z"
   },
   {
    "duration": 9,
    "start_time": "2021-08-07T05:24:26.625Z"
   },
   {
    "duration": 8,
    "start_time": "2021-08-07T05:24:26.637Z"
   },
   {
    "duration": 10,
    "start_time": "2021-08-07T05:24:26.647Z"
   },
   {
    "duration": 459,
    "start_time": "2021-08-07T05:24:26.659Z"
   },
   {
    "duration": 306,
    "start_time": "2021-08-07T05:24:27.120Z"
   },
   {
    "duration": 288,
    "start_time": "2021-08-07T05:24:27.428Z"
   },
   {
    "duration": 267,
    "start_time": "2021-08-07T05:24:27.718Z"
   },
   {
    "duration": 571,
    "start_time": "2021-08-07T05:24:27.987Z"
   },
   {
    "duration": 306,
    "start_time": "2021-08-07T05:24:28.560Z"
   },
   {
    "duration": 389,
    "start_time": "2021-08-07T05:24:28.868Z"
   },
   {
    "duration": 535,
    "start_time": "2021-08-07T05:24:29.260Z"
   },
   {
    "duration": 10,
    "start_time": "2021-08-07T05:24:29.798Z"
   },
   {
    "duration": 13,
    "start_time": "2021-08-07T05:24:29.810Z"
   },
   {
    "duration": 8,
    "start_time": "2021-08-07T05:24:29.825Z"
   },
   {
    "duration": 58,
    "start_time": "2021-08-07T05:24:29.836Z"
   },
   {
    "duration": 4,
    "start_time": "2021-08-07T05:24:29.897Z"
   },
   {
    "duration": 681,
    "start_time": "2021-08-07T05:24:29.904Z"
   },
   {
    "duration": 825,
    "start_time": "2021-08-07T05:24:30.588Z"
   },
   {
    "duration": 389,
    "start_time": "2021-08-07T05:25:09.664Z"
   },
   {
    "duration": 484,
    "start_time": "2021-08-07T05:25:20.834Z"
   },
   {
    "duration": 273,
    "start_time": "2021-08-07T05:25:33.676Z"
   },
   {
    "duration": 295,
    "start_time": "2021-08-07T05:25:56.413Z"
   },
   {
    "duration": 276,
    "start_time": "2021-08-07T05:26:27.804Z"
   },
   {
    "duration": 281,
    "start_time": "2021-08-07T05:26:42.877Z"
   },
   {
    "duration": 276,
    "start_time": "2021-08-07T05:26:48.440Z"
   },
   {
    "duration": 289,
    "start_time": "2021-08-07T05:28:01.351Z"
   },
   {
    "duration": 277,
    "start_time": "2021-08-07T05:31:34.758Z"
   },
   {
    "duration": 296,
    "start_time": "2021-08-07T05:32:09.870Z"
   },
   {
    "duration": 370,
    "start_time": "2021-08-07T05:35:57.971Z"
   },
   {
    "duration": 317,
    "start_time": "2021-08-07T05:36:49.845Z"
   },
   {
    "duration": 410,
    "start_time": "2021-08-07T05:37:48.582Z"
   },
   {
    "duration": 350,
    "start_time": "2021-08-07T05:38:05.383Z"
   },
   {
    "duration": 142,
    "start_time": "2021-08-07T05:38:17.784Z"
   },
   {
    "duration": 299,
    "start_time": "2021-08-07T05:38:29.286Z"
   },
   {
    "duration": 300,
    "start_time": "2021-08-07T05:39:23.328Z"
   },
   {
    "duration": 324,
    "start_time": "2021-08-07T05:40:06.881Z"
   },
   {
    "duration": 283,
    "start_time": "2021-08-07T05:40:28.522Z"
   },
   {
    "duration": 263,
    "start_time": "2021-08-07T05:40:35.770Z"
   },
   {
    "duration": 297,
    "start_time": "2021-08-07T05:40:43.449Z"
   },
   {
    "duration": 369,
    "start_time": "2021-08-07T05:40:50.691Z"
   },
   {
    "duration": 346,
    "start_time": "2021-08-07T05:41:04.851Z"
   },
   {
    "duration": 278,
    "start_time": "2021-08-07T05:41:12.891Z"
   },
   {
    "duration": 271,
    "start_time": "2021-08-07T05:41:23.916Z"
   },
   {
    "duration": 274,
    "start_time": "2021-08-07T05:41:31.883Z"
   },
   {
    "duration": 308,
    "start_time": "2021-08-07T05:41:56.948Z"
   },
   {
    "duration": 400,
    "start_time": "2021-08-07T05:42:05.188Z"
   },
   {
    "duration": 357,
    "start_time": "2021-08-07T05:42:32.677Z"
   },
   {
    "duration": 416,
    "start_time": "2021-08-07T05:42:54.742Z"
   },
   {
    "duration": 9,
    "start_time": "2021-08-07T05:50:52.261Z"
   },
   {
    "duration": 12,
    "start_time": "2021-08-07T05:51:15.635Z"
   },
   {
    "duration": 313,
    "start_time": "2021-08-07T06:04:03.248Z"
   },
   {
    "duration": 320,
    "start_time": "2021-08-07T06:06:40.220Z"
   },
   {
    "duration": 317,
    "start_time": "2021-08-07T06:07:26.798Z"
   },
   {
    "duration": 412,
    "start_time": "2021-08-07T06:07:35.598Z"
   },
   {
    "duration": 311,
    "start_time": "2021-08-07T06:07:51.766Z"
   },
   {
    "duration": 327,
    "start_time": "2021-08-07T06:08:35.543Z"
   },
   {
    "duration": 322,
    "start_time": "2021-08-07T06:08:45.229Z"
   },
   {
    "duration": 331,
    "start_time": "2021-08-07T06:08:51.162Z"
   },
   {
    "duration": 106,
    "start_time": "2021-08-07T06:09:17.279Z"
   },
   {
    "duration": 46,
    "start_time": "2021-08-07T06:09:17.388Z"
   },
   {
    "duration": 53,
    "start_time": "2021-08-07T06:09:17.437Z"
   },
   {
    "duration": 13,
    "start_time": "2021-08-07T06:09:17.493Z"
   },
   {
    "duration": 17,
    "start_time": "2021-08-07T06:09:17.509Z"
   },
   {
    "duration": 11,
    "start_time": "2021-08-07T06:09:17.529Z"
   },
   {
    "duration": 25,
    "start_time": "2021-08-07T06:09:17.585Z"
   },
   {
    "duration": 142,
    "start_time": "2021-08-07T06:09:17.616Z"
   },
   {
    "duration": 79,
    "start_time": "2021-08-07T06:09:17.761Z"
   },
   {
    "duration": 9,
    "start_time": "2021-08-07T06:09:17.842Z"
   },
   {
    "duration": 133,
    "start_time": "2021-08-07T06:09:17.853Z"
   },
   {
    "duration": 82,
    "start_time": "2021-08-07T06:09:17.989Z"
   },
   {
    "duration": 82,
    "start_time": "2021-08-07T06:09:18.073Z"
   },
   {
    "duration": 45,
    "start_time": "2021-08-07T06:09:18.158Z"
   },
   {
    "duration": 37,
    "start_time": "2021-08-07T06:09:18.206Z"
   },
   {
    "duration": 23,
    "start_time": "2021-08-07T06:09:18.246Z"
   },
   {
    "duration": 35,
    "start_time": "2021-08-07T06:09:18.271Z"
   },
   {
    "duration": 10,
    "start_time": "2021-08-07T06:09:18.309Z"
   },
   {
    "duration": 41,
    "start_time": "2021-08-07T06:09:18.321Z"
   },
   {
    "duration": 6,
    "start_time": "2021-08-07T06:09:18.386Z"
   },
   {
    "duration": 14,
    "start_time": "2021-08-07T06:09:18.394Z"
   },
   {
    "duration": 11,
    "start_time": "2021-08-07T06:09:18.410Z"
   },
   {
    "duration": 7,
    "start_time": "2021-08-07T06:09:18.426Z"
   },
   {
    "duration": 4,
    "start_time": "2021-08-07T06:09:18.436Z"
   },
   {
    "duration": 906,
    "start_time": "2021-08-07T06:09:18.442Z"
   },
   {
    "duration": 3,
    "start_time": "2021-08-07T06:09:19.350Z"
   },
   {
    "duration": 11,
    "start_time": "2021-08-07T06:09:19.355Z"
   },
   {
    "duration": 18,
    "start_time": "2021-08-07T06:09:19.368Z"
   },
   {
    "duration": 5,
    "start_time": "2021-08-07T06:09:19.389Z"
   },
   {
    "duration": 333,
    "start_time": "2021-08-07T06:09:19.397Z"
   },
   {
    "duration": 329,
    "start_time": "2021-08-07T06:09:19.732Z"
   },
   {
    "duration": 328,
    "start_time": "2021-08-07T06:09:20.064Z"
   },
   {
    "duration": 397,
    "start_time": "2021-08-07T06:09:20.395Z"
   },
   {
    "duration": 276,
    "start_time": "2021-08-07T06:09:20.795Z"
   },
   {
    "duration": 312,
    "start_time": "2021-08-07T06:09:21.073Z"
   },
   {
    "duration": 413,
    "start_time": "2021-08-07T06:09:21.388Z"
   },
   {
    "duration": 530,
    "start_time": "2021-08-07T06:09:21.804Z"
   },
   {
    "duration": 10,
    "start_time": "2021-08-07T06:09:22.336Z"
   },
   {
    "duration": 10,
    "start_time": "2021-08-07T06:09:22.349Z"
   },
   {
    "duration": 10,
    "start_time": "2021-08-07T06:09:22.385Z"
   },
   {
    "duration": 12,
    "start_time": "2021-08-07T06:09:22.397Z"
   },
   {
    "duration": 4,
    "start_time": "2021-08-07T06:09:22.412Z"
   },
   {
    "duration": 676,
    "start_time": "2021-08-07T06:09:22.418Z"
   },
   {
    "duration": 715,
    "start_time": "2021-08-07T06:09:23.097Z"
   },
   {
    "duration": 707,
    "start_time": "2021-08-07T06:09:23.814Z"
   },
   {
    "duration": 301,
    "start_time": "2021-08-07T06:10:24.588Z"
   },
   {
    "duration": 315,
    "start_time": "2021-08-07T06:10:48.994Z"
   },
   {
    "duration": 378,
    "start_time": "2021-08-07T06:10:58.395Z"
   },
   {
    "duration": 326,
    "start_time": "2021-08-07T06:15:01.078Z"
   },
   {
    "duration": 331,
    "start_time": "2021-08-07T06:15:10.923Z"
   },
   {
    "duration": 335,
    "start_time": "2021-08-07T06:15:34.594Z"
   },
   {
    "duration": 322,
    "start_time": "2021-08-07T06:16:04.066Z"
   },
   {
    "duration": 12,
    "start_time": "2021-08-07T06:16:36.163Z"
   },
   {
    "duration": 11,
    "start_time": "2021-08-07T06:16:51.364Z"
   },
   {
    "duration": 316,
    "start_time": "2021-08-07T06:17:20.446Z"
   },
   {
    "duration": 2774,
    "start_time": "2021-08-07T06:18:39.417Z"
   },
   {
    "duration": 11,
    "start_time": "2021-08-07T06:18:47.104Z"
   },
   {
    "duration": 323,
    "start_time": "2021-08-07T06:18:56.218Z"
   },
   {
    "duration": 332,
    "start_time": "2021-08-07T06:19:04.103Z"
   },
   {
    "duration": 10,
    "start_time": "2021-08-07T06:19:13.113Z"
   },
   {
    "duration": 290,
    "start_time": "2021-08-07T06:20:59.163Z"
   },
   {
    "duration": 14,
    "start_time": "2021-08-07T06:21:16.963Z"
   },
   {
    "duration": 383,
    "start_time": "2021-08-07T06:23:24.020Z"
   },
   {
    "duration": 13,
    "start_time": "2021-08-07T06:23:39.185Z"
   },
   {
    "duration": 322,
    "start_time": "2021-08-07T06:25:10.313Z"
   },
   {
    "duration": 407,
    "start_time": "2021-08-07T06:25:27.277Z"
   },
   {
    "duration": 280,
    "start_time": "2021-08-07T06:25:46.626Z"
   },
   {
    "duration": 307,
    "start_time": "2021-08-07T06:25:56.626Z"
   },
   {
    "duration": 310,
    "start_time": "2021-08-07T06:26:07.733Z"
   },
   {
    "duration": 328,
    "start_time": "2021-08-07T06:26:28.980Z"
   },
   {
    "duration": 300,
    "start_time": "2021-08-07T06:26:45.874Z"
   },
   {
    "duration": 11,
    "start_time": "2021-08-07T06:27:31.045Z"
   },
   {
    "duration": 9,
    "start_time": "2021-08-07T06:27:43.685Z"
   },
   {
    "duration": 10,
    "start_time": "2021-08-07T06:27:51.726Z"
   },
   {
    "duration": 11,
    "start_time": "2021-08-07T06:28:27.215Z"
   },
   {
    "duration": 411,
    "start_time": "2021-08-07T06:28:39.583Z"
   },
   {
    "duration": 11,
    "start_time": "2021-08-07T06:29:02.519Z"
   },
   {
    "duration": 10,
    "start_time": "2021-08-07T06:29:36.361Z"
   },
   {
    "duration": 516,
    "start_time": "2021-08-07T06:29:54.569Z"
   },
   {
    "duration": 16,
    "start_time": "2021-08-07T06:30:02.546Z"
   },
   {
    "duration": 11,
    "start_time": "2021-08-07T06:30:04.602Z"
   },
   {
    "duration": 12,
    "start_time": "2021-08-07T06:30:31.650Z"
   },
   {
    "duration": 4,
    "start_time": "2021-08-07T06:30:47.694Z"
   },
   {
    "duration": 702,
    "start_time": "2021-08-07T06:30:57.298Z"
   },
   {
    "duration": 670,
    "start_time": "2021-08-07T06:36:19.155Z"
   },
   {
    "duration": 718,
    "start_time": "2021-08-07T06:48:09.102Z"
   },
   {
    "duration": 670,
    "start_time": "2021-08-07T06:48:32.942Z"
   },
   {
    "duration": 707,
    "start_time": "2021-08-07T06:53:19.274Z"
   },
   {
    "duration": 130,
    "start_time": "2021-08-07T06:54:23.808Z"
   },
   {
    "duration": 410,
    "start_time": "2021-08-07T06:54:32.233Z"
   },
   {
    "duration": 10009,
    "start_time": "2021-08-07T06:59:24.103Z"
   },
   {
    "duration": 766,
    "start_time": "2021-08-07T06:59:55.338Z"
   },
   {
    "duration": 1559,
    "start_time": "2021-08-07T07:02:12.311Z"
   },
   {
    "duration": 28,
    "start_time": "2021-08-07T07:16:09.045Z"
   },
   {
    "duration": 399,
    "start_time": "2021-08-07T07:18:27.974Z"
   },
   {
    "duration": 943,
    "start_time": "2021-08-07T07:47:31.973Z"
   },
   {
    "duration": 27,
    "start_time": "2021-08-07T07:47:45.842Z"
   },
   {
    "duration": 29,
    "start_time": "2021-08-07T07:48:13.845Z"
   },
   {
    "duration": 30,
    "start_time": "2021-08-07T07:48:43.399Z"
   },
   {
    "duration": 971,
    "start_time": "2021-08-07T07:51:24.203Z"
   },
   {
    "duration": 917,
    "start_time": "2021-08-07T07:51:51.939Z"
   },
   {
    "duration": 910,
    "start_time": "2021-08-07T07:52:06.412Z"
   },
   {
    "duration": 991,
    "start_time": "2021-08-07T07:52:19.501Z"
   },
   {
    "duration": 940,
    "start_time": "2021-08-07T07:52:30.452Z"
   },
   {
    "duration": 949,
    "start_time": "2021-08-07T07:52:46.236Z"
   },
   {
    "duration": 31,
    "start_time": "2021-08-07T07:53:18.822Z"
   },
   {
    "duration": 17,
    "start_time": "2021-08-07T07:55:40.874Z"
   },
   {
    "duration": 32,
    "start_time": "2021-08-07T07:56:18.290Z"
   },
   {
    "duration": 30,
    "start_time": "2021-08-07T07:57:03.325Z"
   },
   {
    "duration": 28,
    "start_time": "2021-08-07T08:09:37.247Z"
   },
   {
    "duration": 29,
    "start_time": "2021-08-07T08:09:53.903Z"
   },
   {
    "duration": 27,
    "start_time": "2021-08-07T08:15:30.824Z"
   },
   {
    "duration": 30,
    "start_time": "2021-08-07T08:16:41.164Z"
   },
   {
    "duration": 6,
    "start_time": "2021-08-07T08:18:55.534Z"
   },
   {
    "duration": 33,
    "start_time": "2021-08-07T08:25:17.562Z"
   },
   {
    "duration": 42,
    "start_time": "2021-08-07T08:25:58.953Z"
   },
   {
    "duration": 6,
    "start_time": "2021-08-07T08:28:05.428Z"
   },
   {
    "duration": 4,
    "start_time": "2021-08-07T08:32:18.027Z"
   },
   {
    "duration": 317,
    "start_time": "2021-08-07T08:36:10.465Z"
   },
   {
    "duration": 5,
    "start_time": "2021-08-07T08:36:19.714Z"
   },
   {
    "duration": 396,
    "start_time": "2021-08-07T08:38:12.255Z"
   },
   {
    "duration": 6,
    "start_time": "2021-08-07T08:38:28.798Z"
   },
   {
    "duration": 427,
    "start_time": "2021-08-07T08:38:35.717Z"
   },
   {
    "duration": 4,
    "start_time": "2021-08-07T08:38:49.261Z"
   },
   {
    "duration": 391,
    "start_time": "2021-08-07T08:38:50.142Z"
   },
   {
    "duration": 5,
    "start_time": "2021-08-07T08:39:15.270Z"
   },
   {
    "duration": 36,
    "start_time": "2021-08-07T08:39:22.663Z"
   },
   {
    "duration": 5,
    "start_time": "2021-08-07T08:40:33.505Z"
   },
   {
    "duration": 31,
    "start_time": "2021-08-07T08:40:36.101Z"
   },
   {
    "duration": 5,
    "start_time": "2021-08-07T08:41:15.665Z"
   },
   {
    "duration": 34,
    "start_time": "2021-08-07T08:41:18.961Z"
   },
   {
    "duration": 5,
    "start_time": "2021-08-07T08:41:31.937Z"
   },
   {
    "duration": 31,
    "start_time": "2021-08-07T08:41:33.955Z"
   },
   {
    "duration": 265,
    "start_time": "2021-08-07T08:45:14.808Z"
   },
   {
    "duration": 4,
    "start_time": "2021-08-07T08:45:22.411Z"
   },
   {
    "duration": 725,
    "start_time": "2021-08-07T08:45:25.952Z"
   },
   {
    "duration": 731,
    "start_time": "2021-08-07T08:46:01.057Z"
   },
   {
    "duration": 767,
    "start_time": "2021-08-07T08:46:47.763Z"
   },
   {
    "duration": 6,
    "start_time": "2021-08-07T08:47:24.092Z"
   },
   {
    "duration": 29,
    "start_time": "2021-08-07T08:47:26.138Z"
   },
   {
    "duration": 28,
    "start_time": "2021-08-07T08:47:44.599Z"
   },
   {
    "duration": 26,
    "start_time": "2021-08-07T08:49:51.912Z"
   },
   {
    "duration": 27,
    "start_time": "2021-08-07T08:50:52.961Z"
   },
   {
    "duration": 28,
    "start_time": "2021-08-07T08:51:30.643Z"
   },
   {
    "duration": 74,
    "start_time": "2021-08-07T08:54:46.799Z"
   },
   {
    "duration": 28,
    "start_time": "2021-08-07T08:55:02.042Z"
   },
   {
    "duration": 126,
    "start_time": "2021-08-07T08:58:39.604Z"
   },
   {
    "duration": 180,
    "start_time": "2021-08-07T08:58:54.590Z"
   },
   {
    "duration": 128,
    "start_time": "2021-08-07T09:03:19.301Z"
   },
   {
    "duration": 379,
    "start_time": "2021-08-07T09:03:34.733Z"
   },
   {
    "duration": 129,
    "start_time": "2021-08-07T09:04:30.159Z"
   },
   {
    "duration": 131,
    "start_time": "2021-08-07T09:04:48.246Z"
   },
   {
    "duration": 33,
    "start_time": "2021-08-07T09:05:09.792Z"
   },
   {
    "duration": 788,
    "start_time": "2021-08-07T09:13:03.828Z"
   },
   {
    "duration": 795,
    "start_time": "2021-08-07T09:14:47.312Z"
   },
   {
    "duration": 722,
    "start_time": "2021-08-07T09:16:28.586Z"
   },
   {
    "duration": 725,
    "start_time": "2021-08-07T09:17:11.563Z"
   },
   {
    "duration": 3,
    "start_time": "2021-08-07T09:45:34.579Z"
   },
   {
    "duration": 1101,
    "start_time": "2021-08-07T09:46:21.994Z"
   },
   {
    "duration": 7,
    "start_time": "2021-08-07T09:50:50.761Z"
   },
   {
    "duration": 859,
    "start_time": "2021-08-07T09:50:53.280Z"
   },
   {
    "duration": 760,
    "start_time": "2021-08-07T09:51:20.097Z"
   },
   {
    "duration": 717,
    "start_time": "2021-08-07T09:51:45.347Z"
   },
   {
    "duration": 696,
    "start_time": "2021-08-07T09:51:55.114Z"
   },
   {
    "duration": 726,
    "start_time": "2021-08-07T09:52:08.265Z"
   },
   {
    "duration": 9,
    "start_time": "2021-08-07T09:53:54.199Z"
   },
   {
    "duration": 34,
    "start_time": "2021-08-07T09:53:57.889Z"
   },
   {
    "duration": 28,
    "start_time": "2021-08-07T09:54:00.747Z"
   },
   {
    "duration": 33,
    "start_time": "2021-08-07T09:54:04.221Z"
   },
   {
    "duration": 29,
    "start_time": "2021-08-07T09:54:04.947Z"
   },
   {
    "duration": 29,
    "start_time": "2021-08-07T09:54:07.237Z"
   },
   {
    "duration": 34,
    "start_time": "2021-08-07T09:54:08.021Z"
   },
   {
    "duration": 12,
    "start_time": "2021-08-07T09:56:18.289Z"
   },
   {
    "duration": 10,
    "start_time": "2021-08-07T10:05:11.623Z"
   },
   {
    "duration": 469,
    "start_time": "2021-08-07T10:23:11.613Z"
   },
   {
    "duration": 690,
    "start_time": "2021-08-07T10:23:42.479Z"
   },
   {
    "duration": 558,
    "start_time": "2021-08-07T10:26:16.338Z"
   },
   {
    "duration": 10226,
    "start_time": "2021-08-07T10:29:12.229Z"
   },
   {
    "duration": 659,
    "start_time": "2021-08-07T10:29:45.305Z"
   },
   {
    "duration": 748,
    "start_time": "2021-08-07T10:30:33.044Z"
   },
   {
    "duration": 15,
    "start_time": "2021-08-07T10:34:37.702Z"
   },
   {
    "duration": 348,
    "start_time": "2021-08-07T10:34:40.933Z"
   },
   {
    "duration": 14,
    "start_time": "2021-08-07T10:35:01.406Z"
   },
   {
    "duration": 303,
    "start_time": "2021-08-07T10:35:05.470Z"
   },
   {
    "duration": 402,
    "start_time": "2021-08-07T10:36:29.624Z"
   },
   {
    "duration": 545,
    "start_time": "2021-08-07T10:36:49.009Z"
   },
   {
    "duration": 15,
    "start_time": "2021-08-07T10:37:24.034Z"
   },
   {
    "duration": 19,
    "start_time": "2021-08-07T10:37:54.626Z"
   },
   {
    "duration": 12,
    "start_time": "2021-08-07T10:38:13.747Z"
   },
   {
    "duration": 14,
    "start_time": "2021-08-07T10:38:29.987Z"
   },
   {
    "duration": 657,
    "start_time": "2021-08-07T10:38:50.392Z"
   },
   {
    "duration": 404,
    "start_time": "2021-08-07T10:46:06.194Z"
   },
   {
    "duration": 443,
    "start_time": "2021-08-07T10:46:34.057Z"
   },
   {
    "duration": 421,
    "start_time": "2021-08-07T10:49:18.749Z"
   },
   {
    "duration": 472,
    "start_time": "2021-08-07T10:49:27.013Z"
   },
   {
    "duration": 414,
    "start_time": "2021-08-07T10:49:39.308Z"
   },
   {
    "duration": 12,
    "start_time": "2021-08-07T10:51:42.549Z"
   },
   {
    "duration": 7,
    "start_time": "2021-08-07T10:52:02.122Z"
   },
   {
    "duration": 11,
    "start_time": "2021-08-07T10:52:21.970Z"
   },
   {
    "duration": 13,
    "start_time": "2021-08-07T10:52:33.163Z"
   },
   {
    "duration": 10,
    "start_time": "2021-08-07T10:59:51.367Z"
   },
   {
    "duration": 393,
    "start_time": "2021-08-07T11:04:06.970Z"
   },
   {
    "duration": 402,
    "start_time": "2021-08-07T11:04:37.974Z"
   },
   {
    "duration": 775,
    "start_time": "2021-08-07T11:04:51.293Z"
   },
   {
    "duration": 439,
    "start_time": "2021-08-07T11:05:49.566Z"
   },
   {
    "duration": 42,
    "start_time": "2021-08-07T11:06:16.146Z"
   },
   {
    "duration": 12,
    "start_time": "2021-08-07T11:13:29.694Z"
   },
   {
    "duration": 595,
    "start_time": "2021-08-07T11:19:54.318Z"
   },
   {
    "duration": 21,
    "start_time": "2021-08-07T11:20:25.050Z"
   },
   {
    "duration": 11,
    "start_time": "2021-08-07T11:21:00.311Z"
   },
   {
    "duration": 11,
    "start_time": "2021-08-07T11:21:04.311Z"
   },
   {
    "duration": 7,
    "start_time": "2021-08-07T11:23:12.876Z"
   },
   {
    "duration": 7,
    "start_time": "2021-08-07T11:23:31.852Z"
   },
   {
    "duration": 8,
    "start_time": "2021-08-07T11:25:12.102Z"
   },
   {
    "duration": 455,
    "start_time": "2021-08-07T11:26:46.052Z"
   },
   {
    "duration": 20,
    "start_time": "2021-08-07T11:28:02.280Z"
   },
   {
    "duration": 18,
    "start_time": "2021-08-07T11:28:24.781Z"
   },
   {
    "duration": 11,
    "start_time": "2021-08-07T11:28:29.748Z"
   },
   {
    "duration": 7,
    "start_time": "2021-08-07T11:31:48.064Z"
   },
   {
    "duration": 6,
    "start_time": "2021-08-07T11:32:46.040Z"
   },
   {
    "duration": 6,
    "start_time": "2021-08-07T11:35:18.623Z"
   },
   {
    "duration": 8,
    "start_time": "2021-08-07T11:35:51.436Z"
   },
   {
    "duration": 189,
    "start_time": "2021-08-07T11:36:32.789Z"
   },
   {
    "duration": 28,
    "start_time": "2021-08-07T11:36:37.928Z"
   },
   {
    "duration": 62,
    "start_time": "2021-08-07T11:37:03.932Z"
   },
   {
    "duration": 9,
    "start_time": "2021-08-07T11:47:42.553Z"
   },
   {
    "duration": 4,
    "start_time": "2021-08-07T11:48:50.075Z"
   },
   {
    "duration": 1956,
    "start_time": "2021-08-07T11:51:35.761Z"
   },
   {
    "duration": 4,
    "start_time": "2021-08-07T11:52:07.569Z"
   },
   {
    "duration": 1998,
    "start_time": "2021-08-07T11:52:09.464Z"
   },
   {
    "duration": 4,
    "start_time": "2021-08-07T11:53:23.660Z"
   },
   {
    "duration": 2632,
    "start_time": "2021-08-07T11:53:25.603Z"
   },
   {
    "duration": 7,
    "start_time": "2021-08-07T11:54:32.286Z"
   },
   {
    "duration": 7,
    "start_time": "2021-08-07T11:55:18.517Z"
   },
   {
    "duration": 410,
    "start_time": "2021-08-07T11:56:53.517Z"
   },
   {
    "duration": 9,
    "start_time": "2021-08-07T12:05:59.799Z"
   },
   {
    "duration": 132,
    "start_time": "2021-08-07T12:07:09.841Z"
   },
   {
    "duration": 12,
    "start_time": "2021-08-07T12:07:18.435Z"
   },
   {
    "duration": 12,
    "start_time": "2021-08-07T12:07:42.202Z"
   },
   {
    "duration": 14,
    "start_time": "2021-08-07T12:07:45.394Z"
   },
   {
    "duration": 11,
    "start_time": "2021-08-07T12:08:00.610Z"
   },
   {
    "duration": 12,
    "start_time": "2021-08-07T12:08:14.371Z"
   },
   {
    "duration": 16,
    "start_time": "2021-08-07T12:09:03.125Z"
   },
   {
    "duration": 15,
    "start_time": "2021-08-07T12:09:09.372Z"
   },
   {
    "duration": 10,
    "start_time": "2021-08-07T12:09:24.739Z"
   },
   {
    "duration": 16,
    "start_time": "2021-08-07T12:09:26.803Z"
   },
   {
    "duration": 1934,
    "start_time": "2021-08-07T12:10:03.941Z"
   },
   {
    "duration": 7,
    "start_time": "2021-08-07T12:11:05.463Z"
   },
   {
    "duration": 2024,
    "start_time": "2021-08-07T12:13:21.908Z"
   },
   {
    "duration": 4,
    "start_time": "2021-08-07T12:13:50.059Z"
   },
   {
    "duration": 16,
    "start_time": "2021-08-07T12:13:51.395Z"
   },
   {
    "duration": 18,
    "start_time": "2021-08-07T12:14:22.727Z"
   },
   {
    "duration": 23,
    "start_time": "2021-08-07T12:14:58.504Z"
   },
   {
    "duration": 21,
    "start_time": "2021-08-07T12:15:06.685Z"
   },
   {
    "duration": 136,
    "start_time": "2021-08-07T12:16:01.381Z"
   },
   {
    "duration": 159,
    "start_time": "2021-08-07T12:16:24.382Z"
   },
   {
    "duration": 13,
    "start_time": "2021-08-07T12:16:43.936Z"
   },
   {
    "duration": 563,
    "start_time": "2021-08-07T12:17:24.074Z"
   },
   {
    "duration": 15,
    "start_time": "2021-08-07T12:17:33.642Z"
   },
   {
    "duration": 14,
    "start_time": "2021-08-07T12:18:02.539Z"
   },
   {
    "duration": 21,
    "start_time": "2021-08-07T12:18:17.906Z"
   },
   {
    "duration": 417,
    "start_time": "2021-08-07T12:22:21.106Z"
   },
   {
    "duration": 147,
    "start_time": "2021-08-07T12:24:19.181Z"
   },
   {
    "duration": 395,
    "start_time": "2021-08-07T12:24:27.747Z"
   },
   {
    "duration": 3,
    "start_time": "2021-08-07T12:25:01.631Z"
   },
   {
    "duration": 24,
    "start_time": "2021-08-07T12:25:02.303Z"
   },
   {
    "duration": 13,
    "start_time": "2021-08-07T12:26:21.333Z"
   },
   {
    "duration": 12,
    "start_time": "2021-08-07T12:27:01.624Z"
   },
   {
    "duration": 21,
    "start_time": "2021-08-07T12:31:29.495Z"
   },
   {
    "duration": 9769,
    "start_time": "2021-08-07T12:37:41.809Z"
   },
   {
    "duration": 320,
    "start_time": "2021-08-07T12:38:04.426Z"
   },
   {
    "duration": 324,
    "start_time": "2021-08-07T12:39:19.570Z"
   },
   {
    "duration": 483,
    "start_time": "2021-08-07T12:40:15.942Z"
   },
   {
    "duration": 408,
    "start_time": "2021-08-07T12:44:27.756Z"
   },
   {
    "duration": 9,
    "start_time": "2021-08-07T12:50:43.431Z"
   },
   {
    "duration": 381,
    "start_time": "2021-08-07T12:54:10.693Z"
   },
   {
    "duration": 416,
    "start_time": "2021-08-07T13:11:32.514Z"
   },
   {
    "duration": 946,
    "start_time": "2021-08-07T13:12:18.866Z"
   },
   {
    "duration": 410,
    "start_time": "2021-08-07T13:13:46.875Z"
   },
   {
    "duration": 654,
    "start_time": "2021-08-07T13:14:16.165Z"
   },
   {
    "duration": 303,
    "start_time": "2021-08-07T14:01:09.390Z"
   },
   {
    "duration": 438,
    "start_time": "2021-08-07T14:01:46.814Z"
   },
   {
    "duration": 9,
    "start_time": "2021-08-07T14:02:05.831Z"
   },
   {
    "duration": 384,
    "start_time": "2021-08-07T14:02:07.217Z"
   },
   {
    "duration": 305,
    "start_time": "2021-08-07T14:03:09.507Z"
   },
   {
    "duration": 291,
    "start_time": "2021-08-07T14:03:29.812Z"
   },
   {
    "duration": 97,
    "start_time": "2021-08-07T14:03:55.310Z"
   },
   {
    "duration": 43,
    "start_time": "2021-08-07T14:03:55.410Z"
   },
   {
    "duration": 39,
    "start_time": "2021-08-07T14:03:55.456Z"
   },
   {
    "duration": 15,
    "start_time": "2021-08-07T14:03:55.499Z"
   },
   {
    "duration": 25,
    "start_time": "2021-08-07T14:03:55.517Z"
   },
   {
    "duration": 53,
    "start_time": "2021-08-07T14:03:55.544Z"
   },
   {
    "duration": 12,
    "start_time": "2021-08-07T14:03:55.600Z"
   },
   {
    "duration": 194,
    "start_time": "2021-08-07T14:03:55.618Z"
   },
   {
    "duration": 123,
    "start_time": "2021-08-07T14:03:55.816Z"
   },
   {
    "duration": 10,
    "start_time": "2021-08-07T14:03:55.941Z"
   },
   {
    "duration": 44,
    "start_time": "2021-08-07T14:03:55.953Z"
   },
   {
    "duration": 76,
    "start_time": "2021-08-07T14:03:56.007Z"
   },
   {
    "duration": 85,
    "start_time": "2021-08-07T14:03:56.086Z"
   },
   {
    "duration": 42,
    "start_time": "2021-08-07T14:03:56.191Z"
   },
   {
    "duration": 24,
    "start_time": "2021-08-07T14:03:56.236Z"
   },
   {
    "duration": 61,
    "start_time": "2021-08-07T14:03:56.263Z"
   },
   {
    "duration": 23,
    "start_time": "2021-08-07T14:03:56.326Z"
   },
   {
    "duration": 44,
    "start_time": "2021-08-07T14:03:56.352Z"
   },
   {
    "duration": 51,
    "start_time": "2021-08-07T14:03:56.398Z"
   },
   {
    "duration": 6,
    "start_time": "2021-08-07T14:03:56.451Z"
   },
   {
    "duration": 17,
    "start_time": "2021-08-07T14:03:56.459Z"
   },
   {
    "duration": 15,
    "start_time": "2021-08-07T14:03:56.478Z"
   },
   {
    "duration": 11,
    "start_time": "2021-08-07T14:03:56.501Z"
   },
   {
    "duration": 11,
    "start_time": "2021-08-07T14:03:56.516Z"
   },
   {
    "duration": 1085,
    "start_time": "2021-08-07T14:03:56.531Z"
   },
   {
    "duration": 3,
    "start_time": "2021-08-07T14:03:57.619Z"
   },
   {
    "duration": 14,
    "start_time": "2021-08-07T14:03:57.625Z"
   },
   {
    "duration": 7,
    "start_time": "2021-08-07T14:03:57.642Z"
   },
   {
    "duration": 8,
    "start_time": "2021-08-07T14:03:57.652Z"
   },
   {
    "duration": 372,
    "start_time": "2021-08-07T14:03:57.663Z"
   },
   {
    "duration": 484,
    "start_time": "2021-08-07T14:03:58.038Z"
   },
   {
    "duration": 12,
    "start_time": "2021-08-07T14:03:58.524Z"
   },
   {
    "duration": 390,
    "start_time": "2021-08-07T14:03:58.539Z"
   },
   {
    "duration": 12,
    "start_time": "2021-08-07T14:03:58.932Z"
   },
   {
    "duration": 337,
    "start_time": "2021-08-07T14:03:58.947Z"
   },
   {
    "duration": 328,
    "start_time": "2021-08-07T14:03:59.290Z"
   },
   {
    "duration": 579,
    "start_time": "2021-08-07T14:03:59.621Z"
   },
   {
    "duration": 827,
    "start_time": "2021-08-07T14:04:00.203Z"
   },
   {
    "duration": 11,
    "start_time": "2021-08-07T14:04:01.039Z"
   },
   {
    "duration": 53,
    "start_time": "2021-08-07T14:04:01.052Z"
   },
   {
    "duration": 18,
    "start_time": "2021-08-07T14:04:01.113Z"
   },
   {
    "duration": 21,
    "start_time": "2021-08-07T14:04:01.136Z"
   },
   {
    "duration": 12,
    "start_time": "2021-08-07T14:04:01.161Z"
   },
   {
    "duration": 1024,
    "start_time": "2021-08-07T14:04:01.176Z"
   },
   {
    "duration": 711,
    "start_time": "2021-08-07T14:04:02.203Z"
   },
   {
    "duration": 755,
    "start_time": "2021-08-07T14:04:02.917Z"
   },
   {
    "duration": 778,
    "start_time": "2021-08-07T14:04:03.675Z"
   },
   {
    "duration": 739,
    "start_time": "2021-08-07T14:04:04.456Z"
   },
   {
    "duration": 728,
    "start_time": "2021-08-07T14:04:05.198Z"
   },
   {
    "duration": 6,
    "start_time": "2021-08-07T14:04:05.930Z"
   },
   {
    "duration": 61,
    "start_time": "2021-08-07T14:04:05.939Z"
   },
   {
    "duration": 31,
    "start_time": "2021-08-07T14:04:06.003Z"
   },
   {
    "duration": 53,
    "start_time": "2021-08-07T14:04:06.037Z"
   },
   {
    "duration": 35,
    "start_time": "2021-08-07T14:04:06.093Z"
   },
   {
    "duration": 28,
    "start_time": "2021-08-07T14:04:06.130Z"
   },
   {
    "duration": 43,
    "start_time": "2021-08-07T14:04:06.187Z"
   },
   {
    "duration": 54,
    "start_time": "2021-08-07T14:04:06.233Z"
   },
   {
    "duration": 12,
    "start_time": "2021-08-07T14:04:06.290Z"
   },
   {
    "duration": 25,
    "start_time": "2021-08-07T14:04:06.306Z"
   },
   {
    "duration": 10,
    "start_time": "2021-08-07T14:04:06.334Z"
   },
   {
    "duration": 54,
    "start_time": "2021-08-07T14:04:06.347Z"
   },
   {
    "duration": 5,
    "start_time": "2021-08-07T14:04:06.404Z"
   },
   {
    "duration": 31,
    "start_time": "2021-08-07T14:04:06.412Z"
   },
   {
    "duration": 28,
    "start_time": "2021-08-07T14:04:06.446Z"
   },
   {
    "duration": 445,
    "start_time": "2021-08-07T14:04:06.477Z"
   },
   {
    "duration": 9,
    "start_time": "2021-08-07T14:04:06.925Z"
   },
   {
    "duration": 485,
    "start_time": "2021-08-07T14:04:06.937Z"
   },
   {
    "duration": 315,
    "start_time": "2021-08-07T14:04:07.424Z"
   },
   {
    "duration": 393,
    "start_time": "2021-08-07T14:05:35.245Z"
   },
   {
    "duration": 461,
    "start_time": "2021-08-07T14:05:47.813Z"
   },
   {
    "duration": 1072,
    "start_time": "2021-08-07T14:05:52.549Z"
   },
   {
    "duration": 10,
    "start_time": "2021-08-07T14:06:30.079Z"
   },
   {
    "duration": 710,
    "start_time": "2021-08-07T14:07:02.536Z"
   },
   {
    "duration": 737,
    "start_time": "2021-08-07T14:07:13.983Z"
   },
   {
    "duration": 391,
    "start_time": "2021-08-07T14:07:34.408Z"
   },
   {
    "duration": 310,
    "start_time": "2021-08-07T14:08:17.097Z"
   },
   {
    "duration": 338,
    "start_time": "2021-08-07T14:09:40.108Z"
   },
   {
    "duration": 336,
    "start_time": "2021-08-07T14:09:54.308Z"
   },
   {
    "duration": 278,
    "start_time": "2021-08-07T14:10:12.700Z"
   },
   {
    "duration": 302,
    "start_time": "2021-08-07T14:10:24.013Z"
   },
   {
    "duration": 469,
    "start_time": "2021-08-07T14:10:29.549Z"
   },
   {
    "duration": 423,
    "start_time": "2021-08-07T14:10:40.300Z"
   },
   {
    "duration": 381,
    "start_time": "2021-08-07T14:10:58.534Z"
   },
   {
    "duration": 507,
    "start_time": "2021-08-07T14:11:22.302Z"
   },
   {
    "duration": 430,
    "start_time": "2021-08-07T14:29:44.084Z"
   },
   {
    "duration": 470,
    "start_time": "2021-08-07T14:30:09.356Z"
   },
   {
    "duration": 684,
    "start_time": "2021-08-07T14:32:24.225Z"
   },
   {
    "duration": 378,
    "start_time": "2021-08-07T14:32:38.743Z"
   },
   {
    "duration": 304,
    "start_time": "2021-08-07T14:33:12.209Z"
   },
   {
    "duration": 335,
    "start_time": "2021-08-07T14:33:40.923Z"
   },
   {
    "duration": 315,
    "start_time": "2021-08-07T14:33:52.064Z"
   },
   {
    "duration": 357,
    "start_time": "2021-08-07T14:36:09.277Z"
   },
   {
    "duration": 482,
    "start_time": "2021-08-07T14:36:53.422Z"
   },
   {
    "duration": 4,
    "start_time": "2021-08-07T14:42:15.650Z"
   },
   {
    "duration": 488,
    "start_time": "2021-08-07T14:42:54.852Z"
   },
   {
    "duration": 1006,
    "start_time": "2021-08-07T14:49:19.187Z"
   },
   {
    "duration": 59,
    "start_time": "2021-08-07T15:01:58.590Z"
   },
   {
    "duration": 434,
    "start_time": "2021-08-07T15:05:20.548Z"
   },
   {
    "duration": 57,
    "start_time": "2021-08-07T15:05:34.180Z"
   },
   {
    "duration": 32,
    "start_time": "2021-08-07T15:08:11.559Z"
   },
   {
    "duration": 417,
    "start_time": "2021-08-07T15:12:28.214Z"
   },
   {
    "duration": 5,
    "start_time": "2021-08-07T15:12:46.724Z"
   },
   {
    "duration": 778,
    "start_time": "2021-08-07T15:12:47.934Z"
   },
   {
    "duration": 6,
    "start_time": "2021-08-07T15:14:39.866Z"
   },
   {
    "duration": 890,
    "start_time": "2021-08-07T15:14:47.090Z"
   },
   {
    "duration": 886,
    "start_time": "2021-08-07T15:15:26.371Z"
   },
   {
    "duration": 570,
    "start_time": "2021-08-07T15:17:19.743Z"
   },
   {
    "duration": 933,
    "start_time": "2021-08-07T15:17:52.352Z"
   },
   {
    "duration": 5,
    "start_time": "2021-08-07T15:31:40.974Z"
   },
   {
    "duration": 5,
    "start_time": "2021-08-07T15:31:42.174Z"
   },
   {
    "duration": 771,
    "start_time": "2021-08-07T15:31:42.903Z"
   },
   {
    "duration": 6,
    "start_time": "2021-08-07T15:33:05.255Z"
   },
   {
    "duration": 5,
    "start_time": "2021-08-07T15:33:05.976Z"
   },
   {
    "duration": 1140,
    "start_time": "2021-08-07T15:33:08.270Z"
   },
   {
    "duration": 862,
    "start_time": "2021-08-07T15:33:20.175Z"
   },
   {
    "duration": 903,
    "start_time": "2021-08-07T15:34:25.280Z"
   },
   {
    "duration": 935,
    "start_time": "2021-08-07T15:37:46.535Z"
   },
   {
    "duration": 6,
    "start_time": "2021-08-07T15:38:48.125Z"
   },
   {
    "duration": 4,
    "start_time": "2021-08-07T15:39:01.976Z"
   },
   {
    "duration": 884,
    "start_time": "2021-08-07T15:39:05.960Z"
   },
   {
    "duration": 1058,
    "start_time": "2021-08-07T15:39:09.209Z"
   },
   {
    "duration": 7,
    "start_time": "2021-08-07T15:41:32.588Z"
   },
   {
    "duration": 7,
    "start_time": "2021-08-07T15:41:34.819Z"
   },
   {
    "duration": 1031,
    "start_time": "2021-08-07T15:41:39.763Z"
   },
   {
    "duration": 824,
    "start_time": "2021-08-07T15:41:43.320Z"
   },
   {
    "duration": 997,
    "start_time": "2021-08-07T15:42:04.238Z"
   },
   {
    "duration": 7,
    "start_time": "2021-08-07T15:42:35.698Z"
   },
   {
    "duration": 7,
    "start_time": "2021-08-07T15:42:36.981Z"
   },
   {
    "duration": 1072,
    "start_time": "2021-08-07T15:42:47.390Z"
   },
   {
    "duration": 1009,
    "start_time": "2021-08-07T15:42:50.502Z"
   },
   {
    "duration": 924,
    "start_time": "2021-08-07T15:43:21.023Z"
   },
   {
    "duration": 811,
    "start_time": "2021-08-07T15:43:27.126Z"
   },
   {
    "duration": 147,
    "start_time": "2021-08-07T15:46:23.293Z"
   },
   {
    "duration": 9,
    "start_time": "2021-08-07T15:46:47.188Z"
   },
   {
    "duration": 30,
    "start_time": "2021-08-07T15:47:00.717Z"
   },
   {
    "duration": 6,
    "start_time": "2021-08-07T15:50:12.441Z"
   },
   {
    "duration": 780,
    "start_time": "2021-08-07T15:50:16.785Z"
   },
   {
    "duration": 859,
    "start_time": "2021-08-07T15:50:20.321Z"
   },
   {
    "duration": 6,
    "start_time": "2021-08-07T15:50:49.948Z"
   },
   {
    "duration": 31,
    "start_time": "2021-08-07T15:50:50.939Z"
   },
   {
    "duration": 45,
    "start_time": "2021-08-07T15:51:25.563Z"
   },
   {
    "duration": 9,
    "start_time": "2021-08-07T15:56:22.779Z"
   },
   {
    "duration": 28,
    "start_time": "2021-08-07T15:58:06.039Z"
   },
   {
    "duration": 1439,
    "start_time": "2021-08-07T15:58:07.008Z"
   },
   {
    "duration": 10,
    "start_time": "2021-08-07T15:58:24.559Z"
   },
   {
    "duration": 373,
    "start_time": "2021-08-07T15:58:25.776Z"
   },
   {
    "duration": 10,
    "start_time": "2021-08-07T16:00:13.922Z"
   },
   {
    "duration": 859,
    "start_time": "2021-08-07T16:00:16.058Z"
   },
   {
    "duration": 139,
    "start_time": "2021-08-07T16:01:04.324Z"
   },
   {
    "duration": 149,
    "start_time": "2021-08-07T16:01:10.652Z"
   },
   {
    "duration": 1100,
    "start_time": "2021-08-07T16:01:12.029Z"
   },
   {
    "duration": 9,
    "start_time": "2021-08-07T16:01:33.572Z"
   },
   {
    "duration": 1133,
    "start_time": "2021-08-07T16:01:34.652Z"
   },
   {
    "duration": 11,
    "start_time": "2021-08-07T16:02:15.926Z"
   },
   {
    "duration": 1180,
    "start_time": "2021-08-07T16:02:16.792Z"
   },
   {
    "duration": 9,
    "start_time": "2021-08-07T16:05:46.501Z"
   },
   {
    "duration": 846,
    "start_time": "2021-08-07T16:05:47.998Z"
   },
   {
    "duration": 14,
    "start_time": "2021-08-07T16:08:12.194Z"
   },
   {
    "duration": 924,
    "start_time": "2021-08-07T16:08:13.327Z"
   },
   {
    "duration": 8,
    "start_time": "2021-08-07T16:08:53.056Z"
   },
   {
    "duration": 931,
    "start_time": "2021-08-07T16:08:56.095Z"
   },
   {
    "duration": 7,
    "start_time": "2021-08-07T16:09:14.348Z"
   },
   {
    "duration": 762,
    "start_time": "2021-08-07T16:09:15.755Z"
   },
   {
    "duration": 10,
    "start_time": "2021-08-07T16:09:42.779Z"
   },
   {
    "duration": 803,
    "start_time": "2021-08-07T16:09:43.546Z"
   },
   {
    "duration": 3,
    "start_time": "2021-08-07T16:11:59.893Z"
   },
   {
    "duration": 27,
    "start_time": "2021-08-07T16:13:48.855Z"
   },
   {
    "duration": 678,
    "start_time": "2021-08-07T16:22:16.494Z"
   },
   {
    "duration": 586,
    "start_time": "2021-08-07T16:26:28.941Z"
   },
   {
    "duration": 4,
    "start_time": "2021-08-07T16:27:45.687Z"
   },
   {
    "duration": 33,
    "start_time": "2021-08-07T16:31:25.933Z"
   },
   {
    "duration": 1132,
    "start_time": "2021-08-07T16:39:42.514Z"
   },
   {
    "duration": 74,
    "start_time": "2021-08-07T16:39:43.649Z"
   },
   {
    "duration": 24,
    "start_time": "2021-08-07T16:39:43.728Z"
   },
   {
    "duration": 38,
    "start_time": "2021-08-07T16:39:43.757Z"
   },
   {
    "duration": 26,
    "start_time": "2021-08-07T16:39:43.805Z"
   },
   {
    "duration": 11,
    "start_time": "2021-08-07T16:39:43.833Z"
   },
   {
    "duration": 7,
    "start_time": "2021-08-07T16:39:43.848Z"
   },
   {
    "duration": 140,
    "start_time": "2021-08-07T16:39:43.859Z"
   },
   {
    "duration": 127,
    "start_time": "2021-08-07T16:39:44.003Z"
   },
   {
    "duration": 14,
    "start_time": "2021-08-07T16:39:44.133Z"
   },
   {
    "duration": 8,
    "start_time": "2021-08-07T16:39:44.150Z"
   },
   {
    "duration": 156,
    "start_time": "2021-08-07T16:39:44.161Z"
   },
   {
    "duration": 134,
    "start_time": "2021-08-07T16:39:44.321Z"
   },
   {
    "duration": 54,
    "start_time": "2021-08-07T16:39:44.458Z"
   },
   {
    "duration": 23,
    "start_time": "2021-08-07T16:39:44.518Z"
   },
   {
    "duration": 69,
    "start_time": "2021-08-07T16:39:44.544Z"
   },
   {
    "duration": 29,
    "start_time": "2021-08-07T16:39:44.616Z"
   },
   {
    "duration": 11,
    "start_time": "2021-08-07T16:39:44.648Z"
   },
   {
    "duration": 45,
    "start_time": "2021-08-07T16:39:44.697Z"
   },
   {
    "duration": 7,
    "start_time": "2021-08-07T16:39:44.744Z"
   },
   {
    "duration": 11,
    "start_time": "2021-08-07T16:39:44.753Z"
   },
   {
    "duration": 11,
    "start_time": "2021-08-07T16:39:44.785Z"
   },
   {
    "duration": 13,
    "start_time": "2021-08-07T16:39:44.812Z"
   },
   {
    "duration": 7,
    "start_time": "2021-08-07T16:39:44.834Z"
   },
   {
    "duration": 1407,
    "start_time": "2021-08-07T16:39:44.844Z"
   },
   {
    "duration": 3,
    "start_time": "2021-08-07T16:39:46.254Z"
   },
   {
    "duration": 11,
    "start_time": "2021-08-07T16:39:46.260Z"
   },
   {
    "duration": 28,
    "start_time": "2021-08-07T16:39:46.274Z"
   },
   {
    "duration": 16,
    "start_time": "2021-08-07T16:39:46.305Z"
   },
   {
    "duration": 596,
    "start_time": "2021-08-07T16:39:46.325Z"
   },
   {
    "duration": 608,
    "start_time": "2021-08-07T16:39:46.926Z"
   },
   {
    "duration": 1216,
    "start_time": "2021-08-07T16:39:46.321Z"
   },
   {
    "duration": 1208,
    "start_time": "2021-08-07T16:39:46.331Z"
   },
   {
    "duration": 1199,
    "start_time": "2021-08-07T16:39:46.342Z"
   },
   {
    "duration": 1192,
    "start_time": "2021-08-07T16:39:46.351Z"
   },
   {
    "duration": 1157,
    "start_time": "2021-08-07T16:39:46.389Z"
   },
   {
    "duration": 1147,
    "start_time": "2021-08-07T16:39:46.401Z"
   },
   {
    "duration": 1138,
    "start_time": "2021-08-07T16:39:46.413Z"
   },
   {
    "duration": 1131,
    "start_time": "2021-08-07T16:39:46.422Z"
   },
   {
    "duration": 1123,
    "start_time": "2021-08-07T16:39:46.432Z"
   },
   {
    "duration": 1117,
    "start_time": "2021-08-07T16:39:46.441Z"
   },
   {
    "duration": 1110,
    "start_time": "2021-08-07T16:39:46.450Z"
   },
   {
    "duration": 1103,
    "start_time": "2021-08-07T16:39:46.459Z"
   },
   {
    "duration": 1093,
    "start_time": "2021-08-07T16:39:46.471Z"
   },
   {
    "duration": 1086,
    "start_time": "2021-08-07T16:39:46.481Z"
   },
   {
    "duration": 1067,
    "start_time": "2021-08-07T16:39:46.502Z"
   },
   {
    "duration": 1059,
    "start_time": "2021-08-07T16:39:46.512Z"
   },
   {
    "duration": 1052,
    "start_time": "2021-08-07T16:39:46.521Z"
   },
   {
    "duration": 1045,
    "start_time": "2021-08-07T16:39:46.530Z"
   },
   {
    "duration": 1064,
    "start_time": "2021-08-07T16:39:46.540Z"
   },
   {
    "duration": 1054,
    "start_time": "2021-08-07T16:39:46.552Z"
   },
   {
    "duration": 1047,
    "start_time": "2021-08-07T16:39:46.561Z"
   },
   {
    "duration": 1040,
    "start_time": "2021-08-07T16:39:46.570Z"
   },
   {
    "duration": 1034,
    "start_time": "2021-08-07T16:39:46.579Z"
   },
   {
    "duration": 1026,
    "start_time": "2021-08-07T16:39:46.589Z"
   },
   {
    "duration": 1008,
    "start_time": "2021-08-07T16:39:46.609Z"
   },
   {
    "duration": 999,
    "start_time": "2021-08-07T16:39:46.619Z"
   },
   {
    "duration": 996,
    "start_time": "2021-08-07T16:39:46.628Z"
   },
   {
    "duration": 987,
    "start_time": "2021-08-07T16:39:46.639Z"
   },
   {
    "duration": 979,
    "start_time": "2021-08-07T16:39:46.648Z"
   },
   {
    "duration": 970,
    "start_time": "2021-08-07T16:39:46.659Z"
   },
   {
    "duration": 962,
    "start_time": "2021-08-07T16:39:46.669Z"
   },
   {
    "duration": 953,
    "start_time": "2021-08-07T16:39:46.679Z"
   },
   {
    "duration": 945,
    "start_time": "2021-08-07T16:39:46.689Z"
   },
   {
    "duration": 936,
    "start_time": "2021-08-07T16:39:46.699Z"
   },
   {
    "duration": 920,
    "start_time": "2021-08-07T16:39:46.717Z"
   },
   {
    "duration": 912,
    "start_time": "2021-08-07T16:39:46.727Z"
   },
   {
    "duration": 904,
    "start_time": "2021-08-07T16:39:46.736Z"
   },
   {
    "duration": 938,
    "start_time": "2021-08-07T16:39:46.746Z"
   },
   {
    "duration": 931,
    "start_time": "2021-08-07T16:39:46.755Z"
   },
   {
    "duration": 933,
    "start_time": "2021-08-07T16:39:46.765Z"
   },
   {
    "duration": 926,
    "start_time": "2021-08-07T16:39:46.775Z"
   },
   {
    "duration": 917,
    "start_time": "2021-08-07T16:39:46.785Z"
   },
   {
    "duration": 909,
    "start_time": "2021-08-07T16:39:46.794Z"
   },
   {
    "duration": 900,
    "start_time": "2021-08-07T16:39:46.805Z"
   },
   {
    "duration": 892,
    "start_time": "2021-08-07T16:39:46.814Z"
   },
   {
    "duration": 874,
    "start_time": "2021-08-07T16:39:46.834Z"
   },
   {
    "duration": 866,
    "start_time": "2021-08-07T16:39:46.843Z"
   },
   {
    "duration": 118,
    "start_time": "2021-08-07T16:40:06.676Z"
   },
   {
    "duration": 52,
    "start_time": "2021-08-07T16:40:06.797Z"
   },
   {
    "duration": 54,
    "start_time": "2021-08-07T16:40:06.853Z"
   },
   {
    "duration": 19,
    "start_time": "2021-08-07T16:40:06.914Z"
   },
   {
    "duration": 70,
    "start_time": "2021-08-07T16:40:06.936Z"
   },
   {
    "duration": 19,
    "start_time": "2021-08-07T16:40:07.010Z"
   },
   {
    "duration": 15,
    "start_time": "2021-08-07T16:40:07.032Z"
   },
   {
    "duration": 118,
    "start_time": "2021-08-07T16:40:07.052Z"
   },
   {
    "duration": 125,
    "start_time": "2021-08-07T16:40:07.174Z"
   },
   {
    "duration": 18,
    "start_time": "2021-08-07T16:40:07.303Z"
   },
   {
    "duration": 8,
    "start_time": "2021-08-07T16:40:07.326Z"
   },
   {
    "duration": 126,
    "start_time": "2021-08-07T16:40:07.336Z"
   },
   {
    "duration": 99,
    "start_time": "2021-08-07T16:40:07.465Z"
   },
   {
    "duration": 58,
    "start_time": "2021-08-07T16:40:07.567Z"
   },
   {
    "duration": 23,
    "start_time": "2021-08-07T16:40:07.628Z"
   },
   {
    "duration": 45,
    "start_time": "2021-08-07T16:40:07.654Z"
   },
   {
    "duration": 37,
    "start_time": "2021-08-07T16:40:07.701Z"
   },
   {
    "duration": 45,
    "start_time": "2021-08-07T16:40:07.741Z"
   },
   {
    "duration": 52,
    "start_time": "2021-08-07T16:40:07.789Z"
   },
   {
    "duration": 6,
    "start_time": "2021-08-07T16:40:07.843Z"
   },
   {
    "duration": 41,
    "start_time": "2021-08-07T16:40:07.852Z"
   },
   {
    "duration": 21,
    "start_time": "2021-08-07T16:40:07.896Z"
   },
   {
    "duration": 9,
    "start_time": "2021-08-07T16:40:07.928Z"
   },
   {
    "duration": 8,
    "start_time": "2021-08-07T16:40:07.942Z"
   },
   {
    "duration": 1223,
    "start_time": "2021-08-07T16:40:07.953Z"
   },
   {
    "duration": 12,
    "start_time": "2021-08-07T16:40:09.179Z"
   },
   {
    "duration": 52,
    "start_time": "2021-08-07T16:40:09.194Z"
   },
   {
    "duration": 17,
    "start_time": "2021-08-07T16:40:09.249Z"
   },
   {
    "duration": 11,
    "start_time": "2021-08-07T16:40:09.269Z"
   },
   {
    "duration": 486,
    "start_time": "2021-08-07T16:40:09.282Z"
   },
   {
    "duration": 546,
    "start_time": "2021-08-07T16:40:09.771Z"
   },
   {
    "duration": 1677,
    "start_time": "2021-08-07T16:40:08.646Z"
   },
   {
    "duration": 1667,
    "start_time": "2021-08-07T16:40:08.657Z"
   },
   {
    "duration": 1655,
    "start_time": "2021-08-07T16:40:08.673Z"
   },
   {
    "duration": 1648,
    "start_time": "2021-08-07T16:40:08.683Z"
   },
   {
    "duration": 1639,
    "start_time": "2021-08-07T16:40:08.695Z"
   },
   {
    "duration": 1628,
    "start_time": "2021-08-07T16:40:08.710Z"
   },
   {
    "duration": 1579,
    "start_time": "2021-08-07T16:40:08.761Z"
   },
   {
    "duration": 1569,
    "start_time": "2021-08-07T16:40:08.773Z"
   },
   {
    "duration": 1211,
    "start_time": "2021-08-07T16:40:09.133Z"
   },
   {
    "duration": 1198,
    "start_time": "2021-08-07T16:40:09.148Z"
   },
   {
    "duration": 1181,
    "start_time": "2021-08-07T16:40:09.166Z"
   },
   {
    "duration": 1165,
    "start_time": "2021-08-07T16:40:09.184Z"
   },
   {
    "duration": 1152,
    "start_time": "2021-08-07T16:40:09.199Z"
   },
   {
    "duration": 1141,
    "start_time": "2021-08-07T16:40:09.213Z"
   },
   {
    "duration": 1115,
    "start_time": "2021-08-07T16:40:09.242Z"
   },
   {
    "duration": 1109,
    "start_time": "2021-08-07T16:40:09.252Z"
   },
   {
    "duration": 1100,
    "start_time": "2021-08-07T16:40:09.263Z"
   },
   {
    "duration": 1093,
    "start_time": "2021-08-07T16:40:09.273Z"
   },
   {
    "duration": 1086,
    "start_time": "2021-08-07T16:40:09.283Z"
   },
   {
    "duration": 1077,
    "start_time": "2021-08-07T16:40:09.294Z"
   },
   {
    "duration": 1070,
    "start_time": "2021-08-07T16:40:09.304Z"
   },
   {
    "duration": 1062,
    "start_time": "2021-08-07T16:40:09.314Z"
   },
   {
    "duration": 1071,
    "start_time": "2021-08-07T16:40:09.324Z"
   },
   {
    "duration": 1068,
    "start_time": "2021-08-07T16:40:09.333Z"
   },
   {
    "duration": 1049,
    "start_time": "2021-08-07T16:40:09.353Z"
   },
   {
    "duration": 1043,
    "start_time": "2021-08-07T16:40:09.362Z"
   },
   {
    "duration": 1034,
    "start_time": "2021-08-07T16:40:09.373Z"
   },
   {
    "duration": 1026,
    "start_time": "2021-08-07T16:40:09.383Z"
   },
   {
    "duration": 1018,
    "start_time": "2021-08-07T16:40:09.393Z"
   },
   {
    "duration": 1014,
    "start_time": "2021-08-07T16:40:09.406Z"
   },
   {
    "duration": 1007,
    "start_time": "2021-08-07T16:40:09.415Z"
   },
   {
    "duration": 1000,
    "start_time": "2021-08-07T16:40:09.424Z"
   },
   {
    "duration": 992,
    "start_time": "2021-08-07T16:40:09.434Z"
   },
   {
    "duration": 984,
    "start_time": "2021-08-07T16:40:09.444Z"
   },
   {
    "duration": 966,
    "start_time": "2021-08-07T16:40:09.464Z"
   },
   {
    "duration": 958,
    "start_time": "2021-08-07T16:40:09.474Z"
   },
   {
    "duration": 950,
    "start_time": "2021-08-07T16:40:09.484Z"
   },
   {
    "duration": 947,
    "start_time": "2021-08-07T16:40:09.494Z"
   },
   {
    "duration": 938,
    "start_time": "2021-08-07T16:40:09.505Z"
   },
   {
    "duration": 930,
    "start_time": "2021-08-07T16:40:09.515Z"
   },
   {
    "duration": 922,
    "start_time": "2021-08-07T16:40:09.525Z"
   },
   {
    "duration": 915,
    "start_time": "2021-08-07T16:40:09.533Z"
   },
   {
    "duration": 908,
    "start_time": "2021-08-07T16:40:09.543Z"
   },
   {
    "duration": 900,
    "start_time": "2021-08-07T16:40:09.552Z"
   },
   {
    "duration": 881,
    "start_time": "2021-08-07T16:40:09.573Z"
   },
   {
    "duration": 872,
    "start_time": "2021-08-07T16:40:09.583Z"
   },
   {
    "duration": 901,
    "start_time": "2021-08-07T16:40:09.592Z"
   },
   {
    "duration": 401,
    "start_time": "2021-08-07T16:41:19.958Z"
   },
   {
    "duration": 144,
    "start_time": "2021-08-07T16:41:33.519Z"
   },
   {
    "duration": 86,
    "start_time": "2021-08-07T16:41:33.667Z"
   },
   {
    "duration": 52,
    "start_time": "2021-08-07T16:41:33.758Z"
   },
   {
    "duration": 22,
    "start_time": "2021-08-07T16:41:33.821Z"
   },
   {
    "duration": 66,
    "start_time": "2021-08-07T16:41:33.846Z"
   },
   {
    "duration": 24,
    "start_time": "2021-08-07T16:41:33.915Z"
   },
   {
    "duration": 5,
    "start_time": "2021-08-07T16:41:33.943Z"
   },
   {
    "duration": 172,
    "start_time": "2021-08-07T16:41:33.953Z"
   },
   {
    "duration": 109,
    "start_time": "2021-08-07T16:41:34.133Z"
   },
   {
    "duration": 11,
    "start_time": "2021-08-07T16:41:34.244Z"
   },
   {
    "duration": 49,
    "start_time": "2021-08-07T16:41:34.258Z"
   },
   {
    "duration": 152,
    "start_time": "2021-08-07T16:41:34.311Z"
   },
   {
    "duration": 152,
    "start_time": "2021-08-07T16:41:34.467Z"
   },
   {
    "duration": 65,
    "start_time": "2021-08-07T16:41:34.624Z"
   },
   {
    "duration": 30,
    "start_time": "2021-08-07T16:41:34.696Z"
   },
   {
    "duration": 25,
    "start_time": "2021-08-07T16:41:34.733Z"
   },
   {
    "duration": 64,
    "start_time": "2021-08-07T16:41:34.761Z"
   },
   {
    "duration": 14,
    "start_time": "2021-08-07T16:41:34.829Z"
   },
   {
    "duration": 67,
    "start_time": "2021-08-07T16:41:34.847Z"
   },
   {
    "duration": 7,
    "start_time": "2021-08-07T16:41:34.918Z"
   },
   {
    "duration": 11,
    "start_time": "2021-08-07T16:41:34.928Z"
   },
   {
    "duration": 9,
    "start_time": "2021-08-07T16:41:34.942Z"
   },
   {
    "duration": 39,
    "start_time": "2021-08-07T16:41:34.957Z"
   },
   {
    "duration": 7,
    "start_time": "2021-08-07T16:41:35.001Z"
   },
   {
    "duration": 1136,
    "start_time": "2021-08-07T16:41:35.012Z"
   },
   {
    "duration": 4,
    "start_time": "2021-08-07T16:41:36.151Z"
   },
   {
    "duration": 35,
    "start_time": "2021-08-07T16:41:36.158Z"
   },
   {
    "duration": 30,
    "start_time": "2021-08-07T16:41:36.197Z"
   },
   {
    "duration": 26,
    "start_time": "2021-08-07T16:41:36.230Z"
   },
   {
    "duration": 412,
    "start_time": "2021-08-07T16:41:36.259Z"
   },
   {
    "duration": 416,
    "start_time": "2021-08-07T16:41:36.675Z"
   },
   {
    "duration": 1735,
    "start_time": "2021-08-07T16:41:35.362Z"
   },
   {
    "duration": 1728,
    "start_time": "2021-08-07T16:41:35.371Z"
   },
   {
    "duration": 1721,
    "start_time": "2021-08-07T16:41:35.380Z"
   },
   {
    "duration": 1713,
    "start_time": "2021-08-07T16:41:35.390Z"
   },
   {
    "duration": 1679,
    "start_time": "2021-08-07T16:41:35.425Z"
   },
   {
    "duration": 1670,
    "start_time": "2021-08-07T16:41:35.436Z"
   },
   {
    "duration": 1670,
    "start_time": "2021-08-07T16:41:35.446Z"
   },
   {
    "duration": 1663,
    "start_time": "2021-08-07T16:41:35.455Z"
   },
   {
    "duration": 1655,
    "start_time": "2021-08-07T16:41:35.465Z"
   },
   {
    "duration": 1648,
    "start_time": "2021-08-07T16:41:35.473Z"
   },
   {
    "duration": 1642,
    "start_time": "2021-08-07T16:41:35.482Z"
   },
   {
    "duration": 1634,
    "start_time": "2021-08-07T16:41:35.491Z"
   },
   {
    "duration": 1626,
    "start_time": "2021-08-07T16:41:35.501Z"
   },
   {
    "duration": 1613,
    "start_time": "2021-08-07T16:41:35.515Z"
   },
   {
    "duration": 1596,
    "start_time": "2021-08-07T16:41:35.534Z"
   },
   {
    "duration": 1587,
    "start_time": "2021-08-07T16:41:35.544Z"
   },
   {
    "duration": 1579,
    "start_time": "2021-08-07T16:41:35.555Z"
   },
   {
    "duration": 1572,
    "start_time": "2021-08-07T16:41:35.564Z"
   },
   {
    "duration": 1564,
    "start_time": "2021-08-07T16:41:35.574Z"
   },
   {
    "duration": 1557,
    "start_time": "2021-08-07T16:41:35.583Z"
   },
   {
    "duration": 1533,
    "start_time": "2021-08-07T16:41:35.657Z"
   },
   {
    "duration": 1530,
    "start_time": "2021-08-07T16:41:35.666Z"
   },
   {
    "duration": 1523,
    "start_time": "2021-08-07T16:41:35.676Z"
   },
   {
    "duration": 1522,
    "start_time": "2021-08-07T16:41:35.684Z"
   },
   {
    "duration": 1515,
    "start_time": "2021-08-07T16:41:35.693Z"
   },
   {
    "duration": 1514,
    "start_time": "2021-08-07T16:41:35.702Z"
   },
   {
    "duration": 1509,
    "start_time": "2021-08-07T16:41:35.711Z"
   },
   {
    "duration": 1383,
    "start_time": "2021-08-07T16:41:35.841Z"
   },
   {
    "duration": 1376,
    "start_time": "2021-08-07T16:41:35.850Z"
   },
   {
    "duration": 1370,
    "start_time": "2021-08-07T16:41:35.858Z"
   },
   {
    "duration": 1353,
    "start_time": "2021-08-07T16:41:35.877Z"
   },
   {
    "duration": 1286,
    "start_time": "2021-08-07T16:41:35.945Z"
   },
   {
    "duration": 1242,
    "start_time": "2021-08-07T16:41:35.991Z"
   },
   {
    "duration": 1207,
    "start_time": "2021-08-07T16:41:36.027Z"
   },
   {
    "duration": 1114,
    "start_time": "2021-08-07T16:41:36.122Z"
   },
   {
    "duration": 1108,
    "start_time": "2021-08-07T16:41:36.130Z"
   },
   {
    "duration": 1100,
    "start_time": "2021-08-07T16:41:36.139Z"
   },
   {
    "duration": 1093,
    "start_time": "2021-08-07T16:41:36.148Z"
   },
   {
    "duration": 1128,
    "start_time": "2021-08-07T16:41:36.157Z"
   },
   {
    "duration": 1122,
    "start_time": "2021-08-07T16:41:36.165Z"
   },
   {
    "duration": 1114,
    "start_time": "2021-08-07T16:41:36.174Z"
   },
   {
    "duration": 1108,
    "start_time": "2021-08-07T16:41:36.182Z"
   },
   {
    "duration": 1100,
    "start_time": "2021-08-07T16:41:36.192Z"
   },
   {
    "duration": 1094,
    "start_time": "2021-08-07T16:41:36.200Z"
   },
   {
    "duration": 1086,
    "start_time": "2021-08-07T16:41:36.209Z"
   },
   {
    "duration": 1080,
    "start_time": "2021-08-07T16:41:36.217Z"
   },
   {
    "duration": 1061,
    "start_time": "2021-08-07T16:41:36.237Z"
   },
   {
    "duration": 6,
    "start_time": "2021-08-07T16:43:04.956Z"
   },
   {
    "duration": 8,
    "start_time": "2021-08-07T16:43:07.529Z"
   },
   {
    "duration": 10,
    "start_time": "2021-08-07T16:43:08.697Z"
   },
   {
    "duration": 7,
    "start_time": "2021-08-07T16:43:09.361Z"
   },
   {
    "duration": 5,
    "start_time": "2021-08-07T16:43:11.335Z"
   },
   {
    "duration": 1326,
    "start_time": "2021-08-07T16:43:14.270Z"
   },
   {
    "duration": 4,
    "start_time": "2021-08-07T16:43:15.605Z"
   },
   {
    "duration": 7,
    "start_time": "2021-08-07T16:43:18.417Z"
   },
   {
    "duration": 5,
    "start_time": "2021-08-07T16:43:21.649Z"
   },
   {
    "duration": 9,
    "start_time": "2021-08-07T16:43:25.185Z"
   },
   {
    "duration": 550,
    "start_time": "2021-08-07T16:43:30.610Z"
   },
   {
    "duration": 393,
    "start_time": "2021-08-07T16:44:15.404Z"
   },
   {
    "duration": 13,
    "start_time": "2021-08-07T16:44:24.067Z"
   },
   {
    "duration": 365,
    "start_time": "2021-08-07T16:44:25.796Z"
   },
   {
    "duration": 15,
    "start_time": "2021-08-07T16:44:31.619Z"
   },
   {
    "duration": 578,
    "start_time": "2021-08-07T16:44:33.648Z"
   },
   {
    "duration": 538,
    "start_time": "2021-08-07T16:44:54.489Z"
   },
   {
    "duration": 533,
    "start_time": "2021-08-07T16:45:02.667Z"
   },
   {
    "duration": 447,
    "start_time": "2021-08-07T16:45:14.110Z"
   },
   {
    "duration": 473,
    "start_time": "2021-08-07T16:45:35.417Z"
   },
   {
    "duration": 454,
    "start_time": "2021-08-07T16:45:43.975Z"
   },
   {
    "duration": 446,
    "start_time": "2021-08-07T16:45:49.702Z"
   },
   {
    "duration": 640,
    "start_time": "2021-08-07T16:45:54.389Z"
   },
   {
    "duration": 529,
    "start_time": "2021-08-07T16:45:59.054Z"
   },
   {
    "duration": 408,
    "start_time": "2021-08-07T16:46:02.858Z"
   },
   {
    "duration": 34,
    "start_time": "2021-08-07T16:46:29.999Z"
   },
   {
    "duration": 13,
    "start_time": "2021-08-07T16:46:47.366Z"
   },
   {
    "duration": 18,
    "start_time": "2021-08-07T16:47:03.704Z"
   },
   {
    "duration": 16,
    "start_time": "2021-08-07T16:47:12.800Z"
   },
   {
    "duration": 7,
    "start_time": "2021-08-07T16:47:23.392Z"
   },
   {
    "duration": 810,
    "start_time": "2021-08-07T16:47:24.039Z"
   },
   {
    "duration": 6,
    "start_time": "2021-08-07T16:47:30.520Z"
   },
   {
    "duration": 829,
    "start_time": "2021-08-07T16:47:31.889Z"
   },
   {
    "duration": 788,
    "start_time": "2021-08-07T16:47:35.225Z"
   },
   {
    "duration": 831,
    "start_time": "2021-08-07T16:48:20.746Z"
   },
   {
    "duration": 782,
    "start_time": "2021-08-07T16:48:33.243Z"
   },
   {
    "duration": 829,
    "start_time": "2021-08-07T16:48:43.675Z"
   },
   {
    "duration": 898,
    "start_time": "2021-08-07T16:48:49.836Z"
   },
   {
    "duration": 7,
    "start_time": "2021-08-07T16:48:56.106Z"
   },
   {
    "duration": 56,
    "start_time": "2021-08-07T16:48:57.277Z"
   },
   {
    "duration": 30,
    "start_time": "2021-08-07T16:49:15.219Z"
   },
   {
    "duration": 39,
    "start_time": "2021-08-07T16:50:50.263Z"
   },
   {
    "duration": 134,
    "start_time": "2021-08-07T16:51:09.070Z"
   },
   {
    "duration": 1240,
    "start_time": "2021-08-07T16:52:09.753Z"
   },
   {
    "duration": 27,
    "start_time": "2021-08-07T16:52:20.330Z"
   },
   {
    "duration": 42,
    "start_time": "2021-08-07T16:53:10.995Z"
   },
   {
    "duration": 36,
    "start_time": "2021-08-07T16:53:22.453Z"
   },
   {
    "duration": 11,
    "start_time": "2021-08-07T16:53:26.569Z"
   },
   {
    "duration": 23,
    "start_time": "2021-08-07T16:53:29.489Z"
   },
   {
    "duration": 6,
    "start_time": "2021-08-07T16:53:30.976Z"
   },
   {
    "duration": 17,
    "start_time": "2021-08-07T16:53:34.018Z"
   },
   {
    "duration": 4,
    "start_time": "2021-08-07T16:53:36.714Z"
   },
   {
    "duration": 13,
    "start_time": "2021-08-07T16:53:38.051Z"
   },
   {
    "duration": 19,
    "start_time": "2021-08-07T16:53:41.738Z"
   },
   {
    "duration": 477,
    "start_time": "2021-08-07T16:53:43.164Z"
   },
   {
    "duration": 15,
    "start_time": "2021-08-07T16:53:54.572Z"
   },
   {
    "duration": 410,
    "start_time": "2021-08-07T16:54:00.747Z"
   },
   {
    "duration": 499,
    "start_time": "2021-08-07T16:54:07.273Z"
   },
   {
    "duration": 471,
    "start_time": "2021-08-07T16:54:17.354Z"
   },
   {
    "duration": 407,
    "start_time": "2021-08-07T16:54:26.668Z"
   },
   {
    "duration": 461,
    "start_time": "2021-08-07T16:54:38.015Z"
   },
   {
    "duration": 576,
    "start_time": "2021-08-07T16:54:46.819Z"
   },
   {
    "duration": 516,
    "start_time": "2021-08-07T16:54:51.197Z"
   },
   {
    "duration": 7,
    "start_time": "2021-08-07T16:54:59.572Z"
   },
   {
    "duration": 876,
    "start_time": "2021-08-07T16:55:01.010Z"
   },
   {
    "duration": 25,
    "start_time": "2021-08-07T16:55:10.756Z"
   },
   {
    "duration": 553,
    "start_time": "2021-08-07T16:55:24.789Z"
   },
   {
    "duration": 35,
    "start_time": "2021-08-07T16:55:40.495Z"
   },
   {
    "duration": 5,
    "start_time": "2021-08-07T17:01:30.200Z"
   },
   {
    "duration": 42,
    "start_time": "2021-08-07T17:02:13.475Z"
   },
   {
    "duration": 41,
    "start_time": "2021-08-07T17:02:16.488Z"
   },
   {
    "duration": 27,
    "start_time": "2021-08-07T17:03:21.815Z"
   },
   {
    "duration": 3,
    "start_time": "2021-08-07T17:04:58.005Z"
   },
   {
    "duration": 28,
    "start_time": "2021-08-07T17:05:23.710Z"
   },
   {
    "duration": 25,
    "start_time": "2021-08-07T17:06:17.426Z"
   },
   {
    "duration": 56,
    "start_time": "2021-08-07T17:07:13.050Z"
   },
   {
    "duration": 1845,
    "start_time": "2021-08-07T17:12:22.463Z"
   },
   {
    "duration": 1068,
    "start_time": "2021-08-07T17:12:34.769Z"
   },
   {
    "duration": 4,
    "start_time": "2021-08-07T17:55:22.668Z"
   },
   {
    "duration": 836,
    "start_time": "2021-08-08T08:55:49.333Z"
   },
   {
    "duration": 50,
    "start_time": "2021-08-08T08:55:50.172Z"
   },
   {
    "duration": 30,
    "start_time": "2021-08-08T08:55:50.225Z"
   },
   {
    "duration": 10,
    "start_time": "2021-08-08T08:55:50.258Z"
   },
   {
    "duration": 19,
    "start_time": "2021-08-08T08:55:50.271Z"
   },
   {
    "duration": 9,
    "start_time": "2021-08-08T08:55:50.293Z"
   },
   {
    "duration": 6,
    "start_time": "2021-08-08T08:55:50.305Z"
   },
   {
    "duration": 110,
    "start_time": "2021-08-08T08:55:50.315Z"
   },
   {
    "duration": 89,
    "start_time": "2021-08-08T08:55:50.428Z"
   },
   {
    "duration": 9,
    "start_time": "2021-08-08T08:55:50.520Z"
   },
   {
    "duration": 29,
    "start_time": "2021-08-08T08:55:50.531Z"
   },
   {
    "duration": 76,
    "start_time": "2021-08-08T08:55:50.562Z"
   },
   {
    "duration": 72,
    "start_time": "2021-08-08T08:55:50.656Z"
   },
   {
    "duration": 43,
    "start_time": "2021-08-08T08:55:50.730Z"
   },
   {
    "duration": 19,
    "start_time": "2021-08-08T08:55:50.775Z"
   },
   {
    "duration": 24,
    "start_time": "2021-08-08T08:55:50.796Z"
   },
   {
    "duration": 53,
    "start_time": "2021-08-08T08:55:50.822Z"
   },
   {
    "duration": 11,
    "start_time": "2021-08-08T08:55:50.877Z"
   },
   {
    "duration": 38,
    "start_time": "2021-08-08T08:55:50.890Z"
   },
   {
    "duration": 25,
    "start_time": "2021-08-08T08:55:50.931Z"
   },
   {
    "duration": 12,
    "start_time": "2021-08-08T08:55:50.958Z"
   },
   {
    "duration": 16,
    "start_time": "2021-08-08T08:55:50.972Z"
   },
   {
    "duration": 8,
    "start_time": "2021-08-08T08:55:50.995Z"
   },
   {
    "duration": 6,
    "start_time": "2021-08-08T08:55:51.006Z"
   },
   {
    "duration": 918,
    "start_time": "2021-08-08T08:55:51.014Z"
   },
   {
    "duration": 2,
    "start_time": "2021-08-08T08:55:51.935Z"
   },
   {
    "duration": 17,
    "start_time": "2021-08-08T08:55:51.939Z"
   },
   {
    "duration": 7,
    "start_time": "2021-08-08T08:55:51.958Z"
   },
   {
    "duration": 7,
    "start_time": "2021-08-08T08:55:51.968Z"
   },
   {
    "duration": 461,
    "start_time": "2021-08-08T08:55:51.977Z"
   },
   {
    "duration": 319,
    "start_time": "2021-08-08T08:55:52.440Z"
   },
   {
    "duration": 11,
    "start_time": "2021-08-08T08:55:52.762Z"
   },
   {
    "duration": 320,
    "start_time": "2021-08-08T08:55:52.776Z"
   },
   {
    "duration": 13,
    "start_time": "2021-08-08T08:55:53.098Z"
   },
   {
    "duration": 402,
    "start_time": "2021-08-08T08:55:53.113Z"
   },
   {
    "duration": 320,
    "start_time": "2021-08-08T08:55:53.517Z"
   },
   {
    "duration": 401,
    "start_time": "2021-08-08T08:55:53.839Z"
   },
   {
    "duration": 516,
    "start_time": "2021-08-08T08:55:54.242Z"
   },
   {
    "duration": 10,
    "start_time": "2021-08-08T08:55:54.760Z"
   },
   {
    "duration": 16,
    "start_time": "2021-08-08T08:55:54.772Z"
   },
   {
    "duration": 10,
    "start_time": "2021-08-08T08:55:54.790Z"
   },
   {
    "duration": 21,
    "start_time": "2021-08-08T08:55:54.802Z"
   },
   {
    "duration": 34,
    "start_time": "2021-08-08T08:55:54.826Z"
   },
   {
    "duration": 695,
    "start_time": "2021-08-08T08:55:54.863Z"
   },
   {
    "duration": 5,
    "start_time": "2021-08-08T08:55:55.560Z"
   },
   {
    "duration": 718,
    "start_time": "2021-08-08T08:55:55.567Z"
   },
   {
    "duration": 780,
    "start_time": "2021-08-08T08:55:56.287Z"
   },
   {
    "duration": 667,
    "start_time": "2021-08-08T08:55:57.069Z"
   },
   {
    "duration": 781,
    "start_time": "2021-08-08T08:55:57.739Z"
   },
   {
    "duration": 591,
    "start_time": "2021-08-08T08:55:58.523Z"
   },
   {
    "duration": 4,
    "start_time": "2021-08-08T08:55:59.117Z"
   },
   {
    "duration": 46,
    "start_time": "2021-08-08T08:55:59.124Z"
   },
   {
    "duration": 24,
    "start_time": "2021-08-08T08:55:59.172Z"
   },
   {
    "duration": 28,
    "start_time": "2021-08-08T08:55:59.198Z"
   },
   {
    "duration": 26,
    "start_time": "2021-08-08T08:55:59.255Z"
   },
   {
    "duration": 35,
    "start_time": "2021-08-08T08:55:59.283Z"
   },
   {
    "duration": 59,
    "start_time": "2021-08-08T08:55:59.320Z"
   },
   {
    "duration": 8,
    "start_time": "2021-08-08T08:55:59.381Z"
   },
   {
    "duration": 15,
    "start_time": "2021-08-08T08:55:59.391Z"
   },
   {
    "duration": 5,
    "start_time": "2021-08-08T08:55:59.409Z"
   },
   {
    "duration": 43,
    "start_time": "2021-08-08T08:55:59.417Z"
   },
   {
    "duration": 3,
    "start_time": "2021-08-08T08:55:59.463Z"
   },
   {
    "duration": 17,
    "start_time": "2021-08-08T08:55:59.468Z"
   },
   {
    "duration": 22,
    "start_time": "2021-08-08T08:55:59.487Z"
   },
   {
    "duration": 409,
    "start_time": "2021-08-08T08:55:59.512Z"
   },
   {
    "duration": 8,
    "start_time": "2021-08-08T08:55:59.924Z"
   },
   {
    "duration": 338,
    "start_time": "2021-08-08T08:55:59.935Z"
   },
   {
    "duration": 408,
    "start_time": "2021-08-08T08:56:00.281Z"
   },
   {
    "duration": 320,
    "start_time": "2021-08-08T08:56:00.692Z"
   },
   {
    "duration": 405,
    "start_time": "2021-08-08T08:56:01.015Z"
   },
   {
    "duration": 487,
    "start_time": "2021-08-08T08:56:01.423Z"
   },
   {
    "duration": 520,
    "start_time": "2021-08-08T08:56:01.913Z"
   },
   {
    "duration": 7,
    "start_time": "2021-08-08T08:56:02.435Z"
   },
   {
    "duration": 907,
    "start_time": "2021-08-08T08:56:02.456Z"
   },
   {
    "duration": 26,
    "start_time": "2021-08-08T08:56:03.366Z"
   },
   {
    "duration": 487,
    "start_time": "2021-08-08T08:56:03.394Z"
   },
   {
    "duration": 24,
    "start_time": "2021-08-08T08:56:03.884Z"
   },
   {
    "duration": 44,
    "start_time": "2021-08-08T08:56:03.911Z"
   },
   {
    "duration": 27,
    "start_time": "2021-08-08T08:56:03.957Z"
   },
   {
    "duration": 30,
    "start_time": "2021-08-08T08:56:03.986Z"
   },
   {
    "duration": 15,
    "start_time": "2021-08-08T08:57:13.775Z"
   },
   {
    "duration": 15,
    "start_time": "2021-08-08T08:57:19.320Z"
   },
   {
    "duration": 871,
    "start_time": "2021-08-08T09:00:17.812Z"
   },
   {
    "duration": 49,
    "start_time": "2021-08-08T09:00:18.686Z"
   },
   {
    "duration": 32,
    "start_time": "2021-08-08T09:00:18.738Z"
   },
   {
    "duration": 10,
    "start_time": "2021-08-08T09:00:18.773Z"
   },
   {
    "duration": 25,
    "start_time": "2021-08-08T09:00:18.785Z"
   },
   {
    "duration": 9,
    "start_time": "2021-08-08T09:00:18.812Z"
   },
   {
    "duration": 4,
    "start_time": "2021-08-08T09:00:18.824Z"
   },
   {
    "duration": 77,
    "start_time": "2021-08-08T09:00:18.858Z"
   },
   {
    "duration": 90,
    "start_time": "2021-08-08T09:00:18.938Z"
   },
   {
    "duration": 25,
    "start_time": "2021-08-08T09:00:19.030Z"
   },
   {
    "duration": 7,
    "start_time": "2021-08-08T09:00:19.058Z"
   },
   {
    "duration": 93,
    "start_time": "2021-08-08T09:00:19.067Z"
   },
   {
    "duration": 72,
    "start_time": "2021-08-08T09:00:19.162Z"
   },
   {
    "duration": 44,
    "start_time": "2021-08-08T09:00:19.236Z"
   },
   {
    "duration": 18,
    "start_time": "2021-08-08T09:00:19.283Z"
   },
   {
    "duration": 57,
    "start_time": "2021-08-08T09:00:19.304Z"
   },
   {
    "duration": 26,
    "start_time": "2021-08-08T09:00:19.364Z"
   },
   {
    "duration": 12,
    "start_time": "2021-08-08T09:00:19.393Z"
   },
   {
    "duration": 68,
    "start_time": "2021-08-08T09:00:19.408Z"
   },
   {
    "duration": 6,
    "start_time": "2021-08-08T09:00:19.479Z"
   },
   {
    "duration": 11,
    "start_time": "2021-08-08T09:00:19.488Z"
   },
   {
    "duration": 10,
    "start_time": "2021-08-08T09:00:19.502Z"
   },
   {
    "duration": 37,
    "start_time": "2021-08-08T09:00:19.520Z"
   },
   {
    "duration": 5,
    "start_time": "2021-08-08T09:00:19.562Z"
   },
   {
    "duration": 1010,
    "start_time": "2021-08-08T09:00:19.570Z"
   },
   {
    "duration": 3,
    "start_time": "2021-08-08T09:00:20.583Z"
   },
   {
    "duration": 9,
    "start_time": "2021-08-08T09:00:20.589Z"
   },
   {
    "duration": 8,
    "start_time": "2021-08-08T09:00:20.600Z"
   },
   {
    "duration": 7,
    "start_time": "2021-08-08T09:00:20.611Z"
   },
   {
    "duration": 480,
    "start_time": "2021-08-08T09:00:20.621Z"
   },
   {
    "duration": 321,
    "start_time": "2021-08-08T09:00:21.103Z"
   },
   {
    "duration": 11,
    "start_time": "2021-08-08T09:00:21.426Z"
   },
   {
    "duration": 332,
    "start_time": "2021-08-08T09:00:21.439Z"
   },
   {
    "duration": 13,
    "start_time": "2021-08-08T09:00:21.774Z"
   },
   {
    "duration": 427,
    "start_time": "2021-08-08T09:00:21.789Z"
   },
   {
    "duration": 345,
    "start_time": "2021-08-08T09:00:22.219Z"
   },
   {
    "duration": 401,
    "start_time": "2021-08-08T09:00:22.567Z"
   },
   {
    "duration": 532,
    "start_time": "2021-08-08T09:00:22.971Z"
   },
   {
    "duration": 13,
    "start_time": "2021-08-08T09:00:23.506Z"
   },
   {
    "duration": 40,
    "start_time": "2021-08-08T09:00:23.522Z"
   },
   {
    "duration": 13,
    "start_time": "2021-08-08T09:00:23.564Z"
   },
   {
    "duration": 16,
    "start_time": "2021-08-08T09:00:23.580Z"
   },
   {
    "duration": 6,
    "start_time": "2021-08-08T09:00:23.599Z"
   },
   {
    "duration": 737,
    "start_time": "2021-08-08T09:00:23.608Z"
   },
   {
    "duration": 5,
    "start_time": "2021-08-08T09:00:24.355Z"
   },
   {
    "duration": 702,
    "start_time": "2021-08-08T09:00:24.363Z"
   },
   {
    "duration": 927,
    "start_time": "2021-08-08T09:00:25.068Z"
   },
   {
    "duration": 835,
    "start_time": "2021-08-08T09:00:26.004Z"
   },
   {
    "duration": 668,
    "start_time": "2021-08-08T09:00:26.842Z"
   },
   {
    "duration": 625,
    "start_time": "2021-08-08T09:00:27.513Z"
   },
   {
    "duration": 4,
    "start_time": "2021-08-08T09:00:28.141Z"
   },
   {
    "duration": 31,
    "start_time": "2021-08-08T09:00:28.156Z"
   },
   {
    "duration": 26,
    "start_time": "2021-08-08T09:00:28.189Z"
   },
   {
    "duration": 54,
    "start_time": "2021-08-08T09:00:28.217Z"
   },
   {
    "duration": 25,
    "start_time": "2021-08-08T09:00:28.273Z"
   },
   {
    "duration": 58,
    "start_time": "2021-08-08T09:00:28.301Z"
   },
   {
    "duration": 33,
    "start_time": "2021-08-08T09:00:28.361Z"
   },
   {
    "duration": 10,
    "start_time": "2021-08-08T09:00:28.396Z"
   },
   {
    "duration": 19,
    "start_time": "2021-08-08T09:00:28.408Z"
   },
   {
    "duration": 29,
    "start_time": "2021-08-08T09:00:28.430Z"
   },
   {
    "duration": 22,
    "start_time": "2021-08-08T09:00:28.461Z"
   },
   {
    "duration": 22,
    "start_time": "2021-08-08T09:00:28.485Z"
   },
   {
    "duration": 28,
    "start_time": "2021-08-08T09:00:28.510Z"
   },
   {
    "duration": 16,
    "start_time": "2021-08-08T09:00:28.541Z"
   },
   {
    "duration": 397,
    "start_time": "2021-08-08T09:00:28.559Z"
   },
   {
    "duration": 10,
    "start_time": "2021-08-08T09:00:28.959Z"
   },
   {
    "duration": 338,
    "start_time": "2021-08-08T09:00:28.973Z"
   },
   {
    "duration": 411,
    "start_time": "2021-08-08T09:00:29.320Z"
   },
   {
    "duration": 321,
    "start_time": "2021-08-08T09:00:29.735Z"
   },
   {
    "duration": 406,
    "start_time": "2021-08-08T09:00:30.058Z"
   },
   {
    "duration": 518,
    "start_time": "2021-08-08T09:00:30.466Z"
   },
   {
    "duration": 515,
    "start_time": "2021-08-08T09:00:30.987Z"
   },
   {
    "duration": 7,
    "start_time": "2021-08-08T09:00:31.504Z"
   },
   {
    "duration": 821,
    "start_time": "2021-08-08T09:00:31.513Z"
   },
   {
    "duration": 31,
    "start_time": "2021-08-08T09:00:32.336Z"
   },
   {
    "duration": 426,
    "start_time": "2021-08-08T09:00:32.370Z"
   },
   {
    "duration": 25,
    "start_time": "2021-08-08T09:00:32.798Z"
   },
   {
    "duration": 48,
    "start_time": "2021-08-08T09:00:32.825Z"
   },
   {
    "duration": 27,
    "start_time": "2021-08-08T09:00:32.875Z"
   },
   {
    "duration": 61,
    "start_time": "2021-08-08T09:00:32.905Z"
   },
   {
    "duration": 11,
    "start_time": "2021-08-08T09:00:42.719Z"
   },
   {
    "duration": 8,
    "start_time": "2021-08-08T09:01:01.302Z"
   },
   {
    "duration": 9,
    "start_time": "2021-08-08T09:01:09.931Z"
   },
   {
    "duration": 355,
    "start_time": "2021-08-08T09:01:25.367Z"
   },
   {
    "duration": 11,
    "start_time": "2021-08-08T09:01:52.172Z"
   },
   {
    "duration": 11,
    "start_time": "2021-08-08T09:03:20.878Z"
   },
   {
    "duration": 13,
    "start_time": "2021-08-08T09:03:46.526Z"
   },
   {
    "duration": 985,
    "start_time": "2021-08-08T09:03:56.726Z"
   },
   {
    "duration": 13,
    "start_time": "2021-08-08T09:03:59.274Z"
   },
   {
    "duration": 4,
    "start_time": "2021-08-08T09:14:46.207Z"
   },
   {
    "duration": 101,
    "start_time": "2021-08-08T09:14:46.647Z"
   },
   {
    "duration": 13,
    "start_time": "2021-08-08T09:15:00.957Z"
   },
   {
    "duration": 4,
    "start_time": "2021-08-08T09:17:22.911Z"
   },
   {
    "duration": 26,
    "start_time": "2021-08-08T09:17:56.420Z"
   },
   {
    "duration": 5,
    "start_time": "2021-08-08T09:25:39.195Z"
   },
   {
    "duration": 5,
    "start_time": "2021-08-08T09:25:53.323Z"
   },
   {
    "duration": 4,
    "start_time": "2021-08-08T09:26:20.192Z"
   },
   {
    "duration": 5,
    "start_time": "2021-08-08T09:29:17.447Z"
   },
   {
    "duration": 5,
    "start_time": "2021-08-08T09:31:15.227Z"
   },
   {
    "duration": 26,
    "start_time": "2021-08-08T09:31:21.119Z"
   },
   {
    "duration": 12,
    "start_time": "2021-08-08T09:31:34.738Z"
   },
   {
    "duration": 4,
    "start_time": "2021-08-08T09:33:10.689Z"
   },
   {
    "duration": 28,
    "start_time": "2021-08-08T09:33:12.119Z"
   },
   {
    "duration": 5,
    "start_time": "2021-08-08T09:35:20.671Z"
   },
   {
    "duration": 75,
    "start_time": "2021-08-08T09:35:36.247Z"
   },
   {
    "duration": 889,
    "start_time": "2021-08-08T09:38:40.471Z"
   },
   {
    "duration": 50,
    "start_time": "2021-08-08T09:38:41.363Z"
   },
   {
    "duration": 14,
    "start_time": "2021-08-08T09:38:41.417Z"
   },
   {
    "duration": 10,
    "start_time": "2021-08-08T09:38:41.457Z"
   },
   {
    "duration": 17,
    "start_time": "2021-08-08T09:38:41.469Z"
   },
   {
    "duration": 9,
    "start_time": "2021-08-08T09:38:41.488Z"
   },
   {
    "duration": 6,
    "start_time": "2021-08-08T09:38:41.499Z"
   },
   {
    "duration": 112,
    "start_time": "2021-08-08T09:38:41.508Z"
   },
   {
    "duration": 88,
    "start_time": "2021-08-08T09:38:41.624Z"
   },
   {
    "duration": 12,
    "start_time": "2021-08-08T09:38:41.715Z"
   },
   {
    "duration": 30,
    "start_time": "2021-08-08T09:38:41.731Z"
   },
   {
    "duration": 97,
    "start_time": "2021-08-08T09:38:41.763Z"
   },
   {
    "duration": 69,
    "start_time": "2021-08-08T09:38:41.863Z"
   },
   {
    "duration": 49,
    "start_time": "2021-08-08T09:38:41.934Z"
   },
   {
    "duration": 16,
    "start_time": "2021-08-08T09:38:41.985Z"
   },
   {
    "duration": 52,
    "start_time": "2021-08-08T09:38:42.004Z"
   },
   {
    "duration": 31,
    "start_time": "2021-08-08T09:38:42.059Z"
   },
   {
    "duration": 17,
    "start_time": "2021-08-08T09:38:42.093Z"
   },
   {
    "duration": 71,
    "start_time": "2021-08-08T09:38:42.113Z"
   },
   {
    "duration": 7,
    "start_time": "2021-08-08T09:38:42.187Z"
   },
   {
    "duration": 11,
    "start_time": "2021-08-08T09:38:42.197Z"
   },
   {
    "duration": 8,
    "start_time": "2021-08-08T09:38:42.210Z"
   },
   {
    "duration": 8,
    "start_time": "2021-08-08T09:38:42.257Z"
   },
   {
    "duration": 5,
    "start_time": "2021-08-08T09:38:42.269Z"
   },
   {
    "duration": 919,
    "start_time": "2021-08-08T09:38:42.276Z"
   },
   {
    "duration": 3,
    "start_time": "2021-08-08T09:38:43.197Z"
   },
   {
    "duration": 8,
    "start_time": "2021-08-08T09:38:43.202Z"
   },
   {
    "duration": 7,
    "start_time": "2021-08-08T09:38:43.213Z"
   },
   {
    "duration": 5,
    "start_time": "2021-08-08T09:38:43.222Z"
   },
   {
    "duration": 463,
    "start_time": "2021-08-08T09:38:43.230Z"
   },
   {
    "duration": 318,
    "start_time": "2021-08-08T09:38:43.696Z"
   },
   {
    "duration": 11,
    "start_time": "2021-08-08T09:38:44.016Z"
   },
   {
    "duration": 327,
    "start_time": "2021-08-08T09:38:44.029Z"
   },
   {
    "duration": 13,
    "start_time": "2021-08-08T09:38:44.358Z"
   },
   {
    "duration": 408,
    "start_time": "2021-08-08T09:38:44.373Z"
   },
   {
    "duration": 318,
    "start_time": "2021-08-08T09:38:44.784Z"
   },
   {
    "duration": 406,
    "start_time": "2021-08-08T09:38:45.105Z"
   },
   {
    "duration": 525,
    "start_time": "2021-08-08T09:38:45.513Z"
   },
   {
    "duration": 18,
    "start_time": "2021-08-08T09:38:46.040Z"
   },
   {
    "duration": 12,
    "start_time": "2021-08-08T09:38:46.061Z"
   },
   {
    "duration": 9,
    "start_time": "2021-08-08T09:38:46.076Z"
   },
   {
    "duration": 11,
    "start_time": "2021-08-08T09:38:46.088Z"
   },
   {
    "duration": 6,
    "start_time": "2021-08-08T09:38:46.101Z"
   },
   {
    "duration": 717,
    "start_time": "2021-08-08T09:38:46.109Z"
   },
   {
    "duration": 5,
    "start_time": "2021-08-08T09:38:46.828Z"
   },
   {
    "duration": 724,
    "start_time": "2021-08-08T09:38:46.836Z"
   },
   {
    "duration": 795,
    "start_time": "2021-08-08T09:38:47.563Z"
   },
   {
    "duration": 662,
    "start_time": "2021-08-08T09:38:48.361Z"
   },
   {
    "duration": 658,
    "start_time": "2021-08-08T09:38:49.026Z"
   },
   {
    "duration": 629,
    "start_time": "2021-08-08T09:38:49.686Z"
   },
   {
    "duration": 5,
    "start_time": "2021-08-08T09:38:50.317Z"
   },
   {
    "duration": 48,
    "start_time": "2021-08-08T09:38:50.324Z"
   },
   {
    "duration": 24,
    "start_time": "2021-08-08T09:38:50.374Z"
   },
   {
    "duration": 25,
    "start_time": "2021-08-08T09:38:50.400Z"
   },
   {
    "duration": 25,
    "start_time": "2021-08-08T09:38:50.455Z"
   },
   {
    "duration": 31,
    "start_time": "2021-08-08T09:38:50.483Z"
   },
   {
    "duration": 59,
    "start_time": "2021-08-08T09:38:50.517Z"
   },
   {
    "duration": 9,
    "start_time": "2021-08-08T09:38:50.578Z"
   },
   {
    "duration": 14,
    "start_time": "2021-08-08T09:38:50.589Z"
   },
   {
    "duration": 17,
    "start_time": "2021-08-08T09:38:50.605Z"
   },
   {
    "duration": 32,
    "start_time": "2021-08-08T09:38:50.624Z"
   },
   {
    "duration": 4,
    "start_time": "2021-08-08T09:38:50.658Z"
   },
   {
    "duration": 14,
    "start_time": "2021-08-08T09:38:50.664Z"
   },
   {
    "duration": 16,
    "start_time": "2021-08-08T09:38:50.680Z"
   },
   {
    "duration": 427,
    "start_time": "2021-08-08T09:38:50.698Z"
   },
   {
    "duration": 10,
    "start_time": "2021-08-08T09:38:51.127Z"
   },
   {
    "duration": 330,
    "start_time": "2021-08-08T09:38:51.139Z"
   },
   {
    "duration": 381,
    "start_time": "2021-08-08T09:38:51.484Z"
   },
   {
    "duration": 314,
    "start_time": "2021-08-08T09:38:51.868Z"
   },
   {
    "duration": 409,
    "start_time": "2021-08-08T09:38:52.185Z"
   },
   {
    "duration": 480,
    "start_time": "2021-08-08T09:38:52.597Z"
   },
   {
    "duration": 511,
    "start_time": "2021-08-08T09:38:53.080Z"
   },
   {
    "duration": 8,
    "start_time": "2021-08-08T09:38:53.594Z"
   },
   {
    "duration": 829,
    "start_time": "2021-08-08T09:38:53.605Z"
   },
   {
    "duration": 36,
    "start_time": "2021-08-08T09:38:54.437Z"
   },
   {
    "duration": 429,
    "start_time": "2021-08-08T09:38:54.476Z"
   },
   {
    "duration": 26,
    "start_time": "2021-08-08T09:38:54.908Z"
   },
   {
    "duration": 42,
    "start_time": "2021-08-08T09:38:54.936Z"
   },
   {
    "duration": 25,
    "start_time": "2021-08-08T09:38:54.981Z"
   },
   {
    "duration": 65,
    "start_time": "2021-08-08T09:38:55.008Z"
   },
   {
    "duration": 52,
    "start_time": "2021-08-08T09:52:53.704Z"
   },
   {
    "duration": 6,
    "start_time": "2021-08-08T09:54:27.511Z"
   },
   {
    "duration": 369,
    "start_time": "2021-08-08T09:54:41.256Z"
   },
   {
    "duration": 21,
    "start_time": "2021-08-08T09:54:47.928Z"
   },
   {
    "duration": 88,
    "start_time": "2021-08-08T10:05:23.271Z"
   },
   {
    "duration": 219,
    "start_time": "2021-08-08T10:05:27.506Z"
   },
   {
    "duration": 1110,
    "start_time": "2021-08-08T10:06:02.715Z"
   },
   {
    "duration": 388,
    "start_time": "2021-08-08T10:06:35.930Z"
   },
   {
    "duration": 367,
    "start_time": "2021-08-08T10:06:47.834Z"
   },
   {
    "duration": 649,
    "start_time": "2021-08-08T10:07:09.854Z"
   },
   {
    "duration": 589,
    "start_time": "2021-08-08T10:20:13.906Z"
   },
   {
    "duration": 9185,
    "start_time": "2021-08-08T10:20:41.517Z"
   },
   {
    "duration": 63,
    "start_time": "2021-08-08T10:21:22.206Z"
   },
   {
    "duration": 342,
    "start_time": "2021-08-08T11:27:43.624Z"
   },
   {
    "duration": 899,
    "start_time": "2021-08-08T11:27:56.565Z"
   },
   {
    "duration": 64,
    "start_time": "2021-08-08T11:27:57.467Z"
   },
   {
    "duration": 14,
    "start_time": "2021-08-08T11:27:57.535Z"
   },
   {
    "duration": 36,
    "start_time": "2021-08-08T11:27:57.552Z"
   },
   {
    "duration": 25,
    "start_time": "2021-08-08T11:27:57.590Z"
   },
   {
    "duration": 11,
    "start_time": "2021-08-08T11:27:57.617Z"
   },
   {
    "duration": 4,
    "start_time": "2021-08-08T11:27:57.630Z"
   },
   {
    "duration": 6589,
    "start_time": "2021-08-08T11:27:57.638Z"
   },
   {
    "duration": 783,
    "start_time": "2021-08-08T11:28:03.449Z"
   },
   {
    "duration": 768,
    "start_time": "2021-08-08T11:28:03.466Z"
   },
   {
    "duration": 747,
    "start_time": "2021-08-08T11:28:03.488Z"
   },
   {
    "duration": 738,
    "start_time": "2021-08-08T11:28:03.499Z"
   },
   {
    "duration": 724,
    "start_time": "2021-08-08T11:28:03.514Z"
   },
   {
    "duration": 714,
    "start_time": "2021-08-08T11:28:03.525Z"
   },
   {
    "duration": 692,
    "start_time": "2021-08-08T11:28:03.549Z"
   },
   {
    "duration": 678,
    "start_time": "2021-08-08T11:28:03.564Z"
   },
   {
    "duration": 667,
    "start_time": "2021-08-08T11:28:03.577Z"
   },
   {
    "duration": 659,
    "start_time": "2021-08-08T11:28:03.587Z"
   },
   {
    "duration": 650,
    "start_time": "2021-08-08T11:28:03.598Z"
   },
   {
    "duration": 641,
    "start_time": "2021-08-08T11:28:03.608Z"
   },
   {
    "duration": 631,
    "start_time": "2021-08-08T11:28:03.620Z"
   },
   {
    "duration": 620,
    "start_time": "2021-08-08T11:28:03.633Z"
   },
   {
    "duration": 599,
    "start_time": "2021-08-08T11:28:03.656Z"
   },
   {
    "duration": 588,
    "start_time": "2021-08-08T11:28:03.668Z"
   },
   {
    "duration": 577,
    "start_time": "2021-08-08T11:28:03.681Z"
   },
   {
    "duration": 567,
    "start_time": "2021-08-08T11:28:03.693Z"
   },
   {
    "duration": 557,
    "start_time": "2021-08-08T11:28:03.704Z"
   },
   {
    "duration": 547,
    "start_time": "2021-08-08T11:28:03.715Z"
   },
   {
    "duration": 537,
    "start_time": "2021-08-08T11:28:03.726Z"
   },
   {
    "duration": 527,
    "start_time": "2021-08-08T11:28:03.738Z"
   },
   {
    "duration": 516,
    "start_time": "2021-08-08T11:28:03.750Z"
   },
   {
    "duration": 489,
    "start_time": "2021-08-08T11:28:03.778Z"
   },
   {
    "duration": 477,
    "start_time": "2021-08-08T11:28:03.792Z"
   },
   {
    "duration": 466,
    "start_time": "2021-08-08T11:28:03.804Z"
   },
   {
    "duration": 471,
    "start_time": "2021-08-08T11:28:03.815Z"
   },
   {
    "duration": 463,
    "start_time": "2021-08-08T11:28:03.825Z"
   },
   {
    "duration": 453,
    "start_time": "2021-08-08T11:28:03.837Z"
   },
   {
    "duration": 443,
    "start_time": "2021-08-08T11:28:03.849Z"
   },
   {
    "duration": 434,
    "start_time": "2021-08-08T11:28:03.861Z"
   },
   {
    "duration": 417,
    "start_time": "2021-08-08T11:28:03.880Z"
   },
   {
    "duration": 407,
    "start_time": "2021-08-08T11:28:03.892Z"
   },
   {
    "duration": 399,
    "start_time": "2021-08-08T11:28:03.902Z"
   },
   {
    "duration": 391,
    "start_time": "2021-08-08T11:28:03.912Z"
   },
   {
    "duration": 383,
    "start_time": "2021-08-08T11:28:03.922Z"
   },
   {
    "duration": 374,
    "start_time": "2021-08-08T11:28:03.933Z"
   },
   {
    "duration": 279,
    "start_time": "2021-08-08T11:28:04.030Z"
   },
   {
    "duration": 266,
    "start_time": "2021-08-08T11:28:04.045Z"
   },
   {
    "duration": 255,
    "start_time": "2021-08-08T11:28:04.057Z"
   },
   {
    "duration": 245,
    "start_time": "2021-08-08T11:28:04.069Z"
   },
   {
    "duration": 156,
    "start_time": "2021-08-08T11:28:04.160Z"
   },
   {
    "duration": 147,
    "start_time": "2021-08-08T11:28:04.171Z"
   },
   {
    "duration": 139,
    "start_time": "2021-08-08T11:28:04.181Z"
   },
   {
    "duration": 130,
    "start_time": "2021-08-08T11:28:04.192Z"
   },
   {
    "duration": 121,
    "start_time": "2021-08-08T11:28:04.203Z"
   },
   {
    "duration": 167,
    "start_time": "2021-08-08T11:28:04.215Z"
   },
   {
    "duration": 160,
    "start_time": "2021-08-08T11:28:04.224Z"
   },
   {
    "duration": 162,
    "start_time": "2021-08-08T11:28:04.235Z"
   },
   {
    "duration": 154,
    "start_time": "2021-08-08T11:28:04.245Z"
   },
   {
    "duration": 145,
    "start_time": "2021-08-08T11:28:04.256Z"
   },
   {
    "duration": 125,
    "start_time": "2021-08-08T11:28:04.277Z"
   },
   {
    "duration": 115,
    "start_time": "2021-08-08T11:28:04.289Z"
   },
   {
    "duration": -84,
    "start_time": "2021-08-08T11:28:04.490Z"
   },
   {
    "duration": -104,
    "start_time": "2021-08-08T11:28:04.511Z"
   },
   {
    "duration": -157,
    "start_time": "2021-08-08T11:28:04.566Z"
   },
   {
    "duration": -166,
    "start_time": "2021-08-08T11:28:04.576Z"
   },
   {
    "duration": -175,
    "start_time": "2021-08-08T11:28:04.587Z"
   },
   {
    "duration": -185,
    "start_time": "2021-08-08T11:28:04.598Z"
   },
   {
    "duration": -195,
    "start_time": "2021-08-08T11:28:04.610Z"
   },
   {
    "duration": -245,
    "start_time": "2021-08-08T11:28:04.662Z"
   },
   {
    "duration": -254,
    "start_time": "2021-08-08T11:28:04.672Z"
   },
   {
    "duration": -263,
    "start_time": "2021-08-08T11:28:04.683Z"
   },
   {
    "duration": -271,
    "start_time": "2021-08-08T11:28:04.692Z"
   },
   {
    "duration": -280,
    "start_time": "2021-08-08T11:28:04.703Z"
   },
   {
    "duration": -289,
    "start_time": "2021-08-08T11:28:04.713Z"
   },
   {
    "duration": -299,
    "start_time": "2021-08-08T11:28:04.725Z"
   },
   {
    "duration": -263,
    "start_time": "2021-08-08T11:28:04.746Z"
   },
   {
    "duration": -286,
    "start_time": "2021-08-08T11:28:04.771Z"
   },
   {
    "duration": -294,
    "start_time": "2021-08-08T11:28:04.781Z"
   },
   {
    "duration": -304,
    "start_time": "2021-08-08T11:28:04.792Z"
   },
   {
    "duration": -313,
    "start_time": "2021-08-08T11:28:04.802Z"
   },
   {
    "duration": -323,
    "start_time": "2021-08-08T11:28:04.814Z"
   },
   {
    "duration": 662,
    "start_time": "2021-08-08T11:32:57.219Z"
   },
   {
    "duration": 5,
    "start_time": "2021-08-08T11:37:57.063Z"
   },
   {
    "duration": 678,
    "start_time": "2021-08-08T11:38:00.208Z"
   },
   {
    "duration": 5,
    "start_time": "2021-08-08T11:51:38.944Z"
   },
   {
    "duration": 4559,
    "start_time": "2021-08-08T11:51:48.454Z"
   },
   {
    "duration": 953,
    "start_time": "2021-08-08T11:52:15.664Z"
   },
   {
    "duration": 54,
    "start_time": "2021-08-08T11:52:16.620Z"
   },
   {
    "duration": 28,
    "start_time": "2021-08-08T11:52:16.679Z"
   },
   {
    "duration": 12,
    "start_time": "2021-08-08T11:52:16.711Z"
   },
   {
    "duration": 19,
    "start_time": "2021-08-08T11:52:16.726Z"
   },
   {
    "duration": 15,
    "start_time": "2021-08-08T11:52:16.787Z"
   },
   {
    "duration": 10,
    "start_time": "2021-08-08T11:52:16.804Z"
   },
   {
    "duration": 8790,
    "start_time": "2021-08-08T11:52:16.819Z"
   },
   {
    "duration": 91,
    "start_time": "2021-08-08T11:52:25.612Z"
   },
   {
    "duration": 12,
    "start_time": "2021-08-08T11:52:25.706Z"
   },
   {
    "duration": 18,
    "start_time": "2021-08-08T11:52:25.721Z"
   },
   {
    "duration": 111,
    "start_time": "2021-08-08T11:52:25.742Z"
   },
   {
    "duration": 94,
    "start_time": "2021-08-08T11:52:25.855Z"
   },
   {
    "duration": 76,
    "start_time": "2021-08-08T11:52:25.952Z"
   },
   {
    "duration": 19,
    "start_time": "2021-08-08T11:52:26.032Z"
   },
   {
    "duration": 59,
    "start_time": "2021-08-08T11:52:26.054Z"
   },
   {
    "duration": 16,
    "start_time": "2021-08-08T11:52:26.115Z"
   },
   {
    "duration": 429,
    "start_time": "2021-08-08T11:52:26.133Z"
   },
   {
    "duration": 144,
    "start_time": "2021-08-08T11:52:26.426Z"
   },
   {
    "duration": 136,
    "start_time": "2021-08-08T11:52:26.436Z"
   },
   {
    "duration": 126,
    "start_time": "2021-08-08T11:52:26.448Z"
   },
   {
    "duration": 118,
    "start_time": "2021-08-08T11:52:26.458Z"
   },
   {
    "duration": 109,
    "start_time": "2021-08-08T11:52:26.469Z"
   },
   {
    "duration": 101,
    "start_time": "2021-08-08T11:52:26.479Z"
   },
   {
    "duration": 91,
    "start_time": "2021-08-08T11:52:26.491Z"
   },
   {
    "duration": 81,
    "start_time": "2021-08-08T11:52:26.502Z"
   },
   {
    "duration": 34,
    "start_time": "2021-08-08T11:52:26.551Z"
   },
   {
    "duration": 36,
    "start_time": "2021-08-08T11:52:26.563Z"
   },
   {
    "duration": 27,
    "start_time": "2021-08-08T11:52:26.574Z"
   },
   {
    "duration": 19,
    "start_time": "2021-08-08T11:52:26.584Z"
   },
   {
    "duration": 10,
    "start_time": "2021-08-08T11:52:26.595Z"
   },
   {
    "duration": 1,
    "start_time": "2021-08-08T11:52:26.606Z"
   },
   {
    "duration": -8,
    "start_time": "2021-08-08T11:52:26.617Z"
   },
   {
    "duration": -16,
    "start_time": "2021-08-08T11:52:26.627Z"
   },
   {
    "duration": -25,
    "start_time": "2021-08-08T11:52:26.638Z"
   },
   {
    "duration": -45,
    "start_time": "2021-08-08T11:52:26.660Z"
   },
   {
    "duration": -56,
    "start_time": "2021-08-08T11:52:26.673Z"
   },
   {
    "duration": -66,
    "start_time": "2021-08-08T11:52:26.685Z"
   },
   {
    "duration": -76,
    "start_time": "2021-08-08T11:52:26.698Z"
   },
   {
    "duration": -84,
    "start_time": "2021-08-08T11:52:26.708Z"
   },
   {
    "duration": -95,
    "start_time": "2021-08-08T11:52:26.720Z"
   },
   {
    "duration": -103,
    "start_time": "2021-08-08T11:52:26.730Z"
   },
   {
    "duration": -111,
    "start_time": "2021-08-08T11:52:26.740Z"
   },
   {
    "duration": -120,
    "start_time": "2021-08-08T11:52:26.751Z"
   },
   {
    "duration": -139,
    "start_time": "2021-08-08T11:52:26.772Z"
   },
   {
    "duration": -149,
    "start_time": "2021-08-08T11:52:26.784Z"
   },
   {
    "duration": -159,
    "start_time": "2021-08-08T11:52:26.796Z"
   },
   {
    "duration": -112,
    "start_time": "2021-08-08T11:52:26.806Z"
   },
   {
    "duration": -122,
    "start_time": "2021-08-08T11:52:26.818Z"
   },
   {
    "duration": -131,
    "start_time": "2021-08-08T11:52:26.829Z"
   },
   {
    "duration": -140,
    "start_time": "2021-08-08T11:52:26.840Z"
   },
   {
    "duration": -149,
    "start_time": "2021-08-08T11:52:26.851Z"
   },
   {
    "duration": -156,
    "start_time": "2021-08-08T11:52:26.861Z"
   },
   {
    "duration": -176,
    "start_time": "2021-08-08T11:52:26.883Z"
   },
   {
    "duration": -186,
    "start_time": "2021-08-08T11:52:26.895Z"
   },
   {
    "duration": -194,
    "start_time": "2021-08-08T11:52:26.905Z"
   },
   {
    "duration": -204,
    "start_time": "2021-08-08T11:52:26.917Z"
   },
   {
    "duration": -211,
    "start_time": "2021-08-08T11:52:26.926Z"
   },
   {
    "duration": -220,
    "start_time": "2021-08-08T11:52:26.937Z"
   },
   {
    "duration": -229,
    "start_time": "2021-08-08T11:52:26.948Z"
   },
   {
    "duration": -238,
    "start_time": "2021-08-08T11:52:26.959Z"
   },
   {
    "duration": -246,
    "start_time": "2021-08-08T11:52:26.969Z"
   },
   {
    "duration": -256,
    "start_time": "2021-08-08T11:52:26.980Z"
   },
   {
    "duration": -275,
    "start_time": "2021-08-08T11:52:27.001Z"
   },
   {
    "duration": -285,
    "start_time": "2021-08-08T11:52:27.012Z"
   },
   {
    "duration": -293,
    "start_time": "2021-08-08T11:52:27.022Z"
   },
   {
    "duration": -303,
    "start_time": "2021-08-08T11:52:27.033Z"
   },
   {
    "duration": -312,
    "start_time": "2021-08-08T11:52:27.044Z"
   },
   {
    "duration": -323,
    "start_time": "2021-08-08T11:52:27.056Z"
   },
   {
    "duration": -274,
    "start_time": "2021-08-08T11:52:27.067Z"
   },
   {
    "duration": -284,
    "start_time": "2021-08-08T11:52:27.079Z"
   },
   {
    "duration": -292,
    "start_time": "2021-08-08T11:52:27.089Z"
   },
   {
    "duration": -312,
    "start_time": "2021-08-08T11:52:27.110Z"
   },
   {
    "duration": -319,
    "start_time": "2021-08-08T11:52:27.121Z"
   },
   {
    "duration": -328,
    "start_time": "2021-08-08T11:52:27.132Z"
   },
   {
    "duration": -337,
    "start_time": "2021-08-08T11:52:27.143Z"
   },
   {
    "duration": -346,
    "start_time": "2021-08-08T11:52:27.154Z"
   },
   {
    "duration": -354,
    "start_time": "2021-08-08T11:52:27.164Z"
   },
   {
    "duration": -362,
    "start_time": "2021-08-08T11:52:27.174Z"
   },
   {
    "duration": -370,
    "start_time": "2021-08-08T11:52:27.185Z"
   },
   {
    "duration": -380,
    "start_time": "2021-08-08T11:52:27.196Z"
   },
   {
    "duration": 112,
    "start_time": "2021-08-08T11:57:35.436Z"
   },
   {
    "duration": 132,
    "start_time": "2021-08-08T11:57:58.348Z"
   },
   {
    "duration": 4,
    "start_time": "2021-08-08T11:58:22.844Z"
   },
   {
    "duration": 4,
    "start_time": "2021-08-08T12:12:41.937Z"
   },
   {
    "duration": 1153,
    "start_time": "2021-08-08T12:12:55.579Z"
   },
   {
    "duration": 5,
    "start_time": "2021-08-08T12:16:51.280Z"
   },
   {
    "duration": 351,
    "start_time": "2021-08-08T12:16:56.187Z"
   },
   {
    "duration": 78,
    "start_time": "2021-08-08T12:21:20.287Z"
   },
   {
    "duration": 305,
    "start_time": "2021-08-08T12:21:36.184Z"
   },
   {
    "duration": 332,
    "start_time": "2021-08-08T12:23:48.189Z"
   },
   {
    "duration": 91,
    "start_time": "2021-08-08T12:24:53.337Z"
   },
   {
    "duration": 304,
    "start_time": "2021-08-08T12:25:06.344Z"
   },
   {
    "duration": 713,
    "start_time": "2021-08-08T12:25:32.591Z"
   },
   {
    "duration": 425,
    "start_time": "2021-08-08T12:25:45.198Z"
   },
   {
    "duration": 774,
    "start_time": "2021-08-08T12:36:24.168Z"
   },
   {
    "duration": 638,
    "start_time": "2021-08-08T12:43:03.088Z"
   },
   {
    "duration": 574,
    "start_time": "2021-08-08T12:45:38.049Z"
   },
   {
    "duration": 4,
    "start_time": "2021-08-08T12:47:18.044Z"
   },
   {
    "duration": 4,
    "start_time": "2021-08-08T12:47:19.020Z"
   },
   {
    "duration": 3,
    "start_time": "2021-08-08T12:47:27.995Z"
   },
   {
    "duration": 4,
    "start_time": "2021-08-08T12:47:28.003Z"
   },
   {
    "duration": 102,
    "start_time": "2021-08-08T12:47:28.010Z"
   },
   {
    "duration": 39,
    "start_time": "2021-08-08T12:47:28.116Z"
   },
   {
    "duration": 22,
    "start_time": "2021-08-08T12:47:28.186Z"
   },
   {
    "duration": 11,
    "start_time": "2021-08-08T12:47:28.210Z"
   },
   {
    "duration": 16,
    "start_time": "2021-08-08T12:47:28.223Z"
   },
   {
    "duration": 47,
    "start_time": "2021-08-08T12:47:28.242Z"
   },
   {
    "duration": 6,
    "start_time": "2021-08-08T12:47:28.293Z"
   },
   {
    "duration": 8888,
    "start_time": "2021-08-08T12:47:28.302Z"
   },
   {
    "duration": 92,
    "start_time": "2021-08-08T12:47:37.193Z"
   },
   {
    "duration": 14,
    "start_time": "2021-08-08T12:47:37.288Z"
   },
   {
    "duration": 8,
    "start_time": "2021-08-08T12:47:37.304Z"
   },
   {
    "duration": 106,
    "start_time": "2021-08-08T12:47:37.314Z"
   },
   {
    "duration": 89,
    "start_time": "2021-08-08T12:47:37.422Z"
   },
   {
    "duration": 49,
    "start_time": "2021-08-08T12:47:37.514Z"
   },
   {
    "duration": 38,
    "start_time": "2021-08-08T12:47:37.566Z"
   },
   {
    "duration": 24,
    "start_time": "2021-08-08T12:47:37.606Z"
   },
   {
    "duration": 15,
    "start_time": "2021-08-08T12:47:37.633Z"
   },
   {
    "duration": 342,
    "start_time": "2021-08-08T12:47:37.682Z"
   },
   {
    "duration": 838,
    "start_time": "2021-08-08T12:47:37.192Z"
   },
   {
    "duration": 828,
    "start_time": "2021-08-08T12:47:37.203Z"
   },
   {
    "duration": 817,
    "start_time": "2021-08-08T12:47:37.215Z"
   },
   {
    "duration": 805,
    "start_time": "2021-08-08T12:47:37.229Z"
   },
   {
    "duration": 795,
    "start_time": "2021-08-08T12:47:37.240Z"
   },
   {
    "duration": 786,
    "start_time": "2021-08-08T12:47:37.251Z"
   },
   {
    "duration": 778,
    "start_time": "2021-08-08T12:47:37.262Z"
   },
   {
    "duration": 723,
    "start_time": "2021-08-08T12:47:37.318Z"
   },
   {
    "duration": 713,
    "start_time": "2021-08-08T12:47:37.330Z"
   },
   {
    "duration": 701,
    "start_time": "2021-08-08T12:47:37.343Z"
   },
   {
    "duration": 691,
    "start_time": "2021-08-08T12:47:37.355Z"
   },
   {
    "duration": 679,
    "start_time": "2021-08-08T12:47:37.368Z"
   },
   {
    "duration": 668,
    "start_time": "2021-08-08T12:47:37.380Z"
   },
   {
    "duration": 659,
    "start_time": "2021-08-08T12:47:37.391Z"
   },
   {
    "duration": 645,
    "start_time": "2021-08-08T12:47:37.406Z"
   },
   {
    "duration": 623,
    "start_time": "2021-08-08T12:47:37.429Z"
   },
   {
    "duration": 613,
    "start_time": "2021-08-08T12:47:37.440Z"
   },
   {
    "duration": 603,
    "start_time": "2021-08-08T12:47:37.452Z"
   },
   {
    "duration": 593,
    "start_time": "2021-08-08T12:47:37.464Z"
   },
   {
    "duration": 582,
    "start_time": "2021-08-08T12:47:37.476Z"
   },
   {
    "duration": 571,
    "start_time": "2021-08-08T12:47:37.488Z"
   },
   {
    "duration": 558,
    "start_time": "2021-08-08T12:47:37.503Z"
   },
   {
    "duration": 576,
    "start_time": "2021-08-08T12:47:37.514Z"
   },
   {
    "duration": 556,
    "start_time": "2021-08-08T12:47:37.536Z"
   },
   {
    "duration": 546,
    "start_time": "2021-08-08T12:47:37.547Z"
   },
   {
    "duration": 537,
    "start_time": "2021-08-08T12:47:37.558Z"
   },
   {
    "duration": 528,
    "start_time": "2021-08-08T12:47:37.569Z"
   },
   {
    "duration": 515,
    "start_time": "2021-08-08T12:47:37.584Z"
   },
   {
    "duration": 507,
    "start_time": "2021-08-08T12:47:37.594Z"
   },
   {
    "duration": 498,
    "start_time": "2021-08-08T12:47:37.605Z"
   },
   {
    "duration": 488,
    "start_time": "2021-08-08T12:47:37.617Z"
   },
   {
    "duration": 229,
    "start_time": "2021-08-08T12:47:37.877Z"
   },
   {
    "duration": 221,
    "start_time": "2021-08-08T12:47:37.887Z"
   },
   {
    "duration": 211,
    "start_time": "2021-08-08T12:47:37.899Z"
   },
   {
    "duration": 202,
    "start_time": "2021-08-08T12:47:37.909Z"
   },
   {
    "duration": 113,
    "start_time": "2021-08-08T12:47:38.000Z"
   },
   {
    "duration": 103,
    "start_time": "2021-08-08T12:47:38.012Z"
   },
   {
    "duration": 93,
    "start_time": "2021-08-08T12:47:38.024Z"
   },
   {
    "duration": 83,
    "start_time": "2021-08-08T12:47:38.035Z"
   },
   {
    "duration": 73,
    "start_time": "2021-08-08T12:47:38.047Z"
   },
   {
    "duration": -5,
    "start_time": "2021-08-08T12:47:38.127Z"
   },
   {
    "duration": -15,
    "start_time": "2021-08-08T12:47:38.139Z"
   },
   {
    "duration": -25,
    "start_time": "2021-08-08T12:47:38.150Z"
   },
   {
    "duration": -34,
    "start_time": "2021-08-08T12:47:38.161Z"
   },
   {
    "duration": -42,
    "start_time": "2021-08-08T12:47:38.171Z"
   },
   {
    "duration": -52,
    "start_time": "2021-08-08T12:47:38.183Z"
   },
   {
    "duration": -6,
    "start_time": "2021-08-08T12:47:38.193Z"
   },
   {
    "duration": -16,
    "start_time": "2021-08-08T12:47:38.205Z"
   },
   {
    "duration": -27,
    "start_time": "2021-08-08T12:47:38.217Z"
   },
   {
    "duration": -84,
    "start_time": "2021-08-08T12:47:38.276Z"
   },
   {
    "duration": -89,
    "start_time": "2021-08-08T12:47:38.286Z"
   },
   {
    "duration": -98,
    "start_time": "2021-08-08T12:47:38.297Z"
   },
   {
    "duration": -106,
    "start_time": "2021-08-08T12:47:38.307Z"
   },
   {
    "duration": -117,
    "start_time": "2021-08-08T12:47:38.320Z"
   },
   {
    "duration": -127,
    "start_time": "2021-08-08T12:47:38.331Z"
   },
   {
    "duration": -149,
    "start_time": "2021-08-08T12:47:38.355Z"
   },
   {
    "duration": -222,
    "start_time": "2021-08-08T12:47:38.430Z"
   },
   {
    "duration": -234,
    "start_time": "2021-08-08T12:47:38.443Z"
   },
   {
    "duration": -253,
    "start_time": "2021-08-08T12:47:38.464Z"
   },
   {
    "duration": -263,
    "start_time": "2021-08-08T12:47:38.476Z"
   },
   {
    "duration": -272,
    "start_time": "2021-08-08T12:47:38.486Z"
   },
   {
    "duration": -283,
    "start_time": "2021-08-08T12:47:38.498Z"
   },
   {
    "duration": -293,
    "start_time": "2021-08-08T12:47:38.510Z"
   },
   {
    "duration": -307,
    "start_time": "2021-08-08T12:47:38.525Z"
   },
   {
    "duration": 5,
    "start_time": "2021-08-08T12:49:25.256Z"
   },
   {
    "duration": 8719,
    "start_time": "2021-08-08T12:49:27.309Z"
   },
   {
    "duration": 11,
    "start_time": "2021-08-08T12:53:32.006Z"
   },
   {
    "duration": 5,
    "start_time": "2021-08-08T12:59:04.109Z"
   },
   {
    "duration": 15,
    "start_time": "2021-08-08T13:04:13.156Z"
   },
   {
    "duration": 295,
    "start_time": "2021-08-08T13:06:01.129Z"
   },
   {
    "duration": 334,
    "start_time": "2021-08-08T13:07:26.300Z"
   },
   {
    "duration": 5,
    "start_time": "2021-08-08T13:07:34.412Z"
   },
   {
    "duration": 4,
    "start_time": "2021-08-08T13:08:08.275Z"
   },
   {
    "duration": 6,
    "start_time": "2021-08-08T13:08:55.238Z"
   },
   {
    "duration": 5,
    "start_time": "2021-08-08T13:09:07.012Z"
   },
   {
    "duration": 8016,
    "start_time": "2021-08-08T13:09:09.134Z"
   },
   {
    "duration": 5,
    "start_time": "2021-08-08T13:09:17.153Z"
   },
   {
    "duration": 5,
    "start_time": "2021-08-08T13:09:21.542Z"
   },
   {
    "duration": 3,
    "start_time": "2021-08-08T13:09:28.147Z"
   },
   {
    "duration": 4,
    "start_time": "2021-08-08T13:09:28.155Z"
   },
   {
    "duration": 91,
    "start_time": "2021-08-08T13:09:28.163Z"
   },
   {
    "duration": 54,
    "start_time": "2021-08-08T13:09:28.256Z"
   },
   {
    "duration": 14,
    "start_time": "2021-08-08T13:09:28.313Z"
   },
   {
    "duration": 9,
    "start_time": "2021-08-08T13:09:28.330Z"
   },
   {
    "duration": 51,
    "start_time": "2021-08-08T13:09:28.341Z"
   },
   {
    "duration": 12,
    "start_time": "2021-08-08T13:09:28.396Z"
   },
   {
    "duration": 6,
    "start_time": "2021-08-08T13:09:28.410Z"
   },
   {
    "duration": 8687,
    "start_time": "2021-08-08T13:09:28.421Z"
   },
   {
    "duration": 7,
    "start_time": "2021-08-08T13:09:37.111Z"
   },
   {
    "duration": 7,
    "start_time": "2021-08-08T13:09:37.120Z"
   },
   {
    "duration": 9,
    "start_time": "2021-08-08T13:09:37.130Z"
   },
   {
    "duration": 108,
    "start_time": "2021-08-08T13:09:37.142Z"
   },
   {
    "duration": 10,
    "start_time": "2021-08-08T13:09:37.253Z"
   },
   {
    "duration": 21,
    "start_time": "2021-08-08T13:09:37.266Z"
   },
   {
    "duration": 75,
    "start_time": "2021-08-08T13:09:37.290Z"
   },
   {
    "duration": 91,
    "start_time": "2021-08-08T13:09:37.368Z"
   },
   {
    "duration": 72,
    "start_time": "2021-08-08T13:09:37.461Z"
   },
   {
    "duration": 14,
    "start_time": "2021-08-08T13:09:37.535Z"
   },
   {
    "duration": 44,
    "start_time": "2021-08-08T13:09:37.551Z"
   },
   {
    "duration": 15,
    "start_time": "2021-08-08T13:09:37.598Z"
   },
   {
    "duration": 317,
    "start_time": "2021-08-08T13:09:37.615Z"
   },
   {
    "duration": 435,
    "start_time": "2021-08-08T13:09:37.502Z"
   },
   {
    "duration": 426,
    "start_time": "2021-08-08T13:09:37.513Z"
   },
   {
    "duration": 352,
    "start_time": "2021-08-08T13:09:37.589Z"
   },
   {
    "duration": 340,
    "start_time": "2021-08-08T13:09:37.602Z"
   },
   {
    "duration": 329,
    "start_time": "2021-08-08T13:09:37.615Z"
   },
   {
    "duration": 316,
    "start_time": "2021-08-08T13:09:37.629Z"
   },
   {
    "duration": 305,
    "start_time": "2021-08-08T13:09:37.641Z"
   },
   {
    "duration": 295,
    "start_time": "2021-08-08T13:09:37.653Z"
   },
   {
    "duration": 285,
    "start_time": "2021-08-08T13:09:37.664Z"
   },
   {
    "duration": 276,
    "start_time": "2021-08-08T13:09:37.674Z"
   },
   {
    "duration": 252,
    "start_time": "2021-08-08T13:09:37.700Z"
   },
   {
    "duration": 243,
    "start_time": "2021-08-08T13:09:37.710Z"
   },
   {
    "duration": 231,
    "start_time": "2021-08-08T13:09:37.724Z"
   },
   {
    "duration": 221,
    "start_time": "2021-08-08T13:09:37.735Z"
   },
   {
    "duration": 210,
    "start_time": "2021-08-08T13:09:37.747Z"
   },
   {
    "duration": 200,
    "start_time": "2021-08-08T13:09:37.759Z"
   },
   {
    "duration": 190,
    "start_time": "2021-08-08T13:09:37.770Z"
   },
   {
    "duration": 182,
    "start_time": "2021-08-08T13:09:37.780Z"
   },
   {
    "duration": 172,
    "start_time": "2021-08-08T13:09:37.791Z"
   },
   {
    "duration": 149,
    "start_time": "2021-08-08T13:09:37.815Z"
   },
   {
    "duration": 139,
    "start_time": "2021-08-08T13:09:37.827Z"
   },
   {
    "duration": 126,
    "start_time": "2021-08-08T13:09:37.841Z"
   },
   {
    "duration": 114,
    "start_time": "2021-08-08T13:09:37.854Z"
   },
   {
    "duration": 106,
    "start_time": "2021-08-08T13:09:37.864Z"
   },
   {
    "duration": 113,
    "start_time": "2021-08-08T13:09:37.876Z"
   },
   {
    "duration": 108,
    "start_time": "2021-08-08T13:09:37.886Z"
   },
   {
    "duration": 98,
    "start_time": "2021-08-08T13:09:37.897Z"
   },
   {
    "duration": 89,
    "start_time": "2021-08-08T13:09:37.908Z"
   },
   {
    "duration": 67,
    "start_time": "2021-08-08T13:09:37.931Z"
   },
   {
    "duration": 57,
    "start_time": "2021-08-08T13:09:37.942Z"
   },
   {
    "duration": 46,
    "start_time": "2021-08-08T13:09:37.954Z"
   },
   {
    "duration": 38,
    "start_time": "2021-08-08T13:09:37.964Z"
   },
   {
    "duration": 27,
    "start_time": "2021-08-08T13:09:37.976Z"
   },
   {
    "duration": 18,
    "start_time": "2021-08-08T13:09:37.986Z"
   },
   {
    "duration": 3,
    "start_time": "2021-08-08T13:09:38.003Z"
   },
   {
    "duration": -7,
    "start_time": "2021-08-08T13:09:38.014Z"
   },
   {
    "duration": -20,
    "start_time": "2021-08-08T13:09:38.028Z"
   },
   {
    "duration": -40,
    "start_time": "2021-08-08T13:09:38.049Z"
   },
   {
    "duration": -51,
    "start_time": "2021-08-08T13:09:38.061Z"
   },
   {
    "duration": -60,
    "start_time": "2021-08-08T13:09:38.072Z"
   },
   {
    "duration": -74,
    "start_time": "2021-08-08T13:09:38.087Z"
   },
   {
    "duration": -83,
    "start_time": "2021-08-08T13:09:38.097Z"
   },
   {
    "duration": -94,
    "start_time": "2021-08-08T13:09:38.109Z"
   },
   {
    "duration": -105,
    "start_time": "2021-08-08T13:09:38.121Z"
   },
   {
    "duration": -115,
    "start_time": "2021-08-08T13:09:38.133Z"
   },
   {
    "duration": -124,
    "start_time": "2021-08-08T13:09:38.143Z"
   },
   {
    "duration": -288,
    "start_time": "2021-08-08T13:09:38.308Z"
   },
   {
    "duration": -299,
    "start_time": "2021-08-08T13:09:38.320Z"
   },
   {
    "duration": -311,
    "start_time": "2021-08-08T13:09:38.333Z"
   },
   {
    "duration": -320,
    "start_time": "2021-08-08T13:09:38.344Z"
   },
   {
    "duration": -331,
    "start_time": "2021-08-08T13:09:38.356Z"
   },
   {
    "duration": -340,
    "start_time": "2021-08-08T13:09:38.366Z"
   },
   {
    "duration": -291,
    "start_time": "2021-08-08T13:09:38.378Z"
   },
   {
    "duration": -300,
    "start_time": "2021-08-08T13:09:38.389Z"
   },
   {
    "duration": -310,
    "start_time": "2021-08-08T13:09:38.401Z"
   },
   {
    "duration": -331,
    "start_time": "2021-08-08T13:09:38.424Z"
   },
   {
    "duration": -341,
    "start_time": "2021-08-08T13:09:38.436Z"
   },
   {
    "duration": -351,
    "start_time": "2021-08-08T13:09:38.447Z"
   },
   {
    "duration": -363,
    "start_time": "2021-08-08T13:09:38.461Z"
   },
   {
    "duration": -374,
    "start_time": "2021-08-08T13:09:38.473Z"
   },
   {
    "duration": -384,
    "start_time": "2021-08-08T13:09:38.485Z"
   },
   {
    "duration": -395,
    "start_time": "2021-08-08T13:09:38.497Z"
   },
   {
    "duration": -407,
    "start_time": "2021-08-08T13:09:38.510Z"
   },
   {
    "duration": -430,
    "start_time": "2021-08-08T13:09:38.534Z"
   },
   {
    "duration": 5,
    "start_time": "2021-08-08T13:09:47.463Z"
   },
   {
    "duration": 8739,
    "start_time": "2021-08-08T13:09:50.669Z"
   },
   {
    "duration": 3,
    "start_time": "2021-08-08T13:10:11.736Z"
   },
   {
    "duration": 5,
    "start_time": "2021-08-08T13:10:12.471Z"
   },
   {
    "duration": 101,
    "start_time": "2021-08-08T13:10:13.119Z"
   },
   {
    "duration": 48,
    "start_time": "2021-08-08T13:10:14.454Z"
   },
   {
    "duration": 14,
    "start_time": "2021-08-08T13:10:15.805Z"
   },
   {
    "duration": 11,
    "start_time": "2021-08-08T13:10:23.590Z"
   },
   {
    "duration": 17,
    "start_time": "2021-08-08T13:10:25.827Z"
   },
   {
    "duration": 10,
    "start_time": "2021-08-08T13:10:41.201Z"
   },
   {
    "duration": 5,
    "start_time": "2021-08-08T13:10:44.277Z"
   },
   {
    "duration": 8494,
    "start_time": "2021-08-08T13:10:46.807Z"
   },
   {
    "duration": 5,
    "start_time": "2021-08-08T13:11:09.711Z"
   },
   {
    "duration": 16,
    "start_time": "2021-08-08T13:12:44.810Z"
   },
   {
    "duration": 8839,
    "start_time": "2021-08-08T13:14:23.167Z"
   },
   {
    "duration": 5,
    "start_time": "2021-08-08T13:15:08.415Z"
   },
   {
    "duration": 11,
    "start_time": "2021-08-08T13:17:08.738Z"
   },
   {
    "duration": 9,
    "start_time": "2021-08-08T13:17:36.507Z"
   },
   {
    "duration": 11,
    "start_time": "2021-08-08T13:18:43.028Z"
   },
   {
    "duration": 17,
    "start_time": "2021-08-08T13:20:17.186Z"
   },
   {
    "duration": 107,
    "start_time": "2021-08-08T13:21:49.994Z"
   },
   {
    "duration": 6,
    "start_time": "2021-08-08T13:27:13.236Z"
   },
   {
    "duration": 13,
    "start_time": "2021-08-08T13:27:51.098Z"
   },
   {
    "duration": 518,
    "start_time": "2021-08-08T13:28:44.280Z"
   },
   {
    "duration": 510,
    "start_time": "2021-08-08T13:29:40.767Z"
   },
   {
    "duration": 492,
    "start_time": "2021-08-08T13:29:57.351Z"
   },
   {
    "duration": 466,
    "start_time": "2021-08-08T13:30:29.358Z"
   },
   {
    "duration": 595,
    "start_time": "2021-08-08T13:31:36.626Z"
   },
   {
    "duration": 318,
    "start_time": "2021-08-08T13:32:30.502Z"
   },
   {
    "duration": 306,
    "start_time": "2021-08-08T13:33:08.404Z"
   },
   {
    "duration": 330,
    "start_time": "2021-08-08T13:33:40.885Z"
   },
   {
    "duration": 299,
    "start_time": "2021-08-08T13:36:14.176Z"
   },
   {
    "duration": 308,
    "start_time": "2021-08-08T13:37:28.042Z"
   },
   {
    "duration": 12,
    "start_time": "2021-08-08T13:40:46.955Z"
   },
   {
    "duration": 295,
    "start_time": "2021-08-08T13:41:05.505Z"
   },
   {
    "duration": 390,
    "start_time": "2021-08-08T13:56:39.837Z"
   },
   {
    "duration": 15,
    "start_time": "2021-08-08T13:58:34.791Z"
   },
   {
    "duration": 5,
    "start_time": "2021-08-08T14:03:47.474Z"
   },
   {
    "duration": 281,
    "start_time": "2021-08-08T14:04:07.259Z"
   },
   {
    "duration": 5,
    "start_time": "2021-08-08T14:05:46.609Z"
   },
   {
    "duration": 5,
    "start_time": "2021-08-08T14:05:50.872Z"
   },
   {
    "duration": 304,
    "start_time": "2021-08-08T14:05:59.294Z"
   },
   {
    "duration": 6,
    "start_time": "2021-08-08T14:06:11.492Z"
   },
   {
    "duration": 354,
    "start_time": "2021-08-08T14:06:35.886Z"
   },
   {
    "duration": 8,
    "start_time": "2021-08-08T14:08:42.086Z"
   },
   {
    "duration": 325,
    "start_time": "2021-08-08T14:08:59.493Z"
   },
   {
    "duration": 455,
    "start_time": "2021-08-08T14:09:41.501Z"
   },
   {
    "duration": 7654,
    "start_time": "2021-08-08T14:15:37.254Z"
   },
   {
    "duration": 6,
    "start_time": "2021-08-08T14:16:08.368Z"
   },
   {
    "duration": 7442,
    "start_time": "2021-08-08T14:16:25.665Z"
   },
   {
    "duration": 3,
    "start_time": "2021-08-08T14:18:09.762Z"
   },
   {
    "duration": 4,
    "start_time": "2021-08-08T14:18:11.493Z"
   },
   {
    "duration": 91,
    "start_time": "2021-08-08T14:18:11.500Z"
   },
   {
    "duration": 38,
    "start_time": "2021-08-08T14:18:12.612Z"
   },
   {
    "duration": 16,
    "start_time": "2021-08-08T14:18:13.587Z"
   },
   {
    "duration": 11,
    "start_time": "2021-08-08T14:18:24.796Z"
   },
   {
    "duration": 17,
    "start_time": "2021-08-08T14:18:26.100Z"
   },
   {
    "duration": 12,
    "start_time": "2021-08-08T14:18:47.963Z"
   },
   {
    "duration": 5,
    "start_time": "2021-08-08T14:19:56.242Z"
   },
   {
    "duration": 8572,
    "start_time": "2021-08-08T14:20:11.360Z"
   },
   {
    "duration": 4,
    "start_time": "2021-08-08T14:20:19.935Z"
   },
   {
    "duration": 12050,
    "start_time": "2021-08-08T14:20:22.671Z"
   },
   {
    "duration": 6,
    "start_time": "2021-08-08T14:20:40.800Z"
   },
   {
    "duration": 18,
    "start_time": "2021-08-08T14:20:44.946Z"
   },
   {
    "duration": 8182,
    "start_time": "2021-08-08T14:21:04.390Z"
   },
   {
    "duration": 5,
    "start_time": "2021-08-08T14:21:27.458Z"
   },
   {
    "duration": 18,
    "start_time": "2021-08-08T14:21:30.985Z"
   },
   {
    "duration": 6,
    "start_time": "2021-08-08T14:21:50.231Z"
   },
   {
    "duration": 11,
    "start_time": "2021-08-08T14:22:00.015Z"
   },
   {
    "duration": 327,
    "start_time": "2021-08-08T14:22:01.579Z"
   },
   {
    "duration": 323,
    "start_time": "2021-08-08T14:22:15.617Z"
   },
   {
    "duration": 14,
    "start_time": "2021-08-08T14:22:45.588Z"
   },
   {
    "duration": 10,
    "start_time": "2021-08-08T14:37:57.027Z"
   },
   {
    "duration": 182,
    "start_time": "2021-08-08T14:41:07.255Z"
   },
   {
    "duration": 10,
    "start_time": "2021-08-08T14:41:32.719Z"
   },
   {
    "duration": 12,
    "start_time": "2021-08-08T14:47:50.466Z"
   },
   {
    "duration": 284,
    "start_time": "2021-08-08T14:48:54.173Z"
   },
   {
    "duration": 16,
    "start_time": "2021-08-08T14:49:11.676Z"
   },
   {
    "duration": 13,
    "start_time": "2021-08-08T14:53:03.502Z"
   },
   {
    "duration": 15,
    "start_time": "2021-08-08T14:56:39.432Z"
   },
   {
    "duration": 29,
    "start_time": "2021-08-08T14:58:28.075Z"
   },
   {
    "duration": 11,
    "start_time": "2021-08-08T15:04:35.732Z"
   },
   {
    "duration": 11,
    "start_time": "2021-08-08T15:05:01.118Z"
   },
   {
    "duration": 21,
    "start_time": "2021-08-08T15:09:01.074Z"
   },
   {
    "duration": 14,
    "start_time": "2021-08-08T15:09:17.596Z"
   },
   {
    "duration": 19,
    "start_time": "2021-08-08T15:09:24.199Z"
   },
   {
    "duration": 10,
    "start_time": "2021-08-08T15:19:35.462Z"
   },
   {
    "duration": 10,
    "start_time": "2021-08-08T15:22:08.048Z"
   },
   {
    "duration": 15,
    "start_time": "2021-08-08T15:23:09.306Z"
   },
   {
    "duration": 97,
    "start_time": "2021-08-08T15:24:34.246Z"
   },
   {
    "duration": 4,
    "start_time": "2021-08-08T15:24:39.276Z"
   },
   {
    "duration": 12,
    "start_time": "2021-08-08T15:25:17.510Z"
   },
   {
    "duration": 11,
    "start_time": "2021-08-08T15:26:36.212Z"
   },
   {
    "duration": 5,
    "start_time": "2021-08-08T15:30:15.229Z"
   },
   {
    "duration": 10,
    "start_time": "2021-08-08T15:30:25.518Z"
   },
   {
    "duration": 278,
    "start_time": "2021-08-08T15:32:11.792Z"
   },
   {
    "duration": 21,
    "start_time": "2021-08-08T15:32:38.490Z"
   },
   {
    "duration": 305,
    "start_time": "2021-08-08T15:35:08.734Z"
   },
   {
    "duration": 12,
    "start_time": "2021-08-08T15:35:27.994Z"
   },
   {
    "duration": 12,
    "start_time": "2021-08-08T15:35:39.085Z"
   },
   {
    "duration": 10,
    "start_time": "2021-08-08T15:37:32.113Z"
   },
   {
    "duration": 22,
    "start_time": "2021-08-08T15:37:34.779Z"
   },
   {
    "duration": 16,
    "start_time": "2021-08-08T15:38:36.487Z"
   },
   {
    "duration": 3,
    "start_time": "2021-08-08T15:38:57.467Z"
   },
   {
    "duration": 8,
    "start_time": "2021-08-08T15:38:59.647Z"
   },
   {
    "duration": 3,
    "start_time": "2021-08-08T15:39:10.228Z"
   },
   {
    "duration": 6,
    "start_time": "2021-08-08T15:39:10.237Z"
   },
   {
    "duration": 103,
    "start_time": "2021-08-08T15:39:10.246Z"
   },
   {
    "duration": 59,
    "start_time": "2021-08-08T15:39:10.352Z"
   },
   {
    "duration": 18,
    "start_time": "2021-08-08T15:39:10.414Z"
   },
   {
    "duration": 10,
    "start_time": "2021-08-08T15:39:10.434Z"
   },
   {
    "duration": 59,
    "start_time": "2021-08-08T15:39:10.446Z"
   },
   {
    "duration": 11,
    "start_time": "2021-08-08T15:39:10.509Z"
   },
   {
    "duration": 5,
    "start_time": "2021-08-08T15:39:10.523Z"
   },
   {
    "duration": 8882,
    "start_time": "2021-08-08T15:39:10.530Z"
   },
   {
    "duration": 5,
    "start_time": "2021-08-08T15:39:19.414Z"
   },
   {
    "duration": 17,
    "start_time": "2021-08-08T15:39:19.421Z"
   },
   {
    "duration": 8558,
    "start_time": "2021-08-08T15:39:19.440Z"
   },
   {
    "duration": 7,
    "start_time": "2021-08-08T15:39:28.002Z"
   },
   {
    "duration": 14,
    "start_time": "2021-08-08T15:39:28.014Z"
   },
   {
    "duration": 5,
    "start_time": "2021-08-08T15:39:28.030Z"
   },
   {
    "duration": 14,
    "start_time": "2021-08-08T15:39:28.037Z"
   },
   {
    "duration": 359,
    "start_time": "2021-08-08T15:39:28.053Z"
   },
   {
    "duration": 12,
    "start_time": "2021-08-08T15:39:28.414Z"
   },
   {
    "duration": 9,
    "start_time": "2021-08-08T15:39:28.431Z"
   },
   {
    "duration": 10,
    "start_time": "2021-08-08T15:39:28.444Z"
   },
   {
    "duration": 33,
    "start_time": "2021-08-08T15:39:28.456Z"
   },
   {
    "duration": 3,
    "start_time": "2021-08-08T15:39:28.491Z"
   },
   {
    "duration": 22,
    "start_time": "2021-08-08T15:39:28.502Z"
   },
   {
    "duration": 96,
    "start_time": "2021-08-08T15:39:28.526Z"
   },
   {
    "duration": 748,
    "start_time": "2021-08-08T15:39:27.878Z"
   },
   {
    "duration": 739,
    "start_time": "2021-08-08T15:39:27.889Z"
   },
   {
    "duration": 728,
    "start_time": "2021-08-08T15:39:27.901Z"
   },
   {
    "duration": 719,
    "start_time": "2021-08-08T15:39:27.912Z"
   },
   {
    "duration": 709,
    "start_time": "2021-08-08T15:39:27.923Z"
   },
   {
    "duration": 698,
    "start_time": "2021-08-08T15:39:27.935Z"
   },
   {
    "duration": 688,
    "start_time": "2021-08-08T15:39:27.946Z"
   },
   {
    "duration": 646,
    "start_time": "2021-08-08T15:39:27.990Z"
   },
   {
    "duration": 634,
    "start_time": "2021-08-08T15:39:28.003Z"
   },
   {
    "duration": 624,
    "start_time": "2021-08-08T15:39:28.015Z"
   },
   {
    "duration": 614,
    "start_time": "2021-08-08T15:39:28.026Z"
   },
   {
    "duration": 604,
    "start_time": "2021-08-08T15:39:28.037Z"
   },
   {
    "duration": 594,
    "start_time": "2021-08-08T15:39:28.049Z"
   },
   {
    "duration": 584,
    "start_time": "2021-08-08T15:39:28.060Z"
   },
   {
    "duration": 573,
    "start_time": "2021-08-08T15:39:28.072Z"
   },
   {
    "duration": 564,
    "start_time": "2021-08-08T15:39:28.082Z"
   },
   {
    "duration": 542,
    "start_time": "2021-08-08T15:39:28.106Z"
   },
   {
    "duration": 532,
    "start_time": "2021-08-08T15:39:28.117Z"
   },
   {
    "duration": 520,
    "start_time": "2021-08-08T15:39:28.130Z"
   },
   {
    "duration": 509,
    "start_time": "2021-08-08T15:39:28.142Z"
   },
   {
    "duration": 498,
    "start_time": "2021-08-08T15:39:28.155Z"
   },
   {
    "duration": 489,
    "start_time": "2021-08-08T15:39:28.165Z"
   },
   {
    "duration": 478,
    "start_time": "2021-08-08T15:39:28.177Z"
   },
   {
    "duration": 468,
    "start_time": "2021-08-08T15:39:28.188Z"
   },
   {
    "duration": 457,
    "start_time": "2021-08-08T15:39:28.200Z"
   },
   {
    "duration": 436,
    "start_time": "2021-08-08T15:39:28.223Z"
   },
   {
    "duration": 424,
    "start_time": "2021-08-08T15:39:28.236Z"
   },
   {
    "duration": 414,
    "start_time": "2021-08-08T15:39:28.247Z"
   },
   {
    "duration": 404,
    "start_time": "2021-08-08T15:39:28.259Z"
   },
   {
    "duration": 394,
    "start_time": "2021-08-08T15:39:28.270Z"
   },
   {
    "duration": 413,
    "start_time": "2021-08-08T15:39:28.281Z"
   },
   {
    "duration": 407,
    "start_time": "2021-08-08T15:39:28.292Z"
   },
   {
    "duration": 396,
    "start_time": "2021-08-08T15:39:28.304Z"
   },
   {
    "duration": 386,
    "start_time": "2021-08-08T15:39:28.315Z"
   },
   {
    "duration": 364,
    "start_time": "2021-08-08T15:39:28.338Z"
   },
   {
    "duration": 356,
    "start_time": "2021-08-08T15:39:28.351Z"
   },
   {
    "duration": 344,
    "start_time": "2021-08-08T15:39:28.364Z"
   },
   {
    "duration": 335,
    "start_time": "2021-08-08T15:39:28.375Z"
   },
   {
    "duration": 324,
    "start_time": "2021-08-08T15:39:28.388Z"
   },
   {
    "duration": 312,
    "start_time": "2021-08-08T15:39:28.401Z"
   },
   {
    "duration": 301,
    "start_time": "2021-08-08T15:39:28.414Z"
   },
   {
    "duration": 291,
    "start_time": "2021-08-08T15:39:28.425Z"
   },
   {
    "duration": 268,
    "start_time": "2021-08-08T15:39:28.449Z"
   },
   {
    "duration": 259,
    "start_time": "2021-08-08T15:39:28.460Z"
   },
   {
    "duration": 248,
    "start_time": "2021-08-08T15:39:28.472Z"
   },
   {
    "duration": 239,
    "start_time": "2021-08-08T15:39:28.483Z"
   },
   {
    "duration": 226,
    "start_time": "2021-08-08T15:39:28.497Z"
   },
   {
    "duration": 216,
    "start_time": "2021-08-08T15:39:28.508Z"
   },
   {
    "duration": 205,
    "start_time": "2021-08-08T15:39:28.521Z"
   },
   {
    "duration": 195,
    "start_time": "2021-08-08T15:39:28.532Z"
   },
   {
    "duration": 185,
    "start_time": "2021-08-08T15:39:28.544Z"
   },
   {
    "duration": 164,
    "start_time": "2021-08-08T15:39:28.566Z"
   },
   {
    "duration": 152,
    "start_time": "2021-08-08T15:39:28.580Z"
   },
   {
    "duration": 141,
    "start_time": "2021-08-08T15:39:28.592Z"
   },
   {
    "duration": 194,
    "start_time": "2021-08-08T15:39:28.605Z"
   },
   {
    "duration": 189,
    "start_time": "2021-08-08T15:39:28.615Z"
   },
   {
    "duration": 175,
    "start_time": "2021-08-08T15:39:28.630Z"
   },
   {
    "duration": 165,
    "start_time": "2021-08-08T15:39:28.642Z"
   },
   {
    "duration": 153,
    "start_time": "2021-08-08T15:39:28.655Z"
   },
   {
    "duration": 136,
    "start_time": "2021-08-08T15:39:28.677Z"
   },
   {
    "duration": 125,
    "start_time": "2021-08-08T15:39:28.690Z"
   },
   {
    "duration": 115,
    "start_time": "2021-08-08T15:39:28.701Z"
   },
   {
    "duration": 105,
    "start_time": "2021-08-08T15:39:28.713Z"
   },
   {
    "duration": 96,
    "start_time": "2021-08-08T15:39:28.723Z"
   },
   {
    "duration": 85,
    "start_time": "2021-08-08T15:39:28.735Z"
   },
   {
    "duration": 76,
    "start_time": "2021-08-08T15:39:28.746Z"
   },
   {
    "duration": 64,
    "start_time": "2021-08-08T15:39:28.759Z"
   },
   {
    "duration": 55,
    "start_time": "2021-08-08T15:39:28.769Z"
   },
   {
    "duration": 33,
    "start_time": "2021-08-08T15:39:28.793Z"
   },
   {
    "duration": 22,
    "start_time": "2021-08-08T15:39:28.805Z"
   },
   {
    "duration": 12,
    "start_time": "2021-08-08T15:39:28.816Z"
   },
   {
    "duration": 2,
    "start_time": "2021-08-08T15:39:28.827Z"
   },
   {
    "duration": 10,
    "start_time": "2021-08-08T15:40:02.229Z"
   },
   {
    "duration": 9,
    "start_time": "2021-08-08T15:40:11.530Z"
   },
   {
    "duration": 12,
    "start_time": "2021-08-08T15:40:27.014Z"
   },
   {
    "duration": 15,
    "start_time": "2021-08-08T15:40:46.725Z"
   },
   {
    "duration": 12,
    "start_time": "2021-08-08T15:41:54.196Z"
   },
   {
    "duration": 11,
    "start_time": "2021-08-08T15:41:55.136Z"
   },
   {
    "duration": 6,
    "start_time": "2021-08-08T15:43:36.571Z"
   },
   {
    "duration": 9,
    "start_time": "2021-08-08T15:44:48.910Z"
   },
   {
    "duration": 8,
    "start_time": "2021-08-08T15:45:00.813Z"
   },
   {
    "duration": 8,
    "start_time": "2021-08-08T15:45:06.021Z"
   },
   {
    "duration": 11,
    "start_time": "2021-08-08T15:45:14.798Z"
   },
   {
    "duration": 10,
    "start_time": "2021-08-08T15:45:31.006Z"
   },
   {
    "duration": 9,
    "start_time": "2021-08-08T15:46:18.816Z"
   },
   {
    "duration": 17,
    "start_time": "2021-08-08T15:49:19.892Z"
   },
   {
    "duration": 10,
    "start_time": "2021-08-08T15:49:49.541Z"
   },
   {
    "duration": 16,
    "start_time": "2021-08-08T15:50:54.387Z"
   },
   {
    "duration": 6,
    "start_time": "2021-08-08T15:51:02.099Z"
   },
   {
    "duration": 6,
    "start_time": "2021-08-08T15:51:16.800Z"
   },
   {
    "duration": 311,
    "start_time": "2021-08-08T15:56:23.711Z"
   },
   {
    "duration": 14,
    "start_time": "2021-08-08T15:57:06.692Z"
   },
   {
    "duration": 20,
    "start_time": "2021-08-08T15:59:15.088Z"
   },
   {
    "duration": 13,
    "start_time": "2021-08-08T16:00:16.125Z"
   },
   {
    "duration": 821,
    "start_time": "2021-08-08T16:00:38.103Z"
   },
   {
    "duration": 134,
    "start_time": "2021-08-08T16:00:38.927Z"
   },
   {
    "duration": 99,
    "start_time": "2021-08-08T16:00:39.064Z"
   },
   {
    "duration": 64,
    "start_time": "2021-08-08T16:00:39.166Z"
   },
   {
    "duration": 15,
    "start_time": "2021-08-08T16:00:39.232Z"
   },
   {
    "duration": 10,
    "start_time": "2021-08-08T16:00:39.249Z"
   },
   {
    "duration": 27,
    "start_time": "2021-08-08T16:00:39.291Z"
   },
   {
    "duration": 11,
    "start_time": "2021-08-08T16:00:39.323Z"
   },
   {
    "duration": 5,
    "start_time": "2021-08-08T16:00:39.337Z"
   },
   {
    "duration": 8996,
    "start_time": "2021-08-08T16:00:39.344Z"
   },
   {
    "duration": 7,
    "start_time": "2021-08-08T16:00:48.343Z"
   },
   {
    "duration": 58,
    "start_time": "2021-08-08T16:00:48.353Z"
   },
   {
    "duration": 8639,
    "start_time": "2021-08-08T16:00:48.416Z"
   },
   {
    "duration": 4,
    "start_time": "2021-08-08T16:00:57.058Z"
   },
   {
    "duration": 24,
    "start_time": "2021-08-08T16:00:57.064Z"
   },
   {
    "duration": 6,
    "start_time": "2021-08-08T16:00:57.091Z"
   },
   {
    "duration": 24,
    "start_time": "2021-08-08T16:00:57.100Z"
   },
   {
    "duration": 342,
    "start_time": "2021-08-08T16:00:57.126Z"
   },
   {
    "duration": 26,
    "start_time": "2021-08-08T16:00:57.470Z"
   },
   {
    "duration": 14,
    "start_time": "2021-08-08T16:00:57.500Z"
   },
   {
    "duration": 17,
    "start_time": "2021-08-08T16:00:57.517Z"
   },
   {
    "duration": 49,
    "start_time": "2021-08-08T16:00:57.537Z"
   },
   {
    "duration": 16,
    "start_time": "2021-08-08T16:00:57.596Z"
   },
   {
    "duration": 9,
    "start_time": "2021-08-08T16:00:57.617Z"
   },
   {
    "duration": 8,
    "start_time": "2021-08-08T16:00:57.629Z"
   },
   {
    "duration": 57,
    "start_time": "2021-08-08T16:00:57.640Z"
   },
   {
    "duration": 12,
    "start_time": "2021-08-08T16:00:57.702Z"
   },
   {
    "duration": 9,
    "start_time": "2021-08-08T16:00:57.717Z"
   },
   {
    "duration": 18,
    "start_time": "2021-08-08T16:00:57.729Z"
   },
   {
    "duration": 61,
    "start_time": "2021-08-08T16:00:57.750Z"
   },
   {
    "duration": 15,
    "start_time": "2021-08-08T16:00:57.814Z"
   },
   {
    "duration": 51,
    "start_time": "2021-08-08T16:00:57.832Z"
   },
   {
    "duration": 33,
    "start_time": "2021-08-08T16:00:57.886Z"
   },
   {
    "duration": 9,
    "start_time": "2021-08-08T16:00:57.922Z"
   },
   {
    "duration": 59,
    "start_time": "2021-08-08T16:00:57.933Z"
   },
   {
    "duration": 8,
    "start_time": "2021-08-08T16:00:57.995Z"
   },
   {
    "duration": 10,
    "start_time": "2021-08-08T16:00:58.006Z"
   },
   {
    "duration": 10,
    "start_time": "2021-08-08T16:00:58.019Z"
   },
   {
    "duration": 7,
    "start_time": "2021-08-08T16:00:58.031Z"
   },
   {
    "duration": 5,
    "start_time": "2021-08-08T16:00:58.040Z"
   },
   {
    "duration": 671,
    "start_time": "2021-08-08T16:00:58.088Z"
   },
   {
    "duration": 3,
    "start_time": "2021-08-08T16:00:58.762Z"
   },
   {
    "duration": 31,
    "start_time": "2021-08-08T16:00:58.768Z"
   },
   {
    "duration": 10,
    "start_time": "2021-08-08T16:00:58.803Z"
   },
   {
    "duration": 6,
    "start_time": "2021-08-08T16:00:58.817Z"
   },
   {
    "duration": 401,
    "start_time": "2021-08-08T16:00:58.826Z"
   },
   {
    "duration": 338,
    "start_time": "2021-08-08T16:00:59.229Z"
   },
   {
    "duration": 22,
    "start_time": "2021-08-08T16:00:59.570Z"
   },
   {
    "duration": 396,
    "start_time": "2021-08-08T16:00:59.595Z"
   },
   {
    "duration": -372,
    "start_time": "2021-08-08T16:01:00.368Z"
   },
   {
    "duration": -382,
    "start_time": "2021-08-08T16:01:00.381Z"
   },
   {
    "duration": -390,
    "start_time": "2021-08-08T16:01:00.392Z"
   },
   {
    "duration": -400,
    "start_time": "2021-08-08T16:01:00.404Z"
   },
   {
    "duration": -407,
    "start_time": "2021-08-08T16:01:00.414Z"
   },
   {
    "duration": -419,
    "start_time": "2021-08-08T16:01:00.427Z"
   },
   {
    "duration": -458,
    "start_time": "2021-08-08T16:01:00.469Z"
   },
   {
    "duration": -471,
    "start_time": "2021-08-08T16:01:00.483Z"
   },
   {
    "duration": -480,
    "start_time": "2021-08-08T16:01:00.495Z"
   },
   {
    "duration": -490,
    "start_time": "2021-08-08T16:01:00.506Z"
   },
   {
    "duration": -499,
    "start_time": "2021-08-08T16:01:00.517Z"
   },
   {
    "duration": -509,
    "start_time": "2021-08-08T16:01:00.529Z"
   },
   {
    "duration": -518,
    "start_time": "2021-08-08T16:01:00.539Z"
   },
   {
    "duration": -528,
    "start_time": "2021-08-08T16:01:00.551Z"
   },
   {
    "duration": -538,
    "start_time": "2021-08-08T16:01:00.562Z"
   },
   {
    "duration": -561,
    "start_time": "2021-08-08T16:01:00.587Z"
   },
   {
    "duration": -573,
    "start_time": "2021-08-08T16:01:00.600Z"
   },
   {
    "duration": -583,
    "start_time": "2021-08-08T16:01:00.612Z"
   },
   {
    "duration": -593,
    "start_time": "2021-08-08T16:01:00.623Z"
   },
   {
    "duration": -603,
    "start_time": "2021-08-08T16:01:00.635Z"
   },
   {
    "duration": -559,
    "start_time": "2021-08-08T16:01:00.646Z"
   },
   {
    "duration": -569,
    "start_time": "2021-08-08T16:01:00.658Z"
   },
   {
    "duration": -576,
    "start_time": "2021-08-08T16:01:00.668Z"
   },
   {
    "duration": -595,
    "start_time": "2021-08-08T16:01:00.689Z"
   },
   {
    "duration": -617,
    "start_time": "2021-08-08T16:01:00.713Z"
   },
   {
    "duration": -632,
    "start_time": "2021-08-08T16:01:00.730Z"
   },
   {
    "duration": -643,
    "start_time": "2021-08-08T16:01:00.742Z"
   },
   {
    "duration": -654,
    "start_time": "2021-08-08T16:01:00.755Z"
   },
   {
    "duration": -665,
    "start_time": "2021-08-08T16:01:00.767Z"
   },
   {
    "duration": -675,
    "start_time": "2021-08-08T16:01:00.779Z"
   },
   {
    "duration": -684,
    "start_time": "2021-08-08T16:01:00.790Z"
   },
   {
    "duration": -696,
    "start_time": "2021-08-08T16:01:00.803Z"
   },
   {
    "duration": -716,
    "start_time": "2021-08-08T16:01:00.825Z"
   },
   {
    "duration": -731,
    "start_time": "2021-08-08T16:01:00.841Z"
   },
   {
    "duration": -748,
    "start_time": "2021-08-08T16:01:00.860Z"
   },
   {
    "duration": -760,
    "start_time": "2021-08-08T16:01:00.873Z"
   },
   {
    "duration": -771,
    "start_time": "2021-08-08T16:01:00.886Z"
   },
   {
    "duration": -784,
    "start_time": "2021-08-08T16:01:00.900Z"
   },
   {
    "duration": -795,
    "start_time": "2021-08-08T16:01:00.913Z"
   },
   {
    "duration": -825,
    "start_time": "2021-08-08T16:01:00.945Z"
   },
   {
    "duration": -836,
    "start_time": "2021-08-08T16:01:00.958Z"
   },
   {
    "duration": -845,
    "start_time": "2021-08-08T16:01:00.969Z"
   },
   {
    "duration": -856,
    "start_time": "2021-08-08T16:01:00.981Z"
   },
   {
    "duration": -810,
    "start_time": "2021-08-08T16:01:00.993Z"
   },
   {
    "duration": -821,
    "start_time": "2021-08-08T16:01:01.005Z"
   },
   {
    "duration": -831,
    "start_time": "2021-08-08T16:01:01.017Z"
   },
   {
    "duration": -842,
    "start_time": "2021-08-08T16:01:01.029Z"
   },
   {
    "duration": 20,
    "start_time": "2021-08-08T16:06:03.283Z"
   },
   {
    "duration": 13,
    "start_time": "2021-08-08T16:07:23.850Z"
   },
   {
    "duration": 3,
    "start_time": "2021-08-08T16:09:37.171Z"
   },
   {
    "duration": 4,
    "start_time": "2021-08-08T16:09:38.097Z"
   },
   {
    "duration": 88,
    "start_time": "2021-08-08T16:09:38.766Z"
   },
   {
    "duration": 47,
    "start_time": "2021-08-08T16:09:40.065Z"
   },
   {
    "duration": 20,
    "start_time": "2021-08-08T16:09:43.870Z"
   },
   {
    "duration": 12,
    "start_time": "2021-08-08T16:09:53.168Z"
   },
   {
    "duration": 16,
    "start_time": "2021-08-08T16:09:55.337Z"
   },
   {
    "duration": 10,
    "start_time": "2021-08-08T16:10:02.918Z"
   },
   {
    "duration": 10,
    "start_time": "2021-08-08T16:10:05.985Z"
   },
   {
    "duration": 8464,
    "start_time": "2021-08-08T16:10:11.572Z"
   },
   {
    "duration": 5,
    "start_time": "2021-08-08T16:10:21.592Z"
   },
   {
    "duration": 16,
    "start_time": "2021-08-08T16:10:27.687Z"
   },
   {
    "duration": 13,
    "start_time": "2021-08-08T16:10:39.929Z"
   },
   {
    "duration": 8045,
    "start_time": "2021-08-08T16:10:53.145Z"
   },
   {
    "duration": 8090,
    "start_time": "2021-08-08T16:12:46.107Z"
   },
   {
    "duration": 8073,
    "start_time": "2021-08-08T16:13:19.076Z"
   },
   {
    "duration": 6,
    "start_time": "2021-08-08T16:13:27.152Z"
   },
   {
    "duration": 34,
    "start_time": "2021-08-08T16:13:27.161Z"
   },
   {
    "duration": 5,
    "start_time": "2021-08-08T16:13:32.270Z"
   },
   {
    "duration": 11,
    "start_time": "2021-08-08T16:13:33.237Z"
   },
   {
    "duration": 309,
    "start_time": "2021-08-08T16:13:35.414Z"
   },
   {
    "duration": 16,
    "start_time": "2021-08-08T16:13:47.781Z"
   },
   {
    "duration": 16,
    "start_time": "2021-08-08T16:14:21.390Z"
   },
   {
    "duration": 15,
    "start_time": "2021-08-08T16:14:44.326Z"
   },
   {
    "duration": 11,
    "start_time": "2021-08-08T16:14:52.022Z"
   },
   {
    "duration": 12,
    "start_time": "2021-08-08T16:14:54.668Z"
   },
   {
    "duration": 10,
    "start_time": "2021-08-08T16:15:05.959Z"
   },
   {
    "duration": 10,
    "start_time": "2021-08-08T16:15:10.131Z"
   },
   {
    "duration": 13,
    "start_time": "2021-08-08T16:15:34.248Z"
   },
   {
    "duration": 11,
    "start_time": "2021-08-08T16:16:20.362Z"
   },
   {
    "duration": 7,
    "start_time": "2021-08-08T16:16:54.860Z"
   },
   {
    "duration": 3,
    "start_time": "2021-08-08T16:16:55.508Z"
   },
   {
    "duration": 82,
    "start_time": "2021-08-08T16:16:56.107Z"
   },
   {
    "duration": 47,
    "start_time": "2021-08-08T16:16:57.060Z"
   },
   {
    "duration": 16,
    "start_time": "2021-08-08T16:16:57.945Z"
   },
   {
    "duration": 15,
    "start_time": "2021-08-08T16:17:05.484Z"
   },
   {
    "duration": 24,
    "start_time": "2021-08-08T16:17:08.172Z"
   },
   {
    "duration": 11,
    "start_time": "2021-08-08T16:17:11.754Z"
   },
   {
    "duration": 5,
    "start_time": "2021-08-08T16:17:14.996Z"
   },
   {
    "duration": 8300,
    "start_time": "2021-08-08T16:17:17.639Z"
   },
   {
    "duration": 5,
    "start_time": "2021-08-08T16:17:27.501Z"
   },
   {
    "duration": 15,
    "start_time": "2021-08-08T16:17:29.826Z"
   },
   {
    "duration": 8059,
    "start_time": "2021-08-08T16:17:35.778Z"
   },
   {
    "duration": 5,
    "start_time": "2021-08-08T16:17:43.839Z"
   },
   {
    "duration": 17,
    "start_time": "2021-08-08T16:17:43.847Z"
   },
   {
    "duration": 5,
    "start_time": "2021-08-08T16:17:45.440Z"
   },
   {
    "duration": 11,
    "start_time": "2021-08-08T16:17:46.165Z"
   },
   {
    "duration": 281,
    "start_time": "2021-08-08T16:17:47.132Z"
   },
   {
    "duration": 13,
    "start_time": "2021-08-08T16:18:02.259Z"
   },
   {
    "duration": 14,
    "start_time": "2021-08-08T16:20:09.720Z"
   },
   {
    "duration": 13,
    "start_time": "2021-08-08T16:21:15.332Z"
   },
   {
    "duration": 13,
    "start_time": "2021-08-08T16:21:17.000Z"
   },
   {
    "duration": 16,
    "start_time": "2021-08-08T16:22:21.450Z"
   },
   {
    "duration": 87,
    "start_time": "2021-08-08T16:23:57.335Z"
   },
   {
    "duration": 111,
    "start_time": "2021-08-08T16:24:34.736Z"
   },
   {
    "duration": 9,
    "start_time": "2021-08-08T16:24:41.655Z"
   },
   {
    "duration": 10,
    "start_time": "2021-08-08T16:25:15.360Z"
   },
   {
    "duration": 10,
    "start_time": "2021-08-08T16:25:43.217Z"
   },
   {
    "duration": 5,
    "start_time": "2021-08-08T16:26:02.810Z"
   },
   {
    "duration": 12,
    "start_time": "2021-08-08T16:27:18.861Z"
   },
   {
    "duration": 5,
    "start_time": "2021-08-08T16:27:19.930Z"
   },
   {
    "duration": 13,
    "start_time": "2021-08-08T16:29:50.403Z"
   },
   {
    "duration": 4,
    "start_time": "2021-08-08T16:29:51.775Z"
   },
   {
    "duration": 12,
    "start_time": "2021-08-08T16:30:07.831Z"
   },
   {
    "duration": 331,
    "start_time": "2021-08-08T16:30:43.593Z"
   },
   {
    "duration": 11,
    "start_time": "2021-08-08T16:31:25.066Z"
   },
   {
    "duration": 16,
    "start_time": "2021-08-08T16:31:34.972Z"
   },
   {
    "duration": 17,
    "start_time": "2021-08-08T16:31:41.084Z"
   },
   {
    "duration": 3,
    "start_time": "2021-08-08T16:32:04.044Z"
   },
   {
    "duration": 3,
    "start_time": "2021-08-08T16:32:04.699Z"
   },
   {
    "duration": 86,
    "start_time": "2021-08-08T16:32:05.345Z"
   },
   {
    "duration": 41,
    "start_time": "2021-08-08T16:32:06.319Z"
   },
   {
    "duration": 16,
    "start_time": "2021-08-08T16:32:07.036Z"
   },
   {
    "duration": 11,
    "start_time": "2021-08-08T16:32:11.695Z"
   },
   {
    "duration": 18,
    "start_time": "2021-08-08T16:32:12.687Z"
   },
   {
    "duration": 11,
    "start_time": "2021-08-08T16:32:16.162Z"
   },
   {
    "duration": 4,
    "start_time": "2021-08-08T16:32:19.275Z"
   },
   {
    "duration": 8781,
    "start_time": "2021-08-08T16:32:20.827Z"
   },
   {
    "duration": 6,
    "start_time": "2021-08-08T16:32:31.598Z"
   },
   {
    "duration": 12,
    "start_time": "2021-08-08T16:32:33.867Z"
   },
   {
    "duration": 8197,
    "start_time": "2021-08-08T16:32:40.450Z"
   },
   {
    "duration": 5,
    "start_time": "2021-08-08T16:32:54.060Z"
   },
   {
    "duration": 14,
    "start_time": "2021-08-08T16:32:56.747Z"
   },
   {
    "duration": 6,
    "start_time": "2021-08-08T16:32:59.340Z"
   },
   {
    "duration": 12,
    "start_time": "2021-08-08T16:33:00.354Z"
   },
   {
    "duration": 302,
    "start_time": "2021-08-08T16:33:01.332Z"
   },
   {
    "duration": 13,
    "start_time": "2021-08-08T16:33:05.362Z"
   },
   {
    "duration": 3,
    "start_time": "2021-08-08T16:33:08.446Z"
   },
   {
    "duration": 13,
    "start_time": "2021-08-08T16:33:13.435Z"
   },
   {
    "duration": 13,
    "start_time": "2021-08-08T16:33:24.784Z"
   },
   {
    "duration": 12,
    "start_time": "2021-08-08T16:33:27.700Z"
   },
   {
    "duration": 10,
    "start_time": "2021-08-08T16:33:33.613Z"
   },
   {
    "duration": 11,
    "start_time": "2021-08-08T16:33:36.004Z"
   },
   {
    "duration": 13,
    "start_time": "2021-08-08T16:33:45.229Z"
   },
   {
    "duration": 9,
    "start_time": "2021-08-08T16:34:57.001Z"
   },
   {
    "duration": 9,
    "start_time": "2021-08-08T16:34:58.110Z"
   },
   {
    "duration": 9,
    "start_time": "2021-08-08T16:35:02.328Z"
   },
   {
    "duration": 12,
    "start_time": "2021-08-08T16:35:03.430Z"
   },
   {
    "duration": 12,
    "start_time": "2021-08-08T16:35:25.310Z"
   },
   {
    "duration": 9,
    "start_time": "2021-08-08T16:36:11.704Z"
   },
   {
    "duration": 9,
    "start_time": "2021-08-08T16:36:22.930Z"
   },
   {
    "duration": 10,
    "start_time": "2021-08-08T16:36:25.366Z"
   },
   {
    "duration": 17,
    "start_time": "2021-08-08T16:36:26.874Z"
   },
   {
    "duration": 13,
    "start_time": "2021-08-08T16:36:28.801Z"
   },
   {
    "duration": 11,
    "start_time": "2021-08-08T16:40:05.648Z"
   },
   {
    "duration": 11,
    "start_time": "2021-08-08T16:40:25.504Z"
   },
   {
    "duration": 15,
    "start_time": "2021-08-08T16:41:22.814Z"
   },
   {
    "duration": 14,
    "start_time": "2021-08-08T16:51:48.021Z"
   },
   {
    "duration": 21,
    "start_time": "2021-08-08T16:53:03.982Z"
   },
   {
    "duration": 14,
    "start_time": "2021-08-08T16:53:06.804Z"
   },
   {
    "duration": 4,
    "start_time": "2021-08-08T16:54:54.622Z"
   },
   {
    "duration": 3,
    "start_time": "2021-08-08T16:54:55.472Z"
   },
   {
    "duration": 438,
    "start_time": "2021-08-08T16:55:25.551Z"
   },
   {
    "duration": 8,
    "start_time": "2021-08-08T16:55:43.815Z"
   },
   {
    "duration": 10,
    "start_time": "2021-08-08T16:56:07.576Z"
   },
   {
    "duration": 9,
    "start_time": "2021-08-08T16:56:19.336Z"
   },
   {
    "duration": 19,
    "start_time": "2021-08-08T16:56:22.788Z"
   },
   {
    "duration": 15,
    "start_time": "2021-08-08T16:56:23.621Z"
   },
   {
    "duration": 6,
    "start_time": "2021-08-08T16:57:28.931Z"
   },
   {
    "duration": 6,
    "start_time": "2021-08-08T17:05:16.439Z"
   },
   {
    "duration": 17,
    "start_time": "2021-08-08T17:07:58.782Z"
   },
   {
    "duration": 7,
    "start_time": "2021-08-08T17:11:13.114Z"
   },
   {
    "duration": 8,
    "start_time": "2021-08-08T17:13:00.643Z"
   },
   {
    "duration": 14,
    "start_time": "2021-08-08T17:13:58.966Z"
   },
   {
    "duration": 4,
    "start_time": "2021-08-08T17:14:32.111Z"
   },
   {
    "duration": 12,
    "start_time": "2021-08-08T17:14:58.224Z"
   },
   {
    "duration": 14,
    "start_time": "2021-08-08T17:15:52.712Z"
   },
   {
    "duration": 19,
    "start_time": "2021-08-08T17:16:09.058Z"
   },
   {
    "duration": 13,
    "start_time": "2021-08-08T17:16:28.065Z"
   },
   {
    "duration": 20,
    "start_time": "2021-08-08T17:16:36.418Z"
   },
   {
    "duration": 12,
    "start_time": "2021-08-08T17:16:59.922Z"
   },
   {
    "duration": 15,
    "start_time": "2021-08-08T17:17:17.386Z"
   },
   {
    "duration": 13,
    "start_time": "2021-08-08T17:17:18.321Z"
   },
   {
    "duration": 11,
    "start_time": "2021-08-08T17:17:37.252Z"
   },
   {
    "duration": 15,
    "start_time": "2021-08-08T17:17:38.962Z"
   },
   {
    "duration": 4,
    "start_time": "2021-08-08T17:17:52.132Z"
   },
   {
    "duration": 4,
    "start_time": "2021-08-08T17:17:52.806Z"
   },
   {
    "duration": 84,
    "start_time": "2021-08-08T17:17:53.426Z"
   },
   {
    "duration": 49,
    "start_time": "2021-08-08T17:17:53.875Z"
   },
   {
    "duration": 17,
    "start_time": "2021-08-08T17:17:54.692Z"
   },
   {
    "duration": 11,
    "start_time": "2021-08-08T17:17:58.268Z"
   },
   {
    "duration": 17,
    "start_time": "2021-08-08T17:17:58.995Z"
   },
   {
    "duration": 13,
    "start_time": "2021-08-08T17:18:01.873Z"
   },
   {
    "duration": 7,
    "start_time": "2021-08-08T17:18:04.595Z"
   },
   {
    "duration": 10670,
    "start_time": "2021-08-08T17:18:06.277Z"
   },
   {
    "duration": 6,
    "start_time": "2021-08-08T17:18:20.204Z"
   },
   {
    "duration": 16,
    "start_time": "2021-08-08T17:18:22.396Z"
   },
   {
    "duration": 10560,
    "start_time": "2021-08-08T17:18:27.074Z"
   },
   {
    "duration": 5,
    "start_time": "2021-08-08T17:18:40.160Z"
   },
   {
    "duration": 14,
    "start_time": "2021-08-08T17:18:42.892Z"
   },
   {
    "duration": 7,
    "start_time": "2021-08-08T17:18:45.583Z"
   },
   {
    "duration": 11,
    "start_time": "2021-08-08T17:18:46.437Z"
   },
   {
    "duration": 400,
    "start_time": "2021-08-08T17:18:47.180Z"
   },
   {
    "duration": 14,
    "start_time": "2021-08-08T17:18:59.455Z"
   },
   {
    "duration": 3,
    "start_time": "2021-08-08T17:19:01.958Z"
   },
   {
    "duration": 13,
    "start_time": "2021-08-08T17:19:04.590Z"
   },
   {
    "duration": 10,
    "start_time": "2021-08-08T17:19:06.247Z"
   },
   {
    "duration": 12,
    "start_time": "2021-08-08T17:19:07.039Z"
   },
   {
    "duration": 20,
    "start_time": "2021-08-08T17:19:08.628Z"
   },
   {
    "duration": 26,
    "start_time": "2021-08-08T17:19:09.363Z"
   },
   {
    "duration": 6,
    "start_time": "2021-08-08T17:19:10.326Z"
   },
   {
    "duration": 14,
    "start_time": "2021-08-08T17:19:11.843Z"
   },
   {
    "duration": 6,
    "start_time": "2021-08-08T17:19:16.904Z"
   },
   {
    "duration": 8,
    "start_time": "2021-08-08T17:19:18.870Z"
   },
   {
    "duration": 3,
    "start_time": "2021-08-08T17:19:20.031Z"
   },
   {
    "duration": 15,
    "start_time": "2021-08-08T17:19:30.598Z"
   },
   {
    "duration": 15,
    "start_time": "2021-08-08T17:19:42.422Z"
   },
   {
    "duration": 12,
    "start_time": "2021-08-08T17:19:43.814Z"
   },
   {
    "duration": 17,
    "start_time": "2021-08-08T17:20:30.811Z"
   },
   {
    "duration": 711,
    "start_time": "2021-08-08T17:20:47.322Z"
   },
   {
    "duration": 7,
    "start_time": "2021-08-08T17:21:39.818Z"
   },
   {
    "duration": 8,
    "start_time": "2021-08-08T17:22:02.235Z"
   },
   {
    "duration": 8,
    "start_time": "2021-08-08T17:22:14.282Z"
   },
   {
    "duration": 7,
    "start_time": "2021-08-08T17:22:30.268Z"
   },
   {
    "duration": 21,
    "start_time": "2021-08-08T17:22:38.475Z"
   },
   {
    "duration": 37,
    "start_time": "2021-08-08T17:22:41.097Z"
   },
   {
    "duration": 24,
    "start_time": "2021-08-08T17:22:52.978Z"
   },
   {
    "duration": 6,
    "start_time": "2021-08-08T17:22:59.051Z"
   },
   {
    "duration": 28,
    "start_time": "2021-08-08T17:23:00.430Z"
   },
   {
    "duration": 12,
    "start_time": "2021-08-08T17:23:24.707Z"
   },
   {
    "duration": 16,
    "start_time": "2021-08-08T17:25:14.476Z"
   },
   {
    "duration": 27,
    "start_time": "2021-08-08T17:38:47.285Z"
   },
   {
    "duration": 8,
    "start_time": "2021-08-08T17:42:37.028Z"
   },
   {
    "duration": 11,
    "start_time": "2021-08-08T17:43:35.975Z"
   },
   {
    "duration": 14,
    "start_time": "2021-08-08T17:43:48.934Z"
   },
   {
    "duration": 11,
    "start_time": "2021-08-08T17:44:45.058Z"
   },
   {
    "duration": 349,
    "start_time": "2021-08-08T17:45:01.490Z"
   },
   {
    "duration": 8022,
    "start_time": "2021-08-08T17:46:55.306Z"
   },
   {
    "duration": 7,
    "start_time": "2021-08-08T17:47:16.588Z"
   },
   {
    "duration": 8,
    "start_time": "2021-08-08T17:47:19.022Z"
   },
   {
    "duration": 8,
    "start_time": "2021-08-08T17:47:19.704Z"
   },
   {
    "duration": 8,
    "start_time": "2021-08-08T17:47:20.358Z"
   },
   {
    "duration": 6,
    "start_time": "2021-08-08T17:47:21.690Z"
   },
   {
    "duration": 981,
    "start_time": "2021-08-08T17:47:22.368Z"
   },
   {
    "duration": 3,
    "start_time": "2021-08-08T17:47:23.352Z"
   },
   {
    "duration": 8,
    "start_time": "2021-08-08T17:47:25.179Z"
   },
   {
    "duration": 6,
    "start_time": "2021-08-08T17:47:26.643Z"
   },
   {
    "duration": 6,
    "start_time": "2021-08-08T17:47:31.978Z"
   },
   {
    "duration": 280,
    "start_time": "2021-08-08T17:48:17.500Z"
   },
   {
    "duration": 15,
    "start_time": "2021-08-08T17:48:24.013Z"
   },
   {
    "duration": 12,
    "start_time": "2021-08-08T17:48:26.028Z"
   },
   {
    "duration": 362,
    "start_time": "2021-08-08T17:48:29.957Z"
   },
   {
    "duration": 15,
    "start_time": "2021-08-08T17:52:06.877Z"
   },
   {
    "duration": 275,
    "start_time": "2021-08-08T17:52:14.282Z"
   },
   {
    "duration": 316,
    "start_time": "2021-08-08T17:52:39.191Z"
   },
   {
    "duration": 303,
    "start_time": "2021-08-08T17:53:08.464Z"
   },
   {
    "duration": 319,
    "start_time": "2021-08-08T17:53:32.789Z"
   },
   {
    "duration": 313,
    "start_time": "2021-08-08T17:53:41.768Z"
   },
   {
    "duration": 61,
    "start_time": "2021-08-08T17:56:51.949Z"
   },
   {
    "duration": 35,
    "start_time": "2021-08-08T17:57:25.199Z"
   },
   {
    "duration": 64,
    "start_time": "2021-08-08T17:58:12.029Z"
   },
   {
    "duration": 298,
    "start_time": "2021-08-08T17:58:31.240Z"
   },
   {
    "duration": 39,
    "start_time": "2021-08-08T17:58:40.519Z"
   },
   {
    "duration": 98,
    "start_time": "2021-08-08T18:00:10.388Z"
   },
   {
    "duration": 14,
    "start_time": "2021-08-08T18:04:07.543Z"
   },
   {
    "duration": 25,
    "start_time": "2021-08-08T18:04:27.337Z"
   },
   {
    "duration": 357,
    "start_time": "2021-08-08T18:04:39.191Z"
   },
   {
    "duration": 10,
    "start_time": "2021-08-08T18:06:05.129Z"
   },
   {
    "duration": 105,
    "start_time": "2021-08-08T18:06:54.394Z"
   },
   {
    "duration": 10,
    "start_time": "2021-08-08T18:07:26.215Z"
   },
   {
    "duration": 318,
    "start_time": "2021-08-08T18:07:37.103Z"
   },
   {
    "duration": 302,
    "start_time": "2021-08-08T18:07:58.617Z"
   },
   {
    "duration": 6,
    "start_time": "2021-08-08T18:08:52.998Z"
   },
   {
    "duration": 646,
    "start_time": "2021-08-08T18:08:57.695Z"
   },
   {
    "duration": 5,
    "start_time": "2021-08-08T18:09:08.014Z"
   },
   {
    "duration": 336,
    "start_time": "2021-08-08T18:09:12.479Z"
   },
   {
    "duration": 8,
    "start_time": "2021-08-08T18:09:36.757Z"
   },
   {
    "duration": 10,
    "start_time": "2021-08-08T18:09:39.032Z"
   },
   {
    "duration": 328,
    "start_time": "2021-08-08T18:09:44.962Z"
   },
   {
    "duration": 5,
    "start_time": "2021-08-08T18:10:00.015Z"
   },
   {
    "duration": 5,
    "start_time": "2021-08-08T18:11:06.539Z"
   },
   {
    "duration": 6,
    "start_time": "2021-08-08T18:11:37.561Z"
   },
   {
    "duration": 133,
    "start_time": "2021-08-08T18:11:53.629Z"
   },
   {
    "duration": 323,
    "start_time": "2021-08-08T18:12:57.546Z"
   },
   {
    "duration": 312,
    "start_time": "2021-08-08T18:14:02.174Z"
   },
   {
    "duration": 47,
    "start_time": "2021-08-08T18:17:10.651Z"
   },
   {
    "duration": 60,
    "start_time": "2021-08-08T18:17:21.567Z"
   },
   {
    "duration": 105,
    "start_time": "2021-08-08T18:19:13.701Z"
   },
   {
    "duration": 139,
    "start_time": "2021-08-08T18:20:33.881Z"
   },
   {
    "duration": 53,
    "start_time": "2021-08-08T18:21:23.415Z"
   },
   {
    "duration": 53,
    "start_time": "2021-08-08T18:22:09.114Z"
   },
   {
    "duration": 60,
    "start_time": "2021-08-08T18:22:27.044Z"
   },
   {
    "duration": 36,
    "start_time": "2021-08-08T18:23:30.794Z"
   },
   {
    "duration": 57,
    "start_time": "2021-08-08T18:30:43.682Z"
   },
   {
    "duration": 8,
    "start_time": "2021-08-08T18:35:36.138Z"
   },
   {
    "duration": 7,
    "start_time": "2021-08-08T18:36:02.457Z"
   },
   {
    "duration": 11,
    "start_time": "2021-08-08T18:37:57.916Z"
   },
   {
    "duration": 22,
    "start_time": "2021-08-08T18:39:39.305Z"
   },
   {
    "duration": 3,
    "start_time": "2021-08-08T18:40:03.899Z"
   },
   {
    "duration": 5,
    "start_time": "2021-08-08T18:40:03.912Z"
   },
   {
    "duration": 102,
    "start_time": "2021-08-08T18:40:03.920Z"
   },
   {
    "duration": 41,
    "start_time": "2021-08-08T18:40:04.025Z"
   },
   {
    "duration": 32,
    "start_time": "2021-08-08T18:40:04.069Z"
   },
   {
    "duration": 16,
    "start_time": "2021-08-08T18:40:04.105Z"
   },
   {
    "duration": 18,
    "start_time": "2021-08-08T18:40:04.123Z"
   },
   {
    "duration": 60,
    "start_time": "2021-08-08T18:40:04.144Z"
   },
   {
    "duration": 5,
    "start_time": "2021-08-08T18:40:04.208Z"
   },
   {
    "duration": 9197,
    "start_time": "2021-08-08T18:40:04.216Z"
   },
   {
    "duration": 5,
    "start_time": "2021-08-08T18:40:13.416Z"
   },
   {
    "duration": 15,
    "start_time": "2021-08-08T18:40:13.423Z"
   },
   {
    "duration": 8195,
    "start_time": "2021-08-08T18:40:13.441Z"
   },
   {
    "duration": 5,
    "start_time": "2021-08-08T18:40:21.639Z"
   },
   {
    "duration": 14,
    "start_time": "2021-08-08T18:40:21.646Z"
   },
   {
    "duration": 26,
    "start_time": "2021-08-08T18:40:21.662Z"
   },
   {
    "duration": 16,
    "start_time": "2021-08-08T18:40:21.691Z"
   },
   {
    "duration": 324,
    "start_time": "2021-08-08T18:40:21.709Z"
   },
   {
    "duration": 3,
    "start_time": "2021-08-08T18:40:22.035Z"
   },
   {
    "duration": 16,
    "start_time": "2021-08-08T18:40:22.040Z"
   },
   {
    "duration": 8,
    "start_time": "2021-08-08T18:40:22.059Z"
   },
   {
    "duration": 12,
    "start_time": "2021-08-08T18:40:22.088Z"
   },
   {
    "duration": 14,
    "start_time": "2021-08-08T18:40:22.103Z"
   },
   {
    "duration": 14,
    "start_time": "2021-08-08T18:40:22.122Z"
   },
   {
    "duration": 5,
    "start_time": "2021-08-08T18:40:22.139Z"
   },
   {
    "duration": 52,
    "start_time": "2021-08-08T18:40:22.146Z"
   },
   {
    "duration": 6,
    "start_time": "2021-08-08T18:40:22.201Z"
   },
   {
    "duration": 7,
    "start_time": "2021-08-08T18:40:22.210Z"
   },
   {
    "duration": 4,
    "start_time": "2021-08-08T18:40:22.220Z"
   },
   {
    "duration": 61,
    "start_time": "2021-08-08T18:40:22.227Z"
   },
   {
    "duration": 13,
    "start_time": "2021-08-08T18:40:22.292Z"
   },
   {
    "duration": 12,
    "start_time": "2021-08-08T18:40:22.307Z"
   },
   {
    "duration": 15,
    "start_time": "2021-08-08T18:40:22.321Z"
   },
   {
    "duration": 64,
    "start_time": "2021-08-08T18:40:22.338Z"
   },
   {
    "duration": 17,
    "start_time": "2021-08-08T18:40:22.404Z"
   },
   {
    "duration": 6,
    "start_time": "2021-08-08T18:40:22.424Z"
   },
   {
    "duration": 68,
    "start_time": "2021-08-08T18:40:22.433Z"
   },
   {
    "duration": 11,
    "start_time": "2021-08-08T18:40:22.503Z"
   },
   {
    "duration": 32,
    "start_time": "2021-08-08T18:40:22.516Z"
   },
   {
    "duration": 6,
    "start_time": "2021-08-08T18:40:22.550Z"
   },
   {
    "duration": 11,
    "start_time": "2021-08-08T18:40:22.586Z"
   },
   {
    "duration": 8,
    "start_time": "2021-08-08T18:40:22.600Z"
   },
   {
    "duration": 8,
    "start_time": "2021-08-08T18:40:22.610Z"
   },
   {
    "duration": 4,
    "start_time": "2021-08-08T18:40:22.621Z"
   },
   {
    "duration": 1035,
    "start_time": "2021-08-08T18:40:22.627Z"
   },
   {
    "duration": 3,
    "start_time": "2021-08-08T18:40:23.665Z"
   },
   {
    "duration": 17,
    "start_time": "2021-08-08T18:40:23.670Z"
   },
   {
    "duration": 8,
    "start_time": "2021-08-08T18:40:23.690Z"
   },
   {
    "duration": 6,
    "start_time": "2021-08-08T18:40:23.701Z"
   },
   {
    "duration": 325,
    "start_time": "2021-08-08T18:40:23.710Z"
   },
   {
    "duration": 13,
    "start_time": "2021-08-08T18:40:24.038Z"
   },
   {
    "duration": 11,
    "start_time": "2021-08-08T18:40:24.053Z"
   },
   {
    "duration": 338,
    "start_time": "2021-08-08T18:40:24.066Z"
   },
   {
    "duration": 56,
    "start_time": "2021-08-08T18:40:24.407Z"
   },
   {
    "duration": 31,
    "start_time": "2021-08-08T18:40:24.465Z"
   },
   {
    "duration": 337,
    "start_time": "2021-08-08T18:40:24.499Z"
   },
   {
    "duration": 12,
    "start_time": "2021-08-08T18:40:24.839Z"
   },
   {
    "duration": 8,
    "start_time": "2021-08-08T18:40:24.853Z"
   },
   {
    "duration": 350,
    "start_time": "2021-08-08T18:40:24.863Z"
   },
   {
    "duration": 309,
    "start_time": "2021-08-08T18:40:25.215Z"
   },
   {
    "duration": 49,
    "start_time": "2021-08-08T18:40:25.527Z"
   },
   {
    "duration": 65,
    "start_time": "2021-08-08T18:41:27.458Z"
   },
   {
    "duration": 10,
    "start_time": "2021-08-08T18:45:36.352Z"
   },
   {
    "duration": 10,
    "start_time": "2021-08-08T18:45:46.258Z"
   },
   {
    "duration": 9,
    "start_time": "2021-08-08T18:46:12.211Z"
   },
   {
    "duration": 35,
    "start_time": "2021-08-08T18:50:26.407Z"
   },
   {
    "duration": 306,
    "start_time": "2021-08-08T18:52:59.780Z"
   },
   {
    "duration": 276,
    "start_time": "2021-08-08T18:57:29.454Z"
   },
   {
    "duration": 16,
    "start_time": "2021-08-08T18:59:03.550Z"
   },
   {
    "duration": 305,
    "start_time": "2021-08-08T18:59:21.934Z"
   },
   {
    "duration": 14,
    "start_time": "2021-08-08T19:00:00.691Z"
   },
   {
    "duration": 376,
    "start_time": "2021-08-08T19:00:01.839Z"
   },
   {
    "duration": 3,
    "start_time": "2021-08-08T19:02:14.731Z"
   },
   {
    "duration": 4,
    "start_time": "2021-08-08T19:02:15.451Z"
   },
   {
    "duration": 3,
    "start_time": "2021-08-08T19:02:16.213Z"
   },
   {
    "duration": 87,
    "start_time": "2021-08-08T19:02:16.937Z"
   },
   {
    "duration": 42,
    "start_time": "2021-08-08T19:02:18.164Z"
   },
   {
    "duration": 15,
    "start_time": "2021-08-08T19:02:22.028Z"
   },
   {
    "duration": 12,
    "start_time": "2021-08-08T19:02:27.236Z"
   },
   {
    "duration": 17,
    "start_time": "2021-08-08T19:02:28.029Z"
   },
   {
    "duration": 16,
    "start_time": "2021-08-08T19:02:46.588Z"
   },
   {
    "duration": 16,
    "start_time": "2021-08-08T19:02:47.859Z"
   },
   {
    "duration": 11,
    "start_time": "2021-08-08T19:02:57.177Z"
   },
   {
    "duration": 6,
    "start_time": "2021-08-08T19:02:59.789Z"
   },
   {
    "duration": 8643,
    "start_time": "2021-08-08T19:03:01.434Z"
   },
   {
    "duration": 5,
    "start_time": "2021-08-08T19:03:36.906Z"
   },
   {
    "duration": 13,
    "start_time": "2021-08-08T19:03:39.804Z"
   },
   {
    "duration": 8223,
    "start_time": "2021-08-08T19:03:44.165Z"
   },
   {
    "duration": 7,
    "start_time": "2021-08-08T19:03:54.787Z"
   },
   {
    "duration": 17,
    "start_time": "2021-08-08T19:03:56.476Z"
   },
   {
    "duration": 7,
    "start_time": "2021-08-08T19:03:58.788Z"
   },
   {
    "duration": 14,
    "start_time": "2021-08-08T19:03:59.886Z"
   },
   {
    "duration": 301,
    "start_time": "2021-08-08T19:04:00.932Z"
   },
   {
    "duration": 12,
    "start_time": "2021-08-08T19:04:05.554Z"
   },
   {
    "duration": 9,
    "start_time": "2021-08-08T19:04:07.094Z"
   },
   {
    "duration": 11,
    "start_time": "2021-08-08T19:04:07.892Z"
   },
   {
    "duration": 18,
    "start_time": "2021-08-08T19:04:09.349Z"
   },
   {
    "duration": 15,
    "start_time": "2021-08-08T19:04:10.148Z"
   },
   {
    "duration": 6,
    "start_time": "2021-08-08T19:04:12.207Z"
   },
   {
    "duration": 12,
    "start_time": "2021-08-08T19:04:12.652Z"
   },
   {
    "duration": 6,
    "start_time": "2021-08-08T19:04:17.606Z"
   },
   {
    "duration": 9,
    "start_time": "2021-08-08T19:04:18.587Z"
   },
   {
    "duration": 4,
    "start_time": "2021-08-08T19:04:19.478Z"
   },
   {
    "duration": 11,
    "start_time": "2021-08-08T19:04:21.006Z"
   },
   {
    "duration": 12,
    "start_time": "2021-08-08T19:04:22.845Z"
   },
   {
    "duration": 11,
    "start_time": "2021-08-08T19:04:23.564Z"
   },
   {
    "duration": 16,
    "start_time": "2021-08-08T19:04:27.612Z"
   },
   {
    "duration": 30,
    "start_time": "2021-08-08T19:04:29.280Z"
   },
   {
    "duration": 18,
    "start_time": "2021-08-08T19:04:30.855Z"
   },
   {
    "duration": 5,
    "start_time": "2021-08-08T19:04:36.141Z"
   },
   {
    "duration": 22,
    "start_time": "2021-08-08T19:04:37.108Z"
   },
   {
    "duration": 12,
    "start_time": "2021-08-08T19:04:38.922Z"
   },
   {
    "duration": 33,
    "start_time": "2021-08-08T19:04:40.953Z"
   },
   {
    "duration": 6,
    "start_time": "2021-08-08T19:04:45.392Z"
   },
   {
    "duration": 8,
    "start_time": "2021-08-08T19:04:47.604Z"
   },
   {
    "duration": 14,
    "start_time": "2021-08-08T19:04:48.277Z"
   },
   {
    "duration": 9,
    "start_time": "2021-08-08T19:04:48.989Z"
   },
   {
    "duration": 5,
    "start_time": "2021-08-08T19:04:50.396Z"
   },
   {
    "duration": 956,
    "start_time": "2021-08-08T19:04:51.260Z"
   },
   {
    "duration": 3,
    "start_time": "2021-08-08T19:04:52.219Z"
   },
   {
    "duration": 6,
    "start_time": "2021-08-08T19:04:54.549Z"
   },
   {
    "duration": 7,
    "start_time": "2021-08-08T19:04:56.296Z"
   },
   {
    "duration": 5,
    "start_time": "2021-08-08T19:05:01.104Z"
   },
   {
    "duration": 304,
    "start_time": "2021-08-08T19:05:05.472Z"
   },
   {
    "duration": 13,
    "start_time": "2021-08-08T19:05:11.632Z"
   },
   {
    "duration": 11,
    "start_time": "2021-08-08T19:05:13.358Z"
   },
   {
    "duration": 322,
    "start_time": "2021-08-08T19:05:17.474Z"
   },
   {
    "duration": 51,
    "start_time": "2021-08-08T19:05:35.696Z"
   },
   {
    "duration": 14,
    "start_time": "2021-08-08T19:05:38.272Z"
   },
   {
    "duration": 327,
    "start_time": "2021-08-08T19:05:39.174Z"
   },
   {
    "duration": 10,
    "start_time": "2021-08-08T19:05:40.842Z"
   },
   {
    "duration": 6,
    "start_time": "2021-08-08T19:05:44.809Z"
   },
   {
    "duration": 324,
    "start_time": "2021-08-08T19:05:45.628Z"
   },
   {
    "duration": 314,
    "start_time": "2021-08-08T19:05:48.081Z"
   },
   {
    "duration": 49,
    "start_time": "2021-08-08T19:05:50.009Z"
   },
   {
    "duration": 56,
    "start_time": "2021-08-08T19:05:51.940Z"
   },
   {
    "duration": 8,
    "start_time": "2021-08-08T19:05:53.695Z"
   },
   {
    "duration": 8,
    "start_time": "2021-08-08T19:05:54.551Z"
   },
   {
    "duration": 30,
    "start_time": "2021-08-08T19:05:56.508Z"
   },
   {
    "duration": 298,
    "start_time": "2021-08-08T19:06:00.951Z"
   },
   {
    "duration": 14,
    "start_time": "2021-08-08T19:06:12.160Z"
   },
   {
    "duration": 410,
    "start_time": "2021-08-08T19:06:16.376Z"
   },
   {
    "duration": 10,
    "start_time": "2021-08-08T19:06:48.017Z"
   },
   {
    "duration": 10,
    "start_time": "2021-08-08T19:10:52.938Z"
   },
   {
    "duration": 12,
    "start_time": "2021-08-08T19:10:55.890Z"
   },
   {
    "duration": 12,
    "start_time": "2021-08-08T19:10:58.784Z"
   },
   {
    "duration": 10,
    "start_time": "2021-08-08T19:15:09.198Z"
   },
   {
    "duration": 10,
    "start_time": "2021-08-08T19:15:11.445Z"
   },
   {
    "duration": 9,
    "start_time": "2021-08-08T19:15:13.904Z"
   },
   {
    "duration": 7,
    "start_time": "2021-08-08T19:16:44.907Z"
   },
   {
    "duration": 1232,
    "start_time": "2021-08-08T19:16:50.589Z"
   },
   {
    "duration": 5,
    "start_time": "2021-08-08T19:17:34.395Z"
   },
   {
    "duration": 866,
    "start_time": "2021-08-08T19:17:35.915Z"
   },
   {
    "duration": 6,
    "start_time": "2021-08-08T19:24:55.310Z"
   },
   {
    "duration": 734,
    "start_time": "2021-08-08T19:24:56.318Z"
   },
   {
    "duration": 5,
    "start_time": "2021-08-08T19:28:23.353Z"
   },
   {
    "duration": 441,
    "start_time": "2021-08-08T19:30:31.009Z"
   },
   {
    "duration": 29,
    "start_time": "2021-08-08T19:30:46.283Z"
   },
   {
    "duration": 685,
    "start_time": "2021-08-08T19:38:29.205Z"
   },
   {
    "duration": 8,
    "start_time": "2021-08-08T19:39:20.567Z"
   },
   {
    "duration": 26,
    "start_time": "2021-08-08T19:39:21.621Z"
   },
   {
    "duration": 697,
    "start_time": "2021-08-08T19:39:25.629Z"
   },
   {
    "duration": 809,
    "start_time": "2021-08-08T19:39:35.237Z"
   },
   {
    "duration": 660,
    "start_time": "2021-08-08T19:39:55.586Z"
   },
   {
    "duration": 614,
    "start_time": "2021-08-08T19:40:03.359Z"
   },
   {
    "duration": 609,
    "start_time": "2021-08-08T19:40:05.392Z"
   },
   {
    "duration": 7,
    "start_time": "2021-08-08T19:40:25.381Z"
   },
   {
    "duration": 27,
    "start_time": "2021-08-08T19:40:26.942Z"
   },
   {
    "duration": 32,
    "start_time": "2021-08-08T19:40:40.169Z"
   },
   {
    "duration": 26,
    "start_time": "2021-08-08T19:40:50.202Z"
   },
   {
    "duration": 25,
    "start_time": "2021-08-08T19:41:38.644Z"
   },
   {
    "duration": 28,
    "start_time": "2021-08-08T19:41:45.961Z"
   },
   {
    "duration": 31,
    "start_time": "2021-08-08T19:41:52.172Z"
   },
   {
    "duration": 31,
    "start_time": "2021-08-08T19:41:56.323Z"
   },
   {
    "duration": 33,
    "start_time": "2021-08-08T19:42:06.288Z"
   },
   {
    "duration": 9,
    "start_time": "2021-08-08T19:42:09.218Z"
   },
   {
    "duration": 10,
    "start_time": "2021-08-08T19:42:38.092Z"
   },
   {
    "duration": 5,
    "start_time": "2021-08-08T19:42:39.178Z"
   },
   {
    "duration": 11,
    "start_time": "2021-08-08T19:42:50.836Z"
   },
   {
    "duration": 3,
    "start_time": "2021-08-08T19:42:51.723Z"
   },
   {
    "duration": 12,
    "start_time": "2021-08-08T19:42:52.755Z"
   },
   {
    "duration": 13,
    "start_time": "2021-08-08T19:44:01.889Z"
   },
   {
    "duration": 7,
    "start_time": "2021-08-08T19:44:02.708Z"
   },
   {
    "duration": 11,
    "start_time": "2021-08-08T19:44:05.587Z"
   },
   {
    "duration": 4,
    "start_time": "2021-08-08T19:44:06.955Z"
   },
   {
    "duration": 12,
    "start_time": "2021-08-08T19:44:08.646Z"
   },
   {
    "duration": 11,
    "start_time": "2021-08-08T19:44:39.846Z"
   },
   {
    "duration": 6,
    "start_time": "2021-08-08T19:44:40.647Z"
   },
   {
    "duration": 12,
    "start_time": "2021-08-08T19:44:41.789Z"
   },
   {
    "duration": 3,
    "start_time": "2021-08-08T19:44:42.839Z"
   },
   {
    "duration": 10,
    "start_time": "2021-08-08T19:44:58.620Z"
   },
   {
    "duration": 13,
    "start_time": "2021-08-08T19:45:09.359Z"
   },
   {
    "duration": 402,
    "start_time": "2021-08-08T19:45:11.742Z"
   },
   {
    "duration": 11,
    "start_time": "2021-08-08T19:47:28.691Z"
   },
   {
    "duration": 297,
    "start_time": "2021-08-08T19:47:33.236Z"
   },
   {
    "duration": 365,
    "start_time": "2021-08-08T19:47:49.406Z"
   },
   {
    "duration": 257,
    "start_time": "2021-08-08T19:48:14.458Z"
   },
   {
    "duration": 312,
    "start_time": "2021-08-08T19:48:32.822Z"
   },
   {
    "duration": 13,
    "start_time": "2021-08-08T19:49:42.239Z"
   },
   {
    "duration": 2033,
    "start_time": "2021-08-08T19:50:39.704Z"
   },
   {
    "duration": 6,
    "start_time": "2021-08-08T19:51:14.931Z"
   },
   {
    "duration": 2011,
    "start_time": "2021-08-08T19:51:22.940Z"
   },
   {
    "duration": 31,
    "start_time": "2021-08-08T19:52:48.788Z"
   },
   {
    "duration": 340,
    "start_time": "2021-08-08T19:53:40.788Z"
   },
   {
    "duration": 312,
    "start_time": "2021-08-08T19:54:00.024Z"
   },
   {
    "duration": 290,
    "start_time": "2021-08-08T19:54:22.729Z"
   },
   {
    "duration": 291,
    "start_time": "2021-08-08T19:54:37.748Z"
   },
   {
    "duration": 430,
    "start_time": "2021-08-08T19:54:54.112Z"
   },
   {
    "duration": 434,
    "start_time": "2021-08-08T19:55:04.161Z"
   },
   {
    "duration": 10,
    "start_time": "2021-08-08T19:55:41.586Z"
   },
   {
    "duration": 675,
    "start_time": "2021-08-08T19:55:44.575Z"
   },
   {
    "duration": 26,
    "start_time": "2021-08-08T19:56:04.598Z"
   },
   {
    "duration": 433,
    "start_time": "2021-08-08T19:56:12.930Z"
   },
   {
    "duration": 35,
    "start_time": "2021-08-08T19:56:34.663Z"
   },
   {
    "duration": 25,
    "start_time": "2021-08-08T19:56:56.042Z"
   },
   {
    "duration": 26,
    "start_time": "2021-08-08T19:57:11.330Z"
   },
   {
    "duration": 36,
    "start_time": "2021-08-08T19:57:18.780Z"
   },
   {
    "duration": 837,
    "start_time": "2021-08-09T06:38:38.872Z"
   },
   {
    "duration": 122,
    "start_time": "2021-08-09T06:38:39.712Z"
   },
   {
    "duration": 3,
    "start_time": "2021-08-09T06:38:39.837Z"
   },
   {
    "duration": 163,
    "start_time": "2021-08-09T06:38:39.843Z"
   },
   {
    "duration": 54,
    "start_time": "2021-08-09T06:38:40.008Z"
   },
   {
    "duration": 17,
    "start_time": "2021-08-09T06:38:40.064Z"
   },
   {
    "duration": 11,
    "start_time": "2021-08-09T06:38:40.084Z"
   },
   {
    "duration": 16,
    "start_time": "2021-08-09T06:38:40.098Z"
   },
   {
    "duration": 49,
    "start_time": "2021-08-09T06:38:40.117Z"
   },
   {
    "duration": 5,
    "start_time": "2021-08-09T06:38:40.168Z"
   },
   {
    "duration": 8433,
    "start_time": "2021-08-09T06:38:40.176Z"
   },
   {
    "duration": 5,
    "start_time": "2021-08-09T06:38:48.611Z"
   },
   {
    "duration": 44,
    "start_time": "2021-08-09T06:38:48.618Z"
   },
   {
    "duration": 3,
    "start_time": "2021-08-09T06:38:48.664Z"
   },
   {
    "duration": 11,
    "start_time": "2021-08-09T06:38:48.670Z"
   },
   {
    "duration": 8033,
    "start_time": "2021-08-09T06:38:48.683Z"
   },
   {
    "duration": 5,
    "start_time": "2021-08-09T06:38:56.718Z"
   },
   {
    "duration": 16,
    "start_time": "2021-08-09T06:38:56.725Z"
   },
   {
    "duration": 6,
    "start_time": "2021-08-09T06:38:56.762Z"
   },
   {
    "duration": 18,
    "start_time": "2021-08-09T06:38:56.770Z"
   },
   {
    "duration": 336,
    "start_time": "2021-08-09T06:38:56.791Z"
   },
   {
    "duration": 11,
    "start_time": "2021-08-09T06:38:57.129Z"
   },
   {
    "duration": 8,
    "start_time": "2021-08-09T06:38:57.163Z"
   },
   {
    "duration": 10,
    "start_time": "2021-08-09T06:38:57.175Z"
   },
   {
    "duration": 14,
    "start_time": "2021-08-09T06:38:57.187Z"
   },
   {
    "duration": 15,
    "start_time": "2021-08-09T06:38:57.203Z"
   },
   {
    "duration": 45,
    "start_time": "2021-08-09T06:38:57.220Z"
   },
   {
    "duration": 13,
    "start_time": "2021-08-09T06:38:57.268Z"
   },
   {
    "duration": 7,
    "start_time": "2021-08-09T06:38:57.283Z"
   },
   {
    "duration": 15,
    "start_time": "2021-08-09T06:38:57.292Z"
   },
   {
    "duration": 5,
    "start_time": "2021-08-09T06:38:57.309Z"
   },
   {
    "duration": 53,
    "start_time": "2021-08-09T06:38:57.316Z"
   },
   {
    "duration": 13,
    "start_time": "2021-08-09T06:38:57.372Z"
   },
   {
    "duration": 12,
    "start_time": "2021-08-09T06:38:57.387Z"
   },
   {
    "duration": 16,
    "start_time": "2021-08-09T06:38:57.403Z"
   },
   {
    "duration": 62,
    "start_time": "2021-08-09T06:38:57.422Z"
   },
   {
    "duration": 15,
    "start_time": "2021-08-09T06:38:57.486Z"
   },
   {
    "duration": 5,
    "start_time": "2021-08-09T06:38:57.503Z"
   },
   {
    "duration": 64,
    "start_time": "2021-08-09T06:38:57.511Z"
   },
   {
    "duration": 11,
    "start_time": "2021-08-09T06:38:57.578Z"
   },
   {
    "duration": 36,
    "start_time": "2021-08-09T06:38:57.591Z"
   },
   {
    "duration": 36,
    "start_time": "2021-08-09T06:38:57.629Z"
   },
   {
    "duration": 12,
    "start_time": "2021-08-09T06:38:57.667Z"
   },
   {
    "duration": 8,
    "start_time": "2021-08-09T06:38:57.681Z"
   },
   {
    "duration": 8,
    "start_time": "2021-08-09T06:38:57.691Z"
   },
   {
    "duration": 4,
    "start_time": "2021-08-09T06:38:57.701Z"
   },
   {
    "duration": 1039,
    "start_time": "2021-08-09T06:38:57.708Z"
   },
   {
    "duration": 3,
    "start_time": "2021-08-09T06:38:58.749Z"
   },
   {
    "duration": 6,
    "start_time": "2021-08-09T06:38:58.762Z"
   },
   {
    "duration": 9,
    "start_time": "2021-08-09T06:38:58.770Z"
   },
   {
    "duration": 5,
    "start_time": "2021-08-09T06:38:58.781Z"
   },
   {
    "duration": 325,
    "start_time": "2021-08-09T06:38:58.789Z"
   },
   {
    "duration": 14,
    "start_time": "2021-08-09T06:38:59.117Z"
   },
   {
    "duration": 33,
    "start_time": "2021-08-09T06:38:59.134Z"
   },
   {
    "duration": 332,
    "start_time": "2021-08-09T06:38:59.170Z"
   },
   {
    "duration": 72,
    "start_time": "2021-08-09T06:38:59.504Z"
   },
   {
    "duration": 11,
    "start_time": "2021-08-09T06:38:59.578Z"
   },
   {
    "duration": 350,
    "start_time": "2021-08-09T06:38:59.592Z"
   },
   {
    "duration": 18,
    "start_time": "2021-08-09T06:38:59.945Z"
   },
   {
    "duration": 5,
    "start_time": "2021-08-09T06:38:59.966Z"
   },
   {
    "duration": 351,
    "start_time": "2021-08-09T06:38:59.974Z"
   },
   {
    "duration": 343,
    "start_time": "2021-08-09T06:39:00.327Z"
   },
   {
    "duration": 49,
    "start_time": "2021-08-09T06:39:00.673Z"
   },
   {
    "duration": 79,
    "start_time": "2021-08-09T06:39:00.725Z"
   },
   {
    "duration": 8,
    "start_time": "2021-08-09T06:39:00.806Z"
   },
   {
    "duration": 16,
    "start_time": "2021-08-09T06:39:00.816Z"
   },
   {
    "duration": 73,
    "start_time": "2021-08-09T06:39:00.835Z"
   },
   {
    "duration": 320,
    "start_time": "2021-08-09T06:39:00.922Z"
   },
   {
    "duration": 20,
    "start_time": "2021-08-09T06:39:01.245Z"
   },
   {
    "duration": 365,
    "start_time": "2021-08-09T06:39:01.268Z"
   },
   {
    "duration": 10,
    "start_time": "2021-08-09T06:39:01.635Z"
   },
   {
    "duration": 24,
    "start_time": "2021-08-09T06:39:01.662Z"
   },
   {
    "duration": 25,
    "start_time": "2021-08-09T06:39:01.688Z"
   },
   {
    "duration": 35,
    "start_time": "2021-08-09T06:39:01.716Z"
   },
   {
    "duration": 35,
    "start_time": "2021-08-09T06:39:01.754Z"
   },
   {
    "duration": 705,
    "start_time": "2021-08-09T06:39:01.791Z"
   },
   {
    "duration": 5,
    "start_time": "2021-08-09T06:39:02.499Z"
   },
   {
    "duration": 57,
    "start_time": "2021-08-09T06:39:02.507Z"
   },
   {
    "duration": 698,
    "start_time": "2021-08-09T06:39:02.567Z"
   },
   {
    "duration": 717,
    "start_time": "2021-08-09T06:39:03.268Z"
   },
   {
    "duration": 753,
    "start_time": "2021-08-09T06:39:03.987Z"
   },
   {
    "duration": 664,
    "start_time": "2021-08-09T06:39:04.742Z"
   },
   {
    "duration": 648,
    "start_time": "2021-08-09T06:39:05.408Z"
   },
   {
    "duration": 5,
    "start_time": "2021-08-09T06:39:06.062Z"
   },
   {
    "duration": 37,
    "start_time": "2021-08-09T06:39:06.069Z"
   },
   {
    "duration": 26,
    "start_time": "2021-08-09T06:39:06.108Z"
   },
   {
    "duration": 49,
    "start_time": "2021-08-09T06:39:06.136Z"
   },
   {
    "duration": 29,
    "start_time": "2021-08-09T06:39:06.187Z"
   },
   {
    "duration": 65,
    "start_time": "2021-08-09T06:39:06.218Z"
   },
   {
    "duration": 31,
    "start_time": "2021-08-09T06:39:06.285Z"
   },
   {
    "duration": 9,
    "start_time": "2021-08-09T06:39:06.319Z"
   },
   {
    "duration": 38,
    "start_time": "2021-08-09T06:39:06.331Z"
   },
   {
    "duration": 20,
    "start_time": "2021-08-09T06:39:06.372Z"
   },
   {
    "duration": 27,
    "start_time": "2021-08-09T06:39:06.395Z"
   },
   {
    "duration": 17,
    "start_time": "2021-08-09T06:39:06.425Z"
   },
   {
    "duration": 26,
    "start_time": "2021-08-09T06:39:06.444Z"
   },
   {
    "duration": 23,
    "start_time": "2021-08-09T06:39:06.472Z"
   },
   {
    "duration": 415,
    "start_time": "2021-08-09T06:39:06.497Z"
   },
   {
    "duration": 9,
    "start_time": "2021-08-09T06:39:06.915Z"
   },
   {
    "duration": 320,
    "start_time": "2021-08-09T06:39:06.927Z"
   },
   {
    "duration": 314,
    "start_time": "2021-08-09T06:39:07.250Z"
   },
   {
    "duration": 323,
    "start_time": "2021-08-09T06:39:07.567Z"
   },
   {
    "duration": 306,
    "start_time": "2021-08-09T06:39:07.892Z"
   },
   {
    "duration": 467,
    "start_time": "2021-08-09T06:39:08.201Z"
   },
   {
    "duration": 438,
    "start_time": "2021-08-09T06:39:08.670Z"
   },
   {
    "duration": 7,
    "start_time": "2021-08-09T06:39:09.110Z"
   },
   {
    "duration": 602,
    "start_time": "2021-08-09T06:39:09.119Z"
   },
   {
    "duration": 40,
    "start_time": "2021-08-09T06:39:09.724Z"
   },
   {
    "duration": 526,
    "start_time": "2021-08-09T06:39:09.767Z"
   },
   {
    "duration": 26,
    "start_time": "2021-08-09T06:39:10.295Z"
   },
   {
    "duration": 53,
    "start_time": "2021-08-09T06:39:10.323Z"
   },
   {
    "duration": 24,
    "start_time": "2021-08-09T06:39:10.379Z"
   },
   {
    "duration": 62,
    "start_time": "2021-08-09T06:39:10.406Z"
   },
   {
    "duration": 5,
    "start_time": "2021-08-09T06:39:10.472Z"
   },
   {
    "duration": 1606,
    "start_time": "2021-08-09T06:39:12.397Z"
   },
   {
    "duration": 4,
    "start_time": "2021-08-09T06:40:18.133Z"
   },
   {
    "duration": 2333,
    "start_time": "2021-08-09T06:40:19.090Z"
   },
   {
    "duration": 164,
    "start_time": "2021-08-09T06:47:12.117Z"
   },
   {
    "duration": 2483,
    "start_time": "2021-08-09T06:47:39.044Z"
   },
   {
    "duration": 552,
    "start_time": "2021-08-09T15:39:33.112Z"
   },
   {
    "duration": 72,
    "start_time": "2021-08-09T15:39:34.102Z"
   },
   {
    "duration": 3,
    "start_time": "2021-08-09T15:39:35.022Z"
   },
   {
    "duration": 123,
    "start_time": "2021-08-09T15:39:35.956Z"
   },
   {
    "duration": 25,
    "start_time": "2021-08-09T15:39:36.750Z"
   },
   {
    "duration": 13,
    "start_time": "2021-08-09T15:39:37.587Z"
   },
   {
    "duration": 8,
    "start_time": "2021-08-09T15:39:50.870Z"
   },
   {
    "duration": 13,
    "start_time": "2021-08-09T15:39:52.546Z"
   },
   {
    "duration": 9,
    "start_time": "2021-08-09T15:39:56.023Z"
   },
   {
    "duration": 4,
    "start_time": "2021-08-09T15:39:59.334Z"
   },
   {
    "duration": 4950,
    "start_time": "2021-08-09T15:40:01.253Z"
   },
   {
    "duration": 3,
    "start_time": "2021-08-09T15:40:06.205Z"
   },
   {
    "duration": 16,
    "start_time": "2021-08-09T15:40:06.210Z"
   },
   {
    "duration": -740,
    "start_time": "2021-08-09T15:41:28.043Z"
   },
   {
    "duration": 2,
    "start_time": "2021-08-09T15:41:59.040Z"
   },
   {
    "duration": 2,
    "start_time": "2021-08-09T15:41:59.048Z"
   },
   {
    "duration": 3,
    "start_time": "2021-08-09T15:41:59.055Z"
   },
   {
    "duration": 127,
    "start_time": "2021-08-09T15:41:59.067Z"
   },
   {
    "duration": 20,
    "start_time": "2021-08-09T15:41:59.196Z"
   },
   {
    "duration": 9,
    "start_time": "2021-08-09T15:41:59.218Z"
   },
   {
    "duration": 6,
    "start_time": "2021-08-09T15:41:59.229Z"
   },
   {
    "duration": 10,
    "start_time": "2021-08-09T15:41:59.236Z"
   },
   {
    "duration": 38,
    "start_time": "2021-08-09T15:41:59.247Z"
   },
   {
    "duration": 11,
    "start_time": "2021-08-09T15:41:59.286Z"
   },
   {
    "duration": 4974,
    "start_time": "2021-08-09T15:42:08.618Z"
   },
   {
    "duration": 7,
    "start_time": "2021-08-09T15:42:48.267Z"
   },
   {
    "duration": 4975,
    "start_time": "2021-08-09T15:43:16.357Z"
   },
   {
    "duration": 6,
    "start_time": "2021-08-09T15:43:44.140Z"
   },
   {
    "duration": 4,
    "start_time": "2021-08-09T15:43:53.743Z"
   },
   {
    "duration": 8,
    "start_time": "2021-08-09T15:43:54.815Z"
   },
   {
    "duration": 185,
    "start_time": "2021-08-09T15:43:55.855Z"
   },
   {
    "duration": 15,
    "start_time": "2021-08-09T15:44:03.781Z"
   },
   {
    "duration": 7,
    "start_time": "2021-08-09T15:44:07.013Z"
   },
   {
    "duration": 7,
    "start_time": "2021-08-09T15:44:07.992Z"
   },
   {
    "duration": 11,
    "start_time": "2021-08-09T15:44:09.740Z"
   },
   {
    "duration": 11,
    "start_time": "2021-08-09T15:44:10.775Z"
   },
   {
    "duration": 5,
    "start_time": "2021-08-09T15:44:12.093Z"
   },
   {
    "duration": 8,
    "start_time": "2021-08-09T15:44:14.693Z"
   },
   {
    "duration": 5,
    "start_time": "2021-08-09T15:44:18.483Z"
   },
   {
    "duration": 5,
    "start_time": "2021-08-09T15:44:19.710Z"
   },
   {
    "duration": 3,
    "start_time": "2021-08-09T15:44:22.604Z"
   },
   {
    "duration": 9,
    "start_time": "2021-08-09T15:44:24.681Z"
   },
   {
    "duration": 9,
    "start_time": "2021-08-09T15:44:32.958Z"
   },
   {
    "duration": 8,
    "start_time": "2021-08-09T15:44:33.797Z"
   },
   {
    "duration": 11,
    "start_time": "2021-08-09T15:44:43.897Z"
   },
   {
    "duration": 20,
    "start_time": "2021-08-09T15:44:46.304Z"
   },
   {
    "duration": 12,
    "start_time": "2021-08-09T15:44:48.484Z"
   },
   {
    "duration": 3,
    "start_time": "2021-08-09T15:45:00.216Z"
   },
   {
    "duration": 16,
    "start_time": "2021-08-09T15:45:01.285Z"
   },
   {
    "duration": 9,
    "start_time": "2021-08-09T15:45:03.005Z"
   },
   {
    "duration": 22,
    "start_time": "2021-08-09T15:45:04.590Z"
   },
   {
    "duration": 4,
    "start_time": "2021-08-09T15:45:09.544Z"
   },
   {
    "duration": 6,
    "start_time": "2021-08-09T15:45:16.464Z"
   },
   {
    "duration": 6,
    "start_time": "2021-08-09T15:45:17.234Z"
   },
   {
    "duration": 6,
    "start_time": "2021-08-09T15:45:18.216Z"
   },
   {
    "duration": 3,
    "start_time": "2021-08-09T15:45:19.720Z"
   },
   {
    "duration": 583,
    "start_time": "2021-08-09T15:45:20.846Z"
   },
   {
    "duration": 3,
    "start_time": "2021-08-09T15:45:22.606Z"
   },
   {
    "duration": 181,
    "start_time": "2021-08-09T15:45:25.734Z"
   },
   {
    "duration": 180,
    "start_time": "2021-08-09T15:46:05.618Z"
   },
   {
    "duration": 3,
    "start_time": "2021-08-09T15:46:46.055Z"
   },
   {
    "duration": 2,
    "start_time": "2021-08-09T15:46:46.063Z"
   },
   {
    "duration": 4,
    "start_time": "2021-08-09T15:46:46.069Z"
   },
   {
    "duration": 117,
    "start_time": "2021-08-09T15:46:46.077Z"
   },
   {
    "duration": 21,
    "start_time": "2021-08-09T15:46:46.195Z"
   },
   {
    "duration": 11,
    "start_time": "2021-08-09T15:46:46.218Z"
   },
   {
    "duration": 7,
    "start_time": "2021-08-09T15:46:46.231Z"
   },
   {
    "duration": 47,
    "start_time": "2021-08-09T15:46:46.239Z"
   },
   {
    "duration": 8,
    "start_time": "2021-08-09T15:46:46.288Z"
   },
   {
    "duration": 3,
    "start_time": "2021-08-09T15:46:46.297Z"
   },
   {
    "duration": 5004,
    "start_time": "2021-08-09T15:46:46.303Z"
   },
   {
    "duration": 4991,
    "start_time": "2021-08-09T15:46:51.310Z"
   },
   {
    "duration": 3,
    "start_time": "2021-08-09T15:46:56.303Z"
   },
   {
    "duration": 12,
    "start_time": "2021-08-09T15:46:56.308Z"
   },
   {
    "duration": 211,
    "start_time": "2021-08-09T15:46:56.321Z"
   },
   {
    "duration": 15,
    "start_time": "2021-08-09T15:46:56.534Z"
   },
   {
    "duration": 5,
    "start_time": "2021-08-09T15:46:56.551Z"
   },
   {
    "duration": 27,
    "start_time": "2021-08-09T15:46:56.558Z"
   },
   {
    "duration": 9,
    "start_time": "2021-08-09T15:46:56.587Z"
   },
   {
    "duration": 10,
    "start_time": "2021-08-09T15:46:56.597Z"
   },
   {
    "duration": 3,
    "start_time": "2021-08-09T15:46:56.608Z"
   },
   {
    "duration": 8,
    "start_time": "2021-08-09T15:46:56.613Z"
   },
   {
    "duration": 6,
    "start_time": "2021-08-09T15:46:56.622Z"
   },
   {
    "duration": 4,
    "start_time": "2021-08-09T15:46:56.631Z"
   },
   {
    "duration": 47,
    "start_time": "2021-08-09T15:46:56.637Z"
   },
   {
    "duration": 13,
    "start_time": "2021-08-09T15:46:56.687Z"
   },
   {
    "duration": 9,
    "start_time": "2021-08-09T15:46:56.702Z"
   },
   {
    "duration": 9,
    "start_time": "2021-08-09T15:46:56.713Z"
   },
   {
    "duration": 10,
    "start_time": "2021-08-09T15:46:56.724Z"
   },
   {
    "duration": 66,
    "start_time": "2021-08-09T15:46:56.735Z"
   },
   {
    "duration": 11,
    "start_time": "2021-08-09T15:46:56.803Z"
   },
   {
    "duration": 3,
    "start_time": "2021-08-09T15:46:56.815Z"
   },
   {
    "duration": 19,
    "start_time": "2021-08-09T15:46:56.820Z"
   },
   {
    "duration": 7,
    "start_time": "2021-08-09T15:46:56.841Z"
   },
   {
    "duration": 20,
    "start_time": "2021-08-09T15:46:56.885Z"
   },
   {
    "duration": 3,
    "start_time": "2021-08-09T15:46:56.907Z"
   },
   {
    "duration": 6,
    "start_time": "2021-08-09T15:46:56.912Z"
   },
   {
    "duration": 5,
    "start_time": "2021-08-09T15:46:56.920Z"
   },
   {
    "duration": 5,
    "start_time": "2021-08-09T15:46:56.927Z"
   },
   {
    "duration": 2,
    "start_time": "2021-08-09T15:46:56.934Z"
   },
   {
    "duration": 580,
    "start_time": "2021-08-09T15:46:56.937Z"
   },
   {
    "duration": 540,
    "start_time": "2021-08-09T15:47:05.305Z"
   },
   {
    "duration": 2,
    "start_time": "2021-08-09T15:47:06.530Z"
   },
   {
    "duration": 179,
    "start_time": "2021-08-09T15:47:09.922Z"
   },
   {
    "duration": 62,
    "start_time": "2021-08-09T15:48:09.391Z"
   },
   {
    "duration": 7,
    "start_time": "2021-08-09T15:48:16.388Z"
   },
   {
    "duration": 196,
    "start_time": "2021-08-09T15:48:20.204Z"
   },
   {
    "duration": 6,
    "start_time": "2021-08-09T15:48:32.224Z"
   },
   {
    "duration": 4,
    "start_time": "2021-08-09T15:48:42.269Z"
   },
   {
    "duration": 175,
    "start_time": "2021-08-09T15:48:50.059Z"
   },
   {
    "duration": 10,
    "start_time": "2021-08-09T15:48:59.884Z"
   },
   {
    "duration": 10,
    "start_time": "2021-08-09T15:49:02.452Z"
   },
   {
    "duration": 217,
    "start_time": "2021-08-09T15:49:07.380Z"
   },
   {
    "duration": 212,
    "start_time": "2021-08-09T15:49:34.062Z"
   },
   {
    "duration": 4,
    "start_time": "2021-08-09T15:49:58.255Z"
   },
   {
    "duration": 6,
    "start_time": "2021-08-09T15:50:00.403Z"
   },
   {
    "duration": 5,
    "start_time": "2021-08-09T15:50:01.111Z"
   },
   {
    "duration": 6,
    "start_time": "2021-08-09T15:50:01.828Z"
   },
   {
    "duration": 3,
    "start_time": "2021-08-09T15:50:03.408Z"
   },
   {
    "duration": 595,
    "start_time": "2021-08-09T15:50:04.397Z"
   },
   {
    "duration": 2,
    "start_time": "2021-08-09T15:50:05.177Z"
   },
   {
    "duration": 6,
    "start_time": "2021-08-09T15:50:07.248Z"
   },
   {
    "duration": 6,
    "start_time": "2021-08-09T15:50:08.702Z"
   },
   {
    "duration": 4,
    "start_time": "2021-08-09T15:50:12.758Z"
   },
   {
    "duration": 183,
    "start_time": "2021-08-09T15:50:21.154Z"
   },
   {
    "duration": 9,
    "start_time": "2021-08-09T15:50:35.990Z"
   },
   {
    "duration": 3,
    "start_time": "2021-08-09T15:50:56.885Z"
   },
   {
    "duration": 19,
    "start_time": "2021-08-09T15:50:56.893Z"
   },
   {
    "duration": 11,
    "start_time": "2021-08-09T15:50:56.913Z"
   },
   {
    "duration": 145,
    "start_time": "2021-08-09T15:50:56.925Z"
   },
   {
    "duration": 29,
    "start_time": "2021-08-09T15:50:57.071Z"
   },
   {
    "duration": 16,
    "start_time": "2021-08-09T15:50:57.102Z"
   },
   {
    "duration": 10,
    "start_time": "2021-08-09T15:50:57.120Z"
   },
   {
    "duration": 20,
    "start_time": "2021-08-09T15:50:57.131Z"
   },
   {
    "duration": 8,
    "start_time": "2021-08-09T15:50:57.153Z"
   },
   {
    "duration": 24,
    "start_time": "2021-08-09T15:50:57.162Z"
   },
   {
    "duration": 5103,
    "start_time": "2021-08-09T15:50:57.188Z"
   },
   {
    "duration": 5371,
    "start_time": "2021-08-09T15:51:02.293Z"
   },
   {
    "duration": 4,
    "start_time": "2021-08-09T15:51:07.665Z"
   },
   {
    "duration": 18,
    "start_time": "2021-08-09T15:51:07.671Z"
   },
   {
    "duration": 201,
    "start_time": "2021-08-09T15:51:07.692Z"
   },
   {
    "duration": 14,
    "start_time": "2021-08-09T15:51:07.895Z"
   },
   {
    "duration": 6,
    "start_time": "2021-08-09T15:51:07.910Z"
   },
   {
    "duration": 6,
    "start_time": "2021-08-09T15:51:07.917Z"
   },
   {
    "duration": 8,
    "start_time": "2021-08-09T15:51:07.925Z"
   },
   {
    "duration": 9,
    "start_time": "2021-08-09T15:51:07.934Z"
   },
   {
    "duration": 4,
    "start_time": "2021-08-09T15:51:07.985Z"
   },
   {
    "duration": 13,
    "start_time": "2021-08-09T15:51:07.990Z"
   },
   {
    "duration": 3,
    "start_time": "2021-08-09T15:51:08.004Z"
   },
   {
    "duration": 5,
    "start_time": "2021-08-09T15:51:08.009Z"
   },
   {
    "duration": 5,
    "start_time": "2021-08-09T15:51:08.015Z"
   },
   {
    "duration": 10,
    "start_time": "2021-08-09T15:51:08.021Z"
   },
   {
    "duration": 8,
    "start_time": "2021-08-09T15:51:08.032Z"
   },
   {
    "duration": 44,
    "start_time": "2021-08-09T15:51:08.042Z"
   },
   {
    "duration": 12,
    "start_time": "2021-08-09T15:51:08.088Z"
   },
   {
    "duration": 17,
    "start_time": "2021-08-09T15:51:08.102Z"
   },
   {
    "duration": 11,
    "start_time": "2021-08-09T15:51:08.121Z"
   },
   {
    "duration": 3,
    "start_time": "2021-08-09T15:51:08.133Z"
   },
   {
    "duration": 16,
    "start_time": "2021-08-09T15:51:08.185Z"
   },
   {
    "duration": 8,
    "start_time": "2021-08-09T15:51:08.203Z"
   },
   {
    "duration": 23,
    "start_time": "2021-08-09T15:51:08.212Z"
   },
   {
    "duration": 4,
    "start_time": "2021-08-09T15:51:08.237Z"
   },
   {
    "duration": 11,
    "start_time": "2021-08-09T15:51:08.242Z"
   },
   {
    "duration": 34,
    "start_time": "2021-08-09T15:51:08.254Z"
   },
   {
    "duration": 5,
    "start_time": "2021-08-09T15:51:08.291Z"
   },
   {
    "duration": 3,
    "start_time": "2021-08-09T15:51:08.298Z"
   },
   {
    "duration": 558,
    "start_time": "2021-08-09T15:51:08.303Z"
   },
   {
    "duration": 2,
    "start_time": "2021-08-09T15:51:08.862Z"
   },
   {
    "duration": 9,
    "start_time": "2021-08-09T15:51:08.866Z"
   },
   {
    "duration": 12,
    "start_time": "2021-08-09T15:51:08.876Z"
   },
   {
    "duration": 6,
    "start_time": "2021-08-09T15:51:08.889Z"
   },
   {
    "duration": 203,
    "start_time": "2021-08-09T15:51:08.896Z"
   },
   {
    "duration": 9,
    "start_time": "2021-08-09T15:51:14.386Z"
   },
   {
    "duration": 9,
    "start_time": "2021-08-09T15:51:16.360Z"
   },
   {
    "duration": 209,
    "start_time": "2021-08-09T15:51:23.224Z"
   },
   {
    "duration": 6,
    "start_time": "2021-08-09T15:51:56.620Z"
   },
   {
    "duration": 14,
    "start_time": "2021-08-09T15:52:19.107Z"
   },
   {
    "duration": 5,
    "start_time": "2021-08-09T15:53:28.540Z"
   },
   {
    "duration": 15,
    "start_time": "2021-08-09T15:53:41.886Z"
   },
   {
    "duration": 6,
    "start_time": "2021-08-09T15:54:06.115Z"
   },
   {
    "duration": 5,
    "start_time": "2021-08-09T15:54:06.853Z"
   },
   {
    "duration": 6,
    "start_time": "2021-08-09T15:54:07.622Z"
   },
   {
    "duration": 3,
    "start_time": "2021-08-09T15:54:10.150Z"
   },
   {
    "duration": 581,
    "start_time": "2021-08-09T15:54:11.085Z"
   },
   {
    "duration": 2,
    "start_time": "2021-08-09T15:54:14.018Z"
   },
   {
    "duration": 227,
    "start_time": "2021-08-09T15:54:29.758Z"
   },
   {
    "duration": 5,
    "start_time": "2021-08-09T15:54:46.464Z"
   },
   {
    "duration": 5,
    "start_time": "2021-08-09T15:55:04.536Z"
   },
   {
    "duration": 560,
    "start_time": "2021-08-09T16:12:49.861Z"
   },
   {
    "duration": 71,
    "start_time": "2021-08-09T16:12:50.581Z"
   },
   {
    "duration": 3,
    "start_time": "2021-08-09T16:12:51.260Z"
   },
   {
    "duration": 118,
    "start_time": "2021-08-09T16:12:51.946Z"
   },
   {
    "duration": 23,
    "start_time": "2021-08-09T16:12:52.891Z"
   },
   {
    "duration": 11,
    "start_time": "2021-08-09T16:12:53.838Z"
   },
   {
    "duration": 8,
    "start_time": "2021-08-09T16:13:08.686Z"
   },
   {
    "duration": 12,
    "start_time": "2021-08-09T16:13:10.967Z"
   },
   {
    "duration": 8,
    "start_time": "2021-08-09T16:13:20.668Z"
   },
   {
    "duration": 4,
    "start_time": "2021-08-09T16:13:27.635Z"
   },
   {
    "duration": 4830,
    "start_time": "2021-08-09T16:13:36.844Z"
   }
  ],
  "kernelspec": {
   "display_name": "Python 3",
   "language": "python",
   "name": "python3"
  },
  "language_info": {
   "codemirror_mode": {
    "name": "ipython",
    "version": 3
   },
   "file_extension": ".py",
   "mimetype": "text/x-python",
   "name": "python",
   "nbconvert_exporter": "python",
   "pygments_lexer": "ipython3",
   "version": "3.8.8"
  },
  "toc": {
   "base_numbering": 1,
   "nav_menu": {},
   "number_sections": true,
   "sideBar": true,
   "skip_h1_title": true,
   "title_cell": "Содержание",
   "title_sidebar": "Contents",
   "toc_cell": true,
   "toc_position": {
    "height": "calc(100% - 180px)",
    "left": "10px",
    "top": "150px",
    "width": "175px"
   },
   "toc_section_display": true,
   "toc_window_display": true
  }
 },
 "nbformat": 4,
 "nbformat_minor": 2
}
