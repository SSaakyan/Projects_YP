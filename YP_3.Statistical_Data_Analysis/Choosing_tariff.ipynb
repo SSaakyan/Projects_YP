{
 "cells": [
  {
   "cell_type": "markdown",
   "metadata": {
    "toc": true
   },
   "source": [
    "<h1>Содержание<span class=\"tocSkip\"></span></h1>\n",
    "<div class=\"toc\"><ul class=\"toc-item\"><li><span><a href=\"#Изучение-данных-из-файлов\" data-toc-modified-id=\"Изучение-данных-из-файлов-1\"><span class=\"toc-item-num\">1&nbsp;&nbsp;</span>Изучение данных из файлов</a></span><ul class=\"toc-item\"><li><span><a href=\"#Импорт-библиотек\" data-toc-modified-id=\"Импорт-библиотек-1.1\"><span class=\"toc-item-num\">1.1&nbsp;&nbsp;</span>Импорт библиотек</a></span></li><li><span><a href=\"#Открытие-файлов-и-изучение-общей-информации-о-данных\" data-toc-modified-id=\"Открытие-файлов-и-изучение-общей-информации-о-данных-1.2\"><span class=\"toc-item-num\">1.2&nbsp;&nbsp;</span>Открытие файлов и изучение общей информации о данных</a></span><ul class=\"toc-item\"><li><span><a href=\"#Информация-о-пользователях\" data-toc-modified-id=\"Информация-о-пользователях-1.2.1\"><span class=\"toc-item-num\">1.2.1&nbsp;&nbsp;</span>Информация о пользователях</a></span></li><li><span><a href=\"#Информация-о-звонках\" data-toc-modified-id=\"Информация-о-звонках-1.2.2\"><span class=\"toc-item-num\">1.2.2&nbsp;&nbsp;</span>Информация о звонках</a></span></li><li><span><a href=\"#Информация-о-сообщениях\" data-toc-modified-id=\"Информация-о-сообщениях-1.2.3\"><span class=\"toc-item-num\">1.2.3&nbsp;&nbsp;</span>Информация о сообщениях</a></span></li><li><span><a href=\"#Информация-об-интернет-сессиях\" data-toc-modified-id=\"Информация-об-интернет-сессиях-1.2.4\"><span class=\"toc-item-num\">1.2.4&nbsp;&nbsp;</span>Информация об интернет-сессиях</a></span></li><li><span><a href=\"#Информация-о-тарифах\" data-toc-modified-id=\"Информация-о-тарифах-1.2.5\"><span class=\"toc-item-num\">1.2.5&nbsp;&nbsp;</span>Информация о тарифах</a></span></li></ul></li><li><span><a href=\"#Вывод\" data-toc-modified-id=\"Вывод-1.3\"><span class=\"toc-item-num\">1.3&nbsp;&nbsp;</span>Вывод</a></span></li></ul></li><li><span><a href=\"#Подготовка-данных\" data-toc-modified-id=\"Подготовка-данных-2\"><span class=\"toc-item-num\">2&nbsp;&nbsp;</span>Подготовка данных</a></span><ul class=\"toc-item\"><li><span><a href=\"#Изменение-типов-данных-и-поиск-ошибок\" data-toc-modified-id=\"Изменение-типов-данных-и-поиск-ошибок-2.1\"><span class=\"toc-item-num\">2.1&nbsp;&nbsp;</span>Изменение типов данных и поиск ошибок</a></span><ul class=\"toc-item\"><li><span><a href=\"#Информация-о-пользователях\" data-toc-modified-id=\"Информация-о-пользователях-2.1.1\"><span class=\"toc-item-num\">2.1.1&nbsp;&nbsp;</span>Информация о пользователях</a></span></li><li><span><a href=\"#Информация-о-звонках\" data-toc-modified-id=\"Информация-о-звонках-2.1.2\"><span class=\"toc-item-num\">2.1.2&nbsp;&nbsp;</span>Информация о звонках</a></span></li><li><span><a href=\"#Информация-о-сообщениях\" data-toc-modified-id=\"Информация-о-сообщениях-2.1.3\"><span class=\"toc-item-num\">2.1.3&nbsp;&nbsp;</span>Информация о сообщениях</a></span></li><li><span><a href=\"#Информация-об-интернет-сессиях\" data-toc-modified-id=\"Информация-об-интернет-сессиях-2.1.4\"><span class=\"toc-item-num\">2.1.4&nbsp;&nbsp;</span>Информация об интернет-сессиях</a></span></li></ul></li><li><span><a href=\"#Рассчёты\" data-toc-modified-id=\"Рассчёты-2.2\"><span class=\"toc-item-num\">2.2&nbsp;&nbsp;</span>Рассчёты</a></span><ul class=\"toc-item\"><li><span><a href=\"#Количество-сделанных-звонков-и-израсходованных-минут-разговора-по-месяцам\" data-toc-modified-id=\"Количество-сделанных-звонков-и-израсходованных-минут-разговора-по-месяцам-2.2.1\"><span class=\"toc-item-num\">2.2.1&nbsp;&nbsp;</span>Количество сделанных звонков и израсходованных минут разговора по месяцам</a></span></li><li><span><a href=\"#Количество-отправленных-сообщений-по-месяцам\" data-toc-modified-id=\"Количество-отправленных-сообщений-по-месяцам-2.2.2\"><span class=\"toc-item-num\">2.2.2&nbsp;&nbsp;</span>Количество отправленных сообщений по месяцам</a></span></li><li><span><a href=\"#Объем-израсходованного-интернет-трафика-по-месяцам\" data-toc-modified-id=\"Объем-израсходованного-интернет-трафика-по-месяцам-2.2.3\"><span class=\"toc-item-num\">2.2.3&nbsp;&nbsp;</span>Объем израсходованного интернет-трафика по месяцам</a></span></li><li><span><a href=\"#Помесячная-выручка-с-каждого-пользователя\" data-toc-modified-id=\"Помесячная-выручка-с-каждого-пользователя-2.2.4\"><span class=\"toc-item-num\">2.2.4&nbsp;&nbsp;</span>Помесячная выручка с каждого пользователя</a></span></li></ul></li></ul></li><li><span><a href=\"#Анализ-данных\" data-toc-modified-id=\"Анализ-данных-3\"><span class=\"toc-item-num\">3&nbsp;&nbsp;</span>Анализ данных</a></span><ul class=\"toc-item\"><li><span><a href=\"#Количество-минут-разговора\" data-toc-modified-id=\"Количество-минут-разговора-3.1\"><span class=\"toc-item-num\">3.1&nbsp;&nbsp;</span>Количество минут разговора</a></span></li><li><span><a href=\"#Количество-сообщений\" data-toc-modified-id=\"Количество-сообщений-3.2\"><span class=\"toc-item-num\">3.2&nbsp;&nbsp;</span>Количество сообщений</a></span></li><li><span><a href=\"#Объем-интернет-трафика\" data-toc-modified-id=\"Объем-интернет-трафика-3.3\"><span class=\"toc-item-num\">3.3&nbsp;&nbsp;</span>Объем интернет-трафика</a></span></li><li><span><a href=\"#Гистограммы\" data-toc-modified-id=\"Гистограммы-3.4\"><span class=\"toc-item-num\">3.4&nbsp;&nbsp;</span>Гистограммы</a></span></li></ul></li><li><span><a href=\"#Проверка-гипотез\" data-toc-modified-id=\"Проверка-гипотез-4\"><span class=\"toc-item-num\">4&nbsp;&nbsp;</span>Проверка гипотез</a></span><ul class=\"toc-item\"><li><span><a href=\"#Гипотеза-1\" data-toc-modified-id=\"Гипотеза-1-4.1\"><span class=\"toc-item-num\">4.1&nbsp;&nbsp;</span>Гипотеза 1</a></span><ul class=\"toc-item\"><li><span><a href=\"#Двусторонняя-гипотеза\" data-toc-modified-id=\"Двусторонняя-гипотеза-4.1.1\"><span class=\"toc-item-num\">4.1.1&nbsp;&nbsp;</span>Двусторонняя гипотеза</a></span></li><li><span><a href=\"#Односторонняя-гипотеза\" data-toc-modified-id=\"Односторонняя-гипотеза-4.1.2\"><span class=\"toc-item-num\">4.1.2&nbsp;&nbsp;</span>Односторонняя гипотеза</a></span></li></ul></li><li><span><a href=\"#Гипотеза-2\" data-toc-modified-id=\"Гипотеза-2-4.2\"><span class=\"toc-item-num\">4.2&nbsp;&nbsp;</span>Гипотеза 2</a></span></li></ul></li><li><span><a href=\"#Общий-вывод\" data-toc-modified-id=\"Вывод-5\"><span class=\"toc-item-num\">5&nbsp;&nbsp;</span>Общий вывод</a></span></li></ul></div>"
   ]
  },
  {
   "cell_type": "markdown",
   "metadata": {},
   "source": [
    "<font size = 4> **Описание тарифов** </font>\n",
    "\n",
    "**Тариф «Смарт»:**\n",
    "- *Ежемесячная плата*: 550 рублей\n",
    "- *Включено*: 500 минут разговора, 50 сообщений, 15 Гб интернет-трафика  \n",
    "- *Стоимость услуг сверх тарифного пакета*:\n",
    "   1) минута разговора: 3 рубля ; \n",
    "   2) сообщение: 3 рубля;\n",
    "   3) 1 Гб интернет-трафика: 200 рублей.\n",
    "   \n",
    "**Тариф «Ультра»:**\n",
    "- *Ежемесячная плата*: 1950 рублей\n",
    "- *Включено*: 3000 минут разговора, 1000 сообщений, 30 Гб интернет-трафика\n",
    "- *Стоимость услуг сверх тарифного пакета*:\n",
    "   1) минута разговора: 1 рубль; \n",
    "   2) сообщение: 1 рубль; \n",
    "   3) 1 Гб интернет-трафика: 150 рублей."
   ]
  },
  {
   "cell_type": "markdown",
   "metadata": {},
   "source": [
    "***Примечание***:\n",
    "Оператор всегда округляет секунды до минут, а мегабайты — до гигабайт. Каждый звонок округляется отдельно: даже если он длился всего 1 секунду, будет засчитан как 1 минута.\n",
    "Для веб-трафика отдельные сессии не считаются. Вместо этого общая сумма за месяц округляется в бо́льшую сторону. Если абонент использует 1025 мегабайт в этом месяце, с него возьмут плату за 2 гигабайта."
   ]
  },
  {
   "cell_type": "markdown",
   "metadata": {},
   "source": [
    "<font size = 4> **Описание данных** </font>\n",
    "\n",
    "**Таблица users (информация о пользователях)**:\n",
    "- *user_id* — уникальный идентификатор пользователя\n",
    "- *first_name* — имя пользователя\n",
    "- *last_name* — фамилия пользователя\n",
    "- *age* — возраст пользователя (годы)\n",
    "- *reg_date* — дата подключения тарифа (день, месяц, год)\n",
    "- *churn_date* — дата прекращения пользования тарифом (если значение пропущено, то тариф ещё действовал на момент выгрузки данных)\n",
    "- *city* — город проживания пользователя\n",
    "- *tarif* — название тарифного плана\n",
    "\n",
    "**Таблица calls (информация о звонках)**:\n",
    "- *id* — уникальный номер звонка\n",
    "- *call_date* — дата звонка\n",
    "- *duration* — длительность звонка в минутах\n",
    "- *user_id* — идентификатор пользователя, сделавшего звонок\n",
    "\n",
    "**Таблица messages (информация о сообщениях)**:\n",
    "- *id* — уникальный номер сообщения\n",
    "- *message_date* — дата сообщения\n",
    "- *user_id* — идентификатор пользователя, отправившего сообщение\n",
    "\n",
    "**Таблица internet (информация об интернет-сессиях)**:\n",
    "- *id* — уникальный номер сессии\n",
    "- *mb_used* — объём потраченного за сессию интернет-трафика (в мегабайтах)\n",
    "- *session_date* — дата интернет-сессии\n",
    "- *user_id* — идентификатор пользователя\n",
    "\n",
    "**Таблица tariffs (информация о тарифах)**:\n",
    "- *tariff_name* — название тарифа\n",
    "- *rub_monthly_fee* — ежемесячная абонентская плата в рублях\n",
    "- *minutes_included* — количество минут разговора в месяц, включённых в абонентскую плату\n",
    "- *messages_included* — количество сообщений в месяц, включённых в абонентскую плату\n",
    "- *mb_per_month_included* — объём интернет-трафика, включённого в абонентскую плату (в мегабайтах)\n",
    "- *rub_per_minute* — стоимость минуты разговора сверх тарифного пакета (например, если в тарифе 100 минут разговора в месяц, то со 101 минуты будет взиматься плата)\n",
    "- *rub_per_message* — стоимость отправки сообщения сверх тарифного пакета\n",
    "- *rub_per_gb* — стоимость дополнительного гигабайта интернет-трафика сверх тарифного пакета (1 гигабайт = 1024 мегабайта)"
   ]
  },
  {
   "cell_type": "markdown",
   "metadata": {},
   "source": [
    "## Изучение данных из файлов"
   ]
  },
  {
   "cell_type": "markdown",
   "metadata": {},
   "source": [
    "### Импорт библиотек\n"
   ]
  },
  {
   "cell_type": "code",
   "execution_count": 1,
   "metadata": {},
   "outputs": [],
   "source": [
    "from scipy import stats as st "
   ]
  },
  {
   "cell_type": "code",
   "execution_count": 2,
   "metadata": {},
   "outputs": [],
   "source": [
    "import numpy as np"
   ]
  },
  {
   "cell_type": "code",
   "execution_count": 3,
   "metadata": {},
   "outputs": [],
   "source": [
    "import pandas as pd "
   ]
  },
  {
   "cell_type": "code",
   "execution_count": 4,
   "metadata": {},
   "outputs": [],
   "source": [
    "import matplotlib.pyplot as plt "
   ]
  },
  {
   "cell_type": "code",
   "execution_count": 5,
   "metadata": {},
   "outputs": [],
   "source": [
    "from IPython.display import display"
   ]
  },
  {
   "cell_type": "code",
   "execution_count": 6,
   "metadata": {},
   "outputs": [],
   "source": [
    "import datetime"
   ]
  },
  {
   "cell_type": "code",
   "execution_count": 7,
   "metadata": {},
   "outputs": [],
   "source": [
    "pd.set_option('display.float_format', '{:,.2f}'.format)  "
   ]
  },
  {
   "cell_type": "markdown",
   "metadata": {},
   "source": [
    "### Открытие файлов и изучение общей информации о данных"
   ]
  },
  {
   "cell_type": "markdown",
   "metadata": {},
   "source": [
    "#### Информация о пользователях"
   ]
  },
  {
   "cell_type": "code",
   "execution_count": 8,
   "metadata": {},
   "outputs": [],
   "source": [
    "users = pd.read_csv('/datasets/users.csv') #открываем файл с данными"
   ]
  },
  {
   "cell_type": "code",
   "execution_count": 9,
   "metadata": {},
   "outputs": [
    {
     "data": {
      "text/html": [
       "<div>\n",
       "<style scoped>\n",
       "    .dataframe tbody tr th:only-of-type {\n",
       "        vertical-align: middle;\n",
       "    }\n",
       "\n",
       "    .dataframe tbody tr th {\n",
       "        vertical-align: top;\n",
       "    }\n",
       "\n",
       "    .dataframe thead th {\n",
       "        text-align: right;\n",
       "    }\n",
       "</style>\n",
       "<table border=\"1\" class=\"dataframe\">\n",
       "  <thead>\n",
       "    <tr style=\"text-align: right;\">\n",
       "      <th></th>\n",
       "      <th>user_id</th>\n",
       "      <th>age</th>\n",
       "      <th>churn_date</th>\n",
       "      <th>city</th>\n",
       "      <th>first_name</th>\n",
       "      <th>last_name</th>\n",
       "      <th>reg_date</th>\n",
       "      <th>tariff</th>\n",
       "    </tr>\n",
       "  </thead>\n",
       "  <tbody>\n",
       "    <tr>\n",
       "      <td>304</td>\n",
       "      <td>1304</td>\n",
       "      <td>68</td>\n",
       "      <td>NaN</td>\n",
       "      <td>Владимир</td>\n",
       "      <td>Илья</td>\n",
       "      <td>Соловьёв</td>\n",
       "      <td>2018-11-05</td>\n",
       "      <td>ultra</td>\n",
       "    </tr>\n",
       "    <tr>\n",
       "      <td>340</td>\n",
       "      <td>1340</td>\n",
       "      <td>50</td>\n",
       "      <td>NaN</td>\n",
       "      <td>Пенза</td>\n",
       "      <td>Тимофей</td>\n",
       "      <td>Алютин</td>\n",
       "      <td>2018-01-30</td>\n",
       "      <td>smart</td>\n",
       "    </tr>\n",
       "    <tr>\n",
       "      <td>47</td>\n",
       "      <td>1047</td>\n",
       "      <td>67</td>\n",
       "      <td>NaN</td>\n",
       "      <td>Саратов</td>\n",
       "      <td>Милица</td>\n",
       "      <td>Меркулова</td>\n",
       "      <td>2018-10-29</td>\n",
       "      <td>smart</td>\n",
       "    </tr>\n",
       "    <tr>\n",
       "      <td>67</td>\n",
       "      <td>1067</td>\n",
       "      <td>45</td>\n",
       "      <td>NaN</td>\n",
       "      <td>Москва</td>\n",
       "      <td>Юзефа</td>\n",
       "      <td>Абашкина</td>\n",
       "      <td>2018-04-09</td>\n",
       "      <td>smart</td>\n",
       "    </tr>\n",
       "    <tr>\n",
       "      <td>479</td>\n",
       "      <td>1479</td>\n",
       "      <td>40</td>\n",
       "      <td>NaN</td>\n",
       "      <td>Хабаровск</td>\n",
       "      <td>Игорь</td>\n",
       "      <td>Богданов</td>\n",
       "      <td>2018-07-03</td>\n",
       "      <td>smart</td>\n",
       "    </tr>\n",
       "    <tr>\n",
       "      <td>485</td>\n",
       "      <td>1485</td>\n",
       "      <td>34</td>\n",
       "      <td>NaN</td>\n",
       "      <td>Киров</td>\n",
       "      <td>Таисия</td>\n",
       "      <td>Сухова</td>\n",
       "      <td>2018-12-29</td>\n",
       "      <td>ultra</td>\n",
       "    </tr>\n",
       "    <tr>\n",
       "      <td>310</td>\n",
       "      <td>1310</td>\n",
       "      <td>28</td>\n",
       "      <td>NaN</td>\n",
       "      <td>Уфа</td>\n",
       "      <td>Рудольф</td>\n",
       "      <td>Нестеров</td>\n",
       "      <td>2018-03-22</td>\n",
       "      <td>ultra</td>\n",
       "    </tr>\n",
       "    <tr>\n",
       "      <td>31</td>\n",
       "      <td>1031</td>\n",
       "      <td>66</td>\n",
       "      <td>NaN</td>\n",
       "      <td>Москва</td>\n",
       "      <td>Лаврентий</td>\n",
       "      <td>Тимофеев</td>\n",
       "      <td>2018-11-02</td>\n",
       "      <td>smart</td>\n",
       "    </tr>\n",
       "    <tr>\n",
       "      <td>249</td>\n",
       "      <td>1249</td>\n",
       "      <td>25</td>\n",
       "      <td>NaN</td>\n",
       "      <td>Курск</td>\n",
       "      <td>Изольда</td>\n",
       "      <td>Авдушева</td>\n",
       "      <td>2018-08-14</td>\n",
       "      <td>smart</td>\n",
       "    </tr>\n",
       "    <tr>\n",
       "      <td>90</td>\n",
       "      <td>1090</td>\n",
       "      <td>54</td>\n",
       "      <td>2018-12-03</td>\n",
       "      <td>Череповец</td>\n",
       "      <td>Екатерина</td>\n",
       "      <td>Астафьева</td>\n",
       "      <td>2018-10-11</td>\n",
       "      <td>ultra</td>\n",
       "    </tr>\n",
       "  </tbody>\n",
       "</table>\n",
       "</div>"
      ],
      "text/plain": [
       "     user_id  age  churn_date       city first_name  last_name    reg_date  \\\n",
       "304     1304   68         NaN   Владимир       Илья   Соловьёв  2018-11-05   \n",
       "340     1340   50         NaN      Пенза    Тимофей     Алютин  2018-01-30   \n",
       "47      1047   67         NaN    Саратов     Милица  Меркулова  2018-10-29   \n",
       "67      1067   45         NaN     Москва      Юзефа   Абашкина  2018-04-09   \n",
       "479     1479   40         NaN  Хабаровск      Игорь   Богданов  2018-07-03   \n",
       "485     1485   34         NaN      Киров     Таисия     Сухова  2018-12-29   \n",
       "310     1310   28         NaN        Уфа    Рудольф   Нестеров  2018-03-22   \n",
       "31      1031   66         NaN     Москва  Лаврентий   Тимофеев  2018-11-02   \n",
       "249     1249   25         NaN      Курск    Изольда   Авдушева  2018-08-14   \n",
       "90      1090   54  2018-12-03  Череповец  Екатерина  Астафьева  2018-10-11   \n",
       "\n",
       "    tariff  \n",
       "304  ultra  \n",
       "340  smart  \n",
       "47   smart  \n",
       "67   smart  \n",
       "479  smart  \n",
       "485  ultra  \n",
       "310  ultra  \n",
       "31   smart  \n",
       "249  smart  \n",
       "90   ultra  "
      ]
     },
     "metadata": {},
     "output_type": "display_data"
    }
   ],
   "source": [
    "display(users.sample(10,random_state=1)) #посмотрим на данные"
   ]
  },
  {
   "cell_type": "code",
   "execution_count": 10,
   "metadata": {},
   "outputs": [
    {
     "name": "stdout",
     "output_type": "stream",
     "text": [
      "<class 'pandas.core.frame.DataFrame'>\n",
      "RangeIndex: 500 entries, 0 to 499\n",
      "Data columns (total 8 columns):\n",
      "user_id       500 non-null int64\n",
      "age           500 non-null int64\n",
      "churn_date    38 non-null object\n",
      "city          500 non-null object\n",
      "first_name    500 non-null object\n",
      "last_name     500 non-null object\n",
      "reg_date      500 non-null object\n",
      "tariff        500 non-null object\n",
      "dtypes: int64(2), object(6)\n",
      "memory usage: 31.4+ KB\n"
     ]
    }
   ],
   "source": [
    "users.info() #посмотрим на общую информацию"
   ]
  },
  {
   "cell_type": "markdown",
   "metadata": {},
   "source": [
    "**Вывод:** тип данных для столбцов reg_date, churn_date необходимо заменить на datetime. Много пропущенных значений в столбце churn_date, но это всего лишь означает, что тариф ещё действовал на момент выгрузки данных."
   ]
  },
  {
   "cell_type": "markdown",
   "metadata": {},
   "source": [
    "#### Информация о звонках"
   ]
  },
  {
   "cell_type": "code",
   "execution_count": 11,
   "metadata": {},
   "outputs": [],
   "source": [
    "calls = pd.read_csv('/datasets/calls.csv') #открываем файл с данными"
   ]
  },
  {
   "cell_type": "code",
   "execution_count": 12,
   "metadata": {},
   "outputs": [
    {
     "data": {
      "text/html": [
       "<div>\n",
       "<style scoped>\n",
       "    .dataframe tbody tr th:only-of-type {\n",
       "        vertical-align: middle;\n",
       "    }\n",
       "\n",
       "    .dataframe tbody tr th {\n",
       "        vertical-align: top;\n",
       "    }\n",
       "\n",
       "    .dataframe thead th {\n",
       "        text-align: right;\n",
       "    }\n",
       "</style>\n",
       "<table border=\"1\" class=\"dataframe\">\n",
       "  <thead>\n",
       "    <tr style=\"text-align: right;\">\n",
       "      <th></th>\n",
       "      <th>id</th>\n",
       "      <th>call_date</th>\n",
       "      <th>duration</th>\n",
       "      <th>user_id</th>\n",
       "    </tr>\n",
       "  </thead>\n",
       "  <tbody>\n",
       "    <tr>\n",
       "      <td>26953</td>\n",
       "      <td>1066_374</td>\n",
       "      <td>2018-08-26</td>\n",
       "      <td>0.00</td>\n",
       "      <td>1066</td>\n",
       "    </tr>\n",
       "    <tr>\n",
       "      <td>66122</td>\n",
       "      <td>1168_1273</td>\n",
       "      <td>2018-03-28</td>\n",
       "      <td>16.05</td>\n",
       "      <td>1168</td>\n",
       "    </tr>\n",
       "    <tr>\n",
       "      <td>67325</td>\n",
       "      <td>1171_350</td>\n",
       "      <td>2018-09-14</td>\n",
       "      <td>6.23</td>\n",
       "      <td>1171</td>\n",
       "    </tr>\n",
       "    <tr>\n",
       "      <td>74643</td>\n",
       "      <td>1186_465</td>\n",
       "      <td>2018-09-02</td>\n",
       "      <td>0.79</td>\n",
       "      <td>1186</td>\n",
       "    </tr>\n",
       "    <tr>\n",
       "      <td>192311</td>\n",
       "      <td>1472_124</td>\n",
       "      <td>2018-05-04</td>\n",
       "      <td>5.94</td>\n",
       "      <td>1472</td>\n",
       "    </tr>\n",
       "    <tr>\n",
       "      <td>47375</td>\n",
       "      <td>1118_664</td>\n",
       "      <td>2018-10-24</td>\n",
       "      <td>13.41</td>\n",
       "      <td>1118</td>\n",
       "    </tr>\n",
       "    <tr>\n",
       "      <td>91143</td>\n",
       "      <td>1227_563</td>\n",
       "      <td>2018-08-03</td>\n",
       "      <td>15.15</td>\n",
       "      <td>1227</td>\n",
       "    </tr>\n",
       "    <tr>\n",
       "      <td>3818</td>\n",
       "      <td>1010_67</td>\n",
       "      <td>2018-08-16</td>\n",
       "      <td>14.29</td>\n",
       "      <td>1010</td>\n",
       "    </tr>\n",
       "    <tr>\n",
       "      <td>182822</td>\n",
       "      <td>1454_574</td>\n",
       "      <td>2018-09-23</td>\n",
       "      <td>9.98</td>\n",
       "      <td>1454</td>\n",
       "    </tr>\n",
       "    <tr>\n",
       "      <td>187346</td>\n",
       "      <td>1463_0</td>\n",
       "      <td>2018-12-05</td>\n",
       "      <td>10.63</td>\n",
       "      <td>1463</td>\n",
       "    </tr>\n",
       "  </tbody>\n",
       "</table>\n",
       "</div>"
      ],
      "text/plain": [
       "               id   call_date  duration  user_id\n",
       "26953    1066_374  2018-08-26      0.00     1066\n",
       "66122   1168_1273  2018-03-28     16.05     1168\n",
       "67325    1171_350  2018-09-14      6.23     1171\n",
       "74643    1186_465  2018-09-02      0.79     1186\n",
       "192311   1472_124  2018-05-04      5.94     1472\n",
       "47375    1118_664  2018-10-24     13.41     1118\n",
       "91143    1227_563  2018-08-03     15.15     1227\n",
       "3818      1010_67  2018-08-16     14.29     1010\n",
       "182822   1454_574  2018-09-23      9.98     1454\n",
       "187346     1463_0  2018-12-05     10.63     1463"
      ]
     },
     "metadata": {},
     "output_type": "display_data"
    }
   ],
   "source": [
    "display(calls.sample(10,random_state=1)) #посмотрим на данные"
   ]
  },
  {
   "cell_type": "code",
   "execution_count": 13,
   "metadata": {},
   "outputs": [
    {
     "name": "stdout",
     "output_type": "stream",
     "text": [
      "<class 'pandas.core.frame.DataFrame'>\n",
      "RangeIndex: 202607 entries, 0 to 202606\n",
      "Data columns (total 4 columns):\n",
      "id           202607 non-null object\n",
      "call_date    202607 non-null object\n",
      "duration     202607 non-null float64\n",
      "user_id      202607 non-null int64\n",
      "dtypes: float64(1), int64(1), object(2)\n",
      "memory usage: 6.2+ MB\n"
     ]
    }
   ],
   "source": [
    "calls.info()  #посмотрим на общую информацию"
   ]
  },
  {
   "cell_type": "markdown",
   "metadata": {},
   "source": [
    "**Вывод:** Пропущенных значений в данной таблице нет, но надо изменить тип данных в столбце duration на целочисленный (предварительно округлив длительность звонков до минут), а в столбце call_date - на datetime."
   ]
  },
  {
   "cell_type": "markdown",
   "metadata": {},
   "source": [
    "#### Информация о сообщениях"
   ]
  },
  {
   "cell_type": "code",
   "execution_count": 14,
   "metadata": {},
   "outputs": [],
   "source": [
    "messages = pd.read_csv('/datasets/messages.csv') #открываем файл с данными"
   ]
  },
  {
   "cell_type": "code",
   "execution_count": 15,
   "metadata": {},
   "outputs": [
    {
     "data": {
      "text/html": [
       "<div>\n",
       "<style scoped>\n",
       "    .dataframe tbody tr th:only-of-type {\n",
       "        vertical-align: middle;\n",
       "    }\n",
       "\n",
       "    .dataframe tbody tr th {\n",
       "        vertical-align: top;\n",
       "    }\n",
       "\n",
       "    .dataframe thead th {\n",
       "        text-align: right;\n",
       "    }\n",
       "</style>\n",
       "<table border=\"1\" class=\"dataframe\">\n",
       "  <thead>\n",
       "    <tr style=\"text-align: right;\">\n",
       "      <th></th>\n",
       "      <th>id</th>\n",
       "      <th>message_date</th>\n",
       "      <th>user_id</th>\n",
       "    </tr>\n",
       "  </thead>\n",
       "  <tbody>\n",
       "    <tr>\n",
       "      <td>45696</td>\n",
       "      <td>1197_26</td>\n",
       "      <td>2018-12-31</td>\n",
       "      <td>1197</td>\n",
       "    </tr>\n",
       "    <tr>\n",
       "      <td>66091</td>\n",
       "      <td>1282_523</td>\n",
       "      <td>2018-11-30</td>\n",
       "      <td>1282</td>\n",
       "    </tr>\n",
       "    <tr>\n",
       "      <td>18743</td>\n",
       "      <td>1082_184</td>\n",
       "      <td>2018-10-18</td>\n",
       "      <td>1082</td>\n",
       "    </tr>\n",
       "    <tr>\n",
       "      <td>33759</td>\n",
       "      <td>1146_557</td>\n",
       "      <td>2018-12-22</td>\n",
       "      <td>1146</td>\n",
       "    </tr>\n",
       "    <tr>\n",
       "      <td>11403</td>\n",
       "      <td>1048_49</td>\n",
       "      <td>2018-09-27</td>\n",
       "      <td>1048</td>\n",
       "    </tr>\n",
       "    <tr>\n",
       "      <td>97793</td>\n",
       "      <td>1401_125</td>\n",
       "      <td>2018-08-10</td>\n",
       "      <td>1401</td>\n",
       "    </tr>\n",
       "    <tr>\n",
       "      <td>406</td>\n",
       "      <td>1000_406</td>\n",
       "      <td>2018-12-29</td>\n",
       "      <td>1000</td>\n",
       "    </tr>\n",
       "    <tr>\n",
       "      <td>71393</td>\n",
       "      <td>1302_221</td>\n",
       "      <td>2018-10-23</td>\n",
       "      <td>1302</td>\n",
       "    </tr>\n",
       "    <tr>\n",
       "      <td>103004</td>\n",
       "      <td>1420_11</td>\n",
       "      <td>2018-12-12</td>\n",
       "      <td>1420</td>\n",
       "    </tr>\n",
       "    <tr>\n",
       "      <td>53795</td>\n",
       "      <td>1238_208</td>\n",
       "      <td>2018-10-08</td>\n",
       "      <td>1238</td>\n",
       "    </tr>\n",
       "  </tbody>\n",
       "</table>\n",
       "</div>"
      ],
      "text/plain": [
       "              id message_date  user_id\n",
       "45696    1197_26   2018-12-31     1197\n",
       "66091   1282_523   2018-11-30     1282\n",
       "18743   1082_184   2018-10-18     1082\n",
       "33759   1146_557   2018-12-22     1146\n",
       "11403    1048_49   2018-09-27     1048\n",
       "97793   1401_125   2018-08-10     1401\n",
       "406     1000_406   2018-12-29     1000\n",
       "71393   1302_221   2018-10-23     1302\n",
       "103004   1420_11   2018-12-12     1420\n",
       "53795   1238_208   2018-10-08     1238"
      ]
     },
     "metadata": {},
     "output_type": "display_data"
    }
   ],
   "source": [
    "display(messages.sample(10,random_state=1)) #посмотрим на данные"
   ]
  },
  {
   "cell_type": "code",
   "execution_count": 16,
   "metadata": {},
   "outputs": [
    {
     "name": "stdout",
     "output_type": "stream",
     "text": [
      "<class 'pandas.core.frame.DataFrame'>\n",
      "RangeIndex: 123036 entries, 0 to 123035\n",
      "Data columns (total 3 columns):\n",
      "id              123036 non-null object\n",
      "message_date    123036 non-null object\n",
      "user_id         123036 non-null int64\n",
      "dtypes: int64(1), object(2)\n",
      "memory usage: 2.8+ MB\n"
     ]
    }
   ],
   "source": [
    "messages.info() #посмотрим на общую информацию"
   ]
  },
  {
   "cell_type": "markdown",
   "metadata": {},
   "source": [
    "**Вывод:** пропущенных значений в данной таблице тоже нет, надо изменить тип данных в столбце message_date на datetime."
   ]
  },
  {
   "cell_type": "markdown",
   "metadata": {},
   "source": [
    "#### Информация об интернет-сессиях"
   ]
  },
  {
   "cell_type": "code",
   "execution_count": 17,
   "metadata": {},
   "outputs": [],
   "source": [
    "internet = pd.read_csv('/datasets/internet.csv') #открываем файл с данными"
   ]
  },
  {
   "cell_type": "code",
   "execution_count": 18,
   "metadata": {},
   "outputs": [
    {
     "data": {
      "text/html": [
       "<div>\n",
       "<style scoped>\n",
       "    .dataframe tbody tr th:only-of-type {\n",
       "        vertical-align: middle;\n",
       "    }\n",
       "\n",
       "    .dataframe tbody tr th {\n",
       "        vertical-align: top;\n",
       "    }\n",
       "\n",
       "    .dataframe thead th {\n",
       "        text-align: right;\n",
       "    }\n",
       "</style>\n",
       "<table border=\"1\" class=\"dataframe\">\n",
       "  <thead>\n",
       "    <tr style=\"text-align: right;\">\n",
       "      <th></th>\n",
       "      <th>Unnamed: 0</th>\n",
       "      <th>id</th>\n",
       "      <th>mb_used</th>\n",
       "      <th>session_date</th>\n",
       "      <th>user_id</th>\n",
       "    </tr>\n",
       "  </thead>\n",
       "  <tbody>\n",
       "    <tr>\n",
       "      <td>35745</td>\n",
       "      <td>35745</td>\n",
       "      <td>1124_125</td>\n",
       "      <td>122.45</td>\n",
       "      <td>2018-12-03</td>\n",
       "      <td>1124</td>\n",
       "    </tr>\n",
       "    <tr>\n",
       "      <td>18383</td>\n",
       "      <td>18383</td>\n",
       "      <td>1064_102</td>\n",
       "      <td>320.60</td>\n",
       "      <td>2018-12-19</td>\n",
       "      <td>1064</td>\n",
       "    </tr>\n",
       "    <tr>\n",
       "      <td>59774</td>\n",
       "      <td>59774</td>\n",
       "      <td>1203_22</td>\n",
       "      <td>605.96</td>\n",
       "      <td>2018-06-17</td>\n",
       "      <td>1203</td>\n",
       "    </tr>\n",
       "    <tr>\n",
       "      <td>56317</td>\n",
       "      <td>56317</td>\n",
       "      <td>1188_123</td>\n",
       "      <td>781.73</td>\n",
       "      <td>2018-05-08</td>\n",
       "      <td>1188</td>\n",
       "    </tr>\n",
       "    <tr>\n",
       "      <td>52231</td>\n",
       "      <td>52231</td>\n",
       "      <td>1176_386</td>\n",
       "      <td>150.98</td>\n",
       "      <td>2018-08-20</td>\n",
       "      <td>1176</td>\n",
       "    </tr>\n",
       "    <tr>\n",
       "      <td>20276</td>\n",
       "      <td>20276</td>\n",
       "      <td>1068_26</td>\n",
       "      <td>389.65</td>\n",
       "      <td>2018-12-04</td>\n",
       "      <td>1068</td>\n",
       "    </tr>\n",
       "    <tr>\n",
       "      <td>82748</td>\n",
       "      <td>82748</td>\n",
       "      <td>1281_64</td>\n",
       "      <td>841.89</td>\n",
       "      <td>2018-11-07</td>\n",
       "      <td>1281</td>\n",
       "    </tr>\n",
       "    <tr>\n",
       "      <td>129266</td>\n",
       "      <td>129266</td>\n",
       "      <td>1431_300</td>\n",
       "      <td>461.23</td>\n",
       "      <td>2018-11-26</td>\n",
       "      <td>1431</td>\n",
       "    </tr>\n",
       "    <tr>\n",
       "      <td>46783</td>\n",
       "      <td>46783</td>\n",
       "      <td>1160_75</td>\n",
       "      <td>0.00</td>\n",
       "      <td>2018-08-15</td>\n",
       "      <td>1160</td>\n",
       "    </tr>\n",
       "    <tr>\n",
       "      <td>48492</td>\n",
       "      <td>48492</td>\n",
       "      <td>1168_260</td>\n",
       "      <td>336.06</td>\n",
       "      <td>2018-07-28</td>\n",
       "      <td>1168</td>\n",
       "    </tr>\n",
       "  </tbody>\n",
       "</table>\n",
       "</div>"
      ],
      "text/plain": [
       "        Unnamed: 0        id  mb_used session_date  user_id\n",
       "35745        35745  1124_125   122.45   2018-12-03     1124\n",
       "18383        18383  1064_102   320.60   2018-12-19     1064\n",
       "59774        59774   1203_22   605.96   2018-06-17     1203\n",
       "56317        56317  1188_123   781.73   2018-05-08     1188\n",
       "52231        52231  1176_386   150.98   2018-08-20     1176\n",
       "20276        20276   1068_26   389.65   2018-12-04     1068\n",
       "82748        82748   1281_64   841.89   2018-11-07     1281\n",
       "129266      129266  1431_300   461.23   2018-11-26     1431\n",
       "46783        46783   1160_75     0.00   2018-08-15     1160\n",
       "48492        48492  1168_260   336.06   2018-07-28     1168"
      ]
     },
     "metadata": {},
     "output_type": "display_data"
    }
   ],
   "source": [
    "display(internet.sample(10,random_state=1)) #посмотрим на данные"
   ]
  },
  {
   "cell_type": "code",
   "execution_count": 19,
   "metadata": {},
   "outputs": [
    {
     "name": "stdout",
     "output_type": "stream",
     "text": [
      "<class 'pandas.core.frame.DataFrame'>\n",
      "RangeIndex: 149396 entries, 0 to 149395\n",
      "Data columns (total 5 columns):\n",
      "Unnamed: 0      149396 non-null int64\n",
      "id              149396 non-null object\n",
      "mb_used         149396 non-null float64\n",
      "session_date    149396 non-null object\n",
      "user_id         149396 non-null int64\n",
      "dtypes: float64(1), int64(2), object(2)\n",
      "memory usage: 5.7+ MB\n"
     ]
    }
   ],
   "source": [
    "internet.info() #посмотрим на общую информацию"
   ]
  },
  {
   "cell_type": "markdown",
   "metadata": {},
   "source": [
    "**Вывод:** пропущенных значений в данной таблице тоже нет, надо изменить тип данных в столбце session_date на datetime, в столбце mb_used - оставим как есть, т.к. отдельные сессии не считаются (вместо этого общая сумма за месяц округляется в бо́льшую сторону), поэтому округлять будем общую сумму за месяц)"
   ]
  },
  {
   "cell_type": "markdown",
   "metadata": {},
   "source": [
    "#### Информация о тарифах"
   ]
  },
  {
   "cell_type": "code",
   "execution_count": 20,
   "metadata": {},
   "outputs": [],
   "source": [
    "tariffs = pd.read_csv('/datasets/tariffs.csv') #открываем файл с данными"
   ]
  },
  {
   "cell_type": "code",
   "execution_count": 21,
   "metadata": {
    "scrolled": true
   },
   "outputs": [
    {
     "data": {
      "text/html": [
       "<div>\n",
       "<style scoped>\n",
       "    .dataframe tbody tr th:only-of-type {\n",
       "        vertical-align: middle;\n",
       "    }\n",
       "\n",
       "    .dataframe tbody tr th {\n",
       "        vertical-align: top;\n",
       "    }\n",
       "\n",
       "    .dataframe thead th {\n",
       "        text-align: right;\n",
       "    }\n",
       "</style>\n",
       "<table border=\"1\" class=\"dataframe\">\n",
       "  <thead>\n",
       "    <tr style=\"text-align: right;\">\n",
       "      <th></th>\n",
       "      <th>messages_included</th>\n",
       "      <th>mb_per_month_included</th>\n",
       "      <th>minutes_included</th>\n",
       "      <th>rub_monthly_fee</th>\n",
       "      <th>rub_per_gb</th>\n",
       "      <th>rub_per_message</th>\n",
       "      <th>rub_per_minute</th>\n",
       "      <th>tariff_name</th>\n",
       "    </tr>\n",
       "  </thead>\n",
       "  <tbody>\n",
       "    <tr>\n",
       "      <td>0</td>\n",
       "      <td>50</td>\n",
       "      <td>15360</td>\n",
       "      <td>500</td>\n",
       "      <td>550</td>\n",
       "      <td>200</td>\n",
       "      <td>3</td>\n",
       "      <td>3</td>\n",
       "      <td>smart</td>\n",
       "    </tr>\n",
       "    <tr>\n",
       "      <td>1</td>\n",
       "      <td>1000</td>\n",
       "      <td>30720</td>\n",
       "      <td>3000</td>\n",
       "      <td>1950</td>\n",
       "      <td>150</td>\n",
       "      <td>1</td>\n",
       "      <td>1</td>\n",
       "      <td>ultra</td>\n",
       "    </tr>\n",
       "  </tbody>\n",
       "</table>\n",
       "</div>"
      ],
      "text/plain": [
       "   messages_included  mb_per_month_included  minutes_included  \\\n",
       "0                 50                  15360               500   \n",
       "1               1000                  30720              3000   \n",
       "\n",
       "   rub_monthly_fee  rub_per_gb  rub_per_message  rub_per_minute tariff_name  \n",
       "0              550         200                3               3       smart  \n",
       "1             1950         150                1               1       ultra  "
      ]
     },
     "metadata": {},
     "output_type": "display_data"
    }
   ],
   "source": [
    "display(tariffs) #посмотрим на данные"
   ]
  },
  {
   "cell_type": "code",
   "execution_count": 22,
   "metadata": {},
   "outputs": [
    {
     "name": "stdout",
     "output_type": "stream",
     "text": [
      "<class 'pandas.core.frame.DataFrame'>\n",
      "RangeIndex: 2 entries, 0 to 1\n",
      "Data columns (total 8 columns):\n",
      "messages_included        2 non-null int64\n",
      "mb_per_month_included    2 non-null int64\n",
      "minutes_included         2 non-null int64\n",
      "rub_monthly_fee          2 non-null int64\n",
      "rub_per_gb               2 non-null int64\n",
      "rub_per_message          2 non-null int64\n",
      "rub_per_minute           2 non-null int64\n",
      "tariff_name              2 non-null object\n",
      "dtypes: int64(7), object(1)\n",
      "memory usage: 256.0+ bytes\n"
     ]
    }
   ],
   "source": [
    "tariffs.info() #посмотрим на общую информацию"
   ]
  },
  {
   "cell_type": "markdown",
   "metadata": {},
   "source": [
    "**Вывод:** пропущенных значений в данной таблице нет."
   ]
  },
  {
   "cell_type": "markdown",
   "metadata": {},
   "source": [
    "### Вывод"
   ]
  },
  {
   "cell_type": "markdown",
   "metadata": {},
   "source": [
    "* В таблице **users** (информация о пользователях):тип данных для столбцов reg_date, churn_date необходимо заменить на datetime. Много пропущенных значений в столбце churn_date, но это всего лишь означает, что тариф ещё действовал на момент выгрузки данных.\n",
    "- В таблице **calls** (информация о звонках): пропущенных значений в данной таблице нет, но надо изменить тип данных в столбце duration на целочисленный(предварительно округлив длительность звонков до минут), а в столбце call_date - на datetime.\n",
    "- В таблице **messages** (информация о сообщениях): пропущенных значений в данной таблице тоже нет, надо изменить тип данных в столбце message_date на datetime.\n",
    "- В таблице **internet**(информация об интернет-сессиях): пропущенных значений в данной таблице тоже нет, надо изменить тип данных в столбце session_date на datetime, в столбце mb_used - оставим как есть, т.к. отдельные сессии не считаются (вместо этого общая сумма за месяц округляется в бо́льшую сторону), поэтому округлять будем общую сумму за месяц)\n",
    "- В таблице **tariffs**(информация о тарифах): пропущенных значений в данной таблице нет. "
   ]
  },
  {
   "cell_type": "markdown",
   "metadata": {},
   "source": [
    "## Подготовка данных"
   ]
  },
  {
   "cell_type": "markdown",
   "metadata": {},
   "source": [
    "### Изменение типов данных и поиск ошибок"
   ]
  },
  {
   "cell_type": "markdown",
   "metadata": {},
   "source": [
    "#### Информация о пользователях"
   ]
  },
  {
   "cell_type": "markdown",
   "metadata": {},
   "source": [
    "Изменим тип данных для столбца reg_date на datetime."
   ]
  },
  {
   "cell_type": "code",
   "execution_count": 23,
   "metadata": {},
   "outputs": [],
   "source": [
    "users['reg_date'] = pd.to_datetime(users['reg_date'], format='%Y-%m-%d')"
   ]
  },
  {
   "cell_type": "markdown",
   "metadata": {},
   "source": [
    "Пропущенные значения в столбце churn_date, означают, что тариф ещё действовал на момент выгрузки данных, поэтому в качестве замены (чтобы не было пропущенных значений в данном столбце) возьмём дату нашего исследования."
   ]
  },
  {
   "cell_type": "code",
   "execution_count": 24,
   "metadata": {},
   "outputs": [],
   "source": [
    "a = datetime.date(2021, 8, 16)"
   ]
  },
  {
   "cell_type": "code",
   "execution_count": 25,
   "metadata": {},
   "outputs": [],
   "source": [
    "users['churn_date'] = users['churn_date'].fillna(a)"
   ]
  },
  {
   "cell_type": "markdown",
   "metadata": {},
   "source": [
    "Изменим тип данных для столбца churn_date на datetime."
   ]
  },
  {
   "cell_type": "code",
   "execution_count": 26,
   "metadata": {},
   "outputs": [],
   "source": [
    "users['churn_date'] = pd.to_datetime(users['churn_date'], format='%Y-%m-%d')"
   ]
  },
  {
   "cell_type": "code",
   "execution_count": 27,
   "metadata": {},
   "outputs": [
    {
     "name": "stdout",
     "output_type": "stream",
     "text": [
      "<class 'pandas.core.frame.DataFrame'>\n",
      "RangeIndex: 500 entries, 0 to 499\n",
      "Data columns (total 8 columns):\n",
      "user_id       500 non-null int64\n",
      "age           500 non-null int64\n",
      "churn_date    500 non-null datetime64[ns]\n",
      "city          500 non-null object\n",
      "first_name    500 non-null object\n",
      "last_name     500 non-null object\n",
      "reg_date      500 non-null datetime64[ns]\n",
      "tariff        500 non-null object\n",
      "dtypes: datetime64[ns](2), int64(2), object(4)\n",
      "memory usage: 31.4+ KB\n"
     ]
    }
   ],
   "source": [
    "users.info() #проверка"
   ]
  },
  {
   "cell_type": "markdown",
   "metadata": {},
   "source": [
    "Теперь проверим есть ли ошибки в столбце age"
   ]
  },
  {
   "cell_type": "code",
   "execution_count": 28,
   "metadata": {},
   "outputs": [
    {
     "data": {
      "text/plain": [
       "array([52, 41, 59, 23, 68, 67, 21, 65, 63, 24, 26, 44, 38, 36, 64, 58, 73,\n",
       "       71, 61, 72, 42, 56, 32, 62, 20, 51, 28, 66, 31, 37, 47, 40, 69, 48,\n",
       "       33, 39, 43, 46, 45, 55, 53, 34, 49, 25, 18, 70, 50, 19, 54, 60, 29,\n",
       "       27, 74, 22, 30, 75, 57, 35])"
      ]
     },
     "execution_count": 28,
     "metadata": {},
     "output_type": "execute_result"
    }
   ],
   "source": [
    "users['age'].unique()"
   ]
  },
  {
   "cell_type": "markdown",
   "metadata": {},
   "source": [
    "Неадекватных значений нет."
   ]
  },
  {
   "cell_type": "markdown",
   "metadata": {},
   "source": [
    "Проверим на наличие дубликатов"
   ]
  },
  {
   "cell_type": "code",
   "execution_count": 29,
   "metadata": {},
   "outputs": [
    {
     "name": "stdout",
     "output_type": "stream",
     "text": [
      "0\n"
     ]
    }
   ],
   "source": [
    "print(users.duplicated().sum())"
   ]
  },
  {
   "cell_type": "markdown",
   "metadata": {},
   "source": [
    "#### Информация о звонках"
   ]
  },
  {
   "cell_type": "markdown",
   "metadata": {},
   "source": [
    "Округлим данные в столбце duration до минут в большую сторону (т.к. оператор всегда округляет секунды до минут)"
   ]
  },
  {
   "cell_type": "code",
   "execution_count": 30,
   "metadata": {},
   "outputs": [],
   "source": [
    "calls['duration'] = [np.ceil(x) for x in calls['duration']]"
   ]
  },
  {
   "cell_type": "markdown",
   "metadata": {},
   "source": [
    "Проверим тип данных для данного столбца"
   ]
  },
  {
   "cell_type": "code",
   "execution_count": 31,
   "metadata": {},
   "outputs": [
    {
     "name": "stdout",
     "output_type": "stream",
     "text": [
      "<class 'pandas.core.frame.DataFrame'>\n",
      "RangeIndex: 202607 entries, 0 to 202606\n",
      "Data columns (total 4 columns):\n",
      "id           202607 non-null object\n",
      "call_date    202607 non-null object\n",
      "duration     202607 non-null float64\n",
      "user_id      202607 non-null int64\n",
      "dtypes: float64(1), int64(1), object(2)\n",
      "memory usage: 6.2+ MB\n"
     ]
    }
   ],
   "source": [
    "calls.info()"
   ]
  },
  {
   "cell_type": "markdown",
   "metadata": {},
   "source": [
    "Тип данных для столбца  - целочисленный."
   ]
  },
  {
   "cell_type": "markdown",
   "metadata": {},
   "source": [
    "Теперь изменим тип данных в столбце call_date - на datetime."
   ]
  },
  {
   "cell_type": "code",
   "execution_count": 32,
   "metadata": {},
   "outputs": [],
   "source": [
    "calls['duration'] = calls['duration'].astype('int')"
   ]
  },
  {
   "cell_type": "code",
   "execution_count": 33,
   "metadata": {},
   "outputs": [],
   "source": [
    "calls['call_date'] = pd.to_datetime(calls['call_date'], format='%Y-%m-%d')"
   ]
  },
  {
   "cell_type": "code",
   "execution_count": 34,
   "metadata": {},
   "outputs": [
    {
     "name": "stdout",
     "output_type": "stream",
     "text": [
      "<class 'pandas.core.frame.DataFrame'>\n",
      "RangeIndex: 202607 entries, 0 to 202606\n",
      "Data columns (total 4 columns):\n",
      "id           202607 non-null object\n",
      "call_date    202607 non-null datetime64[ns]\n",
      "duration     202607 non-null int64\n",
      "user_id      202607 non-null int64\n",
      "dtypes: datetime64[ns](1), int64(2), object(1)\n",
      "memory usage: 6.2+ MB\n"
     ]
    }
   ],
   "source": [
    "calls.info() #проверка"
   ]
  },
  {
   "cell_type": "markdown",
   "metadata": {},
   "source": [
    "Проверим, есть ли явные ошибки в столбце duration"
   ]
  },
  {
   "cell_type": "code",
   "execution_count": 35,
   "metadata": {},
   "outputs": [
    {
     "data": {
      "text/plain": [
       "array([ 0,  3, 14,  6, 19,  8, 10,  5, 13, 16,  9,  2, 15, 11, 24, 12, 23,\n",
       "        7, 20,  1,  4, 17, 21, 18, 25, 22, 27, 26, 29, 28, 30, 37, 31, 33,\n",
       "       34, 32, 36, 35, 38])"
      ]
     },
     "execution_count": 35,
     "metadata": {},
     "output_type": "execute_result"
    }
   ],
   "source": [
    "calls['duration'].unique()"
   ]
  },
  {
   "cell_type": "markdown",
   "metadata": {},
   "source": [
    "0 сигнализируем о пропущенных звонках, в остальном неадекватных значений нет."
   ]
  },
  {
   "cell_type": "markdown",
   "metadata": {},
   "source": [
    "#### Информация о сообщениях"
   ]
  },
  {
   "cell_type": "markdown",
   "metadata": {},
   "source": [
    "Изменим тип данных в столбце message_date на datetime."
   ]
  },
  {
   "cell_type": "code",
   "execution_count": 36,
   "metadata": {},
   "outputs": [],
   "source": [
    "messages['message_date'] = pd.to_datetime(messages['message_date'], format='%Y-%m-%d')"
   ]
  },
  {
   "cell_type": "code",
   "execution_count": 37,
   "metadata": {},
   "outputs": [
    {
     "name": "stdout",
     "output_type": "stream",
     "text": [
      "<class 'pandas.core.frame.DataFrame'>\n",
      "RangeIndex: 123036 entries, 0 to 123035\n",
      "Data columns (total 3 columns):\n",
      "id              123036 non-null object\n",
      "message_date    123036 non-null datetime64[ns]\n",
      "user_id         123036 non-null int64\n",
      "dtypes: datetime64[ns](1), int64(1), object(1)\n",
      "memory usage: 2.8+ MB\n"
     ]
    }
   ],
   "source": [
    "messages.info() #проверка"
   ]
  },
  {
   "cell_type": "markdown",
   "metadata": {},
   "source": [
    "#### Информация об интернет-сессиях"
   ]
  },
  {
   "cell_type": "markdown",
   "metadata": {},
   "source": [
    "Изменим тип данных в столбце session_date на datetime."
   ]
  },
  {
   "cell_type": "code",
   "execution_count": 38,
   "metadata": {},
   "outputs": [],
   "source": [
    "internet['session_date'] = pd.to_datetime(internet['session_date'], format='%Y-%m-%d')"
   ]
  },
  {
   "cell_type": "code",
   "execution_count": 39,
   "metadata": {},
   "outputs": [
    {
     "name": "stdout",
     "output_type": "stream",
     "text": [
      "<class 'pandas.core.frame.DataFrame'>\n",
      "RangeIndex: 149396 entries, 0 to 149395\n",
      "Data columns (total 5 columns):\n",
      "Unnamed: 0      149396 non-null int64\n",
      "id              149396 non-null object\n",
      "mb_used         149396 non-null float64\n",
      "session_date    149396 non-null datetime64[ns]\n",
      "user_id         149396 non-null int64\n",
      "dtypes: datetime64[ns](1), float64(1), int64(2), object(1)\n",
      "memory usage: 5.7+ MB\n"
     ]
    }
   ],
   "source": [
    "internet.info() #проверка"
   ]
  },
  {
   "cell_type": "markdown",
   "metadata": {},
   "source": [
    "Проверим на ошибки данных в столбце mb_used. Посмотрим на минимальное и максимальное значения."
   ]
  },
  {
   "cell_type": "code",
   "execution_count": 40,
   "metadata": {},
   "outputs": [
    {
     "name": "stdout",
     "output_type": "stream",
     "text": [
      "0.0\n",
      "1724.83\n"
     ]
    }
   ],
   "source": [
    "print(internet['mb_used'].min())\n",
    "print(internet['mb_used'].max())"
   ]
  },
  {
   "cell_type": "markdown",
   "metadata": {},
   "source": [
    "### Рассчёты"
   ]
  },
  {
   "cell_type": "markdown",
   "metadata": {},
   "source": [
    "#### Количество сделанных звонков и израсходованных минут разговора по месяцам"
   ]
  },
  {
   "cell_type": "markdown",
   "metadata": {},
   "source": [
    "Сначала добавим новый столбец, в котором укажем месяц звонка"
   ]
  },
  {
   "cell_type": "code",
   "execution_count": 41,
   "metadata": {},
   "outputs": [],
   "source": [
    "calls['month'] = calls['call_date'].dt.month"
   ]
  },
  {
   "cell_type": "markdown",
   "metadata": {},
   "source": [
    "Создадим новую таблицу для сбора информации."
   ]
  },
  {
   "cell_type": "code",
   "execution_count": 42,
   "metadata": {},
   "outputs": [],
   "source": [
    "users_work = pd.DataFrame(users['user_id'])"
   ]
  },
  {
   "cell_type": "markdown",
   "metadata": {},
   "source": [
    "Посчитаем для каждого пользователя количество сделанных звонков и израсходованных минут разговора по месяцам и добавим эту информацию к таблице users_work, соединяя по столбцу user_id"
   ]
  },
  {
   "cell_type": "code",
   "execution_count": 43,
   "metadata": {},
   "outputs": [
    {
     "name": "stdout",
     "output_type": "stream",
     "text": [
      "<class 'pandas.core.frame.DataFrame'>\n",
      "RangeIndex: 500 entries, 0 to 499\n",
      "Data columns (total 1 columns):\n",
      "user_id    500 non-null int64\n",
      "dtypes: int64(1)\n",
      "memory usage: 4.0 KB\n"
     ]
    }
   ],
   "source": [
    "users_work.info()"
   ]
  },
  {
   "cell_type": "code",
   "execution_count": 44,
   "metadata": {},
   "outputs": [],
   "source": [
    "users_work = users_work.merge(calls.\\\n",
    "                    groupby(by=['user_id','month'])['duration'].agg(['count','sum']).\\\n",
    "                    reset_index(),on='user_id',  how = 'outer')"
   ]
  },
  {
   "cell_type": "code",
   "execution_count": 45,
   "metadata": {},
   "outputs": [
    {
     "name": "stdout",
     "output_type": "stream",
     "text": [
      "500\n"
     ]
    }
   ],
   "source": [
    "print(len(users_work['user_id'].unique()))"
   ]
  },
  {
   "cell_type": "code",
   "execution_count": 46,
   "metadata": {},
   "outputs": [
    {
     "data": {
      "text/html": [
       "<div>\n",
       "<style scoped>\n",
       "    .dataframe tbody tr th:only-of-type {\n",
       "        vertical-align: middle;\n",
       "    }\n",
       "\n",
       "    .dataframe tbody tr th {\n",
       "        vertical-align: top;\n",
       "    }\n",
       "\n",
       "    .dataframe thead th {\n",
       "        text-align: right;\n",
       "    }\n",
       "</style>\n",
       "<table border=\"1\" class=\"dataframe\">\n",
       "  <thead>\n",
       "    <tr style=\"text-align: right;\">\n",
       "      <th></th>\n",
       "      <th>user_id</th>\n",
       "      <th>month</th>\n",
       "      <th>count</th>\n",
       "      <th>sum</th>\n",
       "    </tr>\n",
       "  </thead>\n",
       "  <tbody>\n",
       "    <tr>\n",
       "      <td>1194</td>\n",
       "      <td>1188</td>\n",
       "      <td>3.00</td>\n",
       "      <td>6.00</td>\n",
       "      <td>46.00</td>\n",
       "    </tr>\n",
       "    <tr>\n",
       "      <td>2385</td>\n",
       "      <td>1378</td>\n",
       "      <td>11.00</td>\n",
       "      <td>69.00</td>\n",
       "      <td>437.00</td>\n",
       "    </tr>\n",
       "    <tr>\n",
       "      <td>99</td>\n",
       "      <td>1013</td>\n",
       "      <td>12.00</td>\n",
       "      <td>90.00</td>\n",
       "      <td>567.00</td>\n",
       "    </tr>\n",
       "    <tr>\n",
       "      <td>2779</td>\n",
       "      <td>1433</td>\n",
       "      <td>12.00</td>\n",
       "      <td>74.00</td>\n",
       "      <td>516.00</td>\n",
       "    </tr>\n",
       "    <tr>\n",
       "      <td>13</td>\n",
       "      <td>1002</td>\n",
       "      <td>9.00</td>\n",
       "      <td>36.00</td>\n",
       "      <td>206.00</td>\n",
       "    </tr>\n",
       "    <tr>\n",
       "      <td>2304</td>\n",
       "      <td>1370</td>\n",
       "      <td>4.00</td>\n",
       "      <td>24.00</td>\n",
       "      <td>159.00</td>\n",
       "    </tr>\n",
       "    <tr>\n",
       "      <td>442</td>\n",
       "      <td>1068</td>\n",
       "      <td>12.00</td>\n",
       "      <td>77.00</td>\n",
       "      <td>516.00</td>\n",
       "    </tr>\n",
       "    <tr>\n",
       "      <td>2847</td>\n",
       "      <td>1448</td>\n",
       "      <td>12.00</td>\n",
       "      <td>50.00</td>\n",
       "      <td>471.00</td>\n",
       "    </tr>\n",
       "    <tr>\n",
       "      <td>45</td>\n",
       "      <td>1006</td>\n",
       "      <td>5.00</td>\n",
       "      <td>56.00</td>\n",
       "      <td>370.00</td>\n",
       "    </tr>\n",
       "    <tr>\n",
       "      <td>705</td>\n",
       "      <td>1113</td>\n",
       "      <td>8.00</td>\n",
       "      <td>100.00</td>\n",
       "      <td>654.00</td>\n",
       "    </tr>\n",
       "  </tbody>\n",
       "</table>\n",
       "</div>"
      ],
      "text/plain": [
       "      user_id  month  count    sum\n",
       "1194     1188   3.00   6.00  46.00\n",
       "2385     1378  11.00  69.00 437.00\n",
       "99       1013  12.00  90.00 567.00\n",
       "2779     1433  12.00  74.00 516.00\n",
       "13       1002   9.00  36.00 206.00\n",
       "2304     1370   4.00  24.00 159.00\n",
       "442      1068  12.00  77.00 516.00\n",
       "2847     1448  12.00  50.00 471.00\n",
       "45       1006   5.00  56.00 370.00\n",
       "705      1113   8.00 100.00 654.00"
      ]
     },
     "metadata": {},
     "output_type": "display_data"
    }
   ],
   "source": [
    "display(users_work.sample(10,random_state=1)) #проверка "
   ]
  },
  {
   "cell_type": "markdown",
   "metadata": {},
   "source": [
    "Для идентификации в дальнейшем переименуем столбцы count,sum"
   ]
  },
  {
   "cell_type": "code",
   "execution_count": 47,
   "metadata": {},
   "outputs": [],
   "source": [
    "users_work = users_work.rename(columns = {'count' : 'call_num', 'sum' : 'call_sum'}, inplace = False)"
   ]
  },
  {
   "cell_type": "code",
   "execution_count": 48,
   "metadata": {},
   "outputs": [
    {
     "name": "stdout",
     "output_type": "stream",
     "text": [
      "<class 'pandas.core.frame.DataFrame'>\n",
      "Int64Index: 3182 entries, 0 to 3181\n",
      "Data columns (total 4 columns):\n",
      "user_id     3182 non-null int64\n",
      "month       3174 non-null float64\n",
      "call_num    3174 non-null float64\n",
      "call_sum    3174 non-null float64\n",
      "dtypes: float64(3), int64(1)\n",
      "memory usage: 124.3 KB\n"
     ]
    }
   ],
   "source": [
    "users_work.info() "
   ]
  },
  {
   "cell_type": "markdown",
   "metadata": {},
   "source": [
    "Как видим, восемь пользователей вообще не звонили. Заменим пропущенные значения 0."
   ]
  },
  {
   "cell_type": "code",
   "execution_count": 49,
   "metadata": {},
   "outputs": [],
   "source": [
    "users_work = users_work.fillna(0)"
   ]
  },
  {
   "cell_type": "markdown",
   "metadata": {},
   "source": [
    "Чтобы не потерять пользователей, удалим данные строчки после формирования всей вспомогательной таблицы."
   ]
  },
  {
   "cell_type": "markdown",
   "metadata": {},
   "source": [
    "#### Количество отправленных сообщений по месяцам"
   ]
  },
  {
   "cell_type": "markdown",
   "metadata": {},
   "source": [
    "Также добавим новый столбец, в котором укажем месяц отравки сообщения."
   ]
  },
  {
   "cell_type": "code",
   "execution_count": 50,
   "metadata": {},
   "outputs": [],
   "source": [
    "messages['month'] = messages['message_date'].dt.month"
   ]
  },
  {
   "cell_type": "markdown",
   "metadata": {},
   "source": [
    "Посчитаем для каждого пользователя количество отправленных сообщений по месяцам и добавим эту информацию к таблице users, соединяя по столбцам user_id и month"
   ]
  },
  {
   "cell_type": "code",
   "execution_count": 51,
   "metadata": {},
   "outputs": [],
   "source": [
    "users_work = users_work.merge(messages.\\\n",
    "                    groupby(by=['user_id','month'])['id'].count().reset_index(),on=['user_id','month'],  how = 'outer')"
   ]
  },
  {
   "cell_type": "code",
   "execution_count": 52,
   "metadata": {},
   "outputs": [
    {
     "name": "stdout",
     "output_type": "stream",
     "text": [
      "500\n"
     ]
    }
   ],
   "source": [
    "print(len(users_work['user_id'].unique())) #проверка, что все пользователи на месте"
   ]
  },
  {
   "cell_type": "markdown",
   "metadata": {},
   "source": [
    "Для идентификации в дальнейшем переименуем столбец id"
   ]
  },
  {
   "cell_type": "code",
   "execution_count": 53,
   "metadata": {},
   "outputs": [],
   "source": [
    "users_work = users_work.rename(columns = {'id' : 'message_num'}, inplace = False)"
   ]
  },
  {
   "cell_type": "code",
   "execution_count": 54,
   "metadata": {},
   "outputs": [
    {
     "data": {
      "text/html": [
       "<div>\n",
       "<style scoped>\n",
       "    .dataframe tbody tr th:only-of-type {\n",
       "        vertical-align: middle;\n",
       "    }\n",
       "\n",
       "    .dataframe tbody tr th {\n",
       "        vertical-align: top;\n",
       "    }\n",
       "\n",
       "    .dataframe thead th {\n",
       "        text-align: right;\n",
       "    }\n",
       "</style>\n",
       "<table border=\"1\" class=\"dataframe\">\n",
       "  <thead>\n",
       "    <tr style=\"text-align: right;\">\n",
       "      <th></th>\n",
       "      <th>user_id</th>\n",
       "      <th>month</th>\n",
       "      <th>call_num</th>\n",
       "      <th>call_sum</th>\n",
       "      <th>message_num</th>\n",
       "    </tr>\n",
       "  </thead>\n",
       "  <tbody>\n",
       "    <tr>\n",
       "      <td>1021</td>\n",
       "      <td>1164</td>\n",
       "      <td>5.00</td>\n",
       "      <td>43.00</td>\n",
       "      <td>309.00</td>\n",
       "      <td>37.00</td>\n",
       "    </tr>\n",
       "    <tr>\n",
       "      <td>1169</td>\n",
       "      <td>1185</td>\n",
       "      <td>5.00</td>\n",
       "      <td>136.00</td>\n",
       "      <td>999.00</td>\n",
       "      <td>nan</td>\n",
       "    </tr>\n",
       "    <tr>\n",
       "      <td>453</td>\n",
       "      <td>1071</td>\n",
       "      <td>5.00</td>\n",
       "      <td>52.00</td>\n",
       "      <td>365.00</td>\n",
       "      <td>8.00</td>\n",
       "    </tr>\n",
       "    <tr>\n",
       "      <td>255</td>\n",
       "      <td>1040</td>\n",
       "      <td>11.00</td>\n",
       "      <td>54.00</td>\n",
       "      <td>437.00</td>\n",
       "      <td>nan</td>\n",
       "    </tr>\n",
       "    <tr>\n",
       "      <td>1353</td>\n",
       "      <td>1214</td>\n",
       "      <td>10.00</td>\n",
       "      <td>65.00</td>\n",
       "      <td>455.00</td>\n",
       "      <td>77.00</td>\n",
       "    </tr>\n",
       "    <tr>\n",
       "      <td>1992</td>\n",
       "      <td>1318</td>\n",
       "      <td>5.00</td>\n",
       "      <td>91.00</td>\n",
       "      <td>598.00</td>\n",
       "      <td>49.00</td>\n",
       "    </tr>\n",
       "    <tr>\n",
       "      <td>945</td>\n",
       "      <td>1152</td>\n",
       "      <td>2.00</td>\n",
       "      <td>34.00</td>\n",
       "      <td>172.00</td>\n",
       "      <td>nan</td>\n",
       "    </tr>\n",
       "    <tr>\n",
       "      <td>918</td>\n",
       "      <td>1147</td>\n",
       "      <td>12.00</td>\n",
       "      <td>42.00</td>\n",
       "      <td>340.00</td>\n",
       "      <td>29.00</td>\n",
       "    </tr>\n",
       "    <tr>\n",
       "      <td>230</td>\n",
       "      <td>1035</td>\n",
       "      <td>12.00</td>\n",
       "      <td>60.00</td>\n",
       "      <td>467.00</td>\n",
       "      <td>51.00</td>\n",
       "    </tr>\n",
       "    <tr>\n",
       "      <td>808</td>\n",
       "      <td>1127</td>\n",
       "      <td>9.00</td>\n",
       "      <td>34.00</td>\n",
       "      <td>272.00</td>\n",
       "      <td>73.00</td>\n",
       "    </tr>\n",
       "  </tbody>\n",
       "</table>\n",
       "</div>"
      ],
      "text/plain": [
       "      user_id  month  call_num  call_sum  message_num\n",
       "1021     1164   5.00     43.00    309.00        37.00\n",
       "1169     1185   5.00    136.00    999.00          nan\n",
       "453      1071   5.00     52.00    365.00         8.00\n",
       "255      1040  11.00     54.00    437.00          nan\n",
       "1353     1214  10.00     65.00    455.00        77.00\n",
       "1992     1318   5.00     91.00    598.00        49.00\n",
       "945      1152   2.00     34.00    172.00          nan\n",
       "918      1147  12.00     42.00    340.00        29.00\n",
       "230      1035  12.00     60.00    467.00        51.00\n",
       "808      1127   9.00     34.00    272.00        73.00"
      ]
     },
     "metadata": {},
     "output_type": "display_data"
    }
   ],
   "source": [
    "display(users_work.sample(10,random_state=1)) #проверка "
   ]
  },
  {
   "cell_type": "markdown",
   "metadata": {},
   "source": [
    "#### Объем израсходованного интернет-трафика по месяцам"
   ]
  },
  {
   "cell_type": "markdown",
   "metadata": {},
   "source": [
    "Также добавим новый столбец, в котором укажем месяц интернет-сессии."
   ]
  },
  {
   "cell_type": "code",
   "execution_count": 55,
   "metadata": {},
   "outputs": [],
   "source": [
    "internet['month'] = internet['session_date'].dt.month"
   ]
  },
  {
   "cell_type": "markdown",
   "metadata": {},
   "source": [
    "Посчитаем для каждого пользователя объем израсходованного интернет-трафика по месяцам и добавим эту информацию к таблице users, соединяя по столбцам user_id и month"
   ]
  },
  {
   "cell_type": "code",
   "execution_count": 56,
   "metadata": {},
   "outputs": [],
   "source": [
    "users_work = users_work.merge(internet.\\\n",
    "                    groupby(by=['user_id','month'])['mb_used'].sum().reset_index(),on=['user_id','month'],  how = 'outer')"
   ]
  },
  {
   "cell_type": "code",
   "execution_count": 57,
   "metadata": {},
   "outputs": [
    {
     "name": "stdout",
     "output_type": "stream",
     "text": [
      "500\n"
     ]
    }
   ],
   "source": [
    "print(len(users_work['user_id'].unique())) #проверяем, что все пользователи на месте"
   ]
  },
  {
   "cell_type": "markdown",
   "metadata": {},
   "source": [
    "Для идентификации в дальнейшем переименуем столбец id"
   ]
  },
  {
   "cell_type": "code",
   "execution_count": 58,
   "metadata": {},
   "outputs": [],
   "source": [
    "users_work = users_work.rename(columns = {'mb_used' : 'internet_sum'}, inplace = False)"
   ]
  },
  {
   "cell_type": "code",
   "execution_count": 59,
   "metadata": {},
   "outputs": [
    {
     "data": {
      "text/html": [
       "<div>\n",
       "<style scoped>\n",
       "    .dataframe tbody tr th:only-of-type {\n",
       "        vertical-align: middle;\n",
       "    }\n",
       "\n",
       "    .dataframe tbody tr th {\n",
       "        vertical-align: top;\n",
       "    }\n",
       "\n",
       "    .dataframe thead th {\n",
       "        text-align: right;\n",
       "    }\n",
       "</style>\n",
       "<table border=\"1\" class=\"dataframe\">\n",
       "  <thead>\n",
       "    <tr style=\"text-align: right;\">\n",
       "      <th></th>\n",
       "      <th>user_id</th>\n",
       "      <th>month</th>\n",
       "      <th>call_num</th>\n",
       "      <th>call_sum</th>\n",
       "      <th>message_num</th>\n",
       "      <th>internet_sum</th>\n",
       "    </tr>\n",
       "  </thead>\n",
       "  <tbody>\n",
       "    <tr>\n",
       "      <td>1021</td>\n",
       "      <td>1164</td>\n",
       "      <td>5.00</td>\n",
       "      <td>43.00</td>\n",
       "      <td>309.00</td>\n",
       "      <td>37.00</td>\n",
       "      <td>15,063.34</td>\n",
       "    </tr>\n",
       "    <tr>\n",
       "      <td>1169</td>\n",
       "      <td>1185</td>\n",
       "      <td>5.00</td>\n",
       "      <td>136.00</td>\n",
       "      <td>999.00</td>\n",
       "      <td>nan</td>\n",
       "      <td>31,992.03</td>\n",
       "    </tr>\n",
       "    <tr>\n",
       "      <td>453</td>\n",
       "      <td>1071</td>\n",
       "      <td>5.00</td>\n",
       "      <td>52.00</td>\n",
       "      <td>365.00</td>\n",
       "      <td>8.00</td>\n",
       "      <td>14,602.20</td>\n",
       "    </tr>\n",
       "    <tr>\n",
       "      <td>255</td>\n",
       "      <td>1040</td>\n",
       "      <td>11.00</td>\n",
       "      <td>54.00</td>\n",
       "      <td>437.00</td>\n",
       "      <td>nan</td>\n",
       "      <td>19,871.37</td>\n",
       "    </tr>\n",
       "    <tr>\n",
       "      <td>1353</td>\n",
       "      <td>1214</td>\n",
       "      <td>10.00</td>\n",
       "      <td>65.00</td>\n",
       "      <td>455.00</td>\n",
       "      <td>77.00</td>\n",
       "      <td>9,753.19</td>\n",
       "    </tr>\n",
       "    <tr>\n",
       "      <td>1992</td>\n",
       "      <td>1318</td>\n",
       "      <td>5.00</td>\n",
       "      <td>91.00</td>\n",
       "      <td>598.00</td>\n",
       "      <td>49.00</td>\n",
       "      <td>27,339.83</td>\n",
       "    </tr>\n",
       "    <tr>\n",
       "      <td>945</td>\n",
       "      <td>1152</td>\n",
       "      <td>2.00</td>\n",
       "      <td>34.00</td>\n",
       "      <td>172.00</td>\n",
       "      <td>nan</td>\n",
       "      <td>16,587.98</td>\n",
       "    </tr>\n",
       "    <tr>\n",
       "      <td>918</td>\n",
       "      <td>1147</td>\n",
       "      <td>12.00</td>\n",
       "      <td>42.00</td>\n",
       "      <td>340.00</td>\n",
       "      <td>29.00</td>\n",
       "      <td>23,973.95</td>\n",
       "    </tr>\n",
       "    <tr>\n",
       "      <td>230</td>\n",
       "      <td>1035</td>\n",
       "      <td>12.00</td>\n",
       "      <td>60.00</td>\n",
       "      <td>467.00</td>\n",
       "      <td>51.00</td>\n",
       "      <td>11,706.23</td>\n",
       "    </tr>\n",
       "    <tr>\n",
       "      <td>808</td>\n",
       "      <td>1127</td>\n",
       "      <td>9.00</td>\n",
       "      <td>34.00</td>\n",
       "      <td>272.00</td>\n",
       "      <td>73.00</td>\n",
       "      <td>15,661.63</td>\n",
       "    </tr>\n",
       "  </tbody>\n",
       "</table>\n",
       "</div>"
      ],
      "text/plain": [
       "      user_id  month  call_num  call_sum  message_num  internet_sum\n",
       "1021     1164   5.00     43.00    309.00        37.00     15,063.34\n",
       "1169     1185   5.00    136.00    999.00          nan     31,992.03\n",
       "453      1071   5.00     52.00    365.00         8.00     14,602.20\n",
       "255      1040  11.00     54.00    437.00          nan     19,871.37\n",
       "1353     1214  10.00     65.00    455.00        77.00      9,753.19\n",
       "1992     1318   5.00     91.00    598.00        49.00     27,339.83\n",
       "945      1152   2.00     34.00    172.00          nan     16,587.98\n",
       "918      1147  12.00     42.00    340.00        29.00     23,973.95\n",
       "230      1035  12.00     60.00    467.00        51.00     11,706.23\n",
       "808      1127   9.00     34.00    272.00        73.00     15,661.63"
      ]
     },
     "metadata": {},
     "output_type": "display_data"
    }
   ],
   "source": [
    "display(users_work.sample(10,random_state=1)) #проверка "
   ]
  },
  {
   "cell_type": "markdown",
   "metadata": {},
   "source": [
    "Теперь вспомним, что для веб-трафика отдельные сессии не считаются. Вместо этого общая сумма за месяц округляется в бо́льшую сторону. "
   ]
  },
  {
   "cell_type": "markdown",
   "metadata": {},
   "source": [
    "Переведем данные в стобце internet_sum в гигабайты, предварительно округлив в большую сторону."
   ]
  },
  {
   "cell_type": "code",
   "execution_count": 60,
   "metadata": {},
   "outputs": [],
   "source": [
    "users_work['internet_sum'] = [np.ceil(x/1024) for x in users_work['internet_sum']]"
   ]
  },
  {
   "cell_type": "code",
   "execution_count": 61,
   "metadata": {},
   "outputs": [],
   "source": [
    "#display(users_work.sample(10,random_state=1)) #проверка "
   ]
  },
  {
   "cell_type": "markdown",
   "metadata": {},
   "source": [
    "Вспомним, что после объединения в таблице есть значения месяца 0. Посмотрим на все строки таблицы с данным значением."
   ]
  },
  {
   "cell_type": "code",
   "execution_count": 62,
   "metadata": {},
   "outputs": [
    {
     "name": "stdout",
     "output_type": "stream",
     "text": [
      "      user_id  month  call_num  call_sum  message_num  internet_sum\n",
      "570      1091   0.00      0.00      0.00          nan           nan\n",
      "664      1106   0.00      0.00      0.00          nan           nan\n",
      "812      1128   0.00      0.00      0.00          nan           nan\n",
      "1460     1231   0.00      0.00      0.00          nan           nan\n",
      "2061     1328   0.00      0.00      0.00          nan           nan\n",
      "2311     1371   0.00      0.00      0.00          nan           nan\n",
      "3022     1473   0.00      0.00      0.00          nan           nan\n",
      "3121     1489   0.00      0.00      0.00          nan           nan\n"
     ]
    }
   ],
   "source": [
    "print(users_work.query('month==0'))"
   ]
  },
  {
   "cell_type": "markdown",
   "metadata": {},
   "source": [
    "Убедились, что все данные здесь пустые, поэтому возьмём срез без них."
   ]
  },
  {
   "cell_type": "code",
   "execution_count": 63,
   "metadata": {},
   "outputs": [],
   "source": [
    "users_work = users_work.query('month != 0')"
   ]
  },
  {
   "cell_type": "markdown",
   "metadata": {},
   "source": [
    "#### Помесячная выручка с каждого пользователя"
   ]
  },
  {
   "cell_type": "code",
   "execution_count": 64,
   "metadata": {},
   "outputs": [
    {
     "name": "stdout",
     "output_type": "stream",
     "text": [
      "<class 'pandas.core.frame.DataFrame'>\n",
      "Int64Index: 3214 entries, 0 to 3221\n",
      "Data columns (total 6 columns):\n",
      "user_id         3214 non-null int64\n",
      "month           3214 non-null float64\n",
      "call_num        3174 non-null float64\n",
      "call_sum        3174 non-null float64\n",
      "message_num     2717 non-null float64\n",
      "internet_sum    3203 non-null float64\n",
      "dtypes: float64(5), int64(1)\n",
      "memory usage: 175.8 KB\n"
     ]
    }
   ],
   "source": [
    "users_work.info() #проверим на пропущенные значения"
   ]
  },
  {
   "cell_type": "markdown",
   "metadata": {},
   "source": [
    "При добавлении новой информации к таблице users появились пропущенные значения в столбцах call_num, call_sum, message_sum, internet_sum. Это связано с тем, что пользователи в некоторых месяцах могли не звонить или не отправлять сообщения или не пользоваться интернетом. Поэтому заполним пропущенные значения в данных столбцах на 0."
   ]
  },
  {
   "cell_type": "code",
   "execution_count": 65,
   "metadata": {},
   "outputs": [],
   "source": [
    "users_work = users_work.fillna(0)"
   ]
  },
  {
   "cell_type": "markdown",
   "metadata": {},
   "source": [
    "Теперь добавим к нашей основной таблице информацию их таблицы users_work, соединяя по столбцу user_id"
   ]
  },
  {
   "cell_type": "code",
   "execution_count": 66,
   "metadata": {},
   "outputs": [],
   "source": [
    "users = users.merge(users_work, on='user_id')"
   ]
  },
  {
   "cell_type": "code",
   "execution_count": 67,
   "metadata": {},
   "outputs": [
    {
     "name": "stdout",
     "output_type": "stream",
     "text": [
      "<class 'pandas.core.frame.DataFrame'>\n",
      "Int64Index: 3214 entries, 0 to 3213\n",
      "Data columns (total 13 columns):\n",
      "user_id         3214 non-null int64\n",
      "age             3214 non-null int64\n",
      "churn_date      3214 non-null datetime64[ns]\n",
      "city            3214 non-null object\n",
      "first_name      3214 non-null object\n",
      "last_name       3214 non-null object\n",
      "reg_date        3214 non-null datetime64[ns]\n",
      "tariff          3214 non-null object\n",
      "month           3214 non-null float64\n",
      "call_num        3214 non-null float64\n",
      "call_sum        3214 non-null float64\n",
      "message_num     3214 non-null float64\n",
      "internet_sum    3214 non-null float64\n",
      "dtypes: datetime64[ns](2), float64(5), int64(2), object(4)\n",
      "memory usage: 351.5+ KB\n"
     ]
    }
   ],
   "source": [
    "users.info() #проверяем на пропущенные значения"
   ]
  },
  {
   "cell_type": "markdown",
   "metadata": {},
   "source": [
    "Чтобы посчитать помесячную выручку с каждого пользователя вычтем бесплатный лимит из суммарного количества звонков, сообщений и интернет-трафика, остаток умножим на значение из тарифного плана и прибавим абонентскую плату, соответствующую тарифному плану"
   ]
  },
  {
   "cell_type": "markdown",
   "metadata": {},
   "source": [
    "Добавим в таблицу users информацию по тарифам, соединяя со столбцу tariff (предварительно переименовав столбец tariff_name в таблице tariffs)"
   ]
  },
  {
   "cell_type": "code",
   "execution_count": 68,
   "metadata": {},
   "outputs": [],
   "source": [
    "tariffs = tariffs.rename(columns = {'tariff_name' : 'tariff'}, inplace = False)"
   ]
  },
  {
   "cell_type": "code",
   "execution_count": 69,
   "metadata": {},
   "outputs": [],
   "source": [
    "users = users.merge(tariffs,on='tariff')"
   ]
  },
  {
   "cell_type": "code",
   "execution_count": 70,
   "metadata": {},
   "outputs": [
    {
     "name": "stdout",
     "output_type": "stream",
     "text": [
      "<class 'pandas.core.frame.DataFrame'>\n",
      "Int64Index: 3214 entries, 0 to 3213\n",
      "Data columns (total 20 columns):\n",
      "user_id                  3214 non-null int64\n",
      "age                      3214 non-null int64\n",
      "churn_date               3214 non-null datetime64[ns]\n",
      "city                     3214 non-null object\n",
      "first_name               3214 non-null object\n",
      "last_name                3214 non-null object\n",
      "reg_date                 3214 non-null datetime64[ns]\n",
      "tariff                   3214 non-null object\n",
      "month                    3214 non-null float64\n",
      "call_num                 3214 non-null float64\n",
      "call_sum                 3214 non-null float64\n",
      "message_num              3214 non-null float64\n",
      "internet_sum             3214 non-null float64\n",
      "messages_included        3214 non-null int64\n",
      "mb_per_month_included    3214 non-null int64\n",
      "minutes_included         3214 non-null int64\n",
      "rub_monthly_fee          3214 non-null int64\n",
      "rub_per_gb               3214 non-null int64\n",
      "rub_per_message          3214 non-null int64\n",
      "rub_per_minute           3214 non-null int64\n",
      "dtypes: datetime64[ns](2), float64(5), int64(9), object(4)\n",
      "memory usage: 527.3+ KB\n"
     ]
    }
   ],
   "source": [
    "users.info()"
   ]
  },
  {
   "cell_type": "markdown",
   "metadata": {},
   "source": [
    "Числа в столбцах month, call_num,call_sum,message_sum,internet_sum целыеб изменим тип данных на целочисленный."
   ]
  },
  {
   "cell_type": "code",
   "execution_count": 71,
   "metadata": {},
   "outputs": [],
   "source": [
    "users = users.astype({'month':'int','call_num':'int','call_sum':'int','message_num':'int','internet_sum':'int'})"
   ]
  },
  {
   "cell_type": "markdown",
   "metadata": {},
   "source": [
    "Напишим функцию для расчёта помесячной выручки"
   ]
  },
  {
   "cell_type": "code",
   "execution_count": 72,
   "metadata": {},
   "outputs": [],
   "source": [
    "def income(row):\n",
    "    a = np.maximum(row['call_sum']-row['minutes_included'],0) #если потраченные минуты меньше бесплатных тарифных, будет 0\n",
    "    b = np.maximum(row['message_num']-row['messages_included'],0) #аналогично для сообщений\n",
    "    c = np.maximum(row['internet_sum']-row['mb_per_month_included']/1024,0)#аналогично для интернета\n",
    "    d = a*row['rub_per_minute'] + b*row['rub_per_message'] + c*row['rub_per_gb'] + row['rub_monthly_fee']\n",
    "    return d"
   ]
  },
  {
   "cell_type": "markdown",
   "metadata": {},
   "source": [
    "Добавим новый столбец с выручкой"
   ]
  },
  {
   "cell_type": "code",
   "execution_count": 73,
   "metadata": {},
   "outputs": [],
   "source": [
    "users['income'] = users.apply(income,axis=1)"
   ]
  },
  {
   "cell_type": "markdown",
   "metadata": {},
   "source": [
    "## Анализ данных"
   ]
  },
  {
   "cell_type": "code",
   "execution_count": 74,
   "metadata": {},
   "outputs": [],
   "source": [
    "#напишем функцию для отображения сводной таблицы с информацией по средним, дисперсией и станд.отклоненим\n",
    "def pivot(df, col):\n",
    "    df_1 = \\\n",
    "    df.pivot_table(index='month',columns='tariff', values=col,aggfunc={'mean', 'var', 'std'})\n",
    "    return df_1"
   ]
  },
  {
   "cell_type": "markdown",
   "metadata": {},
   "source": [
    "### Количество минут разговора"
   ]
  },
  {
   "cell_type": "markdown",
   "metadata": {},
   "source": [
    "Найдём среднее, станд.отклонение и дисперсию для использованных минут разговора по месяцам"
   ]
  },
  {
   "cell_type": "code",
   "execution_count": 75,
   "metadata": {},
   "outputs": [
    {
     "data": {
      "text/html": [
       "<div>\n",
       "<style scoped>\n",
       "    .dataframe tbody tr th:only-of-type {\n",
       "        vertical-align: middle;\n",
       "    }\n",
       "\n",
       "    .dataframe tbody tr th {\n",
       "        vertical-align: top;\n",
       "    }\n",
       "\n",
       "    .dataframe thead tr th {\n",
       "        text-align: left;\n",
       "    }\n",
       "\n",
       "    .dataframe thead tr:last-of-type th {\n",
       "        text-align: right;\n",
       "    }\n",
       "</style>\n",
       "<table border=\"1\" class=\"dataframe\">\n",
       "  <thead>\n",
       "    <tr>\n",
       "      <th></th>\n",
       "      <th colspan=\"2\" halign=\"left\">mean</th>\n",
       "      <th colspan=\"2\" halign=\"left\">std</th>\n",
       "      <th colspan=\"2\" halign=\"left\">var</th>\n",
       "    </tr>\n",
       "    <tr>\n",
       "      <th>tariff</th>\n",
       "      <th>smart</th>\n",
       "      <th>ultra</th>\n",
       "      <th>smart</th>\n",
       "      <th>ultra</th>\n",
       "      <th>smart</th>\n",
       "      <th>ultra</th>\n",
       "    </tr>\n",
       "    <tr>\n",
       "      <th>month</th>\n",
       "      <th></th>\n",
       "      <th></th>\n",
       "      <th></th>\n",
       "      <th></th>\n",
       "      <th></th>\n",
       "      <th></th>\n",
       "    </tr>\n",
       "  </thead>\n",
       "  <tbody>\n",
       "    <tr>\n",
       "      <td>1</td>\n",
       "      <td>18.24</td>\n",
       "      <td>33.78</td>\n",
       "      <td>16.20</td>\n",
       "      <td>30.67</td>\n",
       "      <td>262.37</td>\n",
       "      <td>940.69</td>\n",
       "    </tr>\n",
       "    <tr>\n",
       "      <td>2</td>\n",
       "      <td>24.09</td>\n",
       "      <td>21.96</td>\n",
       "      <td>21.75</td>\n",
       "      <td>26.77</td>\n",
       "      <td>473.10</td>\n",
       "      <td>716.82</td>\n",
       "    </tr>\n",
       "    <tr>\n",
       "      <td>3</td>\n",
       "      <td>31.86</td>\n",
       "      <td>32.30</td>\n",
       "      <td>26.80</td>\n",
       "      <td>41.62</td>\n",
       "      <td>718.49</td>\n",
       "      <td>1,732.38</td>\n",
       "    </tr>\n",
       "    <tr>\n",
       "      <td>4</td>\n",
       "      <td>30.74</td>\n",
       "      <td>31.56</td>\n",
       "      <td>24.54</td>\n",
       "      <td>37.51</td>\n",
       "      <td>602.14</td>\n",
       "      <td>1,407.29</td>\n",
       "    </tr>\n",
       "    <tr>\n",
       "      <td>5</td>\n",
       "      <td>33.77</td>\n",
       "      <td>37.85</td>\n",
       "      <td>27.04</td>\n",
       "      <td>40.31</td>\n",
       "      <td>730.99</td>\n",
       "      <td>1,624.64</td>\n",
       "    </tr>\n",
       "    <tr>\n",
       "      <td>6</td>\n",
       "      <td>33.40</td>\n",
       "      <td>41.73</td>\n",
       "      <td>28.40</td>\n",
       "      <td>44.57</td>\n",
       "      <td>806.81</td>\n",
       "      <td>1,986.30</td>\n",
       "    </tr>\n",
       "    <tr>\n",
       "      <td>7</td>\n",
       "      <td>33.75</td>\n",
       "      <td>49.85</td>\n",
       "      <td>28.28</td>\n",
       "      <td>48.70</td>\n",
       "      <td>799.89</td>\n",
       "      <td>2,372.04</td>\n",
       "    </tr>\n",
       "    <tr>\n",
       "      <td>8</td>\n",
       "      <td>33.64</td>\n",
       "      <td>48.44</td>\n",
       "      <td>28.95</td>\n",
       "      <td>46.60</td>\n",
       "      <td>838.26</td>\n",
       "      <td>2,171.74</td>\n",
       "    </tr>\n",
       "    <tr>\n",
       "      <td>9</td>\n",
       "      <td>33.64</td>\n",
       "      <td>52.29</td>\n",
       "      <td>28.12</td>\n",
       "      <td>46.40</td>\n",
       "      <td>790.62</td>\n",
       "      <td>2,152.86</td>\n",
       "    </tr>\n",
       "    <tr>\n",
       "      <td>10</td>\n",
       "      <td>33.77</td>\n",
       "      <td>58.43</td>\n",
       "      <td>28.57</td>\n",
       "      <td>51.93</td>\n",
       "      <td>816.11</td>\n",
       "      <td>2,697.18</td>\n",
       "    </tr>\n",
       "    <tr>\n",
       "      <td>11</td>\n",
       "      <td>34.08</td>\n",
       "      <td>55.79</td>\n",
       "      <td>28.39</td>\n",
       "      <td>49.77</td>\n",
       "      <td>805.94</td>\n",
       "      <td>2,476.95</td>\n",
       "    </tr>\n",
       "    <tr>\n",
       "      <td>12</td>\n",
       "      <td>35.99</td>\n",
       "      <td>60.61</td>\n",
       "      <td>30.58</td>\n",
       "      <td>51.79</td>\n",
       "      <td>934.95</td>\n",
       "      <td>2,681.98</td>\n",
       "    </tr>\n",
       "  </tbody>\n",
       "</table>\n",
       "</div>"
      ],
      "text/plain": [
       "        mean         std          var         \n",
       "tariff smart ultra smart ultra  smart    ultra\n",
       "month                                         \n",
       "1      18.24 33.78 16.20 30.67 262.37   940.69\n",
       "2      24.09 21.96 21.75 26.77 473.10   716.82\n",
       "3      31.86 32.30 26.80 41.62 718.49 1,732.38\n",
       "4      30.74 31.56 24.54 37.51 602.14 1,407.29\n",
       "5      33.77 37.85 27.04 40.31 730.99 1,624.64\n",
       "6      33.40 41.73 28.40 44.57 806.81 1,986.30\n",
       "7      33.75 49.85 28.28 48.70 799.89 2,372.04\n",
       "8      33.64 48.44 28.95 46.60 838.26 2,171.74\n",
       "9      33.64 52.29 28.12 46.40 790.62 2,152.86\n",
       "10     33.77 58.43 28.57 51.93 816.11 2,697.18\n",
       "11     34.08 55.79 28.39 49.77 805.94 2,476.95\n",
       "12     35.99 60.61 30.58 51.79 934.95 2,681.98"
      ]
     },
     "execution_count": 75,
     "metadata": {},
     "output_type": "execute_result"
    }
   ],
   "source": [
    "pivot(users,'message_num')"
   ]
  },
  {
   "cell_type": "markdown",
   "metadata": {},
   "source": [
    "Как видим, в среднем количество использованных минут с тарифом ultra больше, чем c тарифом smart, но и разброс возле среднего для тарифа ultra больше."
   ]
  },
  {
   "cell_type": "markdown",
   "metadata": {},
   "source": [
    "### Количество сообщений"
   ]
  },
  {
   "cell_type": "markdown",
   "metadata": {},
   "source": [
    "Найдём среднее, станд.отклонение и дисперсию для отправленных сообщений по месяцам"
   ]
  },
  {
   "cell_type": "code",
   "execution_count": 76,
   "metadata": {},
   "outputs": [
    {
     "data": {
      "text/html": [
       "<div>\n",
       "<style scoped>\n",
       "    .dataframe tbody tr th:only-of-type {\n",
       "        vertical-align: middle;\n",
       "    }\n",
       "\n",
       "    .dataframe tbody tr th {\n",
       "        vertical-align: top;\n",
       "    }\n",
       "\n",
       "    .dataframe thead tr th {\n",
       "        text-align: left;\n",
       "    }\n",
       "\n",
       "    .dataframe thead tr:last-of-type th {\n",
       "        text-align: right;\n",
       "    }\n",
       "</style>\n",
       "<table border=\"1\" class=\"dataframe\">\n",
       "  <thead>\n",
       "    <tr>\n",
       "      <th></th>\n",
       "      <th colspan=\"2\" halign=\"left\">mean</th>\n",
       "      <th colspan=\"2\" halign=\"left\">std</th>\n",
       "      <th colspan=\"2\" halign=\"left\">var</th>\n",
       "    </tr>\n",
       "    <tr>\n",
       "      <th>tariff</th>\n",
       "      <th>smart</th>\n",
       "      <th>ultra</th>\n",
       "      <th>smart</th>\n",
       "      <th>ultra</th>\n",
       "      <th>smart</th>\n",
       "      <th>ultra</th>\n",
       "    </tr>\n",
       "    <tr>\n",
       "      <th>month</th>\n",
       "      <th></th>\n",
       "      <th></th>\n",
       "      <th></th>\n",
       "      <th></th>\n",
       "      <th></th>\n",
       "      <th></th>\n",
       "    </tr>\n",
       "  </thead>\n",
       "  <tbody>\n",
       "    <tr>\n",
       "      <td>1</td>\n",
       "      <td>18.24</td>\n",
       "      <td>33.78</td>\n",
       "      <td>16.20</td>\n",
       "      <td>30.67</td>\n",
       "      <td>262.37</td>\n",
       "      <td>940.69</td>\n",
       "    </tr>\n",
       "    <tr>\n",
       "      <td>2</td>\n",
       "      <td>24.09</td>\n",
       "      <td>21.96</td>\n",
       "      <td>21.75</td>\n",
       "      <td>26.77</td>\n",
       "      <td>473.10</td>\n",
       "      <td>716.82</td>\n",
       "    </tr>\n",
       "    <tr>\n",
       "      <td>3</td>\n",
       "      <td>31.86</td>\n",
       "      <td>32.30</td>\n",
       "      <td>26.80</td>\n",
       "      <td>41.62</td>\n",
       "      <td>718.49</td>\n",
       "      <td>1,732.38</td>\n",
       "    </tr>\n",
       "    <tr>\n",
       "      <td>4</td>\n",
       "      <td>30.74</td>\n",
       "      <td>31.56</td>\n",
       "      <td>24.54</td>\n",
       "      <td>37.51</td>\n",
       "      <td>602.14</td>\n",
       "      <td>1,407.29</td>\n",
       "    </tr>\n",
       "    <tr>\n",
       "      <td>5</td>\n",
       "      <td>33.77</td>\n",
       "      <td>37.85</td>\n",
       "      <td>27.04</td>\n",
       "      <td>40.31</td>\n",
       "      <td>730.99</td>\n",
       "      <td>1,624.64</td>\n",
       "    </tr>\n",
       "    <tr>\n",
       "      <td>6</td>\n",
       "      <td>33.40</td>\n",
       "      <td>41.73</td>\n",
       "      <td>28.40</td>\n",
       "      <td>44.57</td>\n",
       "      <td>806.81</td>\n",
       "      <td>1,986.30</td>\n",
       "    </tr>\n",
       "    <tr>\n",
       "      <td>7</td>\n",
       "      <td>33.75</td>\n",
       "      <td>49.85</td>\n",
       "      <td>28.28</td>\n",
       "      <td>48.70</td>\n",
       "      <td>799.89</td>\n",
       "      <td>2,372.04</td>\n",
       "    </tr>\n",
       "    <tr>\n",
       "      <td>8</td>\n",
       "      <td>33.64</td>\n",
       "      <td>48.44</td>\n",
       "      <td>28.95</td>\n",
       "      <td>46.60</td>\n",
       "      <td>838.26</td>\n",
       "      <td>2,171.74</td>\n",
       "    </tr>\n",
       "    <tr>\n",
       "      <td>9</td>\n",
       "      <td>33.64</td>\n",
       "      <td>52.29</td>\n",
       "      <td>28.12</td>\n",
       "      <td>46.40</td>\n",
       "      <td>790.62</td>\n",
       "      <td>2,152.86</td>\n",
       "    </tr>\n",
       "    <tr>\n",
       "      <td>10</td>\n",
       "      <td>33.77</td>\n",
       "      <td>58.43</td>\n",
       "      <td>28.57</td>\n",
       "      <td>51.93</td>\n",
       "      <td>816.11</td>\n",
       "      <td>2,697.18</td>\n",
       "    </tr>\n",
       "    <tr>\n",
       "      <td>11</td>\n",
       "      <td>34.08</td>\n",
       "      <td>55.79</td>\n",
       "      <td>28.39</td>\n",
       "      <td>49.77</td>\n",
       "      <td>805.94</td>\n",
       "      <td>2,476.95</td>\n",
       "    </tr>\n",
       "    <tr>\n",
       "      <td>12</td>\n",
       "      <td>35.99</td>\n",
       "      <td>60.61</td>\n",
       "      <td>30.58</td>\n",
       "      <td>51.79</td>\n",
       "      <td>934.95</td>\n",
       "      <td>2,681.98</td>\n",
       "    </tr>\n",
       "  </tbody>\n",
       "</table>\n",
       "</div>"
      ],
      "text/plain": [
       "        mean         std          var         \n",
       "tariff smart ultra smart ultra  smart    ultra\n",
       "month                                         \n",
       "1      18.24 33.78 16.20 30.67 262.37   940.69\n",
       "2      24.09 21.96 21.75 26.77 473.10   716.82\n",
       "3      31.86 32.30 26.80 41.62 718.49 1,732.38\n",
       "4      30.74 31.56 24.54 37.51 602.14 1,407.29\n",
       "5      33.77 37.85 27.04 40.31 730.99 1,624.64\n",
       "6      33.40 41.73 28.40 44.57 806.81 1,986.30\n",
       "7      33.75 49.85 28.28 48.70 799.89 2,372.04\n",
       "8      33.64 48.44 28.95 46.60 838.26 2,171.74\n",
       "9      33.64 52.29 28.12 46.40 790.62 2,152.86\n",
       "10     33.77 58.43 28.57 51.93 816.11 2,697.18\n",
       "11     34.08 55.79 28.39 49.77 805.94 2,476.95\n",
       "12     35.99 60.61 30.58 51.79 934.95 2,681.98"
      ]
     },
     "execution_count": 76,
     "metadata": {},
     "output_type": "execute_result"
    }
   ],
   "source": [
    "pivot(users,'message_num')"
   ]
  },
  {
   "cell_type": "markdown",
   "metadata": {},
   "source": [
    "С февраля по май средние значения по тарифам не сильно отличаются, в остальные месяцы с тарифом ultra отправляется в среднем больше сообщений."
   ]
  },
  {
   "cell_type": "markdown",
   "metadata": {},
   "source": [
    "### Объем интернет-трафика"
   ]
  },
  {
   "cell_type": "code",
   "execution_count": 77,
   "metadata": {},
   "outputs": [
    {
     "data": {
      "text/html": [
       "<div>\n",
       "<style scoped>\n",
       "    .dataframe tbody tr th:only-of-type {\n",
       "        vertical-align: middle;\n",
       "    }\n",
       "\n",
       "    .dataframe tbody tr th {\n",
       "        vertical-align: top;\n",
       "    }\n",
       "\n",
       "    .dataframe thead tr th {\n",
       "        text-align: left;\n",
       "    }\n",
       "\n",
       "    .dataframe thead tr:last-of-type th {\n",
       "        text-align: right;\n",
       "    }\n",
       "</style>\n",
       "<table border=\"1\" class=\"dataframe\">\n",
       "  <thead>\n",
       "    <tr>\n",
       "      <th></th>\n",
       "      <th colspan=\"2\" halign=\"left\">mean</th>\n",
       "      <th colspan=\"2\" halign=\"left\">std</th>\n",
       "      <th colspan=\"2\" halign=\"left\">var</th>\n",
       "    </tr>\n",
       "    <tr>\n",
       "      <th>tariff</th>\n",
       "      <th>smart</th>\n",
       "      <th>ultra</th>\n",
       "      <th>smart</th>\n",
       "      <th>ultra</th>\n",
       "      <th>smart</th>\n",
       "      <th>ultra</th>\n",
       "    </tr>\n",
       "    <tr>\n",
       "      <th>month</th>\n",
       "      <th></th>\n",
       "      <th></th>\n",
       "      <th></th>\n",
       "      <th></th>\n",
       "      <th></th>\n",
       "      <th></th>\n",
       "    </tr>\n",
       "  </thead>\n",
       "  <tbody>\n",
       "    <tr>\n",
       "      <td>1</td>\n",
       "      <td>8.74</td>\n",
       "      <td>13.22</td>\n",
       "      <td>6.28</td>\n",
       "      <td>6.67</td>\n",
       "      <td>39.41</td>\n",
       "      <td>44.44</td>\n",
       "    </tr>\n",
       "    <tr>\n",
       "      <td>2</td>\n",
       "      <td>11.84</td>\n",
       "      <td>12.00</td>\n",
       "      <td>6.10</td>\n",
       "      <td>10.45</td>\n",
       "      <td>37.15</td>\n",
       "      <td>109.13</td>\n",
       "    </tr>\n",
       "    <tr>\n",
       "      <td>3</td>\n",
       "      <td>15.23</td>\n",
       "      <td>17.65</td>\n",
       "      <td>5.71</td>\n",
       "      <td>10.69</td>\n",
       "      <td>32.55</td>\n",
       "      <td>114.35</td>\n",
       "    </tr>\n",
       "    <tr>\n",
       "      <td>4</td>\n",
       "      <td>13.62</td>\n",
       "      <td>16.96</td>\n",
       "      <td>5.59</td>\n",
       "      <td>9.46</td>\n",
       "      <td>31.30</td>\n",
       "      <td>89.44</td>\n",
       "    </tr>\n",
       "    <tr>\n",
       "      <td>5</td>\n",
       "      <td>15.91</td>\n",
       "      <td>19.37</td>\n",
       "      <td>5.86</td>\n",
       "      <td>9.78</td>\n",
       "      <td>34.37</td>\n",
       "      <td>95.63</td>\n",
       "    </tr>\n",
       "    <tr>\n",
       "      <td>6</td>\n",
       "      <td>15.95</td>\n",
       "      <td>18.94</td>\n",
       "      <td>5.65</td>\n",
       "      <td>9.08</td>\n",
       "      <td>31.91</td>\n",
       "      <td>82.39</td>\n",
       "    </tr>\n",
       "    <tr>\n",
       "      <td>7</td>\n",
       "      <td>15.88</td>\n",
       "      <td>20.51</td>\n",
       "      <td>5.78</td>\n",
       "      <td>9.82</td>\n",
       "      <td>33.42</td>\n",
       "      <td>96.43</td>\n",
       "    </tr>\n",
       "    <tr>\n",
       "      <td>8</td>\n",
       "      <td>16.74</td>\n",
       "      <td>19.60</td>\n",
       "      <td>5.48</td>\n",
       "      <td>10.25</td>\n",
       "      <td>30.04</td>\n",
       "      <td>105.15</td>\n",
       "    </tr>\n",
       "    <tr>\n",
       "      <td>9</td>\n",
       "      <td>16.39</td>\n",
       "      <td>19.24</td>\n",
       "      <td>5.09</td>\n",
       "      <td>9.29</td>\n",
       "      <td>25.88</td>\n",
       "      <td>86.26</td>\n",
       "    </tr>\n",
       "    <tr>\n",
       "      <td>10</td>\n",
       "      <td>16.88</td>\n",
       "      <td>20.07</td>\n",
       "      <td>5.74</td>\n",
       "      <td>9.55</td>\n",
       "      <td>32.90</td>\n",
       "      <td>91.26</td>\n",
       "    </tr>\n",
       "    <tr>\n",
       "      <td>11</td>\n",
       "      <td>17.00</td>\n",
       "      <td>19.81</td>\n",
       "      <td>5.21</td>\n",
       "      <td>9.68</td>\n",
       "      <td>27.18</td>\n",
       "      <td>93.80</td>\n",
       "    </tr>\n",
       "    <tr>\n",
       "      <td>12</td>\n",
       "      <td>18.20</td>\n",
       "      <td>21.74</td>\n",
       "      <td>5.46</td>\n",
       "      <td>10.16</td>\n",
       "      <td>29.79</td>\n",
       "      <td>103.24</td>\n",
       "    </tr>\n",
       "  </tbody>\n",
       "</table>\n",
       "</div>"
      ],
      "text/plain": [
       "        mean         std         var       \n",
       "tariff smart ultra smart ultra smart  ultra\n",
       "month                                      \n",
       "1       8.74 13.22  6.28  6.67 39.41  44.44\n",
       "2      11.84 12.00  6.10 10.45 37.15 109.13\n",
       "3      15.23 17.65  5.71 10.69 32.55 114.35\n",
       "4      13.62 16.96  5.59  9.46 31.30  89.44\n",
       "5      15.91 19.37  5.86  9.78 34.37  95.63\n",
       "6      15.95 18.94  5.65  9.08 31.91  82.39\n",
       "7      15.88 20.51  5.78  9.82 33.42  96.43\n",
       "8      16.74 19.60  5.48 10.25 30.04 105.15\n",
       "9      16.39 19.24  5.09  9.29 25.88  86.26\n",
       "10     16.88 20.07  5.74  9.55 32.90  91.26\n",
       "11     17.00 19.81  5.21  9.68 27.18  93.80\n",
       "12     18.20 21.74  5.46 10.16 29.79 103.24"
      ]
     },
     "execution_count": 77,
     "metadata": {},
     "output_type": "execute_result"
    }
   ],
   "source": [
    "pivot(users,'internet_sum')"
   ]
  },
  {
   "cell_type": "markdown",
   "metadata": {},
   "source": [
    "В январе между тарифами самый большой разрыв и по звонкам, и по сообщеиям, и по трафику, а вот в феврале разрыв наименьший."
   ]
  },
  {
   "cell_type": "markdown",
   "metadata": {},
   "source": [
    "### Гистограммы"
   ]
  },
  {
   "cell_type": "markdown",
   "metadata": {},
   "source": [
    "Построим гистограммы для минут разговора, количества сообщений и интернет-трафика для каждого тарифа."
   ]
  },
  {
   "cell_type": "code",
   "execution_count": 78,
   "metadata": {},
   "outputs": [
    {
     "data": {
      "image/png": "[encoded data removed]",
      "text/plain": [
       "<Figure size 1296x360 with 3 Axes>"
      ]
     },
     "metadata": {
      "needs_background": "light"
     },
     "output_type": "display_data"
    },
    {
     "data": {
      "image/png": "[encoded data removed]",
      "text/plain": [
       "<Figure size 1296x360 with 3 Axes>"
      ]
     },
     "metadata": {
      "needs_background": "light"
     },
     "output_type": "display_data"
    },
    {
     "data": {
      "image/png": "[encoded data removed]",
      "text/plain": [
       "<Figure size 1296x360 with 3 Axes>"
      ]
     },
     "metadata": {
      "needs_background": "light"
     },
     "output_type": "display_data"
    },
    {
     "data": {
      "image/png": "[encoded data removed]",
      "text/plain": [
       "<Figure size 1296x360 with 3 Axes>"
      ]
     },
     "metadata": {
      "needs_background": "light"
     },
     "output_type": "display_data"
    },
    {
     "data": {
      "image/png": "[encoded data removed]",
      "text/plain": [
       "<Figure size 1296x360 with 3 Axes>"
      ]
     },
     "metadata": {
      "needs_background": "light"
     },
     "output_type": "display_data"
    },
    {
     "data": {
      "image/png": "[encoded data removed]",
      "text/plain": [
       "<Figure size 1296x360 with 3 Axes>"
      ]
     },
     "metadata": {
      "needs_background": "light"
     },
     "output_type": "display_data"
    },
    {
     "data": {
      "image/png": "[encoded data removed]",
      "text/plain": [
       "<Figure size 1296x360 with 3 Axes>"
      ]
     },
     "metadata": {
      "needs_background": "light"
     },
     "output_type": "display_data"
    },
    {
     "data": {
      "image/png": "[encoded data removed]",
      "text/plain": [
       "<Figure size 1296x360 with 3 Axes>"
      ]
     },
     "metadata": {
      "needs_background": "light"
     },
     "output_type": "display_data"
    },
    {
     "data": {
      "image/png": "[encoded data removed]",
      "text/plain": [
       "<Figure size 1296x360 with 3 Axes>"
      ]
     },
     "metadata": {
      "needs_background": "light"
     },
     "output_type": "display_data"
    },
    {
     "data": {
      "image/png": "[encoded data removed]",
      "text/plain": [
       "<Figure size 1296x360 with 3 Axes>"
      ]
     },
     "metadata": {
      "needs_background": "light"
     },
     "output_type": "display_data"
    },
    {
     "data": {
      "image/png": "[encoded data removed]",
      "text/plain": [
       "<Figure size 1296x360 with 3 Axes>"
      ]
     },
     "metadata": {
      "needs_background": "light"
     },
     "output_type": "display_data"
    },
    {
     "data": {
      "image/png": "[encoded data removed]",
      "text/plain": [
       "<Figure size 1296x360 with 3 Axes>"
      ]
     },
     "metadata": {
      "needs_background": "light"
     },
     "output_type": "display_data"
    }
   ],
   "source": [
    "#создадим цикл для построения гистограмм для каждого месяца.\n",
    "for row in range(12):\n",
    "    fig, axes = plt.subplots(1, 3,figsize=(18, 5))\n",
    "    month = row + 1  \n",
    "    fig.suptitle(month)\n",
    "    \n",
    "    df1 = users.query('month == @month & tariff == \"smart\"') #данные по пользователям тарифа смарт в определенном месяце\n",
    "    df2 = users.query('month == @month & tariff == \"ultra\"') #данные по пользователям тарифа ультра в определенном месяце\n",
    "\n",
    "    #строим гистограммы для минут разговора\n",
    "    df1.plot(y = 'call_sum', kind='hist', bins=50, ax = axes[0],label='smart',histtype='step').\\\n",
    "    set(xlabel='минуты разговора')\n",
    "    df2.plot(y = 'call_sum', kind='hist', bins=50, ax = axes[0],label='ultra',histtype='step')\n",
    "    \n",
    "    #строим гистограммы для количества сообщений\n",
    "    df1.plot(y = 'message_num', kind='hist', bins=50, ax = axes[1],label='smart',histtype='step').set(xlabel='число сообщений')\n",
    "    df2.plot(y = 'message_num', kind='hist', bins=50, ax = axes[1],label='ultra',histtype='step')\n",
    "    \n",
    "    #строим гистограммы для интернет-трафика\n",
    "    df1.plot(y = 'internet_sum', kind='hist', bins=50, ax = axes[2],label='smart',histtype='step').set(xlabel='интернет-трафик')\n",
    "    df2.plot(y = 'internet_sum', kind='hist', bins=50, ax = axes[2],label='ultra',histtype='step')"
   ]
  },
  {
   "cell_type": "markdown",
   "metadata": {},
   "source": [
    "По гистограммам можем сделать вывод, что тариф смарт был более популерен, чем ультра, кроме этого в январе -феврале пользователи мало ипользовали телефон."
   ]
  },
  {
   "cell_type": "markdown",
   "metadata": {},
   "source": [
    "Посмотрим на гистограммы без привязки к месяцам."
   ]
  },
  {
   "cell_type": "code",
   "execution_count": 79,
   "metadata": {},
   "outputs": [
    {
     "data": {
      "text/plain": [
       "<matplotlib.axes._subplots.AxesSubplot at 0x7f7865d4b490>"
      ]
     },
     "execution_count": 79,
     "metadata": {},
     "output_type": "execute_result"
    },
    {
     "data": {
      "image/png": "[encoded data removed]",
      "text/plain": [
       "<Figure size 1296x360 with 3 Axes>"
      ]
     },
     "metadata": {
      "needs_background": "light"
     },
     "output_type": "display_data"
    }
   ],
   "source": [
    "fig, axes = plt.subplots(1, 3,figsize=(18, 5))\n",
    "  \n",
    "users_smart = users.query('tariff == \"smart\"') #все данные по пользователям тарифа smart\n",
    "users_ultra = users.query('tariff == \"ultra\"') #все данные по пользователям тарифа ultra\n",
    "\n",
    "#строим гистограммы для минут разговора\n",
    "users_smart.plot(y = 'call_sum', kind='hist', bins=50, ax = axes[0],label='smart',histtype='step').\\\n",
    "set(xlabel='минуты разговора')\n",
    "users_ultra.plot(y = 'call_sum', kind='hist', bins=50, ax = axes[0],label='ultra',histtype='step')\n",
    "    \n",
    "#строим гистограммы для количества сообщений\n",
    "users_smart.plot(y = 'message_num', kind='hist', bins=50, ax = axes[1],label='smart',histtype='step').set(xlabel='число сообщений')\n",
    "users_ultra.plot(y = 'message_num', kind='hist', bins=50, ax = axes[1],label='ultra',histtype='step')\n",
    "    \n",
    "#строим гистограммы для интернет-трафика\n",
    "users_smart.plot(y = 'internet_sum', kind='hist', bins=50, ax = axes[2],label='smart',histtype='step').set(xlabel='интернет-трафик')\n",
    "users_ultra.plot(y = 'internet_sum', kind='hist', bins=50, ax = axes[2],label='ultra',histtype='step')"
   ]
  },
  {
   "cell_type": "markdown",
   "metadata": {},
   "source": [
    "Для данных интернет-трафика характерно нормальное распределение, для числа сообщений -распределение Пуассона, а вот данные по продолжительности разговора  скошены вправо. "
   ]
  },
  {
   "cell_type": "markdown",
   "metadata": {},
   "source": [
    "## Проверка гипотез"
   ]
  },
  {
   "cell_type": "markdown",
   "metadata": {},
   "source": [
    "### Гипотеза 1"
   ]
  },
  {
   "cell_type": "markdown",
   "metadata": {},
   "source": [
    "#### Двусторонняя гипотеза"
   ]
  },
  {
   "cell_type": "markdown",
   "metadata": {},
   "source": [
    "**Средняя выручка пользователей тарифов «Ультра» и «Смарт» различаются.**"
   ]
  },
  {
   "cell_type": "markdown",
   "metadata": {},
   "source": [
    "**Нулевая гипотеза H₀**: *средняя выручка пользователей тарифа «Ультра» равна средней выручке пользователей тарифа «Смарт».*\n",
    "\n",
    "**Альтернативная гипотеза H₁**: *средняя выручка пользователей тарифа «Ультра» не равна средней выручке пользователей тарифа «Смарт»*"
   ]
  },
  {
   "cell_type": "code",
   "execution_count": 80,
   "metadata": {},
   "outputs": [],
   "source": [
    "alpha = 0.05  # критический уровень статистической значимости"
   ]
  },
  {
   "cell_type": "markdown",
   "metadata": {},
   "source": [
    "Чтобы проверить гипотезу о средних воспользуемся t-тестом."
   ]
  },
  {
   "cell_type": "code",
   "execution_count": 81,
   "metadata": {},
   "outputs": [],
   "source": [
    "results = st.ttest_ind(users_smart['income'], users_ultra['income'])"
   ]
  },
  {
   "cell_type": "code",
   "execution_count": 82,
   "metadata": {},
   "outputs": [
    {
     "name": "stdout",
     "output_type": "stream",
     "text": [
      "p-значение: 0.0\n",
      "Отвергаем нулевую гипотезу\n"
     ]
    }
   ],
   "source": [
    "print('p-значение:', round(results.pvalue,7))\n",
    "\n",
    "if results.pvalue < alpha:\n",
    "    print('Отвергаем нулевую гипотезу')\n",
    "else:\n",
    "    print('Не получилось отвергнуть нулевую гипотезу') "
   ]
  },
  {
   "cell_type": "markdown",
   "metadata": {},
   "source": [
    "**Вывод:** Нулевую гипотезу отвергаем, т.е. средняя выручка пользователей тарифа «Ультра» не равна средней выручке пользователей тарифа «Смарт»."
   ]
  },
  {
   "cell_type": "markdown",
   "metadata": {},
   "source": [
    "#### Односторонняя гипотеза"
   ]
  },
  {
   "cell_type": "markdown",
   "metadata": {},
   "source": [
    "Теперь вспомним, что для целей коммерческого департамента необходимо ответить на вопрос, какой тариф приносит больше денег. "
   ]
  },
  {
   "cell_type": "markdown",
   "metadata": {},
   "source": [
    "Посмотрим на средние данных выборок."
   ]
  },
  {
   "cell_type": "code",
   "execution_count": 83,
   "metadata": {},
   "outputs": [
    {
     "name": "stdout",
     "output_type": "stream",
     "text": [
      "1023.0\n"
     ]
    }
   ],
   "source": [
    "print(users_smart['income'].median())"
   ]
  },
  {
   "cell_type": "code",
   "execution_count": 84,
   "metadata": {},
   "outputs": [
    {
     "name": "stdout",
     "output_type": "stream",
     "text": [
      "1950.0\n"
     ]
    }
   ],
   "source": [
    "print(users_ultra['income'].median())"
   ]
  },
  {
   "cell_type": "markdown",
   "metadata": {},
   "source": [
    "Исходя из полученных значений формулируем нулевую и альтернативную гипотезы."
   ]
  },
  {
   "cell_type": "markdown",
   "metadata": {},
   "source": [
    "**Нулевая гипотеза H₀**: *средняя выручка пользователей тарифа «Ультра» равна средней выручке пользователей тарифа «Смарт».*\n",
    "\n",
    "**Альтернативная гипотеза H₁**: *средняя выручка пользователей тарифа «Ультра» больше средней выручки пользователей тарифа «Смарт» (больше 1023)*"
   ]
  },
  {
   "cell_type": "markdown",
   "metadata": {},
   "source": [
    "Чтобы проверить гипотезу о средних воспользуемся t-тестом."
   ]
  },
  {
   "cell_type": "code",
   "execution_count": 85,
   "metadata": {},
   "outputs": [],
   "source": [
    "alpha = 0.05 # критический уровень статистической значимости\n"
   ]
  },
  {
   "cell_type": "code",
   "execution_count": 86,
   "metadata": {},
   "outputs": [],
   "source": [
    "level = 1023"
   ]
  },
  {
   "cell_type": "code",
   "execution_count": 87,
   "metadata": {},
   "outputs": [],
   "source": [
    "results_1 = st.ttest_1samp(users_ultra['income'], level)"
   ]
  },
  {
   "cell_type": "code",
   "execution_count": 88,
   "metadata": {},
   "outputs": [
    {
     "name": "stdout",
     "output_type": "stream",
     "text": [
      "p-значение:  0.0\n",
      "Отвергаем нулевую гипотезу\n"
     ]
    }
   ],
   "source": [
    "print('p-значение: ', results_1.pvalue / 2)\n",
    "if (results_1.pvalue / 2 < alpha) and (users_ultra['income'].median() > level):\n",
    "    print(\"Отвергаем нулевую гипотезу\")\n",
    "else:\n",
    "    print(\"Не получилось отвергнуть нулевую гипотезу\") "
   ]
  },
  {
   "cell_type": "markdown",
   "metadata": {},
   "source": [
    "**Вывод**: Принимаем гипотезу, что средняя выручка по тарифу ультра больше средней выручки по тарифу смарт. "
   ]
  },
  {
   "cell_type": "markdown",
   "metadata": {},
   "source": [
    "### Гипотеза 2"
   ]
  },
  {
   "cell_type": "markdown",
   "metadata": {},
   "source": [
    "**Средняя выручка по пользователям из Москвы отличается от выручки по пользователям из других регионов.**"
   ]
  },
  {
   "cell_type": "markdown",
   "metadata": {},
   "source": [
    "**Нулевая гипотеза H₀**: *средняя выручка по пользователям из Москвы равна средней выручке по пользователям из других регионов.*"
   ]
  },
  {
   "cell_type": "markdown",
   "metadata": {},
   "source": [
    "**Альтернативная гипотеза H₁**: *средняя выручка по пользователям из Москвы  не равна средней выручке по пользователям из других регионов.*"
   ]
  },
  {
   "cell_type": "code",
   "execution_count": 89,
   "metadata": {},
   "outputs": [],
   "source": [
    "users_capital = users.query('city == \"Москва\"') #все данные по пользователям из Москвы"
   ]
  },
  {
   "cell_type": "code",
   "execution_count": 90,
   "metadata": {},
   "outputs": [],
   "source": [
    "users_other = users.query('city != \"Москва\"') #все данные по пользователям из других регионов"
   ]
  },
  {
   "cell_type": "markdown",
   "metadata": {},
   "source": [
    "Чтобы проверить гипотезу о средних воспользуемся t-тестом."
   ]
  },
  {
   "cell_type": "code",
   "execution_count": 91,
   "metadata": {},
   "outputs": [],
   "source": [
    "results_city = st.ttest_ind(users_capital['income'], users_other['income'])"
   ]
  },
  {
   "cell_type": "code",
   "execution_count": 92,
   "metadata": {},
   "outputs": [],
   "source": [
    "alpha = 0.05  # критический уровень статистической значимости"
   ]
  },
  {
   "cell_type": "code",
   "execution_count": 93,
   "metadata": {},
   "outputs": [
    {
     "name": "stdout",
     "output_type": "stream",
     "text": [
      "p-значение: 0.5440153\n",
      "Не получилось отвергнуть нулевую гипотезу\n"
     ]
    }
   ],
   "source": [
    "print('p-значение:', round(results_city.pvalue,7))\n",
    "\n",
    "if results_city.pvalue < alpha:\n",
    "    print('Отвергаем нулевую гипотезу')\n",
    "else:\n",
    "    print('Не получилось отвергнуть нулевую гипотезу') "
   ]
  },
  {
   "cell_type": "code",
   "execution_count": 94,
   "metadata": {},
   "outputs": [
    {
     "name": "stdout",
     "output_type": "stream",
     "text": [
      "1750.0\n"
     ]
    }
   ],
   "source": [
    "print(users_capital['income'].median()) #средняя выручка по пользователям из Москвы"
   ]
  },
  {
   "cell_type": "code",
   "execution_count": 95,
   "metadata": {},
   "outputs": [
    {
     "name": "stdout",
     "output_type": "stream",
     "text": [
      "1583.0\n"
     ]
    }
   ],
   "source": [
    "print(users_other['income'].median()) #средняя выручка по пользователям из других регионов."
   ]
  },
  {
   "cell_type": "markdown",
   "metadata": {},
   "source": [
    "**Вывод:** Хотя средняя выручка по пользователям из Москвы и пользователям из других регионов различается, полученное значение p-value означает, что с вероятностью 54% такое различие можно получить случайно, т.е. мы не можем отвергнуть гипотезу о равенстве средней выручки по пользователям из Москвы и средней выручки по пользователям из других регионов. "
   ]
  },
  {
   "cell_type": "markdown",
   "metadata": {},
   "source": [
    "## Общий вывод"
   ]
  },
  {
   "cell_type": "markdown",
   "metadata": {},
   "source": [
    "Предварительный анализ тарифов на небольшой выборке клиентов показал, что тарифом смарт пользуются чаще, но в среднем по тарифу ультра выручка больше. Также утверждать, что средняя выручка по клиентам из города Москвы отличается от средней выручки из других регионов по данной выборке нельзя."
   ]
  }
 ],
 "metadata": {
  "ExecuteTimeLog": [
   {
    "duration": 782,
    "start_time": "2021-08-19T16:45:24.654Z"
   },
   {
    "duration": 120,
    "start_time": "2021-08-19T16:45:37.005Z"
   },
   {
    "duration": 515,
    "start_time": "2021-08-19T16:49:47.605Z"
   },
   {
    "duration": 4,
    "start_time": "2021-08-19T16:49:48.357Z"
   },
   {
    "duration": 4,
    "start_time": "2021-08-19T16:49:49.077Z"
   },
   {
    "duration": 4,
    "start_time": "2021-08-19T16:49:49.734Z"
   },
   {
    "duration": 32,
    "start_time": "2021-08-19T17:04:57.919Z"
   },
   {
    "duration": 212,
    "start_time": "2021-08-19T17:04:58.830Z"
   },
   {
    "duration": 125,
    "start_time": "2021-08-19T17:04:59.453Z"
   },
   {
    "duration": 197,
    "start_time": "2021-08-19T17:05:00.112Z"
   },
   {
    "duration": 20,
    "start_time": "2021-08-19T17:05:00.749Z"
   },
   {
    "duration": 32,
    "start_time": "2021-08-19T17:06:54.338Z"
   },
   {
    "duration": 26,
    "start_time": "2021-08-19T17:07:27.361Z"
   },
   {
    "duration": 20,
    "start_time": "2021-08-19T17:15:39.591Z"
   },
   {
    "duration": 18,
    "start_time": "2021-08-19T17:18:08.532Z"
   },
   {
    "duration": 10,
    "start_time": "2021-08-19T17:18:22.275Z"
   },
   {
    "duration": 29,
    "start_time": "2021-08-19T17:39:22.438Z"
   },
   {
    "duration": 18,
    "start_time": "2021-08-19T17:40:22.288Z"
   },
   {
    "duration": 10,
    "start_time": "2021-08-19T17:40:24.463Z"
   },
   {
    "duration": 4,
    "start_time": "2021-08-19T17:45:48.659Z"
   },
   {
    "duration": 121,
    "start_time": "2021-08-19T17:46:41.047Z"
   },
   {
    "duration": 15,
    "start_time": "2021-08-19T17:47:10.317Z"
   },
   {
    "duration": 28,
    "start_time": "2021-08-19T17:47:36.171Z"
   },
   {
    "duration": 180,
    "start_time": "2021-08-19T17:49:58.220Z"
   },
   {
    "duration": 19,
    "start_time": "2021-08-19T17:50:18.051Z"
   },
   {
    "duration": 23,
    "start_time": "2021-08-19T17:50:37.681Z"
   },
   {
    "duration": 20,
    "start_time": "2021-08-19T17:54:55.199Z"
   },
   {
    "duration": 1136,
    "start_time": "2021-08-19T17:55:17.400Z"
   },
   {
    "duration": 11,
    "start_time": "2021-08-19T17:56:18.681Z"
   },
   {
    "duration": 10,
    "start_time": "2021-08-19T17:56:45.628Z"
   },
   {
    "duration": 3,
    "start_time": "2021-08-19T18:23:41.828Z"
   },
   {
    "duration": 8,
    "start_time": "2021-08-19T18:25:06.652Z"
   },
   {
    "duration": 10,
    "start_time": "2021-08-19T18:25:16.230Z"
   },
   {
    "duration": 7,
    "start_time": "2021-08-19T18:25:41.745Z"
   },
   {
    "duration": 10,
    "start_time": "2021-08-19T18:25:43.360Z"
   },
   {
    "duration": 4,
    "start_time": "2021-08-19T18:32:03.417Z"
   },
   {
    "duration": 4,
    "start_time": "2021-08-19T18:32:03.865Z"
   },
   {
    "duration": 4,
    "start_time": "2021-08-19T18:32:04.278Z"
   },
   {
    "duration": 4,
    "start_time": "2021-08-19T18:32:04.681Z"
   },
   {
    "duration": 4,
    "start_time": "2021-08-19T18:32:05.115Z"
   },
   {
    "duration": 30,
    "start_time": "2021-08-19T18:32:06.393Z"
   },
   {
    "duration": 18,
    "start_time": "2021-08-19T18:32:06.739Z"
   },
   {
    "duration": 10,
    "start_time": "2021-08-19T18:32:07.081Z"
   },
   {
    "duration": 204,
    "start_time": "2021-08-19T18:32:08.209Z"
   },
   {
    "duration": 19,
    "start_time": "2021-08-19T18:32:08.531Z"
   },
   {
    "duration": 27,
    "start_time": "2021-08-19T18:32:08.837Z"
   },
   {
    "duration": 122,
    "start_time": "2021-08-19T18:32:09.641Z"
   },
   {
    "duration": 18,
    "start_time": "2021-08-19T18:32:09.903Z"
   },
   {
    "duration": 20,
    "start_time": "2021-08-19T18:32:10.201Z"
   },
   {
    "duration": 243,
    "start_time": "2021-08-19T18:32:11.132Z"
   },
   {
    "duration": 18,
    "start_time": "2021-08-19T18:32:11.506Z"
   },
   {
    "duration": 25,
    "start_time": "2021-08-19T18:32:11.849Z"
   },
   {
    "duration": 19,
    "start_time": "2021-08-19T18:32:13.537Z"
   },
   {
    "duration": 11,
    "start_time": "2021-08-19T18:32:14.090Z"
   },
   {
    "duration": 10,
    "start_time": "2021-08-19T18:32:14.761Z"
   },
   {
    "duration": 9,
    "start_time": "2021-08-19T18:32:21.506Z"
   },
   {
    "duration": 6,
    "start_time": "2021-08-19T18:32:23.441Z"
   },
   {
    "duration": 14,
    "start_time": "2021-08-19T18:32:24.594Z"
   },
   {
    "duration": 2834,
    "start_time": "2021-08-19T18:32:34.121Z"
   },
   {
    "duration": 6,
    "start_time": "2021-08-19T18:33:05.755Z"
   },
   {
    "duration": 11,
    "start_time": "2021-08-19T18:33:06.604Z"
   },
   {
    "duration": 2749,
    "start_time": "2021-08-19T18:33:08.139Z"
   },
   {
    "duration": 7,
    "start_time": "2021-08-19T18:34:02.740Z"
   },
   {
    "duration": 2620,
    "start_time": "2021-08-19T18:34:03.324Z"
   },
   {
    "duration": 4,
    "start_time": "2021-08-19T18:34:29.756Z"
   },
   {
    "duration": 12,
    "start_time": "2021-08-19T18:34:29.762Z"
   },
   {
    "duration": 6,
    "start_time": "2021-08-19T18:34:29.777Z"
   },
   {
    "duration": 10,
    "start_time": "2021-08-19T18:34:29.786Z"
   },
   {
    "duration": 10,
    "start_time": "2021-08-19T18:34:29.799Z"
   },
   {
    "duration": 32,
    "start_time": "2021-08-19T18:34:29.813Z"
   },
   {
    "duration": 18,
    "start_time": "2021-08-19T18:34:29.847Z"
   },
   {
    "duration": 16,
    "start_time": "2021-08-19T18:34:29.868Z"
   },
   {
    "duration": 228,
    "start_time": "2021-08-19T18:34:29.888Z"
   },
   {
    "duration": 18,
    "start_time": "2021-08-19T18:34:30.119Z"
   },
   {
    "duration": 28,
    "start_time": "2021-08-19T18:34:30.154Z"
   },
   {
    "duration": 134,
    "start_time": "2021-08-19T18:34:30.184Z"
   },
   {
    "duration": 18,
    "start_time": "2021-08-19T18:34:30.320Z"
   },
   {
    "duration": 22,
    "start_time": "2021-08-19T18:34:30.356Z"
   },
   {
    "duration": 279,
    "start_time": "2021-08-19T18:34:30.381Z"
   },
   {
    "duration": 22,
    "start_time": "2021-08-19T18:34:30.663Z"
   },
   {
    "duration": 25,
    "start_time": "2021-08-19T18:34:30.687Z"
   },
   {
    "duration": 45,
    "start_time": "2021-08-19T18:34:30.715Z"
   },
   {
    "duration": 35,
    "start_time": "2021-08-19T18:34:30.763Z"
   },
   {
    "duration": 23,
    "start_time": "2021-08-19T18:34:30.801Z"
   },
   {
    "duration": 38,
    "start_time": "2021-08-19T18:34:30.827Z"
   },
   {
    "duration": 5,
    "start_time": "2021-08-19T18:34:33.237Z"
   },
   {
    "duration": 10,
    "start_time": "2021-08-19T18:34:34.034Z"
   },
   {
    "duration": 10,
    "start_time": "2021-08-19T18:34:38.562Z"
   },
   {
    "duration": 12,
    "start_time": "2021-08-19T18:35:30.393Z"
   },
   {
    "duration": 2700,
    "start_time": "2021-08-19T18:35:31.279Z"
   },
   {
    "duration": 637,
    "start_time": "2021-08-19T18:35:33.345Z"
   },
   {
    "duration": 102,
    "start_time": "2021-08-19T18:36:15.033Z"
   },
   {
    "duration": 2684,
    "start_time": "2021-08-19T18:36:16.378Z"
   },
   {
    "duration": 7,
    "start_time": "2021-08-19T18:36:35.066Z"
   },
   {
    "duration": 2594,
    "start_time": "2021-08-19T18:36:35.906Z"
   },
   {
    "duration": 655,
    "start_time": "2021-08-19T18:36:37.847Z"
   },
   {
    "duration": 7,
    "start_time": "2021-08-19T18:36:58.300Z"
   },
   {
    "duration": 2719,
    "start_time": "2021-08-19T18:36:59.732Z"
   },
   {
    "duration": 351,
    "start_time": "2021-08-19T18:37:49.940Z"
   },
   {
    "duration": 336,
    "start_time": "2021-08-19T18:41:34.478Z"
   },
   {
    "duration": 456,
    "start_time": "2021-08-19T18:45:45.238Z"
   },
   {
    "duration": 6,
    "start_time": "2021-08-19T18:45:57.239Z"
   },
   {
    "duration": 4765,
    "start_time": "2021-08-19T18:47:41.794Z"
   },
   {
    "duration": 2894,
    "start_time": "2021-08-19T18:47:46.859Z"
   },
   {
    "duration": 10,
    "start_time": "2021-08-19T18:48:27.845Z"
   },
   {
    "duration": 692,
    "start_time": "2021-08-19T18:49:47.619Z"
   },
   {
    "duration": 6,
    "start_time": "2021-08-19T18:49:58.765Z"
   },
   {
    "duration": 4,
    "start_time": "2021-08-19T18:50:13.541Z"
   },
   {
    "duration": 12,
    "start_time": "2021-08-19T18:50:13.549Z"
   },
   {
    "duration": 6,
    "start_time": "2021-08-19T18:50:13.564Z"
   },
   {
    "duration": 8,
    "start_time": "2021-08-19T18:50:13.573Z"
   },
   {
    "duration": 9,
    "start_time": "2021-08-19T18:50:13.583Z"
   },
   {
    "duration": 34,
    "start_time": "2021-08-19T18:50:13.595Z"
   },
   {
    "duration": 24,
    "start_time": "2021-08-19T18:50:13.632Z"
   },
   {
    "duration": 12,
    "start_time": "2021-08-19T18:50:13.660Z"
   },
   {
    "duration": 212,
    "start_time": "2021-08-19T18:50:13.675Z"
   },
   {
    "duration": 19,
    "start_time": "2021-08-19T18:50:13.890Z"
   },
   {
    "duration": 49,
    "start_time": "2021-08-19T18:50:13.911Z"
   },
   {
    "duration": 118,
    "start_time": "2021-08-19T18:50:13.962Z"
   },
   {
    "duration": 16,
    "start_time": "2021-08-19T18:50:14.083Z"
   },
   {
    "duration": 27,
    "start_time": "2021-08-19T18:50:14.101Z"
   },
   {
    "duration": 180,
    "start_time": "2021-08-19T18:50:14.131Z"
   },
   {
    "duration": 21,
    "start_time": "2021-08-19T18:50:14.314Z"
   },
   {
    "duration": 40,
    "start_time": "2021-08-19T18:50:14.338Z"
   },
   {
    "duration": 20,
    "start_time": "2021-08-19T18:50:14.381Z"
   },
   {
    "duration": 48,
    "start_time": "2021-08-19T18:50:14.403Z"
   },
   {
    "duration": 24,
    "start_time": "2021-08-19T18:50:14.454Z"
   },
   {
    "duration": 8,
    "start_time": "2021-08-19T18:50:20.062Z"
   },
   {
    "duration": 6,
    "start_time": "2021-08-19T18:50:21.455Z"
   },
   {
    "duration": 5,
    "start_time": "2021-08-19T18:50:36.471Z"
   },
   {
    "duration": 8,
    "start_time": "2021-08-19T18:51:07.415Z"
   },
   {
    "duration": 6,
    "start_time": "2021-08-19T18:51:19.592Z"
   },
   {
    "duration": 108,
    "start_time": "2021-08-19T18:52:19.364Z"
   },
   {
    "duration": 9,
    "start_time": "2021-08-19T18:52:26.868Z"
   },
   {
    "duration": 280,
    "start_time": "2021-08-19T18:53:30.467Z"
   },
   {
    "duration": 294,
    "start_time": "2021-08-19T18:55:49.384Z"
   },
   {
    "duration": 309,
    "start_time": "2021-08-19T18:55:54.031Z"
   },
   {
    "duration": 254,
    "start_time": "2021-08-19T18:55:54.689Z"
   },
   {
    "duration": 3,
    "start_time": "2021-08-19T18:56:22.595Z"
   },
   {
    "duration": 5,
    "start_time": "2021-08-19T18:56:28.472Z"
   },
   {
    "duration": 9,
    "start_time": "2021-08-19T18:56:29.840Z"
   },
   {
    "duration": 7,
    "start_time": "2021-08-19T18:56:57.053Z"
   },
   {
    "duration": 10,
    "start_time": "2021-08-19T18:57:04.521Z"
   },
   {
    "duration": 6,
    "start_time": "2021-08-19T18:57:29.397Z"
   },
   {
    "duration": 7,
    "start_time": "2021-08-19T18:57:30.505Z"
   },
   {
    "duration": 10,
    "start_time": "2021-08-19T18:57:31.434Z"
   },
   {
    "duration": 4,
    "start_time": "2021-08-19T19:01:02.055Z"
   },
   {
    "duration": 13,
    "start_time": "2021-08-19T19:01:02.063Z"
   },
   {
    "duration": 10,
    "start_time": "2021-08-19T19:01:02.081Z"
   },
   {
    "duration": 20,
    "start_time": "2021-08-19T19:01:02.095Z"
   },
   {
    "duration": 25,
    "start_time": "2021-08-19T19:01:02.117Z"
   },
   {
    "duration": 13,
    "start_time": "2021-08-19T19:01:02.144Z"
   },
   {
    "duration": 41,
    "start_time": "2021-08-19T19:01:02.160Z"
   },
   {
    "duration": 21,
    "start_time": "2021-08-19T19:01:02.206Z"
   },
   {
    "duration": 21,
    "start_time": "2021-08-19T19:01:02.230Z"
   },
   {
    "duration": 229,
    "start_time": "2021-08-19T19:01:02.254Z"
   },
   {
    "duration": 19,
    "start_time": "2021-08-19T19:01:02.486Z"
   },
   {
    "duration": 32,
    "start_time": "2021-08-19T19:01:02.508Z"
   },
   {
    "duration": 121,
    "start_time": "2021-08-19T19:01:02.556Z"
   },
   {
    "duration": 16,
    "start_time": "2021-08-19T19:01:02.680Z"
   },
   {
    "duration": 39,
    "start_time": "2021-08-19T19:01:02.699Z"
   },
   {
    "duration": 174,
    "start_time": "2021-08-19T19:01:02.741Z"
   },
   {
    "duration": 19,
    "start_time": "2021-08-19T19:01:02.917Z"
   },
   {
    "duration": 38,
    "start_time": "2021-08-19T19:01:02.938Z"
   },
   {
    "duration": 23,
    "start_time": "2021-08-19T19:01:02.979Z"
   },
   {
    "duration": 21,
    "start_time": "2021-08-19T19:01:03.005Z"
   },
   {
    "duration": 20,
    "start_time": "2021-08-19T19:01:03.029Z"
   },
   {
    "duration": 16,
    "start_time": "2021-08-19T19:01:03.052Z"
   },
   {
    "duration": 29,
    "start_time": "2021-08-19T19:01:03.072Z"
   },
   {
    "duration": 6,
    "start_time": "2021-08-19T19:01:03.104Z"
   },
   {
    "duration": 24,
    "start_time": "2021-08-19T19:01:03.113Z"
   },
   {
    "duration": 8,
    "start_time": "2021-08-19T19:01:06.151Z"
   },
   {
    "duration": 9,
    "start_time": "2021-08-19T19:01:07.063Z"
   },
   {
    "duration": 716,
    "start_time": "2021-08-20T03:10:01.351Z"
   },
   {
    "duration": 3,
    "start_time": "2021-08-20T03:10:02.070Z"
   },
   {
    "duration": 487,
    "start_time": "2021-08-20T03:10:02.076Z"
   },
   {
    "duration": 167,
    "start_time": "2021-08-20T03:10:02.566Z"
   },
   {
    "duration": 3,
    "start_time": "2021-08-20T03:10:02.736Z"
   },
   {
    "duration": 18,
    "start_time": "2021-08-20T03:10:02.741Z"
   },
   {
    "duration": 37,
    "start_time": "2021-08-20T03:10:02.761Z"
   },
   {
    "duration": 22,
    "start_time": "2021-08-20T03:10:02.802Z"
   },
   {
    "duration": 15,
    "start_time": "2021-08-20T03:10:02.827Z"
   },
   {
    "duration": 223,
    "start_time": "2021-08-20T03:10:02.844Z"
   },
   {
    "duration": 20,
    "start_time": "2021-08-20T03:10:03.069Z"
   },
   {
    "duration": 28,
    "start_time": "2021-08-20T03:10:03.091Z"
   },
   {
    "duration": 136,
    "start_time": "2021-08-20T03:10:03.121Z"
   },
   {
    "duration": 16,
    "start_time": "2021-08-20T03:10:03.259Z"
   },
   {
    "duration": 26,
    "start_time": "2021-08-20T03:10:03.277Z"
   },
   {
    "duration": 197,
    "start_time": "2021-08-20T03:10:03.305Z"
   },
   {
    "duration": 17,
    "start_time": "2021-08-20T03:10:03.504Z"
   },
   {
    "duration": 39,
    "start_time": "2021-08-20T03:10:03.524Z"
   },
   {
    "duration": 20,
    "start_time": "2021-08-20T03:10:03.565Z"
   },
   {
    "duration": 35,
    "start_time": "2021-08-20T03:10:03.587Z"
   },
   {
    "duration": 14,
    "start_time": "2021-08-20T03:10:03.624Z"
   },
   {
    "duration": 6,
    "start_time": "2021-08-20T03:10:10.252Z"
   },
   {
    "duration": 3,
    "start_time": "2021-08-20T03:10:12.271Z"
   },
   {
    "duration": 6,
    "start_time": "2021-08-20T03:10:13.044Z"
   },
   {
    "duration": 7,
    "start_time": "2021-08-20T03:10:26.902Z"
   },
   {
    "duration": 10,
    "start_time": "2021-08-20T03:10:28.125Z"
   },
   {
    "duration": 6,
    "start_time": "2021-08-20T03:11:19.792Z"
   },
   {
    "duration": 8,
    "start_time": "2021-08-20T03:15:04.709Z"
   },
   {
    "duration": 7,
    "start_time": "2021-08-20T03:18:16.626Z"
   },
   {
    "duration": 33,
    "start_time": "2021-08-20T03:18:27.316Z"
   },
   {
    "duration": 7,
    "start_time": "2021-08-20T03:18:43.698Z"
   },
   {
    "duration": 372,
    "start_time": "2021-08-20T03:26:01.145Z"
   },
   {
    "duration": 3,
    "start_time": "2021-08-20T03:27:19.209Z"
   },
   {
    "duration": 270,
    "start_time": "2021-08-20T03:27:23.631Z"
   },
   {
    "duration": 4,
    "start_time": "2021-08-20T03:27:30.282Z"
   },
   {
    "duration": 25,
    "start_time": "2021-08-20T03:27:30.289Z"
   },
   {
    "duration": 19,
    "start_time": "2021-08-20T03:27:30.318Z"
   },
   {
    "duration": 26,
    "start_time": "2021-08-20T03:27:30.340Z"
   },
   {
    "duration": 17,
    "start_time": "2021-08-20T03:27:30.370Z"
   },
   {
    "duration": 19,
    "start_time": "2021-08-20T03:27:30.390Z"
   },
   {
    "duration": 15,
    "start_time": "2021-08-20T03:27:30.412Z"
   },
   {
    "duration": 49,
    "start_time": "2021-08-20T03:27:30.431Z"
   },
   {
    "duration": 27,
    "start_time": "2021-08-20T03:27:30.482Z"
   },
   {
    "duration": 26,
    "start_time": "2021-08-20T03:27:30.511Z"
   },
   {
    "duration": 241,
    "start_time": "2021-08-20T03:27:30.540Z"
   },
   {
    "duration": 20,
    "start_time": "2021-08-20T03:27:30.784Z"
   },
   {
    "duration": 47,
    "start_time": "2021-08-20T03:27:30.806Z"
   },
   {
    "duration": 131,
    "start_time": "2021-08-20T03:27:30.861Z"
   },
   {
    "duration": 16,
    "start_time": "2021-08-20T03:27:30.995Z"
   },
   {
    "duration": 35,
    "start_time": "2021-08-20T03:27:31.013Z"
   },
   {
    "duration": 228,
    "start_time": "2021-08-20T03:27:31.050Z"
   },
   {
    "duration": 19,
    "start_time": "2021-08-20T03:27:31.280Z"
   },
   {
    "duration": 36,
    "start_time": "2021-08-20T03:27:31.303Z"
   },
   {
    "duration": 25,
    "start_time": "2021-08-20T03:27:31.342Z"
   },
   {
    "duration": 35,
    "start_time": "2021-08-20T03:27:31.369Z"
   },
   {
    "duration": 20,
    "start_time": "2021-08-20T03:27:31.407Z"
   },
   {
    "duration": 13,
    "start_time": "2021-08-20T03:27:31.430Z"
   },
   {
    "duration": 16,
    "start_time": "2021-08-20T03:27:31.445Z"
   },
   {
    "duration": 16,
    "start_time": "2021-08-20T03:27:31.464Z"
   },
   {
    "duration": 17,
    "start_time": "2021-08-20T03:27:31.483Z"
   },
   {
    "duration": 19,
    "start_time": "2021-08-20T03:27:31.502Z"
   },
   {
    "duration": 305,
    "start_time": "2021-08-20T03:27:36.112Z"
   },
   {
    "duration": 272,
    "start_time": "2021-08-20T03:29:06.763Z"
   },
   {
    "duration": 269,
    "start_time": "2021-08-20T03:29:47.943Z"
   },
   {
    "duration": 345,
    "start_time": "2021-08-20T03:32:32.816Z"
   },
   {
    "duration": 152,
    "start_time": "2021-08-20T03:33:44.850Z"
   },
   {
    "duration": 9,
    "start_time": "2021-08-20T03:33:56.803Z"
   },
   {
    "duration": 5,
    "start_time": "2021-08-20T03:34:42.708Z"
   },
   {
    "duration": 49,
    "start_time": "2021-08-20T03:34:58.380Z"
   },
   {
    "duration": 28,
    "start_time": "2021-08-20T03:35:25.749Z"
   },
   {
    "duration": 3,
    "start_time": "2021-08-20T03:35:30.295Z"
   },
   {
    "duration": 13,
    "start_time": "2021-08-20T03:35:30.301Z"
   },
   {
    "duration": 18,
    "start_time": "2021-08-20T03:35:30.317Z"
   },
   {
    "duration": 18,
    "start_time": "2021-08-20T03:35:30.338Z"
   },
   {
    "duration": 19,
    "start_time": "2021-08-20T03:35:30.359Z"
   },
   {
    "duration": 11,
    "start_time": "2021-08-20T03:35:30.381Z"
   },
   {
    "duration": 14,
    "start_time": "2021-08-20T03:35:30.395Z"
   },
   {
    "duration": 37,
    "start_time": "2021-08-20T03:35:30.416Z"
   },
   {
    "duration": 23,
    "start_time": "2021-08-20T03:35:30.457Z"
   },
   {
    "duration": 9,
    "start_time": "2021-08-20T03:35:30.482Z"
   },
   {
    "duration": 231,
    "start_time": "2021-08-20T03:35:30.494Z"
   },
   {
    "duration": 33,
    "start_time": "2021-08-20T03:35:30.728Z"
   },
   {
    "duration": 31,
    "start_time": "2021-08-20T03:35:30.764Z"
   },
   {
    "duration": 134,
    "start_time": "2021-08-20T03:35:30.799Z"
   },
   {
    "duration": 36,
    "start_time": "2021-08-20T03:35:30.936Z"
   },
   {
    "duration": 38,
    "start_time": "2021-08-20T03:35:30.975Z"
   },
   {
    "duration": 209,
    "start_time": "2021-08-20T03:35:31.015Z"
   },
   {
    "duration": 34,
    "start_time": "2021-08-20T03:35:31.226Z"
   },
   {
    "duration": 24,
    "start_time": "2021-08-20T03:35:31.263Z"
   },
   {
    "duration": 19,
    "start_time": "2021-08-20T03:35:31.290Z"
   },
   {
    "duration": 19,
    "start_time": "2021-08-20T03:35:31.312Z"
   },
   {
    "duration": 30,
    "start_time": "2021-08-20T03:35:31.333Z"
   },
   {
    "duration": 14,
    "start_time": "2021-08-20T03:35:31.370Z"
   },
   {
    "duration": 10,
    "start_time": "2021-08-20T03:35:31.387Z"
   },
   {
    "duration": 20,
    "start_time": "2021-08-20T03:35:31.399Z"
   },
   {
    "duration": 40,
    "start_time": "2021-08-20T03:35:31.422Z"
   },
   {
    "duration": 13,
    "start_time": "2021-08-20T03:35:31.466Z"
   },
   {
    "duration": 145,
    "start_time": "2021-08-20T03:35:31.482Z"
   },
   {
    "duration": 28,
    "start_time": "2021-08-20T03:35:34.981Z"
   },
   {
    "duration": 8,
    "start_time": "2021-08-20T03:36:13.993Z"
   },
   {
    "duration": 4,
    "start_time": "2021-08-20T03:36:25.089Z"
   },
   {
    "duration": 12,
    "start_time": "2021-08-20T03:36:25.095Z"
   },
   {
    "duration": 19,
    "start_time": "2021-08-20T03:36:25.111Z"
   },
   {
    "duration": 6,
    "start_time": "2021-08-20T03:36:25.133Z"
   },
   {
    "duration": 17,
    "start_time": "2021-08-20T03:36:25.141Z"
   },
   {
    "duration": 11,
    "start_time": "2021-08-20T03:36:25.161Z"
   },
   {
    "duration": 8,
    "start_time": "2021-08-20T03:36:25.175Z"
   },
   {
    "duration": 33,
    "start_time": "2021-08-20T03:36:25.187Z"
   },
   {
    "duration": 22,
    "start_time": "2021-08-20T03:36:25.223Z"
   },
   {
    "duration": 27,
    "start_time": "2021-08-20T03:36:25.247Z"
   },
   {
    "duration": 221,
    "start_time": "2021-08-20T03:36:25.277Z"
   },
   {
    "duration": 19,
    "start_time": "2021-08-20T03:36:25.501Z"
   },
   {
    "duration": 55,
    "start_time": "2021-08-20T03:36:25.522Z"
   },
   {
    "duration": 129,
    "start_time": "2021-08-20T03:36:25.579Z"
   },
   {
    "duration": 15,
    "start_time": "2021-08-20T03:36:25.711Z"
   },
   {
    "duration": 43,
    "start_time": "2021-08-20T03:36:25.729Z"
   },
   {
    "duration": 196,
    "start_time": "2021-08-20T03:36:25.775Z"
   },
   {
    "duration": 21,
    "start_time": "2021-08-20T03:36:25.974Z"
   },
   {
    "duration": 27,
    "start_time": "2021-08-20T03:36:25.998Z"
   },
   {
    "duration": 41,
    "start_time": "2021-08-20T03:36:26.027Z"
   },
   {
    "duration": 23,
    "start_time": "2021-08-20T03:36:26.070Z"
   },
   {
    "duration": 21,
    "start_time": "2021-08-20T03:36:26.096Z"
   },
   {
    "duration": 18,
    "start_time": "2021-08-20T03:36:26.121Z"
   },
   {
    "duration": 21,
    "start_time": "2021-08-20T03:36:26.142Z"
   },
   {
    "duration": 8,
    "start_time": "2021-08-20T03:36:26.166Z"
   },
   {
    "duration": 22,
    "start_time": "2021-08-20T03:36:26.177Z"
   },
   {
    "duration": 16,
    "start_time": "2021-08-20T03:36:26.202Z"
   },
   {
    "duration": 131,
    "start_time": "2021-08-20T03:36:29.598Z"
   },
   {
    "duration": 29,
    "start_time": "2021-08-20T03:36:41.318Z"
   },
   {
    "duration": 27,
    "start_time": "2021-08-20T03:38:05.499Z"
   },
   {
    "duration": 5,
    "start_time": "2021-08-20T03:39:04.643Z"
   },
   {
    "duration": 27,
    "start_time": "2021-08-20T03:39:06.474Z"
   },
   {
    "duration": 7412,
    "start_time": "2021-08-20T03:39:52.428Z"
   },
   {
    "duration": 40,
    "start_time": "2021-08-20T03:40:34.582Z"
   },
   {
    "duration": 20,
    "start_time": "2021-08-20T03:40:45.075Z"
   },
   {
    "duration": 10,
    "start_time": "2021-08-20T03:42:36.968Z"
   },
   {
    "duration": 34,
    "start_time": "2021-08-20T03:43:44.651Z"
   },
   {
    "duration": 16,
    "start_time": "2021-08-20T03:44:00.739Z"
   },
   {
    "duration": 31,
    "start_time": "2021-08-20T03:53:58.203Z"
   },
   {
    "duration": 17,
    "start_time": "2021-08-20T03:54:14.620Z"
   },
   {
    "duration": 10,
    "start_time": "2021-08-20T04:02:30.055Z"
   },
   {
    "duration": 8,
    "start_time": "2021-08-20T04:02:49.946Z"
   },
   {
    "duration": 9,
    "start_time": "2021-08-20T04:05:00.517Z"
   },
   {
    "duration": 7,
    "start_time": "2021-08-20T04:05:28.743Z"
   },
   {
    "duration": 7,
    "start_time": "2021-08-20T04:06:27.624Z"
   },
   {
    "duration": 255,
    "start_time": "2021-08-20T04:09:25.884Z"
   },
   {
    "duration": 8,
    "start_time": "2021-08-20T04:09:35.005Z"
   },
   {
    "duration": 262,
    "start_time": "2021-08-20T04:14:10.415Z"
   },
   {
    "duration": 14,
    "start_time": "2021-08-20T04:14:26.820Z"
   },
   {
    "duration": 7,
    "start_time": "2021-08-20T04:15:36.191Z"
   },
   {
    "duration": 317,
    "start_time": "2021-08-20T18:40:23.918Z"
   },
   {
    "duration": 675,
    "start_time": "2021-08-20T18:40:30.785Z"
   },
   {
    "duration": 3,
    "start_time": "2021-08-20T18:40:31.462Z"
   },
   {
    "duration": 505,
    "start_time": "2021-08-20T18:40:31.468Z"
   },
   {
    "duration": 181,
    "start_time": "2021-08-20T18:40:31.976Z"
   },
   {
    "duration": 4,
    "start_time": "2021-08-20T18:40:32.159Z"
   },
   {
    "duration": 25,
    "start_time": "2021-08-20T18:40:32.165Z"
   },
   {
    "duration": 7,
    "start_time": "2021-08-20T18:40:32.193Z"
   },
   {
    "duration": 42,
    "start_time": "2021-08-20T18:40:32.204Z"
   },
   {
    "duration": 39,
    "start_time": "2021-08-20T18:40:32.249Z"
   },
   {
    "duration": 17,
    "start_time": "2021-08-20T18:40:32.290Z"
   },
   {
    "duration": 225,
    "start_time": "2021-08-20T18:40:32.309Z"
   },
   {
    "duration": 29,
    "start_time": "2021-08-20T18:40:32.537Z"
   },
   {
    "duration": 32,
    "start_time": "2021-08-20T18:40:32.569Z"
   },
   {
    "duration": 133,
    "start_time": "2021-08-20T18:40:32.603Z"
   },
   {
    "duration": 25,
    "start_time": "2021-08-20T18:40:32.739Z"
   },
   {
    "duration": 22,
    "start_time": "2021-08-20T18:40:32.767Z"
   },
   {
    "duration": 190,
    "start_time": "2021-08-20T18:40:32.792Z"
   },
   {
    "duration": 21,
    "start_time": "2021-08-20T18:40:32.984Z"
   },
   {
    "duration": 46,
    "start_time": "2021-08-20T18:40:33.008Z"
   },
   {
    "duration": 20,
    "start_time": "2021-08-20T18:40:33.057Z"
   },
   {
    "duration": 28,
    "start_time": "2021-08-20T18:40:33.079Z"
   },
   {
    "duration": 16,
    "start_time": "2021-08-20T18:40:33.109Z"
   },
   {
    "duration": 8,
    "start_time": "2021-08-20T18:40:33.130Z"
   },
   {
    "duration": 18,
    "start_time": "2021-08-20T18:40:33.140Z"
   },
   {
    "duration": 12,
    "start_time": "2021-08-20T18:40:33.160Z"
   },
   {
    "duration": 15,
    "start_time": "2021-08-20T18:40:33.175Z"
   },
   {
    "duration": 16,
    "start_time": "2021-08-20T18:40:33.193Z"
   },
   {
    "duration": 9,
    "start_time": "2021-08-20T18:40:33.212Z"
   },
   {
    "duration": 147,
    "start_time": "2021-08-20T18:40:33.223Z"
   },
   {
    "duration": 30,
    "start_time": "2021-08-20T18:40:33.372Z"
   },
   {
    "duration": 6,
    "start_time": "2021-08-20T18:40:33.404Z"
   },
   {
    "duration": 64,
    "start_time": "2021-08-20T18:40:33.412Z"
   },
   {
    "duration": 19,
    "start_time": "2021-08-20T18:40:33.478Z"
   },
   {
    "duration": 6,
    "start_time": "2021-08-20T18:40:33.500Z"
   },
   {
    "duration": 57,
    "start_time": "2021-08-20T18:40:33.508Z"
   },
   {
    "duration": 14,
    "start_time": "2021-08-20T18:40:33.568Z"
   },
   {
    "duration": 31,
    "start_time": "2021-08-20T18:40:33.584Z"
   },
   {
    "duration": 43,
    "start_time": "2021-08-20T18:40:33.617Z"
   },
   {
    "duration": 6,
    "start_time": "2021-08-20T18:40:33.662Z"
   },
   {
    "duration": 326,
    "start_time": "2021-08-20T18:40:36.676Z"
   },
   {
    "duration": 11,
    "start_time": "2021-08-20T18:40:52.138Z"
   },
   {
    "duration": 29,
    "start_time": "2021-08-20T18:42:13.285Z"
   },
   {
    "duration": 6,
    "start_time": "2021-08-20T18:42:57.359Z"
   },
   {
    "duration": 8,
    "start_time": "2021-08-20T18:43:26.219Z"
   },
   {
    "duration": 8,
    "start_time": "2021-08-20T18:43:42.085Z"
   },
   {
    "duration": 275,
    "start_time": "2021-08-20T18:43:56.615Z"
   },
   {
    "duration": 260,
    "start_time": "2021-08-20T18:45:19.714Z"
   },
   {
    "duration": 348,
    "start_time": "2021-08-20T19:02:34.273Z"
   },
   {
    "duration": 4,
    "start_time": "2021-08-20T19:02:40.580Z"
   },
   {
    "duration": 22,
    "start_time": "2021-08-20T19:02:40.587Z"
   },
   {
    "duration": 19,
    "start_time": "2021-08-20T19:02:40.612Z"
   },
   {
    "duration": 21,
    "start_time": "2021-08-20T19:02:40.634Z"
   },
   {
    "duration": 20,
    "start_time": "2021-08-20T19:02:40.657Z"
   },
   {
    "duration": 24,
    "start_time": "2021-08-20T19:02:40.679Z"
   },
   {
    "duration": 13,
    "start_time": "2021-08-20T19:02:40.707Z"
   },
   {
    "duration": 41,
    "start_time": "2021-08-20T19:02:40.723Z"
   },
   {
    "duration": 30,
    "start_time": "2021-08-20T19:02:40.766Z"
   },
   {
    "duration": 19,
    "start_time": "2021-08-20T19:02:40.799Z"
   },
   {
    "duration": 224,
    "start_time": "2021-08-20T19:02:40.820Z"
   },
   {
    "duration": 23,
    "start_time": "2021-08-20T19:02:41.046Z"
   },
   {
    "duration": 31,
    "start_time": "2021-08-20T19:02:41.072Z"
   },
   {
    "duration": 135,
    "start_time": "2021-08-20T19:02:41.106Z"
   },
   {
    "duration": 19,
    "start_time": "2021-08-20T19:02:41.244Z"
   },
   {
    "duration": 33,
    "start_time": "2021-08-20T19:02:41.266Z"
   },
   {
    "duration": 194,
    "start_time": "2021-08-20T19:02:41.302Z"
   },
   {
    "duration": 18,
    "start_time": "2021-08-20T19:02:41.499Z"
   },
   {
    "duration": 40,
    "start_time": "2021-08-20T19:02:41.521Z"
   },
   {
    "duration": 18,
    "start_time": "2021-08-20T19:02:41.563Z"
   },
   {
    "duration": 20,
    "start_time": "2021-08-20T19:02:41.583Z"
   },
   {
    "duration": 17,
    "start_time": "2021-08-20T19:02:41.605Z"
   },
   {
    "duration": 8,
    "start_time": "2021-08-20T19:02:41.624Z"
   },
   {
    "duration": 21,
    "start_time": "2021-08-20T19:02:41.634Z"
   },
   {
    "duration": 18,
    "start_time": "2021-08-20T19:02:41.658Z"
   },
   {
    "duration": 14,
    "start_time": "2021-08-20T19:02:41.678Z"
   },
   {
    "duration": 19,
    "start_time": "2021-08-20T19:02:41.694Z"
   },
   {
    "duration": 8,
    "start_time": "2021-08-20T19:02:41.715Z"
   },
   {
    "duration": 6,
    "start_time": "2021-08-20T19:03:03.719Z"
   },
   {
    "duration": 281,
    "start_time": "2021-08-20T19:03:07.839Z"
   },
   {
    "duration": 12,
    "start_time": "2021-08-20T19:03:10.031Z"
   },
   {
    "duration": 4,
    "start_time": "2021-08-20T19:03:30.819Z"
   },
   {
    "duration": 19,
    "start_time": "2021-08-20T19:03:30.826Z"
   },
   {
    "duration": 35,
    "start_time": "2021-08-20T19:03:30.848Z"
   },
   {
    "duration": 30,
    "start_time": "2021-08-20T19:03:30.886Z"
   },
   {
    "duration": 19,
    "start_time": "2021-08-20T19:03:30.918Z"
   },
   {
    "duration": 19,
    "start_time": "2021-08-20T19:03:30.939Z"
   },
   {
    "duration": 14,
    "start_time": "2021-08-20T19:03:30.961Z"
   },
   {
    "duration": 42,
    "start_time": "2021-08-20T19:03:30.978Z"
   },
   {
    "duration": 25,
    "start_time": "2021-08-20T19:03:31.026Z"
   },
   {
    "duration": 14,
    "start_time": "2021-08-20T19:03:31.056Z"
   },
   {
    "duration": 228,
    "start_time": "2021-08-20T19:03:31.073Z"
   },
   {
    "duration": 22,
    "start_time": "2021-08-20T19:03:31.304Z"
   },
   {
    "duration": 47,
    "start_time": "2021-08-20T19:03:31.330Z"
   },
   {
    "duration": 124,
    "start_time": "2021-08-20T19:03:31.380Z"
   },
   {
    "duration": 15,
    "start_time": "2021-08-20T19:03:31.506Z"
   },
   {
    "duration": 37,
    "start_time": "2021-08-20T19:03:31.523Z"
   },
   {
    "duration": 170,
    "start_time": "2021-08-20T19:03:31.563Z"
   },
   {
    "duration": 28,
    "start_time": "2021-08-20T19:03:31.735Z"
   },
   {
    "duration": 45,
    "start_time": "2021-08-20T19:03:31.766Z"
   },
   {
    "duration": 19,
    "start_time": "2021-08-20T19:03:31.815Z"
   },
   {
    "duration": 36,
    "start_time": "2021-08-20T19:03:31.836Z"
   },
   {
    "duration": 24,
    "start_time": "2021-08-20T19:03:31.874Z"
   },
   {
    "duration": 22,
    "start_time": "2021-08-20T19:03:31.901Z"
   },
   {
    "duration": 25,
    "start_time": "2021-08-20T19:03:31.926Z"
   },
   {
    "duration": 22,
    "start_time": "2021-08-20T19:03:31.954Z"
   },
   {
    "duration": 27,
    "start_time": "2021-08-20T19:03:31.978Z"
   },
   {
    "duration": 27,
    "start_time": "2021-08-20T19:03:32.011Z"
   },
   {
    "duration": 13,
    "start_time": "2021-08-20T19:03:32.041Z"
   },
   {
    "duration": 6,
    "start_time": "2021-08-20T19:03:35.352Z"
   },
   {
    "duration": 317,
    "start_time": "2021-08-20T19:03:39.272Z"
   },
   {
    "duration": 6,
    "start_time": "2021-08-20T19:03:41.675Z"
   },
   {
    "duration": 287,
    "start_time": "2021-08-20T19:05:54.782Z"
   },
   {
    "duration": 292,
    "start_time": "2021-08-20T19:09:50.371Z"
   },
   {
    "duration": 275,
    "start_time": "2021-08-20T19:10:03.477Z"
   },
   {
    "duration": 4,
    "start_time": "2021-08-20T19:10:58.753Z"
   },
   {
    "duration": 9,
    "start_time": "2021-08-20T19:10:58.759Z"
   },
   {
    "duration": 9,
    "start_time": "2021-08-20T19:10:58.771Z"
   },
   {
    "duration": 10,
    "start_time": "2021-08-20T19:10:58.782Z"
   },
   {
    "duration": 15,
    "start_time": "2021-08-20T19:10:58.794Z"
   },
   {
    "duration": 11,
    "start_time": "2021-08-20T19:10:58.811Z"
   },
   {
    "duration": 37,
    "start_time": "2021-08-20T19:10:58.825Z"
   },
   {
    "duration": 19,
    "start_time": "2021-08-20T19:10:58.865Z"
   },
   {
    "duration": 13,
    "start_time": "2021-08-20T19:10:58.887Z"
   },
   {
    "duration": 217,
    "start_time": "2021-08-20T19:10:58.903Z"
   },
   {
    "duration": 31,
    "start_time": "2021-08-20T19:10:59.123Z"
   },
   {
    "duration": 27,
    "start_time": "2021-08-20T19:10:59.157Z"
   },
   {
    "duration": 123,
    "start_time": "2021-08-20T19:10:59.187Z"
   },
   {
    "duration": 15,
    "start_time": "2021-08-20T19:10:59.313Z"
   },
   {
    "duration": 38,
    "start_time": "2021-08-20T19:10:59.330Z"
   },
   {
    "duration": 189,
    "start_time": "2021-08-20T19:10:59.370Z"
   },
   {
    "duration": 18,
    "start_time": "2021-08-20T19:10:59.561Z"
   },
   {
    "duration": 23,
    "start_time": "2021-08-20T19:10:59.582Z"
   },
   {
    "duration": 24,
    "start_time": "2021-08-20T19:10:59.607Z"
   },
   {
    "duration": 29,
    "start_time": "2021-08-20T19:10:59.633Z"
   },
   {
    "duration": 20,
    "start_time": "2021-08-20T19:10:59.664Z"
   },
   {
    "duration": 14,
    "start_time": "2021-08-20T19:10:59.688Z"
   },
   {
    "duration": 18,
    "start_time": "2021-08-20T19:10:59.705Z"
   },
   {
    "duration": 9,
    "start_time": "2021-08-20T19:10:59.726Z"
   },
   {
    "duration": 18,
    "start_time": "2021-08-20T19:10:59.738Z"
   },
   {
    "duration": 18,
    "start_time": "2021-08-20T19:10:59.759Z"
   },
   {
    "duration": 9,
    "start_time": "2021-08-20T19:10:59.780Z"
   },
   {
    "duration": 301,
    "start_time": "2021-08-20T19:10:59.792Z"
   },
   {
    "duration": 30,
    "start_time": "2021-08-20T19:11:00.096Z"
   },
   {
    "duration": 25,
    "start_time": "2021-08-20T19:11:00.129Z"
   },
   {
    "duration": 39,
    "start_time": "2021-08-20T19:11:00.157Z"
   },
   {
    "duration": 21,
    "start_time": "2021-08-20T19:11:00.199Z"
   },
   {
    "duration": 32,
    "start_time": "2021-08-20T19:11:00.222Z"
   },
   {
    "duration": 26,
    "start_time": "2021-08-20T19:11:00.257Z"
   },
   {
    "duration": 14,
    "start_time": "2021-08-20T19:11:00.285Z"
   },
   {
    "duration": 57,
    "start_time": "2021-08-20T19:11:00.302Z"
   },
   {
    "duration": 17,
    "start_time": "2021-08-20T19:11:00.362Z"
   },
   {
    "duration": 13,
    "start_time": "2021-08-20T19:11:00.382Z"
   },
   {
    "duration": 31,
    "start_time": "2021-08-20T19:11:03.202Z"
   },
   {
    "duration": 10,
    "start_time": "2021-08-20T19:11:18.493Z"
   },
   {
    "duration": 419,
    "start_time": "2021-08-21T04:53:30.960Z"
   },
   {
    "duration": 677,
    "start_time": "2021-08-21T04:53:37.487Z"
   },
   {
    "duration": 3,
    "start_time": "2021-08-21T04:53:38.167Z"
   },
   {
    "duration": 532,
    "start_time": "2021-08-21T04:53:38.173Z"
   },
   {
    "duration": 157,
    "start_time": "2021-08-21T04:53:38.708Z"
   },
   {
    "duration": 3,
    "start_time": "2021-08-21T04:53:38.868Z"
   },
   {
    "duration": 24,
    "start_time": "2021-08-21T04:53:38.874Z"
   },
   {
    "duration": 62,
    "start_time": "2021-08-21T04:53:38.900Z"
   },
   {
    "duration": 35,
    "start_time": "2021-08-21T04:53:38.966Z"
   },
   {
    "duration": 19,
    "start_time": "2021-08-21T04:53:39.004Z"
   },
   {
    "duration": 225,
    "start_time": "2021-08-21T04:53:39.025Z"
   },
   {
    "duration": 21,
    "start_time": "2021-08-21T04:53:39.252Z"
   },
   {
    "duration": 32,
    "start_time": "2021-08-21T04:53:39.276Z"
   },
   {
    "duration": 138,
    "start_time": "2021-08-21T04:53:39.311Z"
   },
   {
    "duration": 18,
    "start_time": "2021-08-21T04:53:39.451Z"
   },
   {
    "duration": 30,
    "start_time": "2021-08-21T04:53:39.472Z"
   },
   {
    "duration": 185,
    "start_time": "2021-08-21T04:53:39.504Z"
   },
   {
    "duration": 21,
    "start_time": "2021-08-21T04:53:39.691Z"
   },
   {
    "duration": 45,
    "start_time": "2021-08-21T04:53:39.714Z"
   },
   {
    "duration": 18,
    "start_time": "2021-08-21T04:53:39.761Z"
   },
   {
    "duration": 28,
    "start_time": "2021-08-21T04:53:39.781Z"
   },
   {
    "duration": 28,
    "start_time": "2021-08-21T04:53:39.811Z"
   },
   {
    "duration": 26,
    "start_time": "2021-08-21T04:53:39.842Z"
   },
   {
    "duration": 17,
    "start_time": "2021-08-21T04:53:39.872Z"
   },
   {
    "duration": 22,
    "start_time": "2021-08-21T04:53:39.892Z"
   },
   {
    "duration": 23,
    "start_time": "2021-08-21T04:53:39.917Z"
   },
   {
    "duration": 28,
    "start_time": "2021-08-21T04:53:39.942Z"
   },
   {
    "duration": 26,
    "start_time": "2021-08-21T04:53:39.972Z"
   },
   {
    "duration": 303,
    "start_time": "2021-08-21T04:53:40.001Z"
   },
   {
    "duration": 26,
    "start_time": "2021-08-21T04:53:40.306Z"
   },
   {
    "duration": 28,
    "start_time": "2021-08-21T04:53:40.334Z"
   },
   {
    "duration": 49,
    "start_time": "2021-08-21T04:53:40.364Z"
   },
   {
    "duration": 23,
    "start_time": "2021-08-21T04:53:40.415Z"
   },
   {
    "duration": 7,
    "start_time": "2021-08-21T04:53:44.118Z"
   },
   {
    "duration": 6,
    "start_time": "2021-08-21T04:54:24.848Z"
   },
   {
    "duration": 7,
    "start_time": "2021-08-21T04:55:53.586Z"
   },
   {
    "duration": 6,
    "start_time": "2021-08-21T04:56:25.207Z"
   },
   {
    "duration": 6,
    "start_time": "2021-08-21T04:57:05.955Z"
   },
   {
    "duration": 24,
    "start_time": "2021-08-21T04:57:08.515Z"
   },
   {
    "duration": 14,
    "start_time": "2021-08-21T04:57:09.471Z"
   },
   {
    "duration": 30,
    "start_time": "2021-08-21T04:57:13.447Z"
   },
   {
    "duration": 19,
    "start_time": "2021-08-21T04:57:14.139Z"
   },
   {
    "duration": 8,
    "start_time": "2021-08-21T04:57:16.392Z"
   },
   {
    "duration": 8,
    "start_time": "2021-08-21T04:57:44.201Z"
   },
   {
    "duration": 31,
    "start_time": "2021-08-21T04:57:47.026Z"
   },
   {
    "duration": 449,
    "start_time": "2021-08-21T05:19:47.889Z"
   },
   {
    "duration": 388,
    "start_time": "2021-08-21T05:19:56.515Z"
   },
   {
    "duration": 11,
    "start_time": "2021-08-21T05:25:37.179Z"
   },
   {
    "duration": 8,
    "start_time": "2021-08-21T05:26:35.675Z"
   },
   {
    "duration": 116,
    "start_time": "2021-08-21T05:27:17.996Z"
   },
   {
    "duration": 374,
    "start_time": "2021-08-21T05:51:56.085Z"
   },
   {
    "duration": 124,
    "start_time": "2021-08-21T13:20:48.226Z"
   },
   {
    "duration": 290,
    "start_time": "2021-08-21T13:34:25.203Z"
   },
   {
    "duration": 531,
    "start_time": "2021-08-21T13:34:32.045Z"
   },
   {
    "duration": 2,
    "start_time": "2021-08-21T13:34:32.578Z"
   },
   {
    "duration": 373,
    "start_time": "2021-08-21T13:34:32.582Z"
   },
   {
    "duration": 217,
    "start_time": "2021-08-21T13:34:32.957Z"
   },
   {
    "duration": 2,
    "start_time": "2021-08-21T13:34:33.176Z"
   },
   {
    "duration": 8,
    "start_time": "2021-08-21T13:34:33.179Z"
   },
   {
    "duration": 31,
    "start_time": "2021-08-21T13:34:33.189Z"
   },
   {
    "duration": 14,
    "start_time": "2021-08-21T13:34:33.223Z"
   },
   {
    "duration": 11,
    "start_time": "2021-08-21T13:34:33.239Z"
   },
   {
    "duration": 160,
    "start_time": "2021-08-21T13:34:33.253Z"
   },
   {
    "duration": 14,
    "start_time": "2021-08-21T13:34:33.414Z"
   },
   {
    "duration": 24,
    "start_time": "2021-08-21T13:34:33.430Z"
   },
   {
    "duration": 98,
    "start_time": "2021-08-21T13:34:33.455Z"
   },
   {
    "duration": 10,
    "start_time": "2021-08-21T13:34:33.555Z"
   },
   {
    "duration": 14,
    "start_time": "2021-08-21T13:34:33.567Z"
   },
   {
    "duration": 137,
    "start_time": "2021-08-21T13:34:33.583Z"
   },
   {
    "duration": 12,
    "start_time": "2021-08-21T13:34:33.722Z"
   },
   {
    "duration": 23,
    "start_time": "2021-08-21T13:34:33.741Z"
   },
   {
    "duration": 17,
    "start_time": "2021-08-21T13:34:33.766Z"
   },
   {
    "duration": 11,
    "start_time": "2021-08-21T13:34:33.784Z"
   },
   {
    "duration": 11,
    "start_time": "2021-08-21T13:34:33.796Z"
   },
   {
    "duration": 6,
    "start_time": "2021-08-21T13:34:33.808Z"
   },
   {
    "duration": 9,
    "start_time": "2021-08-21T13:34:33.817Z"
   },
   {
    "duration": 13,
    "start_time": "2021-08-21T13:34:33.828Z"
   },
   {
    "duration": 13,
    "start_time": "2021-08-21T13:34:33.844Z"
   },
   {
    "duration": 12,
    "start_time": "2021-08-21T13:34:33.858Z"
   },
   {
    "duration": 14,
    "start_time": "2021-08-21T13:34:33.871Z"
   },
   {
    "duration": 16,
    "start_time": "2021-08-21T13:34:33.886Z"
   },
   {
    "duration": 201,
    "start_time": "2021-08-21T13:34:33.903Z"
   },
   {
    "duration": 18,
    "start_time": "2021-08-21T13:34:34.106Z"
   },
   {
    "duration": 15,
    "start_time": "2021-08-21T13:34:34.126Z"
   },
   {
    "duration": 32,
    "start_time": "2021-08-21T13:34:34.145Z"
   },
   {
    "duration": 18,
    "start_time": "2021-08-21T13:34:34.178Z"
   },
   {
    "duration": 5,
    "start_time": "2021-08-21T13:34:34.197Z"
   },
   {
    "duration": 46,
    "start_time": "2021-08-21T13:34:34.203Z"
   },
   {
    "duration": 13,
    "start_time": "2021-08-21T13:34:34.250Z"
   },
   {
    "duration": 20,
    "start_time": "2021-08-21T13:34:34.265Z"
   },
   {
    "duration": 12,
    "start_time": "2021-08-21T13:34:34.286Z"
   },
   {
    "duration": 6,
    "start_time": "2021-08-21T13:34:34.299Z"
   },
   {
    "duration": 56,
    "start_time": "2021-08-21T13:34:34.306Z"
   },
   {
    "duration": 24,
    "start_time": "2021-08-21T13:34:36.642Z"
   },
   {
    "duration": 302,
    "start_time": "2021-08-21T13:34:37.394Z"
   },
   {
    "duration": 23,
    "start_time": "2021-08-21T13:34:46.795Z"
   },
   {
    "duration": 83,
    "start_time": "2021-08-21T14:16:03.327Z"
   },
   {
    "duration": 17,
    "start_time": "2021-08-21T14:16:30.488Z"
   },
   {
    "duration": 89,
    "start_time": "2021-08-21T14:18:20.971Z"
   },
   {
    "duration": 263,
    "start_time": "2021-08-21T14:18:35.507Z"
   },
   {
    "duration": 267,
    "start_time": "2021-08-21T14:19:22.819Z"
   },
   {
    "duration": 258,
    "start_time": "2021-08-21T14:19:45.708Z"
   },
   {
    "duration": 15,
    "start_time": "2021-08-21T14:20:57.755Z"
   },
   {
    "duration": 31,
    "start_time": "2021-08-21T14:42:40.455Z"
   },
   {
    "duration": 7,
    "start_time": "2021-08-21T14:43:54.378Z"
   },
   {
    "duration": 6,
    "start_time": "2021-08-21T14:44:10.649Z"
   },
   {
    "duration": 19,
    "start_time": "2021-08-21T14:44:54.075Z"
   },
   {
    "duration": 8,
    "start_time": "2021-08-21T14:44:57.618Z"
   },
   {
    "duration": 87,
    "start_time": "2021-08-21T14:45:23.771Z"
   },
   {
    "duration": 22,
    "start_time": "2021-08-21T14:45:30.036Z"
   },
   {
    "duration": 12,
    "start_time": "2021-08-21T14:45:33.059Z"
   },
   {
    "duration": 8,
    "start_time": "2021-08-21T14:46:20.349Z"
   },
   {
    "duration": 264,
    "start_time": "2021-08-21T14:50:37.507Z"
   },
   {
    "duration": 67,
    "start_time": "2021-08-21T14:50:45.580Z"
   },
   {
    "duration": 3,
    "start_time": "2021-08-21T14:50:55.465Z"
   },
   {
    "duration": 5,
    "start_time": "2021-08-21T14:50:55.473Z"
   },
   {
    "duration": 6,
    "start_time": "2021-08-21T14:50:55.480Z"
   },
   {
    "duration": 8,
    "start_time": "2021-08-21T14:50:55.487Z"
   },
   {
    "duration": 5,
    "start_time": "2021-08-21T14:50:55.497Z"
   },
   {
    "duration": 4,
    "start_time": "2021-08-21T14:50:55.504Z"
   },
   {
    "duration": 32,
    "start_time": "2021-08-21T14:50:55.510Z"
   },
   {
    "duration": 10,
    "start_time": "2021-08-21T14:50:55.544Z"
   },
   {
    "duration": 6,
    "start_time": "2021-08-21T14:50:55.557Z"
   },
   {
    "duration": 148,
    "start_time": "2021-08-21T14:50:55.565Z"
   },
   {
    "duration": 13,
    "start_time": "2021-08-21T14:50:55.715Z"
   },
   {
    "duration": 28,
    "start_time": "2021-08-21T14:50:55.729Z"
   },
   {
    "duration": 85,
    "start_time": "2021-08-21T14:50:55.759Z"
   },
   {
    "duration": 11,
    "start_time": "2021-08-21T14:50:55.846Z"
   },
   {
    "duration": 18,
    "start_time": "2021-08-21T14:50:55.858Z"
   },
   {
    "duration": 138,
    "start_time": "2021-08-21T14:50:55.877Z"
   },
   {
    "duration": 12,
    "start_time": "2021-08-21T14:50:56.017Z"
   },
   {
    "duration": 23,
    "start_time": "2021-08-21T14:50:56.030Z"
   },
   {
    "duration": 16,
    "start_time": "2021-08-21T14:50:56.056Z"
   },
   {
    "duration": 10,
    "start_time": "2021-08-21T14:50:56.074Z"
   },
   {
    "duration": 8,
    "start_time": "2021-08-21T14:50:56.086Z"
   },
   {
    "duration": 5,
    "start_time": "2021-08-21T14:50:56.095Z"
   },
   {
    "duration": 4,
    "start_time": "2021-08-21T14:50:56.102Z"
   },
   {
    "duration": 6,
    "start_time": "2021-08-21T14:50:56.108Z"
   },
   {
    "duration": 7,
    "start_time": "2021-08-21T14:50:56.115Z"
   },
   {
    "duration": 7,
    "start_time": "2021-08-21T14:50:56.141Z"
   },
   {
    "duration": 6,
    "start_time": "2021-08-21T14:50:56.150Z"
   },
   {
    "duration": 8,
    "start_time": "2021-08-21T14:50:56.157Z"
   },
   {
    "duration": 193,
    "start_time": "2021-08-21T14:50:56.167Z"
   },
   {
    "duration": 18,
    "start_time": "2021-08-21T14:50:56.362Z"
   },
   {
    "duration": 3,
    "start_time": "2021-08-21T14:50:56.382Z"
   },
   {
    "duration": 27,
    "start_time": "2021-08-21T14:50:56.387Z"
   },
   {
    "duration": 31,
    "start_time": "2021-08-21T14:50:56.416Z"
   },
   {
    "duration": 6,
    "start_time": "2021-08-21T14:50:56.449Z"
   },
   {
    "duration": 28,
    "start_time": "2021-08-21T14:50:56.456Z"
   },
   {
    "duration": 12,
    "start_time": "2021-08-21T14:50:56.486Z"
   },
   {
    "duration": 33,
    "start_time": "2021-08-21T14:50:56.500Z"
   },
   {
    "duration": 14,
    "start_time": "2021-08-21T14:50:56.537Z"
   },
   {
    "duration": 6,
    "start_time": "2021-08-21T14:50:56.553Z"
   },
   {
    "duration": 22,
    "start_time": "2021-08-21T14:50:56.561Z"
   },
   {
    "duration": 22,
    "start_time": "2021-08-21T14:50:59.860Z"
   },
   {
    "duration": 8,
    "start_time": "2021-08-21T14:51:00.684Z"
   },
   {
    "duration": 1116,
    "start_time": "2021-08-21T14:56:12.421Z"
   },
   {
    "duration": 19,
    "start_time": "2021-08-21T15:01:25.203Z"
   },
   {
    "duration": 12,
    "start_time": "2021-08-21T15:01:28.381Z"
   },
   {
    "duration": 3,
    "start_time": "2021-08-21T15:01:40.694Z"
   },
   {
    "duration": 3,
    "start_time": "2021-08-21T15:01:40.701Z"
   },
   {
    "duration": 6,
    "start_time": "2021-08-21T15:01:40.705Z"
   },
   {
    "duration": 5,
    "start_time": "2021-08-21T15:01:40.712Z"
   },
   {
    "duration": 5,
    "start_time": "2021-08-21T15:01:40.718Z"
   },
   {
    "duration": 5,
    "start_time": "2021-08-21T15:01:40.724Z"
   },
   {
    "duration": 28,
    "start_time": "2021-08-21T15:01:40.731Z"
   },
   {
    "duration": 10,
    "start_time": "2021-08-21T15:01:40.761Z"
   },
   {
    "duration": 10,
    "start_time": "2021-08-21T15:01:40.773Z"
   },
   {
    "duration": 145,
    "start_time": "2021-08-21T15:01:40.784Z"
   },
   {
    "duration": 17,
    "start_time": "2021-08-21T15:01:40.930Z"
   },
   {
    "duration": 22,
    "start_time": "2021-08-21T15:01:40.948Z"
   },
   {
    "duration": 93,
    "start_time": "2021-08-21T15:01:40.973Z"
   },
   {
    "duration": 10,
    "start_time": "2021-08-21T15:01:41.068Z"
   },
   {
    "duration": 15,
    "start_time": "2021-08-21T15:01:41.080Z"
   },
   {
    "duration": 142,
    "start_time": "2021-08-21T15:01:41.096Z"
   },
   {
    "duration": 12,
    "start_time": "2021-08-21T15:01:41.239Z"
   },
   {
    "duration": 20,
    "start_time": "2021-08-21T15:01:41.253Z"
   },
   {
    "duration": 16,
    "start_time": "2021-08-21T15:01:41.274Z"
   },
   {
    "duration": 10,
    "start_time": "2021-08-21T15:01:41.292Z"
   },
   {
    "duration": 9,
    "start_time": "2021-08-21T15:01:41.303Z"
   },
   {
    "duration": 7,
    "start_time": "2021-08-21T15:01:41.313Z"
   },
   {
    "duration": 19,
    "start_time": "2021-08-21T15:01:41.322Z"
   },
   {
    "duration": 6,
    "start_time": "2021-08-21T15:01:41.343Z"
   },
   {
    "duration": 12,
    "start_time": "2021-08-21T15:01:41.351Z"
   },
   {
    "duration": 12,
    "start_time": "2021-08-21T15:01:41.365Z"
   },
   {
    "duration": 6,
    "start_time": "2021-08-21T15:01:41.379Z"
   },
   {
    "duration": 7,
    "start_time": "2021-08-21T15:01:41.386Z"
   },
   {
    "duration": 185,
    "start_time": "2021-08-21T15:01:41.394Z"
   },
   {
    "duration": 18,
    "start_time": "2021-08-21T15:01:41.581Z"
   },
   {
    "duration": 4,
    "start_time": "2021-08-21T15:01:41.601Z"
   },
   {
    "duration": 42,
    "start_time": "2021-08-21T15:01:41.606Z"
   },
   {
    "duration": 15,
    "start_time": "2021-08-21T15:01:41.650Z"
   },
   {
    "duration": 5,
    "start_time": "2021-08-21T15:01:41.666Z"
   },
   {
    "duration": 19,
    "start_time": "2021-08-21T15:01:41.673Z"
   },
   {
    "duration": 10,
    "start_time": "2021-08-21T15:01:41.694Z"
   },
   {
    "duration": 47,
    "start_time": "2021-08-21T15:01:41.706Z"
   },
   {
    "duration": 12,
    "start_time": "2021-08-21T15:01:41.754Z"
   },
   {
    "duration": 8,
    "start_time": "2021-08-21T15:01:41.768Z"
   },
   {
    "duration": 22,
    "start_time": "2021-08-21T15:01:41.778Z"
   },
   {
    "duration": 41,
    "start_time": "2021-08-21T15:01:41.802Z"
   },
   {
    "duration": 8,
    "start_time": "2021-08-21T15:01:41.844Z"
   },
   {
    "duration": 9,
    "start_time": "2021-08-21T15:01:44.351Z"
   },
   {
    "duration": 11,
    "start_time": "2021-08-21T15:01:45.110Z"
   },
   {
    "duration": 257,
    "start_time": "2021-08-21T15:03:01.883Z"
   },
   {
    "duration": 20,
    "start_time": "2021-08-21T15:04:41.380Z"
   },
   {
    "duration": 10,
    "start_time": "2021-08-21T15:04:43.771Z"
   },
   {
    "duration": 3,
    "start_time": "2021-08-21T15:04:56.489Z"
   },
   {
    "duration": 9,
    "start_time": "2021-08-21T15:04:56.493Z"
   },
   {
    "duration": 4,
    "start_time": "2021-08-21T15:04:56.504Z"
   },
   {
    "duration": 9,
    "start_time": "2021-08-21T15:04:56.510Z"
   },
   {
    "duration": 6,
    "start_time": "2021-08-21T15:04:56.521Z"
   },
   {
    "duration": 16,
    "start_time": "2021-08-21T15:04:56.529Z"
   },
   {
    "duration": 37,
    "start_time": "2021-08-21T15:04:56.547Z"
   },
   {
    "duration": 12,
    "start_time": "2021-08-21T15:04:56.586Z"
   },
   {
    "duration": 10,
    "start_time": "2021-08-21T15:04:56.599Z"
   },
   {
    "duration": 144,
    "start_time": "2021-08-21T15:04:56.610Z"
   },
   {
    "duration": 14,
    "start_time": "2021-08-21T15:04:56.755Z"
   },
   {
    "duration": 26,
    "start_time": "2021-08-21T15:04:56.770Z"
   },
   {
    "duration": 85,
    "start_time": "2021-08-21T15:04:56.798Z"
   },
   {
    "duration": 11,
    "start_time": "2021-08-21T15:04:56.885Z"
   },
   {
    "duration": 16,
    "start_time": "2021-08-21T15:04:56.898Z"
   },
   {
    "duration": 136,
    "start_time": "2021-08-21T15:04:56.916Z"
   },
   {
    "duration": 12,
    "start_time": "2021-08-21T15:04:57.056Z"
   },
   {
    "duration": 17,
    "start_time": "2021-08-21T15:04:57.071Z"
   },
   {
    "duration": 17,
    "start_time": "2021-08-21T15:04:57.090Z"
   },
   {
    "duration": 12,
    "start_time": "2021-08-21T15:04:57.109Z"
   },
   {
    "duration": 23,
    "start_time": "2021-08-21T15:04:57.123Z"
   },
   {
    "duration": 8,
    "start_time": "2021-08-21T15:04:57.148Z"
   },
   {
    "duration": 5,
    "start_time": "2021-08-21T15:04:57.158Z"
   },
   {
    "duration": 7,
    "start_time": "2021-08-21T15:04:57.165Z"
   },
   {
    "duration": 14,
    "start_time": "2021-08-21T15:04:57.174Z"
   },
   {
    "duration": 13,
    "start_time": "2021-08-21T15:04:57.190Z"
   },
   {
    "duration": 11,
    "start_time": "2021-08-21T15:04:57.205Z"
   },
   {
    "duration": 8,
    "start_time": "2021-08-21T15:04:57.218Z"
   },
   {
    "duration": 184,
    "start_time": "2021-08-21T15:04:57.228Z"
   },
   {
    "duration": 30,
    "start_time": "2021-08-21T15:04:57.414Z"
   },
   {
    "duration": 5,
    "start_time": "2021-08-21T15:04:57.446Z"
   },
   {
    "duration": 29,
    "start_time": "2021-08-21T15:04:57.452Z"
   },
   {
    "duration": 14,
    "start_time": "2021-08-21T15:04:57.483Z"
   },
   {
    "duration": 4,
    "start_time": "2021-08-21T15:04:57.499Z"
   },
   {
    "duration": 45,
    "start_time": "2021-08-21T15:04:57.505Z"
   },
   {
    "duration": 10,
    "start_time": "2021-08-21T15:04:57.552Z"
   },
   {
    "duration": 22,
    "start_time": "2021-08-21T15:04:57.564Z"
   },
   {
    "duration": 13,
    "start_time": "2021-08-21T15:04:57.587Z"
   },
   {
    "duration": 5,
    "start_time": "2021-08-21T15:04:57.602Z"
   },
   {
    "duration": 43,
    "start_time": "2021-08-21T15:04:57.608Z"
   },
   {
    "duration": 20,
    "start_time": "2021-08-21T15:05:01.345Z"
   },
   {
    "duration": 8,
    "start_time": "2021-08-21T15:05:03.364Z"
   },
   {
    "duration": 8,
    "start_time": "2021-08-21T15:05:10.323Z"
   },
   {
    "duration": 260,
    "start_time": "2021-08-21T15:05:12.332Z"
   },
   {
    "duration": 17,
    "start_time": "2021-08-21T15:07:10.941Z"
   },
   {
    "duration": 18,
    "start_time": "2021-08-21T15:10:09.772Z"
   },
   {
    "duration": 302,
    "start_time": "2021-08-21T15:19:20.666Z"
   },
   {
    "duration": 18,
    "start_time": "2021-08-21T15:19:39.659Z"
   },
   {
    "duration": 378,
    "start_time": "2021-08-21T15:20:45.197Z"
   },
   {
    "duration": 22,
    "start_time": "2021-08-21T15:21:07.133Z"
   },
   {
    "duration": 9,
    "start_time": "2021-08-21T15:21:15.685Z"
   },
   {
    "duration": 3,
    "start_time": "2021-08-21T15:21:32.083Z"
   },
   {
    "duration": 14,
    "start_time": "2021-08-21T15:21:32.088Z"
   },
   {
    "duration": 6,
    "start_time": "2021-08-21T15:21:32.104Z"
   },
   {
    "duration": 11,
    "start_time": "2021-08-21T15:21:32.112Z"
   },
   {
    "duration": 20,
    "start_time": "2021-08-21T15:21:32.125Z"
   },
   {
    "duration": 5,
    "start_time": "2021-08-21T15:21:32.147Z"
   },
   {
    "duration": 30,
    "start_time": "2021-08-21T15:21:32.154Z"
   },
   {
    "duration": 11,
    "start_time": "2021-08-21T15:21:32.186Z"
   },
   {
    "duration": 8,
    "start_time": "2021-08-21T15:21:32.200Z"
   },
   {
    "duration": 144,
    "start_time": "2021-08-21T15:21:32.210Z"
   },
   {
    "duration": 14,
    "start_time": "2021-08-21T15:21:32.356Z"
   },
   {
    "duration": 22,
    "start_time": "2021-08-21T15:21:32.372Z"
   },
   {
    "duration": 99,
    "start_time": "2021-08-21T15:21:32.395Z"
   },
   {
    "duration": 12,
    "start_time": "2021-08-21T15:21:32.496Z"
   },
   {
    "duration": 33,
    "start_time": "2021-08-21T15:21:32.510Z"
   },
   {
    "duration": 134,
    "start_time": "2021-08-21T15:21:32.545Z"
   },
   {
    "duration": 14,
    "start_time": "2021-08-21T15:21:32.681Z"
   },
   {
    "duration": 18,
    "start_time": "2021-08-21T15:21:32.696Z"
   },
   {
    "duration": 25,
    "start_time": "2021-08-21T15:21:32.718Z"
   },
   {
    "duration": 9,
    "start_time": "2021-08-21T15:21:32.746Z"
   },
   {
    "duration": 7,
    "start_time": "2021-08-21T15:21:32.757Z"
   },
   {
    "duration": 7,
    "start_time": "2021-08-21T15:21:32.766Z"
   },
   {
    "duration": 5,
    "start_time": "2021-08-21T15:21:32.775Z"
   },
   {
    "duration": 6,
    "start_time": "2021-08-21T15:21:32.781Z"
   },
   {
    "duration": 7,
    "start_time": "2021-08-21T15:21:32.789Z"
   },
   {
    "duration": 10,
    "start_time": "2021-08-21T15:21:32.797Z"
   },
   {
    "duration": 33,
    "start_time": "2021-08-21T15:21:32.809Z"
   },
   {
    "duration": 7,
    "start_time": "2021-08-21T15:21:32.844Z"
   },
   {
    "duration": 195,
    "start_time": "2021-08-21T15:21:32.853Z"
   },
   {
    "duration": 21,
    "start_time": "2021-08-21T15:21:33.049Z"
   },
   {
    "duration": 4,
    "start_time": "2021-08-21T15:21:33.073Z"
   },
   {
    "duration": 30,
    "start_time": "2021-08-21T15:21:33.078Z"
   },
   {
    "duration": 35,
    "start_time": "2021-08-21T15:21:33.110Z"
   },
   {
    "duration": 5,
    "start_time": "2021-08-21T15:21:33.146Z"
   },
   {
    "duration": 18,
    "start_time": "2021-08-21T15:21:33.152Z"
   },
   {
    "duration": 10,
    "start_time": "2021-08-21T15:21:33.172Z"
   },
   {
    "duration": 23,
    "start_time": "2021-08-21T15:21:33.183Z"
   },
   {
    "duration": 38,
    "start_time": "2021-08-21T15:21:33.208Z"
   },
   {
    "duration": 5,
    "start_time": "2021-08-21T15:21:33.248Z"
   },
   {
    "duration": 22,
    "start_time": "2021-08-21T15:21:33.254Z"
   },
   {
    "duration": 20,
    "start_time": "2021-08-21T15:21:33.278Z"
   },
   {
    "duration": 43,
    "start_time": "2021-08-21T15:21:33.300Z"
   },
   {
    "duration": 22,
    "start_time": "2021-08-21T15:21:36.025Z"
   },
   {
    "duration": 10,
    "start_time": "2021-08-21T15:21:36.757Z"
   },
   {
    "duration": 3,
    "start_time": "2021-08-21T15:22:23.949Z"
   },
   {
    "duration": 6,
    "start_time": "2021-08-21T15:22:23.954Z"
   },
   {
    "duration": 14,
    "start_time": "2021-08-21T15:22:23.961Z"
   },
   {
    "duration": 6,
    "start_time": "2021-08-21T15:22:23.977Z"
   },
   {
    "duration": 11,
    "start_time": "2021-08-21T15:22:23.985Z"
   },
   {
    "duration": 7,
    "start_time": "2021-08-21T15:22:23.997Z"
   },
   {
    "duration": 32,
    "start_time": "2021-08-21T15:22:24.006Z"
   },
   {
    "duration": 11,
    "start_time": "2021-08-21T15:22:24.040Z"
   },
   {
    "duration": 10,
    "start_time": "2021-08-21T15:22:24.053Z"
   },
   {
    "duration": 161,
    "start_time": "2021-08-21T15:22:24.065Z"
   },
   {
    "duration": 23,
    "start_time": "2021-08-21T15:22:24.228Z"
   },
   {
    "duration": 21,
    "start_time": "2021-08-21T15:22:24.254Z"
   },
   {
    "duration": 88,
    "start_time": "2021-08-21T15:22:24.277Z"
   },
   {
    "duration": 11,
    "start_time": "2021-08-21T15:22:24.366Z"
   },
   {
    "duration": 20,
    "start_time": "2021-08-21T15:22:24.378Z"
   },
   {
    "duration": 138,
    "start_time": "2021-08-21T15:22:24.400Z"
   },
   {
    "duration": 13,
    "start_time": "2021-08-21T15:22:24.541Z"
   },
   {
    "duration": 16,
    "start_time": "2021-08-21T15:22:24.557Z"
   },
   {
    "duration": 16,
    "start_time": "2021-08-21T15:22:24.575Z"
   },
   {
    "duration": 17,
    "start_time": "2021-08-21T15:22:24.593Z"
   },
   {
    "duration": 10,
    "start_time": "2021-08-21T15:22:24.612Z"
   },
   {
    "duration": 12,
    "start_time": "2021-08-21T15:22:24.623Z"
   },
   {
    "duration": 7,
    "start_time": "2021-08-21T15:22:24.637Z"
   },
   {
    "duration": 7,
    "start_time": "2021-08-21T15:22:24.646Z"
   },
   {
    "duration": 10,
    "start_time": "2021-08-21T15:22:24.654Z"
   },
   {
    "duration": 13,
    "start_time": "2021-08-21T15:22:24.665Z"
   },
   {
    "duration": 5,
    "start_time": "2021-08-21T15:22:24.680Z"
   },
   {
    "duration": 7,
    "start_time": "2021-08-21T15:22:24.687Z"
   },
   {
    "duration": 194,
    "start_time": "2021-08-21T15:22:24.696Z"
   },
   {
    "duration": 22,
    "start_time": "2021-08-21T15:22:24.892Z"
   },
   {
    "duration": 5,
    "start_time": "2021-08-21T15:22:24.916Z"
   },
   {
    "duration": 47,
    "start_time": "2021-08-21T15:22:24.923Z"
   },
   {
    "duration": 16,
    "start_time": "2021-08-21T15:22:24.972Z"
   },
   {
    "duration": 7,
    "start_time": "2021-08-21T15:22:24.990Z"
   },
   {
    "duration": 45,
    "start_time": "2021-08-21T15:22:24.998Z"
   },
   {
    "duration": 10,
    "start_time": "2021-08-21T15:22:25.045Z"
   },
   {
    "duration": 33,
    "start_time": "2021-08-21T15:22:25.057Z"
   },
   {
    "duration": 15,
    "start_time": "2021-08-21T15:22:25.091Z"
   },
   {
    "duration": 10,
    "start_time": "2021-08-21T15:22:25.108Z"
   },
   {
    "duration": 41,
    "start_time": "2021-08-21T15:22:25.120Z"
   },
   {
    "duration": 23,
    "start_time": "2021-08-21T15:22:25.163Z"
   },
   {
    "duration": 22,
    "start_time": "2021-08-21T15:22:25.188Z"
   },
   {
    "duration": 22,
    "start_time": "2021-08-21T15:22:26.870Z"
   },
   {
    "duration": 13,
    "start_time": "2021-08-21T15:22:27.678Z"
   },
   {
    "duration": 9,
    "start_time": "2021-08-21T15:22:43.399Z"
   },
   {
    "duration": 2,
    "start_time": "2021-08-21T15:23:15.790Z"
   },
   {
    "duration": 5,
    "start_time": "2021-08-21T15:23:15.794Z"
   },
   {
    "duration": 7,
    "start_time": "2021-08-21T15:23:15.801Z"
   },
   {
    "duration": 8,
    "start_time": "2021-08-21T15:23:15.810Z"
   },
   {
    "duration": 7,
    "start_time": "2021-08-21T15:23:15.819Z"
   },
   {
    "duration": 5,
    "start_time": "2021-08-21T15:23:15.828Z"
   },
   {
    "duration": 31,
    "start_time": "2021-08-21T15:23:15.835Z"
   },
   {
    "duration": 11,
    "start_time": "2021-08-21T15:23:15.868Z"
   },
   {
    "duration": 8,
    "start_time": "2021-08-21T15:23:15.881Z"
   },
   {
    "duration": 144,
    "start_time": "2021-08-21T15:23:15.890Z"
   },
   {
    "duration": 13,
    "start_time": "2021-08-21T15:23:16.036Z"
   },
   {
    "duration": 39,
    "start_time": "2021-08-21T15:23:16.050Z"
   },
   {
    "duration": 88,
    "start_time": "2021-08-21T15:23:16.090Z"
   },
   {
    "duration": 10,
    "start_time": "2021-08-21T15:23:16.181Z"
   },
   {
    "duration": 27,
    "start_time": "2021-08-21T15:23:16.193Z"
   },
   {
    "duration": 157,
    "start_time": "2021-08-21T15:23:16.222Z"
   },
   {
    "duration": 12,
    "start_time": "2021-08-21T15:23:16.380Z"
   },
   {
    "duration": 22,
    "start_time": "2021-08-21T15:23:16.394Z"
   },
   {
    "duration": 16,
    "start_time": "2021-08-21T15:23:16.418Z"
   },
   {
    "duration": 12,
    "start_time": "2021-08-21T15:23:16.435Z"
   },
   {
    "duration": 7,
    "start_time": "2021-08-21T15:23:16.448Z"
   },
   {
    "duration": 7,
    "start_time": "2021-08-21T15:23:16.456Z"
   },
   {
    "duration": 9,
    "start_time": "2021-08-21T15:23:16.464Z"
   },
   {
    "duration": 6,
    "start_time": "2021-08-21T15:23:16.475Z"
   },
   {
    "duration": 8,
    "start_time": "2021-08-21T15:23:16.482Z"
   },
   {
    "duration": 9,
    "start_time": "2021-08-21T15:23:16.492Z"
   },
   {
    "duration": 7,
    "start_time": "2021-08-21T15:23:16.503Z"
   },
   {
    "duration": 8,
    "start_time": "2021-08-21T15:23:16.511Z"
   },
   {
    "duration": 195,
    "start_time": "2021-08-21T15:23:16.521Z"
   },
   {
    "duration": 23,
    "start_time": "2021-08-21T15:23:16.718Z"
   },
   {
    "duration": 4,
    "start_time": "2021-08-21T15:23:16.743Z"
   },
   {
    "duration": 28,
    "start_time": "2021-08-21T15:23:16.748Z"
   },
   {
    "duration": 15,
    "start_time": "2021-08-21T15:23:16.778Z"
   },
   {
    "duration": 4,
    "start_time": "2021-08-21T15:23:16.796Z"
   },
   {
    "duration": 42,
    "start_time": "2021-08-21T15:23:16.802Z"
   },
   {
    "duration": 10,
    "start_time": "2021-08-21T15:23:16.845Z"
   },
   {
    "duration": 22,
    "start_time": "2021-08-21T15:23:16.856Z"
   },
   {
    "duration": 12,
    "start_time": "2021-08-21T15:23:16.879Z"
   },
   {
    "duration": 5,
    "start_time": "2021-08-21T15:23:16.893Z"
   },
   {
    "duration": 52,
    "start_time": "2021-08-21T15:23:16.899Z"
   },
   {
    "duration": 19,
    "start_time": "2021-08-21T15:23:16.952Z"
   },
   {
    "duration": 21,
    "start_time": "2021-08-21T15:23:20.225Z"
   },
   {
    "duration": 20,
    "start_time": "2021-08-21T15:23:24.752Z"
   },
   {
    "duration": 9,
    "start_time": "2021-08-21T15:23:25.586Z"
   },
   {
    "duration": 8,
    "start_time": "2021-08-21T15:23:34.962Z"
   },
   {
    "duration": 13,
    "start_time": "2021-08-21T15:25:32.653Z"
   },
   {
    "duration": 4,
    "start_time": "2021-08-21T15:30:30.957Z"
   },
   {
    "duration": 14,
    "start_time": "2021-08-21T15:30:38.802Z"
   },
   {
    "duration": 15,
    "start_time": "2021-08-21T15:35:27.491Z"
   },
   {
    "duration": 23,
    "start_time": "2021-08-21T15:39:00.881Z"
   },
   {
    "duration": 3,
    "start_time": "2021-08-21T15:39:23.674Z"
   },
   {
    "duration": 5,
    "start_time": "2021-08-21T15:39:23.680Z"
   },
   {
    "duration": 5,
    "start_time": "2021-08-21T15:39:23.687Z"
   },
   {
    "duration": 6,
    "start_time": "2021-08-21T15:39:23.693Z"
   },
   {
    "duration": 8,
    "start_time": "2021-08-21T15:39:23.701Z"
   },
   {
    "duration": 6,
    "start_time": "2021-08-21T15:39:23.710Z"
   },
   {
    "duration": 31,
    "start_time": "2021-08-21T15:39:23.717Z"
   },
   {
    "duration": 11,
    "start_time": "2021-08-21T15:39:23.751Z"
   },
   {
    "duration": 9,
    "start_time": "2021-08-21T15:39:23.764Z"
   },
   {
    "duration": 168,
    "start_time": "2021-08-21T15:39:23.775Z"
   },
   {
    "duration": 18,
    "start_time": "2021-08-21T15:39:23.945Z"
   },
   {
    "duration": 20,
    "start_time": "2021-08-21T15:39:23.964Z"
   },
   {
    "duration": 97,
    "start_time": "2021-08-21T15:39:23.986Z"
   },
   {
    "duration": 10,
    "start_time": "2021-08-21T15:39:24.084Z"
   },
   {
    "duration": 22,
    "start_time": "2021-08-21T15:39:24.096Z"
   },
   {
    "duration": 143,
    "start_time": "2021-08-21T15:39:24.120Z"
   },
   {
    "duration": 12,
    "start_time": "2021-08-21T15:39:24.265Z"
   },
   {
    "duration": 17,
    "start_time": "2021-08-21T15:39:24.279Z"
   },
   {
    "duration": 17,
    "start_time": "2021-08-21T15:39:24.299Z"
   },
   {
    "duration": 24,
    "start_time": "2021-08-21T15:39:24.318Z"
   },
   {
    "duration": 7,
    "start_time": "2021-08-21T15:39:24.344Z"
   },
   {
    "duration": 10,
    "start_time": "2021-08-21T15:39:24.352Z"
   },
   {
    "duration": 6,
    "start_time": "2021-08-21T15:39:24.363Z"
   },
   {
    "duration": 6,
    "start_time": "2021-08-21T15:39:24.371Z"
   },
   {
    "duration": 7,
    "start_time": "2021-08-21T15:39:24.379Z"
   },
   {
    "duration": 9,
    "start_time": "2021-08-21T15:39:24.388Z"
   },
   {
    "duration": 7,
    "start_time": "2021-08-21T15:39:24.399Z"
   },
   {
    "duration": 37,
    "start_time": "2021-08-21T15:39:24.408Z"
   },
   {
    "duration": 275,
    "start_time": "2021-08-21T15:39:24.447Z"
   },
   {
    "duration": 21,
    "start_time": "2021-08-21T15:39:24.724Z"
   },
   {
    "duration": 4,
    "start_time": "2021-08-21T15:39:24.747Z"
   },
   {
    "duration": 28,
    "start_time": "2021-08-21T15:39:24.753Z"
   },
   {
    "duration": 15,
    "start_time": "2021-08-21T15:39:24.783Z"
   },
   {
    "duration": 4,
    "start_time": "2021-08-21T15:39:24.800Z"
   },
   {
    "duration": 46,
    "start_time": "2021-08-21T15:39:24.806Z"
   },
   {
    "duration": 10,
    "start_time": "2021-08-21T15:39:24.854Z"
   },
   {
    "duration": 21,
    "start_time": "2021-08-21T15:39:24.865Z"
   },
   {
    "duration": 13,
    "start_time": "2021-08-21T15:39:24.887Z"
   },
   {
    "duration": 5,
    "start_time": "2021-08-21T15:39:24.901Z"
   },
   {
    "duration": 50,
    "start_time": "2021-08-21T15:39:24.908Z"
   },
   {
    "duration": 23,
    "start_time": "2021-08-21T15:39:28.040Z"
   },
   {
    "duration": 14,
    "start_time": "2021-08-21T15:39:28.763Z"
   },
   {
    "duration": 5,
    "start_time": "2021-08-21T15:39:33.353Z"
   },
   {
    "duration": 14,
    "start_time": "2021-08-21T15:39:35.932Z"
   },
   {
    "duration": 90,
    "start_time": "2021-08-21T15:41:00.566Z"
   },
   {
    "duration": 267,
    "start_time": "2021-08-21T15:41:14.685Z"
   },
   {
    "duration": 9,
    "start_time": "2021-08-21T15:43:28.250Z"
   },
   {
    "duration": 19,
    "start_time": "2021-08-21T15:44:26.874Z"
   },
   {
    "duration": 14,
    "start_time": "2021-08-21T15:45:11.899Z"
   },
   {
    "duration": 11,
    "start_time": "2021-08-21T15:45:35.497Z"
   },
   {
    "duration": 20,
    "start_time": "2021-08-21T15:45:46.517Z"
   },
   {
    "duration": 18,
    "start_time": "2021-08-21T15:47:29.970Z"
   },
   {
    "duration": 14,
    "start_time": "2021-08-21T15:47:51.153Z"
   },
   {
    "duration": 3,
    "start_time": "2021-08-21T15:48:40.792Z"
   },
   {
    "duration": 9,
    "start_time": "2021-08-21T15:48:40.796Z"
   },
   {
    "duration": 5,
    "start_time": "2021-08-21T15:48:40.806Z"
   },
   {
    "duration": 6,
    "start_time": "2021-08-21T15:48:40.813Z"
   },
   {
    "duration": 4,
    "start_time": "2021-08-21T15:48:40.821Z"
   },
   {
    "duration": 5,
    "start_time": "2021-08-21T15:48:40.827Z"
   },
   {
    "duration": 29,
    "start_time": "2021-08-21T15:48:40.835Z"
   },
   {
    "duration": 14,
    "start_time": "2021-08-21T15:48:40.866Z"
   },
   {
    "duration": 10,
    "start_time": "2021-08-21T15:48:40.881Z"
   },
   {
    "duration": 159,
    "start_time": "2021-08-21T15:48:40.892Z"
   },
   {
    "duration": 13,
    "start_time": "2021-08-21T15:48:41.052Z"
   },
   {
    "duration": 18,
    "start_time": "2021-08-21T15:48:41.067Z"
   },
   {
    "duration": 93,
    "start_time": "2021-08-21T15:48:41.088Z"
   },
   {
    "duration": 11,
    "start_time": "2021-08-21T15:48:41.183Z"
   },
   {
    "duration": 17,
    "start_time": "2021-08-21T15:48:41.195Z"
   },
   {
    "duration": 117,
    "start_time": "2021-08-21T15:48:41.214Z"
   },
   {
    "duration": 16,
    "start_time": "2021-08-21T15:48:41.333Z"
   },
   {
    "duration": 31,
    "start_time": "2021-08-21T15:48:41.350Z"
   },
   {
    "duration": 16,
    "start_time": "2021-08-21T15:48:41.382Z"
   },
   {
    "duration": 17,
    "start_time": "2021-08-21T15:48:41.400Z"
   },
   {
    "duration": 9,
    "start_time": "2021-08-21T15:48:41.419Z"
   },
   {
    "duration": 14,
    "start_time": "2021-08-21T15:48:41.429Z"
   },
   {
    "duration": 11,
    "start_time": "2021-08-21T15:48:41.445Z"
   },
   {
    "duration": 16,
    "start_time": "2021-08-21T15:48:41.457Z"
   },
   {
    "duration": 13,
    "start_time": "2021-08-21T15:48:41.475Z"
   },
   {
    "duration": 15,
    "start_time": "2021-08-21T15:48:41.490Z"
   },
   {
    "duration": 15,
    "start_time": "2021-08-21T15:48:41.507Z"
   },
   {
    "duration": 10,
    "start_time": "2021-08-21T15:48:41.523Z"
   },
   {
    "duration": 182,
    "start_time": "2021-08-21T15:48:41.535Z"
   },
   {
    "duration": 24,
    "start_time": "2021-08-21T15:48:41.720Z"
   },
   {
    "duration": 4,
    "start_time": "2021-08-21T15:48:41.746Z"
   },
   {
    "duration": 28,
    "start_time": "2021-08-21T15:48:41.751Z"
   },
   {
    "duration": 15,
    "start_time": "2021-08-21T15:48:41.781Z"
   },
   {
    "duration": 5,
    "start_time": "2021-08-21T15:48:41.797Z"
   },
   {
    "duration": 43,
    "start_time": "2021-08-21T15:48:41.803Z"
   },
   {
    "duration": 10,
    "start_time": "2021-08-21T15:48:41.847Z"
   },
   {
    "duration": 19,
    "start_time": "2021-08-21T15:48:41.859Z"
   },
   {
    "duration": 11,
    "start_time": "2021-08-21T15:48:41.880Z"
   },
   {
    "duration": 4,
    "start_time": "2021-08-21T15:48:41.894Z"
   },
   {
    "duration": 50,
    "start_time": "2021-08-21T15:48:41.900Z"
   },
   {
    "duration": 21,
    "start_time": "2021-08-21T15:48:41.951Z"
   },
   {
    "duration": 14,
    "start_time": "2021-08-21T15:48:41.974Z"
   },
   {
    "duration": 4,
    "start_time": "2021-08-21T15:48:41.990Z"
   },
   {
    "duration": 17,
    "start_time": "2021-08-21T15:48:41.995Z"
   },
   {
    "duration": 32,
    "start_time": "2021-08-21T15:48:42.013Z"
   },
   {
    "duration": 21,
    "start_time": "2021-08-21T15:48:42.047Z"
   },
   {
    "duration": 16,
    "start_time": "2021-08-21T15:48:45.338Z"
   },
   {
    "duration": 3,
    "start_time": "2021-08-21T15:51:47.468Z"
   },
   {
    "duration": 5,
    "start_time": "2021-08-21T15:51:47.473Z"
   },
   {
    "duration": 5,
    "start_time": "2021-08-21T15:51:47.480Z"
   },
   {
    "duration": 7,
    "start_time": "2021-08-21T15:51:47.486Z"
   },
   {
    "duration": 6,
    "start_time": "2021-08-21T15:51:47.494Z"
   },
   {
    "duration": 5,
    "start_time": "2021-08-21T15:51:47.502Z"
   },
   {
    "duration": 30,
    "start_time": "2021-08-21T15:51:47.509Z"
   },
   {
    "duration": 10,
    "start_time": "2021-08-21T15:51:47.541Z"
   },
   {
    "duration": 14,
    "start_time": "2021-08-21T15:51:47.553Z"
   },
   {
    "duration": 149,
    "start_time": "2021-08-21T15:51:47.568Z"
   },
   {
    "duration": 13,
    "start_time": "2021-08-21T15:51:47.720Z"
   },
   {
    "duration": 19,
    "start_time": "2021-08-21T15:51:47.741Z"
   },
   {
    "duration": 82,
    "start_time": "2021-08-21T15:51:47.761Z"
   },
   {
    "duration": 10,
    "start_time": "2021-08-21T15:51:47.845Z"
   },
   {
    "duration": 17,
    "start_time": "2021-08-21T15:51:47.856Z"
   },
   {
    "duration": 121,
    "start_time": "2021-08-21T15:51:47.874Z"
   },
   {
    "duration": 11,
    "start_time": "2021-08-21T15:51:47.997Z"
   },
   {
    "duration": 18,
    "start_time": "2021-08-21T15:51:48.010Z"
   },
   {
    "duration": 16,
    "start_time": "2021-08-21T15:51:48.040Z"
   },
   {
    "duration": 11,
    "start_time": "2021-08-21T15:51:48.058Z"
   },
   {
    "duration": 8,
    "start_time": "2021-08-21T15:51:48.071Z"
   },
   {
    "duration": 7,
    "start_time": "2021-08-21T15:51:48.080Z"
   },
   {
    "duration": 6,
    "start_time": "2021-08-21T15:51:48.088Z"
   },
   {
    "duration": 4,
    "start_time": "2021-08-21T15:51:48.096Z"
   },
   {
    "duration": 7,
    "start_time": "2021-08-21T15:51:48.102Z"
   },
   {
    "duration": 10,
    "start_time": "2021-08-21T15:51:48.111Z"
   },
   {
    "duration": 19,
    "start_time": "2021-08-21T15:51:48.122Z"
   },
   {
    "duration": 5,
    "start_time": "2021-08-21T15:51:48.143Z"
   },
   {
    "duration": 182,
    "start_time": "2021-08-21T15:51:48.149Z"
   },
   {
    "duration": 23,
    "start_time": "2021-08-21T15:51:48.333Z"
   },
   {
    "duration": 4,
    "start_time": "2021-08-21T15:51:48.358Z"
   },
   {
    "duration": 26,
    "start_time": "2021-08-21T15:51:48.363Z"
   },
   {
    "duration": 15,
    "start_time": "2021-08-21T15:51:48.391Z"
   },
   {
    "duration": 4,
    "start_time": "2021-08-21T15:51:48.408Z"
   },
   {
    "duration": 43,
    "start_time": "2021-08-21T15:51:48.414Z"
   },
   {
    "duration": 10,
    "start_time": "2021-08-21T15:51:48.458Z"
   },
   {
    "duration": 20,
    "start_time": "2021-08-21T15:51:48.470Z"
   },
   {
    "duration": 12,
    "start_time": "2021-08-21T15:51:48.491Z"
   },
   {
    "duration": 4,
    "start_time": "2021-08-21T15:51:48.505Z"
   },
   {
    "duration": 3,
    "start_time": "2021-08-21T16:00:18.442Z"
   },
   {
    "duration": 15,
    "start_time": "2021-08-21T16:00:18.448Z"
   },
   {
    "duration": 14,
    "start_time": "2021-08-21T16:00:18.464Z"
   },
   {
    "duration": 16,
    "start_time": "2021-08-21T16:00:18.480Z"
   },
   {
    "duration": 11,
    "start_time": "2021-08-21T16:00:18.498Z"
   },
   {
    "duration": 11,
    "start_time": "2021-08-21T16:00:18.511Z"
   },
   {
    "duration": 48,
    "start_time": "2021-08-21T16:00:18.524Z"
   },
   {
    "duration": 12,
    "start_time": "2021-08-21T16:00:18.574Z"
   },
   {
    "duration": 19,
    "start_time": "2021-08-21T16:00:18.587Z"
   },
   {
    "duration": 150,
    "start_time": "2021-08-21T16:00:18.609Z"
   },
   {
    "duration": 13,
    "start_time": "2021-08-21T16:00:18.762Z"
   },
   {
    "duration": 21,
    "start_time": "2021-08-21T16:00:18.777Z"
   },
   {
    "duration": 116,
    "start_time": "2021-08-21T16:00:18.800Z"
   },
   {
    "duration": 13,
    "start_time": "2021-08-21T16:00:18.919Z"
   },
   {
    "duration": 20,
    "start_time": "2021-08-21T16:00:18.940Z"
   },
   {
    "duration": 182,
    "start_time": "2021-08-21T16:00:18.962Z"
   },
   {
    "duration": 15,
    "start_time": "2021-08-21T16:00:19.146Z"
   },
   {
    "duration": 21,
    "start_time": "2021-08-21T16:00:19.163Z"
   },
   {
    "duration": 21,
    "start_time": "2021-08-21T16:00:19.186Z"
   },
   {
    "duration": 9,
    "start_time": "2021-08-21T16:00:19.209Z"
   },
   {
    "duration": 14,
    "start_time": "2021-08-21T16:00:19.220Z"
   },
   {
    "duration": 15,
    "start_time": "2021-08-21T16:00:19.236Z"
   },
   {
    "duration": 9,
    "start_time": "2021-08-21T16:00:19.253Z"
   },
   {
    "duration": 12,
    "start_time": "2021-08-21T16:00:19.265Z"
   },
   {
    "duration": 16,
    "start_time": "2021-08-21T16:00:19.279Z"
   },
   {
    "duration": 15,
    "start_time": "2021-08-21T16:00:19.297Z"
   },
   {
    "duration": 8,
    "start_time": "2021-08-21T16:00:19.314Z"
   },
   {
    "duration": 8,
    "start_time": "2021-08-21T16:00:19.325Z"
   },
   {
    "duration": 179,
    "start_time": "2021-08-21T16:00:19.334Z"
   },
   {
    "duration": 26,
    "start_time": "2021-08-21T16:00:19.515Z"
   },
   {
    "duration": 4,
    "start_time": "2021-08-21T16:00:19.542Z"
   },
   {
    "duration": 28,
    "start_time": "2021-08-21T16:00:19.548Z"
   },
   {
    "duration": 15,
    "start_time": "2021-08-21T16:00:19.577Z"
   },
   {
    "duration": 4,
    "start_time": "2021-08-21T16:00:19.594Z"
   },
   {
    "duration": 43,
    "start_time": "2021-08-21T16:00:19.600Z"
   },
   {
    "duration": 10,
    "start_time": "2021-08-21T16:00:19.645Z"
   },
   {
    "duration": 19,
    "start_time": "2021-08-21T16:00:19.657Z"
   },
   {
    "duration": 11,
    "start_time": "2021-08-21T16:00:19.678Z"
   },
   {
    "duration": 5,
    "start_time": "2021-08-21T16:00:19.691Z"
   },
   {
    "duration": 22,
    "start_time": "2021-08-21T16:00:23.798Z"
   },
   {
    "duration": 24,
    "start_time": "2021-08-21T16:00:35.923Z"
   },
   {
    "duration": 14,
    "start_time": "2021-08-21T16:00:38.054Z"
   },
   {
    "duration": 5,
    "start_time": "2021-08-21T16:00:46.069Z"
   },
   {
    "duration": 15,
    "start_time": "2021-08-21T16:00:53.349Z"
   },
   {
    "duration": 265,
    "start_time": "2021-08-21T16:02:19.775Z"
   },
   {
    "duration": 20,
    "start_time": "2021-08-21T16:02:33.385Z"
   },
   {
    "duration": 15,
    "start_time": "2021-08-21T16:02:42.696Z"
   },
   {
    "duration": 15,
    "start_time": "2021-08-21T16:03:34.987Z"
   },
   {
    "duration": 3,
    "start_time": "2021-08-21T16:04:21.930Z"
   },
   {
    "duration": 16,
    "start_time": "2021-08-21T16:04:21.935Z"
   },
   {
    "duration": 16,
    "start_time": "2021-08-21T16:04:21.952Z"
   },
   {
    "duration": 21,
    "start_time": "2021-08-21T16:04:21.970Z"
   },
   {
    "duration": 16,
    "start_time": "2021-08-21T16:04:21.993Z"
   },
   {
    "duration": 23,
    "start_time": "2021-08-21T16:04:22.011Z"
   },
   {
    "duration": 50,
    "start_time": "2021-08-21T16:04:22.036Z"
   },
   {
    "duration": 22,
    "start_time": "2021-08-21T16:04:22.088Z"
   },
   {
    "duration": 23,
    "start_time": "2021-08-21T16:04:22.112Z"
   },
   {
    "duration": 151,
    "start_time": "2021-08-21T16:04:22.136Z"
   },
   {
    "duration": 13,
    "start_time": "2021-08-21T16:04:22.288Z"
   },
   {
    "duration": 21,
    "start_time": "2021-08-21T16:04:22.302Z"
   },
   {
    "duration": 98,
    "start_time": "2021-08-21T16:04:22.324Z"
   },
   {
    "duration": 10,
    "start_time": "2021-08-21T16:04:22.424Z"
   },
   {
    "duration": 18,
    "start_time": "2021-08-21T16:04:22.435Z"
   },
   {
    "duration": 137,
    "start_time": "2021-08-21T16:04:22.455Z"
   },
   {
    "duration": 11,
    "start_time": "2021-08-21T16:04:22.594Z"
   },
   {
    "duration": 22,
    "start_time": "2021-08-21T16:04:22.607Z"
   },
   {
    "duration": 15,
    "start_time": "2021-08-21T16:04:22.631Z"
   },
   {
    "duration": 15,
    "start_time": "2021-08-21T16:04:22.647Z"
   },
   {
    "duration": 22,
    "start_time": "2021-08-21T16:04:22.664Z"
   },
   {
    "duration": 14,
    "start_time": "2021-08-21T16:04:22.688Z"
   },
   {
    "duration": 15,
    "start_time": "2021-08-21T16:04:22.705Z"
   },
   {
    "duration": 13,
    "start_time": "2021-08-21T16:04:22.721Z"
   },
   {
    "duration": 8,
    "start_time": "2021-08-21T16:04:22.735Z"
   },
   {
    "duration": 9,
    "start_time": "2021-08-21T16:04:22.745Z"
   },
   {
    "duration": 6,
    "start_time": "2021-08-21T16:04:22.755Z"
   },
   {
    "duration": 8,
    "start_time": "2021-08-21T16:04:22.763Z"
   },
   {
    "duration": 180,
    "start_time": "2021-08-21T16:04:22.773Z"
   },
   {
    "duration": 19,
    "start_time": "2021-08-21T16:04:22.955Z"
   },
   {
    "duration": 15,
    "start_time": "2021-08-21T16:04:22.975Z"
   },
   {
    "duration": 45,
    "start_time": "2021-08-21T16:04:22.991Z"
   },
   {
    "duration": 14,
    "start_time": "2021-08-21T16:04:23.038Z"
   },
   {
    "duration": 9,
    "start_time": "2021-08-21T16:04:23.054Z"
   },
   {
    "duration": 33,
    "start_time": "2021-08-21T16:04:23.064Z"
   },
   {
    "duration": 14,
    "start_time": "2021-08-21T16:04:23.099Z"
   },
   {
    "duration": 25,
    "start_time": "2021-08-21T16:04:23.115Z"
   },
   {
    "duration": 16,
    "start_time": "2021-08-21T16:04:23.142Z"
   },
   {
    "duration": 18,
    "start_time": "2021-08-21T16:04:23.160Z"
   },
   {
    "duration": 35,
    "start_time": "2021-08-21T16:04:23.180Z"
   },
   {
    "duration": 23,
    "start_time": "2021-08-21T16:04:23.217Z"
   },
   {
    "duration": 15,
    "start_time": "2021-08-21T16:04:23.241Z"
   },
   {
    "duration": 7,
    "start_time": "2021-08-21T16:04:23.258Z"
   },
   {
    "duration": 29,
    "start_time": "2021-08-21T16:04:23.267Z"
   },
   {
    "duration": 22,
    "start_time": "2021-08-21T16:04:25.577Z"
   },
   {
    "duration": 6,
    "start_time": "2021-08-21T16:04:59.805Z"
   },
   {
    "duration": 15,
    "start_time": "2021-08-21T16:05:13.876Z"
   },
   {
    "duration": 5,
    "start_time": "2021-08-21T16:12:19.439Z"
   },
   {
    "duration": 3,
    "start_time": "2021-08-21T16:12:22.774Z"
   },
   {
    "duration": 10,
    "start_time": "2021-08-21T16:12:22.779Z"
   },
   {
    "duration": 8,
    "start_time": "2021-08-21T16:12:22.791Z"
   },
   {
    "duration": 7,
    "start_time": "2021-08-21T16:12:22.801Z"
   },
   {
    "duration": 5,
    "start_time": "2021-08-21T16:12:22.810Z"
   },
   {
    "duration": 8,
    "start_time": "2021-08-21T16:12:22.816Z"
   },
   {
    "duration": 29,
    "start_time": "2021-08-21T16:12:22.826Z"
   },
   {
    "duration": 11,
    "start_time": "2021-08-21T16:12:22.857Z"
   },
   {
    "duration": 10,
    "start_time": "2021-08-21T16:12:22.870Z"
   },
   {
    "duration": 159,
    "start_time": "2021-08-21T16:12:22.882Z"
   },
   {
    "duration": 13,
    "start_time": "2021-08-21T16:12:23.043Z"
   },
   {
    "duration": 21,
    "start_time": "2021-08-21T16:12:23.058Z"
   },
   {
    "duration": 92,
    "start_time": "2021-08-21T16:12:23.081Z"
   },
   {
    "duration": 11,
    "start_time": "2021-08-21T16:12:23.176Z"
   },
   {
    "duration": 17,
    "start_time": "2021-08-21T16:12:23.189Z"
   },
   {
    "duration": 138,
    "start_time": "2021-08-21T16:12:23.208Z"
   },
   {
    "duration": 12,
    "start_time": "2021-08-21T16:12:23.348Z"
   },
   {
    "duration": 19,
    "start_time": "2021-08-21T16:12:23.362Z"
   },
   {
    "duration": 16,
    "start_time": "2021-08-21T16:12:23.382Z"
   },
   {
    "duration": 12,
    "start_time": "2021-08-21T16:12:23.400Z"
   },
   {
    "duration": 10,
    "start_time": "2021-08-21T16:12:23.413Z"
   },
   {
    "duration": 16,
    "start_time": "2021-08-21T16:12:23.425Z"
   },
   {
    "duration": 5,
    "start_time": "2021-08-21T16:12:23.443Z"
   },
   {
    "duration": 6,
    "start_time": "2021-08-21T16:12:23.450Z"
   },
   {
    "duration": 11,
    "start_time": "2021-08-21T16:12:23.458Z"
   },
   {
    "duration": 10,
    "start_time": "2021-08-21T16:12:23.471Z"
   },
   {
    "duration": 8,
    "start_time": "2021-08-21T16:12:23.482Z"
   },
   {
    "duration": 9,
    "start_time": "2021-08-21T16:12:23.491Z"
   },
   {
    "duration": 190,
    "start_time": "2021-08-21T16:12:23.501Z"
   },
   {
    "duration": 20,
    "start_time": "2021-08-21T16:12:23.693Z"
   },
   {
    "duration": 5,
    "start_time": "2021-08-21T16:12:23.714Z"
   },
   {
    "duration": 43,
    "start_time": "2021-08-21T16:12:23.721Z"
   },
   {
    "duration": 15,
    "start_time": "2021-08-21T16:12:23.765Z"
   },
   {
    "duration": 4,
    "start_time": "2021-08-21T16:12:23.784Z"
   },
   {
    "duration": 20,
    "start_time": "2021-08-21T16:12:23.790Z"
   },
   {
    "duration": 29,
    "start_time": "2021-08-21T16:12:23.812Z"
   },
   {
    "duration": 21,
    "start_time": "2021-08-21T16:12:23.843Z"
   },
   {
    "duration": 16,
    "start_time": "2021-08-21T16:12:23.866Z"
   },
   {
    "duration": 4,
    "start_time": "2021-08-21T16:12:23.884Z"
   },
   {
    "duration": 51,
    "start_time": "2021-08-21T16:12:23.890Z"
   },
   {
    "duration": 22,
    "start_time": "2021-08-21T16:12:23.942Z"
   },
   {
    "duration": 16,
    "start_time": "2021-08-21T16:12:23.966Z"
   },
   {
    "duration": 5,
    "start_time": "2021-08-21T16:12:26.814Z"
   },
   {
    "duration": 15,
    "start_time": "2021-08-21T16:12:28.791Z"
   },
   {
    "duration": 21,
    "start_time": "2021-08-21T16:12:30.063Z"
   },
   {
    "duration": 5,
    "start_time": "2021-08-21T16:12:40.486Z"
   },
   {
    "duration": 17,
    "start_time": "2021-08-21T16:12:41.450Z"
   },
   {
    "duration": 16,
    "start_time": "2021-08-21T16:18:30.306Z"
   },
   {
    "duration": 26,
    "start_time": "2021-08-21T16:19:59.456Z"
   },
   {
    "duration": 3,
    "start_time": "2021-08-21T16:21:12.263Z"
   },
   {
    "duration": 12,
    "start_time": "2021-08-21T16:21:12.268Z"
   },
   {
    "duration": 11,
    "start_time": "2021-08-21T16:21:12.282Z"
   },
   {
    "duration": 28,
    "start_time": "2021-08-21T16:21:12.295Z"
   },
   {
    "duration": 12,
    "start_time": "2021-08-21T16:21:12.325Z"
   },
   {
    "duration": 13,
    "start_time": "2021-08-21T16:21:12.338Z"
   },
   {
    "duration": 40,
    "start_time": "2021-08-21T16:21:12.353Z"
   },
   {
    "duration": 20,
    "start_time": "2021-08-21T16:21:12.395Z"
   },
   {
    "duration": 17,
    "start_time": "2021-08-21T16:21:12.417Z"
   },
   {
    "duration": 149,
    "start_time": "2021-08-21T16:21:12.437Z"
   },
   {
    "duration": 14,
    "start_time": "2021-08-21T16:21:12.588Z"
   },
   {
    "duration": 40,
    "start_time": "2021-08-21T16:21:12.603Z"
   },
   {
    "duration": 85,
    "start_time": "2021-08-21T16:21:12.645Z"
   },
   {
    "duration": 11,
    "start_time": "2021-08-21T16:21:12.731Z"
   },
   {
    "duration": 31,
    "start_time": "2021-08-21T16:21:12.744Z"
   },
   {
    "duration": 135,
    "start_time": "2021-08-21T16:21:12.777Z"
   },
   {
    "duration": 12,
    "start_time": "2021-08-21T16:21:12.914Z"
   },
   {
    "duration": 36,
    "start_time": "2021-08-21T16:21:12.928Z"
   },
   {
    "duration": 23,
    "start_time": "2021-08-21T16:21:12.965Z"
   },
   {
    "duration": 27,
    "start_time": "2021-08-21T16:21:12.989Z"
   },
   {
    "duration": 23,
    "start_time": "2021-08-21T16:21:13.018Z"
   },
   {
    "duration": 31,
    "start_time": "2021-08-21T16:21:13.043Z"
   },
   {
    "duration": 34,
    "start_time": "2021-08-21T16:21:13.075Z"
   },
   {
    "duration": 33,
    "start_time": "2021-08-21T16:21:13.110Z"
   },
   {
    "duration": 46,
    "start_time": "2021-08-21T16:21:13.144Z"
   },
   {
    "duration": 38,
    "start_time": "2021-08-21T16:21:13.192Z"
   },
   {
    "duration": 35,
    "start_time": "2021-08-21T16:21:13.232Z"
   },
   {
    "duration": 23,
    "start_time": "2021-08-21T16:21:13.271Z"
   },
   {
    "duration": 197,
    "start_time": "2021-08-21T16:21:13.296Z"
   },
   {
    "duration": 22,
    "start_time": "2021-08-21T16:21:13.494Z"
   },
   {
    "duration": 18,
    "start_time": "2021-08-21T16:21:13.517Z"
   },
   {
    "duration": 59,
    "start_time": "2021-08-21T16:21:13.537Z"
   },
   {
    "duration": 16,
    "start_time": "2021-08-21T16:21:13.598Z"
   },
   {
    "duration": 13,
    "start_time": "2021-08-21T16:21:13.616Z"
   },
   {
    "duration": 45,
    "start_time": "2021-08-21T16:21:13.631Z"
   },
   {
    "duration": 24,
    "start_time": "2021-08-21T16:21:13.678Z"
   },
   {
    "duration": 41,
    "start_time": "2021-08-21T16:21:13.704Z"
   },
   {
    "duration": 27,
    "start_time": "2021-08-21T16:21:13.746Z"
   },
   {
    "duration": 20,
    "start_time": "2021-08-21T16:21:13.774Z"
   },
   {
    "duration": 52,
    "start_time": "2021-08-21T16:21:13.795Z"
   },
   {
    "duration": 38,
    "start_time": "2021-08-21T16:21:13.849Z"
   },
   {
    "duration": 19,
    "start_time": "2021-08-21T16:21:13.890Z"
   },
   {
    "duration": 16,
    "start_time": "2021-08-21T16:21:13.911Z"
   },
   {
    "duration": 40,
    "start_time": "2021-08-21T16:21:13.929Z"
   },
   {
    "duration": 23,
    "start_time": "2021-08-21T16:21:13.971Z"
   },
   {
    "duration": 5,
    "start_time": "2021-08-21T16:21:13.996Z"
   },
   {
    "duration": 40,
    "start_time": "2021-08-21T16:21:14.003Z"
   },
   {
    "duration": 36,
    "start_time": "2021-08-21T16:21:14.044Z"
   },
   {
    "duration": 23,
    "start_time": "2021-08-21T16:21:16.525Z"
   },
   {
    "duration": 5,
    "start_time": "2021-08-21T16:21:24.598Z"
   },
   {
    "duration": 15,
    "start_time": "2021-08-21T16:21:33.094Z"
   },
   {
    "duration": 4,
    "start_time": "2021-08-21T16:22:06.479Z"
   },
   {
    "duration": 15,
    "start_time": "2021-08-21T16:22:07.193Z"
   },
   {
    "duration": 6,
    "start_time": "2021-08-21T16:25:55.631Z"
   },
   {
    "duration": 16,
    "start_time": "2021-08-21T16:26:05.117Z"
   },
   {
    "duration": 2,
    "start_time": "2021-08-21T16:27:25.504Z"
   },
   {
    "duration": 18,
    "start_time": "2021-08-21T16:27:25.509Z"
   },
   {
    "duration": 16,
    "start_time": "2021-08-21T16:27:25.529Z"
   },
   {
    "duration": 12,
    "start_time": "2021-08-21T16:27:25.547Z"
   },
   {
    "duration": 19,
    "start_time": "2021-08-21T16:27:25.561Z"
   },
   {
    "duration": 29,
    "start_time": "2021-08-21T16:27:25.581Z"
   },
   {
    "duration": 39,
    "start_time": "2021-08-21T16:27:25.612Z"
   },
   {
    "duration": 36,
    "start_time": "2021-08-21T16:27:25.653Z"
   },
   {
    "duration": 23,
    "start_time": "2021-08-21T16:27:25.691Z"
   },
   {
    "duration": 161,
    "start_time": "2021-08-21T16:27:25.716Z"
   },
   {
    "duration": 12,
    "start_time": "2021-08-21T16:27:25.879Z"
   },
   {
    "duration": 31,
    "start_time": "2021-08-21T16:27:25.893Z"
   },
   {
    "duration": 88,
    "start_time": "2021-08-21T16:27:25.926Z"
   },
   {
    "duration": 11,
    "start_time": "2021-08-21T16:27:26.015Z"
   },
   {
    "duration": 29,
    "start_time": "2021-08-21T16:27:26.027Z"
   },
   {
    "duration": 141,
    "start_time": "2021-08-21T16:27:26.058Z"
   },
   {
    "duration": 12,
    "start_time": "2021-08-21T16:27:26.201Z"
   },
   {
    "duration": 27,
    "start_time": "2021-08-21T16:27:26.215Z"
   },
   {
    "duration": 20,
    "start_time": "2021-08-21T16:27:26.244Z"
   },
   {
    "duration": 18,
    "start_time": "2021-08-21T16:27:26.266Z"
   },
   {
    "duration": 18,
    "start_time": "2021-08-21T16:27:26.286Z"
   },
   {
    "duration": 12,
    "start_time": "2021-08-21T16:27:26.306Z"
   },
   {
    "duration": 9,
    "start_time": "2021-08-21T16:27:26.320Z"
   },
   {
    "duration": 26,
    "start_time": "2021-08-21T16:27:26.333Z"
   },
   {
    "duration": 13,
    "start_time": "2021-08-21T16:27:26.362Z"
   },
   {
    "duration": 18,
    "start_time": "2021-08-21T16:27:26.377Z"
   },
   {
    "duration": 18,
    "start_time": "2021-08-21T16:27:26.397Z"
   },
   {
    "duration": 19,
    "start_time": "2021-08-21T16:27:26.417Z"
   },
   {
    "duration": 173,
    "start_time": "2021-08-21T16:27:26.438Z"
   },
   {
    "duration": 28,
    "start_time": "2021-08-21T16:27:26.613Z"
   },
   {
    "duration": 4,
    "start_time": "2021-08-21T16:27:26.642Z"
   },
   {
    "duration": 34,
    "start_time": "2021-08-21T16:27:26.648Z"
   },
   {
    "duration": 15,
    "start_time": "2021-08-21T16:27:26.683Z"
   },
   {
    "duration": 5,
    "start_time": "2021-08-21T16:27:26.700Z"
   },
   {
    "duration": 35,
    "start_time": "2021-08-21T16:27:26.706Z"
   },
   {
    "duration": 11,
    "start_time": "2021-08-21T16:27:26.742Z"
   },
   {
    "duration": 30,
    "start_time": "2021-08-21T16:27:26.754Z"
   },
   {
    "duration": 18,
    "start_time": "2021-08-21T16:27:26.786Z"
   },
   {
    "duration": 5,
    "start_time": "2021-08-21T16:27:26.805Z"
   },
   {
    "duration": 36,
    "start_time": "2021-08-21T16:27:26.812Z"
   },
   {
    "duration": 23,
    "start_time": "2021-08-21T16:27:26.850Z"
   },
   {
    "duration": 15,
    "start_time": "2021-08-21T16:27:26.874Z"
   },
   {
    "duration": 11,
    "start_time": "2021-08-21T16:27:26.891Z"
   },
   {
    "duration": 31,
    "start_time": "2021-08-21T16:27:26.904Z"
   },
   {
    "duration": 22,
    "start_time": "2021-08-21T16:27:26.941Z"
   },
   {
    "duration": 10,
    "start_time": "2021-08-21T16:27:26.964Z"
   },
   {
    "duration": 24,
    "start_time": "2021-08-21T16:27:26.975Z"
   },
   {
    "duration": 25,
    "start_time": "2021-08-21T16:27:27.001Z"
   },
   {
    "duration": 20,
    "start_time": "2021-08-21T16:27:27.028Z"
   },
   {
    "duration": 4,
    "start_time": "2021-08-21T16:27:27.050Z"
   },
   {
    "duration": 30,
    "start_time": "2021-08-21T16:27:27.056Z"
   },
   {
    "duration": 16,
    "start_time": "2021-08-21T16:27:27.088Z"
   },
   {
    "duration": 7,
    "start_time": "2021-08-21T16:27:38.487Z"
   },
   {
    "duration": 3,
    "start_time": "2021-08-21T16:27:39.209Z"
   },
   {
    "duration": 254,
    "start_time": "2021-08-21T16:31:56.787Z"
   },
   {
    "duration": 7,
    "start_time": "2021-08-21T16:32:01.362Z"
   },
   {
    "duration": 41,
    "start_time": "2021-08-21T16:32:19.431Z"
   },
   {
    "duration": 8,
    "start_time": "2021-08-21T16:32:26.425Z"
   },
   {
    "duration": 5,
    "start_time": "2021-08-21T16:34:44.093Z"
   },
   {
    "duration": 5,
    "start_time": "2021-08-21T16:35:15.621Z"
   },
   {
    "duration": 6,
    "start_time": "2021-08-21T16:35:26.180Z"
   },
   {
    "duration": 3,
    "start_time": "2021-08-21T16:36:51.644Z"
   },
   {
    "duration": 9,
    "start_time": "2021-08-21T16:36:51.649Z"
   },
   {
    "duration": 13,
    "start_time": "2021-08-21T16:36:51.660Z"
   },
   {
    "duration": 23,
    "start_time": "2021-08-21T16:36:51.675Z"
   },
   {
    "duration": 9,
    "start_time": "2021-08-21T16:36:51.700Z"
   },
   {
    "duration": 6,
    "start_time": "2021-08-21T16:36:51.711Z"
   },
   {
    "duration": 32,
    "start_time": "2021-08-21T16:36:51.719Z"
   },
   {
    "duration": 25,
    "start_time": "2021-08-21T16:36:51.753Z"
   },
   {
    "duration": 12,
    "start_time": "2021-08-21T16:36:51.779Z"
   },
   {
    "duration": 185,
    "start_time": "2021-08-21T16:36:51.793Z"
   },
   {
    "duration": 19,
    "start_time": "2021-08-21T16:36:51.980Z"
   },
   {
    "duration": 19,
    "start_time": "2021-08-21T16:36:52.001Z"
   },
   {
    "duration": 78,
    "start_time": "2021-08-21T16:36:52.022Z"
   },
   {
    "duration": 13,
    "start_time": "2021-08-21T16:36:52.101Z"
   },
   {
    "duration": 25,
    "start_time": "2021-08-21T16:36:52.116Z"
   },
   {
    "duration": 129,
    "start_time": "2021-08-21T16:36:52.142Z"
   },
   {
    "duration": 12,
    "start_time": "2021-08-21T16:36:52.272Z"
   },
   {
    "duration": 20,
    "start_time": "2021-08-21T16:36:52.287Z"
   },
   {
    "duration": 16,
    "start_time": "2021-08-21T16:36:52.309Z"
   },
   {
    "duration": 22,
    "start_time": "2021-08-21T16:36:52.327Z"
   },
   {
    "duration": 8,
    "start_time": "2021-08-21T16:36:52.350Z"
   },
   {
    "duration": 6,
    "start_time": "2021-08-21T16:36:52.360Z"
   },
   {
    "duration": 7,
    "start_time": "2021-08-21T16:36:52.368Z"
   },
   {
    "duration": 6,
    "start_time": "2021-08-21T16:36:52.377Z"
   },
   {
    "duration": 8,
    "start_time": "2021-08-21T16:36:52.384Z"
   },
   {
    "duration": 16,
    "start_time": "2021-08-21T16:36:52.393Z"
   },
   {
    "duration": 6,
    "start_time": "2021-08-21T16:36:52.411Z"
   },
   {
    "duration": 22,
    "start_time": "2021-08-21T16:36:52.419Z"
   },
   {
    "duration": 238,
    "start_time": "2021-08-21T16:36:52.443Z"
   },
   {
    "duration": 19,
    "start_time": "2021-08-21T16:36:52.683Z"
   },
   {
    "duration": 9,
    "start_time": "2021-08-21T16:36:52.704Z"
   },
   {
    "duration": 45,
    "start_time": "2021-08-21T16:36:52.715Z"
   },
   {
    "duration": 22,
    "start_time": "2021-08-21T16:36:52.762Z"
   },
   {
    "duration": 6,
    "start_time": "2021-08-21T16:36:52.786Z"
   },
   {
    "duration": 35,
    "start_time": "2021-08-21T16:36:52.794Z"
   },
   {
    "duration": 16,
    "start_time": "2021-08-21T16:36:52.842Z"
   },
   {
    "duration": 33,
    "start_time": "2021-08-21T16:36:52.860Z"
   },
   {
    "duration": 19,
    "start_time": "2021-08-21T16:36:52.895Z"
   },
   {
    "duration": 26,
    "start_time": "2021-08-21T16:36:52.916Z"
   },
   {
    "duration": 11,
    "start_time": "2021-08-21T16:37:04.682Z"
   },
   {
    "duration": 4,
    "start_time": "2021-08-21T16:37:06.511Z"
   },
   {
    "duration": 6,
    "start_time": "2021-08-21T16:37:14.121Z"
   },
   {
    "duration": 3,
    "start_time": "2021-08-21T16:37:45.819Z"
   },
   {
    "duration": 11,
    "start_time": "2021-08-21T16:37:45.828Z"
   },
   {
    "duration": 22,
    "start_time": "2021-08-21T16:37:45.841Z"
   },
   {
    "duration": 13,
    "start_time": "2021-08-21T16:37:45.865Z"
   },
   {
    "duration": 9,
    "start_time": "2021-08-21T16:37:45.879Z"
   },
   {
    "duration": 7,
    "start_time": "2021-08-21T16:37:45.889Z"
   },
   {
    "duration": 32,
    "start_time": "2021-08-21T16:37:45.897Z"
   },
   {
    "duration": 12,
    "start_time": "2021-08-21T16:37:45.930Z"
   },
   {
    "duration": 7,
    "start_time": "2021-08-21T16:37:45.945Z"
   },
   {
    "duration": 145,
    "start_time": "2021-08-21T16:37:45.954Z"
   },
   {
    "duration": 13,
    "start_time": "2021-08-21T16:37:46.100Z"
   },
   {
    "duration": 34,
    "start_time": "2021-08-21T16:37:46.115Z"
   },
   {
    "duration": 79,
    "start_time": "2021-08-21T16:37:46.151Z"
   },
   {
    "duration": 10,
    "start_time": "2021-08-21T16:37:46.232Z"
   },
   {
    "duration": 16,
    "start_time": "2021-08-21T16:37:46.244Z"
   },
   {
    "duration": 128,
    "start_time": "2021-08-21T16:37:46.262Z"
   },
   {
    "duration": 12,
    "start_time": "2021-08-21T16:37:46.391Z"
   },
   {
    "duration": 18,
    "start_time": "2021-08-21T16:37:46.405Z"
   },
   {
    "duration": 20,
    "start_time": "2021-08-21T16:37:46.424Z"
   },
   {
    "duration": 7,
    "start_time": "2021-08-21T16:37:46.446Z"
   },
   {
    "duration": 9,
    "start_time": "2021-08-21T16:37:46.454Z"
   },
   {
    "duration": 6,
    "start_time": "2021-08-21T16:37:46.464Z"
   },
   {
    "duration": 4,
    "start_time": "2021-08-21T16:37:46.473Z"
   },
   {
    "duration": 9,
    "start_time": "2021-08-21T16:37:46.479Z"
   },
   {
    "duration": 9,
    "start_time": "2021-08-21T16:37:46.490Z"
   },
   {
    "duration": 11,
    "start_time": "2021-08-21T16:37:46.500Z"
   },
   {
    "duration": 5,
    "start_time": "2021-08-21T16:37:46.512Z"
   },
   {
    "duration": 25,
    "start_time": "2021-08-21T16:37:46.519Z"
   },
   {
    "duration": 178,
    "start_time": "2021-08-21T16:37:46.546Z"
   },
   {
    "duration": 23,
    "start_time": "2021-08-21T16:37:46.726Z"
   },
   {
    "duration": 4,
    "start_time": "2021-08-21T16:37:46.750Z"
   },
   {
    "duration": 29,
    "start_time": "2021-08-21T16:37:46.756Z"
   },
   {
    "duration": 16,
    "start_time": "2021-08-21T16:37:46.787Z"
   },
   {
    "duration": 5,
    "start_time": "2021-08-21T16:37:46.804Z"
   },
   {
    "duration": 45,
    "start_time": "2021-08-21T16:37:46.811Z"
   },
   {
    "duration": 11,
    "start_time": "2021-08-21T16:37:46.857Z"
   },
   {
    "duration": 30,
    "start_time": "2021-08-21T16:37:46.870Z"
   },
   {
    "duration": 17,
    "start_time": "2021-08-21T16:37:46.902Z"
   },
   {
    "duration": 6,
    "start_time": "2021-08-21T16:37:46.941Z"
   },
   {
    "duration": 27,
    "start_time": "2021-08-21T16:37:46.949Z"
   },
   {
    "duration": 32,
    "start_time": "2021-08-21T16:37:46.978Z"
   },
   {
    "duration": 43,
    "start_time": "2021-08-21T16:37:47.012Z"
   },
   {
    "duration": 5,
    "start_time": "2021-08-21T16:37:47.057Z"
   },
   {
    "duration": 5,
    "start_time": "2021-08-21T16:37:49.976Z"
   },
   {
    "duration": 8,
    "start_time": "2021-08-21T16:37:50.616Z"
   },
   {
    "duration": 7,
    "start_time": "2021-08-21T16:40:11.696Z"
   },
   {
    "duration": 15,
    "start_time": "2021-08-21T16:40:16.909Z"
   },
   {
    "duration": 21,
    "start_time": "2021-08-21T16:40:19.485Z"
   },
   {
    "duration": 5,
    "start_time": "2021-08-21T16:40:21.878Z"
   },
   {
    "duration": 14,
    "start_time": "2021-08-21T16:40:24.158Z"
   },
   {
    "duration": 7,
    "start_time": "2021-08-21T16:40:42.514Z"
   },
   {
    "duration": 5,
    "start_time": "2021-08-21T16:41:57.594Z"
   },
   {
    "duration": 7,
    "start_time": "2021-08-21T16:43:28.762Z"
   },
   {
    "duration": 5,
    "start_time": "2021-08-21T16:44:54.539Z"
   },
   {
    "duration": 7,
    "start_time": "2021-08-21T16:56:47.291Z"
   },
   {
    "duration": 10,
    "start_time": "2021-08-21T16:56:48.922Z"
   },
   {
    "duration": 13,
    "start_time": "2021-08-21T16:58:17.131Z"
   },
   {
    "duration": 7,
    "start_time": "2021-08-21T17:01:34.983Z"
   },
   {
    "duration": 7,
    "start_time": "2021-08-21T17:09:50.532Z"
   },
   {
    "duration": 2,
    "start_time": "2021-08-21T17:10:01.447Z"
   },
   {
    "duration": 19,
    "start_time": "2021-08-21T17:10:01.452Z"
   },
   {
    "duration": 14,
    "start_time": "2021-08-21T17:10:01.473Z"
   },
   {
    "duration": 23,
    "start_time": "2021-08-21T17:10:01.489Z"
   },
   {
    "duration": 32,
    "start_time": "2021-08-21T17:10:01.514Z"
   },
   {
    "duration": 11,
    "start_time": "2021-08-21T17:10:01.547Z"
   },
   {
    "duration": 32,
    "start_time": "2021-08-21T17:10:01.559Z"
   },
   {
    "duration": 25,
    "start_time": "2021-08-21T17:10:01.593Z"
   },
   {
    "duration": 22,
    "start_time": "2021-08-21T17:10:01.620Z"
   },
   {
    "duration": 137,
    "start_time": "2021-08-21T17:10:01.644Z"
   },
   {
    "duration": 14,
    "start_time": "2021-08-21T17:10:01.782Z"
   },
   {
    "duration": 30,
    "start_time": "2021-08-21T17:10:01.797Z"
   },
   {
    "duration": 81,
    "start_time": "2021-08-21T17:10:01.828Z"
   },
   {
    "duration": 9,
    "start_time": "2021-08-21T17:10:01.911Z"
   },
   {
    "duration": 26,
    "start_time": "2021-08-21T17:10:01.922Z"
   },
   {
    "duration": 135,
    "start_time": "2021-08-21T17:10:01.950Z"
   },
   {
    "duration": 12,
    "start_time": "2021-08-21T17:10:02.087Z"
   },
   {
    "duration": 15,
    "start_time": "2021-08-21T17:10:02.101Z"
   },
   {
    "duration": 28,
    "start_time": "2021-08-21T17:10:02.118Z"
   },
   {
    "duration": 19,
    "start_time": "2021-08-21T17:10:02.147Z"
   },
   {
    "duration": 17,
    "start_time": "2021-08-21T17:10:02.168Z"
   },
   {
    "duration": 20,
    "start_time": "2021-08-21T17:10:02.187Z"
   },
   {
    "duration": 19,
    "start_time": "2021-08-21T17:10:02.209Z"
   },
   {
    "duration": 17,
    "start_time": "2021-08-21T17:10:02.231Z"
   },
   {
    "duration": 31,
    "start_time": "2021-08-21T17:10:02.250Z"
   },
   {
    "duration": 16,
    "start_time": "2021-08-21T17:10:02.282Z"
   },
   {
    "duration": 17,
    "start_time": "2021-08-21T17:10:02.300Z"
   },
   {
    "duration": 18,
    "start_time": "2021-08-21T17:10:02.318Z"
   },
   {
    "duration": 174,
    "start_time": "2021-08-21T17:10:02.338Z"
   },
   {
    "duration": 28,
    "start_time": "2021-08-21T17:10:02.514Z"
   },
   {
    "duration": 4,
    "start_time": "2021-08-21T17:10:02.544Z"
   },
   {
    "duration": 26,
    "start_time": "2021-08-21T17:10:02.550Z"
   },
   {
    "duration": 15,
    "start_time": "2021-08-21T17:10:02.578Z"
   },
   {
    "duration": 5,
    "start_time": "2021-08-21T17:10:02.594Z"
   },
   {
    "duration": 45,
    "start_time": "2021-08-21T17:10:02.600Z"
   },
   {
    "duration": 10,
    "start_time": "2021-08-21T17:10:02.646Z"
   },
   {
    "duration": 21,
    "start_time": "2021-08-21T17:10:02.658Z"
   },
   {
    "duration": 12,
    "start_time": "2021-08-21T17:10:02.680Z"
   },
   {
    "duration": 8,
    "start_time": "2021-08-21T17:10:02.693Z"
   },
   {
    "duration": 47,
    "start_time": "2021-08-21T17:10:02.703Z"
   },
   {
    "duration": 23,
    "start_time": "2021-08-21T17:10:02.751Z"
   },
   {
    "duration": 16,
    "start_time": "2021-08-21T17:10:02.775Z"
   },
   {
    "duration": 5,
    "start_time": "2021-08-21T17:10:02.792Z"
   },
   {
    "duration": 4,
    "start_time": "2021-08-21T17:10:06.446Z"
   },
   {
    "duration": 8,
    "start_time": "2021-08-21T17:10:07.076Z"
   },
   {
    "duration": 8,
    "start_time": "2021-08-21T17:13:58.419Z"
   },
   {
    "duration": 82,
    "start_time": "2021-08-21T17:14:44.309Z"
   },
   {
    "duration": 5,
    "start_time": "2021-08-21T17:14:51.783Z"
   },
   {
    "duration": 5,
    "start_time": "2021-08-21T17:15:44.587Z"
   },
   {
    "duration": 5,
    "start_time": "2021-08-21T17:17:19.905Z"
   },
   {
    "duration": 7,
    "start_time": "2021-08-21T17:17:32.600Z"
   },
   {
    "duration": 7,
    "start_time": "2021-08-21T17:17:56.441Z"
   },
   {
    "duration": 3,
    "start_time": "2021-08-21T17:18:03.999Z"
   },
   {
    "duration": 14,
    "start_time": "2021-08-21T17:18:04.004Z"
   },
   {
    "duration": 19,
    "start_time": "2021-08-21T17:18:04.019Z"
   },
   {
    "duration": 23,
    "start_time": "2021-08-21T17:18:04.039Z"
   },
   {
    "duration": 18,
    "start_time": "2021-08-21T17:18:04.063Z"
   },
   {
    "duration": 20,
    "start_time": "2021-08-21T17:18:04.082Z"
   },
   {
    "duration": 49,
    "start_time": "2021-08-21T17:18:04.105Z"
   },
   {
    "duration": 19,
    "start_time": "2021-08-21T17:18:04.156Z"
   },
   {
    "duration": 29,
    "start_time": "2021-08-21T17:18:04.177Z"
   },
   {
    "duration": 149,
    "start_time": "2021-08-21T17:18:04.209Z"
   },
   {
    "duration": 17,
    "start_time": "2021-08-21T17:18:04.360Z"
   },
   {
    "duration": 24,
    "start_time": "2021-08-21T17:18:04.379Z"
   },
   {
    "duration": 93,
    "start_time": "2021-08-21T17:18:04.404Z"
   },
   {
    "duration": 12,
    "start_time": "2021-08-21T17:18:04.498Z"
   },
   {
    "duration": 29,
    "start_time": "2021-08-21T17:18:04.512Z"
   },
   {
    "duration": 145,
    "start_time": "2021-08-21T17:18:04.543Z"
   },
   {
    "duration": 12,
    "start_time": "2021-08-21T17:18:04.689Z"
   },
   {
    "duration": 23,
    "start_time": "2021-08-21T17:18:04.703Z"
   },
   {
    "duration": 16,
    "start_time": "2021-08-21T17:18:04.729Z"
   },
   {
    "duration": 9,
    "start_time": "2021-08-21T17:18:04.748Z"
   },
   {
    "duration": 7,
    "start_time": "2021-08-21T17:18:04.759Z"
   },
   {
    "duration": 6,
    "start_time": "2021-08-21T17:18:04.768Z"
   },
   {
    "duration": 9,
    "start_time": "2021-08-21T17:18:04.775Z"
   },
   {
    "duration": 7,
    "start_time": "2021-08-21T17:18:04.786Z"
   },
   {
    "duration": 7,
    "start_time": "2021-08-21T17:18:04.794Z"
   },
   {
    "duration": 8,
    "start_time": "2021-08-21T17:18:04.803Z"
   },
   {
    "duration": 5,
    "start_time": "2021-08-21T17:18:04.813Z"
   },
   {
    "duration": 22,
    "start_time": "2021-08-21T17:18:04.820Z"
   },
   {
    "duration": 179,
    "start_time": "2021-08-21T17:18:04.844Z"
   },
   {
    "duration": 23,
    "start_time": "2021-08-21T17:18:05.025Z"
   },
   {
    "duration": 5,
    "start_time": "2021-08-21T17:18:05.049Z"
   },
   {
    "duration": 28,
    "start_time": "2021-08-21T17:18:05.055Z"
   },
   {
    "duration": 14,
    "start_time": "2021-08-21T17:18:05.085Z"
   },
   {
    "duration": 4,
    "start_time": "2021-08-21T17:18:05.101Z"
   },
   {
    "duration": 44,
    "start_time": "2021-08-21T17:18:05.107Z"
   },
   {
    "duration": 11,
    "start_time": "2021-08-21T17:18:05.152Z"
   },
   {
    "duration": 20,
    "start_time": "2021-08-21T17:18:05.164Z"
   },
   {
    "duration": 12,
    "start_time": "2021-08-21T17:18:05.185Z"
   },
   {
    "duration": 5,
    "start_time": "2021-08-21T17:18:05.199Z"
   },
   {
    "duration": 47,
    "start_time": "2021-08-21T17:18:05.205Z"
   },
   {
    "duration": 21,
    "start_time": "2021-08-21T17:18:05.254Z"
   },
   {
    "duration": 14,
    "start_time": "2021-08-21T17:18:05.276Z"
   },
   {
    "duration": 4,
    "start_time": "2021-08-21T17:18:05.291Z"
   },
   {
    "duration": 9,
    "start_time": "2021-08-21T17:18:05.297Z"
   },
   {
    "duration": 12,
    "start_time": "2021-08-21T17:18:05.307Z"
   },
   {
    "duration": 29,
    "start_time": "2021-08-21T17:18:05.320Z"
   },
   {
    "duration": 21,
    "start_time": "2021-08-21T17:18:05.350Z"
   },
   {
    "duration": 6,
    "start_time": "2021-08-21T17:18:05.372Z"
   },
   {
    "duration": 16,
    "start_time": "2021-08-21T17:18:05.380Z"
   },
   {
    "duration": 15,
    "start_time": "2021-08-21T17:18:16.106Z"
   },
   {
    "duration": 8,
    "start_time": "2021-08-21T17:18:28.940Z"
   },
   {
    "duration": 16,
    "start_time": "2021-08-21T17:18:48.970Z"
   },
   {
    "duration": 20,
    "start_time": "2021-08-21T17:18:49.939Z"
   },
   {
    "duration": 6,
    "start_time": "2021-08-21T17:18:51.102Z"
   },
   {
    "duration": 16,
    "start_time": "2021-08-21T17:18:51.755Z"
   },
   {
    "duration": 7,
    "start_time": "2021-08-21T17:18:54.369Z"
   },
   {
    "duration": 2,
    "start_time": "2021-08-21T17:18:55.011Z"
   },
   {
    "duration": 593,
    "start_time": "2021-08-21T17:19:16.629Z"
   },
   {
    "duration": 8,
    "start_time": "2021-08-21T17:19:21.380Z"
   },
   {
    "duration": 5,
    "start_time": "2021-08-21T17:20:09.613Z"
   },
   {
    "duration": 8,
    "start_time": "2021-08-21T17:20:10.701Z"
   },
   {
    "duration": 7,
    "start_time": "2021-08-21T17:21:36.751Z"
   },
   {
    "duration": 257,
    "start_time": "2021-08-21T17:41:24.270Z"
   },
   {
    "duration": 12,
    "start_time": "2021-08-21T17:41:36.985Z"
   },
   {
    "duration": 5,
    "start_time": "2021-08-21T17:43:12.854Z"
   },
   {
    "duration": 5,
    "start_time": "2021-08-21T17:43:31.162Z"
   },
   {
    "duration": 10,
    "start_time": "2021-08-21T17:44:17.859Z"
   },
   {
    "duration": 3,
    "start_time": "2021-08-21T17:52:19.553Z"
   },
   {
    "duration": 717,
    "start_time": "2021-08-21T17:53:29.627Z"
   },
   {
    "duration": 525,
    "start_time": "2021-08-21T17:54:58.989Z"
   },
   {
    "duration": 3,
    "start_time": "2021-08-21T17:58:36.188Z"
   },
   {
    "duration": 568,
    "start_time": "2021-08-21T17:58:37.483Z"
   },
   {
    "duration": 4,
    "start_time": "2021-08-21T18:00:19.501Z"
   },
   {
    "duration": 523,
    "start_time": "2021-08-21T18:00:21.006Z"
   },
   {
    "duration": 521,
    "start_time": "2021-08-21T18:00:33.918Z"
   },
   {
    "duration": 12,
    "start_time": "2021-08-21T18:37:28.641Z"
   },
   {
    "duration": 247,
    "start_time": "2021-08-21T18:38:59.751Z"
   },
   {
    "duration": 251,
    "start_time": "2021-08-21T18:39:34.103Z"
   },
   {
    "duration": 8,
    "start_time": "2021-08-21T18:39:45.781Z"
   },
   {
    "duration": 12,
    "start_time": "2021-08-21T18:40:01.837Z"
   },
   {
    "duration": 7,
    "start_time": "2021-08-21T18:40:27.511Z"
   },
   {
    "duration": 12,
    "start_time": "2021-08-21T18:40:28.559Z"
   },
   {
    "duration": 10,
    "start_time": "2021-08-21T18:41:20.960Z"
   },
   {
    "duration": 6,
    "start_time": "2021-08-21T18:48:26.906Z"
   },
   {
    "duration": 6,
    "start_time": "2021-08-21T18:49:09.660Z"
   },
   {
    "duration": 8,
    "start_time": "2021-08-21T18:49:28.036Z"
   },
   {
    "duration": 10,
    "start_time": "2021-08-21T18:49:29.196Z"
   },
   {
    "duration": 10,
    "start_time": "2021-08-21T18:50:08.912Z"
   },
   {
    "duration": 6,
    "start_time": "2021-08-21T19:02:33.059Z"
   },
   {
    "duration": 9,
    "start_time": "2021-08-21T19:02:38.613Z"
   },
   {
    "duration": 9,
    "start_time": "2021-08-21T19:04:38.932Z"
   },
   {
    "duration": 9,
    "start_time": "2021-08-21T19:04:40.893Z"
   },
   {
    "duration": 250,
    "start_time": "2021-08-21T19:09:39.032Z"
   },
   {
    "duration": -167,
    "start_time": "2021-08-21T19:09:39.450Z"
   },
   {
    "duration": 4,
    "start_time": "2021-08-21T19:09:55.495Z"
   },
   {
    "duration": 5,
    "start_time": "2021-08-21T19:10:19.360Z"
   },
   {
    "duration": 8,
    "start_time": "2021-08-21T19:11:36.498Z"
   },
   {
    "duration": 22,
    "start_time": "2021-08-21T19:11:56.563Z"
   },
   {
    "duration": 251,
    "start_time": "2021-08-21T19:40:57.930Z"
   },
   {
    "duration": 261,
    "start_time": "2021-08-21T19:55:16.103Z"
   },
   {
    "duration": 2,
    "start_time": "2021-08-21T19:55:33.489Z"
   },
   {
    "duration": 254,
    "start_time": "2021-08-21T19:55:50.587Z"
   },
   {
    "duration": 3,
    "start_time": "2021-08-21T19:56:15.288Z"
   },
   {
    "duration": 5,
    "start_time": "2021-08-21T19:56:16.959Z"
   },
   {
    "duration": 3,
    "start_time": "2021-08-21T19:56:30.406Z"
   },
   {
    "duration": 20,
    "start_time": "2021-08-21T19:56:30.416Z"
   },
   {
    "duration": 24,
    "start_time": "2021-08-21T19:56:30.438Z"
   },
   {
    "duration": 21,
    "start_time": "2021-08-21T19:56:30.464Z"
   },
   {
    "duration": 14,
    "start_time": "2021-08-21T19:56:30.487Z"
   },
   {
    "duration": 21,
    "start_time": "2021-08-21T19:56:30.503Z"
   },
   {
    "duration": 54,
    "start_time": "2021-08-21T19:56:30.525Z"
   },
   {
    "duration": 23,
    "start_time": "2021-08-21T19:56:30.581Z"
   },
   {
    "duration": 24,
    "start_time": "2021-08-21T19:56:30.606Z"
   },
   {
    "duration": 145,
    "start_time": "2021-08-21T19:56:30.632Z"
   },
   {
    "duration": 13,
    "start_time": "2021-08-21T19:56:30.779Z"
   },
   {
    "duration": 36,
    "start_time": "2021-08-21T19:56:30.794Z"
   },
   {
    "duration": 78,
    "start_time": "2021-08-21T19:56:30.832Z"
   },
   {
    "duration": 9,
    "start_time": "2021-08-21T19:56:30.912Z"
   },
   {
    "duration": 22,
    "start_time": "2021-08-21T19:56:30.923Z"
   },
   {
    "duration": 140,
    "start_time": "2021-08-21T19:56:30.947Z"
   },
   {
    "duration": 12,
    "start_time": "2021-08-21T19:56:31.088Z"
   },
   {
    "duration": 23,
    "start_time": "2021-08-21T19:56:31.102Z"
   },
   {
    "duration": 16,
    "start_time": "2021-08-21T19:56:31.127Z"
   },
   {
    "duration": 25,
    "start_time": "2021-08-21T19:56:31.144Z"
   },
   {
    "duration": 21,
    "start_time": "2021-08-21T19:56:31.171Z"
   },
   {
    "duration": 17,
    "start_time": "2021-08-21T19:56:31.193Z"
   },
   {
    "duration": 13,
    "start_time": "2021-08-21T19:56:31.211Z"
   },
   {
    "duration": 9,
    "start_time": "2021-08-21T19:56:31.226Z"
   },
   {
    "duration": 18,
    "start_time": "2021-08-21T19:56:31.237Z"
   },
   {
    "duration": 12,
    "start_time": "2021-08-21T19:56:31.257Z"
   },
   {
    "duration": 13,
    "start_time": "2021-08-21T19:56:31.270Z"
   },
   {
    "duration": 10,
    "start_time": "2021-08-21T19:56:31.286Z"
   },
   {
    "duration": 173,
    "start_time": "2021-08-21T19:56:31.298Z"
   },
   {
    "duration": 19,
    "start_time": "2021-08-21T19:56:31.473Z"
   },
   {
    "duration": 12,
    "start_time": "2021-08-21T19:56:31.493Z"
   },
   {
    "duration": 41,
    "start_time": "2021-08-21T19:56:31.506Z"
   },
   {
    "duration": 15,
    "start_time": "2021-08-21T19:56:31.549Z"
   },
   {
    "duration": 15,
    "start_time": "2021-08-21T19:56:31.565Z"
   },
   {
    "duration": 29,
    "start_time": "2021-08-21T19:56:31.581Z"
   },
   {
    "duration": 10,
    "start_time": "2021-08-21T19:56:31.612Z"
   },
   {
    "duration": 31,
    "start_time": "2021-08-21T19:56:31.623Z"
   },
   {
    "duration": 16,
    "start_time": "2021-08-21T19:56:31.655Z"
   },
   {
    "duration": 19,
    "start_time": "2021-08-21T19:56:31.673Z"
   },
   {
    "duration": 39,
    "start_time": "2021-08-21T19:56:31.693Z"
   },
   {
    "duration": 3,
    "start_time": "2021-08-21T19:56:37.831Z"
   },
   {
    "duration": 5,
    "start_time": "2021-08-21T19:56:38.516Z"
   },
   {
    "duration": 20,
    "start_time": "2021-08-21T19:57:11.049Z"
   },
   {
    "duration": 83,
    "start_time": "2021-08-21T19:57:58.355Z"
   },
   {
    "duration": 4,
    "start_time": "2021-08-21T19:58:06.635Z"
   },
   {
    "duration": 11,
    "start_time": "2021-08-21T19:58:15.294Z"
   },
   {
    "duration": 9,
    "start_time": "2021-08-21T19:58:47.332Z"
   },
   {
    "duration": 3,
    "start_time": "2021-08-21T19:58:53.579Z"
   },
   {
    "duration": 6,
    "start_time": "2021-08-21T19:58:56.911Z"
   },
   {
    "duration": 15,
    "start_time": "2021-08-21T19:59:23.612Z"
   },
   {
    "duration": 19,
    "start_time": "2021-08-21T19:59:39.141Z"
   },
   {
    "duration": 4,
    "start_time": "2021-08-21T19:59:56.814Z"
   },
   {
    "duration": 3,
    "start_time": "2021-08-21T20:00:12.661Z"
   },
   {
    "duration": 4,
    "start_time": "2021-08-21T20:00:43.288Z"
   },
   {
    "duration": 15,
    "start_time": "2021-08-21T20:00:45.182Z"
   },
   {
    "duration": 19,
    "start_time": "2021-08-21T20:00:47.495Z"
   },
   {
    "duration": 4,
    "start_time": "2021-08-21T20:00:48.510Z"
   },
   {
    "duration": 4,
    "start_time": "2021-08-21T20:00:54.679Z"
   },
   {
    "duration": 11,
    "start_time": "2021-08-21T20:01:01.966Z"
   },
   {
    "duration": 3,
    "start_time": "2021-08-21T20:01:19.474Z"
   },
   {
    "duration": 7,
    "start_time": "2021-08-21T20:01:19.479Z"
   },
   {
    "duration": 7,
    "start_time": "2021-08-21T20:01:19.488Z"
   },
   {
    "duration": 8,
    "start_time": "2021-08-21T20:01:19.497Z"
   },
   {
    "duration": 11,
    "start_time": "2021-08-21T20:01:19.507Z"
   },
   {
    "duration": 12,
    "start_time": "2021-08-21T20:01:19.519Z"
   },
   {
    "duration": 28,
    "start_time": "2021-08-21T20:01:19.533Z"
   },
   {
    "duration": 11,
    "start_time": "2021-08-21T20:01:19.563Z"
   },
   {
    "duration": 13,
    "start_time": "2021-08-21T20:01:19.576Z"
   },
   {
    "duration": 163,
    "start_time": "2021-08-21T20:01:19.591Z"
   },
   {
    "duration": 13,
    "start_time": "2021-08-21T20:01:19.756Z"
   },
   {
    "duration": 23,
    "start_time": "2021-08-21T20:01:19.770Z"
   },
   {
    "duration": 83,
    "start_time": "2021-08-21T20:01:19.794Z"
   },
   {
    "duration": 10,
    "start_time": "2021-08-21T20:01:19.879Z"
   },
   {
    "duration": 19,
    "start_time": "2021-08-21T20:01:19.891Z"
   },
   {
    "duration": 131,
    "start_time": "2021-08-21T20:01:19.912Z"
   },
   {
    "duration": 13,
    "start_time": "2021-08-21T20:01:20.045Z"
   },
   {
    "duration": 26,
    "start_time": "2021-08-21T20:01:20.060Z"
   },
   {
    "duration": 17,
    "start_time": "2021-08-21T20:01:20.088Z"
   },
   {
    "duration": 14,
    "start_time": "2021-08-21T20:01:20.107Z"
   },
   {
    "duration": 19,
    "start_time": "2021-08-21T20:01:20.123Z"
   },
   {
    "duration": 24,
    "start_time": "2021-08-21T20:01:20.145Z"
   },
   {
    "duration": 11,
    "start_time": "2021-08-21T20:01:20.171Z"
   },
   {
    "duration": 6,
    "start_time": "2021-08-21T20:01:20.184Z"
   },
   {
    "duration": 12,
    "start_time": "2021-08-21T20:01:20.191Z"
   },
   {
    "duration": 25,
    "start_time": "2021-08-21T20:01:20.205Z"
   },
   {
    "duration": 19,
    "start_time": "2021-08-21T20:01:20.232Z"
   },
   {
    "duration": 25,
    "start_time": "2021-08-21T20:01:20.253Z"
   },
   {
    "duration": 182,
    "start_time": "2021-08-21T20:01:20.279Z"
   },
   {
    "duration": 20,
    "start_time": "2021-08-21T20:01:20.462Z"
   },
   {
    "duration": 10,
    "start_time": "2021-08-21T20:01:20.483Z"
   },
   {
    "duration": 44,
    "start_time": "2021-08-21T20:01:20.494Z"
   },
   {
    "duration": 15,
    "start_time": "2021-08-21T20:01:20.540Z"
   },
   {
    "duration": 4,
    "start_time": "2021-08-21T20:01:20.557Z"
   },
   {
    "duration": 33,
    "start_time": "2021-08-21T20:01:20.562Z"
   },
   {
    "duration": 10,
    "start_time": "2021-08-21T20:01:20.597Z"
   },
   {
    "duration": 37,
    "start_time": "2021-08-21T20:01:20.609Z"
   },
   {
    "duration": 13,
    "start_time": "2021-08-21T20:01:20.647Z"
   },
   {
    "duration": 9,
    "start_time": "2021-08-21T20:01:20.662Z"
   },
   {
    "duration": 35,
    "start_time": "2021-08-21T20:01:20.673Z"
   },
   {
    "duration": 4,
    "start_time": "2021-08-21T20:01:20.710Z"
   },
   {
    "duration": 14,
    "start_time": "2021-08-21T20:01:20.716Z"
   },
   {
    "duration": 41,
    "start_time": "2021-08-21T20:01:20.732Z"
   },
   {
    "duration": 4,
    "start_time": "2021-08-21T20:01:20.775Z"
   },
   {
    "duration": 21,
    "start_time": "2021-08-21T20:01:20.781Z"
   },
   {
    "duration": 13,
    "start_time": "2021-08-21T20:01:20.804Z"
   },
   {
    "duration": 18,
    "start_time": "2021-08-21T20:01:20.819Z"
   },
   {
    "duration": 23,
    "start_time": "2021-08-21T20:01:20.838Z"
   },
   {
    "duration": 4,
    "start_time": "2021-08-21T20:01:20.862Z"
   },
   {
    "duration": 5,
    "start_time": "2021-08-21T20:01:24.218Z"
   },
   {
    "duration": 9,
    "start_time": "2021-08-21T20:01:25.059Z"
   },
   {
    "duration": 17,
    "start_time": "2021-08-21T20:02:39.866Z"
   },
   {
    "duration": 19,
    "start_time": "2021-08-21T20:03:00.810Z"
   },
   {
    "duration": 5,
    "start_time": "2021-08-21T20:03:12.426Z"
   },
   {
    "duration": 4,
    "start_time": "2021-08-21T20:03:32.757Z"
   },
   {
    "duration": 4,
    "start_time": "2021-08-21T20:03:39.205Z"
   },
   {
    "duration": 9,
    "start_time": "2021-08-21T20:03:40.598Z"
   },
   {
    "duration": 6,
    "start_time": "2021-08-21T20:04:21.141Z"
   },
   {
    "duration": 11,
    "start_time": "2021-08-21T20:04:29.045Z"
   },
   {
    "duration": 11,
    "start_time": "2021-08-21T20:04:37.901Z"
   },
   {
    "duration": 6,
    "start_time": "2021-08-21T20:04:55.464Z"
   },
   {
    "duration": 3,
    "start_time": "2021-08-21T20:06:07.133Z"
   },
   {
    "duration": 20,
    "start_time": "2021-08-21T20:06:07.138Z"
   },
   {
    "duration": 5,
    "start_time": "2021-08-21T20:06:07.160Z"
   },
   {
    "duration": 6,
    "start_time": "2021-08-21T20:06:07.167Z"
   },
   {
    "duration": 4,
    "start_time": "2021-08-21T20:06:07.175Z"
   },
   {
    "duration": 5,
    "start_time": "2021-08-21T20:06:07.181Z"
   },
   {
    "duration": 28,
    "start_time": "2021-08-21T20:06:07.188Z"
   },
   {
    "duration": 10,
    "start_time": "2021-08-21T20:06:07.219Z"
   },
   {
    "duration": 12,
    "start_time": "2021-08-21T20:06:07.230Z"
   },
   {
    "duration": 148,
    "start_time": "2021-08-21T20:06:07.244Z"
   },
   {
    "duration": 13,
    "start_time": "2021-08-21T20:06:07.394Z"
   },
   {
    "duration": 42,
    "start_time": "2021-08-21T20:06:07.410Z"
   },
   {
    "duration": 89,
    "start_time": "2021-08-21T20:06:07.454Z"
   },
   {
    "duration": 11,
    "start_time": "2021-08-21T20:06:07.545Z"
   },
   {
    "duration": 17,
    "start_time": "2021-08-21T20:06:07.558Z"
   },
   {
    "duration": 129,
    "start_time": "2021-08-21T20:06:07.576Z"
   },
   {
    "duration": 12,
    "start_time": "2021-08-21T20:06:07.707Z"
   },
   {
    "duration": 29,
    "start_time": "2021-08-21T20:06:07.720Z"
   },
   {
    "duration": 16,
    "start_time": "2021-08-21T20:06:07.751Z"
   },
   {
    "duration": 11,
    "start_time": "2021-08-21T20:06:07.769Z"
   },
   {
    "duration": 8,
    "start_time": "2021-08-21T20:06:07.782Z"
   },
   {
    "duration": 6,
    "start_time": "2021-08-21T20:06:07.792Z"
   },
   {
    "duration": 8,
    "start_time": "2021-08-21T20:06:07.800Z"
   },
   {
    "duration": 8,
    "start_time": "2021-08-21T20:06:07.809Z"
   },
   {
    "duration": 16,
    "start_time": "2021-08-21T20:06:07.819Z"
   },
   {
    "duration": 9,
    "start_time": "2021-08-21T20:06:07.837Z"
   },
   {
    "duration": 9,
    "start_time": "2021-08-21T20:06:07.848Z"
   },
   {
    "duration": 11,
    "start_time": "2021-08-21T20:06:07.859Z"
   },
   {
    "duration": 171,
    "start_time": "2021-08-21T20:06:07.872Z"
   },
   {
    "duration": 19,
    "start_time": "2021-08-21T20:06:08.045Z"
   },
   {
    "duration": 4,
    "start_time": "2021-08-21T20:06:08.066Z"
   },
   {
    "duration": 28,
    "start_time": "2021-08-21T20:06:08.072Z"
   },
   {
    "duration": 17,
    "start_time": "2021-08-21T20:06:08.101Z"
   },
   {
    "duration": 5,
    "start_time": "2021-08-21T20:06:08.142Z"
   },
   {
    "duration": 18,
    "start_time": "2021-08-21T20:06:08.150Z"
   },
   {
    "duration": 11,
    "start_time": "2021-08-21T20:06:08.170Z"
   },
   {
    "duration": 21,
    "start_time": "2021-08-21T20:06:08.182Z"
   },
   {
    "duration": 37,
    "start_time": "2021-08-21T20:06:08.205Z"
   },
   {
    "duration": 5,
    "start_time": "2021-08-21T20:06:08.243Z"
   },
   {
    "duration": 25,
    "start_time": "2021-08-21T20:06:08.249Z"
   },
   {
    "duration": 3,
    "start_time": "2021-08-21T20:06:08.275Z"
   },
   {
    "duration": 8,
    "start_time": "2021-08-21T20:06:08.280Z"
   },
   {
    "duration": 22,
    "start_time": "2021-08-21T20:06:08.290Z"
   },
   {
    "duration": 3,
    "start_time": "2021-08-21T20:06:08.314Z"
   },
   {
    "duration": 9,
    "start_time": "2021-08-21T20:06:08.341Z"
   },
   {
    "duration": 7,
    "start_time": "2021-08-21T20:06:08.351Z"
   },
   {
    "duration": 8,
    "start_time": "2021-08-21T20:06:08.359Z"
   },
   {
    "duration": 14,
    "start_time": "2021-08-21T20:06:08.369Z"
   },
   {
    "duration": 19,
    "start_time": "2021-08-21T20:06:08.384Z"
   },
   {
    "duration": 3,
    "start_time": "2021-08-21T20:06:08.405Z"
   },
   {
    "duration": 32,
    "start_time": "2021-08-21T20:06:08.409Z"
   },
   {
    "duration": 9,
    "start_time": "2021-08-21T20:06:08.443Z"
   },
   {
    "duration": 20,
    "start_time": "2021-08-21T20:06:08.453Z"
   },
   {
    "duration": 18,
    "start_time": "2021-08-21T20:06:08.475Z"
   },
   {
    "duration": 4,
    "start_time": "2021-08-21T20:06:08.494Z"
   },
   {
    "duration": 9,
    "start_time": "2021-08-21T20:06:08.499Z"
   },
   {
    "duration": 32,
    "start_time": "2021-08-21T20:06:08.510Z"
   },
   {
    "duration": 8,
    "start_time": "2021-08-21T20:06:08.544Z"
   },
   {
    "duration": 6,
    "start_time": "2021-08-21T20:06:08.553Z"
   },
   {
    "duration": 9,
    "start_time": "2021-08-21T20:06:08.560Z"
   },
   {
    "duration": 11,
    "start_time": "2021-08-21T20:06:08.571Z"
   },
   {
    "duration": 10,
    "start_time": "2021-08-21T20:06:08.583Z"
   },
   {
    "duration": 9,
    "start_time": "2021-08-21T20:06:08.595Z"
   },
   {
    "duration": 1334,
    "start_time": "2021-08-21T20:06:08.606Z"
   },
   {
    "duration": 7,
    "start_time": "2021-08-21T20:06:09.942Z"
   },
   {
    "duration": 7,
    "start_time": "2021-08-21T20:06:09.951Z"
   },
   {
    "duration": 13,
    "start_time": "2021-08-21T20:06:09.960Z"
   },
   {
    "duration": 21,
    "start_time": "2021-08-21T20:06:09.974Z"
   },
   {
    "duration": 8,
    "start_time": "2021-08-21T20:06:09.997Z"
   },
   {
    "duration": 282,
    "start_time": "2021-08-21T20:08:10.531Z"
   },
   {
    "duration": 4,
    "start_time": "2021-08-21T20:08:16.827Z"
   },
   {
    "duration": 3,
    "start_time": "2021-08-21T20:08:28.843Z"
   },
   {
    "duration": 7,
    "start_time": "2021-08-21T20:08:40.379Z"
   },
   {
    "duration": 15,
    "start_time": "2021-08-21T20:09:52.282Z"
   },
   {
    "duration": 18,
    "start_time": "2021-08-21T20:09:53.880Z"
   },
   {
    "duration": 4,
    "start_time": "2021-08-21T20:09:54.730Z"
   },
   {
    "duration": 4,
    "start_time": "2021-08-21T20:09:57.501Z"
   },
   {
    "duration": 4,
    "start_time": "2021-08-21T20:10:42.760Z"
   },
   {
    "duration": 4,
    "start_time": "2021-08-21T20:10:49.963Z"
   },
   {
    "duration": 11,
    "start_time": "2021-08-21T20:10:52.249Z"
   },
   {
    "duration": 2,
    "start_time": "2021-08-21T20:11:01.759Z"
   },
   {
    "duration": 18,
    "start_time": "2021-08-21T20:11:01.763Z"
   },
   {
    "duration": 12,
    "start_time": "2021-08-21T20:11:01.783Z"
   },
   {
    "duration": 20,
    "start_time": "2021-08-21T20:11:01.797Z"
   },
   {
    "duration": 13,
    "start_time": "2021-08-21T20:11:01.818Z"
   },
   {
    "duration": 11,
    "start_time": "2021-08-21T20:11:01.833Z"
   },
   {
    "duration": 35,
    "start_time": "2021-08-21T20:11:01.846Z"
   },
   {
    "duration": 20,
    "start_time": "2021-08-21T20:11:01.882Z"
   },
   {
    "duration": 17,
    "start_time": "2021-08-21T20:11:01.905Z"
   },
   {
    "duration": 149,
    "start_time": "2021-08-21T20:11:01.924Z"
   },
   {
    "duration": 14,
    "start_time": "2021-08-21T20:11:02.075Z"
   },
   {
    "duration": 26,
    "start_time": "2021-08-21T20:11:02.091Z"
   },
   {
    "duration": 88,
    "start_time": "2021-08-21T20:11:02.118Z"
   },
   {
    "duration": 10,
    "start_time": "2021-08-21T20:11:02.208Z"
   },
   {
    "duration": 30,
    "start_time": "2021-08-21T20:11:02.220Z"
   },
   {
    "duration": 138,
    "start_time": "2021-08-21T20:11:02.251Z"
   },
   {
    "duration": 13,
    "start_time": "2021-08-21T20:11:02.390Z"
   },
   {
    "duration": 38,
    "start_time": "2021-08-21T20:11:02.405Z"
   },
   {
    "duration": 17,
    "start_time": "2021-08-21T20:11:02.445Z"
   },
   {
    "duration": 22,
    "start_time": "2021-08-21T20:11:02.463Z"
   },
   {
    "duration": 25,
    "start_time": "2021-08-21T20:11:02.486Z"
   },
   {
    "duration": 19,
    "start_time": "2021-08-21T20:11:02.513Z"
   },
   {
    "duration": 17,
    "start_time": "2021-08-21T20:11:02.533Z"
   },
   {
    "duration": 7,
    "start_time": "2021-08-21T20:11:02.551Z"
   },
   {
    "duration": 12,
    "start_time": "2021-08-21T20:11:02.560Z"
   },
   {
    "duration": 9,
    "start_time": "2021-08-21T20:11:02.575Z"
   },
   {
    "duration": 6,
    "start_time": "2021-08-21T20:11:02.586Z"
   },
   {
    "duration": 13,
    "start_time": "2021-08-21T20:11:02.593Z"
   },
   {
    "duration": 169,
    "start_time": "2021-08-21T20:11:02.608Z"
   },
   {
    "duration": 20,
    "start_time": "2021-08-21T20:11:02.779Z"
   },
   {
    "duration": 13,
    "start_time": "2021-08-21T20:11:02.800Z"
   },
   {
    "duration": 40,
    "start_time": "2021-08-21T20:11:02.814Z"
   },
   {
    "duration": 17,
    "start_time": "2021-08-21T20:11:02.856Z"
   },
   {
    "duration": 7,
    "start_time": "2021-08-21T20:11:02.875Z"
   },
   {
    "duration": 30,
    "start_time": "2021-08-21T20:11:02.883Z"
   },
   {
    "duration": 27,
    "start_time": "2021-08-21T20:11:02.914Z"
   },
   {
    "duration": 22,
    "start_time": "2021-08-21T20:11:02.942Z"
   },
   {
    "duration": 12,
    "start_time": "2021-08-21T20:11:02.965Z"
   },
   {
    "duration": 16,
    "start_time": "2021-08-21T20:11:02.979Z"
   },
   {
    "duration": 33,
    "start_time": "2021-08-21T20:11:02.997Z"
   },
   {
    "duration": 9,
    "start_time": "2021-08-21T20:11:03.031Z"
   },
   {
    "duration": 7,
    "start_time": "2021-08-21T20:11:03.042Z"
   },
   {
    "duration": 37,
    "start_time": "2021-08-21T20:11:03.051Z"
   },
   {
    "duration": 8,
    "start_time": "2021-08-21T20:11:03.090Z"
   },
   {
    "duration": 26,
    "start_time": "2021-08-21T20:11:03.100Z"
   },
   {
    "duration": 24,
    "start_time": "2021-08-21T20:11:03.127Z"
   },
   {
    "duration": 23,
    "start_time": "2021-08-21T20:11:03.152Z"
   },
   {
    "duration": 16,
    "start_time": "2021-08-21T20:11:03.176Z"
   },
   {
    "duration": 28,
    "start_time": "2021-08-21T20:11:03.194Z"
   },
   {
    "duration": 21,
    "start_time": "2021-08-21T20:11:03.223Z"
   },
   {
    "duration": 11,
    "start_time": "2021-08-21T20:11:03.246Z"
   },
   {
    "duration": 18,
    "start_time": "2021-08-21T20:11:03.259Z"
   },
   {
    "duration": 4,
    "start_time": "2021-08-21T20:11:05.760Z"
   },
   {
    "duration": 10,
    "start_time": "2021-08-21T20:11:06.621Z"
   },
   {
    "duration": 6,
    "start_time": "2021-08-21T20:12:08.177Z"
   },
   {
    "duration": 6,
    "start_time": "2021-08-21T20:15:00.680Z"
   },
   {
    "duration": 4,
    "start_time": "2021-08-21T20:15:27.958Z"
   },
   {
    "duration": 6,
    "start_time": "2021-08-21T20:15:29.185Z"
   },
   {
    "duration": 17,
    "start_time": "2021-08-21T20:15:43.310Z"
   },
   {
    "duration": 18,
    "start_time": "2021-08-21T20:15:46.454Z"
   },
   {
    "duration": 4,
    "start_time": "2021-08-21T20:16:15.792Z"
   },
   {
    "duration": 5,
    "start_time": "2021-08-21T20:16:20.487Z"
   },
   {
    "duration": 15,
    "start_time": "2021-08-21T20:16:23.841Z"
   },
   {
    "duration": 6,
    "start_time": "2021-08-21T20:16:33.058Z"
   },
   {
    "duration": 7,
    "start_time": "2021-08-21T20:16:54.753Z"
   },
   {
    "duration": 2,
    "start_time": "2021-08-21T20:17:47.096Z"
   },
   {
    "duration": 17,
    "start_time": "2021-08-21T20:17:47.101Z"
   },
   {
    "duration": 33,
    "start_time": "2021-08-21T20:17:47.120Z"
   },
   {
    "duration": 19,
    "start_time": "2021-08-21T20:17:47.155Z"
   },
   {
    "duration": 25,
    "start_time": "2021-08-21T20:17:47.175Z"
   },
   {
    "duration": 28,
    "start_time": "2021-08-21T20:17:47.201Z"
   },
   {
    "duration": 45,
    "start_time": "2021-08-21T20:17:47.231Z"
   },
   {
    "duration": 17,
    "start_time": "2021-08-21T20:17:47.277Z"
   },
   {
    "duration": 33,
    "start_time": "2021-08-21T20:17:47.296Z"
   },
   {
    "duration": 153,
    "start_time": "2021-08-21T20:17:47.331Z"
   },
   {
    "duration": 12,
    "start_time": "2021-08-21T20:17:47.486Z"
   },
   {
    "duration": 39,
    "start_time": "2021-08-21T20:17:47.500Z"
   },
   {
    "duration": 79,
    "start_time": "2021-08-21T20:17:47.541Z"
   },
   {
    "duration": 10,
    "start_time": "2021-08-21T20:17:47.622Z"
   },
   {
    "duration": 33,
    "start_time": "2021-08-21T20:17:47.633Z"
   },
   {
    "duration": 149,
    "start_time": "2021-08-21T20:17:47.667Z"
   },
   {
    "duration": 12,
    "start_time": "2021-08-21T20:17:47.818Z"
   },
   {
    "duration": 35,
    "start_time": "2021-08-21T20:17:47.832Z"
   },
   {
    "duration": 24,
    "start_time": "2021-08-21T20:17:47.869Z"
   },
   {
    "duration": 29,
    "start_time": "2021-08-21T20:17:47.895Z"
   },
   {
    "duration": 35,
    "start_time": "2021-08-21T20:17:47.926Z"
   },
   {
    "duration": 29,
    "start_time": "2021-08-21T20:17:47.963Z"
   },
   {
    "duration": 19,
    "start_time": "2021-08-21T20:17:47.994Z"
   },
   {
    "duration": 25,
    "start_time": "2021-08-21T20:17:48.017Z"
   },
   {
    "duration": 17,
    "start_time": "2021-08-21T20:17:48.044Z"
   },
   {
    "duration": 32,
    "start_time": "2021-08-21T20:17:48.063Z"
   },
   {
    "duration": 26,
    "start_time": "2021-08-21T20:17:48.097Z"
   },
   {
    "duration": 22,
    "start_time": "2021-08-21T20:17:48.124Z"
   },
   {
    "duration": 190,
    "start_time": "2021-08-21T20:17:48.147Z"
   },
   {
    "duration": 20,
    "start_time": "2021-08-21T20:17:48.338Z"
   },
   {
    "duration": 21,
    "start_time": "2021-08-21T20:17:48.360Z"
   },
   {
    "duration": 37,
    "start_time": "2021-08-21T20:17:48.382Z"
   },
   {
    "duration": 16,
    "start_time": "2021-08-21T20:17:48.421Z"
   },
   {
    "duration": 12,
    "start_time": "2021-08-21T20:17:48.438Z"
   },
   {
    "duration": 28,
    "start_time": "2021-08-21T20:17:48.452Z"
   },
   {
    "duration": 14,
    "start_time": "2021-08-21T20:17:48.482Z"
   },
   {
    "duration": 43,
    "start_time": "2021-08-21T20:17:48.498Z"
   },
   {
    "duration": 17,
    "start_time": "2021-08-21T20:17:48.543Z"
   },
   {
    "duration": 10,
    "start_time": "2021-08-21T20:17:48.562Z"
   },
   {
    "duration": 35,
    "start_time": "2021-08-21T20:17:48.574Z"
   },
   {
    "duration": 3,
    "start_time": "2021-08-21T20:17:48.611Z"
   },
   {
    "duration": 19,
    "start_time": "2021-08-21T20:17:48.616Z"
   },
   {
    "duration": 40,
    "start_time": "2021-08-21T20:17:48.637Z"
   },
   {
    "duration": 4,
    "start_time": "2021-08-21T20:17:48.678Z"
   },
   {
    "duration": 23,
    "start_time": "2021-08-21T20:17:48.684Z"
   },
   {
    "duration": 21,
    "start_time": "2021-08-21T20:17:48.708Z"
   },
   {
    "duration": 27,
    "start_time": "2021-08-21T20:17:48.730Z"
   },
   {
    "duration": 18,
    "start_time": "2021-08-21T20:17:48.758Z"
   },
   {
    "duration": 31,
    "start_time": "2021-08-21T20:17:48.777Z"
   },
   {
    "duration": 21,
    "start_time": "2021-08-21T20:17:48.810Z"
   },
   {
    "duration": 11,
    "start_time": "2021-08-21T20:17:48.833Z"
   },
   {
    "duration": 28,
    "start_time": "2021-08-21T20:17:48.845Z"
   },
   {
    "duration": 41,
    "start_time": "2021-08-21T20:17:48.874Z"
   },
   {
    "duration": 39,
    "start_time": "2021-08-21T20:17:48.917Z"
   },
   {
    "duration": 29,
    "start_time": "2021-08-21T20:17:48.958Z"
   },
   {
    "duration": 3,
    "start_time": "2021-08-21T20:17:48.989Z"
   },
   {
    "duration": 28,
    "start_time": "2021-08-21T20:17:48.993Z"
   },
   {
    "duration": 26,
    "start_time": "2021-08-21T20:17:49.023Z"
   },
   {
    "duration": 20,
    "start_time": "2021-08-21T20:17:49.050Z"
   },
   {
    "duration": 7,
    "start_time": "2021-08-21T20:17:57.082Z"
   },
   {
    "duration": 2,
    "start_time": "2021-08-21T20:17:57.900Z"
   },
   {
    "duration": 7,
    "start_time": "2021-08-21T20:18:03.324Z"
   },
   {
    "duration": 6,
    "start_time": "2021-08-21T20:18:24.155Z"
   },
   {
    "duration": 3,
    "start_time": "2021-08-21T20:19:26.400Z"
   },
   {
    "duration": 6,
    "start_time": "2021-08-21T20:19:28.668Z"
   },
   {
    "duration": 8,
    "start_time": "2021-08-21T20:19:36.532Z"
   },
   {
    "duration": 89,
    "start_time": "2021-08-21T20:22:53.002Z"
   },
   {
    "duration": 7,
    "start_time": "2021-08-21T20:23:56.076Z"
   },
   {
    "duration": 9,
    "start_time": "2021-08-21T20:24:23.637Z"
   },
   {
    "duration": 4,
    "start_time": "2021-08-21T20:24:25.677Z"
   },
   {
    "duration": 4,
    "start_time": "2021-08-21T20:24:39.293Z"
   },
   {
    "duration": 14,
    "start_time": "2021-08-21T20:24:47.316Z"
   },
   {
    "duration": 20,
    "start_time": "2021-08-21T20:24:55.104Z"
   },
   {
    "duration": 10,
    "start_time": "2021-08-21T20:25:15.255Z"
   },
   {
    "duration": 2,
    "start_time": "2021-08-21T20:26:25.325Z"
   },
   {
    "duration": 4,
    "start_time": "2021-08-21T20:26:25.331Z"
   },
   {
    "duration": 2,
    "start_time": "2021-08-21T20:26:25.339Z"
   },
   {
    "duration": 4,
    "start_time": "2021-08-21T20:26:25.343Z"
   },
   {
    "duration": 5,
    "start_time": "2021-08-21T20:26:25.349Z"
   },
   {
    "duration": 5,
    "start_time": "2021-08-21T20:26:25.356Z"
   },
   {
    "duration": 31,
    "start_time": "2021-08-21T20:26:25.362Z"
   },
   {
    "duration": 16,
    "start_time": "2021-08-21T20:26:25.395Z"
   },
   {
    "duration": 7,
    "start_time": "2021-08-21T20:26:25.413Z"
   },
   {
    "duration": 138,
    "start_time": "2021-08-21T20:26:25.421Z"
   },
   {
    "duration": 12,
    "start_time": "2021-08-21T20:26:25.561Z"
   },
   {
    "duration": 23,
    "start_time": "2021-08-21T20:26:25.575Z"
   },
   {
    "duration": 90,
    "start_time": "2021-08-21T20:26:25.600Z"
   },
   {
    "duration": 10,
    "start_time": "2021-08-21T20:26:25.692Z"
   },
   {
    "duration": 14,
    "start_time": "2021-08-21T20:26:25.704Z"
   },
   {
    "duration": 121,
    "start_time": "2021-08-21T20:26:25.742Z"
   },
   {
    "duration": 12,
    "start_time": "2021-08-21T20:26:25.865Z"
   },
   {
    "duration": 17,
    "start_time": "2021-08-21T20:26:25.879Z"
   },
   {
    "duration": 15,
    "start_time": "2021-08-21T20:26:25.898Z"
   },
   {
    "duration": 11,
    "start_time": "2021-08-21T20:26:25.915Z"
   },
   {
    "duration": 16,
    "start_time": "2021-08-21T20:26:25.927Z"
   },
   {
    "duration": 6,
    "start_time": "2021-08-21T20:26:25.945Z"
   },
   {
    "duration": 5,
    "start_time": "2021-08-21T20:26:25.952Z"
   },
   {
    "duration": 11,
    "start_time": "2021-08-21T20:26:25.959Z"
   },
   {
    "duration": 7,
    "start_time": "2021-08-21T20:26:25.972Z"
   },
   {
    "duration": 10,
    "start_time": "2021-08-21T20:26:25.980Z"
   },
   {
    "duration": 4,
    "start_time": "2021-08-21T20:26:25.992Z"
   },
   {
    "duration": 8,
    "start_time": "2021-08-21T20:26:25.998Z"
   },
   {
    "duration": 209,
    "start_time": "2021-08-21T20:26:26.007Z"
   },
   {
    "duration": 23,
    "start_time": "2021-08-21T20:26:26.218Z"
   },
   {
    "duration": 4,
    "start_time": "2021-08-21T20:26:26.242Z"
   },
   {
    "duration": 27,
    "start_time": "2021-08-21T20:26:26.247Z"
   },
   {
    "duration": 14,
    "start_time": "2021-08-21T20:26:26.276Z"
   },
   {
    "duration": 4,
    "start_time": "2021-08-21T20:26:26.292Z"
   },
   {
    "duration": 45,
    "start_time": "2021-08-21T20:26:26.297Z"
   },
   {
    "duration": 10,
    "start_time": "2021-08-21T20:26:26.344Z"
   },
   {
    "duration": 23,
    "start_time": "2021-08-21T20:26:26.356Z"
   },
   {
    "duration": 11,
    "start_time": "2021-08-21T20:26:26.381Z"
   },
   {
    "duration": 6,
    "start_time": "2021-08-21T20:26:26.394Z"
   },
   {
    "duration": 46,
    "start_time": "2021-08-21T20:26:26.405Z"
   },
   {
    "duration": 3,
    "start_time": "2021-08-21T20:26:26.453Z"
   },
   {
    "duration": 11,
    "start_time": "2021-08-21T20:26:26.458Z"
   },
   {
    "duration": 24,
    "start_time": "2021-08-21T20:26:26.471Z"
   },
   {
    "duration": 4,
    "start_time": "2021-08-21T20:26:26.497Z"
   },
   {
    "duration": 12,
    "start_time": "2021-08-21T20:26:26.503Z"
   },
   {
    "duration": 25,
    "start_time": "2021-08-21T20:26:26.516Z"
   },
   {
    "duration": 5,
    "start_time": "2021-08-21T20:26:26.543Z"
   },
   {
    "duration": 5,
    "start_time": "2021-08-21T20:26:26.550Z"
   },
   {
    "duration": 17,
    "start_time": "2021-08-21T20:26:26.557Z"
   },
   {
    "duration": 19,
    "start_time": "2021-08-21T20:26:26.575Z"
   },
   {
    "duration": 4,
    "start_time": "2021-08-21T20:26:26.596Z"
   },
   {
    "duration": 6,
    "start_time": "2021-08-21T20:26:26.601Z"
   },
   {
    "duration": 37,
    "start_time": "2021-08-21T20:26:26.608Z"
   },
   {
    "duration": 18,
    "start_time": "2021-08-21T20:26:26.647Z"
   },
   {
    "duration": 17,
    "start_time": "2021-08-21T20:26:26.667Z"
   },
   {
    "duration": 4,
    "start_time": "2021-08-21T20:26:26.685Z"
   },
   {
    "duration": 6,
    "start_time": "2021-08-21T20:26:26.691Z"
   },
   {
    "duration": 12,
    "start_time": "2021-08-21T20:26:26.698Z"
   },
   {
    "duration": 32,
    "start_time": "2021-08-21T20:26:26.711Z"
   },
   {
    "duration": 6,
    "start_time": "2021-08-21T20:26:26.744Z"
   },
   {
    "duration": 10,
    "start_time": "2021-08-21T20:26:26.752Z"
   },
   {
    "duration": 3,
    "start_time": "2021-08-21T20:26:26.764Z"
   },
   {
    "duration": 9,
    "start_time": "2021-08-21T20:26:26.768Z"
   },
   {
    "duration": 9,
    "start_time": "2021-08-21T20:26:32.185Z"
   },
   {
    "duration": 13,
    "start_time": "2021-08-21T20:26:32.872Z"
   },
   {
    "duration": 11,
    "start_time": "2021-08-21T20:27:16.033Z"
   },
   {
    "duration": 21,
    "start_time": "2021-08-21T20:27:22.705Z"
   },
   {
    "duration": 3,
    "start_time": "2021-08-21T20:28:57.967Z"
   },
   {
    "duration": 5,
    "start_time": "2021-08-21T20:28:57.973Z"
   },
   {
    "duration": 11,
    "start_time": "2021-08-21T20:28:57.980Z"
   },
   {
    "duration": 11,
    "start_time": "2021-08-21T20:28:57.993Z"
   },
   {
    "duration": 5,
    "start_time": "2021-08-21T20:28:58.006Z"
   },
   {
    "duration": 5,
    "start_time": "2021-08-21T20:28:58.012Z"
   },
   {
    "duration": 32,
    "start_time": "2021-08-21T20:28:58.018Z"
   },
   {
    "duration": 11,
    "start_time": "2021-08-21T20:28:58.051Z"
   },
   {
    "duration": 6,
    "start_time": "2021-08-21T20:28:58.065Z"
   },
   {
    "duration": 146,
    "start_time": "2021-08-21T20:28:58.073Z"
   },
   {
    "duration": 27,
    "start_time": "2021-08-21T20:28:58.220Z"
   },
   {
    "duration": 26,
    "start_time": "2021-08-21T20:28:58.248Z"
   },
   {
    "duration": 85,
    "start_time": "2021-08-21T20:28:58.276Z"
   },
   {
    "duration": 9,
    "start_time": "2021-08-21T20:28:58.363Z"
   },
   {
    "duration": 15,
    "start_time": "2021-08-21T20:28:58.374Z"
   },
   {
    "duration": 126,
    "start_time": "2021-08-21T20:28:58.391Z"
   },
   {
    "duration": 12,
    "start_time": "2021-08-21T20:28:58.519Z"
   },
   {
    "duration": 23,
    "start_time": "2021-08-21T20:28:58.532Z"
   },
   {
    "duration": 16,
    "start_time": "2021-08-21T20:28:58.557Z"
   },
   {
    "duration": 10,
    "start_time": "2021-08-21T20:28:58.575Z"
   },
   {
    "duration": 9,
    "start_time": "2021-08-21T20:28:58.586Z"
   },
   {
    "duration": 7,
    "start_time": "2021-08-21T20:28:58.596Z"
   },
   {
    "duration": 16,
    "start_time": "2021-08-21T20:28:58.606Z"
   },
   {
    "duration": 14,
    "start_time": "2021-08-21T20:28:58.624Z"
   },
   {
    "duration": 23,
    "start_time": "2021-08-21T20:28:58.639Z"
   },
   {
    "duration": 18,
    "start_time": "2021-08-21T20:28:58.663Z"
   },
   {
    "duration": 9,
    "start_time": "2021-08-21T20:28:58.682Z"
   },
   {
    "duration": 11,
    "start_time": "2021-08-21T20:28:58.692Z"
   },
   {
    "duration": 170,
    "start_time": "2021-08-21T20:28:58.704Z"
   },
   {
    "duration": 19,
    "start_time": "2021-08-21T20:28:58.876Z"
   },
   {
    "duration": 11,
    "start_time": "2021-08-21T20:28:58.897Z"
   },
   {
    "duration": 37,
    "start_time": "2021-08-21T20:28:58.909Z"
   },
   {
    "duration": 15,
    "start_time": "2021-08-21T20:28:58.947Z"
   },
   {
    "duration": 4,
    "start_time": "2021-08-21T20:28:58.964Z"
   },
   {
    "duration": 19,
    "start_time": "2021-08-21T20:28:58.970Z"
   },
   {
    "duration": 10,
    "start_time": "2021-08-21T20:28:58.990Z"
   },
   {
    "duration": 49,
    "start_time": "2021-08-21T20:28:59.002Z"
   },
   {
    "duration": 12,
    "start_time": "2021-08-21T20:28:59.053Z"
   },
   {
    "duration": 12,
    "start_time": "2021-08-21T20:28:59.066Z"
   },
   {
    "duration": 30,
    "start_time": "2021-08-21T20:28:59.080Z"
   },
   {
    "duration": 2,
    "start_time": "2021-08-21T20:28:59.112Z"
   },
   {
    "duration": 7,
    "start_time": "2021-08-21T20:28:59.116Z"
   },
   {
    "duration": 32,
    "start_time": "2021-08-21T20:28:59.125Z"
   },
   {
    "duration": 3,
    "start_time": "2021-08-21T20:28:59.159Z"
   },
   {
    "duration": 12,
    "start_time": "2021-08-21T20:28:59.163Z"
   },
   {
    "duration": 7,
    "start_time": "2021-08-21T20:28:59.176Z"
   },
   {
    "duration": 15,
    "start_time": "2021-08-21T20:28:59.184Z"
   },
   {
    "duration": 7,
    "start_time": "2021-08-21T20:28:59.201Z"
   },
   {
    "duration": 30,
    "start_time": "2021-08-21T20:28:59.209Z"
   },
   {
    "duration": 19,
    "start_time": "2021-08-21T20:28:59.241Z"
   },
   {
    "duration": 4,
    "start_time": "2021-08-21T20:28:59.261Z"
   },
   {
    "duration": 8,
    "start_time": "2021-08-21T20:28:59.266Z"
   },
   {
    "duration": 11,
    "start_time": "2021-08-21T20:28:59.276Z"
   },
   {
    "duration": 28,
    "start_time": "2021-08-21T20:28:59.288Z"
   },
   {
    "duration": 25,
    "start_time": "2021-08-21T20:28:59.317Z"
   },
   {
    "duration": 3,
    "start_time": "2021-08-21T20:28:59.344Z"
   },
   {
    "duration": 9,
    "start_time": "2021-08-21T20:28:59.349Z"
   },
   {
    "duration": 17,
    "start_time": "2021-08-21T20:28:59.359Z"
   },
   {
    "duration": 21,
    "start_time": "2021-08-21T20:28:59.378Z"
   },
   {
    "duration": 10,
    "start_time": "2021-08-21T20:28:59.400Z"
   },
   {
    "duration": 13,
    "start_time": "2021-08-21T20:28:59.412Z"
   },
   {
    "duration": 6,
    "start_time": "2021-08-21T20:29:02.484Z"
   },
   {
    "duration": 3,
    "start_time": "2021-08-21T20:29:13.270Z"
   },
   {
    "duration": 7,
    "start_time": "2021-08-21T20:29:21.300Z"
   },
   {
    "duration": 19,
    "start_time": "2021-08-21T20:29:23.550Z"
   },
   {
    "duration": 7,
    "start_time": "2021-08-21T20:29:38.617Z"
   },
   {
    "duration": 783,
    "start_time": "2021-08-22T05:26:11.208Z"
   },
   {
    "duration": 3,
    "start_time": "2021-08-22T05:26:11.994Z"
   },
   {
    "duration": 534,
    "start_time": "2021-08-22T05:26:12.000Z"
   },
   {
    "duration": 165,
    "start_time": "2021-08-22T05:26:12.537Z"
   },
   {
    "duration": 3,
    "start_time": "2021-08-22T05:26:12.705Z"
   },
   {
    "duration": 14,
    "start_time": "2021-08-22T05:26:12.710Z"
   },
   {
    "duration": 31,
    "start_time": "2021-08-22T05:26:12.726Z"
   },
   {
    "duration": 20,
    "start_time": "2021-08-22T05:26:12.762Z"
   },
   {
    "duration": 9,
    "start_time": "2021-08-22T05:26:12.785Z"
   },
   {
    "duration": 214,
    "start_time": "2021-08-22T05:26:12.797Z"
   },
   {
    "duration": 20,
    "start_time": "2021-08-22T05:26:13.013Z"
   },
   {
    "duration": 47,
    "start_time": "2021-08-22T05:26:13.035Z"
   },
   {
    "duration": 132,
    "start_time": "2021-08-22T05:26:13.084Z"
   },
   {
    "duration": 16,
    "start_time": "2021-08-22T05:26:13.219Z"
   },
   {
    "duration": 39,
    "start_time": "2021-08-22T05:26:13.237Z"
   },
   {
    "duration": 181,
    "start_time": "2021-08-22T05:26:13.278Z"
   },
   {
    "duration": 18,
    "start_time": "2021-08-22T05:26:13.462Z"
   },
   {
    "duration": 25,
    "start_time": "2021-08-22T05:26:13.483Z"
   },
   {
    "duration": 16,
    "start_time": "2021-08-22T05:26:13.510Z"
   },
   {
    "duration": 38,
    "start_time": "2021-08-22T05:26:13.528Z"
   },
   {
    "duration": 11,
    "start_time": "2021-08-22T05:26:13.568Z"
   },
   {
    "duration": 7,
    "start_time": "2021-08-22T05:26:13.582Z"
   },
   {
    "duration": 19,
    "start_time": "2021-08-22T05:26:13.594Z"
   },
   {
    "duration": 14,
    "start_time": "2021-08-22T05:26:13.617Z"
   },
   {
    "duration": 30,
    "start_time": "2021-08-22T05:26:13.633Z"
   },
   {
    "duration": 29,
    "start_time": "2021-08-22T05:26:13.665Z"
   },
   {
    "duration": 15,
    "start_time": "2021-08-22T05:26:13.696Z"
   },
   {
    "duration": 20,
    "start_time": "2021-08-22T05:26:13.713Z"
   },
   {
    "duration": 284,
    "start_time": "2021-08-22T05:26:13.735Z"
   },
   {
    "duration": 26,
    "start_time": "2021-08-22T05:26:14.021Z"
   },
   {
    "duration": 6,
    "start_time": "2021-08-22T05:26:14.061Z"
   },
   {
    "duration": 40,
    "start_time": "2021-08-22T05:26:14.069Z"
   },
   {
    "duration": 22,
    "start_time": "2021-08-22T05:26:14.112Z"
   },
   {
    "duration": 10,
    "start_time": "2021-08-22T05:26:14.163Z"
   },
   {
    "duration": 26,
    "start_time": "2021-08-22T05:26:14.176Z"
   },
   {
    "duration": 17,
    "start_time": "2021-08-22T05:26:14.205Z"
   },
   {
    "duration": 32,
    "start_time": "2021-08-22T05:26:14.263Z"
   },
   {
    "duration": 20,
    "start_time": "2021-08-22T05:26:14.298Z"
   },
   {
    "duration": 41,
    "start_time": "2021-08-22T05:26:14.321Z"
   },
   {
    "duration": 32,
    "start_time": "2021-08-22T05:26:14.365Z"
   },
   {
    "duration": 6,
    "start_time": "2021-08-22T05:26:14.400Z"
   },
   {
    "duration": 10,
    "start_time": "2021-08-22T05:26:14.408Z"
   },
   {
    "duration": 69,
    "start_time": "2021-08-22T05:26:14.420Z"
   },
   {
    "duration": 5,
    "start_time": "2021-08-22T05:26:14.491Z"
   },
   {
    "duration": 16,
    "start_time": "2021-08-22T05:26:14.498Z"
   },
   {
    "duration": 6,
    "start_time": "2021-08-22T05:26:14.517Z"
   },
   {
    "duration": 43,
    "start_time": "2021-08-22T05:26:14.525Z"
   },
   {
    "duration": 9,
    "start_time": "2021-08-22T05:26:14.570Z"
   },
   {
    "duration": 24,
    "start_time": "2021-08-22T05:26:14.582Z"
   },
   {
    "duration": 27,
    "start_time": "2021-08-22T05:26:14.608Z"
   },
   {
    "duration": 26,
    "start_time": "2021-08-22T05:26:14.638Z"
   },
   {
    "duration": 8,
    "start_time": "2021-08-22T05:26:14.667Z"
   },
   {
    "duration": 17,
    "start_time": "2021-08-22T05:26:14.677Z"
   },
   {
    "duration": 27,
    "start_time": "2021-08-22T05:26:14.697Z"
   },
   {
    "duration": 63,
    "start_time": "2021-08-22T05:26:14.726Z"
   },
   {
    "duration": 5,
    "start_time": "2021-08-22T05:26:14.792Z"
   },
   {
    "duration": 21,
    "start_time": "2021-08-22T05:26:14.799Z"
   },
   {
    "duration": 24,
    "start_time": "2021-08-22T05:26:14.822Z"
   },
   {
    "duration": 20,
    "start_time": "2021-08-22T05:26:14.849Z"
   },
   {
    "duration": 8,
    "start_time": "2021-08-22T05:26:14.872Z"
   },
   {
    "duration": 11,
    "start_time": "2021-08-22T05:26:14.882Z"
   },
   {
    "duration": 4,
    "start_time": "2021-08-22T05:26:14.895Z"
   },
   {
    "duration": 14,
    "start_time": "2021-08-22T05:26:14.902Z"
   },
   {
    "duration": 44,
    "start_time": "2021-08-22T05:26:14.919Z"
   },
   {
    "duration": 5,
    "start_time": "2021-08-22T05:27:38.528Z"
   },
   {
    "duration": 11,
    "start_time": "2021-08-22T05:27:39.941Z"
   },
   {
    "duration": 31,
    "start_time": "2021-08-22T05:27:47.557Z"
   },
   {
    "duration": 375,
    "start_time": "2021-08-22T05:28:28.133Z"
   },
   {
    "duration": 288,
    "start_time": "2021-08-22T05:28:45.036Z"
   },
   {
    "duration": 5,
    "start_time": "2021-08-22T05:28:58.246Z"
   },
   {
    "duration": 108,
    "start_time": "2021-08-22T05:30:58.696Z"
   },
   {
    "duration": 84,
    "start_time": "2021-08-22T05:31:07.927Z"
   },
   {
    "duration": 73,
    "start_time": "2021-08-22T05:31:18.986Z"
   },
   {
    "duration": 307,
    "start_time": "2021-08-22T05:31:24.282Z"
   },
   {
    "duration": 106,
    "start_time": "2021-08-22T05:31:49.979Z"
   },
   {
    "duration": 94,
    "start_time": "2021-08-22T05:32:04.121Z"
   },
   {
    "duration": 1937,
    "start_time": "2021-08-22T05:32:34.806Z"
   },
   {
    "duration": 304,
    "start_time": "2021-08-22T05:36:11.585Z"
   },
   {
    "duration": 301,
    "start_time": "2021-08-22T05:36:30.364Z"
   },
   {
    "duration": 293,
    "start_time": "2021-08-22T05:36:44.591Z"
   },
   {
    "duration": 341,
    "start_time": "2021-08-22T05:36:44.546Z"
   },
   {
    "duration": 329,
    "start_time": "2021-08-22T05:37:55.982Z"
   },
   {
    "duration": 294,
    "start_time": "2021-08-22T05:38:11.131Z"
   },
   {
    "duration": 8,
    "start_time": "2021-08-22T05:39:28.501Z"
   },
   {
    "duration": 11,
    "start_time": "2021-08-22T05:41:38.626Z"
   },
   {
    "duration": 265,
    "start_time": "2021-08-22T05:46:43.433Z"
   },
   {
    "duration": 598,
    "start_time": "2021-08-22T05:48:38.262Z"
   },
   {
    "duration": 41,
    "start_time": "2021-08-22T05:49:02.468Z"
   },
   {
    "duration": 10,
    "start_time": "2021-08-22T05:49:18.112Z"
   },
   {
    "duration": 16,
    "start_time": "2021-08-22T05:49:46.875Z"
   },
   {
    "duration": 17,
    "start_time": "2021-08-22T05:49:48.214Z"
   },
   {
    "duration": 7,
    "start_time": "2021-08-22T06:04:53.071Z"
   },
   {
    "duration": 584,
    "start_time": "2021-08-22T06:05:52.051Z"
   },
   {
    "duration": 5,
    "start_time": "2021-08-22T06:06:35.112Z"
   },
   {
    "duration": 500,
    "start_time": "2021-08-22T06:06:36.585Z"
   },
   {
    "duration": 16,
    "start_time": "2021-08-22T06:06:58.585Z"
   },
   {
    "duration": 35,
    "start_time": "2021-08-22T06:07:05.020Z"
   },
   {
    "duration": 42,
    "start_time": "2021-08-22T06:07:17.132Z"
   },
   {
    "duration": 6,
    "start_time": "2021-08-22T06:10:29.304Z"
   },
   {
    "duration": 755,
    "start_time": "2021-08-22T06:10:30.039Z"
   },
   {
    "duration": 46,
    "start_time": "2021-08-22T06:10:31.354Z"
   },
   {
    "duration": 18,
    "start_time": "2021-08-22T06:11:28.944Z"
   },
   {
    "duration": 6,
    "start_time": "2021-08-22T06:12:52.660Z"
   },
   {
    "duration": 20,
    "start_time": "2021-08-22T06:13:06.714Z"
   },
   {
    "duration": 423,
    "start_time": "2021-08-22T06:16:38.728Z"
   },
   {
    "duration": 4,
    "start_time": "2021-08-22T08:34:24.967Z"
   },
   {
    "duration": 1212,
    "start_time": "2021-08-22T08:34:43.412Z"
   },
   {
    "duration": 4,
    "start_time": "2021-08-22T08:35:44.999Z"
   },
   {
    "duration": 583,
    "start_time": "2021-08-22T08:35:46.232Z"
   },
   {
    "duration": 4,
    "start_time": "2021-08-22T08:36:11.998Z"
   },
   {
    "duration": 747,
    "start_time": "2021-08-22T08:36:13.545Z"
   },
   {
    "duration": 4,
    "start_time": "2021-08-22T08:44:54.440Z"
   },
   {
    "duration": 557,
    "start_time": "2021-08-22T08:45:05.258Z"
   },
   {
    "duration": 4,
    "start_time": "2021-08-22T08:45:41.487Z"
   },
   {
    "duration": 480,
    "start_time": "2021-08-22T08:45:43.591Z"
   },
   {
    "duration": 5,
    "start_time": "2021-08-22T08:46:26.416Z"
   },
   {
    "duration": 32,
    "start_time": "2021-08-22T08:46:27.555Z"
   },
   {
    "duration": 107,
    "start_time": "2021-08-22T08:48:37.649Z"
   },
   {
    "duration": 29,
    "start_time": "2021-08-22T08:48:38.963Z"
   },
   {
    "duration": 4,
    "start_time": "2021-08-22T08:48:57.020Z"
   },
   {
    "duration": 1218,
    "start_time": "2021-08-22T08:48:58.612Z"
   },
   {
    "duration": 5,
    "start_time": "2021-08-22T08:49:51.221Z"
   },
   {
    "duration": 733,
    "start_time": "2021-08-22T08:49:52.775Z"
   },
   {
    "duration": 5,
    "start_time": "2021-08-22T08:51:07.679Z"
   },
   {
    "duration": 782,
    "start_time": "2021-08-22T08:51:08.607Z"
   },
   {
    "duration": 5,
    "start_time": "2021-08-22T08:51:43.384Z"
   },
   {
    "duration": 770,
    "start_time": "2021-08-22T08:51:44.492Z"
   },
   {
    "duration": 4,
    "start_time": "2021-08-22T08:52:36.682Z"
   },
   {
    "duration": 696,
    "start_time": "2021-08-22T08:52:37.346Z"
   },
   {
    "duration": 4,
    "start_time": "2021-08-22T08:59:18.117Z"
   },
   {
    "duration": 524,
    "start_time": "2021-08-22T08:59:19.589Z"
   },
   {
    "duration": 5,
    "start_time": "2021-08-22T09:13:46.931Z"
   },
   {
    "duration": 637,
    "start_time": "2021-08-22T09:13:48.542Z"
   },
   {
    "duration": 287,
    "start_time": "2021-08-22T09:19:49.678Z"
   },
   {
    "duration": 320,
    "start_time": "2021-08-22T09:20:56.033Z"
   },
   {
    "duration": 257,
    "start_time": "2021-08-22T09:21:32.353Z"
   },
   {
    "duration": 267,
    "start_time": "2021-08-22T09:21:49.970Z"
   },
   {
    "duration": 4,
    "start_time": "2021-08-22T09:22:34.368Z"
   },
   {
    "duration": 10,
    "start_time": "2021-08-22T09:22:34.378Z"
   },
   {
    "duration": 22,
    "start_time": "2021-08-22T09:22:34.392Z"
   },
   {
    "duration": 10,
    "start_time": "2021-08-22T09:22:34.418Z"
   },
   {
    "duration": 7,
    "start_time": "2021-08-22T09:22:34.431Z"
   },
   {
    "duration": 8,
    "start_time": "2021-08-22T09:22:34.441Z"
   },
   {
    "duration": 59,
    "start_time": "2021-08-22T09:22:34.452Z"
   },
   {
    "duration": 26,
    "start_time": "2021-08-22T09:22:34.513Z"
   },
   {
    "duration": 29,
    "start_time": "2021-08-22T09:22:34.543Z"
   },
   {
    "duration": 250,
    "start_time": "2021-08-22T09:22:34.576Z"
   },
   {
    "duration": 40,
    "start_time": "2021-08-22T09:22:34.828Z"
   },
   {
    "duration": 30,
    "start_time": "2021-08-22T09:22:34.871Z"
   },
   {
    "duration": 134,
    "start_time": "2021-08-22T09:22:34.904Z"
   },
   {
    "duration": 30,
    "start_time": "2021-08-22T09:22:35.040Z"
   },
   {
    "duration": 41,
    "start_time": "2021-08-22T09:22:35.073Z"
   },
   {
    "duration": 175,
    "start_time": "2021-08-22T09:22:35.117Z"
   },
   {
    "duration": 20,
    "start_time": "2021-08-22T09:22:35.296Z"
   },
   {
    "duration": 47,
    "start_time": "2021-08-22T09:22:35.319Z"
   },
   {
    "duration": 17,
    "start_time": "2021-08-22T09:22:35.368Z"
   },
   {
    "duration": 37,
    "start_time": "2021-08-22T09:22:35.387Z"
   },
   {
    "duration": 35,
    "start_time": "2021-08-22T09:22:35.426Z"
   },
   {
    "duration": 23,
    "start_time": "2021-08-22T09:22:35.464Z"
   },
   {
    "duration": 21,
    "start_time": "2021-08-22T09:22:35.490Z"
   },
   {
    "duration": 20,
    "start_time": "2021-08-22T09:22:35.517Z"
   },
   {
    "duration": 13,
    "start_time": "2021-08-22T09:22:35.541Z"
   },
   {
    "duration": 23,
    "start_time": "2021-08-22T09:22:35.556Z"
   },
   {
    "duration": 5,
    "start_time": "2021-08-22T09:22:35.582Z"
   },
   {
    "duration": 20,
    "start_time": "2021-08-22T09:22:35.590Z"
   },
   {
    "duration": 298,
    "start_time": "2021-08-22T09:22:35.612Z"
   },
   {
    "duration": 27,
    "start_time": "2021-08-22T09:22:35.912Z"
   },
   {
    "duration": 23,
    "start_time": "2021-08-22T09:22:35.942Z"
   },
   {
    "duration": 50,
    "start_time": "2021-08-22T09:22:35.968Z"
   },
   {
    "duration": 22,
    "start_time": "2021-08-22T09:22:36.020Z"
   },
   {
    "duration": 6,
    "start_time": "2021-08-22T09:22:36.063Z"
   },
   {
    "duration": 48,
    "start_time": "2021-08-22T09:22:36.072Z"
   },
   {
    "duration": 39,
    "start_time": "2021-08-22T09:22:36.123Z"
   },
   {
    "duration": 31,
    "start_time": "2021-08-22T09:22:36.165Z"
   },
   {
    "duration": 16,
    "start_time": "2021-08-22T09:22:36.199Z"
   },
   {
    "duration": 47,
    "start_time": "2021-08-22T09:22:36.218Z"
   },
   {
    "duration": 40,
    "start_time": "2021-08-22T09:22:36.267Z"
   },
   {
    "duration": 6,
    "start_time": "2021-08-22T09:22:36.310Z"
   },
   {
    "duration": 44,
    "start_time": "2021-08-22T09:22:36.319Z"
   },
   {
    "duration": 47,
    "start_time": "2021-08-22T09:22:36.367Z"
   },
   {
    "duration": 5,
    "start_time": "2021-08-22T09:22:36.417Z"
   },
   {
    "duration": 48,
    "start_time": "2021-08-22T09:22:36.424Z"
   },
   {
    "duration": 10,
    "start_time": "2021-08-22T09:22:36.476Z"
   },
   {
    "duration": 20,
    "start_time": "2021-08-22T09:22:36.490Z"
   },
   {
    "duration": 5,
    "start_time": "2021-08-22T09:22:36.513Z"
   },
   {
    "duration": 59,
    "start_time": "2021-08-22T09:22:36.521Z"
   },
   {
    "duration": 31,
    "start_time": "2021-08-22T09:22:36.583Z"
   },
   {
    "duration": 5,
    "start_time": "2021-08-22T09:22:36.617Z"
   },
   {
    "duration": 41,
    "start_time": "2021-08-22T09:22:36.624Z"
   },
   {
    "duration": 16,
    "start_time": "2021-08-22T09:22:36.668Z"
   },
   {
    "duration": 26,
    "start_time": "2021-08-22T09:22:36.687Z"
   },
   {
    "duration": 51,
    "start_time": "2021-08-22T09:22:36.716Z"
   },
   {
    "duration": 4,
    "start_time": "2021-08-22T09:22:36.770Z"
   },
   {
    "duration": 13,
    "start_time": "2021-08-22T09:22:36.777Z"
   },
   {
    "duration": 17,
    "start_time": "2021-08-22T09:22:36.793Z"
   },
   {
    "duration": 23,
    "start_time": "2021-08-22T09:22:36.812Z"
   },
   {
    "duration": 37,
    "start_time": "2021-08-22T09:22:36.838Z"
   },
   {
    "duration": 17,
    "start_time": "2021-08-22T09:22:36.878Z"
   },
   {
    "duration": 4,
    "start_time": "2021-08-22T09:22:36.898Z"
   },
   {
    "duration": 14,
    "start_time": "2021-08-22T09:22:36.905Z"
   },
   {
    "duration": 15,
    "start_time": "2021-08-22T09:22:36.922Z"
   },
   {
    "duration": 6,
    "start_time": "2021-08-22T09:22:36.961Z"
   },
   {
    "duration": 17,
    "start_time": "2021-08-22T09:22:36.970Z"
   },
   {
    "duration": 14,
    "start_time": "2021-08-22T09:22:36.990Z"
   },
   {
    "duration": 59,
    "start_time": "2021-08-22T09:22:37.007Z"
   },
   {
    "duration": 5,
    "start_time": "2021-08-22T09:22:37.074Z"
   },
   {
    "duration": 504,
    "start_time": "2021-08-22T09:22:37.081Z"
   },
   {
    "duration": 327,
    "start_time": "2021-08-22T09:23:14.230Z"
   },
   {
    "duration": 33,
    "start_time": "2021-08-22T09:24:16.924Z"
   },
   {
    "duration": 338,
    "start_time": "2021-08-22T09:25:04.843Z"
   },
   {
    "duration": 13,
    "start_time": "2021-08-22T09:25:26.642Z"
   },
   {
    "duration": 622,
    "start_time": "2021-08-22T09:25:45.264Z"
   },
   {
    "duration": 7,
    "start_time": "2021-08-22T09:25:52.509Z"
   },
   {
    "duration": 514,
    "start_time": "2021-08-22T09:26:41.224Z"
   },
   {
    "duration": 12,
    "start_time": "2021-08-22T09:27:07.983Z"
   },
   {
    "duration": 4,
    "start_time": "2021-08-22T09:28:59.822Z"
   },
   {
    "duration": 6,
    "start_time": "2021-08-22T09:29:03.149Z"
   },
   {
    "duration": 249,
    "start_time": "2021-08-22T09:31:32.728Z"
   },
   {
    "duration": 4,
    "start_time": "2021-08-22T09:31:33.399Z"
   },
   {
    "duration": 9,
    "start_time": "2021-08-22T09:31:55.145Z"
   },
   {
    "duration": 4,
    "start_time": "2021-08-22T09:31:56.736Z"
   },
   {
    "duration": 8,
    "start_time": "2021-08-22T09:32:00.308Z"
   },
   {
    "duration": 865,
    "start_time": "2021-08-22T09:38:06.635Z"
   },
   {
    "duration": 38,
    "start_time": "2021-08-22T09:38:39.163Z"
   },
   {
    "duration": 302,
    "start_time": "2021-08-22T09:42:40.649Z"
   },
   {
    "duration": 310,
    "start_time": "2021-08-22T09:43:06.244Z"
   },
   {
    "duration": 14,
    "start_time": "2021-08-22T09:43:38.565Z"
   },
   {
    "duration": 5,
    "start_time": "2021-08-22T09:43:41.086Z"
   },
   {
    "duration": 857,
    "start_time": "2021-08-22T09:45:47.367Z"
   },
   {
    "duration": 6,
    "start_time": "2021-08-22T09:47:01.920Z"
   },
   {
    "duration": 9,
    "start_time": "2021-08-22T09:47:23.090Z"
   },
   {
    "duration": 718,
    "start_time": "2021-08-22T09:47:49.363Z"
   },
   {
    "duration": 4,
    "start_time": "2021-08-22T11:03:35.112Z"
   },
   {
    "duration": 43,
    "start_time": "2021-08-22T11:03:42.828Z"
   },
   {
    "duration": 4,
    "start_time": "2021-08-22T11:11:37.290Z"
   },
   {
    "duration": 651,
    "start_time": "2021-08-22T11:11:40.553Z"
   },
   {
    "duration": 5,
    "start_time": "2021-08-22T11:11:52.890Z"
   },
   {
    "duration": 298,
    "start_time": "2021-08-22T11:14:14.074Z"
   },
   {
    "duration": 274,
    "start_time": "2021-08-22T11:14:40.607Z"
   },
   {
    "duration": 830,
    "start_time": "2021-08-22T11:15:11.306Z"
   },
   {
    "duration": 4,
    "start_time": "2021-08-22T11:48:56.806Z"
   },
   {
    "duration": 41,
    "start_time": "2021-08-22T11:49:01.522Z"
   },
   {
    "duration": 105,
    "start_time": "2021-08-22T12:00:45.556Z"
   },
   {
    "duration": 41,
    "start_time": "2021-08-22T12:00:46.384Z"
   },
   {
    "duration": 5,
    "start_time": "2021-08-22T12:01:00.655Z"
   },
   {
    "duration": 1375,
    "start_time": "2021-08-22T12:01:01.880Z"
   },
   {
    "duration": 6,
    "start_time": "2021-08-22T12:01:28.009Z"
   },
   {
    "duration": 62,
    "start_time": "2021-08-22T12:01:29.162Z"
   },
   {
    "duration": 5,
    "start_time": "2021-08-22T12:02:31.771Z"
   },
   {
    "duration": 60,
    "start_time": "2021-08-22T12:02:32.434Z"
   },
   {
    "duration": 4,
    "start_time": "2021-08-22T12:03:31.300Z"
   },
   {
    "duration": 5,
    "start_time": "2021-08-22T12:03:38.939Z"
   },
   {
    "duration": 7,
    "start_time": "2021-08-22T12:03:38.947Z"
   },
   {
    "duration": 9,
    "start_time": "2021-08-22T12:03:38.957Z"
   },
   {
    "duration": 5,
    "start_time": "2021-08-22T12:03:38.969Z"
   },
   {
    "duration": 7,
    "start_time": "2021-08-22T12:03:38.977Z"
   },
   {
    "duration": 6,
    "start_time": "2021-08-22T12:03:38.988Z"
   },
   {
    "duration": 8,
    "start_time": "2021-08-22T12:03:38.996Z"
   },
   {
    "duration": 72,
    "start_time": "2021-08-22T12:03:39.007Z"
   },
   {
    "duration": 18,
    "start_time": "2021-08-22T12:03:39.084Z"
   },
   {
    "duration": 13,
    "start_time": "2021-08-22T12:03:39.105Z"
   },
   {
    "duration": 285,
    "start_time": "2021-08-22T12:03:39.121Z"
   },
   {
    "duration": 19,
    "start_time": "2021-08-22T12:03:39.409Z"
   },
   {
    "duration": 59,
    "start_time": "2021-08-22T12:03:39.431Z"
   },
   {
    "duration": 119,
    "start_time": "2021-08-22T12:03:39.492Z"
   },
   {
    "duration": 18,
    "start_time": "2021-08-22T12:03:39.614Z"
   },
   {
    "duration": 49,
    "start_time": "2021-08-22T12:03:39.635Z"
   },
   {
    "duration": 203,
    "start_time": "2021-08-22T12:03:39.687Z"
   },
   {
    "duration": 20,
    "start_time": "2021-08-22T12:03:39.893Z"
   },
   {
    "duration": 48,
    "start_time": "2021-08-22T12:03:39.916Z"
   },
   {
    "duration": 20,
    "start_time": "2021-08-22T12:03:39.972Z"
   },
   {
    "duration": 14,
    "start_time": "2021-08-22T12:03:39.995Z"
   },
   {
    "duration": 13,
    "start_time": "2021-08-22T12:03:40.011Z"
   },
   {
    "duration": 14,
    "start_time": "2021-08-22T12:03:40.027Z"
   },
   {
    "duration": 20,
    "start_time": "2021-08-22T12:03:40.043Z"
   },
   {
    "duration": 12,
    "start_time": "2021-08-22T12:03:40.065Z"
   },
   {
    "duration": 10,
    "start_time": "2021-08-22T12:03:40.080Z"
   },
   {
    "duration": 16,
    "start_time": "2021-08-22T12:03:40.093Z"
   },
   {
    "duration": 9,
    "start_time": "2021-08-22T12:03:40.113Z"
   },
   {
    "duration": 51,
    "start_time": "2021-08-22T12:03:40.126Z"
   },
   {
    "duration": 288,
    "start_time": "2021-08-22T12:03:40.179Z"
   },
   {
    "duration": 29,
    "start_time": "2021-08-22T12:03:40.470Z"
   },
   {
    "duration": 5,
    "start_time": "2021-08-22T12:03:40.501Z"
   },
   {
    "duration": 66,
    "start_time": "2021-08-22T12:03:40.508Z"
   },
   {
    "duration": 22,
    "start_time": "2021-08-22T12:03:40.579Z"
   },
   {
    "duration": 6,
    "start_time": "2021-08-22T12:03:40.604Z"
   },
   {
    "duration": 57,
    "start_time": "2021-08-22T12:03:40.612Z"
   },
   {
    "duration": 16,
    "start_time": "2021-08-22T12:03:40.675Z"
   },
   {
    "duration": 30,
    "start_time": "2021-08-22T12:03:40.693Z"
   },
   {
    "duration": 46,
    "start_time": "2021-08-22T12:03:40.725Z"
   },
   {
    "duration": 20,
    "start_time": "2021-08-22T12:03:40.774Z"
   },
   {
    "duration": 46,
    "start_time": "2021-08-22T12:03:40.798Z"
   },
   {
    "duration": 21,
    "start_time": "2021-08-22T12:03:40.848Z"
   },
   {
    "duration": 12,
    "start_time": "2021-08-22T12:03:40.872Z"
   },
   {
    "duration": 33,
    "start_time": "2021-08-22T12:03:40.886Z"
   },
   {
    "duration": 5,
    "start_time": "2021-08-22T12:03:40.921Z"
   },
   {
    "duration": 43,
    "start_time": "2021-08-22T12:03:40.928Z"
   },
   {
    "duration": 6,
    "start_time": "2021-08-22T12:03:40.975Z"
   },
   {
    "duration": 18,
    "start_time": "2021-08-22T12:03:40.984Z"
   },
   {
    "duration": 5,
    "start_time": "2021-08-22T12:03:41.006Z"
   },
   {
    "duration": 71,
    "start_time": "2021-08-22T12:03:41.013Z"
   },
   {
    "duration": 30,
    "start_time": "2021-08-22T12:03:41.086Z"
   },
   {
    "duration": 4,
    "start_time": "2021-08-22T12:03:41.119Z"
   },
   {
    "duration": 33,
    "start_time": "2021-08-22T12:03:41.130Z"
   },
   {
    "duration": 13,
    "start_time": "2021-08-22T12:03:41.169Z"
   },
   {
    "duration": 46,
    "start_time": "2021-08-22T12:03:41.185Z"
   },
   {
    "duration": 50,
    "start_time": "2021-08-22T12:03:41.234Z"
   },
   {
    "duration": 5,
    "start_time": "2021-08-22T12:03:41.287Z"
   },
   {
    "duration": 22,
    "start_time": "2021-08-22T12:03:41.295Z"
   },
   {
    "duration": 29,
    "start_time": "2021-08-22T12:03:41.320Z"
   },
   {
    "duration": 30,
    "start_time": "2021-08-22T12:03:41.352Z"
   },
   {
    "duration": 3,
    "start_time": "2021-08-22T12:03:41.388Z"
   },
   {
    "duration": 29,
    "start_time": "2021-08-22T12:03:41.395Z"
   },
   {
    "duration": 24,
    "start_time": "2021-08-22T12:03:41.427Z"
   },
   {
    "duration": 29,
    "start_time": "2021-08-22T12:03:41.453Z"
   },
   {
    "duration": 34,
    "start_time": "2021-08-22T12:03:41.484Z"
   },
   {
    "duration": 11,
    "start_time": "2021-08-22T12:03:41.520Z"
   },
   {
    "duration": 13,
    "start_time": "2021-08-22T12:03:41.533Z"
   },
   {
    "duration": 17,
    "start_time": "2021-08-22T12:03:41.548Z"
   },
   {
    "duration": 18,
    "start_time": "2021-08-22T12:03:41.567Z"
   },
   {
    "duration": 7,
    "start_time": "2021-08-22T12:03:41.589Z"
   },
   {
    "duration": 772,
    "start_time": "2021-08-22T12:03:41.600Z"
   },
   {
    "duration": 5,
    "start_time": "2021-08-22T12:03:45.292Z"
   },
   {
    "duration": 42,
    "start_time": "2021-08-22T12:03:46.429Z"
   },
   {
    "duration": 4,
    "start_time": "2021-08-22T12:04:06.229Z"
   },
   {
    "duration": 4,
    "start_time": "2021-08-22T12:04:16.418Z"
   },
   {
    "duration": 16,
    "start_time": "2021-08-22T12:04:16.425Z"
   },
   {
    "duration": 24,
    "start_time": "2021-08-22T12:04:16.444Z"
   },
   {
    "duration": 13,
    "start_time": "2021-08-22T12:04:16.471Z"
   },
   {
    "duration": 18,
    "start_time": "2021-08-22T12:04:16.487Z"
   },
   {
    "duration": 15,
    "start_time": "2021-08-22T12:04:16.508Z"
   },
   {
    "duration": 19,
    "start_time": "2021-08-22T12:04:16.528Z"
   },
   {
    "duration": 59,
    "start_time": "2021-08-22T12:04:16.551Z"
   },
   {
    "duration": 17,
    "start_time": "2021-08-22T12:04:16.613Z"
   },
   {
    "duration": 14,
    "start_time": "2021-08-22T12:04:16.632Z"
   },
   {
    "duration": 329,
    "start_time": "2021-08-22T12:04:16.648Z"
   },
   {
    "duration": 27,
    "start_time": "2021-08-22T12:04:16.980Z"
   },
   {
    "duration": 61,
    "start_time": "2021-08-22T12:04:17.010Z"
   },
   {
    "duration": 152,
    "start_time": "2021-08-22T12:04:17.074Z"
   },
   {
    "duration": 22,
    "start_time": "2021-08-22T12:04:17.229Z"
   },
   {
    "duration": 30,
    "start_time": "2021-08-22T12:04:17.262Z"
   },
   {
    "duration": 226,
    "start_time": "2021-08-22T12:04:17.307Z"
   },
   {
    "duration": 28,
    "start_time": "2021-08-22T12:04:17.535Z"
   },
   {
    "duration": 39,
    "start_time": "2021-08-22T12:04:17.573Z"
   },
   {
    "duration": 20,
    "start_time": "2021-08-22T12:04:17.617Z"
   },
   {
    "duration": 30,
    "start_time": "2021-08-22T12:04:17.640Z"
   },
   {
    "duration": 13,
    "start_time": "2021-08-22T12:04:17.674Z"
   },
   {
    "duration": 15,
    "start_time": "2021-08-22T12:04:17.690Z"
   },
   {
    "duration": 6,
    "start_time": "2021-08-22T12:04:17.707Z"
   },
   {
    "duration": 11,
    "start_time": "2021-08-22T12:04:17.715Z"
   },
   {
    "duration": 16,
    "start_time": "2021-08-22T12:04:17.728Z"
   },
   {
    "duration": 9,
    "start_time": "2021-08-22T12:04:17.763Z"
   },
   {
    "duration": 24,
    "start_time": "2021-08-22T12:04:17.775Z"
   },
   {
    "duration": 17,
    "start_time": "2021-08-22T12:04:17.802Z"
   },
   {
    "duration": 554,
    "start_time": "2021-08-22T12:04:17.822Z"
   },
   {
    "duration": 41,
    "start_time": "2021-08-22T12:04:18.379Z"
   },
   {
    "duration": 7,
    "start_time": "2021-08-22T12:04:18.423Z"
   },
   {
    "duration": 87,
    "start_time": "2021-08-22T12:04:18.433Z"
   },
   {
    "duration": 22,
    "start_time": "2021-08-22T12:04:18.523Z"
   },
   {
    "duration": 24,
    "start_time": "2021-08-22T12:04:18.547Z"
   },
   {
    "duration": 25,
    "start_time": "2021-08-22T12:04:18.573Z"
   },
   {
    "duration": 14,
    "start_time": "2021-08-22T12:04:18.600Z"
   },
   {
    "duration": 86,
    "start_time": "2021-08-22T12:04:18.618Z"
   },
   {
    "duration": 27,
    "start_time": "2021-08-22T12:04:18.707Z"
   },
   {
    "duration": 32,
    "start_time": "2021-08-22T12:04:18.737Z"
   },
   {
    "duration": 34,
    "start_time": "2021-08-22T12:04:18.773Z"
   },
   {
    "duration": 4,
    "start_time": "2021-08-22T12:04:18.810Z"
   },
   {
    "duration": 10,
    "start_time": "2021-08-22T12:04:18.817Z"
   },
   {
    "duration": 66,
    "start_time": "2021-08-22T12:04:18.830Z"
   },
   {
    "duration": 5,
    "start_time": "2021-08-22T12:04:18.898Z"
   },
   {
    "duration": 13,
    "start_time": "2021-08-22T12:04:18.906Z"
   },
   {
    "duration": 5,
    "start_time": "2021-08-22T12:04:18.921Z"
   },
   {
    "duration": 48,
    "start_time": "2021-08-22T12:04:18.929Z"
   },
   {
    "duration": 4,
    "start_time": "2021-08-22T12:04:18.980Z"
   },
   {
    "duration": 25,
    "start_time": "2021-08-22T12:04:18.987Z"
   },
   {
    "duration": 67,
    "start_time": "2021-08-22T12:04:19.015Z"
   },
   {
    "duration": 6,
    "start_time": "2021-08-22T12:04:19.084Z"
   },
   {
    "duration": 8,
    "start_time": "2021-08-22T12:04:19.092Z"
   },
   {
    "duration": 18,
    "start_time": "2021-08-22T12:04:19.103Z"
   },
   {
    "duration": 45,
    "start_time": "2021-08-22T12:04:19.128Z"
   },
   {
    "duration": 39,
    "start_time": "2021-08-22T12:04:19.177Z"
   },
   {
    "duration": 5,
    "start_time": "2021-08-22T12:04:19.219Z"
   },
   {
    "duration": 7,
    "start_time": "2021-08-22T12:04:19.227Z"
   },
   {
    "duration": 36,
    "start_time": "2021-08-22T12:04:19.237Z"
   },
   {
    "duration": 13,
    "start_time": "2021-08-22T12:04:19.286Z"
   },
   {
    "duration": 7,
    "start_time": "2021-08-22T12:04:19.302Z"
   },
   {
    "duration": 14,
    "start_time": "2021-08-22T12:04:19.311Z"
   },
   {
    "duration": 38,
    "start_time": "2021-08-22T12:04:19.328Z"
   },
   {
    "duration": 17,
    "start_time": "2021-08-22T12:04:19.369Z"
   },
   {
    "duration": 22,
    "start_time": "2021-08-22T12:04:19.389Z"
   },
   {
    "duration": 11,
    "start_time": "2021-08-22T12:04:19.414Z"
   },
   {
    "duration": 29,
    "start_time": "2021-08-22T12:04:19.428Z"
   },
   {
    "duration": 23,
    "start_time": "2021-08-22T12:04:19.460Z"
   },
   {
    "duration": 25,
    "start_time": "2021-08-22T12:04:19.485Z"
   },
   {
    "duration": 9,
    "start_time": "2021-08-22T12:04:19.513Z"
   },
   {
    "duration": 509,
    "start_time": "2021-08-22T12:04:19.524Z"
   },
   {
    "duration": 4,
    "start_time": "2021-08-22T12:04:20.035Z"
   },
   {
    "duration": 4,
    "start_time": "2021-08-22T12:04:23.633Z"
   },
   {
    "duration": 41,
    "start_time": "2021-08-22T12:04:24.399Z"
   },
   {
    "duration": 4,
    "start_time": "2021-08-22T12:04:40.789Z"
   },
   {
    "duration": 4,
    "start_time": "2021-08-22T12:04:42.996Z"
   },
   {
    "duration": 5,
    "start_time": "2021-08-22T12:04:43.003Z"
   },
   {
    "duration": 9,
    "start_time": "2021-08-22T12:04:43.011Z"
   },
   {
    "duration": 7,
    "start_time": "2021-08-22T12:04:43.022Z"
   },
   {
    "duration": 6,
    "start_time": "2021-08-22T12:04:43.032Z"
   },
   {
    "duration": 7,
    "start_time": "2021-08-22T12:04:43.041Z"
   },
   {
    "duration": 8,
    "start_time": "2021-08-22T12:04:43.064Z"
   },
   {
    "duration": 50,
    "start_time": "2021-08-22T12:04:43.075Z"
   },
   {
    "duration": 38,
    "start_time": "2021-08-22T12:04:43.128Z"
   },
   {
    "duration": 22,
    "start_time": "2021-08-22T12:04:43.168Z"
   },
   {
    "duration": 278,
    "start_time": "2021-08-22T12:04:43.192Z"
   },
   {
    "duration": 18,
    "start_time": "2021-08-22T12:04:43.478Z"
   },
   {
    "duration": 31,
    "start_time": "2021-08-22T12:04:43.499Z"
   },
   {
    "duration": 143,
    "start_time": "2021-08-22T12:04:43.532Z"
   },
   {
    "duration": 17,
    "start_time": "2021-08-22T12:04:43.677Z"
   },
   {
    "duration": 75,
    "start_time": "2021-08-22T12:04:43.697Z"
   },
   {
    "duration": 186,
    "start_time": "2021-08-22T12:04:43.775Z"
   },
   {
    "duration": 25,
    "start_time": "2021-08-22T12:04:43.964Z"
   },
   {
    "duration": 22,
    "start_time": "2021-08-22T12:04:43.991Z"
   },
   {
    "duration": 17,
    "start_time": "2021-08-22T12:04:44.016Z"
   },
   {
    "duration": 14,
    "start_time": "2021-08-22T12:04:44.035Z"
   },
   {
    "duration": 22,
    "start_time": "2021-08-22T12:04:44.052Z"
   },
   {
    "duration": 7,
    "start_time": "2021-08-22T12:04:44.076Z"
   },
   {
    "duration": 7,
    "start_time": "2021-08-22T12:04:44.086Z"
   },
   {
    "duration": 12,
    "start_time": "2021-08-22T12:04:44.095Z"
   },
   {
    "duration": 9,
    "start_time": "2021-08-22T12:04:44.110Z"
   },
   {
    "duration": 12,
    "start_time": "2021-08-22T12:04:44.121Z"
   },
   {
    "duration": 9,
    "start_time": "2021-08-22T12:04:44.135Z"
   },
   {
    "duration": 22,
    "start_time": "2021-08-22T12:04:44.157Z"
   },
   {
    "duration": 319,
    "start_time": "2021-08-22T12:04:44.184Z"
   },
   {
    "duration": 28,
    "start_time": "2021-08-22T12:04:44.505Z"
   },
   {
    "duration": 5,
    "start_time": "2021-08-22T12:04:44.535Z"
   },
   {
    "duration": 52,
    "start_time": "2021-08-22T12:04:44.543Z"
   },
   {
    "duration": 21,
    "start_time": "2021-08-22T12:04:44.597Z"
   },
   {
    "duration": 6,
    "start_time": "2021-08-22T12:04:44.621Z"
   },
   {
    "duration": 40,
    "start_time": "2021-08-22T12:04:44.629Z"
   },
   {
    "duration": 25,
    "start_time": "2021-08-22T12:04:44.673Z"
   },
   {
    "duration": 29,
    "start_time": "2021-08-22T12:04:44.701Z"
   },
   {
    "duration": 48,
    "start_time": "2021-08-22T12:04:44.733Z"
   },
   {
    "duration": 6,
    "start_time": "2021-08-22T12:04:44.784Z"
   },
   {
    "duration": 90,
    "start_time": "2021-08-22T12:04:44.792Z"
   },
   {
    "duration": 4,
    "start_time": "2021-08-22T12:04:44.886Z"
   },
   {
    "duration": 14,
    "start_time": "2021-08-22T12:04:44.893Z"
   },
   {
    "duration": 85,
    "start_time": "2021-08-22T12:04:44.911Z"
   },
   {
    "duration": 5,
    "start_time": "2021-08-22T12:04:44.999Z"
   },
   {
    "duration": 80,
    "start_time": "2021-08-22T12:04:45.006Z"
   },
   {
    "duration": 8,
    "start_time": "2021-08-22T12:04:45.088Z"
   },
   {
    "duration": 13,
    "start_time": "2021-08-22T12:04:45.099Z"
   },
   {
    "duration": 54,
    "start_time": "2021-08-22T12:04:45.114Z"
   },
   {
    "duration": 30,
    "start_time": "2021-08-22T12:04:45.170Z"
   },
   {
    "duration": 28,
    "start_time": "2021-08-22T12:04:45.203Z"
   },
   {
    "duration": 5,
    "start_time": "2021-08-22T12:04:45.233Z"
   },
   {
    "duration": 6,
    "start_time": "2021-08-22T12:04:45.247Z"
   },
   {
    "duration": 26,
    "start_time": "2021-08-22T12:04:45.255Z"
   },
   {
    "duration": 26,
    "start_time": "2021-08-22T12:04:45.284Z"
   },
   {
    "duration": 53,
    "start_time": "2021-08-22T12:04:45.313Z"
   },
   {
    "duration": 5,
    "start_time": "2021-08-22T12:04:45.369Z"
   },
   {
    "duration": 10,
    "start_time": "2021-08-22T12:04:45.376Z"
   },
   {
    "duration": 34,
    "start_time": "2021-08-22T12:04:45.389Z"
   },
   {
    "duration": 41,
    "start_time": "2021-08-22T12:04:45.425Z"
   },
   {
    "duration": 16,
    "start_time": "2021-08-22T12:04:45.469Z"
   },
   {
    "duration": 18,
    "start_time": "2021-08-22T12:04:45.488Z"
   },
   {
    "duration": 64,
    "start_time": "2021-08-22T12:04:45.509Z"
   },
   {
    "duration": 11,
    "start_time": "2021-08-22T12:04:45.577Z"
   },
   {
    "duration": 14,
    "start_time": "2021-08-22T12:04:45.591Z"
   },
   {
    "duration": 5,
    "start_time": "2021-08-22T12:04:45.607Z"
   },
   {
    "duration": 13,
    "start_time": "2021-08-22T12:04:45.667Z"
   },
   {
    "duration": 14,
    "start_time": "2021-08-22T12:04:45.684Z"
   },
   {
    "duration": 66,
    "start_time": "2021-08-22T12:04:45.701Z"
   },
   {
    "duration": 9,
    "start_time": "2021-08-22T12:04:45.771Z"
   },
   {
    "duration": 1073,
    "start_time": "2021-08-22T12:04:45.783Z"
   },
   {
    "duration": 5,
    "start_time": "2021-08-22T12:04:46.862Z"
   },
   {
    "duration": 63,
    "start_time": "2021-08-22T12:04:46.870Z"
   },
   {
    "duration": 39,
    "start_time": "2021-08-22T12:04:46.936Z"
   },
   {
    "duration": 4,
    "start_time": "2021-08-22T12:04:46.977Z"
   },
   {
    "duration": 831,
    "start_time": "2021-08-22T12:04:46.984Z"
   },
   {
    "duration": 1525,
    "start_time": "2021-08-22T12:04:46.293Z"
   },
   {
    "duration": 1517,
    "start_time": "2021-08-22T12:04:46.302Z"
   },
   {
    "duration": 1511,
    "start_time": "2021-08-22T12:04:46.310Z"
   },
   {
    "duration": 37,
    "start_time": "2021-08-22T12:14:20.209Z"
   },
   {
    "duration": 38,
    "start_time": "2021-08-22T12:17:37.235Z"
   },
   {
    "duration": 7,
    "start_time": "2021-08-22T12:46:38.506Z"
   },
   {
    "duration": 347,
    "start_time": "2021-08-22T12:48:47.829Z"
   },
   {
    "duration": 292,
    "start_time": "2021-08-22T12:50:02.717Z"
   },
   {
    "duration": 479,
    "start_time": "2021-08-22T18:53:23.815Z"
   },
   {
    "duration": 760,
    "start_time": "2021-08-22T18:53:30.943Z"
   },
   {
    "duration": 4,
    "start_time": "2021-08-22T18:53:31.706Z"
   },
   {
    "duration": 525,
    "start_time": "2021-08-22T18:53:31.713Z"
   },
   {
    "duration": 170,
    "start_time": "2021-08-22T18:53:32.241Z"
   },
   {
    "duration": 4,
    "start_time": "2021-08-22T18:53:32.413Z"
   },
   {
    "duration": 17,
    "start_time": "2021-08-22T18:53:32.419Z"
   },
   {
    "duration": 17,
    "start_time": "2021-08-22T18:53:32.439Z"
   },
   {
    "duration": 42,
    "start_time": "2021-08-22T18:53:32.460Z"
   },
   {
    "duration": 41,
    "start_time": "2021-08-22T18:53:32.505Z"
   },
   {
    "duration": 11,
    "start_time": "2021-08-22T18:53:32.549Z"
   },
   {
    "duration": 209,
    "start_time": "2021-08-22T18:53:32.563Z"
   },
   {
    "duration": 26,
    "start_time": "2021-08-22T18:53:32.775Z"
   },
   {
    "duration": 28,
    "start_time": "2021-08-22T18:53:32.803Z"
   },
   {
    "duration": 138,
    "start_time": "2021-08-22T18:53:32.834Z"
   },
   {
    "duration": 19,
    "start_time": "2021-08-22T18:53:32.974Z"
   },
   {
    "duration": 30,
    "start_time": "2021-08-22T18:53:32.996Z"
   },
   {
    "duration": 194,
    "start_time": "2021-08-22T18:53:33.028Z"
   },
   {
    "duration": 18,
    "start_time": "2021-08-22T18:53:33.224Z"
   },
   {
    "duration": 51,
    "start_time": "2021-08-22T18:53:33.244Z"
   },
   {
    "duration": 19,
    "start_time": "2021-08-22T18:53:33.297Z"
   },
   {
    "duration": 23,
    "start_time": "2021-08-22T18:53:33.318Z"
   },
   {
    "duration": 22,
    "start_time": "2021-08-22T18:53:33.344Z"
   },
   {
    "duration": 7,
    "start_time": "2021-08-22T18:53:33.385Z"
   },
   {
    "duration": 7,
    "start_time": "2021-08-22T18:53:33.396Z"
   },
   {
    "duration": 16,
    "start_time": "2021-08-22T18:53:33.406Z"
   },
   {
    "duration": 24,
    "start_time": "2021-08-22T18:53:33.425Z"
   },
   {
    "duration": 19,
    "start_time": "2021-08-22T18:53:33.451Z"
   },
   {
    "duration": 17,
    "start_time": "2021-08-22T18:53:33.473Z"
   },
   {
    "duration": 18,
    "start_time": "2021-08-22T18:53:33.493Z"
   },
   {
    "duration": 318,
    "start_time": "2021-08-22T18:53:33.513Z"
   },
   {
    "duration": 29,
    "start_time": "2021-08-22T18:53:33.833Z"
   },
   {
    "duration": 24,
    "start_time": "2021-08-22T18:53:33.864Z"
   },
   {
    "duration": 48,
    "start_time": "2021-08-22T18:53:33.891Z"
   },
   {
    "duration": 55,
    "start_time": "2021-08-22T18:53:33.941Z"
   },
   {
    "duration": 8,
    "start_time": "2021-08-22T18:53:33.999Z"
   },
   {
    "duration": 33,
    "start_time": "2021-08-22T18:53:34.010Z"
   },
   {
    "duration": 47,
    "start_time": "2021-08-22T18:53:34.046Z"
   },
   {
    "duration": 32,
    "start_time": "2021-08-22T18:53:34.096Z"
   },
   {
    "duration": 27,
    "start_time": "2021-08-22T18:53:34.131Z"
   },
   {
    "duration": 52,
    "start_time": "2021-08-22T18:53:34.160Z"
   },
   {
    "duration": 43,
    "start_time": "2021-08-22T18:53:34.216Z"
   },
   {
    "duration": 6,
    "start_time": "2021-08-22T18:53:34.262Z"
   },
   {
    "duration": 15,
    "start_time": "2021-08-22T18:53:34.271Z"
   },
   {
    "duration": 46,
    "start_time": "2021-08-22T18:53:34.289Z"
   },
   {
    "duration": 6,
    "start_time": "2021-08-22T18:53:34.337Z"
   },
   {
    "duration": 46,
    "start_time": "2021-08-22T18:53:34.345Z"
   },
   {
    "duration": 6,
    "start_time": "2021-08-22T18:53:34.394Z"
   },
   {
    "duration": 21,
    "start_time": "2021-08-22T18:53:34.402Z"
   },
   {
    "duration": 7,
    "start_time": "2021-08-22T18:53:34.425Z"
   },
   {
    "duration": 61,
    "start_time": "2021-08-22T18:53:34.434Z"
   },
   {
    "duration": 30,
    "start_time": "2021-08-22T18:53:34.498Z"
   },
   {
    "duration": 5,
    "start_time": "2021-08-22T18:53:34.530Z"
   },
   {
    "duration": 11,
    "start_time": "2021-08-22T18:53:34.538Z"
   },
   {
    "duration": 50,
    "start_time": "2021-08-22T18:53:34.552Z"
   },
   {
    "duration": 30,
    "start_time": "2021-08-22T18:53:34.604Z"
   },
   {
    "duration": 54,
    "start_time": "2021-08-22T18:53:34.637Z"
   },
   {
    "duration": 5,
    "start_time": "2021-08-22T18:53:34.694Z"
   },
   {
    "duration": 15,
    "start_time": "2021-08-22T18:53:34.701Z"
   },
   {
    "duration": 24,
    "start_time": "2021-08-22T18:53:34.718Z"
   },
   {
    "duration": 10,
    "start_time": "2021-08-22T18:53:34.745Z"
   },
   {
    "duration": 30,
    "start_time": "2021-08-22T18:53:34.757Z"
   },
   {
    "duration": 16,
    "start_time": "2021-08-22T18:53:38.746Z"
   },
   {
    "duration": 9,
    "start_time": "2021-08-22T18:57:05.942Z"
   },
   {
    "duration": 7,
    "start_time": "2021-08-22T18:57:31.667Z"
   },
   {
    "duration": 9,
    "start_time": "2021-08-22T18:57:48.508Z"
   },
   {
    "duration": 10,
    "start_time": "2021-08-22T18:58:19.155Z"
   },
   {
    "duration": 4,
    "start_time": "2021-08-22T18:58:26.276Z"
   },
   {
    "duration": 11,
    "start_time": "2021-08-22T18:58:34.091Z"
   },
   {
    "duration": 12,
    "start_time": "2021-08-22T18:58:34.948Z"
   },
   {
    "duration": 6,
    "start_time": "2021-08-22T18:58:36.869Z"
   },
   {
    "duration": 12,
    "start_time": "2021-08-22T18:58:38.696Z"
   },
   {
    "duration": 14,
    "start_time": "2021-08-22T18:58:39.149Z"
   },
   {
    "duration": 11,
    "start_time": "2021-08-22T18:59:05.413Z"
   },
   {
    "duration": 6,
    "start_time": "2021-08-22T18:59:06.940Z"
   },
   {
    "duration": 433,
    "start_time": "2021-08-22T18:59:08.252Z"
   },
   {
    "duration": 5,
    "start_time": "2021-08-22T18:59:09.653Z"
   },
   {
    "duration": 40,
    "start_time": "2021-08-22T18:59:11.939Z"
   },
   {
    "duration": 38,
    "start_time": "2021-08-22T18:59:19.822Z"
   },
   {
    "duration": 39,
    "start_time": "2021-08-22T18:59:22.631Z"
   },
   {
    "duration": 515,
    "start_time": "2021-08-22T19:12:35.075Z"
   },
   {
    "duration": 13,
    "start_time": "2021-08-22T19:12:52.633Z"
   },
   {
    "duration": 14,
    "start_time": "2021-08-22T19:13:15.325Z"
   },
   {
    "duration": 5145,
    "start_time": "2021-08-22T19:42:02.794Z"
   },
   {
    "duration": 7,
    "start_time": "2021-08-22T19:42:42.333Z"
   },
   {
    "duration": 7,
    "start_time": "2021-08-22T19:43:06.683Z"
   },
   {
    "duration": 4958,
    "start_time": "2021-08-22T19:43:07.481Z"
   },
   {
    "duration": 5179,
    "start_time": "2021-08-22T19:43:39.829Z"
   },
   {
    "duration": 7074,
    "start_time": "2021-08-22T19:44:24.359Z"
   },
   {
    "duration": 7,
    "start_time": "2021-08-22T20:32:37.075Z"
   },
   {
    "duration": 12649,
    "start_time": "2021-08-22T20:32:39.491Z"
   },
   {
    "duration": 7,
    "start_time": "2021-08-22T20:36:00.759Z"
   },
   {
    "duration": 426,
    "start_time": "2021-08-22T20:36:05.312Z"
   },
   {
    "duration": 4,
    "start_time": "2021-08-22T20:36:34.662Z"
   },
   {
    "duration": 8,
    "start_time": "2021-08-22T20:36:34.669Z"
   },
   {
    "duration": 7,
    "start_time": "2021-08-22T20:36:34.680Z"
   },
   {
    "duration": 7,
    "start_time": "2021-08-22T20:36:34.690Z"
   },
   {
    "duration": 7,
    "start_time": "2021-08-22T20:36:34.699Z"
   },
   {
    "duration": 6,
    "start_time": "2021-08-22T20:36:34.709Z"
   },
   {
    "duration": 9,
    "start_time": "2021-08-22T20:36:34.718Z"
   },
   {
    "duration": 49,
    "start_time": "2021-08-22T20:36:34.729Z"
   },
   {
    "duration": 18,
    "start_time": "2021-08-22T20:36:34.785Z"
   },
   {
    "duration": 15,
    "start_time": "2021-08-22T20:36:34.805Z"
   },
   {
    "duration": 288,
    "start_time": "2021-08-22T20:36:34.823Z"
   },
   {
    "duration": 17,
    "start_time": "2021-08-22T20:36:35.115Z"
   },
   {
    "duration": 52,
    "start_time": "2021-08-22T20:36:35.136Z"
   },
   {
    "duration": 137,
    "start_time": "2021-08-22T20:36:35.190Z"
   },
   {
    "duration": 15,
    "start_time": "2021-08-22T20:36:35.329Z"
   },
   {
    "duration": 52,
    "start_time": "2021-08-22T20:36:35.347Z"
   },
   {
    "duration": 194,
    "start_time": "2021-08-22T20:36:35.401Z"
   },
   {
    "duration": 18,
    "start_time": "2021-08-22T20:36:35.597Z"
   },
   {
    "duration": 27,
    "start_time": "2021-08-22T20:36:35.617Z"
   },
   {
    "duration": 39,
    "start_time": "2021-08-22T20:36:35.647Z"
   },
   {
    "duration": 23,
    "start_time": "2021-08-22T20:36:35.688Z"
   },
   {
    "duration": 21,
    "start_time": "2021-08-22T20:36:35.713Z"
   },
   {
    "duration": 19,
    "start_time": "2021-08-22T20:36:35.736Z"
   },
   {
    "duration": 13,
    "start_time": "2021-08-22T20:36:35.757Z"
   },
   {
    "duration": 22,
    "start_time": "2021-08-22T20:36:35.773Z"
   },
   {
    "duration": 11,
    "start_time": "2021-08-22T20:36:35.802Z"
   },
   {
    "duration": 29,
    "start_time": "2021-08-22T20:36:35.817Z"
   },
   {
    "duration": 16,
    "start_time": "2021-08-22T20:36:35.849Z"
   },
   {
    "duration": 19,
    "start_time": "2021-08-22T20:36:35.867Z"
   },
   {
    "duration": 322,
    "start_time": "2021-08-22T20:36:35.888Z"
   },
   {
    "duration": 27,
    "start_time": "2021-08-22T20:36:36.212Z"
   },
   {
    "duration": 17,
    "start_time": "2021-08-22T20:36:36.242Z"
   },
   {
    "duration": 62,
    "start_time": "2021-08-22T20:36:36.261Z"
   },
   {
    "duration": 25,
    "start_time": "2021-08-22T20:36:36.325Z"
   },
   {
    "duration": 38,
    "start_time": "2021-08-22T20:36:36.353Z"
   },
   {
    "duration": 31,
    "start_time": "2021-08-22T20:36:36.394Z"
   },
   {
    "duration": 15,
    "start_time": "2021-08-22T20:36:36.427Z"
   },
   {
    "duration": 31,
    "start_time": "2021-08-22T20:36:36.487Z"
   },
   {
    "duration": 17,
    "start_time": "2021-08-22T20:36:36.520Z"
   },
   {
    "duration": 15,
    "start_time": "2021-08-22T20:36:36.539Z"
   },
   {
    "duration": 38,
    "start_time": "2021-08-22T20:36:36.585Z"
   },
   {
    "duration": 3,
    "start_time": "2021-08-22T20:36:36.626Z"
   },
   {
    "duration": 71,
    "start_time": "2021-08-22T20:36:36.632Z"
   },
   {
    "duration": 43,
    "start_time": "2021-08-22T20:36:36.706Z"
   },
   {
    "duration": 5,
    "start_time": "2021-08-22T20:36:36.751Z"
   },
   {
    "duration": 31,
    "start_time": "2021-08-22T20:36:36.758Z"
   },
   {
    "duration": 13,
    "start_time": "2021-08-22T20:36:36.791Z"
   },
   {
    "duration": 14,
    "start_time": "2021-08-22T20:36:36.807Z"
   },
   {
    "duration": 10,
    "start_time": "2021-08-22T20:36:36.823Z"
   },
   {
    "duration": 35,
    "start_time": "2021-08-22T20:36:36.835Z"
   },
   {
    "duration": 43,
    "start_time": "2021-08-22T20:36:36.872Z"
   },
   {
    "duration": 6,
    "start_time": "2021-08-22T20:36:36.918Z"
   },
   {
    "duration": 14,
    "start_time": "2021-08-22T20:36:36.926Z"
   },
   {
    "duration": 52,
    "start_time": "2021-08-22T20:36:36.943Z"
   },
   {
    "duration": 29,
    "start_time": "2021-08-22T20:36:36.997Z"
   },
   {
    "duration": 28,
    "start_time": "2021-08-22T20:36:37.028Z"
   },
   {
    "duration": 29,
    "start_time": "2021-08-22T20:36:37.059Z"
   },
   {
    "duration": 25,
    "start_time": "2021-08-22T20:36:37.091Z"
   },
   {
    "duration": 28,
    "start_time": "2021-08-22T20:36:37.118Z"
   },
   {
    "duration": 18,
    "start_time": "2021-08-22T20:36:37.149Z"
   },
   {
    "duration": 15,
    "start_time": "2021-08-22T20:36:37.169Z"
   },
   {
    "duration": 21,
    "start_time": "2021-08-22T20:36:37.187Z"
   },
   {
    "duration": 23,
    "start_time": "2021-08-22T20:36:37.210Z"
   },
   {
    "duration": 28,
    "start_time": "2021-08-22T20:36:37.235Z"
   },
   {
    "duration": 19,
    "start_time": "2021-08-22T20:36:37.266Z"
   },
   {
    "duration": 26,
    "start_time": "2021-08-22T20:36:37.288Z"
   },
   {
    "duration": 37,
    "start_time": "2021-08-22T20:36:37.317Z"
   },
   {
    "duration": 9,
    "start_time": "2021-08-22T20:36:37.361Z"
   },
   {
    "duration": 19,
    "start_time": "2021-08-22T20:36:37.373Z"
   },
   {
    "duration": 19,
    "start_time": "2021-08-22T20:36:37.395Z"
   },
   {
    "duration": 18,
    "start_time": "2021-08-22T20:36:37.416Z"
   },
   {
    "duration": 14,
    "start_time": "2021-08-22T20:36:37.437Z"
   },
   {
    "duration": 471,
    "start_time": "2021-08-22T20:36:37.453Z"
   },
   {
    "duration": 4,
    "start_time": "2021-08-22T20:36:37.927Z"
   },
   {
    "duration": 67,
    "start_time": "2021-08-22T20:36:37.934Z"
   },
   {
    "duration": 39,
    "start_time": "2021-08-22T20:36:38.003Z"
   },
   {
    "duration": 71,
    "start_time": "2021-08-22T20:36:38.044Z"
   },
   {
    "duration": 8112,
    "start_time": "2021-08-22T20:36:38.118Z"
   },
   {
    "duration": 8511,
    "start_time": "2021-08-22T20:36:58.210Z"
   },
   {
    "duration": 6,
    "start_time": "2021-08-22T20:37:06.724Z"
   },
   {
    "duration": 11998,
    "start_time": "2021-08-22T20:37:07.946Z"
   },
   {
    "duration": 793,
    "start_time": "2021-08-22T20:39:45.975Z"
   },
   {
    "duration": 4,
    "start_time": "2021-08-22T20:39:59.203Z"
   },
   {
    "duration": 4,
    "start_time": "2021-08-22T20:39:59.219Z"
   },
   {
    "duration": 12,
    "start_time": "2021-08-22T20:39:59.226Z"
   },
   {
    "duration": 10,
    "start_time": "2021-08-22T20:39:59.242Z"
   },
   {
    "duration": 10,
    "start_time": "2021-08-22T20:39:59.255Z"
   },
   {
    "duration": 20,
    "start_time": "2021-08-22T20:39:59.267Z"
   },
   {
    "duration": 8,
    "start_time": "2021-08-22T20:39:59.290Z"
   },
   {
    "duration": 45,
    "start_time": "2021-08-22T20:39:59.301Z"
   },
   {
    "duration": 21,
    "start_time": "2021-08-22T20:39:59.348Z"
   },
   {
    "duration": 10,
    "start_time": "2021-08-22T20:39:59.388Z"
   },
   {
    "duration": 250,
    "start_time": "2021-08-22T20:39:59.401Z"
   },
   {
    "duration": 40,
    "start_time": "2021-08-22T20:39:59.653Z"
   },
   {
    "duration": 27,
    "start_time": "2021-08-22T20:39:59.695Z"
   },
   {
    "duration": 144,
    "start_time": "2021-08-22T20:39:59.725Z"
   },
   {
    "duration": 25,
    "start_time": "2021-08-22T20:39:59.871Z"
   },
   {
    "duration": 24,
    "start_time": "2021-08-22T20:39:59.898Z"
   },
   {
    "duration": 200,
    "start_time": "2021-08-22T20:39:59.924Z"
   },
   {
    "duration": 17,
    "start_time": "2021-08-22T20:40:00.127Z"
   },
   {
    "duration": 45,
    "start_time": "2021-08-22T20:40:00.147Z"
   },
   {
    "duration": 29,
    "start_time": "2021-08-22T20:40:00.194Z"
   },
   {
    "duration": 21,
    "start_time": "2021-08-22T20:40:00.225Z"
   },
   {
    "duration": 16,
    "start_time": "2021-08-22T20:40:00.248Z"
   },
   {
    "duration": 32,
    "start_time": "2021-08-22T20:40:00.266Z"
   },
   {
    "duration": 16,
    "start_time": "2021-08-22T20:40:00.300Z"
   },
   {
    "duration": 10,
    "start_time": "2021-08-22T20:40:00.318Z"
   },
   {
    "duration": 20,
    "start_time": "2021-08-22T20:40:00.330Z"
   },
   {
    "duration": 34,
    "start_time": "2021-08-22T20:40:00.352Z"
   },
   {
    "duration": 11,
    "start_time": "2021-08-22T20:40:00.396Z"
   },
   {
    "duration": 21,
    "start_time": "2021-08-22T20:40:00.412Z"
   },
   {
    "duration": 350,
    "start_time": "2021-08-22T20:40:00.436Z"
   },
   {
    "duration": 32,
    "start_time": "2021-08-22T20:40:00.789Z"
   },
   {
    "duration": 27,
    "start_time": "2021-08-22T20:40:00.824Z"
   },
   {
    "duration": 67,
    "start_time": "2021-08-22T20:40:00.854Z"
   },
   {
    "duration": 25,
    "start_time": "2021-08-22T20:40:00.924Z"
   },
   {
    "duration": 34,
    "start_time": "2021-08-22T20:40:00.953Z"
   },
   {
    "duration": 34,
    "start_time": "2021-08-22T20:40:00.991Z"
   },
   {
    "duration": 19,
    "start_time": "2021-08-22T20:40:01.028Z"
   },
   {
    "duration": 34,
    "start_time": "2021-08-22T20:40:01.087Z"
   },
   {
    "duration": 22,
    "start_time": "2021-08-22T20:40:01.124Z"
   },
   {
    "duration": 10,
    "start_time": "2021-08-22T20:40:01.185Z"
   },
   {
    "duration": 70,
    "start_time": "2021-08-22T20:40:01.198Z"
   },
   {
    "duration": 6,
    "start_time": "2021-08-22T20:40:01.270Z"
   },
   {
    "duration": 27,
    "start_time": "2021-08-22T20:40:01.279Z"
   },
   {
    "duration": 47,
    "start_time": "2021-08-22T20:40:01.309Z"
   },
   {
    "duration": 5,
    "start_time": "2021-08-22T20:40:01.359Z"
   },
   {
    "duration": 26,
    "start_time": "2021-08-22T20:40:01.366Z"
   },
   {
    "duration": 11,
    "start_time": "2021-08-22T20:40:01.394Z"
   },
   {
    "duration": 23,
    "start_time": "2021-08-22T20:40:01.407Z"
   },
   {
    "duration": 22,
    "start_time": "2021-08-22T20:40:01.433Z"
   },
   {
    "duration": 43,
    "start_time": "2021-08-22T20:40:01.458Z"
   },
   {
    "duration": 31,
    "start_time": "2021-08-22T20:40:01.504Z"
   },
   {
    "duration": 6,
    "start_time": "2021-08-22T20:40:01.537Z"
   },
   {
    "duration": 54,
    "start_time": "2021-08-22T20:40:01.546Z"
   },
   {
    "duration": 43,
    "start_time": "2021-08-22T20:40:01.602Z"
   },
   {
    "duration": 48,
    "start_time": "2021-08-22T20:40:01.649Z"
   },
   {
    "duration": 27,
    "start_time": "2021-08-22T20:40:01.699Z"
   },
   {
    "duration": 6,
    "start_time": "2021-08-22T20:40:01.729Z"
   },
   {
    "duration": 39,
    "start_time": "2021-08-22T20:40:01.738Z"
   },
   {
    "duration": 20,
    "start_time": "2021-08-22T20:40:01.786Z"
   },
   {
    "duration": 30,
    "start_time": "2021-08-22T20:40:01.809Z"
   },
   {
    "duration": 13,
    "start_time": "2021-08-22T20:40:01.842Z"
   },
   {
    "duration": 33,
    "start_time": "2021-08-22T20:40:01.857Z"
   },
   {
    "duration": 21,
    "start_time": "2021-08-22T20:40:01.893Z"
   },
   {
    "duration": 32,
    "start_time": "2021-08-22T20:40:01.917Z"
   },
   {
    "duration": 32,
    "start_time": "2021-08-22T20:40:01.951Z"
   },
   {
    "duration": 29,
    "start_time": "2021-08-22T20:40:01.985Z"
   },
   {
    "duration": 49,
    "start_time": "2021-08-22T20:40:02.017Z"
   },
   {
    "duration": 17,
    "start_time": "2021-08-22T20:40:02.069Z"
   },
   {
    "duration": 44,
    "start_time": "2021-08-22T20:40:02.089Z"
   },
   {
    "duration": 20,
    "start_time": "2021-08-22T20:40:02.136Z"
   },
   {
    "duration": 41,
    "start_time": "2021-08-22T20:40:02.159Z"
   },
   {
    "duration": 18,
    "start_time": "2021-08-22T20:40:02.203Z"
   },
   {
    "duration": 490,
    "start_time": "2021-08-22T20:40:02.223Z"
   },
   {
    "duration": 4,
    "start_time": "2021-08-22T20:40:02.716Z"
   },
   {
    "duration": 67,
    "start_time": "2021-08-22T20:40:02.723Z"
   },
   {
    "duration": 51,
    "start_time": "2021-08-22T20:40:02.793Z"
   },
   {
    "duration": 82,
    "start_time": "2021-08-22T20:40:02.847Z"
   },
   {
    "duration": 8057,
    "start_time": "2021-08-22T20:40:02.931Z"
   },
   {
    "duration": 14,
    "start_time": "2021-08-22T20:40:11.003Z"
   },
   {
    "duration": 12384,
    "start_time": "2021-08-22T20:40:11.020Z"
   },
   {
    "duration": 3,
    "start_time": "2021-08-22T20:44:31.489Z"
   },
   {
    "duration": 11,
    "start_time": "2021-08-22T20:44:31.501Z"
   },
   {
    "duration": 15,
    "start_time": "2021-08-22T20:44:31.515Z"
   },
   {
    "duration": 9,
    "start_time": "2021-08-22T20:44:31.533Z"
   },
   {
    "duration": 6,
    "start_time": "2021-08-22T20:44:31.545Z"
   },
   {
    "duration": 32,
    "start_time": "2021-08-22T20:44:31.553Z"
   },
   {
    "duration": 19,
    "start_time": "2021-08-22T20:44:31.588Z"
   },
   {
    "duration": 39,
    "start_time": "2021-08-22T20:44:31.610Z"
   },
   {
    "duration": 20,
    "start_time": "2021-08-22T20:44:31.653Z"
   },
   {
    "duration": 15,
    "start_time": "2021-08-22T20:44:31.685Z"
   },
   {
    "duration": 252,
    "start_time": "2021-08-22T20:44:31.702Z"
   },
   {
    "duration": 39,
    "start_time": "2021-08-22T20:44:31.957Z"
   },
   {
    "duration": 41,
    "start_time": "2021-08-22T20:44:31.998Z"
   },
   {
    "duration": 137,
    "start_time": "2021-08-22T20:44:32.042Z"
   },
   {
    "duration": 17,
    "start_time": "2021-08-22T20:44:32.182Z"
   },
   {
    "duration": 30,
    "start_time": "2021-08-22T20:44:32.201Z"
   },
   {
    "duration": 195,
    "start_time": "2021-08-22T20:44:32.234Z"
   },
   {
    "duration": 17,
    "start_time": "2021-08-22T20:44:32.432Z"
   },
   {
    "duration": 50,
    "start_time": "2021-08-22T20:44:32.452Z"
   },
   {
    "duration": 20,
    "start_time": "2021-08-22T20:44:32.505Z"
   },
   {
    "duration": 20,
    "start_time": "2021-08-22T20:44:32.528Z"
   },
   {
    "duration": 35,
    "start_time": "2021-08-22T20:44:32.550Z"
   },
   {
    "duration": 13,
    "start_time": "2021-08-22T20:44:32.592Z"
   },
   {
    "duration": 7,
    "start_time": "2021-08-22T20:44:32.609Z"
   },
   {
    "duration": 9,
    "start_time": "2021-08-22T20:44:32.618Z"
   },
   {
    "duration": 13,
    "start_time": "2021-08-22T20:44:32.629Z"
   },
   {
    "duration": 41,
    "start_time": "2021-08-22T20:44:32.644Z"
   },
   {
    "duration": 7,
    "start_time": "2021-08-22T20:44:32.688Z"
   },
   {
    "duration": 21,
    "start_time": "2021-08-22T20:44:32.697Z"
   },
   {
    "duration": 345,
    "start_time": "2021-08-22T20:44:32.721Z"
   },
   {
    "duration": 33,
    "start_time": "2021-08-22T20:44:33.068Z"
   },
   {
    "duration": 13,
    "start_time": "2021-08-22T20:44:33.103Z"
   },
   {
    "duration": 70,
    "start_time": "2021-08-22T20:44:33.119Z"
   },
   {
    "duration": 27,
    "start_time": "2021-08-22T20:44:33.191Z"
   },
   {
    "duration": 9,
    "start_time": "2021-08-22T20:44:33.221Z"
   },
   {
    "duration": 74,
    "start_time": "2021-08-22T20:44:33.234Z"
   },
   {
    "duration": 19,
    "start_time": "2021-08-22T20:44:33.311Z"
   },
   {
    "duration": 73,
    "start_time": "2021-08-22T20:44:33.334Z"
   },
   {
    "duration": 24,
    "start_time": "2021-08-22T20:44:33.410Z"
   },
   {
    "duration": 14,
    "start_time": "2021-08-22T20:44:33.437Z"
   },
   {
    "duration": 34,
    "start_time": "2021-08-22T20:44:33.485Z"
   },
   {
    "duration": 4,
    "start_time": "2021-08-22T20:44:33.522Z"
   },
   {
    "duration": 26,
    "start_time": "2021-08-22T20:44:33.529Z"
   },
   {
    "duration": 53,
    "start_time": "2021-08-22T20:44:33.558Z"
   },
   {
    "duration": 5,
    "start_time": "2021-08-22T20:44:33.613Z"
   },
   {
    "duration": 22,
    "start_time": "2021-08-22T20:44:33.620Z"
   },
   {
    "duration": 16,
    "start_time": "2021-08-22T20:44:33.645Z"
   },
   {
    "duration": 31,
    "start_time": "2021-08-22T20:44:33.663Z"
   },
   {
    "duration": 38,
    "start_time": "2021-08-22T20:44:33.696Z"
   },
   {
    "duration": 27,
    "start_time": "2021-08-22T20:44:33.737Z"
   },
   {
    "duration": 34,
    "start_time": "2021-08-22T20:44:33.766Z"
   },
   {
    "duration": 5,
    "start_time": "2021-08-22T20:44:33.803Z"
   },
   {
    "duration": 15,
    "start_time": "2021-08-22T20:44:33.810Z"
   },
   {
    "duration": 17,
    "start_time": "2021-08-22T20:44:33.828Z"
   },
   {
    "duration": 57,
    "start_time": "2021-08-22T20:44:33.848Z"
   },
   {
    "duration": 27,
    "start_time": "2021-08-22T20:44:33.908Z"
   },
   {
    "duration": 5,
    "start_time": "2021-08-22T20:44:33.938Z"
   },
   {
    "duration": 41,
    "start_time": "2021-08-22T20:44:33.945Z"
   },
   {
    "duration": 15,
    "start_time": "2021-08-22T20:44:33.988Z"
   },
   {
    "duration": 20,
    "start_time": "2021-08-22T20:44:34.005Z"
   },
   {
    "duration": 28,
    "start_time": "2021-08-22T20:44:34.028Z"
   },
   {
    "duration": 52,
    "start_time": "2021-08-22T20:44:34.060Z"
   },
   {
    "duration": 14,
    "start_time": "2021-08-22T20:44:34.115Z"
   },
   {
    "duration": 16,
    "start_time": "2021-08-22T20:44:34.133Z"
   },
   {
    "duration": 6,
    "start_time": "2021-08-22T20:44:34.161Z"
   },
   {
    "duration": 24,
    "start_time": "2021-08-22T20:44:34.170Z"
   },
   {
    "duration": 17,
    "start_time": "2021-08-22T20:44:34.197Z"
   },
   {
    "duration": 6,
    "start_time": "2021-08-22T20:44:34.217Z"
   },
   {
    "duration": 24,
    "start_time": "2021-08-22T20:44:34.226Z"
   },
   {
    "duration": 39,
    "start_time": "2021-08-22T20:44:34.253Z"
   },
   {
    "duration": 19,
    "start_time": "2021-08-22T20:44:34.295Z"
   },
   {
    "duration": 8,
    "start_time": "2021-08-22T20:44:34.317Z"
   },
   {
    "duration": 500,
    "start_time": "2021-08-22T20:44:34.328Z"
   },
   {
    "duration": 6,
    "start_time": "2021-08-22T20:44:34.830Z"
   },
   {
    "duration": 62,
    "start_time": "2021-08-22T20:44:34.840Z"
   },
   {
    "duration": 44,
    "start_time": "2021-08-22T20:44:34.905Z"
   },
   {
    "duration": 73,
    "start_time": "2021-08-22T20:44:34.952Z"
   },
   {
    "duration": 8206,
    "start_time": "2021-08-22T20:44:35.028Z"
   },
   {
    "duration": 16,
    "start_time": "2021-08-22T20:44:43.246Z"
   },
   {
    "duration": 464,
    "start_time": "2021-08-22T20:44:43.265Z"
   },
   {
    "duration": 402,
    "start_time": "2021-08-22T20:59:34.847Z"
   },
   {
    "duration": 6,
    "start_time": "2021-08-22T20:59:55.582Z"
   },
   {
    "duration": 428,
    "start_time": "2021-08-22T20:59:56.808Z"
   },
   {
    "duration": 7,
    "start_time": "2021-08-22T21:00:47.224Z"
   },
   {
    "duration": 399,
    "start_time": "2021-08-22T21:00:48.711Z"
   },
   {
    "duration": 4,
    "start_time": "2021-08-22T21:01:06.922Z"
   },
   {
    "duration": 18,
    "start_time": "2021-08-22T21:01:06.928Z"
   },
   {
    "duration": 21,
    "start_time": "2021-08-22T21:01:06.949Z"
   },
   {
    "duration": 16,
    "start_time": "2021-08-22T21:01:06.973Z"
   },
   {
    "duration": 19,
    "start_time": "2021-08-22T21:01:06.992Z"
   },
   {
    "duration": 24,
    "start_time": "2021-08-22T21:01:07.013Z"
   },
   {
    "duration": 22,
    "start_time": "2021-08-22T21:01:07.041Z"
   },
   {
    "duration": 43,
    "start_time": "2021-08-22T21:01:07.066Z"
   },
   {
    "duration": 22,
    "start_time": "2021-08-22T21:01:07.111Z"
   },
   {
    "duration": 20,
    "start_time": "2021-08-22T21:01:07.135Z"
   },
   {
    "duration": 250,
    "start_time": "2021-08-22T21:01:07.157Z"
   },
   {
    "duration": 17,
    "start_time": "2021-08-22T21:01:07.410Z"
   },
   {
    "duration": 58,
    "start_time": "2021-08-22T21:01:07.429Z"
   },
   {
    "duration": 124,
    "start_time": "2021-08-22T21:01:07.490Z"
   },
   {
    "duration": 16,
    "start_time": "2021-08-22T21:01:07.616Z"
   },
   {
    "duration": 39,
    "start_time": "2021-08-22T21:01:07.634Z"
   },
   {
    "duration": 176,
    "start_time": "2021-08-22T21:01:07.676Z"
   },
   {
    "duration": 32,
    "start_time": "2021-08-22T21:01:07.854Z"
   },
   {
    "duration": 23,
    "start_time": "2021-08-22T21:01:07.891Z"
   },
   {
    "duration": 23,
    "start_time": "2021-08-22T21:01:07.918Z"
   },
   {
    "duration": 44,
    "start_time": "2021-08-22T21:01:07.943Z"
   },
   {
    "duration": 16,
    "start_time": "2021-08-22T21:01:07.990Z"
   },
   {
    "duration": 16,
    "start_time": "2021-08-22T21:01:08.009Z"
   },
   {
    "duration": 13,
    "start_time": "2021-08-22T21:01:08.027Z"
   },
   {
    "duration": 13,
    "start_time": "2021-08-22T21:01:08.043Z"
   },
   {
    "duration": 30,
    "start_time": "2021-08-22T21:01:08.058Z"
   },
   {
    "duration": 14,
    "start_time": "2021-08-22T21:01:08.090Z"
   },
   {
    "duration": 7,
    "start_time": "2021-08-22T21:01:08.107Z"
   },
   {
    "duration": 11,
    "start_time": "2021-08-22T21:01:08.117Z"
   },
   {
    "duration": 364,
    "start_time": "2021-08-22T21:01:08.131Z"
   },
   {
    "duration": 26,
    "start_time": "2021-08-22T21:01:08.498Z"
   },
   {
    "duration": 5,
    "start_time": "2021-08-22T21:01:08.527Z"
   },
   {
    "duration": 72,
    "start_time": "2021-08-22T21:01:08.535Z"
   },
   {
    "duration": 19,
    "start_time": "2021-08-22T21:01:08.610Z"
   },
   {
    "duration": 7,
    "start_time": "2021-08-22T21:01:08.631Z"
   },
   {
    "duration": 60,
    "start_time": "2021-08-22T21:01:08.640Z"
   },
   {
    "duration": 19,
    "start_time": "2021-08-22T21:01:08.703Z"
   },
   {
    "duration": 66,
    "start_time": "2021-08-22T21:01:08.726Z"
   },
   {
    "duration": 22,
    "start_time": "2021-08-22T21:01:08.794Z"
   },
   {
    "duration": 8,
    "start_time": "2021-08-22T21:01:08.819Z"
   },
   {
    "duration": 75,
    "start_time": "2021-08-22T21:01:08.831Z"
   },
   {
    "duration": 6,
    "start_time": "2021-08-22T21:01:08.908Z"
   },
   {
    "duration": 14,
    "start_time": "2021-08-22T21:01:08.917Z"
   },
   {
    "duration": 78,
    "start_time": "2021-08-22T21:01:08.934Z"
   },
   {
    "duration": 7,
    "start_time": "2021-08-22T21:01:09.014Z"
   },
   {
    "duration": 24,
    "start_time": "2021-08-22T21:01:09.024Z"
   },
   {
    "duration": 45,
    "start_time": "2021-08-22T21:01:09.051Z"
   },
   {
    "duration": 24,
    "start_time": "2021-08-22T21:01:09.098Z"
   },
   {
    "duration": 8,
    "start_time": "2021-08-22T21:01:09.125Z"
   },
   {
    "duration": 29,
    "start_time": "2021-08-22T21:01:09.136Z"
   },
   {
    "duration": 42,
    "start_time": "2021-08-22T21:01:09.168Z"
   },
   {
    "duration": 6,
    "start_time": "2021-08-22T21:01:09.212Z"
   },
   {
    "duration": 15,
    "start_time": "2021-08-22T21:01:09.221Z"
   },
   {
    "duration": 50,
    "start_time": "2021-08-22T21:01:09.239Z"
   },
   {
    "duration": 24,
    "start_time": "2021-08-22T21:01:09.300Z"
   },
   {
    "duration": 65,
    "start_time": "2021-08-22T21:01:09.328Z"
   },
   {
    "duration": 6,
    "start_time": "2021-08-22T21:01:09.396Z"
   },
   {
    "duration": 9,
    "start_time": "2021-08-22T21:01:09.405Z"
   },
   {
    "duration": 15,
    "start_time": "2021-08-22T21:01:09.417Z"
   },
   {
    "duration": 58,
    "start_time": "2021-08-22T21:01:09.435Z"
   },
   {
    "duration": 8,
    "start_time": "2021-08-22T21:01:09.496Z"
   },
   {
    "duration": 15,
    "start_time": "2021-08-22T21:01:09.507Z"
   },
   {
    "duration": 10,
    "start_time": "2021-08-22T21:01:09.525Z"
   },
   {
    "duration": 52,
    "start_time": "2021-08-22T21:01:09.537Z"
   },
   {
    "duration": 7,
    "start_time": "2021-08-22T21:01:09.592Z"
   },
   {
    "duration": 15,
    "start_time": "2021-08-22T21:01:09.602Z"
   },
   {
    "duration": 65,
    "start_time": "2021-08-22T21:01:09.620Z"
   },
   {
    "duration": 6,
    "start_time": "2021-08-22T21:01:09.688Z"
   },
   {
    "duration": 22,
    "start_time": "2021-08-22T21:01:09.697Z"
   },
   {
    "duration": 23,
    "start_time": "2021-08-22T21:01:09.722Z"
   },
   {
    "duration": 37,
    "start_time": "2021-08-22T21:01:09.748Z"
   },
   {
    "duration": 7,
    "start_time": "2021-08-22T21:01:09.789Z"
   },
   {
    "duration": 506,
    "start_time": "2021-08-22T21:01:09.799Z"
   },
   {
    "duration": 5,
    "start_time": "2021-08-22T21:01:10.307Z"
   },
   {
    "duration": 40,
    "start_time": "2021-08-22T21:01:10.314Z"
   },
   {
    "duration": 63,
    "start_time": "2021-08-22T21:01:10.356Z"
   },
   {
    "duration": 65,
    "start_time": "2021-08-22T21:01:10.422Z"
   },
   {
    "duration": 7582,
    "start_time": "2021-08-22T21:01:10.489Z"
   },
   {
    "duration": 11,
    "start_time": "2021-08-22T21:01:18.093Z"
   },
   {
    "duration": 417,
    "start_time": "2021-08-22T21:01:18.107Z"
   },
   {
    "duration": 431,
    "start_time": "2021-08-22T21:03:02.243Z"
   },
   {
    "duration": 1052,
    "start_time": "2021-08-22T21:18:13.827Z"
   },
   {
    "duration": 1035,
    "start_time": "2021-08-22T21:18:39.235Z"
   },
   {
    "duration": 138,
    "start_time": "2021-08-22T21:19:07.991Z"
   },
   {
    "duration": 493,
    "start_time": "2021-08-22T21:19:15.221Z"
   },
   {
    "duration": 4,
    "start_time": "2021-08-22T21:19:28.829Z"
   },
   {
    "duration": 12,
    "start_time": "2021-08-22T21:19:28.836Z"
   },
   {
    "duration": 6,
    "start_time": "2021-08-22T21:19:28.851Z"
   },
   {
    "duration": 11,
    "start_time": "2021-08-22T21:19:28.859Z"
   },
   {
    "duration": 8,
    "start_time": "2021-08-22T21:19:28.872Z"
   },
   {
    "duration": 16,
    "start_time": "2021-08-22T21:19:28.882Z"
   },
   {
    "duration": 10,
    "start_time": "2021-08-22T21:19:28.900Z"
   },
   {
    "duration": 52,
    "start_time": "2021-08-22T21:19:28.915Z"
   },
   {
    "duration": 25,
    "start_time": "2021-08-22T21:19:28.971Z"
   },
   {
    "duration": 15,
    "start_time": "2021-08-22T21:19:28.999Z"
   },
   {
    "duration": 240,
    "start_time": "2021-08-22T21:19:29.017Z"
   },
   {
    "duration": 39,
    "start_time": "2021-08-22T21:19:29.260Z"
   },
   {
    "duration": 28,
    "start_time": "2021-08-22T21:19:29.302Z"
   },
   {
    "duration": 140,
    "start_time": "2021-08-22T21:19:29.333Z"
   },
   {
    "duration": 22,
    "start_time": "2021-08-22T21:19:29.475Z"
   },
   {
    "duration": 27,
    "start_time": "2021-08-22T21:19:29.500Z"
   },
   {
    "duration": 172,
    "start_time": "2021-08-22T21:19:29.533Z"
   },
   {
    "duration": 18,
    "start_time": "2021-08-22T21:19:29.709Z"
   },
   {
    "duration": 24,
    "start_time": "2021-08-22T21:19:29.729Z"
   },
   {
    "duration": 48,
    "start_time": "2021-08-22T21:19:29.756Z"
   },
   {
    "duration": 21,
    "start_time": "2021-08-22T21:19:29.807Z"
   },
   {
    "duration": 20,
    "start_time": "2021-08-22T21:19:29.831Z"
   },
   {
    "duration": 18,
    "start_time": "2021-08-22T21:19:29.853Z"
   },
   {
    "duration": 14,
    "start_time": "2021-08-22T21:19:29.874Z"
   },
   {
    "duration": 13,
    "start_time": "2021-08-22T21:19:29.891Z"
   },
   {
    "duration": 16,
    "start_time": "2021-08-22T21:19:29.907Z"
   },
   {
    "duration": 15,
    "start_time": "2021-08-22T21:19:29.926Z"
   },
   {
    "duration": 10,
    "start_time": "2021-08-22T21:19:29.944Z"
   },
   {
    "duration": 35,
    "start_time": "2021-08-22T21:19:29.956Z"
   },
   {
    "duration": 306,
    "start_time": "2021-08-22T21:19:29.995Z"
   },
   {
    "duration": 30,
    "start_time": "2021-08-22T21:19:30.304Z"
   },
   {
    "duration": 6,
    "start_time": "2021-08-22T21:19:30.336Z"
   },
   {
    "duration": 76,
    "start_time": "2021-08-22T21:19:30.345Z"
   },
   {
    "duration": 25,
    "start_time": "2021-08-22T21:19:30.424Z"
   },
   {
    "duration": 35,
    "start_time": "2021-08-22T21:19:30.452Z"
   },
   {
    "duration": 29,
    "start_time": "2021-08-22T21:19:30.491Z"
   },
   {
    "duration": 43,
    "start_time": "2021-08-22T21:19:30.522Z"
   },
   {
    "duration": 44,
    "start_time": "2021-08-22T21:19:30.584Z"
   },
   {
    "duration": 30,
    "start_time": "2021-08-22T21:19:30.631Z"
   },
   {
    "duration": 39,
    "start_time": "2021-08-22T21:19:30.664Z"
   },
   {
    "duration": 45,
    "start_time": "2021-08-22T21:19:30.706Z"
   },
   {
    "duration": 7,
    "start_time": "2021-08-22T21:19:30.754Z"
   },
   {
    "duration": 24,
    "start_time": "2021-08-22T21:19:30.764Z"
   },
   {
    "duration": 51,
    "start_time": "2021-08-22T21:19:30.798Z"
   },
   {
    "duration": 5,
    "start_time": "2021-08-22T21:19:30.854Z"
   },
   {
    "duration": 33,
    "start_time": "2021-08-22T21:19:30.863Z"
   },
   {
    "duration": 19,
    "start_time": "2021-08-22T21:19:30.899Z"
   },
   {
    "duration": 60,
    "start_time": "2021-08-22T21:19:30.920Z"
   },
   {
    "duration": 15,
    "start_time": "2021-08-22T21:19:30.984Z"
   },
   {
    "duration": 60,
    "start_time": "2021-08-22T21:19:31.001Z"
   },
   {
    "duration": 49,
    "start_time": "2021-08-22T21:19:31.065Z"
   },
   {
    "duration": 6,
    "start_time": "2021-08-22T21:19:31.117Z"
   },
   {
    "duration": 19,
    "start_time": "2021-08-22T21:19:31.126Z"
   },
   {
    "duration": 29,
    "start_time": "2021-08-22T21:19:31.148Z"
   },
   {
    "duration": 51,
    "start_time": "2021-08-22T21:19:31.186Z"
   },
   {
    "duration": 45,
    "start_time": "2021-08-22T21:19:31.240Z"
   },
   {
    "duration": 8,
    "start_time": "2021-08-22T21:19:31.288Z"
   },
   {
    "duration": 26,
    "start_time": "2021-08-22T21:19:31.299Z"
   },
   {
    "duration": 39,
    "start_time": "2021-08-22T21:19:31.327Z"
   },
   {
    "duration": 42,
    "start_time": "2021-08-22T21:19:31.368Z"
   },
   {
    "duration": 23,
    "start_time": "2021-08-22T21:19:31.412Z"
   },
   {
    "duration": 24,
    "start_time": "2021-08-22T21:19:31.438Z"
   },
   {
    "duration": 29,
    "start_time": "2021-08-22T21:19:31.464Z"
   },
   {
    "duration": 24,
    "start_time": "2021-08-22T21:19:31.496Z"
   },
   {
    "duration": 22,
    "start_time": "2021-08-22T21:19:31.522Z"
   },
   {
    "duration": 24,
    "start_time": "2021-08-22T21:19:31.546Z"
   },
   {
    "duration": 19,
    "start_time": "2021-08-22T21:19:31.573Z"
   },
   {
    "duration": 18,
    "start_time": "2021-08-22T21:19:31.594Z"
   },
   {
    "duration": 37,
    "start_time": "2021-08-22T21:19:31.615Z"
   },
   {
    "duration": 30,
    "start_time": "2021-08-22T21:19:31.654Z"
   },
   {
    "duration": 23,
    "start_time": "2021-08-22T21:19:31.687Z"
   },
   {
    "duration": 25,
    "start_time": "2021-08-22T21:19:31.712Z"
   },
   {
    "duration": 477,
    "start_time": "2021-08-22T21:19:31.739Z"
   },
   {
    "duration": 5,
    "start_time": "2021-08-22T21:19:32.218Z"
   },
   {
    "duration": 60,
    "start_time": "2021-08-22T21:19:32.225Z"
   },
   {
    "duration": 41,
    "start_time": "2021-08-22T21:19:32.289Z"
   },
   {
    "duration": 66,
    "start_time": "2021-08-22T21:19:32.333Z"
   },
   {
    "duration": 7529,
    "start_time": "2021-08-22T21:19:39.820Z"
   },
   {
    "duration": 614,
    "start_time": "2021-08-22T21:19:47.351Z"
   },
   {
    "duration": 917,
    "start_time": "2021-08-23T05:27:11.405Z"
   },
   {
    "duration": 4,
    "start_time": "2021-08-23T05:27:12.325Z"
   },
   {
    "duration": 741,
    "start_time": "2021-08-23T05:27:12.333Z"
   },
   {
    "duration": 257,
    "start_time": "2021-08-23T05:27:13.078Z"
   },
   {
    "duration": 4,
    "start_time": "2021-08-23T05:27:13.338Z"
   },
   {
    "duration": 4,
    "start_time": "2021-08-23T05:27:13.357Z"
   },
   {
    "duration": 6,
    "start_time": "2021-08-23T05:27:13.363Z"
   },
   {
    "duration": 66,
    "start_time": "2021-08-23T05:27:13.374Z"
   },
   {
    "duration": 31,
    "start_time": "2021-08-23T05:27:13.444Z"
   },
   {
    "duration": 17,
    "start_time": "2021-08-23T05:27:13.478Z"
   },
   {
    "duration": 295,
    "start_time": "2021-08-23T05:27:13.498Z"
   },
   {
    "duration": 27,
    "start_time": "2021-08-23T05:27:13.796Z"
   },
   {
    "duration": 60,
    "start_time": "2021-08-23T05:27:13.826Z"
   },
   {
    "duration": 124,
    "start_time": "2021-08-23T05:27:13.889Z"
   },
   {
    "duration": 14,
    "start_time": "2021-08-23T05:27:14.016Z"
   },
   {
    "duration": 36,
    "start_time": "2021-08-23T05:27:14.033Z"
   },
   {
    "duration": 190,
    "start_time": "2021-08-23T05:27:14.072Z"
   },
   {
    "duration": 17,
    "start_time": "2021-08-23T05:27:14.265Z"
   },
   {
    "duration": 25,
    "start_time": "2021-08-23T05:27:14.285Z"
   },
   {
    "duration": 20,
    "start_time": "2021-08-23T05:27:14.312Z"
   },
   {
    "duration": 28,
    "start_time": "2021-08-23T05:27:14.334Z"
   },
   {
    "duration": 12,
    "start_time": "2021-08-23T05:27:14.365Z"
   },
   {
    "duration": 6,
    "start_time": "2021-08-23T05:27:14.384Z"
   },
   {
    "duration": 7,
    "start_time": "2021-08-23T05:27:14.394Z"
   },
   {
    "duration": 8,
    "start_time": "2021-08-23T05:27:14.404Z"
   },
   {
    "duration": 42,
    "start_time": "2021-08-23T05:27:14.414Z"
   },
   {
    "duration": 11,
    "start_time": "2021-08-23T05:27:14.459Z"
   },
   {
    "duration": 7,
    "start_time": "2021-08-23T05:27:14.473Z"
   },
   {
    "duration": 10,
    "start_time": "2021-08-23T05:27:14.482Z"
   },
   {
    "duration": 327,
    "start_time": "2021-08-23T05:27:14.494Z"
   },
   {
    "duration": 35,
    "start_time": "2021-08-23T05:27:14.824Z"
   },
   {
    "duration": 6,
    "start_time": "2021-08-23T05:27:14.862Z"
   },
   {
    "duration": 44,
    "start_time": "2021-08-23T05:27:14.870Z"
   },
   {
    "duration": 49,
    "start_time": "2021-08-23T05:27:14.917Z"
   },
   {
    "duration": 7,
    "start_time": "2021-08-23T05:27:14.968Z"
   },
   {
    "duration": 26,
    "start_time": "2021-08-23T05:27:14.978Z"
   },
   {
    "duration": 16,
    "start_time": "2021-08-23T05:27:15.008Z"
   },
   {
    "duration": 30,
    "start_time": "2021-08-23T05:27:15.057Z"
   },
   {
    "duration": 17,
    "start_time": "2021-08-23T05:27:15.089Z"
   },
   {
    "duration": 7,
    "start_time": "2021-08-23T05:27:15.109Z"
   },
   {
    "duration": 32,
    "start_time": "2021-08-23T05:27:15.155Z"
   },
   {
    "duration": 5,
    "start_time": "2021-08-23T05:27:15.189Z"
   },
   {
    "duration": 9,
    "start_time": "2021-08-23T05:27:15.196Z"
   },
   {
    "duration": 69,
    "start_time": "2021-08-23T05:27:15.208Z"
   },
   {
    "duration": 5,
    "start_time": "2021-08-23T05:27:15.279Z"
   },
   {
    "duration": 13,
    "start_time": "2021-08-23T05:27:15.286Z"
   },
   {
    "duration": 12,
    "start_time": "2021-08-23T05:27:15.302Z"
   },
   {
    "duration": 41,
    "start_time": "2021-08-23T05:27:15.317Z"
   },
   {
    "duration": 6,
    "start_time": "2021-08-23T05:27:15.360Z"
   },
   {
    "duration": 23,
    "start_time": "2021-08-23T05:27:15.369Z"
   },
   {
    "duration": 28,
    "start_time": "2021-08-23T05:27:15.394Z"
   },
   {
    "duration": 34,
    "start_time": "2021-08-23T05:27:15.424Z"
   },
   {
    "duration": 8,
    "start_time": "2021-08-23T05:27:15.460Z"
   },
   {
    "duration": 15,
    "start_time": "2021-08-23T05:27:15.470Z"
   },
   {
    "duration": 27,
    "start_time": "2021-08-23T05:27:15.488Z"
   },
   {
    "duration": 29,
    "start_time": "2021-08-23T05:27:15.556Z"
   },
   {
    "duration": 5,
    "start_time": "2021-08-23T05:27:15.587Z"
   },
   {
    "duration": 15,
    "start_time": "2021-08-23T05:27:15.594Z"
   },
   {
    "duration": 46,
    "start_time": "2021-08-23T05:27:15.611Z"
   },
   {
    "duration": 9,
    "start_time": "2021-08-23T05:27:15.659Z"
   },
   {
    "duration": 7,
    "start_time": "2021-08-23T05:27:15.670Z"
   },
   {
    "duration": 18,
    "start_time": "2021-08-23T05:27:15.680Z"
   },
   {
    "duration": 6,
    "start_time": "2021-08-23T05:27:15.700Z"
   },
   {
    "duration": 48,
    "start_time": "2021-08-23T05:27:15.708Z"
   },
   {
    "duration": 5,
    "start_time": "2021-08-23T05:27:15.759Z"
   },
   {
    "duration": 11,
    "start_time": "2021-08-23T05:27:15.766Z"
   },
   {
    "duration": 13,
    "start_time": "2021-08-23T05:27:15.780Z"
   },
   {
    "duration": 5,
    "start_time": "2021-08-23T05:27:15.800Z"
   },
   {
    "duration": 56,
    "start_time": "2021-08-23T05:27:15.808Z"
   },
   {
    "duration": 14,
    "start_time": "2021-08-23T05:27:15.867Z"
   },
   {
    "duration": 12,
    "start_time": "2021-08-23T05:27:15.883Z"
   },
   {
    "duration": 6,
    "start_time": "2021-08-23T05:27:15.898Z"
   },
   {
    "duration": 481,
    "start_time": "2021-08-23T05:27:15.906Z"
   },
   {
    "duration": 5,
    "start_time": "2021-08-23T05:27:16.389Z"
   },
   {
    "duration": 40,
    "start_time": "2021-08-23T05:27:16.398Z"
   },
   {
    "duration": 38,
    "start_time": "2021-08-23T05:27:16.456Z"
   },
   {
    "duration": 63,
    "start_time": "2021-08-23T05:27:16.497Z"
   },
   {
    "duration": 7278,
    "start_time": "2021-08-23T05:27:16.563Z"
   },
   {
    "duration": 6,
    "start_time": "2021-08-23T05:27:23.855Z"
   },
   {
    "duration": 555,
    "start_time": "2021-08-23T05:27:23.863Z"
   },
   {
    "duration": 3,
    "start_time": "2021-08-23T05:56:15.676Z"
   },
   {
    "duration": 4,
    "start_time": "2021-08-23T06:17:57.870Z"
   },
   {
    "duration": 8,
    "start_time": "2021-08-23T06:21:41.524Z"
   },
   {
    "duration": 8,
    "start_time": "2021-08-23T06:22:14.016Z"
   },
   {
    "duration": 423,
    "start_time": "2021-08-23T06:25:13.730Z"
   },
   {
    "duration": 5,
    "start_time": "2021-08-23T06:25:27.342Z"
   },
   {
    "duration": 6,
    "start_time": "2021-08-23T06:25:47.452Z"
   },
   {
    "duration": 1012,
    "start_time": "2021-08-23T06:29:33.178Z"
   },
   {
    "duration": 6,
    "start_time": "2021-08-23T06:29:47.651Z"
   },
   {
    "duration": 5,
    "start_time": "2021-08-23T06:30:02.593Z"
   },
   {
    "duration": 292,
    "start_time": "2021-08-23T16:11:06.044Z"
   },
   {
    "duration": 273,
    "start_time": "2021-08-23T16:11:15.390Z"
   },
   {
    "duration": 263,
    "start_time": "2021-08-23T16:12:19.703Z"
   },
   {
    "duration": 729,
    "start_time": "2021-08-23T16:12:26.671Z"
   },
   {
    "duration": 4,
    "start_time": "2021-08-23T16:12:27.403Z"
   },
   {
    "duration": 486,
    "start_time": "2021-08-23T16:12:27.410Z"
   },
   {
    "duration": 171,
    "start_time": "2021-08-23T16:12:27.899Z"
   },
   {
    "duration": 3,
    "start_time": "2021-08-23T16:12:28.073Z"
   },
   {
    "duration": 14,
    "start_time": "2021-08-23T16:12:28.078Z"
   },
   {
    "duration": 20,
    "start_time": "2021-08-23T16:12:28.094Z"
   },
   {
    "duration": 63,
    "start_time": "2021-08-23T16:12:28.118Z"
   },
   {
    "duration": 28,
    "start_time": "2021-08-23T16:12:28.185Z"
   },
   {
    "duration": 13,
    "start_time": "2021-08-23T16:12:28.216Z"
   },
   {
    "duration": 213,
    "start_time": "2021-08-23T16:12:28.232Z"
   },
   {
    "duration": 29,
    "start_time": "2021-08-23T16:12:28.448Z"
   },
   {
    "duration": 29,
    "start_time": "2021-08-23T16:12:28.480Z"
   },
   {
    "duration": 134,
    "start_time": "2021-08-23T16:12:28.512Z"
   },
   {
    "duration": 20,
    "start_time": "2021-08-23T16:12:28.648Z"
   },
   {
    "duration": 20,
    "start_time": "2021-08-23T16:12:28.671Z"
   },
   {
    "duration": 204,
    "start_time": "2021-08-23T16:12:28.694Z"
   },
   {
    "duration": 19,
    "start_time": "2021-08-23T16:12:28.900Z"
   },
   {
    "duration": 45,
    "start_time": "2021-08-23T16:12:28.922Z"
   },
   {
    "duration": 17,
    "start_time": "2021-08-23T16:12:28.970Z"
   },
   {
    "duration": 14,
    "start_time": "2021-08-23T16:12:28.990Z"
   },
   {
    "duration": 11,
    "start_time": "2021-08-23T16:12:29.007Z"
   },
   {
    "duration": 8,
    "start_time": "2021-08-23T16:12:29.025Z"
   },
   {
    "duration": 32,
    "start_time": "2021-08-23T16:12:29.037Z"
   },
   {
    "duration": 14,
    "start_time": "2021-08-23T16:12:29.071Z"
   },
   {
    "duration": 11,
    "start_time": "2021-08-23T16:12:29.087Z"
   },
   {
    "duration": 18,
    "start_time": "2021-08-23T16:12:29.100Z"
   },
   {
    "duration": 7,
    "start_time": "2021-08-23T16:12:29.120Z"
   },
   {
    "duration": 37,
    "start_time": "2021-08-23T16:12:29.129Z"
   },
   {
    "duration": 299,
    "start_time": "2021-08-23T16:12:29.169Z"
   },
   {
    "duration": 27,
    "start_time": "2021-08-23T16:12:29.470Z"
   },
   {
    "duration": 7,
    "start_time": "2021-08-23T16:12:29.500Z"
   },
   {
    "duration": 65,
    "start_time": "2021-08-23T16:12:29.509Z"
   },
   {
    "duration": 24,
    "start_time": "2021-08-23T16:12:29.577Z"
   },
   {
    "duration": 6,
    "start_time": "2021-08-23T16:12:29.603Z"
   },
   {
    "duration": 61,
    "start_time": "2021-08-23T16:12:29.611Z"
   },
   {
    "duration": 14,
    "start_time": "2021-08-23T16:12:29.675Z"
   },
   {
    "duration": 33,
    "start_time": "2021-08-23T16:12:29.692Z"
   },
   {
    "duration": 42,
    "start_time": "2021-08-23T16:12:29.727Z"
   },
   {
    "duration": 7,
    "start_time": "2021-08-23T16:12:29.771Z"
   },
   {
    "duration": 34,
    "start_time": "2021-08-23T16:12:29.780Z"
   },
   {
    "duration": 5,
    "start_time": "2021-08-23T16:12:29.816Z"
   },
   {
    "duration": 43,
    "start_time": "2021-08-23T16:12:29.824Z"
   },
   {
    "duration": 37,
    "start_time": "2021-08-23T16:12:29.870Z"
   },
   {
    "duration": 5,
    "start_time": "2021-08-23T16:12:29.909Z"
   },
   {
    "duration": 16,
    "start_time": "2021-08-23T16:12:29.916Z"
   },
   {
    "duration": 6,
    "start_time": "2021-08-23T16:12:29.934Z"
   },
   {
    "duration": 9,
    "start_time": "2021-08-23T16:12:29.967Z"
   },
   {
    "duration": 11,
    "start_time": "2021-08-23T16:12:29.979Z"
   },
   {
    "duration": 23,
    "start_time": "2021-08-23T16:12:29.992Z"
   },
   {
    "duration": 58,
    "start_time": "2021-08-23T16:12:30.017Z"
   },
   {
    "duration": 4,
    "start_time": "2021-08-23T16:12:30.077Z"
   },
   {
    "duration": 16,
    "start_time": "2021-08-23T16:12:30.083Z"
   },
   {
    "duration": 23,
    "start_time": "2021-08-23T16:12:30.101Z"
   },
   {
    "duration": 40,
    "start_time": "2021-08-23T16:12:30.127Z"
   },
   {
    "duration": 33,
    "start_time": "2021-08-23T16:12:30.169Z"
   },
   {
    "duration": 5,
    "start_time": "2021-08-23T16:12:30.204Z"
   },
   {
    "duration": 19,
    "start_time": "2021-08-23T16:12:30.211Z"
   },
   {
    "duration": 31,
    "start_time": "2021-08-23T16:12:30.232Z"
   },
   {
    "duration": 26,
    "start_time": "2021-08-23T16:12:30.267Z"
   },
   {
    "duration": 10,
    "start_time": "2021-08-23T16:12:30.296Z"
   },
   {
    "duration": 23,
    "start_time": "2021-08-23T16:12:30.308Z"
   },
   {
    "duration": 8,
    "start_time": "2021-08-23T16:12:30.334Z"
   },
   {
    "duration": 21,
    "start_time": "2021-08-23T16:12:30.345Z"
   },
   {
    "duration": 6,
    "start_time": "2021-08-23T16:12:30.369Z"
   },
   {
    "duration": 16,
    "start_time": "2021-08-23T16:12:30.377Z"
   },
   {
    "duration": 17,
    "start_time": "2021-08-23T16:12:30.396Z"
   },
   {
    "duration": 6,
    "start_time": "2021-08-23T16:12:30.420Z"
   },
   {
    "duration": 43,
    "start_time": "2021-08-23T16:12:30.429Z"
   },
   {
    "duration": 31,
    "start_time": "2021-08-23T16:12:30.474Z"
   },
   {
    "duration": 13,
    "start_time": "2021-08-23T16:12:30.508Z"
   },
   {
    "duration": 15,
    "start_time": "2021-08-23T16:12:30.523Z"
   },
   {
    "duration": 463,
    "start_time": "2021-08-23T16:12:30.540Z"
   },
   {
    "duration": 4,
    "start_time": "2021-08-23T16:12:31.005Z"
   },
   {
    "duration": 56,
    "start_time": "2021-08-23T16:12:31.012Z"
   },
   {
    "duration": 39,
    "start_time": "2021-08-23T16:12:31.070Z"
   },
   {
    "duration": 59,
    "start_time": "2021-08-23T16:12:31.112Z"
   },
   {
    "duration": 8065,
    "start_time": "2021-08-23T16:12:31.174Z"
   },
   {
    "duration": 6,
    "start_time": "2021-08-23T16:12:39.241Z"
   },
   {
    "duration": 432,
    "start_time": "2021-08-23T16:12:39.250Z"
   },
   {
    "duration": -276,
    "start_time": "2021-08-23T16:12:39.960Z"
   },
   {
    "duration": -282,
    "start_time": "2021-08-23T16:12:39.968Z"
   },
   {
    "duration": -291,
    "start_time": "2021-08-23T16:12:39.978Z"
   },
   {
    "duration": -299,
    "start_time": "2021-08-23T16:12:39.987Z"
   },
   {
    "duration": -305,
    "start_time": "2021-08-23T16:12:39.995Z"
   },
   {
    "duration": -317,
    "start_time": "2021-08-23T16:12:40.008Z"
   },
   {
    "duration": 98,
    "start_time": "2021-08-23T16:13:39.650Z"
   },
   {
    "duration": 7,
    "start_time": "2021-08-23T16:13:46.727Z"
   },
   {
    "duration": 7,
    "start_time": "2021-08-23T16:15:02.099Z"
   },
   {
    "duration": 8,
    "start_time": "2021-08-23T16:15:02.907Z"
   },
   {
    "duration": 6,
    "start_time": "2021-08-23T16:15:03.513Z"
   },
   {
    "duration": 228,
    "start_time": "2021-08-23T16:15:36.203Z"
   },
   {
    "duration": 4,
    "start_time": "2021-08-23T16:15:56.006Z"
   },
   {
    "duration": 5,
    "start_time": "2021-08-23T16:15:57.652Z"
   },
   {
    "duration": 6,
    "start_time": "2021-08-23T16:30:01.649Z"
   },
   {
    "duration": 6,
    "start_time": "2021-08-23T16:33:04.519Z"
   },
   {
    "duration": 6,
    "start_time": "2021-08-23T16:33:55.768Z"
   },
   {
    "duration": 409,
    "start_time": "2021-08-23T17:55:18.473Z"
   },
   {
    "duration": 298,
    "start_time": "2021-08-23T17:55:31.005Z"
   },
   {
    "duration": 274,
    "start_time": "2021-08-23T18:20:06.122Z"
   },
   {
    "duration": 4,
    "start_time": "2021-08-23T18:20:22.070Z"
   },
   {
    "duration": 17,
    "start_time": "2021-08-23T18:20:22.076Z"
   },
   {
    "duration": 10,
    "start_time": "2021-08-23T18:20:22.096Z"
   },
   {
    "duration": 11,
    "start_time": "2021-08-23T18:20:22.109Z"
   },
   {
    "duration": 8,
    "start_time": "2021-08-23T18:20:22.123Z"
   },
   {
    "duration": 6,
    "start_time": "2021-08-23T18:20:22.134Z"
   },
   {
    "duration": 13,
    "start_time": "2021-08-23T18:20:22.142Z"
   },
   {
    "duration": 41,
    "start_time": "2021-08-23T18:20:22.168Z"
   },
   {
    "duration": 18,
    "start_time": "2021-08-23T18:20:22.213Z"
   },
   {
    "duration": 12,
    "start_time": "2021-08-23T18:20:22.234Z"
   },
   {
    "duration": 241,
    "start_time": "2021-08-23T18:20:22.248Z"
   },
   {
    "duration": 22,
    "start_time": "2021-08-23T18:20:22.492Z"
   },
   {
    "duration": 60,
    "start_time": "2021-08-23T18:20:22.516Z"
   },
   {
    "duration": 163,
    "start_time": "2021-08-23T18:20:22.579Z"
   },
   {
    "duration": 24,
    "start_time": "2021-08-23T18:20:22.745Z"
   },
   {
    "duration": 21,
    "start_time": "2021-08-23T18:20:22.771Z"
   },
   {
    "duration": 184,
    "start_time": "2021-08-23T18:20:22.795Z"
   },
   {
    "duration": 18,
    "start_time": "2021-08-23T18:20:22.981Z"
   },
   {
    "duration": 24,
    "start_time": "2021-08-23T18:20:23.001Z"
   },
   {
    "duration": 16,
    "start_time": "2021-08-23T18:20:23.028Z"
   },
   {
    "duration": 29,
    "start_time": "2021-08-23T18:20:23.047Z"
   },
   {
    "duration": 11,
    "start_time": "2021-08-23T18:20:23.079Z"
   },
   {
    "duration": 8,
    "start_time": "2021-08-23T18:20:23.092Z"
   },
   {
    "duration": 4,
    "start_time": "2021-08-23T18:20:23.107Z"
   },
   {
    "duration": 7,
    "start_time": "2021-08-23T18:20:23.114Z"
   },
   {
    "duration": 45,
    "start_time": "2021-08-23T18:20:23.123Z"
   },
   {
    "duration": 12,
    "start_time": "2021-08-23T18:20:23.170Z"
   },
   {
    "duration": 7,
    "start_time": "2021-08-23T18:20:23.184Z"
   },
   {
    "duration": 9,
    "start_time": "2021-08-23T18:20:23.193Z"
   },
   {
    "duration": 320,
    "start_time": "2021-08-23T18:20:23.204Z"
   },
   {
    "duration": 27,
    "start_time": "2021-08-23T18:20:23.526Z"
   },
   {
    "duration": 5,
    "start_time": "2021-08-23T18:20:23.567Z"
   },
   {
    "duration": 44,
    "start_time": "2021-08-23T18:20:23.574Z"
   },
   {
    "duration": 23,
    "start_time": "2021-08-23T18:20:23.620Z"
   },
   {
    "duration": 27,
    "start_time": "2021-08-23T18:20:23.645Z"
   },
   {
    "duration": 28,
    "start_time": "2021-08-23T18:20:23.675Z"
   },
   {
    "duration": 16,
    "start_time": "2021-08-23T18:20:23.705Z"
   },
   {
    "duration": 66,
    "start_time": "2021-08-23T18:20:23.723Z"
   },
   {
    "duration": 17,
    "start_time": "2021-08-23T18:20:23.791Z"
   },
   {
    "duration": 14,
    "start_time": "2021-08-23T18:20:23.811Z"
   },
   {
    "duration": 63,
    "start_time": "2021-08-23T18:20:23.828Z"
   },
   {
    "duration": 5,
    "start_time": "2021-08-23T18:20:23.894Z"
   },
   {
    "duration": 10,
    "start_time": "2021-08-23T18:20:23.902Z"
   },
   {
    "duration": 65,
    "start_time": "2021-08-23T18:20:23.915Z"
   },
   {
    "duration": 6,
    "start_time": "2021-08-23T18:20:23.983Z"
   },
   {
    "duration": 15,
    "start_time": "2021-08-23T18:20:23.992Z"
   },
   {
    "duration": 8,
    "start_time": "2021-08-23T18:20:24.009Z"
   },
   {
    "duration": 14,
    "start_time": "2021-08-23T18:20:24.019Z"
   },
   {
    "duration": 8,
    "start_time": "2021-08-23T18:20:24.068Z"
   },
   {
    "duration": 23,
    "start_time": "2021-08-23T18:20:24.078Z"
   },
   {
    "duration": 28,
    "start_time": "2021-08-23T18:20:24.104Z"
   },
   {
    "duration": 5,
    "start_time": "2021-08-23T18:20:24.135Z"
   },
   {
    "duration": 30,
    "start_time": "2021-08-23T18:20:24.142Z"
   },
   {
    "duration": 14,
    "start_time": "2021-08-23T18:20:24.174Z"
   },
   {
    "duration": 25,
    "start_time": "2021-08-23T18:20:24.190Z"
   },
   {
    "duration": 59,
    "start_time": "2021-08-23T18:20:24.217Z"
   },
   {
    "duration": 4,
    "start_time": "2021-08-23T18:20:24.279Z"
   },
   {
    "duration": 8,
    "start_time": "2021-08-23T18:20:24.286Z"
   },
   {
    "duration": 15,
    "start_time": "2021-08-23T18:20:24.296Z"
   },
   {
    "duration": 11,
    "start_time": "2021-08-23T18:20:24.313Z"
   },
   {
    "duration": 5,
    "start_time": "2021-08-23T18:20:24.327Z"
   },
   {
    "duration": 40,
    "start_time": "2021-08-23T18:20:24.335Z"
   },
   {
    "duration": 14,
    "start_time": "2021-08-23T18:20:24.378Z"
   },
   {
    "duration": 11,
    "start_time": "2021-08-23T18:20:24.395Z"
   },
   {
    "duration": 5,
    "start_time": "2021-08-23T18:20:24.409Z"
   },
   {
    "duration": 53,
    "start_time": "2021-08-23T18:20:24.417Z"
   },
   {
    "duration": 15,
    "start_time": "2021-08-23T18:20:24.472Z"
   },
   {
    "duration": 5,
    "start_time": "2021-08-23T18:20:24.497Z"
   },
   {
    "duration": 15,
    "start_time": "2021-08-23T18:20:24.505Z"
   },
   {
    "duration": 48,
    "start_time": "2021-08-23T18:20:24.523Z"
   },
   {
    "duration": 12,
    "start_time": "2021-08-23T18:20:24.574Z"
   },
   {
    "duration": 7,
    "start_time": "2021-08-23T18:20:24.589Z"
   },
   {
    "duration": 512,
    "start_time": "2021-08-23T18:20:24.599Z"
   },
   {
    "duration": 5,
    "start_time": "2021-08-23T18:20:25.114Z"
   },
   {
    "duration": 63,
    "start_time": "2021-08-23T18:20:25.122Z"
   },
   {
    "duration": 39,
    "start_time": "2021-08-23T18:20:25.188Z"
   },
   {
    "duration": 61,
    "start_time": "2021-08-23T18:20:25.229Z"
   },
   {
    "duration": 8059,
    "start_time": "2021-08-23T18:20:25.292Z"
   },
   {
    "duration": 6,
    "start_time": "2021-08-23T18:20:33.353Z"
   },
   {
    "duration": 428,
    "start_time": "2021-08-23T18:20:33.361Z"
   },
   {
    "duration": -348,
    "start_time": "2021-08-23T18:20:34.140Z"
   },
   {
    "duration": -355,
    "start_time": "2021-08-23T18:20:34.149Z"
   },
   {
    "duration": -361,
    "start_time": "2021-08-23T18:20:34.157Z"
   },
   {
    "duration": -366,
    "start_time": "2021-08-23T18:20:34.164Z"
   },
   {
    "duration": -376,
    "start_time": "2021-08-23T18:20:34.176Z"
   },
   {
    "duration": 238,
    "start_time": "2021-08-23T18:20:36.145Z"
   },
   {
    "duration": 259,
    "start_time": "2021-08-23T18:21:10.740Z"
   },
   {
    "duration": 4,
    "start_time": "2021-08-23T18:21:32.821Z"
   },
   {
    "duration": 6,
    "start_time": "2021-08-23T18:21:32.828Z"
   },
   {
    "duration": 5,
    "start_time": "2021-08-23T18:21:32.837Z"
   },
   {
    "duration": 7,
    "start_time": "2021-08-23T18:21:32.845Z"
   },
   {
    "duration": 12,
    "start_time": "2021-08-23T18:21:32.854Z"
   },
   {
    "duration": 9,
    "start_time": "2021-08-23T18:21:32.869Z"
   },
   {
    "duration": 17,
    "start_time": "2021-08-23T18:21:32.881Z"
   },
   {
    "duration": 38,
    "start_time": "2021-08-23T18:21:32.900Z"
   },
   {
    "duration": 23,
    "start_time": "2021-08-23T18:21:32.941Z"
   },
   {
    "duration": 14,
    "start_time": "2021-08-23T18:21:32.968Z"
   },
   {
    "duration": 236,
    "start_time": "2021-08-23T18:21:32.985Z"
   },
   {
    "duration": 45,
    "start_time": "2021-08-23T18:21:33.223Z"
   },
   {
    "duration": 29,
    "start_time": "2021-08-23T18:21:33.270Z"
   },
   {
    "duration": 168,
    "start_time": "2021-08-23T18:21:33.302Z"
   },
   {
    "duration": 17,
    "start_time": "2021-08-23T18:21:33.473Z"
   },
   {
    "duration": 21,
    "start_time": "2021-08-23T18:21:33.492Z"
   },
   {
    "duration": 193,
    "start_time": "2021-08-23T18:21:33.515Z"
   },
   {
    "duration": 18,
    "start_time": "2021-08-23T18:21:33.710Z"
   },
   {
    "duration": 43,
    "start_time": "2021-08-23T18:21:33.731Z"
   },
   {
    "duration": 18,
    "start_time": "2021-08-23T18:21:33.779Z"
   },
   {
    "duration": 29,
    "start_time": "2021-08-23T18:21:33.802Z"
   },
   {
    "duration": 25,
    "start_time": "2021-08-23T18:21:33.834Z"
   },
   {
    "duration": 11,
    "start_time": "2021-08-23T18:21:33.862Z"
   },
   {
    "duration": 19,
    "start_time": "2021-08-23T18:21:33.875Z"
   },
   {
    "duration": 8,
    "start_time": "2021-08-23T18:21:33.896Z"
   },
   {
    "duration": 31,
    "start_time": "2021-08-23T18:21:33.907Z"
   },
   {
    "duration": 29,
    "start_time": "2021-08-23T18:21:33.940Z"
   },
   {
    "duration": 13,
    "start_time": "2021-08-23T18:21:33.972Z"
   },
   {
    "duration": 16,
    "start_time": "2021-08-23T18:21:33.988Z"
   },
   {
    "duration": 305,
    "start_time": "2021-08-23T18:21:34.007Z"
   },
   {
    "duration": 30,
    "start_time": "2021-08-23T18:21:34.314Z"
   },
   {
    "duration": 23,
    "start_time": "2021-08-23T18:21:34.347Z"
   },
   {
    "duration": 40,
    "start_time": "2021-08-23T18:21:34.373Z"
   },
   {
    "duration": 21,
    "start_time": "2021-08-23T18:21:34.416Z"
   },
   {
    "duration": 7,
    "start_time": "2021-08-23T18:21:34.468Z"
   },
   {
    "duration": 31,
    "start_time": "2021-08-23T18:21:34.477Z"
   },
   {
    "duration": 17,
    "start_time": "2021-08-23T18:21:34.511Z"
   },
   {
    "duration": 55,
    "start_time": "2021-08-23T18:21:34.532Z"
   },
   {
    "duration": 18,
    "start_time": "2021-08-23T18:21:34.589Z"
   },
   {
    "duration": 16,
    "start_time": "2021-08-23T18:21:34.609Z"
   },
   {
    "duration": 65,
    "start_time": "2021-08-23T18:21:34.628Z"
   },
   {
    "duration": 4,
    "start_time": "2021-08-23T18:21:34.695Z"
   },
   {
    "duration": 15,
    "start_time": "2021-08-23T18:21:34.701Z"
   },
   {
    "duration": 62,
    "start_time": "2021-08-23T18:21:34.718Z"
   },
   {
    "duration": 5,
    "start_time": "2021-08-23T18:21:34.782Z"
   },
   {
    "duration": 23,
    "start_time": "2021-08-23T18:21:34.789Z"
   },
   {
    "duration": 11,
    "start_time": "2021-08-23T18:21:34.814Z"
   },
   {
    "duration": 12,
    "start_time": "2021-08-23T18:21:34.828Z"
   },
   {
    "duration": 28,
    "start_time": "2021-08-23T18:21:34.843Z"
   },
   {
    "duration": 34,
    "start_time": "2021-08-23T18:21:34.874Z"
   },
   {
    "duration": 68,
    "start_time": "2021-08-23T18:21:34.911Z"
   },
   {
    "duration": 5,
    "start_time": "2021-08-23T18:21:34.982Z"
   },
   {
    "duration": 7,
    "start_time": "2021-08-23T18:21:35.002Z"
   },
   {
    "duration": 16,
    "start_time": "2021-08-23T18:21:35.013Z"
   },
   {
    "duration": 56,
    "start_time": "2021-08-23T18:21:35.031Z"
   },
   {
    "duration": 26,
    "start_time": "2021-08-23T18:21:35.090Z"
   },
   {
    "duration": 5,
    "start_time": "2021-08-23T18:21:35.118Z"
   },
   {
    "duration": 16,
    "start_time": "2021-08-23T18:21:35.125Z"
   },
   {
    "duration": 36,
    "start_time": "2021-08-23T18:21:35.143Z"
   },
   {
    "duration": 10,
    "start_time": "2021-08-23T18:21:35.181Z"
   },
   {
    "duration": 10,
    "start_time": "2021-08-23T18:21:35.194Z"
   },
   {
    "duration": 18,
    "start_time": "2021-08-23T18:21:35.206Z"
   },
   {
    "duration": 9,
    "start_time": "2021-08-23T18:21:35.226Z"
   },
   {
    "duration": 32,
    "start_time": "2021-08-23T18:21:35.237Z"
   },
   {
    "duration": 12,
    "start_time": "2021-08-23T18:21:35.271Z"
   },
   {
    "duration": 18,
    "start_time": "2021-08-23T18:21:35.286Z"
   },
   {
    "duration": 13,
    "start_time": "2021-08-23T18:21:35.306Z"
   },
   {
    "duration": 7,
    "start_time": "2021-08-23T18:21:35.322Z"
   },
   {
    "duration": 11,
    "start_time": "2021-08-23T18:21:35.369Z"
   },
   {
    "duration": 16,
    "start_time": "2021-08-23T18:21:35.382Z"
   },
   {
    "duration": 15,
    "start_time": "2021-08-23T18:21:35.401Z"
   },
   {
    "duration": 8,
    "start_time": "2021-08-23T18:21:35.418Z"
   },
   {
    "duration": 928,
    "start_time": "2021-08-23T18:21:35.429Z"
   },
   {
    "duration": 10,
    "start_time": "2021-08-23T18:21:36.360Z"
   },
   {
    "duration": 62,
    "start_time": "2021-08-23T18:21:36.373Z"
   },
   {
    "duration": 60,
    "start_time": "2021-08-23T18:21:36.438Z"
   },
   {
    "duration": 37,
    "start_time": "2021-08-23T18:21:36.500Z"
   },
   {
    "duration": 8213,
    "start_time": "2021-08-23T18:21:36.539Z"
   },
   {
    "duration": 13,
    "start_time": "2021-08-23T18:21:44.754Z"
   },
   {
    "duration": 327,
    "start_time": "2021-08-23T18:21:44.769Z"
   },
   {
    "duration": -161,
    "start_time": "2021-08-23T18:21:45.264Z"
   },
   {
    "duration": -170,
    "start_time": "2021-08-23T18:21:45.275Z"
   },
   {
    "duration": -177,
    "start_time": "2021-08-23T18:21:45.283Z"
   },
   {
    "duration": -183,
    "start_time": "2021-08-23T18:21:45.291Z"
   },
   {
    "duration": 8,
    "start_time": "2021-08-23T18:21:45.190Z"
   },
   {
    "duration": 248,
    "start_time": "2021-08-23T18:21:46.420Z"
   },
   {
    "duration": 250,
    "start_time": "2021-08-23T18:21:47.100Z"
   },
   {
    "duration": 8,
    "start_time": "2021-08-23T18:22:06.812Z"
   },
   {
    "duration": 11,
    "start_time": "2021-08-23T18:22:09.021Z"
   },
   {
    "duration": 5,
    "start_time": "2021-08-23T18:22:10.955Z"
   },
   {
    "duration": 6,
    "start_time": "2021-08-23T18:22:14.044Z"
   },
   {
    "duration": 7,
    "start_time": "2021-08-23T18:22:20.787Z"
   },
   {
    "duration": 5,
    "start_time": "2021-08-23T18:22:38.367Z"
   },
   {
    "duration": 4,
    "start_time": "2021-08-23T18:29:39.824Z"
   },
   {
    "duration": 225,
    "start_time": "2021-08-23T18:33:20.160Z"
   },
   {
    "duration": 4,
    "start_time": "2021-08-23T18:33:26.326Z"
   },
   {
    "duration": 3,
    "start_time": "2021-08-23T18:33:26.957Z"
   },
   {
    "duration": 5,
    "start_time": "2021-08-23T18:33:27.734Z"
   },
   {
    "duration": 6,
    "start_time": "2021-08-23T18:34:39.553Z"
   },
   {
    "duration": 5,
    "start_time": "2021-08-23T18:34:53.490Z"
   },
   {
    "duration": 4,
    "start_time": "2021-08-23T18:35:12.634Z"
   },
   {
    "duration": 6,
    "start_time": "2021-08-23T18:35:25.309Z"
   },
   {
    "duration": 5,
    "start_time": "2021-08-23T18:35:44.732Z"
   },
   {
    "duration": 6,
    "start_time": "2021-08-23T18:35:51.154Z"
   },
   {
    "duration": 6,
    "start_time": "2021-08-23T18:36:06.695Z"
   },
   {
    "duration": 7,
    "start_time": "2021-08-23T18:36:45.014Z"
   },
   {
    "duration": 7,
    "start_time": "2021-08-23T18:48:33.938Z"
   },
   {
    "duration": 357,
    "start_time": "2021-08-23T18:48:34.655Z"
   },
   {
    "duration": 6,
    "start_time": "2021-08-23T18:49:13.196Z"
   },
   {
    "duration": 357,
    "start_time": "2021-08-23T18:49:14.537Z"
   },
   {
    "duration": 10,
    "start_time": "2021-08-23T18:51:28.172Z"
   },
   {
    "duration": 318,
    "start_time": "2021-08-23T18:51:29.293Z"
   },
   {
    "duration": 5,
    "start_time": "2021-08-23T18:54:32.025Z"
   },
   {
    "duration": 264,
    "start_time": "2021-08-23T19:03:54.192Z"
   },
   {
    "duration": 8464,
    "start_time": "2021-08-23T19:07:53.161Z"
   },
   {
    "duration": 6,
    "start_time": "2021-08-23T19:08:01.628Z"
   },
   {
    "duration": 2476,
    "start_time": "2021-08-23T19:08:16.845Z"
   },
   {
    "duration": 2713,
    "start_time": "2021-08-23T19:10:59.572Z"
   },
   {
    "duration": 4,
    "start_time": "2021-08-23T19:11:43.208Z"
   },
   {
    "duration": 18,
    "start_time": "2021-08-23T19:11:43.214Z"
   },
   {
    "duration": 34,
    "start_time": "2021-08-23T19:11:43.235Z"
   },
   {
    "duration": 34,
    "start_time": "2021-08-23T19:11:43.273Z"
   },
   {
    "duration": 15,
    "start_time": "2021-08-23T19:11:43.309Z"
   },
   {
    "duration": 18,
    "start_time": "2021-08-23T19:11:43.326Z"
   },
   {
    "duration": 17,
    "start_time": "2021-08-23T19:11:43.348Z"
   },
   {
    "duration": 37,
    "start_time": "2021-08-23T19:11:43.370Z"
   },
   {
    "duration": 21,
    "start_time": "2021-08-23T19:11:43.410Z"
   },
   {
    "duration": 27,
    "start_time": "2021-08-23T19:11:43.434Z"
   },
   {
    "duration": 271,
    "start_time": "2021-08-23T19:11:43.463Z"
   },
   {
    "duration": 51,
    "start_time": "2021-08-23T19:11:43.737Z"
   },
   {
    "duration": 28,
    "start_time": "2021-08-23T19:11:43.791Z"
   },
   {
    "duration": 150,
    "start_time": "2021-08-23T19:11:43.822Z"
   },
   {
    "duration": 16,
    "start_time": "2021-08-23T19:11:43.980Z"
   },
   {
    "duration": 30,
    "start_time": "2021-08-23T19:11:43.999Z"
   },
   {
    "duration": 215,
    "start_time": "2021-08-23T19:11:44.032Z"
   },
   {
    "duration": 28,
    "start_time": "2021-08-23T19:11:44.249Z"
   },
   {
    "duration": 23,
    "start_time": "2021-08-23T19:11:44.285Z"
   },
   {
    "duration": 18,
    "start_time": "2021-08-23T19:11:44.312Z"
   },
   {
    "duration": 22,
    "start_time": "2021-08-23T19:11:44.332Z"
   },
   {
    "duration": 14,
    "start_time": "2021-08-23T19:11:44.369Z"
   },
   {
    "duration": 17,
    "start_time": "2021-08-23T19:11:44.386Z"
   },
   {
    "duration": 17,
    "start_time": "2021-08-23T19:11:44.405Z"
   },
   {
    "duration": 12,
    "start_time": "2021-08-23T19:11:44.424Z"
   },
   {
    "duration": 21,
    "start_time": "2021-08-23T19:11:44.438Z"
   },
   {
    "duration": 37,
    "start_time": "2021-08-23T19:11:44.461Z"
   },
   {
    "duration": 14,
    "start_time": "2021-08-23T19:11:44.501Z"
   },
   {
    "duration": 26,
    "start_time": "2021-08-23T19:11:44.517Z"
   },
   {
    "duration": 312,
    "start_time": "2021-08-23T19:11:44.546Z"
   },
   {
    "duration": 38,
    "start_time": "2021-08-23T19:11:44.860Z"
   },
   {
    "duration": 21,
    "start_time": "2021-08-23T19:11:44.900Z"
   },
   {
    "duration": 61,
    "start_time": "2021-08-23T19:11:44.923Z"
   },
   {
    "duration": 25,
    "start_time": "2021-08-23T19:11:44.986Z"
   },
   {
    "duration": 18,
    "start_time": "2021-08-23T19:11:45.013Z"
   },
   {
    "duration": 42,
    "start_time": "2021-08-23T19:11:45.033Z"
   },
   {
    "duration": 17,
    "start_time": "2021-08-23T19:11:45.078Z"
   },
   {
    "duration": 38,
    "start_time": "2021-08-23T19:11:45.098Z"
   },
   {
    "duration": 35,
    "start_time": "2021-08-23T19:11:45.139Z"
   },
   {
    "duration": 9,
    "start_time": "2021-08-23T19:11:45.179Z"
   },
   {
    "duration": 45,
    "start_time": "2021-08-23T19:11:45.191Z"
   },
   {
    "duration": 4,
    "start_time": "2021-08-23T19:11:45.239Z"
   },
   {
    "duration": 28,
    "start_time": "2021-08-23T19:11:45.245Z"
   },
   {
    "duration": 45,
    "start_time": "2021-08-23T19:11:45.276Z"
   },
   {
    "duration": 5,
    "start_time": "2021-08-23T19:11:45.323Z"
   },
   {
    "duration": 40,
    "start_time": "2021-08-23T19:11:45.331Z"
   },
   {
    "duration": 13,
    "start_time": "2021-08-23T19:11:45.374Z"
   },
   {
    "duration": 12,
    "start_time": "2021-08-23T19:11:45.390Z"
   },
   {
    "duration": 6,
    "start_time": "2021-08-23T19:11:45.404Z"
   },
   {
    "duration": 25,
    "start_time": "2021-08-23T19:11:45.412Z"
   },
   {
    "duration": 61,
    "start_time": "2021-08-23T19:11:45.440Z"
   },
   {
    "duration": 5,
    "start_time": "2021-08-23T19:11:45.503Z"
   },
   {
    "duration": 16,
    "start_time": "2021-08-23T19:11:45.510Z"
   },
   {
    "duration": 20,
    "start_time": "2021-08-23T19:11:45.528Z"
   },
   {
    "duration": 26,
    "start_time": "2021-08-23T19:11:45.578Z"
   },
   {
    "duration": 25,
    "start_time": "2021-08-23T19:11:45.608Z"
   },
   {
    "duration": 5,
    "start_time": "2021-08-23T19:11:45.635Z"
   },
   {
    "duration": 29,
    "start_time": "2021-08-23T19:11:45.642Z"
   },
   {
    "duration": 34,
    "start_time": "2021-08-23T19:11:45.674Z"
   },
   {
    "duration": 23,
    "start_time": "2021-08-23T19:11:45.711Z"
   },
   {
    "duration": 14,
    "start_time": "2021-08-23T19:11:45.736Z"
   },
   {
    "duration": 27,
    "start_time": "2021-08-23T19:11:45.752Z"
   },
   {
    "duration": 18,
    "start_time": "2021-08-23T19:11:45.781Z"
   },
   {
    "duration": 22,
    "start_time": "2021-08-23T19:11:45.801Z"
   },
   {
    "duration": 13,
    "start_time": "2021-08-23T19:11:45.825Z"
   },
   {
    "duration": 23,
    "start_time": "2021-08-23T19:11:45.840Z"
   },
   {
    "duration": 26,
    "start_time": "2021-08-23T19:11:45.865Z"
   },
   {
    "duration": 11,
    "start_time": "2021-08-23T19:11:45.893Z"
   },
   {
    "duration": 22,
    "start_time": "2021-08-23T19:11:45.907Z"
   },
   {
    "duration": 19,
    "start_time": "2021-08-23T19:11:45.931Z"
   },
   {
    "duration": 16,
    "start_time": "2021-08-23T19:11:45.953Z"
   },
   {
    "duration": 16,
    "start_time": "2021-08-23T19:11:45.971Z"
   },
   {
    "duration": 517,
    "start_time": "2021-08-23T19:11:45.991Z"
   },
   {
    "duration": 5,
    "start_time": "2021-08-23T19:11:46.511Z"
   },
   {
    "duration": 59,
    "start_time": "2021-08-23T19:11:46.519Z"
   },
   {
    "duration": 40,
    "start_time": "2021-08-23T19:11:46.581Z"
   },
   {
    "duration": 80,
    "start_time": "2021-08-23T19:11:46.624Z"
   },
   {
    "duration": 8105,
    "start_time": "2021-08-23T19:11:46.707Z"
   },
   {
    "duration": 6,
    "start_time": "2021-08-23T19:11:54.815Z"
   },
   {
    "duration": 7,
    "start_time": "2021-08-23T19:12:05.635Z"
   },
   {
    "duration": 2818,
    "start_time": "2021-08-23T19:12:07.941Z"
   },
   {
    "duration": 2651,
    "start_time": "2021-08-23T19:17:22.542Z"
   },
   {
    "duration": 4,
    "start_time": "2021-08-23T19:18:09.831Z"
   },
   {
    "duration": 24,
    "start_time": "2021-08-23T19:18:09.837Z"
   },
   {
    "duration": 12,
    "start_time": "2021-08-23T19:18:09.864Z"
   },
   {
    "duration": 12,
    "start_time": "2021-08-23T19:18:09.880Z"
   },
   {
    "duration": 12,
    "start_time": "2021-08-23T19:18:09.895Z"
   },
   {
    "duration": 11,
    "start_time": "2021-08-23T19:18:09.910Z"
   },
   {
    "duration": 10,
    "start_time": "2021-08-23T19:18:09.923Z"
   },
   {
    "duration": 39,
    "start_time": "2021-08-23T19:18:09.936Z"
   },
   {
    "duration": 30,
    "start_time": "2021-08-23T19:18:09.978Z"
   },
   {
    "duration": 16,
    "start_time": "2021-08-23T19:18:10.012Z"
   },
   {
    "duration": 264,
    "start_time": "2021-08-23T19:18:10.031Z"
   },
   {
    "duration": 19,
    "start_time": "2021-08-23T19:18:10.298Z"
   },
   {
    "duration": 68,
    "start_time": "2021-08-23T19:18:10.319Z"
   },
   {
    "duration": 126,
    "start_time": "2021-08-23T19:18:10.390Z"
   },
   {
    "duration": 16,
    "start_time": "2021-08-23T19:18:10.518Z"
   },
   {
    "duration": 42,
    "start_time": "2021-08-23T19:18:10.537Z"
   },
   {
    "duration": 193,
    "start_time": "2021-08-23T19:18:10.583Z"
   },
   {
    "duration": 19,
    "start_time": "2021-08-23T19:18:10.779Z"
   },
   {
    "duration": 30,
    "start_time": "2021-08-23T19:18:10.801Z"
   },
   {
    "duration": 19,
    "start_time": "2021-08-23T19:18:10.833Z"
   },
   {
    "duration": 25,
    "start_time": "2021-08-23T19:18:10.869Z"
   },
   {
    "duration": 19,
    "start_time": "2021-08-23T19:18:10.896Z"
   },
   {
    "duration": 11,
    "start_time": "2021-08-23T19:18:10.918Z"
   },
   {
    "duration": 22,
    "start_time": "2021-08-23T19:18:10.931Z"
   },
   {
    "duration": 15,
    "start_time": "2021-08-23T19:18:10.959Z"
   },
   {
    "duration": 11,
    "start_time": "2021-08-23T19:18:10.981Z"
   },
   {
    "duration": 31,
    "start_time": "2021-08-23T19:18:10.994Z"
   },
   {
    "duration": 18,
    "start_time": "2021-08-23T19:18:11.027Z"
   },
   {
    "duration": 38,
    "start_time": "2021-08-23T19:18:11.047Z"
   },
   {
    "duration": 315,
    "start_time": "2021-08-23T19:18:11.088Z"
   },
   {
    "duration": 27,
    "start_time": "2021-08-23T19:18:11.406Z"
   },
   {
    "duration": 17,
    "start_time": "2021-08-23T19:18:11.435Z"
   },
   {
    "duration": 55,
    "start_time": "2021-08-23T19:18:11.455Z"
   },
   {
    "duration": 22,
    "start_time": "2021-08-23T19:18:11.512Z"
   },
   {
    "duration": 6,
    "start_time": "2021-08-23T19:18:11.537Z"
   },
   {
    "duration": 32,
    "start_time": "2021-08-23T19:18:11.570Z"
   },
   {
    "duration": 20,
    "start_time": "2021-08-23T19:18:11.604Z"
   },
   {
    "duration": 67,
    "start_time": "2021-08-23T19:18:11.626Z"
   },
   {
    "duration": 18,
    "start_time": "2021-08-23T19:18:11.695Z"
   },
   {
    "duration": 10,
    "start_time": "2021-08-23T19:18:11.715Z"
   },
   {
    "duration": 58,
    "start_time": "2021-08-23T19:18:11.727Z"
   },
   {
    "duration": 4,
    "start_time": "2021-08-23T19:18:11.788Z"
   },
   {
    "duration": 16,
    "start_time": "2021-08-23T19:18:11.795Z"
   },
   {
    "duration": 44,
    "start_time": "2021-08-23T19:18:11.813Z"
   },
   {
    "duration": 9,
    "start_time": "2021-08-23T19:18:11.859Z"
   },
   {
    "duration": 29,
    "start_time": "2021-08-23T19:18:11.872Z"
   },
   {
    "duration": 11,
    "start_time": "2021-08-23T19:18:11.905Z"
   },
   {
    "duration": 13,
    "start_time": "2021-08-23T19:18:11.918Z"
   },
   {
    "duration": 13,
    "start_time": "2021-08-23T19:18:11.934Z"
   },
   {
    "duration": 44,
    "start_time": "2021-08-23T19:18:11.949Z"
   },
   {
    "duration": 30,
    "start_time": "2021-08-23T19:18:11.995Z"
   },
   {
    "duration": 5,
    "start_time": "2021-08-23T19:18:12.027Z"
   },
   {
    "duration": 36,
    "start_time": "2021-08-23T19:18:12.034Z"
   },
   {
    "duration": 12,
    "start_time": "2021-08-23T19:18:12.073Z"
   },
   {
    "duration": 39,
    "start_time": "2021-08-23T19:18:12.087Z"
   },
   {
    "duration": 40,
    "start_time": "2021-08-23T19:18:12.128Z"
   },
   {
    "duration": 6,
    "start_time": "2021-08-23T19:18:12.171Z"
   },
   {
    "duration": 10,
    "start_time": "2021-08-23T19:18:12.180Z"
   },
   {
    "duration": 15,
    "start_time": "2021-08-23T19:18:12.193Z"
   },
   {
    "duration": 20,
    "start_time": "2021-08-23T19:18:12.210Z"
   },
   {
    "duration": 9,
    "start_time": "2021-08-23T19:18:12.232Z"
   },
   {
    "duration": 11,
    "start_time": "2021-08-23T19:18:12.269Z"
   },
   {
    "duration": 20,
    "start_time": "2021-08-23T19:18:12.282Z"
   },
   {
    "duration": 13,
    "start_time": "2021-08-23T19:18:12.305Z"
   },
   {
    "duration": 16,
    "start_time": "2021-08-23T19:18:12.321Z"
   },
   {
    "duration": 34,
    "start_time": "2021-08-23T19:18:12.340Z"
   },
   {
    "duration": 32,
    "start_time": "2021-08-23T19:18:12.377Z"
   },
   {
    "duration": 13,
    "start_time": "2021-08-23T19:18:12.411Z"
   },
   {
    "duration": 19,
    "start_time": "2021-08-23T19:18:12.426Z"
   },
   {
    "duration": 15,
    "start_time": "2021-08-23T19:18:12.452Z"
   },
   {
    "duration": 13,
    "start_time": "2021-08-23T19:18:12.471Z"
   },
   {
    "duration": 7,
    "start_time": "2021-08-23T19:18:12.487Z"
   },
   {
    "duration": 509,
    "start_time": "2021-08-23T19:18:12.498Z"
   },
   {
    "duration": 5,
    "start_time": "2021-08-23T19:18:13.010Z"
   },
   {
    "duration": 59,
    "start_time": "2021-08-23T19:18:13.018Z"
   },
   {
    "duration": 40,
    "start_time": "2021-08-23T19:18:13.080Z"
   },
   {
    "duration": 68,
    "start_time": "2021-08-23T19:18:13.122Z"
   },
   {
    "duration": 7826,
    "start_time": "2021-08-23T19:18:38.166Z"
   },
   {
    "duration": 6,
    "start_time": "2021-08-23T19:18:45.996Z"
   },
   {
    "duration": 2969,
    "start_time": "2021-08-23T19:18:46.005Z"
   },
   {
    "duration": 10,
    "start_time": "2021-08-23T19:19:17.807Z"
   },
   {
    "duration": 469,
    "start_time": "2021-08-23T19:19:38.601Z"
   },
   {
    "duration": 2239,
    "start_time": "2021-08-23T19:24:42.664Z"
   },
   {
    "duration": 2827,
    "start_time": "2021-08-23T19:25:27.928Z"
   },
   {
    "duration": 7438,
    "start_time": "2021-08-23T19:27:03.388Z"
   },
   {
    "duration": 5,
    "start_time": "2021-08-23T19:27:10.829Z"
   },
   {
    "duration": 32,
    "start_time": "2021-08-23T19:27:10.837Z"
   },
   {
    "duration": 495,
    "start_time": "2021-08-23T19:27:10.873Z"
   },
   {
    "duration": 1098,
    "start_time": "2021-08-23T19:27:53.949Z"
   },
   {
    "duration": 7,
    "start_time": "2021-08-23T19:27:55.462Z"
   },
   {
    "duration": 9,
    "start_time": "2021-08-23T19:27:58.582Z"
   },
   {
    "duration": 501,
    "start_time": "2021-08-23T19:28:02.319Z"
   },
   {
    "duration": 204,
    "start_time": "2021-08-23T19:28:51.695Z"
   },
   {
    "duration": 1061,
    "start_time": "2021-08-23T19:29:34.373Z"
   },
   {
    "duration": 6,
    "start_time": "2021-08-23T19:29:44.217Z"
   },
   {
    "duration": 9,
    "start_time": "2021-08-23T19:29:45.887Z"
   },
   {
    "duration": 190,
    "start_time": "2021-08-23T19:29:46.987Z"
   },
   {
    "duration": 1521,
    "start_time": "2021-08-23T19:31:03.278Z"
   },
   {
    "duration": 1313,
    "start_time": "2021-08-23T19:33:12.247Z"
   },
   {
    "duration": 1110,
    "start_time": "2021-08-23T19:35:25.683Z"
   },
   {
    "duration": 1002,
    "start_time": "2021-08-23T19:35:53.347Z"
   },
   {
    "duration": 1880,
    "start_time": "2021-08-23T19:36:15.740Z"
   },
   {
    "duration": 263,
    "start_time": "2021-08-23T19:42:03.756Z"
   },
   {
    "duration": 1171,
    "start_time": "2021-08-23T19:43:08.077Z"
   },
   {
    "duration": 1650,
    "start_time": "2021-08-23T19:43:23.198Z"
   },
   {
    "duration": 20680,
    "start_time": "2021-08-23T19:45:49.811Z"
   },
   {
    "duration": 16894,
    "start_time": "2021-08-23T19:47:40.253Z"
   },
   {
    "duration": 17852,
    "start_time": "2021-08-23T19:48:19.215Z"
   },
   {
    "duration": 8836,
    "start_time": "2021-08-23T19:50:49.476Z"
   },
   {
    "duration": 970,
    "start_time": "2021-08-23T19:53:30.118Z"
   },
   {
    "duration": 967,
    "start_time": "2021-08-23T19:54:39.551Z"
   },
   {
    "duration": 9341,
    "start_time": "2021-08-23T19:55:52.703Z"
   },
   {
    "duration": 6289,
    "start_time": "2021-08-23T19:56:49.058Z"
   },
   {
    "duration": 24050,
    "start_time": "2021-08-23T19:58:13.869Z"
   },
   {
    "duration": 17782,
    "start_time": "2021-08-23T19:58:51.901Z"
   },
   {
    "duration": 18812,
    "start_time": "2021-08-23T19:59:58.233Z"
   },
   {
    "duration": 11349,
    "start_time": "2021-08-23T20:00:51.762Z"
   },
   {
    "duration": 12211,
    "start_time": "2021-08-23T20:11:27.574Z"
   },
   {
    "duration": 10818,
    "start_time": "2021-08-23T20:11:56.530Z"
   },
   {
    "duration": 23,
    "start_time": "2021-08-23T20:13:09.237Z"
   },
   {
    "duration": 10,
    "start_time": "2021-08-23T20:13:39.691Z"
   },
   {
    "duration": 11411,
    "start_time": "2021-08-23T20:14:52.566Z"
   },
   {
    "duration": 11045,
    "start_time": "2021-08-23T20:16:16.385Z"
   },
   {
    "duration": 13153,
    "start_time": "2021-08-23T20:16:49.169Z"
   },
   {
    "duration": 11162,
    "start_time": "2021-08-23T20:23:38.400Z"
   },
   {
    "duration": 11608,
    "start_time": "2021-08-23T20:25:47.589Z"
   },
   {
    "duration": 970,
    "start_time": "2021-08-23T20:27:03.465Z"
   },
   {
    "duration": 12618,
    "start_time": "2021-08-23T20:27:20.465Z"
   },
   {
    "duration": 990,
    "start_time": "2021-08-23T20:33:21.580Z"
   },
   {
    "duration": 5,
    "start_time": "2021-08-23T20:45:14.088Z"
   },
   {
    "duration": 4,
    "start_time": "2021-08-23T20:45:14.097Z"
   },
   {
    "duration": 3,
    "start_time": "2021-08-23T20:45:14.106Z"
   },
   {
    "duration": 6,
    "start_time": "2021-08-23T20:45:14.112Z"
   },
   {
    "duration": 5,
    "start_time": "2021-08-23T20:45:14.122Z"
   },
   {
    "duration": 7,
    "start_time": "2021-08-23T20:45:14.130Z"
   },
   {
    "duration": 6,
    "start_time": "2021-08-23T20:45:14.139Z"
   },
   {
    "duration": 61,
    "start_time": "2021-08-23T20:45:14.148Z"
   },
   {
    "duration": 17,
    "start_time": "2021-08-23T20:45:14.213Z"
   },
   {
    "duration": 10,
    "start_time": "2021-08-23T20:45:14.233Z"
   },
   {
    "duration": 239,
    "start_time": "2021-08-23T20:45:14.246Z"
   },
   {
    "duration": 19,
    "start_time": "2021-08-23T20:45:14.487Z"
   },
   {
    "duration": 59,
    "start_time": "2021-08-23T20:45:14.508Z"
   },
   {
    "duration": 120,
    "start_time": "2021-08-23T20:45:14.570Z"
   },
   {
    "duration": 17,
    "start_time": "2021-08-23T20:45:14.692Z"
   },
   {
    "duration": 23,
    "start_time": "2021-08-23T20:45:14.711Z"
   },
   {
    "duration": 179,
    "start_time": "2021-08-23T20:45:14.770Z"
   },
   {
    "duration": 22,
    "start_time": "2021-08-23T20:45:14.953Z"
   },
   {
    "duration": 27,
    "start_time": "2021-08-23T20:45:14.978Z"
   },
   {
    "duration": 18,
    "start_time": "2021-08-23T20:45:15.009Z"
   },
   {
    "duration": 38,
    "start_time": "2021-08-23T20:45:15.029Z"
   },
   {
    "duration": 13,
    "start_time": "2021-08-23T20:45:15.070Z"
   },
   {
    "duration": 11,
    "start_time": "2021-08-23T20:45:15.086Z"
   },
   {
    "duration": 8,
    "start_time": "2021-08-23T20:45:15.100Z"
   },
   {
    "duration": 9,
    "start_time": "2021-08-23T20:45:15.110Z"
   },
   {
    "duration": 20,
    "start_time": "2021-08-23T20:45:15.122Z"
   },
   {
    "duration": 36,
    "start_time": "2021-08-23T20:45:15.145Z"
   },
   {
    "duration": 11,
    "start_time": "2021-08-23T20:45:15.184Z"
   },
   {
    "duration": 14,
    "start_time": "2021-08-23T20:45:15.198Z"
   },
   {
    "duration": 313,
    "start_time": "2021-08-23T20:45:15.215Z"
   },
   {
    "duration": 39,
    "start_time": "2021-08-23T20:45:15.531Z"
   },
   {
    "duration": 5,
    "start_time": "2021-08-23T20:45:15.573Z"
   },
   {
    "duration": 41,
    "start_time": "2021-08-23T20:45:15.580Z"
   },
   {
    "duration": 51,
    "start_time": "2021-08-23T20:45:15.624Z"
   },
   {
    "duration": 6,
    "start_time": "2021-08-23T20:45:15.677Z"
   },
   {
    "duration": 30,
    "start_time": "2021-08-23T20:45:15.686Z"
   },
   {
    "duration": 14,
    "start_time": "2021-08-23T20:45:15.719Z"
   },
   {
    "duration": 32,
    "start_time": "2021-08-23T20:45:15.767Z"
   },
   {
    "duration": 18,
    "start_time": "2021-08-23T20:45:15.802Z"
   },
   {
    "duration": 39,
    "start_time": "2021-08-23T20:45:15.828Z"
   },
   {
    "duration": 33,
    "start_time": "2021-08-23T20:45:15.871Z"
   },
   {
    "duration": 5,
    "start_time": "2021-08-23T20:45:15.906Z"
   },
   {
    "duration": 14,
    "start_time": "2021-08-23T20:45:15.913Z"
   },
   {
    "duration": 58,
    "start_time": "2021-08-23T20:45:15.929Z"
   },
   {
    "duration": 5,
    "start_time": "2021-08-23T20:45:15.990Z"
   },
   {
    "duration": 18,
    "start_time": "2021-08-23T20:45:15.997Z"
   },
   {
    "duration": 13,
    "start_time": "2021-08-23T20:45:16.017Z"
   },
   {
    "duration": 14,
    "start_time": "2021-08-23T20:45:16.032Z"
   },
   {
    "duration": 4,
    "start_time": "2021-08-23T20:45:16.067Z"
   },
   {
    "duration": 25,
    "start_time": "2021-08-23T20:45:16.074Z"
   },
   {
    "duration": 30,
    "start_time": "2021-08-23T20:45:16.102Z"
   },
   {
    "duration": 33,
    "start_time": "2021-08-23T20:45:16.135Z"
   },
   {
    "duration": 14,
    "start_time": "2021-08-23T20:45:16.170Z"
   },
   {
    "duration": 19,
    "start_time": "2021-08-23T20:45:16.186Z"
   },
   {
    "duration": 32,
    "start_time": "2021-08-23T20:45:16.207Z"
   },
   {
    "duration": 52,
    "start_time": "2021-08-23T20:45:16.241Z"
   },
   {
    "duration": 5,
    "start_time": "2021-08-23T20:45:16.295Z"
   },
   {
    "duration": 12,
    "start_time": "2021-08-23T20:45:16.303Z"
   },
   {
    "duration": 19,
    "start_time": "2021-08-23T20:45:16.317Z"
   },
   {
    "duration": 31,
    "start_time": "2021-08-23T20:45:16.339Z"
   },
   {
    "duration": 8,
    "start_time": "2021-08-23T20:45:16.373Z"
   },
   {
    "duration": 17,
    "start_time": "2021-08-23T20:45:16.384Z"
   },
   {
    "duration": 10,
    "start_time": "2021-08-23T20:45:16.403Z"
   },
   {
    "duration": 13,
    "start_time": "2021-08-23T20:45:16.416Z"
   },
   {
    "duration": 35,
    "start_time": "2021-08-23T20:45:16.432Z"
   },
   {
    "duration": 15,
    "start_time": "2021-08-23T20:45:16.470Z"
   },
   {
    "duration": 19,
    "start_time": "2021-08-23T20:45:16.489Z"
   },
   {
    "duration": 5,
    "start_time": "2021-08-23T20:45:16.510Z"
   },
   {
    "duration": 17,
    "start_time": "2021-08-23T20:45:16.518Z"
   },
   {
    "duration": 16,
    "start_time": "2021-08-23T20:45:16.568Z"
   },
   {
    "duration": 12,
    "start_time": "2021-08-23T20:45:16.586Z"
   },
   {
    "duration": 7,
    "start_time": "2021-08-23T20:45:16.600Z"
   },
   {
    "duration": 529,
    "start_time": "2021-08-23T20:45:16.610Z"
   },
   {
    "duration": 4,
    "start_time": "2021-08-23T20:45:17.141Z"
   },
   {
    "duration": 48,
    "start_time": "2021-08-23T20:45:17.147Z"
   },
   {
    "duration": 37,
    "start_time": "2021-08-23T20:45:17.198Z"
   },
   {
    "duration": 59,
    "start_time": "2021-08-23T20:45:17.237Z"
   },
   {
    "duration": 86,
    "start_time": "2021-08-23T20:45:17.299Z"
   },
   {
    "duration": -1972,
    "start_time": "2021-08-23T20:45:19.360Z"
   },
   {
    "duration": -1982,
    "start_time": "2021-08-23T20:45:19.371Z"
   },
   {
    "duration": -1992,
    "start_time": "2021-08-23T20:45:19.382Z"
   },
   {
    "duration": -2000,
    "start_time": "2021-08-23T20:45:19.392Z"
   },
   {
    "duration": -2008,
    "start_time": "2021-08-23T20:45:19.401Z"
   },
   {
    "duration": -2017,
    "start_time": "2021-08-23T20:45:19.411Z"
   },
   {
    "duration": -2024,
    "start_time": "2021-08-23T20:45:19.420Z"
   },
   {
    "duration": -2033,
    "start_time": "2021-08-23T20:45:19.430Z"
   },
   {
    "duration": -2043,
    "start_time": "2021-08-23T20:45:19.441Z"
   },
   {
    "duration": -2081,
    "start_time": "2021-08-23T20:45:19.481Z"
   },
   {
    "duration": -2092,
    "start_time": "2021-08-23T20:45:19.493Z"
   },
   {
    "duration": -2099,
    "start_time": "2021-08-23T20:45:19.501Z"
   },
   {
    "duration": -2109,
    "start_time": "2021-08-23T20:45:19.512Z"
   },
   {
    "duration": -2116,
    "start_time": "2021-08-23T20:45:19.520Z"
   },
   {
    "duration": -2123,
    "start_time": "2021-08-23T20:45:19.529Z"
   },
   {
    "duration": -2130,
    "start_time": "2021-08-23T20:45:19.537Z"
   },
   {
    "duration": -2138,
    "start_time": "2021-08-23T20:45:19.546Z"
   },
   {
    "duration": -2145,
    "start_time": "2021-08-23T20:45:19.555Z"
   },
   {
    "duration": 635,
    "start_time": "2021-08-24T04:39:56.462Z"
   },
   {
    "duration": 2,
    "start_time": "2021-08-24T04:39:57.099Z"
   },
   {
    "duration": 403,
    "start_time": "2021-08-24T04:39:57.103Z"
   },
   {
    "duration": 128,
    "start_time": "2021-08-24T04:39:57.508Z"
   },
   {
    "duration": 2,
    "start_time": "2021-08-24T04:39:57.638Z"
   },
   {
    "duration": 7,
    "start_time": "2021-08-24T04:39:57.642Z"
   },
   {
    "duration": 5,
    "start_time": "2021-08-24T04:39:57.651Z"
   },
   {
    "duration": 32,
    "start_time": "2021-08-24T04:39:57.659Z"
   },
   {
    "duration": 14,
    "start_time": "2021-08-24T04:39:57.693Z"
   },
   {
    "duration": 7,
    "start_time": "2021-08-24T04:39:57.708Z"
   },
   {
    "duration": 154,
    "start_time": "2021-08-24T04:39:57.716Z"
   },
   {
    "duration": 20,
    "start_time": "2021-08-24T04:39:57.871Z"
   },
   {
    "duration": 18,
    "start_time": "2021-08-24T04:39:57.893Z"
   },
   {
    "duration": 88,
    "start_time": "2021-08-24T04:39:57.913Z"
   },
   {
    "duration": 9,
    "start_time": "2021-08-24T04:39:58.003Z"
   },
   {
    "duration": 12,
    "start_time": "2021-08-24T04:39:58.014Z"
   },
   {
    "duration": 137,
    "start_time": "2021-08-24T04:39:58.028Z"
   },
   {
    "duration": 10,
    "start_time": "2021-08-24T04:39:58.167Z"
   },
   {
    "duration": 21,
    "start_time": "2021-08-24T04:39:58.179Z"
   },
   {
    "duration": 16,
    "start_time": "2021-08-24T04:39:58.201Z"
   },
   {
    "duration": 11,
    "start_time": "2021-08-24T04:39:58.218Z"
   },
   {
    "duration": 8,
    "start_time": "2021-08-24T04:39:58.230Z"
   },
   {
    "duration": 6,
    "start_time": "2021-08-24T04:39:58.242Z"
   },
   {
    "duration": 6,
    "start_time": "2021-08-24T04:39:58.250Z"
   },
   {
    "duration": 9,
    "start_time": "2021-08-24T04:39:58.258Z"
   },
   {
    "duration": 7,
    "start_time": "2021-08-24T04:39:58.268Z"
   },
   {
    "duration": 7,
    "start_time": "2021-08-24T04:39:58.276Z"
   },
   {
    "duration": 4,
    "start_time": "2021-08-24T04:39:58.291Z"
   },
   {
    "duration": 14,
    "start_time": "2021-08-24T04:39:58.296Z"
   },
   {
    "duration": 175,
    "start_time": "2021-08-24T04:39:58.312Z"
   },
   {
    "duration": 19,
    "start_time": "2021-08-24T04:39:58.489Z"
   },
   {
    "duration": 6,
    "start_time": "2021-08-24T04:39:58.510Z"
   },
   {
    "duration": 28,
    "start_time": "2021-08-24T04:39:58.518Z"
   },
   {
    "duration": 18,
    "start_time": "2021-08-24T04:39:58.548Z"
   },
   {
    "duration": 24,
    "start_time": "2021-08-24T04:39:58.568Z"
   },
   {
    "duration": 24,
    "start_time": "2021-08-24T04:39:58.594Z"
   },
   {
    "duration": 19,
    "start_time": "2021-08-24T04:39:58.620Z"
   },
   {
    "duration": 36,
    "start_time": "2021-08-24T04:39:58.640Z"
   },
   {
    "duration": 15,
    "start_time": "2021-08-24T04:39:58.678Z"
   },
   {
    "duration": 8,
    "start_time": "2021-08-24T04:39:58.694Z"
   },
   {
    "duration": 36,
    "start_time": "2021-08-24T04:39:58.703Z"
   },
   {
    "duration": 15,
    "start_time": "2021-08-24T04:39:58.741Z"
   },
   {
    "duration": 18,
    "start_time": "2021-08-24T04:39:58.758Z"
   },
   {
    "duration": 45,
    "start_time": "2021-08-24T04:39:58.778Z"
   },
   {
    "duration": 3,
    "start_time": "2021-08-24T04:39:58.825Z"
   },
   {
    "duration": 36,
    "start_time": "2021-08-24T04:39:58.830Z"
   },
   {
    "duration": 20,
    "start_time": "2021-08-24T04:39:58.867Z"
   },
   {
    "duration": 16,
    "start_time": "2021-08-24T04:39:58.888Z"
   },
   {
    "duration": 16,
    "start_time": "2021-08-24T04:39:58.905Z"
   },
   {
    "duration": 38,
    "start_time": "2021-08-24T04:39:58.923Z"
   },
   {
    "duration": 20,
    "start_time": "2021-08-24T04:39:58.962Z"
   },
   {
    "duration": 4,
    "start_time": "2021-08-24T04:39:58.984Z"
   },
   {
    "duration": 12,
    "start_time": "2021-08-24T04:39:58.990Z"
   },
   {
    "duration": 10,
    "start_time": "2021-08-24T04:39:59.004Z"
   },
   {
    "duration": 35,
    "start_time": "2021-08-24T04:39:59.016Z"
   },
   {
    "duration": 20,
    "start_time": "2021-08-24T04:39:59.053Z"
   },
   {
    "duration": 3,
    "start_time": "2021-08-24T04:39:59.075Z"
   },
   {
    "duration": 10,
    "start_time": "2021-08-24T04:39:59.080Z"
   },
   {
    "duration": 11,
    "start_time": "2021-08-24T04:39:59.091Z"
   },
   {
    "duration": 13,
    "start_time": "2021-08-24T04:39:59.104Z"
   },
   {
    "duration": 7,
    "start_time": "2021-08-24T04:39:59.118Z"
   },
   {
    "duration": 15,
    "start_time": "2021-08-24T04:39:59.127Z"
   },
   {
    "duration": 4,
    "start_time": "2021-08-24T04:39:59.144Z"
   },
   {
    "duration": 12,
    "start_time": "2021-08-24T04:39:59.149Z"
   },
   {
    "duration": 6,
    "start_time": "2021-08-24T04:39:59.162Z"
   },
   {
    "duration": 12,
    "start_time": "2021-08-24T04:39:59.169Z"
   },
   {
    "duration": 11,
    "start_time": "2021-08-24T04:39:59.182Z"
   },
   {
    "duration": 3,
    "start_time": "2021-08-24T04:39:59.197Z"
   },
   {
    "duration": 12,
    "start_time": "2021-08-24T04:39:59.202Z"
   },
   {
    "duration": 9,
    "start_time": "2021-08-24T04:39:59.215Z"
   },
   {
    "duration": 7,
    "start_time": "2021-08-24T04:39:59.226Z"
   },
   {
    "duration": 5,
    "start_time": "2021-08-24T04:39:59.234Z"
   },
   {
    "duration": 244,
    "start_time": "2021-08-24T04:39:59.240Z"
   },
   {
    "duration": 3,
    "start_time": "2021-08-24T04:39:59.485Z"
   },
   {
    "duration": 35,
    "start_time": "2021-08-24T04:39:59.489Z"
   },
   {
    "duration": 22,
    "start_time": "2021-08-24T04:39:59.525Z"
   },
   {
    "duration": 20,
    "start_time": "2021-08-24T04:39:59.549Z"
   },
   {
    "duration": 112,
    "start_time": "2021-08-24T04:39:59.570Z"
   },
   {
    "duration": -1855,
    "start_time": "2021-08-24T04:40:01.539Z"
   },
   {
    "duration": -1871,
    "start_time": "2021-08-24T04:40:01.556Z"
   },
   {
    "duration": -1886,
    "start_time": "2021-08-24T04:40:01.572Z"
   },
   {
    "duration": -1904,
    "start_time": "2021-08-24T04:40:01.590Z"
   },
   {
    "duration": -1919,
    "start_time": "2021-08-24T04:40:01.606Z"
   },
   {
    "duration": -1940,
    "start_time": "2021-08-24T04:40:01.628Z"
   },
   {
    "duration": -1974,
    "start_time": "2021-08-24T04:40:01.663Z"
   },
   {
    "duration": -1991,
    "start_time": "2021-08-24T04:40:01.681Z"
   },
   {
    "duration": -2006,
    "start_time": "2021-08-24T04:40:01.697Z"
   },
   {
    "duration": -2021,
    "start_time": "2021-08-24T04:40:01.713Z"
   },
   {
    "duration": -2035,
    "start_time": "2021-08-24T04:40:01.728Z"
   },
   {
    "duration": -2051,
    "start_time": "2021-08-24T04:40:01.745Z"
   },
   {
    "duration": -2081,
    "start_time": "2021-08-24T04:40:01.776Z"
   },
   {
    "duration": -2097,
    "start_time": "2021-08-24T04:40:01.794Z"
   },
   {
    "duration": -2114,
    "start_time": "2021-08-24T04:40:01.812Z"
   },
   {
    "duration": -2131,
    "start_time": "2021-08-24T04:40:01.830Z"
   },
   {
    "duration": -2144,
    "start_time": "2021-08-24T04:40:01.845Z"
   },
   {
    "duration": -2160,
    "start_time": "2021-08-24T04:40:01.862Z"
   },
   {
    "duration": 114,
    "start_time": "2021-08-24T04:40:17.555Z"
   },
   {
    "duration": 5978,
    "start_time": "2021-08-24T04:40:41.392Z"
   },
   {
    "duration": 715,
    "start_time": "2021-08-24T05:47:19.967Z"
   },
   {
    "duration": 3,
    "start_time": "2021-08-24T05:47:20.685Z"
   },
   {
    "duration": 476,
    "start_time": "2021-08-24T05:47:20.690Z"
   },
   {
    "duration": 154,
    "start_time": "2021-08-24T05:47:21.168Z"
   },
   {
    "duration": 3,
    "start_time": "2021-08-24T05:47:21.325Z"
   },
   {
    "duration": 10,
    "start_time": "2021-08-24T05:47:21.330Z"
   },
   {
    "duration": 5,
    "start_time": "2021-08-24T05:47:21.343Z"
   },
   {
    "duration": 32,
    "start_time": "2021-08-24T05:47:21.351Z"
   },
   {
    "duration": 19,
    "start_time": "2021-08-24T05:47:21.386Z"
   },
   {
    "duration": 15,
    "start_time": "2021-08-24T05:47:21.408Z"
   },
   {
    "duration": 208,
    "start_time": "2021-08-24T05:47:21.426Z"
   },
   {
    "duration": 19,
    "start_time": "2021-08-24T05:47:21.637Z"
   },
   {
    "duration": 42,
    "start_time": "2021-08-24T05:47:21.659Z"
   },
   {
    "duration": 121,
    "start_time": "2021-08-24T05:47:21.704Z"
   },
   {
    "duration": 14,
    "start_time": "2021-08-24T05:47:21.828Z"
   },
   {
    "duration": 38,
    "start_time": "2021-08-24T05:47:21.844Z"
   },
   {
    "duration": 161,
    "start_time": "2021-08-24T05:47:21.884Z"
   },
   {
    "duration": 17,
    "start_time": "2021-08-24T05:47:22.048Z"
   },
   {
    "duration": 42,
    "start_time": "2021-08-24T05:47:22.067Z"
   },
   {
    "duration": 16,
    "start_time": "2021-08-24T05:47:22.111Z"
   },
   {
    "duration": 13,
    "start_time": "2021-08-24T05:47:22.129Z"
   },
   {
    "duration": 11,
    "start_time": "2021-08-24T05:47:22.144Z"
   },
   {
    "duration": 25,
    "start_time": "2021-08-24T05:47:22.160Z"
   },
   {
    "duration": 4,
    "start_time": "2021-08-24T05:47:22.189Z"
   },
   {
    "duration": 9,
    "start_time": "2021-08-24T05:47:22.195Z"
   },
   {
    "duration": 9,
    "start_time": "2021-08-24T05:47:22.206Z"
   },
   {
    "duration": 19,
    "start_time": "2021-08-24T05:47:22.217Z"
   },
   {
    "duration": 24,
    "start_time": "2021-08-24T05:47:22.238Z"
   },
   {
    "duration": 21,
    "start_time": "2021-08-24T05:47:22.264Z"
   },
   {
    "duration": 295,
    "start_time": "2021-08-24T05:47:22.287Z"
   },
   {
    "duration": 25,
    "start_time": "2021-08-24T05:47:22.585Z"
   },
   {
    "duration": 6,
    "start_time": "2021-08-24T05:47:22.613Z"
   },
   {
    "duration": 61,
    "start_time": "2021-08-24T05:47:22.622Z"
   },
   {
    "duration": 24,
    "start_time": "2021-08-24T05:47:22.686Z"
   },
   {
    "duration": 6,
    "start_time": "2021-08-24T05:47:22.713Z"
   },
   {
    "duration": 25,
    "start_time": "2021-08-24T05:47:22.722Z"
   },
   {
    "duration": 43,
    "start_time": "2021-08-24T05:47:22.750Z"
   },
   {
    "duration": 28,
    "start_time": "2021-08-24T05:47:22.795Z"
   },
   {
    "duration": 16,
    "start_time": "2021-08-24T05:47:22.825Z"
   },
   {
    "duration": 42,
    "start_time": "2021-08-24T05:47:22.843Z"
   },
   {
    "duration": 30,
    "start_time": "2021-08-24T05:47:22.888Z"
   },
   {
    "duration": 4,
    "start_time": "2021-08-24T05:47:22.920Z"
   },
   {
    "duration": 30,
    "start_time": "2021-08-24T05:47:22.927Z"
   },
   {
    "duration": 50,
    "start_time": "2021-08-24T05:47:22.960Z"
   },
   {
    "duration": 5,
    "start_time": "2021-08-24T05:47:23.013Z"
   },
   {
    "duration": 17,
    "start_time": "2021-08-24T05:47:23.020Z"
   },
   {
    "duration": 14,
    "start_time": "2021-08-24T05:47:23.040Z"
   },
   {
    "duration": 18,
    "start_time": "2021-08-24T05:47:23.057Z"
   },
   {
    "duration": 5,
    "start_time": "2021-08-24T05:47:23.082Z"
   },
   {
    "duration": 33,
    "start_time": "2021-08-24T05:47:23.089Z"
   },
   {
    "duration": 27,
    "start_time": "2021-08-24T05:47:23.125Z"
   },
   {
    "duration": 5,
    "start_time": "2021-08-24T05:47:23.154Z"
   },
   {
    "duration": 24,
    "start_time": "2021-08-24T05:47:23.161Z"
   },
   {
    "duration": 16,
    "start_time": "2021-08-24T05:47:23.187Z"
   },
   {
    "duration": 27,
    "start_time": "2021-08-24T05:47:23.206Z"
   },
   {
    "duration": 52,
    "start_time": "2021-08-24T05:47:23.235Z"
   },
   {
    "duration": 5,
    "start_time": "2021-08-24T05:47:23.289Z"
   },
   {
    "duration": 8,
    "start_time": "2021-08-24T05:47:23.297Z"
   },
   {
    "duration": 19,
    "start_time": "2021-08-24T05:47:23.307Z"
   },
   {
    "duration": 15,
    "start_time": "2021-08-24T05:47:23.329Z"
   },
   {
    "duration": 8,
    "start_time": "2021-08-24T05:47:23.346Z"
   },
   {
    "duration": 38,
    "start_time": "2021-08-24T05:47:23.356Z"
   },
   {
    "duration": 7,
    "start_time": "2021-08-24T05:47:23.397Z"
   },
   {
    "duration": 13,
    "start_time": "2021-08-24T05:47:23.406Z"
   },
   {
    "duration": 5,
    "start_time": "2021-08-24T05:47:23.421Z"
   },
   {
    "duration": 16,
    "start_time": "2021-08-24T05:47:23.428Z"
   },
   {
    "duration": 40,
    "start_time": "2021-08-24T05:47:23.447Z"
   },
   {
    "duration": 5,
    "start_time": "2021-08-24T05:47:23.495Z"
   },
   {
    "duration": 20,
    "start_time": "2021-08-24T05:47:23.503Z"
   },
   {
    "duration": 12,
    "start_time": "2021-08-24T05:47:23.525Z"
   },
   {
    "duration": 10,
    "start_time": "2021-08-24T05:47:23.540Z"
   },
   {
    "duration": 32,
    "start_time": "2021-08-24T05:47:23.552Z"
   },
   {
    "duration": 432,
    "start_time": "2021-08-24T05:47:23.587Z"
   },
   {
    "duration": 4,
    "start_time": "2021-08-24T05:47:24.021Z"
   },
   {
    "duration": 46,
    "start_time": "2021-08-24T05:47:24.027Z"
   },
   {
    "duration": 40,
    "start_time": "2021-08-24T05:47:24.075Z"
   },
   {
    "duration": 34,
    "start_time": "2021-08-24T05:47:24.117Z"
   },
   {
    "duration": 10419,
    "start_time": "2021-08-24T05:47:24.154Z"
   },
   {
    "duration": 885,
    "start_time": "2021-08-24T05:47:34.583Z"
   },
   {
    "duration": 11,
    "start_time": "2021-08-24T05:47:35.471Z"
   },
   {
    "duration": 7,
    "start_time": "2021-08-24T05:47:35.485Z"
   },
   {
    "duration": 10,
    "start_time": "2021-08-24T05:47:35.495Z"
   },
   {
    "duration": 12,
    "start_time": "2021-08-24T05:47:35.507Z"
   },
   {
    "duration": 7,
    "start_time": "2021-08-24T05:47:35.522Z"
   },
   {
    "duration": 13,
    "start_time": "2021-08-24T05:47:35.532Z"
   },
   {
    "duration": 37,
    "start_time": "2021-08-24T05:47:35.548Z"
   },
   {
    "duration": 17,
    "start_time": "2021-08-24T05:47:35.588Z"
   },
   {
    "duration": 22,
    "start_time": "2021-08-24T05:47:35.607Z"
   },
   {
    "duration": 26,
    "start_time": "2021-08-24T05:47:35.631Z"
   },
   {
    "duration": 16,
    "start_time": "2021-08-24T05:47:35.659Z"
   },
   {
    "duration": 16,
    "start_time": "2021-08-24T05:47:35.678Z"
   },
   {
    "duration": 8,
    "start_time": "2021-08-24T05:47:35.697Z"
   },
   {
    "duration": 17,
    "start_time": "2021-08-24T05:47:35.708Z"
   },
   {
    "duration": 21,
    "start_time": "2021-08-24T05:47:35.727Z"
   },
   {
    "duration": 9,
    "start_time": "2021-08-24T05:47:35.751Z"
   },
   {
    "duration": 11,
    "start_time": "2021-08-24T05:51:07.342Z"
   }
  ],
  "kernelspec": {
   "display_name": "Python 3",
   "language": "python",
   "name": "python3"
  },
  "language_info": {
   "codemirror_mode": {
    "name": "ipython",
    "version": 3
   },
   "file_extension": ".py",
   "mimetype": "text/x-python",
   "name": "python",
   "nbconvert_exporter": "python",
   "pygments_lexer": "ipython3",
   "version": "3.8.8"
  },
  "toc": {
   "base_numbering": 1,
   "nav_menu": {},
   "number_sections": true,
   "sideBar": true,
   "skip_h1_title": true,
   "title_cell": "Table of Contents",
   "title_sidebar": "Contents",
   "toc_cell": true,
   "toc_position": {
    "height": "calc(100% - 180px)",
    "left": "10px",
    "top": "150px",
    "width": "312.333px"
   },
   "toc_section_display": true,
   "toc_window_display": true
  }
 },
 "nbformat": 4,
 "nbformat_minor": 2
}
