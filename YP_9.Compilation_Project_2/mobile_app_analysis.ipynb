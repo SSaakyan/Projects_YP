{
 "cells": [
  {
   "cell_type": "markdown",
   "metadata": {
    "toc": true
   },
   "source": [
    "<h1>Содержание<span class=\"tocSkip\"></span></h1>\n",
    "<div class=\"toc\"><ul class=\"toc-item\"><li><span><a href=\"#Описание-данных\" data-toc-modified-id=\"Описание-данных-1\"><span class=\"toc-item-num\">1&nbsp;&nbsp;</span>Описание данных</a></span></li><li><span><a href=\"#Загрузка-и-подготовка-данны-к-анализу\" data-toc-modified-id=\"Загрузка-и-подготовка-данны-к-анализу-2\"><span class=\"toc-item-num\">2&nbsp;&nbsp;</span>Загрузка и подготовка данны к анализу</a></span><ul class=\"toc-item\"><li><span><a href=\"#Импорт-библиотек\" data-toc-modified-id=\"Импорт-библиотек-2.1\"><span class=\"toc-item-num\">2.1&nbsp;&nbsp;</span>Импорт библиотек</a></span></li><li><span><a href=\"#Импорт-и-изучение-данных\" data-toc-modified-id=\"Импорт-и-изучение-данных-2.2\"><span class=\"toc-item-num\">2.2&nbsp;&nbsp;</span>Импорт и изучение данных</a></span></li><li><span><a href=\"#Подготовка-данных-к-анализу\" data-toc-modified-id=\"Подготовка-данных-к-анализу-2.3\"><span class=\"toc-item-num\">2.3&nbsp;&nbsp;</span>Подготовка данных к анализу</a></span></li></ul></li><li><span><a href=\"#Изучение-и-проверка-данных\" data-toc-modified-id=\"Изучение-и-проверка-данных-3\"><span class=\"toc-item-num\">3&nbsp;&nbsp;</span>Изучение и проверка данных</a></span></li><li><span><a href=\"#Воронка-событий\" data-toc-modified-id=\"Воронка-событий-4\"><span class=\"toc-item-num\">4&nbsp;&nbsp;</span>Воронка событий</a></span></li><li><span><a href=\"#Анализ-результатов-эксперимента\" data-toc-modified-id=\"Анализ-результатов-эксперимента-5\"><span class=\"toc-item-num\">5&nbsp;&nbsp;</span>Анализ результатов эксперимента</a></span></li><li><span><a href=\"#Выводы\" data-toc-modified-id=\"Выводы-6\"><span class=\"toc-item-num\">6&nbsp;&nbsp;</span>Выводы</a></span></li></ul></div>"
   ]
  },
  {
   "cell_type": "markdown",
   "metadata": {},
   "source": [
    "## Описание данных"
   ]
  },
  {
   "cell_type": "markdown",
   "metadata": {},
   "source": [
    "Каждая запись в логе — это действие пользователя, или событие.\n",
    "- *EventName* — название события;\n",
    "- *DeviceIDHash* — уникальный идентификатор пользователя;\n",
    "- *EventTimestamp* — время события;\n",
    "- *ExpId* — номер эксперимента: 246 и 247 — контрольные группы, а 248 — экспериментальная."
   ]
  },
  {
   "cell_type": "markdown",
   "metadata": {},
   "source": [
    "## Загрузка и подготовка данны к анализу "
   ]
  },
  {
   "cell_type": "markdown",
   "metadata": {},
   "source": [
    "###  Импорт библиотек "
   ]
  },
  {
   "cell_type": "code",
   "execution_count": 1,
   "metadata": {},
   "outputs": [],
   "source": [
    "import pandas as pd\n",
    "import numpy as np\n",
    "\n",
    "import math as mth\n",
    "from scipy import stats as st\n",
    "\n",
    "import matplotlib.pyplot as plt \n",
    "import seaborn as sns\n",
    "\n",
    "from datetime import date\n",
    "\n",
    "from IPython.display import display\n",
    "\n",
    "import warnings\n",
    "warnings.filterwarnings('ignore')"
   ]
  },
  {
   "cell_type": "markdown",
   "metadata": {},
   "source": [
    "### Импорт и изучение данных"
   ]
  },
  {
   "cell_type": "code",
   "execution_count": 2,
   "metadata": {},
   "outputs": [],
   "source": [
    "df = pd.read_csv('/datasets/logs_exp.csv', sep='\\t')"
   ]
  },
  {
   "cell_type": "code",
   "execution_count": 3,
   "metadata": {},
   "outputs": [
    {
     "data": {
      "text/html": [
       "<div>\n",
       "<style scoped>\n",
       "    .dataframe tbody tr th:only-of-type {\n",
       "        vertical-align: middle;\n",
       "    }\n",
       "\n",
       "    .dataframe tbody tr th {\n",
       "        vertical-align: top;\n",
       "    }\n",
       "\n",
       "    .dataframe thead th {\n",
       "        text-align: right;\n",
       "    }\n",
       "</style>\n",
       "<table border=\"1\" class=\"dataframe\">\n",
       "  <thead>\n",
       "    <tr style=\"text-align: right;\">\n",
       "      <th></th>\n",
       "      <th>EventName</th>\n",
       "      <th>DeviceIDHash</th>\n",
       "      <th>EventTimestamp</th>\n",
       "      <th>ExpId</th>\n",
       "    </tr>\n",
       "  </thead>\n",
       "  <tbody>\n",
       "    <tr>\n",
       "      <td>0</td>\n",
       "      <td>MainScreenAppear</td>\n",
       "      <td>4575588528974610257</td>\n",
       "      <td>1564029816</td>\n",
       "      <td>246</td>\n",
       "    </tr>\n",
       "    <tr>\n",
       "      <td>1</td>\n",
       "      <td>MainScreenAppear</td>\n",
       "      <td>7416695313311560658</td>\n",
       "      <td>1564053102</td>\n",
       "      <td>246</td>\n",
       "    </tr>\n",
       "    <tr>\n",
       "      <td>2</td>\n",
       "      <td>PaymentScreenSuccessful</td>\n",
       "      <td>3518123091307005509</td>\n",
       "      <td>1564054127</td>\n",
       "      <td>248</td>\n",
       "    </tr>\n",
       "    <tr>\n",
       "      <td>3</td>\n",
       "      <td>CartScreenAppear</td>\n",
       "      <td>3518123091307005509</td>\n",
       "      <td>1564054127</td>\n",
       "      <td>248</td>\n",
       "    </tr>\n",
       "    <tr>\n",
       "      <td>4</td>\n",
       "      <td>PaymentScreenSuccessful</td>\n",
       "      <td>6217807653094995999</td>\n",
       "      <td>1564055322</td>\n",
       "      <td>248</td>\n",
       "    </tr>\n",
       "    <tr>\n",
       "      <td>...</td>\n",
       "      <td>...</td>\n",
       "      <td>...</td>\n",
       "      <td>...</td>\n",
       "      <td>...</td>\n",
       "    </tr>\n",
       "    <tr>\n",
       "      <td>244121</td>\n",
       "      <td>MainScreenAppear</td>\n",
       "      <td>4599628364049201812</td>\n",
       "      <td>1565212345</td>\n",
       "      <td>247</td>\n",
       "    </tr>\n",
       "    <tr>\n",
       "      <td>244122</td>\n",
       "      <td>MainScreenAppear</td>\n",
       "      <td>5849806612437486590</td>\n",
       "      <td>1565212439</td>\n",
       "      <td>246</td>\n",
       "    </tr>\n",
       "    <tr>\n",
       "      <td>244123</td>\n",
       "      <td>MainScreenAppear</td>\n",
       "      <td>5746969938801999050</td>\n",
       "      <td>1565212483</td>\n",
       "      <td>246</td>\n",
       "    </tr>\n",
       "    <tr>\n",
       "      <td>244124</td>\n",
       "      <td>MainScreenAppear</td>\n",
       "      <td>5746969938801999050</td>\n",
       "      <td>1565212498</td>\n",
       "      <td>246</td>\n",
       "    </tr>\n",
       "    <tr>\n",
       "      <td>244125</td>\n",
       "      <td>OffersScreenAppear</td>\n",
       "      <td>5746969938801999050</td>\n",
       "      <td>1565212517</td>\n",
       "      <td>246</td>\n",
       "    </tr>\n",
       "  </tbody>\n",
       "</table>\n",
       "<p>244126 rows × 4 columns</p>\n",
       "</div>"
      ],
      "text/plain": [
       "                      EventName         DeviceIDHash  EventTimestamp  ExpId\n",
       "0              MainScreenAppear  4575588528974610257      1564029816    246\n",
       "1              MainScreenAppear  7416695313311560658      1564053102    246\n",
       "2       PaymentScreenSuccessful  3518123091307005509      1564054127    248\n",
       "3              CartScreenAppear  3518123091307005509      1564054127    248\n",
       "4       PaymentScreenSuccessful  6217807653094995999      1564055322    248\n",
       "...                         ...                  ...             ...    ...\n",
       "244121         MainScreenAppear  4599628364049201812      1565212345    247\n",
       "244122         MainScreenAppear  5849806612437486590      1565212439    246\n",
       "244123         MainScreenAppear  5746969938801999050      1565212483    246\n",
       "244124         MainScreenAppear  5746969938801999050      1565212498    246\n",
       "244125       OffersScreenAppear  5746969938801999050      1565212517    246\n",
       "\n",
       "[244126 rows x 4 columns]"
      ]
     },
     "metadata": {},
     "output_type": "display_data"
    },
    {
     "name": "stdout",
     "output_type": "stream",
     "text": [
      "<class 'pandas.core.frame.DataFrame'>\n",
      "RangeIndex: 244126 entries, 0 to 244125\n",
      "Data columns (total 4 columns):\n",
      "EventName         244126 non-null object\n",
      "DeviceIDHash      244126 non-null int64\n",
      "EventTimestamp    244126 non-null int64\n",
      "ExpId             244126 non-null int64\n",
      "dtypes: int64(3), object(1)\n",
      "memory usage: 7.5+ MB\n"
     ]
    }
   ],
   "source": [
    "# Посмотрим на данные и на общую информацию по ним:\n",
    "display(df)\n",
    "df.info()"
   ]
  },
  {
   "cell_type": "markdown",
   "metadata": {},
   "source": [
    "**Вывод:** доступна информация о 244126 событиях, пропущенных значений нет, время события указано не в удобном для анализа формате."
   ]
  },
  {
   "cell_type": "markdown",
   "metadata": {},
   "source": [
    "### Подготовка данных к анализу"
   ]
  },
  {
   "cell_type": "code",
   "execution_count": 4,
   "metadata": {},
   "outputs": [],
   "source": [
    "#Для удобства изменим названия столбцов:\n",
    "df.columns = ['event_name', 'user_id', 'event_time', 'exp_id']"
   ]
  },
  {
   "cell_type": "code",
   "execution_count": 5,
   "metadata": {},
   "outputs": [
    {
     "data": {
      "text/html": [
       "<div>\n",
       "<style scoped>\n",
       "    .dataframe tbody tr th:only-of-type {\n",
       "        vertical-align: middle;\n",
       "    }\n",
       "\n",
       "    .dataframe tbody tr th {\n",
       "        vertical-align: top;\n",
       "    }\n",
       "\n",
       "    .dataframe thead th {\n",
       "        text-align: right;\n",
       "    }\n",
       "</style>\n",
       "<table border=\"1\" class=\"dataframe\">\n",
       "  <thead>\n",
       "    <tr style=\"text-align: right;\">\n",
       "      <th></th>\n",
       "      <th>event_name</th>\n",
       "      <th>user_id</th>\n",
       "      <th>event_time</th>\n",
       "      <th>exp_id</th>\n",
       "      <th>dt</th>\n",
       "      <th>date</th>\n",
       "    </tr>\n",
       "  </thead>\n",
       "  <tbody>\n",
       "    <tr>\n",
       "      <td>0</td>\n",
       "      <td>MainScreenAppear</td>\n",
       "      <td>4575588528974610257</td>\n",
       "      <td>1564029816</td>\n",
       "      <td>246</td>\n",
       "      <td>2019-07-25 04:43:36</td>\n",
       "      <td>2019-07-25</td>\n",
       "    </tr>\n",
       "    <tr>\n",
       "      <td>1</td>\n",
       "      <td>MainScreenAppear</td>\n",
       "      <td>7416695313311560658</td>\n",
       "      <td>1564053102</td>\n",
       "      <td>246</td>\n",
       "      <td>2019-07-25 11:11:42</td>\n",
       "      <td>2019-07-25</td>\n",
       "    </tr>\n",
       "    <tr>\n",
       "      <td>2</td>\n",
       "      <td>PaymentScreenSuccessful</td>\n",
       "      <td>3518123091307005509</td>\n",
       "      <td>1564054127</td>\n",
       "      <td>248</td>\n",
       "      <td>2019-07-25 11:28:47</td>\n",
       "      <td>2019-07-25</td>\n",
       "    </tr>\n",
       "    <tr>\n",
       "      <td>3</td>\n",
       "      <td>CartScreenAppear</td>\n",
       "      <td>3518123091307005509</td>\n",
       "      <td>1564054127</td>\n",
       "      <td>248</td>\n",
       "      <td>2019-07-25 11:28:47</td>\n",
       "      <td>2019-07-25</td>\n",
       "    </tr>\n",
       "    <tr>\n",
       "      <td>4</td>\n",
       "      <td>PaymentScreenSuccessful</td>\n",
       "      <td>6217807653094995999</td>\n",
       "      <td>1564055322</td>\n",
       "      <td>248</td>\n",
       "      <td>2019-07-25 11:48:42</td>\n",
       "      <td>2019-07-25</td>\n",
       "    </tr>\n",
       "  </tbody>\n",
       "</table>\n",
       "</div>"
      ],
      "text/plain": [
       "                event_name              user_id  event_time  exp_id  \\\n",
       "0         MainScreenAppear  4575588528974610257  1564029816     246   \n",
       "1         MainScreenAppear  7416695313311560658  1564053102     246   \n",
       "2  PaymentScreenSuccessful  3518123091307005509  1564054127     248   \n",
       "3         CartScreenAppear  3518123091307005509  1564054127     248   \n",
       "4  PaymentScreenSuccessful  6217807653094995999  1564055322     248   \n",
       "\n",
       "                   dt        date  \n",
       "0 2019-07-25 04:43:36  2019-07-25  \n",
       "1 2019-07-25 11:11:42  2019-07-25  \n",
       "2 2019-07-25 11:28:47  2019-07-25  \n",
       "3 2019-07-25 11:28:47  2019-07-25  \n",
       "4 2019-07-25 11:48:42  2019-07-25  "
      ]
     },
     "metadata": {},
     "output_type": "display_data"
    }
   ],
   "source": [
    "#Добавим столбец с датой и временем в удобном формате и столбец с датой:\n",
    "df['dt'] = pd.to_datetime(df['event_time'], unit = 's')\n",
    "df['date'] = df['dt'].dt.date\n",
    "display(df.head())"
   ]
  },
  {
   "cell_type": "code",
   "execution_count": 6,
   "metadata": {},
   "outputs": [
    {
     "data": {
      "text/plain": [
       "413"
      ]
     },
     "execution_count": 6,
     "metadata": {},
     "output_type": "execute_result"
    }
   ],
   "source": [
    "df.duplicated().sum()"
   ]
  },
  {
   "cell_type": "markdown",
   "metadata": {},
   "source": [
    "Всего 394 дубликата или 0,16% от общего количества данных. Т.к. далее в воронках будем считать пользователей, которые хотя бы раз выполнили действие, дубликаты мешать не будут, поэтому их не трогаем. "
   ]
  },
  {
   "cell_type": "markdown",
   "metadata": {},
   "source": [
    "## Изучение и проверка данных"
   ]
  },
  {
   "cell_type": "code",
   "execution_count": 7,
   "metadata": {},
   "outputs": [
    {
     "name": "stdout",
     "output_type": "stream",
     "text": [
      "Число уникальных событий в логе: 5\n"
     ]
    }
   ],
   "source": [
    "print('Число уникальных событий в логе: {}'.format(df['event_name'].nunique()))"
   ]
  },
  {
   "cell_type": "code",
   "execution_count": 8,
   "metadata": {},
   "outputs": [
    {
     "name": "stdout",
     "output_type": "stream",
     "text": [
      "Число уникальных пользователей в логе: 7551\n"
     ]
    }
   ],
   "source": [
    "print('Число уникальных пользователей в логе: {}'.format(df['user_id'].nunique()))"
   ]
  },
  {
   "cell_type": "code",
   "execution_count": 9,
   "metadata": {},
   "outputs": [
    {
     "name": "stdout",
     "output_type": "stream",
     "text": [
      "Среднее количество событий на одного пользователя 32.33\n"
     ]
    }
   ],
   "source": [
    "print(\n",
    "    'Среднее количество событий на одного пользователя {}'\n",
    "    .format(df.groupby('user_id')['event_name'].agg('count').mean().round(2))\n",
    ")\n",
    "    "
   ]
  },
  {
   "cell_type": "code",
   "execution_count": 10,
   "metadata": {},
   "outputs": [
    {
     "data": {
      "text/plain": [
       "count    7551.00\n",
       "mean       32.33\n",
       "std        65.31\n",
       "min         1.00\n",
       "25%         9.00\n",
       "50%        20.00\n",
       "75%        37.50\n",
       "max      2308.00\n",
       "Name: user_id, dtype: float64"
      ]
     },
     "execution_count": 10,
     "metadata": {},
     "output_type": "execute_result"
    }
   ],
   "source": [
    "df['user_id'].value_counts().describe().round(2)"
   ]
  },
  {
   "cell_type": "markdown",
   "metadata": {},
   "source": [
    "**Вывод:** Число уникальных пользователей в логе равно 7551, среднее количество событий на одного пользователя - 32.33, минимальное - 1, максимальное  - 2308"
   ]
  },
  {
   "cell_type": "code",
   "execution_count": 11,
   "metadata": {},
   "outputs": [
    {
     "data": {
      "text/html": [
       "<div>\n",
       "<style scoped>\n",
       "    .dataframe tbody tr th:only-of-type {\n",
       "        vertical-align: middle;\n",
       "    }\n",
       "\n",
       "    .dataframe tbody tr th {\n",
       "        vertical-align: top;\n",
       "    }\n",
       "\n",
       "    .dataframe thead th {\n",
       "        text-align: right;\n",
       "    }\n",
       "</style>\n",
       "<table border=\"1\" class=\"dataframe\">\n",
       "  <thead>\n",
       "    <tr style=\"text-align: right;\">\n",
       "      <th></th>\n",
       "      <th>dt</th>\n",
       "      <th>date</th>\n",
       "    </tr>\n",
       "  </thead>\n",
       "  <tbody>\n",
       "    <tr>\n",
       "      <td>count</td>\n",
       "      <td>244126</td>\n",
       "      <td>244126</td>\n",
       "    </tr>\n",
       "    <tr>\n",
       "      <td>unique</td>\n",
       "      <td>176654</td>\n",
       "      <td>14</td>\n",
       "    </tr>\n",
       "    <tr>\n",
       "      <td>top</td>\n",
       "      <td>2019-08-04 16:23:19</td>\n",
       "      <td>2019-08-01</td>\n",
       "    </tr>\n",
       "    <tr>\n",
       "      <td>freq</td>\n",
       "      <td>9</td>\n",
       "      <td>36229</td>\n",
       "    </tr>\n",
       "    <tr>\n",
       "      <td>first</td>\n",
       "      <td>2019-07-25 04:43:36</td>\n",
       "      <td>NaN</td>\n",
       "    </tr>\n",
       "    <tr>\n",
       "      <td>last</td>\n",
       "      <td>2019-08-07 21:15:17</td>\n",
       "      <td>NaN</td>\n",
       "    </tr>\n",
       "  </tbody>\n",
       "</table>\n",
       "</div>"
      ],
      "text/plain": [
       "                         dt        date\n",
       "count                244126      244126\n",
       "unique               176654          14\n",
       "top     2019-08-04 16:23:19  2019-08-01\n",
       "freq                      9       36229\n",
       "first   2019-07-25 04:43:36         NaN\n",
       "last    2019-08-07 21:15:17         NaN"
      ]
     },
     "execution_count": 11,
     "metadata": {},
     "output_type": "execute_result"
    }
   ],
   "source": [
    "#Посмотрим на временной промежуток событий:\n",
    "df[['dt','date']].describe()"
   ]
  },
  {
   "cell_type": "markdown",
   "metadata": {},
   "source": [
    "Временной промежуток событий: с 25 июля 2019г. по 7 августа 2019г., всего 14 дней."
   ]
  },
  {
   "cell_type": "code",
   "execution_count": 12,
   "metadata": {},
   "outputs": [
    {
     "data": {
      "image/png": "[encoded data removed]",
      "text/plain": [
       "<Figure size 432x288 with 1 Axes>"
      ]
     },
     "metadata": {
      "needs_background": "light"
     },
     "output_type": "display_data"
    }
   ],
   "source": [
    "plt.title(\"Распределение событий по времени\",size=14)\n",
    "df['dt'].hist(bins=30)\n",
    "plt.xlabel('Время события',size=12)\n",
    "plt.xticks(rotation=30)\n",
    "plt.ylabel('Частота',size=12)\n",
    "plt.show()"
   ]
  },
  {
   "cell_type": "code",
   "execution_count": 13,
   "metadata": {},
   "outputs": [
    {
     "data": {
      "image/png": "[encoded data removed]",
      "text/plain": [
       "<Figure size 576x432 with 1 Axes>"
      ]
     },
     "metadata": {
      "needs_background": "light"
     },
     "output_type": "display_data"
    }
   ],
   "source": [
    "plt.figure(figsize=(8,6))\n",
    "plt.title(\"Частота событий по датам\",size=18)\n",
    "sns.barplot(\n",
    "    x=df['date'].value_counts().reset_index().sort_values('index')['index'],\n",
    "    y=df['date'].value_counts().reset_index().sort_values('index')['date'])\n",
    "plt.xlabel(\"Дата\",size=14)\n",
    "plt.xticks(rotation=30)\n",
    "plt.ylabel(\"Частота событий\",size=14)\n",
    "plt.show()"
   ]
  },
  {
   "cell_type": "markdown",
   "metadata": {},
   "source": [
    "**Вывод:** Как видим из графиков, в логе до 1 августа представлено мало событий, поэтому будем рассматривать данные о событиях, совершенных с 1 августа"
   ]
  },
  {
   "cell_type": "code",
   "execution_count": 14,
   "metadata": {},
   "outputs": [],
   "source": [
    "df_new = df.loc[df['dt'] > '2019-07-31 23:59:59']"
   ]
  },
  {
   "cell_type": "markdown",
   "metadata": {},
   "source": [
    "Проверим сколько событий и пользователей было в \"отброшенных данных\""
   ]
  },
  {
   "cell_type": "code",
   "execution_count": 15,
   "metadata": {},
   "outputs": [
    {
     "name": "stdout",
     "output_type": "stream",
     "text": [
      "Кол-во событий до 31.07.2019г. включительно равно 2828,    что составляет 1.16%  от общего числа событий в логе\n"
     ]
    }
   ],
   "source": [
    "print(\n",
    "    'Кол-во событий до 31.07.2019г. включительно равно {},\\\n",
    "    что составляет {:.2%}  от общего числа событий в логе'\n",
    "    .format(\n",
    "        len(df.loc[df['dt'] <= '2019-07-31 23:59:59']),\n",
    "        len(df.loc[df['dt'] <= '2019-07-31 23:59:59']) / len(df['dt'])\n",
    "    )\n",
    ")"
   ]
  },
  {
   "cell_type": "code",
   "execution_count": 16,
   "metadata": {},
   "outputs": [
    {
     "name": "stdout",
     "output_type": "stream",
     "text": [
      "Число уникальных пользователей в логе, которые совершали действия    в приложении до 31.07.2019г. включительно, но не совершали действий после 31.07.2019г. равно 17    или 0.23% всех уникальных пользователей в логе\n"
     ]
    }
   ],
   "source": [
    "# найдем тех уникальных пользователей, которые были в \"отброшенной\" части и не появляются в \"исследуемой\" части:\n",
    "j = 0\n",
    "for i in df.loc[df['dt'] <= '2019-07-31 23:59:59']['user_id'].unique():\n",
    "    if i not in df_new['user_id'].unique():\n",
    "        j = j + 1\n",
    "print(\n",
    "    'Число уникальных пользователей в логе, которые совершали действия\\\n",
    "    в приложении до 31.07.2019г. включительно, но не совершали действий после 31.07.2019г. равно {}\\\n",
    "    или {:.2%} всех уникальных пользователей в логе'\n",
    "    .format(j, j/df['user_id'].nunique())\n",
    ")"
   ]
  },
  {
   "cell_type": "markdown",
   "metadata": {},
   "source": [
    "Проверим, что остались пользователи все трёх экспериментальных групп"
   ]
  },
  {
   "cell_type": "code",
   "execution_count": 17,
   "metadata": {},
   "outputs": [
    {
     "data": {
      "text/plain": [
       "exp_id\n",
       "246    2484\n",
       "247    2513\n",
       "248    2537\n",
       "Name: user_id, dtype: int64"
      ]
     },
     "execution_count": 17,
     "metadata": {},
     "output_type": "execute_result"
    }
   ],
   "source": [
    "df_new.groupby('exp_id')['user_id'].nunique()"
   ]
  },
  {
   "cell_type": "markdown",
   "metadata": {},
   "source": [
    "Итак, у нас есть пользователи, вошедшие из всех трёх экспериментальных групп и разница в их количестве между группами колеблется в районе 2%."
   ]
  },
  {
   "cell_type": "markdown",
   "metadata": {},
   "source": [
    "## Воронка событий"
   ]
  },
  {
   "cell_type": "code",
   "execution_count": 18,
   "metadata": {
    "scrolled": true
   },
   "outputs": [
    {
     "data": {
      "text/plain": [
       "MainScreenAppear           117431\n",
       "OffersScreenAppear          46350\n",
       "CartScreenAppear            42365\n",
       "PaymentScreenSuccessful     34113\n",
       "Tutorial                     1039\n",
       "Name: event_name, dtype: int64"
      ]
     },
     "execution_count": 18,
     "metadata": {},
     "output_type": "execute_result"
    }
   ],
   "source": [
    "# Посмотрим на события, которые есть в логе:\n",
    "df_new['event_name'].value_counts()"
   ]
  },
  {
   "cell_type": "markdown",
   "metadata": {},
   "source": [
    "Как и следовало ожидать, чаще всего в логе событие 'открытие главной страницы', реже всего - Tutorial"
   ]
  },
  {
   "cell_type": "markdown",
   "metadata": {},
   "source": [
    "Теперь посчитаем, сколько уникальных пользователей совершали каждое из этих событий и их долю среди всех уникальных пользователей:"
   ]
  },
  {
   "cell_type": "code",
   "execution_count": 19,
   "metadata": {},
   "outputs": [
    {
     "data": {
      "text/html": [
       "<div>\n",
       "<style scoped>\n",
       "    .dataframe tbody tr th:only-of-type {\n",
       "        vertical-align: middle;\n",
       "    }\n",
       "\n",
       "    .dataframe tbody tr th {\n",
       "        vertical-align: top;\n",
       "    }\n",
       "\n",
       "    .dataframe thead th {\n",
       "        text-align: right;\n",
       "    }\n",
       "</style>\n",
       "<table border=\"1\" class=\"dataframe\">\n",
       "  <thead>\n",
       "    <tr style=\"text-align: right;\">\n",
       "      <th></th>\n",
       "      <th>event_name</th>\n",
       "      <th>number_of users</th>\n",
       "      <th>share_of_users</th>\n",
       "    </tr>\n",
       "  </thead>\n",
       "  <tbody>\n",
       "    <tr>\n",
       "      <td>0</td>\n",
       "      <td>MainScreenAppear</td>\n",
       "      <td>7419</td>\n",
       "      <td>98.47</td>\n",
       "    </tr>\n",
       "    <tr>\n",
       "      <td>1</td>\n",
       "      <td>OffersScreenAppear</td>\n",
       "      <td>4593</td>\n",
       "      <td>60.96</td>\n",
       "    </tr>\n",
       "    <tr>\n",
       "      <td>2</td>\n",
       "      <td>CartScreenAppear</td>\n",
       "      <td>3734</td>\n",
       "      <td>49.56</td>\n",
       "    </tr>\n",
       "    <tr>\n",
       "      <td>3</td>\n",
       "      <td>PaymentScreenSuccessful</td>\n",
       "      <td>3539</td>\n",
       "      <td>46.97</td>\n",
       "    </tr>\n",
       "    <tr>\n",
       "      <td>4</td>\n",
       "      <td>Tutorial</td>\n",
       "      <td>840</td>\n",
       "      <td>11.15</td>\n",
       "    </tr>\n",
       "  </tbody>\n",
       "</table>\n",
       "</div>"
      ],
      "text/plain": [
       "                event_name  number_of users  share_of_users\n",
       "0         MainScreenAppear             7419           98.47\n",
       "1       OffersScreenAppear             4593           60.96\n",
       "2         CartScreenAppear             3734           49.56\n",
       "3  PaymentScreenSuccessful             3539           46.97\n",
       "4                 Tutorial              840           11.15"
      ]
     },
     "execution_count": 19,
     "metadata": {},
     "output_type": "execute_result"
    }
   ],
   "source": [
    "df_funnel = (\n",
    "    df_new\n",
    "    .groupby('event_name')['user_id']\n",
    "    .nunique()\n",
    "    .sort_values(ascending=False)\n",
    "    .reset_index()\n",
    ")\n",
    "df_funnel.columns = ['event_name','number_of users']\n",
    "df_funnel['share_of_users'] = (\n",
    "    df_funnel['number_of users'] / df_new['user_id'].nunique() * 100\n",
    ").round(2)\n",
    "df_funnel"
   ]
  },
  {
   "cell_type": "markdown",
   "metadata": {},
   "source": [
    "Некоторая часть пользователей не открывала основную страницу. Возможно были технические проблемы с отсылкой информации на сервер."
   ]
  },
  {
   "cell_type": "markdown",
   "metadata": {},
   "source": [
    "Событие Tutorial не будем учитывать при расчёте воронки, т.к. оно могло произойти в любой момент последовательности действий пользователя. Последовательность действия пользователя будем рассматривать как:\n",
    " - MainScreenAppear (перешёл на главную страницу);\n",
    " - OffersScreenAppear (перешёл на страницу товара);\n",
    " - CartScreenAppear (перешёл к оплате);\n",
    " - PaymentScreenSuccessful (заказ совершён)"
   ]
  },
  {
   "cell_type": "code",
   "execution_count": 20,
   "metadata": {},
   "outputs": [],
   "source": [
    "df_funnel = df_funnel[df_funnel['event_name'] != 'Tutorial']"
   ]
  },
  {
   "cell_type": "code",
   "execution_count": 21,
   "metadata": {},
   "outputs": [
    {
     "data": {
      "image/png": "[encoded data removed]",
      "text/plain": [
       "<Figure size 432x288 with 1 Axes>"
      ]
     },
     "metadata": {
      "needs_background": "light"
     },
     "output_type": "display_data"
    }
   ],
   "source": [
    "plt.figure(figsize=(6,4))\n",
    "plt.title(\"Воронка событий\",size=14)\n",
    "sns.barplot(\n",
    "    x=df_funnel['number_of users'],\n",
    "    y=df_funnel['event_name']\n",
    ")\n",
    "plt.xlabel(\"Число уникальных пользователей\",size=12)\n",
    "plt.xticks(rotation=30)\n",
    "plt.ylabel(\"Событие\",size=12)\n",
    "plt.show()"
   ]
  },
  {
   "cell_type": "markdown",
   "metadata": {},
   "source": [
    "**Вывод:** между вторым и первым шагом мы теряем больше всего пользователей"
   ]
  },
  {
   "cell_type": "markdown",
   "metadata": {},
   "source": [
    "Сосчитаем конверсию в следующий шаг:    "
   ]
  },
  {
   "cell_type": "code",
   "execution_count": 22,
   "metadata": {},
   "outputs": [
    {
     "data": {
      "text/html": [
       "<div>\n",
       "<style scoped>\n",
       "    .dataframe tbody tr th:only-of-type {\n",
       "        vertical-align: middle;\n",
       "    }\n",
       "\n",
       "    .dataframe tbody tr th {\n",
       "        vertical-align: top;\n",
       "    }\n",
       "\n",
       "    .dataframe thead th {\n",
       "        text-align: right;\n",
       "    }\n",
       "</style>\n",
       "<table border=\"1\" class=\"dataframe\">\n",
       "  <thead>\n",
       "    <tr style=\"text-align: right;\">\n",
       "      <th></th>\n",
       "      <th>event_name</th>\n",
       "      <th>number_of users</th>\n",
       "      <th>share_of_users</th>\n",
       "      <th>conversion_to_next_step</th>\n",
       "    </tr>\n",
       "  </thead>\n",
       "  <tbody>\n",
       "    <tr>\n",
       "      <td>0</td>\n",
       "      <td>MainScreenAppear</td>\n",
       "      <td>7419</td>\n",
       "      <td>98.47</td>\n",
       "      <td>100.00</td>\n",
       "    </tr>\n",
       "    <tr>\n",
       "      <td>1</td>\n",
       "      <td>OffersScreenAppear</td>\n",
       "      <td>4593</td>\n",
       "      <td>60.96</td>\n",
       "      <td>61.91</td>\n",
       "    </tr>\n",
       "    <tr>\n",
       "      <td>2</td>\n",
       "      <td>CartScreenAppear</td>\n",
       "      <td>3734</td>\n",
       "      <td>49.56</td>\n",
       "      <td>81.30</td>\n",
       "    </tr>\n",
       "    <tr>\n",
       "      <td>3</td>\n",
       "      <td>PaymentScreenSuccessful</td>\n",
       "      <td>3539</td>\n",
       "      <td>46.97</td>\n",
       "      <td>94.78</td>\n",
       "    </tr>\n",
       "  </tbody>\n",
       "</table>\n",
       "</div>"
      ],
      "text/plain": [
       "                event_name  number_of users  share_of_users  \\\n",
       "0         MainScreenAppear             7419           98.47   \n",
       "1       OffersScreenAppear             4593           60.96   \n",
       "2         CartScreenAppear             3734           49.56   \n",
       "3  PaymentScreenSuccessful             3539           46.97   \n",
       "\n",
       "   conversion_to_next_step  \n",
       "0                   100.00  \n",
       "1                    61.91  \n",
       "2                    81.30  \n",
       "3                    94.78  "
      ]
     },
     "execution_count": 22,
     "metadata": {},
     "output_type": "execute_result"
    }
   ],
   "source": [
    "df_funnel['conversion_to_next_step'] = [100,1,1,1] \n",
    "for i in range(1,len(df_funnel)):\n",
    "    df_funnel.loc[i,'conversion_to_next_step'] = (\n",
    "        df_funnel.loc[i,'number_of users'] / df_funnel.loc[i-1,'number_of users'] * 100\n",
    "    ).round(2)\n",
    "df_funnel"
   ]
  },
  {
   "cell_type": "markdown",
   "metadata": {},
   "source": [
    "Сосчитаем также итоговую конверсию:"
   ]
  },
  {
   "cell_type": "code",
   "execution_count": 23,
   "metadata": {},
   "outputs": [
    {
     "data": {
      "text/html": [
       "<div>\n",
       "<style scoped>\n",
       "    .dataframe tbody tr th:only-of-type {\n",
       "        vertical-align: middle;\n",
       "    }\n",
       "\n",
       "    .dataframe tbody tr th {\n",
       "        vertical-align: top;\n",
       "    }\n",
       "\n",
       "    .dataframe thead th {\n",
       "        text-align: right;\n",
       "    }\n",
       "</style>\n",
       "<table border=\"1\" class=\"dataframe\">\n",
       "  <thead>\n",
       "    <tr style=\"text-align: right;\">\n",
       "      <th></th>\n",
       "      <th>event_name</th>\n",
       "      <th>number_of users</th>\n",
       "      <th>share_of_users</th>\n",
       "      <th>conversion_to_next_step</th>\n",
       "      <th>conversion</th>\n",
       "    </tr>\n",
       "  </thead>\n",
       "  <tbody>\n",
       "    <tr>\n",
       "      <td>0</td>\n",
       "      <td>MainScreenAppear</td>\n",
       "      <td>7419</td>\n",
       "      <td>98.47</td>\n",
       "      <td>100.00</td>\n",
       "      <td>100.00</td>\n",
       "    </tr>\n",
       "    <tr>\n",
       "      <td>1</td>\n",
       "      <td>OffersScreenAppear</td>\n",
       "      <td>4593</td>\n",
       "      <td>60.96</td>\n",
       "      <td>61.91</td>\n",
       "      <td>61.91</td>\n",
       "    </tr>\n",
       "    <tr>\n",
       "      <td>2</td>\n",
       "      <td>CartScreenAppear</td>\n",
       "      <td>3734</td>\n",
       "      <td>49.56</td>\n",
       "      <td>81.30</td>\n",
       "      <td>50.33</td>\n",
       "    </tr>\n",
       "    <tr>\n",
       "      <td>3</td>\n",
       "      <td>PaymentScreenSuccessful</td>\n",
       "      <td>3539</td>\n",
       "      <td>46.97</td>\n",
       "      <td>94.78</td>\n",
       "      <td>47.70</td>\n",
       "    </tr>\n",
       "  </tbody>\n",
       "</table>\n",
       "</div>"
      ],
      "text/plain": [
       "                event_name  number_of users  share_of_users  \\\n",
       "0         MainScreenAppear             7419           98.47   \n",
       "1       OffersScreenAppear             4593           60.96   \n",
       "2         CartScreenAppear             3734           49.56   \n",
       "3  PaymentScreenSuccessful             3539           46.97   \n",
       "\n",
       "   conversion_to_next_step  conversion  \n",
       "0                   100.00      100.00  \n",
       "1                    61.91       61.91  \n",
       "2                    81.30       50.33  \n",
       "3                    94.78       47.70  "
      ]
     },
     "execution_count": 23,
     "metadata": {},
     "output_type": "execute_result"
    }
   ],
   "source": [
    "df_funnel['conversion'] = (\n",
    "    df_funnel['number_of users'] / df_funnel.loc[0,'number_of users'] * 100\n",
    ").round(2)\n",
    "df_funnel"
   ]
  },
  {
   "cell_type": "markdown",
   "metadata": {},
   "source": [
    "**Вывод:** всего 50.33% дошли от первого шага до оплаты и только 47.7% завершили заказ успешно. На этапе перехода к OffersScreen теряем больше всего пользователей - 38.09%"
   ]
  },
  {
   "cell_type": "markdown",
   "metadata": {},
   "source": [
    "## Анализ результатов эксперимента"
   ]
  },
  {
   "cell_type": "markdown",
   "metadata": {},
   "source": [
    "Вспомним сколько пользователей в каждой экспериментальной группе:"
   ]
  },
  {
   "cell_type": "code",
   "execution_count": 24,
   "metadata": {},
   "outputs": [
    {
     "data": {
      "text/plain": [
       "exp_id\n",
       "246    2484\n",
       "247    2513\n",
       "248    2537\n",
       "Name: user_id, dtype: int64"
      ]
     },
     "execution_count": 24,
     "metadata": {},
     "output_type": "execute_result"
    }
   ],
   "source": [
    "df_new.groupby('exp_id')['user_id'].nunique()"
   ]
  },
  {
   "cell_type": "code",
   "execution_count": 25,
   "metadata": {},
   "outputs": [
    {
     "data": {
      "text/html": [
       "<div>\n",
       "<style scoped>\n",
       "    .dataframe tbody tr th:only-of-type {\n",
       "        vertical-align: middle;\n",
       "    }\n",
       "\n",
       "    .dataframe tbody tr th {\n",
       "        vertical-align: top;\n",
       "    }\n",
       "\n",
       "    .dataframe thead th {\n",
       "        text-align: right;\n",
       "    }\n",
       "</style>\n",
       "<table border=\"1\" class=\"dataframe\">\n",
       "  <thead>\n",
       "    <tr style=\"text-align: right;\">\n",
       "      <th>exp_id</th>\n",
       "      <th>246</th>\n",
       "      <th>247</th>\n",
       "      <th>248</th>\n",
       "    </tr>\n",
       "    <tr>\n",
       "      <th>event_name</th>\n",
       "      <th></th>\n",
       "      <th></th>\n",
       "      <th></th>\n",
       "    </tr>\n",
       "  </thead>\n",
       "  <tbody>\n",
       "    <tr>\n",
       "      <td>CartScreenAppear</td>\n",
       "      <td>1266</td>\n",
       "      <td>1238</td>\n",
       "      <td>1230</td>\n",
       "    </tr>\n",
       "    <tr>\n",
       "      <td>MainScreenAppear</td>\n",
       "      <td>2450</td>\n",
       "      <td>2476</td>\n",
       "      <td>2493</td>\n",
       "    </tr>\n",
       "    <tr>\n",
       "      <td>OffersScreenAppear</td>\n",
       "      <td>1542</td>\n",
       "      <td>1520</td>\n",
       "      <td>1531</td>\n",
       "    </tr>\n",
       "    <tr>\n",
       "      <td>PaymentScreenSuccessful</td>\n",
       "      <td>1200</td>\n",
       "      <td>1158</td>\n",
       "      <td>1181</td>\n",
       "    </tr>\n",
       "  </tbody>\n",
       "</table>\n",
       "</div>"
      ],
      "text/plain": [
       "exp_id                    246   247   248\n",
       "event_name                               \n",
       "CartScreenAppear         1266  1238  1230\n",
       "MainScreenAppear         2450  2476  2493\n",
       "OffersScreenAppear       1542  1520  1531\n",
       "PaymentScreenSuccessful  1200  1158  1181"
      ]
     },
     "execution_count": 25,
     "metadata": {},
     "output_type": "execute_result"
    }
   ],
   "source": [
    "# Посчитаем количество уникальных пользователей для каждого события в каждой группе:\n",
    "df_new = df_new[df_new['event_name'] != 'Tutorial']\n",
    "df_new.pivot_table(\n",
    "    index='event_name',\n",
    "    columns='exp_id',\n",
    "    values='user_id',\n",
    "    aggfunc='nunique'\n",
    ")"
   ]
  },
  {
   "cell_type": "code",
   "execution_count": 26,
   "metadata": {},
   "outputs": [],
   "source": [
    "# Напишем функцию для расчёта долей для каждой группы для каждого события и проверки гипотез о равенстве долей:\n",
    "def abtest(df,groups,alpha,name1,name2):\n",
    "    print('\\033[1m' + 'Группы:', name1,name2)\n",
    "    print('\\033[0m')\n",
    "    users = [df.query('exp_id == @group')['user_id'].nunique() for group in groups]\n",
    "    for event in df['event_name'].unique():\n",
    "        events = [df.query('exp_id == %d and event_name == \"%s\"' % (group,event))['user_id'].nunique() \\\n",
    "                  for group in groups]   \n",
    "        \n",
    "        p1 = events[0] / users[0]\n",
    "        p2 = events[1] / users[1]\n",
    "       \n",
    "        p_combined = sum(events) / sum(users)\n",
    "        difference = p1-p2\n",
    "        \n",
    "        z_value = difference / mth.sqrt(\n",
    "            p_combined * (1 - p_combined) * (1 / users[0] + 1 / users[1])\n",
    "        )\n",
    "        \n",
    "        distr = st.norm(0, 1)\n",
    "        p_value = (1 - distr.cdf(abs(z_value))) * 2\n",
    "        \n",
    "        print('Событие',event)\n",
    "        print('Доли пользователей, совершивших событие',p1, 'и', p2)\n",
    "        print('Нулевая гипотеза: доли пользователей, совершивших это событие, в данных группах равны')\n",
    "        print('Альтернативная гипотеза: доли пользователей, совершивших это событие, в данных группах не равны')\n",
    "        print('p_value равно', p_value)\n",
    "        \n",
    "        if p_value < alpha:\n",
    "            print('Отвергаем нулевую гипотезу: между долями есть значимая разница')\n",
    "        else:\n",
    "            print(\n",
    "                'Не получилось отвергнуть нулевую гипотезу, нет оснований считать доли разными'\n",
    "            ) \n",
    "\n",
    "        print('-------------')\n",
    "        print('')"
   ]
  },
  {
   "cell_type": "code",
   "execution_count": 27,
   "metadata": {},
   "outputs": [
    {
     "name": "stdout",
     "output_type": "stream",
     "text": [
      "\u001b[1mГруппы: Первая контрольная и вторая контрольная\n",
      "\u001b[0m\n",
      "Событие MainScreenAppear\n",
      "Доли пользователей, совершивших событие 0.9867096254530809 и 0.9856687898089171\n",
      "Нулевая гипотеза: доли пользователей, совершивших это событие, в данных группах равны\n",
      "Альтернативная гипотеза: доли пользователей, совершивших это событие, в данных группах не равны\n",
      "p_value равно 0.7526703436483038\n",
      "Не получилось отвергнуть нулевую гипотезу, нет оснований считать доли разными\n",
      "-------------\n",
      "\n",
      "Событие OffersScreenAppear\n",
      "Доли пользователей, совершивших событие 0.6210229561014902 и 0.6050955414012739\n",
      "Нулевая гипотеза: доли пользователей, совершивших это событие, в данных группах равны\n",
      "Альтернативная гипотеза: доли пользователей, совершивших это событие, в данных группах не равны\n",
      "p_value равно 0.24786096925282264\n",
      "Не получилось отвергнуть нулевую гипотезу, нет оснований считать доли разными\n",
      "-------------\n",
      "\n",
      "Событие CartScreenAppear\n",
      "Доли пользователей, совершивших событие 0.5098670962545309 и 0.4928343949044586\n",
      "Нулевая гипотеза: доли пользователей, совершивших это событие, в данных группах равны\n",
      "Альтернативная гипотеза: доли пользователей, совершивших это событие, в данных группах не равны\n",
      "p_value равно 0.22867643757335676\n",
      "Не получилось отвергнуть нулевую гипотезу, нет оснований считать доли разными\n",
      "-------------\n",
      "\n",
      "Событие PaymentScreenSuccessful\n",
      "Доли пользователей, совершивших событие 0.4832863471606927 и 0.4609872611464968\n",
      "Нулевая гипотеза: доли пользователей, совершивших это событие, в данных группах равны\n",
      "Альтернативная гипотеза: доли пользователей, совершивших это событие, в данных группах не равны\n",
      "p_value равно 0.11446627829276612\n",
      "Не получилось отвергнуть нулевую гипотезу, нет оснований считать доли разными\n",
      "-------------\n",
      "\n"
     ]
    }
   ],
   "source": [
    "# Проверим гипотезу, что между долями контрольных групп нет разницы:\n",
    "abtest(df_new,[246,247], 0.05, 'Первая контрольная','и вторая контрольная')\n"
   ]
  },
  {
   "cell_type": "markdown",
   "metadata": {},
   "source": [
    "**Вывод:** Разделение контрольных групп сделано корректно."
   ]
  },
  {
   "cell_type": "code",
   "execution_count": 28,
   "metadata": {},
   "outputs": [
    {
     "name": "stdout",
     "output_type": "stream",
     "text": [
      "\u001b[1mГруппы: Первая контрольная и экспериментальная\n",
      "\u001b[0m\n",
      "Событие MainScreenAppear\n",
      "Доли пользователей, совершивших событие 0.9867096254530809 и 0.9834319526627219\n",
      "Нулевая гипотеза: доли пользователей, совершивших это событие, в данных группах равны\n",
      "Альтернативная гипотеза: доли пользователей, совершивших это событие, в данных группах не равны\n",
      "p_value равно 0.3387114076159288\n",
      "Не получилось отвергнуть нулевую гипотезу, нет оснований считать доли разными\n",
      "-------------\n",
      "\n",
      "Событие OffersScreenAppear\n",
      "Доли пользователей, совершивших событие 0.6210229561014902 и 0.6039447731755424\n",
      "Нулевая гипотеза: доли пользователей, совершивших это событие, в данных группах равны\n",
      "Альтернативная гипотеза: доли пользователей, совершивших это событие, в данных группах не равны\n",
      "p_value равно 0.21442476639710506\n",
      "Не получилось отвергнуть нулевую гипотезу, нет оснований считать доли разными\n",
      "-------------\n",
      "\n",
      "Событие CartScreenAppear\n",
      "Доли пользователей, совершивших событие 0.5098670962545309 и 0.48520710059171596\n",
      "Нулевая гипотеза: доли пользователей, совершивших это событие, в данных группах равны\n",
      "Альтернативная гипотеза: доли пользователей, совершивших это событие, в данных группах не равны\n",
      "p_value равно 0.08067367598823139\n",
      "Не получилось отвергнуть нулевую гипотезу, нет оснований считать доли разными\n",
      "-------------\n",
      "\n",
      "Событие PaymentScreenSuccessful\n",
      "Доли пользователей, совершивших событие 0.4832863471606927 и 0.4658777120315582\n",
      "Нулевая гипотеза: доли пользователей, совершивших это событие, в данных группах равны\n",
      "Альтернативная гипотеза: доли пользователей, совершивших это событие, в данных группах не равны\n",
      "p_value равно 0.21693033984516674\n",
      "Не получилось отвергнуть нулевую гипотезу, нет оснований считать доли разными\n",
      "-------------\n",
      "\n"
     ]
    }
   ],
   "source": [
    "# Проверим гипотезу, что между долями первой контрольной группы и экспериментальной группы нет разницы:\n",
    "abtest(df_new,[246,248], 0.05, 'Первая контрольная','и экспериментальная')"
   ]
  },
  {
   "cell_type": "code",
   "execution_count": 29,
   "metadata": {},
   "outputs": [
    {
     "name": "stdout",
     "output_type": "stream",
     "text": [
      "\u001b[1mГруппы: Вторая контрольная и экспериментальная\n",
      "\u001b[0m\n",
      "Событие MainScreenAppear\n",
      "Доли пользователей, совершивших событие 0.9856687898089171 и 0.9834319526627219\n",
      "Нулевая гипотеза: доли пользователей, совершивших это событие, в данных группах равны\n",
      "Альтернативная гипотеза: доли пользователей, совершивших это событие, в данных группах не равны\n",
      "p_value равно 0.5194964354051703\n",
      "Не получилось отвергнуть нулевую гипотезу, нет оснований считать доли разными\n",
      "-------------\n",
      "\n",
      "Событие OffersScreenAppear\n",
      "Доли пользователей, совершивших событие 0.6050955414012739 и 0.6039447731755424\n",
      "Нулевая гипотеза: доли пользователей, совершивших это событие, в данных группах равны\n",
      "Альтернативная гипотеза: доли пользователей, совершивших это событие, в данных группах не равны\n",
      "p_value равно 0.9333751305879443\n",
      "Не получилось отвергнуть нулевую гипотезу, нет оснований считать доли разными\n",
      "-------------\n",
      "\n",
      "Событие CartScreenAppear\n",
      "Доли пользователей, совершивших событие 0.4928343949044586 и 0.48520710059171596\n",
      "Нулевая гипотеза: доли пользователей, совершивших это событие, в данных группах равны\n",
      "Альтернативная гипотеза: доли пользователей, совершивших это событие, в данных группах не равны\n",
      "p_value равно 0.5878284605111943\n",
      "Не получилось отвергнуть нулевую гипотезу, нет оснований считать доли разными\n",
      "-------------\n",
      "\n",
      "Событие PaymentScreenSuccessful\n",
      "Доли пользователей, совершивших событие 0.4609872611464968 и 0.4658777120315582\n",
      "Нулевая гипотеза: доли пользователей, совершивших это событие, в данных группах равны\n",
      "Альтернативная гипотеза: доли пользователей, совершивших это событие, в данных группах не равны\n",
      "p_value равно 0.7275718682261119\n",
      "Не получилось отвергнуть нулевую гипотезу, нет оснований считать доли разными\n",
      "-------------\n",
      "\n"
     ]
    }
   ],
   "source": [
    "# И гипотезу, что между долями второй контрольной группы и экспериментальной группы нет разницы:\n",
    "abtest(df_new,[247,248], 0.05, 'Вторая контрольная','и экспериментальная')"
   ]
  },
  {
   "cell_type": "code",
   "execution_count": 30,
   "metadata": {},
   "outputs": [
    {
     "name": "stdout",
     "output_type": "stream",
     "text": [
      "\u001b[1mГруппы: Объединённая контрольная и экспериментальная\n",
      "\u001b[0m\n",
      "Событие MainScreenAppear\n",
      "Доли пользователей, совершивших событие 0.9861861861861861 и 0.9834319526627219\n",
      "Нулевая гипотеза: доли пользователей, совершивших это событие, в данных группах равны\n",
      "Альтернативная гипотеза: доли пользователей, совершивших это событие, в данных группах не равны\n",
      "p_value равно 0.3486684291093256\n",
      "Не получилось отвергнуть нулевую гипотезу, нет оснований считать доли разными\n",
      "-------------\n",
      "\n",
      "Событие OffersScreenAppear\n",
      "Доли пользователей, совершивших событие 0.613013013013013 и 0.6039447731755424\n",
      "Нулевая гипотеза: доли пользователей, совершивших это событие, в данных группах равны\n",
      "Альтернативная гипотеза: доли пользователей, совершивших это событие, в данных группах не равны\n",
      "p_value равно 0.44582745409482394\n",
      "Не получилось отвергнуть нулевую гипотезу, нет оснований считать доли разными\n",
      "-------------\n",
      "\n",
      "Событие CartScreenAppear\n",
      "Доли пользователей, совершивших событие 0.5013013013013013 и 0.48520710059171596\n",
      "Нулевая гипотеза: доли пользователей, совершивших это событие, в данных группах равны\n",
      "Альтернативная гипотеза: доли пользователей, совершивших это событие, в данных группах не равны\n",
      "p_value равно 0.18683558686831558\n",
      "Не получилось отвергнуть нулевую гипотезу, нет оснований считать доли разными\n",
      "-------------\n",
      "\n",
      "Событие PaymentScreenSuccessful\n",
      "Доли пользователей, совершивших событие 0.4720720720720721 и 0.4658777120315582\n",
      "Нулевая гипотеза: доли пользователей, совершивших это событие, в данных группах равны\n",
      "Альтернативная гипотеза: доли пользователей, совершивших это событие, в данных группах не равны\n",
      "p_value равно 0.6107918742187335\n",
      "Не получилось отвергнуть нулевую гипотезу, нет оснований считать доли разными\n",
      "-------------\n",
      "\n"
     ]
    }
   ],
   "source": [
    "# Теперь проверим гипотезу, что между долями двух контрольных групп и экспериментальной группы нет разницы:\n",
    "df_allA = df_new\n",
    "df_allA['exp_id'] = df_new['exp_id'].replace(246, 300)\n",
    "df_allA['exp_id'] = df_new['exp_id'].replace(247, 300)\n",
    "abtest(df_new,[300,248], 0.05, 'Объединённая контрольная', 'и экспериментальная')"
   ]
  },
  {
   "cell_type": "markdown",
   "metadata": {},
   "source": [
    "**Вывод:** эксперимент не удался, статистически значимых отличий между группами нет."
   ]
  },
  {
   "cell_type": "markdown",
   "metadata": {},
   "source": [
    "## Выводы"
   ]
  },
  {
   "cell_type": "markdown",
   "metadata": {},
   "source": [
    "1. Доступна информация о 244126 совершённых событиях, пропущенных значений нет, время события указано не в удобном для анализа формате, поэтому в датафрейм добавлены столбцы с временем и датой, и датой в формате datetime.\n",
    "2. В логе 5 уникальных событий и 7551 уникальных пользователей. Среднее количество событий на одного пользователя 32.33.\n",
    "3. Т.к. событий до 1 августа 2019г. в логе представлено мало, для дальнейшего анализа взяли данные по совершенным событиям с 1 августа 2019г. \n",
    "4. Многие пользователи остаются на этапе 'открытие главной страницы', туториал открывают редко. Некоторая часть пользователей не открывала главную страницу. Возможно были технические проблемы с отсылкой информации на сервер.\n",
    "5. При анализе воронки определили, что при переходе с главной на страницу товара было потеряно больше всего пользователей 38.09%. Всего 50.33% пользователей дошли от первого шага (главная страница) до оплаты и только 47.7% завершили заказ успешно.\n",
    "6. На основании проверки гипотезы сделали вывод, что контрольные группы разделены корректно.\n",
    "7. А/В-тест показал, что эксперимент не удался, шрифт менять не рекомендуется."
   ]
  }
 ],
 "metadata": {
  "ExecuteTimeLog": [
   {
    "duration": 1596,
    "start_time": "2021-11-25T19:45:44.276Z"
   },
   {
    "duration": 447,
    "start_time": "2021-11-25T19:46:46.235Z"
   },
   {
    "duration": 32,
    "start_time": "2021-11-25T19:47:22.228Z"
   },
   {
    "duration": 28,
    "start_time": "2021-11-25T19:47:52.165Z"
   },
   {
    "duration": 169,
    "start_time": "2021-11-25T19:48:22.623Z"
   },
   {
    "duration": 33,
    "start_time": "2021-11-25T19:48:26.182Z"
   },
   {
    "duration": 31,
    "start_time": "2021-11-25T19:48:48.740Z"
   },
   {
    "duration": 1253,
    "start_time": "2021-11-25T19:59:32.225Z"
   },
   {
    "duration": 4,
    "start_time": "2021-11-25T19:59:44.048Z"
   },
   {
    "duration": 22,
    "start_time": "2021-11-25T19:59:51.146Z"
   },
   {
    "duration": 7869,
    "start_time": "2021-11-25T20:02:02.993Z"
   },
   {
    "duration": 13,
    "start_time": "2021-11-25T20:02:16.294Z"
   },
   {
    "duration": 23,
    "start_time": "2021-11-25T20:02:24.293Z"
   },
   {
    "duration": 18,
    "start_time": "2021-11-25T20:02:36.094Z"
   },
   {
    "duration": 27,
    "start_time": "2021-11-25T20:04:14.730Z"
   },
   {
    "duration": 19,
    "start_time": "2021-11-25T20:11:16.564Z"
   },
   {
    "duration": 138,
    "start_time": "2021-11-25T20:15:04.981Z"
   },
   {
    "duration": 1632,
    "start_time": "2021-11-25T20:15:39.725Z"
   },
   {
    "duration": 164,
    "start_time": "2021-11-25T20:15:41.360Z"
   },
   {
    "duration": 49,
    "start_time": "2021-11-25T20:15:41.527Z"
   },
   {
    "duration": 4,
    "start_time": "2021-11-25T20:15:41.578Z"
   },
   {
    "duration": 146,
    "start_time": "2021-11-25T20:15:50.467Z"
   },
   {
    "duration": 54,
    "start_time": "2021-11-25T20:16:08.298Z"
   },
   {
    "duration": 32,
    "start_time": "2021-11-25T20:17:18.319Z"
   },
   {
    "duration": 46,
    "start_time": "2021-11-25T20:17:30.697Z"
   },
   {
    "duration": 26,
    "start_time": "2021-11-25T20:17:39.861Z"
   },
   {
    "duration": 104,
    "start_time": "2021-11-25T20:19:06.393Z"
   },
   {
    "duration": 37,
    "start_time": "2021-11-25T20:19:11.144Z"
   },
   {
    "duration": 48,
    "start_time": "2021-11-25T20:19:28.072Z"
   },
   {
    "duration": 440,
    "start_time": "2021-11-25T20:25:00.148Z"
   },
   {
    "duration": 114,
    "start_time": "2021-11-25T20:25:22.922Z"
   },
   {
    "duration": 111,
    "start_time": "2021-11-25T20:25:27.956Z"
   },
   {
    "duration": 133,
    "start_time": "2021-11-25T20:25:38.371Z"
   },
   {
    "duration": 5,
    "start_time": "2021-11-25T20:31:18.690Z"
   },
   {
    "duration": 165,
    "start_time": "2021-11-25T20:31:35.716Z"
   },
   {
    "duration": 57,
    "start_time": "2021-11-25T20:31:42.139Z"
   },
   {
    "duration": 5,
    "start_time": "2021-11-25T20:32:04.676Z"
   },
   {
    "duration": 161,
    "start_time": "2021-11-25T20:32:07.516Z"
   },
   {
    "duration": 33,
    "start_time": "2021-11-25T20:32:08.271Z"
   },
   {
    "duration": 4,
    "start_time": "2021-11-25T20:32:10.987Z"
   },
   {
    "duration": 59,
    "start_time": "2021-11-25T20:32:11.972Z"
   },
   {
    "duration": 169,
    "start_time": "2021-11-25T20:33:17.230Z"
   },
   {
    "duration": 32,
    "start_time": "2021-11-25T20:33:18.726Z"
   },
   {
    "duration": 7482,
    "start_time": "2021-11-25T20:39:43.922Z"
   },
   {
    "duration": 5,
    "start_time": "2021-11-25T20:40:03.600Z"
   },
   {
    "duration": 160,
    "start_time": "2021-11-25T20:40:03.609Z"
   },
   {
    "duration": 32,
    "start_time": "2021-11-25T20:40:03.773Z"
   },
   {
    "duration": 4,
    "start_time": "2021-11-25T20:40:03.808Z"
   },
   {
    "duration": 5,
    "start_time": "2021-11-25T20:40:05.841Z"
   },
   {
    "duration": 37,
    "start_time": "2021-11-25T20:40:06.610Z"
   },
   {
    "duration": 127,
    "start_time": "2021-11-25T20:40:30.105Z"
   },
   {
    "duration": 22,
    "start_time": "2021-11-25T20:43:05.535Z"
   },
   {
    "duration": 95,
    "start_time": "2021-11-25T20:43:19.471Z"
   },
   {
    "duration": 20,
    "start_time": "2021-11-25T20:43:38.352Z"
   },
   {
    "duration": 8,
    "start_time": "2021-11-25T20:45:23.850Z"
   },
   {
    "duration": 21,
    "start_time": "2021-11-25T20:45:26.619Z"
   },
   {
    "duration": 323,
    "start_time": "2021-11-25T20:46:27.436Z"
   },
   {
    "duration": 21,
    "start_time": "2021-11-25T20:46:32.669Z"
   },
   {
    "duration": 20,
    "start_time": "2021-11-25T20:46:45.869Z"
   },
   {
    "duration": 7,
    "start_time": "2021-11-25T20:46:56.805Z"
   },
   {
    "duration": 1538,
    "start_time": "2021-11-26T16:37:32.103Z"
   },
   {
    "duration": 306,
    "start_time": "2021-11-26T16:37:33.644Z"
   },
   {
    "duration": 45,
    "start_time": "2021-11-26T16:37:33.953Z"
   },
   {
    "duration": 5,
    "start_time": "2021-11-26T16:37:34.001Z"
   },
   {
    "duration": 173,
    "start_time": "2021-11-26T16:37:34.009Z"
   },
   {
    "duration": 24,
    "start_time": "2021-11-26T16:37:34.185Z"
   },
   {
    "duration": 9,
    "start_time": "2021-11-26T16:37:34.211Z"
   },
   {
    "duration": 3,
    "start_time": "2021-11-26T16:37:34.222Z"
   },
   {
    "duration": 48,
    "start_time": "2021-11-26T16:47:08.447Z"
   },
   {
    "duration": 29,
    "start_time": "2021-11-26T16:47:37.520Z"
   },
   {
    "duration": 95,
    "start_time": "2021-11-26T16:48:09.146Z"
   },
   {
    "duration": 91,
    "start_time": "2021-11-26T16:48:40.691Z"
   },
   {
    "duration": 30,
    "start_time": "2021-11-26T16:48:51.354Z"
   },
   {
    "duration": 28,
    "start_time": "2021-11-26T16:49:07.268Z"
   },
   {
    "duration": 45,
    "start_time": "2021-11-26T16:52:46.129Z"
   },
   {
    "duration": 409,
    "start_time": "2021-11-26T16:56:17.045Z"
   },
   {
    "duration": 93,
    "start_time": "2021-11-26T16:58:03.785Z"
   },
   {
    "duration": 101,
    "start_time": "2021-11-26T16:58:15.466Z"
   },
   {
    "duration": 316,
    "start_time": "2021-11-26T17:03:22.075Z"
   },
   {
    "duration": 305,
    "start_time": "2021-11-26T17:03:32.153Z"
   },
   {
    "duration": 349,
    "start_time": "2021-11-26T17:03:43.146Z"
   },
   {
    "duration": 458,
    "start_time": "2021-11-26T17:05:46.070Z"
   },
   {
    "duration": 382,
    "start_time": "2021-11-26T17:06:08.927Z"
   },
   {
    "duration": 381,
    "start_time": "2021-11-26T17:06:27.527Z"
   },
   {
    "duration": 104,
    "start_time": "2021-11-26T17:26:25.481Z"
   },
   {
    "duration": 25,
    "start_time": "2021-11-26T17:27:49.601Z"
   },
   {
    "duration": 49,
    "start_time": "2021-11-26T17:28:01.249Z"
   },
   {
    "duration": 38,
    "start_time": "2021-11-26T17:28:38.771Z"
   },
   {
    "duration": 94,
    "start_time": "2021-11-26T17:34:01.283Z"
   },
   {
    "duration": 9,
    "start_time": "2021-11-26T17:34:07.586Z"
   },
   {
    "duration": 278,
    "start_time": "2021-11-26T17:34:38.253Z"
   },
   {
    "duration": 346,
    "start_time": "2021-11-26T17:35:11.403Z"
   },
   {
    "duration": 12,
    "start_time": "2021-11-26T17:36:04.527Z"
   },
   {
    "duration": 9,
    "start_time": "2021-11-26T17:36:11.831Z"
   },
   {
    "duration": 9,
    "start_time": "2021-11-26T17:36:23.313Z"
   },
   {
    "duration": 9,
    "start_time": "2021-11-26T17:36:39.040Z"
   },
   {
    "duration": 9,
    "start_time": "2021-11-26T17:36:50.776Z"
   },
   {
    "duration": 13,
    "start_time": "2021-11-26T17:43:19.195Z"
   },
   {
    "duration": 496,
    "start_time": "2021-11-26T18:01:40.817Z"
   },
   {
    "duration": 26779,
    "start_time": "2021-11-26T18:01:54.273Z"
   },
   {
    "duration": 490,
    "start_time": "2021-11-26T18:02:41.738Z"
   },
   {
    "duration": 27453,
    "start_time": "2021-11-26T18:02:54.658Z"
   },
   {
    "duration": 466,
    "start_time": "2021-11-26T18:03:32.886Z"
   },
   {
    "duration": 435,
    "start_time": "2021-11-26T18:03:52.934Z"
   },
   {
    "duration": 9,
    "start_time": "2021-11-26T18:06:28.472Z"
   },
   {
    "duration": 26945,
    "start_time": "2021-11-26T18:07:13.497Z"
   },
   {
    "duration": 26908,
    "start_time": "2021-11-26T18:07:40.445Z"
   },
   {
    "duration": 95,
    "start_time": "2021-11-26T18:11:34.873Z"
   },
   {
    "duration": 33966,
    "start_time": "2021-11-26T18:11:40.496Z"
   },
   {
    "duration": -104,
    "start_time": "2021-11-26T18:13:03.576Z"
   },
   {
    "duration": 26818,
    "start_time": "2021-11-26T18:13:12.811Z"
   },
   {
    "duration": 26960,
    "start_time": "2021-11-26T18:15:35.571Z"
   },
   {
    "duration": 27925,
    "start_time": "2021-11-26T18:16:57.857Z"
   },
   {
    "duration": 51,
    "start_time": "2021-11-26T18:19:54.454Z"
   },
   {
    "duration": 3009,
    "start_time": "2021-11-26T18:20:40.184Z"
   },
   {
    "duration": 45,
    "start_time": "2021-11-26T18:20:46.057Z"
   },
   {
    "duration": 39,
    "start_time": "2021-11-26T18:21:00.793Z"
   },
   {
    "duration": 54,
    "start_time": "2021-11-26T18:21:10.033Z"
   },
   {
    "duration": 574,
    "start_time": "2021-11-26T18:33:49.757Z"
   },
   {
    "duration": 580,
    "start_time": "2021-11-26T18:37:02.762Z"
   },
   {
    "duration": 590,
    "start_time": "2021-11-26T18:37:54.259Z"
   },
   {
    "duration": 718,
    "start_time": "2021-11-26T18:38:21.044Z"
   },
   {
    "duration": 98,
    "start_time": "2021-11-26T18:39:21.037Z"
   },
   {
    "duration": 105,
    "start_time": "2021-11-26T18:39:55.454Z"
   },
   {
    "duration": 19,
    "start_time": "2021-11-26T18:40:15.623Z"
   },
   {
    "duration": 436,
    "start_time": "2021-11-27T09:21:45.891Z"
   },
   {
    "duration": 1196,
    "start_time": "2021-11-27T09:22:15.631Z"
   },
   {
    "duration": 122,
    "start_time": "2021-11-27T09:22:16.829Z"
   },
   {
    "duration": 25,
    "start_time": "2021-11-27T09:22:16.954Z"
   },
   {
    "duration": 4,
    "start_time": "2021-11-27T09:22:16.981Z"
   },
   {
    "duration": 104,
    "start_time": "2021-11-27T09:22:16.986Z"
   },
   {
    "duration": 20,
    "start_time": "2021-11-27T09:22:17.091Z"
   },
   {
    "duration": 7,
    "start_time": "2021-11-27T09:22:17.112Z"
   },
   {
    "duration": 48,
    "start_time": "2021-11-27T09:22:17.121Z"
   },
   {
    "duration": 108,
    "start_time": "2021-11-27T09:22:17.171Z"
   },
   {
    "duration": 1142,
    "start_time": "2021-11-27T09:29:38.492Z"
   },
   {
    "duration": 119,
    "start_time": "2021-11-27T09:29:39.636Z"
   },
   {
    "duration": 25,
    "start_time": "2021-11-27T09:29:39.757Z"
   },
   {
    "duration": 2,
    "start_time": "2021-11-27T09:29:39.784Z"
   },
   {
    "duration": 98,
    "start_time": "2021-11-27T09:29:39.788Z"
   },
   {
    "duration": 23,
    "start_time": "2021-11-27T09:29:39.888Z"
   },
   {
    "duration": 6,
    "start_time": "2021-11-27T09:29:39.912Z"
   },
   {
    "duration": 39,
    "start_time": "2021-11-27T09:29:39.920Z"
   },
   {
    "duration": 81,
    "start_time": "2021-11-27T09:29:39.960Z"
   },
   {
    "duration": 1280,
    "start_time": "2021-11-27T09:31:47.789Z"
   },
   {
    "duration": 129,
    "start_time": "2021-11-27T09:31:49.071Z"
   },
   {
    "duration": 30,
    "start_time": "2021-11-27T09:31:49.202Z"
   },
   {
    "duration": 2,
    "start_time": "2021-11-27T09:31:49.235Z"
   },
   {
    "duration": 111,
    "start_time": "2021-11-27T09:31:49.239Z"
   },
   {
    "duration": 15,
    "start_time": "2021-11-27T09:31:49.352Z"
   },
   {
    "duration": 5,
    "start_time": "2021-11-27T09:31:49.369Z"
   },
   {
    "duration": 57,
    "start_time": "2021-11-27T09:31:49.376Z"
   },
   {
    "duration": 81,
    "start_time": "2021-11-27T09:31:49.435Z"
   },
   {
    "duration": 28,
    "start_time": "2021-11-27T09:31:52.202Z"
   },
   {
    "duration": 33,
    "start_time": "2021-11-27T09:32:07.480Z"
   },
   {
    "duration": 28,
    "start_time": "2021-11-27T09:32:19.650Z"
   },
   {
    "duration": 1124,
    "start_time": "2021-11-27T09:34:18.144Z"
   },
   {
    "duration": 127,
    "start_time": "2021-11-27T09:34:19.270Z"
   },
   {
    "duration": 27,
    "start_time": "2021-11-27T09:34:19.399Z"
   },
   {
    "duration": 2,
    "start_time": "2021-11-27T09:34:19.428Z"
   },
   {
    "duration": 110,
    "start_time": "2021-11-27T09:34:19.432Z"
   },
   {
    "duration": 15,
    "start_time": "2021-11-27T09:34:19.544Z"
   },
   {
    "duration": 6,
    "start_time": "2021-11-27T09:34:19.562Z"
   },
   {
    "duration": 51,
    "start_time": "2021-11-27T09:34:19.570Z"
   },
   {
    "duration": 69,
    "start_time": "2021-11-27T09:34:19.623Z"
   },
   {
    "duration": 28,
    "start_time": "2021-11-27T09:34:25.678Z"
   },
   {
    "duration": 1119,
    "start_time": "2021-11-27T09:37:41.743Z"
   },
   {
    "duration": 133,
    "start_time": "2021-11-27T09:37:42.865Z"
   },
   {
    "duration": 25,
    "start_time": "2021-11-27T09:37:43.000Z"
   },
   {
    "duration": 3,
    "start_time": "2021-11-27T09:37:43.027Z"
   },
   {
    "duration": 105,
    "start_time": "2021-11-27T09:37:43.031Z"
   },
   {
    "duration": 15,
    "start_time": "2021-11-27T09:37:43.138Z"
   },
   {
    "duration": 6,
    "start_time": "2021-11-27T09:37:43.154Z"
   },
   {
    "duration": 55,
    "start_time": "2021-11-27T09:37:43.162Z"
   },
   {
    "duration": 70,
    "start_time": "2021-11-27T09:37:43.219Z"
   },
   {
    "duration": 31,
    "start_time": "2021-11-27T09:37:45.812Z"
   },
   {
    "duration": 28,
    "start_time": "2021-11-27T09:38:02.637Z"
   },
   {
    "duration": 384,
    "start_time": "2021-11-27T09:45:29.512Z"
   },
   {
    "duration": 1113,
    "start_time": "2021-11-27T09:45:35.929Z"
   },
   {
    "duration": 128,
    "start_time": "2021-11-27T09:45:37.044Z"
   },
   {
    "duration": 32,
    "start_time": "2021-11-27T09:45:37.174Z"
   },
   {
    "duration": 3,
    "start_time": "2021-11-27T09:45:37.208Z"
   },
   {
    "duration": 120,
    "start_time": "2021-11-27T09:45:37.212Z"
   },
   {
    "duration": 16,
    "start_time": "2021-11-27T09:45:37.333Z"
   },
   {
    "duration": 5,
    "start_time": "2021-11-27T09:45:37.351Z"
   },
   {
    "duration": 53,
    "start_time": "2021-11-27T09:45:37.358Z"
   },
   {
    "duration": 71,
    "start_time": "2021-11-27T09:45:37.413Z"
   },
   {
    "duration": 1479,
    "start_time": "2021-11-27T09:46:04.517Z"
   },
   {
    "duration": 43,
    "start_time": "2021-11-27T09:46:30.902Z"
   },
   {
    "duration": 52,
    "start_time": "2021-11-27T09:46:54.647Z"
   },
   {
    "duration": 41,
    "start_time": "2021-11-27T09:47:04.999Z"
   },
   {
    "duration": 51,
    "start_time": "2021-11-27T09:47:13.871Z"
   },
   {
    "duration": 42,
    "start_time": "2021-11-27T09:47:25.839Z"
   },
   {
    "duration": 1123,
    "start_time": "2021-11-27T09:49:35.222Z"
   },
   {
    "duration": 127,
    "start_time": "2021-11-27T09:49:36.347Z"
   },
   {
    "duration": 30,
    "start_time": "2021-11-27T09:49:36.476Z"
   },
   {
    "duration": 3,
    "start_time": "2021-11-27T09:49:36.508Z"
   },
   {
    "duration": 102,
    "start_time": "2021-11-27T09:49:36.513Z"
   },
   {
    "duration": 15,
    "start_time": "2021-11-27T09:49:36.616Z"
   },
   {
    "duration": 6,
    "start_time": "2021-11-27T09:49:36.633Z"
   },
   {
    "duration": 46,
    "start_time": "2021-11-27T09:49:36.641Z"
   },
   {
    "duration": 85,
    "start_time": "2021-11-27T09:49:36.689Z"
   },
   {
    "duration": 255,
    "start_time": "2021-11-27T09:49:36.776Z"
   },
   {
    "duration": 14,
    "start_time": "2021-11-27T09:49:37.033Z"
   },
   {
    "duration": 7,
    "start_time": "2021-11-27T09:49:37.049Z"
   },
   {
    "duration": 1990,
    "start_time": "2021-11-27T09:49:37.058Z"
   },
   {
    "duration": 33,
    "start_time": "2021-11-27T09:49:39.050Z"
   },
   {
    "duration": 305,
    "start_time": "2021-11-27T09:49:39.085Z"
   },
   {
    "duration": 291,
    "start_time": "2021-11-27T09:49:39.393Z"
   },
   {
    "duration": 294,
    "start_time": "2021-11-27T09:49:39.686Z"
   },
   {
    "duration": 13,
    "start_time": "2021-11-27T09:49:39.982Z"
   },
   {
    "duration": 436,
    "start_time": "2021-11-27T09:53:15.044Z"
   },
   {
    "duration": 24,
    "start_time": "2021-11-27T09:54:05.623Z"
   },
   {
    "duration": 22,
    "start_time": "2021-11-27T09:54:52.095Z"
   },
   {
    "duration": 51,
    "start_time": "2021-11-27T10:05:25.936Z"
   },
   {
    "duration": 52,
    "start_time": "2021-11-27T10:05:57.418Z"
   },
   {
    "duration": 56,
    "start_time": "2021-11-27T10:12:48.516Z"
   },
   {
    "duration": 52,
    "start_time": "2021-11-27T10:13:10.956Z"
   },
   {
    "duration": 475,
    "start_time": "2021-11-27T10:15:23.552Z"
   },
   {
    "duration": 59,
    "start_time": "2021-11-27T10:15:34.200Z"
   },
   {
    "duration": 62,
    "start_time": "2021-11-27T10:15:52.272Z"
   },
   {
    "duration": -1387,
    "start_time": "2021-11-27T10:52:23.312Z"
   },
   {
    "duration": 4,
    "start_time": "2021-11-27T10:52:44.836Z"
   },
   {
    "duration": 10,
    "start_time": "2021-11-27T10:52:54.060Z"
   },
   {
    "duration": 9,
    "start_time": "2021-11-27T10:53:24.976Z"
   },
   {
    "duration": 82,
    "start_time": "2021-11-27T10:54:39.496Z"
   },
   {
    "duration": 58,
    "start_time": "2021-11-27T10:55:37.285Z"
   },
   {
    "duration": 9,
    "start_time": "2021-11-27T10:56:36.268Z"
   },
   {
    "duration": 4,
    "start_time": "2021-11-27T10:56:44.874Z"
   },
   {
    "duration": 9,
    "start_time": "2021-11-27T10:58:47.335Z"
   },
   {
    "duration": 2,
    "start_time": "2021-11-27T11:01:33.627Z"
   },
   {
    "duration": 29,
    "start_time": "2021-11-27T11:07:08.099Z"
   },
   {
    "duration": 115,
    "start_time": "2021-11-27T11:17:34.215Z"
   },
   {
    "duration": 120,
    "start_time": "2021-11-27T11:17:44.884Z"
   },
   {
    "duration": 16,
    "start_time": "2021-11-27T11:30:08.320Z"
   },
   {
    "duration": 13,
    "start_time": "2021-11-27T11:30:20.976Z"
   },
   {
    "duration": 14,
    "start_time": "2021-11-27T11:32:36.033Z"
   },
   {
    "duration": 10,
    "start_time": "2021-11-27T11:38:40.728Z"
   },
   {
    "duration": 8,
    "start_time": "2021-11-27T11:40:24.570Z"
   },
   {
    "duration": 19,
    "start_time": "2021-11-27T11:40:34.570Z"
   },
   {
    "duration": 29,
    "start_time": "2021-11-27T11:40:47.930Z"
   },
   {
    "duration": 31,
    "start_time": "2021-11-27T11:41:14.084Z"
   },
   {
    "duration": 42,
    "start_time": "2021-11-27T11:41:48.940Z"
   },
   {
    "duration": 10,
    "start_time": "2021-11-27T11:42:17.694Z"
   },
   {
    "duration": 4,
    "start_time": "2021-11-27T11:42:47.302Z"
   },
   {
    "duration": 125,
    "start_time": "2021-11-27T11:42:47.308Z"
   },
   {
    "duration": 21,
    "start_time": "2021-11-27T11:42:47.435Z"
   },
   {
    "duration": 3,
    "start_time": "2021-11-27T11:42:47.458Z"
   },
   {
    "duration": 100,
    "start_time": "2021-11-27T11:42:47.463Z"
   },
   {
    "duration": 13,
    "start_time": "2021-11-27T11:42:47.565Z"
   },
   {
    "duration": 8,
    "start_time": "2021-11-27T11:42:47.580Z"
   },
   {
    "duration": 53,
    "start_time": "2021-11-27T11:42:47.589Z"
   },
   {
    "duration": 11,
    "start_time": "2021-11-27T11:42:47.643Z"
   },
   {
    "duration": 9,
    "start_time": "2021-11-27T11:42:49.764Z"
   },
   {
    "duration": 8,
    "start_time": "2021-11-27T11:42:57.994Z"
   },
   {
    "duration": 8,
    "start_time": "2021-11-27T11:45:20.273Z"
   },
   {
    "duration": 8,
    "start_time": "2021-11-27T11:45:23.288Z"
   },
   {
    "duration": 12,
    "start_time": "2021-11-27T11:47:37.021Z"
   },
   {
    "duration": 12,
    "start_time": "2021-11-27T11:47:52.013Z"
   },
   {
    "duration": 9,
    "start_time": "2021-11-27T11:48:09.062Z"
   },
   {
    "duration": 10,
    "start_time": "2021-11-27T11:49:15.504Z"
   },
   {
    "duration": 8,
    "start_time": "2021-11-27T11:49:31.921Z"
   },
   {
    "duration": 20,
    "start_time": "2021-11-27T11:55:08.046Z"
   },
   {
    "duration": 13,
    "start_time": "2021-11-27T11:55:23.837Z"
   },
   {
    "duration": 69,
    "start_time": "2021-11-27T11:55:59.899Z"
   },
   {
    "duration": 239,
    "start_time": "2021-11-27T11:56:11.307Z"
   },
   {
    "duration": 16,
    "start_time": "2021-11-27T11:56:32.907Z"
   },
   {
    "duration": 7,
    "start_time": "2021-11-27T11:56:34.547Z"
   },
   {
    "duration": 2234,
    "start_time": "2021-11-27T11:56:44.572Z"
   },
   {
    "duration": 30,
    "start_time": "2021-11-27T11:56:54.732Z"
   },
   {
    "duration": 105,
    "start_time": "2021-11-27T12:00:14.162Z"
   },
   {
    "duration": 437,
    "start_time": "2021-11-27T12:03:34.831Z"
   },
   {
    "duration": 352,
    "start_time": "2021-11-27T12:04:01.297Z"
   },
   {
    "duration": 381,
    "start_time": "2021-11-27T12:04:11.928Z"
   },
   {
    "duration": 354,
    "start_time": "2021-11-27T12:05:48.363Z"
   },
   {
    "duration": 363,
    "start_time": "2021-11-27T12:06:56.180Z"
   },
   {
    "duration": 4,
    "start_time": "2021-11-27T12:08:06.221Z"
   },
   {
    "duration": 127,
    "start_time": "2021-11-27T12:08:06.228Z"
   },
   {
    "duration": 25,
    "start_time": "2021-11-27T12:08:06.357Z"
   },
   {
    "duration": 3,
    "start_time": "2021-11-27T12:08:06.385Z"
   },
   {
    "duration": 117,
    "start_time": "2021-11-27T12:08:06.390Z"
   },
   {
    "duration": 83,
    "start_time": "2021-11-27T12:08:06.509Z"
   },
   {
    "duration": 96,
    "start_time": "2021-11-27T12:08:14.382Z"
   },
   {
    "duration": 172,
    "start_time": "2021-11-27T12:08:29.463Z"
   },
   {
    "duration": 158,
    "start_time": "2021-11-27T12:08:39.856Z"
   },
   {
    "duration": 14,
    "start_time": "2021-11-27T12:09:10.955Z"
   },
   {
    "duration": 7,
    "start_time": "2021-11-27T12:09:11.840Z"
   },
   {
    "duration": 348,
    "start_time": "2021-11-27T12:09:31.457Z"
   },
   {
    "duration": 131,
    "start_time": "2021-11-27T12:09:53.812Z"
   },
   {
    "duration": 14,
    "start_time": "2021-11-27T12:09:57.113Z"
   },
   {
    "duration": 5,
    "start_time": "2021-11-27T12:09:57.793Z"
   },
   {
    "duration": 6,
    "start_time": "2021-11-27T12:10:21.536Z"
   },
   {
    "duration": 18,
    "start_time": "2021-11-27T12:10:24.926Z"
   },
   {
    "duration": 10,
    "start_time": "2021-11-27T12:10:28.795Z"
   },
   {
    "duration": 4,
    "start_time": "2021-11-27T12:11:40.174Z"
   },
   {
    "duration": 120,
    "start_time": "2021-11-27T12:11:40.180Z"
   },
   {
    "duration": 23,
    "start_time": "2021-11-27T12:11:40.302Z"
   },
   {
    "duration": 3,
    "start_time": "2021-11-27T12:11:40.327Z"
   },
   {
    "duration": 102,
    "start_time": "2021-11-27T12:11:40.332Z"
   },
   {
    "duration": 14,
    "start_time": "2021-11-27T12:11:43.867Z"
   },
   {
    "duration": 5,
    "start_time": "2021-11-27T12:11:44.646Z"
   },
   {
    "duration": 24,
    "start_time": "2021-11-27T12:11:45.619Z"
   },
   {
    "duration": 11,
    "start_time": "2021-11-27T12:11:47.900Z"
   },
   {
    "duration": 8,
    "start_time": "2021-11-27T12:11:53.711Z"
   },
   {
    "duration": 8,
    "start_time": "2021-11-27T12:11:56.068Z"
   },
   {
    "duration": 21,
    "start_time": "2021-11-27T12:11:59.280Z"
   },
   {
    "duration": 68,
    "start_time": "2021-11-27T12:12:00.460Z"
   },
   {
    "duration": 250,
    "start_time": "2021-11-27T12:15:02.153Z"
   },
   {
    "duration": 348,
    "start_time": "2021-11-27T12:18:22.865Z"
   },
   {
    "duration": 27,
    "start_time": "2021-11-27T12:18:32.336Z"
   },
   {
    "duration": 29,
    "start_time": "2021-11-27T12:19:09.913Z"
   },
   {
    "duration": 546,
    "start_time": "2021-11-27T12:19:52.081Z"
   },
   {
    "duration": 354,
    "start_time": "2021-11-27T12:20:04.962Z"
   },
   {
    "duration": 397,
    "start_time": "2021-11-27T12:20:33.789Z"
   },
   {
    "duration": 311,
    "start_time": "2021-11-27T12:20:42.819Z"
   },
   {
    "duration": 308,
    "start_time": "2021-11-27T12:21:39.316Z"
   },
   {
    "duration": 300,
    "start_time": "2021-11-27T12:21:47.318Z"
   },
   {
    "duration": 311,
    "start_time": "2021-11-27T12:22:02.116Z"
   },
   {
    "duration": 54,
    "start_time": "2021-11-27T15:16:22.880Z"
   },
   {
    "duration": 50,
    "start_time": "2021-11-27T15:16:54.053Z"
   },
   {
    "duration": 53,
    "start_time": "2021-11-27T15:17:17.041Z"
   },
   {
    "duration": 4,
    "start_time": "2021-11-27T15:27:39.107Z"
   },
   {
    "duration": 124,
    "start_time": "2021-11-27T15:27:39.113Z"
   },
   {
    "duration": 22,
    "start_time": "2021-11-27T15:27:39.240Z"
   },
   {
    "duration": 2,
    "start_time": "2021-11-27T15:27:39.264Z"
   },
   {
    "duration": 102,
    "start_time": "2021-11-27T15:27:39.268Z"
   },
   {
    "duration": 13,
    "start_time": "2021-11-27T15:27:39.372Z"
   },
   {
    "duration": 19,
    "start_time": "2021-11-27T15:27:39.388Z"
   },
   {
    "duration": 36,
    "start_time": "2021-11-27T15:27:39.410Z"
   },
   {
    "duration": 11,
    "start_time": "2021-11-27T15:27:39.447Z"
   },
   {
    "duration": 18,
    "start_time": "2021-11-27T15:27:39.460Z"
   },
   {
    "duration": 19,
    "start_time": "2021-11-27T15:27:39.479Z"
   },
   {
    "duration": 26,
    "start_time": "2021-11-27T15:27:39.500Z"
   },
   {
    "duration": 67,
    "start_time": "2021-11-27T15:27:39.528Z"
   },
   {
    "duration": 245,
    "start_time": "2021-11-27T15:27:39.596Z"
   },
   {
    "duration": 302,
    "start_time": "2021-11-27T15:27:39.843Z"
   },
   {
    "duration": 15,
    "start_time": "2021-11-27T15:27:40.147Z"
   },
   {
    "duration": 7,
    "start_time": "2021-11-27T15:27:40.164Z"
   },
   {
    "duration": 1972,
    "start_time": "2021-11-27T15:27:40.172Z"
   },
   {
    "duration": 28,
    "start_time": "2021-11-27T15:27:42.147Z"
   },
   {
    "duration": 24,
    "start_time": "2021-11-27T15:27:44.224Z"
   },
   {
    "duration": 50,
    "start_time": "2021-11-27T15:27:57.066Z"
   },
   {
    "duration": 5,
    "start_time": "2021-11-27T15:28:07.051Z"
   },
   {
    "duration": 114,
    "start_time": "2021-11-27T15:28:09.338Z"
   },
   {
    "duration": 362,
    "start_time": "2021-11-27T15:39:01.741Z"
   },
   {
    "duration": 193,
    "start_time": "2021-11-27T15:39:41.575Z"
   },
   {
    "duration": 187,
    "start_time": "2021-11-27T15:41:30.064Z"
   },
   {
    "duration": 185,
    "start_time": "2021-11-27T15:42:35.195Z"
   },
   {
    "duration": 198,
    "start_time": "2021-11-27T15:43:01.619Z"
   },
   {
    "duration": 4,
    "start_time": "2021-11-27T15:54:07.428Z"
   },
   {
    "duration": 107,
    "start_time": "2021-11-27T15:56:29.552Z"
   },
   {
    "duration": 136,
    "start_time": "2021-11-27T16:00:03.126Z"
   },
   {
    "duration": 119,
    "start_time": "2021-11-27T16:00:27.112Z"
   },
   {
    "duration": 350,
    "start_time": "2021-11-27T16:00:33.111Z"
   },
   {
    "duration": 9717,
    "start_time": "2021-11-27T16:00:55.579Z"
   },
   {
    "duration": 9,
    "start_time": "2021-11-27T16:01:05.363Z"
   },
   {
    "duration": 382,
    "start_time": "2021-11-27T16:02:05.043Z"
   },
   {
    "duration": 350,
    "start_time": "2021-11-27T16:02:23.030Z"
   },
   {
    "duration": 389,
    "start_time": "2021-11-27T16:03:00.131Z"
   },
   {
    "duration": 339,
    "start_time": "2021-11-27T16:04:16.222Z"
   },
   {
    "duration": 4,
    "start_time": "2021-11-27T16:06:49.626Z"
   },
   {
    "duration": 102,
    "start_time": "2021-11-27T16:06:59.995Z"
   },
   {
    "duration": 6,
    "start_time": "2021-11-27T16:08:46.389Z"
   },
   {
    "duration": 6,
    "start_time": "2021-11-27T16:08:58.220Z"
   },
   {
    "duration": 12,
    "start_time": "2021-11-27T16:09:09.484Z"
   },
   {
    "duration": 14,
    "start_time": "2021-11-27T16:09:45.045Z"
   },
   {
    "duration": 12,
    "start_time": "2021-11-27T16:10:35.655Z"
   },
   {
    "duration": 13,
    "start_time": "2021-11-27T16:10:54.704Z"
   },
   {
    "duration": 12,
    "start_time": "2021-11-27T16:11:07.303Z"
   },
   {
    "duration": 181,
    "start_time": "2021-11-27T16:19:00.516Z"
   },
   {
    "duration": 29,
    "start_time": "2021-11-27T16:23:34.439Z"
   },
   {
    "duration": 3,
    "start_time": "2021-11-27T16:49:48.223Z"
   },
   {
    "duration": 353,
    "start_time": "2021-11-27T17:05:01.439Z"
   },
   {
    "duration": 212,
    "start_time": "2021-11-27T17:05:06.231Z"
   },
   {
    "duration": 229,
    "start_time": "2021-11-27T17:06:18.768Z"
   },
   {
    "duration": 220,
    "start_time": "2021-11-27T17:55:27.047Z"
   },
   {
    "duration": 112,
    "start_time": "2021-11-27T17:58:41.543Z"
   },
   {
    "duration": 9,
    "start_time": "2021-11-27T17:59:20.937Z"
   },
   {
    "duration": 343,
    "start_time": "2021-11-27T17:59:24.035Z"
   },
   {
    "duration": 714,
    "start_time": "2021-11-27T17:59:38.846Z"
   },
   {
    "duration": 7,
    "start_time": "2021-11-27T18:01:15.266Z"
   },
   {
    "duration": 7,
    "start_time": "2021-11-27T18:01:31.020Z"
   },
   {
    "duration": 725,
    "start_time": "2021-11-27T18:01:33.258Z"
   },
   {
    "duration": 7,
    "start_time": "2021-11-27T18:02:12.579Z"
   },
   {
    "duration": 776,
    "start_time": "2021-11-27T18:02:13.788Z"
   },
   {
    "duration": 6,
    "start_time": "2021-11-27T18:02:34.142Z"
   },
   {
    "duration": 192,
    "start_time": "2021-11-27T18:02:36.536Z"
   },
   {
    "duration": 9,
    "start_time": "2021-11-27T18:08:17.415Z"
   },
   {
    "duration": 145,
    "start_time": "2021-11-27T18:08:20.588Z"
   },
   {
    "duration": 177,
    "start_time": "2021-11-27T18:11:20.937Z"
   },
   {
    "duration": 155,
    "start_time": "2021-11-27T18:12:06.276Z"
   },
   {
    "duration": 132,
    "start_time": "2021-11-27T18:22:00.925Z"
   },
   {
    "duration": 11,
    "start_time": "2021-11-27T18:25:37.921Z"
   },
   {
    "duration": 495,
    "start_time": "2021-11-27T18:27:10.764Z"
   },
   {
    "duration": 95,
    "start_time": "2021-11-27T18:27:18.444Z"
   },
   {
    "duration": 276,
    "start_time": "2021-11-27T18:27:49.254Z"
   },
   {
    "duration": 193,
    "start_time": "2021-11-27T18:28:26.669Z"
   },
   {
    "duration": 9,
    "start_time": "2021-11-27T18:28:39.172Z"
   },
   {
    "duration": 14,
    "start_time": "2021-11-27T18:29:15.702Z"
   },
   {
    "duration": 19,
    "start_time": "2021-11-27T18:29:51.793Z"
   },
   {
    "duration": 21,
    "start_time": "2021-11-27T18:29:59.545Z"
   },
   {
    "duration": 138,
    "start_time": "2021-11-27T18:31:56.675Z"
   },
   {
    "duration": 2,
    "start_time": "2021-11-27T18:33:18.652Z"
   },
   {
    "duration": 6,
    "start_time": "2021-11-27T18:33:58.406Z"
   },
   {
    "duration": 734,
    "start_time": "2021-11-27T18:34:00.178Z"
   },
   {
    "duration": 1362,
    "start_time": "2021-11-27T18:34:45.016Z"
   },
   {
    "duration": 136,
    "start_time": "2021-11-27T18:34:46.379Z"
   },
   {
    "duration": 33,
    "start_time": "2021-11-27T18:34:46.518Z"
   },
   {
    "duration": 3,
    "start_time": "2021-11-27T18:34:46.553Z"
   },
   {
    "duration": 127,
    "start_time": "2021-11-27T18:34:46.558Z"
   },
   {
    "duration": 20,
    "start_time": "2021-11-27T18:34:46.687Z"
   },
   {
    "duration": 13,
    "start_time": "2021-11-27T18:34:46.709Z"
   },
   {
    "duration": 41,
    "start_time": "2021-11-27T18:34:46.728Z"
   },
   {
    "duration": 48,
    "start_time": "2021-11-27T18:34:46.772Z"
   },
   {
    "duration": 10,
    "start_time": "2021-11-27T18:34:46.822Z"
   },
   {
    "duration": 9,
    "start_time": "2021-11-27T18:34:46.834Z"
   },
   {
    "duration": 30,
    "start_time": "2021-11-27T18:34:46.845Z"
   },
   {
    "duration": 91,
    "start_time": "2021-11-27T18:34:46.877Z"
   },
   {
    "duration": 288,
    "start_time": "2021-11-27T18:34:46.970Z"
   },
   {
    "duration": 317,
    "start_time": "2021-11-27T18:34:47.260Z"
   },
   {
    "duration": 34,
    "start_time": "2021-11-27T18:34:47.579Z"
   },
   {
    "duration": 11,
    "start_time": "2021-11-27T18:34:47.615Z"
   },
   {
    "duration": 3045,
    "start_time": "2021-11-27T18:34:47.628Z"
   },
   {
    "duration": 50,
    "start_time": "2021-11-27T18:34:50.675Z"
   },
   {
    "duration": 30,
    "start_time": "2021-11-27T18:34:50.727Z"
   },
   {
    "duration": 82,
    "start_time": "2021-11-27T18:34:50.759Z"
   },
   {
    "duration": 4,
    "start_time": "2021-11-27T18:34:50.843Z"
   },
   {
    "duration": 209,
    "start_time": "2021-11-27T18:34:50.850Z"
   },
   {
    "duration": 13,
    "start_time": "2021-11-27T18:34:51.061Z"
   },
   {
    "duration": 28,
    "start_time": "2021-11-27T18:34:51.076Z"
   },
   {
    "duration": 48,
    "start_time": "2021-11-27T18:34:51.112Z"
   },
   {
    "duration": 252,
    "start_time": "2021-11-27T18:34:51.163Z"
   },
   {
    "duration": 9,
    "start_time": "2021-11-27T18:34:51.417Z"
   },
   {
    "duration": 191,
    "start_time": "2021-11-27T18:34:51.428Z"
   },
   {
    "duration": 165,
    "start_time": "2021-11-27T18:34:51.621Z"
   },
   {
    "duration": 180,
    "start_time": "2021-11-27T18:34:51.788Z"
   },
   {
    "duration": 191,
    "start_time": "2021-11-27T18:34:51.970Z"
   },
   {
    "duration": 23,
    "start_time": "2021-11-27T18:38:16.285Z"
   },
   {
    "duration": 1191,
    "start_time": "2021-11-27T18:53:17.563Z"
   },
   {
    "duration": 134,
    "start_time": "2021-11-27T18:53:18.756Z"
   },
   {
    "duration": 34,
    "start_time": "2021-11-27T18:53:18.892Z"
   },
   {
    "duration": 3,
    "start_time": "2021-11-27T18:53:18.929Z"
   },
   {
    "duration": 109,
    "start_time": "2021-11-27T18:53:18.934Z"
   },
   {
    "duration": 16,
    "start_time": "2021-11-27T18:53:19.045Z"
   },
   {
    "duration": 6,
    "start_time": "2021-11-27T18:53:19.063Z"
   },
   {
    "duration": 62,
    "start_time": "2021-11-27T18:53:19.072Z"
   },
   {
    "duration": 12,
    "start_time": "2021-11-27T18:53:19.136Z"
   },
   {
    "duration": 9,
    "start_time": "2021-11-27T18:53:19.150Z"
   },
   {
    "duration": 8,
    "start_time": "2021-11-27T18:53:19.161Z"
   },
   {
    "duration": 55,
    "start_time": "2021-11-27T18:53:19.171Z"
   },
   {
    "duration": 81,
    "start_time": "2021-11-27T18:53:19.228Z"
   },
   {
    "duration": 280,
    "start_time": "2021-11-27T18:53:19.312Z"
   },
   {
    "duration": 344,
    "start_time": "2021-11-27T18:53:19.594Z"
   },
   {
    "duration": 15,
    "start_time": "2021-11-27T18:53:19.940Z"
   },
   {
    "duration": 7,
    "start_time": "2021-11-27T18:53:19.957Z"
   },
   {
    "duration": 2343,
    "start_time": "2021-11-27T18:53:19.966Z"
   },
   {
    "duration": 71,
    "start_time": "2021-11-27T18:53:22.319Z"
   },
   {
    "duration": 75,
    "start_time": "2021-11-27T18:53:22.402Z"
   },
   {
    "duration": 118,
    "start_time": "2021-11-27T18:53:22.479Z"
   },
   {
    "duration": 5,
    "start_time": "2021-11-27T18:53:22.600Z"
   },
   {
    "duration": 201,
    "start_time": "2021-11-27T18:53:22.609Z"
   },
   {
    "duration": 16,
    "start_time": "2021-11-27T18:53:22.812Z"
   },
   {
    "duration": 20,
    "start_time": "2021-11-27T18:53:22.830Z"
   },
   {
    "duration": 33,
    "start_time": "2021-11-27T18:53:22.852Z"
   },
   {
    "duration": 220,
    "start_time": "2021-11-27T18:53:22.887Z"
   },
   {
    "duration": 8,
    "start_time": "2021-11-27T18:53:23.110Z"
   },
   {
    "duration": 143,
    "start_time": "2021-11-27T18:53:23.120Z"
   },
   {
    "duration": 142,
    "start_time": "2021-11-27T18:53:23.265Z"
   },
   {
    "duration": 145,
    "start_time": "2021-11-27T18:53:23.409Z"
   },
   {
    "duration": 162,
    "start_time": "2021-11-27T18:53:23.556Z"
   },
   {
    "duration": 1092,
    "start_time": "2021-11-27T20:34:29.983Z"
   },
   {
    "duration": 122,
    "start_time": "2021-11-27T20:34:31.077Z"
   },
   {
    "duration": 25,
    "start_time": "2021-11-27T20:34:31.201Z"
   },
   {
    "duration": 3,
    "start_time": "2021-11-27T20:34:31.228Z"
   },
   {
    "duration": 86,
    "start_time": "2021-11-27T20:34:31.244Z"
   },
   {
    "duration": 22,
    "start_time": "2021-11-27T20:34:31.332Z"
   },
   {
    "duration": 17,
    "start_time": "2021-11-27T20:34:31.356Z"
   },
   {
    "duration": 34,
    "start_time": "2021-11-27T20:34:31.374Z"
   },
   {
    "duration": 11,
    "start_time": "2021-11-27T20:34:31.411Z"
   },
   {
    "duration": 9,
    "start_time": "2021-11-27T20:34:31.444Z"
   },
   {
    "duration": 16,
    "start_time": "2021-11-27T20:34:31.455Z"
   },
   {
    "duration": 23,
    "start_time": "2021-11-27T20:34:31.473Z"
   },
   {
    "duration": 91,
    "start_time": "2021-11-27T20:34:31.498Z"
   },
   {
    "duration": 233,
    "start_time": "2021-11-27T20:34:31.591Z"
   },
   {
    "duration": 312,
    "start_time": "2021-11-27T20:34:31.826Z"
   },
   {
    "duration": 16,
    "start_time": "2021-11-27T20:34:32.143Z"
   },
   {
    "duration": 8,
    "start_time": "2021-11-27T20:34:32.161Z"
   },
   {
    "duration": 2074,
    "start_time": "2021-11-27T20:34:32.171Z"
   },
   {
    "duration": 33,
    "start_time": "2021-11-27T20:34:34.246Z"
   },
   {
    "duration": 22,
    "start_time": "2021-11-27T20:34:34.281Z"
   },
   {
    "duration": 83,
    "start_time": "2021-11-27T20:34:34.305Z"
   },
   {
    "duration": 4,
    "start_time": "2021-11-27T20:34:34.390Z"
   },
   {
    "duration": 251,
    "start_time": "2021-11-27T20:34:34.396Z"
   },
   {
    "duration": 15,
    "start_time": "2021-11-27T20:34:34.649Z"
   },
   {
    "duration": 13,
    "start_time": "2021-11-27T20:34:34.666Z"
   },
   {
    "duration": 29,
    "start_time": "2021-11-27T20:34:34.680Z"
   },
   {
    "duration": 233,
    "start_time": "2021-11-27T20:34:34.712Z"
   },
   {
    "duration": 6,
    "start_time": "2021-11-27T20:34:34.947Z"
   },
   {
    "duration": 139,
    "start_time": "2021-11-27T20:34:34.955Z"
   },
   {
    "duration": 130,
    "start_time": "2021-11-27T20:34:35.096Z"
   },
   {
    "duration": 133,
    "start_time": "2021-11-27T20:34:35.227Z"
   },
   {
    "duration": 145,
    "start_time": "2021-11-27T20:34:35.362Z"
   },
   {
    "duration": 1326,
    "start_time": "2021-11-27T20:43:10.783Z"
   },
   {
    "duration": 133,
    "start_time": "2021-11-27T20:43:12.111Z"
   },
   {
    "duration": 35,
    "start_time": "2021-11-27T20:43:12.249Z"
   },
   {
    "duration": 2,
    "start_time": "2021-11-27T20:43:12.286Z"
   },
   {
    "duration": 116,
    "start_time": "2021-11-27T20:43:12.290Z"
   },
   {
    "duration": 16,
    "start_time": "2021-11-27T20:43:12.408Z"
   },
   {
    "duration": 6,
    "start_time": "2021-11-27T20:43:12.426Z"
   },
   {
    "duration": 54,
    "start_time": "2021-11-27T20:43:12.433Z"
   },
   {
    "duration": 10,
    "start_time": "2021-11-27T20:43:12.489Z"
   },
   {
    "duration": 6,
    "start_time": "2021-11-27T20:43:12.501Z"
   },
   {
    "duration": 15,
    "start_time": "2021-11-27T20:43:12.509Z"
   },
   {
    "duration": 46,
    "start_time": "2021-11-27T20:43:12.552Z"
   },
   {
    "duration": 82,
    "start_time": "2021-11-27T20:43:12.600Z"
   },
   {
    "duration": 241,
    "start_time": "2021-11-27T20:43:12.684Z"
   },
   {
    "duration": 324,
    "start_time": "2021-11-27T20:43:12.926Z"
   },
   {
    "duration": 18,
    "start_time": "2021-11-27T20:43:13.252Z"
   },
   {
    "duration": 7,
    "start_time": "2021-11-27T20:43:13.271Z"
   },
   {
    "duration": 2468,
    "start_time": "2021-11-27T20:43:13.280Z"
   },
   {
    "duration": 39,
    "start_time": "2021-11-27T20:43:15.750Z"
   },
   {
    "duration": 21,
    "start_time": "2021-11-27T20:43:15.791Z"
   },
   {
    "duration": 80,
    "start_time": "2021-11-27T20:43:15.813Z"
   },
   {
    "duration": 3,
    "start_time": "2021-11-27T20:43:15.894Z"
   },
   {
    "duration": 199,
    "start_time": "2021-11-27T20:43:15.901Z"
   },
   {
    "duration": 14,
    "start_time": "2021-11-27T20:43:16.102Z"
   },
   {
    "duration": 30,
    "start_time": "2021-11-27T20:43:16.118Z"
   },
   {
    "duration": 38,
    "start_time": "2021-11-27T20:43:16.151Z"
   },
   {
    "duration": 265,
    "start_time": "2021-11-27T20:43:16.191Z"
   },
   {
    "duration": 13,
    "start_time": "2021-11-27T20:43:16.458Z"
   },
   {
    "duration": 144,
    "start_time": "2021-11-27T20:43:16.473Z"
   },
   {
    "duration": 152,
    "start_time": "2021-11-27T20:43:16.618Z"
   },
   {
    "duration": 146,
    "start_time": "2021-11-27T20:43:16.772Z"
   },
   {
    "duration": 181,
    "start_time": "2021-11-27T20:43:16.920Z"
   },
   {
    "duration": 12,
    "start_time": "2021-11-27T21:14:31.278Z"
   },
   {
    "duration": 14,
    "start_time": "2021-11-27T21:15:18.110Z"
   },
   {
    "duration": 1090,
    "start_time": "2021-11-27T21:19:43.969Z"
   },
   {
    "duration": 123,
    "start_time": "2021-11-27T21:19:45.061Z"
   },
   {
    "duration": 25,
    "start_time": "2021-11-27T21:19:45.186Z"
   },
   {
    "duration": 3,
    "start_time": "2021-11-27T21:19:45.212Z"
   },
   {
    "duration": 106,
    "start_time": "2021-11-27T21:19:45.216Z"
   },
   {
    "duration": 24,
    "start_time": "2021-11-27T21:19:45.323Z"
   },
   {
    "duration": 9,
    "start_time": "2021-11-27T21:19:45.348Z"
   },
   {
    "duration": 32,
    "start_time": "2021-11-27T21:19:45.359Z"
   },
   {
    "duration": 10,
    "start_time": "2021-11-27T21:19:45.394Z"
   },
   {
    "duration": 7,
    "start_time": "2021-11-27T21:19:45.406Z"
   },
   {
    "duration": 43,
    "start_time": "2021-11-27T21:19:45.414Z"
   },
   {
    "duration": 26,
    "start_time": "2021-11-27T21:19:45.459Z"
   },
   {
    "duration": 76,
    "start_time": "2021-11-27T21:19:45.487Z"
   },
   {
    "duration": 242,
    "start_time": "2021-11-27T21:19:45.565Z"
   },
   {
    "duration": 308,
    "start_time": "2021-11-27T21:19:45.809Z"
   },
   {
    "duration": 13,
    "start_time": "2021-11-27T21:19:46.118Z"
   },
   {
    "duration": 25,
    "start_time": "2021-11-27T21:19:46.132Z"
   },
   {
    "duration": 1987,
    "start_time": "2021-11-27T21:19:46.159Z"
   },
   {
    "duration": 32,
    "start_time": "2021-11-27T21:19:48.148Z"
   },
   {
    "duration": 23,
    "start_time": "2021-11-27T21:19:48.182Z"
   },
   {
    "duration": 73,
    "start_time": "2021-11-27T21:19:48.207Z"
   },
   {
    "duration": 4,
    "start_time": "2021-11-27T21:19:48.281Z"
   },
   {
    "duration": 204,
    "start_time": "2021-11-27T21:19:48.287Z"
   },
   {
    "duration": 13,
    "start_time": "2021-11-27T21:19:48.492Z"
   },
   {
    "duration": 18,
    "start_time": "2021-11-27T21:19:48.506Z"
   },
   {
    "duration": 38,
    "start_time": "2021-11-27T21:19:48.526Z"
   },
   {
    "duration": 217,
    "start_time": "2021-11-27T21:19:48.566Z"
   },
   {
    "duration": 6,
    "start_time": "2021-11-27T21:19:48.785Z"
   },
   {
    "duration": 143,
    "start_time": "2021-11-27T21:19:48.793Z"
   },
   {
    "duration": 144,
    "start_time": "2021-11-27T21:19:48.944Z"
   },
   {
    "duration": 149,
    "start_time": "2021-11-27T21:19:49.089Z"
   },
   {
    "duration": 171,
    "start_time": "2021-11-27T21:19:49.240Z"
   },
   {
    "duration": 419,
    "start_time": "2021-11-27T21:29:45.210Z"
   },
   {
    "duration": 69,
    "start_time": "2021-11-27T21:29:52.098Z"
   },
   {
    "duration": 119,
    "start_time": "2021-11-27T21:34:15.025Z"
   },
   {
    "duration": 61,
    "start_time": "2021-11-27T21:35:57.716Z"
   },
   {
    "duration": 256,
    "start_time": "2021-11-27T21:36:02.491Z"
   },
   {
    "duration": 306,
    "start_time": "2021-11-27T21:36:30.915Z"
   },
   {
    "duration": 16,
    "start_time": "2021-11-27T21:36:46.099Z"
   },
   {
    "duration": 8,
    "start_time": "2021-11-27T21:36:51.515Z"
   },
   {
    "duration": 1972,
    "start_time": "2021-11-27T21:37:55.351Z"
   },
   {
    "duration": 31,
    "start_time": "2021-11-27T21:37:58.286Z"
   },
   {
    "duration": 26,
    "start_time": "2021-11-27T21:38:01.773Z"
   },
   {
    "duration": 3,
    "start_time": "2021-11-27T21:38:09.877Z"
   },
   {
    "duration": 138,
    "start_time": "2021-11-27T21:38:09.882Z"
   },
   {
    "duration": 23,
    "start_time": "2021-11-27T21:38:10.022Z"
   },
   {
    "duration": 3,
    "start_time": "2021-11-27T21:38:10.047Z"
   },
   {
    "duration": 103,
    "start_time": "2021-11-27T21:38:10.052Z"
   },
   {
    "duration": 90,
    "start_time": "2021-11-27T21:38:10.157Z"
   },
   {
    "duration": 13,
    "start_time": "2021-11-27T21:38:10.250Z"
   },
   {
    "duration": 13,
    "start_time": "2021-11-27T21:38:10.265Z"
   },
   {
    "duration": 38,
    "start_time": "2021-11-27T21:38:10.280Z"
   },
   {
    "duration": 11,
    "start_time": "2021-11-27T21:38:10.320Z"
   },
   {
    "duration": 75,
    "start_time": "2021-11-27T21:38:10.332Z"
   },
   {
    "duration": 246,
    "start_time": "2021-11-27T21:38:10.409Z"
   },
   {
    "duration": 377,
    "start_time": "2021-11-27T21:38:10.657Z"
   },
   {
    "duration": 13,
    "start_time": "2021-11-27T21:38:11.037Z"
   },
   {
    "duration": 7,
    "start_time": "2021-11-27T21:38:11.052Z"
   },
   {
    "duration": 2090,
    "start_time": "2021-11-27T21:38:11.061Z"
   },
   {
    "duration": 29,
    "start_time": "2021-11-27T21:38:14.605Z"
   },
   {
    "duration": 26,
    "start_time": "2021-11-27T21:38:19.037Z"
   },
   {
    "duration": 52,
    "start_time": "2021-11-27T21:38:23.854Z"
   },
   {
    "duration": 4,
    "start_time": "2021-11-27T21:38:32.534Z"
   },
   {
    "duration": 169,
    "start_time": "2021-11-27T21:38:33.874Z"
   },
   {
    "duration": 13,
    "start_time": "2021-11-27T21:38:37.415Z"
   },
   {
    "duration": 10,
    "start_time": "2021-11-27T21:38:45.518Z"
   },
   {
    "duration": 5,
    "start_time": "2021-11-27T21:48:54.830Z"
   },
   {
    "duration": 7,
    "start_time": "2021-11-27T21:49:03.775Z"
   },
   {
    "duration": 6,
    "start_time": "2021-11-27T21:50:06.394Z"
   },
   {
    "duration": 156,
    "start_time": "2021-11-27T21:50:58.970Z"
   },
   {
    "duration": 154,
    "start_time": "2021-11-27T21:51:57.628Z"
   },
   {
    "duration": 152,
    "start_time": "2021-11-27T21:52:24.788Z"
   },
   {
    "duration": 147,
    "start_time": "2021-11-27T21:52:38.781Z"
   },
   {
    "duration": 165,
    "start_time": "2021-11-27T21:53:34.543Z"
   },
   {
    "duration": 113,
    "start_time": "2021-11-27T21:55:36.833Z"
   },
   {
    "duration": 6,
    "start_time": "2021-11-27T21:57:35.081Z"
   },
   {
    "duration": 687,
    "start_time": "2021-11-27T21:57:37.880Z"
   },
   {
    "duration": 1198,
    "start_time": "2021-11-27T21:57:56.674Z"
   },
   {
    "duration": 130,
    "start_time": "2021-11-27T21:57:57.874Z"
   },
   {
    "duration": 33,
    "start_time": "2021-11-27T21:57:58.007Z"
   },
   {
    "duration": 2,
    "start_time": "2021-11-27T21:57:58.043Z"
   },
   {
    "duration": 110,
    "start_time": "2021-11-27T21:57:58.047Z"
   },
   {
    "duration": 112,
    "start_time": "2021-11-27T21:57:58.159Z"
   },
   {
    "duration": 16,
    "start_time": "2021-11-27T21:57:58.273Z"
   },
   {
    "duration": 27,
    "start_time": "2021-11-27T21:57:58.291Z"
   },
   {
    "duration": 27,
    "start_time": "2021-11-27T21:57:58.322Z"
   },
   {
    "duration": 11,
    "start_time": "2021-11-27T21:57:58.351Z"
   },
   {
    "duration": 89,
    "start_time": "2021-11-27T21:57:58.364Z"
   },
   {
    "duration": 253,
    "start_time": "2021-11-27T21:57:58.455Z"
   },
   {
    "duration": 328,
    "start_time": "2021-11-27T21:57:58.711Z"
   },
   {
    "duration": 14,
    "start_time": "2021-11-27T21:57:59.041Z"
   },
   {
    "duration": 7,
    "start_time": "2021-11-27T21:57:59.057Z"
   },
   {
    "duration": 2271,
    "start_time": "2021-11-27T21:57:59.065Z"
   },
   {
    "duration": 31,
    "start_time": "2021-11-27T21:58:01.337Z"
   },
   {
    "duration": 39,
    "start_time": "2021-11-27T21:58:01.370Z"
   },
   {
    "duration": 78,
    "start_time": "2021-11-27T21:58:01.411Z"
   },
   {
    "duration": 4,
    "start_time": "2021-11-27T21:58:01.490Z"
   },
   {
    "duration": 200,
    "start_time": "2021-11-27T21:58:01.496Z"
   },
   {
    "duration": 15,
    "start_time": "2021-11-27T21:58:01.698Z"
   },
   {
    "duration": 37,
    "start_time": "2021-11-27T21:58:01.718Z"
   },
   {
    "duration": 62,
    "start_time": "2021-11-27T21:58:01.757Z"
   },
   {
    "duration": 264,
    "start_time": "2021-11-27T21:58:01.821Z"
   },
   {
    "duration": 7,
    "start_time": "2021-11-27T21:58:02.087Z"
   },
   {
    "duration": 213,
    "start_time": "2021-11-27T21:58:02.096Z"
   },
   {
    "duration": 162,
    "start_time": "2021-11-27T21:58:02.311Z"
   },
   {
    "duration": 169,
    "start_time": "2021-11-27T21:58:02.475Z"
   },
   {
    "duration": 181,
    "start_time": "2021-11-27T21:58:02.646Z"
   },
   {
    "duration": 7,
    "start_time": "2021-11-27T21:58:18.973Z"
   },
   {
    "duration": 878,
    "start_time": "2021-11-27T21:58:20.982Z"
   },
   {
    "duration": 1250,
    "start_time": "2021-11-27T21:58:28.501Z"
   },
   {
    "duration": 126,
    "start_time": "2021-11-27T21:58:29.753Z"
   },
   {
    "duration": 33,
    "start_time": "2021-11-27T21:58:29.881Z"
   },
   {
    "duration": 4,
    "start_time": "2021-11-27T21:58:29.917Z"
   },
   {
    "duration": 116,
    "start_time": "2021-11-27T21:58:29.924Z"
   },
   {
    "duration": 108,
    "start_time": "2021-11-27T21:58:30.041Z"
   },
   {
    "duration": 15,
    "start_time": "2021-11-27T21:58:30.151Z"
   },
   {
    "duration": 7,
    "start_time": "2021-11-27T21:58:30.169Z"
   },
   {
    "duration": 58,
    "start_time": "2021-11-27T21:58:30.178Z"
   },
   {
    "duration": 11,
    "start_time": "2021-11-27T21:58:30.238Z"
   },
   {
    "duration": 100,
    "start_time": "2021-11-27T21:58:30.250Z"
   },
   {
    "duration": 272,
    "start_time": "2021-11-27T21:58:30.352Z"
   },
   {
    "duration": 344,
    "start_time": "2021-11-27T21:58:30.626Z"
   },
   {
    "duration": 14,
    "start_time": "2021-11-27T21:58:30.972Z"
   },
   {
    "duration": 23,
    "start_time": "2021-11-27T21:58:30.987Z"
   },
   {
    "duration": 2200,
    "start_time": "2021-11-27T21:58:31.013Z"
   },
   {
    "duration": 34,
    "start_time": "2021-11-27T21:58:33.216Z"
   },
   {
    "duration": 24,
    "start_time": "2021-11-27T21:58:33.251Z"
   },
   {
    "duration": 85,
    "start_time": "2021-11-27T21:58:33.276Z"
   },
   {
    "duration": 4,
    "start_time": "2021-11-27T21:58:33.363Z"
   },
   {
    "duration": 190,
    "start_time": "2021-11-27T21:58:33.368Z"
   },
   {
    "duration": 13,
    "start_time": "2021-11-27T21:58:33.560Z"
   },
   {
    "duration": 10,
    "start_time": "2021-11-27T21:58:33.576Z"
   },
   {
    "duration": 35,
    "start_time": "2021-11-27T21:58:33.607Z"
   },
   {
    "duration": 264,
    "start_time": "2021-11-27T21:58:33.644Z"
   },
   {
    "duration": 11,
    "start_time": "2021-11-27T21:58:33.911Z"
   },
   {
    "duration": 175,
    "start_time": "2021-11-27T21:58:33.924Z"
   },
   {
    "duration": 171,
    "start_time": "2021-11-27T21:58:34.101Z"
   },
   {
    "duration": 170,
    "start_time": "2021-11-27T21:58:34.274Z"
   },
   {
    "duration": 193,
    "start_time": "2021-11-27T21:58:34.445Z"
   },
   {
    "duration": 7,
    "start_time": "2021-11-27T21:59:10.782Z"
   },
   {
    "duration": 874,
    "start_time": "2021-11-27T21:59:13.261Z"
   },
   {
    "duration": 1186,
    "start_time": "2021-11-27T21:59:20.766Z"
   },
   {
    "duration": 127,
    "start_time": "2021-11-27T21:59:21.954Z"
   },
   {
    "duration": 35,
    "start_time": "2021-11-27T21:59:22.083Z"
   },
   {
    "duration": 4,
    "start_time": "2021-11-27T21:59:22.120Z"
   },
   {
    "duration": 119,
    "start_time": "2021-11-27T21:59:22.126Z"
   },
   {
    "duration": 112,
    "start_time": "2021-11-27T21:59:22.247Z"
   },
   {
    "duration": 15,
    "start_time": "2021-11-27T21:59:22.360Z"
   },
   {
    "duration": 4,
    "start_time": "2021-11-27T21:59:22.378Z"
   },
   {
    "duration": 53,
    "start_time": "2021-11-27T21:59:22.385Z"
   },
   {
    "duration": 12,
    "start_time": "2021-11-27T21:59:22.440Z"
   },
   {
    "duration": 87,
    "start_time": "2021-11-27T21:59:22.453Z"
   },
   {
    "duration": 259,
    "start_time": "2021-11-27T21:59:22.542Z"
   },
   {
    "duration": 328,
    "start_time": "2021-11-27T21:59:22.806Z"
   },
   {
    "duration": 14,
    "start_time": "2021-11-27T21:59:23.136Z"
   },
   {
    "duration": 7,
    "start_time": "2021-11-27T21:59:23.151Z"
   },
   {
    "duration": 2134,
    "start_time": "2021-11-27T21:59:23.160Z"
   },
   {
    "duration": 40,
    "start_time": "2021-11-27T21:59:25.295Z"
   },
   {
    "duration": 32,
    "start_time": "2021-11-27T21:59:25.337Z"
   },
   {
    "duration": 81,
    "start_time": "2021-11-27T21:59:25.371Z"
   },
   {
    "duration": 3,
    "start_time": "2021-11-27T21:59:25.454Z"
   },
   {
    "duration": 178,
    "start_time": "2021-11-27T21:59:25.459Z"
   },
   {
    "duration": 12,
    "start_time": "2021-11-27T21:59:25.639Z"
   },
   {
    "duration": 27,
    "start_time": "2021-11-27T21:59:25.653Z"
   },
   {
    "duration": 55,
    "start_time": "2021-11-27T21:59:25.682Z"
   },
   {
    "duration": 238,
    "start_time": "2021-11-27T21:59:25.738Z"
   },
   {
    "duration": 6,
    "start_time": "2021-11-27T21:59:25.978Z"
   },
   {
    "duration": 166,
    "start_time": "2021-11-27T21:59:25.986Z"
   },
   {
    "duration": 168,
    "start_time": "2021-11-27T21:59:26.154Z"
   },
   {
    "duration": 155,
    "start_time": "2021-11-27T21:59:26.324Z"
   },
   {
    "duration": 173,
    "start_time": "2021-11-27T21:59:26.480Z"
   },
   {
    "duration": 117,
    "start_time": "2021-11-27T22:00:40.836Z"
   },
   {
    "duration": 130,
    "start_time": "2021-11-28T08:31:36.975Z"
   },
   {
    "duration": 1084,
    "start_time": "2021-11-28T12:52:10.724Z"
   },
   {
    "duration": 113,
    "start_time": "2021-11-28T12:52:11.809Z"
   },
   {
    "duration": 23,
    "start_time": "2021-11-28T12:52:11.924Z"
   },
   {
    "duration": 2,
    "start_time": "2021-11-28T12:52:11.948Z"
   },
   {
    "duration": 90,
    "start_time": "2021-11-28T12:52:11.952Z"
   },
   {
    "duration": 84,
    "start_time": "2021-11-28T12:52:12.043Z"
   },
   {
    "duration": 13,
    "start_time": "2021-11-28T12:52:12.128Z"
   },
   {
    "duration": 4,
    "start_time": "2021-11-28T12:52:12.143Z"
   },
   {
    "duration": 39,
    "start_time": "2021-11-28T12:52:12.149Z"
   },
   {
    "duration": 10,
    "start_time": "2021-11-28T12:52:12.189Z"
   },
   {
    "duration": 54,
    "start_time": "2021-11-28T12:52:12.200Z"
   },
   {
    "duration": 233,
    "start_time": "2021-11-28T12:52:12.256Z"
   },
   {
    "duration": 291,
    "start_time": "2021-11-28T12:52:12.491Z"
   },
   {
    "duration": 29,
    "start_time": "2021-11-28T12:52:12.787Z"
   },
   {
    "duration": 7,
    "start_time": "2021-11-28T12:52:12.817Z"
   },
   {
    "duration": 1936,
    "start_time": "2021-11-28T12:52:12.826Z"
   },
   {
    "duration": 40,
    "start_time": "2021-11-28T12:52:14.763Z"
   },
   {
    "duration": 21,
    "start_time": "2021-11-28T12:52:14.805Z"
   },
   {
    "duration": 63,
    "start_time": "2021-11-28T12:52:14.827Z"
   },
   {
    "duration": 3,
    "start_time": "2021-11-28T12:52:14.892Z"
   },
   {
    "duration": 171,
    "start_time": "2021-11-28T12:52:14.897Z"
   },
   {
    "duration": 20,
    "start_time": "2021-11-28T12:52:15.069Z"
   },
   {
    "duration": 14,
    "start_time": "2021-11-28T12:52:15.092Z"
   },
   {
    "duration": 34,
    "start_time": "2021-11-28T12:52:15.108Z"
   },
   {
    "duration": 233,
    "start_time": "2021-11-28T12:52:15.143Z"
   },
   {
    "duration": 11,
    "start_time": "2021-11-28T12:52:15.377Z"
   },
   {
    "duration": 147,
    "start_time": "2021-11-28T12:52:15.390Z"
   },
   {
    "duration": 124,
    "start_time": "2021-11-28T12:52:15.538Z"
   },
   {
    "duration": 134,
    "start_time": "2021-11-28T12:52:15.664Z"
   },
   {
    "duration": 140,
    "start_time": "2021-11-28T12:52:15.800Z"
   }
  ],
  "kernelspec": {
   "display_name": "Python 3",
   "language": "python",
   "name": "python3"
  },
  "language_info": {
   "codemirror_mode": {
    "name": "ipython",
    "version": 3
   },
   "file_extension": ".py",
   "mimetype": "text/x-python",
   "name": "python",
   "nbconvert_exporter": "python",
   "pygments_lexer": "ipython3",
   "version": "3.8.8"
  },
  "toc": {
   "base_numbering": 1,
   "nav_menu": {},
   "number_sections": true,
   "sideBar": true,
   "skip_h1_title": true,
   "title_cell": "Table of Contents",
   "title_sidebar": "Contents",
   "toc_cell": true,
   "toc_position": {
    "height": "calc(100% - 180px)",
    "left": "10px",
    "top": "150px",
    "width": "165px"
   },
   "toc_section_display": true,
   "toc_window_display": true
  }
 },
 "nbformat": 4,
 "nbformat_minor": 2
}
